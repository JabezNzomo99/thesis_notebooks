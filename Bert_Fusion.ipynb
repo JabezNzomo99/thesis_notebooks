{
  "cells": [
    {
      "cell_type": "markdown",
      "source": [
        "# Experimenting with BERT Features Notebook"
      ],
      "metadata": {
        "id": "WG7o3TUpot2F"
      }
    },
    {
      "cell_type": "code",
      "execution_count": null,
      "metadata": {
        "id": "1TnyJI1CP_mz",
        "colab": {
          "base_uri": "https://localhost:8080/"
        },
        "outputId": "c60d2be5-e89b-494e-9d17-04c90343aefd"
      },
      "outputs": [
        {
          "output_type": "stream",
          "name": "stderr",
          "text": [
            "[nltk_data] Downloading package stopwords to /root/nltk_data...\n",
            "[nltk_data]   Package stopwords is already up-to-date!\n"
          ]
        }
      ],
      "source": [
        "# Add imports\n",
        "# Load the ushahidi dataset and print out first rows\n",
        "# Perform text preprocessing - similar to what i did for the baseline classifiers - create clean text\n",
        "# Train first XLM Roberta model and see how it perfroms\n",
        "# Might try training all models this weekend, and then the next goal could be to see how to use the\n",
        "import pandas as pd\n",
        "import re\n",
        "import string\n",
        "import nltk\n",
        "from nltk.corpus import stopwords\n",
        "from nltk.tokenize import word_tokenize\n",
        "from nltk.stem import WordNetLemmatizer\n",
        "from nltk.stem.porter import PorterStemmer\n",
        "import json\n",
        "from sklearn.preprocessing import LabelEncoder\n",
        "from nltk.tokenize import TweetTokenizer\n",
        "import textwrap\n",
        "import numpy as np\n",
        "import seaborn as sns\n",
        "sns.set_theme()\n",
        "import matplotlib.pyplot as plt\n",
        "from sklearn.metrics import classification_report\n",
        "from sklearn.metrics import confusion_matrix\n",
        "from sklearn.model_selection import train_test_split\n",
        "pd.set_option('display.max_colwidth',1000)\n",
        "from itertools import cycle\n",
        "import random\n",
        "import torch\n",
        "\n",
        "# Wrap text to 80 characters.\n",
        "wrapper = textwrap.TextWrapper(width=80, initial_indent='    ',\n",
        "                               subsequent_indent='    ')\n",
        "nltk.download('stopwords')\n",
        "%config InlineBackend.figure_format = 'svg'\n",
        "%matplotlib inline"
      ]
    },
    {
      "cell_type": "code",
      "source": [
        "# # Set the seed to make the results reproducible :)\n",
        "# # Set the seed value all over the place to make this reproducible.\n",
        "# seed_val = 42\n",
        "\n",
        "# random.seed(seed_val)\n",
        "# np.random.seed(seed_val)\n",
        "# torch.manual_seed(seed_val)\n",
        "# torch.cuda.manual_seed_all(seed_val)"
      ],
      "metadata": {
        "id": "1IlvX_3njpqa"
      },
      "execution_count": null,
      "outputs": []
    },
    {
      "cell_type": "code",
      "execution_count": null,
      "metadata": {
        "id": "UnI7kgVXSsgo",
        "colab": {
          "base_uri": "https://localhost:8080/"
        },
        "outputId": "caee1e1d-2138-4535-d3dc-f8b836c3e38e"
      },
      "outputs": [
        {
          "output_type": "stream",
          "name": "stdout",
          "text": [
            "Drive already mounted at /content/drive; to attempt to forcibly remount, call drive.mount(\"/content/drive\", force_remount=True).\n"
          ]
        }
      ],
      "source": [
        "from google.colab import drive\n",
        "drive.mount('/content/drive')"
      ]
    },
    {
      "cell_type": "markdown",
      "source": [
        "## Load Data from drive"
      ],
      "metadata": {
        "id": "vjbiqhWcpAIa"
      }
    },
    {
      "cell_type": "code",
      "execution_count": null,
      "metadata": {
        "id": "QpzXUQUMSv61"
      },
      "outputs": [],
      "source": [
        "# Load data\n",
        "model_data = pd.read_csv('/content/drive/My Drive/thesis/labelled_election_reports.csv', encoding='utf-8')\n",
        "train_data = pd.read_csv('/content/drive/My Drive/thesis/train_election_reports.csv', encoding='utf-8')\n",
        "val_data = pd.read_csv('/content/drive/My Drive/thesis/val_election_reports.csv', encoding='utf-8')\n",
        "test_data = pd.read_csv('/content/drive/My Drive/thesis/test_election_reports.csv', encoding='utf-8')"
      ]
    },
    {
      "cell_type": "code",
      "source": [],
      "metadata": {
        "id": "A1_175FUkpNU"
      },
      "execution_count": null,
      "outputs": []
    },
    {
      "cell_type": "code",
      "source": [
        "# Rewrite code to splir"
      ],
      "metadata": {
        "id": "se_YuKPah5Sg"
      },
      "execution_count": null,
      "outputs": []
    },
    {
      "cell_type": "code",
      "execution_count": null,
      "metadata": {
        "id": "BUcgI-hxUo3N",
        "colab": {
          "base_uri": "https://localhost:8080/"
        },
        "outputId": "22bd05b6-de3b-4484-a0de-cc781625501b"
      },
      "outputs": [
        {
          "output_type": "stream",
          "name": "stdout",
          "text": [
            "Full Labled Data: (14181, 14)\n",
            "   Training size: (9926, 14)\n",
            " Validation size: (1405, 14)\n",
            "       Test size: (2850, 14)\n"
          ]
        }
      ],
      "source": [
        "print(f'Full Labled Data: {model_data.shape}')\n",
        "print(f'   Training size: {train_data.shape}')\n",
        "print(f' Validation size: {val_data.shape}')\n",
        "print(f'       Test size: {test_data.shape}')"
      ]
    },
    {
      "cell_type": "code",
      "execution_count": null,
      "metadata": {
        "id": "u2B08KfTU22l"
      },
      "outputs": [],
      "source": [
        "assert((len(train_data) + len(val_data) + len(test_data)) == len(model_data))"
      ]
    },
    {
      "cell_type": "code",
      "execution_count": null,
      "metadata": {
        "id": "Nw5RQTBAVJ_H"
      },
      "outputs": [],
      "source": [
        "labeller = LabelEncoder()\n",
        "labeller.fit(train_data[\"informative_label\"])\n",
        "train_data[\"informative_target\"] = labeller.transform(train_data[\"informative_label\"])\n",
        "val_data[\"informative_target\"] = labeller.transform(val_data[\"informative_label\"])\n",
        "test_data[\"informative_target\"] = labeller.transform(test_data[\"informative_label\"])"
      ]
    },
    {
      "cell_type": "code",
      "execution_count": null,
      "metadata": {
        "id": "iBEaoI7UZaFq",
        "colab": {
          "base_uri": "https://localhost:8080/"
        },
        "outputId": "f2550492-c491-4018-91df-68ccdb925ac2"
      },
      "outputs": [
        {
          "output_type": "stream",
          "name": "stdout",
          "text": [
            "{'Informative': 0, 'Non-Informative': 1}\n"
          ]
        }
      ],
      "source": [
        "mapping = dict(zip(labeller.classes_, range(len(labeller.classes_))))\n",
        "print(mapping)"
      ]
    },
    {
      "cell_type": "markdown",
      "source": [
        "## Create the context for each election report"
      ],
      "metadata": {
        "id": "9l2d_yw6pVRJ"
      }
    },
    {
      "cell_type": "code",
      "execution_count": null,
      "metadata": {
        "id": "6mG2j3PKj4yS"
      },
      "outputs": [],
      "source": [
        "sep = ' [SEP] '\n",
        "def get_context(df, support_df, context_size=3):\n",
        "  '''\n",
        "  This function takes two dataframes, the first, df - is the dataframe to calculate\n",
        "  context embeddings for while the support df is the reference to use to check the\n",
        "  context, in the case of train data, both the df and support df will be the same,\n",
        "  this is to ensure that no test data leaks into the training context embeddings. For\n",
        "  test embeddings, the support df will be the whole dataset\n",
        "  '''\n",
        "  contexts = []\n",
        "  sorted_dates = df.sort_values('date')['date']\n",
        "  dates_list = sorted_dates.to_list()\n",
        "  # Iterate over rows using iterrows()\n",
        "  for index, row in df.iterrows():\n",
        "    current_date = row['date']\n",
        "    current_date_index = dates_list.index(current_date)\n",
        "    previous_posts = dates_list[max(0, current_date_index - context_size) : current_date_index]\n",
        "    context = \"\"\n",
        "    for idx, dt in enumerate(previous_posts):\n",
        "      record = support_df[support_df['date'] == dt].iloc[0]\n",
        "      # Only consider context fromt the same election\n",
        "      if record['Election Date'] == row['Election Date']:\n",
        "        context += (record.normalized_text + sep)\n",
        "    contexts.append(context)\n",
        "  return contexts"
      ]
    },
    {
      "cell_type": "code",
      "execution_count": null,
      "metadata": {
        "id": "BcYzLES9kZbq"
      },
      "outputs": [],
      "source": [
        "train_contexts = get_context(train_data, train_data)"
      ]
    },
    {
      "cell_type": "code",
      "execution_count": null,
      "metadata": {
        "id": "n2TX5bXj0l_z",
        "colab": {
          "base_uri": "https://localhost:8080/"
        },
        "outputId": "0efd9ce4-8364-4afd-8d67-7cebcf50fb11"
      },
      "outputs": [
        {
          "output_type": "execute_result",
          "data": {
            "text/plain": [
              "['Here at Oljoroorok we are still queuing to vote . So cold , raining and the queing officers are not doing their work .. [SEP] During the day , August 8 , 2017 , there were reported incidences of voter misinformation - that registered voters NOT in the area they were registered in would be allowed to vote in the presidential race at any polling station in the country . [SEP] 6 gas lamps are available #Awendo [SEP] ']"
            ]
          },
          "metadata": {},
          "execution_count": 11
        }
      ],
      "source": [
        "train_contexts[:1]"
      ]
    },
    {
      "cell_type": "code",
      "execution_count": null,
      "metadata": {
        "id": "Zs6meJCtkgIP"
      },
      "outputs": [],
      "source": [
        "test_contexts = get_context(test_data, model_data)"
      ]
    },
    {
      "cell_type": "code",
      "execution_count": null,
      "metadata": {
        "id": "PcjrJh4Lk5yM"
      },
      "outputs": [],
      "source": [
        "train_val_combined = pd.concat([train_data, val_data])"
      ]
    },
    {
      "cell_type": "code",
      "execution_count": null,
      "metadata": {
        "id": "t5yocSUPktcc"
      },
      "outputs": [],
      "source": [
        "val_contexts = get_context(val_data, train_val_combined)"
      ]
    },
    {
      "cell_type": "code",
      "execution_count": null,
      "metadata": {
        "id": "FHoZzVehlEMQ"
      },
      "outputs": [],
      "source": [
        "train_data[\"context\"] = train_contexts\n",
        "val_data[\"context\"] = val_contexts\n",
        "test_data[\"context\"] = test_contexts"
      ]
    },
    {
      "cell_type": "code",
      "execution_count": null,
      "metadata": {
        "id": "lmaK_ontr0bw"
      },
      "outputs": [],
      "source": [
        "train_data['date'] = pd.to_datetime(train_data['date'])\n",
        "val_data['date'] = pd.to_datetime(val_data['date'])\n",
        "test_data['date'] = pd.to_datetime(test_data['date'])"
      ]
    },
    {
      "cell_type": "code",
      "source": [
        "# Possibly save train, test and val embeddings to save on time, preprocessing time"
      ],
      "metadata": {
        "id": "l5HWNfl4pUrh"
      },
      "execution_count": null,
      "outputs": []
    },
    {
      "cell_type": "code",
      "execution_count": null,
      "metadata": {
        "id": "Kl20CzCHlUeR"
      },
      "outputs": [],
      "source": [
        "sep = ' [SEP] '\n",
        "def combine_features(df):\n",
        "  sentences = []\n",
        "  labels = []\n",
        "  print('Combining features into strings...')\n",
        "  # For each of the samples...\n",
        "  for index, row in df.iterrows():\n",
        "      # Piece it together...\n",
        "      context = row[\"context\"]\n",
        "      text = row[\"normalized_text\"]\n",
        "      combined_text = context + text\n",
        "\n",
        "      sentences.append(text)\n",
        "      labels.append(row[\"informative_target\"])\n",
        "  print('  DONE.')\n",
        "  print('Dataset contains {:,} samples.'.format(len(sentences)))\n",
        "  return sentences, labels"
      ]
    },
    {
      "cell_type": "code",
      "source": [
        "from sklearn.preprocessing import QuantileTransformer\n",
        "\n",
        "# Create an instance of QuantileTransformer\n",
        "transformer = QuantileTransformer(random_state=0)\n",
        "# Reshape the input data to have the appropriate dimensions\n",
        "train_election_distance_reshaped = train_data['election_distance'].values.reshape(-1, 1)\n",
        "transformer.fit(train_election_distance_reshaped)"
      ],
      "metadata": {
        "id": "4AwKKySfGmE5",
        "colab": {
          "base_uri": "https://localhost:8080/",
          "height": 75
        },
        "outputId": "338f80a7-7fd4-42e7-c897-f40204d5c5b2"
      },
      "execution_count": null,
      "outputs": [
        {
          "output_type": "execute_result",
          "data": {
            "text/plain": [
              "QuantileTransformer(random_state=0)"
            ],
            "text/html": [
              "<style>#sk-container-id-1 {color: black;background-color: white;}#sk-container-id-1 pre{padding: 0;}#sk-container-id-1 div.sk-toggleable {background-color: white;}#sk-container-id-1 label.sk-toggleable__label {cursor: pointer;display: block;width: 100%;margin-bottom: 0;padding: 0.3em;box-sizing: border-box;text-align: center;}#sk-container-id-1 label.sk-toggleable__label-arrow:before {content: \"▸\";float: left;margin-right: 0.25em;color: #696969;}#sk-container-id-1 label.sk-toggleable__label-arrow:hover:before {color: black;}#sk-container-id-1 div.sk-estimator:hover label.sk-toggleable__label-arrow:before {color: black;}#sk-container-id-1 div.sk-toggleable__content {max-height: 0;max-width: 0;overflow: hidden;text-align: left;background-color: #f0f8ff;}#sk-container-id-1 div.sk-toggleable__content pre {margin: 0.2em;color: black;border-radius: 0.25em;background-color: #f0f8ff;}#sk-container-id-1 input.sk-toggleable__control:checked~div.sk-toggleable__content {max-height: 200px;max-width: 100%;overflow: auto;}#sk-container-id-1 input.sk-toggleable__control:checked~label.sk-toggleable__label-arrow:before {content: \"▾\";}#sk-container-id-1 div.sk-estimator input.sk-toggleable__control:checked~label.sk-toggleable__label {background-color: #d4ebff;}#sk-container-id-1 div.sk-label input.sk-toggleable__control:checked~label.sk-toggleable__label {background-color: #d4ebff;}#sk-container-id-1 input.sk-hidden--visually {border: 0;clip: rect(1px 1px 1px 1px);clip: rect(1px, 1px, 1px, 1px);height: 1px;margin: -1px;overflow: hidden;padding: 0;position: absolute;width: 1px;}#sk-container-id-1 div.sk-estimator {font-family: monospace;background-color: #f0f8ff;border: 1px dotted black;border-radius: 0.25em;box-sizing: border-box;margin-bottom: 0.5em;}#sk-container-id-1 div.sk-estimator:hover {background-color: #d4ebff;}#sk-container-id-1 div.sk-parallel-item::after {content: \"\";width: 100%;border-bottom: 1px solid gray;flex-grow: 1;}#sk-container-id-1 div.sk-label:hover label.sk-toggleable__label {background-color: #d4ebff;}#sk-container-id-1 div.sk-serial::before {content: \"\";position: absolute;border-left: 1px solid gray;box-sizing: border-box;top: 0;bottom: 0;left: 50%;z-index: 0;}#sk-container-id-1 div.sk-serial {display: flex;flex-direction: column;align-items: center;background-color: white;padding-right: 0.2em;padding-left: 0.2em;position: relative;}#sk-container-id-1 div.sk-item {position: relative;z-index: 1;}#sk-container-id-1 div.sk-parallel {display: flex;align-items: stretch;justify-content: center;background-color: white;position: relative;}#sk-container-id-1 div.sk-item::before, #sk-container-id-1 div.sk-parallel-item::before {content: \"\";position: absolute;border-left: 1px solid gray;box-sizing: border-box;top: 0;bottom: 0;left: 50%;z-index: -1;}#sk-container-id-1 div.sk-parallel-item {display: flex;flex-direction: column;z-index: 1;position: relative;background-color: white;}#sk-container-id-1 div.sk-parallel-item:first-child::after {align-self: flex-end;width: 50%;}#sk-container-id-1 div.sk-parallel-item:last-child::after {align-self: flex-start;width: 50%;}#sk-container-id-1 div.sk-parallel-item:only-child::after {width: 0;}#sk-container-id-1 div.sk-dashed-wrapped {border: 1px dashed gray;margin: 0 0.4em 0.5em 0.4em;box-sizing: border-box;padding-bottom: 0.4em;background-color: white;}#sk-container-id-1 div.sk-label label {font-family: monospace;font-weight: bold;display: inline-block;line-height: 1.2em;}#sk-container-id-1 div.sk-label-container {text-align: center;}#sk-container-id-1 div.sk-container {/* jupyter's `normalize.less` sets `[hidden] { display: none; }` but bootstrap.min.css set `[hidden] { display: none !important; }` so we also need the `!important` here to be able to override the default hidden behavior on the sphinx rendered scikit-learn.org. See: https://github.com/scikit-learn/scikit-learn/issues/21755 */display: inline-block !important;position: relative;}#sk-container-id-1 div.sk-text-repr-fallback {display: none;}</style><div id=\"sk-container-id-1\" class=\"sk-top-container\"><div class=\"sk-text-repr-fallback\"><pre>QuantileTransformer(random_state=0)</pre><b>In a Jupyter environment, please rerun this cell to show the HTML representation or trust the notebook. <br />On GitHub, the HTML representation is unable to render, please try loading this page with nbviewer.org.</b></div><div class=\"sk-container\" hidden><div class=\"sk-item\"><div class=\"sk-estimator sk-toggleable\"><input class=\"sk-toggleable__control sk-hidden--visually\" id=\"sk-estimator-id-1\" type=\"checkbox\" checked><label for=\"sk-estimator-id-1\" class=\"sk-toggleable__label sk-toggleable__label-arrow\">QuantileTransformer</label><div class=\"sk-toggleable__content\"><pre>QuantileTransformer(random_state=0)</pre></div></div></div></div></div>"
            ]
          },
          "metadata": {},
          "execution_count": 19
        }
      ]
    },
    {
      "cell_type": "code",
      "source": [
        "train_data['election_distance_transformed'] = transformer.transform(train_election_distance_reshaped)"
      ],
      "metadata": {
        "id": "SpgH9HEtGzca"
      },
      "execution_count": null,
      "outputs": []
    },
    {
      "cell_type": "code",
      "source": [
        "val_election_distance_reshaped = val_data['election_distance_abs'].values.reshape(-1, 1)\n",
        "val_data['election_distance_transformed'] = transformer.transform(val_election_distance_reshaped)"
      ],
      "metadata": {
        "id": "O-uEgErJG4Os"
      },
      "execution_count": null,
      "outputs": []
    },
    {
      "cell_type": "code",
      "source": [
        "test_election_distance_reshaped = test_data['election_distance_abs'].values.reshape(-1, 1)\n",
        "test_data['election_distance_transformed'] = transformer.transform(test_election_distance_reshaped)"
      ],
      "metadata": {
        "id": "94auH-ObHGKf"
      },
      "execution_count": null,
      "outputs": []
    },
    {
      "cell_type": "code",
      "execution_count": null,
      "metadata": {
        "id": "wA4OBI5f2TzE",
        "colab": {
          "base_uri": "https://localhost:8080/"
        },
        "outputId": "43dad4c1-e255-4a9c-9c4a-f8e784782cb7"
      },
      "outputs": [
        {
          "output_type": "stream",
          "name": "stdout",
          "text": [
            "  Training size: (3414, 17)\n",
            "Validation size: (483, 17)\n",
            "      Test size: (980, 17)\n",
            "{'Counting and Results': 0, 'Political Rallies': 1, 'Positive Events': 2, 'Security Issues': 3, 'Voting Issues': 4}\n"
          ]
        },
        {
          "output_type": "stream",
          "name": "stderr",
          "text": [
            "<ipython-input-23-ed327d469efc>:11: SettingWithCopyWarning: \n",
            "A value is trying to be set on a copy of a slice from a DataFrame.\n",
            "Try using .loc[row_indexer,col_indexer] = value instead\n",
            "\n",
            "See the caveats in the documentation: https://pandas.pydata.org/pandas-docs/stable/user_guide/indexing.html#returning-a-view-versus-a-copy\n",
            "  informative_train_data[\"target\"] = inf_labeller.transform(informative_train_data[\"merged_label\"])\n",
            "<ipython-input-23-ed327d469efc>:12: SettingWithCopyWarning: \n",
            "A value is trying to be set on a copy of a slice from a DataFrame.\n",
            "Try using .loc[row_indexer,col_indexer] = value instead\n",
            "\n",
            "See the caveats in the documentation: https://pandas.pydata.org/pandas-docs/stable/user_guide/indexing.html#returning-a-view-versus-a-copy\n",
            "  informative_val_data[\"target\"] = inf_labeller.transform(informative_val_data[\"merged_label\"])\n",
            "<ipython-input-23-ed327d469efc>:13: SettingWithCopyWarning: \n",
            "A value is trying to be set on a copy of a slice from a DataFrame.\n",
            "Try using .loc[row_indexer,col_indexer] = value instead\n",
            "\n",
            "See the caveats in the documentation: https://pandas.pydata.org/pandas-docs/stable/user_guide/indexing.html#returning-a-view-versus-a-copy\n",
            "  informative_test_data[\"target\"] = inf_labeller.transform(informative_test_data[\"merged_label\"])\n"
          ]
        }
      ],
      "source": [
        "informative_train_data = train_data[train_data['informative_label'] == 'Informative']\n",
        "informative_val_data = val_data[val_data['informative_label'] == 'Informative']\n",
        "informative_test_data = test_data[test_data['informative_label'] == 'Informative']\n",
        "\n",
        "print(f'  Training size: {informative_train_data.shape}')\n",
        "print(f'Validation size: {informative_val_data.shape}')\n",
        "print(f'      Test size: {informative_test_data.shape}')\n",
        "\n",
        "inf_labeller = LabelEncoder()\n",
        "inf_labeller.fit(informative_train_data[\"merged_label\"])\n",
        "informative_train_data[\"target\"] = inf_labeller.transform(informative_train_data[\"merged_label\"])\n",
        "informative_val_data[\"target\"] = inf_labeller.transform(informative_val_data[\"merged_label\"])\n",
        "informative_test_data[\"target\"] = inf_labeller.transform(informative_test_data[\"merged_label\"])\n",
        "\n",
        "inf_mapping = dict(zip(inf_labeller.classes_, range(len(inf_labeller.classes_))))\n",
        "print(inf_mapping)"
      ]
    },
    {
      "cell_type": "code",
      "source": [
        "informative_train_data['context'].head(3)"
      ],
      "metadata": {
        "id": "jTIas0cpWMqK",
        "colab": {
          "base_uri": "https://localhost:8080/"
        },
        "outputId": "3300aa0f-d8c5-4171-c2b5-69c7c5941005"
      },
      "execution_count": null,
      "outputs": [
        {
          "output_type": "execute_result",
          "data": {
            "text/plain": [
              "0                                                                                                                                                                                               Here at Oljoroorok we are still queuing to vote . So cold , raining and the queing officers are not doing their work .. [SEP] During the day , August 8 , 2017 , there were reported incidences of voter misinformation - that registered voters NOT in the area they were registered in would be allowed to vote in the presidential race at any polling station in the country . [SEP] 6 gas lamps are available #Awendo [SEP] \n",
              "2                                                                                                                                                                                                                                                                                                                                                                 Excellent job by IEBC [SEP] The District Police Officer is offering so much voter assistance , which has raised concerns from agents and aspirants on their random polling station tours . [SEP] Nothing No No I vote for president uhuru mogai kenyatta [SEP] \n",
              "3    What are the requirements in order for you to vote in the 2022 Kenya general elections ? If you have an idea share with us in the comment section . [SEP] Nothing brings people together like sports ! ! ! The youth in Kwale have decided to incorporate sports as a way to foster peace in their community Kwale county has decided to do all it takes to have peace during this general election . [SEP] Where are some of the Hotspot Area Mapped Insecurity and Conflicts May Arise in Kenya Before , During and After Election ? #AmaniNiMimiNaWewe #ElectionBilaNoma @USER @USER @USER @USER @USER @USER @USER [SEP] \n",
              "Name: context, dtype: object"
            ]
          },
          "metadata": {},
          "execution_count": 24
        }
      ]
    },
    {
      "cell_type": "markdown",
      "source": [
        "## Split data for informative binary classifcation task or informative types multiclassification task"
      ],
      "metadata": {
        "id": "xCKB4t8QqYP2"
      }
    },
    {
      "cell_type": "code",
      "source": [
        "# # Uncomment this section of code to train the information types classificationt task\n",
        "# train_sentences, train_targets = combine_features(informative_train_data)\n",
        "# val_sentences, val_targets = combine_features(informative_val_data)\n",
        "# test_sentences, test_targets = combine_features(informative_test_data)"
      ],
      "metadata": {
        "id": "CyX-tkA-rFOK"
      },
      "execution_count": null,
      "outputs": []
    },
    {
      "cell_type": "code",
      "source": [
        "train_contexts = train_data.context.values\n",
        "test_contexts = test_data.context.values\n",
        "val_contexts = val_data.context.values"
      ],
      "metadata": {
        "id": "s6mfmEiQkXnw"
      },
      "execution_count": null,
      "outputs": []
    },
    {
      "cell_type": "code",
      "source": [
        "np.unique(train_targets)"
      ],
      "metadata": {
        "id": "U1GFS7AG4G0S",
        "colab": {
          "base_uri": "https://localhost:8080/"
        },
        "outputId": "6c8a6b1e-9f6e-40bd-c83c-1e92e3a4b8cb"
      },
      "execution_count": null,
      "outputs": [
        {
          "output_type": "execute_result",
          "data": {
            "text/plain": [
              "array([0, 1])"
            ]
          },
          "metadata": {},
          "execution_count": 92
        }
      ]
    },
    {
      "cell_type": "code",
      "execution_count": null,
      "metadata": {
        "id": "eXPJBa9gmmPM",
        "colab": {
          "base_uri": "https://localhost:8080/"
        },
        "outputId": "0a0a3168-967a-4048-b47c-35a8ffbbc6fd"
      },
      "outputs": [
        {
          "output_type": "stream",
          "name": "stdout",
          "text": [
            "Combining features into strings...\n",
            "  DONE.\n",
            "Dataset contains 9,926 samples.\n",
            "Combining features into strings...\n",
            "  DONE.\n",
            "Dataset contains 1,405 samples.\n",
            "Combining features into strings...\n",
            "  DONE.\n",
            "Dataset contains 2,850 samples.\n"
          ]
        }
      ],
      "source": [
        "train_sentences, train_targets = combine_features(train_data)\n",
        "val_sentences, val_targets = combine_features(val_data)\n",
        "test_sentences, test_targets = combine_features(test_data)"
      ]
    },
    {
      "cell_type": "code",
      "execution_count": null,
      "metadata": {
        "id": "6lw411sN11gg",
        "colab": {
          "base_uri": "https://localhost:8080/"
        },
        "outputId": "847b1b26-b8c9-4551-ab47-720635eb492a"
      },
      "outputs": [
        {
          "output_type": "execute_result",
          "data": {
            "text/plain": [
              "[\"Here at Oljoroorok we are still queuing to vote . So cold , raining and the queing officers are not doing their work .. [SEP] During the day , August 8 , 2017 , there were reported incidences of voter misinformation - that registered voters NOT in the area they were registered in would be allowed to vote in the presidential race at any polling station in the country . [SEP] 6 gas lamps are available #Awendo [SEP] Presiding officer captured all rejected ballot papers on form marked ‘ Rejected ' #KURIA EAST #MUTINITI\",\n",
              " \"Happy Elections Day to all Kenyans . Spreading peace and unity this election season . [SEP] election : Rahema Marjani is frustrated . “ I 've been here since 6 and I did n't find my name on the list . I 'm in line hoping to vote . The time I spent here I could have made ugali for my children and washed some clothes to make money . ” #kenyadecides [SEP] Democracy ensures Societal equality . It is your right to vote Practice it . Wishing Us a peaceful election ahead . #KenyaDecides2022 #Iebc #KenyansPoll #Democracy [SEP] MP seat elections of a particular constituency in West Pokot county suspended indefinitely . IEBC yawa\"]"
            ]
          },
          "metadata": {},
          "execution_count": 94
        }
      ],
      "source": [
        "train_sentences[:2]"
      ]
    },
    {
      "cell_type": "markdown",
      "source": [
        "## Tokenize sentences using bert specific tokenizer"
      ],
      "metadata": {
        "id": "WzS7gknnqoxB"
      }
    },
    {
      "cell_type": "code",
      "execution_count": null,
      "metadata": {
        "id": "RJ5dkPsXZf2E",
        "colab": {
          "base_uri": "https://localhost:8080/"
        },
        "outputId": "17eed684-6249-4717-a0c0-08212a506101"
      },
      "outputs": [
        {
          "output_type": "stream",
          "name": "stdout",
          "text": [
            "Found GPU at: /device:GPU:0\n"
          ]
        }
      ],
      "source": [
        "# Check whether GPU is detected\n",
        "import tensorflow as tf\n",
        "\n",
        "# Get the GPU device name.\n",
        "device_name = tf.test.gpu_device_name()\n",
        "\n",
        "# The device name should look like the following:\n",
        "if device_name == '/device:GPU:0':\n",
        "    print('Found GPU at: {}'.format(device_name))\n",
        "else:\n",
        "    raise SystemError('GPU device not found')"
      ]
    },
    {
      "cell_type": "code",
      "execution_count": null,
      "metadata": {
        "id": "c8Wq20MDZqk7",
        "colab": {
          "base_uri": "https://localhost:8080/"
        },
        "outputId": "a32f512b-5307-403b-c9a0-eb4fbc3ed983"
      },
      "outputs": [
        {
          "output_type": "stream",
          "name": "stdout",
          "text": [
            "Requirement already satisfied: transformers in /usr/local/lib/python3.10/dist-packages (4.30.2)\n",
            "Requirement already satisfied: filelock in /usr/local/lib/python3.10/dist-packages (from transformers) (3.12.2)\n",
            "Requirement already satisfied: huggingface-hub<1.0,>=0.14.1 in /usr/local/lib/python3.10/dist-packages (from transformers) (0.16.4)\n",
            "Requirement already satisfied: numpy>=1.17 in /usr/local/lib/python3.10/dist-packages (from transformers) (1.22.4)\n",
            "Requirement already satisfied: packaging>=20.0 in /usr/local/lib/python3.10/dist-packages (from transformers) (23.1)\n",
            "Requirement already satisfied: pyyaml>=5.1 in /usr/local/lib/python3.10/dist-packages (from transformers) (6.0)\n",
            "Requirement already satisfied: regex!=2019.12.17 in /usr/local/lib/python3.10/dist-packages (from transformers) (2022.10.31)\n",
            "Requirement already satisfied: requests in /usr/local/lib/python3.10/dist-packages (from transformers) (2.27.1)\n",
            "Requirement already satisfied: tokenizers!=0.11.3,<0.14,>=0.11.1 in /usr/local/lib/python3.10/dist-packages (from transformers) (0.13.3)\n",
            "Requirement already satisfied: safetensors>=0.3.1 in /usr/local/lib/python3.10/dist-packages (from transformers) (0.3.1)\n",
            "Requirement already satisfied: tqdm>=4.27 in /usr/local/lib/python3.10/dist-packages (from transformers) (4.65.0)\n",
            "Requirement already satisfied: fsspec in /usr/local/lib/python3.10/dist-packages (from huggingface-hub<1.0,>=0.14.1->transformers) (2023.6.0)\n",
            "Requirement already satisfied: typing-extensions>=3.7.4.3 in /usr/local/lib/python3.10/dist-packages (from huggingface-hub<1.0,>=0.14.1->transformers) (4.6.3)\n",
            "Requirement already satisfied: urllib3<1.27,>=1.21.1 in /usr/local/lib/python3.10/dist-packages (from requests->transformers) (1.26.16)\n",
            "Requirement already satisfied: certifi>=2017.4.17 in /usr/local/lib/python3.10/dist-packages (from requests->transformers) (2023.5.7)\n",
            "Requirement already satisfied: charset-normalizer~=2.0.0 in /usr/local/lib/python3.10/dist-packages (from requests->transformers) (2.0.12)\n",
            "Requirement already satisfied: idna<4,>=2.5 in /usr/local/lib/python3.10/dist-packages (from requests->transformers) (3.4)\n"
          ]
        }
      ],
      "source": [
        "!pip install transformers"
      ]
    },
    {
      "cell_type": "code",
      "execution_count": null,
      "metadata": {
        "id": "SEeUumE9ZswB",
        "colab": {
          "base_uri": "https://localhost:8080/"
        },
        "outputId": "2519a0a1-4dd2-46ed-c241-5120598960e1"
      },
      "outputs": [
        {
          "output_type": "stream",
          "name": "stdout",
          "text": [
            "Requirement already satisfied: sentencepiece in /usr/local/lib/python3.10/dist-packages (0.1.99)\n"
          ]
        }
      ],
      "source": [
        "!pip install sentencepiece"
      ]
    },
    {
      "cell_type": "code",
      "source": [
        "print('Loading model to GPU...')\n",
        "\n",
        "# Connect to the GPU.\n",
        "device = torch.device('cuda')"
      ],
      "metadata": {
        "colab": {
          "base_uri": "https://localhost:8080/"
        },
        "id": "dUTJCA-HVf86",
        "outputId": "b9b47ae9-8e35-4e96-d9d2-eb9d72e8c4f1"
      },
      "execution_count": null,
      "outputs": [
        {
          "output_type": "stream",
          "name": "stdout",
          "text": [
            "Loading model to GPU...\n"
          ]
        }
      ]
    },
    {
      "cell_type": "code",
      "source": [
        "# This section of code creates the sentiment scores for each election report\n",
        "from transformers import AutoModelForSequenceClassification\n",
        "from transformers import TFAutoModelForSequenceClassification\n",
        "from transformers import AutoTokenizer, AutoConfig\n",
        "import numpy as np\n",
        "from scipy.special import softmax\n",
        "\n",
        "# Preprocess text (username and link placeholders)\n",
        "def preprocess(text):\n",
        "    new_text = []\n",
        "    for t in text.split(\" \"):\n",
        "        t = '@user' if t.startswith('@') and len(t) > 1 else t\n",
        "        t = 'http' if t.startswith('http') else t\n",
        "        new_text.append(t)\n",
        "    return \" \".join(new_text)\n",
        "\n",
        "MODEL = f\"cardiffnlp/twitter-xlm-roberta-base-sentiment\"\n",
        "\n",
        "cardiff_tokenizer = AutoTokenizer.from_pretrained(MODEL)\n",
        "cardiff_config = AutoConfig.from_pretrained(MODEL)\n",
        "\n",
        "# PT\n",
        "cardiff_model = AutoModelForSequenceClassification.from_pretrained(MODEL)\n",
        "\n",
        "# Add the model to the gpu device\n",
        "cardiff_model.to(device)\n",
        "\n",
        "# Fn to get the sentiment scores - returns an array of shape n*3, where n is the number of\n",
        "# sentences passed as an argument and 3 represents the float values for negative, neutral and positive\n",
        "def get_sentiment_scores(sentences):\n",
        "  sentiment_scores = []\n",
        "  for sent in sentences:\n",
        "    text = preprocess(sent)\n",
        "    encoded_input = cardiff_tokenizer(text, return_tensors='pt').to(device)\n",
        "    output = cardiff_model(**encoded_input)\n",
        "    scores = output[0][0].detach().cpu().numpy()\n",
        "    scores = softmax(scores)\n",
        "    sentiment_scores.append(scores)\n",
        "  return sentiment_scores\n"
      ],
      "metadata": {
        "id": "lC3WBVkwSzbv"
      },
      "execution_count": null,
      "outputs": []
    },
    {
      "cell_type": "code",
      "source": [
        "model_sentiments = get_sentiment_scores(model_data.text.values)"
      ],
      "metadata": {
        "id": "nZ4l-Mslkzih"
      },
      "execution_count": null,
      "outputs": []
    },
    {
      "cell_type": "code",
      "source": [
        "sentiment = ['negative', 'neutral', 'positive']\n",
        "train_sentiments = get_sentiment_scores(train_data.text.values)\n",
        "val_sentiments = get_sentiment_scores(val_data.text.values)\n",
        "test_sentiments = get_sentiment_scores(test_data.text.values)\n",
        "train_data[sentiment] = pd.DataFrame(train_sentiments)\n",
        "val_data[sentiment] = pd.DataFrame(val_sentiments)\n",
        "test_data[sentiment] = pd.DataFrame(test_sentiments)"
      ],
      "metadata": {
        "id": "SuAx-JB-Z9Cv"
      },
      "execution_count": null,
      "outputs": []
    },
    {
      "cell_type": "code",
      "source": [
        "labelled_data_sentiments = get_sentiment_scores(train_data.text.values)"
      ],
      "metadata": {
        "id": "xBLaWxYhk1GX"
      },
      "execution_count": null,
      "outputs": []
    },
    {
      "cell_type": "code",
      "source": [
        "informative_train_contexts = informative_train_data.context\n",
        "informative_val_contexts = informative_val_data.context\n",
        "informative_test_contexts = informative_test_data.context"
      ],
      "metadata": {
        "id": "bn99H3AsldAh"
      },
      "execution_count": null,
      "outputs": []
    },
    {
      "cell_type": "code",
      "execution_count": null,
      "metadata": {
        "id": "CNJTUiKtZwnJ"
      },
      "outputs": [],
      "source": [
        "import torch\n",
        "from transformers import AutoTokenizer\n",
        "\n",
        "tokenizer = AutoTokenizer.from_pretrained('xlm-roberta-base')"
      ]
    },
    {
      "cell_type": "code",
      "execution_count": null,
      "metadata": {
        "id": "L8Gfw5lzZ0CL",
        "colab": {
          "base_uri": "https://localhost:8080/"
        },
        "outputId": "2fe5c3f8-1ba0-41cd-98d9-9f3ca2c072c3"
      },
      "outputs": [
        {
          "output_type": "stream",
          "name": "stdout",
          "text": [
            " Original:  Why is @USER prone to negative news & administrative misconduct alwys & they can't learn from it knowing quit well its entrusted wth very sensitive & delicate mandate . Now A foreigner pops in JKIA wth sensitive material in his luggage & IEBC defends it like its normal [SEP] hakuna kitu ka io ... chebukati ni Ruto na ruto ni chebukati [SEP] Ehehehhehehe . He is a joke . Chebukati . So Materials for IEBC are carried in private bags ? [SEP] It does n't have to be stated literally . The letter says it all . I am not defending State Mischief in the matter as I am lamenting IEBC carelessness and ineptitude\n",
            "Tokenized:  ['▁Why', '▁is', '▁@', 'U', 'SER', '▁pro', 'ne', '▁to', '▁negative', '▁news', '▁&', '▁administrative', '▁mis', 'con', 'duct', '▁al', 'wys', '▁&', '▁they', '▁can', \"'\", 't', '▁learn', '▁from', '▁it', '▁knowing', '▁qui', 't', '▁well', '▁its', '▁en', 'trust', 'ed', '▁w', 'th', '▁very', '▁sensitive', '▁&', '▁delicat', 'e', '▁mandat', 'e', '▁', '.', '▁Now', '▁A', '▁foreign', 'er', '▁pop', 's', '▁in', '▁J', 'KIA', '▁w', 'th', '▁sensitive', '▁material', '▁in', '▁his', '▁lug', 'ga', 'ge', '▁&', '▁I', 'EBC', '▁defend', 's', '▁it', '▁like', '▁its', '▁normal', '▁[', 'S', 'EP', ']', '▁hakuna', '▁kitu', '▁ka', '▁io', '▁...', '▁che', 'buka', 'ti', '▁ni', '▁Ru', 'to', '▁na', '▁ru', 'to', '▁ni', '▁che', 'buka', 'ti', '▁[', 'S', 'EP', ']', '▁E', 'hehe', 'h', 'hehehe', '▁', '.', '▁He', '▁is', '▁a', '▁joke', '▁', '.', '▁Che', 'buka', 'ti', '▁', '.', '▁So', '▁Material', 's', '▁for', '▁I', 'EBC', '▁are', '▁carried', '▁in', '▁private', '▁bags', '▁?', '▁[', 'S', 'EP', ']', '▁It', '▁does', '▁n', \"'\", 't', '▁have', '▁to', '▁be', '▁state', 'd', '▁literally', '▁', '.', '▁The', '▁letter', '▁says', '▁it', '▁all', '▁', '.', '▁I', '▁am', '▁not', '▁defend', 'ing', '▁State', '▁Mis', 'ch', 'ief', '▁in', '▁the', '▁matter', '▁as', '▁I', '▁am', '▁la', 'ment', 'ing', '▁I', 'EBC', '▁care', 'less', 'ness', '▁and', '▁in', 'ep', 'titude']\n",
            "Token IDs:  [44084, 83, 1374, 1062, 50184, 502, 86, 47, 40907, 7123, 619, 86757, 1239, 2271, 77193, 144, 21534, 619, 1836, 831, 25, 18, 30698, 1295, 442, 141956, 569, 18, 5299, 6863, 22, 182825, 297, 148, 927, 4552, 191125, 619, 71110, 13, 20777, 13, 6, 5, 14240, 62, 110613, 56, 7426, 7, 23, 821, 76669, 148, 927, 191125, 4912, 23, 1919, 34613, 208, 429, 619, 87, 171408, 65922, 7, 442, 1884, 6863, 3638, 378, 294, 21290, 268, 81760, 34707, 156, 22995, 153, 290, 33426, 118, 300, 4518, 188, 24, 3114, 188, 300, 290, 33426, 118, 378, 294, 21290, 268, 241, 51542, 127, 91914, 6, 5, 1529, 83, 10, 122122, 6, 5, 5024, 33426, 118, 6, 5, 1061, 23994, 7, 100, 87, 171408, 621, 175100, 23, 14375, 97920, 705, 378, 294, 21290, 268, 1650, 14602, 653, 25, 18, 765, 47, 186, 11341, 71, 218500, 6, 5, 581, 31330, 17378, 442, 756, 6, 5, 87, 444, 959, 65922, 214, 22836, 7950, 206, 29469, 23, 70, 26866, 237, 87, 444, 21, 674, 214, 87, 171408, 517, 9393, 7432, 136, 23, 4517, 35810]\n"
          ]
        }
      ],
      "source": [
        "# Print the original sentence.\n",
        "print(' Original: ', train_sentences[10])\n",
        "\n",
        "# Print the sentence split into tokens.\n",
        "print('Tokenized: ', tokenizer.tokenize(train_sentences[10]))\n",
        "\n",
        "# Print the sentence mapped to token ids.\n",
        "print('Token IDs: ', tokenizer.convert_tokens_to_ids(tokenizer.tokenize(train_sentences[10])))"
      ]
    },
    {
      "cell_type": "code",
      "execution_count": null,
      "metadata": {
        "id": "I3bsOj_hZ-_k",
        "colab": {
          "base_uri": "https://localhost:8080/"
        },
        "outputId": "40a3a96c-f78e-43e9-c7e9-a02c34fb4264"
      },
      "outputs": [
        {
          "output_type": "stream",
          "name": "stdout",
          "text": [
            "Max sentence length:  306\n"
          ]
        }
      ],
      "source": [
        "# Measure the maximum length of the sentences\n",
        "max_len = 0\n",
        "lengths_en = []\n",
        "# For every sentence...\n",
        "for sent in train_sentences:\n",
        "    # Tokenize the text and add `[CLS]` and `[SEP]` tokens.\n",
        "    input_ids = tokenizer.encode(sent, add_special_tokens=True)\n",
        "    # Record the length.\n",
        "    lengths_en.append(len(input_ids))\n",
        "    # Update the maximum sentence length.\n",
        "    max_len = max(max_len, len(input_ids))\n",
        "print('Max sentence length: ', max_len)"
      ]
    },
    {
      "cell_type": "code",
      "execution_count": null,
      "metadata": {
        "id": "IbY97PjfaGkd",
        "colab": {
          "base_uri": "https://localhost:8080/"
        },
        "outputId": "d7a866db-8eb8-4fc1-830c-f7106f0cb00a"
      },
      "outputs": [
        {
          "output_type": "stream",
          "name": "stdout",
          "text": [
            "Min length: 5 tokens\n",
            "Max length: 306 tokens\n",
            "Median length: 40 tokens\n"
          ]
        }
      ],
      "source": [
        "print('Min length: {:,} tokens'.format(min(lengths_en)))\n",
        "print('Max length: {:,} tokens'.format(max(lengths_en)))\n",
        "print('Median length: {:,} tokens'.format(int(np.median(lengths_en))))"
      ]
    },
    {
      "cell_type": "code",
      "execution_count": null,
      "metadata": {
        "id": "39UyW_5caJK0",
        "colab": {
          "base_uri": "https://localhost:8080/",
          "height": 695
        },
        "outputId": "f6d93b84-2dd4-41fd-b058-a31bd2aaadbc"
      },
      "outputs": [
        {
          "output_type": "stream",
          "name": "stderr",
          "text": [
            "<ipython-input-152-276b95ef4bff>:10: UserWarning: \n",
            "\n",
            "`distplot` is a deprecated function and will be removed in seaborn v0.14.0.\n",
            "\n",
            "Please adapt your code to use either `displot` (a figure-level function with\n",
            "similar flexibility) or `histplot` (an axes-level function for histograms).\n",
            "\n",
            "For a guide to updating your code to use the new functions, please see\n",
            "https://gist.github.com/mwaskom/de44147ed2974457ad6372750bbe5751\n",
            "\n",
            "  sns.distplot(lengths_en, kde=False, rug=False)\n"
          ]
        },
        {
          "output_type": "display_data",
          "data": {
            "text/plain": [
              "<Figure size 1000x500 with 1 Axes>"
            ],
            "image/svg+xml": "<?xml version=\"1.0\" encoding=\"utf-8\" standalone=\"no\"?>\n<!DOCTYPE svg PUBLIC \"-//W3C//DTD SVG 1.1//EN\"\n  \"http://www.w3.org/Graphics/SVG/1.1/DTD/svg11.dtd\">\n<svg xmlns:xlink=\"http://www.w3.org/1999/xlink\" width=\"645.313125pt\" height=\"358.166719pt\" viewBox=\"0 0 645.313125 358.166719\" xmlns=\"http://www.w3.org/2000/svg\" version=\"1.1\">\n <metadata>\n  <rdf:RDF xmlns:dc=\"http://purl.org/dc/elements/1.1/\" xmlns:cc=\"http://creativecommons.org/ns#\" xmlns:rdf=\"http://www.w3.org/1999/02/22-rdf-syntax-ns#\">\n   <cc:Work>\n    <dc:type rdf:resource=\"http://purl.org/dc/dcmitype/StillImage\"/>\n    <dc:date>2023-07-09T20:51:58.104998</dc:date>\n    <dc:format>image/svg+xml</dc:format>\n    <dc:creator>\n     <cc:Agent>\n      <dc:title>Matplotlib v3.7.1, https://matplotlib.org/</dc:title>\n     </cc:Agent>\n    </dc:creator>\n   </cc:Work>\n  </rdf:RDF>\n </metadata>\n <defs>\n  <style type=\"text/css\">*{stroke-linejoin: round; stroke-linecap: butt}</style>\n </defs>\n <g id=\"figure_1\">\n  <g id=\"patch_1\">\n   <path d=\"M 0 358.166719 \nL 645.313125 358.166719 \nL 645.313125 0 \nL 0 0 \nz\n\" style=\"fill: #ffffff\"/>\n  </g>\n  <g id=\"axes_1\">\n   <g id=\"patch_2\">\n    <path d=\"M 80.113125 304.077188 \nL 638.113125 304.077188 \nL 638.113125 26.877187 \nL 80.113125 26.877187 \nz\n\" style=\"fill: #eaeaf2\"/>\n   </g>\n   <g id=\"matplotlib.axis_1\">\n    <g id=\"xtick_1\">\n     <g id=\"line2d_1\">\n      <path d=\"M 97.050304 304.077188 \nL 97.050304 26.877187 \n\" clip-path=\"url(#p9cb19cc237)\" style=\"fill: none; stroke: #ffffff; stroke-linecap: round\"/>\n     </g>\n     <g id=\"text_1\">\n      <!-- 0 -->\n      <g style=\"fill: #262626\" transform=\"translate(91.801242 326.114609) scale(0.165 -0.165)\">\n       <defs>\n        <path id=\"DejaVuSans-30\" d=\"M 2034 4250 \nQ 1547 4250 1301 3770 \nQ 1056 3291 1056 2328 \nQ 1056 1369 1301 889 \nQ 1547 409 2034 409 \nQ 2525 409 2770 889 \nQ 3016 1369 3016 2328 \nQ 3016 3291 2770 3770 \nQ 2525 4250 2034 4250 \nz\nM 2034 4750 \nQ 2819 4750 3233 4129 \nQ 3647 3509 3647 2328 \nQ 3647 1150 3233 529 \nQ 2819 -91 2034 -91 \nQ 1250 -91 836 529 \nQ 422 1150 422 2328 \nQ 422 3509 836 4129 \nQ 1250 4750 2034 4750 \nz\n\" transform=\"scale(0.015625)\"/>\n       </defs>\n       <use xlink:href=\"#DejaVuSans-30\"/>\n      </g>\n     </g>\n    </g>\n    <g id=\"xtick_2\">\n     <g id=\"line2d_2\">\n      <path d=\"M 181.314877 304.077188 \nL 181.314877 26.877187 \n\" clip-path=\"url(#p9cb19cc237)\" style=\"fill: none; stroke: #ffffff; stroke-linecap: round\"/>\n     </g>\n     <g id=\"text_2\">\n      <!-- 50 -->\n      <g style=\"fill: #262626\" transform=\"translate(170.816752 326.114609) scale(0.165 -0.165)\">\n       <defs>\n        <path id=\"DejaVuSans-35\" d=\"M 691 4666 \nL 3169 4666 \nL 3169 4134 \nL 1269 4134 \nL 1269 2991 \nQ 1406 3038 1543 3061 \nQ 1681 3084 1819 3084 \nQ 2600 3084 3056 2656 \nQ 3513 2228 3513 1497 \nQ 3513 744 3044 326 \nQ 2575 -91 1722 -91 \nQ 1428 -91 1123 -41 \nQ 819 9 494 109 \nL 494 744 \nQ 775 591 1075 516 \nQ 1375 441 1709 441 \nQ 2250 441 2565 725 \nQ 2881 1009 2881 1497 \nQ 2881 1984 2565 2268 \nQ 2250 2553 1709 2553 \nQ 1456 2553 1204 2497 \nQ 953 2441 691 2322 \nL 691 4666 \nz\n\" transform=\"scale(0.015625)\"/>\n       </defs>\n       <use xlink:href=\"#DejaVuSans-35\"/>\n       <use xlink:href=\"#DejaVuSans-30\" x=\"63.623047\"/>\n      </g>\n     </g>\n    </g>\n    <g id=\"xtick_3\">\n     <g id=\"line2d_3\">\n      <path d=\"M 265.579449 304.077188 \nL 265.579449 26.877187 \n\" clip-path=\"url(#p9cb19cc237)\" style=\"fill: none; stroke: #ffffff; stroke-linecap: round\"/>\n     </g>\n     <g id=\"text_3\">\n      <!-- 100 -->\n      <g style=\"fill: #262626\" transform=\"translate(249.832262 326.114609) scale(0.165 -0.165)\">\n       <defs>\n        <path id=\"DejaVuSans-31\" d=\"M 794 531 \nL 1825 531 \nL 1825 4091 \nL 703 3866 \nL 703 4441 \nL 1819 4666 \nL 2450 4666 \nL 2450 531 \nL 3481 531 \nL 3481 0 \nL 794 0 \nL 794 531 \nz\n\" transform=\"scale(0.015625)\"/>\n       </defs>\n       <use xlink:href=\"#DejaVuSans-31\"/>\n       <use xlink:href=\"#DejaVuSans-30\" x=\"63.623047\"/>\n       <use xlink:href=\"#DejaVuSans-30\" x=\"127.246094\"/>\n      </g>\n     </g>\n    </g>\n    <g id=\"xtick_4\">\n     <g id=\"line2d_4\">\n      <path d=\"M 349.844022 304.077188 \nL 349.844022 26.877187 \n\" clip-path=\"url(#p9cb19cc237)\" style=\"fill: none; stroke: #ffffff; stroke-linecap: round\"/>\n     </g>\n     <g id=\"text_4\">\n      <!-- 150 -->\n      <g style=\"fill: #262626\" transform=\"translate(334.096835 326.114609) scale(0.165 -0.165)\">\n       <use xlink:href=\"#DejaVuSans-31\"/>\n       <use xlink:href=\"#DejaVuSans-35\" x=\"63.623047\"/>\n       <use xlink:href=\"#DejaVuSans-30\" x=\"127.246094\"/>\n      </g>\n     </g>\n    </g>\n    <g id=\"xtick_5\">\n     <g id=\"line2d_5\">\n      <path d=\"M 434.108595 304.077188 \nL 434.108595 26.877187 \n\" clip-path=\"url(#p9cb19cc237)\" style=\"fill: none; stroke: #ffffff; stroke-linecap: round\"/>\n     </g>\n     <g id=\"text_5\">\n      <!-- 200 -->\n      <g style=\"fill: #262626\" transform=\"translate(418.361407 326.114609) scale(0.165 -0.165)\">\n       <defs>\n        <path id=\"DejaVuSans-32\" d=\"M 1228 531 \nL 3431 531 \nL 3431 0 \nL 469 0 \nL 469 531 \nQ 828 903 1448 1529 \nQ 2069 2156 2228 2338 \nQ 2531 2678 2651 2914 \nQ 2772 3150 2772 3378 \nQ 2772 3750 2511 3984 \nQ 2250 4219 1831 4219 \nQ 1534 4219 1204 4116 \nQ 875 4013 500 3803 \nL 500 4441 \nQ 881 4594 1212 4672 \nQ 1544 4750 1819 4750 \nQ 2544 4750 2975 4387 \nQ 3406 4025 3406 3419 \nQ 3406 3131 3298 2873 \nQ 3191 2616 2906 2266 \nQ 2828 2175 2409 1742 \nQ 1991 1309 1228 531 \nz\n\" transform=\"scale(0.015625)\"/>\n       </defs>\n       <use xlink:href=\"#DejaVuSans-32\"/>\n       <use xlink:href=\"#DejaVuSans-30\" x=\"63.623047\"/>\n       <use xlink:href=\"#DejaVuSans-30\" x=\"127.246094\"/>\n      </g>\n     </g>\n    </g>\n    <g id=\"xtick_6\">\n     <g id=\"line2d_6\">\n      <path d=\"M 518.373167 304.077188 \nL 518.373167 26.877187 \n\" clip-path=\"url(#p9cb19cc237)\" style=\"fill: none; stroke: #ffffff; stroke-linecap: round\"/>\n     </g>\n     <g id=\"text_6\">\n      <!-- 250 -->\n      <g style=\"fill: #262626\" transform=\"translate(502.62598 326.114609) scale(0.165 -0.165)\">\n       <use xlink:href=\"#DejaVuSans-32\"/>\n       <use xlink:href=\"#DejaVuSans-35\" x=\"63.623047\"/>\n       <use xlink:href=\"#DejaVuSans-30\" x=\"127.246094\"/>\n      </g>\n     </g>\n    </g>\n    <g id=\"xtick_7\">\n     <g id=\"line2d_7\">\n      <path d=\"M 602.63774 304.077188 \nL 602.63774 26.877187 \n\" clip-path=\"url(#p9cb19cc237)\" style=\"fill: none; stroke: #ffffff; stroke-linecap: round\"/>\n     </g>\n     <g id=\"text_7\">\n      <!-- 300 -->\n      <g style=\"fill: #262626\" transform=\"translate(586.890552 326.114609) scale(0.165 -0.165)\">\n       <defs>\n        <path id=\"DejaVuSans-33\" d=\"M 2597 2516 \nQ 3050 2419 3304 2112 \nQ 3559 1806 3559 1356 \nQ 3559 666 3084 287 \nQ 2609 -91 1734 -91 \nQ 1441 -91 1130 -33 \nQ 819 25 488 141 \nL 488 750 \nQ 750 597 1062 519 \nQ 1375 441 1716 441 \nQ 2309 441 2620 675 \nQ 2931 909 2931 1356 \nQ 2931 1769 2642 2001 \nQ 2353 2234 1838 2234 \nL 1294 2234 \nL 1294 2753 \nL 1863 2753 \nQ 2328 2753 2575 2939 \nQ 2822 3125 2822 3475 \nQ 2822 3834 2567 4026 \nQ 2313 4219 1838 4219 \nQ 1578 4219 1281 4162 \nQ 984 4106 628 3988 \nL 628 4550 \nQ 988 4650 1302 4700 \nQ 1616 4750 1894 4750 \nQ 2613 4750 3031 4423 \nQ 3450 4097 3450 3541 \nQ 3450 3153 3228 2886 \nQ 3006 2619 2597 2516 \nz\n\" transform=\"scale(0.015625)\"/>\n       </defs>\n       <use xlink:href=\"#DejaVuSans-33\"/>\n       <use xlink:href=\"#DejaVuSans-30\" x=\"63.623047\"/>\n       <use xlink:href=\"#DejaVuSans-30\" x=\"127.246094\"/>\n      </g>\n     </g>\n    </g>\n    <g id=\"text_8\">\n     <!-- Sequence Length -->\n     <g style=\"fill: #262626\" transform=\"translate(280.811719 347.223281) scale(0.18 -0.18)\">\n      <defs>\n       <path id=\"DejaVuSans-53\" d=\"M 3425 4513 \nL 3425 3897 \nQ 3066 4069 2747 4153 \nQ 2428 4238 2131 4238 \nQ 1616 4238 1336 4038 \nQ 1056 3838 1056 3469 \nQ 1056 3159 1242 3001 \nQ 1428 2844 1947 2747 \nL 2328 2669 \nQ 3034 2534 3370 2195 \nQ 3706 1856 3706 1288 \nQ 3706 609 3251 259 \nQ 2797 -91 1919 -91 \nQ 1588 -91 1214 -16 \nQ 841 59 441 206 \nL 441 856 \nQ 825 641 1194 531 \nQ 1563 422 1919 422 \nQ 2459 422 2753 634 \nQ 3047 847 3047 1241 \nQ 3047 1584 2836 1778 \nQ 2625 1972 2144 2069 \nL 1759 2144 \nQ 1053 2284 737 2584 \nQ 422 2884 422 3419 \nQ 422 4038 858 4394 \nQ 1294 4750 2059 4750 \nQ 2388 4750 2728 4690 \nQ 3069 4631 3425 4513 \nz\n\" transform=\"scale(0.015625)\"/>\n       <path id=\"DejaVuSans-65\" d=\"M 3597 1894 \nL 3597 1613 \nL 953 1613 \nQ 991 1019 1311 708 \nQ 1631 397 2203 397 \nQ 2534 397 2845 478 \nQ 3156 559 3463 722 \nL 3463 178 \nQ 3153 47 2828 -22 \nQ 2503 -91 2169 -91 \nQ 1331 -91 842 396 \nQ 353 884 353 1716 \nQ 353 2575 817 3079 \nQ 1281 3584 2069 3584 \nQ 2775 3584 3186 3129 \nQ 3597 2675 3597 1894 \nz\nM 3022 2063 \nQ 3016 2534 2758 2815 \nQ 2500 3097 2075 3097 \nQ 1594 3097 1305 2825 \nQ 1016 2553 972 2059 \nL 3022 2063 \nz\n\" transform=\"scale(0.015625)\"/>\n       <path id=\"DejaVuSans-71\" d=\"M 947 1747 \nQ 947 1113 1208 752 \nQ 1469 391 1925 391 \nQ 2381 391 2643 752 \nQ 2906 1113 2906 1747 \nQ 2906 2381 2643 2742 \nQ 2381 3103 1925 3103 \nQ 1469 3103 1208 2742 \nQ 947 2381 947 1747 \nz\nM 2906 525 \nQ 2725 213 2448 61 \nQ 2172 -91 1784 -91 \nQ 1150 -91 751 415 \nQ 353 922 353 1747 \nQ 353 2572 751 3078 \nQ 1150 3584 1784 3584 \nQ 2172 3584 2448 3432 \nQ 2725 3281 2906 2969 \nL 2906 3500 \nL 3481 3500 \nL 3481 -1331 \nL 2906 -1331 \nL 2906 525 \nz\n\" transform=\"scale(0.015625)\"/>\n       <path id=\"DejaVuSans-75\" d=\"M 544 1381 \nL 544 3500 \nL 1119 3500 \nL 1119 1403 \nQ 1119 906 1312 657 \nQ 1506 409 1894 409 \nQ 2359 409 2629 706 \nQ 2900 1003 2900 1516 \nL 2900 3500 \nL 3475 3500 \nL 3475 0 \nL 2900 0 \nL 2900 538 \nQ 2691 219 2414 64 \nQ 2138 -91 1772 -91 \nQ 1169 -91 856 284 \nQ 544 659 544 1381 \nz\nM 1991 3584 \nL 1991 3584 \nz\n\" transform=\"scale(0.015625)\"/>\n       <path id=\"DejaVuSans-6e\" d=\"M 3513 2113 \nL 3513 0 \nL 2938 0 \nL 2938 2094 \nQ 2938 2591 2744 2837 \nQ 2550 3084 2163 3084 \nQ 1697 3084 1428 2787 \nQ 1159 2491 1159 1978 \nL 1159 0 \nL 581 0 \nL 581 3500 \nL 1159 3500 \nL 1159 2956 \nQ 1366 3272 1645 3428 \nQ 1925 3584 2291 3584 \nQ 2894 3584 3203 3211 \nQ 3513 2838 3513 2113 \nz\n\" transform=\"scale(0.015625)\"/>\n       <path id=\"DejaVuSans-63\" d=\"M 3122 3366 \nL 3122 2828 \nQ 2878 2963 2633 3030 \nQ 2388 3097 2138 3097 \nQ 1578 3097 1268 2742 \nQ 959 2388 959 1747 \nQ 959 1106 1268 751 \nQ 1578 397 2138 397 \nQ 2388 397 2633 464 \nQ 2878 531 3122 666 \nL 3122 134 \nQ 2881 22 2623 -34 \nQ 2366 -91 2075 -91 \nQ 1284 -91 818 406 \nQ 353 903 353 1747 \nQ 353 2603 823 3093 \nQ 1294 3584 2113 3584 \nQ 2378 3584 2631 3529 \nQ 2884 3475 3122 3366 \nz\n\" transform=\"scale(0.015625)\"/>\n       <path id=\"DejaVuSans-20\" transform=\"scale(0.015625)\"/>\n       <path id=\"DejaVuSans-4c\" d=\"M 628 4666 \nL 1259 4666 \nL 1259 531 \nL 3531 531 \nL 3531 0 \nL 628 0 \nL 628 4666 \nz\n\" transform=\"scale(0.015625)\"/>\n       <path id=\"DejaVuSans-67\" d=\"M 2906 1791 \nQ 2906 2416 2648 2759 \nQ 2391 3103 1925 3103 \nQ 1463 3103 1205 2759 \nQ 947 2416 947 1791 \nQ 947 1169 1205 825 \nQ 1463 481 1925 481 \nQ 2391 481 2648 825 \nQ 2906 1169 2906 1791 \nz\nM 3481 434 \nQ 3481 -459 3084 -895 \nQ 2688 -1331 1869 -1331 \nQ 1566 -1331 1297 -1286 \nQ 1028 -1241 775 -1147 \nL 775 -588 \nQ 1028 -725 1275 -790 \nQ 1522 -856 1778 -856 \nQ 2344 -856 2625 -561 \nQ 2906 -266 2906 331 \nL 2906 616 \nQ 2728 306 2450 153 \nQ 2172 0 1784 0 \nQ 1141 0 747 490 \nQ 353 981 353 1791 \nQ 353 2603 747 3093 \nQ 1141 3584 1784 3584 \nQ 2172 3584 2450 3431 \nQ 2728 3278 2906 2969 \nL 2906 3500 \nL 3481 3500 \nL 3481 434 \nz\n\" transform=\"scale(0.015625)\"/>\n       <path id=\"DejaVuSans-74\" d=\"M 1172 4494 \nL 1172 3500 \nL 2356 3500 \nL 2356 3053 \nL 1172 3053 \nL 1172 1153 \nQ 1172 725 1289 603 \nQ 1406 481 1766 481 \nL 2356 481 \nL 2356 0 \nL 1766 0 \nQ 1100 0 847 248 \nQ 594 497 594 1153 \nL 594 3053 \nL 172 3053 \nL 172 3500 \nL 594 3500 \nL 594 4494 \nL 1172 4494 \nz\n\" transform=\"scale(0.015625)\"/>\n       <path id=\"DejaVuSans-68\" d=\"M 3513 2113 \nL 3513 0 \nL 2938 0 \nL 2938 2094 \nQ 2938 2591 2744 2837 \nQ 2550 3084 2163 3084 \nQ 1697 3084 1428 2787 \nQ 1159 2491 1159 1978 \nL 1159 0 \nL 581 0 \nL 581 4863 \nL 1159 4863 \nL 1159 2956 \nQ 1366 3272 1645 3428 \nQ 1925 3584 2291 3584 \nQ 2894 3584 3203 3211 \nQ 3513 2838 3513 2113 \nz\n\" transform=\"scale(0.015625)\"/>\n      </defs>\n      <use xlink:href=\"#DejaVuSans-53\"/>\n      <use xlink:href=\"#DejaVuSans-65\" x=\"63.476562\"/>\n      <use xlink:href=\"#DejaVuSans-71\" x=\"125\"/>\n      <use xlink:href=\"#DejaVuSans-75\" x=\"188.476562\"/>\n      <use xlink:href=\"#DejaVuSans-65\" x=\"251.855469\"/>\n      <use xlink:href=\"#DejaVuSans-6e\" x=\"313.378906\"/>\n      <use xlink:href=\"#DejaVuSans-63\" x=\"376.757812\"/>\n      <use xlink:href=\"#DejaVuSans-65\" x=\"431.738281\"/>\n      <use xlink:href=\"#DejaVuSans-20\" x=\"493.261719\"/>\n      <use xlink:href=\"#DejaVuSans-4c\" x=\"525.048828\"/>\n      <use xlink:href=\"#DejaVuSans-65\" x=\"579.011719\"/>\n      <use xlink:href=\"#DejaVuSans-6e\" x=\"640.535156\"/>\n      <use xlink:href=\"#DejaVuSans-67\" x=\"703.914062\"/>\n      <use xlink:href=\"#DejaVuSans-74\" x=\"767.390625\"/>\n      <use xlink:href=\"#DejaVuSans-68\" x=\"806.599609\"/>\n     </g>\n    </g>\n   </g>\n   <g id=\"matplotlib.axis_2\">\n    <g id=\"ytick_1\">\n     <g id=\"line2d_8\">\n      <path d=\"M 80.113125 304.077188 \nL 638.113125 304.077188 \n\" clip-path=\"url(#p9cb19cc237)\" style=\"fill: none; stroke: #ffffff; stroke-linecap: round\"/>\n     </g>\n     <g id=\"text_9\">\n      <!-- 0 -->\n      <g style=\"fill: #262626\" transform=\"translate(60.115 310.345898) scale(0.165 -0.165)\">\n       <use xlink:href=\"#DejaVuSans-30\"/>\n      </g>\n     </g>\n    </g>\n    <g id=\"ytick_2\">\n     <g id=\"line2d_9\">\n      <path d=\"M 80.113125 254.499723 \nL 638.113125 254.499723 \n\" clip-path=\"url(#p9cb19cc237)\" style=\"fill: none; stroke: #ffffff; stroke-linecap: round\"/>\n     </g>\n     <g id=\"text_10\">\n      <!-- 200 -->\n      <g style=\"fill: #262626\" transform=\"translate(39.11875 260.768434) scale(0.165 -0.165)\">\n       <use xlink:href=\"#DejaVuSans-32\"/>\n       <use xlink:href=\"#DejaVuSans-30\" x=\"63.623047\"/>\n       <use xlink:href=\"#DejaVuSans-30\" x=\"127.246094\"/>\n      </g>\n     </g>\n    </g>\n    <g id=\"ytick_3\">\n     <g id=\"line2d_10\">\n      <path d=\"M 80.113125 204.922258 \nL 638.113125 204.922258 \n\" clip-path=\"url(#p9cb19cc237)\" style=\"fill: none; stroke: #ffffff; stroke-linecap: round\"/>\n     </g>\n     <g id=\"text_11\">\n      <!-- 400 -->\n      <g style=\"fill: #262626\" transform=\"translate(39.11875 211.190969) scale(0.165 -0.165)\">\n       <defs>\n        <path id=\"DejaVuSans-34\" d=\"M 2419 4116 \nL 825 1625 \nL 2419 1625 \nL 2419 4116 \nz\nM 2253 4666 \nL 3047 4666 \nL 3047 1625 \nL 3713 1625 \nL 3713 1100 \nL 3047 1100 \nL 3047 0 \nL 2419 0 \nL 2419 1100 \nL 313 1100 \nL 313 1709 \nL 2253 4666 \nz\n\" transform=\"scale(0.015625)\"/>\n       </defs>\n       <use xlink:href=\"#DejaVuSans-34\"/>\n       <use xlink:href=\"#DejaVuSans-30\" x=\"63.623047\"/>\n       <use xlink:href=\"#DejaVuSans-30\" x=\"127.246094\"/>\n      </g>\n     </g>\n    </g>\n    <g id=\"ytick_4\">\n     <g id=\"line2d_11\">\n      <path d=\"M 80.113125 155.344793 \nL 638.113125 155.344793 \n\" clip-path=\"url(#p9cb19cc237)\" style=\"fill: none; stroke: #ffffff; stroke-linecap: round\"/>\n     </g>\n     <g id=\"text_12\">\n      <!-- 600 -->\n      <g style=\"fill: #262626\" transform=\"translate(39.11875 161.613504) scale(0.165 -0.165)\">\n       <defs>\n        <path id=\"DejaVuSans-36\" d=\"M 2113 2584 \nQ 1688 2584 1439 2293 \nQ 1191 2003 1191 1497 \nQ 1191 994 1439 701 \nQ 1688 409 2113 409 \nQ 2538 409 2786 701 \nQ 3034 994 3034 1497 \nQ 3034 2003 2786 2293 \nQ 2538 2584 2113 2584 \nz\nM 3366 4563 \nL 3366 3988 \nQ 3128 4100 2886 4159 \nQ 2644 4219 2406 4219 \nQ 1781 4219 1451 3797 \nQ 1122 3375 1075 2522 \nQ 1259 2794 1537 2939 \nQ 1816 3084 2150 3084 \nQ 2853 3084 3261 2657 \nQ 3669 2231 3669 1497 \nQ 3669 778 3244 343 \nQ 2819 -91 2113 -91 \nQ 1303 -91 875 529 \nQ 447 1150 447 2328 \nQ 447 3434 972 4092 \nQ 1497 4750 2381 4750 \nQ 2619 4750 2861 4703 \nQ 3103 4656 3366 4563 \nz\n\" transform=\"scale(0.015625)\"/>\n       </defs>\n       <use xlink:href=\"#DejaVuSans-36\"/>\n       <use xlink:href=\"#DejaVuSans-30\" x=\"63.623047\"/>\n       <use xlink:href=\"#DejaVuSans-30\" x=\"127.246094\"/>\n      </g>\n     </g>\n    </g>\n    <g id=\"ytick_5\">\n     <g id=\"line2d_12\">\n      <path d=\"M 80.113125 105.767328 \nL 638.113125 105.767328 \n\" clip-path=\"url(#p9cb19cc237)\" style=\"fill: none; stroke: #ffffff; stroke-linecap: round\"/>\n     </g>\n     <g id=\"text_13\">\n      <!-- 800 -->\n      <g style=\"fill: #262626\" transform=\"translate(39.11875 112.036039) scale(0.165 -0.165)\">\n       <defs>\n        <path id=\"DejaVuSans-38\" d=\"M 2034 2216 \nQ 1584 2216 1326 1975 \nQ 1069 1734 1069 1313 \nQ 1069 891 1326 650 \nQ 1584 409 2034 409 \nQ 2484 409 2743 651 \nQ 3003 894 3003 1313 \nQ 3003 1734 2745 1975 \nQ 2488 2216 2034 2216 \nz\nM 1403 2484 \nQ 997 2584 770 2862 \nQ 544 3141 544 3541 \nQ 544 4100 942 4425 \nQ 1341 4750 2034 4750 \nQ 2731 4750 3128 4425 \nQ 3525 4100 3525 3541 \nQ 3525 3141 3298 2862 \nQ 3072 2584 2669 2484 \nQ 3125 2378 3379 2068 \nQ 3634 1759 3634 1313 \nQ 3634 634 3220 271 \nQ 2806 -91 2034 -91 \nQ 1263 -91 848 271 \nQ 434 634 434 1313 \nQ 434 1759 690 2068 \nQ 947 2378 1403 2484 \nz\nM 1172 3481 \nQ 1172 3119 1398 2916 \nQ 1625 2713 2034 2713 \nQ 2441 2713 2670 2916 \nQ 2900 3119 2900 3481 \nQ 2900 3844 2670 4047 \nQ 2441 4250 2034 4250 \nQ 1625 4250 1398 4047 \nQ 1172 3844 1172 3481 \nz\n\" transform=\"scale(0.015625)\"/>\n       </defs>\n       <use xlink:href=\"#DejaVuSans-38\"/>\n       <use xlink:href=\"#DejaVuSans-30\" x=\"63.623047\"/>\n       <use xlink:href=\"#DejaVuSans-30\" x=\"127.246094\"/>\n      </g>\n     </g>\n    </g>\n    <g id=\"ytick_6\">\n     <g id=\"line2d_13\">\n      <path d=\"M 80.113125 56.189864 \nL 638.113125 56.189864 \n\" clip-path=\"url(#p9cb19cc237)\" style=\"fill: none; stroke: #ffffff; stroke-linecap: round\"/>\n     </g>\n     <g id=\"text_14\">\n      <!-- 1000 -->\n      <g style=\"fill: #262626\" transform=\"translate(28.620625 62.458574) scale(0.165 -0.165)\">\n       <use xlink:href=\"#DejaVuSans-31\"/>\n       <use xlink:href=\"#DejaVuSans-30\" x=\"63.623047\"/>\n       <use xlink:href=\"#DejaVuSans-30\" x=\"127.246094\"/>\n       <use xlink:href=\"#DejaVuSans-30\" x=\"190.869141\"/>\n      </g>\n     </g>\n    </g>\n    <g id=\"text_15\">\n     <!-- # of Samples -->\n     <g style=\"fill: #262626\" transform=\"translate(20.877187 225.850313) rotate(-90) scale(0.18 -0.18)\">\n      <defs>\n       <path id=\"DejaVuSans-23\" d=\"M 3272 2816 \nL 2363 2816 \nL 2100 1772 \nL 3016 1772 \nL 3272 2816 \nz\nM 2803 4594 \nL 2478 3297 \nL 3391 3297 \nL 3719 4594 \nL 4219 4594 \nL 3897 3297 \nL 4872 3297 \nL 4872 2816 \nL 3775 2816 \nL 3519 1772 \nL 4513 1772 \nL 4513 1294 \nL 3397 1294 \nL 3072 0 \nL 2572 0 \nL 2894 1294 \nL 1978 1294 \nL 1656 0 \nL 1153 0 \nL 1478 1294 \nL 494 1294 \nL 494 1772 \nL 1594 1772 \nL 1856 2816 \nL 850 2816 \nL 850 3297 \nL 1978 3297 \nL 2297 4594 \nL 2803 4594 \nz\n\" transform=\"scale(0.015625)\"/>\n       <path id=\"DejaVuSans-6f\" d=\"M 1959 3097 \nQ 1497 3097 1228 2736 \nQ 959 2375 959 1747 \nQ 959 1119 1226 758 \nQ 1494 397 1959 397 \nQ 2419 397 2687 759 \nQ 2956 1122 2956 1747 \nQ 2956 2369 2687 2733 \nQ 2419 3097 1959 3097 \nz\nM 1959 3584 \nQ 2709 3584 3137 3096 \nQ 3566 2609 3566 1747 \nQ 3566 888 3137 398 \nQ 2709 -91 1959 -91 \nQ 1206 -91 779 398 \nQ 353 888 353 1747 \nQ 353 2609 779 3096 \nQ 1206 3584 1959 3584 \nz\n\" transform=\"scale(0.015625)\"/>\n       <path id=\"DejaVuSans-66\" d=\"M 2375 4863 \nL 2375 4384 \nL 1825 4384 \nQ 1516 4384 1395 4259 \nQ 1275 4134 1275 3809 \nL 1275 3500 \nL 2222 3500 \nL 2222 3053 \nL 1275 3053 \nL 1275 0 \nL 697 0 \nL 697 3053 \nL 147 3053 \nL 147 3500 \nL 697 3500 \nL 697 3744 \nQ 697 4328 969 4595 \nQ 1241 4863 1831 4863 \nL 2375 4863 \nz\n\" transform=\"scale(0.015625)\"/>\n       <path id=\"DejaVuSans-61\" d=\"M 2194 1759 \nQ 1497 1759 1228 1600 \nQ 959 1441 959 1056 \nQ 959 750 1161 570 \nQ 1363 391 1709 391 \nQ 2188 391 2477 730 \nQ 2766 1069 2766 1631 \nL 2766 1759 \nL 2194 1759 \nz\nM 3341 1997 \nL 3341 0 \nL 2766 0 \nL 2766 531 \nQ 2569 213 2275 61 \nQ 1981 -91 1556 -91 \nQ 1019 -91 701 211 \nQ 384 513 384 1019 \nQ 384 1609 779 1909 \nQ 1175 2209 1959 2209 \nL 2766 2209 \nL 2766 2266 \nQ 2766 2663 2505 2880 \nQ 2244 3097 1772 3097 \nQ 1472 3097 1187 3025 \nQ 903 2953 641 2809 \nL 641 3341 \nQ 956 3463 1253 3523 \nQ 1550 3584 1831 3584 \nQ 2591 3584 2966 3190 \nQ 3341 2797 3341 1997 \nz\n\" transform=\"scale(0.015625)\"/>\n       <path id=\"DejaVuSans-6d\" d=\"M 3328 2828 \nQ 3544 3216 3844 3400 \nQ 4144 3584 4550 3584 \nQ 5097 3584 5394 3201 \nQ 5691 2819 5691 2113 \nL 5691 0 \nL 5113 0 \nL 5113 2094 \nQ 5113 2597 4934 2840 \nQ 4756 3084 4391 3084 \nQ 3944 3084 3684 2787 \nQ 3425 2491 3425 1978 \nL 3425 0 \nL 2847 0 \nL 2847 2094 \nQ 2847 2600 2669 2842 \nQ 2491 3084 2119 3084 \nQ 1678 3084 1418 2786 \nQ 1159 2488 1159 1978 \nL 1159 0 \nL 581 0 \nL 581 3500 \nL 1159 3500 \nL 1159 2956 \nQ 1356 3278 1631 3431 \nQ 1906 3584 2284 3584 \nQ 2666 3584 2933 3390 \nQ 3200 3197 3328 2828 \nz\n\" transform=\"scale(0.015625)\"/>\n       <path id=\"DejaVuSans-70\" d=\"M 1159 525 \nL 1159 -1331 \nL 581 -1331 \nL 581 3500 \nL 1159 3500 \nL 1159 2969 \nQ 1341 3281 1617 3432 \nQ 1894 3584 2278 3584 \nQ 2916 3584 3314 3078 \nQ 3713 2572 3713 1747 \nQ 3713 922 3314 415 \nQ 2916 -91 2278 -91 \nQ 1894 -91 1617 61 \nQ 1341 213 1159 525 \nz\nM 3116 1747 \nQ 3116 2381 2855 2742 \nQ 2594 3103 2138 3103 \nQ 1681 3103 1420 2742 \nQ 1159 2381 1159 1747 \nQ 1159 1113 1420 752 \nQ 1681 391 2138 391 \nQ 2594 391 2855 752 \nQ 3116 1113 3116 1747 \nz\n\" transform=\"scale(0.015625)\"/>\n       <path id=\"DejaVuSans-6c\" d=\"M 603 4863 \nL 1178 4863 \nL 1178 0 \nL 603 0 \nL 603 4863 \nz\n\" transform=\"scale(0.015625)\"/>\n       <path id=\"DejaVuSans-73\" d=\"M 2834 3397 \nL 2834 2853 \nQ 2591 2978 2328 3040 \nQ 2066 3103 1784 3103 \nQ 1356 3103 1142 2972 \nQ 928 2841 928 2578 \nQ 928 2378 1081 2264 \nQ 1234 2150 1697 2047 \nL 1894 2003 \nQ 2506 1872 2764 1633 \nQ 3022 1394 3022 966 \nQ 3022 478 2636 193 \nQ 2250 -91 1575 -91 \nQ 1294 -91 989 -36 \nQ 684 19 347 128 \nL 347 722 \nQ 666 556 975 473 \nQ 1284 391 1588 391 \nQ 1994 391 2212 530 \nQ 2431 669 2431 922 \nQ 2431 1156 2273 1281 \nQ 2116 1406 1581 1522 \nL 1381 1569 \nQ 847 1681 609 1914 \nQ 372 2147 372 2553 \nQ 372 3047 722 3315 \nQ 1072 3584 1716 3584 \nQ 2034 3584 2315 3537 \nQ 2597 3491 2834 3397 \nz\n\" transform=\"scale(0.015625)\"/>\n      </defs>\n      <use xlink:href=\"#DejaVuSans-23\"/>\n      <use xlink:href=\"#DejaVuSans-20\" x=\"83.789062\"/>\n      <use xlink:href=\"#DejaVuSans-6f\" x=\"115.576172\"/>\n      <use xlink:href=\"#DejaVuSans-66\" x=\"176.757812\"/>\n      <use xlink:href=\"#DejaVuSans-20\" x=\"211.962891\"/>\n      <use xlink:href=\"#DejaVuSans-53\" x=\"243.75\"/>\n      <use xlink:href=\"#DejaVuSans-61\" x=\"307.226562\"/>\n      <use xlink:href=\"#DejaVuSans-6d\" x=\"368.505859\"/>\n      <use xlink:href=\"#DejaVuSans-70\" x=\"465.917969\"/>\n      <use xlink:href=\"#DejaVuSans-6c\" x=\"529.394531\"/>\n      <use xlink:href=\"#DejaVuSans-65\" x=\"557.177734\"/>\n      <use xlink:href=\"#DejaVuSans-73\" x=\"618.701172\"/>\n     </g>\n    </g>\n   </g>\n   <g id=\"patch_3\">\n    <path d=\"M 105.476761 304.077188 \nL 115.622216 304.077188 \nL 115.622216 226.488455 \nL 105.476761 226.488455 \nz\n\" clip-path=\"url(#p9cb19cc237)\" style=\"fill: #4c72b0; opacity: 0.4; stroke: #ffffff; stroke-linejoin: miter\"/>\n   </g>\n   <g id=\"patch_4\">\n    <path d=\"M 115.622216 304.077188 \nL 125.76767 304.077188 \nL 125.76767 117.170145 \nL 115.622216 117.170145 \nz\n\" clip-path=\"url(#p9cb19cc237)\" style=\"fill: #4c72b0; opacity: 0.4; stroke: #ffffff; stroke-linejoin: miter\"/>\n   </g>\n   <g id=\"patch_5\">\n    <path d=\"M 125.76767 304.077188 \nL 135.913125 304.077188 \nL 135.913125 40.077187 \nL 125.76767 40.077187 \nz\n\" clip-path=\"url(#p9cb19cc237)\" style=\"fill: #4c72b0; opacity: 0.4; stroke: #ffffff; stroke-linejoin: miter\"/>\n   </g>\n   <g id=\"patch_6\">\n    <path d=\"M 135.913125 304.077188 \nL 146.05858 304.077188 \nL 146.05858 56.189864 \nL 135.913125 56.189864 \nz\n\" clip-path=\"url(#p9cb19cc237)\" style=\"fill: #4c72b0; opacity: 0.4; stroke: #ffffff; stroke-linejoin: miter\"/>\n   </g>\n   <g id=\"patch_7\">\n    <path d=\"M 146.05858 304.077188 \nL 156.204034 304.077188 \nL 156.204034 52.471554 \nL 146.05858 52.471554 \nz\n\" clip-path=\"url(#p9cb19cc237)\" style=\"fill: #4c72b0; opacity: 0.4; stroke: #ffffff; stroke-linejoin: miter\"/>\n   </g>\n   <g id=\"patch_8\">\n    <path d=\"M 156.204034 304.077188 \nL 166.349489 304.077188 \nL 166.349489 63.378596 \nL 156.204034 63.378596 \nz\n\" clip-path=\"url(#p9cb19cc237)\" style=\"fill: #4c72b0; opacity: 0.4; stroke: #ffffff; stroke-linejoin: miter\"/>\n   </g>\n   <g id=\"patch_9\">\n    <path d=\"M 166.349489 304.077188 \nL 176.494943 304.077188 \nL 176.494943 100.561695 \nL 166.349489 100.561695 \nz\n\" clip-path=\"url(#p9cb19cc237)\" style=\"fill: #4c72b0; opacity: 0.4; stroke: #ffffff; stroke-linejoin: miter\"/>\n   </g>\n   <g id=\"patch_10\">\n    <path d=\"M 176.494943 304.077188 \nL 186.640398 304.077188 \nL 186.640398 116.426483 \nL 176.494943 116.426483 \nz\n\" clip-path=\"url(#p9cb19cc237)\" style=\"fill: #4c72b0; opacity: 0.4; stroke: #ffffff; stroke-linejoin: miter\"/>\n   </g>\n   <g id=\"patch_11\">\n    <path d=\"M 186.640398 304.077188 \nL 196.785852 304.077188 \nL 196.785852 138.240568 \nL 186.640398 138.240568 \nz\n\" clip-path=\"url(#p9cb19cc237)\" style=\"fill: #4c72b0; opacity: 0.4; stroke: #ffffff; stroke-linejoin: miter\"/>\n   </g>\n   <g id=\"patch_12\">\n    <path d=\"M 196.785852 304.077188 \nL 206.931307 304.077188 \nL 206.931307 143.198314 \nL 196.785852 143.198314 \nz\n\" clip-path=\"url(#p9cb19cc237)\" style=\"fill: #4c72b0; opacity: 0.4; stroke: #ffffff; stroke-linejoin: miter\"/>\n   </g>\n   <g id=\"patch_13\">\n    <path d=\"M 206.931307 304.077188 \nL 217.076761 304.077188 \nL 217.076761 135.26592 \nL 206.931307 135.26592 \nz\n\" clip-path=\"url(#p9cb19cc237)\" style=\"fill: #4c72b0; opacity: 0.4; stroke: #ffffff; stroke-linejoin: miter\"/>\n   </g>\n   <g id=\"patch_14\">\n    <path d=\"M 217.076761 304.077188 \nL 227.222216 304.077188 \nL 227.222216 167.491272 \nL 217.076761 167.491272 \nz\n\" clip-path=\"url(#p9cb19cc237)\" style=\"fill: #4c72b0; opacity: 0.4; stroke: #ffffff; stroke-linejoin: miter\"/>\n   </g>\n   <g id=\"patch_15\">\n    <path d=\"M 227.222216 304.077188 \nL 237.36767 304.077188 \nL 237.36767 224.257469 \nL 227.222216 224.257469 \nz\n\" clip-path=\"url(#p9cb19cc237)\" style=\"fill: #4c72b0; opacity: 0.4; stroke: #ffffff; stroke-linejoin: miter\"/>\n   </g>\n   <g id=\"patch_16\">\n    <path d=\"M 237.36767 304.077188 \nL 247.513125 304.077188 \nL 247.513125 266.894089 \nL 237.36767 266.894089 \nz\n\" clip-path=\"url(#p9cb19cc237)\" style=\"fill: #4c72b0; opacity: 0.4; stroke: #ffffff; stroke-linejoin: miter\"/>\n   </g>\n   <g id=\"patch_17\">\n    <path d=\"M 247.513125 304.077188 \nL 257.65858 304.077188 \nL 257.65858 285.485638 \nL 247.513125 285.485638 \nz\n\" clip-path=\"url(#p9cb19cc237)\" style=\"fill: #4c72b0; opacity: 0.4; stroke: #ffffff; stroke-linejoin: miter\"/>\n   </g>\n   <g id=\"patch_18\">\n    <path d=\"M 257.65858 304.077188 \nL 267.804034 304.077188 \nL 267.804034 293.418033 \nL 257.65858 293.418033 \nz\n\" clip-path=\"url(#p9cb19cc237)\" style=\"fill: #4c72b0; opacity: 0.4; stroke: #ffffff; stroke-linejoin: miter\"/>\n   </g>\n   <g id=\"patch_19\">\n    <path d=\"M 267.804034 304.077188 \nL 277.949489 304.077188 \nL 277.949489 297.38423 \nL 267.804034 297.38423 \nz\n\" clip-path=\"url(#p9cb19cc237)\" style=\"fill: #4c72b0; opacity: 0.4; stroke: #ffffff; stroke-linejoin: miter\"/>\n   </g>\n   <g id=\"patch_20\">\n    <path d=\"M 277.949489 304.077188 \nL 288.094943 304.077188 \nL 288.094943 300.854652 \nL 277.949489 300.854652 \nz\n\" clip-path=\"url(#p9cb19cc237)\" style=\"fill: #4c72b0; opacity: 0.4; stroke: #ffffff; stroke-linejoin: miter\"/>\n   </g>\n   <g id=\"patch_21\">\n    <path d=\"M 288.094943 304.077188 \nL 298.240398 304.077188 \nL 298.240398 300.854652 \nL 288.094943 300.854652 \nz\n\" clip-path=\"url(#p9cb19cc237)\" style=\"fill: #4c72b0; opacity: 0.4; stroke: #ffffff; stroke-linejoin: miter\"/>\n   </g>\n   <g id=\"patch_22\">\n    <path d=\"M 298.240398 304.077188 \nL 308.385852 304.077188 \nL 308.385852 303.085638 \nL 298.240398 303.085638 \nz\n\" clip-path=\"url(#p9cb19cc237)\" style=\"fill: #4c72b0; opacity: 0.4; stroke: #ffffff; stroke-linejoin: miter\"/>\n   </g>\n   <g id=\"patch_23\">\n    <path d=\"M 308.385852 304.077188 \nL 318.531307 304.077188 \nL 318.531307 303.085638 \nL 308.385852 303.085638 \nz\n\" clip-path=\"url(#p9cb19cc237)\" style=\"fill: #4c72b0; opacity: 0.4; stroke: #ffffff; stroke-linejoin: miter\"/>\n   </g>\n   <g id=\"patch_24\">\n    <path d=\"M 318.531307 304.077188 \nL 328.676761 304.077188 \nL 328.676761 303.085638 \nL 318.531307 303.085638 \nz\n\" clip-path=\"url(#p9cb19cc237)\" style=\"fill: #4c72b0; opacity: 0.4; stroke: #ffffff; stroke-linejoin: miter\"/>\n   </g>\n   <g id=\"patch_25\">\n    <path d=\"M 328.676761 304.077188 \nL 338.822216 304.077188 \nL 338.822216 303.085638 \nL 328.676761 303.085638 \nz\n\" clip-path=\"url(#p9cb19cc237)\" style=\"fill: #4c72b0; opacity: 0.4; stroke: #ffffff; stroke-linejoin: miter\"/>\n   </g>\n   <g id=\"patch_26\">\n    <path d=\"M 338.822216 304.077188 \nL 348.96767 304.077188 \nL 348.96767 303.085638 \nL 338.822216 303.085638 \nz\n\" clip-path=\"url(#p9cb19cc237)\" style=\"fill: #4c72b0; opacity: 0.4; stroke: #ffffff; stroke-linejoin: miter\"/>\n   </g>\n   <g id=\"patch_27\">\n    <path d=\"M 348.96767 304.077188 \nL 359.113125 304.077188 \nL 359.113125 303.581413 \nL 348.96767 303.581413 \nz\n\" clip-path=\"url(#p9cb19cc237)\" style=\"fill: #4c72b0; opacity: 0.4; stroke: #ffffff; stroke-linejoin: miter\"/>\n   </g>\n   <g id=\"patch_28\">\n    <path d=\"M 359.113125 304.077188 \nL 369.25858 304.077188 \nL 369.25858 303.8293 \nL 359.113125 303.8293 \nz\n\" clip-path=\"url(#p9cb19cc237)\" style=\"fill: #4c72b0; opacity: 0.4; stroke: #ffffff; stroke-linejoin: miter\"/>\n   </g>\n   <g id=\"patch_29\">\n    <path d=\"M 369.25858 304.077188 \nL 379.404034 304.077188 \nL 379.404034 303.581413 \nL 369.25858 303.581413 \nz\n\" clip-path=\"url(#p9cb19cc237)\" style=\"fill: #4c72b0; opacity: 0.4; stroke: #ffffff; stroke-linejoin: miter\"/>\n   </g>\n   <g id=\"patch_30\">\n    <path d=\"M 379.404034 304.077188 \nL 389.549489 304.077188 \nL 389.549489 303.8293 \nL 379.404034 303.8293 \nz\n\" clip-path=\"url(#p9cb19cc237)\" style=\"fill: #4c72b0; opacity: 0.4; stroke: #ffffff; stroke-linejoin: miter\"/>\n   </g>\n   <g id=\"patch_31\">\n    <path d=\"M 389.549489 304.077188 \nL 399.694943 304.077188 \nL 399.694943 303.581413 \nL 389.549489 303.581413 \nz\n\" clip-path=\"url(#p9cb19cc237)\" style=\"fill: #4c72b0; opacity: 0.4; stroke: #ffffff; stroke-linejoin: miter\"/>\n   </g>\n   <g id=\"patch_32\">\n    <path d=\"M 399.694943 304.077188 \nL 409.840398 304.077188 \nL 409.840398 303.8293 \nL 399.694943 303.8293 \nz\n\" clip-path=\"url(#p9cb19cc237)\" style=\"fill: #4c72b0; opacity: 0.4; stroke: #ffffff; stroke-linejoin: miter\"/>\n   </g>\n   <g id=\"patch_33\">\n    <path d=\"M 409.840398 304.077188 \nL 419.985852 304.077188 \nL 419.985852 303.581413 \nL 409.840398 303.581413 \nz\n\" clip-path=\"url(#p9cb19cc237)\" style=\"fill: #4c72b0; opacity: 0.4; stroke: #ffffff; stroke-linejoin: miter\"/>\n   </g>\n   <g id=\"patch_34\">\n    <path d=\"M 419.985852 304.077188 \nL 430.131307 304.077188 \nL 430.131307 304.077188 \nL 419.985852 304.077188 \nz\n\" clip-path=\"url(#p9cb19cc237)\" style=\"fill: #4c72b0; opacity: 0.4; stroke: #ffffff; stroke-linejoin: miter\"/>\n   </g>\n   <g id=\"patch_35\">\n    <path d=\"M 430.131307 304.077188 \nL 440.276761 304.077188 \nL 440.276761 303.8293 \nL 430.131307 303.8293 \nz\n\" clip-path=\"url(#p9cb19cc237)\" style=\"fill: #4c72b0; opacity: 0.4; stroke: #ffffff; stroke-linejoin: miter\"/>\n   </g>\n   <g id=\"patch_36\">\n    <path d=\"M 440.276761 304.077188 \nL 450.422216 304.077188 \nL 450.422216 304.077188 \nL 440.276761 304.077188 \nz\n\" clip-path=\"url(#p9cb19cc237)\" style=\"fill: #4c72b0; opacity: 0.4; stroke: #ffffff; stroke-linejoin: miter\"/>\n   </g>\n   <g id=\"patch_37\">\n    <path d=\"M 450.422216 304.077188 \nL 460.56767 304.077188 \nL 460.56767 303.8293 \nL 450.422216 303.8293 \nz\n\" clip-path=\"url(#p9cb19cc237)\" style=\"fill: #4c72b0; opacity: 0.4; stroke: #ffffff; stroke-linejoin: miter\"/>\n   </g>\n   <g id=\"patch_38\">\n    <path d=\"M 460.56767 304.077188 \nL 470.713125 304.077188 \nL 470.713125 303.8293 \nL 460.56767 303.8293 \nz\n\" clip-path=\"url(#p9cb19cc237)\" style=\"fill: #4c72b0; opacity: 0.4; stroke: #ffffff; stroke-linejoin: miter\"/>\n   </g>\n   <g id=\"patch_39\">\n    <path d=\"M 470.713125 304.077188 \nL 480.85858 304.077188 \nL 480.85858 304.077188 \nL 470.713125 304.077188 \nz\n\" clip-path=\"url(#p9cb19cc237)\" style=\"fill: #4c72b0; opacity: 0.4; stroke: #ffffff; stroke-linejoin: miter\"/>\n   </g>\n   <g id=\"patch_40\">\n    <path d=\"M 480.85858 304.077188 \nL 491.004034 304.077188 \nL 491.004034 304.077188 \nL 480.85858 304.077188 \nz\n\" clip-path=\"url(#p9cb19cc237)\" style=\"fill: #4c72b0; opacity: 0.4; stroke: #ffffff; stroke-linejoin: miter\"/>\n   </g>\n   <g id=\"patch_41\">\n    <path d=\"M 491.004034 304.077188 \nL 501.149489 304.077188 \nL 501.149489 304.077188 \nL 491.004034 304.077188 \nz\n\" clip-path=\"url(#p9cb19cc237)\" style=\"fill: #4c72b0; opacity: 0.4; stroke: #ffffff; stroke-linejoin: miter\"/>\n   </g>\n   <g id=\"patch_42\">\n    <path d=\"M 501.149489 304.077188 \nL 511.294943 304.077188 \nL 511.294943 304.077188 \nL 501.149489 304.077188 \nz\n\" clip-path=\"url(#p9cb19cc237)\" style=\"fill: #4c72b0; opacity: 0.4; stroke: #ffffff; stroke-linejoin: miter\"/>\n   </g>\n   <g id=\"patch_43\">\n    <path d=\"M 511.294943 304.077188 \nL 521.440398 304.077188 \nL 521.440398 304.077188 \nL 511.294943 304.077188 \nz\n\" clip-path=\"url(#p9cb19cc237)\" style=\"fill: #4c72b0; opacity: 0.4; stroke: #ffffff; stroke-linejoin: miter\"/>\n   </g>\n   <g id=\"patch_44\">\n    <path d=\"M 521.440398 304.077188 \nL 531.585852 304.077188 \nL 531.585852 304.077188 \nL 521.440398 304.077188 \nz\n\" clip-path=\"url(#p9cb19cc237)\" style=\"fill: #4c72b0; opacity: 0.4; stroke: #ffffff; stroke-linejoin: miter\"/>\n   </g>\n   <g id=\"patch_45\">\n    <path d=\"M 531.585852 304.077188 \nL 541.731307 304.077188 \nL 541.731307 303.8293 \nL 531.585852 303.8293 \nz\n\" clip-path=\"url(#p9cb19cc237)\" style=\"fill: #4c72b0; opacity: 0.4; stroke: #ffffff; stroke-linejoin: miter\"/>\n   </g>\n   <g id=\"patch_46\">\n    <path d=\"M 541.731307 304.077188 \nL 551.876761 304.077188 \nL 551.876761 303.8293 \nL 541.731307 303.8293 \nz\n\" clip-path=\"url(#p9cb19cc237)\" style=\"fill: #4c72b0; opacity: 0.4; stroke: #ffffff; stroke-linejoin: miter\"/>\n   </g>\n   <g id=\"patch_47\">\n    <path d=\"M 551.876761 304.077188 \nL 562.022216 304.077188 \nL 562.022216 304.077188 \nL 551.876761 304.077188 \nz\n\" clip-path=\"url(#p9cb19cc237)\" style=\"fill: #4c72b0; opacity: 0.4; stroke: #ffffff; stroke-linejoin: miter\"/>\n   </g>\n   <g id=\"patch_48\">\n    <path d=\"M 562.022216 304.077188 \nL 572.16767 304.077188 \nL 572.16767 304.077188 \nL 562.022216 304.077188 \nz\n\" clip-path=\"url(#p9cb19cc237)\" style=\"fill: #4c72b0; opacity: 0.4; stroke: #ffffff; stroke-linejoin: miter\"/>\n   </g>\n   <g id=\"patch_49\">\n    <path d=\"M 572.16767 304.077188 \nL 582.313125 304.077188 \nL 582.313125 304.077188 \nL 572.16767 304.077188 \nz\n\" clip-path=\"url(#p9cb19cc237)\" style=\"fill: #4c72b0; opacity: 0.4; stroke: #ffffff; stroke-linejoin: miter\"/>\n   </g>\n   <g id=\"patch_50\">\n    <path d=\"M 582.313125 304.077188 \nL 592.45858 304.077188 \nL 592.45858 304.077188 \nL 582.313125 304.077188 \nz\n\" clip-path=\"url(#p9cb19cc237)\" style=\"fill: #4c72b0; opacity: 0.4; stroke: #ffffff; stroke-linejoin: miter\"/>\n   </g>\n   <g id=\"patch_51\">\n    <path d=\"M 592.45858 304.077188 \nL 602.604034 304.077188 \nL 602.604034 304.077188 \nL 592.45858 304.077188 \nz\n\" clip-path=\"url(#p9cb19cc237)\" style=\"fill: #4c72b0; opacity: 0.4; stroke: #ffffff; stroke-linejoin: miter\"/>\n   </g>\n   <g id=\"patch_52\">\n    <path d=\"M 602.604034 304.077188 \nL 612.749489 304.077188 \nL 612.749489 303.8293 \nL 602.604034 303.8293 \nz\n\" clip-path=\"url(#p9cb19cc237)\" style=\"fill: #4c72b0; opacity: 0.4; stroke: #ffffff; stroke-linejoin: miter\"/>\n   </g>\n   <g id=\"patch_53\">\n    <path d=\"M 80.113125 304.077188 \nL 80.113125 26.877187 \n\" style=\"fill: none; stroke: #ffffff; stroke-width: 1.25; stroke-linejoin: miter; stroke-linecap: square\"/>\n   </g>\n   <g id=\"patch_54\">\n    <path d=\"M 638.113125 304.077188 \nL 638.113125 26.877187 \n\" style=\"fill: none; stroke: #ffffff; stroke-width: 1.25; stroke-linejoin: miter; stroke-linecap: square\"/>\n   </g>\n   <g id=\"patch_55\">\n    <path d=\"M 80.113125 304.077188 \nL 638.113125 304.077188 \n\" style=\"fill: none; stroke: #ffffff; stroke-width: 1.25; stroke-linejoin: miter; stroke-linecap: square\"/>\n   </g>\n   <g id=\"patch_56\">\n    <path d=\"M 80.113125 26.877187 \nL 638.113125 26.877187 \n\" style=\"fill: none; stroke: #ffffff; stroke-width: 1.25; stroke-linejoin: miter; stroke-linecap: square\"/>\n   </g>\n   <g id=\"text_16\">\n    <!-- Distribution of Sequence Lengths -->\n    <g style=\"fill: #262626\" transform=\"translate(209.22375 20.877187) scale(0.18 -0.18)\">\n     <defs>\n      <path id=\"DejaVuSans-44\" d=\"M 1259 4147 \nL 1259 519 \nL 2022 519 \nQ 2988 519 3436 956 \nQ 3884 1394 3884 2338 \nQ 3884 3275 3436 3711 \nQ 2988 4147 2022 4147 \nL 1259 4147 \nz\nM 628 4666 \nL 1925 4666 \nQ 3281 4666 3915 4102 \nQ 4550 3538 4550 2338 \nQ 4550 1131 3912 565 \nQ 3275 0 1925 0 \nL 628 0 \nL 628 4666 \nz\n\" transform=\"scale(0.015625)\"/>\n      <path id=\"DejaVuSans-69\" d=\"M 603 3500 \nL 1178 3500 \nL 1178 0 \nL 603 0 \nL 603 3500 \nz\nM 603 4863 \nL 1178 4863 \nL 1178 4134 \nL 603 4134 \nL 603 4863 \nz\n\" transform=\"scale(0.015625)\"/>\n      <path id=\"DejaVuSans-72\" d=\"M 2631 2963 \nQ 2534 3019 2420 3045 \nQ 2306 3072 2169 3072 \nQ 1681 3072 1420 2755 \nQ 1159 2438 1159 1844 \nL 1159 0 \nL 581 0 \nL 581 3500 \nL 1159 3500 \nL 1159 2956 \nQ 1341 3275 1631 3429 \nQ 1922 3584 2338 3584 \nQ 2397 3584 2469 3576 \nQ 2541 3569 2628 3553 \nL 2631 2963 \nz\n\" transform=\"scale(0.015625)\"/>\n      <path id=\"DejaVuSans-62\" d=\"M 3116 1747 \nQ 3116 2381 2855 2742 \nQ 2594 3103 2138 3103 \nQ 1681 3103 1420 2742 \nQ 1159 2381 1159 1747 \nQ 1159 1113 1420 752 \nQ 1681 391 2138 391 \nQ 2594 391 2855 752 \nQ 3116 1113 3116 1747 \nz\nM 1159 2969 \nQ 1341 3281 1617 3432 \nQ 1894 3584 2278 3584 \nQ 2916 3584 3314 3078 \nQ 3713 2572 3713 1747 \nQ 3713 922 3314 415 \nQ 2916 -91 2278 -91 \nQ 1894 -91 1617 61 \nQ 1341 213 1159 525 \nL 1159 0 \nL 581 0 \nL 581 4863 \nL 1159 4863 \nL 1159 2969 \nz\n\" transform=\"scale(0.015625)\"/>\n     </defs>\n     <use xlink:href=\"#DejaVuSans-44\"/>\n     <use xlink:href=\"#DejaVuSans-69\" x=\"77.001953\"/>\n     <use xlink:href=\"#DejaVuSans-73\" x=\"104.785156\"/>\n     <use xlink:href=\"#DejaVuSans-74\" x=\"156.884766\"/>\n     <use xlink:href=\"#DejaVuSans-72\" x=\"196.09375\"/>\n     <use xlink:href=\"#DejaVuSans-69\" x=\"237.207031\"/>\n     <use xlink:href=\"#DejaVuSans-62\" x=\"264.990234\"/>\n     <use xlink:href=\"#DejaVuSans-75\" x=\"328.466797\"/>\n     <use xlink:href=\"#DejaVuSans-74\" x=\"391.845703\"/>\n     <use xlink:href=\"#DejaVuSans-69\" x=\"431.054688\"/>\n     <use xlink:href=\"#DejaVuSans-6f\" x=\"458.837891\"/>\n     <use xlink:href=\"#DejaVuSans-6e\" x=\"520.019531\"/>\n     <use xlink:href=\"#DejaVuSans-20\" x=\"583.398438\"/>\n     <use xlink:href=\"#DejaVuSans-6f\" x=\"615.185547\"/>\n     <use xlink:href=\"#DejaVuSans-66\" x=\"676.367188\"/>\n     <use xlink:href=\"#DejaVuSans-20\" x=\"711.572266\"/>\n     <use xlink:href=\"#DejaVuSans-53\" x=\"743.359375\"/>\n     <use xlink:href=\"#DejaVuSans-65\" x=\"806.835938\"/>\n     <use xlink:href=\"#DejaVuSans-71\" x=\"868.359375\"/>\n     <use xlink:href=\"#DejaVuSans-75\" x=\"931.835938\"/>\n     <use xlink:href=\"#DejaVuSans-65\" x=\"995.214844\"/>\n     <use xlink:href=\"#DejaVuSans-6e\" x=\"1056.738281\"/>\n     <use xlink:href=\"#DejaVuSans-63\" x=\"1120.117188\"/>\n     <use xlink:href=\"#DejaVuSans-65\" x=\"1175.097656\"/>\n     <use xlink:href=\"#DejaVuSans-20\" x=\"1236.621094\"/>\n     <use xlink:href=\"#DejaVuSans-4c\" x=\"1268.408203\"/>\n     <use xlink:href=\"#DejaVuSans-65\" x=\"1322.371094\"/>\n     <use xlink:href=\"#DejaVuSans-6e\" x=\"1383.894531\"/>\n     <use xlink:href=\"#DejaVuSans-67\" x=\"1447.273438\"/>\n     <use xlink:href=\"#DejaVuSans-74\" x=\"1510.75\"/>\n     <use xlink:href=\"#DejaVuSans-68\" x=\"1549.958984\"/>\n     <use xlink:href=\"#DejaVuSans-73\" x=\"1613.337891\"/>\n    </g>\n   </g>\n  </g>\n </g>\n <defs>\n  <clipPath id=\"p9cb19cc237\">\n   <rect x=\"80.113125\" y=\"26.877187\" width=\"558\" height=\"277.2\"/>\n  </clipPath>\n </defs>\n</svg>\n"
          },
          "metadata": {}
        }
      ],
      "source": [
        "# Look at the token distribution\n",
        "\n",
        "sns.set(style='darkgrid')\n",
        "\n",
        "# Increase the plot size and font size.\n",
        "sns.set(font_scale=1.5)\n",
        "plt.rcParams[\"figure.figsize\"] = (10,5)\n",
        "\n",
        "# Plot the distribution of comment lengths.\n",
        "sns.distplot(lengths_en, kde=False, rug=False)\n",
        "\n",
        "plt.title('Distribution of Sequence Lengths')\n",
        "plt.xlabel('Sequence Length')\n",
        "plt.ylabel('# of Samples')\n",
        "\n",
        "plt.show()"
      ]
    },
    {
      "cell_type": "code",
      "execution_count": null,
      "metadata": {
        "id": "5PriV5IcaLxz",
        "colab": {
          "base_uri": "https://localhost:8080/"
        },
        "outputId": "eaaee216-fcc2-4713-f244-268d8fb48939"
      },
      "outputs": [
        {
          "output_type": "stream",
          "name": "stdout",
          "text": [
            "30 of 9,926 sentences (0.3%) in the training set are longer than 128 tokens.\n"
          ]
        }
      ],
      "source": [
        "max_len = 128\n",
        "\n",
        "# Count the number of sequences that are longer than `max_len` tokens.\n",
        "num_truncated = np.sum(np.greater(lengths_en, max_len))\n",
        "\n",
        "# Compare this to the total number of training sentences.\n",
        "num_sentences = len(lengths_en)\n",
        "prcnt = float(num_truncated) / float(num_sentences)\n",
        "\n",
        "print('{:,} of {:,} sentences ({:.1%}) in the training set are longer than {:} tokens.'.format(num_truncated, num_sentences, prcnt, max_len))"
      ]
    },
    {
      "cell_type": "code",
      "execution_count": null,
      "metadata": {
        "id": "pCMcxNIkaOaj"
      },
      "outputs": [],
      "source": [
        "def tokenize(sentences, labels):\n",
        "  # Tokenize all of the sentences and map the tokens to thier word IDs.\n",
        "  input_ids = []\n",
        "  attention_masks = []\n",
        "\n",
        "  # For every sentence...\n",
        "  for sent in sentences:\n",
        "      # `encode_plus` will:\n",
        "      #   (1) Tokenize the sentence.\n",
        "      #   (2) Prepend the `[CLS]` token to the start.\n",
        "      #   (3) Append the `[SEP]` token to the end.\n",
        "      #   (4) Map tokens to their IDs.\n",
        "      #   (5) Pad or truncate the sentence to `max_length`\n",
        "      #   (6) Create attention masks for [PAD] tokens.\n",
        "      encoded_dict = tokenizer.encode_plus(\n",
        "                          sent,                      # Sentence to encode.\n",
        "                          add_special_tokens = True, # Add '[CLS]' and '[SEP]'\n",
        "                          max_length = max_len,           # Pad & truncate all sentences.\n",
        "                          pad_to_max_length = True,\n",
        "                          truncation_strategy='only_first',\n",
        "                          return_attention_mask = True,   # Construct attn. masks.\n",
        "                          return_tensors = 'pt',     # Return pytorch tensors.\n",
        "                    )\n",
        "\n",
        "      # Add the encoded sentence to the list.\n",
        "      input_ids.append(encoded_dict['input_ids'])\n",
        "\n",
        "      # And its attention mask (simply differentiates padding from non-padding).\n",
        "      attention_masks.append(encoded_dict['attention_mask'])\n",
        "\n",
        "  # Convert the lists into tensors.\n",
        "  input_ids = torch.cat(input_ids, dim=0)\n",
        "  attention_masks = torch.cat(attention_masks, dim=0)\n",
        "  labels = torch.tensor(labels)\n",
        "\n",
        "  # Print sentence 0, now as a list of IDs.\n",
        "  print('Original: ', sentences[0])\n",
        "  print('Token IDs:', input_ids[0])\n",
        "\n",
        "  return input_ids, attention_masks, labels"
      ]
    },
    {
      "cell_type": "code",
      "execution_count": null,
      "metadata": {
        "colab": {
          "base_uri": "https://localhost:8080/"
        },
        "id": "05nCHi9ObfvN",
        "outputId": "bd8a96e3-a3ae-4e7e-8fb6-e0bb931726a5"
      },
      "outputs": [
        {
          "output_type": "stream",
          "name": "stderr",
          "text": [
            "/usr/local/lib/python3.10/dist-packages/transformers/tokenization_utils_base.py:2377: FutureWarning: The `pad_to_max_length` argument is deprecated and will be removed in a future version, use `padding=True` or `padding='longest'` to pad to the longest sequence in the batch, or use `padding='max_length'` to pad to a max length. In this case, you can give a specific length with `max_length` (e.g. `max_length=45`) or leave max_length to None to pad to the maximal input size of the model (e.g. 512 for Bert).\n",
            "  warnings.warn(\n"
          ]
        },
        {
          "output_type": "stream",
          "name": "stdout",
          "text": [
            "Original:  Presiding officer captured all rejected ballot papers on form marked ‘ Rejected ' #KURIA EAST #MUTINITI\n",
            "Token IDs: tensor([     0,  20703,  86675,  93324, 141621,     71,    756,      6,  34590,\n",
            "         89829,  16446,    818,  15122,      7,     98,   3173,  94419,    204,\n",
            "           853,    236,  89829,    242,    468,  23458,  32410,    241,  48963,\n",
            "           468,  23330,  54390,  35522,      2,      1,      1,      1,      1,\n",
            "             1,      1,      1,      1,      1,      1,      1,      1,      1,\n",
            "             1,      1,      1,      1,      1,      1,      1,      1,      1,\n",
            "             1,      1,      1,      1,      1,      1,      1,      1,      1,\n",
            "             1,      1,      1,      1,      1,      1,      1,      1,      1,\n",
            "             1,      1,      1,      1,      1,      1,      1,      1,      1,\n",
            "             1,      1,      1,      1,      1,      1,      1,      1,      1,\n",
            "             1,      1,      1,      1,      1,      1,      1,      1,      1,\n",
            "             1,      1,      1,      1,      1,      1,      1,      1,      1,\n",
            "             1,      1,      1,      1,      1,      1,      1,      1,      1,\n",
            "             1,      1,      1,      1,      1,      1,      1,      1,      1,\n",
            "             1,      1])\n"
          ]
        }
      ],
      "source": [
        "train_input_ids, train_attention_masks, train_labels = tokenize(train_sentences, train_targets)"
      ]
    },
    {
      "cell_type": "code",
      "execution_count": null,
      "metadata": {
        "colab": {
          "base_uri": "https://localhost:8080/"
        },
        "id": "DyyDfG5Zbmcs",
        "outputId": "8503f6db-879c-4478-f4f1-978a3d72352b"
      },
      "outputs": [
        {
          "output_type": "stream",
          "name": "stdout",
          "text": [
            "Original:  Is comprehension a struggle for you ? What were those gadgets containing sensitive election information going to do at someone 's apartment instead of going straight to IEBC office . The problem with some of you is you 're not engaging your brains on this subject\n",
            "Token IDs: tensor([     0,   2071,  46683,   3220,   6889,     10, 151994,    100,    398,\n",
            "           705,   4865,   3542,   8382,  88100,      7,  70541,    214, 191125,\n",
            "         81843,   4677,   7730,     47,     54,     99,  22008,    242,      7,\n",
            "        127451,  64457,    111,   7730,  80560,     47,     87, 171408,  23179,\n",
            "             6,      5,    581,   2967,    678,   3060,    111,    398,     83,\n",
            "           398,    242,    107,    959,  44173,   9966,    935,  78574,      7,\n",
            "            98,    903,  28368,      2,      1,      1,      1,      1,      1,\n",
            "             1,      1,      1,      1,      1,      1,      1,      1,      1,\n",
            "             1,      1,      1,      1,      1,      1,      1,      1,      1,\n",
            "             1,      1,      1,      1,      1,      1,      1,      1,      1,\n",
            "             1,      1,      1,      1,      1,      1,      1,      1,      1,\n",
            "             1,      1,      1,      1,      1,      1,      1,      1,      1,\n",
            "             1,      1,      1,      1,      1,      1,      1,      1,      1,\n",
            "             1,      1,      1,      1,      1,      1,      1,      1,      1,\n",
            "             1,      1])\n"
          ]
        }
      ],
      "source": [
        "val_input_ids, val_attention_masks, val_labels = tokenize(val_sentences, val_targets)"
      ]
    },
    {
      "cell_type": "code",
      "execution_count": null,
      "metadata": {
        "colab": {
          "base_uri": "https://localhost:8080/"
        },
        "id": "NbLzPOQmbuha",
        "outputId": "25358e8c-2195-4cfc-ab15-1e6e4898bc7c"
      },
      "outputs": [
        {
          "output_type": "stream",
          "name": "stdout",
          "text": [
            "Original:  IEBC is already divided just like in 2017 . Marjan the CEO is saying things that are totally different from chebukati . When interviewed by journalists a lot of things came to light on how they are divided . We can't trace who stands to benefit from this division\n",
            "Token IDs: tensor([     0,     87, 171408,     83,  21771, 101637,     71,   1660,   1884,\n",
            "            23,    505,      6,      5,   1784,   2864,     70,  45733,     83,\n",
            "         54433,   8966,    450,    621, 112668,  12921,   1295,    290,  33426,\n",
            "           118,      6,      5,  14847,  33683,    297,    390,  32485,      7,\n",
            "            10,   5915,    111,   8966,  21449,     47,  22729,     98,   3642,\n",
            "          1836,    621, 101637,     71,      6,      5,   1401,    831,     25,\n",
            "            18, 144851,   2750,   9157,      7,     47,  68073,   1295,    903,\n",
            "         91853,      2,      1,      1,      1,      1,      1,      1,      1,\n",
            "             1,      1,      1,      1,      1,      1,      1,      1,      1,\n",
            "             1,      1,      1,      1,      1,      1,      1,      1,      1,\n",
            "             1,      1,      1,      1,      1,      1,      1,      1,      1,\n",
            "             1,      1,      1,      1,      1,      1,      1,      1,      1,\n",
            "             1,      1,      1,      1,      1,      1,      1,      1,      1,\n",
            "             1,      1,      1,      1,      1,      1,      1,      1,      1,\n",
            "             1,      1])\n"
          ]
        }
      ],
      "source": [
        "test_input_ids, test_attention_masks, test_labels = tokenize(test_sentences, test_targets)"
      ]
    },
    {
      "cell_type": "markdown",
      "source": [
        "## Create datasets and dataloaders"
      ],
      "metadata": {
        "id": "38Sd9LH5sB7H"
      }
    },
    {
      "cell_type": "code",
      "execution_count": null,
      "metadata": {
        "id": "o9hUZtPMb08L"
      },
      "outputs": [],
      "source": [
        "from torch.utils.data.dataset import TensorDataset\n",
        "train_dataset = TensorDataset(train_input_ids, train_attention_masks, train_labels)\n",
        "val_dataset = TensorDataset(val_input_ids, val_attention_masks, val_labels)\n",
        "test_dataset = TensorDataset(test_input_ids, test_attention_masks, test_labels)"
      ]
    },
    {
      "cell_type": "markdown",
      "source": [],
      "metadata": {
        "id": "QWAtKtfNOvxG"
      }
    },
    {
      "cell_type": "code",
      "execution_count": null,
      "metadata": {
        "id": "mAkf38-ab6ai"
      },
      "outputs": [],
      "source": [
        "from torch.utils.data import DataLoader, RandomSampler, SequentialSampler\n",
        "\n",
        "# The DataLoader needs to know our batch size for training, so we specify it\n",
        "# here. For fine-tuning BERT on a specific task, the authors recommend a batch\n",
        "# size of 16 or 32.\n",
        "batch_size = 32\n",
        "\n",
        "# Create the DataLoaders for our training and validation sets.\n",
        "# We'll take training samples in random order.\n",
        "train_dataloader = DataLoader(\n",
        "            train_dataset,  # The training samples.\n",
        "            sampler = RandomSampler(train_dataset), # Select batches randomly\n",
        "            batch_size = batch_size # Trains with this batch size.\n",
        "        )\n",
        "\n",
        "# For validation the order doesn't matter, so we'll just read them sequentially.\n",
        "val_dataloader = DataLoader(\n",
        "            val_dataset, # The validation samples.\n",
        "            sampler = SequentialSampler(val_dataset), # Pull out batches sequentially.\n",
        "            batch_size = batch_size # Evaluate with this batch size.\n",
        "        )\n",
        "\n",
        "# # For validation the order doesn't matter, so we'll just read them sequentially.\n",
        "test_dataloader = DataLoader(\n",
        "            test_dataset, # The validation samples.\n",
        "            sampler = SequentialSampler(test_dataset), # Pull out batches sequentially.\n",
        "            batch_size = batch_size # Evaluate with this batch size.\n",
        "        )"
      ]
    },
    {
      "cell_type": "code",
      "execution_count": null,
      "metadata": {
        "id": "bFFNieoucG5d"
      },
      "outputs": [],
      "source": [
        "labels = train_dataset[:][2].numpy()"
      ]
    },
    {
      "cell_type": "code",
      "execution_count": null,
      "metadata": {
        "id": "cRIgNPK4cLyb"
      },
      "outputs": [],
      "source": [
        "# Estimate the class weights to be used in the model training\n",
        "from sklearn.utils.class_weight import compute_class_weight\n",
        "\n",
        "class_weights = compute_class_weight('balanced', classes=np.unique(labels), y=labels)\n",
        "class_weights = torch.tensor(class_weights,dtype=torch.float)"
      ]
    },
    {
      "cell_type": "code",
      "execution_count": null,
      "metadata": {
        "colab": {
          "base_uri": "https://localhost:8080/"
        },
        "id": "bR96HlhPcOP-",
        "outputId": "357780a9-62b8-4e21-e161-6dc44c0c9cb7"
      },
      "outputs": [
        {
          "output_type": "stream",
          "name": "stdout",
          "text": [
            "{0: tensor(1.4537), 1: tensor(0.7621)}\n"
          ]
        }
      ],
      "source": [
        "weights={}\n",
        "for index, weight in enumerate(class_weights) :\n",
        "  weights[index]=weight\n",
        "\n",
        "print(weights)"
      ]
    },
    {
      "cell_type": "markdown",
      "source": [
        "## Initialise XLMRoberta models"
      ],
      "metadata": {
        "id": "gb8LCf6zsOly"
      }
    },
    {
      "cell_type": "code",
      "execution_count": null,
      "metadata": {
        "colab": {
          "base_uri": "https://localhost:8080/"
        },
        "id": "d3LMB8qXcQjK",
        "outputId": "b9eaf6b4-87b8-4e43-c77e-17a238ccd182"
      },
      "outputs": [
        {
          "output_type": "stream",
          "name": "stderr",
          "text": [
            "Some weights of the model checkpoint at xlm-roberta-base were not used when initializing XLMRobertaForSequenceClassification: ['lm_head.layer_norm.bias', 'lm_head.bias', 'roberta.pooler.dense.bias', 'lm_head.layer_norm.weight', 'lm_head.dense.weight', 'lm_head.dense.bias', 'roberta.pooler.dense.weight']\n",
            "- This IS expected if you are initializing XLMRobertaForSequenceClassification from the checkpoint of a model trained on another task or with another architecture (e.g. initializing a BertForSequenceClassification model from a BertForPreTraining model).\n",
            "- This IS NOT expected if you are initializing XLMRobertaForSequenceClassification from the checkpoint of a model that you expect to be exactly identical (initializing a BertForSequenceClassification model from a BertForSequenceClassification model).\n",
            "Some weights of XLMRobertaForSequenceClassification were not initialized from the model checkpoint at xlm-roberta-base and are newly initialized: ['classifier.out_proj.bias', 'classifier.dense.weight', 'classifier.dense.bias', 'classifier.out_proj.weight']\n",
            "You should probably TRAIN this model on a down-stream task to be able to use it for predictions and inference.\n"
          ]
        }
      ],
      "source": [
        "from transformers import XLMRobertaForSequenceClassification\n",
        "from transformers import AutoModelForSequenceClassification, AutoModel\n",
        "import torch\n",
        "\n",
        "xlmr_model = XLMRobertaForSequenceClassification.from_pretrained(\"xlm-roberta-base\", num_labels=2)\n",
        "\n",
        "for param in xlmr_model.parameters():\n",
        "    param.requires_grad = True"
      ]
    },
    {
      "cell_type": "code",
      "source": [
        "# Confirm whether all layers are trainable\n",
        "all(p.requires_grad for p in xlmr_model.parameters())"
      ],
      "metadata": {
        "colab": {
          "base_uri": "https://localhost:8080/"
        },
        "id": "e3yCiIuHewp1",
        "outputId": "7cd38c55-4ee4-4e4e-b7c5-c0bc5c359854"
      },
      "execution_count": null,
      "outputs": [
        {
          "output_type": "execute_result",
          "data": {
            "text/plain": [
              "True"
            ]
          },
          "metadata": {},
          "execution_count": 200
        }
      ]
    },
    {
      "cell_type": "code",
      "execution_count": null,
      "metadata": {
        "colab": {
          "base_uri": "https://localhost:8080/"
        },
        "id": "zqQt9FcvcT3F",
        "outputId": "a060338b-9b04-4595-e303-4deda31fd8f7"
      },
      "outputs": [
        {
          "output_type": "stream",
          "name": "stdout",
          "text": [
            "Loading model to GPU...\n",
            "  GPU: NVIDIA A100-SXM4-40GB\n",
            "DONE.\n"
          ]
        }
      ],
      "source": [
        "print('Loading model to GPU...')\n",
        "\n",
        "# Connect to the GPU.\n",
        "device = torch.device('cuda')\n",
        "\n",
        "# Report what GPU we were granted.\n",
        "print('  GPU:', torch.cuda.get_device_name(0))\n",
        "\n",
        "# Copy the initial model weights to the GPU.\n",
        "desc = xlmr_model.to(device)\n",
        "\n",
        "print('DONE.')"
      ]
    },
    {
      "cell_type": "code",
      "source": [
        "import time\n",
        "import datetime\n",
        "\n",
        "def format_time(elapsed):\n",
        "    '''\n",
        "    Takes a time in seconds and returns a string hh:mm:ss\n",
        "    '''\n",
        "    # Round to the nearest second.\n",
        "    elapsed_rounded = int(round((elapsed)))\n",
        "\n",
        "    # Format as hh:mm:ss\n",
        "    return str(datetime.timedelta(seconds=elapsed_rounded))\n",
        "\n",
        "\n",
        "def good_update_interval(total_iters, num_desired_updates):\n",
        "    '''\n",
        "    This function will try to pick an intelligent progress update interval\n",
        "    based on the magnitude of the total iterations.\n",
        "\n",
        "    Parameters:\n",
        "      `total_iters` - The number of iterations in the for-loop.\n",
        "      `num_desired_updates` - How many times we want to see an update over the\n",
        "                              course of the for-loop.\n",
        "    '''\n",
        "    # Divide the total iterations by the desired number of updates. Most likely\n",
        "    # this will be some ugly number.\n",
        "    exact_interval = total_iters / num_desired_updates\n",
        "\n",
        "    # The `round` function has the ability to round down a number to, e.g., the\n",
        "    # nearest thousandth: round(exact_interval, -3)\n",
        "    #\n",
        "    # To determine the magnitude to round to, find the magnitude of the total,\n",
        "    # and then go one magnitude below that.\n",
        "\n",
        "    # Get the order of magnitude of the total.\n",
        "    order_of_mag = len(str(total_iters)) - 1\n",
        "\n",
        "    # Our update interval should be rounded to an order of magnitude smaller.\n",
        "    round_mag = order_of_mag - 1\n",
        "\n",
        "    # Round down and cast to an int.\n",
        "    update_interval = int(round(exact_interval, -round_mag))\n",
        "\n",
        "    # Don't allow the interval to be zero!\n",
        "    if update_interval == 0:\n",
        "        update_interval = 1\n",
        "\n",
        "    return update_interval"
      ],
      "metadata": {
        "id": "cRSbEkwU0rxT"
      },
      "execution_count": null,
      "outputs": []
    },
    {
      "cell_type": "code",
      "source": [
        "# sentiment = ['negative', 'neutral', 'positive']\n",
        "# informative_train_data[sentiment] = train_data[sentiment].iloc[informative_train_data.index.values]\n",
        "# informative_test_data[sentiment] = test_data[sentiment].iloc[informative_test_data.index.values]\n",
        "# informative_val_data[sentiment] = val_data[sentiment].iloc[informative_val_data.index.values]"
      ],
      "metadata": {
        "id": "qDKpwLrToU_G"
      },
      "execution_count": null,
      "outputs": []
    },
    {
      "cell_type": "code",
      "source": [
        "from transformers import AdamW"
      ],
      "metadata": {
        "id": "NTgSvVObdtdg"
      },
      "execution_count": null,
      "outputs": []
    },
    {
      "cell_type": "code",
      "execution_count": null,
      "metadata": {
        "id": "OJELg7ZTccYU"
      },
      "outputs": [],
      "source": [
        "# Note: AdamW is a class from the huggingface library (as opposed to pytorch)\n",
        "# I believe the 'W' stands for 'Weight Decay fix\"\n",
        "optimizer = torch.optim.AdamW(xlmr_model.parameters(),\n",
        "                  lr = 1e-5, # args.learning_rate\n",
        "                )\n",
        "\n",
        "\n",
        "from transformers import get_linear_schedule_with_warmup\n",
        "\n",
        "# Number of training epochs.\n",
        "epochs = 2\n",
        "\n",
        "# Total number of training steps is [number of batches] x [number of epochs].\n",
        "# (Note that this is not the same as the number of training samples).\n",
        "total_steps = len(train_dataloader) * epochs\n",
        "\n",
        "# Create the learning rate scheduler.\n",
        "scheduler = get_linear_schedule_with_warmup(optimizer,\n",
        "                                            num_warmup_steps = 0,\n",
        "                                            num_training_steps = total_steps)"
      ]
    },
    {
      "cell_type": "code",
      "execution_count": null,
      "metadata": {
        "colab": {
          "base_uri": "https://localhost:8080/"
        },
        "id": "TfYsoFZFcmem",
        "outputId": "62b3e0f3-c713-41df-d5c2-9cf12a9a2b11"
      },
      "outputs": [
        {
          "output_type": "stream",
          "name": "stdout",
          "text": [
            "\n",
            "======== Epoch 1 / 2 ========\n",
            "Training...\n",
            "  Batch    30  of    311.    Elapsed: 0:00:05.\n",
            "  Batch    60  of    311.    Elapsed: 0:00:11.\n",
            "  Batch    90  of    311.    Elapsed: 0:00:16.\n",
            "  Batch   120  of    311.    Elapsed: 0:00:21.\n",
            "  Batch   150  of    311.    Elapsed: 0:00:27.\n",
            "  Batch   180  of    311.    Elapsed: 0:00:32.\n",
            "  Batch   210  of    311.    Elapsed: 0:00:37.\n",
            "  Batch   240  of    311.    Elapsed: 0:00:42.\n",
            "  Batch   270  of    311.    Elapsed: 0:00:48.\n",
            "  Batch   300  of    311.    Elapsed: 0:00:53.\n",
            "\n",
            "  Average training loss: 0.58\n",
            "  Training epoch took: 0:00:55\n",
            "\n",
            "Running Validation...\n",
            "  Accuracy: 0.76\n",
            "  Validation Loss: 0.53\n",
            "  Validation took: 0:00:02\n",
            "\n",
            "======== Epoch 2 / 2 ========\n",
            "Training...\n",
            "  Batch    30  of    311.    Elapsed: 0:00:05.\n",
            "  Batch    60  of    311.    Elapsed: 0:00:11.\n",
            "  Batch    90  of    311.    Elapsed: 0:00:16.\n",
            "  Batch   120  of    311.    Elapsed: 0:00:21.\n",
            "  Batch   150  of    311.    Elapsed: 0:00:26.\n",
            "  Batch   180  of    311.    Elapsed: 0:00:32.\n",
            "  Batch   210  of    311.    Elapsed: 0:00:37.\n",
            "  Batch   240  of    311.    Elapsed: 0:00:42.\n",
            "  Batch   270  of    311.    Elapsed: 0:00:48.\n",
            "  Batch   300  of    311.    Elapsed: 0:00:53.\n",
            "\n",
            "  Average training loss: 0.50\n",
            "  Training epoch took: 0:00:55\n",
            "\n",
            "Running Validation...\n",
            "  Accuracy: 0.77\n",
            "  Validation Loss: 0.51\n",
            "  Validation took: 0:00:02\n",
            "\n",
            "Training complete!\n",
            "Total training took 0:01:54 (h:mm:ss)\n"
          ]
        }
      ],
      "source": [
        "import random\n",
        "import numpy as np\n",
        "\n",
        "# This training code is based on the `run_glue.py` script here:\n",
        "# https://github.com/huggingface/transformers/blob/5bfcd0485ece086ebcbed2d008813037968a9e58/examples/run_glue.py#L128\n",
        "\n",
        "# We'll store a number of quantities such as training and validation loss,\n",
        "# validation accuracy, and timings.\n",
        "training_stats = []\n",
        "\n",
        "# Measure the total training time for the whole run.\n",
        "total_t0 = time.time()\n",
        "\n",
        "# For each epoch...\n",
        "for epoch_i in range(0, epochs):\n",
        "\n",
        "    # ========================================\n",
        "    #               Training\n",
        "    # ========================================\n",
        "\n",
        "    # Perform one full pass over the training set.\n",
        "\n",
        "    print(\"\")\n",
        "    print('======== Epoch {:} / {:} ========'.format(epoch_i + 1, epochs))\n",
        "    print('Training...')\n",
        "\n",
        "    # Measure how long the training epoch takes.\n",
        "    t0 = time.time()\n",
        "\n",
        "    # Reset the total loss for this epoch.\n",
        "    total_train_loss = 0\n",
        "\n",
        "    # Put the model into training mode. Don't be mislead--the call to\n",
        "    # `train` just changes the *mode*, it doesn't *perform* the training.\n",
        "    # `dropout` and `batchnorm` layers behave differently during training\n",
        "    # vs. test (source: https://stackoverflow.com/questions/51433378/what-does-model-train-do-in-pytorch)\n",
        "    xlmr_model.train()\n",
        "\n",
        "    # Pick an interval on which to print progress updates.\n",
        "    update_interval = good_update_interval(\n",
        "                total_iters = len(train_dataloader),\n",
        "                num_desired_updates = 10\n",
        "            )\n",
        "\n",
        "    # For each batch of training data...\n",
        "    for step, batch in enumerate(train_dataloader):\n",
        "\n",
        "        # Progress update.\n",
        "        if (step % update_interval) == 0 and not step == 0:\n",
        "            # Calculate elapsed time in minutes.\n",
        "            elapsed = format_time(time.time() - t0)\n",
        "\n",
        "            # Report progress.\n",
        "            print('  Batch {:>5,}  of  {:>5,}.    Elapsed: {:}.'.format(step, len(train_dataloader), elapsed))\n",
        "\n",
        "        # Unpack this training batch from our dataloader.\n",
        "        #\n",
        "        # As we unpack the batch, we'll also copy each tensor to the GPU using\n",
        "        # the `to` method.\n",
        "        #\n",
        "        # `batch` contains three pytorch tensors:\n",
        "        #   [0]: input ids\n",
        "        #   [1]: attention masks\n",
        "        #   [2]: labels\n",
        "        b_input_ids = batch[0].to(device)\n",
        "        b_input_mask = batch[1].to(device)\n",
        "        b_labels = batch[2].to(device)\n",
        "\n",
        "        # Always clear any previously calculated gradients before performing a\n",
        "        # backward pass. PyTorch doesn't do this automatically because\n",
        "        # accumulating the gradients is \"convenient while training RNNs\".\n",
        "        # (source: https://stackoverflow.com/questions/48001598/why-do-we-need-to-call-zero-grad-in-pytorch)\n",
        "        xlmr_model.zero_grad()\n",
        "\n",
        "        # Perform a forward pass (evaluate the model on this training batch).\n",
        "        # In PyTorch, calling `model` will in turn call the model's `forward`\n",
        "        # function and pass down the arguments. The `forward` function is\n",
        "        # documented here:\n",
        "        # https://huggingface.co/transformers/model_doc/bert.html#bertforsequenceclassification\n",
        "        # The results are returned in a results object, documented here:\n",
        "        # https://huggingface.co/transformers/main_classes/output.html#transformers.modeling_outputs.SequenceClassifierOutput\n",
        "        # Specifically, we'll get the loss (because we provided labels) and the\n",
        "        # \"logits\"--the model outputs prior to activation.\n",
        "        result = xlmr_model(b_input_ids,\n",
        "                       token_type_ids=None,\n",
        "                       attention_mask=b_input_mask,\n",
        "                       return_dict=True)\n",
        "\n",
        "        logits = result.logits\n",
        "        # loss = result.loss\n",
        "\n",
        "        criterion = torch.nn.CrossEntropyLoss(weight=class_weights.to(device), reduction='mean')\n",
        "        loss = criterion(logits, b_labels)\n",
        "\n",
        "        # Accumulate the training loss over all of the batches so that we can\n",
        "        # calculate the average loss at the end. `loss` is a Tensor containing a\n",
        "        # single value; the `.item()` function just returns the Python value\n",
        "        # from the tensor.\n",
        "        total_train_loss += loss.item()\n",
        "\n",
        "        # Perform a backward pass to calculate the gradients.\n",
        "        loss.backward()\n",
        "\n",
        "        # Clip the norm of the gradients to 1.0.\n",
        "        # This is to help prevent the \"exploding gradients\" problem.\n",
        "        torch.nn.utils.clip_grad_norm_(xlmr_model.parameters(), 1.0)\n",
        "\n",
        "        # Update parameters and take a step using the computed gradient.\n",
        "        # The optimizer dictates the \"update rule\"--how the parameters are\n",
        "        # modified based on their gradients, the learning rate, etc.\n",
        "        optimizer.step()\n",
        "\n",
        "        # Update the learning rate.\n",
        "        scheduler.step()\n",
        "\n",
        "    # Calculate the average loss over all of the batches.\n",
        "    avg_train_loss = total_train_loss / len(train_dataloader)\n",
        "\n",
        "    # Measure how long this epoch took.\n",
        "    training_time = format_time(time.time() - t0)\n",
        "\n",
        "    print(\"\")\n",
        "    print(\"  Average training loss: {0:.2f}\".format(avg_train_loss))\n",
        "    print(\"  Training epoch took: {:}\".format(training_time))\n",
        "\n",
        "\n",
        "    # ========================================\n",
        "    #               Validation\n",
        "    # ========================================\n",
        "    # After the completion of each training epoch, measure our performance on\n",
        "    # our validation set.\n",
        "\n",
        "    print(\"\")\n",
        "    print(\"Running Validation...\")\n",
        "\n",
        "    t0 = time.time()\n",
        "\n",
        "    # Put the model in evaluation mode--the dropout layers behave differently\n",
        "    # during evaluation.\n",
        "    xlmr_model.eval()\n",
        "\n",
        "    # Tracking variables\n",
        "    total_eval_loss = 0\n",
        "\n",
        "\n",
        "    predictions, true_labels = [], []\n",
        "\n",
        "    # Evaluate data for one epoch\n",
        "    for batch in val_dataloader:\n",
        "\n",
        "        # Unpack this training batch from our dataloader.\n",
        "        #\n",
        "        # As we unpack the batch, we'll also copy each tensor to the GPU using\n",
        "        # the `to` method.\n",
        "        #\n",
        "        # `batch` contains three pytorch tensors:\n",
        "        #   [0]: input ids\n",
        "        #   [1]: attention masks\n",
        "        #   [2]: labels\n",
        "        b_input_ids = batch[0].to(device)\n",
        "        b_input_mask = batch[1].to(device)\n",
        "        b_labels = batch[2].to(device)\n",
        "\n",
        "        # Tell pytorch not to bother with constructing the compute graph during\n",
        "        # the forward pass, since this is only needed for backprop (training).\n",
        "        with torch.no_grad():\n",
        "\n",
        "            # Forward pass, calculate logit predictions.\n",
        "            # token_type_ids is the same as the \"segment ids\", which\n",
        "            # differentiates sentence 1 and 2 in 2-sentence tasks.\n",
        "            result = xlmr_model(b_input_ids,\n",
        "                           token_type_ids=None,\n",
        "                           attention_mask=b_input_mask,\n",
        "                           labels=b_labels,\n",
        "                           return_dict=True)\n",
        "\n",
        "        # Get the loss and \"logits\" output by the model. The \"logits\" are the\n",
        "        # output values prior to applying an activation function like the\n",
        "        # softmax.\n",
        "        logits = result.logits\n",
        "\n",
        "        # Calculate the loss without applying class weights\n",
        "        criterion = torch.nn.CrossEntropyLoss(reduction='mean')\n",
        "        loss = criterion(logits, b_labels)\n",
        "\n",
        "        # Accumulate the validation loss.\n",
        "        total_eval_loss += loss.item()\n",
        "\n",
        "        # Calculate the accuracy for this batch of test sentences.\n",
        "\n",
        "        # Move logits and labels to CPU\n",
        "        logits = logits.detach().cpu().numpy()\n",
        "        label_ids = b_labels.to('cpu').numpy()\n",
        "\n",
        "        # Store predictions and true labels\n",
        "        predictions.append(logits)\n",
        "        true_labels.append(label_ids)\n",
        "\n",
        "    # Measure validation accuracy...\n",
        "\n",
        "    # Combine the results across all batches.\n",
        "    flat_predictions = np.concatenate(predictions, axis=0)\n",
        "    flat_true_labels = np.concatenate(true_labels, axis=0)\n",
        "\n",
        "    # For each sample, pick the label (0, 1, or 2) with the highest score.\n",
        "    predicted_labels = np.argmax(flat_predictions, axis=1).flatten()\n",
        "\n",
        "    # Calculate the validation accuracy.\n",
        "    val_accuracy = (predicted_labels == flat_true_labels).mean()\n",
        "\n",
        "    # Report the final accuracy for this validation run.\n",
        "    print(\"  Accuracy: {0:.2f}\".format(val_accuracy))\n",
        "\n",
        "    # Calculate the average loss over all of the batches.\n",
        "    avg_val_loss = total_eval_loss / len(val_dataloader)\n",
        "\n",
        "    # Measure how long the validation run took.\n",
        "    validation_time = format_time(time.time() - t0)\n",
        "\n",
        "    print(\"  Validation Loss: {0:.2f}\".format(avg_val_loss))\n",
        "    print(\"  Validation took: {:}\".format(validation_time))\n",
        "\n",
        "    # Record all statistics from this epoch.\n",
        "    training_stats.append(\n",
        "        {\n",
        "            'epoch': epoch_i + 1,\n",
        "            'Training Loss': avg_train_loss,\n",
        "            'Valid. Loss': avg_val_loss,\n",
        "            'Valid. Accur.': val_accuracy,\n",
        "            'Training Time': training_time,\n",
        "            'Validation Time': validation_time\n",
        "        }\n",
        "    )\n",
        "\n",
        "print(\"\")\n",
        "print(\"Training complete!\")\n",
        "\n",
        "print(\"Total training took {:} (h:mm:ss)\".format(format_time(time.time()-total_t0)))"
      ]
    },
    {
      "cell_type": "code",
      "execution_count": null,
      "metadata": {
        "id": "G8npkttbczLp",
        "colab": {
          "base_uri": "https://localhost:8080/",
          "height": 143
        },
        "outputId": "4c6f5dc0-3707-4cee-b162-7517d0020071"
      },
      "outputs": [
        {
          "output_type": "execute_result",
          "data": {
            "text/plain": [
              "       Training Loss  Valid. Loss  Valid. Accur. Training Time Validation Time\n",
              "epoch                                                                         \n",
              "1           0.576151     0.526151       0.762989       0:00:55         0:00:02\n",
              "2           0.496034     0.511523       0.767972       0:00:55         0:00:02"
            ],
            "text/html": [
              "\n",
              "  <div id=\"df-cf740886-01fe-467b-a36d-179830d1338f\">\n",
              "    <div class=\"colab-df-container\">\n",
              "      <div>\n",
              "<style scoped>\n",
              "    .dataframe tbody tr th:only-of-type {\n",
              "        vertical-align: middle;\n",
              "    }\n",
              "\n",
              "    .dataframe tbody tr th {\n",
              "        vertical-align: top;\n",
              "    }\n",
              "\n",
              "    .dataframe thead th {\n",
              "        text-align: right;\n",
              "    }\n",
              "</style>\n",
              "<table border=\"1\" class=\"dataframe\">\n",
              "  <thead>\n",
              "    <tr style=\"text-align: right;\">\n",
              "      <th></th>\n",
              "      <th>Training Loss</th>\n",
              "      <th>Valid. Loss</th>\n",
              "      <th>Valid. Accur.</th>\n",
              "      <th>Training Time</th>\n",
              "      <th>Validation Time</th>\n",
              "    </tr>\n",
              "    <tr>\n",
              "      <th>epoch</th>\n",
              "      <th></th>\n",
              "      <th></th>\n",
              "      <th></th>\n",
              "      <th></th>\n",
              "      <th></th>\n",
              "    </tr>\n",
              "  </thead>\n",
              "  <tbody>\n",
              "    <tr>\n",
              "      <th>1</th>\n",
              "      <td>0.576151</td>\n",
              "      <td>0.526151</td>\n",
              "      <td>0.762989</td>\n",
              "      <td>0:00:55</td>\n",
              "      <td>0:00:02</td>\n",
              "    </tr>\n",
              "    <tr>\n",
              "      <th>2</th>\n",
              "      <td>0.496034</td>\n",
              "      <td>0.511523</td>\n",
              "      <td>0.767972</td>\n",
              "      <td>0:00:55</td>\n",
              "      <td>0:00:02</td>\n",
              "    </tr>\n",
              "  </tbody>\n",
              "</table>\n",
              "</div>\n",
              "      <button class=\"colab-df-convert\" onclick=\"convertToInteractive('df-cf740886-01fe-467b-a36d-179830d1338f')\"\n",
              "              title=\"Convert this dataframe to an interactive table.\"\n",
              "              style=\"display:none;\">\n",
              "        \n",
              "  <svg xmlns=\"http://www.w3.org/2000/svg\" height=\"24px\"viewBox=\"0 0 24 24\"\n",
              "       width=\"24px\">\n",
              "    <path d=\"M0 0h24v24H0V0z\" fill=\"none\"/>\n",
              "    <path d=\"M18.56 5.44l.94 2.06.94-2.06 2.06-.94-2.06-.94-.94-2.06-.94 2.06-2.06.94zm-11 1L8.5 8.5l.94-2.06 2.06-.94-2.06-.94L8.5 2.5l-.94 2.06-2.06.94zm10 10l.94 2.06.94-2.06 2.06-.94-2.06-.94-.94-2.06-.94 2.06-2.06.94z\"/><path d=\"M17.41 7.96l-1.37-1.37c-.4-.4-.92-.59-1.43-.59-.52 0-1.04.2-1.43.59L10.3 9.45l-7.72 7.72c-.78.78-.78 2.05 0 2.83L4 21.41c.39.39.9.59 1.41.59.51 0 1.02-.2 1.41-.59l7.78-7.78 2.81-2.81c.8-.78.8-2.07 0-2.86zM5.41 20L4 18.59l7.72-7.72 1.47 1.35L5.41 20z\"/>\n",
              "  </svg>\n",
              "      </button>\n",
              "      \n",
              "  <style>\n",
              "    .colab-df-container {\n",
              "      display:flex;\n",
              "      flex-wrap:wrap;\n",
              "      gap: 12px;\n",
              "    }\n",
              "\n",
              "    .colab-df-convert {\n",
              "      background-color: #E8F0FE;\n",
              "      border: none;\n",
              "      border-radius: 50%;\n",
              "      cursor: pointer;\n",
              "      display: none;\n",
              "      fill: #1967D2;\n",
              "      height: 32px;\n",
              "      padding: 0 0 0 0;\n",
              "      width: 32px;\n",
              "    }\n",
              "\n",
              "    .colab-df-convert:hover {\n",
              "      background-color: #E2EBFA;\n",
              "      box-shadow: 0px 1px 2px rgba(60, 64, 67, 0.3), 0px 1px 3px 1px rgba(60, 64, 67, 0.15);\n",
              "      fill: #174EA6;\n",
              "    }\n",
              "\n",
              "    [theme=dark] .colab-df-convert {\n",
              "      background-color: #3B4455;\n",
              "      fill: #D2E3FC;\n",
              "    }\n",
              "\n",
              "    [theme=dark] .colab-df-convert:hover {\n",
              "      background-color: #434B5C;\n",
              "      box-shadow: 0px 1px 3px 1px rgba(0, 0, 0, 0.15);\n",
              "      filter: drop-shadow(0px 1px 2px rgba(0, 0, 0, 0.3));\n",
              "      fill: #FFFFFF;\n",
              "    }\n",
              "  </style>\n",
              "\n",
              "      <script>\n",
              "        const buttonEl =\n",
              "          document.querySelector('#df-cf740886-01fe-467b-a36d-179830d1338f button.colab-df-convert');\n",
              "        buttonEl.style.display =\n",
              "          google.colab.kernel.accessAllowed ? 'block' : 'none';\n",
              "\n",
              "        async function convertToInteractive(key) {\n",
              "          const element = document.querySelector('#df-cf740886-01fe-467b-a36d-179830d1338f');\n",
              "          const dataTable =\n",
              "            await google.colab.kernel.invokeFunction('convertToInteractive',\n",
              "                                                     [key], {});\n",
              "          if (!dataTable) return;\n",
              "\n",
              "          const docLinkHtml = 'Like what you see? Visit the ' +\n",
              "            '<a target=\"_blank\" href=https://colab.research.google.com/notebooks/data_table.ipynb>data table notebook</a>'\n",
              "            + ' to learn more about interactive tables.';\n",
              "          element.innerHTML = '';\n",
              "          dataTable['output_type'] = 'display_data';\n",
              "          await google.colab.output.renderOutput(dataTable, element);\n",
              "          const docLink = document.createElement('div');\n",
              "          docLink.innerHTML = docLinkHtml;\n",
              "          element.appendChild(docLink);\n",
              "        }\n",
              "      </script>\n",
              "    </div>\n",
              "  </div>\n",
              "  "
            ]
          },
          "metadata": {},
          "execution_count": 207
        }
      ],
      "source": [
        "# Display floats with two decimal places.\n",
        "# pd.set_option('precision', 2)\n",
        "\n",
        "# Create a DataFrame from our training statistics.\n",
        "df_stats = pd.DataFrame(data=training_stats)\n",
        "\n",
        "# Use the 'epoch' as the row index.\n",
        "df_stats = df_stats.set_index('epoch')\n",
        "\n",
        "# Display the table.\n",
        "df_stats"
      ]
    },
    {
      "cell_type": "code",
      "execution_count": null,
      "metadata": {
        "id": "jfTUD5Lhc67F",
        "colab": {
          "base_uri": "https://localhost:8080/",
          "height": 572
        },
        "outputId": "7df8fc94-c3fe-4885-d99c-71253d8f6dff"
      },
      "outputs": [
        {
          "output_type": "display_data",
          "data": {
            "text/plain": [
              "<Figure size 1200x600 with 1 Axes>"
            ],
            "image/svg+xml": "<?xml version=\"1.0\" encoding=\"utf-8\" standalone=\"no\"?>\n<!DOCTYPE svg PUBLIC \"-//W3C//DTD SVG 1.1//EN\"\n  \"http://www.w3.org/Graphics/SVG/1.1/DTD/svg11.dtd\">\n<svg xmlns:xlink=\"http://www.w3.org/1999/xlink\" width=\"756.907969pt\" height=\"413.606719pt\" viewBox=\"0 0 756.907969 413.606719\" xmlns=\"http://www.w3.org/2000/svg\" version=\"1.1\">\n <metadata>\n  <rdf:RDF xmlns:dc=\"http://purl.org/dc/elements/1.1/\" xmlns:cc=\"http://creativecommons.org/ns#\" xmlns:rdf=\"http://www.w3.org/1999/02/22-rdf-syntax-ns#\">\n   <cc:Work>\n    <dc:type rdf:resource=\"http://purl.org/dc/dcmitype/StillImage\"/>\n    <dc:date>2023-07-09T21:14:10.790542</dc:date>\n    <dc:format>image/svg+xml</dc:format>\n    <dc:creator>\n     <cc:Agent>\n      <dc:title>Matplotlib v3.7.1, https://matplotlib.org/</dc:title>\n     </cc:Agent>\n    </dc:creator>\n   </cc:Work>\n  </rdf:RDF>\n </metadata>\n <defs>\n  <style type=\"text/css\">*{stroke-linejoin: round; stroke-linecap: butt}</style>\n </defs>\n <g id=\"figure_1\">\n  <g id=\"patch_1\">\n   <path d=\"M 0 413.606719 \nL 756.907969 413.606719 \nL 756.907969 0 \nL 0 0 \nz\n\" style=\"fill: #ffffff\"/>\n  </g>\n  <g id=\"axes_1\">\n   <g id=\"patch_2\">\n    <path d=\"M 74.858906 359.517188 \nL 744.458906 359.517188 \nL 744.458906 26.877187 \nL 74.858906 26.877187 \nz\n\" style=\"fill: #eaeaf2\"/>\n   </g>\n   <g id=\"matplotlib.axis_1\">\n    <g id=\"xtick_1\">\n     <g id=\"line2d_1\">\n      <path d=\"M 83.125573 359.517188 \nL 83.125573 26.877187 \n\" clip-path=\"url(#p77117f3097)\" style=\"fill: none; stroke: #ffffff; stroke-linecap: round\"/>\n     </g>\n     <g id=\"text_1\">\n      <!-- 1 -->\n      <g style=\"fill: #262626\" transform=\"translate(77.87651 381.554609) scale(0.165 -0.165)\">\n       <defs>\n        <path id=\"DejaVuSans-31\" d=\"M 794 531 \nL 1825 531 \nL 1825 4091 \nL 703 3866 \nL 703 4441 \nL 1819 4666 \nL 2450 4666 \nL 2450 531 \nL 3481 531 \nL 3481 0 \nL 794 0 \nL 794 531 \nz\n\" transform=\"scale(0.015625)\"/>\n       </defs>\n       <use xlink:href=\"#DejaVuSans-31\"/>\n      </g>\n     </g>\n    </g>\n    <g id=\"xtick_2\">\n     <g id=\"line2d_2\">\n      <path d=\"M 248.458906 359.517188 \nL 248.458906 26.877187 \n\" clip-path=\"url(#p77117f3097)\" style=\"fill: none; stroke: #ffffff; stroke-linecap: round\"/>\n     </g>\n     <g id=\"text_2\">\n      <!-- 2 -->\n      <g style=\"fill: #262626\" transform=\"translate(243.209844 381.554609) scale(0.165 -0.165)\">\n       <defs>\n        <path id=\"DejaVuSans-32\" d=\"M 1228 531 \nL 3431 531 \nL 3431 0 \nL 469 0 \nL 469 531 \nQ 828 903 1448 1529 \nQ 2069 2156 2228 2338 \nQ 2531 2678 2651 2914 \nQ 2772 3150 2772 3378 \nQ 2772 3750 2511 3984 \nQ 2250 4219 1831 4219 \nQ 1534 4219 1204 4116 \nQ 875 4013 500 3803 \nL 500 4441 \nQ 881 4594 1212 4672 \nQ 1544 4750 1819 4750 \nQ 2544 4750 2975 4387 \nQ 3406 4025 3406 3419 \nQ 3406 3131 3298 2873 \nQ 3191 2616 2906 2266 \nQ 2828 2175 2409 1742 \nQ 1991 1309 1228 531 \nz\n\" transform=\"scale(0.015625)\"/>\n       </defs>\n       <use xlink:href=\"#DejaVuSans-32\"/>\n      </g>\n     </g>\n    </g>\n    <g id=\"xtick_3\">\n     <g id=\"line2d_3\">\n      <path d=\"M 413.79224 359.517188 \nL 413.79224 26.877187 \n\" clip-path=\"url(#p77117f3097)\" style=\"fill: none; stroke: #ffffff; stroke-linecap: round\"/>\n     </g>\n     <g id=\"text_3\">\n      <!-- 3 -->\n      <g style=\"fill: #262626\" transform=\"translate(408.543177 381.554609) scale(0.165 -0.165)\">\n       <defs>\n        <path id=\"DejaVuSans-33\" d=\"M 2597 2516 \nQ 3050 2419 3304 2112 \nQ 3559 1806 3559 1356 \nQ 3559 666 3084 287 \nQ 2609 -91 1734 -91 \nQ 1441 -91 1130 -33 \nQ 819 25 488 141 \nL 488 750 \nQ 750 597 1062 519 \nQ 1375 441 1716 441 \nQ 2309 441 2620 675 \nQ 2931 909 2931 1356 \nQ 2931 1769 2642 2001 \nQ 2353 2234 1838 2234 \nL 1294 2234 \nL 1294 2753 \nL 1863 2753 \nQ 2328 2753 2575 2939 \nQ 2822 3125 2822 3475 \nQ 2822 3834 2567 4026 \nQ 2313 4219 1838 4219 \nQ 1578 4219 1281 4162 \nQ 984 4106 628 3988 \nL 628 4550 \nQ 988 4650 1302 4700 \nQ 1616 4750 1894 4750 \nQ 2613 4750 3031 4423 \nQ 3450 4097 3450 3541 \nQ 3450 3153 3228 2886 \nQ 3006 2619 2597 2516 \nz\n\" transform=\"scale(0.015625)\"/>\n       </defs>\n       <use xlink:href=\"#DejaVuSans-33\"/>\n      </g>\n     </g>\n    </g>\n    <g id=\"xtick_4\">\n     <g id=\"line2d_4\">\n      <path d=\"M 579.125573 359.517188 \nL 579.125573 26.877187 \n\" clip-path=\"url(#p77117f3097)\" style=\"fill: none; stroke: #ffffff; stroke-linecap: round\"/>\n     </g>\n     <g id=\"text_4\">\n      <!-- 4 -->\n      <g style=\"fill: #262626\" transform=\"translate(573.87651 381.554609) scale(0.165 -0.165)\">\n       <defs>\n        <path id=\"DejaVuSans-34\" d=\"M 2419 4116 \nL 825 1625 \nL 2419 1625 \nL 2419 4116 \nz\nM 2253 4666 \nL 3047 4666 \nL 3047 1625 \nL 3713 1625 \nL 3713 1100 \nL 3047 1100 \nL 3047 0 \nL 2419 0 \nL 2419 1100 \nL 313 1100 \nL 313 1709 \nL 2253 4666 \nz\n\" transform=\"scale(0.015625)\"/>\n       </defs>\n       <use xlink:href=\"#DejaVuSans-34\"/>\n      </g>\n     </g>\n    </g>\n    <g id=\"xtick_5\">\n     <g id=\"line2d_5\">\n      <path d=\"M 744.458906 359.517188 \nL 744.458906 26.877187 \n\" clip-path=\"url(#p77117f3097)\" style=\"fill: none; stroke: #ffffff; stroke-linecap: round\"/>\n     </g>\n     <g id=\"text_5\">\n      <!-- 5 -->\n      <g style=\"fill: #262626\" transform=\"translate(739.209844 381.554609) scale(0.165 -0.165)\">\n       <defs>\n        <path id=\"DejaVuSans-35\" d=\"M 691 4666 \nL 3169 4666 \nL 3169 4134 \nL 1269 4134 \nL 1269 2991 \nQ 1406 3038 1543 3061 \nQ 1681 3084 1819 3084 \nQ 2600 3084 3056 2656 \nQ 3513 2228 3513 1497 \nQ 3513 744 3044 326 \nQ 2575 -91 1722 -91 \nQ 1428 -91 1123 -41 \nQ 819 9 494 109 \nL 494 744 \nQ 775 591 1075 516 \nQ 1375 441 1709 441 \nQ 2250 441 2565 725 \nQ 2881 1009 2881 1497 \nQ 2881 1984 2565 2268 \nQ 2250 2553 1709 2553 \nQ 1456 2553 1204 2497 \nQ 953 2441 691 2322 \nL 691 4666 \nz\n\" transform=\"scale(0.015625)\"/>\n       </defs>\n       <use xlink:href=\"#DejaVuSans-35\"/>\n      </g>\n     </g>\n    </g>\n    <g id=\"text_6\">\n     <!-- Epoch -->\n     <g style=\"fill: #262626\" transform=\"translate(382.099219 402.663281) scale(0.18 -0.18)\">\n      <defs>\n       <path id=\"DejaVuSans-45\" d=\"M 628 4666 \nL 3578 4666 \nL 3578 4134 \nL 1259 4134 \nL 1259 2753 \nL 3481 2753 \nL 3481 2222 \nL 1259 2222 \nL 1259 531 \nL 3634 531 \nL 3634 0 \nL 628 0 \nL 628 4666 \nz\n\" transform=\"scale(0.015625)\"/>\n       <path id=\"DejaVuSans-70\" d=\"M 1159 525 \nL 1159 -1331 \nL 581 -1331 \nL 581 3500 \nL 1159 3500 \nL 1159 2969 \nQ 1341 3281 1617 3432 \nQ 1894 3584 2278 3584 \nQ 2916 3584 3314 3078 \nQ 3713 2572 3713 1747 \nQ 3713 922 3314 415 \nQ 2916 -91 2278 -91 \nQ 1894 -91 1617 61 \nQ 1341 213 1159 525 \nz\nM 3116 1747 \nQ 3116 2381 2855 2742 \nQ 2594 3103 2138 3103 \nQ 1681 3103 1420 2742 \nQ 1159 2381 1159 1747 \nQ 1159 1113 1420 752 \nQ 1681 391 2138 391 \nQ 2594 391 2855 752 \nQ 3116 1113 3116 1747 \nz\n\" transform=\"scale(0.015625)\"/>\n       <path id=\"DejaVuSans-6f\" d=\"M 1959 3097 \nQ 1497 3097 1228 2736 \nQ 959 2375 959 1747 \nQ 959 1119 1226 758 \nQ 1494 397 1959 397 \nQ 2419 397 2687 759 \nQ 2956 1122 2956 1747 \nQ 2956 2369 2687 2733 \nQ 2419 3097 1959 3097 \nz\nM 1959 3584 \nQ 2709 3584 3137 3096 \nQ 3566 2609 3566 1747 \nQ 3566 888 3137 398 \nQ 2709 -91 1959 -91 \nQ 1206 -91 779 398 \nQ 353 888 353 1747 \nQ 353 2609 779 3096 \nQ 1206 3584 1959 3584 \nz\n\" transform=\"scale(0.015625)\"/>\n       <path id=\"DejaVuSans-63\" d=\"M 3122 3366 \nL 3122 2828 \nQ 2878 2963 2633 3030 \nQ 2388 3097 2138 3097 \nQ 1578 3097 1268 2742 \nQ 959 2388 959 1747 \nQ 959 1106 1268 751 \nQ 1578 397 2138 397 \nQ 2388 397 2633 464 \nQ 2878 531 3122 666 \nL 3122 134 \nQ 2881 22 2623 -34 \nQ 2366 -91 2075 -91 \nQ 1284 -91 818 406 \nQ 353 903 353 1747 \nQ 353 2603 823 3093 \nQ 1294 3584 2113 3584 \nQ 2378 3584 2631 3529 \nQ 2884 3475 3122 3366 \nz\n\" transform=\"scale(0.015625)\"/>\n       <path id=\"DejaVuSans-68\" d=\"M 3513 2113 \nL 3513 0 \nL 2938 0 \nL 2938 2094 \nQ 2938 2591 2744 2837 \nQ 2550 3084 2163 3084 \nQ 1697 3084 1428 2787 \nQ 1159 2491 1159 1978 \nL 1159 0 \nL 581 0 \nL 581 4863 \nL 1159 4863 \nL 1159 2956 \nQ 1366 3272 1645 3428 \nQ 1925 3584 2291 3584 \nQ 2894 3584 3203 3211 \nQ 3513 2838 3513 2113 \nz\n\" transform=\"scale(0.015625)\"/>\n      </defs>\n      <use xlink:href=\"#DejaVuSans-45\"/>\n      <use xlink:href=\"#DejaVuSans-70\" x=\"63.183594\"/>\n      <use xlink:href=\"#DejaVuSans-6f\" x=\"126.660156\"/>\n      <use xlink:href=\"#DejaVuSans-63\" x=\"187.841797\"/>\n      <use xlink:href=\"#DejaVuSans-68\" x=\"242.822266\"/>\n     </g>\n    </g>\n   </g>\n   <g id=\"matplotlib.axis_2\">\n    <g id=\"ytick_1\">\n     <g id=\"line2d_6\">\n      <path d=\"M 74.858906 329.426372 \nL 744.458906 329.426372 \n\" clip-path=\"url(#p77117f3097)\" style=\"fill: none; stroke: #ffffff; stroke-linecap: round\"/>\n     </g>\n     <g id=\"text_7\">\n      <!-- 0.50 -->\n      <g style=\"fill: #262626\" transform=\"translate(28.620625 335.695083) scale(0.165 -0.165)\">\n       <defs>\n        <path id=\"DejaVuSans-30\" d=\"M 2034 4250 \nQ 1547 4250 1301 3770 \nQ 1056 3291 1056 2328 \nQ 1056 1369 1301 889 \nQ 1547 409 2034 409 \nQ 2525 409 2770 889 \nQ 3016 1369 3016 2328 \nQ 3016 3291 2770 3770 \nQ 2525 4250 2034 4250 \nz\nM 2034 4750 \nQ 2819 4750 3233 4129 \nQ 3647 3509 3647 2328 \nQ 3647 1150 3233 529 \nQ 2819 -91 2034 -91 \nQ 1250 -91 836 529 \nQ 422 1150 422 2328 \nQ 422 3509 836 4129 \nQ 1250 4750 2034 4750 \nz\n\" transform=\"scale(0.015625)\"/>\n        <path id=\"DejaVuSans-2e\" d=\"M 684 794 \nL 1344 794 \nL 1344 0 \nL 684 0 \nL 684 794 \nz\n\" transform=\"scale(0.015625)\"/>\n       </defs>\n       <use xlink:href=\"#DejaVuSans-30\"/>\n       <use xlink:href=\"#DejaVuSans-2e\" x=\"63.623047\"/>\n       <use xlink:href=\"#DejaVuSans-35\" x=\"95.410156\"/>\n       <use xlink:href=\"#DejaVuSans-30\" x=\"159.033203\"/>\n      </g>\n     </g>\n    </g>\n    <g id=\"ytick_2\">\n     <g id=\"line2d_7\">\n      <path d=\"M 74.858906 291.681761 \nL 744.458906 291.681761 \n\" clip-path=\"url(#p77117f3097)\" style=\"fill: none; stroke: #ffffff; stroke-linecap: round\"/>\n     </g>\n     <g id=\"text_8\">\n      <!-- 0.51 -->\n      <g style=\"fill: #262626\" transform=\"translate(28.620625 297.950472) scale(0.165 -0.165)\">\n       <use xlink:href=\"#DejaVuSans-30\"/>\n       <use xlink:href=\"#DejaVuSans-2e\" x=\"63.623047\"/>\n       <use xlink:href=\"#DejaVuSans-35\" x=\"95.410156\"/>\n       <use xlink:href=\"#DejaVuSans-31\" x=\"159.033203\"/>\n      </g>\n     </g>\n    </g>\n    <g id=\"ytick_3\">\n     <g id=\"line2d_8\">\n      <path d=\"M 74.858906 253.93715 \nL 744.458906 253.93715 \n\" clip-path=\"url(#p77117f3097)\" style=\"fill: none; stroke: #ffffff; stroke-linecap: round\"/>\n     </g>\n     <g id=\"text_9\">\n      <!-- 0.52 -->\n      <g style=\"fill: #262626\" transform=\"translate(28.620625 260.205861) scale(0.165 -0.165)\">\n       <use xlink:href=\"#DejaVuSans-30\"/>\n       <use xlink:href=\"#DejaVuSans-2e\" x=\"63.623047\"/>\n       <use xlink:href=\"#DejaVuSans-35\" x=\"95.410156\"/>\n       <use xlink:href=\"#DejaVuSans-32\" x=\"159.033203\"/>\n      </g>\n     </g>\n    </g>\n    <g id=\"ytick_4\">\n     <g id=\"line2d_9\">\n      <path d=\"M 74.858906 216.192539 \nL 744.458906 216.192539 \n\" clip-path=\"url(#p77117f3097)\" style=\"fill: none; stroke: #ffffff; stroke-linecap: round\"/>\n     </g>\n     <g id=\"text_10\">\n      <!-- 0.53 -->\n      <g style=\"fill: #262626\" transform=\"translate(28.620625 222.46125) scale(0.165 -0.165)\">\n       <use xlink:href=\"#DejaVuSans-30\"/>\n       <use xlink:href=\"#DejaVuSans-2e\" x=\"63.623047\"/>\n       <use xlink:href=\"#DejaVuSans-35\" x=\"95.410156\"/>\n       <use xlink:href=\"#DejaVuSans-33\" x=\"159.033203\"/>\n      </g>\n     </g>\n    </g>\n    <g id=\"ytick_5\">\n     <g id=\"line2d_10\">\n      <path d=\"M 74.858906 178.447928 \nL 744.458906 178.447928 \n\" clip-path=\"url(#p77117f3097)\" style=\"fill: none; stroke: #ffffff; stroke-linecap: round\"/>\n     </g>\n     <g id=\"text_11\">\n      <!-- 0.54 -->\n      <g style=\"fill: #262626\" transform=\"translate(28.620625 184.716639) scale(0.165 -0.165)\">\n       <use xlink:href=\"#DejaVuSans-30\"/>\n       <use xlink:href=\"#DejaVuSans-2e\" x=\"63.623047\"/>\n       <use xlink:href=\"#DejaVuSans-35\" x=\"95.410156\"/>\n       <use xlink:href=\"#DejaVuSans-34\" x=\"159.033203\"/>\n      </g>\n     </g>\n    </g>\n    <g id=\"ytick_6\">\n     <g id=\"line2d_11\">\n      <path d=\"M 74.858906 140.703317 \nL 744.458906 140.703317 \n\" clip-path=\"url(#p77117f3097)\" style=\"fill: none; stroke: #ffffff; stroke-linecap: round\"/>\n     </g>\n     <g id=\"text_12\">\n      <!-- 0.55 -->\n      <g style=\"fill: #262626\" transform=\"translate(28.620625 146.972028) scale(0.165 -0.165)\">\n       <use xlink:href=\"#DejaVuSans-30\"/>\n       <use xlink:href=\"#DejaVuSans-2e\" x=\"63.623047\"/>\n       <use xlink:href=\"#DejaVuSans-35\" x=\"95.410156\"/>\n       <use xlink:href=\"#DejaVuSans-35\" x=\"159.033203\"/>\n      </g>\n     </g>\n    </g>\n    <g id=\"ytick_7\">\n     <g id=\"line2d_12\">\n      <path d=\"M 74.858906 102.958706 \nL 744.458906 102.958706 \n\" clip-path=\"url(#p77117f3097)\" style=\"fill: none; stroke: #ffffff; stroke-linecap: round\"/>\n     </g>\n     <g id=\"text_13\">\n      <!-- 0.56 -->\n      <g style=\"fill: #262626\" transform=\"translate(28.620625 109.227417) scale(0.165 -0.165)\">\n       <defs>\n        <path id=\"DejaVuSans-36\" d=\"M 2113 2584 \nQ 1688 2584 1439 2293 \nQ 1191 2003 1191 1497 \nQ 1191 994 1439 701 \nQ 1688 409 2113 409 \nQ 2538 409 2786 701 \nQ 3034 994 3034 1497 \nQ 3034 2003 2786 2293 \nQ 2538 2584 2113 2584 \nz\nM 3366 4563 \nL 3366 3988 \nQ 3128 4100 2886 4159 \nQ 2644 4219 2406 4219 \nQ 1781 4219 1451 3797 \nQ 1122 3375 1075 2522 \nQ 1259 2794 1537 2939 \nQ 1816 3084 2150 3084 \nQ 2853 3084 3261 2657 \nQ 3669 2231 3669 1497 \nQ 3669 778 3244 343 \nQ 2819 -91 2113 -91 \nQ 1303 -91 875 529 \nQ 447 1150 447 2328 \nQ 447 3434 972 4092 \nQ 1497 4750 2381 4750 \nQ 2619 4750 2861 4703 \nQ 3103 4656 3366 4563 \nz\n\" transform=\"scale(0.015625)\"/>\n       </defs>\n       <use xlink:href=\"#DejaVuSans-30\"/>\n       <use xlink:href=\"#DejaVuSans-2e\" x=\"63.623047\"/>\n       <use xlink:href=\"#DejaVuSans-35\" x=\"95.410156\"/>\n       <use xlink:href=\"#DejaVuSans-36\" x=\"159.033203\"/>\n      </g>\n     </g>\n    </g>\n    <g id=\"ytick_8\">\n     <g id=\"line2d_13\">\n      <path d=\"M 74.858906 65.214095 \nL 744.458906 65.214095 \n\" clip-path=\"url(#p77117f3097)\" style=\"fill: none; stroke: #ffffff; stroke-linecap: round\"/>\n     </g>\n     <g id=\"text_14\">\n      <!-- 0.57 -->\n      <g style=\"fill: #262626\" transform=\"translate(28.620625 71.482806) scale(0.165 -0.165)\">\n       <defs>\n        <path id=\"DejaVuSans-37\" d=\"M 525 4666 \nL 3525 4666 \nL 3525 4397 \nL 1831 0 \nL 1172 0 \nL 2766 4134 \nL 525 4134 \nL 525 4666 \nz\n\" transform=\"scale(0.015625)\"/>\n       </defs>\n       <use xlink:href=\"#DejaVuSans-30\"/>\n       <use xlink:href=\"#DejaVuSans-2e\" x=\"63.623047\"/>\n       <use xlink:href=\"#DejaVuSans-35\" x=\"95.410156\"/>\n       <use xlink:href=\"#DejaVuSans-37\" x=\"159.033203\"/>\n      </g>\n     </g>\n    </g>\n    <g id=\"ytick_9\">\n     <g id=\"line2d_14\">\n      <path d=\"M 74.858906 27.469484 \nL 744.458906 27.469484 \n\" clip-path=\"url(#p77117f3097)\" style=\"fill: none; stroke: #ffffff; stroke-linecap: round\"/>\n     </g>\n     <g id=\"text_15\">\n      <!-- 0.58 -->\n      <g style=\"fill: #262626\" transform=\"translate(28.620625 33.738195) scale(0.165 -0.165)\">\n       <defs>\n        <path id=\"DejaVuSans-38\" d=\"M 2034 2216 \nQ 1584 2216 1326 1975 \nQ 1069 1734 1069 1313 \nQ 1069 891 1326 650 \nQ 1584 409 2034 409 \nQ 2484 409 2743 651 \nQ 3003 894 3003 1313 \nQ 3003 1734 2745 1975 \nQ 2488 2216 2034 2216 \nz\nM 1403 2484 \nQ 997 2584 770 2862 \nQ 544 3141 544 3541 \nQ 544 4100 942 4425 \nQ 1341 4750 2034 4750 \nQ 2731 4750 3128 4425 \nQ 3525 4100 3525 3541 \nQ 3525 3141 3298 2862 \nQ 3072 2584 2669 2484 \nQ 3125 2378 3379 2068 \nQ 3634 1759 3634 1313 \nQ 3634 634 3220 271 \nQ 2806 -91 2034 -91 \nQ 1263 -91 848 271 \nQ 434 634 434 1313 \nQ 434 1759 690 2068 \nQ 947 2378 1403 2484 \nz\nM 1172 3481 \nQ 1172 3119 1398 2916 \nQ 1625 2713 2034 2713 \nQ 2441 2713 2670 2916 \nQ 2900 3119 2900 3481 \nQ 2900 3844 2670 4047 \nQ 2441 4250 2034 4250 \nQ 1625 4250 1398 4047 \nQ 1172 3844 1172 3481 \nz\n\" transform=\"scale(0.015625)\"/>\n       </defs>\n       <use xlink:href=\"#DejaVuSans-30\"/>\n       <use xlink:href=\"#DejaVuSans-2e\" x=\"63.623047\"/>\n       <use xlink:href=\"#DejaVuSans-35\" x=\"95.410156\"/>\n       <use xlink:href=\"#DejaVuSans-38\" x=\"159.033203\"/>\n      </g>\n     </g>\n    </g>\n    <g id=\"text_16\">\n     <!-- Loss -->\n     <g style=\"fill: #262626\" transform=\"translate(20.877188 212.938125) rotate(-90) scale(0.18 -0.18)\">\n      <defs>\n       <path id=\"DejaVuSans-4c\" d=\"M 628 4666 \nL 1259 4666 \nL 1259 531 \nL 3531 531 \nL 3531 0 \nL 628 0 \nL 628 4666 \nz\n\" transform=\"scale(0.015625)\"/>\n       <path id=\"DejaVuSans-73\" d=\"M 2834 3397 \nL 2834 2853 \nQ 2591 2978 2328 3040 \nQ 2066 3103 1784 3103 \nQ 1356 3103 1142 2972 \nQ 928 2841 928 2578 \nQ 928 2378 1081 2264 \nQ 1234 2150 1697 2047 \nL 1894 2003 \nQ 2506 1872 2764 1633 \nQ 3022 1394 3022 966 \nQ 3022 478 2636 193 \nQ 2250 -91 1575 -91 \nQ 1294 -91 989 -36 \nQ 684 19 347 128 \nL 347 722 \nQ 666 556 975 473 \nQ 1284 391 1588 391 \nQ 1994 391 2212 530 \nQ 2431 669 2431 922 \nQ 2431 1156 2273 1281 \nQ 2116 1406 1581 1522 \nL 1381 1569 \nQ 847 1681 609 1914 \nQ 372 2147 372 2553 \nQ 372 3047 722 3315 \nQ 1072 3584 1716 3584 \nQ 2034 3584 2315 3537 \nQ 2597 3491 2834 3397 \nz\n\" transform=\"scale(0.015625)\"/>\n      </defs>\n      <use xlink:href=\"#DejaVuSans-4c\"/>\n      <use xlink:href=\"#DejaVuSans-6f\" x=\"53.962891\"/>\n      <use xlink:href=\"#DejaVuSans-73\" x=\"115.144531\"/>\n      <use xlink:href=\"#DejaVuSans-73\" x=\"167.244141\"/>\n     </g>\n    </g>\n   </g>\n   <g id=\"line2d_15\">\n    <path d=\"M 83.125573 41.997188 \nL 248.458906 344.397188 \n\" clip-path=\"url(#p77117f3097)\" style=\"fill: none; stroke: #4c72b0; stroke-width: 1.5; stroke-linecap: round\"/>\n    <defs>\n     <path id=\"m2d1eb5c244\" d=\"M 0 3 \nC 0.795609 3 1.55874 2.683901 2.12132 2.12132 \nC 2.683901 1.55874 3 0.795609 3 0 \nC 3 -0.795609 2.683901 -1.55874 2.12132 -2.12132 \nC 1.55874 -2.683901 0.795609 -3 0 -3 \nC -0.795609 -3 -1.55874 -2.683901 -2.12132 -2.12132 \nC -2.683901 -1.55874 -3 -0.795609 -3 0 \nC -3 0.795609 -2.683901 1.55874 -2.12132 2.12132 \nC -1.55874 2.683901 -0.795609 3 0 3 \nz\n\" style=\"stroke: #4c72b0\"/>\n    </defs>\n    <g clip-path=\"url(#p77117f3097)\">\n     <use xlink:href=\"#m2d1eb5c244\" x=\"83.125573\" y=\"41.997188\" style=\"fill: #4c72b0; stroke: #4c72b0\"/>\n     <use xlink:href=\"#m2d1eb5c244\" x=\"248.458906\" y=\"344.397188\" style=\"fill: #4c72b0; stroke: #4c72b0\"/>\n    </g>\n   </g>\n   <g id=\"line2d_16\">\n    <path d=\"M 83.125573 230.719787 \nL 248.458906 285.932537 \n\" clip-path=\"url(#p77117f3097)\" style=\"fill: none; stroke: #55a868; stroke-width: 1.5; stroke-linecap: round\"/>\n    <defs>\n     <path id=\"md306c26acf\" d=\"M 0 3 \nC 0.795609 3 1.55874 2.683901 2.12132 2.12132 \nC 2.683901 1.55874 3 0.795609 3 0 \nC 3 -0.795609 2.683901 -1.55874 2.12132 -2.12132 \nC 1.55874 -2.683901 0.795609 -3 0 -3 \nC -0.795609 -3 -1.55874 -2.683901 -2.12132 -2.12132 \nC -2.683901 -1.55874 -3 -0.795609 -3 0 \nC -3 0.795609 -2.683901 1.55874 -2.12132 2.12132 \nC -1.55874 2.683901 -0.795609 3 0 3 \nz\n\" style=\"stroke: #55a868\"/>\n    </defs>\n    <g clip-path=\"url(#p77117f3097)\">\n     <use xlink:href=\"#md306c26acf\" x=\"83.125573\" y=\"230.719787\" style=\"fill: #55a868; stroke: #55a868\"/>\n     <use xlink:href=\"#md306c26acf\" x=\"248.458906\" y=\"285.932537\" style=\"fill: #55a868; stroke: #55a868\"/>\n    </g>\n   </g>\n   <g id=\"patch_3\">\n    <path d=\"M 74.858906 359.517188 \nL 74.858906 26.877188 \n\" style=\"fill: none; stroke: #ffffff; stroke-width: 1.25; stroke-linejoin: miter; stroke-linecap: square\"/>\n   </g>\n   <g id=\"patch_4\">\n    <path d=\"M 744.458906 359.517188 \nL 744.458906 26.877188 \n\" style=\"fill: none; stroke: #ffffff; stroke-width: 1.25; stroke-linejoin: miter; stroke-linecap: square\"/>\n   </g>\n   <g id=\"patch_5\">\n    <path d=\"M 74.858906 359.517188 \nL 744.458906 359.517188 \n\" style=\"fill: none; stroke: #ffffff; stroke-width: 1.25; stroke-linejoin: miter; stroke-linecap: square\"/>\n   </g>\n   <g id=\"patch_6\">\n    <path d=\"M 74.858906 26.877187 \nL 744.458906 26.877187 \n\" style=\"fill: none; stroke: #ffffff; stroke-width: 1.25; stroke-linejoin: miter; stroke-linecap: square\"/>\n   </g>\n   <g id=\"text_17\">\n    <!-- Training &amp; Validation Loss -->\n    <g style=\"fill: #262626\" transform=\"translate(294.368906 20.877187) scale(0.18 -0.18)\">\n     <defs>\n      <path id=\"DejaVuSans-54\" d=\"M -19 4666 \nL 3928 4666 \nL 3928 4134 \nL 2272 4134 \nL 2272 0 \nL 1638 0 \nL 1638 4134 \nL -19 4134 \nL -19 4666 \nz\n\" transform=\"scale(0.015625)\"/>\n      <path id=\"DejaVuSans-72\" d=\"M 2631 2963 \nQ 2534 3019 2420 3045 \nQ 2306 3072 2169 3072 \nQ 1681 3072 1420 2755 \nQ 1159 2438 1159 1844 \nL 1159 0 \nL 581 0 \nL 581 3500 \nL 1159 3500 \nL 1159 2956 \nQ 1341 3275 1631 3429 \nQ 1922 3584 2338 3584 \nQ 2397 3584 2469 3576 \nQ 2541 3569 2628 3553 \nL 2631 2963 \nz\n\" transform=\"scale(0.015625)\"/>\n      <path id=\"DejaVuSans-61\" d=\"M 2194 1759 \nQ 1497 1759 1228 1600 \nQ 959 1441 959 1056 \nQ 959 750 1161 570 \nQ 1363 391 1709 391 \nQ 2188 391 2477 730 \nQ 2766 1069 2766 1631 \nL 2766 1759 \nL 2194 1759 \nz\nM 3341 1997 \nL 3341 0 \nL 2766 0 \nL 2766 531 \nQ 2569 213 2275 61 \nQ 1981 -91 1556 -91 \nQ 1019 -91 701 211 \nQ 384 513 384 1019 \nQ 384 1609 779 1909 \nQ 1175 2209 1959 2209 \nL 2766 2209 \nL 2766 2266 \nQ 2766 2663 2505 2880 \nQ 2244 3097 1772 3097 \nQ 1472 3097 1187 3025 \nQ 903 2953 641 2809 \nL 641 3341 \nQ 956 3463 1253 3523 \nQ 1550 3584 1831 3584 \nQ 2591 3584 2966 3190 \nQ 3341 2797 3341 1997 \nz\n\" transform=\"scale(0.015625)\"/>\n      <path id=\"DejaVuSans-69\" d=\"M 603 3500 \nL 1178 3500 \nL 1178 0 \nL 603 0 \nL 603 3500 \nz\nM 603 4863 \nL 1178 4863 \nL 1178 4134 \nL 603 4134 \nL 603 4863 \nz\n\" transform=\"scale(0.015625)\"/>\n      <path id=\"DejaVuSans-6e\" d=\"M 3513 2113 \nL 3513 0 \nL 2938 0 \nL 2938 2094 \nQ 2938 2591 2744 2837 \nQ 2550 3084 2163 3084 \nQ 1697 3084 1428 2787 \nQ 1159 2491 1159 1978 \nL 1159 0 \nL 581 0 \nL 581 3500 \nL 1159 3500 \nL 1159 2956 \nQ 1366 3272 1645 3428 \nQ 1925 3584 2291 3584 \nQ 2894 3584 3203 3211 \nQ 3513 2838 3513 2113 \nz\n\" transform=\"scale(0.015625)\"/>\n      <path id=\"DejaVuSans-67\" d=\"M 2906 1791 \nQ 2906 2416 2648 2759 \nQ 2391 3103 1925 3103 \nQ 1463 3103 1205 2759 \nQ 947 2416 947 1791 \nQ 947 1169 1205 825 \nQ 1463 481 1925 481 \nQ 2391 481 2648 825 \nQ 2906 1169 2906 1791 \nz\nM 3481 434 \nQ 3481 -459 3084 -895 \nQ 2688 -1331 1869 -1331 \nQ 1566 -1331 1297 -1286 \nQ 1028 -1241 775 -1147 \nL 775 -588 \nQ 1028 -725 1275 -790 \nQ 1522 -856 1778 -856 \nQ 2344 -856 2625 -561 \nQ 2906 -266 2906 331 \nL 2906 616 \nQ 2728 306 2450 153 \nQ 2172 0 1784 0 \nQ 1141 0 747 490 \nQ 353 981 353 1791 \nQ 353 2603 747 3093 \nQ 1141 3584 1784 3584 \nQ 2172 3584 2450 3431 \nQ 2728 3278 2906 2969 \nL 2906 3500 \nL 3481 3500 \nL 3481 434 \nz\n\" transform=\"scale(0.015625)\"/>\n      <path id=\"DejaVuSans-20\" transform=\"scale(0.015625)\"/>\n      <path id=\"DejaVuSans-26\" d=\"M 1556 2509 \nQ 1272 2256 1139 2004 \nQ 1006 1753 1006 1478 \nQ 1006 1022 1337 719 \nQ 1669 416 2169 416 \nQ 2466 416 2725 514 \nQ 2984 613 3213 813 \nL 1556 2509 \nz\nM 1997 2859 \nL 3584 1234 \nQ 3769 1513 3872 1830 \nQ 3975 2147 3994 2503 \nL 4575 2503 \nQ 4538 2091 4375 1687 \nQ 4213 1284 3922 891 \nL 4794 0 \nL 4006 0 \nL 3559 459 \nQ 3234 181 2878 45 \nQ 2522 -91 2113 -91 \nQ 1359 -91 881 339 \nQ 403 769 403 1441 \nQ 403 1841 612 2192 \nQ 822 2544 1241 2853 \nQ 1091 3050 1012 3245 \nQ 934 3441 934 3628 \nQ 934 4134 1281 4442 \nQ 1628 4750 2203 4750 \nQ 2463 4750 2720 4694 \nQ 2978 4638 3244 4525 \nL 3244 3956 \nQ 2972 4103 2725 4179 \nQ 2478 4256 2266 4256 \nQ 1938 4256 1733 4082 \nQ 1528 3909 1528 3634 \nQ 1528 3475 1620 3314 \nQ 1713 3153 1997 2859 \nz\n\" transform=\"scale(0.015625)\"/>\n      <path id=\"DejaVuSans-56\" d=\"M 1831 0 \nL 50 4666 \nL 709 4666 \nL 2188 738 \nL 3669 4666 \nL 4325 4666 \nL 2547 0 \nL 1831 0 \nz\n\" transform=\"scale(0.015625)\"/>\n      <path id=\"DejaVuSans-6c\" d=\"M 603 4863 \nL 1178 4863 \nL 1178 0 \nL 603 0 \nL 603 4863 \nz\n\" transform=\"scale(0.015625)\"/>\n      <path id=\"DejaVuSans-64\" d=\"M 2906 2969 \nL 2906 4863 \nL 3481 4863 \nL 3481 0 \nL 2906 0 \nL 2906 525 \nQ 2725 213 2448 61 \nQ 2172 -91 1784 -91 \nQ 1150 -91 751 415 \nQ 353 922 353 1747 \nQ 353 2572 751 3078 \nQ 1150 3584 1784 3584 \nQ 2172 3584 2448 3432 \nQ 2725 3281 2906 2969 \nz\nM 947 1747 \nQ 947 1113 1208 752 \nQ 1469 391 1925 391 \nQ 2381 391 2643 752 \nQ 2906 1113 2906 1747 \nQ 2906 2381 2643 2742 \nQ 2381 3103 1925 3103 \nQ 1469 3103 1208 2742 \nQ 947 2381 947 1747 \nz\n\" transform=\"scale(0.015625)\"/>\n      <path id=\"DejaVuSans-74\" d=\"M 1172 4494 \nL 1172 3500 \nL 2356 3500 \nL 2356 3053 \nL 1172 3053 \nL 1172 1153 \nQ 1172 725 1289 603 \nQ 1406 481 1766 481 \nL 2356 481 \nL 2356 0 \nL 1766 0 \nQ 1100 0 847 248 \nQ 594 497 594 1153 \nL 594 3053 \nL 172 3053 \nL 172 3500 \nL 594 3500 \nL 594 4494 \nL 1172 4494 \nz\n\" transform=\"scale(0.015625)\"/>\n     </defs>\n     <use xlink:href=\"#DejaVuSans-54\"/>\n     <use xlink:href=\"#DejaVuSans-72\" x=\"46.333984\"/>\n     <use xlink:href=\"#DejaVuSans-61\" x=\"87.447266\"/>\n     <use xlink:href=\"#DejaVuSans-69\" x=\"148.726562\"/>\n     <use xlink:href=\"#DejaVuSans-6e\" x=\"176.509766\"/>\n     <use xlink:href=\"#DejaVuSans-69\" x=\"239.888672\"/>\n     <use xlink:href=\"#DejaVuSans-6e\" x=\"267.671875\"/>\n     <use xlink:href=\"#DejaVuSans-67\" x=\"331.050781\"/>\n     <use xlink:href=\"#DejaVuSans-20\" x=\"394.527344\"/>\n     <use xlink:href=\"#DejaVuSans-26\" x=\"426.314453\"/>\n     <use xlink:href=\"#DejaVuSans-20\" x=\"504.292969\"/>\n     <use xlink:href=\"#DejaVuSans-56\" x=\"536.080078\"/>\n     <use xlink:href=\"#DejaVuSans-61\" x=\"596.738281\"/>\n     <use xlink:href=\"#DejaVuSans-6c\" x=\"658.017578\"/>\n     <use xlink:href=\"#DejaVuSans-69\" x=\"685.800781\"/>\n     <use xlink:href=\"#DejaVuSans-64\" x=\"713.583984\"/>\n     <use xlink:href=\"#DejaVuSans-61\" x=\"777.060547\"/>\n     <use xlink:href=\"#DejaVuSans-74\" x=\"838.339844\"/>\n     <use xlink:href=\"#DejaVuSans-69\" x=\"877.548828\"/>\n     <use xlink:href=\"#DejaVuSans-6f\" x=\"905.332031\"/>\n     <use xlink:href=\"#DejaVuSans-6e\" x=\"966.513672\"/>\n     <use xlink:href=\"#DejaVuSans-20\" x=\"1029.892578\"/>\n     <use xlink:href=\"#DejaVuSans-4c\" x=\"1061.679688\"/>\n     <use xlink:href=\"#DejaVuSans-6f\" x=\"1115.642578\"/>\n     <use xlink:href=\"#DejaVuSans-73\" x=\"1176.824219\"/>\n     <use xlink:href=\"#DejaVuSans-73\" x=\"1228.923828\"/>\n    </g>\n   </g>\n   <g id=\"legend_1\">\n    <g id=\"patch_7\">\n     <path d=\"M 598.629844 88.515 \nL 732.908906 88.515 \nQ 736.208906 88.515 736.208906 85.215 \nL 736.208906 38.427188 \nQ 736.208906 35.127187 732.908906 35.127187 \nL 598.629844 35.127187 \nQ 595.329844 35.127187 595.329844 38.427188 \nL 595.329844 85.215 \nQ 595.329844 88.515 598.629844 88.515 \nz\n\" style=\"fill: #eaeaf2; opacity: 0.8; stroke: #cccccc; stroke-linejoin: miter\"/>\n    </g>\n    <g id=\"line2d_17\">\n     <path d=\"M 601.929844 48.489609 \nL 618.429844 48.489609 \nL 634.929844 48.489609 \n\" style=\"fill: none; stroke: #4c72b0; stroke-width: 1.5; stroke-linecap: round\"/>\n     <g>\n      <use xlink:href=\"#m2d1eb5c244\" x=\"618.429844\" y=\"48.489609\" style=\"fill: #4c72b0; stroke: #4c72b0\"/>\n     </g>\n    </g>\n    <g id=\"text_18\">\n     <!-- Training -->\n     <g style=\"fill: #262626\" transform=\"translate(648.129844 54.264609) scale(0.165 -0.165)\">\n      <use xlink:href=\"#DejaVuSans-54\"/>\n      <use xlink:href=\"#DejaVuSans-72\" x=\"46.333984\"/>\n      <use xlink:href=\"#DejaVuSans-61\" x=\"87.447266\"/>\n      <use xlink:href=\"#DejaVuSans-69\" x=\"148.726562\"/>\n      <use xlink:href=\"#DejaVuSans-6e\" x=\"176.509766\"/>\n      <use xlink:href=\"#DejaVuSans-69\" x=\"239.888672\"/>\n      <use xlink:href=\"#DejaVuSans-6e\" x=\"267.671875\"/>\n      <use xlink:href=\"#DejaVuSans-67\" x=\"331.050781\"/>\n     </g>\n    </g>\n    <g id=\"line2d_18\">\n     <path d=\"M 601.929844 72.708516 \nL 618.429844 72.708516 \nL 634.929844 72.708516 \n\" style=\"fill: none; stroke: #55a868; stroke-width: 1.5; stroke-linecap: round\"/>\n     <g>\n      <use xlink:href=\"#md306c26acf\" x=\"618.429844\" y=\"72.708516\" style=\"fill: #55a868; stroke: #55a868\"/>\n     </g>\n    </g>\n    <g id=\"text_19\">\n     <!-- Validation -->\n     <g style=\"fill: #262626\" transform=\"translate(648.129844 78.483516) scale(0.165 -0.165)\">\n      <use xlink:href=\"#DejaVuSans-56\"/>\n      <use xlink:href=\"#DejaVuSans-61\" x=\"60.658203\"/>\n      <use xlink:href=\"#DejaVuSans-6c\" x=\"121.9375\"/>\n      <use xlink:href=\"#DejaVuSans-69\" x=\"149.720703\"/>\n      <use xlink:href=\"#DejaVuSans-64\" x=\"177.503906\"/>\n      <use xlink:href=\"#DejaVuSans-61\" x=\"240.980469\"/>\n      <use xlink:href=\"#DejaVuSans-74\" x=\"302.259766\"/>\n      <use xlink:href=\"#DejaVuSans-69\" x=\"341.46875\"/>\n      <use xlink:href=\"#DejaVuSans-6f\" x=\"369.251953\"/>\n      <use xlink:href=\"#DejaVuSans-6e\" x=\"430.433594\"/>\n     </g>\n    </g>\n   </g>\n  </g>\n </g>\n <defs>\n  <clipPath id=\"p77117f3097\">\n   <rect x=\"74.858906\" y=\"26.877187\" width=\"669.6\" height=\"332.64\"/>\n  </clipPath>\n </defs>\n</svg>\n"
          },
          "metadata": {}
        }
      ],
      "source": [
        "# Use plot styling from seaborn.\n",
        "sns.set(style='darkgrid')\n",
        "\n",
        "# Increase the plot size and font size.\n",
        "sns.set(font_scale=1.5)\n",
        "plt.rcParams[\"figure.figsize\"] = (12,6)\n",
        "\n",
        "# Plot the learning curve.\n",
        "plt.plot(df_stats['Training Loss'], 'b-o', label=\"Training\")\n",
        "plt.plot(df_stats['Valid. Loss'], 'g-o', label=\"Validation\")\n",
        "\n",
        "# Label the plot.\n",
        "plt.title(\"Training & Validation Loss\")\n",
        "plt.xlabel(\"Epoch\")\n",
        "plt.ylabel(\"Loss\")\n",
        "plt.legend()\n",
        "plt.xticks([1, 2, 3, 4,5])\n",
        "\n",
        "plt.show()"
      ]
    },
    {
      "cell_type": "code",
      "execution_count": null,
      "metadata": {
        "id": "-04D-Ed5dDCP",
        "colab": {
          "base_uri": "https://localhost:8080/"
        },
        "outputId": "2cd555db-8556-4860-d3b4-c049496439c9"
      },
      "outputs": [
        {
          "output_type": "stream",
          "name": "stdout",
          "text": [
            "DONE.\n"
          ]
        }
      ],
      "source": [
        "# Prediction on test set\n",
        "\n",
        "# Put model in evaluation mode\n",
        "xlmr_model.eval()\n",
        "\n",
        "# Tracking variables\n",
        "predictions , true_labels = [], []\n",
        "\n",
        "# Predict\n",
        "for batch in test_dataloader:\n",
        "  # Add batch to GPU\n",
        "  batch = tuple(t.to(device) for t in batch)\n",
        "\n",
        "  # Unpack the inputs from our dataloader\n",
        "  b_input_ids, b_input_mask, b_labels = batch\n",
        "\n",
        "  # Telling the model not to compute or store gradients, saving memory and\n",
        "  # speeding up prediction\n",
        "  with torch.no_grad():\n",
        "      # Forward pass, calculate logit predictions.\n",
        "      result = xlmr_model(b_input_ids,\n",
        "                     token_type_ids=None,\n",
        "                     attention_mask=b_input_mask,\n",
        "                     return_dict=True)\n",
        "\n",
        "  logits = result.logits\n",
        "\n",
        "  # Move logits and labels to CPU\n",
        "  logits = logits.detach().cpu().numpy()\n",
        "  label_ids = b_labels.to('cpu').numpy()\n",
        "\n",
        "  # Store predictions and true labels\n",
        "  predictions.append(logits)\n",
        "  true_labels.append(label_ids)\n",
        "\n",
        "print('DONE.')"
      ]
    },
    {
      "cell_type": "code",
      "source": [
        "from sklearn.metrics import matthews_corrcoef"
      ],
      "metadata": {
        "id": "iHgmaBhiLthN"
      },
      "execution_count": null,
      "outputs": []
    },
    {
      "cell_type": "code",
      "execution_count": null,
      "metadata": {
        "id": "2gcG60BWeDyV",
        "colab": {
          "base_uri": "https://localhost:8080/"
        },
        "outputId": "39e5c8ad-67af-4b5f-d605-6bf20d1eac25"
      },
      "outputs": [
        {
          "output_type": "stream",
          "name": "stdout",
          "text": [
            "Calculating Matthews Corr. Coef. for each batch...\n"
          ]
        }
      ],
      "source": [
        "matthews_set = []\n",
        "\n",
        "# Evaluate each test batch using Matthew's correlation coefficient\n",
        "print('Calculating Matthews Corr. Coef. for each batch...')\n",
        "\n",
        "# For each input batch...\n",
        "for i in range(len(true_labels)):\n",
        "\n",
        "  # The predictions for this batch are a 2-column ndarray (one column for \"0\"\n",
        "  # and one column for \"1\"). Pick the label with the highest value and turn this\n",
        "  # in to a list of 0s and 1s.\n",
        "  pred_labels_i = np.argmax(predictions[i], axis=1).flatten()\n",
        "\n",
        "  # Calculate and store the coef for this batch.\n",
        "  matthews = matthews_corrcoef(true_labels[i], pred_labels_i)\n",
        "  matthews_set.append(matthews)"
      ]
    },
    {
      "cell_type": "code",
      "execution_count": null,
      "metadata": {
        "id": "mqcWFWSFdFEf",
        "colab": {
          "base_uri": "https://localhost:8080/",
          "height": 662
        },
        "outputId": "93e4e4fe-d602-4418-f4bb-f7923c3e4d2a"
      },
      "outputs": [
        {
          "output_type": "stream",
          "name": "stderr",
          "text": [
            "<ipython-input-212-a1af80ea924d>:2: FutureWarning: \n",
            "\n",
            "The `ci` parameter is deprecated. Use `errorbar=None` for the same effect.\n",
            "\n",
            "  ax = sns.barplot(x=list(range(len(matthews_set))), y=matthews_set, ci=None)\n"
          ]
        },
        {
          "output_type": "display_data",
          "data": {
            "text/plain": [
              "<Figure size 1200x600 with 1 Axes>"
            ],
            "image/svg+xml": "<?xml version=\"1.0\" encoding=\"utf-8\" standalone=\"no\"?>\n<!DOCTYPE svg PUBLIC \"-//W3C//DTD SVG 1.1//EN\"\n  \"http://www.w3.org/Graphics/SVG/1.1/DTD/svg11.dtd\">\n<svg xmlns:xlink=\"http://www.w3.org/1999/xlink\" width=\"747.938906pt\" height=\"413.606719pt\" viewBox=\"0 0 747.938906 413.606719\" xmlns=\"http://www.w3.org/2000/svg\" version=\"1.1\">\n <metadata>\n  <rdf:RDF xmlns:dc=\"http://purl.org/dc/elements/1.1/\" xmlns:cc=\"http://creativecommons.org/ns#\" xmlns:rdf=\"http://www.w3.org/1999/02/22-rdf-syntax-ns#\">\n   <cc:Work>\n    <dc:type rdf:resource=\"http://purl.org/dc/dcmitype/StillImage\"/>\n    <dc:date>2023-07-09T21:14:21.157919</dc:date>\n    <dc:format>image/svg+xml</dc:format>\n    <dc:creator>\n     <cc:Agent>\n      <dc:title>Matplotlib v3.7.1, https://matplotlib.org/</dc:title>\n     </cc:Agent>\n    </dc:creator>\n   </cc:Work>\n  </rdf:RDF>\n </metadata>\n <defs>\n  <style type=\"text/css\">*{stroke-linejoin: round; stroke-linecap: butt}</style>\n </defs>\n <g id=\"figure_1\">\n  <g id=\"patch_1\">\n   <path d=\"M 0 413.606719 \nL 747.938906 413.606719 \nL 747.938906 0 \nL 0 0 \nz\n\" style=\"fill: #ffffff\"/>\n  </g>\n  <g id=\"axes_1\">\n   <g id=\"patch_2\">\n    <path d=\"M 64.360781 359.517188 \nL 733.960781 359.517188 \nL 733.960781 26.877187 \nL 64.360781 26.877187 \nz\n\" style=\"fill: #eaeaf2\"/>\n   </g>\n   <g id=\"matplotlib.axis_1\">\n    <g id=\"xtick_1\">\n     <g id=\"text_1\">\n      <!-- 0 -->\n      <g style=\"fill: #262626\" transform=\"translate(62.831719 381.554609) scale(0.165 -0.165)\">\n       <defs>\n        <path id=\"DejaVuSans-30\" d=\"M 2034 4250 \nQ 1547 4250 1301 3770 \nQ 1056 3291 1056 2328 \nQ 1056 1369 1301 889 \nQ 1547 409 2034 409 \nQ 2525 409 2770 889 \nQ 3016 1369 3016 2328 \nQ 3016 3291 2770 3770 \nQ 2525 4250 2034 4250 \nz\nM 2034 4750 \nQ 2819 4750 3233 4129 \nQ 3647 3509 3647 2328 \nQ 3647 1150 3233 529 \nQ 2819 -91 2034 -91 \nQ 1250 -91 836 529 \nQ 422 1150 422 2328 \nQ 422 3509 836 4129 \nQ 1250 4750 2034 4750 \nz\n\" transform=\"scale(0.015625)\"/>\n       </defs>\n       <use xlink:href=\"#DejaVuSans-30\"/>\n      </g>\n     </g>\n    </g>\n    <g id=\"xtick_2\">\n     <g id=\"text_2\">\n      <!-- 1 -->\n      <g style=\"fill: #262626\" transform=\"translate(70.271719 381.554609) scale(0.165 -0.165)\">\n       <defs>\n        <path id=\"DejaVuSans-31\" d=\"M 794 531 \nL 1825 531 \nL 1825 4091 \nL 703 3866 \nL 703 4441 \nL 1819 4666 \nL 2450 4666 \nL 2450 531 \nL 3481 531 \nL 3481 0 \nL 794 0 \nL 794 531 \nz\n\" transform=\"scale(0.015625)\"/>\n       </defs>\n       <use xlink:href=\"#DejaVuSans-31\"/>\n      </g>\n     </g>\n    </g>\n    <g id=\"xtick_3\">\n     <g id=\"text_3\">\n      <!-- 2 -->\n      <g style=\"fill: #262626\" transform=\"translate(77.711719 381.554609) scale(0.165 -0.165)\">\n       <defs>\n        <path id=\"DejaVuSans-32\" d=\"M 1228 531 \nL 3431 531 \nL 3431 0 \nL 469 0 \nL 469 531 \nQ 828 903 1448 1529 \nQ 2069 2156 2228 2338 \nQ 2531 2678 2651 2914 \nQ 2772 3150 2772 3378 \nQ 2772 3750 2511 3984 \nQ 2250 4219 1831 4219 \nQ 1534 4219 1204 4116 \nQ 875 4013 500 3803 \nL 500 4441 \nQ 881 4594 1212 4672 \nQ 1544 4750 1819 4750 \nQ 2544 4750 2975 4387 \nQ 3406 4025 3406 3419 \nQ 3406 3131 3298 2873 \nQ 3191 2616 2906 2266 \nQ 2828 2175 2409 1742 \nQ 1991 1309 1228 531 \nz\n\" transform=\"scale(0.015625)\"/>\n       </defs>\n       <use xlink:href=\"#DejaVuSans-32\"/>\n      </g>\n     </g>\n    </g>\n    <g id=\"xtick_4\">\n     <g id=\"text_4\">\n      <!-- 3 -->\n      <g style=\"fill: #262626\" transform=\"translate(85.151719 381.554609) scale(0.165 -0.165)\">\n       <defs>\n        <path id=\"DejaVuSans-33\" d=\"M 2597 2516 \nQ 3050 2419 3304 2112 \nQ 3559 1806 3559 1356 \nQ 3559 666 3084 287 \nQ 2609 -91 1734 -91 \nQ 1441 -91 1130 -33 \nQ 819 25 488 141 \nL 488 750 \nQ 750 597 1062 519 \nQ 1375 441 1716 441 \nQ 2309 441 2620 675 \nQ 2931 909 2931 1356 \nQ 2931 1769 2642 2001 \nQ 2353 2234 1838 2234 \nL 1294 2234 \nL 1294 2753 \nL 1863 2753 \nQ 2328 2753 2575 2939 \nQ 2822 3125 2822 3475 \nQ 2822 3834 2567 4026 \nQ 2313 4219 1838 4219 \nQ 1578 4219 1281 4162 \nQ 984 4106 628 3988 \nL 628 4550 \nQ 988 4650 1302 4700 \nQ 1616 4750 1894 4750 \nQ 2613 4750 3031 4423 \nQ 3450 4097 3450 3541 \nQ 3450 3153 3228 2886 \nQ 3006 2619 2597 2516 \nz\n\" transform=\"scale(0.015625)\"/>\n       </defs>\n       <use xlink:href=\"#DejaVuSans-33\"/>\n      </g>\n     </g>\n    </g>\n    <g id=\"xtick_5\">\n     <g id=\"text_5\">\n      <!-- 4 -->\n      <g style=\"fill: #262626\" transform=\"translate(92.591719 381.554609) scale(0.165 -0.165)\">\n       <defs>\n        <path id=\"DejaVuSans-34\" d=\"M 2419 4116 \nL 825 1625 \nL 2419 1625 \nL 2419 4116 \nz\nM 2253 4666 \nL 3047 4666 \nL 3047 1625 \nL 3713 1625 \nL 3713 1100 \nL 3047 1100 \nL 3047 0 \nL 2419 0 \nL 2419 1100 \nL 313 1100 \nL 313 1709 \nL 2253 4666 \nz\n\" transform=\"scale(0.015625)\"/>\n       </defs>\n       <use xlink:href=\"#DejaVuSans-34\"/>\n      </g>\n     </g>\n    </g>\n    <g id=\"xtick_6\">\n     <g id=\"text_6\">\n      <!-- 5 -->\n      <g style=\"fill: #262626\" transform=\"translate(100.031719 381.554609) scale(0.165 -0.165)\">\n       <defs>\n        <path id=\"DejaVuSans-35\" d=\"M 691 4666 \nL 3169 4666 \nL 3169 4134 \nL 1269 4134 \nL 1269 2991 \nQ 1406 3038 1543 3061 \nQ 1681 3084 1819 3084 \nQ 2600 3084 3056 2656 \nQ 3513 2228 3513 1497 \nQ 3513 744 3044 326 \nQ 2575 -91 1722 -91 \nQ 1428 -91 1123 -41 \nQ 819 9 494 109 \nL 494 744 \nQ 775 591 1075 516 \nQ 1375 441 1709 441 \nQ 2250 441 2565 725 \nQ 2881 1009 2881 1497 \nQ 2881 1984 2565 2268 \nQ 2250 2553 1709 2553 \nQ 1456 2553 1204 2497 \nQ 953 2441 691 2322 \nL 691 4666 \nz\n\" transform=\"scale(0.015625)\"/>\n       </defs>\n       <use xlink:href=\"#DejaVuSans-35\"/>\n      </g>\n     </g>\n    </g>\n    <g id=\"xtick_7\">\n     <g id=\"text_7\">\n      <!-- 6 -->\n      <g style=\"fill: #262626\" transform=\"translate(107.471719 381.554609) scale(0.165 -0.165)\">\n       <defs>\n        <path id=\"DejaVuSans-36\" d=\"M 2113 2584 \nQ 1688 2584 1439 2293 \nQ 1191 2003 1191 1497 \nQ 1191 994 1439 701 \nQ 1688 409 2113 409 \nQ 2538 409 2786 701 \nQ 3034 994 3034 1497 \nQ 3034 2003 2786 2293 \nQ 2538 2584 2113 2584 \nz\nM 3366 4563 \nL 3366 3988 \nQ 3128 4100 2886 4159 \nQ 2644 4219 2406 4219 \nQ 1781 4219 1451 3797 \nQ 1122 3375 1075 2522 \nQ 1259 2794 1537 2939 \nQ 1816 3084 2150 3084 \nQ 2853 3084 3261 2657 \nQ 3669 2231 3669 1497 \nQ 3669 778 3244 343 \nQ 2819 -91 2113 -91 \nQ 1303 -91 875 529 \nQ 447 1150 447 2328 \nQ 447 3434 972 4092 \nQ 1497 4750 2381 4750 \nQ 2619 4750 2861 4703 \nQ 3103 4656 3366 4563 \nz\n\" transform=\"scale(0.015625)\"/>\n       </defs>\n       <use xlink:href=\"#DejaVuSans-36\"/>\n      </g>\n     </g>\n    </g>\n    <g id=\"xtick_8\">\n     <g id=\"text_8\">\n      <!-- 7 -->\n      <g style=\"fill: #262626\" transform=\"translate(114.911719 381.554609) scale(0.165 -0.165)\">\n       <defs>\n        <path id=\"DejaVuSans-37\" d=\"M 525 4666 \nL 3525 4666 \nL 3525 4397 \nL 1831 0 \nL 1172 0 \nL 2766 4134 \nL 525 4134 \nL 525 4666 \nz\n\" transform=\"scale(0.015625)\"/>\n       </defs>\n       <use xlink:href=\"#DejaVuSans-37\"/>\n      </g>\n     </g>\n    </g>\n    <g id=\"xtick_9\">\n     <g id=\"text_9\">\n      <!-- 8 -->\n      <g style=\"fill: #262626\" transform=\"translate(122.351719 381.554609) scale(0.165 -0.165)\">\n       <defs>\n        <path id=\"DejaVuSans-38\" d=\"M 2034 2216 \nQ 1584 2216 1326 1975 \nQ 1069 1734 1069 1313 \nQ 1069 891 1326 650 \nQ 1584 409 2034 409 \nQ 2484 409 2743 651 \nQ 3003 894 3003 1313 \nQ 3003 1734 2745 1975 \nQ 2488 2216 2034 2216 \nz\nM 1403 2484 \nQ 997 2584 770 2862 \nQ 544 3141 544 3541 \nQ 544 4100 942 4425 \nQ 1341 4750 2034 4750 \nQ 2731 4750 3128 4425 \nQ 3525 4100 3525 3541 \nQ 3525 3141 3298 2862 \nQ 3072 2584 2669 2484 \nQ 3125 2378 3379 2068 \nQ 3634 1759 3634 1313 \nQ 3634 634 3220 271 \nQ 2806 -91 2034 -91 \nQ 1263 -91 848 271 \nQ 434 634 434 1313 \nQ 434 1759 690 2068 \nQ 947 2378 1403 2484 \nz\nM 1172 3481 \nQ 1172 3119 1398 2916 \nQ 1625 2713 2034 2713 \nQ 2441 2713 2670 2916 \nQ 2900 3119 2900 3481 \nQ 2900 3844 2670 4047 \nQ 2441 4250 2034 4250 \nQ 1625 4250 1398 4047 \nQ 1172 3844 1172 3481 \nz\n\" transform=\"scale(0.015625)\"/>\n       </defs>\n       <use xlink:href=\"#DejaVuSans-38\"/>\n      </g>\n     </g>\n    </g>\n    <g id=\"xtick_10\">\n     <g id=\"text_10\">\n      <!-- 9 -->\n      <g style=\"fill: #262626\" transform=\"translate(129.791719 381.554609) scale(0.165 -0.165)\">\n       <defs>\n        <path id=\"DejaVuSans-39\" d=\"M 703 97 \nL 703 672 \nQ 941 559 1184 500 \nQ 1428 441 1663 441 \nQ 2288 441 2617 861 \nQ 2947 1281 2994 2138 \nQ 2813 1869 2534 1725 \nQ 2256 1581 1919 1581 \nQ 1219 1581 811 2004 \nQ 403 2428 403 3163 \nQ 403 3881 828 4315 \nQ 1253 4750 1959 4750 \nQ 2769 4750 3195 4129 \nQ 3622 3509 3622 2328 \nQ 3622 1225 3098 567 \nQ 2575 -91 1691 -91 \nQ 1453 -91 1209 -44 \nQ 966 3 703 97 \nz\nM 1959 2075 \nQ 2384 2075 2632 2365 \nQ 2881 2656 2881 3163 \nQ 2881 3666 2632 3958 \nQ 2384 4250 1959 4250 \nQ 1534 4250 1286 3958 \nQ 1038 3666 1038 3163 \nQ 1038 2656 1286 2365 \nQ 1534 2075 1959 2075 \nz\n\" transform=\"scale(0.015625)\"/>\n       </defs>\n       <use xlink:href=\"#DejaVuSans-39\"/>\n      </g>\n     </g>\n    </g>\n    <g id=\"xtick_11\">\n     <g id=\"text_11\">\n      <!-- 10 -->\n      <g style=\"fill: #262626\" transform=\"translate(131.982656 381.554609) scale(0.165 -0.165)\">\n       <use xlink:href=\"#DejaVuSans-31\"/>\n       <use xlink:href=\"#DejaVuSans-30\" x=\"63.623047\"/>\n      </g>\n     </g>\n    </g>\n    <g id=\"xtick_12\">\n     <g id=\"text_12\">\n      <!-- 11 -->\n      <g style=\"fill: #262626\" transform=\"translate(139.422656 381.554609) scale(0.165 -0.165)\">\n       <use xlink:href=\"#DejaVuSans-31\"/>\n       <use xlink:href=\"#DejaVuSans-31\" x=\"63.623047\"/>\n      </g>\n     </g>\n    </g>\n    <g id=\"xtick_13\">\n     <g id=\"text_13\">\n      <!-- 12 -->\n      <g style=\"fill: #262626\" transform=\"translate(146.862656 381.554609) scale(0.165 -0.165)\">\n       <use xlink:href=\"#DejaVuSans-31\"/>\n       <use xlink:href=\"#DejaVuSans-32\" x=\"63.623047\"/>\n      </g>\n     </g>\n    </g>\n    <g id=\"xtick_14\">\n     <g id=\"text_14\">\n      <!-- 13 -->\n      <g style=\"fill: #262626\" transform=\"translate(154.302656 381.554609) scale(0.165 -0.165)\">\n       <use xlink:href=\"#DejaVuSans-31\"/>\n       <use xlink:href=\"#DejaVuSans-33\" x=\"63.623047\"/>\n      </g>\n     </g>\n    </g>\n    <g id=\"xtick_15\">\n     <g id=\"text_15\">\n      <!-- 14 -->\n      <g style=\"fill: #262626\" transform=\"translate(161.742656 381.554609) scale(0.165 -0.165)\">\n       <use xlink:href=\"#DejaVuSans-31\"/>\n       <use xlink:href=\"#DejaVuSans-34\" x=\"63.623047\"/>\n      </g>\n     </g>\n    </g>\n    <g id=\"xtick_16\">\n     <g id=\"text_16\">\n      <!-- 15 -->\n      <g style=\"fill: #262626\" transform=\"translate(169.182656 381.554609) scale(0.165 -0.165)\">\n       <use xlink:href=\"#DejaVuSans-31\"/>\n       <use xlink:href=\"#DejaVuSans-35\" x=\"63.623047\"/>\n      </g>\n     </g>\n    </g>\n    <g id=\"xtick_17\">\n     <g id=\"text_17\">\n      <!-- 16 -->\n      <g style=\"fill: #262626\" transform=\"translate(176.622656 381.554609) scale(0.165 -0.165)\">\n       <use xlink:href=\"#DejaVuSans-31\"/>\n       <use xlink:href=\"#DejaVuSans-36\" x=\"63.623047\"/>\n      </g>\n     </g>\n    </g>\n    <g id=\"xtick_18\">\n     <g id=\"text_18\">\n      <!-- 17 -->\n      <g style=\"fill: #262626\" transform=\"translate(184.062656 381.554609) scale(0.165 -0.165)\">\n       <use xlink:href=\"#DejaVuSans-31\"/>\n       <use xlink:href=\"#DejaVuSans-37\" x=\"63.623047\"/>\n      </g>\n     </g>\n    </g>\n    <g id=\"xtick_19\">\n     <g id=\"text_19\">\n      <!-- 18 -->\n      <g style=\"fill: #262626\" transform=\"translate(191.502656 381.554609) scale(0.165 -0.165)\">\n       <use xlink:href=\"#DejaVuSans-31\"/>\n       <use xlink:href=\"#DejaVuSans-38\" x=\"63.623047\"/>\n      </g>\n     </g>\n    </g>\n    <g id=\"xtick_20\">\n     <g id=\"text_20\">\n      <!-- 19 -->\n      <g style=\"fill: #262626\" transform=\"translate(198.942656 381.554609) scale(0.165 -0.165)\">\n       <use xlink:href=\"#DejaVuSans-31\"/>\n       <use xlink:href=\"#DejaVuSans-39\" x=\"63.623047\"/>\n      </g>\n     </g>\n    </g>\n    <g id=\"xtick_21\">\n     <g id=\"text_21\">\n      <!-- 20 -->\n      <g style=\"fill: #262626\" transform=\"translate(206.382656 381.554609) scale(0.165 -0.165)\">\n       <use xlink:href=\"#DejaVuSans-32\"/>\n       <use xlink:href=\"#DejaVuSans-30\" x=\"63.623047\"/>\n      </g>\n     </g>\n    </g>\n    <g id=\"xtick_22\">\n     <g id=\"text_22\">\n      <!-- 21 -->\n      <g style=\"fill: #262626\" transform=\"translate(213.822656 381.554609) scale(0.165 -0.165)\">\n       <use xlink:href=\"#DejaVuSans-32\"/>\n       <use xlink:href=\"#DejaVuSans-31\" x=\"63.623047\"/>\n      </g>\n     </g>\n    </g>\n    <g id=\"xtick_23\">\n     <g id=\"text_23\">\n      <!-- 22 -->\n      <g style=\"fill: #262626\" transform=\"translate(221.262656 381.554609) scale(0.165 -0.165)\">\n       <use xlink:href=\"#DejaVuSans-32\"/>\n       <use xlink:href=\"#DejaVuSans-32\" x=\"63.623047\"/>\n      </g>\n     </g>\n    </g>\n    <g id=\"xtick_24\">\n     <g id=\"text_24\">\n      <!-- 23 -->\n      <g style=\"fill: #262626\" transform=\"translate(228.702656 381.554609) scale(0.165 -0.165)\">\n       <use xlink:href=\"#DejaVuSans-32\"/>\n       <use xlink:href=\"#DejaVuSans-33\" x=\"63.623047\"/>\n      </g>\n     </g>\n    </g>\n    <g id=\"xtick_25\">\n     <g id=\"text_25\">\n      <!-- 24 -->\n      <g style=\"fill: #262626\" transform=\"translate(236.142656 381.554609) scale(0.165 -0.165)\">\n       <use xlink:href=\"#DejaVuSans-32\"/>\n       <use xlink:href=\"#DejaVuSans-34\" x=\"63.623047\"/>\n      </g>\n     </g>\n    </g>\n    <g id=\"xtick_26\">\n     <g id=\"text_26\">\n      <!-- 25 -->\n      <g style=\"fill: #262626\" transform=\"translate(243.582656 381.554609) scale(0.165 -0.165)\">\n       <use xlink:href=\"#DejaVuSans-32\"/>\n       <use xlink:href=\"#DejaVuSans-35\" x=\"63.623047\"/>\n      </g>\n     </g>\n    </g>\n    <g id=\"xtick_27\">\n     <g id=\"text_27\">\n      <!-- 26 -->\n      <g style=\"fill: #262626\" transform=\"translate(251.022656 381.554609) scale(0.165 -0.165)\">\n       <use xlink:href=\"#DejaVuSans-32\"/>\n       <use xlink:href=\"#DejaVuSans-36\" x=\"63.623047\"/>\n      </g>\n     </g>\n    </g>\n    <g id=\"xtick_28\">\n     <g id=\"text_28\">\n      <!-- 27 -->\n      <g style=\"fill: #262626\" transform=\"translate(258.462656 381.554609) scale(0.165 -0.165)\">\n       <use xlink:href=\"#DejaVuSans-32\"/>\n       <use xlink:href=\"#DejaVuSans-37\" x=\"63.623047\"/>\n      </g>\n     </g>\n    </g>\n    <g id=\"xtick_29\">\n     <g id=\"text_29\">\n      <!-- 28 -->\n      <g style=\"fill: #262626\" transform=\"translate(265.902656 381.554609) scale(0.165 -0.165)\">\n       <use xlink:href=\"#DejaVuSans-32\"/>\n       <use xlink:href=\"#DejaVuSans-38\" x=\"63.623047\"/>\n      </g>\n     </g>\n    </g>\n    <g id=\"xtick_30\">\n     <g id=\"text_30\">\n      <!-- 29 -->\n      <g style=\"fill: #262626\" transform=\"translate(273.342656 381.554609) scale(0.165 -0.165)\">\n       <use xlink:href=\"#DejaVuSans-32\"/>\n       <use xlink:href=\"#DejaVuSans-39\" x=\"63.623047\"/>\n      </g>\n     </g>\n    </g>\n    <g id=\"xtick_31\">\n     <g id=\"text_31\">\n      <!-- 30 -->\n      <g style=\"fill: #262626\" transform=\"translate(280.782656 381.554609) scale(0.165 -0.165)\">\n       <use xlink:href=\"#DejaVuSans-33\"/>\n       <use xlink:href=\"#DejaVuSans-30\" x=\"63.623047\"/>\n      </g>\n     </g>\n    </g>\n    <g id=\"xtick_32\">\n     <g id=\"text_32\">\n      <!-- 31 -->\n      <g style=\"fill: #262626\" transform=\"translate(288.222656 381.554609) scale(0.165 -0.165)\">\n       <use xlink:href=\"#DejaVuSans-33\"/>\n       <use xlink:href=\"#DejaVuSans-31\" x=\"63.623047\"/>\n      </g>\n     </g>\n    </g>\n    <g id=\"xtick_33\">\n     <g id=\"text_33\">\n      <!-- 32 -->\n      <g style=\"fill: #262626\" transform=\"translate(295.662656 381.554609) scale(0.165 -0.165)\">\n       <use xlink:href=\"#DejaVuSans-33\"/>\n       <use xlink:href=\"#DejaVuSans-32\" x=\"63.623047\"/>\n      </g>\n     </g>\n    </g>\n    <g id=\"xtick_34\">\n     <g id=\"text_34\">\n      <!-- 33 -->\n      <g style=\"fill: #262626\" transform=\"translate(303.102656 381.554609) scale(0.165 -0.165)\">\n       <use xlink:href=\"#DejaVuSans-33\"/>\n       <use xlink:href=\"#DejaVuSans-33\" x=\"63.623047\"/>\n      </g>\n     </g>\n    </g>\n    <g id=\"xtick_35\">\n     <g id=\"text_35\">\n      <!-- 34 -->\n      <g style=\"fill: #262626\" transform=\"translate(310.542656 381.554609) scale(0.165 -0.165)\">\n       <use xlink:href=\"#DejaVuSans-33\"/>\n       <use xlink:href=\"#DejaVuSans-34\" x=\"63.623047\"/>\n      </g>\n     </g>\n    </g>\n    <g id=\"xtick_36\">\n     <g id=\"text_36\">\n      <!-- 35 -->\n      <g style=\"fill: #262626\" transform=\"translate(317.982656 381.554609) scale(0.165 -0.165)\">\n       <use xlink:href=\"#DejaVuSans-33\"/>\n       <use xlink:href=\"#DejaVuSans-35\" x=\"63.623047\"/>\n      </g>\n     </g>\n    </g>\n    <g id=\"xtick_37\">\n     <g id=\"text_37\">\n      <!-- 36 -->\n      <g style=\"fill: #262626\" transform=\"translate(325.422656 381.554609) scale(0.165 -0.165)\">\n       <use xlink:href=\"#DejaVuSans-33\"/>\n       <use xlink:href=\"#DejaVuSans-36\" x=\"63.623047\"/>\n      </g>\n     </g>\n    </g>\n    <g id=\"xtick_38\">\n     <g id=\"text_38\">\n      <!-- 37 -->\n      <g style=\"fill: #262626\" transform=\"translate(332.862656 381.554609) scale(0.165 -0.165)\">\n       <use xlink:href=\"#DejaVuSans-33\"/>\n       <use xlink:href=\"#DejaVuSans-37\" x=\"63.623047\"/>\n      </g>\n     </g>\n    </g>\n    <g id=\"xtick_39\">\n     <g id=\"text_39\">\n      <!-- 38 -->\n      <g style=\"fill: #262626\" transform=\"translate(340.302656 381.554609) scale(0.165 -0.165)\">\n       <use xlink:href=\"#DejaVuSans-33\"/>\n       <use xlink:href=\"#DejaVuSans-38\" x=\"63.623047\"/>\n      </g>\n     </g>\n    </g>\n    <g id=\"xtick_40\">\n     <g id=\"text_40\">\n      <!-- 39 -->\n      <g style=\"fill: #262626\" transform=\"translate(347.742656 381.554609) scale(0.165 -0.165)\">\n       <use xlink:href=\"#DejaVuSans-33\"/>\n       <use xlink:href=\"#DejaVuSans-39\" x=\"63.623047\"/>\n      </g>\n     </g>\n    </g>\n    <g id=\"xtick_41\">\n     <g id=\"text_41\">\n      <!-- 40 -->\n      <g style=\"fill: #262626\" transform=\"translate(355.182656 381.554609) scale(0.165 -0.165)\">\n       <use xlink:href=\"#DejaVuSans-34\"/>\n       <use xlink:href=\"#DejaVuSans-30\" x=\"63.623047\"/>\n      </g>\n     </g>\n    </g>\n    <g id=\"xtick_42\">\n     <g id=\"text_42\">\n      <!-- 41 -->\n      <g style=\"fill: #262626\" transform=\"translate(362.622656 381.554609) scale(0.165 -0.165)\">\n       <use xlink:href=\"#DejaVuSans-34\"/>\n       <use xlink:href=\"#DejaVuSans-31\" x=\"63.623047\"/>\n      </g>\n     </g>\n    </g>\n    <g id=\"xtick_43\">\n     <g id=\"text_43\">\n      <!-- 42 -->\n      <g style=\"fill: #262626\" transform=\"translate(370.062656 381.554609) scale(0.165 -0.165)\">\n       <use xlink:href=\"#DejaVuSans-34\"/>\n       <use xlink:href=\"#DejaVuSans-32\" x=\"63.623047\"/>\n      </g>\n     </g>\n    </g>\n    <g id=\"xtick_44\">\n     <g id=\"text_44\">\n      <!-- 43 -->\n      <g style=\"fill: #262626\" transform=\"translate(377.502656 381.554609) scale(0.165 -0.165)\">\n       <use xlink:href=\"#DejaVuSans-34\"/>\n       <use xlink:href=\"#DejaVuSans-33\" x=\"63.623047\"/>\n      </g>\n     </g>\n    </g>\n    <g id=\"xtick_45\">\n     <g id=\"text_45\">\n      <!-- 44 -->\n      <g style=\"fill: #262626\" transform=\"translate(384.942656 381.554609) scale(0.165 -0.165)\">\n       <use xlink:href=\"#DejaVuSans-34\"/>\n       <use xlink:href=\"#DejaVuSans-34\" x=\"63.623047\"/>\n      </g>\n     </g>\n    </g>\n    <g id=\"xtick_46\">\n     <g id=\"text_46\">\n      <!-- 45 -->\n      <g style=\"fill: #262626\" transform=\"translate(392.382656 381.554609) scale(0.165 -0.165)\">\n       <use xlink:href=\"#DejaVuSans-34\"/>\n       <use xlink:href=\"#DejaVuSans-35\" x=\"63.623047\"/>\n      </g>\n     </g>\n    </g>\n    <g id=\"xtick_47\">\n     <g id=\"text_47\">\n      <!-- 46 -->\n      <g style=\"fill: #262626\" transform=\"translate(399.822656 381.554609) scale(0.165 -0.165)\">\n       <use xlink:href=\"#DejaVuSans-34\"/>\n       <use xlink:href=\"#DejaVuSans-36\" x=\"63.623047\"/>\n      </g>\n     </g>\n    </g>\n    <g id=\"xtick_48\">\n     <g id=\"text_48\">\n      <!-- 47 -->\n      <g style=\"fill: #262626\" transform=\"translate(407.262656 381.554609) scale(0.165 -0.165)\">\n       <use xlink:href=\"#DejaVuSans-34\"/>\n       <use xlink:href=\"#DejaVuSans-37\" x=\"63.623047\"/>\n      </g>\n     </g>\n    </g>\n    <g id=\"xtick_49\">\n     <g id=\"text_49\">\n      <!-- 48 -->\n      <g style=\"fill: #262626\" transform=\"translate(414.702656 381.554609) scale(0.165 -0.165)\">\n       <use xlink:href=\"#DejaVuSans-34\"/>\n       <use xlink:href=\"#DejaVuSans-38\" x=\"63.623047\"/>\n      </g>\n     </g>\n    </g>\n    <g id=\"xtick_50\">\n     <g id=\"text_50\">\n      <!-- 49 -->\n      <g style=\"fill: #262626\" transform=\"translate(422.142656 381.554609) scale(0.165 -0.165)\">\n       <use xlink:href=\"#DejaVuSans-34\"/>\n       <use xlink:href=\"#DejaVuSans-39\" x=\"63.623047\"/>\n      </g>\n     </g>\n    </g>\n    <g id=\"xtick_51\">\n     <g id=\"text_51\">\n      <!-- 50 -->\n      <g style=\"fill: #262626\" transform=\"translate(429.582656 381.554609) scale(0.165 -0.165)\">\n       <use xlink:href=\"#DejaVuSans-35\"/>\n       <use xlink:href=\"#DejaVuSans-30\" x=\"63.623047\"/>\n      </g>\n     </g>\n    </g>\n    <g id=\"xtick_52\">\n     <g id=\"text_52\">\n      <!-- 51 -->\n      <g style=\"fill: #262626\" transform=\"translate(437.022656 381.554609) scale(0.165 -0.165)\">\n       <use xlink:href=\"#DejaVuSans-35\"/>\n       <use xlink:href=\"#DejaVuSans-31\" x=\"63.623047\"/>\n      </g>\n     </g>\n    </g>\n    <g id=\"xtick_53\">\n     <g id=\"text_53\">\n      <!-- 52 -->\n      <g style=\"fill: #262626\" transform=\"translate(444.462656 381.554609) scale(0.165 -0.165)\">\n       <use xlink:href=\"#DejaVuSans-35\"/>\n       <use xlink:href=\"#DejaVuSans-32\" x=\"63.623047\"/>\n      </g>\n     </g>\n    </g>\n    <g id=\"xtick_54\">\n     <g id=\"text_54\">\n      <!-- 53 -->\n      <g style=\"fill: #262626\" transform=\"translate(451.902656 381.554609) scale(0.165 -0.165)\">\n       <use xlink:href=\"#DejaVuSans-35\"/>\n       <use xlink:href=\"#DejaVuSans-33\" x=\"63.623047\"/>\n      </g>\n     </g>\n    </g>\n    <g id=\"xtick_55\">\n     <g id=\"text_55\">\n      <!-- 54 -->\n      <g style=\"fill: #262626\" transform=\"translate(459.342656 381.554609) scale(0.165 -0.165)\">\n       <use xlink:href=\"#DejaVuSans-35\"/>\n       <use xlink:href=\"#DejaVuSans-34\" x=\"63.623047\"/>\n      </g>\n     </g>\n    </g>\n    <g id=\"xtick_56\">\n     <g id=\"text_56\">\n      <!-- 55 -->\n      <g style=\"fill: #262626\" transform=\"translate(466.782656 381.554609) scale(0.165 -0.165)\">\n       <use xlink:href=\"#DejaVuSans-35\"/>\n       <use xlink:href=\"#DejaVuSans-35\" x=\"63.623047\"/>\n      </g>\n     </g>\n    </g>\n    <g id=\"xtick_57\">\n     <g id=\"text_57\">\n      <!-- 56 -->\n      <g style=\"fill: #262626\" transform=\"translate(474.222656 381.554609) scale(0.165 -0.165)\">\n       <use xlink:href=\"#DejaVuSans-35\"/>\n       <use xlink:href=\"#DejaVuSans-36\" x=\"63.623047\"/>\n      </g>\n     </g>\n    </g>\n    <g id=\"xtick_58\">\n     <g id=\"text_58\">\n      <!-- 57 -->\n      <g style=\"fill: #262626\" transform=\"translate(481.662656 381.554609) scale(0.165 -0.165)\">\n       <use xlink:href=\"#DejaVuSans-35\"/>\n       <use xlink:href=\"#DejaVuSans-37\" x=\"63.623047\"/>\n      </g>\n     </g>\n    </g>\n    <g id=\"xtick_59\">\n     <g id=\"text_59\">\n      <!-- 58 -->\n      <g style=\"fill: #262626\" transform=\"translate(489.102656 381.554609) scale(0.165 -0.165)\">\n       <use xlink:href=\"#DejaVuSans-35\"/>\n       <use xlink:href=\"#DejaVuSans-38\" x=\"63.623047\"/>\n      </g>\n     </g>\n    </g>\n    <g id=\"xtick_60\">\n     <g id=\"text_60\">\n      <!-- 59 -->\n      <g style=\"fill: #262626\" transform=\"translate(496.542656 381.554609) scale(0.165 -0.165)\">\n       <use xlink:href=\"#DejaVuSans-35\"/>\n       <use xlink:href=\"#DejaVuSans-39\" x=\"63.623047\"/>\n      </g>\n     </g>\n    </g>\n    <g id=\"xtick_61\">\n     <g id=\"text_61\">\n      <!-- 60 -->\n      <g style=\"fill: #262626\" transform=\"translate(503.982656 381.554609) scale(0.165 -0.165)\">\n       <use xlink:href=\"#DejaVuSans-36\"/>\n       <use xlink:href=\"#DejaVuSans-30\" x=\"63.623047\"/>\n      </g>\n     </g>\n    </g>\n    <g id=\"xtick_62\">\n     <g id=\"text_62\">\n      <!-- 61 -->\n      <g style=\"fill: #262626\" transform=\"translate(511.422656 381.554609) scale(0.165 -0.165)\">\n       <use xlink:href=\"#DejaVuSans-36\"/>\n       <use xlink:href=\"#DejaVuSans-31\" x=\"63.623047\"/>\n      </g>\n     </g>\n    </g>\n    <g id=\"xtick_63\">\n     <g id=\"text_63\">\n      <!-- 62 -->\n      <g style=\"fill: #262626\" transform=\"translate(518.862656 381.554609) scale(0.165 -0.165)\">\n       <use xlink:href=\"#DejaVuSans-36\"/>\n       <use xlink:href=\"#DejaVuSans-32\" x=\"63.623047\"/>\n      </g>\n     </g>\n    </g>\n    <g id=\"xtick_64\">\n     <g id=\"text_64\">\n      <!-- 63 -->\n      <g style=\"fill: #262626\" transform=\"translate(526.302656 381.554609) scale(0.165 -0.165)\">\n       <use xlink:href=\"#DejaVuSans-36\"/>\n       <use xlink:href=\"#DejaVuSans-33\" x=\"63.623047\"/>\n      </g>\n     </g>\n    </g>\n    <g id=\"xtick_65\">\n     <g id=\"text_65\">\n      <!-- 64 -->\n      <g style=\"fill: #262626\" transform=\"translate(533.742656 381.554609) scale(0.165 -0.165)\">\n       <use xlink:href=\"#DejaVuSans-36\"/>\n       <use xlink:href=\"#DejaVuSans-34\" x=\"63.623047\"/>\n      </g>\n     </g>\n    </g>\n    <g id=\"xtick_66\">\n     <g id=\"text_66\">\n      <!-- 65 -->\n      <g style=\"fill: #262626\" transform=\"translate(541.182656 381.554609) scale(0.165 -0.165)\">\n       <use xlink:href=\"#DejaVuSans-36\"/>\n       <use xlink:href=\"#DejaVuSans-35\" x=\"63.623047\"/>\n      </g>\n     </g>\n    </g>\n    <g id=\"xtick_67\">\n     <g id=\"text_67\">\n      <!-- 66 -->\n      <g style=\"fill: #262626\" transform=\"translate(548.622656 381.554609) scale(0.165 -0.165)\">\n       <use xlink:href=\"#DejaVuSans-36\"/>\n       <use xlink:href=\"#DejaVuSans-36\" x=\"63.623047\"/>\n      </g>\n     </g>\n    </g>\n    <g id=\"xtick_68\">\n     <g id=\"text_68\">\n      <!-- 67 -->\n      <g style=\"fill: #262626\" transform=\"translate(556.062656 381.554609) scale(0.165 -0.165)\">\n       <use xlink:href=\"#DejaVuSans-36\"/>\n       <use xlink:href=\"#DejaVuSans-37\" x=\"63.623047\"/>\n      </g>\n     </g>\n    </g>\n    <g id=\"xtick_69\">\n     <g id=\"text_69\">\n      <!-- 68 -->\n      <g style=\"fill: #262626\" transform=\"translate(563.502656 381.554609) scale(0.165 -0.165)\">\n       <use xlink:href=\"#DejaVuSans-36\"/>\n       <use xlink:href=\"#DejaVuSans-38\" x=\"63.623047\"/>\n      </g>\n     </g>\n    </g>\n    <g id=\"xtick_70\">\n     <g id=\"text_70\">\n      <!-- 69 -->\n      <g style=\"fill: #262626\" transform=\"translate(570.942656 381.554609) scale(0.165 -0.165)\">\n       <use xlink:href=\"#DejaVuSans-36\"/>\n       <use xlink:href=\"#DejaVuSans-39\" x=\"63.623047\"/>\n      </g>\n     </g>\n    </g>\n    <g id=\"xtick_71\">\n     <g id=\"text_71\">\n      <!-- 70 -->\n      <g style=\"fill: #262626\" transform=\"translate(578.382656 381.554609) scale(0.165 -0.165)\">\n       <use xlink:href=\"#DejaVuSans-37\"/>\n       <use xlink:href=\"#DejaVuSans-30\" x=\"63.623047\"/>\n      </g>\n     </g>\n    </g>\n    <g id=\"xtick_72\">\n     <g id=\"text_72\">\n      <!-- 71 -->\n      <g style=\"fill: #262626\" transform=\"translate(585.822656 381.554609) scale(0.165 -0.165)\">\n       <use xlink:href=\"#DejaVuSans-37\"/>\n       <use xlink:href=\"#DejaVuSans-31\" x=\"63.623047\"/>\n      </g>\n     </g>\n    </g>\n    <g id=\"xtick_73\">\n     <g id=\"text_73\">\n      <!-- 72 -->\n      <g style=\"fill: #262626\" transform=\"translate(593.262656 381.554609) scale(0.165 -0.165)\">\n       <use xlink:href=\"#DejaVuSans-37\"/>\n       <use xlink:href=\"#DejaVuSans-32\" x=\"63.623047\"/>\n      </g>\n     </g>\n    </g>\n    <g id=\"xtick_74\">\n     <g id=\"text_74\">\n      <!-- 73 -->\n      <g style=\"fill: #262626\" transform=\"translate(600.702656 381.554609) scale(0.165 -0.165)\">\n       <use xlink:href=\"#DejaVuSans-37\"/>\n       <use xlink:href=\"#DejaVuSans-33\" x=\"63.623047\"/>\n      </g>\n     </g>\n    </g>\n    <g id=\"xtick_75\">\n     <g id=\"text_75\">\n      <!-- 74 -->\n      <g style=\"fill: #262626\" transform=\"translate(608.142656 381.554609) scale(0.165 -0.165)\">\n       <use xlink:href=\"#DejaVuSans-37\"/>\n       <use xlink:href=\"#DejaVuSans-34\" x=\"63.623047\"/>\n      </g>\n     </g>\n    </g>\n    <g id=\"xtick_76\">\n     <g id=\"text_76\">\n      <!-- 75 -->\n      <g style=\"fill: #262626\" transform=\"translate(615.582656 381.554609) scale(0.165 -0.165)\">\n       <use xlink:href=\"#DejaVuSans-37\"/>\n       <use xlink:href=\"#DejaVuSans-35\" x=\"63.623047\"/>\n      </g>\n     </g>\n    </g>\n    <g id=\"xtick_77\">\n     <g id=\"text_77\">\n      <!-- 76 -->\n      <g style=\"fill: #262626\" transform=\"translate(623.022656 381.554609) scale(0.165 -0.165)\">\n       <use xlink:href=\"#DejaVuSans-37\"/>\n       <use xlink:href=\"#DejaVuSans-36\" x=\"63.623047\"/>\n      </g>\n     </g>\n    </g>\n    <g id=\"xtick_78\">\n     <g id=\"text_78\">\n      <!-- 77 -->\n      <g style=\"fill: #262626\" transform=\"translate(630.462656 381.554609) scale(0.165 -0.165)\">\n       <use xlink:href=\"#DejaVuSans-37\"/>\n       <use xlink:href=\"#DejaVuSans-37\" x=\"63.623047\"/>\n      </g>\n     </g>\n    </g>\n    <g id=\"xtick_79\">\n     <g id=\"text_79\">\n      <!-- 78 -->\n      <g style=\"fill: #262626\" transform=\"translate(637.902656 381.554609) scale(0.165 -0.165)\">\n       <use xlink:href=\"#DejaVuSans-37\"/>\n       <use xlink:href=\"#DejaVuSans-38\" x=\"63.623047\"/>\n      </g>\n     </g>\n    </g>\n    <g id=\"xtick_80\">\n     <g id=\"text_80\">\n      <!-- 79 -->\n      <g style=\"fill: #262626\" transform=\"translate(645.342656 381.554609) scale(0.165 -0.165)\">\n       <use xlink:href=\"#DejaVuSans-37\"/>\n       <use xlink:href=\"#DejaVuSans-39\" x=\"63.623047\"/>\n      </g>\n     </g>\n    </g>\n    <g id=\"xtick_81\">\n     <g id=\"text_81\">\n      <!-- 80 -->\n      <g style=\"fill: #262626\" transform=\"translate(652.782656 381.554609) scale(0.165 -0.165)\">\n       <use xlink:href=\"#DejaVuSans-38\"/>\n       <use xlink:href=\"#DejaVuSans-30\" x=\"63.623047\"/>\n      </g>\n     </g>\n    </g>\n    <g id=\"xtick_82\">\n     <g id=\"text_82\">\n      <!-- 81 -->\n      <g style=\"fill: #262626\" transform=\"translate(660.222656 381.554609) scale(0.165 -0.165)\">\n       <use xlink:href=\"#DejaVuSans-38\"/>\n       <use xlink:href=\"#DejaVuSans-31\" x=\"63.623047\"/>\n      </g>\n     </g>\n    </g>\n    <g id=\"xtick_83\">\n     <g id=\"text_83\">\n      <!-- 82 -->\n      <g style=\"fill: #262626\" transform=\"translate(667.662656 381.554609) scale(0.165 -0.165)\">\n       <use xlink:href=\"#DejaVuSans-38\"/>\n       <use xlink:href=\"#DejaVuSans-32\" x=\"63.623047\"/>\n      </g>\n     </g>\n    </g>\n    <g id=\"xtick_84\">\n     <g id=\"text_84\">\n      <!-- 83 -->\n      <g style=\"fill: #262626\" transform=\"translate(675.102656 381.554609) scale(0.165 -0.165)\">\n       <use xlink:href=\"#DejaVuSans-38\"/>\n       <use xlink:href=\"#DejaVuSans-33\" x=\"63.623047\"/>\n      </g>\n     </g>\n    </g>\n    <g id=\"xtick_85\">\n     <g id=\"text_85\">\n      <!-- 84 -->\n      <g style=\"fill: #262626\" transform=\"translate(682.542656 381.554609) scale(0.165 -0.165)\">\n       <use xlink:href=\"#DejaVuSans-38\"/>\n       <use xlink:href=\"#DejaVuSans-34\" x=\"63.623047\"/>\n      </g>\n     </g>\n    </g>\n    <g id=\"xtick_86\">\n     <g id=\"text_86\">\n      <!-- 85 -->\n      <g style=\"fill: #262626\" transform=\"translate(689.982656 381.554609) scale(0.165 -0.165)\">\n       <use xlink:href=\"#DejaVuSans-38\"/>\n       <use xlink:href=\"#DejaVuSans-35\" x=\"63.623047\"/>\n      </g>\n     </g>\n    </g>\n    <g id=\"xtick_87\">\n     <g id=\"text_87\">\n      <!-- 86 -->\n      <g style=\"fill: #262626\" transform=\"translate(697.422656 381.554609) scale(0.165 -0.165)\">\n       <use xlink:href=\"#DejaVuSans-38\"/>\n       <use xlink:href=\"#DejaVuSans-36\" x=\"63.623047\"/>\n      </g>\n     </g>\n    </g>\n    <g id=\"xtick_88\">\n     <g id=\"text_88\">\n      <!-- 87 -->\n      <g style=\"fill: #262626\" transform=\"translate(704.862656 381.554609) scale(0.165 -0.165)\">\n       <use xlink:href=\"#DejaVuSans-38\"/>\n       <use xlink:href=\"#DejaVuSans-37\" x=\"63.623047\"/>\n      </g>\n     </g>\n    </g>\n    <g id=\"xtick_89\">\n     <g id=\"text_89\">\n      <!-- 88 -->\n      <g style=\"fill: #262626\" transform=\"translate(712.302656 381.554609) scale(0.165 -0.165)\">\n       <use xlink:href=\"#DejaVuSans-38\"/>\n       <use xlink:href=\"#DejaVuSans-38\" x=\"63.623047\"/>\n      </g>\n     </g>\n    </g>\n    <g id=\"xtick_90\">\n     <g id=\"text_90\">\n      <!-- 89 -->\n      <g style=\"fill: #262626\" transform=\"translate(719.742656 381.554609) scale(0.165 -0.165)\">\n       <use xlink:href=\"#DejaVuSans-38\"/>\n       <use xlink:href=\"#DejaVuSans-39\" x=\"63.623047\"/>\n      </g>\n     </g>\n    </g>\n    <g id=\"text_91\">\n     <!-- Batch # -->\n     <g style=\"fill: #262626\" transform=\"translate(362.887969 402.663281) scale(0.18 -0.18)\">\n      <defs>\n       <path id=\"DejaVuSans-42\" d=\"M 1259 2228 \nL 1259 519 \nL 2272 519 \nQ 2781 519 3026 730 \nQ 3272 941 3272 1375 \nQ 3272 1813 3026 2020 \nQ 2781 2228 2272 2228 \nL 1259 2228 \nz\nM 1259 4147 \nL 1259 2741 \nL 2194 2741 \nQ 2656 2741 2882 2914 \nQ 3109 3088 3109 3444 \nQ 3109 3797 2882 3972 \nQ 2656 4147 2194 4147 \nL 1259 4147 \nz\nM 628 4666 \nL 2241 4666 \nQ 2963 4666 3353 4366 \nQ 3744 4066 3744 3513 \nQ 3744 3084 3544 2831 \nQ 3344 2578 2956 2516 \nQ 3422 2416 3680 2098 \nQ 3938 1781 3938 1306 \nQ 3938 681 3513 340 \nQ 3088 0 2303 0 \nL 628 0 \nL 628 4666 \nz\n\" transform=\"scale(0.015625)\"/>\n       <path id=\"DejaVuSans-61\" d=\"M 2194 1759 \nQ 1497 1759 1228 1600 \nQ 959 1441 959 1056 \nQ 959 750 1161 570 \nQ 1363 391 1709 391 \nQ 2188 391 2477 730 \nQ 2766 1069 2766 1631 \nL 2766 1759 \nL 2194 1759 \nz\nM 3341 1997 \nL 3341 0 \nL 2766 0 \nL 2766 531 \nQ 2569 213 2275 61 \nQ 1981 -91 1556 -91 \nQ 1019 -91 701 211 \nQ 384 513 384 1019 \nQ 384 1609 779 1909 \nQ 1175 2209 1959 2209 \nL 2766 2209 \nL 2766 2266 \nQ 2766 2663 2505 2880 \nQ 2244 3097 1772 3097 \nQ 1472 3097 1187 3025 \nQ 903 2953 641 2809 \nL 641 3341 \nQ 956 3463 1253 3523 \nQ 1550 3584 1831 3584 \nQ 2591 3584 2966 3190 \nQ 3341 2797 3341 1997 \nz\n\" transform=\"scale(0.015625)\"/>\n       <path id=\"DejaVuSans-74\" d=\"M 1172 4494 \nL 1172 3500 \nL 2356 3500 \nL 2356 3053 \nL 1172 3053 \nL 1172 1153 \nQ 1172 725 1289 603 \nQ 1406 481 1766 481 \nL 2356 481 \nL 2356 0 \nL 1766 0 \nQ 1100 0 847 248 \nQ 594 497 594 1153 \nL 594 3053 \nL 172 3053 \nL 172 3500 \nL 594 3500 \nL 594 4494 \nL 1172 4494 \nz\n\" transform=\"scale(0.015625)\"/>\n       <path id=\"DejaVuSans-63\" d=\"M 3122 3366 \nL 3122 2828 \nQ 2878 2963 2633 3030 \nQ 2388 3097 2138 3097 \nQ 1578 3097 1268 2742 \nQ 959 2388 959 1747 \nQ 959 1106 1268 751 \nQ 1578 397 2138 397 \nQ 2388 397 2633 464 \nQ 2878 531 3122 666 \nL 3122 134 \nQ 2881 22 2623 -34 \nQ 2366 -91 2075 -91 \nQ 1284 -91 818 406 \nQ 353 903 353 1747 \nQ 353 2603 823 3093 \nQ 1294 3584 2113 3584 \nQ 2378 3584 2631 3529 \nQ 2884 3475 3122 3366 \nz\n\" transform=\"scale(0.015625)\"/>\n       <path id=\"DejaVuSans-68\" d=\"M 3513 2113 \nL 3513 0 \nL 2938 0 \nL 2938 2094 \nQ 2938 2591 2744 2837 \nQ 2550 3084 2163 3084 \nQ 1697 3084 1428 2787 \nQ 1159 2491 1159 1978 \nL 1159 0 \nL 581 0 \nL 581 4863 \nL 1159 4863 \nL 1159 2956 \nQ 1366 3272 1645 3428 \nQ 1925 3584 2291 3584 \nQ 2894 3584 3203 3211 \nQ 3513 2838 3513 2113 \nz\n\" transform=\"scale(0.015625)\"/>\n       <path id=\"DejaVuSans-20\" transform=\"scale(0.015625)\"/>\n       <path id=\"DejaVuSans-23\" d=\"M 3272 2816 \nL 2363 2816 \nL 2100 1772 \nL 3016 1772 \nL 3272 2816 \nz\nM 2803 4594 \nL 2478 3297 \nL 3391 3297 \nL 3719 4594 \nL 4219 4594 \nL 3897 3297 \nL 4872 3297 \nL 4872 2816 \nL 3775 2816 \nL 3519 1772 \nL 4513 1772 \nL 4513 1294 \nL 3397 1294 \nL 3072 0 \nL 2572 0 \nL 2894 1294 \nL 1978 1294 \nL 1656 0 \nL 1153 0 \nL 1478 1294 \nL 494 1294 \nL 494 1772 \nL 1594 1772 \nL 1856 2816 \nL 850 2816 \nL 850 3297 \nL 1978 3297 \nL 2297 4594 \nL 2803 4594 \nz\n\" transform=\"scale(0.015625)\"/>\n      </defs>\n      <use xlink:href=\"#DejaVuSans-42\"/>\n      <use xlink:href=\"#DejaVuSans-61\" x=\"68.603516\"/>\n      <use xlink:href=\"#DejaVuSans-74\" x=\"129.882812\"/>\n      <use xlink:href=\"#DejaVuSans-63\" x=\"169.091797\"/>\n      <use xlink:href=\"#DejaVuSans-68\" x=\"224.072266\"/>\n      <use xlink:href=\"#DejaVuSans-20\" x=\"287.451172\"/>\n      <use xlink:href=\"#DejaVuSans-23\" x=\"319.238281\"/>\n     </g>\n    </g>\n   </g>\n   <g id=\"matplotlib.axis_2\">\n    <g id=\"ytick_1\">\n     <g id=\"line2d_1\">\n      <path d=\"M 64.360781 359.517188 \nL 733.960781 359.517188 \n\" clip-path=\"url(#pe1e7c5320a)\" style=\"fill: none; stroke: #ffffff; stroke-linecap: round\"/>\n     </g>\n     <g id=\"text_92\">\n      <!-- 0.0 -->\n      <g style=\"fill: #262626\" transform=\"translate(28.620625 365.785898) scale(0.165 -0.165)\">\n       <defs>\n        <path id=\"DejaVuSans-2e\" d=\"M 684 794 \nL 1344 794 \nL 1344 0 \nL 684 0 \nL 684 794 \nz\n\" transform=\"scale(0.015625)\"/>\n       </defs>\n       <use xlink:href=\"#DejaVuSans-30\"/>\n       <use xlink:href=\"#DejaVuSans-2e\" x=\"63.623047\"/>\n       <use xlink:href=\"#DejaVuSans-30\" x=\"95.410156\"/>\n      </g>\n     </g>\n    </g>\n    <g id=\"ytick_2\">\n     <g id=\"line2d_2\">\n      <path d=\"M 64.360781 296.157188 \nL 733.960781 296.157188 \n\" clip-path=\"url(#pe1e7c5320a)\" style=\"fill: none; stroke: #ffffff; stroke-linecap: round\"/>\n     </g>\n     <g id=\"text_93\">\n      <!-- 0.2 -->\n      <g style=\"fill: #262626\" transform=\"translate(28.620625 302.425898) scale(0.165 -0.165)\">\n       <use xlink:href=\"#DejaVuSans-30\"/>\n       <use xlink:href=\"#DejaVuSans-2e\" x=\"63.623047\"/>\n       <use xlink:href=\"#DejaVuSans-32\" x=\"95.410156\"/>\n      </g>\n     </g>\n    </g>\n    <g id=\"ytick_3\">\n     <g id=\"line2d_3\">\n      <path d=\"M 64.360781 232.797188 \nL 733.960781 232.797188 \n\" clip-path=\"url(#pe1e7c5320a)\" style=\"fill: none; stroke: #ffffff; stroke-linecap: round\"/>\n     </g>\n     <g id=\"text_94\">\n      <!-- 0.4 -->\n      <g style=\"fill: #262626\" transform=\"translate(28.620625 239.065898) scale(0.165 -0.165)\">\n       <use xlink:href=\"#DejaVuSans-30\"/>\n       <use xlink:href=\"#DejaVuSans-2e\" x=\"63.623047\"/>\n       <use xlink:href=\"#DejaVuSans-34\" x=\"95.410156\"/>\n      </g>\n     </g>\n    </g>\n    <g id=\"ytick_4\">\n     <g id=\"line2d_4\">\n      <path d=\"M 64.360781 169.437187 \nL 733.960781 169.437187 \n\" clip-path=\"url(#pe1e7c5320a)\" style=\"fill: none; stroke: #ffffff; stroke-linecap: round\"/>\n     </g>\n     <g id=\"text_95\">\n      <!-- 0.6 -->\n      <g style=\"fill: #262626\" transform=\"translate(28.620625 175.705898) scale(0.165 -0.165)\">\n       <use xlink:href=\"#DejaVuSans-30\"/>\n       <use xlink:href=\"#DejaVuSans-2e\" x=\"63.623047\"/>\n       <use xlink:href=\"#DejaVuSans-36\" x=\"95.410156\"/>\n      </g>\n     </g>\n    </g>\n    <g id=\"ytick_5\">\n     <g id=\"line2d_5\">\n      <path d=\"M 64.360781 106.077188 \nL 733.960781 106.077188 \n\" clip-path=\"url(#pe1e7c5320a)\" style=\"fill: none; stroke: #ffffff; stroke-linecap: round\"/>\n     </g>\n     <g id=\"text_96\">\n      <!-- 0.8 -->\n      <g style=\"fill: #262626\" transform=\"translate(28.620625 112.345898) scale(0.165 -0.165)\">\n       <use xlink:href=\"#DejaVuSans-30\"/>\n       <use xlink:href=\"#DejaVuSans-2e\" x=\"63.623047\"/>\n       <use xlink:href=\"#DejaVuSans-38\" x=\"95.410156\"/>\n      </g>\n     </g>\n    </g>\n    <g id=\"ytick_6\">\n     <g id=\"line2d_6\">\n      <path d=\"M 64.360781 42.717188 \nL 733.960781 42.717188 \n\" clip-path=\"url(#pe1e7c5320a)\" style=\"fill: none; stroke: #ffffff; stroke-linecap: round\"/>\n     </g>\n     <g id=\"text_97\">\n      <!-- 1.0 -->\n      <g style=\"fill: #262626\" transform=\"translate(28.620625 48.985898) scale(0.165 -0.165)\">\n       <use xlink:href=\"#DejaVuSans-31\"/>\n       <use xlink:href=\"#DejaVuSans-2e\" x=\"63.623047\"/>\n       <use xlink:href=\"#DejaVuSans-30\" x=\"95.410156\"/>\n      </g>\n     </g>\n    </g>\n    <g id=\"text_98\">\n     <!-- MCC Score (-1 to +1) -->\n     <g style=\"fill: #262626\" transform=\"translate(20.877187 288.47625) rotate(-90) scale(0.18 -0.18)\">\n      <defs>\n       <path id=\"DejaVuSans-4d\" d=\"M 628 4666 \nL 1569 4666 \nL 2759 1491 \nL 3956 4666 \nL 4897 4666 \nL 4897 0 \nL 4281 0 \nL 4281 4097 \nL 3078 897 \nL 2444 897 \nL 1241 4097 \nL 1241 0 \nL 628 0 \nL 628 4666 \nz\n\" transform=\"scale(0.015625)\"/>\n       <path id=\"DejaVuSans-43\" d=\"M 4122 4306 \nL 4122 3641 \nQ 3803 3938 3442 4084 \nQ 3081 4231 2675 4231 \nQ 1875 4231 1450 3742 \nQ 1025 3253 1025 2328 \nQ 1025 1406 1450 917 \nQ 1875 428 2675 428 \nQ 3081 428 3442 575 \nQ 3803 722 4122 1019 \nL 4122 359 \nQ 3791 134 3420 21 \nQ 3050 -91 2638 -91 \nQ 1578 -91 968 557 \nQ 359 1206 359 2328 \nQ 359 3453 968 4101 \nQ 1578 4750 2638 4750 \nQ 3056 4750 3426 4639 \nQ 3797 4528 4122 4306 \nz\n\" transform=\"scale(0.015625)\"/>\n       <path id=\"DejaVuSans-53\" d=\"M 3425 4513 \nL 3425 3897 \nQ 3066 4069 2747 4153 \nQ 2428 4238 2131 4238 \nQ 1616 4238 1336 4038 \nQ 1056 3838 1056 3469 \nQ 1056 3159 1242 3001 \nQ 1428 2844 1947 2747 \nL 2328 2669 \nQ 3034 2534 3370 2195 \nQ 3706 1856 3706 1288 \nQ 3706 609 3251 259 \nQ 2797 -91 1919 -91 \nQ 1588 -91 1214 -16 \nQ 841 59 441 206 \nL 441 856 \nQ 825 641 1194 531 \nQ 1563 422 1919 422 \nQ 2459 422 2753 634 \nQ 3047 847 3047 1241 \nQ 3047 1584 2836 1778 \nQ 2625 1972 2144 2069 \nL 1759 2144 \nQ 1053 2284 737 2584 \nQ 422 2884 422 3419 \nQ 422 4038 858 4394 \nQ 1294 4750 2059 4750 \nQ 2388 4750 2728 4690 \nQ 3069 4631 3425 4513 \nz\n\" transform=\"scale(0.015625)\"/>\n       <path id=\"DejaVuSans-6f\" d=\"M 1959 3097 \nQ 1497 3097 1228 2736 \nQ 959 2375 959 1747 \nQ 959 1119 1226 758 \nQ 1494 397 1959 397 \nQ 2419 397 2687 759 \nQ 2956 1122 2956 1747 \nQ 2956 2369 2687 2733 \nQ 2419 3097 1959 3097 \nz\nM 1959 3584 \nQ 2709 3584 3137 3096 \nQ 3566 2609 3566 1747 \nQ 3566 888 3137 398 \nQ 2709 -91 1959 -91 \nQ 1206 -91 779 398 \nQ 353 888 353 1747 \nQ 353 2609 779 3096 \nQ 1206 3584 1959 3584 \nz\n\" transform=\"scale(0.015625)\"/>\n       <path id=\"DejaVuSans-72\" d=\"M 2631 2963 \nQ 2534 3019 2420 3045 \nQ 2306 3072 2169 3072 \nQ 1681 3072 1420 2755 \nQ 1159 2438 1159 1844 \nL 1159 0 \nL 581 0 \nL 581 3500 \nL 1159 3500 \nL 1159 2956 \nQ 1341 3275 1631 3429 \nQ 1922 3584 2338 3584 \nQ 2397 3584 2469 3576 \nQ 2541 3569 2628 3553 \nL 2631 2963 \nz\n\" transform=\"scale(0.015625)\"/>\n       <path id=\"DejaVuSans-65\" d=\"M 3597 1894 \nL 3597 1613 \nL 953 1613 \nQ 991 1019 1311 708 \nQ 1631 397 2203 397 \nQ 2534 397 2845 478 \nQ 3156 559 3463 722 \nL 3463 178 \nQ 3153 47 2828 -22 \nQ 2503 -91 2169 -91 \nQ 1331 -91 842 396 \nQ 353 884 353 1716 \nQ 353 2575 817 3079 \nQ 1281 3584 2069 3584 \nQ 2775 3584 3186 3129 \nQ 3597 2675 3597 1894 \nz\nM 3022 2063 \nQ 3016 2534 2758 2815 \nQ 2500 3097 2075 3097 \nQ 1594 3097 1305 2825 \nQ 1016 2553 972 2059 \nL 3022 2063 \nz\n\" transform=\"scale(0.015625)\"/>\n       <path id=\"DejaVuSans-28\" d=\"M 1984 4856 \nQ 1566 4138 1362 3434 \nQ 1159 2731 1159 2009 \nQ 1159 1288 1364 580 \nQ 1569 -128 1984 -844 \nL 1484 -844 \nQ 1016 -109 783 600 \nQ 550 1309 550 2009 \nQ 550 2706 781 3412 \nQ 1013 4119 1484 4856 \nL 1984 4856 \nz\n\" transform=\"scale(0.015625)\"/>\n       <path id=\"DejaVuSans-2d\" d=\"M 313 2009 \nL 1997 2009 \nL 1997 1497 \nL 313 1497 \nL 313 2009 \nz\n\" transform=\"scale(0.015625)\"/>\n       <path id=\"DejaVuSans-2b\" d=\"M 2944 4013 \nL 2944 2272 \nL 4684 2272 \nL 4684 1741 \nL 2944 1741 \nL 2944 0 \nL 2419 0 \nL 2419 1741 \nL 678 1741 \nL 678 2272 \nL 2419 2272 \nL 2419 4013 \nL 2944 4013 \nz\n\" transform=\"scale(0.015625)\"/>\n       <path id=\"DejaVuSans-29\" d=\"M 513 4856 \nL 1013 4856 \nQ 1481 4119 1714 3412 \nQ 1947 2706 1947 2009 \nQ 1947 1309 1714 600 \nQ 1481 -109 1013 -844 \nL 513 -844 \nQ 928 -128 1133 580 \nQ 1338 1288 1338 2009 \nQ 1338 2731 1133 3434 \nQ 928 4138 513 4856 \nz\n\" transform=\"scale(0.015625)\"/>\n      </defs>\n      <use xlink:href=\"#DejaVuSans-4d\"/>\n      <use xlink:href=\"#DejaVuSans-43\" x=\"86.279297\"/>\n      <use xlink:href=\"#DejaVuSans-43\" x=\"156.103516\"/>\n      <use xlink:href=\"#DejaVuSans-20\" x=\"225.927734\"/>\n      <use xlink:href=\"#DejaVuSans-53\" x=\"257.714844\"/>\n      <use xlink:href=\"#DejaVuSans-63\" x=\"321.191406\"/>\n      <use xlink:href=\"#DejaVuSans-6f\" x=\"376.171875\"/>\n      <use xlink:href=\"#DejaVuSans-72\" x=\"437.353516\"/>\n      <use xlink:href=\"#DejaVuSans-65\" x=\"476.216797\"/>\n      <use xlink:href=\"#DejaVuSans-20\" x=\"537.740234\"/>\n      <use xlink:href=\"#DejaVuSans-28\" x=\"569.527344\"/>\n      <use xlink:href=\"#DejaVuSans-2d\" x=\"608.541016\"/>\n      <use xlink:href=\"#DejaVuSans-31\" x=\"644.625\"/>\n      <use xlink:href=\"#DejaVuSans-20\" x=\"708.248047\"/>\n      <use xlink:href=\"#DejaVuSans-74\" x=\"740.035156\"/>\n      <use xlink:href=\"#DejaVuSans-6f\" x=\"779.244141\"/>\n      <use xlink:href=\"#DejaVuSans-20\" x=\"840.425781\"/>\n      <use xlink:href=\"#DejaVuSans-2b\" x=\"872.212891\"/>\n      <use xlink:href=\"#DejaVuSans-31\" x=\"956.001953\"/>\n      <use xlink:href=\"#DejaVuSans-29\" x=\"1019.625\"/>\n     </g>\n    </g>\n   </g>\n   <g id=\"patch_3\">\n    <path d=\"M 65.104781 359.517188 \nL 71.056781 359.517188 \nL 71.056781 279.158963 \nL 65.104781 279.158963 \nz\n\" clip-path=\"url(#pe1e7c5320a)\" style=\"fill: #ea96a3; stroke: #ffffff; stroke-linejoin: miter\"/>\n   </g>\n   <g id=\"patch_4\">\n    <path d=\"M 72.544781 359.517188 \nL 78.496781 359.517188 \nL 78.496781 141.552068 \nL 72.544781 141.552068 \nz\n\" clip-path=\"url(#pe1e7c5320a)\" style=\"fill: #ea969e; stroke: #ffffff; stroke-linejoin: miter\"/>\n   </g>\n   <g id=\"patch_5\">\n    <path d=\"M 79.984781 359.517188 \nL 85.936781 359.517188 \nL 85.936781 217.83992 \nL 79.984781 217.83992 \nz\n\" clip-path=\"url(#pe1e7c5320a)\" style=\"fill: #ea9798; stroke: #ffffff; stroke-linejoin: miter\"/>\n   </g>\n   <g id=\"patch_6\">\n    <path d=\"M 87.424781 359.517188 \nL 93.376781 359.517188 \nL 93.376781 201.117188 \nL 87.424781 201.117188 \nz\n\" clip-path=\"url(#pe1e7c5320a)\" style=\"fill: #e99791; stroke: #ffffff; stroke-linejoin: miter\"/>\n   </g>\n   <g id=\"patch_7\">\n    <path d=\"M 94.864781 359.517188 \nL 100.816781 359.517188 \nL 100.816781 321.378949 \nL 94.864781 321.378949 \nz\n\" clip-path=\"url(#pe1e7c5320a)\" style=\"fill: #e89688; stroke: #ffffff; stroke-linejoin: miter\"/>\n   </g>\n   <g id=\"patch_8\">\n    <path d=\"M 102.304781 359.517188 \nL 108.256781 359.517188 \nL 108.256781 192.679083 \nL 102.304781 192.679083 \nz\n\" clip-path=\"url(#pe1e7c5320a)\" style=\"fill: #e7957e; stroke: #ffffff; stroke-linejoin: miter\"/>\n   </g>\n   <g id=\"patch_9\">\n    <path d=\"M 109.744781 359.517188 \nL 115.696781 359.517188 \nL 115.696781 140.665014 \nL 109.744781 140.665014 \nz\n\" clip-path=\"url(#pe1e7c5320a)\" style=\"fill: #e59471; stroke: #ffffff; stroke-linejoin: miter\"/>\n   </g>\n   <g id=\"patch_10\">\n    <path d=\"M 117.184781 359.517188 \nL 123.136781 359.517188 \nL 123.136781 279.691091 \nL 117.184781 279.691091 \nz\n\" clip-path=\"url(#pe1e7c5320a)\" style=\"fill: #e2925f; stroke: #ffffff; stroke-linejoin: miter\"/>\n   </g>\n   <g id=\"patch_11\">\n    <path d=\"M 124.624781 359.517188 \nL 130.576781 359.517188 \nL 130.576781 141.552068 \nL 124.624781 141.552068 \nz\n\" clip-path=\"url(#pe1e7c5320a)\" style=\"fill: #de924f; stroke: #ffffff; stroke-linejoin: miter\"/>\n   </g>\n   <g id=\"patch_12\">\n    <path d=\"M 132.064781 359.517188 \nL 138.016781 359.517188 \nL 138.016781 146.126765 \nL 132.064781 146.126765 \nz\n\" clip-path=\"url(#pe1e7c5320a)\" style=\"fill: #d7944e; stroke: #ffffff; stroke-linejoin: miter\"/>\n   </g>\n   <g id=\"patch_13\">\n    <path d=\"M 139.504781 359.517188 \nL 145.456781 359.517188 \nL 145.456781 154.343956 \nL 139.504781 154.343956 \nz\n\" clip-path=\"url(#pe1e7c5320a)\" style=\"fill: #d1964d; stroke: #ffffff; stroke-linejoin: miter\"/>\n   </g>\n   <g id=\"patch_14\">\n    <path d=\"M 146.944781 359.517188 \nL 152.896781 359.517188 \nL 152.896781 130.488616 \nL 146.944781 130.488616 \nz\n\" clip-path=\"url(#pe1e7c5320a)\" style=\"fill: #cc974c; stroke: #ffffff; stroke-linejoin: miter\"/>\n   </g>\n   <g id=\"patch_15\">\n    <path d=\"M 154.384781 359.517188 \nL 160.336781 359.517188 \nL 160.336781 238.61284 \nL 154.384781 238.61284 \nz\n\" clip-path=\"url(#pe1e7c5320a)\" style=\"fill: #c6994b; stroke: #ffffff; stroke-linejoin: miter\"/>\n   </g>\n   <g id=\"patch_16\">\n    <path d=\"M 161.824781 359.517188 \nL 167.776781 359.517188 \nL 167.776781 137.784673 \nL 161.824781 137.784673 \nz\n\" clip-path=\"url(#pe1e7c5320a)\" style=\"fill: #c29a4a; stroke: #ffffff; stroke-linejoin: miter\"/>\n   </g>\n   <g id=\"patch_17\">\n    <path d=\"M 169.264781 359.517188 \nL 175.216781 359.517188 \nL 175.216781 141.290547 \nL 169.264781 141.290547 \nz\n\" clip-path=\"url(#pe1e7c5320a)\" style=\"fill: #bd9b4a; stroke: #ffffff; stroke-linejoin: miter\"/>\n   </g>\n   <g id=\"patch_18\">\n    <path d=\"M 176.704781 359.517188 \nL 182.656781 359.517188 \nL 182.656781 188.280862 \nL 176.704781 188.280862 \nz\n\" clip-path=\"url(#pe1e7c5320a)\" style=\"fill: #b89c49; stroke: #ffffff; stroke-linejoin: miter\"/>\n   </g>\n   <g id=\"patch_19\">\n    <path d=\"M 184.144781 359.517188 \nL 190.096781 359.517188 \nL 190.096781 144.792271 \nL 184.144781 144.792271 \nz\n\" clip-path=\"url(#pe1e7c5320a)\" style=\"fill: #b49c48; stroke: #ffffff; stroke-linejoin: miter\"/>\n   </g>\n   <g id=\"patch_20\">\n    <path d=\"M 191.584781 359.517188 \nL 197.536781 359.517188 \nL 197.536781 194.624157 \nL 191.584781 194.624157 \nz\n\" clip-path=\"url(#pe1e7c5320a)\" style=\"fill: #b09d48; stroke: #ffffff; stroke-linejoin: miter\"/>\n   </g>\n   <g id=\"patch_21\">\n    <path d=\"M 199.024781 359.517188 \nL 204.976781 359.517188 \nL 204.976781 221.213673 \nL 199.024781 221.213673 \nz\n\" clip-path=\"url(#pe1e7c5320a)\" style=\"fill: #ab9e47; stroke: #ffffff; stroke-linejoin: miter\"/>\n   </g>\n   <g id=\"patch_22\">\n    <path d=\"M 206.464781 359.517188 \nL 212.416781 359.517188 \nL 212.416781 172.645475 \nL 206.464781 172.645475 \nz\n\" clip-path=\"url(#pe1e7c5320a)\" style=\"fill: #a79f46; stroke: #ffffff; stroke-linejoin: miter\"/>\n   </g>\n   <g id=\"patch_23\">\n    <path d=\"M 213.904781 359.517188 \nL 219.856781 359.517188 \nL 219.856781 179.775476 \nL 213.904781 179.775476 \nz\n\" clip-path=\"url(#pe1e7c5320a)\" style=\"fill: #a29f46; stroke: #ffffff; stroke-linejoin: miter\"/>\n   </g>\n   <g id=\"patch_24\">\n    <path d=\"M 221.344781 359.517188 \nL 227.296781 359.517188 \nL 227.296781 163.712597 \nL 221.344781 163.712597 \nz\n\" clip-path=\"url(#pe1e7c5320a)\" style=\"fill: #9ea045; stroke: #ffffff; stroke-linejoin: miter\"/>\n   </g>\n   <g id=\"patch_25\">\n    <path d=\"M 228.784781 359.517188 \nL 234.736781 359.517188 \nL 234.736781 162.540587 \nL 228.784781 162.540587 \nz\n\" clip-path=\"url(#pe1e7c5320a)\" style=\"fill: #9aa146; stroke: #ffffff; stroke-linejoin: miter\"/>\n   </g>\n   <g id=\"patch_26\">\n    <path d=\"M 236.224781 359.517188 \nL 242.176781 359.517188 \nL 242.176781 199.253658 \nL 236.224781 199.253658 \nz\n\" clip-path=\"url(#pe1e7c5320a)\" style=\"fill: #96a346; stroke: #ffffff; stroke-linejoin: miter\"/>\n   </g>\n   <g id=\"patch_27\">\n    <path d=\"M 243.664781 359.517188 \nL 249.616781 359.517188 \nL 249.616781 260.53992 \nL 243.664781 260.53992 \nz\n\" clip-path=\"url(#pe1e7c5320a)\" style=\"fill: #91a446; stroke: #ffffff; stroke-linejoin: miter\"/>\n   </g>\n   <g id=\"patch_28\">\n    <path d=\"M 251.104781 359.517188 \nL 257.056781 359.517188 \nL 257.056781 269.451746 \nL 251.104781 269.451746 \nz\n\" clip-path=\"url(#pe1e7c5320a)\" style=\"fill: #8ca646; stroke: #ffffff; stroke-linejoin: miter\"/>\n   </g>\n   <g id=\"patch_29\">\n    <path d=\"M 258.544781 359.517188 \nL 264.496781 359.517188 \nL 264.496781 218.260045 \nL 258.544781 218.260045 \nz\n\" clip-path=\"url(#pe1e7c5320a)\" style=\"fill: #86a746; stroke: #ffffff; stroke-linejoin: miter\"/>\n   </g>\n   <g id=\"patch_30\">\n    <path d=\"M 265.984781 359.517188 \nL 271.936781 359.517188 \nL 271.936781 228.738116 \nL 265.984781 228.738116 \nz\n\" clip-path=\"url(#pe1e7c5320a)\" style=\"fill: #7fa946; stroke: #ffffff; stroke-linejoin: miter\"/>\n   </g>\n   <g id=\"patch_31\">\n    <path d=\"M 273.424781 359.517188 \nL 279.376781 359.517188 \nL 279.376781 208.095239 \nL 273.424781 208.095239 \nz\n\" clip-path=\"url(#pe1e7c5320a)\" style=\"fill: #77aa47; stroke: #ffffff; stroke-linejoin: miter\"/>\n   </g>\n   <g id=\"patch_32\">\n    <path d=\"M 280.864781 359.517188 \nL 286.816781 359.517188 \nL 286.816781 161.517188 \nL 280.864781 161.517188 \nz\n\" clip-path=\"url(#pe1e7c5320a)\" style=\"fill: #6dac47; stroke: #ffffff; stroke-linejoin: miter\"/>\n   </g>\n   <g id=\"patch_33\">\n    <path d=\"M 288.304781 359.517188 \nL 294.256781 359.517188 \nL 294.256781 186.954713 \nL 288.304781 186.954713 \nz\n\" clip-path=\"url(#pe1e7c5320a)\" style=\"fill: #60ae47; stroke: #ffffff; stroke-linejoin: miter\"/>\n   </g>\n   <g id=\"patch_34\">\n    <path d=\"M 295.744781 359.517188 \nL 301.696781 359.517188 \nL 301.696781 271.038232 \nL 295.744781 271.038232 \nz\n\" clip-path=\"url(#pe1e7c5320a)\" style=\"fill: #4bb047; stroke: #ffffff; stroke-linejoin: miter\"/>\n   </g>\n   <g id=\"patch_35\">\n    <path d=\"M 303.184781 359.517188 \nL 309.136781 359.517188 \nL 309.136781 235.080618 \nL 303.184781 235.080618 \nz\n\" clip-path=\"url(#pe1e7c5320a)\" style=\"fill: #48b05c; stroke: #ffffff; stroke-linejoin: miter\"/>\n   </g>\n   <g id=\"patch_36\">\n    <path d=\"M 310.624781 359.517188 \nL 316.576781 359.517188 \nL 316.576781 201.728226 \nL 310.624781 201.728226 \nz\n\" clip-path=\"url(#pe1e7c5320a)\" style=\"fill: #48b06a; stroke: #ffffff; stroke-linejoin: miter\"/>\n   </g>\n   <g id=\"patch_37\">\n    <path d=\"M 318.064781 359.517188 \nL 324.016781 359.517188 \nL 324.016781 202.223531 \nL 318.064781 202.223531 \nz\n\" clip-path=\"url(#pe1e7c5320a)\" style=\"fill: #49af74; stroke: #ffffff; stroke-linejoin: miter\"/>\n   </g>\n   <g id=\"patch_38\">\n    <path d=\"M 325.504781 359.517188 \nL 331.456781 359.517188 \nL 331.456781 224.783263 \nL 325.504781 224.783263 \nz\n\" clip-path=\"url(#pe1e7c5320a)\" style=\"fill: #49af7c; stroke: #ffffff; stroke-linejoin: miter\"/>\n   </g>\n   <g id=\"patch_39\">\n    <path d=\"M 332.944781 359.517188 \nL 338.896781 359.517188 \nL 338.896781 262.192492 \nL 332.944781 262.192492 \nz\n\" clip-path=\"url(#pe1e7c5320a)\" style=\"fill: #49ae83; stroke: #ffffff; stroke-linejoin: miter\"/>\n   </g>\n   <g id=\"patch_40\">\n    <path d=\"M 340.384781 359.517188 \nL 346.336781 359.517188 \nL 346.336781 188.280862 \nL 340.384781 188.280862 \nz\n\" clip-path=\"url(#pe1e7c5320a)\" style=\"fill: #49ae88; stroke: #ffffff; stroke-linejoin: miter\"/>\n   </g>\n   <g id=\"patch_41\">\n    <path d=\"M 347.824781 359.517188 \nL 353.776781 359.517188 \nL 353.776781 180.234853 \nL 347.824781 180.234853 \nz\n\" clip-path=\"url(#pe1e7c5320a)\" style=\"fill: #4aad8d; stroke: #ffffff; stroke-linejoin: miter\"/>\n   </g>\n   <g id=\"patch_42\">\n    <path d=\"M 355.264781 359.517188 \nL 361.216781 359.517188 \nL 361.216781 235.080618 \nL 355.264781 235.080618 \nz\n\" clip-path=\"url(#pe1e7c5320a)\" style=\"fill: #4aad91; stroke: #ffffff; stroke-linejoin: miter\"/>\n   </g>\n   <g id=\"patch_43\">\n    <path d=\"M 362.704781 359.517188 \nL 368.656781 359.517188 \nL 368.656781 164.800409 \nL 362.704781 164.800409 \nz\n\" clip-path=\"url(#pe1e7c5320a)\" style=\"fill: #4aad95; stroke: #ffffff; stroke-linejoin: miter\"/>\n   </g>\n   <g id=\"patch_44\">\n    <path d=\"M 370.144781 359.517188 \nL 376.096781 359.517188 \nL 376.096781 160.590313 \nL 370.144781 160.590313 \nz\n\" clip-path=\"url(#pe1e7c5320a)\" style=\"fill: #4aac98; stroke: #ffffff; stroke-linejoin: miter\"/>\n   </g>\n   <g id=\"patch_45\">\n    <path d=\"M 377.584781 359.517188 \nL 383.536781 359.517188 \nL 383.536781 187.763921 \nL 377.584781 187.763921 \nz\n\" clip-path=\"url(#pe1e7c5320a)\" style=\"fill: #4aac9b; stroke: #ffffff; stroke-linejoin: miter\"/>\n   </g>\n   <g id=\"patch_46\">\n    <path d=\"M 385.024781 359.517188 \nL 390.976781 359.517188 \nL 390.976781 127.197188 \nL 385.024781 127.197188 \nz\n\" clip-path=\"url(#pe1e7c5320a)\" style=\"fill: #4bac9e; stroke: #ffffff; stroke-linejoin: miter\"/>\n   </g>\n   <g id=\"patch_47\">\n    <path d=\"M 392.464781 359.517188 \nL 398.416781 359.517188 \nL 398.416781 180.968118 \nL 392.464781 180.968118 \nz\n\" clip-path=\"url(#pe1e7c5320a)\" style=\"fill: #4baba1; stroke: #ffffff; stroke-linejoin: miter\"/>\n   </g>\n   <g id=\"patch_48\">\n    <path d=\"M 399.904781 359.517188 \nL 405.856781 359.517188 \nL 405.856781 228.738116 \nL 399.904781 228.738116 \nz\n\" clip-path=\"url(#pe1e7c5320a)\" style=\"fill: #4baba4; stroke: #ffffff; stroke-linejoin: miter\"/>\n   </g>\n   <g id=\"patch_49\">\n    <path d=\"M 407.344781 359.517188 \nL 413.296781 359.517188 \nL 413.296781 236.821075 \nL 407.344781 236.821075 \nz\n\" clip-path=\"url(#pe1e7c5320a)\" style=\"fill: #4baba7; stroke: #ffffff; stroke-linejoin: miter\"/>\n   </g>\n   <g id=\"patch_50\">\n    <path d=\"M 414.784781 359.517188 \nL 420.736781 359.517188 \nL 420.736781 168.825996 \nL 414.784781 168.825996 \nz\n\" clip-path=\"url(#pe1e7c5320a)\" style=\"fill: #4babaa; stroke: #ffffff; stroke-linejoin: miter\"/>\n   </g>\n   <g id=\"patch_51\">\n    <path d=\"M 422.224781 359.517188 \nL 428.176781 359.517188 \nL 428.176781 182.056093 \nL 422.224781 182.056093 \nz\n\" clip-path=\"url(#pe1e7c5320a)\" style=\"fill: #4cabad; stroke: #ffffff; stroke-linejoin: miter\"/>\n   </g>\n   <g id=\"patch_52\">\n    <path d=\"M 429.664781 359.517188 \nL 435.616781 359.517188 \nL 435.616781 255.600164 \nL 429.664781 255.600164 \nz\n\" clip-path=\"url(#pe1e7c5320a)\" style=\"fill: #4dabb0; stroke: #ffffff; stroke-linejoin: miter\"/>\n   </g>\n   <g id=\"patch_53\">\n    <path d=\"M 437.104781 359.517188 \nL 443.056781 359.517188 \nL 443.056781 146.126765 \nL 437.104781 146.126765 \nz\n\" clip-path=\"url(#pe1e7c5320a)\" style=\"fill: #4dabb3; stroke: #ffffff; stroke-linejoin: miter\"/>\n   </g>\n   <g id=\"patch_54\">\n    <path d=\"M 444.544781 359.517188 \nL 450.496781 359.517188 \nL 450.496781 194.154355 \nL 444.544781 194.154355 \nz\n\" clip-path=\"url(#pe1e7c5320a)\" style=\"fill: #4eabb7; stroke: #ffffff; stroke-linejoin: miter\"/>\n   </g>\n   <g id=\"patch_55\">\n    <path d=\"M 451.984781 359.517188 \nL 457.936781 359.517188 \nL 457.936781 62.082395 \nL 451.984781 62.082395 \nz\n\" clip-path=\"url(#pe1e7c5320a)\" style=\"fill: #4fabbb; stroke: #ffffff; stroke-linejoin: miter\"/>\n   </g>\n   <g id=\"patch_56\">\n    <path d=\"M 459.424781 359.517188 \nL 465.376781 359.517188 \nL 465.376781 217.83992 \nL 459.424781 217.83992 \nz\n\" clip-path=\"url(#pe1e7c5320a)\" style=\"fill: #50acbe; stroke: #ffffff; stroke-linejoin: miter\"/>\n   </g>\n   <g id=\"patch_57\">\n    <path d=\"M 466.864781 359.517188 \nL 472.816781 359.517188 \nL 472.816781 203.442832 \nL 466.864781 203.442832 \nz\n\" clip-path=\"url(#pe1e7c5320a)\" style=\"fill: #50acc3; stroke: #ffffff; stroke-linejoin: miter\"/>\n   </g>\n   <g id=\"patch_58\">\n    <path d=\"M 474.304781 359.517188 \nL 480.256781 359.517188 \nL 480.256781 180.968118 \nL 474.304781 180.968118 \nz\n\" clip-path=\"url(#pe1e7c5320a)\" style=\"fill: #51acc7; stroke: #ffffff; stroke-linejoin: miter\"/>\n   </g>\n   <g id=\"patch_59\">\n    <path d=\"M 481.744781 359.517188 \nL 487.696781 359.517188 \nL 487.696781 214.20658 \nL 481.744781 214.20658 \nz\n\" clip-path=\"url(#pe1e7c5320a)\" style=\"fill: #53accc; stroke: #ffffff; stroke-linejoin: miter\"/>\n   </g>\n   <g id=\"patch_60\">\n    <path d=\"M 489.184781 359.517188 \nL 495.136781 359.517188 \nL 495.136781 275.258043 \nL 489.184781 275.258043 \nz\n\" clip-path=\"url(#pe1e7c5320a)\" style=\"fill: #54acd1; stroke: #ffffff; stroke-linejoin: miter\"/>\n   </g>\n   <g id=\"patch_61\">\n    <path d=\"M 496.624781 359.517188 \nL 502.576781 359.517188 \nL 502.576781 201.728226 \nL 496.624781 201.728226 \nz\n\" clip-path=\"url(#pe1e7c5320a)\" style=\"fill: #55acd8; stroke: #ffffff; stroke-linejoin: miter\"/>\n   </g>\n   <g id=\"patch_62\">\n    <path d=\"M 504.064781 359.517188 \nL 510.016781 359.517188 \nL 510.016781 174.937958 \nL 504.064781 174.937958 \nz\n\" clip-path=\"url(#pe1e7c5320a)\" style=\"fill: #57addf; stroke: #ffffff; stroke-linejoin: miter\"/>\n   </g>\n   <g id=\"patch_63\">\n    <path d=\"M 511.504781 359.517188 \nL 517.456781 359.517188 \nL 517.456781 254.438948 \nL 511.504781 254.438948 \nz\n\" clip-path=\"url(#pe1e7c5320a)\" style=\"fill: #6daee2; stroke: #ffffff; stroke-linejoin: miter\"/>\n   </g>\n   <g id=\"patch_64\">\n    <path d=\"M 518.944781 359.517188 \nL 524.896781 359.517188 \nL 524.896781 242.1222 \nL 518.944781 242.1222 \nz\n\" clip-path=\"url(#pe1e7c5320a)\" style=\"fill: #7daee5; stroke: #ffffff; stroke-linejoin: miter\"/>\n   </g>\n   <g id=\"patch_65\">\n    <path d=\"M 526.384781 359.517188 \nL 532.336781 359.517188 \nL 532.336781 132.136977 \nL 526.384781 132.136977 \nz\n\" clip-path=\"url(#pe1e7c5320a)\" style=\"fill: #89aee6; stroke: #ffffff; stroke-linejoin: miter\"/>\n   </g>\n   <g id=\"patch_66\">\n    <path d=\"M 533.824781 359.517188 \nL 539.776781 359.517188 \nL 539.776781 160.590313 \nL 533.824781 160.590313 \nz\n\" clip-path=\"url(#pe1e7c5320a)\" style=\"fill: #94aee8; stroke: #ffffff; stroke-linejoin: miter\"/>\n   </g>\n   <g id=\"patch_67\">\n    <path d=\"M 541.264781 359.517188 \nL 547.216781 359.517188 \nL 547.216781 172.014663 \nL 541.264781 172.014663 \nz\n\" clip-path=\"url(#pe1e7c5320a)\" style=\"fill: #9dade9; stroke: #ffffff; stroke-linejoin: miter\"/>\n   </g>\n   <g id=\"patch_68\">\n    <path d=\"M 548.704781 359.517188 \nL 554.656781 359.517188 \nL 554.656781 192.679083 \nL 548.704781 192.679083 \nz\n\" clip-path=\"url(#pe1e7c5320a)\" style=\"fill: #a6acea; stroke: #ffffff; stroke-linejoin: miter\"/>\n   </g>\n   <g id=\"patch_69\">\n    <path d=\"M 556.144781 359.517188 \nL 562.096781 359.517188 \nL 562.096781 201.688571 \nL 556.144781 201.688571 \nz\n\" clip-path=\"url(#pe1e7c5320a)\" style=\"fill: #adabeb; stroke: #ffffff; stroke-linejoin: miter\"/>\n   </g>\n   <g id=\"patch_70\">\n    <path d=\"M 563.584781 359.517188 \nL 569.536781 359.517188 \nL 569.536781 192.679083 \nL 563.584781 192.679083 \nz\n\" clip-path=\"url(#pe1e7c5320a)\" style=\"fill: #b3a9eb; stroke: #ffffff; stroke-linejoin: miter\"/>\n   </g>\n   <g id=\"patch_71\">\n    <path d=\"M 571.024781 359.517188 \nL 576.976781 359.517188 \nL 576.976781 278.789072 \nL 571.024781 278.789072 \nz\n\" clip-path=\"url(#pe1e7c5320a)\" style=\"fill: #b9a6eb; stroke: #ffffff; stroke-linejoin: miter\"/>\n   </g>\n   <g id=\"patch_72\">\n    <path d=\"M 578.464781 359.517188 \nL 584.416781 359.517188 \nL 584.416781 144.798084 \nL 578.464781 144.798084 \nz\n\" clip-path=\"url(#pe1e7c5320a)\" style=\"fill: #bea4ea; stroke: #ffffff; stroke-linejoin: miter\"/>\n   </g>\n   <g id=\"patch_73\">\n    <path d=\"M 585.904781 359.517188 \nL 591.856781 359.517188 \nL 591.856781 227.037188 \nL 585.904781 227.037188 \nz\n\" clip-path=\"url(#pe1e7c5320a)\" style=\"fill: #c4a1ea; stroke: #ffffff; stroke-linejoin: miter\"/>\n   </g>\n   <g id=\"patch_74\">\n    <path d=\"M 593.344781 359.517188 \nL 599.296781 359.517188 \nL 599.296781 236.202955 \nL 593.344781 236.202955 \nz\n\" clip-path=\"url(#pe1e7c5320a)\" style=\"fill: #c99ee9; stroke: #ffffff; stroke-linejoin: miter\"/>\n   </g>\n   <g id=\"patch_75\">\n    <path d=\"M 600.784781 359.517188 \nL 606.736781 359.517188 \nL 606.736781 122.227776 \nL 600.784781 122.227776 \nz\n\" clip-path=\"url(#pe1e7c5320a)\" style=\"fill: #ce9be9; stroke: #ffffff; stroke-linejoin: miter\"/>\n   </g>\n   <g id=\"patch_76\">\n    <path d=\"M 608.224781 359.517188 \nL 614.176781 359.517188 \nL 614.176781 193.57433 \nL 608.224781 193.57433 \nz\n\" clip-path=\"url(#pe1e7c5320a)\" style=\"fill: #d398e8; stroke: #ffffff; stroke-linejoin: miter\"/>\n   </g>\n   <g id=\"patch_77\">\n    <path d=\"M 615.664781 359.517188 \nL 621.616781 359.517188 \nL 621.616781 170.614165 \nL 615.664781 170.614165 \nz\n\" clip-path=\"url(#pe1e7c5320a)\" style=\"fill: #d994e8; stroke: #ffffff; stroke-linejoin: miter\"/>\n   </g>\n   <g id=\"patch_78\">\n    <path d=\"M 623.104781 359.517188 \nL 629.056781 359.517188 \nL 629.056781 170.614165 \nL 623.104781 170.614165 \nz\n\" clip-path=\"url(#pe1e7c5320a)\" style=\"fill: #df8fe7; stroke: #ffffff; stroke-linejoin: miter\"/>\n   </g>\n   <g id=\"patch_79\">\n    <path d=\"M 630.544781 359.517188 \nL 636.496781 359.517188 \nL 636.496781 149.624088 \nL 630.544781 149.624088 \nz\n\" clip-path=\"url(#pe1e7c5320a)\" style=\"fill: #e58ae6; stroke: #ffffff; stroke-linejoin: miter\"/>\n   </g>\n   <g id=\"patch_80\">\n    <path d=\"M 637.984781 359.517188 \nL 643.936781 359.517188 \nL 643.936781 184.948106 \nL 637.984781 184.948106 \nz\n\" clip-path=\"url(#pe1e7c5320a)\" style=\"fill: #e68ae1; stroke: #ffffff; stroke-linejoin: miter\"/>\n   </g>\n   <g id=\"patch_81\">\n    <path d=\"M 645.424781 359.517188 \nL 651.376781 359.517188 \nL 651.376781 199.253658 \nL 645.424781 199.253658 \nz\n\" clip-path=\"url(#pe1e7c5320a)\" style=\"fill: #e78bdb; stroke: #ffffff; stroke-linejoin: miter\"/>\n   </g>\n   <g id=\"patch_82\">\n    <path d=\"M 652.864781 359.517188 \nL 658.816781 359.517188 \nL 658.816781 149.160611 \nL 652.864781 149.160611 \nz\n\" clip-path=\"url(#pe1e7c5320a)\" style=\"fill: #e78cd6; stroke: #ffffff; stroke-linejoin: miter\"/>\n   </g>\n   <g id=\"patch_83\">\n    <path d=\"M 660.304781 359.517188 \nL 666.256781 359.517188 \nL 666.256781 220.645689 \nL 660.304781 220.645689 \nz\n\" clip-path=\"url(#pe1e7c5320a)\" style=\"fill: #e88ed1; stroke: #ffffff; stroke-linejoin: miter\"/>\n   </g>\n   <g id=\"patch_84\">\n    <path d=\"M 667.744781 359.517188 \nL 673.696781 359.517188 \nL 673.696781 124.768068 \nL 667.744781 124.768068 \nz\n\" clip-path=\"url(#pe1e7c5320a)\" style=\"fill: #e88fcc; stroke: #ffffff; stroke-linejoin: miter\"/>\n   </g>\n   <g id=\"patch_85\">\n    <path d=\"M 675.184781 359.517188 \nL 681.136781 359.517188 \nL 681.136781 167.208586 \nL 675.184781 167.208586 \nz\n\" clip-path=\"url(#pe1e7c5320a)\" style=\"fill: #e890c8; stroke: #ffffff; stroke-linejoin: miter\"/>\n   </g>\n   <g id=\"patch_86\">\n    <path d=\"M 682.624781 359.517188 \nL 688.576781 359.517188 \nL 688.576781 180.968118 \nL 682.624781 180.968118 \nz\n\" clip-path=\"url(#pe1e7c5320a)\" style=\"fill: #e891c3; stroke: #ffffff; stroke-linejoin: miter\"/>\n   </g>\n   <g id=\"patch_87\">\n    <path d=\"M 690.064781 359.517188 \nL 696.016781 359.517188 \nL 696.016781 182.056093 \nL 690.064781 182.056093 \nz\n\" clip-path=\"url(#pe1e7c5320a)\" style=\"fill: #e891bf; stroke: #ffffff; stroke-linejoin: miter\"/>\n   </g>\n   <g id=\"patch_88\">\n    <path d=\"M 697.504781 359.517188 \nL 703.456781 359.517188 \nL 703.456781 144.792271 \nL 697.504781 144.792271 \nz\n\" clip-path=\"url(#pe1e7c5320a)\" style=\"fill: #e992bb; stroke: #ffffff; stroke-linejoin: miter\"/>\n   </g>\n   <g id=\"patch_89\">\n    <path d=\"M 704.944781 359.517188 \nL 710.896781 359.517188 \nL 710.896781 119.938802 \nL 704.944781 119.938802 \nz\n\" clip-path=\"url(#pe1e7c5320a)\" style=\"fill: #e993b7; stroke: #ffffff; stroke-linejoin: miter\"/>\n   </g>\n   <g id=\"patch_90\">\n    <path d=\"M 712.384781 359.517188 \nL 718.336781 359.517188 \nL 718.336781 271.143323 \nL 712.384781 271.143323 \nz\n\" clip-path=\"url(#pe1e7c5320a)\" style=\"fill: #e994b2; stroke: #ffffff; stroke-linejoin: miter\"/>\n   </g>\n   <g id=\"patch_91\">\n    <path d=\"M 719.824781 359.517188 \nL 725.776781 359.517188 \nL 725.776781 235.734078 \nL 719.824781 235.734078 \nz\n\" clip-path=\"url(#pe1e7c5320a)\" style=\"fill: #e994ae; stroke: #ffffff; stroke-linejoin: miter\"/>\n   </g>\n   <g id=\"patch_92\">\n    <path d=\"M 727.264781 359.517188 \nL 733.216781 359.517188 \nL 733.216781 42.717188 \nL 727.264781 42.717188 \nz\n\" clip-path=\"url(#pe1e7c5320a)\" style=\"fill: #e995a9; stroke: #ffffff; stroke-linejoin: miter\"/>\n   </g>\n   <g id=\"patch_93\">\n    <path d=\"M 64.360781 359.517188 \nL 64.360781 26.877187 \n\" style=\"fill: none; stroke: #ffffff; stroke-width: 1.25; stroke-linejoin: miter; stroke-linecap: square\"/>\n   </g>\n   <g id=\"patch_94\">\n    <path d=\"M 733.960781 359.517188 \nL 733.960781 26.877187 \n\" style=\"fill: none; stroke: #ffffff; stroke-width: 1.25; stroke-linejoin: miter; stroke-linecap: square\"/>\n   </g>\n   <g id=\"patch_95\">\n    <path d=\"M 64.360781 359.517188 \nL 733.960781 359.517188 \n\" style=\"fill: none; stroke: #ffffff; stroke-width: 1.25; stroke-linejoin: miter; stroke-linecap: square\"/>\n   </g>\n   <g id=\"patch_96\">\n    <path d=\"M 64.360781 26.877187 \nL 733.960781 26.877187 \n\" style=\"fill: none; stroke: #ffffff; stroke-width: 1.25; stroke-linejoin: miter; stroke-linecap: square\"/>\n   </g>\n   <g id=\"text_99\">\n    <!-- MCC Score per Batch -->\n    <g style=\"fill: #262626\" transform=\"translate(304.219219 20.877187) scale(0.18 -0.18)\">\n     <defs>\n      <path id=\"DejaVuSans-70\" d=\"M 1159 525 \nL 1159 -1331 \nL 581 -1331 \nL 581 3500 \nL 1159 3500 \nL 1159 2969 \nQ 1341 3281 1617 3432 \nQ 1894 3584 2278 3584 \nQ 2916 3584 3314 3078 \nQ 3713 2572 3713 1747 \nQ 3713 922 3314 415 \nQ 2916 -91 2278 -91 \nQ 1894 -91 1617 61 \nQ 1341 213 1159 525 \nz\nM 3116 1747 \nQ 3116 2381 2855 2742 \nQ 2594 3103 2138 3103 \nQ 1681 3103 1420 2742 \nQ 1159 2381 1159 1747 \nQ 1159 1113 1420 752 \nQ 1681 391 2138 391 \nQ 2594 391 2855 752 \nQ 3116 1113 3116 1747 \nz\n\" transform=\"scale(0.015625)\"/>\n     </defs>\n     <use xlink:href=\"#DejaVuSans-4d\"/>\n     <use xlink:href=\"#DejaVuSans-43\" x=\"86.279297\"/>\n     <use xlink:href=\"#DejaVuSans-43\" x=\"156.103516\"/>\n     <use xlink:href=\"#DejaVuSans-20\" x=\"225.927734\"/>\n     <use xlink:href=\"#DejaVuSans-53\" x=\"257.714844\"/>\n     <use xlink:href=\"#DejaVuSans-63\" x=\"321.191406\"/>\n     <use xlink:href=\"#DejaVuSans-6f\" x=\"376.171875\"/>\n     <use xlink:href=\"#DejaVuSans-72\" x=\"437.353516\"/>\n     <use xlink:href=\"#DejaVuSans-65\" x=\"476.216797\"/>\n     <use xlink:href=\"#DejaVuSans-20\" x=\"537.740234\"/>\n     <use xlink:href=\"#DejaVuSans-70\" x=\"569.527344\"/>\n     <use xlink:href=\"#DejaVuSans-65\" x=\"633.003906\"/>\n     <use xlink:href=\"#DejaVuSans-72\" x=\"694.527344\"/>\n     <use xlink:href=\"#DejaVuSans-20\" x=\"735.640625\"/>\n     <use xlink:href=\"#DejaVuSans-42\" x=\"767.427734\"/>\n     <use xlink:href=\"#DejaVuSans-61\" x=\"836.03125\"/>\n     <use xlink:href=\"#DejaVuSans-74\" x=\"897.310547\"/>\n     <use xlink:href=\"#DejaVuSans-63\" x=\"936.519531\"/>\n     <use xlink:href=\"#DejaVuSans-68\" x=\"991.5\"/>\n    </g>\n   </g>\n  </g>\n </g>\n <defs>\n  <clipPath id=\"pe1e7c5320a\">\n   <rect x=\"64.360781\" y=\"26.877187\" width=\"669.6\" height=\"332.64\"/>\n  </clipPath>\n </defs>\n</svg>\n"
          },
          "metadata": {}
        }
      ],
      "source": [
        "# Create a barplot showing the MCC score for each batch of test samples.\n",
        "ax = sns.barplot(x=list(range(len(matthews_set))), y=matthews_set, ci=None)\n",
        "\n",
        "plt.title('MCC Score per Batch')\n",
        "plt.ylabel('MCC Score (-1 to +1)')\n",
        "plt.xlabel('Batch #')\n",
        "\n",
        "plt.show()"
      ]
    },
    {
      "cell_type": "code",
      "execution_count": null,
      "metadata": {
        "colab": {
          "base_uri": "https://localhost:8080/"
        },
        "id": "ZbyBJnTseKQG",
        "outputId": "b33dfa76-a7ac-4a58-aa6a-b285bf47b5d0"
      },
      "outputs": [
        {
          "output_type": "stream",
          "name": "stdout",
          "text": [
            "Total MCC: 0.529\n",
            "                 precision    recall  f1-score   support\n",
            "\n",
            "    Informative       0.66      0.74      0.70       980\n",
            "Non-Informative       0.86      0.80      0.83      1870\n",
            "\n",
            "       accuracy                           0.78      2850\n",
            "      macro avg       0.76      0.77      0.76      2850\n",
            "   weighted avg       0.79      0.78      0.78      2850\n",
            "\n"
          ]
        }
      ],
      "source": [
        "# Combine the results across all batches.\n",
        "flat_predictions = np.concatenate(predictions, axis=0)\n",
        "\n",
        "# For each sample, pick the label (0 or 1) with the higher score.\n",
        "flat_predictions = np.argmax(flat_predictions, axis=1).flatten()\n",
        "\n",
        "# Combine the correct labels for each batch into a single list.\n",
        "flat_true_labels = np.concatenate(true_labels, axis=0)\n",
        "\n",
        "# Calculate the MCC\n",
        "mcc = matthews_corrcoef(flat_true_labels, flat_predictions)\n",
        "\n",
        "print('Total MCC: %.3f' % mcc)\n",
        "\n",
        "print(classification_report(flat_true_labels,\n",
        "                                flat_predictions,\n",
        "                                target_names=mapping.keys()))"
      ]
    },
    {
      "cell_type": "code",
      "source": [
        "#Util function to plot confusion matrix with percentages\n",
        "def plot_cm_with_percentages(labels, predictions, class_labels, name=\"\"):\n",
        "    # Compute confusion matrix\n",
        "    cm = confusion_matrix(labels, predictions)\n",
        "\n",
        "    # Calculate row-wise sums to get the total counts for each true label\n",
        "    row_sums = cm.sum(axis=1, keepdims=True)\n",
        "\n",
        "    # Calculate the percentages by dividing each element of the confusion matrix by its corresponding row sum\n",
        "    cm_percentages = np.round((cm / row_sums) * 100, decimals=2)\n",
        "\n",
        "    # Change figure size and increase dpi for better resolution\n",
        "    plt.figure(figsize=(8,6), dpi=100)\n",
        "\n",
        "    # Scale up the size of all text\n",
        "    sns.set(font_scale = 1.1)\n",
        "\n",
        "    # Plot Confusion Matrix using Seaborn heatmap()\n",
        "    # Parameters:\n",
        "    # first param - confusion matrix in array format\n",
        "    # annot = True: show the numbers in each heatmap cell\n",
        "    # fmt = '.2f': show numbers as floats with 2 decimal places\n",
        "    ax = sns.heatmap(cm_percentages, annot=True, fmt='.2f')\n",
        "\n",
        "    # Format the annotations as percentages\n",
        "    for _, value in enumerate(ax.collections[0].axes.texts):\n",
        "        if value.get_text() != '0.00':\n",
        "            value.set_text(f\"{float(value.get_text()):.2f}%\")\n",
        "\n",
        "    # Set x-axis label and ticks\n",
        "    ax.set_xlabel(\"Predicted Label\", fontsize=14, labelpad=20)\n",
        "    ax.set_xticklabels(class_labels, rotation=45, ha='right')\n",
        "\n",
        "    # Set y-axis label and ticks\n",
        "    ax.set_ylabel(\"Gold Label\", fontsize=14, labelpad=20)\n",
        "    ax.set_yticklabels(class_labels, rotation=45, ha='right')\n",
        "\n",
        "    # Set plot title\n",
        "    ax.set_title(\"Confusion Matrix\", fontsize=14, pad=20)\n",
        "\n",
        "    from datetime import datetime\n",
        "\n",
        "    # Generate a timestamp for the file name\n",
        "    timestamp = datetime.now().strftime(\"%Y%m%d%H%M%S\")\n",
        "\n",
        "    # Save the figure as an SVG file with timestamp in the file name\n",
        "    file_name = f\"/content/drive/My Drive/thesis/results/confusion_matrix_{name}_{timestamp}.svg\"\n",
        "    plt.savefig(file_name, format='svg')\n",
        "\n",
        "    plt.show()\n"
      ],
      "metadata": {
        "id": "mHj0zQEetgpR"
      },
      "execution_count": null,
      "outputs": []
    },
    {
      "cell_type": "code",
      "execution_count": null,
      "metadata": {
        "id": "UAHf2uE3eUMf"
      },
      "outputs": [],
      "source": [
        " #Util function to plot confusion matrix\n",
        "def plot_cm(labels, predictions, class_labels):\n",
        "    # predictions has values in [0,1]\n",
        "    cm = confusion_matrix(labels, predictions)\n",
        "    # Change figure size and increase dpi for better resolution\n",
        "    plt.figure(figsize=(8,6), dpi=100)\n",
        "    # Scale up the size of all text\n",
        "    sns.set(font_scale = 1.1)\n",
        "    # Plot Confusion Matrix using Seaborn heatmap()\n",
        "    # Parameters:\n",
        "    # first param - confusion matrix in array format\n",
        "    # annot = True: show the numbers in each heatmap cell\n",
        "    # fmt = 'd': show numbers as integers.\n",
        "    ax = sns.heatmap(cm, annot=True, fmt='d', )\n",
        "    # set x-axis label and ticks.\n",
        "\n",
        "  # Set x-axis label and ticks\n",
        "    ax.set_xlabel(\"Predicted Label\", fontsize=14, labelpad=20)\n",
        "    ax.set_xticklabels(class_labels, rotation=45, ha='right')\n",
        "\n",
        "    # Set y-axis label and ticks\n",
        "    ax.set_ylabel(\"Gold Label\", fontsize=14, labelpad=20)\n",
        "    ax.set_yticklabels(class_labels, rotation=45, ha='right')\n",
        "\n",
        "    # set plot title\n",
        "    ax.set_title(\"Confusion Matrix\", fontsize=14, pad=20)\n",
        "\n",
        "    plt.show()"
      ]
    },
    {
      "cell_type": "code",
      "execution_count": null,
      "metadata": {
        "colab": {
          "base_uri": "https://localhost:8080/",
          "height": 714
        },
        "id": "DXUlYEB8gmdk",
        "outputId": "91e5863c-d945-47a7-e2e1-04d7923ada9f"
      },
      "outputs": [
        {
          "output_type": "display_data",
          "data": {
            "text/plain": [
              "<Figure size 800x600 with 2 Axes>"
            ],
            "image/svg+xml": "<?xml version=\"1.0\" encoding=\"utf-8\" standalone=\"no\"?>\n<!DOCTYPE svg PUBLIC \"-//W3C//DTD SVG 1.1//EN\"\n  \"http://www.w3.org/Graphics/SVG/1.1/DTD/svg11.dtd\">\n<svg xmlns:xlink=\"http://www.w3.org/1999/xlink\" width=\"577.767061pt\" height=\"520.075624pt\" viewBox=\"0 0 577.767061 520.075624\" xmlns=\"http://www.w3.org/2000/svg\" version=\"1.1\">\n <metadata>\n  <rdf:RDF xmlns:dc=\"http://purl.org/dc/elements/1.1/\" xmlns:cc=\"http://creativecommons.org/ns#\" xmlns:rdf=\"http://www.w3.org/1999/02/22-rdf-syntax-ns#\">\n   <cc:Work>\n    <dc:type rdf:resource=\"http://purl.org/dc/dcmitype/StillImage\"/>\n    <dc:date>2023-07-08T21:06:17.476534</dc:date>\n    <dc:format>image/svg+xml</dc:format>\n    <dc:creator>\n     <cc:Agent>\n      <dc:title>Matplotlib v3.7.1, https://matplotlib.org/</dc:title>\n     </cc:Agent>\n    </dc:creator>\n   </cc:Work>\n  </rdf:RDF>\n </metadata>\n <defs>\n  <style type=\"text/css\">*{stroke-linejoin: round; stroke-linecap: butt}</style>\n </defs>\n <g id=\"figure_1\">\n  <g id=\"patch_1\">\n   <path d=\"M 0 520.075624 \nL 577.767061 520.075624 \nL 577.767061 -0 \nL 0 -0 \nz\n\" style=\"fill: #ffffff\"/>\n  </g>\n  <g id=\"axes_1\">\n   <g id=\"patch_2\">\n    <path d=\"M 149.597811 370.477812 \nL 506.717811 370.477812 \nL 506.717811 37.837812 \nL 149.597811 37.837812 \nz\n\" style=\"fill: #eaeaf2\"/>\n   </g>\n   <g id=\"matplotlib.axis_1\">\n    <g id=\"xtick_1\">\n     <g id=\"line2d_1\">\n      <path d=\"M 185.309811 370.477812 \nL 185.309811 37.837812 \n\" clip-path=\"url(#p0635af21aa)\" style=\"fill: none; stroke: #ffffff; stroke-linecap: round\"/>\n     </g>\n     <g id=\"text_1\">\n      <!-- Counting and Results -->\n      <g style=\"fill: #262626\" transform=\"translate(92.462592 477.54687) rotate(-45) scale(0.121 -0.121)\">\n       <defs>\n        <path id=\"DejaVuSans-43\" d=\"M 4122 4306 \nL 4122 3641 \nQ 3803 3938 3442 4084 \nQ 3081 4231 2675 4231 \nQ 1875 4231 1450 3742 \nQ 1025 3253 1025 2328 \nQ 1025 1406 1450 917 \nQ 1875 428 2675 428 \nQ 3081 428 3442 575 \nQ 3803 722 4122 1019 \nL 4122 359 \nQ 3791 134 3420 21 \nQ 3050 -91 2638 -91 \nQ 1578 -91 968 557 \nQ 359 1206 359 2328 \nQ 359 3453 968 4101 \nQ 1578 4750 2638 4750 \nQ 3056 4750 3426 4639 \nQ 3797 4528 4122 4306 \nz\n\" transform=\"scale(0.015625)\"/>\n        <path id=\"DejaVuSans-6f\" d=\"M 1959 3097 \nQ 1497 3097 1228 2736 \nQ 959 2375 959 1747 \nQ 959 1119 1226 758 \nQ 1494 397 1959 397 \nQ 2419 397 2687 759 \nQ 2956 1122 2956 1747 \nQ 2956 2369 2687 2733 \nQ 2419 3097 1959 3097 \nz\nM 1959 3584 \nQ 2709 3584 3137 3096 \nQ 3566 2609 3566 1747 \nQ 3566 888 3137 398 \nQ 2709 -91 1959 -91 \nQ 1206 -91 779 398 \nQ 353 888 353 1747 \nQ 353 2609 779 3096 \nQ 1206 3584 1959 3584 \nz\n\" transform=\"scale(0.015625)\"/>\n        <path id=\"DejaVuSans-75\" d=\"M 544 1381 \nL 544 3500 \nL 1119 3500 \nL 1119 1403 \nQ 1119 906 1312 657 \nQ 1506 409 1894 409 \nQ 2359 409 2629 706 \nQ 2900 1003 2900 1516 \nL 2900 3500 \nL 3475 3500 \nL 3475 0 \nL 2900 0 \nL 2900 538 \nQ 2691 219 2414 64 \nQ 2138 -91 1772 -91 \nQ 1169 -91 856 284 \nQ 544 659 544 1381 \nz\nM 1991 3584 \nL 1991 3584 \nz\n\" transform=\"scale(0.015625)\"/>\n        <path id=\"DejaVuSans-6e\" d=\"M 3513 2113 \nL 3513 0 \nL 2938 0 \nL 2938 2094 \nQ 2938 2591 2744 2837 \nQ 2550 3084 2163 3084 \nQ 1697 3084 1428 2787 \nQ 1159 2491 1159 1978 \nL 1159 0 \nL 581 0 \nL 581 3500 \nL 1159 3500 \nL 1159 2956 \nQ 1366 3272 1645 3428 \nQ 1925 3584 2291 3584 \nQ 2894 3584 3203 3211 \nQ 3513 2838 3513 2113 \nz\n\" transform=\"scale(0.015625)\"/>\n        <path id=\"DejaVuSans-74\" d=\"M 1172 4494 \nL 1172 3500 \nL 2356 3500 \nL 2356 3053 \nL 1172 3053 \nL 1172 1153 \nQ 1172 725 1289 603 \nQ 1406 481 1766 481 \nL 2356 481 \nL 2356 0 \nL 1766 0 \nQ 1100 0 847 248 \nQ 594 497 594 1153 \nL 594 3053 \nL 172 3053 \nL 172 3500 \nL 594 3500 \nL 594 4494 \nL 1172 4494 \nz\n\" transform=\"scale(0.015625)\"/>\n        <path id=\"DejaVuSans-69\" d=\"M 603 3500 \nL 1178 3500 \nL 1178 0 \nL 603 0 \nL 603 3500 \nz\nM 603 4863 \nL 1178 4863 \nL 1178 4134 \nL 603 4134 \nL 603 4863 \nz\n\" transform=\"scale(0.015625)\"/>\n        <path id=\"DejaVuSans-67\" d=\"M 2906 1791 \nQ 2906 2416 2648 2759 \nQ 2391 3103 1925 3103 \nQ 1463 3103 1205 2759 \nQ 947 2416 947 1791 \nQ 947 1169 1205 825 \nQ 1463 481 1925 481 \nQ 2391 481 2648 825 \nQ 2906 1169 2906 1791 \nz\nM 3481 434 \nQ 3481 -459 3084 -895 \nQ 2688 -1331 1869 -1331 \nQ 1566 -1331 1297 -1286 \nQ 1028 -1241 775 -1147 \nL 775 -588 \nQ 1028 -725 1275 -790 \nQ 1522 -856 1778 -856 \nQ 2344 -856 2625 -561 \nQ 2906 -266 2906 331 \nL 2906 616 \nQ 2728 306 2450 153 \nQ 2172 0 1784 0 \nQ 1141 0 747 490 \nQ 353 981 353 1791 \nQ 353 2603 747 3093 \nQ 1141 3584 1784 3584 \nQ 2172 3584 2450 3431 \nQ 2728 3278 2906 2969 \nL 2906 3500 \nL 3481 3500 \nL 3481 434 \nz\n\" transform=\"scale(0.015625)\"/>\n        <path id=\"DejaVuSans-20\" transform=\"scale(0.015625)\"/>\n        <path id=\"DejaVuSans-61\" d=\"M 2194 1759 \nQ 1497 1759 1228 1600 \nQ 959 1441 959 1056 \nQ 959 750 1161 570 \nQ 1363 391 1709 391 \nQ 2188 391 2477 730 \nQ 2766 1069 2766 1631 \nL 2766 1759 \nL 2194 1759 \nz\nM 3341 1997 \nL 3341 0 \nL 2766 0 \nL 2766 531 \nQ 2569 213 2275 61 \nQ 1981 -91 1556 -91 \nQ 1019 -91 701 211 \nQ 384 513 384 1019 \nQ 384 1609 779 1909 \nQ 1175 2209 1959 2209 \nL 2766 2209 \nL 2766 2266 \nQ 2766 2663 2505 2880 \nQ 2244 3097 1772 3097 \nQ 1472 3097 1187 3025 \nQ 903 2953 641 2809 \nL 641 3341 \nQ 956 3463 1253 3523 \nQ 1550 3584 1831 3584 \nQ 2591 3584 2966 3190 \nQ 3341 2797 3341 1997 \nz\n\" transform=\"scale(0.015625)\"/>\n        <path id=\"DejaVuSans-64\" d=\"M 2906 2969 \nL 2906 4863 \nL 3481 4863 \nL 3481 0 \nL 2906 0 \nL 2906 525 \nQ 2725 213 2448 61 \nQ 2172 -91 1784 -91 \nQ 1150 -91 751 415 \nQ 353 922 353 1747 \nQ 353 2572 751 3078 \nQ 1150 3584 1784 3584 \nQ 2172 3584 2448 3432 \nQ 2725 3281 2906 2969 \nz\nM 947 1747 \nQ 947 1113 1208 752 \nQ 1469 391 1925 391 \nQ 2381 391 2643 752 \nQ 2906 1113 2906 1747 \nQ 2906 2381 2643 2742 \nQ 2381 3103 1925 3103 \nQ 1469 3103 1208 2742 \nQ 947 2381 947 1747 \nz\n\" transform=\"scale(0.015625)\"/>\n        <path id=\"DejaVuSans-52\" d=\"M 2841 2188 \nQ 3044 2119 3236 1894 \nQ 3428 1669 3622 1275 \nL 4263 0 \nL 3584 0 \nL 2988 1197 \nQ 2756 1666 2539 1819 \nQ 2322 1972 1947 1972 \nL 1259 1972 \nL 1259 0 \nL 628 0 \nL 628 4666 \nL 2053 4666 \nQ 2853 4666 3247 4331 \nQ 3641 3997 3641 3322 \nQ 3641 2881 3436 2590 \nQ 3231 2300 2841 2188 \nz\nM 1259 4147 \nL 1259 2491 \nL 2053 2491 \nQ 2509 2491 2742 2702 \nQ 2975 2913 2975 3322 \nQ 2975 3731 2742 3939 \nQ 2509 4147 2053 4147 \nL 1259 4147 \nz\n\" transform=\"scale(0.015625)\"/>\n        <path id=\"DejaVuSans-65\" d=\"M 3597 1894 \nL 3597 1613 \nL 953 1613 \nQ 991 1019 1311 708 \nQ 1631 397 2203 397 \nQ 2534 397 2845 478 \nQ 3156 559 3463 722 \nL 3463 178 \nQ 3153 47 2828 -22 \nQ 2503 -91 2169 -91 \nQ 1331 -91 842 396 \nQ 353 884 353 1716 \nQ 353 2575 817 3079 \nQ 1281 3584 2069 3584 \nQ 2775 3584 3186 3129 \nQ 3597 2675 3597 1894 \nz\nM 3022 2063 \nQ 3016 2534 2758 2815 \nQ 2500 3097 2075 3097 \nQ 1594 3097 1305 2825 \nQ 1016 2553 972 2059 \nL 3022 2063 \nz\n\" transform=\"scale(0.015625)\"/>\n        <path id=\"DejaVuSans-73\" d=\"M 2834 3397 \nL 2834 2853 \nQ 2591 2978 2328 3040 \nQ 2066 3103 1784 3103 \nQ 1356 3103 1142 2972 \nQ 928 2841 928 2578 \nQ 928 2378 1081 2264 \nQ 1234 2150 1697 2047 \nL 1894 2003 \nQ 2506 1872 2764 1633 \nQ 3022 1394 3022 966 \nQ 3022 478 2636 193 \nQ 2250 -91 1575 -91 \nQ 1294 -91 989 -36 \nQ 684 19 347 128 \nL 347 722 \nQ 666 556 975 473 \nQ 1284 391 1588 391 \nQ 1994 391 2212 530 \nQ 2431 669 2431 922 \nQ 2431 1156 2273 1281 \nQ 2116 1406 1581 1522 \nL 1381 1569 \nQ 847 1681 609 1914 \nQ 372 2147 372 2553 \nQ 372 3047 722 3315 \nQ 1072 3584 1716 3584 \nQ 2034 3584 2315 3537 \nQ 2597 3491 2834 3397 \nz\n\" transform=\"scale(0.015625)\"/>\n        <path id=\"DejaVuSans-6c\" d=\"M 603 4863 \nL 1178 4863 \nL 1178 0 \nL 603 0 \nL 603 4863 \nz\n\" transform=\"scale(0.015625)\"/>\n       </defs>\n       <use xlink:href=\"#DejaVuSans-43\"/>\n       <use xlink:href=\"#DejaVuSans-6f\" x=\"69.824219\"/>\n       <use xlink:href=\"#DejaVuSans-75\" x=\"131.005859\"/>\n       <use xlink:href=\"#DejaVuSans-6e\" x=\"194.384766\"/>\n       <use xlink:href=\"#DejaVuSans-74\" x=\"257.763672\"/>\n       <use xlink:href=\"#DejaVuSans-69\" x=\"296.972656\"/>\n       <use xlink:href=\"#DejaVuSans-6e\" x=\"324.755859\"/>\n       <use xlink:href=\"#DejaVuSans-67\" x=\"388.134766\"/>\n       <use xlink:href=\"#DejaVuSans-20\" x=\"451.611328\"/>\n       <use xlink:href=\"#DejaVuSans-61\" x=\"483.398438\"/>\n       <use xlink:href=\"#DejaVuSans-6e\" x=\"544.677734\"/>\n       <use xlink:href=\"#DejaVuSans-64\" x=\"608.056641\"/>\n       <use xlink:href=\"#DejaVuSans-20\" x=\"671.533203\"/>\n       <use xlink:href=\"#DejaVuSans-52\" x=\"703.320312\"/>\n       <use xlink:href=\"#DejaVuSans-65\" x=\"768.302734\"/>\n       <use xlink:href=\"#DejaVuSans-73\" x=\"829.826172\"/>\n       <use xlink:href=\"#DejaVuSans-75\" x=\"881.925781\"/>\n       <use xlink:href=\"#DejaVuSans-6c\" x=\"945.304688\"/>\n       <use xlink:href=\"#DejaVuSans-74\" x=\"973.087891\"/>\n       <use xlink:href=\"#DejaVuSans-73\" x=\"1012.296875\"/>\n      </g>\n     </g>\n    </g>\n    <g id=\"xtick_2\">\n     <g id=\"line2d_2\">\n      <path d=\"M 256.733811 370.477812 \nL 256.733811 37.837812 \n\" clip-path=\"url(#p0635af21aa)\" style=\"fill: none; stroke: #ffffff; stroke-linecap: round\"/>\n     </g>\n     <g id=\"text_2\">\n      <!-- Political Rallies -->\n      <g style=\"fill: #262626\" transform=\"translate(191.493035 449.940427) rotate(-45) scale(0.121 -0.121)\">\n       <defs>\n        <path id=\"DejaVuSans-50\" d=\"M 1259 4147 \nL 1259 2394 \nL 2053 2394 \nQ 2494 2394 2734 2622 \nQ 2975 2850 2975 3272 \nQ 2975 3691 2734 3919 \nQ 2494 4147 2053 4147 \nL 1259 4147 \nz\nM 628 4666 \nL 2053 4666 \nQ 2838 4666 3239 4311 \nQ 3641 3956 3641 3272 \nQ 3641 2581 3239 2228 \nQ 2838 1875 2053 1875 \nL 1259 1875 \nL 1259 0 \nL 628 0 \nL 628 4666 \nz\n\" transform=\"scale(0.015625)\"/>\n        <path id=\"DejaVuSans-63\" d=\"M 3122 3366 \nL 3122 2828 \nQ 2878 2963 2633 3030 \nQ 2388 3097 2138 3097 \nQ 1578 3097 1268 2742 \nQ 959 2388 959 1747 \nQ 959 1106 1268 751 \nQ 1578 397 2138 397 \nQ 2388 397 2633 464 \nQ 2878 531 3122 666 \nL 3122 134 \nQ 2881 22 2623 -34 \nQ 2366 -91 2075 -91 \nQ 1284 -91 818 406 \nQ 353 903 353 1747 \nQ 353 2603 823 3093 \nQ 1294 3584 2113 3584 \nQ 2378 3584 2631 3529 \nQ 2884 3475 3122 3366 \nz\n\" transform=\"scale(0.015625)\"/>\n       </defs>\n       <use xlink:href=\"#DejaVuSans-50\"/>\n       <use xlink:href=\"#DejaVuSans-6f\" x=\"56.677734\"/>\n       <use xlink:href=\"#DejaVuSans-6c\" x=\"117.859375\"/>\n       <use xlink:href=\"#DejaVuSans-69\" x=\"145.642578\"/>\n       <use xlink:href=\"#DejaVuSans-74\" x=\"173.425781\"/>\n       <use xlink:href=\"#DejaVuSans-69\" x=\"212.634766\"/>\n       <use xlink:href=\"#DejaVuSans-63\" x=\"240.417969\"/>\n       <use xlink:href=\"#DejaVuSans-61\" x=\"295.398438\"/>\n       <use xlink:href=\"#DejaVuSans-6c\" x=\"356.677734\"/>\n       <use xlink:href=\"#DejaVuSans-20\" x=\"384.460938\"/>\n       <use xlink:href=\"#DejaVuSans-52\" x=\"416.248047\"/>\n       <use xlink:href=\"#DejaVuSans-61\" x=\"483.480469\"/>\n       <use xlink:href=\"#DejaVuSans-6c\" x=\"544.759766\"/>\n       <use xlink:href=\"#DejaVuSans-6c\" x=\"572.542969\"/>\n       <use xlink:href=\"#DejaVuSans-69\" x=\"600.326172\"/>\n       <use xlink:href=\"#DejaVuSans-65\" x=\"628.109375\"/>\n       <use xlink:href=\"#DejaVuSans-73\" x=\"689.632812\"/>\n      </g>\n     </g>\n    </g>\n    <g id=\"xtick_3\">\n     <g id=\"line2d_3\">\n      <path d=\"M 328.157811 370.477812 \nL 328.157811 37.837812 \n\" clip-path=\"url(#p0635af21aa)\" style=\"fill: none; stroke: #ffffff; stroke-linecap: round\"/>\n     </g>\n     <g id=\"text_3\">\n      <!-- Positive Events -->\n      <g style=\"fill: #262626\" transform=\"translate(261.712512 451.14495) rotate(-45) scale(0.121 -0.121)\">\n       <defs>\n        <path id=\"DejaVuSans-76\" d=\"M 191 3500 \nL 800 3500 \nL 1894 563 \nL 2988 3500 \nL 3597 3500 \nL 2284 0 \nL 1503 0 \nL 191 3500 \nz\n\" transform=\"scale(0.015625)\"/>\n        <path id=\"DejaVuSans-45\" d=\"M 628 4666 \nL 3578 4666 \nL 3578 4134 \nL 1259 4134 \nL 1259 2753 \nL 3481 2753 \nL 3481 2222 \nL 1259 2222 \nL 1259 531 \nL 3634 531 \nL 3634 0 \nL 628 0 \nL 628 4666 \nz\n\" transform=\"scale(0.015625)\"/>\n       </defs>\n       <use xlink:href=\"#DejaVuSans-50\"/>\n       <use xlink:href=\"#DejaVuSans-6f\" x=\"56.677734\"/>\n       <use xlink:href=\"#DejaVuSans-73\" x=\"117.859375\"/>\n       <use xlink:href=\"#DejaVuSans-69\" x=\"169.958984\"/>\n       <use xlink:href=\"#DejaVuSans-74\" x=\"197.742188\"/>\n       <use xlink:href=\"#DejaVuSans-69\" x=\"236.951172\"/>\n       <use xlink:href=\"#DejaVuSans-76\" x=\"264.734375\"/>\n       <use xlink:href=\"#DejaVuSans-65\" x=\"323.914062\"/>\n       <use xlink:href=\"#DejaVuSans-20\" x=\"385.4375\"/>\n       <use xlink:href=\"#DejaVuSans-45\" x=\"417.224609\"/>\n       <use xlink:href=\"#DejaVuSans-76\" x=\"480.408203\"/>\n       <use xlink:href=\"#DejaVuSans-65\" x=\"539.587891\"/>\n       <use xlink:href=\"#DejaVuSans-6e\" x=\"601.111328\"/>\n       <use xlink:href=\"#DejaVuSans-74\" x=\"664.490234\"/>\n       <use xlink:href=\"#DejaVuSans-73\" x=\"703.699219\"/>\n      </g>\n     </g>\n    </g>\n    <g id=\"xtick_4\">\n     <g id=\"line2d_4\">\n      <path d=\"M 399.581811 370.477812 \nL 399.581811 37.837812 \n\" clip-path=\"url(#p0635af21aa)\" style=\"fill: none; stroke: #ffffff; stroke-linecap: round\"/>\n     </g>\n     <g id=\"text_4\">\n      <!-- Security Issues -->\n      <g style=\"fill: #262626\" transform=\"translate(333.365117 450.916345) rotate(-45) scale(0.121 -0.121)\">\n       <defs>\n        <path id=\"DejaVuSans-53\" d=\"M 3425 4513 \nL 3425 3897 \nQ 3066 4069 2747 4153 \nQ 2428 4238 2131 4238 \nQ 1616 4238 1336 4038 \nQ 1056 3838 1056 3469 \nQ 1056 3159 1242 3001 \nQ 1428 2844 1947 2747 \nL 2328 2669 \nQ 3034 2534 3370 2195 \nQ 3706 1856 3706 1288 \nQ 3706 609 3251 259 \nQ 2797 -91 1919 -91 \nQ 1588 -91 1214 -16 \nQ 841 59 441 206 \nL 441 856 \nQ 825 641 1194 531 \nQ 1563 422 1919 422 \nQ 2459 422 2753 634 \nQ 3047 847 3047 1241 \nQ 3047 1584 2836 1778 \nQ 2625 1972 2144 2069 \nL 1759 2144 \nQ 1053 2284 737 2584 \nQ 422 2884 422 3419 \nQ 422 4038 858 4394 \nQ 1294 4750 2059 4750 \nQ 2388 4750 2728 4690 \nQ 3069 4631 3425 4513 \nz\n\" transform=\"scale(0.015625)\"/>\n        <path id=\"DejaVuSans-72\" d=\"M 2631 2963 \nQ 2534 3019 2420 3045 \nQ 2306 3072 2169 3072 \nQ 1681 3072 1420 2755 \nQ 1159 2438 1159 1844 \nL 1159 0 \nL 581 0 \nL 581 3500 \nL 1159 3500 \nL 1159 2956 \nQ 1341 3275 1631 3429 \nQ 1922 3584 2338 3584 \nQ 2397 3584 2469 3576 \nQ 2541 3569 2628 3553 \nL 2631 2963 \nz\n\" transform=\"scale(0.015625)\"/>\n        <path id=\"DejaVuSans-79\" d=\"M 2059 -325 \nQ 1816 -950 1584 -1140 \nQ 1353 -1331 966 -1331 \nL 506 -1331 \nL 506 -850 \nL 844 -850 \nQ 1081 -850 1212 -737 \nQ 1344 -625 1503 -206 \nL 1606 56 \nL 191 3500 \nL 800 3500 \nL 1894 763 \nL 2988 3500 \nL 3597 3500 \nL 2059 -325 \nz\n\" transform=\"scale(0.015625)\"/>\n        <path id=\"DejaVuSans-49\" d=\"M 628 4666 \nL 1259 4666 \nL 1259 0 \nL 628 0 \nL 628 4666 \nz\n\" transform=\"scale(0.015625)\"/>\n       </defs>\n       <use xlink:href=\"#DejaVuSans-53\"/>\n       <use xlink:href=\"#DejaVuSans-65\" x=\"63.476562\"/>\n       <use xlink:href=\"#DejaVuSans-63\" x=\"125\"/>\n       <use xlink:href=\"#DejaVuSans-75\" x=\"179.980469\"/>\n       <use xlink:href=\"#DejaVuSans-72\" x=\"243.359375\"/>\n       <use xlink:href=\"#DejaVuSans-69\" x=\"284.472656\"/>\n       <use xlink:href=\"#DejaVuSans-74\" x=\"312.255859\"/>\n       <use xlink:href=\"#DejaVuSans-79\" x=\"351.464844\"/>\n       <use xlink:href=\"#DejaVuSans-20\" x=\"410.644531\"/>\n       <use xlink:href=\"#DejaVuSans-49\" x=\"442.431641\"/>\n       <use xlink:href=\"#DejaVuSans-73\" x=\"471.923828\"/>\n       <use xlink:href=\"#DejaVuSans-73\" x=\"524.023438\"/>\n       <use xlink:href=\"#DejaVuSans-75\" x=\"576.123047\"/>\n       <use xlink:href=\"#DejaVuSans-65\" x=\"639.501953\"/>\n       <use xlink:href=\"#DejaVuSans-73\" x=\"701.025391\"/>\n      </g>\n     </g>\n    </g>\n    <g id=\"xtick_5\">\n     <g id=\"line2d_5\">\n      <path d=\"M 471.005811 370.477812 \nL 471.005811 37.837812 \n\" clip-path=\"url(#p0635af21aa)\" style=\"fill: none; stroke: #ffffff; stroke-linecap: round\"/>\n     </g>\n     <g id=\"text_5\">\n      <!-- Voting Issues -->\n      <g style=\"fill: #262626\" transform=\"translate(412.914636 442.790826) rotate(-45) scale(0.121 -0.121)\">\n       <defs>\n        <path id=\"DejaVuSans-56\" d=\"M 1831 0 \nL 50 4666 \nL 709 4666 \nL 2188 738 \nL 3669 4666 \nL 4325 4666 \nL 2547 0 \nL 1831 0 \nz\n\" transform=\"scale(0.015625)\"/>\n       </defs>\n       <use xlink:href=\"#DejaVuSans-56\"/>\n       <use xlink:href=\"#DejaVuSans-6f\" x=\"60.658203\"/>\n       <use xlink:href=\"#DejaVuSans-74\" x=\"121.839844\"/>\n       <use xlink:href=\"#DejaVuSans-69\" x=\"161.048828\"/>\n       <use xlink:href=\"#DejaVuSans-6e\" x=\"188.832031\"/>\n       <use xlink:href=\"#DejaVuSans-67\" x=\"252.210938\"/>\n       <use xlink:href=\"#DejaVuSans-20\" x=\"315.6875\"/>\n       <use xlink:href=\"#DejaVuSans-49\" x=\"347.474609\"/>\n       <use xlink:href=\"#DejaVuSans-73\" x=\"376.966797\"/>\n       <use xlink:href=\"#DejaVuSans-73\" x=\"429.066406\"/>\n       <use xlink:href=\"#DejaVuSans-75\" x=\"481.166016\"/>\n       <use xlink:href=\"#DejaVuSans-65\" x=\"544.544922\"/>\n       <use xlink:href=\"#DejaVuSans-73\" x=\"606.068359\"/>\n      </g>\n     </g>\n    </g>\n    <g id=\"text_6\">\n     <!-- Predicted Label -->\n     <g style=\"fill: #262626\" transform=\"translate(274.188905 509.964061) scale(0.14 -0.14)\">\n      <defs>\n       <path id=\"DejaVuSans-4c\" d=\"M 628 4666 \nL 1259 4666 \nL 1259 531 \nL 3531 531 \nL 3531 0 \nL 628 0 \nL 628 4666 \nz\n\" transform=\"scale(0.015625)\"/>\n       <path id=\"DejaVuSans-62\" d=\"M 3116 1747 \nQ 3116 2381 2855 2742 \nQ 2594 3103 2138 3103 \nQ 1681 3103 1420 2742 \nQ 1159 2381 1159 1747 \nQ 1159 1113 1420 752 \nQ 1681 391 2138 391 \nQ 2594 391 2855 752 \nQ 3116 1113 3116 1747 \nz\nM 1159 2969 \nQ 1341 3281 1617 3432 \nQ 1894 3584 2278 3584 \nQ 2916 3584 3314 3078 \nQ 3713 2572 3713 1747 \nQ 3713 922 3314 415 \nQ 2916 -91 2278 -91 \nQ 1894 -91 1617 61 \nQ 1341 213 1159 525 \nL 1159 0 \nL 581 0 \nL 581 4863 \nL 1159 4863 \nL 1159 2969 \nz\n\" transform=\"scale(0.015625)\"/>\n      </defs>\n      <use xlink:href=\"#DejaVuSans-50\"/>\n      <use xlink:href=\"#DejaVuSans-72\" x=\"58.552734\"/>\n      <use xlink:href=\"#DejaVuSans-65\" x=\"97.416016\"/>\n      <use xlink:href=\"#DejaVuSans-64\" x=\"158.939453\"/>\n      <use xlink:href=\"#DejaVuSans-69\" x=\"222.416016\"/>\n      <use xlink:href=\"#DejaVuSans-63\" x=\"250.199219\"/>\n      <use xlink:href=\"#DejaVuSans-74\" x=\"305.179688\"/>\n      <use xlink:href=\"#DejaVuSans-65\" x=\"344.388672\"/>\n      <use xlink:href=\"#DejaVuSans-64\" x=\"405.912109\"/>\n      <use xlink:href=\"#DejaVuSans-20\" x=\"469.388672\"/>\n      <use xlink:href=\"#DejaVuSans-4c\" x=\"501.175781\"/>\n      <use xlink:href=\"#DejaVuSans-61\" x=\"556.888672\"/>\n      <use xlink:href=\"#DejaVuSans-62\" x=\"618.167969\"/>\n      <use xlink:href=\"#DejaVuSans-65\" x=\"681.644531\"/>\n      <use xlink:href=\"#DejaVuSans-6c\" x=\"743.167969\"/>\n     </g>\n    </g>\n   </g>\n   <g id=\"matplotlib.axis_2\">\n    <g id=\"ytick_1\">\n     <g id=\"line2d_6\">\n      <path d=\"M 149.597811 71.101812 \nL 506.717811 71.101812 \n\" clip-path=\"url(#p0635af21aa)\" style=\"fill: none; stroke: #ffffff; stroke-linecap: round\"/>\n     </g>\n     <g id=\"text_7\">\n      <!-- Counting and Results -->\n      <g style=\"fill: #262626\" transform=\"translate(47.250592 118.996652) rotate(-45) scale(0.121 -0.121)\">\n       <use xlink:href=\"#DejaVuSans-43\"/>\n       <use xlink:href=\"#DejaVuSans-6f\" x=\"69.824219\"/>\n       <use xlink:href=\"#DejaVuSans-75\" x=\"131.005859\"/>\n       <use xlink:href=\"#DejaVuSans-6e\" x=\"194.384766\"/>\n       <use xlink:href=\"#DejaVuSans-74\" x=\"257.763672\"/>\n       <use xlink:href=\"#DejaVuSans-69\" x=\"296.972656\"/>\n       <use xlink:href=\"#DejaVuSans-6e\" x=\"324.755859\"/>\n       <use xlink:href=\"#DejaVuSans-67\" x=\"388.134766\"/>\n       <use xlink:href=\"#DejaVuSans-20\" x=\"451.611328\"/>\n       <use xlink:href=\"#DejaVuSans-61\" x=\"483.398438\"/>\n       <use xlink:href=\"#DejaVuSans-6e\" x=\"544.677734\"/>\n       <use xlink:href=\"#DejaVuSans-64\" x=\"608.056641\"/>\n       <use xlink:href=\"#DejaVuSans-20\" x=\"671.533203\"/>\n       <use xlink:href=\"#DejaVuSans-52\" x=\"703.320312\"/>\n       <use xlink:href=\"#DejaVuSans-65\" x=\"768.302734\"/>\n       <use xlink:href=\"#DejaVuSans-73\" x=\"829.826172\"/>\n       <use xlink:href=\"#DejaVuSans-75\" x=\"881.925781\"/>\n       <use xlink:href=\"#DejaVuSans-6c\" x=\"945.304688\"/>\n       <use xlink:href=\"#DejaVuSans-74\" x=\"973.087891\"/>\n       <use xlink:href=\"#DejaVuSans-73\" x=\"1012.296875\"/>\n      </g>\n     </g>\n    </g>\n    <g id=\"ytick_2\">\n     <g id=\"line2d_7\">\n      <path d=\"M 149.597811 137.629812 \nL 506.717811 137.629812 \n\" clip-path=\"url(#p0635af21aa)\" style=\"fill: none; stroke: #ffffff; stroke-linecap: round\"/>\n     </g>\n     <g id=\"text_8\">\n      <!-- Political Rallies -->\n      <g style=\"fill: #262626\" transform=\"translate(74.857035 171.72143) rotate(-45) scale(0.121 -0.121)\">\n       <use xlink:href=\"#DejaVuSans-50\"/>\n       <use xlink:href=\"#DejaVuSans-6f\" x=\"56.677734\"/>\n       <use xlink:href=\"#DejaVuSans-6c\" x=\"117.859375\"/>\n       <use xlink:href=\"#DejaVuSans-69\" x=\"145.642578\"/>\n       <use xlink:href=\"#DejaVuSans-74\" x=\"173.425781\"/>\n       <use xlink:href=\"#DejaVuSans-69\" x=\"212.634766\"/>\n       <use xlink:href=\"#DejaVuSans-63\" x=\"240.417969\"/>\n       <use xlink:href=\"#DejaVuSans-61\" x=\"295.398438\"/>\n       <use xlink:href=\"#DejaVuSans-6c\" x=\"356.677734\"/>\n       <use xlink:href=\"#DejaVuSans-20\" x=\"384.460938\"/>\n       <use xlink:href=\"#DejaVuSans-52\" x=\"416.248047\"/>\n       <use xlink:href=\"#DejaVuSans-61\" x=\"483.480469\"/>\n       <use xlink:href=\"#DejaVuSans-6c\" x=\"544.759766\"/>\n       <use xlink:href=\"#DejaVuSans-6c\" x=\"572.542969\"/>\n       <use xlink:href=\"#DejaVuSans-69\" x=\"600.326172\"/>\n       <use xlink:href=\"#DejaVuSans-65\" x=\"628.109375\"/>\n       <use xlink:href=\"#DejaVuSans-73\" x=\"689.632812\"/>\n      </g>\n     </g>\n    </g>\n    <g id=\"ytick_3\">\n     <g id=\"line2d_8\">\n      <path d=\"M 149.597811 204.157812 \nL 506.717811 204.157812 \n\" clip-path=\"url(#p0635af21aa)\" style=\"fill: none; stroke: #ffffff; stroke-linecap: round\"/>\n     </g>\n     <g id=\"text_9\">\n      <!-- Positive Events -->\n      <g style=\"fill: #262626\" transform=\"translate(73.652512 238.851692) rotate(-45) scale(0.121 -0.121)\">\n       <use xlink:href=\"#DejaVuSans-50\"/>\n       <use xlink:href=\"#DejaVuSans-6f\" x=\"56.677734\"/>\n       <use xlink:href=\"#DejaVuSans-73\" x=\"117.859375\"/>\n       <use xlink:href=\"#DejaVuSans-69\" x=\"169.958984\"/>\n       <use xlink:href=\"#DejaVuSans-74\" x=\"197.742188\"/>\n       <use xlink:href=\"#DejaVuSans-69\" x=\"236.951172\"/>\n       <use xlink:href=\"#DejaVuSans-76\" x=\"264.734375\"/>\n       <use xlink:href=\"#DejaVuSans-65\" x=\"323.914062\"/>\n       <use xlink:href=\"#DejaVuSans-20\" x=\"385.4375\"/>\n       <use xlink:href=\"#DejaVuSans-45\" x=\"417.224609\"/>\n       <use xlink:href=\"#DejaVuSans-76\" x=\"480.408203\"/>\n       <use xlink:href=\"#DejaVuSans-65\" x=\"539.587891\"/>\n       <use xlink:href=\"#DejaVuSans-6e\" x=\"601.111328\"/>\n       <use xlink:href=\"#DejaVuSans-74\" x=\"664.490234\"/>\n       <use xlink:href=\"#DejaVuSans-73\" x=\"703.699219\"/>\n      </g>\n     </g>\n    </g>\n    <g id=\"ytick_4\">\n     <g id=\"line2d_9\">\n      <path d=\"M 149.597811 270.685812 \nL 506.717811 270.685812 \n\" clip-path=\"url(#p0635af21aa)\" style=\"fill: none; stroke: #ffffff; stroke-linecap: round\"/>\n     </g>\n     <g id=\"text_10\">\n      <!-- Security Issues -->\n      <g style=\"fill: #262626\" transform=\"translate(73.881117 305.265389) rotate(-45) scale(0.121 -0.121)\">\n       <use xlink:href=\"#DejaVuSans-53\"/>\n       <use xlink:href=\"#DejaVuSans-65\" x=\"63.476562\"/>\n       <use xlink:href=\"#DejaVuSans-63\" x=\"125\"/>\n       <use xlink:href=\"#DejaVuSans-75\" x=\"179.980469\"/>\n       <use xlink:href=\"#DejaVuSans-72\" x=\"243.359375\"/>\n       <use xlink:href=\"#DejaVuSans-69\" x=\"284.472656\"/>\n       <use xlink:href=\"#DejaVuSans-74\" x=\"312.255859\"/>\n       <use xlink:href=\"#DejaVuSans-79\" x=\"351.464844\"/>\n       <use xlink:href=\"#DejaVuSans-20\" x=\"410.644531\"/>\n       <use xlink:href=\"#DejaVuSans-49\" x=\"442.431641\"/>\n       <use xlink:href=\"#DejaVuSans-73\" x=\"471.923828\"/>\n       <use xlink:href=\"#DejaVuSans-73\" x=\"524.023438\"/>\n       <use xlink:href=\"#DejaVuSans-75\" x=\"576.123047\"/>\n       <use xlink:href=\"#DejaVuSans-65\" x=\"639.501953\"/>\n       <use xlink:href=\"#DejaVuSans-73\" x=\"701.025391\"/>\n      </g>\n     </g>\n    </g>\n    <g id=\"ytick_5\">\n     <g id=\"line2d_10\">\n      <path d=\"M 149.597811 337.213812 \nL 506.717811 337.213812 \n\" clip-path=\"url(#p0635af21aa)\" style=\"fill: none; stroke: #ffffff; stroke-linecap: round\"/>\n     </g>\n     <g id=\"text_11\">\n      <!-- Voting Issues -->\n      <g style=\"fill: #262626\" transform=\"translate(82.006636 367.73063) rotate(-45) scale(0.121 -0.121)\">\n       <use xlink:href=\"#DejaVuSans-56\"/>\n       <use xlink:href=\"#DejaVuSans-6f\" x=\"60.658203\"/>\n       <use xlink:href=\"#DejaVuSans-74\" x=\"121.839844\"/>\n       <use xlink:href=\"#DejaVuSans-69\" x=\"161.048828\"/>\n       <use xlink:href=\"#DejaVuSans-6e\" x=\"188.832031\"/>\n       <use xlink:href=\"#DejaVuSans-67\" x=\"252.210938\"/>\n       <use xlink:href=\"#DejaVuSans-20\" x=\"315.6875\"/>\n       <use xlink:href=\"#DejaVuSans-49\" x=\"347.474609\"/>\n       <use xlink:href=\"#DejaVuSans-73\" x=\"376.966797\"/>\n       <use xlink:href=\"#DejaVuSans-73\" x=\"429.066406\"/>\n       <use xlink:href=\"#DejaVuSans-75\" x=\"481.166016\"/>\n       <use xlink:href=\"#DejaVuSans-65\" x=\"544.544922\"/>\n       <use xlink:href=\"#DejaVuSans-73\" x=\"606.068359\"/>\n      </g>\n     </g>\n    </g>\n    <g id=\"text_12\">\n     <!-- Gold Label -->\n     <g style=\"fill: #262626\" transform=\"translate(17.837812 241.363906) rotate(-90) scale(0.14 -0.14)\">\n      <defs>\n       <path id=\"DejaVuSans-47\" d=\"M 3809 666 \nL 3809 1919 \nL 2778 1919 \nL 2778 2438 \nL 4434 2438 \nL 4434 434 \nQ 4069 175 3628 42 \nQ 3188 -91 2688 -91 \nQ 1594 -91 976 548 \nQ 359 1188 359 2328 \nQ 359 3472 976 4111 \nQ 1594 4750 2688 4750 \nQ 3144 4750 3555 4637 \nQ 3966 4525 4313 4306 \nL 4313 3634 \nQ 3963 3931 3569 4081 \nQ 3175 4231 2741 4231 \nQ 1884 4231 1454 3753 \nQ 1025 3275 1025 2328 \nQ 1025 1384 1454 906 \nQ 1884 428 2741 428 \nQ 3075 428 3337 486 \nQ 3600 544 3809 666 \nz\n\" transform=\"scale(0.015625)\"/>\n      </defs>\n      <use xlink:href=\"#DejaVuSans-47\"/>\n      <use xlink:href=\"#DejaVuSans-6f\" x=\"77.490234\"/>\n      <use xlink:href=\"#DejaVuSans-6c\" x=\"138.671875\"/>\n      <use xlink:href=\"#DejaVuSans-64\" x=\"166.455078\"/>\n      <use xlink:href=\"#DejaVuSans-20\" x=\"229.931641\"/>\n      <use xlink:href=\"#DejaVuSans-4c\" x=\"261.71875\"/>\n      <use xlink:href=\"#DejaVuSans-61\" x=\"317.431641\"/>\n      <use xlink:href=\"#DejaVuSans-62\" x=\"378.710938\"/>\n      <use xlink:href=\"#DejaVuSans-65\" x=\"442.1875\"/>\n      <use xlink:href=\"#DejaVuSans-6c\" x=\"503.710938\"/>\n     </g>\n    </g>\n   </g>\n   <g id=\"QuadMesh_1\">\n    <path d=\"M 149.597811 37.837812 \nL 221.021811 37.837812 \nL 221.021811 104.365812 \nL 149.597811 104.365812 \nL 149.597811 37.837812 \n\" clip-path=\"url(#p0635af21aa)\" style=\"fill: #faebdd\"/>\n    <path d=\"M 221.021811 37.837812 \nL 292.445811 37.837812 \nL 292.445811 104.365812 \nL 221.021811 104.365812 \nL 221.021811 37.837812 \n\" clip-path=\"url(#p0635af21aa)\" style=\"fill: #0a091f\"/>\n    <path d=\"M 292.445811 37.837812 \nL 363.869811 37.837812 \nL 363.869811 104.365812 \nL 292.445811 104.365812 \nL 292.445811 37.837812 \n\" clip-path=\"url(#p0635af21aa)\" style=\"fill: #170f28\"/>\n    <path d=\"M 363.869811 37.837812 \nL 435.293811 37.837812 \nL 435.293811 104.365812 \nL 363.869811 104.365812 \nL 363.869811 37.837812 \n\" clip-path=\"url(#p0635af21aa)\" style=\"fill: #130d25\"/>\n    <path d=\"M 435.293811 37.837812 \nL 506.717811 37.837812 \nL 506.717811 104.365812 \nL 435.293811 104.365812 \nL 435.293811 37.837812 \n\" clip-path=\"url(#p0635af21aa)\" style=\"fill: #381a40\"/>\n    <path d=\"M 149.597811 104.365812 \nL 221.021811 104.365812 \nL 221.021811 170.893812 \nL 149.597811 170.893812 \nL 149.597811 104.365812 \n\" clip-path=\"url(#p0635af21aa)\" style=\"fill: #03051a\"/>\n    <path d=\"M 221.021811 104.365812 \nL 292.445811 104.365812 \nL 292.445811 170.893812 \nL 221.021811 170.893812 \nL 221.021811 104.365812 \n\" clip-path=\"url(#p0635af21aa)\" style=\"fill: #f8d4bc\"/>\n    <path d=\"M 292.445811 104.365812 \nL 363.869811 104.365812 \nL 363.869811 170.893812 \nL 292.445811 170.893812 \nL 292.445811 104.365812 \n\" clip-path=\"url(#p0635af21aa)\" style=\"fill: #591e50\"/>\n    <path d=\"M 363.869811 104.365812 \nL 435.293811 104.365812 \nL 435.293811 170.893812 \nL 363.869811 170.893812 \nL 363.869811 104.365812 \n\" clip-path=\"url(#p0635af21aa)\" style=\"fill: #180f29\"/>\n    <path d=\"M 435.293811 104.365812 \nL 506.717811 104.365812 \nL 506.717811 170.893812 \nL 435.293811 170.893812 \nL 435.293811 104.365812 \n\" clip-path=\"url(#p0635af21aa)\" style=\"fill: #130d25\"/>\n    <path d=\"M 149.597811 170.893812 \nL 221.021811 170.893812 \nL 221.021811 237.421812 \nL 149.597811 237.421812 \nL 149.597811 170.893812 \n\" clip-path=\"url(#p0635af21aa)\" style=\"fill: #271534\"/>\n    <path d=\"M 221.021811 170.893812 \nL 292.445811 170.893812 \nL 292.445811 237.421812 \nL 221.021811 237.421812 \nL 221.021811 170.893812 \n\" clip-path=\"url(#p0635af21aa)\" style=\"fill: #0e0b22\"/>\n    <path d=\"M 292.445811 170.893812 \nL 363.869811 170.893812 \nL 363.869811 237.421812 \nL 292.445811 237.421812 \nL 292.445811 170.893812 \n\" clip-path=\"url(#p0635af21aa)\" style=\"fill: #f69b71\"/>\n    <path d=\"M 363.869811 170.893812 \nL 435.293811 170.893812 \nL 435.293811 237.421812 \nL 363.869811 237.421812 \nL 363.869811 170.893812 \n\" clip-path=\"url(#p0635af21aa)\" style=\"fill: #1d112c\"/>\n    <path d=\"M 435.293811 170.893812 \nL 506.717811 170.893812 \nL 506.717811 237.421812 \nL 435.293811 237.421812 \nL 435.293811 170.893812 \n\" clip-path=\"url(#p0635af21aa)\" style=\"fill: #6b1f56\"/>\n    <path d=\"M 149.597811 237.421812 \nL 221.021811 237.421812 \nL 221.021811 303.949812 \nL 149.597811 303.949812 \nL 149.597811 237.421812 \n\" clip-path=\"url(#p0635af21aa)\" style=\"fill: #30173a\"/>\n    <path d=\"M 221.021811 237.421812 \nL 292.445811 237.421812 \nL 292.445811 303.949812 \nL 221.021811 303.949812 \nL 221.021811 237.421812 \n\" clip-path=\"url(#p0635af21aa)\" style=\"fill: #180f29\"/>\n    <path d=\"M 292.445811 237.421812 \nL 363.869811 237.421812 \nL 363.869811 303.949812 \nL 292.445811 303.949812 \nL 292.445811 237.421812 \n\" clip-path=\"url(#p0635af21aa)\" style=\"fill: #180f29\"/>\n    <path d=\"M 363.869811 237.421812 \nL 435.293811 237.421812 \nL 435.293811 303.949812 \nL 363.869811 303.949812 \nL 363.869811 237.421812 \n\" clip-path=\"url(#p0635af21aa)\" style=\"fill: #f6bc99\"/>\n    <path d=\"M 435.293811 237.421812 \nL 506.717811 237.421812 \nL 506.717811 303.949812 \nL 435.293811 303.949812 \nL 435.293811 237.421812 \n\" clip-path=\"url(#p0635af21aa)\" style=\"fill: #3c1a42\"/>\n    <path d=\"M 149.597811 303.949812 \nL 221.021811 303.949812 \nL 221.021811 370.477812 \nL 149.597811 370.477812 \nL 149.597811 303.949812 \n\" clip-path=\"url(#p0635af21aa)\" style=\"fill: #251433\"/>\n    <path d=\"M 221.021811 303.949812 \nL 292.445811 303.949812 \nL 292.445811 370.477812 \nL 221.021811 370.477812 \nL 221.021811 303.949812 \n\" clip-path=\"url(#p0635af21aa)\" style=\"fill: #0b0920\"/>\n    <path d=\"M 292.445811 303.949812 \nL 363.869811 303.949812 \nL 363.869811 370.477812 \nL 292.445811 370.477812 \nL 292.445811 303.949812 \n\" clip-path=\"url(#p0635af21aa)\" style=\"fill: #2e1739\"/>\n    <path d=\"M 363.869811 303.949812 \nL 435.293811 303.949812 \nL 435.293811 370.477812 \nL 363.869811 370.477812 \nL 363.869811 303.949812 \n\" clip-path=\"url(#p0635af21aa)\" style=\"fill: #1b112b\"/>\n    <path d=\"M 435.293811 303.949812 \nL 506.717811 303.949812 \nL 506.717811 370.477812 \nL 435.293811 370.477812 \nL 435.293811 303.949812 \n\" clip-path=\"url(#p0635af21aa)\" style=\"fill: #f9ddc9\"/>\n   </g>\n   <g id=\"text_13\">\n    <!-- 77.67% -->\n    <g style=\"fill: #262626\" transform=\"translate(160.144218 74.744187) scale(0.132 -0.132)\">\n     <defs>\n      <path id=\"DejaVuSans-37\" d=\"M 525 4666 \nL 3525 4666 \nL 3525 4397 \nL 1831 0 \nL 1172 0 \nL 2766 4134 \nL 525 4134 \nL 525 4666 \nz\n\" transform=\"scale(0.015625)\"/>\n      <path id=\"DejaVuSans-2e\" d=\"M 684 794 \nL 1344 794 \nL 1344 0 \nL 684 0 \nL 684 794 \nz\n\" transform=\"scale(0.015625)\"/>\n      <path id=\"DejaVuSans-36\" d=\"M 2113 2584 \nQ 1688 2584 1439 2293 \nQ 1191 2003 1191 1497 \nQ 1191 994 1439 701 \nQ 1688 409 2113 409 \nQ 2538 409 2786 701 \nQ 3034 994 3034 1497 \nQ 3034 2003 2786 2293 \nQ 2538 2584 2113 2584 \nz\nM 3366 4563 \nL 3366 3988 \nQ 3128 4100 2886 4159 \nQ 2644 4219 2406 4219 \nQ 1781 4219 1451 3797 \nQ 1122 3375 1075 2522 \nQ 1259 2794 1537 2939 \nQ 1816 3084 2150 3084 \nQ 2853 3084 3261 2657 \nQ 3669 2231 3669 1497 \nQ 3669 778 3244 343 \nQ 2819 -91 2113 -91 \nQ 1303 -91 875 529 \nQ 447 1150 447 2328 \nQ 447 3434 972 4092 \nQ 1497 4750 2381 4750 \nQ 2619 4750 2861 4703 \nQ 3103 4656 3366 4563 \nz\n\" transform=\"scale(0.015625)\"/>\n      <path id=\"DejaVuSans-25\" d=\"M 4653 2053 \nQ 4381 2053 4226 1822 \nQ 4072 1591 4072 1178 \nQ 4072 772 4226 539 \nQ 4381 306 4653 306 \nQ 4919 306 5073 539 \nQ 5228 772 5228 1178 \nQ 5228 1588 5073 1820 \nQ 4919 2053 4653 2053 \nz\nM 4653 2450 \nQ 5147 2450 5437 2106 \nQ 5728 1763 5728 1178 \nQ 5728 594 5436 251 \nQ 5144 -91 4653 -91 \nQ 4153 -91 3862 251 \nQ 3572 594 3572 1178 \nQ 3572 1766 3864 2108 \nQ 4156 2450 4653 2450 \nz\nM 1428 4353 \nQ 1159 4353 1004 4120 \nQ 850 3888 850 3481 \nQ 850 3069 1003 2837 \nQ 1156 2606 1428 2606 \nQ 1700 2606 1854 2837 \nQ 2009 3069 2009 3481 \nQ 2009 3884 1853 4118 \nQ 1697 4353 1428 4353 \nz\nM 4250 4750 \nL 4750 4750 \nL 1831 -91 \nL 1331 -91 \nL 4250 4750 \nz\nM 1428 4750 \nQ 1922 4750 2215 4408 \nQ 2509 4066 2509 3481 \nQ 2509 2891 2217 2550 \nQ 1925 2209 1428 2209 \nQ 931 2209 642 2551 \nQ 353 2894 353 3481 \nQ 353 4063 643 4406 \nQ 934 4750 1428 4750 \nz\n\" transform=\"scale(0.015625)\"/>\n     </defs>\n     <use xlink:href=\"#DejaVuSans-37\"/>\n     <use xlink:href=\"#DejaVuSans-37\" x=\"63.623047\"/>\n     <use xlink:href=\"#DejaVuSans-2e\" x=\"127.246094\"/>\n     <use xlink:href=\"#DejaVuSans-36\" x=\"159.033203\"/>\n     <use xlink:href=\"#DejaVuSans-37\" x=\"222.65625\"/>\n     <use xlink:href=\"#DejaVuSans-25\" x=\"286.279297\"/>\n    </g>\n   </g>\n   <g id=\"text_14\">\n    <!-- 1.94% -->\n    <g style=\"fill: #ffffff\" transform=\"translate(235.767468 74.744187) scale(0.132 -0.132)\">\n     <defs>\n      <path id=\"DejaVuSans-31\" d=\"M 794 531 \nL 1825 531 \nL 1825 4091 \nL 703 3866 \nL 703 4441 \nL 1819 4666 \nL 2450 4666 \nL 2450 531 \nL 3481 531 \nL 3481 0 \nL 794 0 \nL 794 531 \nz\n\" transform=\"scale(0.015625)\"/>\n      <path id=\"DejaVuSans-39\" d=\"M 703 97 \nL 703 672 \nQ 941 559 1184 500 \nQ 1428 441 1663 441 \nQ 2288 441 2617 861 \nQ 2947 1281 2994 2138 \nQ 2813 1869 2534 1725 \nQ 2256 1581 1919 1581 \nQ 1219 1581 811 2004 \nQ 403 2428 403 3163 \nQ 403 3881 828 4315 \nQ 1253 4750 1959 4750 \nQ 2769 4750 3195 4129 \nQ 3622 3509 3622 2328 \nQ 3622 1225 3098 567 \nQ 2575 -91 1691 -91 \nQ 1453 -91 1209 -44 \nQ 966 3 703 97 \nz\nM 1959 2075 \nQ 2384 2075 2632 2365 \nQ 2881 2656 2881 3163 \nQ 2881 3666 2632 3958 \nQ 2384 4250 1959 4250 \nQ 1534 4250 1286 3958 \nQ 1038 3666 1038 3163 \nQ 1038 2656 1286 2365 \nQ 1534 2075 1959 2075 \nz\n\" transform=\"scale(0.015625)\"/>\n      <path id=\"DejaVuSans-34\" d=\"M 2419 4116 \nL 825 1625 \nL 2419 1625 \nL 2419 4116 \nz\nM 2253 4666 \nL 3047 4666 \nL 3047 1625 \nL 3713 1625 \nL 3713 1100 \nL 3047 1100 \nL 3047 0 \nL 2419 0 \nL 2419 1100 \nL 313 1100 \nL 313 1709 \nL 2253 4666 \nz\n\" transform=\"scale(0.015625)\"/>\n     </defs>\n     <use xlink:href=\"#DejaVuSans-31\"/>\n     <use xlink:href=\"#DejaVuSans-2e\" x=\"63.623047\"/>\n     <use xlink:href=\"#DejaVuSans-39\" x=\"95.410156\"/>\n     <use xlink:href=\"#DejaVuSans-34\" x=\"159.033203\"/>\n     <use xlink:href=\"#DejaVuSans-25\" x=\"222.65625\"/>\n    </g>\n   </g>\n   <g id=\"text_15\">\n    <!-- 4.85% -->\n    <g style=\"fill: #ffffff\" transform=\"translate(307.191468 74.744187) scale(0.132 -0.132)\">\n     <defs>\n      <path id=\"DejaVuSans-38\" d=\"M 2034 2216 \nQ 1584 2216 1326 1975 \nQ 1069 1734 1069 1313 \nQ 1069 891 1326 650 \nQ 1584 409 2034 409 \nQ 2484 409 2743 651 \nQ 3003 894 3003 1313 \nQ 3003 1734 2745 1975 \nQ 2488 2216 2034 2216 \nz\nM 1403 2484 \nQ 997 2584 770 2862 \nQ 544 3141 544 3541 \nQ 544 4100 942 4425 \nQ 1341 4750 2034 4750 \nQ 2731 4750 3128 4425 \nQ 3525 4100 3525 3541 \nQ 3525 3141 3298 2862 \nQ 3072 2584 2669 2484 \nQ 3125 2378 3379 2068 \nQ 3634 1759 3634 1313 \nQ 3634 634 3220 271 \nQ 2806 -91 2034 -91 \nQ 1263 -91 848 271 \nQ 434 634 434 1313 \nQ 434 1759 690 2068 \nQ 947 2378 1403 2484 \nz\nM 1172 3481 \nQ 1172 3119 1398 2916 \nQ 1625 2713 2034 2713 \nQ 2441 2713 2670 2916 \nQ 2900 3119 2900 3481 \nQ 2900 3844 2670 4047 \nQ 2441 4250 2034 4250 \nQ 1625 4250 1398 4047 \nQ 1172 3844 1172 3481 \nz\n\" transform=\"scale(0.015625)\"/>\n      <path id=\"DejaVuSans-35\" d=\"M 691 4666 \nL 3169 4666 \nL 3169 4134 \nL 1269 4134 \nL 1269 2991 \nQ 1406 3038 1543 3061 \nQ 1681 3084 1819 3084 \nQ 2600 3084 3056 2656 \nQ 3513 2228 3513 1497 \nQ 3513 744 3044 326 \nQ 2575 -91 1722 -91 \nQ 1428 -91 1123 -41 \nQ 819 9 494 109 \nL 494 744 \nQ 775 591 1075 516 \nQ 1375 441 1709 441 \nQ 2250 441 2565 725 \nQ 2881 1009 2881 1497 \nQ 2881 1984 2565 2268 \nQ 2250 2553 1709 2553 \nQ 1456 2553 1204 2497 \nQ 953 2441 691 2322 \nL 691 4666 \nz\n\" transform=\"scale(0.015625)\"/>\n     </defs>\n     <use xlink:href=\"#DejaVuSans-34\"/>\n     <use xlink:href=\"#DejaVuSans-2e\" x=\"63.623047\"/>\n     <use xlink:href=\"#DejaVuSans-38\" x=\"95.410156\"/>\n     <use xlink:href=\"#DejaVuSans-35\" x=\"159.033203\"/>\n     <use xlink:href=\"#DejaVuSans-25\" x=\"222.65625\"/>\n    </g>\n   </g>\n   <g id=\"text_16\">\n    <!-- 3.88% -->\n    <g style=\"fill: #ffffff\" transform=\"translate(378.615468 74.744187) scale(0.132 -0.132)\">\n     <defs>\n      <path id=\"DejaVuSans-33\" d=\"M 2597 2516 \nQ 3050 2419 3304 2112 \nQ 3559 1806 3559 1356 \nQ 3559 666 3084 287 \nQ 2609 -91 1734 -91 \nQ 1441 -91 1130 -33 \nQ 819 25 488 141 \nL 488 750 \nQ 750 597 1062 519 \nQ 1375 441 1716 441 \nQ 2309 441 2620 675 \nQ 2931 909 2931 1356 \nQ 2931 1769 2642 2001 \nQ 2353 2234 1838 2234 \nL 1294 2234 \nL 1294 2753 \nL 1863 2753 \nQ 2328 2753 2575 2939 \nQ 2822 3125 2822 3475 \nQ 2822 3834 2567 4026 \nQ 2313 4219 1838 4219 \nQ 1578 4219 1281 4162 \nQ 984 4106 628 3988 \nL 628 4550 \nQ 988 4650 1302 4700 \nQ 1616 4750 1894 4750 \nQ 2613 4750 3031 4423 \nQ 3450 4097 3450 3541 \nQ 3450 3153 3228 2886 \nQ 3006 2619 2597 2516 \nz\n\" transform=\"scale(0.015625)\"/>\n     </defs>\n     <use xlink:href=\"#DejaVuSans-33\"/>\n     <use xlink:href=\"#DejaVuSans-2e\" x=\"63.623047\"/>\n     <use xlink:href=\"#DejaVuSans-38\" x=\"95.410156\"/>\n     <use xlink:href=\"#DejaVuSans-38\" x=\"159.033203\"/>\n     <use xlink:href=\"#DejaVuSans-25\" x=\"222.65625\"/>\n    </g>\n   </g>\n   <g id=\"text_17\">\n    <!-- 11.65% -->\n    <g style=\"fill: #ffffff\" transform=\"translate(445.840218 74.744187) scale(0.132 -0.132)\">\n     <use xlink:href=\"#DejaVuSans-31\"/>\n     <use xlink:href=\"#DejaVuSans-31\" x=\"63.623047\"/>\n     <use xlink:href=\"#DejaVuSans-2e\" x=\"127.246094\"/>\n     <use xlink:href=\"#DejaVuSans-36\" x=\"159.033203\"/>\n     <use xlink:href=\"#DejaVuSans-35\" x=\"222.65625\"/>\n     <use xlink:href=\"#DejaVuSans-25\" x=\"286.279297\"/>\n    </g>\n   </g>\n   <g id=\"text_18\">\n    <!-- 0.00 -->\n    <g style=\"fill: #ffffff\" transform=\"translate(170.614499 141.272187) scale(0.132 -0.132)\">\n     <defs>\n      <path id=\"DejaVuSans-30\" d=\"M 2034 4250 \nQ 1547 4250 1301 3770 \nQ 1056 3291 1056 2328 \nQ 1056 1369 1301 889 \nQ 1547 409 2034 409 \nQ 2525 409 2770 889 \nQ 3016 1369 3016 2328 \nQ 3016 3291 2770 3770 \nQ 2525 4250 2034 4250 \nz\nM 2034 4750 \nQ 2819 4750 3233 4129 \nQ 3647 3509 3647 2328 \nQ 3647 1150 3233 529 \nQ 2819 -91 2034 -91 \nQ 1250 -91 836 529 \nQ 422 1150 422 2328 \nQ 422 3509 836 4129 \nQ 1250 4750 2034 4750 \nz\n\" transform=\"scale(0.015625)\"/>\n     </defs>\n     <use xlink:href=\"#DejaVuSans-30\"/>\n     <use xlink:href=\"#DejaVuSans-2e\" x=\"63.623047\"/>\n     <use xlink:href=\"#DejaVuSans-30\" x=\"95.410156\"/>\n     <use xlink:href=\"#DejaVuSans-30\" x=\"159.033203\"/>\n    </g>\n   </g>\n   <g id=\"text_19\">\n    <!-- 73.08% -->\n    <g style=\"fill: #262626\" transform=\"translate(231.568218 141.272187) scale(0.132 -0.132)\">\n     <use xlink:href=\"#DejaVuSans-37\"/>\n     <use xlink:href=\"#DejaVuSans-33\" x=\"63.623047\"/>\n     <use xlink:href=\"#DejaVuSans-2e\" x=\"127.246094\"/>\n     <use xlink:href=\"#DejaVuSans-30\" x=\"159.033203\"/>\n     <use xlink:href=\"#DejaVuSans-38\" x=\"222.65625\"/>\n     <use xlink:href=\"#DejaVuSans-25\" x=\"286.279297\"/>\n    </g>\n   </g>\n   <g id=\"text_20\">\n    <!-- 17.95% -->\n    <g style=\"fill: #ffffff\" transform=\"translate(302.992218 141.272187) scale(0.132 -0.132)\">\n     <use xlink:href=\"#DejaVuSans-31\"/>\n     <use xlink:href=\"#DejaVuSans-37\" x=\"63.623047\"/>\n     <use xlink:href=\"#DejaVuSans-2e\" x=\"127.246094\"/>\n     <use xlink:href=\"#DejaVuSans-39\" x=\"159.033203\"/>\n     <use xlink:href=\"#DejaVuSans-35\" x=\"222.65625\"/>\n     <use xlink:href=\"#DejaVuSans-25\" x=\"286.279297\"/>\n    </g>\n   </g>\n   <g id=\"text_21\">\n    <!-- 5.13% -->\n    <g style=\"fill: #ffffff\" transform=\"translate(378.615468 141.272187) scale(0.132 -0.132)\">\n     <use xlink:href=\"#DejaVuSans-35\"/>\n     <use xlink:href=\"#DejaVuSans-2e\" x=\"63.623047\"/>\n     <use xlink:href=\"#DejaVuSans-31\" x=\"95.410156\"/>\n     <use xlink:href=\"#DejaVuSans-33\" x=\"159.033203\"/>\n     <use xlink:href=\"#DejaVuSans-25\" x=\"222.65625\"/>\n    </g>\n   </g>\n   <g id=\"text_22\">\n    <!-- 3.85% -->\n    <g style=\"fill: #ffffff\" transform=\"translate(450.039468 141.272187) scale(0.132 -0.132)\">\n     <use xlink:href=\"#DejaVuSans-33\"/>\n     <use xlink:href=\"#DejaVuSans-2e\" x=\"63.623047\"/>\n     <use xlink:href=\"#DejaVuSans-38\" x=\"95.410156\"/>\n     <use xlink:href=\"#DejaVuSans-35\" x=\"159.033203\"/>\n     <use xlink:href=\"#DejaVuSans-25\" x=\"222.65625\"/>\n    </g>\n   </g>\n   <g id=\"text_23\">\n    <!-- 8.12% -->\n    <g style=\"fill: #ffffff\" transform=\"translate(164.343468 207.800187) scale(0.132 -0.132)\">\n     <defs>\n      <path id=\"DejaVuSans-32\" d=\"M 1228 531 \nL 3431 531 \nL 3431 0 \nL 469 0 \nL 469 531 \nQ 828 903 1448 1529 \nQ 2069 2156 2228 2338 \nQ 2531 2678 2651 2914 \nQ 2772 3150 2772 3378 \nQ 2772 3750 2511 3984 \nQ 2250 4219 1831 4219 \nQ 1534 4219 1204 4116 \nQ 875 4013 500 3803 \nL 500 4441 \nQ 881 4594 1212 4672 \nQ 1544 4750 1819 4750 \nQ 2544 4750 2975 4387 \nQ 3406 4025 3406 3419 \nQ 3406 3131 3298 2873 \nQ 3191 2616 2906 2266 \nQ 2828 2175 2409 1742 \nQ 1991 1309 1228 531 \nz\n\" transform=\"scale(0.015625)\"/>\n     </defs>\n     <use xlink:href=\"#DejaVuSans-38\"/>\n     <use xlink:href=\"#DejaVuSans-2e\" x=\"63.623047\"/>\n     <use xlink:href=\"#DejaVuSans-31\" x=\"95.410156\"/>\n     <use xlink:href=\"#DejaVuSans-32\" x=\"159.033203\"/>\n     <use xlink:href=\"#DejaVuSans-25\" x=\"222.65625\"/>\n    </g>\n   </g>\n   <g id=\"text_24\">\n    <!-- 2.90% -->\n    <g style=\"fill: #ffffff\" transform=\"translate(235.767468 207.800187) scale(0.132 -0.132)\">\n     <use xlink:href=\"#DejaVuSans-32\"/>\n     <use xlink:href=\"#DejaVuSans-2e\" x=\"63.623047\"/>\n     <use xlink:href=\"#DejaVuSans-39\" x=\"95.410156\"/>\n     <use xlink:href=\"#DejaVuSans-30\" x=\"159.033203\"/>\n     <use xlink:href=\"#DejaVuSans-25\" x=\"222.65625\"/>\n    </g>\n   </g>\n   <g id=\"text_25\">\n    <!-- 61.74% -->\n    <g style=\"fill: #262626\" transform=\"translate(302.992218 207.800187) scale(0.132 -0.132)\">\n     <use xlink:href=\"#DejaVuSans-36\"/>\n     <use xlink:href=\"#DejaVuSans-31\" x=\"63.623047\"/>\n     <use xlink:href=\"#DejaVuSans-2e\" x=\"127.246094\"/>\n     <use xlink:href=\"#DejaVuSans-37\" x=\"159.033203\"/>\n     <use xlink:href=\"#DejaVuSans-34\" x=\"222.65625\"/>\n     <use xlink:href=\"#DejaVuSans-25\" x=\"286.279297\"/>\n    </g>\n   </g>\n   <g id=\"text_26\">\n    <!-- 5.80% -->\n    <g style=\"fill: #ffffff\" transform=\"translate(378.615468 207.800187) scale(0.132 -0.132)\">\n     <use xlink:href=\"#DejaVuSans-35\"/>\n     <use xlink:href=\"#DejaVuSans-2e\" x=\"63.623047\"/>\n     <use xlink:href=\"#DejaVuSans-38\" x=\"95.410156\"/>\n     <use xlink:href=\"#DejaVuSans-30\" x=\"159.033203\"/>\n     <use xlink:href=\"#DejaVuSans-25\" x=\"222.65625\"/>\n    </g>\n   </g>\n   <g id=\"text_27\">\n    <!-- 21.45% -->\n    <g style=\"fill: #ffffff\" transform=\"translate(445.840218 207.800187) scale(0.132 -0.132)\">\n     <use xlink:href=\"#DejaVuSans-32\"/>\n     <use xlink:href=\"#DejaVuSans-31\" x=\"63.623047\"/>\n     <use xlink:href=\"#DejaVuSans-2e\" x=\"127.246094\"/>\n     <use xlink:href=\"#DejaVuSans-34\" x=\"159.033203\"/>\n     <use xlink:href=\"#DejaVuSans-35\" x=\"222.65625\"/>\n     <use xlink:href=\"#DejaVuSans-25\" x=\"286.279297\"/>\n    </g>\n   </g>\n   <g id=\"text_28\">\n    <!-- 9.84% -->\n    <g style=\"fill: #ffffff\" transform=\"translate(164.343468 274.328187) scale(0.132 -0.132)\">\n     <use xlink:href=\"#DejaVuSans-39\"/>\n     <use xlink:href=\"#DejaVuSans-2e\" x=\"63.623047\"/>\n     <use xlink:href=\"#DejaVuSans-38\" x=\"95.410156\"/>\n     <use xlink:href=\"#DejaVuSans-34\" x=\"159.033203\"/>\n     <use xlink:href=\"#DejaVuSans-25\" x=\"222.65625\"/>\n    </g>\n   </g>\n   <g id=\"text_29\">\n    <!-- 4.92% -->\n    <g style=\"fill: #ffffff\" transform=\"translate(235.767468 274.328187) scale(0.132 -0.132)\">\n     <use xlink:href=\"#DejaVuSans-34\"/>\n     <use xlink:href=\"#DejaVuSans-2e\" x=\"63.623047\"/>\n     <use xlink:href=\"#DejaVuSans-39\" x=\"95.410156\"/>\n     <use xlink:href=\"#DejaVuSans-32\" x=\"159.033203\"/>\n     <use xlink:href=\"#DejaVuSans-25\" x=\"222.65625\"/>\n    </g>\n   </g>\n   <g id=\"text_30\">\n    <!-- 4.92% -->\n    <g style=\"fill: #ffffff\" transform=\"translate(307.191468 274.328187) scale(0.132 -0.132)\">\n     <use xlink:href=\"#DejaVuSans-34\"/>\n     <use xlink:href=\"#DejaVuSans-2e\" x=\"63.623047\"/>\n     <use xlink:href=\"#DejaVuSans-39\" x=\"95.410156\"/>\n     <use xlink:href=\"#DejaVuSans-32\" x=\"159.033203\"/>\n     <use xlink:href=\"#DejaVuSans-25\" x=\"222.65625\"/>\n    </g>\n   </g>\n   <g id=\"text_31\">\n    <!-- 68.03% -->\n    <g style=\"fill: #262626\" transform=\"translate(374.416218 274.328187) scale(0.132 -0.132)\">\n     <use xlink:href=\"#DejaVuSans-36\"/>\n     <use xlink:href=\"#DejaVuSans-38\" x=\"63.623047\"/>\n     <use xlink:href=\"#DejaVuSans-2e\" x=\"127.246094\"/>\n     <use xlink:href=\"#DejaVuSans-30\" x=\"159.033203\"/>\n     <use xlink:href=\"#DejaVuSans-33\" x=\"222.65625\"/>\n     <use xlink:href=\"#DejaVuSans-25\" x=\"286.279297\"/>\n    </g>\n   </g>\n   <g id=\"text_32\">\n    <!-- 12.30% -->\n    <g style=\"fill: #ffffff\" transform=\"translate(445.840218 274.328187) scale(0.132 -0.132)\">\n     <use xlink:href=\"#DejaVuSans-31\"/>\n     <use xlink:href=\"#DejaVuSans-32\" x=\"63.623047\"/>\n     <use xlink:href=\"#DejaVuSans-2e\" x=\"127.246094\"/>\n     <use xlink:href=\"#DejaVuSans-33\" x=\"159.033203\"/>\n     <use xlink:href=\"#DejaVuSans-30\" x=\"222.65625\"/>\n     <use xlink:href=\"#DejaVuSans-25\" x=\"286.279297\"/>\n    </g>\n   </g>\n   <g id=\"text_33\">\n    <!-- 7.86% -->\n    <g style=\"fill: #ffffff\" transform=\"translate(164.343468 340.856187) scale(0.132 -0.132)\">\n     <use xlink:href=\"#DejaVuSans-37\"/>\n     <use xlink:href=\"#DejaVuSans-2e\" x=\"63.623047\"/>\n     <use xlink:href=\"#DejaVuSans-38\" x=\"95.410156\"/>\n     <use xlink:href=\"#DejaVuSans-36\" x=\"159.033203\"/>\n     <use xlink:href=\"#DejaVuSans-25\" x=\"222.65625\"/>\n    </g>\n   </g>\n   <g id=\"text_34\">\n    <!-- 2.18% -->\n    <g style=\"fill: #ffffff\" transform=\"translate(235.767468 340.856187) scale(0.132 -0.132)\">\n     <use xlink:href=\"#DejaVuSans-32\"/>\n     <use xlink:href=\"#DejaVuSans-2e\" x=\"63.623047\"/>\n     <use xlink:href=\"#DejaVuSans-31\" x=\"95.410156\"/>\n     <use xlink:href=\"#DejaVuSans-38\" x=\"159.033203\"/>\n     <use xlink:href=\"#DejaVuSans-25\" x=\"222.65625\"/>\n    </g>\n   </g>\n   <g id=\"text_35\">\n    <!-- 9.61% -->\n    <g style=\"fill: #ffffff\" transform=\"translate(307.191468 340.856187) scale(0.132 -0.132)\">\n     <use xlink:href=\"#DejaVuSans-39\"/>\n     <use xlink:href=\"#DejaVuSans-2e\" x=\"63.623047\"/>\n     <use xlink:href=\"#DejaVuSans-36\" x=\"95.410156\"/>\n     <use xlink:href=\"#DejaVuSans-31\" x=\"159.033203\"/>\n     <use xlink:href=\"#DejaVuSans-25\" x=\"222.65625\"/>\n    </g>\n   </g>\n   <g id=\"text_36\">\n    <!-- 5.68% -->\n    <g style=\"fill: #ffffff\" transform=\"translate(378.615468 340.856187) scale(0.132 -0.132)\">\n     <use xlink:href=\"#DejaVuSans-35\"/>\n     <use xlink:href=\"#DejaVuSans-2e\" x=\"63.623047\"/>\n     <use xlink:href=\"#DejaVuSans-36\" x=\"95.410156\"/>\n     <use xlink:href=\"#DejaVuSans-38\" x=\"159.033203\"/>\n     <use xlink:href=\"#DejaVuSans-25\" x=\"222.65625\"/>\n    </g>\n   </g>\n   <g id=\"text_37\">\n    <!-- 74.67% -->\n    <g style=\"fill: #262626\" transform=\"translate(445.840218 340.856187) scale(0.132 -0.132)\">\n     <use xlink:href=\"#DejaVuSans-37\"/>\n     <use xlink:href=\"#DejaVuSans-34\" x=\"63.623047\"/>\n     <use xlink:href=\"#DejaVuSans-2e\" x=\"127.246094\"/>\n     <use xlink:href=\"#DejaVuSans-36\" x=\"159.033203\"/>\n     <use xlink:href=\"#DejaVuSans-37\" x=\"222.65625\"/>\n     <use xlink:href=\"#DejaVuSans-25\" x=\"286.279297\"/>\n    </g>\n   </g>\n   <g id=\"text_38\">\n    <!-- Confusion Matrix in Percentage Format -->\n    <g style=\"fill: #262626\" transform=\"translate(191.985936 17.837812) scale(0.14 -0.14)\">\n     <defs>\n      <path id=\"DejaVuSans-66\" d=\"M 2375 4863 \nL 2375 4384 \nL 1825 4384 \nQ 1516 4384 1395 4259 \nQ 1275 4134 1275 3809 \nL 1275 3500 \nL 2222 3500 \nL 2222 3053 \nL 1275 3053 \nL 1275 0 \nL 697 0 \nL 697 3053 \nL 147 3053 \nL 147 3500 \nL 697 3500 \nL 697 3744 \nQ 697 4328 969 4595 \nQ 1241 4863 1831 4863 \nL 2375 4863 \nz\n\" transform=\"scale(0.015625)\"/>\n      <path id=\"DejaVuSans-4d\" d=\"M 628 4666 \nL 1569 4666 \nL 2759 1491 \nL 3956 4666 \nL 4897 4666 \nL 4897 0 \nL 4281 0 \nL 4281 4097 \nL 3078 897 \nL 2444 897 \nL 1241 4097 \nL 1241 0 \nL 628 0 \nL 628 4666 \nz\n\" transform=\"scale(0.015625)\"/>\n      <path id=\"DejaVuSans-78\" d=\"M 3513 3500 \nL 2247 1797 \nL 3578 0 \nL 2900 0 \nL 1881 1375 \nL 863 0 \nL 184 0 \nL 1544 1831 \nL 300 3500 \nL 978 3500 \nL 1906 2253 \nL 2834 3500 \nL 3513 3500 \nz\n\" transform=\"scale(0.015625)\"/>\n      <path id=\"DejaVuSans-46\" d=\"M 628 4666 \nL 3309 4666 \nL 3309 4134 \nL 1259 4134 \nL 1259 2759 \nL 3109 2759 \nL 3109 2228 \nL 1259 2228 \nL 1259 0 \nL 628 0 \nL 628 4666 \nz\n\" transform=\"scale(0.015625)\"/>\n      <path id=\"DejaVuSans-6d\" d=\"M 3328 2828 \nQ 3544 3216 3844 3400 \nQ 4144 3584 4550 3584 \nQ 5097 3584 5394 3201 \nQ 5691 2819 5691 2113 \nL 5691 0 \nL 5113 0 \nL 5113 2094 \nQ 5113 2597 4934 2840 \nQ 4756 3084 4391 3084 \nQ 3944 3084 3684 2787 \nQ 3425 2491 3425 1978 \nL 3425 0 \nL 2847 0 \nL 2847 2094 \nQ 2847 2600 2669 2842 \nQ 2491 3084 2119 3084 \nQ 1678 3084 1418 2786 \nQ 1159 2488 1159 1978 \nL 1159 0 \nL 581 0 \nL 581 3500 \nL 1159 3500 \nL 1159 2956 \nQ 1356 3278 1631 3431 \nQ 1906 3584 2284 3584 \nQ 2666 3584 2933 3390 \nQ 3200 3197 3328 2828 \nz\n\" transform=\"scale(0.015625)\"/>\n     </defs>\n     <use xlink:href=\"#DejaVuSans-43\"/>\n     <use xlink:href=\"#DejaVuSans-6f\" x=\"69.824219\"/>\n     <use xlink:href=\"#DejaVuSans-6e\" x=\"131.005859\"/>\n     <use xlink:href=\"#DejaVuSans-66\" x=\"194.384766\"/>\n     <use xlink:href=\"#DejaVuSans-75\" x=\"229.589844\"/>\n     <use xlink:href=\"#DejaVuSans-73\" x=\"292.96875\"/>\n     <use xlink:href=\"#DejaVuSans-69\" x=\"345.068359\"/>\n     <use xlink:href=\"#DejaVuSans-6f\" x=\"372.851562\"/>\n     <use xlink:href=\"#DejaVuSans-6e\" x=\"434.033203\"/>\n     <use xlink:href=\"#DejaVuSans-20\" x=\"497.412109\"/>\n     <use xlink:href=\"#DejaVuSans-4d\" x=\"529.199219\"/>\n     <use xlink:href=\"#DejaVuSans-61\" x=\"615.478516\"/>\n     <use xlink:href=\"#DejaVuSans-74\" x=\"676.757812\"/>\n     <use xlink:href=\"#DejaVuSans-72\" x=\"715.966797\"/>\n     <use xlink:href=\"#DejaVuSans-69\" x=\"757.080078\"/>\n     <use xlink:href=\"#DejaVuSans-78\" x=\"784.863281\"/>\n     <use xlink:href=\"#DejaVuSans-20\" x=\"844.042969\"/>\n     <use xlink:href=\"#DejaVuSans-69\" x=\"875.830078\"/>\n     <use xlink:href=\"#DejaVuSans-6e\" x=\"903.613281\"/>\n     <use xlink:href=\"#DejaVuSans-20\" x=\"966.992188\"/>\n     <use xlink:href=\"#DejaVuSans-50\" x=\"998.779297\"/>\n     <use xlink:href=\"#DejaVuSans-65\" x=\"1055.457031\"/>\n     <use xlink:href=\"#DejaVuSans-72\" x=\"1116.980469\"/>\n     <use xlink:href=\"#DejaVuSans-63\" x=\"1155.84375\"/>\n     <use xlink:href=\"#DejaVuSans-65\" x=\"1210.824219\"/>\n     <use xlink:href=\"#DejaVuSans-6e\" x=\"1272.347656\"/>\n     <use xlink:href=\"#DejaVuSans-74\" x=\"1335.726562\"/>\n     <use xlink:href=\"#DejaVuSans-61\" x=\"1374.935547\"/>\n     <use xlink:href=\"#DejaVuSans-67\" x=\"1436.214844\"/>\n     <use xlink:href=\"#DejaVuSans-65\" x=\"1499.691406\"/>\n     <use xlink:href=\"#DejaVuSans-20\" x=\"1561.214844\"/>\n     <use xlink:href=\"#DejaVuSans-46\" x=\"1593.001953\"/>\n     <use xlink:href=\"#DejaVuSans-6f\" x=\"1646.896484\"/>\n     <use xlink:href=\"#DejaVuSans-72\" x=\"1708.078125\"/>\n     <use xlink:href=\"#DejaVuSans-6d\" x=\"1747.441406\"/>\n     <use xlink:href=\"#DejaVuSans-61\" x=\"1844.853516\"/>\n     <use xlink:href=\"#DejaVuSans-74\" x=\"1906.132812\"/>\n    </g>\n   </g>\n  </g>\n  <g id=\"axes_2\">\n   <g id=\"patch_3\">\n    <path d=\"M 529.037811 370.477812 \nL 545.669811 370.477812 \nL 545.669811 37.837812 \nL 529.037811 37.837812 \nz\n\" style=\"fill: #eaeaf2\"/>\n   </g>\n   <g id=\"matplotlib.axis_3\"/>\n   <g id=\"matplotlib.axis_4\">\n    <g id=\"ytick_6\">\n     <g id=\"line2d_11\">\n      <defs>\n       <path id=\"m0c19dc81fe\" d=\"M 0 0 \nL 6 0 \n\" style=\"stroke: #262626; stroke-width: 1.25\"/>\n      </defs>\n      <g>\n       <use xlink:href=\"#m0c19dc81fe\" x=\"545.669811\" y=\"370.477812\" style=\"fill: #262626; stroke: #262626; stroke-width: 1.25\"/>\n      </g>\n     </g>\n     <g id=\"text_39\">\n      <!-- 0 -->\n      <g style=\"fill: #262626\" transform=\"translate(555.169811 375.074867) scale(0.121 -0.121)\">\n       <use xlink:href=\"#DejaVuSans-30\"/>\n      </g>\n     </g>\n    </g>\n    <g id=\"ytick_7\">\n     <g id=\"line2d_12\">\n      <g>\n       <use xlink:href=\"#m0c19dc81fe\" x=\"545.669811\" y=\"327.650466\" style=\"fill: #262626; stroke: #262626; stroke-width: 1.25\"/>\n      </g>\n     </g>\n     <g id=\"text_40\">\n      <!-- 10 -->\n      <g style=\"fill: #262626\" transform=\"translate(555.169811 332.247521) scale(0.121 -0.121)\">\n       <use xlink:href=\"#DejaVuSans-31\"/>\n       <use xlink:href=\"#DejaVuSans-30\" x=\"63.623047\"/>\n      </g>\n     </g>\n    </g>\n    <g id=\"ytick_8\">\n     <g id=\"line2d_13\">\n      <g>\n       <use xlink:href=\"#m0c19dc81fe\" x=\"545.669811\" y=\"284.82312\" style=\"fill: #262626; stroke: #262626; stroke-width: 1.25\"/>\n      </g>\n     </g>\n     <g id=\"text_41\">\n      <!-- 20 -->\n      <g style=\"fill: #262626\" transform=\"translate(555.169811 289.420174) scale(0.121 -0.121)\">\n       <use xlink:href=\"#DejaVuSans-32\"/>\n       <use xlink:href=\"#DejaVuSans-30\" x=\"63.623047\"/>\n      </g>\n     </g>\n    </g>\n    <g id=\"ytick_9\">\n     <g id=\"line2d_14\">\n      <g>\n       <use xlink:href=\"#m0c19dc81fe\" x=\"545.669811\" y=\"241.995773\" style=\"fill: #262626; stroke: #262626; stroke-width: 1.25\"/>\n      </g>\n     </g>\n     <g id=\"text_42\">\n      <!-- 30 -->\n      <g style=\"fill: #262626\" transform=\"translate(555.169811 246.592828) scale(0.121 -0.121)\">\n       <use xlink:href=\"#DejaVuSans-33\"/>\n       <use xlink:href=\"#DejaVuSans-30\" x=\"63.623047\"/>\n      </g>\n     </g>\n    </g>\n    <g id=\"ytick_10\">\n     <g id=\"line2d_15\">\n      <g>\n       <use xlink:href=\"#m0c19dc81fe\" x=\"545.669811\" y=\"199.168427\" style=\"fill: #262626; stroke: #262626; stroke-width: 1.25\"/>\n      </g>\n     </g>\n     <g id=\"text_43\">\n      <!-- 40 -->\n      <g style=\"fill: #262626\" transform=\"translate(555.169811 203.765481) scale(0.121 -0.121)\">\n       <use xlink:href=\"#DejaVuSans-34\"/>\n       <use xlink:href=\"#DejaVuSans-30\" x=\"63.623047\"/>\n      </g>\n     </g>\n    </g>\n    <g id=\"ytick_11\">\n     <g id=\"line2d_16\">\n      <g>\n       <use xlink:href=\"#m0c19dc81fe\" x=\"545.669811\" y=\"156.34108\" style=\"fill: #262626; stroke: #262626; stroke-width: 1.25\"/>\n      </g>\n     </g>\n     <g id=\"text_44\">\n      <!-- 50 -->\n      <g style=\"fill: #262626\" transform=\"translate(555.169811 160.938135) scale(0.121 -0.121)\">\n       <use xlink:href=\"#DejaVuSans-35\"/>\n       <use xlink:href=\"#DejaVuSans-30\" x=\"63.623047\"/>\n      </g>\n     </g>\n    </g>\n    <g id=\"ytick_12\">\n     <g id=\"line2d_17\">\n      <g>\n       <use xlink:href=\"#m0c19dc81fe\" x=\"545.669811\" y=\"113.513734\" style=\"fill: #262626; stroke: #262626; stroke-width: 1.25\"/>\n      </g>\n     </g>\n     <g id=\"text_45\">\n      <!-- 60 -->\n      <g style=\"fill: #262626\" transform=\"translate(555.169811 118.110788) scale(0.121 -0.121)\">\n       <use xlink:href=\"#DejaVuSans-36\"/>\n       <use xlink:href=\"#DejaVuSans-30\" x=\"63.623047\"/>\n      </g>\n     </g>\n    </g>\n    <g id=\"ytick_13\">\n     <g id=\"line2d_18\">\n      <g>\n       <use xlink:href=\"#m0c19dc81fe\" x=\"545.669811\" y=\"70.686387\" style=\"fill: #262626; stroke: #262626; stroke-width: 1.25\"/>\n      </g>\n     </g>\n     <g id=\"text_46\">\n      <!-- 70 -->\n      <g style=\"fill: #262626\" transform=\"translate(555.169811 75.283442) scale(0.121 -0.121)\">\n       <use xlink:href=\"#DejaVuSans-37\"/>\n       <use xlink:href=\"#DejaVuSans-30\" x=\"63.623047\"/>\n      </g>\n     </g>\n    </g>\n   </g>\n   <image xlink:href=\"data:image/png;base64,\niVBORw0KGgoAAAANSUhEUgAAABcAAAHOCAYAAABzbJLzAAACUklEQVR4nO2dwW3EQAzEvI7TRPrvMynAvOcEIEAWIAijGa3Xyd2dr++f32vEvSp8Xdf1nGnxsys/lsXb+aXtXKv5PexcPNClLFkReW6tW5aaZ0UkKyJizZeHRSFCChGS5lz8nF3z3t3SgyiS5ohX82RBsiJi1nx7hibLmx7nkELExb0D9YbI2/ny70Te07/dgnQSIWbNp3eiWems+IGsiKw1nxa3ymIO0Y5ChGzvRA2U8A60OxGyvRMVIqKTCEnzT8Wtsoi3olbz4k94NS9EiHegrVyk2xzSQJFx57NPcJkXl9qKOwoRkls+FNfulgZK1Dky9XlWROoceY525Y7fK+7w7pbOUCS3cHHzQHe6eAdaiJDtl8Pcv1orDot7B9riQsSL6ww1F4fI2/lyoGmOrEOkHejwKPIOtBAhzxm+zXnuYfEe5xCz5trOl5o/w38obqCMOkS74l63mAc6vOVmRUSteSF68wy/GU480EKETBeXWRZv551EgHflqrfirnhWRMSaX/n8v4t7ZRlbUdt5mmPxZCHWVrR+/CTNsbhXlktrxUJEeN2iHmidv1m/zLF2Pg2Rd6DXvavvHWhnKDIOkfYnhLxW9HZ+WlxYvBABnaGIWfOhz8WytBUJrxW9mpu3oviSq9Vc3LnWLdsz1DpQ8fVcfBLVORXvJAIKEWLWvBABDRQp/sg6RMnyJisiZs0LEWAeaJoDXs3FspzzNSueFRFz54UIUO9zbfzFmvc496aTCClESJp/KN4+B7Ii8pw0x+JiWYr/G68VvfEXy2K2ojT+f4fYL1v3vlriAAAAAElFTkSuQmCC\" id=\"imageb5d5f2e500\" transform=\"scale(1 -1) translate(0 -332.64)\" x=\"529.2\" y=\"-37.44\" width=\"16.56\" height=\"332.64\"/>\n   <g id=\"LineCollection_1\"/>\n   <g id=\"patch_4\">\n    <path d=\"M 529.037811 370.477812 \nL 537.353811 370.477812 \nL 545.669811 370.477812 \nL 545.669811 37.837812 \nL 537.353811 37.837812 \nL 529.037811 37.837812 \nL 529.037811 370.477812 \nz\n\" style=\"fill: none\"/>\n   </g>\n  </g>\n </g>\n <defs>\n  <clipPath id=\"p0635af21aa\">\n   <rect x=\"149.597811\" y=\"37.837812\" width=\"357.12\" height=\"332.64\"/>\n  </clipPath>\n </defs>\n</svg>\n"
          },
          "metadata": {}
        }
      ],
      "source": [
        "plot_cm_with_percentages(flat_true_labels, flat_predictions, list(inf_mapping.keys()))"
      ]
    },
    {
      "cell_type": "markdown",
      "source": [
        "# Model Robustness: Init and run the models n times averaging to get the final results"
      ],
      "metadata": {
        "id": "0Ie57ro16cQY"
      }
    },
    {
      "cell_type": "code",
      "source": [
        "# Write code to initialize and run the models n number of times and average the results to improve results robustness"
      ],
      "metadata": {
        "id": "LBxpBLC2rQfw"
      },
      "execution_count": null,
      "outputs": []
    },
    {
      "cell_type": "code",
      "source": [
        "def train_model(model, train_dataloader, epochs, class_weights, optimizer, scheduler):\n",
        "  training_stats = []\n",
        "  total_t0 = time.time()\n",
        "  for epoch_i in range(0, epochs):\n",
        "    print(\"\")\n",
        "    print('======== Epoch {:} / {:} ========'.format(epoch_i + 1, epochs))\n",
        "    print('Training...')\n",
        "    # Measure how long the training epoch takes.\n",
        "    t0 = time.time()\n",
        "    # Reset the total loss for this epoch.\n",
        "    total_train_loss = 0\n",
        "    model.train()\n",
        "    # Pick an interval on which to print progress updates.\n",
        "    update_interval = good_update_interval(\n",
        "                total_iters = len(train_dataloader),\n",
        "                num_desired_updates = 10\n",
        "            )\n",
        "    # For each batch of training data...\n",
        "    for step, batch in enumerate(train_dataloader):\n",
        "        # Progress update.\n",
        "        # if (step % update_interval) == 0 and not step == 0:\n",
        "        #     # Calculate elapsed time in minutes.\n",
        "        #     elapsed = format_time(time.time() - t0)\n",
        "        #     # Report progress.\n",
        "        #     print('  Batch {:>5,}  of  {:>5,}.    Elapsed: {:}.'.format(step, len(train_dataloader), elapsed))\n",
        "\n",
        "        # Unpack this training batch from our dataloader.\n",
        "        #\n",
        "        # As we unpack the batch, we'll also copy each tensor to the GPU using\n",
        "        # the `to` method.\n",
        "        # `batch` contains three pytorch tensors:\n",
        "        #   [0]: input ids\n",
        "        #   [1]: attention masks\n",
        "        #   [2]: labels\n",
        "        b_input_ids = batch[0].to(device)\n",
        "        b_input_mask = batch[1].to(device)\n",
        "        b_labels = batch[2].to(device)\n",
        "\n",
        "        # Always clear any previously calculated gradients before performing a\n",
        "        # backward pass. PyTorch doesn't do this automatically because\n",
        "        # accumulating the gradients is \"convenient while training RNNs\".\n",
        "        # (source: https://stackoverflow.com/questions/48001598/why-do-we-need-to-call-zero-grad-in-pytorch)\n",
        "        model.zero_grad()\n",
        "\n",
        "        # Perform a forward pass (evaluate the model on this training batch).\n",
        "        # In PyTorch, calling `model` will in turn call the model's `forward`\n",
        "        # function and pass down the arguments. The `forward` function is\n",
        "        # documented here:\n",
        "        # https://huggingface.co/transformers/model_doc/bert.html#bertforsequenceclassification\n",
        "        # The results are returned in a results object, documented here:\n",
        "        # https://huggingface.co/transformers/main_classes/output.html#transformers.modeling_outputs.SequenceClassifierOutput\n",
        "        # Specifically, we'll get the loss (because we provided labels) and the\n",
        "        # \"logits\"--the model outputs prior to activation.\n",
        "        result = model(b_input_ids,\n",
        "                       token_type_ids=None,\n",
        "                       attention_mask=b_input_mask,\n",
        "                       return_dict=True)\n",
        "\n",
        "        logits = result.logits\n",
        "        # loss = result.loss\n",
        "\n",
        "        criterion = torch.nn.CrossEntropyLoss(weight=class_weights.to(device), reduction='mean')\n",
        "        loss = criterion(logits, b_labels)\n",
        "\n",
        "        # Accumulate the training loss over all of the batches so that we can\n",
        "        # calculate the average loss at the end. `loss` is a Tensor containing a\n",
        "        # single value; the `.item()` function just returns the Python value\n",
        "        # from the tensor.\n",
        "        total_train_loss += loss.item()\n",
        "\n",
        "        # Perform a backward pass to calculate the gradients.\n",
        "        loss.backward()\n",
        "\n",
        "        # Clip the norm of the gradients to 1.0.\n",
        "        # This is to help prevent the \"exploding gradients\" problem.\n",
        "        torch.nn.utils.clip_grad_norm_(model.parameters(), 1.0)\n",
        "\n",
        "        # Update parameters and take a step using the computed gradient.\n",
        "        # The optimizer dictates the \"update rule\"--how the parameters are\n",
        "        # modified based on their gradients, the learning rate, etc.\n",
        "        optimizer.step()\n",
        "\n",
        "        # Update the learning rate.\n",
        "        scheduler.step()\n",
        "\n",
        "    # Calculate the average loss over all of the batches.\n",
        "    avg_train_loss = total_train_loss / len(train_dataloader)\n",
        "\n",
        "    # Measure how long this epoch took.\n",
        "    training_time = format_time(time.time() - t0)\n",
        "\n",
        "    print(\"\")\n",
        "    print(\"  Average training loss: {0:.2f}\".format(avg_train_loss))\n",
        "    print(\"  Training epoch took: {:}\".format(training_time))"
      ],
      "metadata": {
        "id": "cMe_wUqC7ran"
      },
      "execution_count": null,
      "outputs": []
    },
    {
      "cell_type": "code",
      "source": [
        "def test_model(model,test_dataloader):\n",
        "  # Put model in evaluation mode\n",
        "  model.eval()\n",
        "  # Tracking variables\n",
        "  predictions , true_labels = [], []\n",
        "  # Predict\n",
        "  for batch in test_dataloader:\n",
        "    # Add batch to GPU\n",
        "    batch = tuple(t.to(device) for t in batch)\n",
        "\n",
        "    # Unpack the inputs from our dataloader\n",
        "    b_input_ids, b_input_mask, b_labels = batch\n",
        "\n",
        "    # Telling the model not to compute or store gradients, saving memory and\n",
        "    # speeding up prediction\n",
        "    with torch.no_grad():\n",
        "        # Forward pass, calculate logit predictions.\n",
        "        result = model(b_input_ids,\n",
        "                      token_type_ids=None,\n",
        "                      attention_mask=b_input_mask,\n",
        "                      return_dict=True)\n",
        "    logits = result.logits\n",
        "    # Move logits and labels to CPU\n",
        "    logits = logits.detach().cpu().numpy()\n",
        "    label_ids = b_labels.to('cpu').numpy()\n",
        "\n",
        "    # Store predictions and true labels\n",
        "    predictions.append(logits)\n",
        "    true_labels.append(label_ids)\n",
        "  return predictions, true_labels"
      ],
      "metadata": {
        "id": "uPfUEE2n83hx"
      },
      "execution_count": null,
      "outputs": []
    },
    {
      "cell_type": "code",
      "source": [
        "def run_and_test_multiple_times(no_of_runs=1, num_labels=5, epochs=4, train_dataloader = train_dataloader, test_dataloader= test_dataloader, class_weights=class_weights):\n",
        "  results = {}\n",
        "  for i in range(0, no_of_runs):\n",
        "    # Initialize model and load it to device every single time\n",
        "    model = AutoModelForSequenceClassification.from_pretrained(\"xlm-roberta-base\", num_labels=num_labels)\n",
        "    # Move model to device\n",
        "    desc = model.to(device)\n",
        "    optimizer = torch.optim.AdamW(model.parameters(),\n",
        "                  lr = 2e-5, # args.learning_rate\n",
        "                  eps = 1e-6 # args.adam_epsilon  - default is 1e-8.\n",
        "                )\n",
        "\n",
        "    # Total number of training steps is [number of batches] x [number of epochs].\n",
        "    # (Note that this is not the same as the number of training samples).\n",
        "    total_steps = len(train_dataloader) * epochs\n",
        "\n",
        "    # Create the learning rate scheduler.\n",
        "    scheduler = get_linear_schedule_with_warmup(optimizer,\n",
        "                                                num_warmup_steps = 0,\n",
        "                                                num_training_steps = total_steps)\n",
        "    # Measure the total training time for the whole run.\n",
        "    total_t0 = time.time()\n",
        "    print(f\"Training Current run: {i+1}\")\n",
        "    train_model(model, train_dataloader, epochs, class_weights, optimizer, scheduler)\n",
        "    print(f\"Testing Current run: {i+1}\")\n",
        "    # Test model on test set\n",
        "    predictions, true_labels = test_model(model, test_dataloader)\n",
        "    results[f\"Run {i+1}\"] = (predictions, true_labels)\n",
        "  return results"
      ],
      "metadata": {
        "id": "RI9aMWWArQjF"
      },
      "execution_count": null,
      "outputs": []
    },
    {
      "cell_type": "code",
      "source": [
        "results = run_and_test_multiple_times(no_of_runs=5, num_labels=2, epochs=2)"
      ],
      "metadata": {
        "colab": {
          "base_uri": "https://localhost:8080/"
        },
        "id": "no6PVLXI5iZf",
        "outputId": "267b9896-a247-4062-8e9b-1531abcf816c"
      },
      "execution_count": null,
      "outputs": [
        {
          "output_type": "stream",
          "name": "stderr",
          "text": [
            "Some weights of the model checkpoint at xlm-roberta-base were not used when initializing XLMRobertaForSequenceClassification: ['lm_head.bias', 'lm_head.layer_norm.bias', 'roberta.pooler.dense.bias', 'roberta.pooler.dense.weight', 'lm_head.dense.weight', 'lm_head.layer_norm.weight', 'lm_head.dense.bias']\n",
            "- This IS expected if you are initializing XLMRobertaForSequenceClassification from the checkpoint of a model trained on another task or with another architecture (e.g. initializing a BertForSequenceClassification model from a BertForPreTraining model).\n",
            "- This IS NOT expected if you are initializing XLMRobertaForSequenceClassification from the checkpoint of a model that you expect to be exactly identical (initializing a BertForSequenceClassification model from a BertForSequenceClassification model).\n",
            "Some weights of XLMRobertaForSequenceClassification were not initialized from the model checkpoint at xlm-roberta-base and are newly initialized: ['classifier.dense.bias', 'classifier.out_proj.bias', 'classifier.dense.weight', 'classifier.out_proj.weight']\n",
            "You should probably TRAIN this model on a down-stream task to be able to use it for predictions and inference.\n"
          ]
        },
        {
          "output_type": "stream",
          "name": "stdout",
          "text": [
            "Training Current run: 1\n",
            "\n",
            "======== Epoch 1 / 2 ========\n",
            "Training...\n",
            "\n",
            "  Average training loss: 0.55\n",
            "  Training epoch took: 0:00:55\n",
            "\n",
            "======== Epoch 2 / 2 ========\n",
            "Training...\n",
            "\n",
            "  Average training loss: 0.47\n",
            "  Training epoch took: 0:00:55\n",
            "Testing Current run: 1\n"
          ]
        },
        {
          "output_type": "stream",
          "name": "stderr",
          "text": [
            "Some weights of the model checkpoint at xlm-roberta-base were not used when initializing XLMRobertaForSequenceClassification: ['lm_head.bias', 'lm_head.layer_norm.bias', 'roberta.pooler.dense.bias', 'roberta.pooler.dense.weight', 'lm_head.dense.weight', 'lm_head.layer_norm.weight', 'lm_head.dense.bias']\n",
            "- This IS expected if you are initializing XLMRobertaForSequenceClassification from the checkpoint of a model trained on another task or with another architecture (e.g. initializing a BertForSequenceClassification model from a BertForPreTraining model).\n",
            "- This IS NOT expected if you are initializing XLMRobertaForSequenceClassification from the checkpoint of a model that you expect to be exactly identical (initializing a BertForSequenceClassification model from a BertForSequenceClassification model).\n",
            "Some weights of XLMRobertaForSequenceClassification were not initialized from the model checkpoint at xlm-roberta-base and are newly initialized: ['classifier.dense.bias', 'classifier.out_proj.bias', 'classifier.dense.weight', 'classifier.out_proj.weight']\n",
            "You should probably TRAIN this model on a down-stream task to be able to use it for predictions and inference.\n"
          ]
        },
        {
          "output_type": "stream",
          "name": "stdout",
          "text": [
            "Training Current run: 2\n",
            "\n",
            "======== Epoch 1 / 2 ========\n",
            "Training...\n",
            "\n",
            "  Average training loss: 0.57\n",
            "  Training epoch took: 0:00:55\n",
            "\n",
            "======== Epoch 2 / 2 ========\n",
            "Training...\n",
            "\n",
            "  Average training loss: 0.47\n",
            "  Training epoch took: 0:00:55\n",
            "Testing Current run: 2\n"
          ]
        },
        {
          "output_type": "stream",
          "name": "stderr",
          "text": [
            "Some weights of the model checkpoint at xlm-roberta-base were not used when initializing XLMRobertaForSequenceClassification: ['lm_head.bias', 'lm_head.layer_norm.bias', 'roberta.pooler.dense.bias', 'roberta.pooler.dense.weight', 'lm_head.dense.weight', 'lm_head.layer_norm.weight', 'lm_head.dense.bias']\n",
            "- This IS expected if you are initializing XLMRobertaForSequenceClassification from the checkpoint of a model trained on another task or with another architecture (e.g. initializing a BertForSequenceClassification model from a BertForPreTraining model).\n",
            "- This IS NOT expected if you are initializing XLMRobertaForSequenceClassification from the checkpoint of a model that you expect to be exactly identical (initializing a BertForSequenceClassification model from a BertForSequenceClassification model).\n",
            "Some weights of XLMRobertaForSequenceClassification were not initialized from the model checkpoint at xlm-roberta-base and are newly initialized: ['classifier.dense.bias', 'classifier.out_proj.bias', 'classifier.dense.weight', 'classifier.out_proj.weight']\n",
            "You should probably TRAIN this model on a down-stream task to be able to use it for predictions and inference.\n"
          ]
        },
        {
          "output_type": "stream",
          "name": "stdout",
          "text": [
            "Training Current run: 3\n",
            "\n",
            "======== Epoch 1 / 2 ========\n",
            "Training...\n",
            "\n",
            "  Average training loss: 0.57\n",
            "  Training epoch took: 0:00:55\n",
            "\n",
            "======== Epoch 2 / 2 ========\n",
            "Training...\n",
            "\n",
            "  Average training loss: 0.47\n",
            "  Training epoch took: 0:00:55\n",
            "Testing Current run: 3\n"
          ]
        },
        {
          "output_type": "stream",
          "name": "stderr",
          "text": [
            "Some weights of the model checkpoint at xlm-roberta-base were not used when initializing XLMRobertaForSequenceClassification: ['lm_head.bias', 'lm_head.layer_norm.bias', 'roberta.pooler.dense.bias', 'roberta.pooler.dense.weight', 'lm_head.dense.weight', 'lm_head.layer_norm.weight', 'lm_head.dense.bias']\n",
            "- This IS expected if you are initializing XLMRobertaForSequenceClassification from the checkpoint of a model trained on another task or with another architecture (e.g. initializing a BertForSequenceClassification model from a BertForPreTraining model).\n",
            "- This IS NOT expected if you are initializing XLMRobertaForSequenceClassification from the checkpoint of a model that you expect to be exactly identical (initializing a BertForSequenceClassification model from a BertForSequenceClassification model).\n",
            "Some weights of XLMRobertaForSequenceClassification were not initialized from the model checkpoint at xlm-roberta-base and are newly initialized: ['classifier.dense.bias', 'classifier.out_proj.bias', 'classifier.dense.weight', 'classifier.out_proj.weight']\n",
            "You should probably TRAIN this model on a down-stream task to be able to use it for predictions and inference.\n"
          ]
        },
        {
          "output_type": "stream",
          "name": "stdout",
          "text": [
            "Training Current run: 4\n",
            "\n",
            "======== Epoch 1 / 2 ========\n",
            "Training...\n",
            "\n",
            "  Average training loss: 0.57\n",
            "  Training epoch took: 0:00:55\n",
            "\n",
            "======== Epoch 2 / 2 ========\n",
            "Training...\n",
            "\n",
            "  Average training loss: 0.47\n",
            "  Training epoch took: 0:00:55\n",
            "Testing Current run: 4\n"
          ]
        },
        {
          "output_type": "stream",
          "name": "stderr",
          "text": [
            "Some weights of the model checkpoint at xlm-roberta-base were not used when initializing XLMRobertaForSequenceClassification: ['lm_head.bias', 'lm_head.layer_norm.bias', 'roberta.pooler.dense.bias', 'roberta.pooler.dense.weight', 'lm_head.dense.weight', 'lm_head.layer_norm.weight', 'lm_head.dense.bias']\n",
            "- This IS expected if you are initializing XLMRobertaForSequenceClassification from the checkpoint of a model trained on another task or with another architecture (e.g. initializing a BertForSequenceClassification model from a BertForPreTraining model).\n",
            "- This IS NOT expected if you are initializing XLMRobertaForSequenceClassification from the checkpoint of a model that you expect to be exactly identical (initializing a BertForSequenceClassification model from a BertForSequenceClassification model).\n",
            "Some weights of XLMRobertaForSequenceClassification were not initialized from the model checkpoint at xlm-roberta-base and are newly initialized: ['classifier.dense.bias', 'classifier.out_proj.bias', 'classifier.dense.weight', 'classifier.out_proj.weight']\n",
            "You should probably TRAIN this model on a down-stream task to be able to use it for predictions and inference.\n"
          ]
        },
        {
          "output_type": "stream",
          "name": "stdout",
          "text": [
            "Training Current run: 5\n",
            "\n",
            "======== Epoch 1 / 2 ========\n",
            "Training...\n",
            "\n",
            "  Average training loss: 0.56\n",
            "  Training epoch took: 0:00:55\n",
            "\n",
            "======== Epoch 2 / 2 ========\n",
            "Training...\n",
            "\n",
            "  Average training loss: 0.48\n",
            "  Training epoch took: 0:00:55\n",
            "Testing Current run: 5\n"
          ]
        }
      ]
    },
    {
      "cell_type": "code",
      "source": [
        "def evaluate_model(predictions, true_labels, target_names=inf_mapping.keys()):\n",
        "  # Combine the results across all batches.\n",
        "  flat_predictions = np.concatenate(predictions, axis=0)\n",
        "\n",
        "  # For each sample, pick the label (0 or 1) with the higher score.\n",
        "  flat_predictions = np.argmax(flat_predictions, axis=1).flatten()\n",
        "\n",
        "  # Combine the correct labels for each batch into a single list.\n",
        "  flat_true_labels = np.concatenate(true_labels, axis=0)\n",
        "\n",
        "  # Calculate the MCC\n",
        "  mcc = matthews_corrcoef(flat_true_labels, flat_predictions)\n",
        "\n",
        "  print('Total MCC: %.3f' % mcc)\n",
        "\n",
        "  print(classification_report(flat_true_labels,\n",
        "                                  flat_predictions,\n",
        "                                  target_names=target_names))"
      ],
      "metadata": {
        "id": "32KOQkre5iVR"
      },
      "execution_count": null,
      "outputs": []
    },
    {
      "cell_type": "code",
      "source": [
        "predictions, true_labels = results['Run 5']"
      ],
      "metadata": {
        "id": "tiy0lWWmrQmV"
      },
      "execution_count": null,
      "outputs": []
    },
    {
      "cell_type": "code",
      "source": [
        "evaluate_model(predictions, true_labels, mapping.keys())"
      ],
      "metadata": {
        "colab": {
          "base_uri": "https://localhost:8080/"
        },
        "id": "f9G0wLX-rQp6",
        "outputId": "f33ea2e2-dc65-49c7-cbfb-c0fca7d4b104"
      },
      "execution_count": null,
      "outputs": [
        {
          "output_type": "stream",
          "name": "stdout",
          "text": [
            "Total MCC: 0.522\n",
            "                 precision    recall  f1-score   support\n",
            "\n",
            "    Informative       0.65      0.74      0.69       980\n",
            "Non-Informative       0.85      0.79      0.82      1870\n",
            "\n",
            "       accuracy                           0.78      2850\n",
            "      macro avg       0.75      0.77      0.76      2850\n",
            "   weighted avg       0.79      0.78      0.78      2850\n",
            "\n"
          ]
        }
      ]
    },
    {
      "cell_type": "code",
      "source": [
        "# Average all the runs in and save the results"
      ],
      "metadata": {
        "id": "qxpOQBagrQ3c"
      },
      "execution_count": null,
      "outputs": []
    },
    {
      "cell_type": "code",
      "source": [
        "np.unique(train_targets)"
      ],
      "metadata": {
        "colab": {
          "base_uri": "https://localhost:8080/"
        },
        "id": "Z_jPF2BPxjif",
        "outputId": "8d90f54e-9fa5-43b1-fc0f-121106c4c4c8"
      },
      "execution_count": null,
      "outputs": [
        {
          "output_type": "execute_result",
          "data": {
            "text/plain": [
              "array([0, 1])"
            ]
          },
          "metadata": {},
          "execution_count": 398
        }
      ]
    },
    {
      "cell_type": "code",
      "source": [
        "from sklearn.metrics import f1_score"
      ],
      "metadata": {
        "id": "2k2Ryxuv1u_k"
      },
      "execution_count": null,
      "outputs": []
    },
    {
      "cell_type": "code",
      "source": [
        "import numpy as np\n",
        "from sklearn.metrics import classification_report, f1_score\n",
        "\n",
        "def average_classification_report(predictions_dict, target_names=inf_mapping.keys()):\n",
        "    num_runs = len(predictions_dict)\n",
        "    labels = list(target_names)  # Get unique labels\n",
        "\n",
        "    # Initialize variables to accumulate metrics\n",
        "    avg_precision = {label: 0.0 for label in labels}\n",
        "    avg_recall = {label: 0.0 for label in labels}\n",
        "    avg_f1_score = {label: 0.0 for label in labels}\n",
        "    avg_support = {label: 0 for label in labels}\n",
        "\n",
        "    # Initialize variables for macro average metrics\n",
        "    macro_precision = 0.0\n",
        "    macro_recall = 0.0\n",
        "    macro_f1_score = 0.0\n",
        "\n",
        "    # Variables to track best model\n",
        "    best_model_f1_score = float('-inf')\n",
        "    best_model_predictions = None\n",
        "    best_model_true_labels = None\n",
        "\n",
        "    # Calculate metrics for each run and accumulate\n",
        "    for model_id, (predictions, true_labels) in predictions_dict.items():\n",
        "        # Combine the results across all batches.\n",
        "        flat_predictions = np.concatenate(predictions, axis=0)\n",
        "\n",
        "        # For each sample, pick the label (0 or 1) with the higher score.\n",
        "        flat_predictions = np.argmax(flat_predictions, axis=1).flatten()\n",
        "\n",
        "        # Combine the correct labels for each batch into a single list.\n",
        "        flat_true_labels = np.concatenate(true_labels, axis=0)\n",
        "        report = classification_report(flat_true_labels, flat_predictions, target_names=target_names, output_dict=True)\n",
        "\n",
        "        # Accumulate precision, recall, f1-score, and support\n",
        "        for label in labels:\n",
        "            avg_precision[label] += report[label]['precision']\n",
        "            avg_recall[label] += report[label]['recall']\n",
        "            avg_f1_score[label] += report[label]['f1-score']\n",
        "            avg_support[label] += report[label]['support']\n",
        "\n",
        "        # Accumulate macro average metrics\n",
        "        macro_precision += report['macro avg']['precision']\n",
        "        macro_recall += report['macro avg']['recall']\n",
        "        macro_f1_score += report['macro avg']['f1-score']\n",
        "\n",
        "        # Check if current model has a higher macro average F1 score\n",
        "        if report['macro avg']['f1-score'] > best_model_f1_score:\n",
        "            best_model_f1_score = report['macro avg']['f1-score']\n",
        "            best_model_predictions = flat_predictions\n",
        "            best_model_true_labels = flat_true_labels\n",
        "\n",
        "    # Average metrics across runs\n",
        "    avg_precision = {label: avg_precision[label] / num_runs for label in labels}\n",
        "    avg_recall = {label: avg_recall[label] / num_runs for label in labels}\n",
        "    avg_f1_score = {label: avg_f1_score[label] / num_runs for label in labels}\n",
        "    avg_support = {label: avg_support[label] / num_runs for label in labels}\n",
        "\n",
        "    # Average macro average metrics across runs\n",
        "    macro_precision /= num_runs\n",
        "    macro_recall /= num_runs\n",
        "    macro_f1_score /= num_runs\n",
        "\n",
        "    # Create average classification report\n",
        "    avg_report = classification_report(labels, labels, labels=labels, output_dict=True)\n",
        "    for label in labels:\n",
        "        avg_report[label]['precision'] = avg_precision[label]\n",
        "        avg_report[label]['recall'] = avg_recall[label]\n",
        "        avg_report[label]['f1-score'] = avg_f1_score[label]\n",
        "        avg_report[label]['support'] = avg_support[label]\n",
        "\n",
        "    # Add macro average metrics to the classification report\n",
        "    avg_report['macro avg'] = {\n",
        "        'precision': macro_precision,\n",
        "        'recall': macro_recall,\n",
        "        'f1-score': macro_f1_score,\n",
        "        'support': np.sum(list(avg_support.values()))\n",
        "    }\n",
        "\n",
        "    # Calculate weighted average metrics\n",
        "    weighted_precision = np.average(list(avg_precision.values()), weights=list(avg_support.values()))\n",
        "    weighted_recall = np.average(list(avg_recall.values()), weights=list(avg_support.values()))\n",
        "    weighted_f1_score = np.average(list(avg_f1_score.values()), weights=list(avg_support.values()))\n",
        "\n",
        "    # Add weighted average metrics to the classification report\n",
        "    avg_report['weighted avg'] = {\n",
        "        'precision': weighted_precision,\n",
        "        'recall': weighted_recall,\n",
        "        'f1-score': weighted_f1_score,\n",
        "        'support': np.sum(list(avg_support.values()))\n",
        "    }\n",
        "\n",
        "    return (best_model_predictions, best_model_true_labels), macro_f1_score, avg_report\n"
      ],
      "metadata": {
        "id": "b0YDdSfsrRFR"
      },
      "execution_count": null,
      "outputs": []
    },
    {
      "cell_type": "code",
      "source": [
        "(best_model_predictions, best_model_true_labels), macro_f1_score, avg_report = average_classification_report(results, target_names = mapping.keys())"
      ],
      "metadata": {
        "id": "7l0Ir_uew7ZL"
      },
      "execution_count": null,
      "outputs": []
    },
    {
      "cell_type": "code",
      "source": [
        "print(macro_f1_score)"
      ],
      "metadata": {
        "colab": {
          "base_uri": "https://localhost:8080/"
        },
        "id": "W5nZtaHl19O-",
        "outputId": "f290a890-67f4-44d1-bdba-33aee65dc0fa"
      },
      "execution_count": null,
      "outputs": [
        {
          "output_type": "stream",
          "name": "stdout",
          "text": [
            "0.7662348265623199\n"
          ]
        }
      ]
    },
    {
      "cell_type": "code",
      "source": [
        "informative_results_df = pd.DataFrame.from_dict(avg_report)"
      ],
      "metadata": {
        "id": "0CzdJ9qK2BBx"
      },
      "execution_count": null,
      "outputs": []
    },
    {
      "cell_type": "code",
      "source": [
        "informative_results_df.to_csv('/content/drive/My Drive/thesis/informative_averaged_results.csv')"
      ],
      "metadata": {
        "id": "aPtShCNcSNtn"
      },
      "execution_count": null,
      "outputs": []
    },
    {
      "cell_type": "code",
      "source": [
        "informative_results_df"
      ],
      "metadata": {
        "colab": {
          "base_uri": "https://localhost:8080/",
          "height": 175
        },
        "id": "6ghf0A8-eaqA",
        "outputId": "1542b4d1-3129-48d0-8de1-ea102f8249ee"
      },
      "execution_count": null,
      "outputs": [
        {
          "output_type": "execute_result",
          "data": {
            "text/plain": [
              "           Informative  Non-Informative  accuracy    macro avg  weighted avg\n",
              "precision     0.663664         0.859309       1.0     0.761487      0.792035\n",
              "recall        0.749796         0.800321       1.0     0.775058      0.782947\n",
              "f1-score      0.703830         0.828640       1.0     0.766235      0.785723\n",
              "support     980.000000      1870.000000       1.0  2850.000000   2850.000000"
            ],
            "text/html": [
              "\n",
              "  <div id=\"df-bfc16fdb-f7f8-45ec-8421-46878829b29c\">\n",
              "    <div class=\"colab-df-container\">\n",
              "      <div>\n",
              "<style scoped>\n",
              "    .dataframe tbody tr th:only-of-type {\n",
              "        vertical-align: middle;\n",
              "    }\n",
              "\n",
              "    .dataframe tbody tr th {\n",
              "        vertical-align: top;\n",
              "    }\n",
              "\n",
              "    .dataframe thead th {\n",
              "        text-align: right;\n",
              "    }\n",
              "</style>\n",
              "<table border=\"1\" class=\"dataframe\">\n",
              "  <thead>\n",
              "    <tr style=\"text-align: right;\">\n",
              "      <th></th>\n",
              "      <th>Informative</th>\n",
              "      <th>Non-Informative</th>\n",
              "      <th>accuracy</th>\n",
              "      <th>macro avg</th>\n",
              "      <th>weighted avg</th>\n",
              "    </tr>\n",
              "  </thead>\n",
              "  <tbody>\n",
              "    <tr>\n",
              "      <th>precision</th>\n",
              "      <td>0.663664</td>\n",
              "      <td>0.859309</td>\n",
              "      <td>1.0</td>\n",
              "      <td>0.761487</td>\n",
              "      <td>0.792035</td>\n",
              "    </tr>\n",
              "    <tr>\n",
              "      <th>recall</th>\n",
              "      <td>0.749796</td>\n",
              "      <td>0.800321</td>\n",
              "      <td>1.0</td>\n",
              "      <td>0.775058</td>\n",
              "      <td>0.782947</td>\n",
              "    </tr>\n",
              "    <tr>\n",
              "      <th>f1-score</th>\n",
              "      <td>0.703830</td>\n",
              "      <td>0.828640</td>\n",
              "      <td>1.0</td>\n",
              "      <td>0.766235</td>\n",
              "      <td>0.785723</td>\n",
              "    </tr>\n",
              "    <tr>\n",
              "      <th>support</th>\n",
              "      <td>980.000000</td>\n",
              "      <td>1870.000000</td>\n",
              "      <td>1.0</td>\n",
              "      <td>2850.000000</td>\n",
              "      <td>2850.000000</td>\n",
              "    </tr>\n",
              "  </tbody>\n",
              "</table>\n",
              "</div>\n",
              "      <button class=\"colab-df-convert\" onclick=\"convertToInteractive('df-bfc16fdb-f7f8-45ec-8421-46878829b29c')\"\n",
              "              title=\"Convert this dataframe to an interactive table.\"\n",
              "              style=\"display:none;\">\n",
              "        \n",
              "  <svg xmlns=\"http://www.w3.org/2000/svg\" height=\"24px\"viewBox=\"0 0 24 24\"\n",
              "       width=\"24px\">\n",
              "    <path d=\"M0 0h24v24H0V0z\" fill=\"none\"/>\n",
              "    <path d=\"M18.56 5.44l.94 2.06.94-2.06 2.06-.94-2.06-.94-.94-2.06-.94 2.06-2.06.94zm-11 1L8.5 8.5l.94-2.06 2.06-.94-2.06-.94L8.5 2.5l-.94 2.06-2.06.94zm10 10l.94 2.06.94-2.06 2.06-.94-2.06-.94-.94-2.06-.94 2.06-2.06.94z\"/><path d=\"M17.41 7.96l-1.37-1.37c-.4-.4-.92-.59-1.43-.59-.52 0-1.04.2-1.43.59L10.3 9.45l-7.72 7.72c-.78.78-.78 2.05 0 2.83L4 21.41c.39.39.9.59 1.41.59.51 0 1.02-.2 1.41-.59l7.78-7.78 2.81-2.81c.8-.78.8-2.07 0-2.86zM5.41 20L4 18.59l7.72-7.72 1.47 1.35L5.41 20z\"/>\n",
              "  </svg>\n",
              "      </button>\n",
              "      \n",
              "  <style>\n",
              "    .colab-df-container {\n",
              "      display:flex;\n",
              "      flex-wrap:wrap;\n",
              "      gap: 12px;\n",
              "    }\n",
              "\n",
              "    .colab-df-convert {\n",
              "      background-color: #E8F0FE;\n",
              "      border: none;\n",
              "      border-radius: 50%;\n",
              "      cursor: pointer;\n",
              "      display: none;\n",
              "      fill: #1967D2;\n",
              "      height: 32px;\n",
              "      padding: 0 0 0 0;\n",
              "      width: 32px;\n",
              "    }\n",
              "\n",
              "    .colab-df-convert:hover {\n",
              "      background-color: #E2EBFA;\n",
              "      box-shadow: 0px 1px 2px rgba(60, 64, 67, 0.3), 0px 1px 3px 1px rgba(60, 64, 67, 0.15);\n",
              "      fill: #174EA6;\n",
              "    }\n",
              "\n",
              "    [theme=dark] .colab-df-convert {\n",
              "      background-color: #3B4455;\n",
              "      fill: #D2E3FC;\n",
              "    }\n",
              "\n",
              "    [theme=dark] .colab-df-convert:hover {\n",
              "      background-color: #434B5C;\n",
              "      box-shadow: 0px 1px 3px 1px rgba(0, 0, 0, 0.15);\n",
              "      filter: drop-shadow(0px 1px 2px rgba(0, 0, 0, 0.3));\n",
              "      fill: #FFFFFF;\n",
              "    }\n",
              "  </style>\n",
              "\n",
              "      <script>\n",
              "        const buttonEl =\n",
              "          document.querySelector('#df-bfc16fdb-f7f8-45ec-8421-46878829b29c button.colab-df-convert');\n",
              "        buttonEl.style.display =\n",
              "          google.colab.kernel.accessAllowed ? 'block' : 'none';\n",
              "\n",
              "        async function convertToInteractive(key) {\n",
              "          const element = document.querySelector('#df-bfc16fdb-f7f8-45ec-8421-46878829b29c');\n",
              "          const dataTable =\n",
              "            await google.colab.kernel.invokeFunction('convertToInteractive',\n",
              "                                                     [key], {});\n",
              "          if (!dataTable) return;\n",
              "\n",
              "          const docLinkHtml = 'Like what you see? Visit the ' +\n",
              "            '<a target=\"_blank\" href=https://colab.research.google.com/notebooks/data_table.ipynb>data table notebook</a>'\n",
              "            + ' to learn more about interactive tables.';\n",
              "          element.innerHTML = '';\n",
              "          dataTable['output_type'] = 'display_data';\n",
              "          await google.colab.output.renderOutput(dataTable, element);\n",
              "          const docLink = document.createElement('div');\n",
              "          docLink.innerHTML = docLinkHtml;\n",
              "          element.appendChild(docLink);\n",
              "        }\n",
              "      </script>\n",
              "    </div>\n",
              "  </div>\n",
              "  "
            ]
          },
          "metadata": {},
          "execution_count": 464
        }
      ]
    },
    {
      "cell_type": "code",
      "source": [
        "# Showing the results of the best performing model\n",
        "plot_cm_with_percentages(best_model_true_labels, best_model_predictions, mapping.keys(), name=\"informative_best\")"
      ],
      "metadata": {
        "colab": {
          "base_uri": "https://localhost:8080/",
          "height": 685
        },
        "id": "UeHgoA0V3_s6",
        "outputId": "f85808e2-9818-4343-f593-ec79f9741bd1"
      },
      "execution_count": null,
      "outputs": [
        {
          "output_type": "display_data",
          "data": {
            "text/plain": [
              "<Figure size 800x600 with 2 Axes>"
            ],
            "image/svg+xml": "<?xml version=\"1.0\" encoding=\"utf-8\" standalone=\"no\"?>\n<!DOCTYPE svg PUBLIC \"-//W3C//DTD SVG 1.1//EN\"\n  \"http://www.w3.org/Graphics/SVG/1.1/DTD/svg11.dtd\">\n<svg xmlns:xlink=\"http://www.w3.org/1999/xlink\" width=\"556.042863pt\" height=\"498.351425pt\" viewBox=\"0 0 556.042863 498.351425\" xmlns=\"http://www.w3.org/2000/svg\" version=\"1.1\">\n <metadata>\n  <rdf:RDF xmlns:dc=\"http://purl.org/dc/elements/1.1/\" xmlns:cc=\"http://creativecommons.org/ns#\" xmlns:rdf=\"http://www.w3.org/1999/02/22-rdf-syntax-ns#\">\n   <cc:Work>\n    <dc:type rdf:resource=\"http://purl.org/dc/dcmitype/StillImage\"/>\n    <dc:date>2023-07-09T15:29:34.500775</dc:date>\n    <dc:format>image/svg+xml</dc:format>\n    <dc:creator>\n     <cc:Agent>\n      <dc:title>Matplotlib v3.7.1, https://matplotlib.org/</dc:title>\n     </cc:Agent>\n    </dc:creator>\n   </cc:Work>\n  </rdf:RDF>\n </metadata>\n <defs>\n  <style type=\"text/css\">*{stroke-linejoin: round; stroke-linecap: butt}</style>\n </defs>\n <g id=\"figure_1\">\n  <g id=\"patch_1\">\n   <path d=\"M 0 498.351425 \nL 556.042863 498.351425 \nL 556.042863 0 \nL 0 0 \nz\n\" style=\"fill: #ffffff\"/>\n  </g>\n  <g id=\"axes_1\">\n   <g id=\"patch_2\">\n    <path d=\"M 127.873613 370.477812 \nL 484.993613 370.477812 \nL 484.993613 37.837812 \nL 127.873613 37.837812 \nz\n\" style=\"fill: #eaeaf2\"/>\n   </g>\n   <g id=\"matplotlib.axis_1\">\n    <g id=\"xtick_1\">\n     <g id=\"line2d_1\">\n      <path d=\"M 217.153613 370.477812 \nL 217.153613 37.837812 \n\" clip-path=\"url(#p226cdd0b2d)\" style=\"fill: none; stroke: #ffffff; stroke-linecap: round\"/>\n     </g>\n     <g id=\"text_1\">\n      <!-- Informative -->\n      <g style=\"fill: #262626\" transform=\"translate(166.175943 435.677321) rotate(-45) scale(0.121 -0.121)\">\n       <defs>\n        <path id=\"DejaVuSans-49\" d=\"M 628 4666 \nL 1259 4666 \nL 1259 0 \nL 628 0 \nL 628 4666 \nz\n\" transform=\"scale(0.015625)\"/>\n        <path id=\"DejaVuSans-6e\" d=\"M 3513 2113 \nL 3513 0 \nL 2938 0 \nL 2938 2094 \nQ 2938 2591 2744 2837 \nQ 2550 3084 2163 3084 \nQ 1697 3084 1428 2787 \nQ 1159 2491 1159 1978 \nL 1159 0 \nL 581 0 \nL 581 3500 \nL 1159 3500 \nL 1159 2956 \nQ 1366 3272 1645 3428 \nQ 1925 3584 2291 3584 \nQ 2894 3584 3203 3211 \nQ 3513 2838 3513 2113 \nz\n\" transform=\"scale(0.015625)\"/>\n        <path id=\"DejaVuSans-66\" d=\"M 2375 4863 \nL 2375 4384 \nL 1825 4384 \nQ 1516 4384 1395 4259 \nQ 1275 4134 1275 3809 \nL 1275 3500 \nL 2222 3500 \nL 2222 3053 \nL 1275 3053 \nL 1275 0 \nL 697 0 \nL 697 3053 \nL 147 3053 \nL 147 3500 \nL 697 3500 \nL 697 3744 \nQ 697 4328 969 4595 \nQ 1241 4863 1831 4863 \nL 2375 4863 \nz\n\" transform=\"scale(0.015625)\"/>\n        <path id=\"DejaVuSans-6f\" d=\"M 1959 3097 \nQ 1497 3097 1228 2736 \nQ 959 2375 959 1747 \nQ 959 1119 1226 758 \nQ 1494 397 1959 397 \nQ 2419 397 2687 759 \nQ 2956 1122 2956 1747 \nQ 2956 2369 2687 2733 \nQ 2419 3097 1959 3097 \nz\nM 1959 3584 \nQ 2709 3584 3137 3096 \nQ 3566 2609 3566 1747 \nQ 3566 888 3137 398 \nQ 2709 -91 1959 -91 \nQ 1206 -91 779 398 \nQ 353 888 353 1747 \nQ 353 2609 779 3096 \nQ 1206 3584 1959 3584 \nz\n\" transform=\"scale(0.015625)\"/>\n        <path id=\"DejaVuSans-72\" d=\"M 2631 2963 \nQ 2534 3019 2420 3045 \nQ 2306 3072 2169 3072 \nQ 1681 3072 1420 2755 \nQ 1159 2438 1159 1844 \nL 1159 0 \nL 581 0 \nL 581 3500 \nL 1159 3500 \nL 1159 2956 \nQ 1341 3275 1631 3429 \nQ 1922 3584 2338 3584 \nQ 2397 3584 2469 3576 \nQ 2541 3569 2628 3553 \nL 2631 2963 \nz\n\" transform=\"scale(0.015625)\"/>\n        <path id=\"DejaVuSans-6d\" d=\"M 3328 2828 \nQ 3544 3216 3844 3400 \nQ 4144 3584 4550 3584 \nQ 5097 3584 5394 3201 \nQ 5691 2819 5691 2113 \nL 5691 0 \nL 5113 0 \nL 5113 2094 \nQ 5113 2597 4934 2840 \nQ 4756 3084 4391 3084 \nQ 3944 3084 3684 2787 \nQ 3425 2491 3425 1978 \nL 3425 0 \nL 2847 0 \nL 2847 2094 \nQ 2847 2600 2669 2842 \nQ 2491 3084 2119 3084 \nQ 1678 3084 1418 2786 \nQ 1159 2488 1159 1978 \nL 1159 0 \nL 581 0 \nL 581 3500 \nL 1159 3500 \nL 1159 2956 \nQ 1356 3278 1631 3431 \nQ 1906 3584 2284 3584 \nQ 2666 3584 2933 3390 \nQ 3200 3197 3328 2828 \nz\n\" transform=\"scale(0.015625)\"/>\n        <path id=\"DejaVuSans-61\" d=\"M 2194 1759 \nQ 1497 1759 1228 1600 \nQ 959 1441 959 1056 \nQ 959 750 1161 570 \nQ 1363 391 1709 391 \nQ 2188 391 2477 730 \nQ 2766 1069 2766 1631 \nL 2766 1759 \nL 2194 1759 \nz\nM 3341 1997 \nL 3341 0 \nL 2766 0 \nL 2766 531 \nQ 2569 213 2275 61 \nQ 1981 -91 1556 -91 \nQ 1019 -91 701 211 \nQ 384 513 384 1019 \nQ 384 1609 779 1909 \nQ 1175 2209 1959 2209 \nL 2766 2209 \nL 2766 2266 \nQ 2766 2663 2505 2880 \nQ 2244 3097 1772 3097 \nQ 1472 3097 1187 3025 \nQ 903 2953 641 2809 \nL 641 3341 \nQ 956 3463 1253 3523 \nQ 1550 3584 1831 3584 \nQ 2591 3584 2966 3190 \nQ 3341 2797 3341 1997 \nz\n\" transform=\"scale(0.015625)\"/>\n        <path id=\"DejaVuSans-74\" d=\"M 1172 4494 \nL 1172 3500 \nL 2356 3500 \nL 2356 3053 \nL 1172 3053 \nL 1172 1153 \nQ 1172 725 1289 603 \nQ 1406 481 1766 481 \nL 2356 481 \nL 2356 0 \nL 1766 0 \nQ 1100 0 847 248 \nQ 594 497 594 1153 \nL 594 3053 \nL 172 3053 \nL 172 3500 \nL 594 3500 \nL 594 4494 \nL 1172 4494 \nz\n\" transform=\"scale(0.015625)\"/>\n        <path id=\"DejaVuSans-69\" d=\"M 603 3500 \nL 1178 3500 \nL 1178 0 \nL 603 0 \nL 603 3500 \nz\nM 603 4863 \nL 1178 4863 \nL 1178 4134 \nL 603 4134 \nL 603 4863 \nz\n\" transform=\"scale(0.015625)\"/>\n        <path id=\"DejaVuSans-76\" d=\"M 191 3500 \nL 800 3500 \nL 1894 563 \nL 2988 3500 \nL 3597 3500 \nL 2284 0 \nL 1503 0 \nL 191 3500 \nz\n\" transform=\"scale(0.015625)\"/>\n        <path id=\"DejaVuSans-65\" d=\"M 3597 1894 \nL 3597 1613 \nL 953 1613 \nQ 991 1019 1311 708 \nQ 1631 397 2203 397 \nQ 2534 397 2845 478 \nQ 3156 559 3463 722 \nL 3463 178 \nQ 3153 47 2828 -22 \nQ 2503 -91 2169 -91 \nQ 1331 -91 842 396 \nQ 353 884 353 1716 \nQ 353 2575 817 3079 \nQ 1281 3584 2069 3584 \nQ 2775 3584 3186 3129 \nQ 3597 2675 3597 1894 \nz\nM 3022 2063 \nQ 3016 2534 2758 2815 \nQ 2500 3097 2075 3097 \nQ 1594 3097 1305 2825 \nQ 1016 2553 972 2059 \nL 3022 2063 \nz\n\" transform=\"scale(0.015625)\"/>\n       </defs>\n       <use xlink:href=\"#DejaVuSans-49\"/>\n       <use xlink:href=\"#DejaVuSans-6e\" x=\"29.492188\"/>\n       <use xlink:href=\"#DejaVuSans-66\" x=\"92.871094\"/>\n       <use xlink:href=\"#DejaVuSans-6f\" x=\"128.076172\"/>\n       <use xlink:href=\"#DejaVuSans-72\" x=\"189.257812\"/>\n       <use xlink:href=\"#DejaVuSans-6d\" x=\"228.621094\"/>\n       <use xlink:href=\"#DejaVuSans-61\" x=\"326.033203\"/>\n       <use xlink:href=\"#DejaVuSans-74\" x=\"387.3125\"/>\n       <use xlink:href=\"#DejaVuSans-69\" x=\"426.521484\"/>\n       <use xlink:href=\"#DejaVuSans-76\" x=\"454.304688\"/>\n       <use xlink:href=\"#DejaVuSans-65\" x=\"513.484375\"/>\n      </g>\n     </g>\n    </g>\n    <g id=\"xtick_2\">\n     <g id=\"line2d_2\">\n      <path d=\"M 395.713613 370.477812 \nL 395.713613 37.837812 \n\" clip-path=\"url(#p226cdd0b2d)\" style=\"fill: none; stroke: #ffffff; stroke-linecap: round\"/>\n     </g>\n     <g id=\"text_2\">\n      <!-- Non-Informative -->\n      <g style=\"fill: #262626\" transform=\"translate(324.590592 455.822671) rotate(-45) scale(0.121 -0.121)\">\n       <defs>\n        <path id=\"DejaVuSans-4e\" d=\"M 628 4666 \nL 1478 4666 \nL 3547 763 \nL 3547 4666 \nL 4159 4666 \nL 4159 0 \nL 3309 0 \nL 1241 3903 \nL 1241 0 \nL 628 0 \nL 628 4666 \nz\n\" transform=\"scale(0.015625)\"/>\n        <path id=\"DejaVuSans-2d\" d=\"M 313 2009 \nL 1997 2009 \nL 1997 1497 \nL 313 1497 \nL 313 2009 \nz\n\" transform=\"scale(0.015625)\"/>\n       </defs>\n       <use xlink:href=\"#DejaVuSans-4e\"/>\n       <use xlink:href=\"#DejaVuSans-6f\" x=\"74.804688\"/>\n       <use xlink:href=\"#DejaVuSans-6e\" x=\"135.986328\"/>\n       <use xlink:href=\"#DejaVuSans-2d\" x=\"199.365234\"/>\n       <use xlink:href=\"#DejaVuSans-49\" x=\"235.449219\"/>\n       <use xlink:href=\"#DejaVuSans-6e\" x=\"264.941406\"/>\n       <use xlink:href=\"#DejaVuSans-66\" x=\"328.320312\"/>\n       <use xlink:href=\"#DejaVuSans-6f\" x=\"363.525391\"/>\n       <use xlink:href=\"#DejaVuSans-72\" x=\"424.707031\"/>\n       <use xlink:href=\"#DejaVuSans-6d\" x=\"464.070312\"/>\n       <use xlink:href=\"#DejaVuSans-61\" x=\"561.482422\"/>\n       <use xlink:href=\"#DejaVuSans-74\" x=\"622.761719\"/>\n       <use xlink:href=\"#DejaVuSans-69\" x=\"661.970703\"/>\n       <use xlink:href=\"#DejaVuSans-76\" x=\"689.753906\"/>\n       <use xlink:href=\"#DejaVuSans-65\" x=\"748.933594\"/>\n      </g>\n     </g>\n    </g>\n    <g id=\"text_3\">\n     <!-- Predicted Label -->\n     <g style=\"fill: #262626\" transform=\"translate(252.464707 488.239863) scale(0.14 -0.14)\">\n      <defs>\n       <path id=\"DejaVuSans-50\" d=\"M 1259 4147 \nL 1259 2394 \nL 2053 2394 \nQ 2494 2394 2734 2622 \nQ 2975 2850 2975 3272 \nQ 2975 3691 2734 3919 \nQ 2494 4147 2053 4147 \nL 1259 4147 \nz\nM 628 4666 \nL 2053 4666 \nQ 2838 4666 3239 4311 \nQ 3641 3956 3641 3272 \nQ 3641 2581 3239 2228 \nQ 2838 1875 2053 1875 \nL 1259 1875 \nL 1259 0 \nL 628 0 \nL 628 4666 \nz\n\" transform=\"scale(0.015625)\"/>\n       <path id=\"DejaVuSans-64\" d=\"M 2906 2969 \nL 2906 4863 \nL 3481 4863 \nL 3481 0 \nL 2906 0 \nL 2906 525 \nQ 2725 213 2448 61 \nQ 2172 -91 1784 -91 \nQ 1150 -91 751 415 \nQ 353 922 353 1747 \nQ 353 2572 751 3078 \nQ 1150 3584 1784 3584 \nQ 2172 3584 2448 3432 \nQ 2725 3281 2906 2969 \nz\nM 947 1747 \nQ 947 1113 1208 752 \nQ 1469 391 1925 391 \nQ 2381 391 2643 752 \nQ 2906 1113 2906 1747 \nQ 2906 2381 2643 2742 \nQ 2381 3103 1925 3103 \nQ 1469 3103 1208 2742 \nQ 947 2381 947 1747 \nz\n\" transform=\"scale(0.015625)\"/>\n       <path id=\"DejaVuSans-63\" d=\"M 3122 3366 \nL 3122 2828 \nQ 2878 2963 2633 3030 \nQ 2388 3097 2138 3097 \nQ 1578 3097 1268 2742 \nQ 959 2388 959 1747 \nQ 959 1106 1268 751 \nQ 1578 397 2138 397 \nQ 2388 397 2633 464 \nQ 2878 531 3122 666 \nL 3122 134 \nQ 2881 22 2623 -34 \nQ 2366 -91 2075 -91 \nQ 1284 -91 818 406 \nQ 353 903 353 1747 \nQ 353 2603 823 3093 \nQ 1294 3584 2113 3584 \nQ 2378 3584 2631 3529 \nQ 2884 3475 3122 3366 \nz\n\" transform=\"scale(0.015625)\"/>\n       <path id=\"DejaVuSans-20\" transform=\"scale(0.015625)\"/>\n       <path id=\"DejaVuSans-4c\" d=\"M 628 4666 \nL 1259 4666 \nL 1259 531 \nL 3531 531 \nL 3531 0 \nL 628 0 \nL 628 4666 \nz\n\" transform=\"scale(0.015625)\"/>\n       <path id=\"DejaVuSans-62\" d=\"M 3116 1747 \nQ 3116 2381 2855 2742 \nQ 2594 3103 2138 3103 \nQ 1681 3103 1420 2742 \nQ 1159 2381 1159 1747 \nQ 1159 1113 1420 752 \nQ 1681 391 2138 391 \nQ 2594 391 2855 752 \nQ 3116 1113 3116 1747 \nz\nM 1159 2969 \nQ 1341 3281 1617 3432 \nQ 1894 3584 2278 3584 \nQ 2916 3584 3314 3078 \nQ 3713 2572 3713 1747 \nQ 3713 922 3314 415 \nQ 2916 -91 2278 -91 \nQ 1894 -91 1617 61 \nQ 1341 213 1159 525 \nL 1159 0 \nL 581 0 \nL 581 4863 \nL 1159 4863 \nL 1159 2969 \nz\n\" transform=\"scale(0.015625)\"/>\n       <path id=\"DejaVuSans-6c\" d=\"M 603 4863 \nL 1178 4863 \nL 1178 0 \nL 603 0 \nL 603 4863 \nz\n\" transform=\"scale(0.015625)\"/>\n      </defs>\n      <use xlink:href=\"#DejaVuSans-50\"/>\n      <use xlink:href=\"#DejaVuSans-72\" x=\"58.552734\"/>\n      <use xlink:href=\"#DejaVuSans-65\" x=\"97.416016\"/>\n      <use xlink:href=\"#DejaVuSans-64\" x=\"158.939453\"/>\n      <use xlink:href=\"#DejaVuSans-69\" x=\"222.416016\"/>\n      <use xlink:href=\"#DejaVuSans-63\" x=\"250.199219\"/>\n      <use xlink:href=\"#DejaVuSans-74\" x=\"305.179688\"/>\n      <use xlink:href=\"#DejaVuSans-65\" x=\"344.388672\"/>\n      <use xlink:href=\"#DejaVuSans-64\" x=\"405.912109\"/>\n      <use xlink:href=\"#DejaVuSans-20\" x=\"469.388672\"/>\n      <use xlink:href=\"#DejaVuSans-4c\" x=\"501.175781\"/>\n      <use xlink:href=\"#DejaVuSans-61\" x=\"556.888672\"/>\n      <use xlink:href=\"#DejaVuSans-62\" x=\"618.167969\"/>\n      <use xlink:href=\"#DejaVuSans-65\" x=\"681.644531\"/>\n      <use xlink:href=\"#DejaVuSans-6c\" x=\"743.167969\"/>\n     </g>\n    </g>\n   </g>\n   <g id=\"matplotlib.axis_2\">\n    <g id=\"ytick_1\">\n     <g id=\"line2d_3\">\n      <path d=\"M 127.873613 120.997812 \nL 484.993613 120.997812 \n\" clip-path=\"url(#p226cdd0b2d)\" style=\"fill: none; stroke: #ffffff; stroke-linecap: round\"/>\n     </g>\n     <g id=\"text_4\">\n      <!-- Informative -->\n      <g style=\"fill: #262626\" transform=\"translate(67.395943 147.957877) rotate(-45) scale(0.121 -0.121)\">\n       <use xlink:href=\"#DejaVuSans-49\"/>\n       <use xlink:href=\"#DejaVuSans-6e\" x=\"29.492188\"/>\n       <use xlink:href=\"#DejaVuSans-66\" x=\"92.871094\"/>\n       <use xlink:href=\"#DejaVuSans-6f\" x=\"128.076172\"/>\n       <use xlink:href=\"#DejaVuSans-72\" x=\"189.257812\"/>\n       <use xlink:href=\"#DejaVuSans-6d\" x=\"228.621094\"/>\n       <use xlink:href=\"#DejaVuSans-61\" x=\"326.033203\"/>\n       <use xlink:href=\"#DejaVuSans-74\" x=\"387.3125\"/>\n       <use xlink:href=\"#DejaVuSans-69\" x=\"426.521484\"/>\n       <use xlink:href=\"#DejaVuSans-76\" x=\"454.304688\"/>\n       <use xlink:href=\"#DejaVuSans-65\" x=\"513.484375\"/>\n      </g>\n     </g>\n    </g>\n    <g id=\"ytick_2\">\n     <g id=\"line2d_4\">\n      <path d=\"M 127.873613 287.317812 \nL 484.993613 287.317812 \n\" clip-path=\"url(#p226cdd0b2d)\" style=\"fill: none; stroke: #ffffff; stroke-linecap: round\"/>\n     </g>\n     <g id=\"text_5\">\n      <!-- Non-Informative -->\n      <g style=\"fill: #262626\" transform=\"translate(47.250592 324.350552) rotate(-45) scale(0.121 -0.121)\">\n       <use xlink:href=\"#DejaVuSans-4e\"/>\n       <use xlink:href=\"#DejaVuSans-6f\" x=\"74.804688\"/>\n       <use xlink:href=\"#DejaVuSans-6e\" x=\"135.986328\"/>\n       <use xlink:href=\"#DejaVuSans-2d\" x=\"199.365234\"/>\n       <use xlink:href=\"#DejaVuSans-49\" x=\"235.449219\"/>\n       <use xlink:href=\"#DejaVuSans-6e\" x=\"264.941406\"/>\n       <use xlink:href=\"#DejaVuSans-66\" x=\"328.320312\"/>\n       <use xlink:href=\"#DejaVuSans-6f\" x=\"363.525391\"/>\n       <use xlink:href=\"#DejaVuSans-72\" x=\"424.707031\"/>\n       <use xlink:href=\"#DejaVuSans-6d\" x=\"464.070312\"/>\n       <use xlink:href=\"#DejaVuSans-61\" x=\"561.482422\"/>\n       <use xlink:href=\"#DejaVuSans-74\" x=\"622.761719\"/>\n       <use xlink:href=\"#DejaVuSans-69\" x=\"661.970703\"/>\n       <use xlink:href=\"#DejaVuSans-76\" x=\"689.753906\"/>\n       <use xlink:href=\"#DejaVuSans-65\" x=\"748.933594\"/>\n      </g>\n     </g>\n    </g>\n    <g id=\"text_6\">\n     <!-- Gold Label -->\n     <g style=\"fill: #262626\" transform=\"translate(17.837812 241.363906) rotate(-90) scale(0.14 -0.14)\">\n      <defs>\n       <path id=\"DejaVuSans-47\" d=\"M 3809 666 \nL 3809 1919 \nL 2778 1919 \nL 2778 2438 \nL 4434 2438 \nL 4434 434 \nQ 4069 175 3628 42 \nQ 3188 -91 2688 -91 \nQ 1594 -91 976 548 \nQ 359 1188 359 2328 \nQ 359 3472 976 4111 \nQ 1594 4750 2688 4750 \nQ 3144 4750 3555 4637 \nQ 3966 4525 4313 4306 \nL 4313 3634 \nQ 3963 3931 3569 4081 \nQ 3175 4231 2741 4231 \nQ 1884 4231 1454 3753 \nQ 1025 3275 1025 2328 \nQ 1025 1384 1454 906 \nQ 1884 428 2741 428 \nQ 3075 428 3337 486 \nQ 3600 544 3809 666 \nz\n\" transform=\"scale(0.015625)\"/>\n      </defs>\n      <use xlink:href=\"#DejaVuSans-47\"/>\n      <use xlink:href=\"#DejaVuSans-6f\" x=\"77.490234\"/>\n      <use xlink:href=\"#DejaVuSans-6c\" x=\"138.671875\"/>\n      <use xlink:href=\"#DejaVuSans-64\" x=\"166.455078\"/>\n      <use xlink:href=\"#DejaVuSans-20\" x=\"229.931641\"/>\n      <use xlink:href=\"#DejaVuSans-4c\" x=\"261.71875\"/>\n      <use xlink:href=\"#DejaVuSans-61\" x=\"317.431641\"/>\n      <use xlink:href=\"#DejaVuSans-62\" x=\"378.710938\"/>\n      <use xlink:href=\"#DejaVuSans-65\" x=\"442.1875\"/>\n      <use xlink:href=\"#DejaVuSans-6c\" x=\"503.710938\"/>\n     </g>\n    </g>\n   </g>\n   <g id=\"QuadMesh_1\">\n    <path d=\"M 127.873613 37.837812 \nL 306.433613 37.837812 \nL 306.433613 204.157812 \nL 127.873613 204.157812 \nL 127.873613 37.837812 \n\" clip-path=\"url(#p226cdd0b2d)\" style=\"fill: #f6b18b\"/>\n    <path d=\"M 306.433613 37.837812 \nL 484.993613 37.837812 \nL 484.993613 204.157812 \nL 306.433613 204.157812 \nL 306.433613 37.837812 \n\" clip-path=\"url(#p226cdd0b2d)\" style=\"fill: #381a40\"/>\n    <path d=\"M 127.873613 204.157812 \nL 306.433613 204.157812 \nL 306.433613 370.477812 \nL 127.873613 370.477812 \nL 127.873613 204.157812 \n\" clip-path=\"url(#p226cdd0b2d)\" style=\"fill: #03051a\"/>\n    <path d=\"M 306.433613 204.157812 \nL 484.993613 204.157812 \nL 484.993613 370.477812 \nL 306.433613 370.477812 \nL 306.433613 204.157812 \n\" clip-path=\"url(#p226cdd0b2d)\" style=\"fill: #faebdd\"/>\n   </g>\n   <g id=\"text_7\">\n    <!-- 72.96% -->\n    <g style=\"fill: #262626\" transform=\"translate(191.988019 124.640188) scale(0.132 -0.132)\">\n     <defs>\n      <path id=\"DejaVuSans-37\" d=\"M 525 4666 \nL 3525 4666 \nL 3525 4397 \nL 1831 0 \nL 1172 0 \nL 2766 4134 \nL 525 4134 \nL 525 4666 \nz\n\" transform=\"scale(0.015625)\"/>\n      <path id=\"DejaVuSans-32\" d=\"M 1228 531 \nL 3431 531 \nL 3431 0 \nL 469 0 \nL 469 531 \nQ 828 903 1448 1529 \nQ 2069 2156 2228 2338 \nQ 2531 2678 2651 2914 \nQ 2772 3150 2772 3378 \nQ 2772 3750 2511 3984 \nQ 2250 4219 1831 4219 \nQ 1534 4219 1204 4116 \nQ 875 4013 500 3803 \nL 500 4441 \nQ 881 4594 1212 4672 \nQ 1544 4750 1819 4750 \nQ 2544 4750 2975 4387 \nQ 3406 4025 3406 3419 \nQ 3406 3131 3298 2873 \nQ 3191 2616 2906 2266 \nQ 2828 2175 2409 1742 \nQ 1991 1309 1228 531 \nz\n\" transform=\"scale(0.015625)\"/>\n      <path id=\"DejaVuSans-2e\" d=\"M 684 794 \nL 1344 794 \nL 1344 0 \nL 684 0 \nL 684 794 \nz\n\" transform=\"scale(0.015625)\"/>\n      <path id=\"DejaVuSans-39\" d=\"M 703 97 \nL 703 672 \nQ 941 559 1184 500 \nQ 1428 441 1663 441 \nQ 2288 441 2617 861 \nQ 2947 1281 2994 2138 \nQ 2813 1869 2534 1725 \nQ 2256 1581 1919 1581 \nQ 1219 1581 811 2004 \nQ 403 2428 403 3163 \nQ 403 3881 828 4315 \nQ 1253 4750 1959 4750 \nQ 2769 4750 3195 4129 \nQ 3622 3509 3622 2328 \nQ 3622 1225 3098 567 \nQ 2575 -91 1691 -91 \nQ 1453 -91 1209 -44 \nQ 966 3 703 97 \nz\nM 1959 2075 \nQ 2384 2075 2632 2365 \nQ 2881 2656 2881 3163 \nQ 2881 3666 2632 3958 \nQ 2384 4250 1959 4250 \nQ 1534 4250 1286 3958 \nQ 1038 3666 1038 3163 \nQ 1038 2656 1286 2365 \nQ 1534 2075 1959 2075 \nz\n\" transform=\"scale(0.015625)\"/>\n      <path id=\"DejaVuSans-36\" d=\"M 2113 2584 \nQ 1688 2584 1439 2293 \nQ 1191 2003 1191 1497 \nQ 1191 994 1439 701 \nQ 1688 409 2113 409 \nQ 2538 409 2786 701 \nQ 3034 994 3034 1497 \nQ 3034 2003 2786 2293 \nQ 2538 2584 2113 2584 \nz\nM 3366 4563 \nL 3366 3988 \nQ 3128 4100 2886 4159 \nQ 2644 4219 2406 4219 \nQ 1781 4219 1451 3797 \nQ 1122 3375 1075 2522 \nQ 1259 2794 1537 2939 \nQ 1816 3084 2150 3084 \nQ 2853 3084 3261 2657 \nQ 3669 2231 3669 1497 \nQ 3669 778 3244 343 \nQ 2819 -91 2113 -91 \nQ 1303 -91 875 529 \nQ 447 1150 447 2328 \nQ 447 3434 972 4092 \nQ 1497 4750 2381 4750 \nQ 2619 4750 2861 4703 \nQ 3103 4656 3366 4563 \nz\n\" transform=\"scale(0.015625)\"/>\n      <path id=\"DejaVuSans-25\" d=\"M 4653 2053 \nQ 4381 2053 4226 1822 \nQ 4072 1591 4072 1178 \nQ 4072 772 4226 539 \nQ 4381 306 4653 306 \nQ 4919 306 5073 539 \nQ 5228 772 5228 1178 \nQ 5228 1588 5073 1820 \nQ 4919 2053 4653 2053 \nz\nM 4653 2450 \nQ 5147 2450 5437 2106 \nQ 5728 1763 5728 1178 \nQ 5728 594 5436 251 \nQ 5144 -91 4653 -91 \nQ 4153 -91 3862 251 \nQ 3572 594 3572 1178 \nQ 3572 1766 3864 2108 \nQ 4156 2450 4653 2450 \nz\nM 1428 4353 \nQ 1159 4353 1004 4120 \nQ 850 3888 850 3481 \nQ 850 3069 1003 2837 \nQ 1156 2606 1428 2606 \nQ 1700 2606 1854 2837 \nQ 2009 3069 2009 3481 \nQ 2009 3884 1853 4118 \nQ 1697 4353 1428 4353 \nz\nM 4250 4750 \nL 4750 4750 \nL 1831 -91 \nL 1331 -91 \nL 4250 4750 \nz\nM 1428 4750 \nQ 1922 4750 2215 4408 \nQ 2509 4066 2509 3481 \nQ 2509 2891 2217 2550 \nQ 1925 2209 1428 2209 \nQ 931 2209 642 2551 \nQ 353 2894 353 3481 \nQ 353 4063 643 4406 \nQ 934 4750 1428 4750 \nz\n\" transform=\"scale(0.015625)\"/>\n     </defs>\n     <use xlink:href=\"#DejaVuSans-37\"/>\n     <use xlink:href=\"#DejaVuSans-32\" x=\"63.623047\"/>\n     <use xlink:href=\"#DejaVuSans-2e\" x=\"127.246094\"/>\n     <use xlink:href=\"#DejaVuSans-39\" x=\"159.033203\"/>\n     <use xlink:href=\"#DejaVuSans-36\" x=\"222.65625\"/>\n     <use xlink:href=\"#DejaVuSans-25\" x=\"286.279297\"/>\n    </g>\n   </g>\n   <g id=\"text_8\">\n    <!-- 27.04% -->\n    <g style=\"fill: #ffffff\" transform=\"translate(370.548019 124.640188) scale(0.132 -0.132)\">\n     <defs>\n      <path id=\"DejaVuSans-30\" d=\"M 2034 4250 \nQ 1547 4250 1301 3770 \nQ 1056 3291 1056 2328 \nQ 1056 1369 1301 889 \nQ 1547 409 2034 409 \nQ 2525 409 2770 889 \nQ 3016 1369 3016 2328 \nQ 3016 3291 2770 3770 \nQ 2525 4250 2034 4250 \nz\nM 2034 4750 \nQ 2819 4750 3233 4129 \nQ 3647 3509 3647 2328 \nQ 3647 1150 3233 529 \nQ 2819 -91 2034 -91 \nQ 1250 -91 836 529 \nQ 422 1150 422 2328 \nQ 422 3509 836 4129 \nQ 1250 4750 2034 4750 \nz\n\" transform=\"scale(0.015625)\"/>\n      <path id=\"DejaVuSans-34\" d=\"M 2419 4116 \nL 825 1625 \nL 2419 1625 \nL 2419 4116 \nz\nM 2253 4666 \nL 3047 4666 \nL 3047 1625 \nL 3713 1625 \nL 3713 1100 \nL 3047 1100 \nL 3047 0 \nL 2419 0 \nL 2419 1100 \nL 313 1100 \nL 313 1709 \nL 2253 4666 \nz\n\" transform=\"scale(0.015625)\"/>\n     </defs>\n     <use xlink:href=\"#DejaVuSans-32\"/>\n     <use xlink:href=\"#DejaVuSans-37\" x=\"63.623047\"/>\n     <use xlink:href=\"#DejaVuSans-2e\" x=\"127.246094\"/>\n     <use xlink:href=\"#DejaVuSans-30\" x=\"159.033203\"/>\n     <use xlink:href=\"#DejaVuSans-34\" x=\"222.65625\"/>\n     <use xlink:href=\"#DejaVuSans-25\" x=\"286.279297\"/>\n    </g>\n   </g>\n   <g id=\"text_9\">\n    <!-- 17.06% -->\n    <g style=\"fill: #ffffff\" transform=\"translate(191.988019 290.960187) scale(0.132 -0.132)\">\n     <defs>\n      <path id=\"DejaVuSans-31\" d=\"M 794 531 \nL 1825 531 \nL 1825 4091 \nL 703 3866 \nL 703 4441 \nL 1819 4666 \nL 2450 4666 \nL 2450 531 \nL 3481 531 \nL 3481 0 \nL 794 0 \nL 794 531 \nz\n\" transform=\"scale(0.015625)\"/>\n     </defs>\n     <use xlink:href=\"#DejaVuSans-31\"/>\n     <use xlink:href=\"#DejaVuSans-37\" x=\"63.623047\"/>\n     <use xlink:href=\"#DejaVuSans-2e\" x=\"127.246094\"/>\n     <use xlink:href=\"#DejaVuSans-30\" x=\"159.033203\"/>\n     <use xlink:href=\"#DejaVuSans-36\" x=\"222.65625\"/>\n     <use xlink:href=\"#DejaVuSans-25\" x=\"286.279297\"/>\n    </g>\n   </g>\n   <g id=\"text_10\">\n    <!-- 82.94% -->\n    <g style=\"fill: #262626\" transform=\"translate(370.548019 290.960187) scale(0.132 -0.132)\">\n     <defs>\n      <path id=\"DejaVuSans-38\" d=\"M 2034 2216 \nQ 1584 2216 1326 1975 \nQ 1069 1734 1069 1313 \nQ 1069 891 1326 650 \nQ 1584 409 2034 409 \nQ 2484 409 2743 651 \nQ 3003 894 3003 1313 \nQ 3003 1734 2745 1975 \nQ 2488 2216 2034 2216 \nz\nM 1403 2484 \nQ 997 2584 770 2862 \nQ 544 3141 544 3541 \nQ 544 4100 942 4425 \nQ 1341 4750 2034 4750 \nQ 2731 4750 3128 4425 \nQ 3525 4100 3525 3541 \nQ 3525 3141 3298 2862 \nQ 3072 2584 2669 2484 \nQ 3125 2378 3379 2068 \nQ 3634 1759 3634 1313 \nQ 3634 634 3220 271 \nQ 2806 -91 2034 -91 \nQ 1263 -91 848 271 \nQ 434 634 434 1313 \nQ 434 1759 690 2068 \nQ 947 2378 1403 2484 \nz\nM 1172 3481 \nQ 1172 3119 1398 2916 \nQ 1625 2713 2034 2713 \nQ 2441 2713 2670 2916 \nQ 2900 3119 2900 3481 \nQ 2900 3844 2670 4047 \nQ 2441 4250 2034 4250 \nQ 1625 4250 1398 4047 \nQ 1172 3844 1172 3481 \nz\n\" transform=\"scale(0.015625)\"/>\n     </defs>\n     <use xlink:href=\"#DejaVuSans-38\"/>\n     <use xlink:href=\"#DejaVuSans-32\" x=\"63.623047\"/>\n     <use xlink:href=\"#DejaVuSans-2e\" x=\"127.246094\"/>\n     <use xlink:href=\"#DejaVuSans-39\" x=\"159.033203\"/>\n     <use xlink:href=\"#DejaVuSans-34\" x=\"222.65625\"/>\n     <use xlink:href=\"#DejaVuSans-25\" x=\"286.279297\"/>\n    </g>\n   </g>\n   <g id=\"text_11\">\n    <!-- Confusion Matrix -->\n    <g style=\"fill: #262626\" transform=\"translate(247.351425 17.837812) scale(0.14 -0.14)\">\n     <defs>\n      <path id=\"DejaVuSans-43\" d=\"M 4122 4306 \nL 4122 3641 \nQ 3803 3938 3442 4084 \nQ 3081 4231 2675 4231 \nQ 1875 4231 1450 3742 \nQ 1025 3253 1025 2328 \nQ 1025 1406 1450 917 \nQ 1875 428 2675 428 \nQ 3081 428 3442 575 \nQ 3803 722 4122 1019 \nL 4122 359 \nQ 3791 134 3420 21 \nQ 3050 -91 2638 -91 \nQ 1578 -91 968 557 \nQ 359 1206 359 2328 \nQ 359 3453 968 4101 \nQ 1578 4750 2638 4750 \nQ 3056 4750 3426 4639 \nQ 3797 4528 4122 4306 \nz\n\" transform=\"scale(0.015625)\"/>\n      <path id=\"DejaVuSans-75\" d=\"M 544 1381 \nL 544 3500 \nL 1119 3500 \nL 1119 1403 \nQ 1119 906 1312 657 \nQ 1506 409 1894 409 \nQ 2359 409 2629 706 \nQ 2900 1003 2900 1516 \nL 2900 3500 \nL 3475 3500 \nL 3475 0 \nL 2900 0 \nL 2900 538 \nQ 2691 219 2414 64 \nQ 2138 -91 1772 -91 \nQ 1169 -91 856 284 \nQ 544 659 544 1381 \nz\nM 1991 3584 \nL 1991 3584 \nz\n\" transform=\"scale(0.015625)\"/>\n      <path id=\"DejaVuSans-73\" d=\"M 2834 3397 \nL 2834 2853 \nQ 2591 2978 2328 3040 \nQ 2066 3103 1784 3103 \nQ 1356 3103 1142 2972 \nQ 928 2841 928 2578 \nQ 928 2378 1081 2264 \nQ 1234 2150 1697 2047 \nL 1894 2003 \nQ 2506 1872 2764 1633 \nQ 3022 1394 3022 966 \nQ 3022 478 2636 193 \nQ 2250 -91 1575 -91 \nQ 1294 -91 989 -36 \nQ 684 19 347 128 \nL 347 722 \nQ 666 556 975 473 \nQ 1284 391 1588 391 \nQ 1994 391 2212 530 \nQ 2431 669 2431 922 \nQ 2431 1156 2273 1281 \nQ 2116 1406 1581 1522 \nL 1381 1569 \nQ 847 1681 609 1914 \nQ 372 2147 372 2553 \nQ 372 3047 722 3315 \nQ 1072 3584 1716 3584 \nQ 2034 3584 2315 3537 \nQ 2597 3491 2834 3397 \nz\n\" transform=\"scale(0.015625)\"/>\n      <path id=\"DejaVuSans-4d\" d=\"M 628 4666 \nL 1569 4666 \nL 2759 1491 \nL 3956 4666 \nL 4897 4666 \nL 4897 0 \nL 4281 0 \nL 4281 4097 \nL 3078 897 \nL 2444 897 \nL 1241 4097 \nL 1241 0 \nL 628 0 \nL 628 4666 \nz\n\" transform=\"scale(0.015625)\"/>\n      <path id=\"DejaVuSans-78\" d=\"M 3513 3500 \nL 2247 1797 \nL 3578 0 \nL 2900 0 \nL 1881 1375 \nL 863 0 \nL 184 0 \nL 1544 1831 \nL 300 3500 \nL 978 3500 \nL 1906 2253 \nL 2834 3500 \nL 3513 3500 \nz\n\" transform=\"scale(0.015625)\"/>\n     </defs>\n     <use xlink:href=\"#DejaVuSans-43\"/>\n     <use xlink:href=\"#DejaVuSans-6f\" x=\"69.824219\"/>\n     <use xlink:href=\"#DejaVuSans-6e\" x=\"131.005859\"/>\n     <use xlink:href=\"#DejaVuSans-66\" x=\"194.384766\"/>\n     <use xlink:href=\"#DejaVuSans-75\" x=\"229.589844\"/>\n     <use xlink:href=\"#DejaVuSans-73\" x=\"292.96875\"/>\n     <use xlink:href=\"#DejaVuSans-69\" x=\"345.068359\"/>\n     <use xlink:href=\"#DejaVuSans-6f\" x=\"372.851562\"/>\n     <use xlink:href=\"#DejaVuSans-6e\" x=\"434.033203\"/>\n     <use xlink:href=\"#DejaVuSans-20\" x=\"497.412109\"/>\n     <use xlink:href=\"#DejaVuSans-4d\" x=\"529.199219\"/>\n     <use xlink:href=\"#DejaVuSans-61\" x=\"615.478516\"/>\n     <use xlink:href=\"#DejaVuSans-74\" x=\"676.757812\"/>\n     <use xlink:href=\"#DejaVuSans-72\" x=\"715.966797\"/>\n     <use xlink:href=\"#DejaVuSans-69\" x=\"757.080078\"/>\n     <use xlink:href=\"#DejaVuSans-78\" x=\"784.863281\"/>\n    </g>\n   </g>\n  </g>\n  <g id=\"axes_2\">\n   <g id=\"patch_3\">\n    <path d=\"M 507.313613 370.477812 \nL 523.945613 370.477812 \nL 523.945613 37.837812 \nL 507.313613 37.837812 \nz\n\" style=\"fill: #eaeaf2\"/>\n   </g>\n   <g id=\"matplotlib.axis_3\"/>\n   <g id=\"matplotlib.axis_4\">\n    <g id=\"ytick_3\">\n     <g id=\"line2d_5\">\n      <defs>\n       <path id=\"m1fed66f989\" d=\"M 0 0 \nL 6 0 \n\" style=\"stroke: #262626; stroke-width: 1.25\"/>\n      </defs>\n      <g>\n       <use xlink:href=\"#m1fed66f989\" x=\"523.945613\" y=\"355.633222\" style=\"fill: #262626; stroke: #262626; stroke-width: 1.25\"/>\n      </g>\n     </g>\n     <g id=\"text_12\">\n      <!-- 20 -->\n      <g style=\"fill: #262626\" transform=\"translate(533.445613 360.230277) scale(0.121 -0.121)\">\n       <use xlink:href=\"#DejaVuSans-32\"/>\n       <use xlink:href=\"#DejaVuSans-30\" x=\"63.623047\"/>\n      </g>\n     </g>\n    </g>\n    <g id=\"ytick_4\">\n     <g id=\"line2d_6\">\n      <g>\n       <use xlink:href=\"#m1fed66f989\" x=\"523.945613\" y=\"305.141419\" style=\"fill: #262626; stroke: #262626; stroke-width: 1.25\"/>\n      </g>\n     </g>\n     <g id=\"text_13\">\n      <!-- 30 -->\n      <g style=\"fill: #262626\" transform=\"translate(533.445613 309.738474) scale(0.121 -0.121)\">\n       <defs>\n        <path id=\"DejaVuSans-33\" d=\"M 2597 2516 \nQ 3050 2419 3304 2112 \nQ 3559 1806 3559 1356 \nQ 3559 666 3084 287 \nQ 2609 -91 1734 -91 \nQ 1441 -91 1130 -33 \nQ 819 25 488 141 \nL 488 750 \nQ 750 597 1062 519 \nQ 1375 441 1716 441 \nQ 2309 441 2620 675 \nQ 2931 909 2931 1356 \nQ 2931 1769 2642 2001 \nQ 2353 2234 1838 2234 \nL 1294 2234 \nL 1294 2753 \nL 1863 2753 \nQ 2328 2753 2575 2939 \nQ 2822 3125 2822 3475 \nQ 2822 3834 2567 4026 \nQ 2313 4219 1838 4219 \nQ 1578 4219 1281 4162 \nQ 984 4106 628 3988 \nL 628 4550 \nQ 988 4650 1302 4700 \nQ 1616 4750 1894 4750 \nQ 2613 4750 3031 4423 \nQ 3450 4097 3450 3541 \nQ 3450 3153 3228 2886 \nQ 3006 2619 2597 2516 \nz\n\" transform=\"scale(0.015625)\"/>\n       </defs>\n       <use xlink:href=\"#DejaVuSans-33\"/>\n       <use xlink:href=\"#DejaVuSans-30\" x=\"63.623047\"/>\n      </g>\n     </g>\n    </g>\n    <g id=\"ytick_5\">\n     <g id=\"line2d_7\">\n      <g>\n       <use xlink:href=\"#m1fed66f989\" x=\"523.945613\" y=\"254.649616\" style=\"fill: #262626; stroke: #262626; stroke-width: 1.25\"/>\n      </g>\n     </g>\n     <g id=\"text_14\">\n      <!-- 40 -->\n      <g style=\"fill: #262626\" transform=\"translate(533.445613 259.24667) scale(0.121 -0.121)\">\n       <use xlink:href=\"#DejaVuSans-34\"/>\n       <use xlink:href=\"#DejaVuSans-30\" x=\"63.623047\"/>\n      </g>\n     </g>\n    </g>\n    <g id=\"ytick_6\">\n     <g id=\"line2d_8\">\n      <g>\n       <use xlink:href=\"#m1fed66f989\" x=\"523.945613\" y=\"204.157813\" style=\"fill: #262626; stroke: #262626; stroke-width: 1.25\"/>\n      </g>\n     </g>\n     <g id=\"text_15\">\n      <!-- 50 -->\n      <g style=\"fill: #262626\" transform=\"translate(533.445613 208.754867) scale(0.121 -0.121)\">\n       <defs>\n        <path id=\"DejaVuSans-35\" d=\"M 691 4666 \nL 3169 4666 \nL 3169 4134 \nL 1269 4134 \nL 1269 2991 \nQ 1406 3038 1543 3061 \nQ 1681 3084 1819 3084 \nQ 2600 3084 3056 2656 \nQ 3513 2228 3513 1497 \nQ 3513 744 3044 326 \nQ 2575 -91 1722 -91 \nQ 1428 -91 1123 -41 \nQ 819 9 494 109 \nL 494 744 \nQ 775 591 1075 516 \nQ 1375 441 1709 441 \nQ 2250 441 2565 725 \nQ 2881 1009 2881 1497 \nQ 2881 1984 2565 2268 \nQ 2250 2553 1709 2553 \nQ 1456 2553 1204 2497 \nQ 953 2441 691 2322 \nL 691 4666 \nz\n\" transform=\"scale(0.015625)\"/>\n       </defs>\n       <use xlink:href=\"#DejaVuSans-35\"/>\n       <use xlink:href=\"#DejaVuSans-30\" x=\"63.623047\"/>\n      </g>\n     </g>\n    </g>\n    <g id=\"ytick_7\">\n     <g id=\"line2d_9\">\n      <g>\n       <use xlink:href=\"#m1fed66f989\" x=\"523.945613\" y=\"153.666009\" style=\"fill: #262626; stroke: #262626; stroke-width: 1.25\"/>\n      </g>\n     </g>\n     <g id=\"text_16\">\n      <!-- 60 -->\n      <g style=\"fill: #262626\" transform=\"translate(533.445613 158.263064) scale(0.121 -0.121)\">\n       <use xlink:href=\"#DejaVuSans-36\"/>\n       <use xlink:href=\"#DejaVuSans-30\" x=\"63.623047\"/>\n      </g>\n     </g>\n    </g>\n    <g id=\"ytick_8\">\n     <g id=\"line2d_10\">\n      <g>\n       <use xlink:href=\"#m1fed66f989\" x=\"523.945613\" y=\"103.174206\" style=\"fill: #262626; stroke: #262626; stroke-width: 1.25\"/>\n      </g>\n     </g>\n     <g id=\"text_17\">\n      <!-- 70 -->\n      <g style=\"fill: #262626\" transform=\"translate(533.445613 107.771261) scale(0.121 -0.121)\">\n       <use xlink:href=\"#DejaVuSans-37\"/>\n       <use xlink:href=\"#DejaVuSans-30\" x=\"63.623047\"/>\n      </g>\n     </g>\n    </g>\n    <g id=\"ytick_9\">\n     <g id=\"line2d_11\">\n      <g>\n       <use xlink:href=\"#m1fed66f989\" x=\"523.945613\" y=\"52.682403\" style=\"fill: #262626; stroke: #262626; stroke-width: 1.25\"/>\n      </g>\n     </g>\n     <g id=\"text_18\">\n      <!-- 80 -->\n      <g style=\"fill: #262626\" transform=\"translate(533.445613 57.279457) scale(0.121 -0.121)\">\n       <use xlink:href=\"#DejaVuSans-38\"/>\n       <use xlink:href=\"#DejaVuSans-30\" x=\"63.623047\"/>\n      </g>\n     </g>\n    </g>\n   </g>\n   <image xlink:href=\"data:image/png;base64,\niVBORw0KGgoAAAANSUhEUgAAABcAAAHOCAYAAABzbJLzAAACS0lEQVR4nO2dwW3DQAwEdbbSRPrv0ylA4+cGGGCmAIJY7vKks+Oc98/v5xpxn1Xl67pew9rXfc6u9zpH7nNpOx9qfr8aKLDtXKy5tvPX0C1mWbSdizXXLq7pSdQ+J7wDLURImnPxc3bN9yCKmBdXmlPxZCGyIpLmXLxHC8L7aJHmSCFCxAP1au7tfPkhVAc0khWRFhcXN1txR1ZEzPHfPs7taKCIOkQ71CFqoE+8A21xIb0TIYUISXMkzb8Vt8ri/bqyV/Pij8XNsuwoREhu4eINlPAOtPgj92v2F1xZ8QvFHxGHaHwS7fDuFu9Aiz8yvljIioB3oHWO3KfHOcDceYsL8LqlgSLrge5EL/6IeOVu3+Y+WisOi3sH2uJCtveKxyvLsHidI7mFi5tl0XY+PIoKETIO0fDCZW1Fa+fixzmv5sPO1bLsinsHWoiQqVsaKDIe6PAt12tFr+aFCFkPdFe8MxRZh2hWWyxLnSO5BfGuXPVW3BXPiohY82t5JeKVpc6JsRW1nU9PomQhsiJyn+GHc17NkwVZd27VPLd8KW6VxTzQOn+yvswZ/q6FVxZz57v6aY5MV65Ylkv7L4TEmms7P8PFJZalEBGdochU86yIeLdimiP5/FtxrSza3ygWay7uvDP0iXig4hvR3PLfxTuJELXm2s4LEVCIkDpHpvFPFiQrImn+/8UbKJLmiFfzZEHWX555z4qnOVKIEPNAxZpr4y/WvPg/6SRCChFSiJD2OeK14nrldiXyRG3F4v/EG/9pQr2yZEXEG/8/uQovW3ZD+3kAAAAASUVORK5CYII=\" id=\"imagede852123fb\" transform=\"scale(1 -1) translate(0 -332.64)\" x=\"507.6\" y=\"-37.44\" width=\"16.56\" height=\"332.64\"/>\n   <g id=\"LineCollection_1\"/>\n   <g id=\"patch_4\">\n    <path d=\"M 507.313613 370.477812 \nL 515.629613 370.477812 \nL 523.945613 370.477812 \nL 523.945613 37.837812 \nL 515.629613 37.837812 \nL 507.313613 37.837812 \nL 507.313613 370.477812 \nz\n\" style=\"fill: none\"/>\n   </g>\n  </g>\n </g>\n <defs>\n  <clipPath id=\"p226cdd0b2d\">\n   <rect x=\"127.873613\" y=\"37.837812\" width=\"357.12\" height=\"332.64\"/>\n  </clipPath>\n </defs>\n</svg>\n"
          },
          "metadata": {}
        }
      ]
    },
    {
      "cell_type": "code",
      "source": [
        "print(classification_report(best_model_true_labels,\n",
        "                                  best_model_predictions,\n",
        "                                  target_names=mapping.keys()))"
      ],
      "metadata": {
        "colab": {
          "base_uri": "https://localhost:8080/"
        },
        "id": "XeZFqjip47wl",
        "outputId": "56da73c5-1793-4f9a-bfdd-84142f38919e"
      },
      "execution_count": null,
      "outputs": [
        {
          "output_type": "stream",
          "name": "stdout",
          "text": [
            "                 precision    recall  f1-score   support\n",
            "\n",
            "    Informative       0.69      0.73      0.71       980\n",
            "Non-Informative       0.85      0.83      0.84      1870\n",
            "\n",
            "       accuracy                           0.80      2850\n",
            "      macro avg       0.77      0.78      0.78      2850\n",
            "   weighted avg       0.80      0.80      0.80      2850\n",
            "\n"
          ]
        }
      ]
    },
    {
      "cell_type": "markdown",
      "source": [
        "## The section below adds a custom classification layer on top of BERT embeddings"
      ],
      "metadata": {
        "id": "9ppLd2OGAvDv"
      }
    },
    {
      "cell_type": "code",
      "execution_count": null,
      "metadata": {
        "id": "Gh8Su-aVguj0"
      },
      "outputs": [],
      "source": [
        "# Next up, implement MLP\n",
        "from torch import nn"
      ]
    },
    {
      "cell_type": "code",
      "source": [
        "class CustomXLMRobertaClassification(nn.Module):\n",
        "    \"\"\"Head for sentence-level classification tasks.\"\"\"\n",
        "\n",
        "    def __init__(self, config, combined_feat_dim):\n",
        "      super().__init__()\n",
        "      self.dense = nn.Linear(combined_feat_dim, combined_feat_dim)\n",
        "      classifier_dropout = (\n",
        "          config.classifier_dropout if config.classifier_dropout is not None else config.hidden_dropout_prob\n",
        "      )\n",
        "      self.dropout = nn.Dropout(classifier_dropout)\n",
        "      self.out_proj = nn.Linear(combined_feat_dim, config.num_labels)\n",
        "      self.batch_norm = nn.BatchNorm1d(combined_feat_dim)\n",
        "\n",
        "    def forward(self, x, **kwargs):\n",
        "      # x = self.batch_norm(x)\n",
        "      x = self.dropout(x)\n",
        "      x = self.dense(x)\n",
        "      x = torch.relu(x)\n",
        "      x = self.dropout(x)\n",
        "      x = self.out_proj(x)\n",
        "      return x"
      ],
      "metadata": {
        "id": "fdmE83GhONdX"
      },
      "execution_count": null,
      "outputs": []
    },
    {
      "cell_type": "code",
      "source": [
        "def test_this(test = False):\n",
        "  if test == True:\n",
        "    to_print = (\"This is a true statement\")\n",
        "  print(to_print)"
      ],
      "metadata": {
        "id": "l29VATHmcO9J"
      },
      "execution_count": null,
      "outputs": []
    },
    {
      "cell_type": "code",
      "source": [
        "test_this(True)"
      ],
      "metadata": {
        "colab": {
          "base_uri": "https://localhost:8080/"
        },
        "id": "mQ9LqvK4chUZ",
        "outputId": "bbcedf63-0ebb-4ee7-a208-fa8fc9a6f1c6"
      },
      "execution_count": null,
      "outputs": [
        {
          "output_type": "stream",
          "name": "stdout",
          "text": [
            "This is a true statement\n"
          ]
        }
      ]
    },
    {
      "cell_type": "code",
      "execution_count": null,
      "metadata": {
        "id": "79LQdFL7X5-8"
      },
      "outputs": [],
      "source": [
        "from torch import nn\n",
        "from transformers import XLMRobertaForSequenceClassification\n",
        "from torch.nn import CrossEntropyLoss, MSELoss\n",
        "\n",
        "class BertConcatFeatures(XLMRobertaForSequenceClassification):\n",
        "\n",
        "  def __init__(self, config):\n",
        "    #BERT SETUP - calls the constructor for BertForSequenceClassification to\n",
        "    # do the initial configuration - going to do all the BERT related setup.\n",
        "    # The resulting BERT model is stored in `self.bert`.\n",
        "    super().__init__(config)\n",
        "    # Feature combination\n",
        "    # Store the number of labels, which tells us whether this is a classification\n",
        "    # or a regression task\n",
        "    self.num_labels = config.num_labels\n",
        "    # Calculate the combined vector length - CLS embedding + additional features\n",
        "    # combined_feat_dim = config.text_feat_dim + config.context_feat_dim + config.numerical_feat_dim\n",
        "\n",
        "    combined_feat_dim = config.text_feat_dim  + config.numerical_feat_dim\n",
        "\n",
        "    # # Create a batch normalzier for the numerical features\n",
        "    self.num_bn = nn.BatchNorm1d(config.numerical_feat_dim)\n",
        "\n",
        "    # MLP Setup - specify the number of layers and neurons in each layer\n",
        "    # Dimensions of each MLP layer\n",
        "    dims = []\n",
        "    # Starting with the combined feature vector length...\n",
        "    dim = combined_feat_dim\n",
        "    while True:\n",
        "\n",
        "      #Divide by 4 and truncate to an interger\n",
        "      dim = dim // 4\n",
        "      # If the resulting later size would be smaller than the number of outpurs,\n",
        "      # then we're done\n",
        "      if dim <= self.num_labels:\n",
        "        break\n",
        "      #Otherise, store this as the next layer size\n",
        "      dims.append(int(dim))\n",
        "\n",
        "    # Print out the resulting the MLP\n",
        "    print('MLP Layer sizes:')\n",
        "    print(' Input:', combined_feat_dim)\n",
        "    print(' Output:', self.num_labels)\n",
        "    # Construct the MLP, specifying the number of inputs, outputs and the layer sizes\n",
        "    self.dropout = nn.Dropout(config.hidden_dropout_prob)\n",
        "    self.linear_classifier = nn.Linear(combined_feat_dim, config.num_labels)\n",
        "    self.mlp = CustomXLMRobertaClassification(config, combined_feat_dim)\n",
        "\n",
        "  def forward(\n",
        "      self,\n",
        "      input_ids=None,\n",
        "      attention_mask=None,\n",
        "      token_type_ids=None,\n",
        "      position_ids=None,\n",
        "      head_mask=None,\n",
        "      inputs_embeds=None,\n",
        "      labels = None,\n",
        "      class_weights=None,\n",
        "      output_attentions=None,\n",
        "      output_hidden_states=None,\n",
        "      # context_input_ids = None,\n",
        "      # context_attention_mask = None,\n",
        "      # context_token_type_ids = None,\n",
        "      # context_position_ids = None,\n",
        "      # context_head_mask = None,\n",
        "      # context_inputs_embeds = None,\n",
        "      # context_output_attentions = None,\n",
        "      # context_output_hidden_states = None,\n",
        "      numerical_feats=None,\n",
        "      concat_context=False,\n",
        "  ):\n",
        "\n",
        "    # print(\"We are here --> does it even get here?\")\n",
        "\n",
        "    #Send text throught the BERT model\n",
        "    outputs = self.roberta(\n",
        "        input_ids,\n",
        "        attention_mask=attention_mask,\n",
        "        token_type_ids=token_type_ids,\n",
        "        position_ids=position_ids,\n",
        "        head_mask=head_mask,\n",
        "        inputs_embeds=inputs_embeds,\n",
        "        output_attentions=output_attentions,\n",
        "        output_hidden_states=output_hidden_states\n",
        "    )\n",
        "\n",
        "    # if concat_context == True:\n",
        "    #   # Send context through BERT model as well\n",
        "    #   context_outputs = self.roberta(\n",
        "    #       context_input_ids,\n",
        "    #       attention_mask=context_attention_mask,\n",
        "    #       token_type_ids=context_token_type_ids,\n",
        "    #       position_ids=context_position_ids,\n",
        "    #       head_mask=context_head_mask,\n",
        "    #       inputs_embeds=context_inputs_embeds,\n",
        "    #       output_attentions=context_output_attentions,\n",
        "    #       output_hidden_states=context_output_hidden_states\n",
        "    #   )\n",
        "\n",
        "    #   context_output = context_outputs[0]\n",
        "    #   context_cls = context_output[:, 0, :]\n",
        "    #   context_cls = self.dropout(context_cls)\n",
        "\n",
        "    # print(\"Are wee even here?\")\n",
        "    # Take the CLS embedding\n",
        "    sequence_output = outputs[0]\n",
        "    cls = sequence_output[:, 0, :]\n",
        "    cls = self.dropout(cls)\n",
        "\n",
        "    # print(\"We are here --> debugging\")\n",
        "    #Concatenate features\n",
        "    # Apply batch normalization to the numerical features\n",
        "    numerical_feats = numerical_feats.float()\n",
        "\n",
        "    # if concat_context == True:\n",
        "    #   combined_feats = torch.cat((cls, context_cls, numerical_feats), dim=1)\n",
        "\n",
        "    # print(\"Is the problem coming from the combination?\")\n",
        "    #Simply concatenate everything into one vector\n",
        "    combined_feats = torch.cat((cls, numerical_feats), dim=1)\n",
        "\n",
        "    # Output classifier/regression\n",
        "    logits = self.linear_classifier(combined_feats)\n",
        "\n",
        "    if type(logits) is tuple:\n",
        "      logits, classifier_layer_outputs = logits[0], logits[1]\n",
        "    else:\n",
        "      classifier_layer_outputs = [cls, logits]\n",
        "\n",
        "    # Calculate loss\n",
        "    if labels is not None:\n",
        "      # Regression\n",
        "      if self.num_labels == 1:\n",
        "        loss_fct = MSELoss()\n",
        "        labels = labels.float()\n",
        "        loss = loss_fct(logits.view(-1), labels.view(-1))\n",
        "      else:\n",
        "        # print(\"Is the problem coming from cross entropy loss calculation?\")\n",
        "        loss_fct = CrossEntropyLoss(weight=class_weights, reduction='mean')\n",
        "        labels = labels.long()\n",
        "        loss = loss_fct(logits.view(-1, self.num_labels), labels.view(-1))\n",
        "    else:\n",
        "      loss = None\n",
        "\n",
        "    # print(\"I'd laugh if we actually get here\")\n",
        "    results = {\n",
        "        'loss': loss,\n",
        "        'logits': logits,\n",
        "        'classifier_layer_outputs': classifier_layer_outputs\n",
        "    }\n",
        "\n",
        "    return results"
      ]
    },
    {
      "cell_type": "code",
      "execution_count": null,
      "metadata": {
        "id": "H0RsVisieFGU",
        "colab": {
          "base_uri": "https://localhost:8080/"
        },
        "outputId": "e19759be-84c1-45d9-cb70-8645df58ebb1"
      },
      "outputs": [
        {
          "output_type": "stream",
          "name": "stderr",
          "text": [
            "You are using a model of type xlm-roberta to instantiate a model of type bert. This is not supported for all configurations of models and can yield errors.\n"
          ]
        }
      ],
      "source": [
        "from transformers import BertConfig\n",
        "\n",
        "config = BertConfig.from_pretrained('xlm-roberta-base', num_labels=2)"
      ]
    },
    {
      "cell_type": "code",
      "execution_count": null,
      "metadata": {
        "id": "1uc8ZsHOehd8"
      },
      "outputs": [],
      "source": [
        "config.numerical_feat_dim = 6"
      ]
    },
    {
      "cell_type": "code",
      "execution_count": null,
      "metadata": {
        "id": "DkxbMclVex7S"
      },
      "outputs": [],
      "source": [
        "config.text_feat_dim = config.hidden_size"
      ]
    },
    {
      "cell_type": "code",
      "source": [
        "config.context_feat_dim = config.hidden_size"
      ],
      "metadata": {
        "id": "cIcg7AnhiDUN"
      },
      "execution_count": null,
      "outputs": []
    },
    {
      "cell_type": "code",
      "execution_count": null,
      "metadata": {
        "colab": {
          "base_uri": "https://localhost:8080/"
        },
        "id": "_GaHPY6We1h-",
        "outputId": "085e4bbf-f529-4cb3-e93d-700cdc68273e"
      },
      "outputs": [
        {
          "output_type": "stream",
          "name": "stderr",
          "text": [
            "Some weights of the model checkpoint at xlm-roberta-base were not used when initializing BertConcatFeatures: ['lm_head.layer_norm.bias', 'lm_head.bias', 'roberta.pooler.dense.bias', 'lm_head.layer_norm.weight', 'lm_head.dense.weight', 'lm_head.dense.bias', 'roberta.pooler.dense.weight']\n",
            "- This IS expected if you are initializing BertConcatFeatures from the checkpoint of a model trained on another task or with another architecture (e.g. initializing a BertForSequenceClassification model from a BertForPreTraining model).\n",
            "- This IS NOT expected if you are initializing BertConcatFeatures from the checkpoint of a model that you expect to be exactly identical (initializing a BertForSequenceClassification model from a BertForSequenceClassification model).\n",
            "Some weights of BertConcatFeatures were not initialized from the model checkpoint at xlm-roberta-base and are newly initialized: ['mlp.batch_norm.weight', 'num_bn.running_mean', 'linear_classifier.bias', 'num_bn.bias', 'num_bn.weight', 'num_bn.running_var', 'num_bn.num_batches_tracked', 'mlp.out_proj.bias', 'mlp.dense.weight', 'mlp.batch_norm.running_var', 'classifier.dense.bias', 'mlp.out_proj.weight', 'linear_classifier.weight', 'classifier.dense.weight', 'classifier.out_proj.weight', 'mlp.dense.bias', 'mlp.batch_norm.running_mean', 'mlp.batch_norm.bias', 'classifier.out_proj.bias', 'mlp.batch_norm.num_batches_tracked']\n",
            "You should probably TRAIN this model on a down-stream task to be able to use it for predictions and inference.\n"
          ]
        },
        {
          "output_type": "stream",
          "name": "stdout",
          "text": [
            "MLP Layer sizes:\n",
            " Input: 774\n",
            " Output: 2\n"
          ]
        }
      ],
      "source": [
        "model = BertConcatFeatures.from_pretrained(\n",
        "    'xlm-roberta-base',\n",
        "    config = config\n",
        ")"
      ]
    },
    {
      "cell_type": "code",
      "source": [
        "print('Loading model to GPU...')\n",
        "\n",
        "# Connect to the GPU.\n",
        "device = torch.device('cuda')\n",
        "\n",
        "# Report what GPU we were granted.\n",
        "print('  GPU:', torch.cuda.get_device_name(0))\n",
        "\n",
        "# Copy the initial model weights to the GPU.\n",
        "desc = model.to(device)\n",
        "\n",
        "print('DONE.')"
      ],
      "metadata": {
        "colab": {
          "base_uri": "https://localhost:8080/"
        },
        "id": "csKpJ979gkI8",
        "outputId": "f27bc495-cd5e-475f-8423-0494b2f1f3b3"
      },
      "execution_count": null,
      "outputs": [
        {
          "output_type": "stream",
          "name": "stdout",
          "text": [
            "Loading model to GPU...\n",
            "  GPU: NVIDIA A100-SXM4-40GB\n",
            "DONE.\n"
          ]
        }
      ]
    },
    {
      "cell_type": "code",
      "execution_count": null,
      "metadata": {
        "id": "_waWqyztfFsb"
      },
      "outputs": [],
      "source": [
        "batch_size = 32\n",
        "learning_rate = 2e-5\n",
        "epochs = 3"
      ]
    },
    {
      "cell_type": "code",
      "execution_count": null,
      "metadata": {
        "id": "kFyB9DVrf3hB"
      },
      "outputs": [],
      "source": [
        "def tokenize_with_numerical(sentences, labels, numerical_feats):\n",
        "  # Tokenize all of the sentences and map the tokens to thier word IDs.\n",
        "  input_ids = []\n",
        "  attention_masks = []\n",
        "\n",
        "  # For every sentence...\n",
        "  for sent in sentences:\n",
        "      # `encode_plus` will:\n",
        "      #   (1) Tokenize the sentence.\n",
        "      #   (2) Prepend the `[CLS]` token to the start.\n",
        "      #   (3) Append the `[SEP]` token to the end.\n",
        "      #   (4) Map tokens to their IDs.\n",
        "      #   (5) Pad or truncate the sentence to `max_length`\n",
        "      #   (6) Create attention masks for [PAD] tokens.\n",
        "      encoded_dict = tokenizer.encode_plus(\n",
        "                          sent,                      # Sentence to encode.\n",
        "                          add_special_tokens = True, # Add '[CLS]' and '[SEP]'\n",
        "                          max_length = 300,           # Pad & truncate all sentences.\n",
        "                          pad_to_max_length = True,\n",
        "                          truncation_strategy='only_first',\n",
        "                          return_attention_mask = True,   # Construct attn. masks.\n",
        "                          return_tensors = 'pt',     # Return pytorch tensors.\n",
        "                    )\n",
        "\n",
        "      # Add the encoded sentence to the list.\n",
        "      input_ids.append(encoded_dict['input_ids'])\n",
        "\n",
        "      # And its attention mask (simply differentiates padding from non-padding).\n",
        "      attention_masks.append(encoded_dict['attention_mask'])\n",
        "\n",
        "  # Convert the lists into tensors.\n",
        "  input_ids = torch.cat(input_ids, dim=0)\n",
        "  numerical_feats = torch.tensor(numerical_feats)\n",
        "  attention_masks = torch.cat(attention_masks, dim=0)\n",
        "  labels = torch.tensor(labels)\n",
        "\n",
        "  # # Print sentence 0, now as a list of IDs.\n",
        "  # print('Original: ', sentences[0])\n",
        "  # print('Token IDs:', input_ids[0])\n",
        "\n",
        "  return input_ids, numerical_feats, attention_masks, labels"
      ]
    },
    {
      "cell_type": "code",
      "source": [
        "def tokenize_context(sentences):\n",
        "  # Tokenize all of the sentences and map the tokens to thier word IDs.\n",
        "  input_ids = []\n",
        "  attention_masks = []\n",
        "\n",
        "  # For every sentence...\n",
        "  for sent in sentences:\n",
        "      # `encode_plus` will:\n",
        "      #   (1) Tokenize the sentence.\n",
        "      #   (2) Prepend the `[CLS]` token to the start.\n",
        "      #   (3) Append the `[SEP]` token to the end.\n",
        "      #   (4) Map tokens to their IDs.\n",
        "      #   (5) Pad or truncate the sentence to `max_length`\n",
        "      #   (6) Create attention masks for [PAD] tokens.\n",
        "      encoded_dict = tokenizer.encode_plus(\n",
        "                          sent,                      # Sentence to encode.\n",
        "                          add_special_tokens = True, # Add '[CLS]' and '[SEP]'\n",
        "                          max_length = 256,           # Pad & truncate all sentences.\n",
        "                          pad_to_max_length = True,\n",
        "                          return_attention_mask = True,   # Construct attn. masks.\n",
        "                          return_tensors = 'pt',     # Return pytorch tensors.\n",
        "                    )\n",
        "\n",
        "      # Add the encoded sentence to the list.\n",
        "      input_ids.append(encoded_dict['input_ids'])\n",
        "\n",
        "      # And its attention mask (simply differentiates padding from non-padding).\n",
        "      attention_masks.append(encoded_dict['attention_mask'])\n",
        "\n",
        "  # Convert the lists into tensors.\n",
        "  input_ids = torch.cat(input_ids, dim=0)\n",
        "  attention_masks = torch.cat(attention_masks, dim=0)\n",
        "\n",
        "  # # Print sentence 0, now as a list of IDs.\n",
        "  # print('Original: ', sentences[0])\n",
        "  # print('Token IDs:', input_ids[0])\n",
        "\n",
        "  return input_ids, attention_masks"
      ],
      "metadata": {
        "id": "hr3FXFSrkB_f"
      },
      "execution_count": null,
      "outputs": []
    },
    {
      "cell_type": "code",
      "execution_count": null,
      "metadata": {
        "id": "1GKd_ii2eEqh"
      },
      "outputs": [],
      "source": [
        "numerical_feats = ['election_distance_transformed', 'hour_cos', 'hour_sin','negative','neutral','positive']"
      ]
    },
    {
      "cell_type": "code",
      "execution_count": null,
      "metadata": {
        "id": "iSM9VDJGf59V",
        "colab": {
          "base_uri": "https://localhost:8080/"
        },
        "outputId": "c6deacef-d82d-4094-b2c8-7f97b30d3131"
      },
      "outputs": [
        {
          "output_type": "stream",
          "name": "stderr",
          "text": [
            "/usr/local/lib/python3.10/dist-packages/transformers/tokenization_utils_base.py:2377: FutureWarning: The `pad_to_max_length` argument is deprecated and will be removed in a future version, use `padding=True` or `padding='longest'` to pad to the longest sequence in the batch, or use `padding='max_length'` to pad to a max length. In this case, you can give a specific length with `max_length` (e.g. `max_length=45`) or leave max_length to None to pad to the maximal input size of the model (e.g. 512 for Bert).\n",
            "  warnings.warn(\n",
            "/usr/local/lib/python3.10/dist-packages/transformers/tokenization_utils_base.py:2377: FutureWarning: The `pad_to_max_length` argument is deprecated and will be removed in a future version, use `padding=True` or `padding='longest'` to pad to the longest sequence in the batch, or use `padding='max_length'` to pad to a max length. In this case, you can give a specific length with `max_length` (e.g. `max_length=45`) or leave max_length to None to pad to the maximal input size of the model (e.g. 512 for Bert).\n",
            "  warnings.warn(\n",
            "/usr/local/lib/python3.10/dist-packages/transformers/tokenization_utils_base.py:2377: FutureWarning: The `pad_to_max_length` argument is deprecated and will be removed in a future version, use `padding=True` or `padding='longest'` to pad to the longest sequence in the batch, or use `padding='max_length'` to pad to a max length. In this case, you can give a specific length with `max_length` (e.g. `max_length=45`) or leave max_length to None to pad to the maximal input size of the model (e.g. 512 for Bert).\n",
            "  warnings.warn(\n"
          ]
        }
      ],
      "source": [
        "train_input_ids, train_numerical_feats, train_attention_masks, train_labels = tokenize_with_numerical(train_sentences, train_targets, train_data[numerical_feats].values)\n",
        "val_input_ids, val_numerical_feats, val_attention_masks, val_labels = tokenize_with_numerical(val_sentences, val_targets, val_data[numerical_feats].values)\n",
        "test_input_ids, test_numerical_feats, test_attention_masks, test_labels = tokenize_with_numerical(test_sentences, test_targets, test_data[numerical_feats].values)"
      ]
    },
    {
      "cell_type": "code",
      "source": [
        "train_context_input_ids, train_context_attention_masks = tokenize_context(train_contexts)\n",
        "val_context_input_ids, val_context_attention_masks = tokenize_context(val_contexts)\n",
        "test_context_input_ids, test_context_attention_masks = tokenize_context(test_contexts)"
      ],
      "metadata": {
        "id": "IDm7-m33lI6B"
      },
      "execution_count": null,
      "outputs": []
    },
    {
      "cell_type": "code",
      "execution_count": null,
      "metadata": {
        "id": "uzuvc9ObgH7_",
        "colab": {
          "base_uri": "https://localhost:8080/"
        },
        "outputId": "f8cc1b51-bc3b-426c-baf7-a12fc0e71915"
      },
      "outputs": [
        {
          "output_type": "execute_result",
          "data": {
            "text/plain": [
              "9926"
            ]
          },
          "metadata": {},
          "execution_count": 511
        }
      ],
      "source": [
        "len(train_numerical_feats[:])"
      ]
    },
    {
      "cell_type": "code",
      "execution_count": null,
      "metadata": {
        "id": "qrhMVOXA9m3E"
      },
      "outputs": [],
      "source": [
        "from torch.utils.data.dataset import TensorDataset\n",
        "train_dataset = TensorDataset(train_input_ids, train_numerical_feats, train_attention_masks, train_labels)\n",
        "val_dataset = TensorDataset(val_input_ids, val_numerical_feats, val_attention_masks, val_labels)\n",
        "test_dataset = TensorDataset(test_input_ids, test_numerical_feats, test_attention_masks, test_labels)\n",
        "\n",
        "# train_dataset = TensorDataset(train_input_ids, train_numerical_feats, train_attention_masks, train_labels, train_context_input_ids, train_context_attention_masks)\n",
        "# val_dataset = TensorDataset(val_input_ids, val_numerical_feats, val_attention_masks, val_labels, val_context_input_ids, val_context_attention_masks)\n",
        "# test_dataset = TensorDataset(test_input_ids, test_numerical_feats, test_attention_masks, test_labels, test_context_input_ids, test_context_attention_masks)\n",
        "\n",
        "from torch.utils.data import DataLoader, RandomSampler, SequentialSampler\n",
        "\n",
        "# The DataLoader needs to know our batch size for training, so we specify it\n",
        "# here. For fine-tuning BERT on a specific task, the authors recommend a batch\n",
        "# size of 16 or 32.\n",
        "batch_size = batch_size\n",
        "\n",
        "# Create the DataLoaders for our training and validation sets.\n",
        "# We'll take training samples in random order.\n",
        "train_dataloader = DataLoader(\n",
        "            train_dataset,  # The training samples.\n",
        "            sampler = SequentialSampler(train_dataset), # Select batches randomly\n",
        "            batch_size = batch_size # Trains with this batch size.\n",
        "        )\n",
        "\n",
        "# For validation the order doesn't matter, so we'll just read them sequentially.\n",
        "val_dataloader = DataLoader(\n",
        "            val_dataset, # The validation samples.\n",
        "            sampler = SequentialSampler(val_dataset), # Pull out batches sequentially.\n",
        "            batch_size = batch_size # Evaluate with this batch size.\n",
        "        )\n",
        "\n",
        "# # For validation the order doesn't matter, so we'll just read them sequentially.\n",
        "test_dataloader = DataLoader(\n",
        "            test_dataset, # The validation samples.\n",
        "            sampler = SequentialSampler(test_dataset), # Pull out batches sequentially.\n",
        "            batch_size = batch_size # Evaluate with this batch size.\n",
        "        )"
      ]
    },
    {
      "cell_type": "code",
      "source": [
        "labels = train_dataset[:][3].numpy()"
      ],
      "metadata": {
        "id": "eTh055HtWZpf"
      },
      "execution_count": null,
      "outputs": []
    },
    {
      "cell_type": "code",
      "source": [
        "train_sentences[:1]"
      ],
      "metadata": {
        "colab": {
          "base_uri": "https://localhost:8080/"
        },
        "id": "e-0zVSi5qNlG",
        "outputId": "41ad6e3e-52ce-46b7-ba1b-b0d2a9756655"
      },
      "execution_count": null,
      "outputs": [
        {
          "output_type": "execute_result",
          "data": {
            "text/plain": [
              "[\"Here at Oljoroorok we are still queuing to vote . So cold , raining and the queing officers are not doing their work .. [SEP] During the day , August 8 , 2017 , there were reported incidences of voter misinformation - that registered voters NOT in the area they were registered in would be allowed to vote in the presidential race at any polling station in the country . [SEP] 6 gas lamps are available #Awendo [SEP] Presiding officer captured all rejected ballot papers on form marked ‘ Rejected ' #KURIA EAST #MUTINITI\"]"
            ]
          },
          "metadata": {},
          "execution_count": 122
        }
      ]
    },
    {
      "cell_type": "code",
      "source": [
        "labels"
      ],
      "metadata": {
        "colab": {
          "base_uri": "https://localhost:8080/"
        },
        "id": "btlbTZ6IZSor",
        "outputId": "85338c72-4112-4e36-e550-4d2f46869fd5"
      },
      "execution_count": null,
      "outputs": [
        {
          "output_type": "execute_result",
          "data": {
            "text/plain": [
              "array([0, 1, 0, ..., 1, 1, 1])"
            ]
          },
          "metadata": {},
          "execution_count": 123
        }
      ]
    },
    {
      "cell_type": "code",
      "source": [
        "# Estimate the class weights to be used in the model training\n",
        "from sklearn.utils.class_weight import compute_class_weight\n",
        "\n",
        "class_weights = compute_class_weight('balanced', classes=np.unique(labels), y=labels)\n",
        "class_weights = torch.tensor(class_weights,dtype=torch.float).to(device)"
      ],
      "metadata": {
        "id": "r37aCVEjWfMt"
      },
      "execution_count": null,
      "outputs": []
    },
    {
      "cell_type": "code",
      "source": [
        "class_weights"
      ],
      "metadata": {
        "colab": {
          "base_uri": "https://localhost:8080/"
        },
        "id": "77e3L17R1PEx",
        "outputId": "65ad89f3-b9c6-408c-cce6-01c14f19bc32"
      },
      "execution_count": null,
      "outputs": [
        {
          "output_type": "execute_result",
          "data": {
            "text/plain": [
              "tensor([1.4537, 0.7621], device='cuda:0')"
            ]
          },
          "metadata": {},
          "execution_count": 125
        }
      ]
    },
    {
      "cell_type": "code",
      "source": [
        "learning_rate"
      ],
      "metadata": {
        "colab": {
          "base_uri": "https://localhost:8080/"
        },
        "id": "pNpjDEYtpnJM",
        "outputId": "e3398b57-eb0c-4748-932e-eda112e65f99"
      },
      "execution_count": null,
      "outputs": [
        {
          "output_type": "execute_result",
          "data": {
            "text/plain": [
              "2e-05"
            ]
          },
          "metadata": {},
          "execution_count": 126
        }
      ]
    },
    {
      "cell_type": "code",
      "source": [
        "# Note: AdamW is a class from the huggingface library (as opposed to pytorch)\n",
        "# I believe the 'W' stands for 'Weight Decay fix\"\n",
        "optimizer = torch.optim.AdamW(model.parameters(),\n",
        "                  lr = learning_rate, # args.learning_rate\n",
        "                  eps = 1e-8 # args.adam_epsilon  - default is 1e-8.\n",
        "                )\n",
        "\n",
        "\n",
        "from transformers import get_linear_schedule_with_warmup\n",
        "\n",
        "# Total number of training steps is [number of batches] x [number of epochs].\n",
        "# (Note that this is not the same as the number of training samples).\n",
        "total_steps = len(train_dataloader) * epochs\n",
        "\n",
        "# Create the learning rate scheduler.\n",
        "scheduler = get_linear_schedule_with_warmup(optimizer,\n",
        "                                            num_warmup_steps = 0,\n",
        "                                            num_training_steps = total_steps)"
      ],
      "metadata": {
        "id": "U2e3HiyJhgPQ"
      },
      "execution_count": null,
      "outputs": []
    },
    {
      "cell_type": "code",
      "execution_count": null,
      "metadata": {
        "colab": {
          "base_uri": "https://localhost:8080/",
          "height": 461
        },
        "id": "c0cQUOyAf20w",
        "outputId": "6423ca7e-a96c-4dcf-969c-61466e5a08e3"
      },
      "outputs": [
        {
          "output_type": "stream",
          "name": "stdout",
          "text": [
            "\n",
            "======== Epoch 1 / 3 ========\n",
            "Training...\n"
          ]
        },
        {
          "output_type": "error",
          "ename": "KeyboardInterrupt",
          "evalue": "ignored",
          "traceback": [
            "\u001b[0;31m---------------------------------------------------------------------------\u001b[0m",
            "\u001b[0;31mKeyboardInterrupt\u001b[0m                         Traceback (most recent call last)",
            "\u001b[0;32m<ipython-input-128-ba56e4fca6dc>\u001b[0m in \u001b[0;36m<cell line: 24>\u001b[0;34m()\u001b[0m\n\u001b[1;32m    113\u001b[0m \u001b[0;34m\u001b[0m\u001b[0m\n\u001b[1;32m    114\u001b[0m         \u001b[0;31m# Perform a backward pass to calculate the gradients.\u001b[0m\u001b[0;34m\u001b[0m\u001b[0;34m\u001b[0m\u001b[0m\n\u001b[0;32m--> 115\u001b[0;31m         \u001b[0mloss\u001b[0m\u001b[0;34m.\u001b[0m\u001b[0mbackward\u001b[0m\u001b[0;34m(\u001b[0m\u001b[0;34m)\u001b[0m\u001b[0;34m\u001b[0m\u001b[0;34m\u001b[0m\u001b[0m\n\u001b[0m\u001b[1;32m    116\u001b[0m \u001b[0;34m\u001b[0m\u001b[0m\n\u001b[1;32m    117\u001b[0m         \u001b[0;31m# Clip the norm of the gradients to 1.0.\u001b[0m\u001b[0;34m\u001b[0m\u001b[0;34m\u001b[0m\u001b[0m\n",
            "\u001b[0;32m/usr/local/lib/python3.10/dist-packages/torch/_tensor.py\u001b[0m in \u001b[0;36mbackward\u001b[0;34m(self, gradient, retain_graph, create_graph, inputs)\u001b[0m\n\u001b[1;32m    485\u001b[0m                 \u001b[0minputs\u001b[0m\u001b[0;34m=\u001b[0m\u001b[0minputs\u001b[0m\u001b[0;34m,\u001b[0m\u001b[0;34m\u001b[0m\u001b[0;34m\u001b[0m\u001b[0m\n\u001b[1;32m    486\u001b[0m             )\n\u001b[0;32m--> 487\u001b[0;31m         torch.autograd.backward(\n\u001b[0m\u001b[1;32m    488\u001b[0m             \u001b[0mself\u001b[0m\u001b[0;34m,\u001b[0m \u001b[0mgradient\u001b[0m\u001b[0;34m,\u001b[0m \u001b[0mretain_graph\u001b[0m\u001b[0;34m,\u001b[0m \u001b[0mcreate_graph\u001b[0m\u001b[0;34m,\u001b[0m \u001b[0minputs\u001b[0m\u001b[0;34m=\u001b[0m\u001b[0minputs\u001b[0m\u001b[0;34m\u001b[0m\u001b[0;34m\u001b[0m\u001b[0m\n\u001b[1;32m    489\u001b[0m         )\n",
            "\u001b[0;32m/usr/local/lib/python3.10/dist-packages/torch/autograd/__init__.py\u001b[0m in \u001b[0;36mbackward\u001b[0;34m(tensors, grad_tensors, retain_graph, create_graph, grad_variables, inputs)\u001b[0m\n\u001b[1;32m    198\u001b[0m     \u001b[0;31m# some Python versions print out the first line of a multi-line function\u001b[0m\u001b[0;34m\u001b[0m\u001b[0;34m\u001b[0m\u001b[0m\n\u001b[1;32m    199\u001b[0m     \u001b[0;31m# calls in the traceback and some print out the last line\u001b[0m\u001b[0;34m\u001b[0m\u001b[0;34m\u001b[0m\u001b[0m\n\u001b[0;32m--> 200\u001b[0;31m     Variable._execution_engine.run_backward(  # Calls into the C++ engine to run the backward pass\n\u001b[0m\u001b[1;32m    201\u001b[0m         \u001b[0mtensors\u001b[0m\u001b[0;34m,\u001b[0m \u001b[0mgrad_tensors_\u001b[0m\u001b[0;34m,\u001b[0m \u001b[0mretain_graph\u001b[0m\u001b[0;34m,\u001b[0m \u001b[0mcreate_graph\u001b[0m\u001b[0;34m,\u001b[0m \u001b[0minputs\u001b[0m\u001b[0;34m,\u001b[0m\u001b[0;34m\u001b[0m\u001b[0;34m\u001b[0m\u001b[0m\n\u001b[1;32m    202\u001b[0m         allow_unreachable=True, accumulate_grad=True)  # Calls into the C++ engine to run the backward pass\n",
            "\u001b[0;31mKeyboardInterrupt\u001b[0m: "
          ]
        }
      ],
      "source": [
        "import random\n",
        "import numpy as np\n",
        "import time\n",
        "\n",
        "# This training code is based on the `run_glue.py` script here:\n",
        "# https://github.com/huggingface/transformers/blob/5bfcd0485ece086ebcbed2d008813037968a9e58/examples/run_glue.py#L128\n",
        "\n",
        "# Set the seed value all over the place to make this reproducible.\n",
        "seed_val = 42\n",
        "\n",
        "random.seed(seed_val)\n",
        "np.random.seed(seed_val)\n",
        "torch.manual_seed(seed_val)\n",
        "torch.cuda.manual_seed_all(seed_val)\n",
        "\n",
        "# We'll store a number of quantities such as training and validation loss,\n",
        "# validation accuracy, and timings.\n",
        "training_stats = []\n",
        "\n",
        "# Measure the total training time for the whole run.\n",
        "total_t0 = time.time()\n",
        "\n",
        "# For each epoch...\n",
        "for epoch_i in range(0, epochs):\n",
        "\n",
        "    # ========================================\n",
        "    #               Training\n",
        "    # ========================================\n",
        "\n",
        "    # Perform one full pass over the training set.\n",
        "\n",
        "    print(\"\")\n",
        "    print('======== Epoch {:} / {:} ========'.format(epoch_i + 1, epochs))\n",
        "    print('Training...')\n",
        "\n",
        "    # Measure how long the training epoch takes.\n",
        "    t0 = time.time()\n",
        "\n",
        "    # Reset the total loss for this epoch.\n",
        "    total_train_loss = 0\n",
        "\n",
        "    # Put the model into training mode. Don't be mislead--the call to\n",
        "    # `train` just changes the *mode*, it doesn't *perform* the training.\n",
        "    # `dropout` and `batchnorm` layers behave differently during training\n",
        "    # vs. test (source: https://stackoverflow.com/questions/51433378/what-does-model-train-do-in-pytorch)\n",
        "    model.train()\n",
        "\n",
        "    # Pick an interval on which to print progress updates.\n",
        "    update_interval = good_update_interval(\n",
        "                total_iters = len(train_dataloader),\n",
        "                num_desired_updates = 10\n",
        "            )\n",
        "\n",
        "    # For each batch of training data...\n",
        "    for step, batch in enumerate(train_dataloader):\n",
        "\n",
        "        # Progress update.\n",
        "        if (step % update_interval) == 0 and not step == 0:\n",
        "            # Calculate elapsed time in minutes.\n",
        "            elapsed = format_time(time.time() - t0)\n",
        "\n",
        "            # Report progress.\n",
        "            print('  Batch {:>5,}  of  {:>5,}.    Elapsed: {:}.'.format(step, len(train_dataloader), elapsed))\n",
        "\n",
        "        # Unpack this training batch from our dataloader.\n",
        "        #\n",
        "        # As we unpack the batch, we'll also copy each tensor to the GPU using\n",
        "        # the `to` method.\n",
        "        #\n",
        "        # `batch` contains three pytorch tensors:\n",
        "        #   [0]: input ids\n",
        "        #   [1]: attention masks\n",
        "        #   [2]: labels\n",
        "        b_input_ids = batch[0].to(device)\n",
        "        b_numer_feats = batch[1].double().to(device)\n",
        "        b_input_mask = batch[2].to(device)\n",
        "        b_labels = batch[3].to(device)\n",
        "        # b_context_input_ids = batch[4].to(device)\n",
        "        # b_context_input_mask = batch[5].to(device)\n",
        "\n",
        "        # Always clear any previously calculated gradients before performing a\n",
        "        # backward pass. PyTorch doesn't do this automatically because\n",
        "        # accumulating the gradients is \"convenient while training RNNs\".\n",
        "        # (source: https://stackoverflow.com/questions/48001598/why-do-we-need-to-call-zero-grad-in-pytorch)\n",
        "        model.zero_grad()\n",
        "\n",
        "        # Perform a forward pass (evaluate the model on this training batch).\n",
        "        # In PyTorch, calling `model` will in turn call the model's `forward`\n",
        "        # function and pass down the arguments. The `forward` function is\n",
        "        # documented here:\n",
        "        # https://huggingface.co/transformers/model_doc/bert.html#bertforsequenceclassification\n",
        "        # The results are returned in a results object, documented here:\n",
        "        # https://huggingface.co/transformers/main_classes/output.html#transformers.modeling_outputs.SequenceClassifierOutput\n",
        "        # Specifically, we'll get the loss (because we provided labels) and the\n",
        "        # \"logits\"--the model outputs prior to activation.\n",
        "        result = model(input_ids=b_input_ids,\n",
        "                       token_type_ids=None,\n",
        "                       attention_mask=b_input_mask,\n",
        "                       labels = b_labels,\n",
        "                       numerical_feats = b_numer_feats,\n",
        "                       class_weights = class_weights)\n",
        "                      #  context_input_ids = b_context_input_ids,\n",
        "                      #  context_attention_mask = b_context_input_mask)\n",
        "\n",
        "        loss = result['loss']\n",
        "        logits = result['logits']\n",
        "\n",
        "        # Accumulate the training loss over all of the batches so that we can\n",
        "        # calculate the average loss at the end. `loss` is a Tensor containing a\n",
        "        # single value; the `.item()` function just returns the Python value\n",
        "        # from the tensor.\n",
        "        total_train_loss += loss.item()\n",
        "\n",
        "        # Perform a backward pass to calculate the gradients.\n",
        "        loss.backward()\n",
        "\n",
        "        # Clip the norm of the gradients to 1.0.\n",
        "        # This is to help prevent the \"exploding gradients\" problem.\n",
        "        torch.nn.utils.clip_grad_norm_(model.parameters(), 1.0)\n",
        "\n",
        "        # Update parameters and take a step using the computed gradient.\n",
        "        # The optimizer dictates the \"update rule\"--how the parameters are\n",
        "        # modified based on their gradients, the learning rate, etc.\n",
        "        optimizer.step()\n",
        "\n",
        "        # Update the learning rate.\n",
        "        scheduler.step()\n",
        "\n",
        "    # Calculate the average loss over all of the batches.\n",
        "    avg_train_loss = total_train_loss / len(train_dataloader)\n",
        "\n",
        "    # Measure how long this epoch took.\n",
        "    training_time = format_time(time.time() - t0)\n",
        "\n",
        "    print(\"\")\n",
        "    print(\"  Average training loss: {0:.2f}\".format(avg_train_loss))\n",
        "    print(\"  Training epoch took: {:}\".format(training_time))\n",
        "\n",
        "\n",
        "    # ========================================\n",
        "    #               Validation\n",
        "    # ========================================\n",
        "    # After the completion of each training epoch, measure our performance on\n",
        "    # our validation set.\n",
        "\n",
        "    print(\"\")\n",
        "    print(\"Running Validation...\")\n",
        "\n",
        "    t0 = time.time()\n",
        "\n",
        "    # Put the model in evaluation mode--the dropout layers behave differently\n",
        "    # during evaluation.\n",
        "    model.eval()\n",
        "\n",
        "    # Tracking variables\n",
        "    total_eval_loss = 0\n",
        "\n",
        "\n",
        "    predictions, true_labels = [], []\n",
        "\n",
        "    # Evaluate data for one epoch\n",
        "    for batch in val_dataloader:\n",
        "\n",
        "        # Unpack this training batch from our dataloader.\n",
        "        #\n",
        "        # As we unpack the batch, we'll also copy each tensor to the GPU using\n",
        "        # the `to` method.\n",
        "        #\n",
        "        # `batch` contains three pytorch tensors:\n",
        "        #   [0]: input ids\n",
        "        #   [1]: attention masks\n",
        "        #   [2]: labels\n",
        "        b_input_ids = batch[0].to(device)\n",
        "        b_numer_feats = batch[1].double().to(device)\n",
        "        b_input_mask = batch[2].to(device)\n",
        "        b_labels = batch[3].to(device)\n",
        "        # b_context_input_ids = batch[4].to(device)\n",
        "        # b_context_input_mask = batch[5].to(device)\n",
        "\n",
        "        # Tell pytorch not to bother with constructing the compute graph during\n",
        "        # the forward pass, since this is only needed for backprop (training).\n",
        "        with torch.no_grad():\n",
        "\n",
        "            # Forward pass, calculate logit predictions.\n",
        "            # token_type_ids is the same as the \"segment ids\", which\n",
        "            # differentiates sentence 1 and 2 in 2-sentence tasks.\n",
        "            result = model(input_ids=b_input_ids,\n",
        "                           token_type_ids=None,\n",
        "                           attention_mask=b_input_mask,\n",
        "                           class_weights = class_weights,\n",
        "                           labels=b_labels,\n",
        "                           numerical_feats = b_numer_feats)\n",
        "                          #  context_input_ids = b_context_input_ids,\n",
        "                          #  context_attention_mask = b_context_input_mask)\n",
        "\n",
        "        # Get the loss and \"logits\" output by the model. The \"logits\" are the\n",
        "        # output values prior to applying an activation function like the\n",
        "        # softmax.\n",
        "        loss = result['loss']\n",
        "        logits = result['logits']\n",
        "\n",
        "        # Accumulate the validation loss.\n",
        "        total_eval_loss += loss.item()\n",
        "\n",
        "        # Calculate the accuracy for this batch of test sentences.\n",
        "\n",
        "        # Move logits and labels to CPU\n",
        "        logits = logits.detach().cpu().numpy()\n",
        "        label_ids = b_labels.to('cpu').numpy()\n",
        "\n",
        "        # Store predictions and true labels\n",
        "        predictions.append(logits)\n",
        "        true_labels.append(label_ids)\n",
        "\n",
        "    # Measure validation accuracy...\n",
        "\n",
        "    # Combine the results across all batches.\n",
        "    flat_predictions = np.concatenate(predictions, axis=0)\n",
        "    flat_true_labels = np.concatenate(true_labels, axis=0)\n",
        "\n",
        "    # For each sample, pick the label (0, 1, or 2) with the highest score.\n",
        "    predicted_labels = np.argmax(flat_predictions, axis=1).flatten()\n",
        "\n",
        "    # Calculate the validation accuracy.\n",
        "    val_accuracy = (predicted_labels == flat_true_labels).mean()\n",
        "\n",
        "    # Report the final accuracy for this validation run.\n",
        "    print(\"  Accuracy: {0:.2f}\".format(val_accuracy))\n",
        "\n",
        "    # Calculate the average loss over all of the batches.\n",
        "    avg_val_loss = total_eval_loss / len(val_dataloader)\n",
        "\n",
        "    # Measure how long the validation run took.\n",
        "    validation_time = format_time(time.time() - t0)\n",
        "\n",
        "    print(\"  Validation Loss: {0:.2f}\".format(avg_val_loss))\n",
        "    print(\"  Validation took: {:}\".format(validation_time))\n",
        "\n",
        "    # Record all statistics from this epoch.\n",
        "    training_stats.append(\n",
        "        {\n",
        "            'epoch': epoch_i + 1,\n",
        "            'Training Loss': avg_train_loss,\n",
        "            'Valid. Loss': avg_val_loss,\n",
        "            'Valid. Accur.': val_accuracy,\n",
        "            'Training Time': training_time,\n",
        "            'Validation Time': validation_time\n",
        "        }\n",
        "    )\n",
        "\n",
        "print(\"\")\n",
        "print(\"Training complete!\")\n",
        "\n",
        "print(\"Total training took {:} (h:mm:ss)\".format(format_time(time.time()-total_t0)))"
      ]
    },
    {
      "cell_type": "code",
      "source": [
        "# Display floats with two decimal places.\n",
        "# pd.set_option('precision', 2)\n",
        "\n",
        "# Create a DataFrame from our training statistics.\n",
        "df_stats = pd.DataFrame(data=training_stats)\n",
        "\n",
        "# Use the 'epoch' as the row index.\n",
        "df_stats = df_stats.set_index('epoch')\n",
        "\n",
        "# Display the table.\n",
        "df_stats"
      ],
      "metadata": {
        "id": "FKFT2me-fBfj",
        "colab": {
          "base_uri": "https://localhost:8080/",
          "height": 143
        },
        "outputId": "ee963665-f6ab-4f94-b889-d2a25288e80c"
      },
      "execution_count": null,
      "outputs": [
        {
          "output_type": "execute_result",
          "data": {
            "text/plain": [
              "       Training Loss  Valid. Loss  Valid. Accur. Training Time Validation Time\n",
              "epoch                                                                         \n",
              "1           0.584356     0.521111       0.759431       0:02:03         0:00:05\n",
              "2           0.481516     0.504370       0.785053       0:02:03         0:00:05"
            ],
            "text/html": [
              "\n",
              "  <div id=\"df-75b877af-5cd4-4db0-be8f-8dcc9e3ac71d\">\n",
              "    <div class=\"colab-df-container\">\n",
              "      <div>\n",
              "<style scoped>\n",
              "    .dataframe tbody tr th:only-of-type {\n",
              "        vertical-align: middle;\n",
              "    }\n",
              "\n",
              "    .dataframe tbody tr th {\n",
              "        vertical-align: top;\n",
              "    }\n",
              "\n",
              "    .dataframe thead th {\n",
              "        text-align: right;\n",
              "    }\n",
              "</style>\n",
              "<table border=\"1\" class=\"dataframe\">\n",
              "  <thead>\n",
              "    <tr style=\"text-align: right;\">\n",
              "      <th></th>\n",
              "      <th>Training Loss</th>\n",
              "      <th>Valid. Loss</th>\n",
              "      <th>Valid. Accur.</th>\n",
              "      <th>Training Time</th>\n",
              "      <th>Validation Time</th>\n",
              "    </tr>\n",
              "    <tr>\n",
              "      <th>epoch</th>\n",
              "      <th></th>\n",
              "      <th></th>\n",
              "      <th></th>\n",
              "      <th></th>\n",
              "      <th></th>\n",
              "    </tr>\n",
              "  </thead>\n",
              "  <tbody>\n",
              "    <tr>\n",
              "      <th>1</th>\n",
              "      <td>0.584356</td>\n",
              "      <td>0.521111</td>\n",
              "      <td>0.759431</td>\n",
              "      <td>0:02:03</td>\n",
              "      <td>0:00:05</td>\n",
              "    </tr>\n",
              "    <tr>\n",
              "      <th>2</th>\n",
              "      <td>0.481516</td>\n",
              "      <td>0.504370</td>\n",
              "      <td>0.785053</td>\n",
              "      <td>0:02:03</td>\n",
              "      <td>0:00:05</td>\n",
              "    </tr>\n",
              "  </tbody>\n",
              "</table>\n",
              "</div>\n",
              "      <button class=\"colab-df-convert\" onclick=\"convertToInteractive('df-75b877af-5cd4-4db0-be8f-8dcc9e3ac71d')\"\n",
              "              title=\"Convert this dataframe to an interactive table.\"\n",
              "              style=\"display:none;\">\n",
              "        \n",
              "  <svg xmlns=\"http://www.w3.org/2000/svg\" height=\"24px\"viewBox=\"0 0 24 24\"\n",
              "       width=\"24px\">\n",
              "    <path d=\"M0 0h24v24H0V0z\" fill=\"none\"/>\n",
              "    <path d=\"M18.56 5.44l.94 2.06.94-2.06 2.06-.94-2.06-.94-.94-2.06-.94 2.06-2.06.94zm-11 1L8.5 8.5l.94-2.06 2.06-.94-2.06-.94L8.5 2.5l-.94 2.06-2.06.94zm10 10l.94 2.06.94-2.06 2.06-.94-2.06-.94-.94-2.06-.94 2.06-2.06.94z\"/><path d=\"M17.41 7.96l-1.37-1.37c-.4-.4-.92-.59-1.43-.59-.52 0-1.04.2-1.43.59L10.3 9.45l-7.72 7.72c-.78.78-.78 2.05 0 2.83L4 21.41c.39.39.9.59 1.41.59.51 0 1.02-.2 1.41-.59l7.78-7.78 2.81-2.81c.8-.78.8-2.07 0-2.86zM5.41 20L4 18.59l7.72-7.72 1.47 1.35L5.41 20z\"/>\n",
              "  </svg>\n",
              "      </button>\n",
              "      \n",
              "  <style>\n",
              "    .colab-df-container {\n",
              "      display:flex;\n",
              "      flex-wrap:wrap;\n",
              "      gap: 12px;\n",
              "    }\n",
              "\n",
              "    .colab-df-convert {\n",
              "      background-color: #E8F0FE;\n",
              "      border: none;\n",
              "      border-radius: 50%;\n",
              "      cursor: pointer;\n",
              "      display: none;\n",
              "      fill: #1967D2;\n",
              "      height: 32px;\n",
              "      padding: 0 0 0 0;\n",
              "      width: 32px;\n",
              "    }\n",
              "\n",
              "    .colab-df-convert:hover {\n",
              "      background-color: #E2EBFA;\n",
              "      box-shadow: 0px 1px 2px rgba(60, 64, 67, 0.3), 0px 1px 3px 1px rgba(60, 64, 67, 0.15);\n",
              "      fill: #174EA6;\n",
              "    }\n",
              "\n",
              "    [theme=dark] .colab-df-convert {\n",
              "      background-color: #3B4455;\n",
              "      fill: #D2E3FC;\n",
              "    }\n",
              "\n",
              "    [theme=dark] .colab-df-convert:hover {\n",
              "      background-color: #434B5C;\n",
              "      box-shadow: 0px 1px 3px 1px rgba(0, 0, 0, 0.15);\n",
              "      filter: drop-shadow(0px 1px 2px rgba(0, 0, 0, 0.3));\n",
              "      fill: #FFFFFF;\n",
              "    }\n",
              "  </style>\n",
              "\n",
              "      <script>\n",
              "        const buttonEl =\n",
              "          document.querySelector('#df-75b877af-5cd4-4db0-be8f-8dcc9e3ac71d button.colab-df-convert');\n",
              "        buttonEl.style.display =\n",
              "          google.colab.kernel.accessAllowed ? 'block' : 'none';\n",
              "\n",
              "        async function convertToInteractive(key) {\n",
              "          const element = document.querySelector('#df-75b877af-5cd4-4db0-be8f-8dcc9e3ac71d');\n",
              "          const dataTable =\n",
              "            await google.colab.kernel.invokeFunction('convertToInteractive',\n",
              "                                                     [key], {});\n",
              "          if (!dataTable) return;\n",
              "\n",
              "          const docLinkHtml = 'Like what you see? Visit the ' +\n",
              "            '<a target=\"_blank\" href=https://colab.research.google.com/notebooks/data_table.ipynb>data table notebook</a>'\n",
              "            + ' to learn more about interactive tables.';\n",
              "          element.innerHTML = '';\n",
              "          dataTable['output_type'] = 'display_data';\n",
              "          await google.colab.output.renderOutput(dataTable, element);\n",
              "          const docLink = document.createElement('div');\n",
              "          docLink.innerHTML = docLinkHtml;\n",
              "          element.appendChild(docLink);\n",
              "        }\n",
              "      </script>\n",
              "    </div>\n",
              "  </div>\n",
              "  "
            ]
          },
          "metadata": {},
          "execution_count": 554
        }
      ]
    },
    {
      "cell_type": "code",
      "source": [
        "# Use plot styling from seaborn.\n",
        "sns.set(style='darkgrid')\n",
        "\n",
        "# Increase the plot size and font size.\n",
        "sns.set(font_scale=1.5)\n",
        "plt.rcParams[\"figure.figsize\"] = (12,6)\n",
        "\n",
        "# Plot the learning curve.\n",
        "plt.plot(df_stats['Training Loss'], 'b-o', label=\"Training\")\n",
        "plt.plot(df_stats['Valid. Loss'], 'g-o', label=\"Validation\")\n",
        "\n",
        "# Label the plot.\n",
        "plt.title(\"Training & Validation Loss\")\n",
        "plt.xlabel(\"Epoch\")\n",
        "plt.ylabel(\"Loss\")\n",
        "plt.legend()\n",
        "plt.xticks([1, 2, 3, 4])\n",
        "\n",
        "plt.show()"
      ],
      "metadata": {
        "id": "DtDBpKucjZ0Q",
        "colab": {
          "base_uri": "https://localhost:8080/",
          "height": 572
        },
        "outputId": "191b5c16-fd87-4ab4-d2b9-c23c926a92ae"
      },
      "execution_count": null,
      "outputs": [
        {
          "output_type": "display_data",
          "data": {
            "text/plain": [
              "<Figure size 1200x600 with 1 Axes>"
            ],
            "image/svg+xml": "<?xml version=\"1.0\" encoding=\"utf-8\" standalone=\"no\"?>\n<!DOCTYPE svg PUBLIC \"-//W3C//DTD SVG 1.1//EN\"\n  \"http://www.w3.org/Graphics/SVG/1.1/DTD/svg11.dtd\">\n<svg xmlns:xlink=\"http://www.w3.org/1999/xlink\" width=\"756.907969pt\" height=\"413.606719pt\" viewBox=\"0 0 756.907969 413.606719\" xmlns=\"http://www.w3.org/2000/svg\" version=\"1.1\">\n <metadata>\n  <rdf:RDF xmlns:dc=\"http://purl.org/dc/elements/1.1/\" xmlns:cc=\"http://creativecommons.org/ns#\" xmlns:rdf=\"http://www.w3.org/1999/02/22-rdf-syntax-ns#\">\n   <cc:Work>\n    <dc:type rdf:resource=\"http://purl.org/dc/dcmitype/StillImage\"/>\n    <dc:date>2023-07-09T17:24:35.800875</dc:date>\n    <dc:format>image/svg+xml</dc:format>\n    <dc:creator>\n     <cc:Agent>\n      <dc:title>Matplotlib v3.7.1, https://matplotlib.org/</dc:title>\n     </cc:Agent>\n    </dc:creator>\n   </cc:Work>\n  </rdf:RDF>\n </metadata>\n <defs>\n  <style type=\"text/css\">*{stroke-linejoin: round; stroke-linecap: butt}</style>\n </defs>\n <g id=\"figure_1\">\n  <g id=\"patch_1\">\n   <path d=\"M 0 413.606719 \nL 756.907969 413.606719 \nL 756.907969 0 \nL 0 0 \nz\n\" style=\"fill: #ffffff\"/>\n  </g>\n  <g id=\"axes_1\">\n   <g id=\"patch_2\">\n    <path d=\"M 74.858906 359.517188 \nL 744.458906 359.517188 \nL 744.458906 26.877187 \nL 74.858906 26.877187 \nz\n\" style=\"fill: #eaeaf2\"/>\n   </g>\n   <g id=\"matplotlib.axis_1\">\n    <g id=\"xtick_1\">\n     <g id=\"line2d_1\">\n      <path d=\"M 85.835955 359.517188 \nL 85.835955 26.877187 \n\" clip-path=\"url(#pc93ccd9e2b)\" style=\"fill: none; stroke: #ffffff; stroke-linecap: round\"/>\n     </g>\n     <g id=\"text_1\">\n      <!-- 1 -->\n      <g style=\"fill: #262626\" transform=\"translate(80.586893 381.554609) scale(0.165 -0.165)\">\n       <defs>\n        <path id=\"DejaVuSans-31\" d=\"M 794 531 \nL 1825 531 \nL 1825 4091 \nL 703 3866 \nL 703 4441 \nL 1819 4666 \nL 2450 4666 \nL 2450 531 \nL 3481 531 \nL 3481 0 \nL 794 0 \nL 794 531 \nz\n\" transform=\"scale(0.015625)\"/>\n       </defs>\n       <use xlink:href=\"#DejaVuSans-31\"/>\n      </g>\n     </g>\n    </g>\n    <g id=\"xtick_2\">\n     <g id=\"line2d_2\">\n      <path d=\"M 305.376939 359.517188 \nL 305.376939 26.877187 \n\" clip-path=\"url(#pc93ccd9e2b)\" style=\"fill: none; stroke: #ffffff; stroke-linecap: round\"/>\n     </g>\n     <g id=\"text_2\">\n      <!-- 2 -->\n      <g style=\"fill: #262626\" transform=\"translate(300.127877 381.554609) scale(0.165 -0.165)\">\n       <defs>\n        <path id=\"DejaVuSans-32\" d=\"M 1228 531 \nL 3431 531 \nL 3431 0 \nL 469 0 \nL 469 531 \nQ 828 903 1448 1529 \nQ 2069 2156 2228 2338 \nQ 2531 2678 2651 2914 \nQ 2772 3150 2772 3378 \nQ 2772 3750 2511 3984 \nQ 2250 4219 1831 4219 \nQ 1534 4219 1204 4116 \nQ 875 4013 500 3803 \nL 500 4441 \nQ 881 4594 1212 4672 \nQ 1544 4750 1819 4750 \nQ 2544 4750 2975 4387 \nQ 3406 4025 3406 3419 \nQ 3406 3131 3298 2873 \nQ 3191 2616 2906 2266 \nQ 2828 2175 2409 1742 \nQ 1991 1309 1228 531 \nz\n\" transform=\"scale(0.015625)\"/>\n       </defs>\n       <use xlink:href=\"#DejaVuSans-32\"/>\n      </g>\n     </g>\n    </g>\n    <g id=\"xtick_3\">\n     <g id=\"line2d_3\">\n      <path d=\"M 524.917923 359.517188 \nL 524.917923 26.877187 \n\" clip-path=\"url(#pc93ccd9e2b)\" style=\"fill: none; stroke: #ffffff; stroke-linecap: round\"/>\n     </g>\n     <g id=\"text_3\">\n      <!-- 3 -->\n      <g style=\"fill: #262626\" transform=\"translate(519.66886 381.554609) scale(0.165 -0.165)\">\n       <defs>\n        <path id=\"DejaVuSans-33\" d=\"M 2597 2516 \nQ 3050 2419 3304 2112 \nQ 3559 1806 3559 1356 \nQ 3559 666 3084 287 \nQ 2609 -91 1734 -91 \nQ 1441 -91 1130 -33 \nQ 819 25 488 141 \nL 488 750 \nQ 750 597 1062 519 \nQ 1375 441 1716 441 \nQ 2309 441 2620 675 \nQ 2931 909 2931 1356 \nQ 2931 1769 2642 2001 \nQ 2353 2234 1838 2234 \nL 1294 2234 \nL 1294 2753 \nL 1863 2753 \nQ 2328 2753 2575 2939 \nQ 2822 3125 2822 3475 \nQ 2822 3834 2567 4026 \nQ 2313 4219 1838 4219 \nQ 1578 4219 1281 4162 \nQ 984 4106 628 3988 \nL 628 4550 \nQ 988 4650 1302 4700 \nQ 1616 4750 1894 4750 \nQ 2613 4750 3031 4423 \nQ 3450 4097 3450 3541 \nQ 3450 3153 3228 2886 \nQ 3006 2619 2597 2516 \nz\n\" transform=\"scale(0.015625)\"/>\n       </defs>\n       <use xlink:href=\"#DejaVuSans-33\"/>\n      </g>\n     </g>\n    </g>\n    <g id=\"xtick_4\">\n     <g id=\"line2d_4\">\n      <path d=\"M 744.458906 359.517188 \nL 744.458906 26.877187 \n\" clip-path=\"url(#pc93ccd9e2b)\" style=\"fill: none; stroke: #ffffff; stroke-linecap: round\"/>\n     </g>\n     <g id=\"text_4\">\n      <!-- 4 -->\n      <g style=\"fill: #262626\" transform=\"translate(739.209844 381.554609) scale(0.165 -0.165)\">\n       <defs>\n        <path id=\"DejaVuSans-34\" d=\"M 2419 4116 \nL 825 1625 \nL 2419 1625 \nL 2419 4116 \nz\nM 2253 4666 \nL 3047 4666 \nL 3047 1625 \nL 3713 1625 \nL 3713 1100 \nL 3047 1100 \nL 3047 0 \nL 2419 0 \nL 2419 1100 \nL 313 1100 \nL 313 1709 \nL 2253 4666 \nz\n\" transform=\"scale(0.015625)\"/>\n       </defs>\n       <use xlink:href=\"#DejaVuSans-34\"/>\n      </g>\n     </g>\n    </g>\n    <g id=\"text_5\">\n     <!-- Epoch -->\n     <g style=\"fill: #262626\" transform=\"translate(382.099219 402.663281) scale(0.18 -0.18)\">\n      <defs>\n       <path id=\"DejaVuSans-45\" d=\"M 628 4666 \nL 3578 4666 \nL 3578 4134 \nL 1259 4134 \nL 1259 2753 \nL 3481 2753 \nL 3481 2222 \nL 1259 2222 \nL 1259 531 \nL 3634 531 \nL 3634 0 \nL 628 0 \nL 628 4666 \nz\n\" transform=\"scale(0.015625)\"/>\n       <path id=\"DejaVuSans-70\" d=\"M 1159 525 \nL 1159 -1331 \nL 581 -1331 \nL 581 3500 \nL 1159 3500 \nL 1159 2969 \nQ 1341 3281 1617 3432 \nQ 1894 3584 2278 3584 \nQ 2916 3584 3314 3078 \nQ 3713 2572 3713 1747 \nQ 3713 922 3314 415 \nQ 2916 -91 2278 -91 \nQ 1894 -91 1617 61 \nQ 1341 213 1159 525 \nz\nM 3116 1747 \nQ 3116 2381 2855 2742 \nQ 2594 3103 2138 3103 \nQ 1681 3103 1420 2742 \nQ 1159 2381 1159 1747 \nQ 1159 1113 1420 752 \nQ 1681 391 2138 391 \nQ 2594 391 2855 752 \nQ 3116 1113 3116 1747 \nz\n\" transform=\"scale(0.015625)\"/>\n       <path id=\"DejaVuSans-6f\" d=\"M 1959 3097 \nQ 1497 3097 1228 2736 \nQ 959 2375 959 1747 \nQ 959 1119 1226 758 \nQ 1494 397 1959 397 \nQ 2419 397 2687 759 \nQ 2956 1122 2956 1747 \nQ 2956 2369 2687 2733 \nQ 2419 3097 1959 3097 \nz\nM 1959 3584 \nQ 2709 3584 3137 3096 \nQ 3566 2609 3566 1747 \nQ 3566 888 3137 398 \nQ 2709 -91 1959 -91 \nQ 1206 -91 779 398 \nQ 353 888 353 1747 \nQ 353 2609 779 3096 \nQ 1206 3584 1959 3584 \nz\n\" transform=\"scale(0.015625)\"/>\n       <path id=\"DejaVuSans-63\" d=\"M 3122 3366 \nL 3122 2828 \nQ 2878 2963 2633 3030 \nQ 2388 3097 2138 3097 \nQ 1578 3097 1268 2742 \nQ 959 2388 959 1747 \nQ 959 1106 1268 751 \nQ 1578 397 2138 397 \nQ 2388 397 2633 464 \nQ 2878 531 3122 666 \nL 3122 134 \nQ 2881 22 2623 -34 \nQ 2366 -91 2075 -91 \nQ 1284 -91 818 406 \nQ 353 903 353 1747 \nQ 353 2603 823 3093 \nQ 1294 3584 2113 3584 \nQ 2378 3584 2631 3529 \nQ 2884 3475 3122 3366 \nz\n\" transform=\"scale(0.015625)\"/>\n       <path id=\"DejaVuSans-68\" d=\"M 3513 2113 \nL 3513 0 \nL 2938 0 \nL 2938 2094 \nQ 2938 2591 2744 2837 \nQ 2550 3084 2163 3084 \nQ 1697 3084 1428 2787 \nQ 1159 2491 1159 1978 \nL 1159 0 \nL 581 0 \nL 581 4863 \nL 1159 4863 \nL 1159 2956 \nQ 1366 3272 1645 3428 \nQ 1925 3584 2291 3584 \nQ 2894 3584 3203 3211 \nQ 3513 2838 3513 2113 \nz\n\" transform=\"scale(0.015625)\"/>\n      </defs>\n      <use xlink:href=\"#DejaVuSans-45\"/>\n      <use xlink:href=\"#DejaVuSans-70\" x=\"63.183594\"/>\n      <use xlink:href=\"#DejaVuSans-6f\" x=\"126.660156\"/>\n      <use xlink:href=\"#DejaVuSans-63\" x=\"187.841797\"/>\n      <use xlink:href=\"#DejaVuSans-68\" x=\"242.822266\"/>\n     </g>\n    </g>\n   </g>\n   <g id=\"matplotlib.axis_2\">\n    <g id=\"ytick_1\">\n     <g id=\"line2d_5\">\n      <path d=\"M 74.858906 348.853895 \nL 744.458906 348.853895 \n\" clip-path=\"url(#pc93ccd9e2b)\" style=\"fill: none; stroke: #ffffff; stroke-linecap: round\"/>\n     </g>\n     <g id=\"text_6\">\n      <!-- 0.48 -->\n      <g style=\"fill: #262626\" transform=\"translate(28.620625 355.122606) scale(0.165 -0.165)\">\n       <defs>\n        <path id=\"DejaVuSans-30\" d=\"M 2034 4250 \nQ 1547 4250 1301 3770 \nQ 1056 3291 1056 2328 \nQ 1056 1369 1301 889 \nQ 1547 409 2034 409 \nQ 2525 409 2770 889 \nQ 3016 1369 3016 2328 \nQ 3016 3291 2770 3770 \nQ 2525 4250 2034 4250 \nz\nM 2034 4750 \nQ 2819 4750 3233 4129 \nQ 3647 3509 3647 2328 \nQ 3647 1150 3233 529 \nQ 2819 -91 2034 -91 \nQ 1250 -91 836 529 \nQ 422 1150 422 2328 \nQ 422 3509 836 4129 \nQ 1250 4750 2034 4750 \nz\n\" transform=\"scale(0.015625)\"/>\n        <path id=\"DejaVuSans-2e\" d=\"M 684 794 \nL 1344 794 \nL 1344 0 \nL 684 0 \nL 684 794 \nz\n\" transform=\"scale(0.015625)\"/>\n        <path id=\"DejaVuSans-38\" d=\"M 2034 2216 \nQ 1584 2216 1326 1975 \nQ 1069 1734 1069 1313 \nQ 1069 891 1326 650 \nQ 1584 409 2034 409 \nQ 2484 409 2743 651 \nQ 3003 894 3003 1313 \nQ 3003 1734 2745 1975 \nQ 2488 2216 2034 2216 \nz\nM 1403 2484 \nQ 997 2584 770 2862 \nQ 544 3141 544 3541 \nQ 544 4100 942 4425 \nQ 1341 4750 2034 4750 \nQ 2731 4750 3128 4425 \nQ 3525 4100 3525 3541 \nQ 3525 3141 3298 2862 \nQ 3072 2584 2669 2484 \nQ 3125 2378 3379 2068 \nQ 3634 1759 3634 1313 \nQ 3634 634 3220 271 \nQ 2806 -91 2034 -91 \nQ 1263 -91 848 271 \nQ 434 634 434 1313 \nQ 434 1759 690 2068 \nQ 947 2378 1403 2484 \nz\nM 1172 3481 \nQ 1172 3119 1398 2916 \nQ 1625 2713 2034 2713 \nQ 2441 2713 2670 2916 \nQ 2900 3119 2900 3481 \nQ 2900 3844 2670 4047 \nQ 2441 4250 2034 4250 \nQ 1625 4250 1398 4047 \nQ 1172 3844 1172 3481 \nz\n\" transform=\"scale(0.015625)\"/>\n       </defs>\n       <use xlink:href=\"#DejaVuSans-30\"/>\n       <use xlink:href=\"#DejaVuSans-2e\" x=\"63.623047\"/>\n       <use xlink:href=\"#DejaVuSans-34\" x=\"95.410156\"/>\n       <use xlink:href=\"#DejaVuSans-38\" x=\"159.033203\"/>\n      </g>\n     </g>\n    </g>\n    <g id=\"ytick_2\">\n     <g id=\"line2d_6\">\n      <path d=\"M 74.858906 290.044148 \nL 744.458906 290.044148 \n\" clip-path=\"url(#pc93ccd9e2b)\" style=\"fill: none; stroke: #ffffff; stroke-linecap: round\"/>\n     </g>\n     <g id=\"text_7\">\n      <!-- 0.50 -->\n      <g style=\"fill: #262626\" transform=\"translate(28.620625 296.312859) scale(0.165 -0.165)\">\n       <defs>\n        <path id=\"DejaVuSans-35\" d=\"M 691 4666 \nL 3169 4666 \nL 3169 4134 \nL 1269 4134 \nL 1269 2991 \nQ 1406 3038 1543 3061 \nQ 1681 3084 1819 3084 \nQ 2600 3084 3056 2656 \nQ 3513 2228 3513 1497 \nQ 3513 744 3044 326 \nQ 2575 -91 1722 -91 \nQ 1428 -91 1123 -41 \nQ 819 9 494 109 \nL 494 744 \nQ 775 591 1075 516 \nQ 1375 441 1709 441 \nQ 2250 441 2565 725 \nQ 2881 1009 2881 1497 \nQ 2881 1984 2565 2268 \nQ 2250 2553 1709 2553 \nQ 1456 2553 1204 2497 \nQ 953 2441 691 2322 \nL 691 4666 \nz\n\" transform=\"scale(0.015625)\"/>\n       </defs>\n       <use xlink:href=\"#DejaVuSans-30\"/>\n       <use xlink:href=\"#DejaVuSans-2e\" x=\"63.623047\"/>\n       <use xlink:href=\"#DejaVuSans-35\" x=\"95.410156\"/>\n       <use xlink:href=\"#DejaVuSans-30\" x=\"159.033203\"/>\n      </g>\n     </g>\n    </g>\n    <g id=\"ytick_3\">\n     <g id=\"line2d_7\">\n      <path d=\"M 74.858906 231.234401 \nL 744.458906 231.234401 \n\" clip-path=\"url(#pc93ccd9e2b)\" style=\"fill: none; stroke: #ffffff; stroke-linecap: round\"/>\n     </g>\n     <g id=\"text_8\">\n      <!-- 0.52 -->\n      <g style=\"fill: #262626\" transform=\"translate(28.620625 237.503112) scale(0.165 -0.165)\">\n       <use xlink:href=\"#DejaVuSans-30\"/>\n       <use xlink:href=\"#DejaVuSans-2e\" x=\"63.623047\"/>\n       <use xlink:href=\"#DejaVuSans-35\" x=\"95.410156\"/>\n       <use xlink:href=\"#DejaVuSans-32\" x=\"159.033203\"/>\n      </g>\n     </g>\n    </g>\n    <g id=\"ytick_4\">\n     <g id=\"line2d_8\">\n      <path d=\"M 74.858906 172.424655 \nL 744.458906 172.424655 \n\" clip-path=\"url(#pc93ccd9e2b)\" style=\"fill: none; stroke: #ffffff; stroke-linecap: round\"/>\n     </g>\n     <g id=\"text_9\">\n      <!-- 0.54 -->\n      <g style=\"fill: #262626\" transform=\"translate(28.620625 178.693365) scale(0.165 -0.165)\">\n       <use xlink:href=\"#DejaVuSans-30\"/>\n       <use xlink:href=\"#DejaVuSans-2e\" x=\"63.623047\"/>\n       <use xlink:href=\"#DejaVuSans-35\" x=\"95.410156\"/>\n       <use xlink:href=\"#DejaVuSans-34\" x=\"159.033203\"/>\n      </g>\n     </g>\n    </g>\n    <g id=\"ytick_5\">\n     <g id=\"line2d_9\">\n      <path d=\"M 74.858906 113.614908 \nL 744.458906 113.614908 \n\" clip-path=\"url(#pc93ccd9e2b)\" style=\"fill: none; stroke: #ffffff; stroke-linecap: round\"/>\n     </g>\n     <g id=\"text_10\">\n      <!-- 0.56 -->\n      <g style=\"fill: #262626\" transform=\"translate(28.620625 119.883619) scale(0.165 -0.165)\">\n       <defs>\n        <path id=\"DejaVuSans-36\" d=\"M 2113 2584 \nQ 1688 2584 1439 2293 \nQ 1191 2003 1191 1497 \nQ 1191 994 1439 701 \nQ 1688 409 2113 409 \nQ 2538 409 2786 701 \nQ 3034 994 3034 1497 \nQ 3034 2003 2786 2293 \nQ 2538 2584 2113 2584 \nz\nM 3366 4563 \nL 3366 3988 \nQ 3128 4100 2886 4159 \nQ 2644 4219 2406 4219 \nQ 1781 4219 1451 3797 \nQ 1122 3375 1075 2522 \nQ 1259 2794 1537 2939 \nQ 1816 3084 2150 3084 \nQ 2853 3084 3261 2657 \nQ 3669 2231 3669 1497 \nQ 3669 778 3244 343 \nQ 2819 -91 2113 -91 \nQ 1303 -91 875 529 \nQ 447 1150 447 2328 \nQ 447 3434 972 4092 \nQ 1497 4750 2381 4750 \nQ 2619 4750 2861 4703 \nQ 3103 4656 3366 4563 \nz\n\" transform=\"scale(0.015625)\"/>\n       </defs>\n       <use xlink:href=\"#DejaVuSans-30\"/>\n       <use xlink:href=\"#DejaVuSans-2e\" x=\"63.623047\"/>\n       <use xlink:href=\"#DejaVuSans-35\" x=\"95.410156\"/>\n       <use xlink:href=\"#DejaVuSans-36\" x=\"159.033203\"/>\n      </g>\n     </g>\n    </g>\n    <g id=\"ytick_6\">\n     <g id=\"line2d_10\">\n      <path d=\"M 74.858906 54.805161 \nL 744.458906 54.805161 \n\" clip-path=\"url(#pc93ccd9e2b)\" style=\"fill: none; stroke: #ffffff; stroke-linecap: round\"/>\n     </g>\n     <g id=\"text_11\">\n      <!-- 0.58 -->\n      <g style=\"fill: #262626\" transform=\"translate(28.620625 61.073872) scale(0.165 -0.165)\">\n       <use xlink:href=\"#DejaVuSans-30\"/>\n       <use xlink:href=\"#DejaVuSans-2e\" x=\"63.623047\"/>\n       <use xlink:href=\"#DejaVuSans-35\" x=\"95.410156\"/>\n       <use xlink:href=\"#DejaVuSans-38\" x=\"159.033203\"/>\n      </g>\n     </g>\n    </g>\n    <g id=\"text_12\">\n     <!-- Loss -->\n     <g style=\"fill: #262626\" transform=\"translate(20.877188 212.938125) rotate(-90) scale(0.18 -0.18)\">\n      <defs>\n       <path id=\"DejaVuSans-4c\" d=\"M 628 4666 \nL 1259 4666 \nL 1259 531 \nL 3531 531 \nL 3531 0 \nL 628 0 \nL 628 4666 \nz\n\" transform=\"scale(0.015625)\"/>\n       <path id=\"DejaVuSans-73\" d=\"M 2834 3397 \nL 2834 2853 \nQ 2591 2978 2328 3040 \nQ 2066 3103 1784 3103 \nQ 1356 3103 1142 2972 \nQ 928 2841 928 2578 \nQ 928 2378 1081 2264 \nQ 1234 2150 1697 2047 \nL 1894 2003 \nQ 2506 1872 2764 1633 \nQ 3022 1394 3022 966 \nQ 3022 478 2636 193 \nQ 2250 -91 1575 -91 \nQ 1294 -91 989 -36 \nQ 684 19 347 128 \nL 347 722 \nQ 666 556 975 473 \nQ 1284 391 1588 391 \nQ 1994 391 2212 530 \nQ 2431 669 2431 922 \nQ 2431 1156 2273 1281 \nQ 2116 1406 1581 1522 \nL 1381 1569 \nQ 847 1681 609 1914 \nQ 372 2147 372 2553 \nQ 372 3047 722 3315 \nQ 1072 3584 1716 3584 \nQ 2034 3584 2315 3537 \nQ 2597 3491 2834 3397 \nz\n\" transform=\"scale(0.015625)\"/>\n      </defs>\n      <use xlink:href=\"#DejaVuSans-4c\"/>\n      <use xlink:href=\"#DejaVuSans-6f\" x=\"53.962891\"/>\n      <use xlink:href=\"#DejaVuSans-73\" x=\"115.144531\"/>\n      <use xlink:href=\"#DejaVuSans-73\" x=\"167.244141\"/>\n     </g>\n    </g>\n   </g>\n   <g id=\"line2d_11\">\n    <path d=\"M 85.835955 41.997188 \nL 305.376939 344.397188 \n\" clip-path=\"url(#pc93ccd9e2b)\" style=\"fill: none; stroke: #4c72b0; stroke-width: 1.5; stroke-linecap: round\"/>\n    <defs>\n     <path id=\"m0355bb8471\" d=\"M 0 3 \nC 0.795609 3 1.55874 2.683901 2.12132 2.12132 \nC 2.683901 1.55874 3 0.795609 3 0 \nC 3 -0.795609 2.683901 -1.55874 2.12132 -2.12132 \nC 1.55874 -2.683901 0.795609 -3 0 -3 \nC -0.795609 -3 -1.55874 -2.683901 -2.12132 -2.12132 \nC -2.683901 -1.55874 -3 -0.795609 -3 0 \nC -3 0.795609 -2.683901 1.55874 -2.12132 2.12132 \nC -1.55874 2.683901 -0.795609 3 0 3 \nz\n\" style=\"stroke: #4c72b0\"/>\n    </defs>\n    <g clip-path=\"url(#pc93ccd9e2b)\">\n     <use xlink:href=\"#m0355bb8471\" x=\"85.835955\" y=\"41.997188\" style=\"fill: #4c72b0; stroke: #4c72b0\"/>\n     <use xlink:href=\"#m0355bb8471\" x=\"305.376939\" y=\"344.397188\" style=\"fill: #4c72b0; stroke: #4c72b0\"/>\n    </g>\n   </g>\n   <g id=\"line2d_12\">\n    <path d=\"M 85.835955 227.967677 \nL 305.376939 277.193813 \n\" clip-path=\"url(#pc93ccd9e2b)\" style=\"fill: none; stroke: #55a868; stroke-width: 1.5; stroke-linecap: round\"/>\n    <defs>\n     <path id=\"m0000dfb353\" d=\"M 0 3 \nC 0.795609 3 1.55874 2.683901 2.12132 2.12132 \nC 2.683901 1.55874 3 0.795609 3 0 \nC 3 -0.795609 2.683901 -1.55874 2.12132 -2.12132 \nC 1.55874 -2.683901 0.795609 -3 0 -3 \nC -0.795609 -3 -1.55874 -2.683901 -2.12132 -2.12132 \nC -2.683901 -1.55874 -3 -0.795609 -3 0 \nC -3 0.795609 -2.683901 1.55874 -2.12132 2.12132 \nC -1.55874 2.683901 -0.795609 3 0 3 \nz\n\" style=\"stroke: #55a868\"/>\n    </defs>\n    <g clip-path=\"url(#pc93ccd9e2b)\">\n     <use xlink:href=\"#m0000dfb353\" x=\"85.835955\" y=\"227.967677\" style=\"fill: #55a868; stroke: #55a868\"/>\n     <use xlink:href=\"#m0000dfb353\" x=\"305.376939\" y=\"277.193813\" style=\"fill: #55a868; stroke: #55a868\"/>\n    </g>\n   </g>\n   <g id=\"patch_3\">\n    <path d=\"M 74.858906 359.517188 \nL 74.858906 26.877187 \n\" style=\"fill: none; stroke: #ffffff; stroke-width: 1.25; stroke-linejoin: miter; stroke-linecap: square\"/>\n   </g>\n   <g id=\"patch_4\">\n    <path d=\"M 744.458906 359.517188 \nL 744.458906 26.877187 \n\" style=\"fill: none; stroke: #ffffff; stroke-width: 1.25; stroke-linejoin: miter; stroke-linecap: square\"/>\n   </g>\n   <g id=\"patch_5\">\n    <path d=\"M 74.858906 359.517188 \nL 744.458906 359.517188 \n\" style=\"fill: none; stroke: #ffffff; stroke-width: 1.25; stroke-linejoin: miter; stroke-linecap: square\"/>\n   </g>\n   <g id=\"patch_6\">\n    <path d=\"M 74.858906 26.877187 \nL 744.458906 26.877187 \n\" style=\"fill: none; stroke: #ffffff; stroke-width: 1.25; stroke-linejoin: miter; stroke-linecap: square\"/>\n   </g>\n   <g id=\"text_13\">\n    <!-- Training &amp; Validation Loss -->\n    <g style=\"fill: #262626\" transform=\"translate(294.368906 20.877187) scale(0.18 -0.18)\">\n     <defs>\n      <path id=\"DejaVuSans-54\" d=\"M -19 4666 \nL 3928 4666 \nL 3928 4134 \nL 2272 4134 \nL 2272 0 \nL 1638 0 \nL 1638 4134 \nL -19 4134 \nL -19 4666 \nz\n\" transform=\"scale(0.015625)\"/>\n      <path id=\"DejaVuSans-72\" d=\"M 2631 2963 \nQ 2534 3019 2420 3045 \nQ 2306 3072 2169 3072 \nQ 1681 3072 1420 2755 \nQ 1159 2438 1159 1844 \nL 1159 0 \nL 581 0 \nL 581 3500 \nL 1159 3500 \nL 1159 2956 \nQ 1341 3275 1631 3429 \nQ 1922 3584 2338 3584 \nQ 2397 3584 2469 3576 \nQ 2541 3569 2628 3553 \nL 2631 2963 \nz\n\" transform=\"scale(0.015625)\"/>\n      <path id=\"DejaVuSans-61\" d=\"M 2194 1759 \nQ 1497 1759 1228 1600 \nQ 959 1441 959 1056 \nQ 959 750 1161 570 \nQ 1363 391 1709 391 \nQ 2188 391 2477 730 \nQ 2766 1069 2766 1631 \nL 2766 1759 \nL 2194 1759 \nz\nM 3341 1997 \nL 3341 0 \nL 2766 0 \nL 2766 531 \nQ 2569 213 2275 61 \nQ 1981 -91 1556 -91 \nQ 1019 -91 701 211 \nQ 384 513 384 1019 \nQ 384 1609 779 1909 \nQ 1175 2209 1959 2209 \nL 2766 2209 \nL 2766 2266 \nQ 2766 2663 2505 2880 \nQ 2244 3097 1772 3097 \nQ 1472 3097 1187 3025 \nQ 903 2953 641 2809 \nL 641 3341 \nQ 956 3463 1253 3523 \nQ 1550 3584 1831 3584 \nQ 2591 3584 2966 3190 \nQ 3341 2797 3341 1997 \nz\n\" transform=\"scale(0.015625)\"/>\n      <path id=\"DejaVuSans-69\" d=\"M 603 3500 \nL 1178 3500 \nL 1178 0 \nL 603 0 \nL 603 3500 \nz\nM 603 4863 \nL 1178 4863 \nL 1178 4134 \nL 603 4134 \nL 603 4863 \nz\n\" transform=\"scale(0.015625)\"/>\n      <path id=\"DejaVuSans-6e\" d=\"M 3513 2113 \nL 3513 0 \nL 2938 0 \nL 2938 2094 \nQ 2938 2591 2744 2837 \nQ 2550 3084 2163 3084 \nQ 1697 3084 1428 2787 \nQ 1159 2491 1159 1978 \nL 1159 0 \nL 581 0 \nL 581 3500 \nL 1159 3500 \nL 1159 2956 \nQ 1366 3272 1645 3428 \nQ 1925 3584 2291 3584 \nQ 2894 3584 3203 3211 \nQ 3513 2838 3513 2113 \nz\n\" transform=\"scale(0.015625)\"/>\n      <path id=\"DejaVuSans-67\" d=\"M 2906 1791 \nQ 2906 2416 2648 2759 \nQ 2391 3103 1925 3103 \nQ 1463 3103 1205 2759 \nQ 947 2416 947 1791 \nQ 947 1169 1205 825 \nQ 1463 481 1925 481 \nQ 2391 481 2648 825 \nQ 2906 1169 2906 1791 \nz\nM 3481 434 \nQ 3481 -459 3084 -895 \nQ 2688 -1331 1869 -1331 \nQ 1566 -1331 1297 -1286 \nQ 1028 -1241 775 -1147 \nL 775 -588 \nQ 1028 -725 1275 -790 \nQ 1522 -856 1778 -856 \nQ 2344 -856 2625 -561 \nQ 2906 -266 2906 331 \nL 2906 616 \nQ 2728 306 2450 153 \nQ 2172 0 1784 0 \nQ 1141 0 747 490 \nQ 353 981 353 1791 \nQ 353 2603 747 3093 \nQ 1141 3584 1784 3584 \nQ 2172 3584 2450 3431 \nQ 2728 3278 2906 2969 \nL 2906 3500 \nL 3481 3500 \nL 3481 434 \nz\n\" transform=\"scale(0.015625)\"/>\n      <path id=\"DejaVuSans-20\" transform=\"scale(0.015625)\"/>\n      <path id=\"DejaVuSans-26\" d=\"M 1556 2509 \nQ 1272 2256 1139 2004 \nQ 1006 1753 1006 1478 \nQ 1006 1022 1337 719 \nQ 1669 416 2169 416 \nQ 2466 416 2725 514 \nQ 2984 613 3213 813 \nL 1556 2509 \nz\nM 1997 2859 \nL 3584 1234 \nQ 3769 1513 3872 1830 \nQ 3975 2147 3994 2503 \nL 4575 2503 \nQ 4538 2091 4375 1687 \nQ 4213 1284 3922 891 \nL 4794 0 \nL 4006 0 \nL 3559 459 \nQ 3234 181 2878 45 \nQ 2522 -91 2113 -91 \nQ 1359 -91 881 339 \nQ 403 769 403 1441 \nQ 403 1841 612 2192 \nQ 822 2544 1241 2853 \nQ 1091 3050 1012 3245 \nQ 934 3441 934 3628 \nQ 934 4134 1281 4442 \nQ 1628 4750 2203 4750 \nQ 2463 4750 2720 4694 \nQ 2978 4638 3244 4525 \nL 3244 3956 \nQ 2972 4103 2725 4179 \nQ 2478 4256 2266 4256 \nQ 1938 4256 1733 4082 \nQ 1528 3909 1528 3634 \nQ 1528 3475 1620 3314 \nQ 1713 3153 1997 2859 \nz\n\" transform=\"scale(0.015625)\"/>\n      <path id=\"DejaVuSans-56\" d=\"M 1831 0 \nL 50 4666 \nL 709 4666 \nL 2188 738 \nL 3669 4666 \nL 4325 4666 \nL 2547 0 \nL 1831 0 \nz\n\" transform=\"scale(0.015625)\"/>\n      <path id=\"DejaVuSans-6c\" d=\"M 603 4863 \nL 1178 4863 \nL 1178 0 \nL 603 0 \nL 603 4863 \nz\n\" transform=\"scale(0.015625)\"/>\n      <path id=\"DejaVuSans-64\" d=\"M 2906 2969 \nL 2906 4863 \nL 3481 4863 \nL 3481 0 \nL 2906 0 \nL 2906 525 \nQ 2725 213 2448 61 \nQ 2172 -91 1784 -91 \nQ 1150 -91 751 415 \nQ 353 922 353 1747 \nQ 353 2572 751 3078 \nQ 1150 3584 1784 3584 \nQ 2172 3584 2448 3432 \nQ 2725 3281 2906 2969 \nz\nM 947 1747 \nQ 947 1113 1208 752 \nQ 1469 391 1925 391 \nQ 2381 391 2643 752 \nQ 2906 1113 2906 1747 \nQ 2906 2381 2643 2742 \nQ 2381 3103 1925 3103 \nQ 1469 3103 1208 2742 \nQ 947 2381 947 1747 \nz\n\" transform=\"scale(0.015625)\"/>\n      <path id=\"DejaVuSans-74\" d=\"M 1172 4494 \nL 1172 3500 \nL 2356 3500 \nL 2356 3053 \nL 1172 3053 \nL 1172 1153 \nQ 1172 725 1289 603 \nQ 1406 481 1766 481 \nL 2356 481 \nL 2356 0 \nL 1766 0 \nQ 1100 0 847 248 \nQ 594 497 594 1153 \nL 594 3053 \nL 172 3053 \nL 172 3500 \nL 594 3500 \nL 594 4494 \nL 1172 4494 \nz\n\" transform=\"scale(0.015625)\"/>\n     </defs>\n     <use xlink:href=\"#DejaVuSans-54\"/>\n     <use xlink:href=\"#DejaVuSans-72\" x=\"46.333984\"/>\n     <use xlink:href=\"#DejaVuSans-61\" x=\"87.447266\"/>\n     <use xlink:href=\"#DejaVuSans-69\" x=\"148.726562\"/>\n     <use xlink:href=\"#DejaVuSans-6e\" x=\"176.509766\"/>\n     <use xlink:href=\"#DejaVuSans-69\" x=\"239.888672\"/>\n     <use xlink:href=\"#DejaVuSans-6e\" x=\"267.671875\"/>\n     <use xlink:href=\"#DejaVuSans-67\" x=\"331.050781\"/>\n     <use xlink:href=\"#DejaVuSans-20\" x=\"394.527344\"/>\n     <use xlink:href=\"#DejaVuSans-26\" x=\"426.314453\"/>\n     <use xlink:href=\"#DejaVuSans-20\" x=\"504.292969\"/>\n     <use xlink:href=\"#DejaVuSans-56\" x=\"536.080078\"/>\n     <use xlink:href=\"#DejaVuSans-61\" x=\"596.738281\"/>\n     <use xlink:href=\"#DejaVuSans-6c\" x=\"658.017578\"/>\n     <use xlink:href=\"#DejaVuSans-69\" x=\"685.800781\"/>\n     <use xlink:href=\"#DejaVuSans-64\" x=\"713.583984\"/>\n     <use xlink:href=\"#DejaVuSans-61\" x=\"777.060547\"/>\n     <use xlink:href=\"#DejaVuSans-74\" x=\"838.339844\"/>\n     <use xlink:href=\"#DejaVuSans-69\" x=\"877.548828\"/>\n     <use xlink:href=\"#DejaVuSans-6f\" x=\"905.332031\"/>\n     <use xlink:href=\"#DejaVuSans-6e\" x=\"966.513672\"/>\n     <use xlink:href=\"#DejaVuSans-20\" x=\"1029.892578\"/>\n     <use xlink:href=\"#DejaVuSans-4c\" x=\"1061.679688\"/>\n     <use xlink:href=\"#DejaVuSans-6f\" x=\"1115.642578\"/>\n     <use xlink:href=\"#DejaVuSans-73\" x=\"1176.824219\"/>\n     <use xlink:href=\"#DejaVuSans-73\" x=\"1228.923828\"/>\n    </g>\n   </g>\n   <g id=\"legend_1\">\n    <g id=\"patch_7\">\n     <path d=\"M 598.629844 88.515 \nL 732.908906 88.515 \nQ 736.208906 88.515 736.208906 85.215 \nL 736.208906 38.427188 \nQ 736.208906 35.127187 732.908906 35.127187 \nL 598.629844 35.127187 \nQ 595.329844 35.127187 595.329844 38.427188 \nL 595.329844 85.215 \nQ 595.329844 88.515 598.629844 88.515 \nz\n\" style=\"fill: #eaeaf2; opacity: 0.8; stroke: #cccccc; stroke-linejoin: miter\"/>\n    </g>\n    <g id=\"line2d_13\">\n     <path d=\"M 601.929844 48.489609 \nL 618.429844 48.489609 \nL 634.929844 48.489609 \n\" style=\"fill: none; stroke: #4c72b0; stroke-width: 1.5; stroke-linecap: round\"/>\n     <g>\n      <use xlink:href=\"#m0355bb8471\" x=\"618.429844\" y=\"48.489609\" style=\"fill: #4c72b0; stroke: #4c72b0\"/>\n     </g>\n    </g>\n    <g id=\"text_14\">\n     <!-- Training -->\n     <g style=\"fill: #262626\" transform=\"translate(648.129844 54.264609) scale(0.165 -0.165)\">\n      <use xlink:href=\"#DejaVuSans-54\"/>\n      <use xlink:href=\"#DejaVuSans-72\" x=\"46.333984\"/>\n      <use xlink:href=\"#DejaVuSans-61\" x=\"87.447266\"/>\n      <use xlink:href=\"#DejaVuSans-69\" x=\"148.726562\"/>\n      <use xlink:href=\"#DejaVuSans-6e\" x=\"176.509766\"/>\n      <use xlink:href=\"#DejaVuSans-69\" x=\"239.888672\"/>\n      <use xlink:href=\"#DejaVuSans-6e\" x=\"267.671875\"/>\n      <use xlink:href=\"#DejaVuSans-67\" x=\"331.050781\"/>\n     </g>\n    </g>\n    <g id=\"line2d_14\">\n     <path d=\"M 601.929844 72.708516 \nL 618.429844 72.708516 \nL 634.929844 72.708516 \n\" style=\"fill: none; stroke: #55a868; stroke-width: 1.5; stroke-linecap: round\"/>\n     <g>\n      <use xlink:href=\"#m0000dfb353\" x=\"618.429844\" y=\"72.708516\" style=\"fill: #55a868; stroke: #55a868\"/>\n     </g>\n    </g>\n    <g id=\"text_15\">\n     <!-- Validation -->\n     <g style=\"fill: #262626\" transform=\"translate(648.129844 78.483516) scale(0.165 -0.165)\">\n      <use xlink:href=\"#DejaVuSans-56\"/>\n      <use xlink:href=\"#DejaVuSans-61\" x=\"60.658203\"/>\n      <use xlink:href=\"#DejaVuSans-6c\" x=\"121.9375\"/>\n      <use xlink:href=\"#DejaVuSans-69\" x=\"149.720703\"/>\n      <use xlink:href=\"#DejaVuSans-64\" x=\"177.503906\"/>\n      <use xlink:href=\"#DejaVuSans-61\" x=\"240.980469\"/>\n      <use xlink:href=\"#DejaVuSans-74\" x=\"302.259766\"/>\n      <use xlink:href=\"#DejaVuSans-69\" x=\"341.46875\"/>\n      <use xlink:href=\"#DejaVuSans-6f\" x=\"369.251953\"/>\n      <use xlink:href=\"#DejaVuSans-6e\" x=\"430.433594\"/>\n     </g>\n    </g>\n   </g>\n  </g>\n </g>\n <defs>\n  <clipPath id=\"pc93ccd9e2b\">\n   <rect x=\"74.858906\" y=\"26.877187\" width=\"669.6\" height=\"332.64\"/>\n  </clipPath>\n </defs>\n</svg>\n"
          },
          "metadata": {}
        }
      ]
    },
    {
      "cell_type": "code",
      "source": [
        "# Prediction on test set\n",
        "\n",
        "# Put model in evaluation mode\n",
        "model.eval()\n",
        "\n",
        "# Tracking variables\n",
        "predictions , true_labels = [], []\n",
        "\n",
        "# Predict\n",
        "for batch in test_dataloader:\n",
        "  # Add batch to GPU\n",
        "  batch = tuple(t.to(device) for t in batch)\n",
        "\n",
        "  # Unpack the inputs from our dataloader\n",
        "  b_input_ids, b_numerical_feats, b_input_mask, b_labels = batch\n",
        "\n",
        "  # Telling the model not to compute or store gradients, saving memory and\n",
        "  # speeding up prediction\n",
        "  with torch.no_grad():\n",
        "      # Forward pass, calculate logit predictions.\n",
        "      result = model(b_input_ids,\n",
        "                     token_type_ids=None,\n",
        "                     attention_mask=b_input_mask,\n",
        "                     numerical_feats = b_numerical_feats)\n",
        "\n",
        "  logits = result['logits']\n",
        "\n",
        "  # Move logits and labels to CPU\n",
        "  logits = logits.detach().cpu().numpy()\n",
        "  label_ids = b_labels.to('cpu').numpy()\n",
        "\n",
        "  # Store predictions and true labels\n",
        "  predictions.append(logits)\n",
        "  true_labels.append(label_ids)\n",
        "\n",
        "print('DONE.')"
      ],
      "metadata": {
        "colab": {
          "base_uri": "https://localhost:8080/"
        },
        "id": "z7OHYcQDyEpS",
        "outputId": "235403cc-44de-4fad-abb7-fd668ce3bc26"
      },
      "execution_count": null,
      "outputs": [
        {
          "output_type": "stream",
          "name": "stdout",
          "text": [
            "DONE.\n"
          ]
        }
      ]
    },
    {
      "cell_type": "code",
      "source": [
        "# Combine the results across all batches.\n",
        "flat_predictions = np.concatenate(predictions, axis=0)\n",
        "\n",
        "# For each sample, pick the label (0 or 1) with the higher score.\n",
        "flat_predictions = np.argmax(flat_predictions, axis=1).flatten()\n",
        "\n",
        "# Combine the correct labels for each batch into a single list.\n",
        "flat_true_labels = np.concatenate(true_labels, axis=0)\n",
        "\n",
        "# # Calculate the MCC\n",
        "# mcc = matthews_corrcoef(flat_true_labels, flat_predictions)\n",
        "\n",
        "# print('Total MCC: %.3f' % mcc)\n",
        "\n",
        "print(classification_report(flat_true_labels,\n",
        "                                flat_predictions,\n",
        "                                target_names=mapping.keys()))"
      ],
      "metadata": {
        "colab": {
          "base_uri": "https://localhost:8080/"
        },
        "id": "ZodFpjC4yTyX",
        "outputId": "70476807-5523-4da1-8cb0-71827c83e1f3"
      },
      "execution_count": null,
      "outputs": [
        {
          "output_type": "stream",
          "name": "stdout",
          "text": [
            "                 precision    recall  f1-score   support\n",
            "\n",
            "    Informative       0.67      0.71      0.69       980\n",
            "Non-Informative       0.84      0.81      0.83      1870\n",
            "\n",
            "       accuracy                           0.78      2850\n",
            "      macro avg       0.76      0.76      0.76      2850\n",
            "   weighted avg       0.78      0.78      0.78      2850\n",
            "\n"
          ]
        }
      ]
    },
    {
      "cell_type": "code",
      "source": [
        "plot_cm_with_percentages(flat_true_labels, flat_predictions, list(mapping.keys()))"
      ],
      "metadata": {
        "id": "a5yzwMOOywRY",
        "colab": {
          "base_uri": "https://localhost:8080/",
          "height": 685
        },
        "outputId": "ea9aa1f3-b009-4056-8b83-eff8a178efe7"
      },
      "execution_count": null,
      "outputs": [
        {
          "output_type": "display_data",
          "data": {
            "text/plain": [
              "<Figure size 800x600 with 2 Axes>"
            ],
            "image/svg+xml": "<?xml version=\"1.0\" encoding=\"utf-8\" standalone=\"no\"?>\n<!DOCTYPE svg PUBLIC \"-//W3C//DTD SVG 1.1//EN\"\n  \"http://www.w3.org/Graphics/SVG/1.1/DTD/svg11.dtd\">\n<svg xmlns:xlink=\"http://www.w3.org/1999/xlink\" width=\"556.042863pt\" height=\"498.351425pt\" viewBox=\"0 0 556.042863 498.351425\" xmlns=\"http://www.w3.org/2000/svg\" version=\"1.1\">\n <metadata>\n  <rdf:RDF xmlns:dc=\"http://purl.org/dc/elements/1.1/\" xmlns:cc=\"http://creativecommons.org/ns#\" xmlns:rdf=\"http://www.w3.org/1999/02/22-rdf-syntax-ns#\">\n   <cc:Work>\n    <dc:type rdf:resource=\"http://purl.org/dc/dcmitype/StillImage\"/>\n    <dc:date>2023-07-09T17:25:02.398945</dc:date>\n    <dc:format>image/svg+xml</dc:format>\n    <dc:creator>\n     <cc:Agent>\n      <dc:title>Matplotlib v3.7.1, https://matplotlib.org/</dc:title>\n     </cc:Agent>\n    </dc:creator>\n   </cc:Work>\n  </rdf:RDF>\n </metadata>\n <defs>\n  <style type=\"text/css\">*{stroke-linejoin: round; stroke-linecap: butt}</style>\n </defs>\n <g id=\"figure_1\">\n  <g id=\"patch_1\">\n   <path d=\"M 0 498.351425 \nL 556.042863 498.351425 \nL 556.042863 0 \nL 0 0 \nz\n\" style=\"fill: #ffffff\"/>\n  </g>\n  <g id=\"axes_1\">\n   <g id=\"patch_2\">\n    <path d=\"M 127.873613 370.477812 \nL 484.993613 370.477812 \nL 484.993613 37.837812 \nL 127.873613 37.837812 \nz\n\" style=\"fill: #eaeaf2\"/>\n   </g>\n   <g id=\"matplotlib.axis_1\">\n    <g id=\"xtick_1\">\n     <g id=\"line2d_1\">\n      <path d=\"M 217.153613 370.477812 \nL 217.153613 37.837812 \n\" clip-path=\"url(#p9d06168710)\" style=\"fill: none; stroke: #ffffff; stroke-linecap: round\"/>\n     </g>\n     <g id=\"text_1\">\n      <!-- Informative -->\n      <g style=\"fill: #262626\" transform=\"translate(166.175943 435.677321) rotate(-45) scale(0.121 -0.121)\">\n       <defs>\n        <path id=\"DejaVuSans-49\" d=\"M 628 4666 \nL 1259 4666 \nL 1259 0 \nL 628 0 \nL 628 4666 \nz\n\" transform=\"scale(0.015625)\"/>\n        <path id=\"DejaVuSans-6e\" d=\"M 3513 2113 \nL 3513 0 \nL 2938 0 \nL 2938 2094 \nQ 2938 2591 2744 2837 \nQ 2550 3084 2163 3084 \nQ 1697 3084 1428 2787 \nQ 1159 2491 1159 1978 \nL 1159 0 \nL 581 0 \nL 581 3500 \nL 1159 3500 \nL 1159 2956 \nQ 1366 3272 1645 3428 \nQ 1925 3584 2291 3584 \nQ 2894 3584 3203 3211 \nQ 3513 2838 3513 2113 \nz\n\" transform=\"scale(0.015625)\"/>\n        <path id=\"DejaVuSans-66\" d=\"M 2375 4863 \nL 2375 4384 \nL 1825 4384 \nQ 1516 4384 1395 4259 \nQ 1275 4134 1275 3809 \nL 1275 3500 \nL 2222 3500 \nL 2222 3053 \nL 1275 3053 \nL 1275 0 \nL 697 0 \nL 697 3053 \nL 147 3053 \nL 147 3500 \nL 697 3500 \nL 697 3744 \nQ 697 4328 969 4595 \nQ 1241 4863 1831 4863 \nL 2375 4863 \nz\n\" transform=\"scale(0.015625)\"/>\n        <path id=\"DejaVuSans-6f\" d=\"M 1959 3097 \nQ 1497 3097 1228 2736 \nQ 959 2375 959 1747 \nQ 959 1119 1226 758 \nQ 1494 397 1959 397 \nQ 2419 397 2687 759 \nQ 2956 1122 2956 1747 \nQ 2956 2369 2687 2733 \nQ 2419 3097 1959 3097 \nz\nM 1959 3584 \nQ 2709 3584 3137 3096 \nQ 3566 2609 3566 1747 \nQ 3566 888 3137 398 \nQ 2709 -91 1959 -91 \nQ 1206 -91 779 398 \nQ 353 888 353 1747 \nQ 353 2609 779 3096 \nQ 1206 3584 1959 3584 \nz\n\" transform=\"scale(0.015625)\"/>\n        <path id=\"DejaVuSans-72\" d=\"M 2631 2963 \nQ 2534 3019 2420 3045 \nQ 2306 3072 2169 3072 \nQ 1681 3072 1420 2755 \nQ 1159 2438 1159 1844 \nL 1159 0 \nL 581 0 \nL 581 3500 \nL 1159 3500 \nL 1159 2956 \nQ 1341 3275 1631 3429 \nQ 1922 3584 2338 3584 \nQ 2397 3584 2469 3576 \nQ 2541 3569 2628 3553 \nL 2631 2963 \nz\n\" transform=\"scale(0.015625)\"/>\n        <path id=\"DejaVuSans-6d\" d=\"M 3328 2828 \nQ 3544 3216 3844 3400 \nQ 4144 3584 4550 3584 \nQ 5097 3584 5394 3201 \nQ 5691 2819 5691 2113 \nL 5691 0 \nL 5113 0 \nL 5113 2094 \nQ 5113 2597 4934 2840 \nQ 4756 3084 4391 3084 \nQ 3944 3084 3684 2787 \nQ 3425 2491 3425 1978 \nL 3425 0 \nL 2847 0 \nL 2847 2094 \nQ 2847 2600 2669 2842 \nQ 2491 3084 2119 3084 \nQ 1678 3084 1418 2786 \nQ 1159 2488 1159 1978 \nL 1159 0 \nL 581 0 \nL 581 3500 \nL 1159 3500 \nL 1159 2956 \nQ 1356 3278 1631 3431 \nQ 1906 3584 2284 3584 \nQ 2666 3584 2933 3390 \nQ 3200 3197 3328 2828 \nz\n\" transform=\"scale(0.015625)\"/>\n        <path id=\"DejaVuSans-61\" d=\"M 2194 1759 \nQ 1497 1759 1228 1600 \nQ 959 1441 959 1056 \nQ 959 750 1161 570 \nQ 1363 391 1709 391 \nQ 2188 391 2477 730 \nQ 2766 1069 2766 1631 \nL 2766 1759 \nL 2194 1759 \nz\nM 3341 1997 \nL 3341 0 \nL 2766 0 \nL 2766 531 \nQ 2569 213 2275 61 \nQ 1981 -91 1556 -91 \nQ 1019 -91 701 211 \nQ 384 513 384 1019 \nQ 384 1609 779 1909 \nQ 1175 2209 1959 2209 \nL 2766 2209 \nL 2766 2266 \nQ 2766 2663 2505 2880 \nQ 2244 3097 1772 3097 \nQ 1472 3097 1187 3025 \nQ 903 2953 641 2809 \nL 641 3341 \nQ 956 3463 1253 3523 \nQ 1550 3584 1831 3584 \nQ 2591 3584 2966 3190 \nQ 3341 2797 3341 1997 \nz\n\" transform=\"scale(0.015625)\"/>\n        <path id=\"DejaVuSans-74\" d=\"M 1172 4494 \nL 1172 3500 \nL 2356 3500 \nL 2356 3053 \nL 1172 3053 \nL 1172 1153 \nQ 1172 725 1289 603 \nQ 1406 481 1766 481 \nL 2356 481 \nL 2356 0 \nL 1766 0 \nQ 1100 0 847 248 \nQ 594 497 594 1153 \nL 594 3053 \nL 172 3053 \nL 172 3500 \nL 594 3500 \nL 594 4494 \nL 1172 4494 \nz\n\" transform=\"scale(0.015625)\"/>\n        <path id=\"DejaVuSans-69\" d=\"M 603 3500 \nL 1178 3500 \nL 1178 0 \nL 603 0 \nL 603 3500 \nz\nM 603 4863 \nL 1178 4863 \nL 1178 4134 \nL 603 4134 \nL 603 4863 \nz\n\" transform=\"scale(0.015625)\"/>\n        <path id=\"DejaVuSans-76\" d=\"M 191 3500 \nL 800 3500 \nL 1894 563 \nL 2988 3500 \nL 3597 3500 \nL 2284 0 \nL 1503 0 \nL 191 3500 \nz\n\" transform=\"scale(0.015625)\"/>\n        <path id=\"DejaVuSans-65\" d=\"M 3597 1894 \nL 3597 1613 \nL 953 1613 \nQ 991 1019 1311 708 \nQ 1631 397 2203 397 \nQ 2534 397 2845 478 \nQ 3156 559 3463 722 \nL 3463 178 \nQ 3153 47 2828 -22 \nQ 2503 -91 2169 -91 \nQ 1331 -91 842 396 \nQ 353 884 353 1716 \nQ 353 2575 817 3079 \nQ 1281 3584 2069 3584 \nQ 2775 3584 3186 3129 \nQ 3597 2675 3597 1894 \nz\nM 3022 2063 \nQ 3016 2534 2758 2815 \nQ 2500 3097 2075 3097 \nQ 1594 3097 1305 2825 \nQ 1016 2553 972 2059 \nL 3022 2063 \nz\n\" transform=\"scale(0.015625)\"/>\n       </defs>\n       <use xlink:href=\"#DejaVuSans-49\"/>\n       <use xlink:href=\"#DejaVuSans-6e\" x=\"29.492188\"/>\n       <use xlink:href=\"#DejaVuSans-66\" x=\"92.871094\"/>\n       <use xlink:href=\"#DejaVuSans-6f\" x=\"128.076172\"/>\n       <use xlink:href=\"#DejaVuSans-72\" x=\"189.257812\"/>\n       <use xlink:href=\"#DejaVuSans-6d\" x=\"228.621094\"/>\n       <use xlink:href=\"#DejaVuSans-61\" x=\"326.033203\"/>\n       <use xlink:href=\"#DejaVuSans-74\" x=\"387.3125\"/>\n       <use xlink:href=\"#DejaVuSans-69\" x=\"426.521484\"/>\n       <use xlink:href=\"#DejaVuSans-76\" x=\"454.304688\"/>\n       <use xlink:href=\"#DejaVuSans-65\" x=\"513.484375\"/>\n      </g>\n     </g>\n    </g>\n    <g id=\"xtick_2\">\n     <g id=\"line2d_2\">\n      <path d=\"M 395.713613 370.477812 \nL 395.713613 37.837812 \n\" clip-path=\"url(#p9d06168710)\" style=\"fill: none; stroke: #ffffff; stroke-linecap: round\"/>\n     </g>\n     <g id=\"text_2\">\n      <!-- Non-Informative -->\n      <g style=\"fill: #262626\" transform=\"translate(324.590592 455.822671) rotate(-45) scale(0.121 -0.121)\">\n       <defs>\n        <path id=\"DejaVuSans-4e\" d=\"M 628 4666 \nL 1478 4666 \nL 3547 763 \nL 3547 4666 \nL 4159 4666 \nL 4159 0 \nL 3309 0 \nL 1241 3903 \nL 1241 0 \nL 628 0 \nL 628 4666 \nz\n\" transform=\"scale(0.015625)\"/>\n        <path id=\"DejaVuSans-2d\" d=\"M 313 2009 \nL 1997 2009 \nL 1997 1497 \nL 313 1497 \nL 313 2009 \nz\n\" transform=\"scale(0.015625)\"/>\n       </defs>\n       <use xlink:href=\"#DejaVuSans-4e\"/>\n       <use xlink:href=\"#DejaVuSans-6f\" x=\"74.804688\"/>\n       <use xlink:href=\"#DejaVuSans-6e\" x=\"135.986328\"/>\n       <use xlink:href=\"#DejaVuSans-2d\" x=\"199.365234\"/>\n       <use xlink:href=\"#DejaVuSans-49\" x=\"235.449219\"/>\n       <use xlink:href=\"#DejaVuSans-6e\" x=\"264.941406\"/>\n       <use xlink:href=\"#DejaVuSans-66\" x=\"328.320312\"/>\n       <use xlink:href=\"#DejaVuSans-6f\" x=\"363.525391\"/>\n       <use xlink:href=\"#DejaVuSans-72\" x=\"424.707031\"/>\n       <use xlink:href=\"#DejaVuSans-6d\" x=\"464.070312\"/>\n       <use xlink:href=\"#DejaVuSans-61\" x=\"561.482422\"/>\n       <use xlink:href=\"#DejaVuSans-74\" x=\"622.761719\"/>\n       <use xlink:href=\"#DejaVuSans-69\" x=\"661.970703\"/>\n       <use xlink:href=\"#DejaVuSans-76\" x=\"689.753906\"/>\n       <use xlink:href=\"#DejaVuSans-65\" x=\"748.933594\"/>\n      </g>\n     </g>\n    </g>\n    <g id=\"text_3\">\n     <!-- Predicted Label -->\n     <g style=\"fill: #262626\" transform=\"translate(252.464707 488.239863) scale(0.14 -0.14)\">\n      <defs>\n       <path id=\"DejaVuSans-50\" d=\"M 1259 4147 \nL 1259 2394 \nL 2053 2394 \nQ 2494 2394 2734 2622 \nQ 2975 2850 2975 3272 \nQ 2975 3691 2734 3919 \nQ 2494 4147 2053 4147 \nL 1259 4147 \nz\nM 628 4666 \nL 2053 4666 \nQ 2838 4666 3239 4311 \nQ 3641 3956 3641 3272 \nQ 3641 2581 3239 2228 \nQ 2838 1875 2053 1875 \nL 1259 1875 \nL 1259 0 \nL 628 0 \nL 628 4666 \nz\n\" transform=\"scale(0.015625)\"/>\n       <path id=\"DejaVuSans-64\" d=\"M 2906 2969 \nL 2906 4863 \nL 3481 4863 \nL 3481 0 \nL 2906 0 \nL 2906 525 \nQ 2725 213 2448 61 \nQ 2172 -91 1784 -91 \nQ 1150 -91 751 415 \nQ 353 922 353 1747 \nQ 353 2572 751 3078 \nQ 1150 3584 1784 3584 \nQ 2172 3584 2448 3432 \nQ 2725 3281 2906 2969 \nz\nM 947 1747 \nQ 947 1113 1208 752 \nQ 1469 391 1925 391 \nQ 2381 391 2643 752 \nQ 2906 1113 2906 1747 \nQ 2906 2381 2643 2742 \nQ 2381 3103 1925 3103 \nQ 1469 3103 1208 2742 \nQ 947 2381 947 1747 \nz\n\" transform=\"scale(0.015625)\"/>\n       <path id=\"DejaVuSans-63\" d=\"M 3122 3366 \nL 3122 2828 \nQ 2878 2963 2633 3030 \nQ 2388 3097 2138 3097 \nQ 1578 3097 1268 2742 \nQ 959 2388 959 1747 \nQ 959 1106 1268 751 \nQ 1578 397 2138 397 \nQ 2388 397 2633 464 \nQ 2878 531 3122 666 \nL 3122 134 \nQ 2881 22 2623 -34 \nQ 2366 -91 2075 -91 \nQ 1284 -91 818 406 \nQ 353 903 353 1747 \nQ 353 2603 823 3093 \nQ 1294 3584 2113 3584 \nQ 2378 3584 2631 3529 \nQ 2884 3475 3122 3366 \nz\n\" transform=\"scale(0.015625)\"/>\n       <path id=\"DejaVuSans-20\" transform=\"scale(0.015625)\"/>\n       <path id=\"DejaVuSans-4c\" d=\"M 628 4666 \nL 1259 4666 \nL 1259 531 \nL 3531 531 \nL 3531 0 \nL 628 0 \nL 628 4666 \nz\n\" transform=\"scale(0.015625)\"/>\n       <path id=\"DejaVuSans-62\" d=\"M 3116 1747 \nQ 3116 2381 2855 2742 \nQ 2594 3103 2138 3103 \nQ 1681 3103 1420 2742 \nQ 1159 2381 1159 1747 \nQ 1159 1113 1420 752 \nQ 1681 391 2138 391 \nQ 2594 391 2855 752 \nQ 3116 1113 3116 1747 \nz\nM 1159 2969 \nQ 1341 3281 1617 3432 \nQ 1894 3584 2278 3584 \nQ 2916 3584 3314 3078 \nQ 3713 2572 3713 1747 \nQ 3713 922 3314 415 \nQ 2916 -91 2278 -91 \nQ 1894 -91 1617 61 \nQ 1341 213 1159 525 \nL 1159 0 \nL 581 0 \nL 581 4863 \nL 1159 4863 \nL 1159 2969 \nz\n\" transform=\"scale(0.015625)\"/>\n       <path id=\"DejaVuSans-6c\" d=\"M 603 4863 \nL 1178 4863 \nL 1178 0 \nL 603 0 \nL 603 4863 \nz\n\" transform=\"scale(0.015625)\"/>\n      </defs>\n      <use xlink:href=\"#DejaVuSans-50\"/>\n      <use xlink:href=\"#DejaVuSans-72\" x=\"58.552734\"/>\n      <use xlink:href=\"#DejaVuSans-65\" x=\"97.416016\"/>\n      <use xlink:href=\"#DejaVuSans-64\" x=\"158.939453\"/>\n      <use xlink:href=\"#DejaVuSans-69\" x=\"222.416016\"/>\n      <use xlink:href=\"#DejaVuSans-63\" x=\"250.199219\"/>\n      <use xlink:href=\"#DejaVuSans-74\" x=\"305.179688\"/>\n      <use xlink:href=\"#DejaVuSans-65\" x=\"344.388672\"/>\n      <use xlink:href=\"#DejaVuSans-64\" x=\"405.912109\"/>\n      <use xlink:href=\"#DejaVuSans-20\" x=\"469.388672\"/>\n      <use xlink:href=\"#DejaVuSans-4c\" x=\"501.175781\"/>\n      <use xlink:href=\"#DejaVuSans-61\" x=\"556.888672\"/>\n      <use xlink:href=\"#DejaVuSans-62\" x=\"618.167969\"/>\n      <use xlink:href=\"#DejaVuSans-65\" x=\"681.644531\"/>\n      <use xlink:href=\"#DejaVuSans-6c\" x=\"743.167969\"/>\n     </g>\n    </g>\n   </g>\n   <g id=\"matplotlib.axis_2\">\n    <g id=\"ytick_1\">\n     <g id=\"line2d_3\">\n      <path d=\"M 127.873613 120.997812 \nL 484.993613 120.997812 \n\" clip-path=\"url(#p9d06168710)\" style=\"fill: none; stroke: #ffffff; stroke-linecap: round\"/>\n     </g>\n     <g id=\"text_4\">\n      <!-- Informative -->\n      <g style=\"fill: #262626\" transform=\"translate(67.395943 147.957877) rotate(-45) scale(0.121 -0.121)\">\n       <use xlink:href=\"#DejaVuSans-49\"/>\n       <use xlink:href=\"#DejaVuSans-6e\" x=\"29.492188\"/>\n       <use xlink:href=\"#DejaVuSans-66\" x=\"92.871094\"/>\n       <use xlink:href=\"#DejaVuSans-6f\" x=\"128.076172\"/>\n       <use xlink:href=\"#DejaVuSans-72\" x=\"189.257812\"/>\n       <use xlink:href=\"#DejaVuSans-6d\" x=\"228.621094\"/>\n       <use xlink:href=\"#DejaVuSans-61\" x=\"326.033203\"/>\n       <use xlink:href=\"#DejaVuSans-74\" x=\"387.3125\"/>\n       <use xlink:href=\"#DejaVuSans-69\" x=\"426.521484\"/>\n       <use xlink:href=\"#DejaVuSans-76\" x=\"454.304688\"/>\n       <use xlink:href=\"#DejaVuSans-65\" x=\"513.484375\"/>\n      </g>\n     </g>\n    </g>\n    <g id=\"ytick_2\">\n     <g id=\"line2d_4\">\n      <path d=\"M 127.873613 287.317812 \nL 484.993613 287.317812 \n\" clip-path=\"url(#p9d06168710)\" style=\"fill: none; stroke: #ffffff; stroke-linecap: round\"/>\n     </g>\n     <g id=\"text_5\">\n      <!-- Non-Informative -->\n      <g style=\"fill: #262626\" transform=\"translate(47.250592 324.350552) rotate(-45) scale(0.121 -0.121)\">\n       <use xlink:href=\"#DejaVuSans-4e\"/>\n       <use xlink:href=\"#DejaVuSans-6f\" x=\"74.804688\"/>\n       <use xlink:href=\"#DejaVuSans-6e\" x=\"135.986328\"/>\n       <use xlink:href=\"#DejaVuSans-2d\" x=\"199.365234\"/>\n       <use xlink:href=\"#DejaVuSans-49\" x=\"235.449219\"/>\n       <use xlink:href=\"#DejaVuSans-6e\" x=\"264.941406\"/>\n       <use xlink:href=\"#DejaVuSans-66\" x=\"328.320312\"/>\n       <use xlink:href=\"#DejaVuSans-6f\" x=\"363.525391\"/>\n       <use xlink:href=\"#DejaVuSans-72\" x=\"424.707031\"/>\n       <use xlink:href=\"#DejaVuSans-6d\" x=\"464.070312\"/>\n       <use xlink:href=\"#DejaVuSans-61\" x=\"561.482422\"/>\n       <use xlink:href=\"#DejaVuSans-74\" x=\"622.761719\"/>\n       <use xlink:href=\"#DejaVuSans-69\" x=\"661.970703\"/>\n       <use xlink:href=\"#DejaVuSans-76\" x=\"689.753906\"/>\n       <use xlink:href=\"#DejaVuSans-65\" x=\"748.933594\"/>\n      </g>\n     </g>\n    </g>\n    <g id=\"text_6\">\n     <!-- Gold Label -->\n     <g style=\"fill: #262626\" transform=\"translate(17.837812 241.363906) rotate(-90) scale(0.14 -0.14)\">\n      <defs>\n       <path id=\"DejaVuSans-47\" d=\"M 3809 666 \nL 3809 1919 \nL 2778 1919 \nL 2778 2438 \nL 4434 2438 \nL 4434 434 \nQ 4069 175 3628 42 \nQ 3188 -91 2688 -91 \nQ 1594 -91 976 548 \nQ 359 1188 359 2328 \nQ 359 3472 976 4111 \nQ 1594 4750 2688 4750 \nQ 3144 4750 3555 4637 \nQ 3966 4525 4313 4306 \nL 4313 3634 \nQ 3963 3931 3569 4081 \nQ 3175 4231 2741 4231 \nQ 1884 4231 1454 3753 \nQ 1025 3275 1025 2328 \nQ 1025 1384 1454 906 \nQ 1884 428 2741 428 \nQ 3075 428 3337 486 \nQ 3600 544 3809 666 \nz\n\" transform=\"scale(0.015625)\"/>\n      </defs>\n      <use xlink:href=\"#DejaVuSans-47\"/>\n      <use xlink:href=\"#DejaVuSans-6f\" x=\"77.490234\"/>\n      <use xlink:href=\"#DejaVuSans-6c\" x=\"138.671875\"/>\n      <use xlink:href=\"#DejaVuSans-64\" x=\"166.455078\"/>\n      <use xlink:href=\"#DejaVuSans-20\" x=\"229.931641\"/>\n      <use xlink:href=\"#DejaVuSans-4c\" x=\"261.71875\"/>\n      <use xlink:href=\"#DejaVuSans-61\" x=\"317.431641\"/>\n      <use xlink:href=\"#DejaVuSans-62\" x=\"378.710938\"/>\n      <use xlink:href=\"#DejaVuSans-65\" x=\"442.1875\"/>\n      <use xlink:href=\"#DejaVuSans-6c\" x=\"503.710938\"/>\n     </g>\n    </g>\n   </g>\n   <g id=\"QuadMesh_1\">\n    <path d=\"M 127.873613 37.837812 \nL 306.433613 37.837812 \nL 306.433613 204.157812 \nL 127.873613 204.157812 \nL 127.873613 37.837812 \n\" clip-path=\"url(#p9d06168710)\" style=\"fill: #f6ae87\"/>\n    <path d=\"M 306.433613 37.837812 \nL 484.993613 37.837812 \nL 484.993613 204.157812 \nL 306.433613 204.157812 \nL 306.433613 37.837812 \n\" clip-path=\"url(#p9d06168710)\" style=\"fill: #3c1a42\"/>\n    <path d=\"M 127.873613 204.157812 \nL 306.433613 204.157812 \nL 306.433613 370.477812 \nL 127.873613 370.477812 \nL 127.873613 204.157812 \n\" clip-path=\"url(#p9d06168710)\" style=\"fill: #03051a\"/>\n    <path d=\"M 306.433613 204.157812 \nL 484.993613 204.157812 \nL 484.993613 370.477812 \nL 306.433613 370.477812 \nL 306.433613 204.157812 \n\" clip-path=\"url(#p9d06168710)\" style=\"fill: #faebdd\"/>\n   </g>\n   <g id=\"text_7\">\n    <!-- 71.43% -->\n    <g style=\"fill: #262626\" transform=\"translate(191.988019 124.640188) scale(0.132 -0.132)\">\n     <defs>\n      <path id=\"DejaVuSans-37\" d=\"M 525 4666 \nL 3525 4666 \nL 3525 4397 \nL 1831 0 \nL 1172 0 \nL 2766 4134 \nL 525 4134 \nL 525 4666 \nz\n\" transform=\"scale(0.015625)\"/>\n      <path id=\"DejaVuSans-31\" d=\"M 794 531 \nL 1825 531 \nL 1825 4091 \nL 703 3866 \nL 703 4441 \nL 1819 4666 \nL 2450 4666 \nL 2450 531 \nL 3481 531 \nL 3481 0 \nL 794 0 \nL 794 531 \nz\n\" transform=\"scale(0.015625)\"/>\n      <path id=\"DejaVuSans-2e\" d=\"M 684 794 \nL 1344 794 \nL 1344 0 \nL 684 0 \nL 684 794 \nz\n\" transform=\"scale(0.015625)\"/>\n      <path id=\"DejaVuSans-34\" d=\"M 2419 4116 \nL 825 1625 \nL 2419 1625 \nL 2419 4116 \nz\nM 2253 4666 \nL 3047 4666 \nL 3047 1625 \nL 3713 1625 \nL 3713 1100 \nL 3047 1100 \nL 3047 0 \nL 2419 0 \nL 2419 1100 \nL 313 1100 \nL 313 1709 \nL 2253 4666 \nz\n\" transform=\"scale(0.015625)\"/>\n      <path id=\"DejaVuSans-33\" d=\"M 2597 2516 \nQ 3050 2419 3304 2112 \nQ 3559 1806 3559 1356 \nQ 3559 666 3084 287 \nQ 2609 -91 1734 -91 \nQ 1441 -91 1130 -33 \nQ 819 25 488 141 \nL 488 750 \nQ 750 597 1062 519 \nQ 1375 441 1716 441 \nQ 2309 441 2620 675 \nQ 2931 909 2931 1356 \nQ 2931 1769 2642 2001 \nQ 2353 2234 1838 2234 \nL 1294 2234 \nL 1294 2753 \nL 1863 2753 \nQ 2328 2753 2575 2939 \nQ 2822 3125 2822 3475 \nQ 2822 3834 2567 4026 \nQ 2313 4219 1838 4219 \nQ 1578 4219 1281 4162 \nQ 984 4106 628 3988 \nL 628 4550 \nQ 988 4650 1302 4700 \nQ 1616 4750 1894 4750 \nQ 2613 4750 3031 4423 \nQ 3450 4097 3450 3541 \nQ 3450 3153 3228 2886 \nQ 3006 2619 2597 2516 \nz\n\" transform=\"scale(0.015625)\"/>\n      <path id=\"DejaVuSans-25\" d=\"M 4653 2053 \nQ 4381 2053 4226 1822 \nQ 4072 1591 4072 1178 \nQ 4072 772 4226 539 \nQ 4381 306 4653 306 \nQ 4919 306 5073 539 \nQ 5228 772 5228 1178 \nQ 5228 1588 5073 1820 \nQ 4919 2053 4653 2053 \nz\nM 4653 2450 \nQ 5147 2450 5437 2106 \nQ 5728 1763 5728 1178 \nQ 5728 594 5436 251 \nQ 5144 -91 4653 -91 \nQ 4153 -91 3862 251 \nQ 3572 594 3572 1178 \nQ 3572 1766 3864 2108 \nQ 4156 2450 4653 2450 \nz\nM 1428 4353 \nQ 1159 4353 1004 4120 \nQ 850 3888 850 3481 \nQ 850 3069 1003 2837 \nQ 1156 2606 1428 2606 \nQ 1700 2606 1854 2837 \nQ 2009 3069 2009 3481 \nQ 2009 3884 1853 4118 \nQ 1697 4353 1428 4353 \nz\nM 4250 4750 \nL 4750 4750 \nL 1831 -91 \nL 1331 -91 \nL 4250 4750 \nz\nM 1428 4750 \nQ 1922 4750 2215 4408 \nQ 2509 4066 2509 3481 \nQ 2509 2891 2217 2550 \nQ 1925 2209 1428 2209 \nQ 931 2209 642 2551 \nQ 353 2894 353 3481 \nQ 353 4063 643 4406 \nQ 934 4750 1428 4750 \nz\n\" transform=\"scale(0.015625)\"/>\n     </defs>\n     <use xlink:href=\"#DejaVuSans-37\"/>\n     <use xlink:href=\"#DejaVuSans-31\" x=\"63.623047\"/>\n     <use xlink:href=\"#DejaVuSans-2e\" x=\"127.246094\"/>\n     <use xlink:href=\"#DejaVuSans-34\" x=\"159.033203\"/>\n     <use xlink:href=\"#DejaVuSans-33\" x=\"222.65625\"/>\n     <use xlink:href=\"#DejaVuSans-25\" x=\"286.279297\"/>\n    </g>\n   </g>\n   <g id=\"text_8\">\n    <!-- 28.57% -->\n    <g style=\"fill: #ffffff\" transform=\"translate(370.548019 124.640188) scale(0.132 -0.132)\">\n     <defs>\n      <path id=\"DejaVuSans-32\" d=\"M 1228 531 \nL 3431 531 \nL 3431 0 \nL 469 0 \nL 469 531 \nQ 828 903 1448 1529 \nQ 2069 2156 2228 2338 \nQ 2531 2678 2651 2914 \nQ 2772 3150 2772 3378 \nQ 2772 3750 2511 3984 \nQ 2250 4219 1831 4219 \nQ 1534 4219 1204 4116 \nQ 875 4013 500 3803 \nL 500 4441 \nQ 881 4594 1212 4672 \nQ 1544 4750 1819 4750 \nQ 2544 4750 2975 4387 \nQ 3406 4025 3406 3419 \nQ 3406 3131 3298 2873 \nQ 3191 2616 2906 2266 \nQ 2828 2175 2409 1742 \nQ 1991 1309 1228 531 \nz\n\" transform=\"scale(0.015625)\"/>\n      <path id=\"DejaVuSans-38\" d=\"M 2034 2216 \nQ 1584 2216 1326 1975 \nQ 1069 1734 1069 1313 \nQ 1069 891 1326 650 \nQ 1584 409 2034 409 \nQ 2484 409 2743 651 \nQ 3003 894 3003 1313 \nQ 3003 1734 2745 1975 \nQ 2488 2216 2034 2216 \nz\nM 1403 2484 \nQ 997 2584 770 2862 \nQ 544 3141 544 3541 \nQ 544 4100 942 4425 \nQ 1341 4750 2034 4750 \nQ 2731 4750 3128 4425 \nQ 3525 4100 3525 3541 \nQ 3525 3141 3298 2862 \nQ 3072 2584 2669 2484 \nQ 3125 2378 3379 2068 \nQ 3634 1759 3634 1313 \nQ 3634 634 3220 271 \nQ 2806 -91 2034 -91 \nQ 1263 -91 848 271 \nQ 434 634 434 1313 \nQ 434 1759 690 2068 \nQ 947 2378 1403 2484 \nz\nM 1172 3481 \nQ 1172 3119 1398 2916 \nQ 1625 2713 2034 2713 \nQ 2441 2713 2670 2916 \nQ 2900 3119 2900 3481 \nQ 2900 3844 2670 4047 \nQ 2441 4250 2034 4250 \nQ 1625 4250 1398 4047 \nQ 1172 3844 1172 3481 \nz\n\" transform=\"scale(0.015625)\"/>\n      <path id=\"DejaVuSans-35\" d=\"M 691 4666 \nL 3169 4666 \nL 3169 4134 \nL 1269 4134 \nL 1269 2991 \nQ 1406 3038 1543 3061 \nQ 1681 3084 1819 3084 \nQ 2600 3084 3056 2656 \nQ 3513 2228 3513 1497 \nQ 3513 744 3044 326 \nQ 2575 -91 1722 -91 \nQ 1428 -91 1123 -41 \nQ 819 9 494 109 \nL 494 744 \nQ 775 591 1075 516 \nQ 1375 441 1709 441 \nQ 2250 441 2565 725 \nQ 2881 1009 2881 1497 \nQ 2881 1984 2565 2268 \nQ 2250 2553 1709 2553 \nQ 1456 2553 1204 2497 \nQ 953 2441 691 2322 \nL 691 4666 \nz\n\" transform=\"scale(0.015625)\"/>\n     </defs>\n     <use xlink:href=\"#DejaVuSans-32\"/>\n     <use xlink:href=\"#DejaVuSans-38\" x=\"63.623047\"/>\n     <use xlink:href=\"#DejaVuSans-2e\" x=\"127.246094\"/>\n     <use xlink:href=\"#DejaVuSans-35\" x=\"159.033203\"/>\n     <use xlink:href=\"#DejaVuSans-37\" x=\"222.65625\"/>\n     <use xlink:href=\"#DejaVuSans-25\" x=\"286.279297\"/>\n    </g>\n   </g>\n   <g id=\"text_9\">\n    <!-- 18.50% -->\n    <g style=\"fill: #ffffff\" transform=\"translate(191.988019 290.960187) scale(0.132 -0.132)\">\n     <defs>\n      <path id=\"DejaVuSans-30\" d=\"M 2034 4250 \nQ 1547 4250 1301 3770 \nQ 1056 3291 1056 2328 \nQ 1056 1369 1301 889 \nQ 1547 409 2034 409 \nQ 2525 409 2770 889 \nQ 3016 1369 3016 2328 \nQ 3016 3291 2770 3770 \nQ 2525 4250 2034 4250 \nz\nM 2034 4750 \nQ 2819 4750 3233 4129 \nQ 3647 3509 3647 2328 \nQ 3647 1150 3233 529 \nQ 2819 -91 2034 -91 \nQ 1250 -91 836 529 \nQ 422 1150 422 2328 \nQ 422 3509 836 4129 \nQ 1250 4750 2034 4750 \nz\n\" transform=\"scale(0.015625)\"/>\n     </defs>\n     <use xlink:href=\"#DejaVuSans-31\"/>\n     <use xlink:href=\"#DejaVuSans-38\" x=\"63.623047\"/>\n     <use xlink:href=\"#DejaVuSans-2e\" x=\"127.246094\"/>\n     <use xlink:href=\"#DejaVuSans-35\" x=\"159.033203\"/>\n     <use xlink:href=\"#DejaVuSans-30\" x=\"222.65625\"/>\n     <use xlink:href=\"#DejaVuSans-25\" x=\"286.279297\"/>\n    </g>\n   </g>\n   <g id=\"text_10\">\n    <!-- 81.50% -->\n    <g style=\"fill: #262626\" transform=\"translate(370.548019 290.960187) scale(0.132 -0.132)\">\n     <use xlink:href=\"#DejaVuSans-38\"/>\n     <use xlink:href=\"#DejaVuSans-31\" x=\"63.623047\"/>\n     <use xlink:href=\"#DejaVuSans-2e\" x=\"127.246094\"/>\n     <use xlink:href=\"#DejaVuSans-35\" x=\"159.033203\"/>\n     <use xlink:href=\"#DejaVuSans-30\" x=\"222.65625\"/>\n     <use xlink:href=\"#DejaVuSans-25\" x=\"286.279297\"/>\n    </g>\n   </g>\n   <g id=\"text_11\">\n    <!-- Confusion Matrix -->\n    <g style=\"fill: #262626\" transform=\"translate(247.351425 17.837812) scale(0.14 -0.14)\">\n     <defs>\n      <path id=\"DejaVuSans-43\" d=\"M 4122 4306 \nL 4122 3641 \nQ 3803 3938 3442 4084 \nQ 3081 4231 2675 4231 \nQ 1875 4231 1450 3742 \nQ 1025 3253 1025 2328 \nQ 1025 1406 1450 917 \nQ 1875 428 2675 428 \nQ 3081 428 3442 575 \nQ 3803 722 4122 1019 \nL 4122 359 \nQ 3791 134 3420 21 \nQ 3050 -91 2638 -91 \nQ 1578 -91 968 557 \nQ 359 1206 359 2328 \nQ 359 3453 968 4101 \nQ 1578 4750 2638 4750 \nQ 3056 4750 3426 4639 \nQ 3797 4528 4122 4306 \nz\n\" transform=\"scale(0.015625)\"/>\n      <path id=\"DejaVuSans-75\" d=\"M 544 1381 \nL 544 3500 \nL 1119 3500 \nL 1119 1403 \nQ 1119 906 1312 657 \nQ 1506 409 1894 409 \nQ 2359 409 2629 706 \nQ 2900 1003 2900 1516 \nL 2900 3500 \nL 3475 3500 \nL 3475 0 \nL 2900 0 \nL 2900 538 \nQ 2691 219 2414 64 \nQ 2138 -91 1772 -91 \nQ 1169 -91 856 284 \nQ 544 659 544 1381 \nz\nM 1991 3584 \nL 1991 3584 \nz\n\" transform=\"scale(0.015625)\"/>\n      <path id=\"DejaVuSans-73\" d=\"M 2834 3397 \nL 2834 2853 \nQ 2591 2978 2328 3040 \nQ 2066 3103 1784 3103 \nQ 1356 3103 1142 2972 \nQ 928 2841 928 2578 \nQ 928 2378 1081 2264 \nQ 1234 2150 1697 2047 \nL 1894 2003 \nQ 2506 1872 2764 1633 \nQ 3022 1394 3022 966 \nQ 3022 478 2636 193 \nQ 2250 -91 1575 -91 \nQ 1294 -91 989 -36 \nQ 684 19 347 128 \nL 347 722 \nQ 666 556 975 473 \nQ 1284 391 1588 391 \nQ 1994 391 2212 530 \nQ 2431 669 2431 922 \nQ 2431 1156 2273 1281 \nQ 2116 1406 1581 1522 \nL 1381 1569 \nQ 847 1681 609 1914 \nQ 372 2147 372 2553 \nQ 372 3047 722 3315 \nQ 1072 3584 1716 3584 \nQ 2034 3584 2315 3537 \nQ 2597 3491 2834 3397 \nz\n\" transform=\"scale(0.015625)\"/>\n      <path id=\"DejaVuSans-4d\" d=\"M 628 4666 \nL 1569 4666 \nL 2759 1491 \nL 3956 4666 \nL 4897 4666 \nL 4897 0 \nL 4281 0 \nL 4281 4097 \nL 3078 897 \nL 2444 897 \nL 1241 4097 \nL 1241 0 \nL 628 0 \nL 628 4666 \nz\n\" transform=\"scale(0.015625)\"/>\n      <path id=\"DejaVuSans-78\" d=\"M 3513 3500 \nL 2247 1797 \nL 3578 0 \nL 2900 0 \nL 1881 1375 \nL 863 0 \nL 184 0 \nL 1544 1831 \nL 300 3500 \nL 978 3500 \nL 1906 2253 \nL 2834 3500 \nL 3513 3500 \nz\n\" transform=\"scale(0.015625)\"/>\n     </defs>\n     <use xlink:href=\"#DejaVuSans-43\"/>\n     <use xlink:href=\"#DejaVuSans-6f\" x=\"69.824219\"/>\n     <use xlink:href=\"#DejaVuSans-6e\" x=\"131.005859\"/>\n     <use xlink:href=\"#DejaVuSans-66\" x=\"194.384766\"/>\n     <use xlink:href=\"#DejaVuSans-75\" x=\"229.589844\"/>\n     <use xlink:href=\"#DejaVuSans-73\" x=\"292.96875\"/>\n     <use xlink:href=\"#DejaVuSans-69\" x=\"345.068359\"/>\n     <use xlink:href=\"#DejaVuSans-6f\" x=\"372.851562\"/>\n     <use xlink:href=\"#DejaVuSans-6e\" x=\"434.033203\"/>\n     <use xlink:href=\"#DejaVuSans-20\" x=\"497.412109\"/>\n     <use xlink:href=\"#DejaVuSans-4d\" x=\"529.199219\"/>\n     <use xlink:href=\"#DejaVuSans-61\" x=\"615.478516\"/>\n     <use xlink:href=\"#DejaVuSans-74\" x=\"676.757812\"/>\n     <use xlink:href=\"#DejaVuSans-72\" x=\"715.966797\"/>\n     <use xlink:href=\"#DejaVuSans-69\" x=\"757.080078\"/>\n     <use xlink:href=\"#DejaVuSans-78\" x=\"784.863281\"/>\n    </g>\n   </g>\n  </g>\n  <g id=\"axes_2\">\n   <g id=\"patch_3\">\n    <path d=\"M 507.313613 370.477812 \nL 523.945613 370.477812 \nL 523.945613 37.837812 \nL 507.313613 37.837812 \nz\n\" style=\"fill: #eaeaf2\"/>\n   </g>\n   <g id=\"matplotlib.axis_3\"/>\n   <g id=\"matplotlib.axis_4\">\n    <g id=\"ytick_3\">\n     <g id=\"line2d_5\">\n      <defs>\n       <path id=\"m45fed21184\" d=\"M 0 0 \nL 6 0 \n\" style=\"stroke: #262626; stroke-width: 1.25\"/>\n      </defs>\n      <g>\n       <use xlink:href=\"#m45fed21184\" x=\"523.945613\" y=\"362.557812\" style=\"fill: #262626; stroke: #262626; stroke-width: 1.25\"/>\n      </g>\n     </g>\n     <g id=\"text_12\">\n      <!-- 20 -->\n      <g style=\"fill: #262626\" transform=\"translate(533.445613 367.154867) scale(0.121 -0.121)\">\n       <use xlink:href=\"#DejaVuSans-32\"/>\n       <use xlink:href=\"#DejaVuSans-30\" x=\"63.623047\"/>\n      </g>\n     </g>\n    </g>\n    <g id=\"ytick_4\">\n     <g id=\"line2d_6\">\n      <g>\n       <use xlink:href=\"#m45fed21184\" x=\"523.945613\" y=\"309.757812\" style=\"fill: #262626; stroke: #262626; stroke-width: 1.25\"/>\n      </g>\n     </g>\n     <g id=\"text_13\">\n      <!-- 30 -->\n      <g style=\"fill: #262626\" transform=\"translate(533.445613 314.354867) scale(0.121 -0.121)\">\n       <use xlink:href=\"#DejaVuSans-33\"/>\n       <use xlink:href=\"#DejaVuSans-30\" x=\"63.623047\"/>\n      </g>\n     </g>\n    </g>\n    <g id=\"ytick_5\">\n     <g id=\"line2d_7\">\n      <g>\n       <use xlink:href=\"#m45fed21184\" x=\"523.945613\" y=\"256.957812\" style=\"fill: #262626; stroke: #262626; stroke-width: 1.25\"/>\n      </g>\n     </g>\n     <g id=\"text_14\">\n      <!-- 40 -->\n      <g style=\"fill: #262626\" transform=\"translate(533.445613 261.554867) scale(0.121 -0.121)\">\n       <use xlink:href=\"#DejaVuSans-34\"/>\n       <use xlink:href=\"#DejaVuSans-30\" x=\"63.623047\"/>\n      </g>\n     </g>\n    </g>\n    <g id=\"ytick_6\">\n     <g id=\"line2d_8\">\n      <g>\n       <use xlink:href=\"#m45fed21184\" x=\"523.945613\" y=\"204.157813\" style=\"fill: #262626; stroke: #262626; stroke-width: 1.25\"/>\n      </g>\n     </g>\n     <g id=\"text_15\">\n      <!-- 50 -->\n      <g style=\"fill: #262626\" transform=\"translate(533.445613 208.754867) scale(0.121 -0.121)\">\n       <use xlink:href=\"#DejaVuSans-35\"/>\n       <use xlink:href=\"#DejaVuSans-30\" x=\"63.623047\"/>\n      </g>\n     </g>\n    </g>\n    <g id=\"ytick_7\">\n     <g id=\"line2d_9\">\n      <g>\n       <use xlink:href=\"#m45fed21184\" x=\"523.945613\" y=\"151.357813\" style=\"fill: #262626; stroke: #262626; stroke-width: 1.25\"/>\n      </g>\n     </g>\n     <g id=\"text_16\">\n      <!-- 60 -->\n      <g style=\"fill: #262626\" transform=\"translate(533.445613 155.954867) scale(0.121 -0.121)\">\n       <defs>\n        <path id=\"DejaVuSans-36\" d=\"M 2113 2584 \nQ 1688 2584 1439 2293 \nQ 1191 2003 1191 1497 \nQ 1191 994 1439 701 \nQ 1688 409 2113 409 \nQ 2538 409 2786 701 \nQ 3034 994 3034 1497 \nQ 3034 2003 2786 2293 \nQ 2538 2584 2113 2584 \nz\nM 3366 4563 \nL 3366 3988 \nQ 3128 4100 2886 4159 \nQ 2644 4219 2406 4219 \nQ 1781 4219 1451 3797 \nQ 1122 3375 1075 2522 \nQ 1259 2794 1537 2939 \nQ 1816 3084 2150 3084 \nQ 2853 3084 3261 2657 \nQ 3669 2231 3669 1497 \nQ 3669 778 3244 343 \nQ 2819 -91 2113 -91 \nQ 1303 -91 875 529 \nQ 447 1150 447 2328 \nQ 447 3434 972 4092 \nQ 1497 4750 2381 4750 \nQ 2619 4750 2861 4703 \nQ 3103 4656 3366 4563 \nz\n\" transform=\"scale(0.015625)\"/>\n       </defs>\n       <use xlink:href=\"#DejaVuSans-36\"/>\n       <use xlink:href=\"#DejaVuSans-30\" x=\"63.623047\"/>\n      </g>\n     </g>\n    </g>\n    <g id=\"ytick_8\">\n     <g id=\"line2d_10\">\n      <g>\n       <use xlink:href=\"#m45fed21184\" x=\"523.945613\" y=\"98.557813\" style=\"fill: #262626; stroke: #262626; stroke-width: 1.25\"/>\n      </g>\n     </g>\n     <g id=\"text_17\">\n      <!-- 70 -->\n      <g style=\"fill: #262626\" transform=\"translate(533.445613 103.154867) scale(0.121 -0.121)\">\n       <use xlink:href=\"#DejaVuSans-37\"/>\n       <use xlink:href=\"#DejaVuSans-30\" x=\"63.623047\"/>\n      </g>\n     </g>\n    </g>\n    <g id=\"ytick_9\">\n     <g id=\"line2d_11\">\n      <g>\n       <use xlink:href=\"#m45fed21184\" x=\"523.945613\" y=\"45.757812\" style=\"fill: #262626; stroke: #262626; stroke-width: 1.25\"/>\n      </g>\n     </g>\n     <g id=\"text_18\">\n      <!-- 80 -->\n      <g style=\"fill: #262626\" transform=\"translate(533.445613 50.354867) scale(0.121 -0.121)\">\n       <use xlink:href=\"#DejaVuSans-38\"/>\n       <use xlink:href=\"#DejaVuSans-30\" x=\"63.623047\"/>\n      </g>\n     </g>\n    </g>\n   </g>\n   <image xlink:href=\"data:image/png;base64,\niVBORw0KGgoAAAANSUhEUgAAABcAAAHOCAYAAABzbJLzAAACS0lEQVR4nO2dwW3DQAwEdbbSRPrv0ylA4+cGGGCmAIJY7vKks+Oc98/v5xpxn1Xl67pew9rXfc6u9zpH7nNpOx9qfr8aKLDtXKy5tvPX0C1mWbSdizXXLq7pSdQ+J7wDLURImnPxc3bN9yCKmBdXmlPxZCGyIpLmXLxHC8L7aJHmSCFCxAP1au7tfPkhVAc0khWRFhcXN1txR1ZEzPHfPs7taKCIOkQ71CFqoE+8A21xIb0TIYUISXMkzb8Vt8ri/bqyV/Pij8XNsuwoREhu4eINlPAOtPgj92v2F1xZ8QvFHxGHaHwS7fDuFu9Aiz8yvljIioB3oHWO3KfHOcDceYsL8LqlgSLrge5EL/6IeOVu3+Y+WisOi3sH2uJCtveKxyvLsHidI7mFi5tl0XY+PIoKETIO0fDCZW1Fa+fixzmv5sPO1bLsinsHWoiQqVsaKDIe6PAt12tFr+aFCFkPdFe8MxRZh2hWWyxLnSO5BfGuXPVW3BXPiohY82t5JeKVpc6JsRW1nU9PomQhsiJyn+GHc17NkwVZd27VPLd8KW6VxTzQOn+yvswZ/q6FVxZz57v6aY5MV65Ylkv7L4TEmms7P8PFJZalEBGdochU86yIeLdimiP5/FtxrSza3ygWay7uvDP0iXig4hvR3PLfxTuJELXm2s4LEVCIkDpHpvFPFiQrImn+/8UbKJLmiFfzZEHWX555z4qnOVKIEPNAxZpr4y/WvPg/6SRCChFSiJD2OeK14nrldiXyRG3F4v/EG/9pQr2yZEXEG/8/uQovW3ZD+3kAAAAASUVORK5CYII=\" id=\"imagefdd45bc718\" transform=\"scale(1 -1) translate(0 -332.64)\" x=\"507.6\" y=\"-37.44\" width=\"16.56\" height=\"332.64\"/>\n   <g id=\"LineCollection_1\"/>\n   <g id=\"patch_4\">\n    <path d=\"M 507.313613 370.477812 \nL 515.629613 370.477812 \nL 523.945613 370.477812 \nL 523.945613 37.837812 \nL 515.629613 37.837812 \nL 507.313613 37.837812 \nL 507.313613 370.477812 \nz\n\" style=\"fill: none\"/>\n   </g>\n  </g>\n </g>\n <defs>\n  <clipPath id=\"p9d06168710\">\n   <rect x=\"127.873613\" y=\"37.837812\" width=\"357.12\" height=\"332.64\"/>\n  </clipPath>\n </defs>\n</svg>\n"
          },
          "metadata": {}
        }
      ]
    },
    {
      "cell_type": "code",
      "source": [
        "## Run the above models across multiple runs"
      ],
      "metadata": {
        "id": "980cITMLXFz0"
      },
      "execution_count": null,
      "outputs": []
    },
    {
      "cell_type": "code",
      "source": [
        "def train_custom_model(model, train_dataloader, epochs, class_weights, optimizer, scheduler):\n",
        "  training_stats = []\n",
        "  total_t0 = time.time()\n",
        "  for epoch_i in range(0, epochs):\n",
        "    print(\"\")\n",
        "    print('======== Epoch {:} / {:} ========'.format(epoch_i + 1, epochs))\n",
        "    print('Training...')\n",
        "    # Measure how long the training epoch takes.\n",
        "    t0 = time.time()\n",
        "    # Reset the total loss for this epoch.\n",
        "    total_train_loss = 0\n",
        "    model.train()\n",
        "    # Pick an interval on which to print progress updates.\n",
        "    update_interval = good_update_interval(\n",
        "                total_iters = len(train_dataloader),\n",
        "                num_desired_updates = 10\n",
        "            )\n",
        "    # For each batch of training data...\n",
        "    for step, batch in enumerate(train_dataloader):\n",
        "        b_input_ids = batch[0].to(device)\n",
        "        b_numer_feats = batch[1].double().to(device)\n",
        "        b_input_mask = batch[2].to(device)\n",
        "        b_labels = batch[3].to(device)\n",
        "        # b_context_input_ids = batch[4].to(device)\n",
        "        # b_context_input_mask = batch[5].to(device)\n",
        "\n",
        "        model.zero_grad()\n",
        "\n",
        "        # Perform a forward pass (evaluate the model on this training batch).\n",
        "        # In PyTorch, calling `model` will in turn call the model's `forward`\n",
        "        # function and pass down the arguments. The `forward` function is\n",
        "        # documented here:\n",
        "        # https://huggingface.co/transformers/model_doc/bert.html#bertforsequenceclassification\n",
        "        # The results are returned in a results object, documented here:\n",
        "        # https://huggingface.co/transformers/main_classes/output.html#transformers.modeling_outputs.SequenceClassifierOutput\n",
        "        # Specifically, we'll get the loss (because we provided labels) and the\n",
        "        # \"logits\"--the model outputs prior to activation.\n",
        "        result = model(b_input_ids,\n",
        "                       token_type_ids=None,\n",
        "                       attention_mask=b_input_mask,\n",
        "                       labels = b_labels,\n",
        "                       numerical_feats = b_numer_feats,\n",
        "                       class_weights = class_weights)\n",
        "                      #  context_input_ids = b_context_input_ids,\n",
        "                      #  context_attention_mask = b_context_input_mask)\n",
        "\n",
        "        loss = result['loss']\n",
        "        logits = result['logits']\n",
        "\n",
        "        # Accumulate the training loss over all of the batches so that we can\n",
        "        # calculate the average loss at the end. `loss` is a Tensor containing a\n",
        "        # single value; the `.item()` function just returns the Python value\n",
        "        # from the tensor.\n",
        "        total_train_loss += loss.item()\n",
        "\n",
        "        # Perform a backward pass to calculate the gradients.\n",
        "        loss.backward()\n",
        "\n",
        "        # Clip the norm of the gradients to 1.0.\n",
        "        # This is to help prevent the \"exploding gradients\" problem.\n",
        "        torch.nn.utils.clip_grad_norm_(model.parameters(), 1.0)\n",
        "\n",
        "        # Update parameters and take a step using the computed gradient.\n",
        "        # The optimizer dictates the \"update rule\"--how the parameters are\n",
        "        # modified based on their gradients, the learning rate, etc.\n",
        "        optimizer.step()\n",
        "\n",
        "        # Update the learning rate.\n",
        "        scheduler.step()\n",
        "\n",
        "    # Calculate the average loss over all of the batches.\n",
        "    avg_train_loss = total_train_loss / len(train_dataloader)\n",
        "\n",
        "    # Measure how long this epoch took.\n",
        "    training_time = format_time(time.time() - t0)\n",
        "\n",
        "    print(\"\")\n",
        "    print(\"  Average training loss: {0:.2f}\".format(avg_train_loss))\n",
        "    print(\"  Training epoch took: {:}\".format(training_time))"
      ],
      "metadata": {
        "id": "uJJBvyAxwJPS"
      },
      "execution_count": null,
      "outputs": []
    },
    {
      "cell_type": "code",
      "source": [
        "def test_custom_model(model,test_dataloader):\n",
        "  # Put model in evaluation mode\n",
        "  model.eval()\n",
        "  # Tracking variables\n",
        "  predictions , true_labels = [], []\n",
        "  # Predict\n",
        "  for batch in test_dataloader:\n",
        "    # Add batch to GPU\n",
        "    batch = tuple(t.to(device) for t in batch)\n",
        "\n",
        "    # Unpack the inputs from our dataloader\n",
        "    b_input_ids, b_numerical_feats, b_input_mask, b_labels = batch\n",
        "\n",
        "    # Telling the model not to compute or store gradients, saving memory and\n",
        "    # speeding up prediction\n",
        "    with torch.no_grad():\n",
        "        # Forward pass, calculate logit predictions.\n",
        "        result = model(b_input_ids,\n",
        "                      token_type_ids=None,\n",
        "                      attention_mask=b_input_mask,\n",
        "                      numerical_feats = b_numerical_feats)\n",
        "\n",
        "    logits = result['logits']\n",
        "\n",
        "    # Move logits and labels to CPU\n",
        "    logits = logits.detach().cpu().numpy()\n",
        "    label_ids = b_labels.to('cpu').numpy()\n",
        "\n",
        "    # Store predictions and true labels\n",
        "    predictions.append(logits)\n",
        "    true_labels.append(label_ids)\n",
        "  return predictions, true_labels"
      ],
      "metadata": {
        "id": "g2RAK3E7sOaK"
      },
      "execution_count": null,
      "outputs": []
    },
    {
      "cell_type": "code",
      "source": [
        "def run_and_test_fusion_multiple_times(no_of_runs=1, num_labels=5, epochs=4, train_dataloader = train_dataloader, test_dataloader= test_dataloader, class_weights=class_weights):\n",
        "  results = {}\n",
        "  for i in range(0, no_of_runs):\n",
        "    # Init config\n",
        "    config = BertConfig.from_pretrained('xlm-roberta-base', num_labels=num_labels)\n",
        "    config.numerical_feat_dim = 6\n",
        "    config.text_feat_dim = config.hidden_size\n",
        "    # config.context_feat_dim = config.hidden_size\n",
        "\n",
        "    # Initialize model and load it to device every single time\n",
        "    model = BertConcatFeatures.from_pretrained(\n",
        "    'xlm-roberta-base',\n",
        "    config = config\n",
        "    )\n",
        "    # Move model to device\n",
        "    desc = model.to(device)\n",
        "    optimizer = torch.optim.AdamW(model.parameters(),\n",
        "                  lr = 2e-5, # args.learning_rate\n",
        "                  eps = 1e-6 # args.adam_epsilon  - default is 1e-8.\n",
        "                )\n",
        "\n",
        "    # Total number of training steps is [number of batches] x [number of epochs].\n",
        "    # (Note that this is not the same as the number of training samples).\n",
        "    total_steps = len(train_dataloader) * epochs\n",
        "\n",
        "    # Create the learning rate scheduler.\n",
        "    scheduler = get_linear_schedule_with_warmup(optimizer,\n",
        "                                                num_warmup_steps = 0,\n",
        "                                                num_training_steps = total_steps)\n",
        "    # Measure the total training time for the whole run.\n",
        "    total_t0 = time.time()\n",
        "    print(f\"Training Current run: {i+1}\")\n",
        "    train_custom_model(model, train_dataloader, epochs, class_weights, optimizer, scheduler)\n",
        "    print(f\"Testing Current run: {i+1}\")\n",
        "    # Test model on test set\n",
        "    predictions, true_labels = test_custom_model(model, test_dataloader)\n",
        "    results[f\"Run {i+1}\"] = (predictions, true_labels)\n",
        "  return results"
      ],
      "metadata": {
        "id": "apZjH5h9v0sP"
      },
      "execution_count": null,
      "outputs": []
    },
    {
      "cell_type": "code",
      "source": [
        "results = run_and_test_fusion_multiple_times(no_of_runs=5, epochs=3, num_labels=2)"
      ],
      "metadata": {
        "colab": {
          "base_uri": "https://localhost:8080/"
        },
        "id": "1iIm142mv0wl",
        "outputId": "ce3b90cb-3ce7-4b29-e9e4-75616a9211cd"
      },
      "execution_count": null,
      "outputs": [
        {
          "output_type": "stream",
          "name": "stderr",
          "text": [
            "You are using a model of type xlm-roberta to instantiate a model of type bert. This is not supported for all configurations of models and can yield errors.\n",
            "Some weights of the model checkpoint at xlm-roberta-base were not used when initializing BertConcatFeatures: ['lm_head.layer_norm.bias', 'lm_head.bias', 'roberta.pooler.dense.bias', 'lm_head.layer_norm.weight', 'lm_head.dense.weight', 'lm_head.dense.bias', 'roberta.pooler.dense.weight']\n",
            "- This IS expected if you are initializing BertConcatFeatures from the checkpoint of a model trained on another task or with another architecture (e.g. initializing a BertForSequenceClassification model from a BertForPreTraining model).\n",
            "- This IS NOT expected if you are initializing BertConcatFeatures from the checkpoint of a model that you expect to be exactly identical (initializing a BertForSequenceClassification model from a BertForSequenceClassification model).\n",
            "Some weights of BertConcatFeatures were not initialized from the model checkpoint at xlm-roberta-base and are newly initialized: ['mlp.batch_norm.weight', 'num_bn.running_mean', 'linear_classifier.bias', 'num_bn.bias', 'num_bn.weight', 'num_bn.running_var', 'num_bn.num_batches_tracked', 'mlp.out_proj.bias', 'mlp.dense.weight', 'mlp.batch_norm.running_var', 'classifier.dense.bias', 'mlp.out_proj.weight', 'linear_classifier.weight', 'classifier.dense.weight', 'classifier.out_proj.weight', 'mlp.dense.bias', 'mlp.batch_norm.running_mean', 'mlp.batch_norm.bias', 'classifier.out_proj.bias', 'mlp.batch_norm.num_batches_tracked']\n",
            "You should probably TRAIN this model on a down-stream task to be able to use it for predictions and inference.\n"
          ]
        },
        {
          "output_type": "stream",
          "name": "stdout",
          "text": [
            "MLP Layer sizes:\n",
            " Input: 774\n",
            " Output: 2\n",
            "Training Current run: 1\n",
            "\n",
            "======== Epoch 1 / 3 ========\n",
            "Training...\n",
            "\n",
            "  Average training loss: 0.59\n",
            "  Training epoch took: 0:02:03\n",
            "\n",
            "======== Epoch 2 / 3 ========\n",
            "Training...\n",
            "\n",
            "  Average training loss: 0.48\n",
            "  Training epoch took: 0:02:03\n",
            "\n",
            "======== Epoch 3 / 3 ========\n",
            "Training...\n",
            "\n",
            "  Average training loss: 0.42\n",
            "  Training epoch took: 0:02:03\n",
            "Testing Current run: 1\n"
          ]
        },
        {
          "output_type": "stream",
          "name": "stderr",
          "text": [
            "You are using a model of type xlm-roberta to instantiate a model of type bert. This is not supported for all configurations of models and can yield errors.\n"
          ]
        },
        {
          "output_type": "stream",
          "name": "stdout",
          "text": [
            "MLP Layer sizes:\n",
            " Input: 774\n",
            " Output: 2\n"
          ]
        },
        {
          "output_type": "stream",
          "name": "stderr",
          "text": [
            "Some weights of the model checkpoint at xlm-roberta-base were not used when initializing BertConcatFeatures: ['lm_head.layer_norm.bias', 'lm_head.bias', 'roberta.pooler.dense.bias', 'lm_head.layer_norm.weight', 'lm_head.dense.weight', 'lm_head.dense.bias', 'roberta.pooler.dense.weight']\n",
            "- This IS expected if you are initializing BertConcatFeatures from the checkpoint of a model trained on another task or with another architecture (e.g. initializing a BertForSequenceClassification model from a BertForPreTraining model).\n",
            "- This IS NOT expected if you are initializing BertConcatFeatures from the checkpoint of a model that you expect to be exactly identical (initializing a BertForSequenceClassification model from a BertForSequenceClassification model).\n",
            "Some weights of BertConcatFeatures were not initialized from the model checkpoint at xlm-roberta-base and are newly initialized: ['mlp.batch_norm.weight', 'num_bn.running_mean', 'linear_classifier.bias', 'num_bn.bias', 'num_bn.weight', 'num_bn.running_var', 'num_bn.num_batches_tracked', 'mlp.out_proj.bias', 'mlp.dense.weight', 'mlp.batch_norm.running_var', 'classifier.dense.bias', 'mlp.out_proj.weight', 'linear_classifier.weight', 'classifier.dense.weight', 'classifier.out_proj.weight', 'mlp.dense.bias', 'mlp.batch_norm.running_mean', 'mlp.batch_norm.bias', 'classifier.out_proj.bias', 'mlp.batch_norm.num_batches_tracked']\n",
            "You should probably TRAIN this model on a down-stream task to be able to use it for predictions and inference.\n"
          ]
        },
        {
          "output_type": "stream",
          "name": "stdout",
          "text": [
            "Training Current run: 2\n",
            "\n",
            "======== Epoch 1 / 3 ========\n",
            "Training...\n",
            "\n",
            "  Average training loss: 0.56\n",
            "  Training epoch took: 0:02:03\n",
            "\n",
            "======== Epoch 2 / 3 ========\n",
            "Training...\n",
            "\n",
            "  Average training loss: 0.47\n",
            "  Training epoch took: 0:02:03\n",
            "\n",
            "======== Epoch 3 / 3 ========\n",
            "Training...\n",
            "\n",
            "  Average training loss: 0.40\n",
            "  Training epoch took: 0:02:03\n",
            "Testing Current run: 2\n"
          ]
        },
        {
          "output_type": "stream",
          "name": "stderr",
          "text": [
            "You are using a model of type xlm-roberta to instantiate a model of type bert. This is not supported for all configurations of models and can yield errors.\n",
            "Some weights of the model checkpoint at xlm-roberta-base were not used when initializing BertConcatFeatures: ['lm_head.layer_norm.bias', 'lm_head.bias', 'roberta.pooler.dense.bias', 'lm_head.layer_norm.weight', 'lm_head.dense.weight', 'lm_head.dense.bias', 'roberta.pooler.dense.weight']\n",
            "- This IS expected if you are initializing BertConcatFeatures from the checkpoint of a model trained on another task or with another architecture (e.g. initializing a BertForSequenceClassification model from a BertForPreTraining model).\n",
            "- This IS NOT expected if you are initializing BertConcatFeatures from the checkpoint of a model that you expect to be exactly identical (initializing a BertForSequenceClassification model from a BertForSequenceClassification model).\n",
            "Some weights of BertConcatFeatures were not initialized from the model checkpoint at xlm-roberta-base and are newly initialized: ['mlp.batch_norm.weight', 'num_bn.running_mean', 'linear_classifier.bias', 'num_bn.bias', 'num_bn.weight', 'num_bn.running_var', 'num_bn.num_batches_tracked', 'mlp.out_proj.bias', 'mlp.dense.weight', 'mlp.batch_norm.running_var', 'classifier.dense.bias', 'mlp.out_proj.weight', 'linear_classifier.weight', 'classifier.dense.weight', 'classifier.out_proj.weight', 'mlp.dense.bias', 'mlp.batch_norm.running_mean', 'mlp.batch_norm.bias', 'classifier.out_proj.bias', 'mlp.batch_norm.num_batches_tracked']\n",
            "You should probably TRAIN this model on a down-stream task to be able to use it for predictions and inference.\n"
          ]
        },
        {
          "output_type": "stream",
          "name": "stdout",
          "text": [
            "MLP Layer sizes:\n",
            " Input: 774\n",
            " Output: 2\n",
            "Training Current run: 3\n",
            "\n",
            "======== Epoch 1 / 3 ========\n",
            "Training...\n",
            "\n",
            "  Average training loss: 0.56\n",
            "  Training epoch took: 0:02:03\n",
            "\n",
            "======== Epoch 2 / 3 ========\n",
            "Training...\n",
            "\n",
            "  Average training loss: 0.47\n",
            "  Training epoch took: 0:02:03\n",
            "\n",
            "======== Epoch 3 / 3 ========\n",
            "Training...\n",
            "\n",
            "  Average training loss: 0.41\n",
            "  Training epoch took: 0:02:03\n",
            "Testing Current run: 3\n"
          ]
        },
        {
          "output_type": "stream",
          "name": "stderr",
          "text": [
            "You are using a model of type xlm-roberta to instantiate a model of type bert. This is not supported for all configurations of models and can yield errors.\n",
            "Some weights of the model checkpoint at xlm-roberta-base were not used when initializing BertConcatFeatures: ['lm_head.layer_norm.bias', 'lm_head.bias', 'roberta.pooler.dense.bias', 'lm_head.layer_norm.weight', 'lm_head.dense.weight', 'lm_head.dense.bias', 'roberta.pooler.dense.weight']\n",
            "- This IS expected if you are initializing BertConcatFeatures from the checkpoint of a model trained on another task or with another architecture (e.g. initializing a BertForSequenceClassification model from a BertForPreTraining model).\n",
            "- This IS NOT expected if you are initializing BertConcatFeatures from the checkpoint of a model that you expect to be exactly identical (initializing a BertForSequenceClassification model from a BertForSequenceClassification model).\n",
            "Some weights of BertConcatFeatures were not initialized from the model checkpoint at xlm-roberta-base and are newly initialized: ['mlp.batch_norm.weight', 'num_bn.running_mean', 'linear_classifier.bias', 'num_bn.bias', 'num_bn.weight', 'num_bn.running_var', 'num_bn.num_batches_tracked', 'mlp.out_proj.bias', 'mlp.dense.weight', 'mlp.batch_norm.running_var', 'classifier.dense.bias', 'mlp.out_proj.weight', 'linear_classifier.weight', 'classifier.dense.weight', 'classifier.out_proj.weight', 'mlp.dense.bias', 'mlp.batch_norm.running_mean', 'mlp.batch_norm.bias', 'classifier.out_proj.bias', 'mlp.batch_norm.num_batches_tracked']\n",
            "You should probably TRAIN this model on a down-stream task to be able to use it for predictions and inference.\n"
          ]
        },
        {
          "output_type": "stream",
          "name": "stdout",
          "text": [
            "MLP Layer sizes:\n",
            " Input: 774\n",
            " Output: 2\n",
            "Training Current run: 4\n",
            "\n",
            "======== Epoch 1 / 3 ========\n",
            "Training...\n",
            "\n",
            "  Average training loss: 0.55\n",
            "  Training epoch took: 0:02:03\n",
            "\n",
            "======== Epoch 2 / 3 ========\n",
            "Training...\n",
            "\n",
            "  Average training loss: 0.47\n",
            "  Training epoch took: 0:02:03\n",
            "\n",
            "======== Epoch 3 / 3 ========\n",
            "Training...\n",
            "\n",
            "  Average training loss: 0.41\n",
            "  Training epoch took: 0:02:03\n",
            "Testing Current run: 4\n"
          ]
        },
        {
          "output_type": "stream",
          "name": "stderr",
          "text": [
            "You are using a model of type xlm-roberta to instantiate a model of type bert. This is not supported for all configurations of models and can yield errors.\n",
            "Some weights of the model checkpoint at xlm-roberta-base were not used when initializing BertConcatFeatures: ['lm_head.layer_norm.bias', 'lm_head.bias', 'roberta.pooler.dense.bias', 'lm_head.layer_norm.weight', 'lm_head.dense.weight', 'lm_head.dense.bias', 'roberta.pooler.dense.weight']\n",
            "- This IS expected if you are initializing BertConcatFeatures from the checkpoint of a model trained on another task or with another architecture (e.g. initializing a BertForSequenceClassification model from a BertForPreTraining model).\n",
            "- This IS NOT expected if you are initializing BertConcatFeatures from the checkpoint of a model that you expect to be exactly identical (initializing a BertForSequenceClassification model from a BertForSequenceClassification model).\n",
            "Some weights of BertConcatFeatures were not initialized from the model checkpoint at xlm-roberta-base and are newly initialized: ['mlp.batch_norm.weight', 'num_bn.running_mean', 'linear_classifier.bias', 'num_bn.bias', 'num_bn.weight', 'num_bn.running_var', 'num_bn.num_batches_tracked', 'mlp.out_proj.bias', 'mlp.dense.weight', 'mlp.batch_norm.running_var', 'classifier.dense.bias', 'mlp.out_proj.weight', 'linear_classifier.weight', 'classifier.dense.weight', 'classifier.out_proj.weight', 'mlp.dense.bias', 'mlp.batch_norm.running_mean', 'mlp.batch_norm.bias', 'classifier.out_proj.bias', 'mlp.batch_norm.num_batches_tracked']\n",
            "You should probably TRAIN this model on a down-stream task to be able to use it for predictions and inference.\n"
          ]
        },
        {
          "output_type": "stream",
          "name": "stdout",
          "text": [
            "MLP Layer sizes:\n",
            " Input: 774\n",
            " Output: 2\n",
            "Training Current run: 5\n",
            "\n",
            "======== Epoch 1 / 3 ========\n",
            "Training...\n",
            "\n",
            "  Average training loss: 0.55\n",
            "  Training epoch took: 0:02:03\n",
            "\n",
            "======== Epoch 2 / 3 ========\n",
            "Training...\n",
            "\n",
            "  Average training loss: 0.46\n",
            "  Training epoch took: 0:02:03\n",
            "\n",
            "======== Epoch 3 / 3 ========\n",
            "Training...\n",
            "\n",
            "  Average training loss: 0.40\n",
            "  Training epoch took: 0:02:03\n",
            "Testing Current run: 5\n"
          ]
        }
      ]
    },
    {
      "cell_type": "code",
      "source": [
        "# Print out the average results\n",
        "# Save the results to a csv or something of the sort"
      ],
      "metadata": {
        "id": "1pQxHRSZv07I"
      },
      "execution_count": null,
      "outputs": []
    },
    {
      "cell_type": "code",
      "source": [
        "(best_model_predictions, best_model_true_labels), macro_f1_score, avg_report = average_classification_report(results, target_names=mapping.keys())"
      ],
      "metadata": {
        "id": "bouUjwg8v00B"
      },
      "execution_count": null,
      "outputs": []
    },
    {
      "cell_type": "code",
      "source": [
        "print(macro_f1_score)"
      ],
      "metadata": {
        "id": "KQRikiTkv04K",
        "colab": {
          "base_uri": "https://localhost:8080/"
        },
        "outputId": "44ff9b3e-fabf-48e6-ad7c-a5cc1003cd71"
      },
      "execution_count": null,
      "outputs": [
        {
          "output_type": "stream",
          "name": "stdout",
          "text": [
            "0.7637750422851963\n"
          ]
        }
      ]
    },
    {
      "cell_type": "code",
      "source": [
        "results_df = pd.DataFrame.from_dict(avg_report)"
      ],
      "metadata": {
        "id": "pe_68E8-xdsw"
      },
      "execution_count": null,
      "outputs": []
    },
    {
      "cell_type": "code",
      "source": [
        "results_df.to_csv('/content/drive/My Drive/thesis/informative_types_averaged_results_with_custom_features.csv')"
      ],
      "metadata": {
        "id": "fQVq9bsQJjtG"
      },
      "execution_count": null,
      "outputs": []
    },
    {
      "cell_type": "code",
      "source": [
        "plot_cm_with_percentages(best_model_true_labels, best_model_predictions, mapping.keys(), name=\"informative_averaged_results\")"
      ],
      "metadata": {
        "id": "HCEG7nKQxd1n",
        "colab": {
          "base_uri": "https://localhost:8080/",
          "height": 169
        },
        "outputId": "8c3dab0a-a008-485c-fb83-bd3356e56a44"
      },
      "execution_count": null,
      "outputs": [
        {
          "output_type": "error",
          "ename": "NameError",
          "evalue": "ignored",
          "traceback": [
            "\u001b[0;31m---------------------------------------------------------------------------\u001b[0m",
            "\u001b[0;31mNameError\u001b[0m                                 Traceback (most recent call last)",
            "\u001b[0;32m<ipython-input-139-b8a87a90428d>\u001b[0m in \u001b[0;36m<cell line: 1>\u001b[0;34m()\u001b[0m\n\u001b[0;32m----> 1\u001b[0;31m \u001b[0mplot_cm_with_percentages\u001b[0m\u001b[0;34m(\u001b[0m\u001b[0mbest_model_true_labels\u001b[0m\u001b[0;34m,\u001b[0m \u001b[0mbest_model_predictions\u001b[0m\u001b[0;34m,\u001b[0m \u001b[0mmapping\u001b[0m\u001b[0;34m.\u001b[0m\u001b[0mkeys\u001b[0m\u001b[0;34m(\u001b[0m\u001b[0;34m)\u001b[0m\u001b[0;34m,\u001b[0m \u001b[0mname\u001b[0m\u001b[0;34m=\u001b[0m\u001b[0;34m\"informative_averaged_results\"\u001b[0m\u001b[0;34m)\u001b[0m\u001b[0;34m\u001b[0m\u001b[0;34m\u001b[0m\u001b[0m\n\u001b[0m",
            "\u001b[0;31mNameError\u001b[0m: name 'plot_cm_with_percentages' is not defined"
          ]
        }
      ]
    },
    {
      "cell_type": "code",
      "source": [
        "print(classification_report(best_model_true_labels, best_model_predictions, target_names=mapping.keys()))"
      ],
      "metadata": {
        "colab": {
          "base_uri": "https://localhost:8080/"
        },
        "id": "rO9FTQeGbSaU",
        "outputId": "5b7245e2-0cb3-466d-bbeb-fed71156f690"
      },
      "execution_count": null,
      "outputs": [
        {
          "output_type": "stream",
          "name": "stdout",
          "text": [
            "                 precision    recall  f1-score   support\n",
            "\n",
            "    Informative       0.68      0.76      0.72       980\n",
            "Non-Informative       0.86      0.82      0.84      1870\n",
            "\n",
            "       accuracy                           0.80      2850\n",
            "      macro avg       0.77      0.79      0.78      2850\n",
            "   weighted avg       0.80      0.80      0.80      2850\n",
            "\n"
          ]
        }
      ]
    },
    {
      "cell_type": "code",
      "source": [
        "# STUDY 3: Model Evaluation across language groups"
      ],
      "metadata": {
        "id": "IvPJ2gqIxd7n"
      },
      "execution_count": null,
      "outputs": []
    },
    {
      "cell_type": "code",
      "source": [
        "# Code to save the models"
      ],
      "metadata": {
        "id": "BuTAxJ2Mlp5W"
      },
      "execution_count": null,
      "outputs": []
    },
    {
      "cell_type": "code",
      "source": [
        "# Save the model\n",
        "model_path = \"/content/drive/My Drive/thesis/models/\"\n",
        "model.save_pretrained(model_path)\n",
        "\n",
        "print(\"Model saved successfully!\")"
      ],
      "metadata": {
        "id": "fuuN43rUm_7V"
      },
      "execution_count": null,
      "outputs": []
    },
    {
      "cell_type": "code",
      "source": [
        "# Split the testdataset according to language and then compare the results across the different language groups\n",
        "# English and swahili posts"
      ],
      "metadata": {
        "id": "D-vVwPZYvnMI"
      },
      "execution_count": null,
      "outputs": []
    },
    {
      "cell_type": "code",
      "source": [
        "print(test_data.shape)"
      ],
      "metadata": {
        "id": "6_y0mazf4fPC",
        "colab": {
          "base_uri": "https://localhost:8080/"
        },
        "outputId": "fe49fa69-53dc-4e4c-b9a1-ae7e264db3c6"
      },
      "execution_count": null,
      "outputs": [
        {
          "output_type": "stream",
          "name": "stdout",
          "text": [
            "(1418, 20)\n"
          ]
        }
      ]
    },
    {
      "cell_type": "code",
      "source": [
        "test_data.head()"
      ],
      "metadata": {
        "id": "JmjANdFc4klv",
        "colab": {
          "base_uri": "https://localhost:8080/",
          "height": 1000
        },
        "outputId": "ce003b58-44aa-41aa-fba0-8cb8a886853f"
      },
      "execution_count": null,
      "outputs": [
        {
          "output_type": "execute_result",
          "data": {
            "text/plain": [
              "                                                                                                                                                                                                                                                           text  \\\n",
              "0                                                             Nope. We have refused to bleed so that your leader can lead. This thing is done and dusted. P.O.R.K is the one declared yesterday and gazetted by iebc today. Take this info to your safest safe.   \n",
              "1                                                                                             Democracy ensures Societal equality. It is your right to vote Practice it. Wishing Us a peaceful election ahead.\\n#KenyaDecides2022 #Iebc #KenyansPoll #Democracy   \n",
              "2                                                                I have never been shocked as much as I have been shocked by the IEBC Madam who started giving a press statement in Serena. The next thing I thought would happen was a Military Takeover. Wah!   \n",
              "3                                       You cannot interfere with the numbers in the IEBC portal Form 34As. Stop intimidating Returning Officers and distracting IEBC, just write a concession letter silently and in peace because Kenyans made their decision   \n",
              "4  It's increasingly looking like we're going to get the usual cry from Raila of 'my votes have been stolen'  after 9 Aug .\\nToo much unnecessary cry from his side -  blaming IEBC, boycotting the debate etc when they've been bragging of having deep state.   \n",
              "\n",
              "                                                                                                                                                                                                                                   clean_text  \\\n",
              "0                                                                  nope we have refused bleed so that your leader can lead this thing done and dusted k the one declared yesterday and gazetted by iebc today take this info your safest safe   \n",
              "1                                                                                                  democracy ensures societal equality it your right vote practice it wishing peaceful election ahead kenyadecides iebc kenyanspoll democracy   \n",
              "2                                                           have never been shocked as much as have been shocked by the iebc madam who started giving press statement in serena the next thing thought would happen was military takeover wah   \n",
              "3                                you cannot interfere with the numbers in the iebc portal form as intimidating returning officers and distracting iebc just write concession letter silently and in peace because kenyans made their decision   \n",
              "4  it increasingly looking like we re going get the usual cry from raila of my votes have been stolen after aug too much unnecessary cry from his side blaming iebc boycotting the debate etc when they ve been bragging of having deep state   \n",
              "\n",
              "                                                                                                                                                                                                                                                 normalized_text  \\\n",
              "0                                                   Nope . We have refused to bleed so that your leader can lead . This thing is done and dusted . P . O . R . K is the one declared yesterday and gazetted by iebc today . Take this info to your safest safe .   \n",
              "1                                                                                            Democracy ensures Societal equality . It is your right to vote Practice it . Wishing Us a peaceful election ahead . #KenyaDecides2022 #Iebc #KenyansPoll #Democracy   \n",
              "2                                                              I have never been shocked as much as I have been shocked by the IEBC Madam who started giving a press statement in Serena . The next thing I thought would happen was a Military Takeover . Wah !   \n",
              "3                                      You cannot interfere with the numbers in the IEBC portal Form 34As . Stop intimidating Returning Officers and distracting IEBC , just write a concession letter silently and in peace because Kenyans made their decision   \n",
              "4  It's increasingly looking like we're going to get the usual cry from Raila of ' my votes have been stolen ' after 9 Aug . Too much unnecessary cry from his side - blaming IEBC , boycotting the debate etc when they've been bragging of having deep state .   \n",
              "\n",
              "  merged_label     label     status Election Date                date  \\\n",
              "0        Other  Opinions      draft   August 2022 2022-08-16 20:56:28   \n",
              "1        Other  Opinions  published   August 2022 2022-08-09 05:10:34   \n",
              "2        Other  Opinions  published   August 2022 2022-08-15 17:18:58   \n",
              "3        Other  Opinions  published   August 2022 2022-08-12 09:05:52   \n",
              "4        Other  Opinions  published   August 2022 2022-07-24 16:09:34   \n",
              "\n",
              "  informative_label  election_distance  election_distance_abs  hour  hour_sin  \\\n",
              "0   Non-Informative                 -8                      8    20 -0.866025   \n",
              "1   Non-Informative                 -1                      1     5  0.965926   \n",
              "2   Non-Informative                 -7                      7    17 -0.965926   \n",
              "3   Non-Informative                 -4                      4     9  0.707107   \n",
              "4   Non-Informative                 15                     15    16 -0.866025   \n",
              "\n",
              "   hour_cos  informative_target  \\\n",
              "0  0.500000                   1   \n",
              "1  0.258819                   1   \n",
              "2 -0.258819                   1   \n",
              "3 -0.707107                   1   \n",
              "4 -0.500000                   1   \n",
              "\n",
              "                                                                                                                                                                                                                                                                                                                                                                                                                                                                                                                                                                                                                                                 context  \\\n",
              "0  We have 47 universities in Kenya teaching Statistics and Actuarial Science yet only 2 people were interested to analyze the IEBC numbers . We have 69 Universities in Kenya teaching computer science YET i haven't seen any App or Websites reporting & analyzing IEBC numbers [SEP] \" Once the game is settled the winner is comfortable and can govern while the loser is satisfied that they got a fair determination of that loss . \" - Davis Tayo #KenyanElection2022 #KenyaDecides [SEP] How do Kenyans vote for such people ? Some people are idiots for leaders . The 0.0 % | The 4 | IEBC Commissioners | Junet Mohamed | Babu Owino [SEP]    \n",
              "1                                             Fellow Kenyans , VOTE PEACE ! Mind your Tomorrow , . Peace s the only Constant ! Don't panic ! #kenyadecides #kenyadecides2022 #peacefulelection #peacefulElections #votepeace #votepeace2022 #kenyakwanza #azimiolaumoja #wajackoyahthe5th #babanamartha #williamruto [SEP] \" Tumekaa hapa kutoka saa nne usiku tukitegea IEBC ifungue , ” ( We have been heresince 4am waiting for IEBC to open . \" Kisumu residents spent night at polling station #KURA2022 [SEP] I'll be showing my Kenyanness by voting at 5pm in the evening . IEBC must ensure that they extend the deadline . #KenyansPoll [SEP]    \n",
              "2                                                                                                                                                                                                                                                                                This is the official position of Dr . OBURU OGINGA ... I am confident that Raila Odinga Has won this election with 51 % . Kenyans let us be calm as we await the announcement of the president-elect HON . ENG . RAILA AMOLLO ODINGA . [SEP] I can't accept what IEBC was declared [SEP] Kenyans will disappoint all international press by remaining peaceful . [SEP]    \n",
              "3                                                                                                                                                                                                                                                     Nobody wants them to announce the winner , just tally the results in forms 34A . That is the reason @USER wanted media to be their partners in this election and now they are gone ! . [SEP] #KeepCalm and let IEBC do their #job . #KenyaDecides2022 #kenyaelections2022 [SEP] Media should have tallied alongside Aibisi ( IEBC ) ... When IEBC counts , the Media also count with them . [SEP]    \n",
              "4                                                                                                                                                                                                                                                                                                                                                                                                                                Hii elections nikama itakua na sarakasi . Too much going on with IEBC . [SEP] DCI should drain this ChebuRuto / IEBC swamp we get a clean and credible election [SEP] There is no other freedom that is coming . [SEP]    \n",
              "\n",
              "   election_distance_transformed  negative   neutral  positive  \n",
              "0                       0.678152  0.222685  0.271114  0.506201  \n",
              "1                       0.529530  0.906834  0.074995  0.018171  \n",
              "2                       0.665165  0.386501  0.578161  0.035338  \n",
              "3                       0.589089  0.212764  0.761465  0.025771  \n",
              "4                       0.899399  0.755588  0.227556  0.016856  "
            ],
            "text/html": [
              "\n",
              "  <div id=\"df-86fa0ffe-dcbe-4fe1-b528-8bb1b9b32f0c\">\n",
              "    <div class=\"colab-df-container\">\n",
              "      <div>\n",
              "<style scoped>\n",
              "    .dataframe tbody tr th:only-of-type {\n",
              "        vertical-align: middle;\n",
              "    }\n",
              "\n",
              "    .dataframe tbody tr th {\n",
              "        vertical-align: top;\n",
              "    }\n",
              "\n",
              "    .dataframe thead th {\n",
              "        text-align: right;\n",
              "    }\n",
              "</style>\n",
              "<table border=\"1\" class=\"dataframe\">\n",
              "  <thead>\n",
              "    <tr style=\"text-align: right;\">\n",
              "      <th></th>\n",
              "      <th>text</th>\n",
              "      <th>clean_text</th>\n",
              "      <th>normalized_text</th>\n",
              "      <th>merged_label</th>\n",
              "      <th>label</th>\n",
              "      <th>status</th>\n",
              "      <th>Election Date</th>\n",
              "      <th>date</th>\n",
              "      <th>informative_label</th>\n",
              "      <th>election_distance</th>\n",
              "      <th>election_distance_abs</th>\n",
              "      <th>hour</th>\n",
              "      <th>hour_sin</th>\n",
              "      <th>hour_cos</th>\n",
              "      <th>informative_target</th>\n",
              "      <th>context</th>\n",
              "      <th>election_distance_transformed</th>\n",
              "      <th>negative</th>\n",
              "      <th>neutral</th>\n",
              "      <th>positive</th>\n",
              "    </tr>\n",
              "  </thead>\n",
              "  <tbody>\n",
              "    <tr>\n",
              "      <th>0</th>\n",
              "      <td>Nope. We have refused to bleed so that your leader can lead. This thing is done and dusted. P.O.R.K is the one declared yesterday and gazetted by iebc today. Take this info to your safest safe.</td>\n",
              "      <td>nope we have refused bleed so that your leader can lead this thing done and dusted k the one declared yesterday and gazetted by iebc today take this info your safest safe</td>\n",
              "      <td>Nope . We have refused to bleed so that your leader can lead . This thing is done and dusted . P . O . R . K is the one declared yesterday and gazetted by iebc today . Take this info to your safest safe .</td>\n",
              "      <td>Other</td>\n",
              "      <td>Opinions</td>\n",
              "      <td>draft</td>\n",
              "      <td>August 2022</td>\n",
              "      <td>2022-08-16 20:56:28</td>\n",
              "      <td>Non-Informative</td>\n",
              "      <td>-8</td>\n",
              "      <td>8</td>\n",
              "      <td>20</td>\n",
              "      <td>-0.866025</td>\n",
              "      <td>0.500000</td>\n",
              "      <td>1</td>\n",
              "      <td>We have 47 universities in Kenya teaching Statistics and Actuarial Science yet only 2 people were interested to analyze the IEBC numbers . We have 69 Universities in Kenya teaching computer science YET i haven't seen any App or Websites reporting &amp; analyzing IEBC numbers [SEP] \" Once the game is settled the winner is comfortable and can govern while the loser is satisfied that they got a fair determination of that loss . \" - Davis Tayo #KenyanElection2022 #KenyaDecides [SEP] How do Kenyans vote for such people ? Some people are idiots for leaders . The 0.0 % | The 4 | IEBC Commissioners | Junet Mohamed | Babu Owino [SEP]</td>\n",
              "      <td>0.678152</td>\n",
              "      <td>0.222685</td>\n",
              "      <td>0.271114</td>\n",
              "      <td>0.506201</td>\n",
              "    </tr>\n",
              "    <tr>\n",
              "      <th>1</th>\n",
              "      <td>Democracy ensures Societal equality. It is your right to vote Practice it. Wishing Us a peaceful election ahead.\\n#KenyaDecides2022 #Iebc #KenyansPoll #Democracy</td>\n",
              "      <td>democracy ensures societal equality it your right vote practice it wishing peaceful election ahead kenyadecides iebc kenyanspoll democracy</td>\n",
              "      <td>Democracy ensures Societal equality . It is your right to vote Practice it . Wishing Us a peaceful election ahead . #KenyaDecides2022 #Iebc #KenyansPoll #Democracy</td>\n",
              "      <td>Other</td>\n",
              "      <td>Opinions</td>\n",
              "      <td>published</td>\n",
              "      <td>August 2022</td>\n",
              "      <td>2022-08-09 05:10:34</td>\n",
              "      <td>Non-Informative</td>\n",
              "      <td>-1</td>\n",
              "      <td>1</td>\n",
              "      <td>5</td>\n",
              "      <td>0.965926</td>\n",
              "      <td>0.258819</td>\n",
              "      <td>1</td>\n",
              "      <td>Fellow Kenyans , VOTE PEACE ! Mind your Tomorrow , . Peace s the only Constant ! Don't panic ! #kenyadecides #kenyadecides2022 #peacefulelection #peacefulElections #votepeace #votepeace2022 #kenyakwanza #azimiolaumoja #wajackoyahthe5th #babanamartha #williamruto [SEP] \" Tumekaa hapa kutoka saa nne usiku tukitegea IEBC ifungue , ” ( We have been heresince 4am waiting for IEBC to open . \" Kisumu residents spent night at polling station #KURA2022 [SEP] I'll be showing my Kenyanness by voting at 5pm in the evening . IEBC must ensure that they extend the deadline . #KenyansPoll [SEP]</td>\n",
              "      <td>0.529530</td>\n",
              "      <td>0.906834</td>\n",
              "      <td>0.074995</td>\n",
              "      <td>0.018171</td>\n",
              "    </tr>\n",
              "    <tr>\n",
              "      <th>2</th>\n",
              "      <td>I have never been shocked as much as I have been shocked by the IEBC Madam who started giving a press statement in Serena. The next thing I thought would happen was a Military Takeover. Wah!</td>\n",
              "      <td>have never been shocked as much as have been shocked by the iebc madam who started giving press statement in serena the next thing thought would happen was military takeover wah</td>\n",
              "      <td>I have never been shocked as much as I have been shocked by the IEBC Madam who started giving a press statement in Serena . The next thing I thought would happen was a Military Takeover . Wah !</td>\n",
              "      <td>Other</td>\n",
              "      <td>Opinions</td>\n",
              "      <td>published</td>\n",
              "      <td>August 2022</td>\n",
              "      <td>2022-08-15 17:18:58</td>\n",
              "      <td>Non-Informative</td>\n",
              "      <td>-7</td>\n",
              "      <td>7</td>\n",
              "      <td>17</td>\n",
              "      <td>-0.965926</td>\n",
              "      <td>-0.258819</td>\n",
              "      <td>1</td>\n",
              "      <td>This is the official position of Dr . OBURU OGINGA ... I am confident that Raila Odinga Has won this election with 51 % . Kenyans let us be calm as we await the announcement of the president-elect HON . ENG . RAILA AMOLLO ODINGA . [SEP] I can't accept what IEBC was declared [SEP] Kenyans will disappoint all international press by remaining peaceful . [SEP]</td>\n",
              "      <td>0.665165</td>\n",
              "      <td>0.386501</td>\n",
              "      <td>0.578161</td>\n",
              "      <td>0.035338</td>\n",
              "    </tr>\n",
              "    <tr>\n",
              "      <th>3</th>\n",
              "      <td>You cannot interfere with the numbers in the IEBC portal Form 34As. Stop intimidating Returning Officers and distracting IEBC, just write a concession letter silently and in peace because Kenyans made their decision</td>\n",
              "      <td>you cannot interfere with the numbers in the iebc portal form as intimidating returning officers and distracting iebc just write concession letter silently and in peace because kenyans made their decision</td>\n",
              "      <td>You cannot interfere with the numbers in the IEBC portal Form 34As . Stop intimidating Returning Officers and distracting IEBC , just write a concession letter silently and in peace because Kenyans made their decision</td>\n",
              "      <td>Other</td>\n",
              "      <td>Opinions</td>\n",
              "      <td>published</td>\n",
              "      <td>August 2022</td>\n",
              "      <td>2022-08-12 09:05:52</td>\n",
              "      <td>Non-Informative</td>\n",
              "      <td>-4</td>\n",
              "      <td>4</td>\n",
              "      <td>9</td>\n",
              "      <td>0.707107</td>\n",
              "      <td>-0.707107</td>\n",
              "      <td>1</td>\n",
              "      <td>Nobody wants them to announce the winner , just tally the results in forms 34A . That is the reason @USER wanted media to be their partners in this election and now they are gone ! . [SEP] #KeepCalm and let IEBC do their #job . #KenyaDecides2022 #kenyaelections2022 [SEP] Media should have tallied alongside Aibisi ( IEBC ) ... When IEBC counts , the Media also count with them . [SEP]</td>\n",
              "      <td>0.589089</td>\n",
              "      <td>0.212764</td>\n",
              "      <td>0.761465</td>\n",
              "      <td>0.025771</td>\n",
              "    </tr>\n",
              "    <tr>\n",
              "      <th>4</th>\n",
              "      <td>It's increasingly looking like we're going to get the usual cry from Raila of 'my votes have been stolen'  after 9 Aug .\\nToo much unnecessary cry from his side -  blaming IEBC, boycotting the debate etc when they've been bragging of having deep state.</td>\n",
              "      <td>it increasingly looking like we re going get the usual cry from raila of my votes have been stolen after aug too much unnecessary cry from his side blaming iebc boycotting the debate etc when they ve been bragging of having deep state</td>\n",
              "      <td>It's increasingly looking like we're going to get the usual cry from Raila of ' my votes have been stolen ' after 9 Aug . Too much unnecessary cry from his side - blaming IEBC , boycotting the debate etc when they've been bragging of having deep state .</td>\n",
              "      <td>Other</td>\n",
              "      <td>Opinions</td>\n",
              "      <td>published</td>\n",
              "      <td>August 2022</td>\n",
              "      <td>2022-07-24 16:09:34</td>\n",
              "      <td>Non-Informative</td>\n",
              "      <td>15</td>\n",
              "      <td>15</td>\n",
              "      <td>16</td>\n",
              "      <td>-0.866025</td>\n",
              "      <td>-0.500000</td>\n",
              "      <td>1</td>\n",
              "      <td>Hii elections nikama itakua na sarakasi . Too much going on with IEBC . [SEP] DCI should drain this ChebuRuto / IEBC swamp we get a clean and credible election [SEP] There is no other freedom that is coming . [SEP]</td>\n",
              "      <td>0.899399</td>\n",
              "      <td>0.755588</td>\n",
              "      <td>0.227556</td>\n",
              "      <td>0.016856</td>\n",
              "    </tr>\n",
              "  </tbody>\n",
              "</table>\n",
              "</div>\n",
              "      <button class=\"colab-df-convert\" onclick=\"convertToInteractive('df-86fa0ffe-dcbe-4fe1-b528-8bb1b9b32f0c')\"\n",
              "              title=\"Convert this dataframe to an interactive table.\"\n",
              "              style=\"display:none;\">\n",
              "        \n",
              "  <svg xmlns=\"http://www.w3.org/2000/svg\" height=\"24px\"viewBox=\"0 0 24 24\"\n",
              "       width=\"24px\">\n",
              "    <path d=\"M0 0h24v24H0V0z\" fill=\"none\"/>\n",
              "    <path d=\"M18.56 5.44l.94 2.06.94-2.06 2.06-.94-2.06-.94-.94-2.06-.94 2.06-2.06.94zm-11 1L8.5 8.5l.94-2.06 2.06-.94-2.06-.94L8.5 2.5l-.94 2.06-2.06.94zm10 10l.94 2.06.94-2.06 2.06-.94-2.06-.94-.94-2.06-.94 2.06-2.06.94z\"/><path d=\"M17.41 7.96l-1.37-1.37c-.4-.4-.92-.59-1.43-.59-.52 0-1.04.2-1.43.59L10.3 9.45l-7.72 7.72c-.78.78-.78 2.05 0 2.83L4 21.41c.39.39.9.59 1.41.59.51 0 1.02-.2 1.41-.59l7.78-7.78 2.81-2.81c.8-.78.8-2.07 0-2.86zM5.41 20L4 18.59l7.72-7.72 1.47 1.35L5.41 20z\"/>\n",
              "  </svg>\n",
              "      </button>\n",
              "      \n",
              "  <style>\n",
              "    .colab-df-container {\n",
              "      display:flex;\n",
              "      flex-wrap:wrap;\n",
              "      gap: 12px;\n",
              "    }\n",
              "\n",
              "    .colab-df-convert {\n",
              "      background-color: #E8F0FE;\n",
              "      border: none;\n",
              "      border-radius: 50%;\n",
              "      cursor: pointer;\n",
              "      display: none;\n",
              "      fill: #1967D2;\n",
              "      height: 32px;\n",
              "      padding: 0 0 0 0;\n",
              "      width: 32px;\n",
              "    }\n",
              "\n",
              "    .colab-df-convert:hover {\n",
              "      background-color: #E2EBFA;\n",
              "      box-shadow: 0px 1px 2px rgba(60, 64, 67, 0.3), 0px 1px 3px 1px rgba(60, 64, 67, 0.15);\n",
              "      fill: #174EA6;\n",
              "    }\n",
              "\n",
              "    [theme=dark] .colab-df-convert {\n",
              "      background-color: #3B4455;\n",
              "      fill: #D2E3FC;\n",
              "    }\n",
              "\n",
              "    [theme=dark] .colab-df-convert:hover {\n",
              "      background-color: #434B5C;\n",
              "      box-shadow: 0px 1px 3px 1px rgba(0, 0, 0, 0.15);\n",
              "      filter: drop-shadow(0px 1px 2px rgba(0, 0, 0, 0.3));\n",
              "      fill: #FFFFFF;\n",
              "    }\n",
              "  </style>\n",
              "\n",
              "      <script>\n",
              "        const buttonEl =\n",
              "          document.querySelector('#df-86fa0ffe-dcbe-4fe1-b528-8bb1b9b32f0c button.colab-df-convert');\n",
              "        buttonEl.style.display =\n",
              "          google.colab.kernel.accessAllowed ? 'block' : 'none';\n",
              "\n",
              "        async function convertToInteractive(key) {\n",
              "          const element = document.querySelector('#df-86fa0ffe-dcbe-4fe1-b528-8bb1b9b32f0c');\n",
              "          const dataTable =\n",
              "            await google.colab.kernel.invokeFunction('convertToInteractive',\n",
              "                                                     [key], {});\n",
              "          if (!dataTable) return;\n",
              "\n",
              "          const docLinkHtml = 'Like what you see? Visit the ' +\n",
              "            '<a target=\"_blank\" href=https://colab.research.google.com/notebooks/data_table.ipynb>data table notebook</a>'\n",
              "            + ' to learn more about interactive tables.';\n",
              "          element.innerHTML = '';\n",
              "          dataTable['output_type'] = 'display_data';\n",
              "          await google.colab.output.renderOutput(dataTable, element);\n",
              "          const docLink = document.createElement('div');\n",
              "          docLink.innerHTML = docLinkHtml;\n",
              "          element.appendChild(docLink);\n",
              "        }\n",
              "      </script>\n",
              "    </div>\n",
              "  </div>\n",
              "  "
            ]
          },
          "metadata": {},
          "execution_count": 114
        }
      ]
    },
    {
      "cell_type": "code",
      "source": [
        "!pip install langdetect"
      ],
      "metadata": {
        "colab": {
          "base_uri": "https://localhost:8080/"
        },
        "id": "4n9zu4R0pZxq",
        "outputId": "accc92bb-79d8-4f74-b8cc-88d6cc828b78"
      },
      "execution_count": null,
      "outputs": [
        {
          "output_type": "stream",
          "name": "stdout",
          "text": [
            "Collecting langdetect\n",
            "  Downloading langdetect-1.0.9.tar.gz (981 kB)\n",
            "\u001b[?25l     \u001b[90m━━━━━━━━━━━━━━━━━━━━━━━━━━━━━━━━━━━━━━━━\u001b[0m \u001b[32m0.0/981.5 kB\u001b[0m \u001b[31m?\u001b[0m eta \u001b[36m-:--:--\u001b[0m\r\u001b[2K     \u001b[90m━━━━━━━━━━━━━━━━━━━━━━━━━━━━━━━━━━━━━━\u001b[0m \u001b[32m981.5/981.5 kB\u001b[0m \u001b[31m30.9 MB/s\u001b[0m eta \u001b[36m0:00:00\u001b[0m\n",
            "\u001b[?25h  Preparing metadata (setup.py) ... \u001b[?25l\u001b[?25hdone\n",
            "Requirement already satisfied: six in /usr/local/lib/python3.10/dist-packages (from langdetect) (1.16.0)\n",
            "Building wheels for collected packages: langdetect\n",
            "  Building wheel for langdetect (setup.py) ... \u001b[?25l\u001b[?25hdone\n",
            "  Created wheel for langdetect: filename=langdetect-1.0.9-py3-none-any.whl size=993224 sha256=8f725ebb28389f5d21c23a5494baad9c7e0e0bb594c4a2ae154d183543dbf062\n",
            "  Stored in directory: /root/.cache/pip/wheels/95/03/7d/59ea870c70ce4e5a370638b5462a7711ab78fba2f655d05106\n",
            "Successfully built langdetect\n",
            "Installing collected packages: langdetect\n",
            "Successfully installed langdetect-1.0.9\n"
          ]
        }
      ]
    },
    {
      "cell_type": "code",
      "source": [
        "from langdetect import detect\n",
        "from langdetect import detect_langs"
      ],
      "metadata": {
        "id": "cmT4jCU143uQ"
      },
      "execution_count": null,
      "outputs": []
    },
    {
      "cell_type": "code",
      "source": [
        "detect(\"Turnout Leo Iko very low . Sioni wakifika 15M\")"
      ],
      "metadata": {
        "id": "j8cbZse544SL",
        "colab": {
          "base_uri": "https://localhost:8080/",
          "height": 35
        },
        "outputId": "89efe907-9641-475b-f359-2de9f3ff6127"
      },
      "execution_count": null,
      "outputs": [
        {
          "output_type": "execute_result",
          "data": {
            "text/plain": [
              "'sw'"
            ],
            "application/vnd.google.colaboratory.intrinsic+json": {
              "type": "string"
            }
          },
          "metadata": {},
          "execution_count": 117
        }
      ]
    },
    {
      "cell_type": "code",
      "source": [
        "test_data['lang'] = test_data['normalized_text'].map(detect)"
      ],
      "metadata": {
        "id": "T50YSvn4plXy"
      },
      "execution_count": null,
      "outputs": []
    },
    {
      "cell_type": "code",
      "source": [
        "test_data['lang'].unique()"
      ],
      "metadata": {
        "colab": {
          "base_uri": "https://localhost:8080/"
        },
        "id": "-3cT1517sLbW",
        "outputId": "1951bed9-75b7-4242-eb68-de983af3df07"
      },
      "execution_count": null,
      "outputs": [
        {
          "output_type": "execute_result",
          "data": {
            "text/plain": [
              "array(['en', 'it', 'sw', 'de', 'id', 'pt', 'af', 'ca', 'fr', 'no', 'ro',\n",
              "       'tl', 'hr', 'nl', 'et'], dtype=object)"
            ]
          },
          "metadata": {},
          "execution_count": 119
        }
      ]
    },
    {
      "cell_type": "code",
      "source": [
        "grouped_counts = test_data.groupby(\"lang\").size().reset_index(name='Counts').sort_values([\"Counts\"], ascending=False)\n",
        "sns.barplot(data=grouped_counts, x='Counts', y='lang')\n",
        "plt.xlabel('Label')\n",
        "plt.ylabel('Counts')\n",
        "plt.title('Language Distribution')\n",
        "plt.show()"
      ],
      "metadata": {
        "colab": {
          "base_uri": "https://localhost:8080/",
          "height": 576
        },
        "id": "RDuGSQfbrXXJ",
        "outputId": "e758b144-9845-44b6-fe34-5e31d4b94b22"
      },
      "execution_count": null,
      "outputs": [
        {
          "output_type": "display_data",
          "data": {
            "text/plain": [
              "<Figure size 1200x600 with 1 Axes>"
            ],
            "image/svg+xml": "<?xml version=\"1.0\" encoding=\"utf-8\" standalone=\"no\"?>\n<!DOCTYPE svg PUBLIC \"-//W3C//DTD SVG 1.1//EN\"\n  \"http://www.w3.org/Graphics/SVG/1.1/DTD/svg11.dtd\">\n<svg xmlns:xlink=\"http://www.w3.org/1999/xlink\" width=\"735.569913pt\" height=\"401.055594pt\" viewBox=\"0 0 735.569913 401.055594\" xmlns=\"http://www.w3.org/2000/svg\" version=\"1.1\">\n <metadata>\n  <rdf:RDF xmlns:dc=\"http://purl.org/dc/elements/1.1/\" xmlns:cc=\"http://creativecommons.org/ns#\" xmlns:rdf=\"http://www.w3.org/1999/02/22-rdf-syntax-ns#\">\n   <cc:Work>\n    <dc:type rdf:resource=\"http://purl.org/dc/dcmitype/StillImage\"/>\n    <dc:date>2023-07-07T20:00:25.386057</dc:date>\n    <dc:format>image/svg+xml</dc:format>\n    <dc:creator>\n     <cc:Agent>\n      <dc:title>Matplotlib v3.7.1, https://matplotlib.org/</dc:title>\n     </cc:Agent>\n    </dc:creator>\n   </cc:Work>\n  </rdf:RDF>\n </metadata>\n <defs>\n  <style type=\"text/css\">*{stroke-linejoin: round; stroke-linecap: butt}</style>\n </defs>\n <g id=\"figure_1\">\n  <g id=\"patch_1\">\n   <path d=\"M 0 401.055594 \nL 735.569913 401.055594 \nL 735.569913 0 \nL 0 0 \nz\n\" style=\"fill: #ffffff\"/>\n  </g>\n  <g id=\"axes_1\">\n   <g id=\"patch_2\">\n    <path d=\"M 49.674 355.869937 \nL 719.274 355.869937 \nL 719.274 23.229937 \nL 49.674 23.229937 \nz\n\" style=\"fill: #eaeaf2\"/>\n   </g>\n   <g id=\"matplotlib.axis_1\">\n    <g id=\"xtick_1\">\n     <g id=\"line2d_1\">\n      <path d=\"M 49.674 355.869937 \nL 49.674 23.229937 \n\" clip-path=\"url(#p88da7e9bc9)\" style=\"fill: none; stroke: #ffffff; stroke-linecap: round\"/>\n     </g>\n     <g id=\"text_1\">\n      <!-- 0 -->\n      <g style=\"fill: #262626\" transform=\"translate(45.824688 374.564047) scale(0.121 -0.121)\">\n       <defs>\n        <path id=\"DejaVuSans-30\" d=\"M 2034 4250 \nQ 1547 4250 1301 3770 \nQ 1056 3291 1056 2328 \nQ 1056 1369 1301 889 \nQ 1547 409 2034 409 \nQ 2525 409 2770 889 \nQ 3016 1369 3016 2328 \nQ 3016 3291 2770 3770 \nQ 2525 4250 2034 4250 \nz\nM 2034 4750 \nQ 2819 4750 3233 4129 \nQ 3647 3509 3647 2328 \nQ 3647 1150 3233 529 \nQ 2819 -91 2034 -91 \nQ 1250 -91 836 529 \nQ 422 1150 422 2328 \nQ 422 3509 836 4129 \nQ 1250 4750 2034 4750 \nz\n\" transform=\"scale(0.015625)\"/>\n       </defs>\n       <use xlink:href=\"#DejaVuSans-30\"/>\n      </g>\n     </g>\n    </g>\n    <g id=\"xtick_2\">\n     <g id=\"line2d_2\">\n      <path d=\"M 144.430952 355.869937 \nL 144.430952 23.229937 \n\" clip-path=\"url(#p88da7e9bc9)\" style=\"fill: none; stroke: #ffffff; stroke-linecap: round\"/>\n     </g>\n     <g id=\"text_2\">\n      <!-- 200 -->\n      <g style=\"fill: #262626\" transform=\"translate(132.883014 374.564047) scale(0.121 -0.121)\">\n       <defs>\n        <path id=\"DejaVuSans-32\" d=\"M 1228 531 \nL 3431 531 \nL 3431 0 \nL 469 0 \nL 469 531 \nQ 828 903 1448 1529 \nQ 2069 2156 2228 2338 \nQ 2531 2678 2651 2914 \nQ 2772 3150 2772 3378 \nQ 2772 3750 2511 3984 \nQ 2250 4219 1831 4219 \nQ 1534 4219 1204 4116 \nQ 875 4013 500 3803 \nL 500 4441 \nQ 881 4594 1212 4672 \nQ 1544 4750 1819 4750 \nQ 2544 4750 2975 4387 \nQ 3406 4025 3406 3419 \nQ 3406 3131 3298 2873 \nQ 3191 2616 2906 2266 \nQ 2828 2175 2409 1742 \nQ 1991 1309 1228 531 \nz\n\" transform=\"scale(0.015625)\"/>\n       </defs>\n       <use xlink:href=\"#DejaVuSans-32\"/>\n       <use xlink:href=\"#DejaVuSans-30\" x=\"63.623047\"/>\n       <use xlink:href=\"#DejaVuSans-30\" x=\"127.246094\"/>\n      </g>\n     </g>\n    </g>\n    <g id=\"xtick_3\">\n     <g id=\"line2d_3\">\n      <path d=\"M 239.187904 355.869937 \nL 239.187904 23.229937 \n\" clip-path=\"url(#p88da7e9bc9)\" style=\"fill: none; stroke: #ffffff; stroke-linecap: round\"/>\n     </g>\n     <g id=\"text_3\">\n      <!-- 400 -->\n      <g style=\"fill: #262626\" transform=\"translate(227.639966 374.564047) scale(0.121 -0.121)\">\n       <defs>\n        <path id=\"DejaVuSans-34\" d=\"M 2419 4116 \nL 825 1625 \nL 2419 1625 \nL 2419 4116 \nz\nM 2253 4666 \nL 3047 4666 \nL 3047 1625 \nL 3713 1625 \nL 3713 1100 \nL 3047 1100 \nL 3047 0 \nL 2419 0 \nL 2419 1100 \nL 313 1100 \nL 313 1709 \nL 2253 4666 \nz\n\" transform=\"scale(0.015625)\"/>\n       </defs>\n       <use xlink:href=\"#DejaVuSans-34\"/>\n       <use xlink:href=\"#DejaVuSans-30\" x=\"63.623047\"/>\n       <use xlink:href=\"#DejaVuSans-30\" x=\"127.246094\"/>\n      </g>\n     </g>\n    </g>\n    <g id=\"xtick_4\">\n     <g id=\"line2d_4\">\n      <path d=\"M 333.944855 355.869937 \nL 333.944855 23.229937 \n\" clip-path=\"url(#p88da7e9bc9)\" style=\"fill: none; stroke: #ffffff; stroke-linecap: round\"/>\n     </g>\n     <g id=\"text_4\">\n      <!-- 600 -->\n      <g style=\"fill: #262626\" transform=\"translate(322.396918 374.564047) scale(0.121 -0.121)\">\n       <defs>\n        <path id=\"DejaVuSans-36\" d=\"M 2113 2584 \nQ 1688 2584 1439 2293 \nQ 1191 2003 1191 1497 \nQ 1191 994 1439 701 \nQ 1688 409 2113 409 \nQ 2538 409 2786 701 \nQ 3034 994 3034 1497 \nQ 3034 2003 2786 2293 \nQ 2538 2584 2113 2584 \nz\nM 3366 4563 \nL 3366 3988 \nQ 3128 4100 2886 4159 \nQ 2644 4219 2406 4219 \nQ 1781 4219 1451 3797 \nQ 1122 3375 1075 2522 \nQ 1259 2794 1537 2939 \nQ 1816 3084 2150 3084 \nQ 2853 3084 3261 2657 \nQ 3669 2231 3669 1497 \nQ 3669 778 3244 343 \nQ 2819 -91 2113 -91 \nQ 1303 -91 875 529 \nQ 447 1150 447 2328 \nQ 447 3434 972 4092 \nQ 1497 4750 2381 4750 \nQ 2619 4750 2861 4703 \nQ 3103 4656 3366 4563 \nz\n\" transform=\"scale(0.015625)\"/>\n       </defs>\n       <use xlink:href=\"#DejaVuSans-36\"/>\n       <use xlink:href=\"#DejaVuSans-30\" x=\"63.623047\"/>\n       <use xlink:href=\"#DejaVuSans-30\" x=\"127.246094\"/>\n      </g>\n     </g>\n    </g>\n    <g id=\"xtick_5\">\n     <g id=\"line2d_5\">\n      <path d=\"M 428.701807 355.869937 \nL 428.701807 23.229937 \n\" clip-path=\"url(#p88da7e9bc9)\" style=\"fill: none; stroke: #ffffff; stroke-linecap: round\"/>\n     </g>\n     <g id=\"text_5\">\n      <!-- 800 -->\n      <g style=\"fill: #262626\" transform=\"translate(417.15387 374.564047) scale(0.121 -0.121)\">\n       <defs>\n        <path id=\"DejaVuSans-38\" d=\"M 2034 2216 \nQ 1584 2216 1326 1975 \nQ 1069 1734 1069 1313 \nQ 1069 891 1326 650 \nQ 1584 409 2034 409 \nQ 2484 409 2743 651 \nQ 3003 894 3003 1313 \nQ 3003 1734 2745 1975 \nQ 2488 2216 2034 2216 \nz\nM 1403 2484 \nQ 997 2584 770 2862 \nQ 544 3141 544 3541 \nQ 544 4100 942 4425 \nQ 1341 4750 2034 4750 \nQ 2731 4750 3128 4425 \nQ 3525 4100 3525 3541 \nQ 3525 3141 3298 2862 \nQ 3072 2584 2669 2484 \nQ 3125 2378 3379 2068 \nQ 3634 1759 3634 1313 \nQ 3634 634 3220 271 \nQ 2806 -91 2034 -91 \nQ 1263 -91 848 271 \nQ 434 634 434 1313 \nQ 434 1759 690 2068 \nQ 947 2378 1403 2484 \nz\nM 1172 3481 \nQ 1172 3119 1398 2916 \nQ 1625 2713 2034 2713 \nQ 2441 2713 2670 2916 \nQ 2900 3119 2900 3481 \nQ 2900 3844 2670 4047 \nQ 2441 4250 2034 4250 \nQ 1625 4250 1398 4047 \nQ 1172 3844 1172 3481 \nz\n\" transform=\"scale(0.015625)\"/>\n       </defs>\n       <use xlink:href=\"#DejaVuSans-38\"/>\n       <use xlink:href=\"#DejaVuSans-30\" x=\"63.623047\"/>\n       <use xlink:href=\"#DejaVuSans-30\" x=\"127.246094\"/>\n      </g>\n     </g>\n    </g>\n    <g id=\"xtick_6\">\n     <g id=\"line2d_6\">\n      <path d=\"M 523.458759 355.869937 \nL 523.458759 23.229937 \n\" clip-path=\"url(#p88da7e9bc9)\" style=\"fill: none; stroke: #ffffff; stroke-linecap: round\"/>\n     </g>\n     <g id=\"text_6\">\n      <!-- 1000 -->\n      <g style=\"fill: #262626\" transform=\"translate(508.061509 374.564047) scale(0.121 -0.121)\">\n       <defs>\n        <path id=\"DejaVuSans-31\" d=\"M 794 531 \nL 1825 531 \nL 1825 4091 \nL 703 3866 \nL 703 4441 \nL 1819 4666 \nL 2450 4666 \nL 2450 531 \nL 3481 531 \nL 3481 0 \nL 794 0 \nL 794 531 \nz\n\" transform=\"scale(0.015625)\"/>\n       </defs>\n       <use xlink:href=\"#DejaVuSans-31\"/>\n       <use xlink:href=\"#DejaVuSans-30\" x=\"63.623047\"/>\n       <use xlink:href=\"#DejaVuSans-30\" x=\"127.246094\"/>\n       <use xlink:href=\"#DejaVuSans-30\" x=\"190.869141\"/>\n      </g>\n     </g>\n    </g>\n    <g id=\"xtick_7\">\n     <g id=\"line2d_7\">\n      <path d=\"M 618.215711 355.869937 \nL 618.215711 23.229937 \n\" clip-path=\"url(#p88da7e9bc9)\" style=\"fill: none; stroke: #ffffff; stroke-linecap: round\"/>\n     </g>\n     <g id=\"text_7\">\n      <!-- 1200 -->\n      <g style=\"fill: #262626\" transform=\"translate(602.818461 374.564047) scale(0.121 -0.121)\">\n       <use xlink:href=\"#DejaVuSans-31\"/>\n       <use xlink:href=\"#DejaVuSans-32\" x=\"63.623047\"/>\n       <use xlink:href=\"#DejaVuSans-30\" x=\"127.246094\"/>\n       <use xlink:href=\"#DejaVuSans-30\" x=\"190.869141\"/>\n      </g>\n     </g>\n    </g>\n    <g id=\"xtick_8\">\n     <g id=\"line2d_8\">\n      <path d=\"M 712.972663 355.869937 \nL 712.972663 23.229937 \n\" clip-path=\"url(#p88da7e9bc9)\" style=\"fill: none; stroke: #ffffff; stroke-linecap: round\"/>\n     </g>\n     <g id=\"text_8\">\n      <!-- 1400 -->\n      <g style=\"fill: #262626\" transform=\"translate(697.575413 374.564047) scale(0.121 -0.121)\">\n       <use xlink:href=\"#DejaVuSans-31\"/>\n       <use xlink:href=\"#DejaVuSans-34\" x=\"63.623047\"/>\n       <use xlink:href=\"#DejaVuSans-30\" x=\"127.246094\"/>\n       <use xlink:href=\"#DejaVuSans-30\" x=\"190.869141\"/>\n      </g>\n     </g>\n    </g>\n    <g id=\"text_9\">\n     <!-- Label -->\n     <g style=\"fill: #262626\" transform=\"translate(366.667406 391.110406) scale(0.132 -0.132)\">\n      <defs>\n       <path id=\"DejaVuSans-4c\" d=\"M 628 4666 \nL 1259 4666 \nL 1259 531 \nL 3531 531 \nL 3531 0 \nL 628 0 \nL 628 4666 \nz\n\" transform=\"scale(0.015625)\"/>\n       <path id=\"DejaVuSans-61\" d=\"M 2194 1759 \nQ 1497 1759 1228 1600 \nQ 959 1441 959 1056 \nQ 959 750 1161 570 \nQ 1363 391 1709 391 \nQ 2188 391 2477 730 \nQ 2766 1069 2766 1631 \nL 2766 1759 \nL 2194 1759 \nz\nM 3341 1997 \nL 3341 0 \nL 2766 0 \nL 2766 531 \nQ 2569 213 2275 61 \nQ 1981 -91 1556 -91 \nQ 1019 -91 701 211 \nQ 384 513 384 1019 \nQ 384 1609 779 1909 \nQ 1175 2209 1959 2209 \nL 2766 2209 \nL 2766 2266 \nQ 2766 2663 2505 2880 \nQ 2244 3097 1772 3097 \nQ 1472 3097 1187 3025 \nQ 903 2953 641 2809 \nL 641 3341 \nQ 956 3463 1253 3523 \nQ 1550 3584 1831 3584 \nQ 2591 3584 2966 3190 \nQ 3341 2797 3341 1997 \nz\n\" transform=\"scale(0.015625)\"/>\n       <path id=\"DejaVuSans-62\" d=\"M 3116 1747 \nQ 3116 2381 2855 2742 \nQ 2594 3103 2138 3103 \nQ 1681 3103 1420 2742 \nQ 1159 2381 1159 1747 \nQ 1159 1113 1420 752 \nQ 1681 391 2138 391 \nQ 2594 391 2855 752 \nQ 3116 1113 3116 1747 \nz\nM 1159 2969 \nQ 1341 3281 1617 3432 \nQ 1894 3584 2278 3584 \nQ 2916 3584 3314 3078 \nQ 3713 2572 3713 1747 \nQ 3713 922 3314 415 \nQ 2916 -91 2278 -91 \nQ 1894 -91 1617 61 \nQ 1341 213 1159 525 \nL 1159 0 \nL 581 0 \nL 581 4863 \nL 1159 4863 \nL 1159 2969 \nz\n\" transform=\"scale(0.015625)\"/>\n       <path id=\"DejaVuSans-65\" d=\"M 3597 1894 \nL 3597 1613 \nL 953 1613 \nQ 991 1019 1311 708 \nQ 1631 397 2203 397 \nQ 2534 397 2845 478 \nQ 3156 559 3463 722 \nL 3463 178 \nQ 3153 47 2828 -22 \nQ 2503 -91 2169 -91 \nQ 1331 -91 842 396 \nQ 353 884 353 1716 \nQ 353 2575 817 3079 \nQ 1281 3584 2069 3584 \nQ 2775 3584 3186 3129 \nQ 3597 2675 3597 1894 \nz\nM 3022 2063 \nQ 3016 2534 2758 2815 \nQ 2500 3097 2075 3097 \nQ 1594 3097 1305 2825 \nQ 1016 2553 972 2059 \nL 3022 2063 \nz\n\" transform=\"scale(0.015625)\"/>\n       <path id=\"DejaVuSans-6c\" d=\"M 603 4863 \nL 1178 4863 \nL 1178 0 \nL 603 0 \nL 603 4863 \nz\n\" transform=\"scale(0.015625)\"/>\n      </defs>\n      <use xlink:href=\"#DejaVuSans-4c\"/>\n      <use xlink:href=\"#DejaVuSans-61\" x=\"55.712891\"/>\n      <use xlink:href=\"#DejaVuSans-62\" x=\"116.992188\"/>\n      <use xlink:href=\"#DejaVuSans-65\" x=\"180.46875\"/>\n      <use xlink:href=\"#DejaVuSans-6c\" x=\"241.992188\"/>\n     </g>\n    </g>\n   </g>\n   <g id=\"matplotlib.axis_2\">\n    <g id=\"ytick_1\">\n     <g id=\"text_10\">\n      <!-- en -->\n      <g style=\"fill: #262626\" transform=\"translate(25.060344 38.914992) scale(0.121 -0.121)\">\n       <defs>\n        <path id=\"DejaVuSans-6e\" d=\"M 3513 2113 \nL 3513 0 \nL 2938 0 \nL 2938 2094 \nQ 2938 2591 2744 2837 \nQ 2550 3084 2163 3084 \nQ 1697 3084 1428 2787 \nQ 1159 2491 1159 1978 \nL 1159 0 \nL 581 0 \nL 581 3500 \nL 1159 3500 \nL 1159 2956 \nQ 1366 3272 1645 3428 \nQ 1925 3584 2291 3584 \nQ 2894 3584 3203 3211 \nQ 3513 2838 3513 2113 \nz\n\" transform=\"scale(0.015625)\"/>\n       </defs>\n       <use xlink:href=\"#DejaVuSans-65\"/>\n       <use xlink:href=\"#DejaVuSans-6e\" x=\"61.523438\"/>\n      </g>\n     </g>\n    </g>\n    <g id=\"ytick_2\">\n     <g id=\"text_11\">\n      <!-- sw -->\n      <g style=\"fill: #262626\" transform=\"translate(23.975125 61.090992) scale(0.121 -0.121)\">\n       <defs>\n        <path id=\"DejaVuSans-73\" d=\"M 2834 3397 \nL 2834 2853 \nQ 2591 2978 2328 3040 \nQ 2066 3103 1784 3103 \nQ 1356 3103 1142 2972 \nQ 928 2841 928 2578 \nQ 928 2378 1081 2264 \nQ 1234 2150 1697 2047 \nL 1894 2003 \nQ 2506 1872 2764 1633 \nQ 3022 1394 3022 966 \nQ 3022 478 2636 193 \nQ 2250 -91 1575 -91 \nQ 1294 -91 989 -36 \nQ 684 19 347 128 \nL 347 722 \nQ 666 556 975 473 \nQ 1284 391 1588 391 \nQ 1994 391 2212 530 \nQ 2431 669 2431 922 \nQ 2431 1156 2273 1281 \nQ 2116 1406 1581 1522 \nL 1381 1569 \nQ 847 1681 609 1914 \nQ 372 2147 372 2553 \nQ 372 3047 722 3315 \nQ 1072 3584 1716 3584 \nQ 2034 3584 2315 3537 \nQ 2597 3491 2834 3397 \nz\n\" transform=\"scale(0.015625)\"/>\n        <path id=\"DejaVuSans-77\" d=\"M 269 3500 \nL 844 3500 \nL 1563 769 \nL 2278 3500 \nL 2956 3500 \nL 3675 769 \nL 4391 3500 \nL 4966 3500 \nL 4050 0 \nL 3372 0 \nL 2619 2869 \nL 1863 0 \nL 1184 0 \nL 269 3500 \nz\n\" transform=\"scale(0.015625)\"/>\n       </defs>\n       <use xlink:href=\"#DejaVuSans-73\"/>\n       <use xlink:href=\"#DejaVuSans-77\" x=\"52.099609\"/>\n      </g>\n     </g>\n    </g>\n    <g id=\"ytick_3\">\n     <g id=\"text_12\">\n      <!-- id -->\n      <g style=\"fill: #262626\" transform=\"translate(29.130859 83.266992) scale(0.121 -0.121)\">\n       <defs>\n        <path id=\"DejaVuSans-69\" d=\"M 603 3500 \nL 1178 3500 \nL 1178 0 \nL 603 0 \nL 603 3500 \nz\nM 603 4863 \nL 1178 4863 \nL 1178 4134 \nL 603 4134 \nL 603 4863 \nz\n\" transform=\"scale(0.015625)\"/>\n        <path id=\"DejaVuSans-64\" d=\"M 2906 2969 \nL 2906 4863 \nL 3481 4863 \nL 3481 0 \nL 2906 0 \nL 2906 525 \nQ 2725 213 2448 61 \nQ 2172 -91 1784 -91 \nQ 1150 -91 751 415 \nQ 353 922 353 1747 \nQ 353 2572 751 3078 \nQ 1150 3584 1784 3584 \nQ 2172 3584 2448 3432 \nQ 2725 3281 2906 2969 \nz\nM 947 1747 \nQ 947 1113 1208 752 \nQ 1469 391 1925 391 \nQ 2381 391 2643 752 \nQ 2906 1113 2906 1747 \nQ 2906 2381 2643 2742 \nQ 2381 3103 1925 3103 \nQ 1469 3103 1208 2742 \nQ 947 2381 947 1747 \nz\n\" transform=\"scale(0.015625)\"/>\n       </defs>\n       <use xlink:href=\"#DejaVuSans-69\"/>\n       <use xlink:href=\"#DejaVuSans-64\" x=\"27.783203\"/>\n      </g>\n     </g>\n    </g>\n    <g id=\"ytick_4\">\n     <g id=\"text_13\">\n      <!-- af -->\n      <g style=\"fill: #262626\" transform=\"translate(28.499391 105.442992) scale(0.121 -0.121)\">\n       <defs>\n        <path id=\"DejaVuSans-66\" d=\"M 2375 4863 \nL 2375 4384 \nL 1825 4384 \nQ 1516 4384 1395 4259 \nQ 1275 4134 1275 3809 \nL 1275 3500 \nL 2222 3500 \nL 2222 3053 \nL 1275 3053 \nL 1275 0 \nL 697 0 \nL 697 3053 \nL 147 3053 \nL 147 3500 \nL 697 3500 \nL 697 3744 \nQ 697 4328 969 4595 \nQ 1241 4863 1831 4863 \nL 2375 4863 \nz\n\" transform=\"scale(0.015625)\"/>\n       </defs>\n       <use xlink:href=\"#DejaVuSans-61\"/>\n       <use xlink:href=\"#DejaVuSans-66\" x=\"61.279297\"/>\n      </g>\n     </g>\n    </g>\n    <g id=\"ytick_5\">\n     <g id=\"text_14\">\n      <!-- de -->\n      <g style=\"fill: #262626\" transform=\"translate(25.047109 127.618992) scale(0.121 -0.121)\">\n       <use xlink:href=\"#DejaVuSans-64\"/>\n       <use xlink:href=\"#DejaVuSans-65\" x=\"63.476562\"/>\n      </g>\n     </g>\n    </g>\n    <g id=\"ytick_6\">\n     <g id=\"text_15\">\n      <!-- fr -->\n      <g style=\"fill: #262626\" transform=\"translate(30.940188 149.794992) scale(0.121 -0.121)\">\n       <defs>\n        <path id=\"DejaVuSans-72\" d=\"M 2631 2963 \nQ 2534 3019 2420 3045 \nQ 2306 3072 2169 3072 \nQ 1681 3072 1420 2755 \nQ 1159 2438 1159 1844 \nL 1159 0 \nL 581 0 \nL 581 3500 \nL 1159 3500 \nL 1159 2956 \nQ 1341 3275 1631 3429 \nQ 1922 3584 2338 3584 \nQ 2397 3584 2469 3576 \nQ 2541 3569 2628 3553 \nL 2631 2963 \nz\n\" transform=\"scale(0.015625)\"/>\n       </defs>\n       <use xlink:href=\"#DejaVuSans-66\"/>\n       <use xlink:href=\"#DejaVuSans-72\" x=\"35.205078\"/>\n      </g>\n     </g>\n    </g>\n    <g id=\"ytick_7\">\n     <g id=\"text_16\">\n      <!-- ro -->\n      <g style=\"fill: #262626\" transform=\"translate(28.068328 171.970992) scale(0.121 -0.121)\">\n       <defs>\n        <path id=\"DejaVuSans-6f\" d=\"M 1959 3097 \nQ 1497 3097 1228 2736 \nQ 959 2375 959 1747 \nQ 959 1119 1226 758 \nQ 1494 397 1959 397 \nQ 2419 397 2687 759 \nQ 2956 1122 2956 1747 \nQ 2956 2369 2687 2733 \nQ 2419 3097 1959 3097 \nz\nM 1959 3584 \nQ 2709 3584 3137 3096 \nQ 3566 2609 3566 1747 \nQ 3566 888 3137 398 \nQ 2709 -91 1959 -91 \nQ 1206 -91 779 398 \nQ 353 888 353 1747 \nQ 353 2609 779 3096 \nQ 1206 3584 1959 3584 \nz\n\" transform=\"scale(0.015625)\"/>\n       </defs>\n       <use xlink:href=\"#DejaVuSans-72\"/>\n       <use xlink:href=\"#DejaVuSans-6f\" x=\"38.863281\"/>\n      </g>\n     </g>\n    </g>\n    <g id=\"ytick_8\">\n     <g id=\"text_17\">\n      <!-- ca -->\n      <g style=\"fill: #262626\" transform=\"translate(26.105859 194.146992) scale(0.121 -0.121)\">\n       <defs>\n        <path id=\"DejaVuSans-63\" d=\"M 3122 3366 \nL 3122 2828 \nQ 2878 2963 2633 3030 \nQ 2388 3097 2138 3097 \nQ 1578 3097 1268 2742 \nQ 959 2388 959 1747 \nQ 959 1106 1268 751 \nQ 1578 397 2138 397 \nQ 2388 397 2633 464 \nQ 2878 531 3122 666 \nL 3122 134 \nQ 2881 22 2623 -34 \nQ 2366 -91 2075 -91 \nQ 1284 -91 818 406 \nQ 353 903 353 1747 \nQ 353 2603 823 3093 \nQ 1294 3584 2113 3584 \nQ 2378 3584 2631 3529 \nQ 2884 3475 3122 3366 \nz\n\" transform=\"scale(0.015625)\"/>\n       </defs>\n       <use xlink:href=\"#DejaVuSans-63\"/>\n       <use xlink:href=\"#DejaVuSans-61\" x=\"54.980469\"/>\n      </g>\n     </g>\n    </g>\n    <g id=\"ytick_9\">\n     <g id=\"text_18\">\n      <!-- et -->\n      <g style=\"fill: #262626\" transform=\"translate(27.985141 216.322992) scale(0.121 -0.121)\">\n       <defs>\n        <path id=\"DejaVuSans-74\" d=\"M 1172 4494 \nL 1172 3500 \nL 2356 3500 \nL 2356 3053 \nL 1172 3053 \nL 1172 1153 \nQ 1172 725 1289 603 \nQ 1406 481 1766 481 \nL 2356 481 \nL 2356 0 \nL 1766 0 \nQ 1100 0 847 248 \nQ 594 497 594 1153 \nL 594 3053 \nL 172 3053 \nL 172 3500 \nL 594 3500 \nL 594 4494 \nL 1172 4494 \nz\n\" transform=\"scale(0.015625)\"/>\n       </defs>\n       <use xlink:href=\"#DejaVuSans-65\"/>\n       <use xlink:href=\"#DejaVuSans-74\" x=\"61.523438\"/>\n      </g>\n     </g>\n    </g>\n    <g id=\"ytick_10\">\n     <g id=\"text_19\">\n      <!-- hr -->\n      <g style=\"fill: #262626\" transform=\"translate(27.531391 238.498992) scale(0.121 -0.121)\">\n       <defs>\n        <path id=\"DejaVuSans-68\" d=\"M 3513 2113 \nL 3513 0 \nL 2938 0 \nL 2938 2094 \nQ 2938 2591 2744 2837 \nQ 2550 3084 2163 3084 \nQ 1697 3084 1428 2787 \nQ 1159 2491 1159 1978 \nL 1159 0 \nL 581 0 \nL 581 4863 \nL 1159 4863 \nL 1159 2956 \nQ 1366 3272 1645 3428 \nQ 1925 3584 2291 3584 \nQ 2894 3584 3203 3211 \nQ 3513 2838 3513 2113 \nz\n\" transform=\"scale(0.015625)\"/>\n       </defs>\n       <use xlink:href=\"#DejaVuSans-68\"/>\n       <use xlink:href=\"#DejaVuSans-72\" x=\"63.378906\"/>\n      </g>\n     </g>\n    </g>\n    <g id=\"ytick_11\">\n     <g id=\"text_20\">\n      <!-- it -->\n      <g style=\"fill: #262626\" transform=\"translate(32.068891 260.674992) scale(0.121 -0.121)\">\n       <use xlink:href=\"#DejaVuSans-69\"/>\n       <use xlink:href=\"#DejaVuSans-74\" x=\"27.783203\"/>\n      </g>\n     </g>\n    </g>\n    <g id=\"ytick_12\">\n     <g id=\"text_21\">\n      <!-- nl -->\n      <g style=\"fill: #262626\" transform=\"translate(29.144094 282.850992) scale(0.121 -0.121)\">\n       <use xlink:href=\"#DejaVuSans-6e\"/>\n       <use xlink:href=\"#DejaVuSans-6c\" x=\"63.378906\"/>\n      </g>\n     </g>\n    </g>\n    <g id=\"ytick_13\">\n     <g id=\"text_22\">\n      <!-- no -->\n      <g style=\"fill: #262626\" transform=\"translate(25.101938 305.026992) scale(0.121 -0.121)\">\n       <use xlink:href=\"#DejaVuSans-6e\"/>\n       <use xlink:href=\"#DejaVuSans-6f\" x=\"63.378906\"/>\n      </g>\n     </g>\n    </g>\n    <g id=\"ytick_14\">\n     <g id=\"text_23\">\n      <!-- pt -->\n      <g style=\"fill: #262626\" transform=\"translate(27.748813 327.202992) scale(0.121 -0.121)\">\n       <defs>\n        <path id=\"DejaVuSans-70\" d=\"M 1159 525 \nL 1159 -1331 \nL 581 -1331 \nL 581 3500 \nL 1159 3500 \nL 1159 2969 \nQ 1341 3281 1617 3432 \nQ 1894 3584 2278 3584 \nQ 2916 3584 3314 3078 \nQ 3713 2572 3713 1747 \nQ 3713 922 3314 415 \nQ 2916 -91 2278 -91 \nQ 1894 -91 1617 61 \nQ 1341 213 1159 525 \nz\nM 3116 1747 \nQ 3116 2381 2855 2742 \nQ 2594 3103 2138 3103 \nQ 1681 3103 1420 2742 \nQ 1159 2381 1159 1747 \nQ 1159 1113 1420 752 \nQ 1681 391 2138 391 \nQ 2594 391 2855 752 \nQ 3116 1113 3116 1747 \nz\n\" transform=\"scale(0.015625)\"/>\n       </defs>\n       <use xlink:href=\"#DejaVuSans-70\"/>\n       <use xlink:href=\"#DejaVuSans-74\" x=\"63.476562\"/>\n      </g>\n     </g>\n    </g>\n    <g id=\"ytick_15\">\n     <g id=\"text_24\">\n      <!-- tl -->\n      <g style=\"fill: #262626\" transform=\"translate(32.068891 349.378992) scale(0.121 -0.121)\">\n       <use xlink:href=\"#DejaVuSans-74\"/>\n       <use xlink:href=\"#DejaVuSans-6c\" x=\"39.208984\"/>\n      </g>\n     </g>\n    </g>\n    <g id=\"text_25\">\n     <!-- Counts -->\n     <g style=\"fill: #262626\" transform=\"translate(17.229938 212.588062) rotate(-90) scale(0.132 -0.132)\">\n      <defs>\n       <path id=\"DejaVuSans-43\" d=\"M 4122 4306 \nL 4122 3641 \nQ 3803 3938 3442 4084 \nQ 3081 4231 2675 4231 \nQ 1875 4231 1450 3742 \nQ 1025 3253 1025 2328 \nQ 1025 1406 1450 917 \nQ 1875 428 2675 428 \nQ 3081 428 3442 575 \nQ 3803 722 4122 1019 \nL 4122 359 \nQ 3791 134 3420 21 \nQ 3050 -91 2638 -91 \nQ 1578 -91 968 557 \nQ 359 1206 359 2328 \nQ 359 3453 968 4101 \nQ 1578 4750 2638 4750 \nQ 3056 4750 3426 4639 \nQ 3797 4528 4122 4306 \nz\n\" transform=\"scale(0.015625)\"/>\n       <path id=\"DejaVuSans-75\" d=\"M 544 1381 \nL 544 3500 \nL 1119 3500 \nL 1119 1403 \nQ 1119 906 1312 657 \nQ 1506 409 1894 409 \nQ 2359 409 2629 706 \nQ 2900 1003 2900 1516 \nL 2900 3500 \nL 3475 3500 \nL 3475 0 \nL 2900 0 \nL 2900 538 \nQ 2691 219 2414 64 \nQ 2138 -91 1772 -91 \nQ 1169 -91 856 284 \nQ 544 659 544 1381 \nz\nM 1991 3584 \nL 1991 3584 \nz\n\" transform=\"scale(0.015625)\"/>\n      </defs>\n      <use xlink:href=\"#DejaVuSans-43\"/>\n      <use xlink:href=\"#DejaVuSans-6f\" x=\"69.824219\"/>\n      <use xlink:href=\"#DejaVuSans-75\" x=\"131.005859\"/>\n      <use xlink:href=\"#DejaVuSans-6e\" x=\"194.384766\"/>\n      <use xlink:href=\"#DejaVuSans-74\" x=\"257.763672\"/>\n      <use xlink:href=\"#DejaVuSans-73\" x=\"296.972656\"/>\n     </g>\n    </g>\n   </g>\n   <g id=\"patch_3\">\n    <path d=\"M 49.674 25.447537 \nL 687.388286 25.447537 \nL 687.388286 43.188337 \nL 49.674 43.188337 \nz\n\" clip-path=\"url(#p88da7e9bc9)\" style=\"fill: #ea96a3; stroke: #ffffff; stroke-linejoin: miter\"/>\n   </g>\n   <g id=\"patch_4\">\n    <path d=\"M 49.674 47.623537 \nL 66.256467 47.623537 \nL 66.256467 65.364337 \nL 49.674 65.364337 \nz\n\" clip-path=\"url(#p88da7e9bc9)\" style=\"fill: #e59471; stroke: #ffffff; stroke-linejoin: miter\"/>\n   </g>\n   <g id=\"patch_5\">\n    <path d=\"M 49.674 69.799537 \nL 54.411848 69.799537 \nL 54.411848 87.540337 \nL 49.674 87.540337 \nz\n\" clip-path=\"url(#p88da7e9bc9)\" style=\"fill: #c6994b; stroke: #ffffff; stroke-linejoin: miter\"/>\n   </g>\n   <g id=\"patch_6\">\n    <path d=\"M 49.674 91.975537 \nL 53.464278 91.975537 \nL 53.464278 109.716337 \nL 49.674 109.716337 \nz\n\" clip-path=\"url(#p88da7e9bc9)\" style=\"fill: #ab9e47; stroke: #ffffff; stroke-linejoin: miter\"/>\n   </g>\n   <g id=\"patch_7\">\n    <path d=\"M 49.674 114.151537 \nL 52.516709 114.151537 \nL 52.516709 131.892337 \nL 49.674 131.892337 \nz\n\" clip-path=\"url(#p88da7e9bc9)\" style=\"fill: #91a446; stroke: #ffffff; stroke-linejoin: miter\"/>\n   </g>\n   <g id=\"patch_8\">\n    <path d=\"M 49.674 136.327537 \nL 51.095354 136.327537 \nL 51.095354 154.068337 \nL 49.674 154.068337 \nz\n\" clip-path=\"url(#p88da7e9bc9)\" style=\"fill: #60ae47; stroke: #ffffff; stroke-linejoin: miter\"/>\n   </g>\n   <g id=\"patch_9\">\n    <path d=\"M 49.674 158.503537 \nL 50.62157 158.503537 \nL 50.62157 176.244337 \nL 49.674 176.244337 \nz\n\" clip-path=\"url(#p88da7e9bc9)\" style=\"fill: #49ae83; stroke: #ffffff; stroke-linejoin: miter\"/>\n   </g>\n   <g id=\"patch_10\">\n    <path d=\"M 49.674 180.679537 \nL 50.147785 180.679537 \nL 50.147785 198.420337 \nL 49.674 198.420337 \nz\n\" clip-path=\"url(#p88da7e9bc9)\" style=\"fill: #4aac9b; stroke: #ffffff; stroke-linejoin: miter\"/>\n   </g>\n   <g id=\"patch_11\">\n    <path d=\"M 49.674 202.855537 \nL 50.147785 202.855537 \nL 50.147785 220.596337 \nL 49.674 220.596337 \nz\n\" clip-path=\"url(#p88da7e9bc9)\" style=\"fill: #4cabad; stroke: #ffffff; stroke-linejoin: miter\"/>\n   </g>\n   <g id=\"patch_12\">\n    <path d=\"M 49.674 225.031537 \nL 50.147785 225.031537 \nL 50.147785 242.772337 \nL 49.674 242.772337 \nz\n\" clip-path=\"url(#p88da7e9bc9)\" style=\"fill: #50acc3; stroke: #ffffff; stroke-linejoin: miter\"/>\n   </g>\n   <g id=\"patch_13\">\n    <path d=\"M 49.674 247.207537 \nL 50.147785 247.207537 \nL 50.147785 264.948337 \nL 49.674 264.948337 \nz\n\" clip-path=\"url(#p88da7e9bc9)\" style=\"fill: #6daee2; stroke: #ffffff; stroke-linejoin: miter\"/>\n   </g>\n   <g id=\"patch_14\">\n    <path d=\"M 49.674 269.383537 \nL 50.147785 269.383537 \nL 50.147785 287.124337 \nL 49.674 287.124337 \nz\n\" clip-path=\"url(#p88da7e9bc9)\" style=\"fill: #adabeb; stroke: #ffffff; stroke-linejoin: miter\"/>\n   </g>\n   <g id=\"patch_15\">\n    <path d=\"M 49.674 291.559537 \nL 50.147785 291.559537 \nL 50.147785 309.300337 \nL 49.674 309.300337 \nz\n\" clip-path=\"url(#p88da7e9bc9)\" style=\"fill: #ce9be9; stroke: #ffffff; stroke-linejoin: miter\"/>\n   </g>\n   <g id=\"patch_16\">\n    <path d=\"M 49.674 313.735537 \nL 50.147785 313.735537 \nL 50.147785 331.476337 \nL 49.674 331.476337 \nz\n\" clip-path=\"url(#p88da7e9bc9)\" style=\"fill: #e78bdb; stroke: #ffffff; stroke-linejoin: miter\"/>\n   </g>\n   <g id=\"patch_17\">\n    <path d=\"M 49.674 335.911537 \nL 50.147785 335.911537 \nL 50.147785 353.652337 \nL 49.674 353.652337 \nz\n\" clip-path=\"url(#p88da7e9bc9)\" style=\"fill: #e891bf; stroke: #ffffff; stroke-linejoin: miter\"/>\n   </g>\n   <g id=\"line2d_9\">\n    <path clip-path=\"url(#p88da7e9bc9)\" style=\"fill: none; stroke: #424242; stroke-width: 2.7; stroke-linecap: round\"/>\n   </g>\n   <g id=\"line2d_10\">\n    <path clip-path=\"url(#p88da7e9bc9)\" style=\"fill: none; stroke: #424242; stroke-width: 2.7; stroke-linecap: round\"/>\n   </g>\n   <g id=\"line2d_11\">\n    <path clip-path=\"url(#p88da7e9bc9)\" style=\"fill: none; stroke: #424242; stroke-width: 2.7; stroke-linecap: round\"/>\n   </g>\n   <g id=\"line2d_12\">\n    <path clip-path=\"url(#p88da7e9bc9)\" style=\"fill: none; stroke: #424242; stroke-width: 2.7; stroke-linecap: round\"/>\n   </g>\n   <g id=\"line2d_13\">\n    <path clip-path=\"url(#p88da7e9bc9)\" style=\"fill: none; stroke: #424242; stroke-width: 2.7; stroke-linecap: round\"/>\n   </g>\n   <g id=\"line2d_14\">\n    <path clip-path=\"url(#p88da7e9bc9)\" style=\"fill: none; stroke: #424242; stroke-width: 2.7; stroke-linecap: round\"/>\n   </g>\n   <g id=\"line2d_15\">\n    <path clip-path=\"url(#p88da7e9bc9)\" style=\"fill: none; stroke: #424242; stroke-width: 2.7; stroke-linecap: round\"/>\n   </g>\n   <g id=\"line2d_16\">\n    <path clip-path=\"url(#p88da7e9bc9)\" style=\"fill: none; stroke: #424242; stroke-width: 2.7; stroke-linecap: round\"/>\n   </g>\n   <g id=\"line2d_17\">\n    <path clip-path=\"url(#p88da7e9bc9)\" style=\"fill: none; stroke: #424242; stroke-width: 2.7; stroke-linecap: round\"/>\n   </g>\n   <g id=\"line2d_18\">\n    <path clip-path=\"url(#p88da7e9bc9)\" style=\"fill: none; stroke: #424242; stroke-width: 2.7; stroke-linecap: round\"/>\n   </g>\n   <g id=\"line2d_19\">\n    <path clip-path=\"url(#p88da7e9bc9)\" style=\"fill: none; stroke: #424242; stroke-width: 2.7; stroke-linecap: round\"/>\n   </g>\n   <g id=\"line2d_20\">\n    <path clip-path=\"url(#p88da7e9bc9)\" style=\"fill: none; stroke: #424242; stroke-width: 2.7; stroke-linecap: round\"/>\n   </g>\n   <g id=\"line2d_21\">\n    <path clip-path=\"url(#p88da7e9bc9)\" style=\"fill: none; stroke: #424242; stroke-width: 2.7; stroke-linecap: round\"/>\n   </g>\n   <g id=\"line2d_22\">\n    <path clip-path=\"url(#p88da7e9bc9)\" style=\"fill: none; stroke: #424242; stroke-width: 2.7; stroke-linecap: round\"/>\n   </g>\n   <g id=\"line2d_23\">\n    <path clip-path=\"url(#p88da7e9bc9)\" style=\"fill: none; stroke: #424242; stroke-width: 2.7; stroke-linecap: round\"/>\n   </g>\n   <g id=\"patch_18\">\n    <path d=\"M 49.674 355.869937 \nL 49.674 23.229937 \n\" style=\"fill: none; stroke: #ffffff; stroke-width: 1.25; stroke-linejoin: miter; stroke-linecap: square\"/>\n   </g>\n   <g id=\"patch_19\">\n    <path d=\"M 719.274 355.869937 \nL 719.274 23.229937 \n\" style=\"fill: none; stroke: #ffffff; stroke-width: 1.25; stroke-linejoin: miter; stroke-linecap: square\"/>\n   </g>\n   <g id=\"patch_20\">\n    <path d=\"M 49.674 355.869937 \nL 719.274 355.869937 \n\" style=\"fill: none; stroke: #ffffff; stroke-width: 1.25; stroke-linejoin: miter; stroke-linecap: square\"/>\n   </g>\n   <g id=\"patch_21\">\n    <path d=\"M 49.674 23.229937 \nL 719.274 23.229937 \n\" style=\"fill: none; stroke: #ffffff; stroke-width: 1.25; stroke-linejoin: miter; stroke-linecap: square\"/>\n   </g>\n   <g id=\"text_26\">\n    <!-- Language Distribution -->\n    <g style=\"fill: #262626\" transform=\"translate(311.300625 17.229937) scale(0.132 -0.132)\">\n     <defs>\n      <path id=\"DejaVuSans-67\" d=\"M 2906 1791 \nQ 2906 2416 2648 2759 \nQ 2391 3103 1925 3103 \nQ 1463 3103 1205 2759 \nQ 947 2416 947 1791 \nQ 947 1169 1205 825 \nQ 1463 481 1925 481 \nQ 2391 481 2648 825 \nQ 2906 1169 2906 1791 \nz\nM 3481 434 \nQ 3481 -459 3084 -895 \nQ 2688 -1331 1869 -1331 \nQ 1566 -1331 1297 -1286 \nQ 1028 -1241 775 -1147 \nL 775 -588 \nQ 1028 -725 1275 -790 \nQ 1522 -856 1778 -856 \nQ 2344 -856 2625 -561 \nQ 2906 -266 2906 331 \nL 2906 616 \nQ 2728 306 2450 153 \nQ 2172 0 1784 0 \nQ 1141 0 747 490 \nQ 353 981 353 1791 \nQ 353 2603 747 3093 \nQ 1141 3584 1784 3584 \nQ 2172 3584 2450 3431 \nQ 2728 3278 2906 2969 \nL 2906 3500 \nL 3481 3500 \nL 3481 434 \nz\n\" transform=\"scale(0.015625)\"/>\n      <path id=\"DejaVuSans-20\" transform=\"scale(0.015625)\"/>\n      <path id=\"DejaVuSans-44\" d=\"M 1259 4147 \nL 1259 519 \nL 2022 519 \nQ 2988 519 3436 956 \nQ 3884 1394 3884 2338 \nQ 3884 3275 3436 3711 \nQ 2988 4147 2022 4147 \nL 1259 4147 \nz\nM 628 4666 \nL 1925 4666 \nQ 3281 4666 3915 4102 \nQ 4550 3538 4550 2338 \nQ 4550 1131 3912 565 \nQ 3275 0 1925 0 \nL 628 0 \nL 628 4666 \nz\n\" transform=\"scale(0.015625)\"/>\n     </defs>\n     <use xlink:href=\"#DejaVuSans-4c\"/>\n     <use xlink:href=\"#DejaVuSans-61\" x=\"55.712891\"/>\n     <use xlink:href=\"#DejaVuSans-6e\" x=\"116.992188\"/>\n     <use xlink:href=\"#DejaVuSans-67\" x=\"180.371094\"/>\n     <use xlink:href=\"#DejaVuSans-75\" x=\"243.847656\"/>\n     <use xlink:href=\"#DejaVuSans-61\" x=\"307.226562\"/>\n     <use xlink:href=\"#DejaVuSans-67\" x=\"368.505859\"/>\n     <use xlink:href=\"#DejaVuSans-65\" x=\"431.982422\"/>\n     <use xlink:href=\"#DejaVuSans-20\" x=\"493.505859\"/>\n     <use xlink:href=\"#DejaVuSans-44\" x=\"525.292969\"/>\n     <use xlink:href=\"#DejaVuSans-69\" x=\"602.294922\"/>\n     <use xlink:href=\"#DejaVuSans-73\" x=\"630.078125\"/>\n     <use xlink:href=\"#DejaVuSans-74\" x=\"682.177734\"/>\n     <use xlink:href=\"#DejaVuSans-72\" x=\"721.386719\"/>\n     <use xlink:href=\"#DejaVuSans-69\" x=\"762.5\"/>\n     <use xlink:href=\"#DejaVuSans-62\" x=\"790.283203\"/>\n     <use xlink:href=\"#DejaVuSans-75\" x=\"853.759766\"/>\n     <use xlink:href=\"#DejaVuSans-74\" x=\"917.138672\"/>\n     <use xlink:href=\"#DejaVuSans-69\" x=\"956.347656\"/>\n     <use xlink:href=\"#DejaVuSans-6f\" x=\"984.130859\"/>\n     <use xlink:href=\"#DejaVuSans-6e\" x=\"1045.3125\"/>\n    </g>\n   </g>\n  </g>\n </g>\n <defs>\n  <clipPath id=\"p88da7e9bc9\">\n   <rect x=\"49.674\" y=\"23.229937\" width=\"669.6\" height=\"332.64\"/>\n  </clipPath>\n </defs>\n</svg>\n"
          },
          "metadata": {}
        }
      ]
    },
    {
      "cell_type": "code",
      "source": [
        "model_data['lang'] = model_data['normalized_text'].map(detect)"
      ],
      "metadata": {
        "id": "D7X1ZK12teEh"
      },
      "execution_count": null,
      "outputs": []
    },
    {
      "cell_type": "code",
      "source": [
        "from transformers import pipeline"
      ],
      "metadata": {
        "id": "qiLhOJKOtpbo"
      },
      "execution_count": null,
      "outputs": []
    },
    {
      "cell_type": "code",
      "source": [
        "dvc = 0 if torch.cuda.is_available() else -1"
      ],
      "metadata": {
        "id": "7fJ6qt90vdq8"
      },
      "execution_count": null,
      "outputs": []
    },
    {
      "cell_type": "code",
      "source": [
        "model_ckpt = \"papluca/xlm-roberta-base-language-detection\"\n",
        "pipe = pipeline(\"text-classification\", model=model_ckpt, device=dvc)"
      ],
      "metadata": {
        "colab": {
          "base_uri": "https://localhost:8080/",
          "height": 321,
          "referenced_widgets": [
            "8885f78f04e6418ca039859b7bd00fd0",
            "64c4eed2f27d41589052ffa768ac6fa8",
            "e3e83fe93a6f46509653d0215fdb3b36",
            "e6c3e639e7b64509b4c34ca1bb942a31",
            "7ffb4f350fcc477ab0a62a1020d4067c",
            "c2a0f34728874c3784b8f9d0d1f3aab0",
            "4af236cd166c49e6a61039f8cf01d229",
            "7fe2f56efeb64b7a927535768c2b3a24",
            "da1193cfcf37436f909495a37dc50e07",
            "3ea70ccd200b4587b93f09725c660481",
            "91b02415390249bca59559d0483a6400",
            "81b511d8a3b2496e8d9fab30a6c6c2ce",
            "07cd6eef1a75417db44047f863bf78eb",
            "8d520b401c3e4dae9519073d78330116",
            "0a9894fd2cfb4c93bea4f84aaf8f68d3",
            "a73573243b804f37b9c36fe433c251d9",
            "8fa7afb0b2fb4a48ac1291cb3bd1c6d5",
            "c1b3ffcf92104a2d8f7888548c486496",
            "33b98866ad5143c693fed53c8bdc86e9",
            "dfee316175254ce6b324a9958065e3fb",
            "359aeac022d4443d9ccd3ada7d1eb72e",
            "be65e8b975354d8398b5e41f21c79118",
            "03d6998c4f0040dd8d5074d48506105d",
            "af6efed3da844937b93623e2a6d42512",
            "83fac588d4fb485db8843e583b93668b",
            "9efe6081a80e4377b6debf928a12575e",
            "354583cdee5746248e657dae6126166f",
            "d98fbee2f5904bab9dad65b6b2c3feb3",
            "e31ed23d62724febb5f7a7c8d8ae387f",
            "6f93351430b94587877b61d4b1d4a5be",
            "0e172dbd79ef442cb1b1231f7da9f88a",
            "9ade5b0b2d564b1483bfab74d7603025",
            "6e772ac45f254328bfb3ae31af7c3074",
            "4ad31423a6d4477fbc1c0ca9e4d92f26",
            "dbfce8d4328444e89d392260e07734a6",
            "495bf17be4304b75b221ebbee4a13f6a",
            "889bd301c2334d95a026ea1e61095004",
            "8695e00228a4457bafde4278f4c638fc",
            "13c91012e01140bfaecf44e306f0be14",
            "28e0fa14163c45c4802864c37b31fbb7",
            "c798ab29e14d496aa8b3535a567ca74f",
            "bcc199b4ef1041eaa59b211b5b59c3b6",
            "1f8fbafae4674b9599f7b3ebf4f5dd57",
            "1c9fbf6c3ad9432fa577132ac7a91fbe",
            "77a2d6052a634f4f9c55cb58489fc2c0",
            "e9d5277b6fe946fbb22662949f442f7d",
            "e21691f68d8546f39f5b12ff02694436",
            "9dfc4c1a35af42969908448105c6a7fd",
            "80f8cbc2fa8f415cbc575c6b560c2088",
            "55499d9c15914d5a88c78d2e52ff5b1b",
            "05bc9dc946d04d2abb4625f9de1bc960",
            "00491e19ed5245e98093a4a20a3c647d",
            "760bada851dd45c0a2980fc9c689d3e8",
            "3d70279e1ab444438a8fd015e59f6155",
            "39324307d09a493bb103d1331e327e6e",
            "203eb9d4e6104ef18f36094657560e52",
            "3b7cb9128b7f469baf4eae92005545e2",
            "76d5f943f1044988bc42ee6de3a7e341",
            "1683bced2b41403191e93ae7f23d94ff",
            "435729d5274047e0afcc0c00533cb781",
            "056c1ad8db4648289347fda451bf0a66",
            "d8e606d04bbf41339c90d997704f993a",
            "e291bde855364224b64dff746e38ab0d",
            "35155c3fc0be49f6a70042096faa9f83",
            "431362814e5a4d13bd3f08f961be1a99",
            "e386ee9af3fb4b24a43584c1f2bc12d4"
          ]
        },
        "id": "4Vzqkbonu_sw",
        "outputId": "54e3ea99-3469-4cb3-dc6c-35cb138d4142"
      },
      "execution_count": null,
      "outputs": [
        {
          "output_type": "display_data",
          "data": {
            "text/plain": [
              "Downloading (…)lve/main/config.json:   0%|          | 0.00/1.42k [00:00<?, ?B/s]"
            ],
            "application/vnd.jupyter.widget-view+json": {
              "version_major": 2,
              "version_minor": 0,
              "model_id": "8885f78f04e6418ca039859b7bd00fd0"
            }
          },
          "metadata": {}
        },
        {
          "output_type": "display_data",
          "data": {
            "text/plain": [
              "Downloading pytorch_model.bin:   0%|          | 0.00/1.11G [00:00<?, ?B/s]"
            ],
            "application/vnd.jupyter.widget-view+json": {
              "version_major": 2,
              "version_minor": 0,
              "model_id": "81b511d8a3b2496e8d9fab30a6c6c2ce"
            }
          },
          "metadata": {}
        },
        {
          "output_type": "display_data",
          "data": {
            "text/plain": [
              "Downloading (…)okenizer_config.json:   0%|          | 0.00/502 [00:00<?, ?B/s]"
            ],
            "application/vnd.jupyter.widget-view+json": {
              "version_major": 2,
              "version_minor": 0,
              "model_id": "03d6998c4f0040dd8d5074d48506105d"
            }
          },
          "metadata": {}
        },
        {
          "output_type": "display_data",
          "data": {
            "text/plain": [
              "Downloading (…)tencepiece.bpe.model:   0%|          | 0.00/5.07M [00:00<?, ?B/s]"
            ],
            "application/vnd.jupyter.widget-view+json": {
              "version_major": 2,
              "version_minor": 0,
              "model_id": "4ad31423a6d4477fbc1c0ca9e4d92f26"
            }
          },
          "metadata": {}
        },
        {
          "output_type": "display_data",
          "data": {
            "text/plain": [
              "Downloading (…)/main/tokenizer.json:   0%|          | 0.00/9.08M [00:00<?, ?B/s]"
            ],
            "application/vnd.jupyter.widget-view+json": {
              "version_major": 2,
              "version_minor": 0,
              "model_id": "77a2d6052a634f4f9c55cb58489fc2c0"
            }
          },
          "metadata": {}
        },
        {
          "output_type": "display_data",
          "data": {
            "text/plain": [
              "Downloading (…)cial_tokens_map.json:   0%|          | 0.00/239 [00:00<?, ?B/s]"
            ],
            "application/vnd.jupyter.widget-view+json": {
              "version_major": 2,
              "version_minor": 0,
              "model_id": "203eb9d4e6104ef18f36094657560e52"
            }
          },
          "metadata": {}
        },
        {
          "output_type": "stream",
          "name": "stderr",
          "text": [
            "Xformers is not installed correctly. If you want to use memory_efficient_attention to accelerate training use the following command to install Xformers\n",
            "pip install xformers.\n"
          ]
        }
      ]
    },
    {
      "cell_type": "code",
      "source": [
        "model_preds = [s['label'] for s in pipe(model_data.normalized_text.values.tolist(), truncation=True, max_length=128)]"
      ],
      "metadata": {
        "id": "uehfvzUivDet"
      },
      "execution_count": null,
      "outputs": []
    },
    {
      "cell_type": "code",
      "source": [
        "len(model_preds)"
      ],
      "metadata": {
        "colab": {
          "base_uri": "https://localhost:8080/"
        },
        "id": "kOAJkmxBvXp0",
        "outputId": "3517031c-ff09-4c3a-b03c-943133a9cd92"
      },
      "execution_count": null,
      "outputs": [
        {
          "output_type": "execute_result",
          "data": {
            "text/plain": [
              "14180"
            ]
          },
          "metadata": {},
          "execution_count": 126
        }
      ]
    },
    {
      "cell_type": "code",
      "source": [
        "model_data['lang'] = model_preds"
      ],
      "metadata": {
        "id": "pND45wU_wM18"
      },
      "execution_count": null,
      "outputs": []
    },
    {
      "cell_type": "code",
      "source": [
        "grouped_counts = model_data.groupby(\"lang\").size().reset_index(name='Counts').sort_values([\"Counts\"], ascending=False)\n",
        "sns.barplot(data=grouped_counts, x='Counts', y='lang')\n",
        "plt.xlabel('Label')\n",
        "plt.ylabel('Counts')\n",
        "plt.title('Language Distribution')\n",
        "plt.show()"
      ],
      "metadata": {
        "colab": {
          "base_uri": "https://localhost:8080/",
          "height": 576
        },
        "id": "GPnG7pYzwPk5",
        "outputId": "1d289e4c-8040-4244-e5bb-2bc59f4272a9"
      },
      "execution_count": null,
      "outputs": [
        {
          "output_type": "display_data",
          "data": {
            "text/plain": [
              "<Figure size 1200x600 with 1 Axes>"
            ],
            "image/svg+xml": "<?xml version=\"1.0\" encoding=\"utf-8\" standalone=\"no\"?>\n<!DOCTYPE svg PUBLIC \"-//W3C//DTD SVG 1.1//EN\"\n  \"http://www.w3.org/Graphics/SVG/1.1/DTD/svg11.dtd\">\n<svg xmlns:xlink=\"http://www.w3.org/1999/xlink\" width=\"726.474pt\" height=\"401.055594pt\" viewBox=\"0 0 726.474 401.055594\" xmlns=\"http://www.w3.org/2000/svg\" version=\"1.1\">\n <metadata>\n  <rdf:RDF xmlns:dc=\"http://purl.org/dc/elements/1.1/\" xmlns:cc=\"http://creativecommons.org/ns#\" xmlns:rdf=\"http://www.w3.org/1999/02/22-rdf-syntax-ns#\">\n   <cc:Work>\n    <dc:type rdf:resource=\"http://purl.org/dc/dcmitype/StillImage\"/>\n    <dc:date>2023-07-07T20:04:19.718341</dc:date>\n    <dc:format>image/svg+xml</dc:format>\n    <dc:creator>\n     <cc:Agent>\n      <dc:title>Matplotlib v3.7.1, https://matplotlib.org/</dc:title>\n     </cc:Agent>\n    </dc:creator>\n   </cc:Work>\n  </rdf:RDF>\n </metadata>\n <defs>\n  <style type=\"text/css\">*{stroke-linejoin: round; stroke-linecap: butt}</style>\n </defs>\n <g id=\"figure_1\">\n  <g id=\"patch_1\">\n   <path d=\"M 0 401.055594 \nL 726.474 401.055594 \nL 726.474 0 \nL 0 0 \nz\n\" style=\"fill: #ffffff\"/>\n  </g>\n  <g id=\"axes_1\">\n   <g id=\"patch_2\">\n    <path d=\"M 49.674 355.869937 \nL 719.274 355.869937 \nL 719.274 23.229937 \nL 49.674 23.229937 \nz\n\" style=\"fill: #eaeaf2\"/>\n   </g>\n   <g id=\"matplotlib.axis_1\">\n    <g id=\"xtick_1\">\n     <g id=\"line2d_1\">\n      <path d=\"M 49.674 355.869937 \nL 49.674 23.229937 \n\" clip-path=\"url(#pcffd93b0e3)\" style=\"fill: none; stroke: #ffffff; stroke-linecap: round\"/>\n     </g>\n     <g id=\"text_1\">\n      <!-- 0 -->\n      <g style=\"fill: #262626\" transform=\"translate(45.824688 374.564047) scale(0.121 -0.121)\">\n       <defs>\n        <path id=\"DejaVuSans-30\" d=\"M 2034 4250 \nQ 1547 4250 1301 3770 \nQ 1056 3291 1056 2328 \nQ 1056 1369 1301 889 \nQ 1547 409 2034 409 \nQ 2525 409 2770 889 \nQ 3016 1369 3016 2328 \nQ 3016 3291 2770 3770 \nQ 2525 4250 2034 4250 \nz\nM 2034 4750 \nQ 2819 4750 3233 4129 \nQ 3647 3509 3647 2328 \nQ 3647 1150 3233 529 \nQ 2819 -91 2034 -91 \nQ 1250 -91 836 529 \nQ 422 1150 422 2328 \nQ 422 3509 836 4129 \nQ 1250 4750 2034 4750 \nz\n\" transform=\"scale(0.015625)\"/>\n       </defs>\n       <use xlink:href=\"#DejaVuSans-30\"/>\n      </g>\n     </g>\n    </g>\n    <g id=\"xtick_2\">\n     <g id=\"line2d_2\">\n      <path d=\"M 153.841639 355.869937 \nL 153.841639 23.229937 \n\" clip-path=\"url(#pcffd93b0e3)\" style=\"fill: none; stroke: #ffffff; stroke-linecap: round\"/>\n     </g>\n     <g id=\"text_2\">\n      <!-- 2000 -->\n      <g style=\"fill: #262626\" transform=\"translate(138.444389 374.564047) scale(0.121 -0.121)\">\n       <defs>\n        <path id=\"DejaVuSans-32\" d=\"M 1228 531 \nL 3431 531 \nL 3431 0 \nL 469 0 \nL 469 531 \nQ 828 903 1448 1529 \nQ 2069 2156 2228 2338 \nQ 2531 2678 2651 2914 \nQ 2772 3150 2772 3378 \nQ 2772 3750 2511 3984 \nQ 2250 4219 1831 4219 \nQ 1534 4219 1204 4116 \nQ 875 4013 500 3803 \nL 500 4441 \nQ 881 4594 1212 4672 \nQ 1544 4750 1819 4750 \nQ 2544 4750 2975 4387 \nQ 3406 4025 3406 3419 \nQ 3406 3131 3298 2873 \nQ 3191 2616 2906 2266 \nQ 2828 2175 2409 1742 \nQ 1991 1309 1228 531 \nz\n\" transform=\"scale(0.015625)\"/>\n       </defs>\n       <use xlink:href=\"#DejaVuSans-32\"/>\n       <use xlink:href=\"#DejaVuSans-30\" x=\"63.623047\"/>\n       <use xlink:href=\"#DejaVuSans-30\" x=\"127.246094\"/>\n       <use xlink:href=\"#DejaVuSans-30\" x=\"190.869141\"/>\n      </g>\n     </g>\n    </g>\n    <g id=\"xtick_3\">\n     <g id=\"line2d_3\">\n      <path d=\"M 258.009278 355.869937 \nL 258.009278 23.229937 \n\" clip-path=\"url(#pcffd93b0e3)\" style=\"fill: none; stroke: #ffffff; stroke-linecap: round\"/>\n     </g>\n     <g id=\"text_3\">\n      <!-- 4000 -->\n      <g style=\"fill: #262626\" transform=\"translate(242.612028 374.564047) scale(0.121 -0.121)\">\n       <defs>\n        <path id=\"DejaVuSans-34\" d=\"M 2419 4116 \nL 825 1625 \nL 2419 1625 \nL 2419 4116 \nz\nM 2253 4666 \nL 3047 4666 \nL 3047 1625 \nL 3713 1625 \nL 3713 1100 \nL 3047 1100 \nL 3047 0 \nL 2419 0 \nL 2419 1100 \nL 313 1100 \nL 313 1709 \nL 2253 4666 \nz\n\" transform=\"scale(0.015625)\"/>\n       </defs>\n       <use xlink:href=\"#DejaVuSans-34\"/>\n       <use xlink:href=\"#DejaVuSans-30\" x=\"63.623047\"/>\n       <use xlink:href=\"#DejaVuSans-30\" x=\"127.246094\"/>\n       <use xlink:href=\"#DejaVuSans-30\" x=\"190.869141\"/>\n      </g>\n     </g>\n    </g>\n    <g id=\"xtick_4\">\n     <g id=\"line2d_4\">\n      <path d=\"M 362.176917 355.869937 \nL 362.176917 23.229937 \n\" clip-path=\"url(#pcffd93b0e3)\" style=\"fill: none; stroke: #ffffff; stroke-linecap: round\"/>\n     </g>\n     <g id=\"text_4\">\n      <!-- 6000 -->\n      <g style=\"fill: #262626\" transform=\"translate(346.779667 374.564047) scale(0.121 -0.121)\">\n       <defs>\n        <path id=\"DejaVuSans-36\" d=\"M 2113 2584 \nQ 1688 2584 1439 2293 \nQ 1191 2003 1191 1497 \nQ 1191 994 1439 701 \nQ 1688 409 2113 409 \nQ 2538 409 2786 701 \nQ 3034 994 3034 1497 \nQ 3034 2003 2786 2293 \nQ 2538 2584 2113 2584 \nz\nM 3366 4563 \nL 3366 3988 \nQ 3128 4100 2886 4159 \nQ 2644 4219 2406 4219 \nQ 1781 4219 1451 3797 \nQ 1122 3375 1075 2522 \nQ 1259 2794 1537 2939 \nQ 1816 3084 2150 3084 \nQ 2853 3084 3261 2657 \nQ 3669 2231 3669 1497 \nQ 3669 778 3244 343 \nQ 2819 -91 2113 -91 \nQ 1303 -91 875 529 \nQ 447 1150 447 2328 \nQ 447 3434 972 4092 \nQ 1497 4750 2381 4750 \nQ 2619 4750 2861 4703 \nQ 3103 4656 3366 4563 \nz\n\" transform=\"scale(0.015625)\"/>\n       </defs>\n       <use xlink:href=\"#DejaVuSans-36\"/>\n       <use xlink:href=\"#DejaVuSans-30\" x=\"63.623047\"/>\n       <use xlink:href=\"#DejaVuSans-30\" x=\"127.246094\"/>\n       <use xlink:href=\"#DejaVuSans-30\" x=\"190.869141\"/>\n      </g>\n     </g>\n    </g>\n    <g id=\"xtick_5\">\n     <g id=\"line2d_5\">\n      <path d=\"M 466.344556 355.869937 \nL 466.344556 23.229937 \n\" clip-path=\"url(#pcffd93b0e3)\" style=\"fill: none; stroke: #ffffff; stroke-linecap: round\"/>\n     </g>\n     <g id=\"text_5\">\n      <!-- 8000 -->\n      <g style=\"fill: #262626\" transform=\"translate(450.947306 374.564047) scale(0.121 -0.121)\">\n       <defs>\n        <path id=\"DejaVuSans-38\" d=\"M 2034 2216 \nQ 1584 2216 1326 1975 \nQ 1069 1734 1069 1313 \nQ 1069 891 1326 650 \nQ 1584 409 2034 409 \nQ 2484 409 2743 651 \nQ 3003 894 3003 1313 \nQ 3003 1734 2745 1975 \nQ 2488 2216 2034 2216 \nz\nM 1403 2484 \nQ 997 2584 770 2862 \nQ 544 3141 544 3541 \nQ 544 4100 942 4425 \nQ 1341 4750 2034 4750 \nQ 2731 4750 3128 4425 \nQ 3525 4100 3525 3541 \nQ 3525 3141 3298 2862 \nQ 3072 2584 2669 2484 \nQ 3125 2378 3379 2068 \nQ 3634 1759 3634 1313 \nQ 3634 634 3220 271 \nQ 2806 -91 2034 -91 \nQ 1263 -91 848 271 \nQ 434 634 434 1313 \nQ 434 1759 690 2068 \nQ 947 2378 1403 2484 \nz\nM 1172 3481 \nQ 1172 3119 1398 2916 \nQ 1625 2713 2034 2713 \nQ 2441 2713 2670 2916 \nQ 2900 3119 2900 3481 \nQ 2900 3844 2670 4047 \nQ 2441 4250 2034 4250 \nQ 1625 4250 1398 4047 \nQ 1172 3844 1172 3481 \nz\n\" transform=\"scale(0.015625)\"/>\n       </defs>\n       <use xlink:href=\"#DejaVuSans-38\"/>\n       <use xlink:href=\"#DejaVuSans-30\" x=\"63.623047\"/>\n       <use xlink:href=\"#DejaVuSans-30\" x=\"127.246094\"/>\n       <use xlink:href=\"#DejaVuSans-30\" x=\"190.869141\"/>\n      </g>\n     </g>\n    </g>\n    <g id=\"xtick_6\">\n     <g id=\"line2d_6\">\n      <path d=\"M 570.512195 355.869937 \nL 570.512195 23.229937 \n\" clip-path=\"url(#pcffd93b0e3)\" style=\"fill: none; stroke: #ffffff; stroke-linecap: round\"/>\n     </g>\n     <g id=\"text_6\">\n      <!-- 10000 -->\n      <g style=\"fill: #262626\" transform=\"translate(551.265632 374.564047) scale(0.121 -0.121)\">\n       <defs>\n        <path id=\"DejaVuSans-31\" d=\"M 794 531 \nL 1825 531 \nL 1825 4091 \nL 703 3866 \nL 703 4441 \nL 1819 4666 \nL 2450 4666 \nL 2450 531 \nL 3481 531 \nL 3481 0 \nL 794 0 \nL 794 531 \nz\n\" transform=\"scale(0.015625)\"/>\n       </defs>\n       <use xlink:href=\"#DejaVuSans-31\"/>\n       <use xlink:href=\"#DejaVuSans-30\" x=\"63.623047\"/>\n       <use xlink:href=\"#DejaVuSans-30\" x=\"127.246094\"/>\n       <use xlink:href=\"#DejaVuSans-30\" x=\"190.869141\"/>\n       <use xlink:href=\"#DejaVuSans-30\" x=\"254.492188\"/>\n      </g>\n     </g>\n    </g>\n    <g id=\"xtick_7\">\n     <g id=\"line2d_7\">\n      <path d=\"M 674.679834 355.869937 \nL 674.679834 23.229937 \n\" clip-path=\"url(#pcffd93b0e3)\" style=\"fill: none; stroke: #ffffff; stroke-linecap: round\"/>\n     </g>\n     <g id=\"text_7\">\n      <!-- 12000 -->\n      <g style=\"fill: #262626\" transform=\"translate(655.433271 374.564047) scale(0.121 -0.121)\">\n       <use xlink:href=\"#DejaVuSans-31\"/>\n       <use xlink:href=\"#DejaVuSans-32\" x=\"63.623047\"/>\n       <use xlink:href=\"#DejaVuSans-30\" x=\"127.246094\"/>\n       <use xlink:href=\"#DejaVuSans-30\" x=\"190.869141\"/>\n       <use xlink:href=\"#DejaVuSans-30\" x=\"254.492188\"/>\n      </g>\n     </g>\n    </g>\n    <g id=\"text_8\">\n     <!-- Label -->\n     <g style=\"fill: #262626\" transform=\"translate(366.667406 391.110406) scale(0.132 -0.132)\">\n      <defs>\n       <path id=\"DejaVuSans-4c\" d=\"M 628 4666 \nL 1259 4666 \nL 1259 531 \nL 3531 531 \nL 3531 0 \nL 628 0 \nL 628 4666 \nz\n\" transform=\"scale(0.015625)\"/>\n       <path id=\"DejaVuSans-61\" d=\"M 2194 1759 \nQ 1497 1759 1228 1600 \nQ 959 1441 959 1056 \nQ 959 750 1161 570 \nQ 1363 391 1709 391 \nQ 2188 391 2477 730 \nQ 2766 1069 2766 1631 \nL 2766 1759 \nL 2194 1759 \nz\nM 3341 1997 \nL 3341 0 \nL 2766 0 \nL 2766 531 \nQ 2569 213 2275 61 \nQ 1981 -91 1556 -91 \nQ 1019 -91 701 211 \nQ 384 513 384 1019 \nQ 384 1609 779 1909 \nQ 1175 2209 1959 2209 \nL 2766 2209 \nL 2766 2266 \nQ 2766 2663 2505 2880 \nQ 2244 3097 1772 3097 \nQ 1472 3097 1187 3025 \nQ 903 2953 641 2809 \nL 641 3341 \nQ 956 3463 1253 3523 \nQ 1550 3584 1831 3584 \nQ 2591 3584 2966 3190 \nQ 3341 2797 3341 1997 \nz\n\" transform=\"scale(0.015625)\"/>\n       <path id=\"DejaVuSans-62\" d=\"M 3116 1747 \nQ 3116 2381 2855 2742 \nQ 2594 3103 2138 3103 \nQ 1681 3103 1420 2742 \nQ 1159 2381 1159 1747 \nQ 1159 1113 1420 752 \nQ 1681 391 2138 391 \nQ 2594 391 2855 752 \nQ 3116 1113 3116 1747 \nz\nM 1159 2969 \nQ 1341 3281 1617 3432 \nQ 1894 3584 2278 3584 \nQ 2916 3584 3314 3078 \nQ 3713 2572 3713 1747 \nQ 3713 922 3314 415 \nQ 2916 -91 2278 -91 \nQ 1894 -91 1617 61 \nQ 1341 213 1159 525 \nL 1159 0 \nL 581 0 \nL 581 4863 \nL 1159 4863 \nL 1159 2969 \nz\n\" transform=\"scale(0.015625)\"/>\n       <path id=\"DejaVuSans-65\" d=\"M 3597 1894 \nL 3597 1613 \nL 953 1613 \nQ 991 1019 1311 708 \nQ 1631 397 2203 397 \nQ 2534 397 2845 478 \nQ 3156 559 3463 722 \nL 3463 178 \nQ 3153 47 2828 -22 \nQ 2503 -91 2169 -91 \nQ 1331 -91 842 396 \nQ 353 884 353 1716 \nQ 353 2575 817 3079 \nQ 1281 3584 2069 3584 \nQ 2775 3584 3186 3129 \nQ 3597 2675 3597 1894 \nz\nM 3022 2063 \nQ 3016 2534 2758 2815 \nQ 2500 3097 2075 3097 \nQ 1594 3097 1305 2825 \nQ 1016 2553 972 2059 \nL 3022 2063 \nz\n\" transform=\"scale(0.015625)\"/>\n       <path id=\"DejaVuSans-6c\" d=\"M 603 4863 \nL 1178 4863 \nL 1178 0 \nL 603 0 \nL 603 4863 \nz\n\" transform=\"scale(0.015625)\"/>\n      </defs>\n      <use xlink:href=\"#DejaVuSans-4c\"/>\n      <use xlink:href=\"#DejaVuSans-61\" x=\"55.712891\"/>\n      <use xlink:href=\"#DejaVuSans-62\" x=\"116.992188\"/>\n      <use xlink:href=\"#DejaVuSans-65\" x=\"180.46875\"/>\n      <use xlink:href=\"#DejaVuSans-6c\" x=\"241.992188\"/>\n     </g>\n    </g>\n   </g>\n   <g id=\"matplotlib.axis_2\">\n    <g id=\"ytick_1\">\n     <g id=\"text_9\">\n      <!-- en -->\n      <g style=\"fill: #262626\" transform=\"translate(25.060344 39.706992) scale(0.121 -0.121)\">\n       <defs>\n        <path id=\"DejaVuSans-6e\" d=\"M 3513 2113 \nL 3513 0 \nL 2938 0 \nL 2938 2094 \nQ 2938 2591 2744 2837 \nQ 2550 3084 2163 3084 \nQ 1697 3084 1428 2787 \nQ 1159 2491 1159 1978 \nL 1159 0 \nL 581 0 \nL 581 3500 \nL 1159 3500 \nL 1159 2956 \nQ 1366 3272 1645 3428 \nQ 1925 3584 2291 3584 \nQ 2894 3584 3203 3211 \nQ 3513 2838 3513 2113 \nz\n\" transform=\"scale(0.015625)\"/>\n       </defs>\n       <use xlink:href=\"#DejaVuSans-65\"/>\n       <use xlink:href=\"#DejaVuSans-6e\" x=\"61.523438\"/>\n      </g>\n     </g>\n    </g>\n    <g id=\"ytick_2\">\n     <g id=\"text_10\">\n      <!-- sw -->\n      <g style=\"fill: #262626\" transform=\"translate(23.975125 63.466992) scale(0.121 -0.121)\">\n       <defs>\n        <path id=\"DejaVuSans-73\" d=\"M 2834 3397 \nL 2834 2853 \nQ 2591 2978 2328 3040 \nQ 2066 3103 1784 3103 \nQ 1356 3103 1142 2972 \nQ 928 2841 928 2578 \nQ 928 2378 1081 2264 \nQ 1234 2150 1697 2047 \nL 1894 2003 \nQ 2506 1872 2764 1633 \nQ 3022 1394 3022 966 \nQ 3022 478 2636 193 \nQ 2250 -91 1575 -91 \nQ 1294 -91 989 -36 \nQ 684 19 347 128 \nL 347 722 \nQ 666 556 975 473 \nQ 1284 391 1588 391 \nQ 1994 391 2212 530 \nQ 2431 669 2431 922 \nQ 2431 1156 2273 1281 \nQ 2116 1406 1581 1522 \nL 1381 1569 \nQ 847 1681 609 1914 \nQ 372 2147 372 2553 \nQ 372 3047 722 3315 \nQ 1072 3584 1716 3584 \nQ 2034 3584 2315 3537 \nQ 2597 3491 2834 3397 \nz\n\" transform=\"scale(0.015625)\"/>\n        <path id=\"DejaVuSans-77\" d=\"M 269 3500 \nL 844 3500 \nL 1563 769 \nL 2278 3500 \nL 2956 3500 \nL 3675 769 \nL 4391 3500 \nL 4966 3500 \nL 4050 0 \nL 3372 0 \nL 2619 2869 \nL 1863 0 \nL 1184 0 \nL 269 3500 \nz\n\" transform=\"scale(0.015625)\"/>\n       </defs>\n       <use xlink:href=\"#DejaVuSans-73\"/>\n       <use xlink:href=\"#DejaVuSans-77\" x=\"52.099609\"/>\n      </g>\n     </g>\n    </g>\n    <g id=\"ytick_3\">\n     <g id=\"text_11\">\n      <!-- it -->\n      <g style=\"fill: #262626\" transform=\"translate(32.068891 87.226992) scale(0.121 -0.121)\">\n       <defs>\n        <path id=\"DejaVuSans-69\" d=\"M 603 3500 \nL 1178 3500 \nL 1178 0 \nL 603 0 \nL 603 3500 \nz\nM 603 4863 \nL 1178 4863 \nL 1178 4134 \nL 603 4134 \nL 603 4863 \nz\n\" transform=\"scale(0.015625)\"/>\n        <path id=\"DejaVuSans-74\" d=\"M 1172 4494 \nL 1172 3500 \nL 2356 3500 \nL 2356 3053 \nL 1172 3053 \nL 1172 1153 \nQ 1172 725 1289 603 \nQ 1406 481 1766 481 \nL 2356 481 \nL 2356 0 \nL 1766 0 \nQ 1100 0 847 248 \nQ 594 497 594 1153 \nL 594 3053 \nL 172 3053 \nL 172 3500 \nL 594 3500 \nL 594 4494 \nL 1172 4494 \nz\n\" transform=\"scale(0.015625)\"/>\n       </defs>\n       <use xlink:href=\"#DejaVuSans-69\"/>\n       <use xlink:href=\"#DejaVuSans-74\" x=\"27.783203\"/>\n      </g>\n     </g>\n    </g>\n    <g id=\"ytick_4\">\n     <g id=\"text_12\">\n      <!-- nl -->\n      <g style=\"fill: #262626\" transform=\"translate(29.144094 110.986992) scale(0.121 -0.121)\">\n       <use xlink:href=\"#DejaVuSans-6e\"/>\n       <use xlink:href=\"#DejaVuSans-6c\" x=\"63.378906\"/>\n      </g>\n     </g>\n    </g>\n    <g id=\"ytick_5\">\n     <g id=\"text_13\">\n      <!-- pt -->\n      <g style=\"fill: #262626\" transform=\"translate(27.748813 134.746992) scale(0.121 -0.121)\">\n       <defs>\n        <path id=\"DejaVuSans-70\" d=\"M 1159 525 \nL 1159 -1331 \nL 581 -1331 \nL 581 3500 \nL 1159 3500 \nL 1159 2969 \nQ 1341 3281 1617 3432 \nQ 1894 3584 2278 3584 \nQ 2916 3584 3314 3078 \nQ 3713 2572 3713 1747 \nQ 3713 922 3314 415 \nQ 2916 -91 2278 -91 \nQ 1894 -91 1617 61 \nQ 1341 213 1159 525 \nz\nM 3116 1747 \nQ 3116 2381 2855 2742 \nQ 2594 3103 2138 3103 \nQ 1681 3103 1420 2742 \nQ 1159 2381 1159 1747 \nQ 1159 1113 1420 752 \nQ 1681 391 2138 391 \nQ 2594 391 2855 752 \nQ 3116 1113 3116 1747 \nz\n\" transform=\"scale(0.015625)\"/>\n       </defs>\n       <use xlink:href=\"#DejaVuSans-70\"/>\n       <use xlink:href=\"#DejaVuSans-74\" x=\"63.476562\"/>\n      </g>\n     </g>\n    </g>\n    <g id=\"ytick_6\">\n     <g id=\"text_14\">\n      <!-- ur -->\n      <g style=\"fill: #262626\" transform=\"translate(27.531391 158.506992) scale(0.121 -0.121)\">\n       <defs>\n        <path id=\"DejaVuSans-75\" d=\"M 544 1381 \nL 544 3500 \nL 1119 3500 \nL 1119 1403 \nQ 1119 906 1312 657 \nQ 1506 409 1894 409 \nQ 2359 409 2629 706 \nQ 2900 1003 2900 1516 \nL 2900 3500 \nL 3475 3500 \nL 3475 0 \nL 2900 0 \nL 2900 538 \nQ 2691 219 2414 64 \nQ 2138 -91 1772 -91 \nQ 1169 -91 856 284 \nQ 544 659 544 1381 \nz\nM 1991 3584 \nL 1991 3584 \nz\n\" transform=\"scale(0.015625)\"/>\n        <path id=\"DejaVuSans-72\" d=\"M 2631 2963 \nQ 2534 3019 2420 3045 \nQ 2306 3072 2169 3072 \nQ 1681 3072 1420 2755 \nQ 1159 2438 1159 1844 \nL 1159 0 \nL 581 0 \nL 581 3500 \nL 1159 3500 \nL 1159 2956 \nQ 1341 3275 1631 3429 \nQ 1922 3584 2338 3584 \nQ 2397 3584 2469 3576 \nQ 2541 3569 2628 3553 \nL 2631 2963 \nz\n\" transform=\"scale(0.015625)\"/>\n       </defs>\n       <use xlink:href=\"#DejaVuSans-75\"/>\n       <use xlink:href=\"#DejaVuSans-72\" x=\"63.378906\"/>\n      </g>\n     </g>\n    </g>\n    <g id=\"ytick_7\">\n     <g id=\"text_15\">\n      <!-- hi -->\n      <g style=\"fill: #262626\" transform=\"translate(29.144094 182.266992) scale(0.121 -0.121)\">\n       <defs>\n        <path id=\"DejaVuSans-68\" d=\"M 3513 2113 \nL 3513 0 \nL 2938 0 \nL 2938 2094 \nQ 2938 2591 2744 2837 \nQ 2550 3084 2163 3084 \nQ 1697 3084 1428 2787 \nQ 1159 2491 1159 1978 \nL 1159 0 \nL 581 0 \nL 581 4863 \nL 1159 4863 \nL 1159 2956 \nQ 1366 3272 1645 3428 \nQ 1925 3584 2291 3584 \nQ 2894 3584 3203 3211 \nQ 3513 2838 3513 2113 \nz\n\" transform=\"scale(0.015625)\"/>\n       </defs>\n       <use xlink:href=\"#DejaVuSans-68\"/>\n       <use xlink:href=\"#DejaVuSans-69\" x=\"63.378906\"/>\n      </g>\n     </g>\n    </g>\n    <g id=\"ytick_8\">\n     <g id=\"text_16\">\n      <!-- tr -->\n      <g style=\"fill: #262626\" transform=\"translate(30.456188 206.026992) scale(0.121 -0.121)\">\n       <use xlink:href=\"#DejaVuSans-74\"/>\n       <use xlink:href=\"#DejaVuSans-72\" x=\"39.208984\"/>\n      </g>\n     </g>\n    </g>\n    <g id=\"ytick_9\">\n     <g id=\"text_17\">\n      <!-- fr -->\n      <g style=\"fill: #262626\" transform=\"translate(30.940188 229.786992) scale(0.121 -0.121)\">\n       <defs>\n        <path id=\"DejaVuSans-66\" d=\"M 2375 4863 \nL 2375 4384 \nL 1825 4384 \nQ 1516 4384 1395 4259 \nQ 1275 4134 1275 3809 \nL 1275 3500 \nL 2222 3500 \nL 2222 3053 \nL 1275 3053 \nL 1275 0 \nL 697 0 \nL 697 3053 \nL 147 3053 \nL 147 3500 \nL 697 3500 \nL 697 3744 \nQ 697 4328 969 4595 \nQ 1241 4863 1831 4863 \nL 2375 4863 \nz\n\" transform=\"scale(0.015625)\"/>\n       </defs>\n       <use xlink:href=\"#DejaVuSans-66\"/>\n       <use xlink:href=\"#DejaVuSans-72\" x=\"35.205078\"/>\n      </g>\n     </g>\n    </g>\n    <g id=\"ytick_10\">\n     <g id=\"text_18\">\n      <!-- de -->\n      <g style=\"fill: #262626\" transform=\"translate(25.047109 253.546992) scale(0.121 -0.121)\">\n       <defs>\n        <path id=\"DejaVuSans-64\" d=\"M 2906 2969 \nL 2906 4863 \nL 3481 4863 \nL 3481 0 \nL 2906 0 \nL 2906 525 \nQ 2725 213 2448 61 \nQ 2172 -91 1784 -91 \nQ 1150 -91 751 415 \nQ 353 922 353 1747 \nQ 353 2572 751 3078 \nQ 1150 3584 1784 3584 \nQ 2172 3584 2448 3432 \nQ 2725 3281 2906 2969 \nz\nM 947 1747 \nQ 947 1113 1208 752 \nQ 1469 391 1925 391 \nQ 2381 391 2643 752 \nQ 2906 1113 2906 1747 \nQ 2906 2381 2643 2742 \nQ 2381 3103 1925 3103 \nQ 1469 3103 1208 2742 \nQ 947 2381 947 1747 \nz\n\" transform=\"scale(0.015625)\"/>\n       </defs>\n       <use xlink:href=\"#DejaVuSans-64\"/>\n       <use xlink:href=\"#DejaVuSans-65\" x=\"63.476562\"/>\n      </g>\n     </g>\n    </g>\n    <g id=\"ytick_11\">\n     <g id=\"text_19\">\n      <!-- es -->\n      <g style=\"fill: #262626\" transform=\"translate(26.425375 277.306992) scale(0.121 -0.121)\">\n       <use xlink:href=\"#DejaVuSans-65\"/>\n       <use xlink:href=\"#DejaVuSans-73\" x=\"61.523438\"/>\n      </g>\n     </g>\n    </g>\n    <g id=\"ytick_12\">\n     <g id=\"text_20\">\n      <!-- ar -->\n      <g style=\"fill: #262626\" transform=\"translate(27.784734 301.066992) scale(0.121 -0.121)\">\n       <use xlink:href=\"#DejaVuSans-61\"/>\n       <use xlink:href=\"#DejaVuSans-72\" x=\"61.279297\"/>\n      </g>\n     </g>\n    </g>\n    <g id=\"ytick_13\">\n     <g id=\"text_21\">\n      <!-- el -->\n      <g style=\"fill: #262626\" transform=\"translate(29.367188 324.826992) scale(0.121 -0.121)\">\n       <use xlink:href=\"#DejaVuSans-65\"/>\n       <use xlink:href=\"#DejaVuSans-6c\" x=\"61.523438\"/>\n      </g>\n     </g>\n    </g>\n    <g id=\"ytick_14\">\n     <g id=\"text_22\">\n      <!-- th -->\n      <g style=\"fill: #262626\" transform=\"translate(27.762047 348.586992) scale(0.121 -0.121)\">\n       <use xlink:href=\"#DejaVuSans-74\"/>\n       <use xlink:href=\"#DejaVuSans-68\" x=\"39.208984\"/>\n      </g>\n     </g>\n    </g>\n    <g id=\"text_23\">\n     <!-- Counts -->\n     <g style=\"fill: #262626\" transform=\"translate(17.229938 212.588062) rotate(-90) scale(0.132 -0.132)\">\n      <defs>\n       <path id=\"DejaVuSans-43\" d=\"M 4122 4306 \nL 4122 3641 \nQ 3803 3938 3442 4084 \nQ 3081 4231 2675 4231 \nQ 1875 4231 1450 3742 \nQ 1025 3253 1025 2328 \nQ 1025 1406 1450 917 \nQ 1875 428 2675 428 \nQ 3081 428 3442 575 \nQ 3803 722 4122 1019 \nL 4122 359 \nQ 3791 134 3420 21 \nQ 3050 -91 2638 -91 \nQ 1578 -91 968 557 \nQ 359 1206 359 2328 \nQ 359 3453 968 4101 \nQ 1578 4750 2638 4750 \nQ 3056 4750 3426 4639 \nQ 3797 4528 4122 4306 \nz\n\" transform=\"scale(0.015625)\"/>\n       <path id=\"DejaVuSans-6f\" d=\"M 1959 3097 \nQ 1497 3097 1228 2736 \nQ 959 2375 959 1747 \nQ 959 1119 1226 758 \nQ 1494 397 1959 397 \nQ 2419 397 2687 759 \nQ 2956 1122 2956 1747 \nQ 2956 2369 2687 2733 \nQ 2419 3097 1959 3097 \nz\nM 1959 3584 \nQ 2709 3584 3137 3096 \nQ 3566 2609 3566 1747 \nQ 3566 888 3137 398 \nQ 2709 -91 1959 -91 \nQ 1206 -91 779 398 \nQ 353 888 353 1747 \nQ 353 2609 779 3096 \nQ 1206 3584 1959 3584 \nz\n\" transform=\"scale(0.015625)\"/>\n      </defs>\n      <use xlink:href=\"#DejaVuSans-43\"/>\n      <use xlink:href=\"#DejaVuSans-6f\" x=\"69.824219\"/>\n      <use xlink:href=\"#DejaVuSans-75\" x=\"131.005859\"/>\n      <use xlink:href=\"#DejaVuSans-6e\" x=\"194.384766\"/>\n      <use xlink:href=\"#DejaVuSans-74\" x=\"257.763672\"/>\n      <use xlink:href=\"#DejaVuSans-73\" x=\"296.972656\"/>\n     </g>\n    </g>\n   </g>\n   <g id=\"patch_3\">\n    <path d=\"M 49.674 25.605937 \nL 687.388286 25.605937 \nL 687.388286 44.613937 \nL 49.674 44.613937 \nz\n\" clip-path=\"url(#pcffd93b0e3)\" style=\"fill: #ea96a3; stroke: #ffffff; stroke-linejoin: miter\"/>\n   </g>\n   <g id=\"patch_4\">\n    <path d=\"M 49.674 49.365937 \nL 134.310207 49.365937 \nL 134.310207 68.373937 \nL 49.674 68.373937 \nz\n\" clip-path=\"url(#pcffd93b0e3)\" style=\"fill: #e4946a; stroke: #ffffff; stroke-linejoin: miter\"/>\n   </g>\n   <g id=\"patch_5\">\n    <path d=\"M 49.674 73.125938 \nL 57.955327 73.125938 \nL 57.955327 92.133938 \nL 49.674 92.133938 \nz\n\" clip-path=\"url(#pcffd93b0e3)\" style=\"fill: #c29a4b; stroke: #ffffff; stroke-linejoin: miter\"/>\n   </g>\n   <g id=\"patch_6\">\n    <path d=\"M 49.674 96.885938 \nL 52.12194 96.885938 \nL 52.12194 115.893938 \nL 49.674 115.893938 \nz\n\" clip-path=\"url(#pcffd93b0e3)\" style=\"fill: #a69f46; stroke: #ffffff; stroke-linejoin: miter\"/>\n   </g>\n   <g id=\"patch_7\">\n    <path d=\"M 49.674 120.645938 \nL 50.976095 120.645938 \nL 50.976095 139.653938 \nL 49.674 139.653938 \nz\n\" clip-path=\"url(#pcffd93b0e3)\" style=\"fill: #88a746; stroke: #ffffff; stroke-linejoin: miter\"/>\n   </g>\n   <g id=\"patch_8\">\n    <path d=\"M 49.674 144.405937 \nL 50.924012 144.405937 \nL 50.924012 163.413937 \nL 49.674 163.413937 \nz\n\" clip-path=\"url(#pcffd93b0e3)\" style=\"fill: #48b05e; stroke: #ffffff; stroke-linejoin: miter\"/>\n   </g>\n   <g id=\"patch_9\">\n    <path d=\"M 49.674 168.165937 \nL 50.76776 168.165937 \nL 50.76776 187.173937 \nL 49.674 187.173937 \nz\n\" clip-path=\"url(#pcffd93b0e3)\" style=\"fill: #4aad8f; stroke: #ffffff; stroke-linejoin: miter\"/>\n   </g>\n   <g id=\"patch_10\">\n    <path d=\"M 49.674 191.925937 \nL 50.715676 191.925937 \nL 50.715676 210.933937 \nL 49.674 210.933937 \nz\n\" clip-path=\"url(#pcffd93b0e3)\" style=\"fill: #4baba4; stroke: #ffffff; stroke-linejoin: miter\"/>\n   </g>\n   <g id=\"patch_11\">\n    <path d=\"M 49.674 215.685937 \nL 49.986503 215.685937 \nL 49.986503 234.693937 \nL 49.674 234.693937 \nz\n\" clip-path=\"url(#pcffd93b0e3)\" style=\"fill: #4eabb8; stroke: #ffffff; stroke-linejoin: miter\"/>\n   </g>\n   <g id=\"patch_12\">\n    <path d=\"M 49.674 239.445937 \nL 49.882335 239.445937 \nL 49.882335 258.453937 \nL 49.674 258.453937 \nz\n\" clip-path=\"url(#pcffd93b0e3)\" style=\"fill: #55acd7; stroke: #ffffff; stroke-linejoin: miter\"/>\n   </g>\n   <g id=\"patch_13\">\n    <path d=\"M 49.674 263.205938 \nL 49.778168 263.205938 \nL 49.778168 282.213938 \nL 49.674 282.213938 \nz\n\" clip-path=\"url(#pcffd93b0e3)\" style=\"fill: #a0adea; stroke: #ffffff; stroke-linejoin: miter\"/>\n   </g>\n   <g id=\"patch_14\">\n    <path d=\"M 49.674 286.965937 \nL 49.726084 286.965937 \nL 49.726084 305.973938 \nL 49.674 305.973938 \nz\n\" clip-path=\"url(#pcffd93b0e3)\" style=\"fill: #c79fe9; stroke: #ffffff; stroke-linejoin: miter\"/>\n   </g>\n   <g id=\"patch_15\">\n    <path d=\"M 49.674 310.725937 \nL 49.726084 310.725937 \nL 49.726084 329.733938 \nL 49.674 329.733938 \nz\n\" clip-path=\"url(#pcffd93b0e3)\" style=\"fill: #e78ae0; stroke: #ffffff; stroke-linejoin: miter\"/>\n   </g>\n   <g id=\"patch_16\">\n    <path d=\"M 49.674 334.485937 \nL 49.726084 334.485937 \nL 49.726084 353.493938 \nL 49.674 353.493938 \nz\n\" clip-path=\"url(#pcffd93b0e3)\" style=\"fill: #e891c1; stroke: #ffffff; stroke-linejoin: miter\"/>\n   </g>\n   <g id=\"line2d_8\">\n    <path clip-path=\"url(#pcffd93b0e3)\" style=\"fill: none; stroke: #424242; stroke-width: 2.7; stroke-linecap: round\"/>\n   </g>\n   <g id=\"line2d_9\">\n    <path clip-path=\"url(#pcffd93b0e3)\" style=\"fill: none; stroke: #424242; stroke-width: 2.7; stroke-linecap: round\"/>\n   </g>\n   <g id=\"line2d_10\">\n    <path clip-path=\"url(#pcffd93b0e3)\" style=\"fill: none; stroke: #424242; stroke-width: 2.7; stroke-linecap: round\"/>\n   </g>\n   <g id=\"line2d_11\">\n    <path clip-path=\"url(#pcffd93b0e3)\" style=\"fill: none; stroke: #424242; stroke-width: 2.7; stroke-linecap: round\"/>\n   </g>\n   <g id=\"line2d_12\">\n    <path clip-path=\"url(#pcffd93b0e3)\" style=\"fill: none; stroke: #424242; stroke-width: 2.7; stroke-linecap: round\"/>\n   </g>\n   <g id=\"line2d_13\">\n    <path clip-path=\"url(#pcffd93b0e3)\" style=\"fill: none; stroke: #424242; stroke-width: 2.7; stroke-linecap: round\"/>\n   </g>\n   <g id=\"line2d_14\">\n    <path clip-path=\"url(#pcffd93b0e3)\" style=\"fill: none; stroke: #424242; stroke-width: 2.7; stroke-linecap: round\"/>\n   </g>\n   <g id=\"line2d_15\">\n    <path clip-path=\"url(#pcffd93b0e3)\" style=\"fill: none; stroke: #424242; stroke-width: 2.7; stroke-linecap: round\"/>\n   </g>\n   <g id=\"line2d_16\">\n    <path clip-path=\"url(#pcffd93b0e3)\" style=\"fill: none; stroke: #424242; stroke-width: 2.7; stroke-linecap: round\"/>\n   </g>\n   <g id=\"line2d_17\">\n    <path clip-path=\"url(#pcffd93b0e3)\" style=\"fill: none; stroke: #424242; stroke-width: 2.7; stroke-linecap: round\"/>\n   </g>\n   <g id=\"line2d_18\">\n    <path clip-path=\"url(#pcffd93b0e3)\" style=\"fill: none; stroke: #424242; stroke-width: 2.7; stroke-linecap: round\"/>\n   </g>\n   <g id=\"line2d_19\">\n    <path clip-path=\"url(#pcffd93b0e3)\" style=\"fill: none; stroke: #424242; stroke-width: 2.7; stroke-linecap: round\"/>\n   </g>\n   <g id=\"line2d_20\">\n    <path clip-path=\"url(#pcffd93b0e3)\" style=\"fill: none; stroke: #424242; stroke-width: 2.7; stroke-linecap: round\"/>\n   </g>\n   <g id=\"line2d_21\">\n    <path clip-path=\"url(#pcffd93b0e3)\" style=\"fill: none; stroke: #424242; stroke-width: 2.7; stroke-linecap: round\"/>\n   </g>\n   <g id=\"patch_17\">\n    <path d=\"M 49.674 355.869937 \nL 49.674 23.229938 \n\" style=\"fill: none; stroke: #ffffff; stroke-width: 1.25; stroke-linejoin: miter; stroke-linecap: square\"/>\n   </g>\n   <g id=\"patch_18\">\n    <path d=\"M 719.274 355.869937 \nL 719.274 23.229938 \n\" style=\"fill: none; stroke: #ffffff; stroke-width: 1.25; stroke-linejoin: miter; stroke-linecap: square\"/>\n   </g>\n   <g id=\"patch_19\">\n    <path d=\"M 49.674 355.869937 \nL 719.274 355.869937 \n\" style=\"fill: none; stroke: #ffffff; stroke-width: 1.25; stroke-linejoin: miter; stroke-linecap: square\"/>\n   </g>\n   <g id=\"patch_20\">\n    <path d=\"M 49.674 23.229937 \nL 719.274 23.229937 \n\" style=\"fill: none; stroke: #ffffff; stroke-width: 1.25; stroke-linejoin: miter; stroke-linecap: square\"/>\n   </g>\n   <g id=\"text_24\">\n    <!-- Language Distribution -->\n    <g style=\"fill: #262626\" transform=\"translate(311.300625 17.229937) scale(0.132 -0.132)\">\n     <defs>\n      <path id=\"DejaVuSans-67\" d=\"M 2906 1791 \nQ 2906 2416 2648 2759 \nQ 2391 3103 1925 3103 \nQ 1463 3103 1205 2759 \nQ 947 2416 947 1791 \nQ 947 1169 1205 825 \nQ 1463 481 1925 481 \nQ 2391 481 2648 825 \nQ 2906 1169 2906 1791 \nz\nM 3481 434 \nQ 3481 -459 3084 -895 \nQ 2688 -1331 1869 -1331 \nQ 1566 -1331 1297 -1286 \nQ 1028 -1241 775 -1147 \nL 775 -588 \nQ 1028 -725 1275 -790 \nQ 1522 -856 1778 -856 \nQ 2344 -856 2625 -561 \nQ 2906 -266 2906 331 \nL 2906 616 \nQ 2728 306 2450 153 \nQ 2172 0 1784 0 \nQ 1141 0 747 490 \nQ 353 981 353 1791 \nQ 353 2603 747 3093 \nQ 1141 3584 1784 3584 \nQ 2172 3584 2450 3431 \nQ 2728 3278 2906 2969 \nL 2906 3500 \nL 3481 3500 \nL 3481 434 \nz\n\" transform=\"scale(0.015625)\"/>\n      <path id=\"DejaVuSans-20\" transform=\"scale(0.015625)\"/>\n      <path id=\"DejaVuSans-44\" d=\"M 1259 4147 \nL 1259 519 \nL 2022 519 \nQ 2988 519 3436 956 \nQ 3884 1394 3884 2338 \nQ 3884 3275 3436 3711 \nQ 2988 4147 2022 4147 \nL 1259 4147 \nz\nM 628 4666 \nL 1925 4666 \nQ 3281 4666 3915 4102 \nQ 4550 3538 4550 2338 \nQ 4550 1131 3912 565 \nQ 3275 0 1925 0 \nL 628 0 \nL 628 4666 \nz\n\" transform=\"scale(0.015625)\"/>\n     </defs>\n     <use xlink:href=\"#DejaVuSans-4c\"/>\n     <use xlink:href=\"#DejaVuSans-61\" x=\"55.712891\"/>\n     <use xlink:href=\"#DejaVuSans-6e\" x=\"116.992188\"/>\n     <use xlink:href=\"#DejaVuSans-67\" x=\"180.371094\"/>\n     <use xlink:href=\"#DejaVuSans-75\" x=\"243.847656\"/>\n     <use xlink:href=\"#DejaVuSans-61\" x=\"307.226562\"/>\n     <use xlink:href=\"#DejaVuSans-67\" x=\"368.505859\"/>\n     <use xlink:href=\"#DejaVuSans-65\" x=\"431.982422\"/>\n     <use xlink:href=\"#DejaVuSans-20\" x=\"493.505859\"/>\n     <use xlink:href=\"#DejaVuSans-44\" x=\"525.292969\"/>\n     <use xlink:href=\"#DejaVuSans-69\" x=\"602.294922\"/>\n     <use xlink:href=\"#DejaVuSans-73\" x=\"630.078125\"/>\n     <use xlink:href=\"#DejaVuSans-74\" x=\"682.177734\"/>\n     <use xlink:href=\"#DejaVuSans-72\" x=\"721.386719\"/>\n     <use xlink:href=\"#DejaVuSans-69\" x=\"762.5\"/>\n     <use xlink:href=\"#DejaVuSans-62\" x=\"790.283203\"/>\n     <use xlink:href=\"#DejaVuSans-75\" x=\"853.759766\"/>\n     <use xlink:href=\"#DejaVuSans-74\" x=\"917.138672\"/>\n     <use xlink:href=\"#DejaVuSans-69\" x=\"956.347656\"/>\n     <use xlink:href=\"#DejaVuSans-6f\" x=\"984.130859\"/>\n     <use xlink:href=\"#DejaVuSans-6e\" x=\"1045.3125\"/>\n    </g>\n   </g>\n  </g>\n </g>\n <defs>\n  <clipPath id=\"pcffd93b0e3\">\n   <rect x=\"49.674\" y=\"23.229937\" width=\"669.6\" height=\"332.64\"/>\n  </clipPath>\n </defs>\n</svg>\n"
          },
          "metadata": {}
        }
      ]
    },
    {
      "cell_type": "code",
      "source": [
        "model_data['detect_lang'] = model_data['clean_text'].map(detect)"
      ],
      "metadata": {
        "id": "n1F6AlclwTTF"
      },
      "execution_count": null,
      "outputs": []
    },
    {
      "cell_type": "code",
      "source": [
        "grouped_counts = model_data.groupby(\"lang\").size().reset_index(name='Counts').sort_values([\"Counts\"], ascending=False)\n",
        "sns.barplot(data=grouped_counts, x='Counts', y='lang')\n",
        "plt.xlabel('Label')\n",
        "plt.ylabel('Counts')\n",
        "plt.title('Language Distribution')\n",
        "plt.show()"
      ],
      "metadata": {
        "colab": {
          "base_uri": "https://localhost:8080/",
          "height": 576
        },
        "id": "Ts_qLoZGwxLK",
        "outputId": "62fedd92-8a4a-4093-86a1-6777e5b85b36"
      },
      "execution_count": null,
      "outputs": [
        {
          "output_type": "display_data",
          "data": {
            "text/plain": [
              "<Figure size 1200x600 with 1 Axes>"
            ],
            "image/svg+xml": "<?xml version=\"1.0\" encoding=\"utf-8\" standalone=\"no\"?>\n<!DOCTYPE svg PUBLIC \"-//W3C//DTD SVG 1.1//EN\"\n  \"http://www.w3.org/Graphics/SVG/1.1/DTD/svg11.dtd\">\n<svg xmlns:xlink=\"http://www.w3.org/1999/xlink\" width=\"726.474pt\" height=\"401.055594pt\" viewBox=\"0 0 726.474 401.055594\" xmlns=\"http://www.w3.org/2000/svg\" version=\"1.1\">\n <metadata>\n  <rdf:RDF xmlns:dc=\"http://purl.org/dc/elements/1.1/\" xmlns:cc=\"http://creativecommons.org/ns#\" xmlns:rdf=\"http://www.w3.org/1999/02/22-rdf-syntax-ns#\">\n   <cc:Work>\n    <dc:type rdf:resource=\"http://purl.org/dc/dcmitype/StillImage\"/>\n    <dc:date>2023-07-07T20:05:21.831836</dc:date>\n    <dc:format>image/svg+xml</dc:format>\n    <dc:creator>\n     <cc:Agent>\n      <dc:title>Matplotlib v3.7.1, https://matplotlib.org/</dc:title>\n     </cc:Agent>\n    </dc:creator>\n   </cc:Work>\n  </rdf:RDF>\n </metadata>\n <defs>\n  <style type=\"text/css\">*{stroke-linejoin: round; stroke-linecap: butt}</style>\n </defs>\n <g id=\"figure_1\">\n  <g id=\"patch_1\">\n   <path d=\"M 0 401.055594 \nL 726.474 401.055594 \nL 726.474 0 \nL 0 0 \nz\n\" style=\"fill: #ffffff\"/>\n  </g>\n  <g id=\"axes_1\">\n   <g id=\"patch_2\">\n    <path d=\"M 49.674 355.869937 \nL 719.274 355.869937 \nL 719.274 23.229937 \nL 49.674 23.229937 \nz\n\" style=\"fill: #eaeaf2\"/>\n   </g>\n   <g id=\"matplotlib.axis_1\">\n    <g id=\"xtick_1\">\n     <g id=\"line2d_1\">\n      <path d=\"M 49.674 355.869937 \nL 49.674 23.229937 \n\" clip-path=\"url(#p72200d04fd)\" style=\"fill: none; stroke: #ffffff; stroke-linecap: round\"/>\n     </g>\n     <g id=\"text_1\">\n      <!-- 0 -->\n      <g style=\"fill: #262626\" transform=\"translate(45.824688 374.564047) scale(0.121 -0.121)\">\n       <defs>\n        <path id=\"DejaVuSans-30\" d=\"M 2034 4250 \nQ 1547 4250 1301 3770 \nQ 1056 3291 1056 2328 \nQ 1056 1369 1301 889 \nQ 1547 409 2034 409 \nQ 2525 409 2770 889 \nQ 3016 1369 3016 2328 \nQ 3016 3291 2770 3770 \nQ 2525 4250 2034 4250 \nz\nM 2034 4750 \nQ 2819 4750 3233 4129 \nQ 3647 3509 3647 2328 \nQ 3647 1150 3233 529 \nQ 2819 -91 2034 -91 \nQ 1250 -91 836 529 \nQ 422 1150 422 2328 \nQ 422 3509 836 4129 \nQ 1250 4750 2034 4750 \nz\n\" transform=\"scale(0.015625)\"/>\n       </defs>\n       <use xlink:href=\"#DejaVuSans-30\"/>\n      </g>\n     </g>\n    </g>\n    <g id=\"xtick_2\">\n     <g id=\"line2d_2\">\n      <path d=\"M 153.841639 355.869937 \nL 153.841639 23.229937 \n\" clip-path=\"url(#p72200d04fd)\" style=\"fill: none; stroke: #ffffff; stroke-linecap: round\"/>\n     </g>\n     <g id=\"text_2\">\n      <!-- 2000 -->\n      <g style=\"fill: #262626\" transform=\"translate(138.444389 374.564047) scale(0.121 -0.121)\">\n       <defs>\n        <path id=\"DejaVuSans-32\" d=\"M 1228 531 \nL 3431 531 \nL 3431 0 \nL 469 0 \nL 469 531 \nQ 828 903 1448 1529 \nQ 2069 2156 2228 2338 \nQ 2531 2678 2651 2914 \nQ 2772 3150 2772 3378 \nQ 2772 3750 2511 3984 \nQ 2250 4219 1831 4219 \nQ 1534 4219 1204 4116 \nQ 875 4013 500 3803 \nL 500 4441 \nQ 881 4594 1212 4672 \nQ 1544 4750 1819 4750 \nQ 2544 4750 2975 4387 \nQ 3406 4025 3406 3419 \nQ 3406 3131 3298 2873 \nQ 3191 2616 2906 2266 \nQ 2828 2175 2409 1742 \nQ 1991 1309 1228 531 \nz\n\" transform=\"scale(0.015625)\"/>\n       </defs>\n       <use xlink:href=\"#DejaVuSans-32\"/>\n       <use xlink:href=\"#DejaVuSans-30\" x=\"63.623047\"/>\n       <use xlink:href=\"#DejaVuSans-30\" x=\"127.246094\"/>\n       <use xlink:href=\"#DejaVuSans-30\" x=\"190.869141\"/>\n      </g>\n     </g>\n    </g>\n    <g id=\"xtick_3\">\n     <g id=\"line2d_3\">\n      <path d=\"M 258.009278 355.869937 \nL 258.009278 23.229937 \n\" clip-path=\"url(#p72200d04fd)\" style=\"fill: none; stroke: #ffffff; stroke-linecap: round\"/>\n     </g>\n     <g id=\"text_3\">\n      <!-- 4000 -->\n      <g style=\"fill: #262626\" transform=\"translate(242.612028 374.564047) scale(0.121 -0.121)\">\n       <defs>\n        <path id=\"DejaVuSans-34\" d=\"M 2419 4116 \nL 825 1625 \nL 2419 1625 \nL 2419 4116 \nz\nM 2253 4666 \nL 3047 4666 \nL 3047 1625 \nL 3713 1625 \nL 3713 1100 \nL 3047 1100 \nL 3047 0 \nL 2419 0 \nL 2419 1100 \nL 313 1100 \nL 313 1709 \nL 2253 4666 \nz\n\" transform=\"scale(0.015625)\"/>\n       </defs>\n       <use xlink:href=\"#DejaVuSans-34\"/>\n       <use xlink:href=\"#DejaVuSans-30\" x=\"63.623047\"/>\n       <use xlink:href=\"#DejaVuSans-30\" x=\"127.246094\"/>\n       <use xlink:href=\"#DejaVuSans-30\" x=\"190.869141\"/>\n      </g>\n     </g>\n    </g>\n    <g id=\"xtick_4\">\n     <g id=\"line2d_4\">\n      <path d=\"M 362.176917 355.869937 \nL 362.176917 23.229937 \n\" clip-path=\"url(#p72200d04fd)\" style=\"fill: none; stroke: #ffffff; stroke-linecap: round\"/>\n     </g>\n     <g id=\"text_4\">\n      <!-- 6000 -->\n      <g style=\"fill: #262626\" transform=\"translate(346.779667 374.564047) scale(0.121 -0.121)\">\n       <defs>\n        <path id=\"DejaVuSans-36\" d=\"M 2113 2584 \nQ 1688 2584 1439 2293 \nQ 1191 2003 1191 1497 \nQ 1191 994 1439 701 \nQ 1688 409 2113 409 \nQ 2538 409 2786 701 \nQ 3034 994 3034 1497 \nQ 3034 2003 2786 2293 \nQ 2538 2584 2113 2584 \nz\nM 3366 4563 \nL 3366 3988 \nQ 3128 4100 2886 4159 \nQ 2644 4219 2406 4219 \nQ 1781 4219 1451 3797 \nQ 1122 3375 1075 2522 \nQ 1259 2794 1537 2939 \nQ 1816 3084 2150 3084 \nQ 2853 3084 3261 2657 \nQ 3669 2231 3669 1497 \nQ 3669 778 3244 343 \nQ 2819 -91 2113 -91 \nQ 1303 -91 875 529 \nQ 447 1150 447 2328 \nQ 447 3434 972 4092 \nQ 1497 4750 2381 4750 \nQ 2619 4750 2861 4703 \nQ 3103 4656 3366 4563 \nz\n\" transform=\"scale(0.015625)\"/>\n       </defs>\n       <use xlink:href=\"#DejaVuSans-36\"/>\n       <use xlink:href=\"#DejaVuSans-30\" x=\"63.623047\"/>\n       <use xlink:href=\"#DejaVuSans-30\" x=\"127.246094\"/>\n       <use xlink:href=\"#DejaVuSans-30\" x=\"190.869141\"/>\n      </g>\n     </g>\n    </g>\n    <g id=\"xtick_5\">\n     <g id=\"line2d_5\">\n      <path d=\"M 466.344556 355.869937 \nL 466.344556 23.229937 \n\" clip-path=\"url(#p72200d04fd)\" style=\"fill: none; stroke: #ffffff; stroke-linecap: round\"/>\n     </g>\n     <g id=\"text_5\">\n      <!-- 8000 -->\n      <g style=\"fill: #262626\" transform=\"translate(450.947306 374.564047) scale(0.121 -0.121)\">\n       <defs>\n        <path id=\"DejaVuSans-38\" d=\"M 2034 2216 \nQ 1584 2216 1326 1975 \nQ 1069 1734 1069 1313 \nQ 1069 891 1326 650 \nQ 1584 409 2034 409 \nQ 2484 409 2743 651 \nQ 3003 894 3003 1313 \nQ 3003 1734 2745 1975 \nQ 2488 2216 2034 2216 \nz\nM 1403 2484 \nQ 997 2584 770 2862 \nQ 544 3141 544 3541 \nQ 544 4100 942 4425 \nQ 1341 4750 2034 4750 \nQ 2731 4750 3128 4425 \nQ 3525 4100 3525 3541 \nQ 3525 3141 3298 2862 \nQ 3072 2584 2669 2484 \nQ 3125 2378 3379 2068 \nQ 3634 1759 3634 1313 \nQ 3634 634 3220 271 \nQ 2806 -91 2034 -91 \nQ 1263 -91 848 271 \nQ 434 634 434 1313 \nQ 434 1759 690 2068 \nQ 947 2378 1403 2484 \nz\nM 1172 3481 \nQ 1172 3119 1398 2916 \nQ 1625 2713 2034 2713 \nQ 2441 2713 2670 2916 \nQ 2900 3119 2900 3481 \nQ 2900 3844 2670 4047 \nQ 2441 4250 2034 4250 \nQ 1625 4250 1398 4047 \nQ 1172 3844 1172 3481 \nz\n\" transform=\"scale(0.015625)\"/>\n       </defs>\n       <use xlink:href=\"#DejaVuSans-38\"/>\n       <use xlink:href=\"#DejaVuSans-30\" x=\"63.623047\"/>\n       <use xlink:href=\"#DejaVuSans-30\" x=\"127.246094\"/>\n       <use xlink:href=\"#DejaVuSans-30\" x=\"190.869141\"/>\n      </g>\n     </g>\n    </g>\n    <g id=\"xtick_6\">\n     <g id=\"line2d_6\">\n      <path d=\"M 570.512195 355.869937 \nL 570.512195 23.229937 \n\" clip-path=\"url(#p72200d04fd)\" style=\"fill: none; stroke: #ffffff; stroke-linecap: round\"/>\n     </g>\n     <g id=\"text_6\">\n      <!-- 10000 -->\n      <g style=\"fill: #262626\" transform=\"translate(551.265632 374.564047) scale(0.121 -0.121)\">\n       <defs>\n        <path id=\"DejaVuSans-31\" d=\"M 794 531 \nL 1825 531 \nL 1825 4091 \nL 703 3866 \nL 703 4441 \nL 1819 4666 \nL 2450 4666 \nL 2450 531 \nL 3481 531 \nL 3481 0 \nL 794 0 \nL 794 531 \nz\n\" transform=\"scale(0.015625)\"/>\n       </defs>\n       <use xlink:href=\"#DejaVuSans-31\"/>\n       <use xlink:href=\"#DejaVuSans-30\" x=\"63.623047\"/>\n       <use xlink:href=\"#DejaVuSans-30\" x=\"127.246094\"/>\n       <use xlink:href=\"#DejaVuSans-30\" x=\"190.869141\"/>\n       <use xlink:href=\"#DejaVuSans-30\" x=\"254.492188\"/>\n      </g>\n     </g>\n    </g>\n    <g id=\"xtick_7\">\n     <g id=\"line2d_7\">\n      <path d=\"M 674.679834 355.869937 \nL 674.679834 23.229937 \n\" clip-path=\"url(#p72200d04fd)\" style=\"fill: none; stroke: #ffffff; stroke-linecap: round\"/>\n     </g>\n     <g id=\"text_7\">\n      <!-- 12000 -->\n      <g style=\"fill: #262626\" transform=\"translate(655.433271 374.564047) scale(0.121 -0.121)\">\n       <use xlink:href=\"#DejaVuSans-31\"/>\n       <use xlink:href=\"#DejaVuSans-32\" x=\"63.623047\"/>\n       <use xlink:href=\"#DejaVuSans-30\" x=\"127.246094\"/>\n       <use xlink:href=\"#DejaVuSans-30\" x=\"190.869141\"/>\n       <use xlink:href=\"#DejaVuSans-30\" x=\"254.492188\"/>\n      </g>\n     </g>\n    </g>\n    <g id=\"text_8\">\n     <!-- Label -->\n     <g style=\"fill: #262626\" transform=\"translate(366.667406 391.110406) scale(0.132 -0.132)\">\n      <defs>\n       <path id=\"DejaVuSans-4c\" d=\"M 628 4666 \nL 1259 4666 \nL 1259 531 \nL 3531 531 \nL 3531 0 \nL 628 0 \nL 628 4666 \nz\n\" transform=\"scale(0.015625)\"/>\n       <path id=\"DejaVuSans-61\" d=\"M 2194 1759 \nQ 1497 1759 1228 1600 \nQ 959 1441 959 1056 \nQ 959 750 1161 570 \nQ 1363 391 1709 391 \nQ 2188 391 2477 730 \nQ 2766 1069 2766 1631 \nL 2766 1759 \nL 2194 1759 \nz\nM 3341 1997 \nL 3341 0 \nL 2766 0 \nL 2766 531 \nQ 2569 213 2275 61 \nQ 1981 -91 1556 -91 \nQ 1019 -91 701 211 \nQ 384 513 384 1019 \nQ 384 1609 779 1909 \nQ 1175 2209 1959 2209 \nL 2766 2209 \nL 2766 2266 \nQ 2766 2663 2505 2880 \nQ 2244 3097 1772 3097 \nQ 1472 3097 1187 3025 \nQ 903 2953 641 2809 \nL 641 3341 \nQ 956 3463 1253 3523 \nQ 1550 3584 1831 3584 \nQ 2591 3584 2966 3190 \nQ 3341 2797 3341 1997 \nz\n\" transform=\"scale(0.015625)\"/>\n       <path id=\"DejaVuSans-62\" d=\"M 3116 1747 \nQ 3116 2381 2855 2742 \nQ 2594 3103 2138 3103 \nQ 1681 3103 1420 2742 \nQ 1159 2381 1159 1747 \nQ 1159 1113 1420 752 \nQ 1681 391 2138 391 \nQ 2594 391 2855 752 \nQ 3116 1113 3116 1747 \nz\nM 1159 2969 \nQ 1341 3281 1617 3432 \nQ 1894 3584 2278 3584 \nQ 2916 3584 3314 3078 \nQ 3713 2572 3713 1747 \nQ 3713 922 3314 415 \nQ 2916 -91 2278 -91 \nQ 1894 -91 1617 61 \nQ 1341 213 1159 525 \nL 1159 0 \nL 581 0 \nL 581 4863 \nL 1159 4863 \nL 1159 2969 \nz\n\" transform=\"scale(0.015625)\"/>\n       <path id=\"DejaVuSans-65\" d=\"M 3597 1894 \nL 3597 1613 \nL 953 1613 \nQ 991 1019 1311 708 \nQ 1631 397 2203 397 \nQ 2534 397 2845 478 \nQ 3156 559 3463 722 \nL 3463 178 \nQ 3153 47 2828 -22 \nQ 2503 -91 2169 -91 \nQ 1331 -91 842 396 \nQ 353 884 353 1716 \nQ 353 2575 817 3079 \nQ 1281 3584 2069 3584 \nQ 2775 3584 3186 3129 \nQ 3597 2675 3597 1894 \nz\nM 3022 2063 \nQ 3016 2534 2758 2815 \nQ 2500 3097 2075 3097 \nQ 1594 3097 1305 2825 \nQ 1016 2553 972 2059 \nL 3022 2063 \nz\n\" transform=\"scale(0.015625)\"/>\n       <path id=\"DejaVuSans-6c\" d=\"M 603 4863 \nL 1178 4863 \nL 1178 0 \nL 603 0 \nL 603 4863 \nz\n\" transform=\"scale(0.015625)\"/>\n      </defs>\n      <use xlink:href=\"#DejaVuSans-4c\"/>\n      <use xlink:href=\"#DejaVuSans-61\" x=\"55.712891\"/>\n      <use xlink:href=\"#DejaVuSans-62\" x=\"116.992188\"/>\n      <use xlink:href=\"#DejaVuSans-65\" x=\"180.46875\"/>\n      <use xlink:href=\"#DejaVuSans-6c\" x=\"241.992188\"/>\n     </g>\n    </g>\n   </g>\n   <g id=\"matplotlib.axis_2\">\n    <g id=\"ytick_1\">\n     <g id=\"text_9\">\n      <!-- en -->\n      <g style=\"fill: #262626\" transform=\"translate(25.060344 39.706992) scale(0.121 -0.121)\">\n       <defs>\n        <path id=\"DejaVuSans-6e\" d=\"M 3513 2113 \nL 3513 0 \nL 2938 0 \nL 2938 2094 \nQ 2938 2591 2744 2837 \nQ 2550 3084 2163 3084 \nQ 1697 3084 1428 2787 \nQ 1159 2491 1159 1978 \nL 1159 0 \nL 581 0 \nL 581 3500 \nL 1159 3500 \nL 1159 2956 \nQ 1366 3272 1645 3428 \nQ 1925 3584 2291 3584 \nQ 2894 3584 3203 3211 \nQ 3513 2838 3513 2113 \nz\n\" transform=\"scale(0.015625)\"/>\n       </defs>\n       <use xlink:href=\"#DejaVuSans-65\"/>\n       <use xlink:href=\"#DejaVuSans-6e\" x=\"61.523438\"/>\n      </g>\n     </g>\n    </g>\n    <g id=\"ytick_2\">\n     <g id=\"text_10\">\n      <!-- sw -->\n      <g style=\"fill: #262626\" transform=\"translate(23.975125 63.466992) scale(0.121 -0.121)\">\n       <defs>\n        <path id=\"DejaVuSans-73\" d=\"M 2834 3397 \nL 2834 2853 \nQ 2591 2978 2328 3040 \nQ 2066 3103 1784 3103 \nQ 1356 3103 1142 2972 \nQ 928 2841 928 2578 \nQ 928 2378 1081 2264 \nQ 1234 2150 1697 2047 \nL 1894 2003 \nQ 2506 1872 2764 1633 \nQ 3022 1394 3022 966 \nQ 3022 478 2636 193 \nQ 2250 -91 1575 -91 \nQ 1294 -91 989 -36 \nQ 684 19 347 128 \nL 347 722 \nQ 666 556 975 473 \nQ 1284 391 1588 391 \nQ 1994 391 2212 530 \nQ 2431 669 2431 922 \nQ 2431 1156 2273 1281 \nQ 2116 1406 1581 1522 \nL 1381 1569 \nQ 847 1681 609 1914 \nQ 372 2147 372 2553 \nQ 372 3047 722 3315 \nQ 1072 3584 1716 3584 \nQ 2034 3584 2315 3537 \nQ 2597 3491 2834 3397 \nz\n\" transform=\"scale(0.015625)\"/>\n        <path id=\"DejaVuSans-77\" d=\"M 269 3500 \nL 844 3500 \nL 1563 769 \nL 2278 3500 \nL 2956 3500 \nL 3675 769 \nL 4391 3500 \nL 4966 3500 \nL 4050 0 \nL 3372 0 \nL 2619 2869 \nL 1863 0 \nL 1184 0 \nL 269 3500 \nz\n\" transform=\"scale(0.015625)\"/>\n       </defs>\n       <use xlink:href=\"#DejaVuSans-73\"/>\n       <use xlink:href=\"#DejaVuSans-77\" x=\"52.099609\"/>\n      </g>\n     </g>\n    </g>\n    <g id=\"ytick_3\">\n     <g id=\"text_11\">\n      <!-- it -->\n      <g style=\"fill: #262626\" transform=\"translate(32.068891 87.226992) scale(0.121 -0.121)\">\n       <defs>\n        <path id=\"DejaVuSans-69\" d=\"M 603 3500 \nL 1178 3500 \nL 1178 0 \nL 603 0 \nL 603 3500 \nz\nM 603 4863 \nL 1178 4863 \nL 1178 4134 \nL 603 4134 \nL 603 4863 \nz\n\" transform=\"scale(0.015625)\"/>\n        <path id=\"DejaVuSans-74\" d=\"M 1172 4494 \nL 1172 3500 \nL 2356 3500 \nL 2356 3053 \nL 1172 3053 \nL 1172 1153 \nQ 1172 725 1289 603 \nQ 1406 481 1766 481 \nL 2356 481 \nL 2356 0 \nL 1766 0 \nQ 1100 0 847 248 \nQ 594 497 594 1153 \nL 594 3053 \nL 172 3053 \nL 172 3500 \nL 594 3500 \nL 594 4494 \nL 1172 4494 \nz\n\" transform=\"scale(0.015625)\"/>\n       </defs>\n       <use xlink:href=\"#DejaVuSans-69\"/>\n       <use xlink:href=\"#DejaVuSans-74\" x=\"27.783203\"/>\n      </g>\n     </g>\n    </g>\n    <g id=\"ytick_4\">\n     <g id=\"text_12\">\n      <!-- nl -->\n      <g style=\"fill: #262626\" transform=\"translate(29.144094 110.986992) scale(0.121 -0.121)\">\n       <use xlink:href=\"#DejaVuSans-6e\"/>\n       <use xlink:href=\"#DejaVuSans-6c\" x=\"63.378906\"/>\n      </g>\n     </g>\n    </g>\n    <g id=\"ytick_5\">\n     <g id=\"text_13\">\n      <!-- pt -->\n      <g style=\"fill: #262626\" transform=\"translate(27.748813 134.746992) scale(0.121 -0.121)\">\n       <defs>\n        <path id=\"DejaVuSans-70\" d=\"M 1159 525 \nL 1159 -1331 \nL 581 -1331 \nL 581 3500 \nL 1159 3500 \nL 1159 2969 \nQ 1341 3281 1617 3432 \nQ 1894 3584 2278 3584 \nQ 2916 3584 3314 3078 \nQ 3713 2572 3713 1747 \nQ 3713 922 3314 415 \nQ 2916 -91 2278 -91 \nQ 1894 -91 1617 61 \nQ 1341 213 1159 525 \nz\nM 3116 1747 \nQ 3116 2381 2855 2742 \nQ 2594 3103 2138 3103 \nQ 1681 3103 1420 2742 \nQ 1159 2381 1159 1747 \nQ 1159 1113 1420 752 \nQ 1681 391 2138 391 \nQ 2594 391 2855 752 \nQ 3116 1113 3116 1747 \nz\n\" transform=\"scale(0.015625)\"/>\n       </defs>\n       <use xlink:href=\"#DejaVuSans-70\"/>\n       <use xlink:href=\"#DejaVuSans-74\" x=\"63.476562\"/>\n      </g>\n     </g>\n    </g>\n    <g id=\"ytick_6\">\n     <g id=\"text_14\">\n      <!-- ur -->\n      <g style=\"fill: #262626\" transform=\"translate(27.531391 158.506992) scale(0.121 -0.121)\">\n       <defs>\n        <path id=\"DejaVuSans-75\" d=\"M 544 1381 \nL 544 3500 \nL 1119 3500 \nL 1119 1403 \nQ 1119 906 1312 657 \nQ 1506 409 1894 409 \nQ 2359 409 2629 706 \nQ 2900 1003 2900 1516 \nL 2900 3500 \nL 3475 3500 \nL 3475 0 \nL 2900 0 \nL 2900 538 \nQ 2691 219 2414 64 \nQ 2138 -91 1772 -91 \nQ 1169 -91 856 284 \nQ 544 659 544 1381 \nz\nM 1991 3584 \nL 1991 3584 \nz\n\" transform=\"scale(0.015625)\"/>\n        <path id=\"DejaVuSans-72\" d=\"M 2631 2963 \nQ 2534 3019 2420 3045 \nQ 2306 3072 2169 3072 \nQ 1681 3072 1420 2755 \nQ 1159 2438 1159 1844 \nL 1159 0 \nL 581 0 \nL 581 3500 \nL 1159 3500 \nL 1159 2956 \nQ 1341 3275 1631 3429 \nQ 1922 3584 2338 3584 \nQ 2397 3584 2469 3576 \nQ 2541 3569 2628 3553 \nL 2631 2963 \nz\n\" transform=\"scale(0.015625)\"/>\n       </defs>\n       <use xlink:href=\"#DejaVuSans-75\"/>\n       <use xlink:href=\"#DejaVuSans-72\" x=\"63.378906\"/>\n      </g>\n     </g>\n    </g>\n    <g id=\"ytick_7\">\n     <g id=\"text_15\">\n      <!-- hi -->\n      <g style=\"fill: #262626\" transform=\"translate(29.144094 182.266992) scale(0.121 -0.121)\">\n       <defs>\n        <path id=\"DejaVuSans-68\" d=\"M 3513 2113 \nL 3513 0 \nL 2938 0 \nL 2938 2094 \nQ 2938 2591 2744 2837 \nQ 2550 3084 2163 3084 \nQ 1697 3084 1428 2787 \nQ 1159 2491 1159 1978 \nL 1159 0 \nL 581 0 \nL 581 4863 \nL 1159 4863 \nL 1159 2956 \nQ 1366 3272 1645 3428 \nQ 1925 3584 2291 3584 \nQ 2894 3584 3203 3211 \nQ 3513 2838 3513 2113 \nz\n\" transform=\"scale(0.015625)\"/>\n       </defs>\n       <use xlink:href=\"#DejaVuSans-68\"/>\n       <use xlink:href=\"#DejaVuSans-69\" x=\"63.378906\"/>\n      </g>\n     </g>\n    </g>\n    <g id=\"ytick_8\">\n     <g id=\"text_16\">\n      <!-- tr -->\n      <g style=\"fill: #262626\" transform=\"translate(30.456188 206.026992) scale(0.121 -0.121)\">\n       <use xlink:href=\"#DejaVuSans-74\"/>\n       <use xlink:href=\"#DejaVuSans-72\" x=\"39.208984\"/>\n      </g>\n     </g>\n    </g>\n    <g id=\"ytick_9\">\n     <g id=\"text_17\">\n      <!-- fr -->\n      <g style=\"fill: #262626\" transform=\"translate(30.940188 229.786992) scale(0.121 -0.121)\">\n       <defs>\n        <path id=\"DejaVuSans-66\" d=\"M 2375 4863 \nL 2375 4384 \nL 1825 4384 \nQ 1516 4384 1395 4259 \nQ 1275 4134 1275 3809 \nL 1275 3500 \nL 2222 3500 \nL 2222 3053 \nL 1275 3053 \nL 1275 0 \nL 697 0 \nL 697 3053 \nL 147 3053 \nL 147 3500 \nL 697 3500 \nL 697 3744 \nQ 697 4328 969 4595 \nQ 1241 4863 1831 4863 \nL 2375 4863 \nz\n\" transform=\"scale(0.015625)\"/>\n       </defs>\n       <use xlink:href=\"#DejaVuSans-66\"/>\n       <use xlink:href=\"#DejaVuSans-72\" x=\"35.205078\"/>\n      </g>\n     </g>\n    </g>\n    <g id=\"ytick_10\">\n     <g id=\"text_18\">\n      <!-- de -->\n      <g style=\"fill: #262626\" transform=\"translate(25.047109 253.546992) scale(0.121 -0.121)\">\n       <defs>\n        <path id=\"DejaVuSans-64\" d=\"M 2906 2969 \nL 2906 4863 \nL 3481 4863 \nL 3481 0 \nL 2906 0 \nL 2906 525 \nQ 2725 213 2448 61 \nQ 2172 -91 1784 -91 \nQ 1150 -91 751 415 \nQ 353 922 353 1747 \nQ 353 2572 751 3078 \nQ 1150 3584 1784 3584 \nQ 2172 3584 2448 3432 \nQ 2725 3281 2906 2969 \nz\nM 947 1747 \nQ 947 1113 1208 752 \nQ 1469 391 1925 391 \nQ 2381 391 2643 752 \nQ 2906 1113 2906 1747 \nQ 2906 2381 2643 2742 \nQ 2381 3103 1925 3103 \nQ 1469 3103 1208 2742 \nQ 947 2381 947 1747 \nz\n\" transform=\"scale(0.015625)\"/>\n       </defs>\n       <use xlink:href=\"#DejaVuSans-64\"/>\n       <use xlink:href=\"#DejaVuSans-65\" x=\"63.476562\"/>\n      </g>\n     </g>\n    </g>\n    <g id=\"ytick_11\">\n     <g id=\"text_19\">\n      <!-- es -->\n      <g style=\"fill: #262626\" transform=\"translate(26.425375 277.306992) scale(0.121 -0.121)\">\n       <use xlink:href=\"#DejaVuSans-65\"/>\n       <use xlink:href=\"#DejaVuSans-73\" x=\"61.523438\"/>\n      </g>\n     </g>\n    </g>\n    <g id=\"ytick_12\">\n     <g id=\"text_20\">\n      <!-- ar -->\n      <g style=\"fill: #262626\" transform=\"translate(27.784734 301.066992) scale(0.121 -0.121)\">\n       <use xlink:href=\"#DejaVuSans-61\"/>\n       <use xlink:href=\"#DejaVuSans-72\" x=\"61.279297\"/>\n      </g>\n     </g>\n    </g>\n    <g id=\"ytick_13\">\n     <g id=\"text_21\">\n      <!-- el -->\n      <g style=\"fill: #262626\" transform=\"translate(29.367188 324.826992) scale(0.121 -0.121)\">\n       <use xlink:href=\"#DejaVuSans-65\"/>\n       <use xlink:href=\"#DejaVuSans-6c\" x=\"61.523438\"/>\n      </g>\n     </g>\n    </g>\n    <g id=\"ytick_14\">\n     <g id=\"text_22\">\n      <!-- th -->\n      <g style=\"fill: #262626\" transform=\"translate(27.762047 348.586992) scale(0.121 -0.121)\">\n       <use xlink:href=\"#DejaVuSans-74\"/>\n       <use xlink:href=\"#DejaVuSans-68\" x=\"39.208984\"/>\n      </g>\n     </g>\n    </g>\n    <g id=\"text_23\">\n     <!-- Counts -->\n     <g style=\"fill: #262626\" transform=\"translate(17.229938 212.588062) rotate(-90) scale(0.132 -0.132)\">\n      <defs>\n       <path id=\"DejaVuSans-43\" d=\"M 4122 4306 \nL 4122 3641 \nQ 3803 3938 3442 4084 \nQ 3081 4231 2675 4231 \nQ 1875 4231 1450 3742 \nQ 1025 3253 1025 2328 \nQ 1025 1406 1450 917 \nQ 1875 428 2675 428 \nQ 3081 428 3442 575 \nQ 3803 722 4122 1019 \nL 4122 359 \nQ 3791 134 3420 21 \nQ 3050 -91 2638 -91 \nQ 1578 -91 968 557 \nQ 359 1206 359 2328 \nQ 359 3453 968 4101 \nQ 1578 4750 2638 4750 \nQ 3056 4750 3426 4639 \nQ 3797 4528 4122 4306 \nz\n\" transform=\"scale(0.015625)\"/>\n       <path id=\"DejaVuSans-6f\" d=\"M 1959 3097 \nQ 1497 3097 1228 2736 \nQ 959 2375 959 1747 \nQ 959 1119 1226 758 \nQ 1494 397 1959 397 \nQ 2419 397 2687 759 \nQ 2956 1122 2956 1747 \nQ 2956 2369 2687 2733 \nQ 2419 3097 1959 3097 \nz\nM 1959 3584 \nQ 2709 3584 3137 3096 \nQ 3566 2609 3566 1747 \nQ 3566 888 3137 398 \nQ 2709 -91 1959 -91 \nQ 1206 -91 779 398 \nQ 353 888 353 1747 \nQ 353 2609 779 3096 \nQ 1206 3584 1959 3584 \nz\n\" transform=\"scale(0.015625)\"/>\n      </defs>\n      <use xlink:href=\"#DejaVuSans-43\"/>\n      <use xlink:href=\"#DejaVuSans-6f\" x=\"69.824219\"/>\n      <use xlink:href=\"#DejaVuSans-75\" x=\"131.005859\"/>\n      <use xlink:href=\"#DejaVuSans-6e\" x=\"194.384766\"/>\n      <use xlink:href=\"#DejaVuSans-74\" x=\"257.763672\"/>\n      <use xlink:href=\"#DejaVuSans-73\" x=\"296.972656\"/>\n     </g>\n    </g>\n   </g>\n   <g id=\"patch_3\">\n    <path d=\"M 49.674 25.605937 \nL 687.388286 25.605937 \nL 687.388286 44.613937 \nL 49.674 44.613937 \nz\n\" clip-path=\"url(#p72200d04fd)\" style=\"fill: #ea96a3; stroke: #ffffff; stroke-linejoin: miter\"/>\n   </g>\n   <g id=\"patch_4\">\n    <path d=\"M 49.674 49.365937 \nL 134.310207 49.365937 \nL 134.310207 68.373937 \nL 49.674 68.373937 \nz\n\" clip-path=\"url(#p72200d04fd)\" style=\"fill: #e4946a; stroke: #ffffff; stroke-linejoin: miter\"/>\n   </g>\n   <g id=\"patch_5\">\n    <path d=\"M 49.674 73.125938 \nL 57.955327 73.125938 \nL 57.955327 92.133938 \nL 49.674 92.133938 \nz\n\" clip-path=\"url(#p72200d04fd)\" style=\"fill: #c29a4b; stroke: #ffffff; stroke-linejoin: miter\"/>\n   </g>\n   <g id=\"patch_6\">\n    <path d=\"M 49.674 96.885938 \nL 52.12194 96.885938 \nL 52.12194 115.893938 \nL 49.674 115.893938 \nz\n\" clip-path=\"url(#p72200d04fd)\" style=\"fill: #a69f46; stroke: #ffffff; stroke-linejoin: miter\"/>\n   </g>\n   <g id=\"patch_7\">\n    <path d=\"M 49.674 120.645938 \nL 50.976095 120.645938 \nL 50.976095 139.653938 \nL 49.674 139.653938 \nz\n\" clip-path=\"url(#p72200d04fd)\" style=\"fill: #88a746; stroke: #ffffff; stroke-linejoin: miter\"/>\n   </g>\n   <g id=\"patch_8\">\n    <path d=\"M 49.674 144.405937 \nL 50.924012 144.405937 \nL 50.924012 163.413937 \nL 49.674 163.413937 \nz\n\" clip-path=\"url(#p72200d04fd)\" style=\"fill: #48b05e; stroke: #ffffff; stroke-linejoin: miter\"/>\n   </g>\n   <g id=\"patch_9\">\n    <path d=\"M 49.674 168.165937 \nL 50.76776 168.165937 \nL 50.76776 187.173937 \nL 49.674 187.173937 \nz\n\" clip-path=\"url(#p72200d04fd)\" style=\"fill: #4aad8f; stroke: #ffffff; stroke-linejoin: miter\"/>\n   </g>\n   <g id=\"patch_10\">\n    <path d=\"M 49.674 191.925937 \nL 50.715676 191.925937 \nL 50.715676 210.933937 \nL 49.674 210.933937 \nz\n\" clip-path=\"url(#p72200d04fd)\" style=\"fill: #4baba4; stroke: #ffffff; stroke-linejoin: miter\"/>\n   </g>\n   <g id=\"patch_11\">\n    <path d=\"M 49.674 215.685937 \nL 49.986503 215.685937 \nL 49.986503 234.693937 \nL 49.674 234.693937 \nz\n\" clip-path=\"url(#p72200d04fd)\" style=\"fill: #4eabb8; stroke: #ffffff; stroke-linejoin: miter\"/>\n   </g>\n   <g id=\"patch_12\">\n    <path d=\"M 49.674 239.445937 \nL 49.882335 239.445937 \nL 49.882335 258.453937 \nL 49.674 258.453937 \nz\n\" clip-path=\"url(#p72200d04fd)\" style=\"fill: #55acd7; stroke: #ffffff; stroke-linejoin: miter\"/>\n   </g>\n   <g id=\"patch_13\">\n    <path d=\"M 49.674 263.205938 \nL 49.778168 263.205938 \nL 49.778168 282.213938 \nL 49.674 282.213938 \nz\n\" clip-path=\"url(#p72200d04fd)\" style=\"fill: #a0adea; stroke: #ffffff; stroke-linejoin: miter\"/>\n   </g>\n   <g id=\"patch_14\">\n    <path d=\"M 49.674 286.965937 \nL 49.726084 286.965937 \nL 49.726084 305.973938 \nL 49.674 305.973938 \nz\n\" clip-path=\"url(#p72200d04fd)\" style=\"fill: #c79fe9; stroke: #ffffff; stroke-linejoin: miter\"/>\n   </g>\n   <g id=\"patch_15\">\n    <path d=\"M 49.674 310.725937 \nL 49.726084 310.725937 \nL 49.726084 329.733938 \nL 49.674 329.733938 \nz\n\" clip-path=\"url(#p72200d04fd)\" style=\"fill: #e78ae0; stroke: #ffffff; stroke-linejoin: miter\"/>\n   </g>\n   <g id=\"patch_16\">\n    <path d=\"M 49.674 334.485937 \nL 49.726084 334.485937 \nL 49.726084 353.493938 \nL 49.674 353.493938 \nz\n\" clip-path=\"url(#p72200d04fd)\" style=\"fill: #e891c1; stroke: #ffffff; stroke-linejoin: miter\"/>\n   </g>\n   <g id=\"line2d_8\">\n    <path clip-path=\"url(#p72200d04fd)\" style=\"fill: none; stroke: #424242; stroke-width: 2.7; stroke-linecap: round\"/>\n   </g>\n   <g id=\"line2d_9\">\n    <path clip-path=\"url(#p72200d04fd)\" style=\"fill: none; stroke: #424242; stroke-width: 2.7; stroke-linecap: round\"/>\n   </g>\n   <g id=\"line2d_10\">\n    <path clip-path=\"url(#p72200d04fd)\" style=\"fill: none; stroke: #424242; stroke-width: 2.7; stroke-linecap: round\"/>\n   </g>\n   <g id=\"line2d_11\">\n    <path clip-path=\"url(#p72200d04fd)\" style=\"fill: none; stroke: #424242; stroke-width: 2.7; stroke-linecap: round\"/>\n   </g>\n   <g id=\"line2d_12\">\n    <path clip-path=\"url(#p72200d04fd)\" style=\"fill: none; stroke: #424242; stroke-width: 2.7; stroke-linecap: round\"/>\n   </g>\n   <g id=\"line2d_13\">\n    <path clip-path=\"url(#p72200d04fd)\" style=\"fill: none; stroke: #424242; stroke-width: 2.7; stroke-linecap: round\"/>\n   </g>\n   <g id=\"line2d_14\">\n    <path clip-path=\"url(#p72200d04fd)\" style=\"fill: none; stroke: #424242; stroke-width: 2.7; stroke-linecap: round\"/>\n   </g>\n   <g id=\"line2d_15\">\n    <path clip-path=\"url(#p72200d04fd)\" style=\"fill: none; stroke: #424242; stroke-width: 2.7; stroke-linecap: round\"/>\n   </g>\n   <g id=\"line2d_16\">\n    <path clip-path=\"url(#p72200d04fd)\" style=\"fill: none; stroke: #424242; stroke-width: 2.7; stroke-linecap: round\"/>\n   </g>\n   <g id=\"line2d_17\">\n    <path clip-path=\"url(#p72200d04fd)\" style=\"fill: none; stroke: #424242; stroke-width: 2.7; stroke-linecap: round\"/>\n   </g>\n   <g id=\"line2d_18\">\n    <path clip-path=\"url(#p72200d04fd)\" style=\"fill: none; stroke: #424242; stroke-width: 2.7; stroke-linecap: round\"/>\n   </g>\n   <g id=\"line2d_19\">\n    <path clip-path=\"url(#p72200d04fd)\" style=\"fill: none; stroke: #424242; stroke-width: 2.7; stroke-linecap: round\"/>\n   </g>\n   <g id=\"line2d_20\">\n    <path clip-path=\"url(#p72200d04fd)\" style=\"fill: none; stroke: #424242; stroke-width: 2.7; stroke-linecap: round\"/>\n   </g>\n   <g id=\"line2d_21\">\n    <path clip-path=\"url(#p72200d04fd)\" style=\"fill: none; stroke: #424242; stroke-width: 2.7; stroke-linecap: round\"/>\n   </g>\n   <g id=\"patch_17\">\n    <path d=\"M 49.674 355.869937 \nL 49.674 23.229938 \n\" style=\"fill: none; stroke: #ffffff; stroke-width: 1.25; stroke-linejoin: miter; stroke-linecap: square\"/>\n   </g>\n   <g id=\"patch_18\">\n    <path d=\"M 719.274 355.869937 \nL 719.274 23.229938 \n\" style=\"fill: none; stroke: #ffffff; stroke-width: 1.25; stroke-linejoin: miter; stroke-linecap: square\"/>\n   </g>\n   <g id=\"patch_19\">\n    <path d=\"M 49.674 355.869937 \nL 719.274 355.869937 \n\" style=\"fill: none; stroke: #ffffff; stroke-width: 1.25; stroke-linejoin: miter; stroke-linecap: square\"/>\n   </g>\n   <g id=\"patch_20\">\n    <path d=\"M 49.674 23.229937 \nL 719.274 23.229937 \n\" style=\"fill: none; stroke: #ffffff; stroke-width: 1.25; stroke-linejoin: miter; stroke-linecap: square\"/>\n   </g>\n   <g id=\"text_24\">\n    <!-- Language Distribution -->\n    <g style=\"fill: #262626\" transform=\"translate(311.300625 17.229937) scale(0.132 -0.132)\">\n     <defs>\n      <path id=\"DejaVuSans-67\" d=\"M 2906 1791 \nQ 2906 2416 2648 2759 \nQ 2391 3103 1925 3103 \nQ 1463 3103 1205 2759 \nQ 947 2416 947 1791 \nQ 947 1169 1205 825 \nQ 1463 481 1925 481 \nQ 2391 481 2648 825 \nQ 2906 1169 2906 1791 \nz\nM 3481 434 \nQ 3481 -459 3084 -895 \nQ 2688 -1331 1869 -1331 \nQ 1566 -1331 1297 -1286 \nQ 1028 -1241 775 -1147 \nL 775 -588 \nQ 1028 -725 1275 -790 \nQ 1522 -856 1778 -856 \nQ 2344 -856 2625 -561 \nQ 2906 -266 2906 331 \nL 2906 616 \nQ 2728 306 2450 153 \nQ 2172 0 1784 0 \nQ 1141 0 747 490 \nQ 353 981 353 1791 \nQ 353 2603 747 3093 \nQ 1141 3584 1784 3584 \nQ 2172 3584 2450 3431 \nQ 2728 3278 2906 2969 \nL 2906 3500 \nL 3481 3500 \nL 3481 434 \nz\n\" transform=\"scale(0.015625)\"/>\n      <path id=\"DejaVuSans-20\" transform=\"scale(0.015625)\"/>\n      <path id=\"DejaVuSans-44\" d=\"M 1259 4147 \nL 1259 519 \nL 2022 519 \nQ 2988 519 3436 956 \nQ 3884 1394 3884 2338 \nQ 3884 3275 3436 3711 \nQ 2988 4147 2022 4147 \nL 1259 4147 \nz\nM 628 4666 \nL 1925 4666 \nQ 3281 4666 3915 4102 \nQ 4550 3538 4550 2338 \nQ 4550 1131 3912 565 \nQ 3275 0 1925 0 \nL 628 0 \nL 628 4666 \nz\n\" transform=\"scale(0.015625)\"/>\n     </defs>\n     <use xlink:href=\"#DejaVuSans-4c\"/>\n     <use xlink:href=\"#DejaVuSans-61\" x=\"55.712891\"/>\n     <use xlink:href=\"#DejaVuSans-6e\" x=\"116.992188\"/>\n     <use xlink:href=\"#DejaVuSans-67\" x=\"180.371094\"/>\n     <use xlink:href=\"#DejaVuSans-75\" x=\"243.847656\"/>\n     <use xlink:href=\"#DejaVuSans-61\" x=\"307.226562\"/>\n     <use xlink:href=\"#DejaVuSans-67\" x=\"368.505859\"/>\n     <use xlink:href=\"#DejaVuSans-65\" x=\"431.982422\"/>\n     <use xlink:href=\"#DejaVuSans-20\" x=\"493.505859\"/>\n     <use xlink:href=\"#DejaVuSans-44\" x=\"525.292969\"/>\n     <use xlink:href=\"#DejaVuSans-69\" x=\"602.294922\"/>\n     <use xlink:href=\"#DejaVuSans-73\" x=\"630.078125\"/>\n     <use xlink:href=\"#DejaVuSans-74\" x=\"682.177734\"/>\n     <use xlink:href=\"#DejaVuSans-72\" x=\"721.386719\"/>\n     <use xlink:href=\"#DejaVuSans-69\" x=\"762.5\"/>\n     <use xlink:href=\"#DejaVuSans-62\" x=\"790.283203\"/>\n     <use xlink:href=\"#DejaVuSans-75\" x=\"853.759766\"/>\n     <use xlink:href=\"#DejaVuSans-74\" x=\"917.138672\"/>\n     <use xlink:href=\"#DejaVuSans-69\" x=\"956.347656\"/>\n     <use xlink:href=\"#DejaVuSans-6f\" x=\"984.130859\"/>\n     <use xlink:href=\"#DejaVuSans-6e\" x=\"1045.3125\"/>\n    </g>\n   </g>\n  </g>\n </g>\n <defs>\n  <clipPath id=\"p72200d04fd\">\n   <rect x=\"49.674\" y=\"23.229937\" width=\"669.6\" height=\"332.64\"/>\n  </clipPath>\n </defs>\n</svg>\n"
          },
          "metadata": {}
        }
      ]
    },
    {
      "cell_type": "code",
      "source": [
        "# Seeems like the finetuned XLM-Roberta for language identification is able to identify more swahili posts"
      ],
      "metadata": {
        "id": "gke4fAEExTdj"
      },
      "execution_count": null,
      "outputs": []
    },
    {
      "cell_type": "code",
      "source": [
        "model_data[model_data['lang'] != 'en'].shape"
      ],
      "metadata": {
        "colab": {
          "base_uri": "https://localhost:8080/"
        },
        "id": "AtQ_9v2gxcsN",
        "outputId": "abaa4b2e-d052-47f2-d116-ab87a2f8bed5"
      },
      "execution_count": null,
      "outputs": [
        {
          "output_type": "execute_result",
          "data": {
            "text/plain": [
              "(1936, 16)"
            ]
          },
          "metadata": {},
          "execution_count": 132
        }
      ]
    },
    {
      "cell_type": "code",
      "source": [
        "model_data[model_data['lang'] != 'en'].sample(10)"
      ],
      "metadata": {
        "colab": {
          "base_uri": "https://localhost:8080/",
          "height": 1000
        },
        "id": "MIiDflbIxjid",
        "outputId": "babb43fa-a997-4f20-cec0-291567a00a71"
      },
      "execution_count": null,
      "outputs": [
        {
          "output_type": "execute_result",
          "data": {
            "text/plain": [
              "                                                                                                                                                                                                                                                                                          text  \\\n",
              "4598   enyewe watu wa Azimio wote ni wajinga. Iebc gave the company the tender of digital transmission platform for the election & for it to work the company sent there team to set up,test and hand over to iebc before election only for them to be arrested. Go read the statement by iebc   \n",
              "7929                                                                                                                                                William Samoei Ruto - The 5th. \\n9th August, ngware tumalize hii bizness and focus on the economy. \\n\\n#KenyaDecides #Ruto #GE2022 #The5th   \n",
              "7997                                                                                                                                                                                                                                                         Raila to be sworn in as president   \n",
              "13353                                                                                                                                                    The latest presidential results updates #KenyaDecides UHURU KENYATTA: 8 062 422 votes (54,28%), RAILA ODINGA 6 660 348 votes (44,84%)   \n",
              "11929                                                                                                                                                                                    Mimi nitajitokeza waziwazi mapema na kumchagua kiongozi wangu wa maendeleo na umoja. Pamoja twaweza!!   \n",
              "10504                    Fellow Kenyans, VOTE PEACE!\\nMind your Tomorrow,. Peace s the only Constant! Don't panic! \\n\\n#kenyadecides #kenyadecides2022 #peacefulelection #peacefulElections #votepeace #votepeace2022 #kenyakwanza #azimiolaumoja #wajackoyahthe5th #babanamartha #williamruto   \n",
              "12536                                                                                                                                                                                                                                                        No problem untill now#cherenganyi   \n",
              "7464                                                                                                                                                               Raila demand answers on extra IEBC forms\\nhttps://bit.ly/3cNck5E\\n@RailaOdinga @IEBCKenya @WilliamsRuto \\nKenyattas| Martha   \n",
              "10447                                                                                                                                                                                     #KenyanElection #LetPeaceWin #PositivePoliticalEngagement \\n@JusticessP\\n \\n@AfricaAmani\\n #CffGhana   \n",
              "8170              \"We do NOT have government by the MAJORITY, we have government by the MAJORITY who PARTICIPATE in VOTING.\" We encourage #youth & every registered voter to go cast their ballot peacefully. #Kenya inastahili HESHIMA na tutaipa heshima TUKITENDA WAJIBU WETU\\n#LetPeaceWin   \n",
              "\n",
              "                                                                                                                                                                                                                                                                    clean_text  \\\n",
              "4598   enyewe watu wa azimio wote ni wajinga iebc gave the company the tender of digital transmission platform for the election for it work the company sent there team set up test and hand over iebc before election only for them be arrested go read the statement by iebc   \n",
              "7929                                                                                                                                                               william samoei ruto the august ngware tumalize hii bizness and focus the economy kenyadecides ruto ge theth   \n",
              "7997                                                                                                                                                                                                                                            raila be sworn in as president   \n",
              "13353                                                                                                                                                                             the latest presidential results updates kenyadecides uhuru kenyatta votes raila odinga votes   \n",
              "11929                                                                                                                                                                       mimi nitajitokeza waziwazi mapema na kumchagua kiongozi wangu wa maendeleo na umoja pamoja twaweza   \n",
              "10504                                       fellow kenyans vote peace mind your tomorrow peace the only constant don panic kenyadecides kenyadecides peacefulelection peacefulelections votepeace votepeace kenyakwanza azimiolaumoja wajackoyahtheth babanamartha williamruto   \n",
              "12536                                                                                                                                                                                                                                         no problem untill nowcherenganyi   \n",
              "7464                                                                                                                                                                                                                    raila demand answers extra iebc forms kenyattas martha   \n",
              "10447                                                                                                                                                                                                          kenyanelection letpeacewin positivepoliticalengagement cffghana   \n",
              "8170            we do not have government by the majority we have government by the majority who participate in voting we encourage youth every registered voter go cast their ballot peacefully kenya inastahili heshima na tutaipa heshima tukitenda wajibu wetu letpeacewin   \n",
              "\n",
              "                                                                                                                                                                                                                                                                                   normalized_text  \\\n",
              "4598   enyewe watu wa Azimio wote ni wajinga . Iebc gave the company the tender of digital transmission platform for the election & for it to work the company sent there team to set up , test and hand over to iebc before election only for them to be arrested . Go read the statement by iebc   \n",
              "7929                                                                                                                                                       William Samoei Ruto - The 5th . 9th August , ngware tumalize hii bizness and focus on the economy . #KenyaDecides #Ruto #GE2022 #The5th   \n",
              "7997                                                                                                                                                                                                                                                             Raila to be sworn in as president   \n",
              "13353                                                                                                                                                The latest presidential results updates #KenyaDecides UHURU KENYATTA : 8 062 422 votes ( 54,28 % ) , RAILA ODINGA 6 660 348 votes ( 44,84 % )   \n",
              "11929                                                                                                                                                                                     Mimi nitajitokeza waziwazi mapema na kumchagua kiongozi wangu wa maendeleo na umoja . Pamoja twaweza ! !   \n",
              "10504                       Fellow Kenyans , VOTE PEACE ! Mind your Tomorrow , . Peace s the only Constant ! Don't panic ! #kenyadecides #kenyadecides2022 #peacefulelection #peacefulElections #votepeace #votepeace2022 #kenyakwanza #azimiolaumoja #wajackoyahthe5th #babanamartha #williamruto   \n",
              "12536                                                                                                                                                                                                                                                           No problem untill now #cherenganyi   \n",
              "7464                                                                                                                                                                                                         Raila demand answers on extra IEBC forms HTTPURL @USER @USER @USER Kenyattas | Martha   \n",
              "10447                                                                                                                                                                                                              #KenyanElection #LetPeaceWin #PositivePoliticalEngagement @USER @USER #CffGhana   \n",
              "8170              \" We do NOT have government by the MAJORITY , we have government by the MAJORITY who PARTICIPATE in VOTING . \" We encourage #youth & every registered voter to go cast their ballot peacefully . #Kenya inastahili HESHIMA na tutaipa heshima TUKITENDA WAJIBU WETU #LetPeaceWin   \n",
              "\n",
              "               merged_label                 label     status Election Date  \\\n",
              "4598        Security Issues       Security Issues  published   August 2022   \n",
              "7929                  Other              Opinions  published   August 2022   \n",
              "7997                  Other              Opinions  published   August 2022   \n",
              "13353  Counting and Results  Counting and Results  published   August 2017   \n",
              "11929       Positive Events       Positive Events   archived   August 2017   \n",
              "10504                 Other              Opinions  published   August 2022   \n",
              "12536       Positive Events       Positive Events  published   August 2017   \n",
              "7464                  Other              Opinions   archived   August 2022   \n",
              "10447       Positive Events       Positive Events  published   August 2022   \n",
              "8170                  Other              Opinions   archived   August 2022   \n",
              "\n",
              "                      date informative_label  election_distance  \\\n",
              "4598   2022-07-22 20:42:12       Informative                 17   \n",
              "7929   2022-08-01 11:45:45   Non-Informative                  7   \n",
              "7997   2022-08-01 13:46:05   Non-Informative                  7   \n",
              "13353  2017-08-10 10:00:02       Informative                 -2   \n",
              "11929  2017-08-08 04:37:23       Informative                  0   \n",
              "10504  2022-08-09 03:19:25   Non-Informative                 -1   \n",
              "12536  2017-08-08 11:06:24       Informative                  0   \n",
              "7464   2022-07-28 12:48:17   Non-Informative                 11   \n",
              "10447  2022-08-08 22:01:03       Informative                  0   \n",
              "8170   2022-08-01 18:51:59   Non-Informative                  7   \n",
              "\n",
              "       election_distance_abs  hour      hour_sin      hour_cos lang  \\\n",
              "4598                      17    20 -8.660254e-01  5.000000e-01   sw   \n",
              "7929                       7    11  2.588190e-01 -9.659258e-01   sw   \n",
              "7997                       7    13 -2.588190e-01 -9.659258e-01   nl   \n",
              "13353                      2    10  5.000000e-01 -8.660254e-01   sw   \n",
              "11929                      0     4  8.660254e-01  5.000000e-01   sw   \n",
              "10504                      1     3  7.071068e-01  7.071068e-01   sw   \n",
              "12536                      0    11  2.588190e-01 -9.659258e-01   sw   \n",
              "7464                      11    12  1.224647e-16 -1.000000e+00   sw   \n",
              "10447                      0    22 -5.000000e-01  8.660254e-01   sw   \n",
              "8170                       7    18 -1.000000e+00 -1.836970e-16   sw   \n",
              "\n",
              "      detect_lang  \n",
              "4598           en  \n",
              "7929           en  \n",
              "7997           en  \n",
              "13353          et  \n",
              "11929          sw  \n",
              "10504          en  \n",
              "12536          en  \n",
              "7464           en  \n",
              "10447          en  \n",
              "8170           en  "
            ],
            "text/html": [
              "\n",
              "  <div id=\"df-fb38214d-93b2-4d1c-bf77-16170478685b\">\n",
              "    <div class=\"colab-df-container\">\n",
              "      <div>\n",
              "<style scoped>\n",
              "    .dataframe tbody tr th:only-of-type {\n",
              "        vertical-align: middle;\n",
              "    }\n",
              "\n",
              "    .dataframe tbody tr th {\n",
              "        vertical-align: top;\n",
              "    }\n",
              "\n",
              "    .dataframe thead th {\n",
              "        text-align: right;\n",
              "    }\n",
              "</style>\n",
              "<table border=\"1\" class=\"dataframe\">\n",
              "  <thead>\n",
              "    <tr style=\"text-align: right;\">\n",
              "      <th></th>\n",
              "      <th>text</th>\n",
              "      <th>clean_text</th>\n",
              "      <th>normalized_text</th>\n",
              "      <th>merged_label</th>\n",
              "      <th>label</th>\n",
              "      <th>status</th>\n",
              "      <th>Election Date</th>\n",
              "      <th>date</th>\n",
              "      <th>informative_label</th>\n",
              "      <th>election_distance</th>\n",
              "      <th>election_distance_abs</th>\n",
              "      <th>hour</th>\n",
              "      <th>hour_sin</th>\n",
              "      <th>hour_cos</th>\n",
              "      <th>lang</th>\n",
              "      <th>detect_lang</th>\n",
              "    </tr>\n",
              "  </thead>\n",
              "  <tbody>\n",
              "    <tr>\n",
              "      <th>4598</th>\n",
              "      <td>enyewe watu wa Azimio wote ni wajinga. Iebc gave the company the tender of digital transmission platform for the election &amp; for it to work the company sent there team to set up,test and hand over to iebc before election only for them to be arrested. Go read the statement by iebc</td>\n",
              "      <td>enyewe watu wa azimio wote ni wajinga iebc gave the company the tender of digital transmission platform for the election for it work the company sent there team set up test and hand over iebc before election only for them be arrested go read the statement by iebc</td>\n",
              "      <td>enyewe watu wa Azimio wote ni wajinga . Iebc gave the company the tender of digital transmission platform for the election &amp; for it to work the company sent there team to set up , test and hand over to iebc before election only for them to be arrested . Go read the statement by iebc</td>\n",
              "      <td>Security Issues</td>\n",
              "      <td>Security Issues</td>\n",
              "      <td>published</td>\n",
              "      <td>August 2022</td>\n",
              "      <td>2022-07-22 20:42:12</td>\n",
              "      <td>Informative</td>\n",
              "      <td>17</td>\n",
              "      <td>17</td>\n",
              "      <td>20</td>\n",
              "      <td>-8.660254e-01</td>\n",
              "      <td>5.000000e-01</td>\n",
              "      <td>sw</td>\n",
              "      <td>en</td>\n",
              "    </tr>\n",
              "    <tr>\n",
              "      <th>7929</th>\n",
              "      <td>William Samoei Ruto - The 5th. \\n9th August, ngware tumalize hii bizness and focus on the economy. \\n\\n#KenyaDecides #Ruto #GE2022 #The5th</td>\n",
              "      <td>william samoei ruto the august ngware tumalize hii bizness and focus the economy kenyadecides ruto ge theth</td>\n",
              "      <td>William Samoei Ruto - The 5th . 9th August , ngware tumalize hii bizness and focus on the economy . #KenyaDecides #Ruto #GE2022 #The5th</td>\n",
              "      <td>Other</td>\n",
              "      <td>Opinions</td>\n",
              "      <td>published</td>\n",
              "      <td>August 2022</td>\n",
              "      <td>2022-08-01 11:45:45</td>\n",
              "      <td>Non-Informative</td>\n",
              "      <td>7</td>\n",
              "      <td>7</td>\n",
              "      <td>11</td>\n",
              "      <td>2.588190e-01</td>\n",
              "      <td>-9.659258e-01</td>\n",
              "      <td>sw</td>\n",
              "      <td>en</td>\n",
              "    </tr>\n",
              "    <tr>\n",
              "      <th>7997</th>\n",
              "      <td>Raila to be sworn in as president</td>\n",
              "      <td>raila be sworn in as president</td>\n",
              "      <td>Raila to be sworn in as president</td>\n",
              "      <td>Other</td>\n",
              "      <td>Opinions</td>\n",
              "      <td>published</td>\n",
              "      <td>August 2022</td>\n",
              "      <td>2022-08-01 13:46:05</td>\n",
              "      <td>Non-Informative</td>\n",
              "      <td>7</td>\n",
              "      <td>7</td>\n",
              "      <td>13</td>\n",
              "      <td>-2.588190e-01</td>\n",
              "      <td>-9.659258e-01</td>\n",
              "      <td>nl</td>\n",
              "      <td>en</td>\n",
              "    </tr>\n",
              "    <tr>\n",
              "      <th>13353</th>\n",
              "      <td>The latest presidential results updates #KenyaDecides UHURU KENYATTA: 8 062 422 votes (54,28%), RAILA ODINGA 6 660 348 votes (44,84%)</td>\n",
              "      <td>the latest presidential results updates kenyadecides uhuru kenyatta votes raila odinga votes</td>\n",
              "      <td>The latest presidential results updates #KenyaDecides UHURU KENYATTA : 8 062 422 votes ( 54,28 % ) , RAILA ODINGA 6 660 348 votes ( 44,84 % )</td>\n",
              "      <td>Counting and Results</td>\n",
              "      <td>Counting and Results</td>\n",
              "      <td>published</td>\n",
              "      <td>August 2017</td>\n",
              "      <td>2017-08-10 10:00:02</td>\n",
              "      <td>Informative</td>\n",
              "      <td>-2</td>\n",
              "      <td>2</td>\n",
              "      <td>10</td>\n",
              "      <td>5.000000e-01</td>\n",
              "      <td>-8.660254e-01</td>\n",
              "      <td>sw</td>\n",
              "      <td>et</td>\n",
              "    </tr>\n",
              "    <tr>\n",
              "      <th>11929</th>\n",
              "      <td>Mimi nitajitokeza waziwazi mapema na kumchagua kiongozi wangu wa maendeleo na umoja. Pamoja twaweza!!</td>\n",
              "      <td>mimi nitajitokeza waziwazi mapema na kumchagua kiongozi wangu wa maendeleo na umoja pamoja twaweza</td>\n",
              "      <td>Mimi nitajitokeza waziwazi mapema na kumchagua kiongozi wangu wa maendeleo na umoja . Pamoja twaweza ! !</td>\n",
              "      <td>Positive Events</td>\n",
              "      <td>Positive Events</td>\n",
              "      <td>archived</td>\n",
              "      <td>August 2017</td>\n",
              "      <td>2017-08-08 04:37:23</td>\n",
              "      <td>Informative</td>\n",
              "      <td>0</td>\n",
              "      <td>0</td>\n",
              "      <td>4</td>\n",
              "      <td>8.660254e-01</td>\n",
              "      <td>5.000000e-01</td>\n",
              "      <td>sw</td>\n",
              "      <td>sw</td>\n",
              "    </tr>\n",
              "    <tr>\n",
              "      <th>10504</th>\n",
              "      <td>Fellow Kenyans, VOTE PEACE!\\nMind your Tomorrow,. Peace s the only Constant! Don't panic! \\n\\n#kenyadecides #kenyadecides2022 #peacefulelection #peacefulElections #votepeace #votepeace2022 #kenyakwanza #azimiolaumoja #wajackoyahthe5th #babanamartha #williamruto</td>\n",
              "      <td>fellow kenyans vote peace mind your tomorrow peace the only constant don panic kenyadecides kenyadecides peacefulelection peacefulelections votepeace votepeace kenyakwanza azimiolaumoja wajackoyahtheth babanamartha williamruto</td>\n",
              "      <td>Fellow Kenyans , VOTE PEACE ! Mind your Tomorrow , . Peace s the only Constant ! Don't panic ! #kenyadecides #kenyadecides2022 #peacefulelection #peacefulElections #votepeace #votepeace2022 #kenyakwanza #azimiolaumoja #wajackoyahthe5th #babanamartha #williamruto</td>\n",
              "      <td>Other</td>\n",
              "      <td>Opinions</td>\n",
              "      <td>published</td>\n",
              "      <td>August 2022</td>\n",
              "      <td>2022-08-09 03:19:25</td>\n",
              "      <td>Non-Informative</td>\n",
              "      <td>-1</td>\n",
              "      <td>1</td>\n",
              "      <td>3</td>\n",
              "      <td>7.071068e-01</td>\n",
              "      <td>7.071068e-01</td>\n",
              "      <td>sw</td>\n",
              "      <td>en</td>\n",
              "    </tr>\n",
              "    <tr>\n",
              "      <th>12536</th>\n",
              "      <td>No problem untill now#cherenganyi</td>\n",
              "      <td>no problem untill nowcherenganyi</td>\n",
              "      <td>No problem untill now #cherenganyi</td>\n",
              "      <td>Positive Events</td>\n",
              "      <td>Positive Events</td>\n",
              "      <td>published</td>\n",
              "      <td>August 2017</td>\n",
              "      <td>2017-08-08 11:06:24</td>\n",
              "      <td>Informative</td>\n",
              "      <td>0</td>\n",
              "      <td>0</td>\n",
              "      <td>11</td>\n",
              "      <td>2.588190e-01</td>\n",
              "      <td>-9.659258e-01</td>\n",
              "      <td>sw</td>\n",
              "      <td>en</td>\n",
              "    </tr>\n",
              "    <tr>\n",
              "      <th>7464</th>\n",
              "      <td>Raila demand answers on extra IEBC forms\\nhttps://bit.ly/3cNck5E\\n@RailaOdinga @IEBCKenya @WilliamsRuto \\nKenyattas| Martha</td>\n",
              "      <td>raila demand answers extra iebc forms kenyattas martha</td>\n",
              "      <td>Raila demand answers on extra IEBC forms HTTPURL @USER @USER @USER Kenyattas | Martha</td>\n",
              "      <td>Other</td>\n",
              "      <td>Opinions</td>\n",
              "      <td>archived</td>\n",
              "      <td>August 2022</td>\n",
              "      <td>2022-07-28 12:48:17</td>\n",
              "      <td>Non-Informative</td>\n",
              "      <td>11</td>\n",
              "      <td>11</td>\n",
              "      <td>12</td>\n",
              "      <td>1.224647e-16</td>\n",
              "      <td>-1.000000e+00</td>\n",
              "      <td>sw</td>\n",
              "      <td>en</td>\n",
              "    </tr>\n",
              "    <tr>\n",
              "      <th>10447</th>\n",
              "      <td>#KenyanElection #LetPeaceWin #PositivePoliticalEngagement \\n@JusticessP\\n \\n@AfricaAmani\\n #CffGhana</td>\n",
              "      <td>kenyanelection letpeacewin positivepoliticalengagement cffghana</td>\n",
              "      <td>#KenyanElection #LetPeaceWin #PositivePoliticalEngagement @USER @USER #CffGhana</td>\n",
              "      <td>Positive Events</td>\n",
              "      <td>Positive Events</td>\n",
              "      <td>published</td>\n",
              "      <td>August 2022</td>\n",
              "      <td>2022-08-08 22:01:03</td>\n",
              "      <td>Informative</td>\n",
              "      <td>0</td>\n",
              "      <td>0</td>\n",
              "      <td>22</td>\n",
              "      <td>-5.000000e-01</td>\n",
              "      <td>8.660254e-01</td>\n",
              "      <td>sw</td>\n",
              "      <td>en</td>\n",
              "    </tr>\n",
              "    <tr>\n",
              "      <th>8170</th>\n",
              "      <td>\"We do NOT have government by the MAJORITY, we have government by the MAJORITY who PARTICIPATE in VOTING.\" We encourage #youth &amp; every registered voter to go cast their ballot peacefully. #Kenya inastahili HESHIMA na tutaipa heshima TUKITENDA WAJIBU WETU\\n#LetPeaceWin</td>\n",
              "      <td>we do not have government by the majority we have government by the majority who participate in voting we encourage youth every registered voter go cast their ballot peacefully kenya inastahili heshima na tutaipa heshima tukitenda wajibu wetu letpeacewin</td>\n",
              "      <td>\" We do NOT have government by the MAJORITY , we have government by the MAJORITY who PARTICIPATE in VOTING . \" We encourage #youth &amp; every registered voter to go cast their ballot peacefully . #Kenya inastahili HESHIMA na tutaipa heshima TUKITENDA WAJIBU WETU #LetPeaceWin</td>\n",
              "      <td>Other</td>\n",
              "      <td>Opinions</td>\n",
              "      <td>archived</td>\n",
              "      <td>August 2022</td>\n",
              "      <td>2022-08-01 18:51:59</td>\n",
              "      <td>Non-Informative</td>\n",
              "      <td>7</td>\n",
              "      <td>7</td>\n",
              "      <td>18</td>\n",
              "      <td>-1.000000e+00</td>\n",
              "      <td>-1.836970e-16</td>\n",
              "      <td>sw</td>\n",
              "      <td>en</td>\n",
              "    </tr>\n",
              "  </tbody>\n",
              "</table>\n",
              "</div>\n",
              "      <button class=\"colab-df-convert\" onclick=\"convertToInteractive('df-fb38214d-93b2-4d1c-bf77-16170478685b')\"\n",
              "              title=\"Convert this dataframe to an interactive table.\"\n",
              "              style=\"display:none;\">\n",
              "        \n",
              "  <svg xmlns=\"http://www.w3.org/2000/svg\" height=\"24px\"viewBox=\"0 0 24 24\"\n",
              "       width=\"24px\">\n",
              "    <path d=\"M0 0h24v24H0V0z\" fill=\"none\"/>\n",
              "    <path d=\"M18.56 5.44l.94 2.06.94-2.06 2.06-.94-2.06-.94-.94-2.06-.94 2.06-2.06.94zm-11 1L8.5 8.5l.94-2.06 2.06-.94-2.06-.94L8.5 2.5l-.94 2.06-2.06.94zm10 10l.94 2.06.94-2.06 2.06-.94-2.06-.94-.94-2.06-.94 2.06-2.06.94z\"/><path d=\"M17.41 7.96l-1.37-1.37c-.4-.4-.92-.59-1.43-.59-.52 0-1.04.2-1.43.59L10.3 9.45l-7.72 7.72c-.78.78-.78 2.05 0 2.83L4 21.41c.39.39.9.59 1.41.59.51 0 1.02-.2 1.41-.59l7.78-7.78 2.81-2.81c.8-.78.8-2.07 0-2.86zM5.41 20L4 18.59l7.72-7.72 1.47 1.35L5.41 20z\"/>\n",
              "  </svg>\n",
              "      </button>\n",
              "      \n",
              "  <style>\n",
              "    .colab-df-container {\n",
              "      display:flex;\n",
              "      flex-wrap:wrap;\n",
              "      gap: 12px;\n",
              "    }\n",
              "\n",
              "    .colab-df-convert {\n",
              "      background-color: #E8F0FE;\n",
              "      border: none;\n",
              "      border-radius: 50%;\n",
              "      cursor: pointer;\n",
              "      display: none;\n",
              "      fill: #1967D2;\n",
              "      height: 32px;\n",
              "      padding: 0 0 0 0;\n",
              "      width: 32px;\n",
              "    }\n",
              "\n",
              "    .colab-df-convert:hover {\n",
              "      background-color: #E2EBFA;\n",
              "      box-shadow: 0px 1px 2px rgba(60, 64, 67, 0.3), 0px 1px 3px 1px rgba(60, 64, 67, 0.15);\n",
              "      fill: #174EA6;\n",
              "    }\n",
              "\n",
              "    [theme=dark] .colab-df-convert {\n",
              "      background-color: #3B4455;\n",
              "      fill: #D2E3FC;\n",
              "    }\n",
              "\n",
              "    [theme=dark] .colab-df-convert:hover {\n",
              "      background-color: #434B5C;\n",
              "      box-shadow: 0px 1px 3px 1px rgba(0, 0, 0, 0.15);\n",
              "      filter: drop-shadow(0px 1px 2px rgba(0, 0, 0, 0.3));\n",
              "      fill: #FFFFFF;\n",
              "    }\n",
              "  </style>\n",
              "\n",
              "      <script>\n",
              "        const buttonEl =\n",
              "          document.querySelector('#df-fb38214d-93b2-4d1c-bf77-16170478685b button.colab-df-convert');\n",
              "        buttonEl.style.display =\n",
              "          google.colab.kernel.accessAllowed ? 'block' : 'none';\n",
              "\n",
              "        async function convertToInteractive(key) {\n",
              "          const element = document.querySelector('#df-fb38214d-93b2-4d1c-bf77-16170478685b');\n",
              "          const dataTable =\n",
              "            await google.colab.kernel.invokeFunction('convertToInteractive',\n",
              "                                                     [key], {});\n",
              "          if (!dataTable) return;\n",
              "\n",
              "          const docLinkHtml = 'Like what you see? Visit the ' +\n",
              "            '<a target=\"_blank\" href=https://colab.research.google.com/notebooks/data_table.ipynb>data table notebook</a>'\n",
              "            + ' to learn more about interactive tables.';\n",
              "          element.innerHTML = '';\n",
              "          dataTable['output_type'] = 'display_data';\n",
              "          await google.colab.output.renderOutput(dataTable, element);\n",
              "          const docLink = document.createElement('div');\n",
              "          docLink.innerHTML = docLinkHtml;\n",
              "          element.appendChild(docLink);\n",
              "        }\n",
              "      </script>\n",
              "    </div>\n",
              "  </div>\n",
              "  "
            ]
          },
          "metadata": {},
          "execution_count": 133
        }
      ]
    },
    {
      "cell_type": "code",
      "source": [
        "# Get the test and validation data languages\n",
        "test_data['lang'] = [s['label'] for s in pipe(test_data.clean_text.values.tolist(), truncation=True, max_length=128)]"
      ],
      "metadata": {
        "id": "r9f-2s2vxpYF"
      },
      "execution_count": null,
      "outputs": []
    },
    {
      "cell_type": "code",
      "source": [
        "val_data['lang'] = [s['label'] for s in pipe(val_data.clean_text.values.tolist(), truncation=True, max_length=128)]"
      ],
      "metadata": {
        "id": "w0iVwHylyA8x"
      },
      "execution_count": null,
      "outputs": []
    },
    {
      "cell_type": "code",
      "source": [
        "print(test_data[test_data['lang'] != 'en'].shape, val_data[val_data['lang'] != 'en'].shape)"
      ],
      "metadata": {
        "colab": {
          "base_uri": "https://localhost:8080/"
        },
        "id": "CrOjflSpyWZZ",
        "outputId": "9eba57a5-575c-454d-e402-aecda5ba7821"
      },
      "execution_count": null,
      "outputs": [
        {
          "output_type": "stream",
          "name": "stdout",
          "text": [
            "(490, 21) (500, 21)\n"
          ]
        }
      ]
    },
    {
      "cell_type": "code",
      "source": [
        "non_english_test_data = test_data[test_data['lang'] != 'en']"
      ],
      "metadata": {
        "id": "YAe5nzwEymF8"
      },
      "execution_count": null,
      "outputs": []
    },
    {
      "cell_type": "code",
      "source": [
        "non_english_val_data = val_data[val_data['lang'] != 'en']"
      ],
      "metadata": {
        "id": "uxleoYxhyonC"
      },
      "execution_count": null,
      "outputs": []
    },
    {
      "cell_type": "code",
      "source": [
        "non_english_test_data.sample(5)"
      ],
      "metadata": {
        "colab": {
          "base_uri": "https://localhost:8080/",
          "height": 1000
        },
        "id": "fA7Y0KS0y6yr",
        "outputId": "a5904745-9dfa-4faa-81de-07f39e407aaa"
      },
      "execution_count": null,
      "outputs": [
        {
          "output_type": "execute_result",
          "data": {
            "text/plain": [
              "                                                                                                                                                                                                                                                                                          text  \\\n",
              "707   IEBC chair Chebukati opted out of National Multi-Sectoral Consultative Forum (NMSCF)  and the Technical Working Committee (TWC) on Election Preparedness. led by Kibicho and Mucheru\\nThe deep state wanted to  take full  charge of elections\\nMucheru once told us to vote and go home   \n",
              "679                                                                                         Our Man Dennis Itumbi has given us Finals of Presidential Election Result on HNIB  Center, Nairobi.\\nWilliam Ruto has garnered 51.39&\\nRaila Odinga has garnered 48.11%\\nH.E @WilliamsRuto the 5th   \n",
              "1155                                What the Hell is this!!......NTV, KTN, CITIZEN TV, K24 and ITUMBI ,jeovah wanyonyi TALLYING CENTRE all transmitting Different results for both Raila and Ruto......the IEBC must act and act fast to stabilize results capture......is someone listening??   \n",
              "1408                                                                                                              Farhia Haji declares run for Wajir woman representative with others also declaring their interest: Abdia Baraka, Fatuma Gedi, Halima Shina and the incumbent Fatuma Ibrahim.   \n",
              "1409                                                                                                                      When guys are found with electoral material,IEBC is an independent body. When lights go off, KenyaPower is not independent,  Uhuru switched off....these UDA conmen!   \n",
              "\n",
              "                                                                                                                                                                                                                                                        clean_text  \\\n",
              "707   iebc chair chebukati opted out of national sectoral consultative forum nmscf and the technical working committee twc election preparedness led by kibicho and mucheru the deep state wanted take full charge of elections mucheru once told vote and go home   \n",
              "679                                                                                                             our man dennis itumbi has given finals of presidential election result hnib center nairobi william ruto has garnered raila odinga has garnered the   \n",
              "1155                                      what the hell this ntv ktn citizen tv k and itumbi jeovah wanyonyi tallying centre all transmitting different results for both raila and ruto the iebc must act and act fast stabilize results capture someone listening   \n",
              "1408                                                                                      farhia haji declares run for wajir woman representative with others also declaring their interest abdia baraka fatuma gedi halima shina and the incumbent fatuma ibrahim   \n",
              "1409                                                                                                        when guys are found with electoral material iebc an independent body when lights go off kenyapower not independent uhuru switched off these uda conmen   \n",
              "\n",
              "                                                                                                                                                                                                                                                                               normalized_text  \\\n",
              "707   IEBC chair Chebukati opted out of National Multi-Sectoral Consultative Forum ( NMSCF ) and the Technical Working Committee ( TWC ) on Election Preparedness . led by Kibicho and Mucheru The deep state wanted to take full charge of elections Mucheru once told us to vote and go home   \n",
              "679                                                                                               Our Man Dennis Itumbi has given us Finals of Presidential Election Result on HNIB Center , Nairobi . William Ruto has garnered 51.39 & Raila Odinga has garnered 48.11 % H . E @USER the 5th   \n",
              "1155                           What the Hell is this ! ! ... NTV , KTN , CITIZEN TV , K24 and ITUMBI , jeovah wanyonyi TALLYING CENTRE all transmitting Different results for both Raila and Ruto ... the IEBC must act and act fast to stabilize results capture ... is someone listening ? ?   \n",
              "1408                                                                                                          Farhia Haji declares run for Wajir woman representative with others also declaring their interest : Abdia Baraka , Fatuma Gedi , Halima Shina and the incumbent Fatuma Ibrahim .   \n",
              "1409                                                                                                                When guys are found with electoral material , IEBC is an independent body . When lights go off , KenyaPower is not independent , Uhuru switched off ... these UDA conmen !   \n",
              "\n",
              "              merged_label                 label     status Election Date  \\\n",
              "707                  Other              Opinions  published   August 2022   \n",
              "679   Counting and Results  Counting and Results      draft   August 2022   \n",
              "1155  Counting and Results  Counting and Results   archived   August 2022   \n",
              "1408     Political Rallies     Political Rallies  published   August 2017   \n",
              "1409                 Other              Opinions  published   August 2022   \n",
              "\n",
              "                    date informative_label  election_distance  ...  hour  \\\n",
              "707  2022-07-24 06:55:52   Non-Informative                 15  ...     6   \n",
              "679  2022-08-11 02:23:37       Informative                 -3  ...     2   \n",
              "1155 2022-08-10 13:30:51       Informative                 -2  ...    13   \n",
              "1408 2017-08-05 12:25:57       Informative                  3  ...    12   \n",
              "1409 2022-07-26 18:31:28   Non-Informative                 13  ...    18   \n",
              "\n",
              "          hour_sin      hour_cos  informative_target  \\\n",
              "707   1.000000e+00  6.123234e-17                   1   \n",
              "679   5.000000e-01  8.660254e-01                   0   \n",
              "1155 -2.588190e-01 -9.659258e-01                   0   \n",
              "1408  1.224647e-16 -1.000000e+00                   0   \n",
              "1409 -1.000000e+00 -1.836970e-16                   1   \n",
              "\n",
              "                                                                                                                                                                                                                                                                                                                                                                                                                                                                                                                                                                                                                                   context  \\\n",
              "707                                                                                                                                                    This push na pull between IEBC vs DCI and NPS has reminded me of this woman defending Chebukati . Her tonal variations and expressions [SEP] The unfolding spat between the electoral agency , IEBC , and the Police over the arrest of the election officials is a clear show of how the government is determined to interfere with the August 9th elections . [SEP] Chebukati the man is putting us the voters in an worrying situation , he's playing with Kenyan lives . [SEP]    \n",
              "679            At this point I'm not sure media houses have an actual tally workforce ... They'll just i + + and x + = 1 random numbers until IEBC comes out with the final results . [SEP] Joseph Cherorot of the UDA party Wins the Kipkelion East MP by garnering 36,066 votes to beat the incumbent Joseph Limo who garnered 11,268 votes . #IEBC #KenyaDecides2022 [SEP] The weakest link in Kenya's elections is IEBC . It is time we demanded value for money from this institution . Kenya's elections at Kshs 2,500 per head compared to the Indian ones at Kshs 65 per head are among the most expensive on earth . @USER [SEP]    \n",
              "1155                                                                                                                                                                                                                                           With only 160 34As per constituency on average , if theres ten of you , thats only 16 per person . It should take you no more than an hour . We should be done by nightfall . Here is the portal link HTTPURL [SEP] Actually IEBC iko way ahead ... Results zitaannounciwa before wamalize their tallying [SEP] You can even watch IEBC but the fact remains the same . Baba has won [SEP]    \n",
              "1408                                                                                        Narok Deputy Governor Evalyn Aruasa and Governor Samuel Tunai led the jubilee team in showhdown against Ntutu in Narok [SEP] NASA presidential running mate Kalonzo Musyoka and co-principals Musalia Mudavadi and Moses Wetangula castigated the government over what they termed as empty promises to Kenyans . [SEP] President Uhuru Kenyatta says he is confident he will give NASA presidential candidate Raila Odinga a resounding defeat during next week's polls , telling him it is time to retire and handover to the youth . [SEP]    \n",
              "1409  Whom are you voting coming elections ? Like - William Ruto Retweet - Raila Odinga [SEP] #PresidentialDebatesKe2022 As an incumbent Ruto was unhappy with the Maraga team . He quotes Muite on supporting government . But he has not yet been asked why the servers were not opened by the IEBC - the thief terminology not withstanding of the DP . [SEP] What's your input to show your commitment to a Peaceful #GE22 ? As youth , be on the front line to spearhead this campaign . Speak out , mobilize , act . Peace starts with you . Do not be misled into violence . Turn out in numbers , vote , be a peace champ ! [SEP]    \n",
              "\n",
              "     election_distance_transformed  negative   neutral  positive  lang  \n",
              "707                       0.899399  0.041608  0.114340  0.844052    sw  \n",
              "679                       0.569069  0.086845  0.823308  0.089847    sw  \n",
              "1155                      0.546547  0.842445  0.143067  0.014488    sw  \n",
              "1408                      0.569069  0.055464  0.730492  0.214044    sw  \n",
              "1409                      0.815315  0.307899  0.421396  0.270705    sw  \n",
              "\n",
              "[5 rows x 21 columns]"
            ],
            "text/html": [
              "\n",
              "  <div id=\"df-703d4791-703c-4185-9029-106fcfaf3685\">\n",
              "    <div class=\"colab-df-container\">\n",
              "      <div>\n",
              "<style scoped>\n",
              "    .dataframe tbody tr th:only-of-type {\n",
              "        vertical-align: middle;\n",
              "    }\n",
              "\n",
              "    .dataframe tbody tr th {\n",
              "        vertical-align: top;\n",
              "    }\n",
              "\n",
              "    .dataframe thead th {\n",
              "        text-align: right;\n",
              "    }\n",
              "</style>\n",
              "<table border=\"1\" class=\"dataframe\">\n",
              "  <thead>\n",
              "    <tr style=\"text-align: right;\">\n",
              "      <th></th>\n",
              "      <th>text</th>\n",
              "      <th>clean_text</th>\n",
              "      <th>normalized_text</th>\n",
              "      <th>merged_label</th>\n",
              "      <th>label</th>\n",
              "      <th>status</th>\n",
              "      <th>Election Date</th>\n",
              "      <th>date</th>\n",
              "      <th>informative_label</th>\n",
              "      <th>election_distance</th>\n",
              "      <th>...</th>\n",
              "      <th>hour</th>\n",
              "      <th>hour_sin</th>\n",
              "      <th>hour_cos</th>\n",
              "      <th>informative_target</th>\n",
              "      <th>context</th>\n",
              "      <th>election_distance_transformed</th>\n",
              "      <th>negative</th>\n",
              "      <th>neutral</th>\n",
              "      <th>positive</th>\n",
              "      <th>lang</th>\n",
              "    </tr>\n",
              "  </thead>\n",
              "  <tbody>\n",
              "    <tr>\n",
              "      <th>707</th>\n",
              "      <td>IEBC chair Chebukati opted out of National Multi-Sectoral Consultative Forum (NMSCF)  and the Technical Working Committee (TWC) on Election Preparedness. led by Kibicho and Mucheru\\nThe deep state wanted to  take full  charge of elections\\nMucheru once told us to vote and go home</td>\n",
              "      <td>iebc chair chebukati opted out of national sectoral consultative forum nmscf and the technical working committee twc election preparedness led by kibicho and mucheru the deep state wanted take full charge of elections mucheru once told vote and go home</td>\n",
              "      <td>IEBC chair Chebukati opted out of National Multi-Sectoral Consultative Forum ( NMSCF ) and the Technical Working Committee ( TWC ) on Election Preparedness . led by Kibicho and Mucheru The deep state wanted to take full charge of elections Mucheru once told us to vote and go home</td>\n",
              "      <td>Other</td>\n",
              "      <td>Opinions</td>\n",
              "      <td>published</td>\n",
              "      <td>August 2022</td>\n",
              "      <td>2022-07-24 06:55:52</td>\n",
              "      <td>Non-Informative</td>\n",
              "      <td>15</td>\n",
              "      <td>...</td>\n",
              "      <td>6</td>\n",
              "      <td>1.000000e+00</td>\n",
              "      <td>6.123234e-17</td>\n",
              "      <td>1</td>\n",
              "      <td>This push na pull between IEBC vs DCI and NPS has reminded me of this woman defending Chebukati . Her tonal variations and expressions [SEP] The unfolding spat between the electoral agency , IEBC , and the Police over the arrest of the election officials is a clear show of how the government is determined to interfere with the August 9th elections . [SEP] Chebukati the man is putting us the voters in an worrying situation , he's playing with Kenyan lives . [SEP]</td>\n",
              "      <td>0.899399</td>\n",
              "      <td>0.041608</td>\n",
              "      <td>0.114340</td>\n",
              "      <td>0.844052</td>\n",
              "      <td>sw</td>\n",
              "    </tr>\n",
              "    <tr>\n",
              "      <th>679</th>\n",
              "      <td>Our Man Dennis Itumbi has given us Finals of Presidential Election Result on HNIB  Center, Nairobi.\\nWilliam Ruto has garnered 51.39&amp;\\nRaila Odinga has garnered 48.11%\\nH.E @WilliamsRuto the 5th</td>\n",
              "      <td>our man dennis itumbi has given finals of presidential election result hnib center nairobi william ruto has garnered raila odinga has garnered the</td>\n",
              "      <td>Our Man Dennis Itumbi has given us Finals of Presidential Election Result on HNIB Center , Nairobi . William Ruto has garnered 51.39 &amp; Raila Odinga has garnered 48.11 % H . E @USER the 5th</td>\n",
              "      <td>Counting and Results</td>\n",
              "      <td>Counting and Results</td>\n",
              "      <td>draft</td>\n",
              "      <td>August 2022</td>\n",
              "      <td>2022-08-11 02:23:37</td>\n",
              "      <td>Informative</td>\n",
              "      <td>-3</td>\n",
              "      <td>...</td>\n",
              "      <td>2</td>\n",
              "      <td>5.000000e-01</td>\n",
              "      <td>8.660254e-01</td>\n",
              "      <td>0</td>\n",
              "      <td>At this point I'm not sure media houses have an actual tally workforce ... They'll just i + + and x + = 1 random numbers until IEBC comes out with the final results . [SEP] Joseph Cherorot of the UDA party Wins the Kipkelion East MP by garnering 36,066 votes to beat the incumbent Joseph Limo who garnered 11,268 votes . #IEBC #KenyaDecides2022 [SEP] The weakest link in Kenya's elections is IEBC . It is time we demanded value for money from this institution . Kenya's elections at Kshs 2,500 per head compared to the Indian ones at Kshs 65 per head are among the most expensive on earth . @USER [SEP]</td>\n",
              "      <td>0.569069</td>\n",
              "      <td>0.086845</td>\n",
              "      <td>0.823308</td>\n",
              "      <td>0.089847</td>\n",
              "      <td>sw</td>\n",
              "    </tr>\n",
              "    <tr>\n",
              "      <th>1155</th>\n",
              "      <td>What the Hell is this!!......NTV, KTN, CITIZEN TV, K24 and ITUMBI ,jeovah wanyonyi TALLYING CENTRE all transmitting Different results for both Raila and Ruto......the IEBC must act and act fast to stabilize results capture......is someone listening??</td>\n",
              "      <td>what the hell this ntv ktn citizen tv k and itumbi jeovah wanyonyi tallying centre all transmitting different results for both raila and ruto the iebc must act and act fast stabilize results capture someone listening</td>\n",
              "      <td>What the Hell is this ! ! ... NTV , KTN , CITIZEN TV , K24 and ITUMBI , jeovah wanyonyi TALLYING CENTRE all transmitting Different results for both Raila and Ruto ... the IEBC must act and act fast to stabilize results capture ... is someone listening ? ?</td>\n",
              "      <td>Counting and Results</td>\n",
              "      <td>Counting and Results</td>\n",
              "      <td>archived</td>\n",
              "      <td>August 2022</td>\n",
              "      <td>2022-08-10 13:30:51</td>\n",
              "      <td>Informative</td>\n",
              "      <td>-2</td>\n",
              "      <td>...</td>\n",
              "      <td>13</td>\n",
              "      <td>-2.588190e-01</td>\n",
              "      <td>-9.659258e-01</td>\n",
              "      <td>0</td>\n",
              "      <td>With only 160 34As per constituency on average , if theres ten of you , thats only 16 per person . It should take you no more than an hour . We should be done by nightfall . Here is the portal link HTTPURL [SEP] Actually IEBC iko way ahead ... Results zitaannounciwa before wamalize their tallying [SEP] You can even watch IEBC but the fact remains the same . Baba has won [SEP]</td>\n",
              "      <td>0.546547</td>\n",
              "      <td>0.842445</td>\n",
              "      <td>0.143067</td>\n",
              "      <td>0.014488</td>\n",
              "      <td>sw</td>\n",
              "    </tr>\n",
              "    <tr>\n",
              "      <th>1408</th>\n",
              "      <td>Farhia Haji declares run for Wajir woman representative with others also declaring their interest: Abdia Baraka, Fatuma Gedi, Halima Shina and the incumbent Fatuma Ibrahim.</td>\n",
              "      <td>farhia haji declares run for wajir woman representative with others also declaring their interest abdia baraka fatuma gedi halima shina and the incumbent fatuma ibrahim</td>\n",
              "      <td>Farhia Haji declares run for Wajir woman representative with others also declaring their interest : Abdia Baraka , Fatuma Gedi , Halima Shina and the incumbent Fatuma Ibrahim .</td>\n",
              "      <td>Political Rallies</td>\n",
              "      <td>Political Rallies</td>\n",
              "      <td>published</td>\n",
              "      <td>August 2017</td>\n",
              "      <td>2017-08-05 12:25:57</td>\n",
              "      <td>Informative</td>\n",
              "      <td>3</td>\n",
              "      <td>...</td>\n",
              "      <td>12</td>\n",
              "      <td>1.224647e-16</td>\n",
              "      <td>-1.000000e+00</td>\n",
              "      <td>0</td>\n",
              "      <td>Narok Deputy Governor Evalyn Aruasa and Governor Samuel Tunai led the jubilee team in showhdown against Ntutu in Narok [SEP] NASA presidential running mate Kalonzo Musyoka and co-principals Musalia Mudavadi and Moses Wetangula castigated the government over what they termed as empty promises to Kenyans . [SEP] President Uhuru Kenyatta says he is confident he will give NASA presidential candidate Raila Odinga a resounding defeat during next week's polls , telling him it is time to retire and handover to the youth . [SEP]</td>\n",
              "      <td>0.569069</td>\n",
              "      <td>0.055464</td>\n",
              "      <td>0.730492</td>\n",
              "      <td>0.214044</td>\n",
              "      <td>sw</td>\n",
              "    </tr>\n",
              "    <tr>\n",
              "      <th>1409</th>\n",
              "      <td>When guys are found with electoral material,IEBC is an independent body. When lights go off, KenyaPower is not independent,  Uhuru switched off....these UDA conmen!</td>\n",
              "      <td>when guys are found with electoral material iebc an independent body when lights go off kenyapower not independent uhuru switched off these uda conmen</td>\n",
              "      <td>When guys are found with electoral material , IEBC is an independent body . When lights go off , KenyaPower is not independent , Uhuru switched off ... these UDA conmen !</td>\n",
              "      <td>Other</td>\n",
              "      <td>Opinions</td>\n",
              "      <td>published</td>\n",
              "      <td>August 2022</td>\n",
              "      <td>2022-07-26 18:31:28</td>\n",
              "      <td>Non-Informative</td>\n",
              "      <td>13</td>\n",
              "      <td>...</td>\n",
              "      <td>18</td>\n",
              "      <td>-1.000000e+00</td>\n",
              "      <td>-1.836970e-16</td>\n",
              "      <td>1</td>\n",
              "      <td>Whom are you voting coming elections ? Like - William Ruto Retweet - Raila Odinga [SEP] #PresidentialDebatesKe2022 As an incumbent Ruto was unhappy with the Maraga team . He quotes Muite on supporting government . But he has not yet been asked why the servers were not opened by the IEBC - the thief terminology not withstanding of the DP . [SEP] What's your input to show your commitment to a Peaceful #GE22 ? As youth , be on the front line to spearhead this campaign . Speak out , mobilize , act . Peace starts with you . Do not be misled into violence . Turn out in numbers , vote , be a peace champ ! [SEP]</td>\n",
              "      <td>0.815315</td>\n",
              "      <td>0.307899</td>\n",
              "      <td>0.421396</td>\n",
              "      <td>0.270705</td>\n",
              "      <td>sw</td>\n",
              "    </tr>\n",
              "  </tbody>\n",
              "</table>\n",
              "<p>5 rows × 21 columns</p>\n",
              "</div>\n",
              "      <button class=\"colab-df-convert\" onclick=\"convertToInteractive('df-703d4791-703c-4185-9029-106fcfaf3685')\"\n",
              "              title=\"Convert this dataframe to an interactive table.\"\n",
              "              style=\"display:none;\">\n",
              "        \n",
              "  <svg xmlns=\"http://www.w3.org/2000/svg\" height=\"24px\"viewBox=\"0 0 24 24\"\n",
              "       width=\"24px\">\n",
              "    <path d=\"M0 0h24v24H0V0z\" fill=\"none\"/>\n",
              "    <path d=\"M18.56 5.44l.94 2.06.94-2.06 2.06-.94-2.06-.94-.94-2.06-.94 2.06-2.06.94zm-11 1L8.5 8.5l.94-2.06 2.06-.94-2.06-.94L8.5 2.5l-.94 2.06-2.06.94zm10 10l.94 2.06.94-2.06 2.06-.94-2.06-.94-.94-2.06-.94 2.06-2.06.94z\"/><path d=\"M17.41 7.96l-1.37-1.37c-.4-.4-.92-.59-1.43-.59-.52 0-1.04.2-1.43.59L10.3 9.45l-7.72 7.72c-.78.78-.78 2.05 0 2.83L4 21.41c.39.39.9.59 1.41.59.51 0 1.02-.2 1.41-.59l7.78-7.78 2.81-2.81c.8-.78.8-2.07 0-2.86zM5.41 20L4 18.59l7.72-7.72 1.47 1.35L5.41 20z\"/>\n",
              "  </svg>\n",
              "      </button>\n",
              "      \n",
              "  <style>\n",
              "    .colab-df-container {\n",
              "      display:flex;\n",
              "      flex-wrap:wrap;\n",
              "      gap: 12px;\n",
              "    }\n",
              "\n",
              "    .colab-df-convert {\n",
              "      background-color: #E8F0FE;\n",
              "      border: none;\n",
              "      border-radius: 50%;\n",
              "      cursor: pointer;\n",
              "      display: none;\n",
              "      fill: #1967D2;\n",
              "      height: 32px;\n",
              "      padding: 0 0 0 0;\n",
              "      width: 32px;\n",
              "    }\n",
              "\n",
              "    .colab-df-convert:hover {\n",
              "      background-color: #E2EBFA;\n",
              "      box-shadow: 0px 1px 2px rgba(60, 64, 67, 0.3), 0px 1px 3px 1px rgba(60, 64, 67, 0.15);\n",
              "      fill: #174EA6;\n",
              "    }\n",
              "\n",
              "    [theme=dark] .colab-df-convert {\n",
              "      background-color: #3B4455;\n",
              "      fill: #D2E3FC;\n",
              "    }\n",
              "\n",
              "    [theme=dark] .colab-df-convert:hover {\n",
              "      background-color: #434B5C;\n",
              "      box-shadow: 0px 1px 3px 1px rgba(0, 0, 0, 0.15);\n",
              "      filter: drop-shadow(0px 1px 2px rgba(0, 0, 0, 0.3));\n",
              "      fill: #FFFFFF;\n",
              "    }\n",
              "  </style>\n",
              "\n",
              "      <script>\n",
              "        const buttonEl =\n",
              "          document.querySelector('#df-703d4791-703c-4185-9029-106fcfaf3685 button.colab-df-convert');\n",
              "        buttonEl.style.display =\n",
              "          google.colab.kernel.accessAllowed ? 'block' : 'none';\n",
              "\n",
              "        async function convertToInteractive(key) {\n",
              "          const element = document.querySelector('#df-703d4791-703c-4185-9029-106fcfaf3685');\n",
              "          const dataTable =\n",
              "            await google.colab.kernel.invokeFunction('convertToInteractive',\n",
              "                                                     [key], {});\n",
              "          if (!dataTable) return;\n",
              "\n",
              "          const docLinkHtml = 'Like what you see? Visit the ' +\n",
              "            '<a target=\"_blank\" href=https://colab.research.google.com/notebooks/data_table.ipynb>data table notebook</a>'\n",
              "            + ' to learn more about interactive tables.';\n",
              "          element.innerHTML = '';\n",
              "          dataTable['output_type'] = 'display_data';\n",
              "          await google.colab.output.renderOutput(dataTable, element);\n",
              "          const docLink = document.createElement('div');\n",
              "          docLink.innerHTML = docLinkHtml;\n",
              "          element.appendChild(docLink);\n",
              "        }\n",
              "      </script>\n",
              "    </div>\n",
              "  </div>\n",
              "  "
            ]
          },
          "metadata": {},
          "execution_count": 139
        }
      ]
    },
    {
      "cell_type": "code",
      "source": [
        "tests = [\"according the independent electoral and boundaries commission the information about missing kenya integrated electoral management system kits false and misleading\"]"
      ],
      "metadata": {
        "id": "BkpVomjh28DV"
      },
      "execution_count": null,
      "outputs": []
    },
    {
      "cell_type": "code",
      "source": [
        "model_preds = [s['label'] for s in pipe(tests, truncation=True, max_length=128)]"
      ],
      "metadata": {
        "id": "BFfylSUgRs9v"
      },
      "execution_count": null,
      "outputs": []
    },
    {
      "cell_type": "code",
      "source": [
        "model_preds"
      ],
      "metadata": {
        "colab": {
          "base_uri": "https://localhost:8080/"
        },
        "id": "VnEKYlZESNJv",
        "outputId": "84162d83-56c7-4d31-8979-b65ee175cd62"
      },
      "execution_count": null,
      "outputs": [
        {
          "output_type": "execute_result",
          "data": {
            "text/plain": [
              "['en']"
            ]
          },
          "metadata": {},
          "execution_count": 142
        }
      ]
    },
    {
      "cell_type": "code",
      "source": [
        "import re\n",
        "import string\n",
        "from nltk.stem import WordNetLemmatizer\n",
        "from nltk.stem.porter import *\n",
        "\n",
        "# Util functions for cleaning the data\n",
        "def replace_newline(text):\n",
        "    '''\n",
        "        Replace all occurences of new line delimeter in the text with space\n",
        "    '''\n",
        "    cleaned_text = text.replace(\"\\n\", \" \")\n",
        "    return cleaned_text\n",
        "\n",
        "# Remove unicode\n",
        "def removeUnicode(text):\n",
        "    \"\"\" Removes unicode strings like \"\\u002c\" and \"x96\" \"\"\"\n",
        "    text = re.sub(r'(\\\\u[0-9A-Fa-f]+)',r'', text)\n",
        "    text = re.sub(r'[^\\x00-\\x7f]',r'',text)\n",
        "    return text\n",
        "\n",
        "# Replacing URLs\n",
        "def replaceURL(text):\n",
        "    \"\"\" Replaces url address with \"url\" \"\"\"\n",
        "    text = re.sub('((www\\.[^\\s]+)|(https?://[^\\s]+))','url',text)\n",
        "    text = re.sub(r'#([^\\s]+)', r'\\1', text)\n",
        "    return text\n",
        "\n",
        "# Replace user mentions e.g. @\n",
        "def replaceAtUser(text):\n",
        "    \"\"\" Replaces \"@user\" with \"atUser\" \"\"\"\n",
        "    text = re.sub('@[^\\s]+','usr',text)\n",
        "    return text\n",
        "\n",
        "# Remove hashtags infront of words\n",
        "def removeHashtagInFrontOfWord(text):\n",
        "    \"\"\" Removes hastag in front of a word \"\"\"\n",
        "    text = re.sub(r'#([^\\s]+)', r'\\1', text)\n",
        "    return text\n",
        "\n",
        "def replace_numbers(text):\n",
        "    cleaned_text = re.sub(r'[0-9]', '', text)\n",
        "    return cleaned_text\n",
        "\n",
        "def removeEmoticons(text):\n",
        "    \"\"\" Removes emoticons from text \"\"\"\n",
        "    text = re.sub(':\\)|;\\)|:-\\)|\\(-:|:-D|=D|:P|xD|X-p|\\^\\^|:-*|\\^\\.\\^|\\^\\-\\^|\\^\\_\\^|\\,-\\)|\\)-:|:\\'\\(|:\\(|:-\\(|:\\S|T\\.T|\\.\\_\\.|:<|:-\\S|:-<|\\*\\-\\*|:O|=O|=\\-O|O\\.o|XO|O\\_O|:-\\@|=/|:/|X\\-\\(|>\\.<|>=\\(|D:', '', text)\n",
        "    return text\n",
        "\n",
        "def replaceMultiExclamationMark(text):\n",
        "    \"\"\" Replaces repetitions of exlamation marks \"\"\"\n",
        "    text = re.sub(r\"(\\!)\\1+\", ' multiExclamation ', text)\n",
        "    return text\n",
        "\n",
        "def replaceMultiQuestionMark(text):\n",
        "    \"\"\" Replaces repetitions of question marks \"\"\"\n",
        "    text = re.sub(r\"(\\?)\\1+\", ' multiQuestion ', text)\n",
        "    return text\n",
        "\n",
        "def replaceMultiStopMark(text):\n",
        "    \"\"\" Replaces repetitions of stop marks \"\"\"\n",
        "    text = re.sub(r\"(\\.)\\1+\", ' multiStop ', text)\n",
        "    return text\n",
        "\n",
        "def remove_punctuation(text):\n",
        "    # Remove punctuation between words\n",
        "    text = re.sub(r'(\\w)([^\\w\\s]+)(?=\\w)', r'\\1 \\2 ', text)\n",
        "    # Remove remaining punctuation\n",
        "    text = re.sub(r'[^\\w\\s]', '', text)\n",
        "    translator = str.maketrans('', '', string.punctuation)\n",
        "    return text.translate(translator)\n",
        "\n",
        "def lower_case(text):\n",
        "    # remove newline and tab characters\n",
        "    text = text.replace(\"\\n\",\"\").replace(\"\\t\",\"\")\n",
        "    # strip whitespace\n",
        "    text = text.strip()\n",
        "    # lowercase\n",
        "    text = text.lower()\n",
        "    return text\n",
        "\n",
        "def remove_stopwords(text, tokenizer, stop_words):\n",
        "     # Tokenize the text into words\n",
        "    tokens = tokenizer.tokenize(text)\n",
        "    filtered_tokens = [word for word in tokens if word not in stop_words]\n",
        "\n",
        "    # #     # Lemmatize words\n",
        "    # lemmatizer = WordNetLemmatizer()\n",
        "    # cleaned_text = [lemmatizer.lemmatize(word) for word in filtered_tokens]\n",
        "    # stemmer = PorterStemmer()\n",
        "    # cleaned_text = [stemmer.stem(word) for word in filtered_tokens]\n",
        "\n",
        "    # Join the cleaned tokens back into a single string\n",
        "    cleaned_text = ' '.join(filtered_tokens)\n",
        "    return cleaned_text\n",
        "\n",
        "def remove_twitter_hashtags(text):\n",
        "  # Regular expression pattern to match Twitter hashtags\n",
        "  hashtag_pattern = re.compile(r'#\\w+')\n",
        "\n",
        "  # Remove hashtags from the text\n",
        "  text_without_hashtags = re.sub(hashtag_pattern, '', text)\n",
        "\n",
        "  return text_without_hashtags\n",
        "\n",
        "def clean_text(text, tokenizer, stop_words):\n",
        "    text = replace_newline(text)\n",
        "    text = removeUnicode(text)\n",
        "    text = replace_numbers(text)\n",
        "    text = remove_twitter_hashtags(text)\n",
        "    text = replaceURL(text)\n",
        "    text = replaceAtUser(text)\n",
        "    text = removeEmoticons(text)\n",
        "    text = replaceMultiExclamationMark(text)\n",
        "    text = replaceMultiQuestionMark(text)\n",
        "    text = replaceMultiStopMark(text)\n",
        "    text = remove_punctuation(text)\n",
        "    text = lower_case(text)\n",
        "    # text = remove_stopwords(text, tokenizer, stop_words)\n",
        "    return text"
      ],
      "metadata": {
        "id": "Zruzco7ASOZG"
      },
      "execution_count": null,
      "outputs": []
    },
    {
      "cell_type": "code",
      "source": [
        "test_samples = list(model_data['text'].sample(5))\n",
        "test_samples"
      ],
      "metadata": {
        "id": "L3NkACwvScCT",
        "colab": {
          "base_uri": "https://localhost:8080/"
        },
        "outputId": "1887101a-0225-446b-9428-a5ed74bf4e0c"
      },
      "execution_count": null,
      "outputs": [
        {
          "output_type": "execute_result",
          "data": {
            "text/plain": [
              "['Traffic moving in the opposite direction @ outering rd',\n",
              " 'Day 2 Youth Peace & Voter Education Training,themed being Cascading Voter & peace education to the village level.Young people are not only going to help communities in voter education but preach & maintain peace.',\n",
              " 'Beefing up security here is a euphemism for State preparation to unleash even more lethal force and State violence… https://t.co/iL4RPbf7JY',\n",
              " 'says the stability of the country depends on how electoral agency will manage the election.',\n",
              " 'Citizens w/whistles in strongholds going to doors since 4am waking neighbors to get up &amp; vote in #ElectionsKE\\n#KenyaDecides\\n#ElectionsKE2017']"
            ]
          },
          "metadata": {},
          "execution_count": 144
        }
      ]
    },
    {
      "cell_type": "code",
      "source": [
        "stoplist = stopwords.words('english')\n",
        "my_stopwords = \"usr url atuser st rd nd th am pm num multiexclamation multiquestion multistop\" # my extra stopwords\n",
        "stoplist = stoplist + my_stopwords.split()\n",
        "tokenizer = TweetTokenizer()"
      ],
      "metadata": {
        "id": "HSYw9HOtla30"
      },
      "execution_count": null,
      "outputs": []
    },
    {
      "cell_type": "code",
      "source": [
        "for text in test_samples:\n",
        "    print(clean_text(text, tokenizer, my_stopwords) + \"\\n\")"
      ],
      "metadata": {
        "colab": {
          "base_uri": "https://localhost:8080/"
        },
        "id": "hiFUC2VjlXsS",
        "outputId": "60b01bd8-a238-4d8d-c58a-697f6af8678c"
      },
      "execution_count": null,
      "outputs": [
        {
          "output_type": "stream",
          "name": "stdout",
          "text": [
            "traffic moving in the opposite direction  outering rd\n",
            "\n",
            "day  youth peace  voter education training  themed being cascading voter  peace education to the village level  young people are not only going to help communities in voter education but preach  maintain peace\n",
            "\n",
            "beefing up security here is a euphemism for state preparation to unleash even more lethal force and state violence url\n",
            "\n",
            "says the stability of the country depends on how electoral agency will manage the election\n",
            "\n",
            "citizens w  whistles in strongholds going to doors since am waking neighbors to get up amp vote in\n",
            "\n"
          ]
        }
      ]
    },
    {
      "cell_type": "code",
      "source": [
        "model_data[\"clean_text\"] = model_data[\"text\"].apply(lambda text: clean_text(text, tokenizer, my_stopwords))"
      ],
      "metadata": {
        "id": "WqcqXmqSlvap"
      },
      "execution_count": null,
      "outputs": []
    },
    {
      "cell_type": "code",
      "source": [
        "model_data['lang'] = [s['label'] for s in pipe(model_data.clean_text.values.tolist(), truncation=True, max_length=128)]"
      ],
      "metadata": {
        "id": "2RB5Fr8mmM7M"
      },
      "execution_count": null,
      "outputs": []
    },
    {
      "cell_type": "code",
      "source": [
        "grouped_counts = model_data.groupby(\"lang\").size().reset_index(name='Counts').sort_values([\"Counts\"], ascending=False)\n",
        "sns.barplot(data=grouped_counts, x='Counts', y='lang')\n",
        "plt.xlabel('Label')\n",
        "plt.ylabel('Counts')\n",
        "plt.title('Language Distribution')\n",
        "plt.show()"
      ],
      "metadata": {
        "colab": {
          "base_uri": "https://localhost:8080/",
          "height": 576
        },
        "id": "3ebW-qfwmZIn",
        "outputId": "0647b581-1cb7-4721-8c98-dea0f4dcc40b"
      },
      "execution_count": null,
      "outputs": [
        {
          "output_type": "display_data",
          "data": {
            "text/plain": [
              "<Figure size 1200x600 with 1 Axes>"
            ],
            "image/svg+xml": "<?xml version=\"1.0\" encoding=\"utf-8\" standalone=\"no\"?>\n<!DOCTYPE svg PUBLIC \"-//W3C//DTD SVG 1.1//EN\"\n  \"http://www.w3.org/Graphics/SVG/1.1/DTD/svg11.dtd\">\n<svg xmlns:xlink=\"http://www.w3.org/1999/xlink\" width=\"726.474pt\" height=\"401.055594pt\" viewBox=\"0 0 726.474 401.055594\" xmlns=\"http://www.w3.org/2000/svg\" version=\"1.1\">\n <metadata>\n  <rdf:RDF xmlns:dc=\"http://purl.org/dc/elements/1.1/\" xmlns:cc=\"http://creativecommons.org/ns#\" xmlns:rdf=\"http://www.w3.org/1999/02/22-rdf-syntax-ns#\">\n   <cc:Work>\n    <dc:type rdf:resource=\"http://purl.org/dc/dcmitype/StillImage\"/>\n    <dc:date>2023-07-07T20:08:42.000511</dc:date>\n    <dc:format>image/svg+xml</dc:format>\n    <dc:creator>\n     <cc:Agent>\n      <dc:title>Matplotlib v3.7.1, https://matplotlib.org/</dc:title>\n     </cc:Agent>\n    </dc:creator>\n   </cc:Work>\n  </rdf:RDF>\n </metadata>\n <defs>\n  <style type=\"text/css\">*{stroke-linejoin: round; stroke-linecap: butt}</style>\n </defs>\n <g id=\"figure_1\">\n  <g id=\"patch_1\">\n   <path d=\"M 0 401.055594 \nL 726.474 401.055594 \nL 726.474 0 \nL 0 0 \nz\n\" style=\"fill: #ffffff\"/>\n  </g>\n  <g id=\"axes_1\">\n   <g id=\"patch_2\">\n    <path d=\"M 49.674 355.869937 \nL 719.274 355.869937 \nL 719.274 23.229937 \nL 49.674 23.229937 \nz\n\" style=\"fill: #eaeaf2\"/>\n   </g>\n   <g id=\"matplotlib.axis_1\">\n    <g id=\"xtick_1\">\n     <g id=\"line2d_1\">\n      <path d=\"M 49.674 355.869937 \nL 49.674 23.229937 \n\" clip-path=\"url(#paf4087e42c)\" style=\"fill: none; stroke: #ffffff; stroke-linecap: round\"/>\n     </g>\n     <g id=\"text_1\">\n      <!-- 0 -->\n      <g style=\"fill: #262626\" transform=\"translate(45.824688 374.564047) scale(0.121 -0.121)\">\n       <defs>\n        <path id=\"DejaVuSans-30\" d=\"M 2034 4250 \nQ 1547 4250 1301 3770 \nQ 1056 3291 1056 2328 \nQ 1056 1369 1301 889 \nQ 1547 409 2034 409 \nQ 2525 409 2770 889 \nQ 3016 1369 3016 2328 \nQ 3016 3291 2770 3770 \nQ 2525 4250 2034 4250 \nz\nM 2034 4750 \nQ 2819 4750 3233 4129 \nQ 3647 3509 3647 2328 \nQ 3647 1150 3233 529 \nQ 2819 -91 2034 -91 \nQ 1250 -91 836 529 \nQ 422 1150 422 2328 \nQ 422 3509 836 4129 \nQ 1250 4750 2034 4750 \nz\n\" transform=\"scale(0.015625)\"/>\n       </defs>\n       <use xlink:href=\"#DejaVuSans-30\"/>\n      </g>\n     </g>\n    </g>\n    <g id=\"xtick_2\">\n     <g id=\"line2d_2\">\n      <path d=\"M 170.4761 355.869937 \nL 170.4761 23.229937 \n\" clip-path=\"url(#paf4087e42c)\" style=\"fill: none; stroke: #ffffff; stroke-linecap: round\"/>\n     </g>\n     <g id=\"text_2\">\n      <!-- 2000 -->\n      <g style=\"fill: #262626\" transform=\"translate(155.07885 374.564047) scale(0.121 -0.121)\">\n       <defs>\n        <path id=\"DejaVuSans-32\" d=\"M 1228 531 \nL 3431 531 \nL 3431 0 \nL 469 0 \nL 469 531 \nQ 828 903 1448 1529 \nQ 2069 2156 2228 2338 \nQ 2531 2678 2651 2914 \nQ 2772 3150 2772 3378 \nQ 2772 3750 2511 3984 \nQ 2250 4219 1831 4219 \nQ 1534 4219 1204 4116 \nQ 875 4013 500 3803 \nL 500 4441 \nQ 881 4594 1212 4672 \nQ 1544 4750 1819 4750 \nQ 2544 4750 2975 4387 \nQ 3406 4025 3406 3419 \nQ 3406 3131 3298 2873 \nQ 3191 2616 2906 2266 \nQ 2828 2175 2409 1742 \nQ 1991 1309 1228 531 \nz\n\" transform=\"scale(0.015625)\"/>\n       </defs>\n       <use xlink:href=\"#DejaVuSans-32\"/>\n       <use xlink:href=\"#DejaVuSans-30\" x=\"63.623047\"/>\n       <use xlink:href=\"#DejaVuSans-30\" x=\"127.246094\"/>\n       <use xlink:href=\"#DejaVuSans-30\" x=\"190.869141\"/>\n      </g>\n     </g>\n    </g>\n    <g id=\"xtick_3\">\n     <g id=\"line2d_3\">\n      <path d=\"M 291.2782 355.869937 \nL 291.2782 23.229937 \n\" clip-path=\"url(#paf4087e42c)\" style=\"fill: none; stroke: #ffffff; stroke-linecap: round\"/>\n     </g>\n     <g id=\"text_3\">\n      <!-- 4000 -->\n      <g style=\"fill: #262626\" transform=\"translate(275.88095 374.564047) scale(0.121 -0.121)\">\n       <defs>\n        <path id=\"DejaVuSans-34\" d=\"M 2419 4116 \nL 825 1625 \nL 2419 1625 \nL 2419 4116 \nz\nM 2253 4666 \nL 3047 4666 \nL 3047 1625 \nL 3713 1625 \nL 3713 1100 \nL 3047 1100 \nL 3047 0 \nL 2419 0 \nL 2419 1100 \nL 313 1100 \nL 313 1709 \nL 2253 4666 \nz\n\" transform=\"scale(0.015625)\"/>\n       </defs>\n       <use xlink:href=\"#DejaVuSans-34\"/>\n       <use xlink:href=\"#DejaVuSans-30\" x=\"63.623047\"/>\n       <use xlink:href=\"#DejaVuSans-30\" x=\"127.246094\"/>\n       <use xlink:href=\"#DejaVuSans-30\" x=\"190.869141\"/>\n      </g>\n     </g>\n    </g>\n    <g id=\"xtick_4\">\n     <g id=\"line2d_4\">\n      <path d=\"M 412.0803 355.869937 \nL 412.0803 23.229937 \n\" clip-path=\"url(#paf4087e42c)\" style=\"fill: none; stroke: #ffffff; stroke-linecap: round\"/>\n     </g>\n     <g id=\"text_4\">\n      <!-- 6000 -->\n      <g style=\"fill: #262626\" transform=\"translate(396.68305 374.564047) scale(0.121 -0.121)\">\n       <defs>\n        <path id=\"DejaVuSans-36\" d=\"M 2113 2584 \nQ 1688 2584 1439 2293 \nQ 1191 2003 1191 1497 \nQ 1191 994 1439 701 \nQ 1688 409 2113 409 \nQ 2538 409 2786 701 \nQ 3034 994 3034 1497 \nQ 3034 2003 2786 2293 \nQ 2538 2584 2113 2584 \nz\nM 3366 4563 \nL 3366 3988 \nQ 3128 4100 2886 4159 \nQ 2644 4219 2406 4219 \nQ 1781 4219 1451 3797 \nQ 1122 3375 1075 2522 \nQ 1259 2794 1537 2939 \nQ 1816 3084 2150 3084 \nQ 2853 3084 3261 2657 \nQ 3669 2231 3669 1497 \nQ 3669 778 3244 343 \nQ 2819 -91 2113 -91 \nQ 1303 -91 875 529 \nQ 447 1150 447 2328 \nQ 447 3434 972 4092 \nQ 1497 4750 2381 4750 \nQ 2619 4750 2861 4703 \nQ 3103 4656 3366 4563 \nz\n\" transform=\"scale(0.015625)\"/>\n       </defs>\n       <use xlink:href=\"#DejaVuSans-36\"/>\n       <use xlink:href=\"#DejaVuSans-30\" x=\"63.623047\"/>\n       <use xlink:href=\"#DejaVuSans-30\" x=\"127.246094\"/>\n       <use xlink:href=\"#DejaVuSans-30\" x=\"190.869141\"/>\n      </g>\n     </g>\n    </g>\n    <g id=\"xtick_5\">\n     <g id=\"line2d_5\">\n      <path d=\"M 532.8824 355.869937 \nL 532.8824 23.229937 \n\" clip-path=\"url(#paf4087e42c)\" style=\"fill: none; stroke: #ffffff; stroke-linecap: round\"/>\n     </g>\n     <g id=\"text_5\">\n      <!-- 8000 -->\n      <g style=\"fill: #262626\" transform=\"translate(517.48515 374.564047) scale(0.121 -0.121)\">\n       <defs>\n        <path id=\"DejaVuSans-38\" d=\"M 2034 2216 \nQ 1584 2216 1326 1975 \nQ 1069 1734 1069 1313 \nQ 1069 891 1326 650 \nQ 1584 409 2034 409 \nQ 2484 409 2743 651 \nQ 3003 894 3003 1313 \nQ 3003 1734 2745 1975 \nQ 2488 2216 2034 2216 \nz\nM 1403 2484 \nQ 997 2584 770 2862 \nQ 544 3141 544 3541 \nQ 544 4100 942 4425 \nQ 1341 4750 2034 4750 \nQ 2731 4750 3128 4425 \nQ 3525 4100 3525 3541 \nQ 3525 3141 3298 2862 \nQ 3072 2584 2669 2484 \nQ 3125 2378 3379 2068 \nQ 3634 1759 3634 1313 \nQ 3634 634 3220 271 \nQ 2806 -91 2034 -91 \nQ 1263 -91 848 271 \nQ 434 634 434 1313 \nQ 434 1759 690 2068 \nQ 947 2378 1403 2484 \nz\nM 1172 3481 \nQ 1172 3119 1398 2916 \nQ 1625 2713 2034 2713 \nQ 2441 2713 2670 2916 \nQ 2900 3119 2900 3481 \nQ 2900 3844 2670 4047 \nQ 2441 4250 2034 4250 \nQ 1625 4250 1398 4047 \nQ 1172 3844 1172 3481 \nz\n\" transform=\"scale(0.015625)\"/>\n       </defs>\n       <use xlink:href=\"#DejaVuSans-38\"/>\n       <use xlink:href=\"#DejaVuSans-30\" x=\"63.623047\"/>\n       <use xlink:href=\"#DejaVuSans-30\" x=\"127.246094\"/>\n       <use xlink:href=\"#DejaVuSans-30\" x=\"190.869141\"/>\n      </g>\n     </g>\n    </g>\n    <g id=\"xtick_6\">\n     <g id=\"line2d_6\">\n      <path d=\"M 653.6845 355.869937 \nL 653.6845 23.229937 \n\" clip-path=\"url(#paf4087e42c)\" style=\"fill: none; stroke: #ffffff; stroke-linecap: round\"/>\n     </g>\n     <g id=\"text_6\">\n      <!-- 10000 -->\n      <g style=\"fill: #262626\" transform=\"translate(634.437937 374.564047) scale(0.121 -0.121)\">\n       <defs>\n        <path id=\"DejaVuSans-31\" d=\"M 794 531 \nL 1825 531 \nL 1825 4091 \nL 703 3866 \nL 703 4441 \nL 1819 4666 \nL 2450 4666 \nL 2450 531 \nL 3481 531 \nL 3481 0 \nL 794 0 \nL 794 531 \nz\n\" transform=\"scale(0.015625)\"/>\n       </defs>\n       <use xlink:href=\"#DejaVuSans-31\"/>\n       <use xlink:href=\"#DejaVuSans-30\" x=\"63.623047\"/>\n       <use xlink:href=\"#DejaVuSans-30\" x=\"127.246094\"/>\n       <use xlink:href=\"#DejaVuSans-30\" x=\"190.869141\"/>\n       <use xlink:href=\"#DejaVuSans-30\" x=\"254.492188\"/>\n      </g>\n     </g>\n    </g>\n    <g id=\"text_7\">\n     <!-- Label -->\n     <g style=\"fill: #262626\" transform=\"translate(366.667406 391.110406) scale(0.132 -0.132)\">\n      <defs>\n       <path id=\"DejaVuSans-4c\" d=\"M 628 4666 \nL 1259 4666 \nL 1259 531 \nL 3531 531 \nL 3531 0 \nL 628 0 \nL 628 4666 \nz\n\" transform=\"scale(0.015625)\"/>\n       <path id=\"DejaVuSans-61\" d=\"M 2194 1759 \nQ 1497 1759 1228 1600 \nQ 959 1441 959 1056 \nQ 959 750 1161 570 \nQ 1363 391 1709 391 \nQ 2188 391 2477 730 \nQ 2766 1069 2766 1631 \nL 2766 1759 \nL 2194 1759 \nz\nM 3341 1997 \nL 3341 0 \nL 2766 0 \nL 2766 531 \nQ 2569 213 2275 61 \nQ 1981 -91 1556 -91 \nQ 1019 -91 701 211 \nQ 384 513 384 1019 \nQ 384 1609 779 1909 \nQ 1175 2209 1959 2209 \nL 2766 2209 \nL 2766 2266 \nQ 2766 2663 2505 2880 \nQ 2244 3097 1772 3097 \nQ 1472 3097 1187 3025 \nQ 903 2953 641 2809 \nL 641 3341 \nQ 956 3463 1253 3523 \nQ 1550 3584 1831 3584 \nQ 2591 3584 2966 3190 \nQ 3341 2797 3341 1997 \nz\n\" transform=\"scale(0.015625)\"/>\n       <path id=\"DejaVuSans-62\" d=\"M 3116 1747 \nQ 3116 2381 2855 2742 \nQ 2594 3103 2138 3103 \nQ 1681 3103 1420 2742 \nQ 1159 2381 1159 1747 \nQ 1159 1113 1420 752 \nQ 1681 391 2138 391 \nQ 2594 391 2855 752 \nQ 3116 1113 3116 1747 \nz\nM 1159 2969 \nQ 1341 3281 1617 3432 \nQ 1894 3584 2278 3584 \nQ 2916 3584 3314 3078 \nQ 3713 2572 3713 1747 \nQ 3713 922 3314 415 \nQ 2916 -91 2278 -91 \nQ 1894 -91 1617 61 \nQ 1341 213 1159 525 \nL 1159 0 \nL 581 0 \nL 581 4863 \nL 1159 4863 \nL 1159 2969 \nz\n\" transform=\"scale(0.015625)\"/>\n       <path id=\"DejaVuSans-65\" d=\"M 3597 1894 \nL 3597 1613 \nL 953 1613 \nQ 991 1019 1311 708 \nQ 1631 397 2203 397 \nQ 2534 397 2845 478 \nQ 3156 559 3463 722 \nL 3463 178 \nQ 3153 47 2828 -22 \nQ 2503 -91 2169 -91 \nQ 1331 -91 842 396 \nQ 353 884 353 1716 \nQ 353 2575 817 3079 \nQ 1281 3584 2069 3584 \nQ 2775 3584 3186 3129 \nQ 3597 2675 3597 1894 \nz\nM 3022 2063 \nQ 3016 2534 2758 2815 \nQ 2500 3097 2075 3097 \nQ 1594 3097 1305 2825 \nQ 1016 2553 972 2059 \nL 3022 2063 \nz\n\" transform=\"scale(0.015625)\"/>\n       <path id=\"DejaVuSans-6c\" d=\"M 603 4863 \nL 1178 4863 \nL 1178 0 \nL 603 0 \nL 603 4863 \nz\n\" transform=\"scale(0.015625)\"/>\n      </defs>\n      <use xlink:href=\"#DejaVuSans-4c\"/>\n      <use xlink:href=\"#DejaVuSans-61\" x=\"55.712891\"/>\n      <use xlink:href=\"#DejaVuSans-62\" x=\"116.992188\"/>\n      <use xlink:href=\"#DejaVuSans-65\" x=\"180.46875\"/>\n      <use xlink:href=\"#DejaVuSans-6c\" x=\"241.992188\"/>\n     </g>\n    </g>\n   </g>\n   <g id=\"matplotlib.axis_2\">\n    <g id=\"ytick_1\">\n     <g id=\"text_8\">\n      <!-- en -->\n      <g style=\"fill: #262626\" transform=\"translate(25.060344 40.620838) scale(0.121 -0.121)\">\n       <defs>\n        <path id=\"DejaVuSans-6e\" d=\"M 3513 2113 \nL 3513 0 \nL 2938 0 \nL 2938 2094 \nQ 2938 2591 2744 2837 \nQ 2550 3084 2163 3084 \nQ 1697 3084 1428 2787 \nQ 1159 2491 1159 1978 \nL 1159 0 \nL 581 0 \nL 581 3500 \nL 1159 3500 \nL 1159 2956 \nQ 1366 3272 1645 3428 \nQ 1925 3584 2291 3584 \nQ 2894 3584 3203 3211 \nQ 3513 2838 3513 2113 \nz\n\" transform=\"scale(0.015625)\"/>\n       </defs>\n       <use xlink:href=\"#DejaVuSans-65\"/>\n       <use xlink:href=\"#DejaVuSans-6e\" x=\"61.523438\"/>\n      </g>\n     </g>\n    </g>\n    <g id=\"ytick_2\">\n     <g id=\"text_9\">\n      <!-- sw -->\n      <g style=\"fill: #262626\" transform=\"translate(23.975125 66.208531) scale(0.121 -0.121)\">\n       <defs>\n        <path id=\"DejaVuSans-73\" d=\"M 2834 3397 \nL 2834 2853 \nQ 2591 2978 2328 3040 \nQ 2066 3103 1784 3103 \nQ 1356 3103 1142 2972 \nQ 928 2841 928 2578 \nQ 928 2378 1081 2264 \nQ 1234 2150 1697 2047 \nL 1894 2003 \nQ 2506 1872 2764 1633 \nQ 3022 1394 3022 966 \nQ 3022 478 2636 193 \nQ 2250 -91 1575 -91 \nQ 1294 -91 989 -36 \nQ 684 19 347 128 \nL 347 722 \nQ 666 556 975 473 \nQ 1284 391 1588 391 \nQ 1994 391 2212 530 \nQ 2431 669 2431 922 \nQ 2431 1156 2273 1281 \nQ 2116 1406 1581 1522 \nL 1381 1569 \nQ 847 1681 609 1914 \nQ 372 2147 372 2553 \nQ 372 3047 722 3315 \nQ 1072 3584 1716 3584 \nQ 2034 3584 2315 3537 \nQ 2597 3491 2834 3397 \nz\n\" transform=\"scale(0.015625)\"/>\n        <path id=\"DejaVuSans-77\" d=\"M 269 3500 \nL 844 3500 \nL 1563 769 \nL 2278 3500 \nL 2956 3500 \nL 3675 769 \nL 4391 3500 \nL 4966 3500 \nL 4050 0 \nL 3372 0 \nL 2619 2869 \nL 1863 0 \nL 1184 0 \nL 269 3500 \nz\n\" transform=\"scale(0.015625)\"/>\n       </defs>\n       <use xlink:href=\"#DejaVuSans-73\"/>\n       <use xlink:href=\"#DejaVuSans-77\" x=\"52.099609\"/>\n      </g>\n     </g>\n    </g>\n    <g id=\"ytick_3\">\n     <g id=\"text_10\">\n      <!-- it -->\n      <g style=\"fill: #262626\" transform=\"translate(32.068891 91.796223) scale(0.121 -0.121)\">\n       <defs>\n        <path id=\"DejaVuSans-69\" d=\"M 603 3500 \nL 1178 3500 \nL 1178 0 \nL 603 0 \nL 603 3500 \nz\nM 603 4863 \nL 1178 4863 \nL 1178 4134 \nL 603 4134 \nL 603 4863 \nz\n\" transform=\"scale(0.015625)\"/>\n        <path id=\"DejaVuSans-74\" d=\"M 1172 4494 \nL 1172 3500 \nL 2356 3500 \nL 2356 3053 \nL 1172 3053 \nL 1172 1153 \nQ 1172 725 1289 603 \nQ 1406 481 1766 481 \nL 2356 481 \nL 2356 0 \nL 1766 0 \nQ 1100 0 847 248 \nQ 594 497 594 1153 \nL 594 3053 \nL 172 3053 \nL 172 3500 \nL 594 3500 \nL 594 4494 \nL 1172 4494 \nz\n\" transform=\"scale(0.015625)\"/>\n       </defs>\n       <use xlink:href=\"#DejaVuSans-69\"/>\n       <use xlink:href=\"#DejaVuSans-74\" x=\"27.783203\"/>\n      </g>\n     </g>\n    </g>\n    <g id=\"ytick_4\">\n     <g id=\"text_11\">\n      <!-- ur -->\n      <g style=\"fill: #262626\" transform=\"translate(27.531391 117.383915) scale(0.121 -0.121)\">\n       <defs>\n        <path id=\"DejaVuSans-75\" d=\"M 544 1381 \nL 544 3500 \nL 1119 3500 \nL 1119 1403 \nQ 1119 906 1312 657 \nQ 1506 409 1894 409 \nQ 2359 409 2629 706 \nQ 2900 1003 2900 1516 \nL 2900 3500 \nL 3475 3500 \nL 3475 0 \nL 2900 0 \nL 2900 538 \nQ 2691 219 2414 64 \nQ 2138 -91 1772 -91 \nQ 1169 -91 856 284 \nQ 544 659 544 1381 \nz\nM 1991 3584 \nL 1991 3584 \nz\n\" transform=\"scale(0.015625)\"/>\n        <path id=\"DejaVuSans-72\" d=\"M 2631 2963 \nQ 2534 3019 2420 3045 \nQ 2306 3072 2169 3072 \nQ 1681 3072 1420 2755 \nQ 1159 2438 1159 1844 \nL 1159 0 \nL 581 0 \nL 581 3500 \nL 1159 3500 \nL 1159 2956 \nQ 1341 3275 1631 3429 \nQ 1922 3584 2338 3584 \nQ 2397 3584 2469 3576 \nQ 2541 3569 2628 3553 \nL 2631 2963 \nz\n\" transform=\"scale(0.015625)\"/>\n       </defs>\n       <use xlink:href=\"#DejaVuSans-75\"/>\n       <use xlink:href=\"#DejaVuSans-72\" x=\"63.378906\"/>\n      </g>\n     </g>\n    </g>\n    <g id=\"ytick_5\">\n     <g id=\"text_12\">\n      <!-- nl -->\n      <g style=\"fill: #262626\" transform=\"translate(29.144094 142.971608) scale(0.121 -0.121)\">\n       <use xlink:href=\"#DejaVuSans-6e\"/>\n       <use xlink:href=\"#DejaVuSans-6c\" x=\"63.378906\"/>\n      </g>\n     </g>\n    </g>\n    <g id=\"ytick_6\">\n     <g id=\"text_13\">\n      <!-- hi -->\n      <g style=\"fill: #262626\" transform=\"translate(29.144094 168.5593) scale(0.121 -0.121)\">\n       <defs>\n        <path id=\"DejaVuSans-68\" d=\"M 3513 2113 \nL 3513 0 \nL 2938 0 \nL 2938 2094 \nQ 2938 2591 2744 2837 \nQ 2550 3084 2163 3084 \nQ 1697 3084 1428 2787 \nQ 1159 2491 1159 1978 \nL 1159 0 \nL 581 0 \nL 581 4863 \nL 1159 4863 \nL 1159 2956 \nQ 1366 3272 1645 3428 \nQ 1925 3584 2291 3584 \nQ 2894 3584 3203 3211 \nQ 3513 2838 3513 2113 \nz\n\" transform=\"scale(0.015625)\"/>\n       </defs>\n       <use xlink:href=\"#DejaVuSans-68\"/>\n       <use xlink:href=\"#DejaVuSans-69\" x=\"63.378906\"/>\n      </g>\n     </g>\n    </g>\n    <g id=\"ytick_7\">\n     <g id=\"text_14\">\n      <!-- pt -->\n      <g style=\"fill: #262626\" transform=\"translate(27.748813 194.146992) scale(0.121 -0.121)\">\n       <defs>\n        <path id=\"DejaVuSans-70\" d=\"M 1159 525 \nL 1159 -1331 \nL 581 -1331 \nL 581 3500 \nL 1159 3500 \nL 1159 2969 \nQ 1341 3281 1617 3432 \nQ 1894 3584 2278 3584 \nQ 2916 3584 3314 3078 \nQ 3713 2572 3713 1747 \nQ 3713 922 3314 415 \nQ 2916 -91 2278 -91 \nQ 1894 -91 1617 61 \nQ 1341 213 1159 525 \nz\nM 3116 1747 \nQ 3116 2381 2855 2742 \nQ 2594 3103 2138 3103 \nQ 1681 3103 1420 2742 \nQ 1159 2381 1159 1747 \nQ 1159 1113 1420 752 \nQ 1681 391 2138 391 \nQ 2594 391 2855 752 \nQ 3116 1113 3116 1747 \nz\n\" transform=\"scale(0.015625)\"/>\n       </defs>\n       <use xlink:href=\"#DejaVuSans-70\"/>\n       <use xlink:href=\"#DejaVuSans-74\" x=\"63.476562\"/>\n      </g>\n     </g>\n    </g>\n    <g id=\"ytick_8\">\n     <g id=\"text_15\">\n      <!-- tr -->\n      <g style=\"fill: #262626\" transform=\"translate(30.456188 219.734684) scale(0.121 -0.121)\">\n       <use xlink:href=\"#DejaVuSans-74\"/>\n       <use xlink:href=\"#DejaVuSans-72\" x=\"39.208984\"/>\n      </g>\n     </g>\n    </g>\n    <g id=\"ytick_9\">\n     <g id=\"text_16\">\n      <!-- th -->\n      <g style=\"fill: #262626\" transform=\"translate(27.762047 245.322377) scale(0.121 -0.121)\">\n       <use xlink:href=\"#DejaVuSans-74\"/>\n       <use xlink:href=\"#DejaVuSans-68\" x=\"39.208984\"/>\n      </g>\n     </g>\n    </g>\n    <g id=\"ytick_10\">\n     <g id=\"text_17\">\n      <!-- fr -->\n      <g style=\"fill: #262626\" transform=\"translate(30.940188 270.910069) scale(0.121 -0.121)\">\n       <defs>\n        <path id=\"DejaVuSans-66\" d=\"M 2375 4863 \nL 2375 4384 \nL 1825 4384 \nQ 1516 4384 1395 4259 \nQ 1275 4134 1275 3809 \nL 1275 3500 \nL 2222 3500 \nL 2222 3053 \nL 1275 3053 \nL 1275 0 \nL 697 0 \nL 697 3053 \nL 147 3053 \nL 147 3500 \nL 697 3500 \nL 697 3744 \nQ 697 4328 969 4595 \nQ 1241 4863 1831 4863 \nL 2375 4863 \nz\n\" transform=\"scale(0.015625)\"/>\n       </defs>\n       <use xlink:href=\"#DejaVuSans-66\"/>\n       <use xlink:href=\"#DejaVuSans-72\" x=\"35.205078\"/>\n      </g>\n     </g>\n    </g>\n    <g id=\"ytick_11\">\n     <g id=\"text_18\">\n      <!-- es -->\n      <g style=\"fill: #262626\" transform=\"translate(26.425375 296.497761) scale(0.121 -0.121)\">\n       <use xlink:href=\"#DejaVuSans-65\"/>\n       <use xlink:href=\"#DejaVuSans-73\" x=\"61.523438\"/>\n      </g>\n     </g>\n    </g>\n    <g id=\"ytick_12\">\n     <g id=\"text_19\">\n      <!-- pl -->\n      <g style=\"fill: #262626\" transform=\"translate(29.130859 322.085454) scale(0.121 -0.121)\">\n       <use xlink:href=\"#DejaVuSans-70\"/>\n       <use xlink:href=\"#DejaVuSans-6c\" x=\"63.476562\"/>\n      </g>\n     </g>\n    </g>\n    <g id=\"ytick_13\">\n     <g id=\"text_20\">\n      <!-- bg -->\n      <g style=\"fill: #262626\" transform=\"translate(24.810781 347.673146) scale(0.121 -0.121)\">\n       <defs>\n        <path id=\"DejaVuSans-67\" d=\"M 2906 1791 \nQ 2906 2416 2648 2759 \nQ 2391 3103 1925 3103 \nQ 1463 3103 1205 2759 \nQ 947 2416 947 1791 \nQ 947 1169 1205 825 \nQ 1463 481 1925 481 \nQ 2391 481 2648 825 \nQ 2906 1169 2906 1791 \nz\nM 3481 434 \nQ 3481 -459 3084 -895 \nQ 2688 -1331 1869 -1331 \nQ 1566 -1331 1297 -1286 \nQ 1028 -1241 775 -1147 \nL 775 -588 \nQ 1028 -725 1275 -790 \nQ 1522 -856 1778 -856 \nQ 2344 -856 2625 -561 \nQ 2906 -266 2906 331 \nL 2906 616 \nQ 2728 306 2450 153 \nQ 2172 0 1784 0 \nQ 1141 0 747 490 \nQ 353 981 353 1791 \nQ 353 2603 747 3093 \nQ 1141 3584 1784 3584 \nQ 2172 3584 2450 3431 \nQ 2728 3278 2906 2969 \nL 2906 3500 \nL 3481 3500 \nL 3481 434 \nz\n\" transform=\"scale(0.015625)\"/>\n       </defs>\n       <use xlink:href=\"#DejaVuSans-62\"/>\n       <use xlink:href=\"#DejaVuSans-67\" x=\"63.476562\"/>\n      </g>\n     </g>\n    </g>\n    <g id=\"text_21\">\n     <!-- Counts -->\n     <g style=\"fill: #262626\" transform=\"translate(17.229938 212.588062) rotate(-90) scale(0.132 -0.132)\">\n      <defs>\n       <path id=\"DejaVuSans-43\" d=\"M 4122 4306 \nL 4122 3641 \nQ 3803 3938 3442 4084 \nQ 3081 4231 2675 4231 \nQ 1875 4231 1450 3742 \nQ 1025 3253 1025 2328 \nQ 1025 1406 1450 917 \nQ 1875 428 2675 428 \nQ 3081 428 3442 575 \nQ 3803 722 4122 1019 \nL 4122 359 \nQ 3791 134 3420 21 \nQ 3050 -91 2638 -91 \nQ 1578 -91 968 557 \nQ 359 1206 359 2328 \nQ 359 3453 968 4101 \nQ 1578 4750 2638 4750 \nQ 3056 4750 3426 4639 \nQ 3797 4528 4122 4306 \nz\n\" transform=\"scale(0.015625)\"/>\n       <path id=\"DejaVuSans-6f\" d=\"M 1959 3097 \nQ 1497 3097 1228 2736 \nQ 959 2375 959 1747 \nQ 959 1119 1226 758 \nQ 1494 397 1959 397 \nQ 2419 397 2687 759 \nQ 2956 1122 2956 1747 \nQ 2956 2369 2687 2733 \nQ 2419 3097 1959 3097 \nz\nM 1959 3584 \nQ 2709 3584 3137 3096 \nQ 3566 2609 3566 1747 \nQ 3566 888 3137 398 \nQ 2709 -91 1959 -91 \nQ 1206 -91 779 398 \nQ 353 888 353 1747 \nQ 353 2609 779 3096 \nQ 1206 3584 1959 3584 \nz\n\" transform=\"scale(0.015625)\"/>\n      </defs>\n      <use xlink:href=\"#DejaVuSans-43\"/>\n      <use xlink:href=\"#DejaVuSans-6f\" x=\"69.824219\"/>\n      <use xlink:href=\"#DejaVuSans-75\" x=\"131.005859\"/>\n      <use xlink:href=\"#DejaVuSans-6e\" x=\"194.384766\"/>\n      <use xlink:href=\"#DejaVuSans-74\" x=\"257.763672\"/>\n      <use xlink:href=\"#DejaVuSans-73\" x=\"296.972656\"/>\n     </g>\n    </g>\n   </g>\n   <g id=\"patch_3\">\n    <path d=\"M 49.674 25.788707 \nL 687.388286 25.788707 \nL 687.388286 46.258861 \nL 49.674 46.258861 \nz\n\" clip-path=\"url(#paf4087e42c)\" style=\"fill: #ea96a3; stroke: #ffffff; stroke-linejoin: miter\"/>\n   </g>\n   <g id=\"patch_4\">\n    <path d=\"M 49.674 51.376399 \nL 255.460377 51.376399 \nL 255.460377 71.846553 \nL 49.674 71.846553 \nz\n\" clip-path=\"url(#paf4087e42c)\" style=\"fill: #e39361; stroke: #ffffff; stroke-linejoin: miter\"/>\n   </g>\n   <g id=\"patch_5\">\n    <path d=\"M 49.674 76.964091 \nL 56.922126 76.964091 \nL 56.922126 97.434245 \nL 49.674 97.434245 \nz\n\" clip-path=\"url(#paf4087e42c)\" style=\"fill: #be9b4a; stroke: #ffffff; stroke-linejoin: miter\"/>\n   </g>\n   <g id=\"patch_6\">\n    <path d=\"M 49.674 102.551784 \nL 51.123625 102.551784 \nL 51.123625 123.021937 \nL 49.674 123.021937 \nz\n\" clip-path=\"url(#paf4087e42c)\" style=\"fill: #9fa045; stroke: #ffffff; stroke-linejoin: miter\"/>\n   </g>\n   <g id=\"patch_7\">\n    <path d=\"M 49.674 128.139476 \nL 50.82162 128.139476 \nL 50.82162 148.60963 \nL 49.674 148.60963 \nz\n\" clip-path=\"url(#paf4087e42c)\" style=\"fill: #7aaa47; stroke: #ffffff; stroke-linejoin: miter\"/>\n   </g>\n   <g id=\"patch_8\">\n    <path d=\"M 49.674 153.727168 \nL 50.519615 153.727168 \nL 50.519615 174.197322 \nL 49.674 174.197322 \nz\n\" clip-path=\"url(#paf4087e42c)\" style=\"fill: #49af79; stroke: #ffffff; stroke-linejoin: miter\"/>\n   </g>\n   <g id=\"patch_9\">\n    <path d=\"M 49.674 179.314861 \nL 50.338412 179.314861 \nL 50.338412 199.785014 \nL 49.674 199.785014 \nz\n\" clip-path=\"url(#paf4087e42c)\" style=\"fill: #4aac9a; stroke: #ffffff; stroke-linejoin: miter\"/>\n   </g>\n   <g id=\"patch_10\">\n    <path d=\"M 49.674 204.902553 \nL 50.217609 204.902553 \nL 50.217609 225.372707 \nL 49.674 225.372707 \nz\n\" clip-path=\"url(#paf4087e42c)\" style=\"fill: #4cabae; stroke: #ffffff; stroke-linejoin: miter\"/>\n   </g>\n   <g id=\"patch_11\">\n    <path d=\"M 49.674 230.490245 \nL 50.096807 230.490245 \nL 50.096807 250.960399 \nL 49.674 250.960399 \nz\n\" clip-path=\"url(#paf4087e42c)\" style=\"fill: #52acc9; stroke: #ffffff; stroke-linejoin: miter\"/>\n   </g>\n   <g id=\"patch_12\">\n    <path d=\"M 49.674 256.077937 \nL 50.036406 256.077937 \nL 50.036406 276.548091 \nL 49.674 276.548091 \nz\n\" clip-path=\"url(#paf4087e42c)\" style=\"fill: #8daee7; stroke: #ffffff; stroke-linejoin: miter\"/>\n   </g>\n   <g id=\"patch_13\">\n    <path d=\"M 49.674 281.66563 \nL 49.794802 281.66563 \nL 49.794802 302.135784 \nL 49.674 302.135784 \nz\n\" clip-path=\"url(#paf4087e42c)\" style=\"fill: #bfa3ea; stroke: #ffffff; stroke-linejoin: miter\"/>\n   </g>\n   <g id=\"patch_14\">\n    <path d=\"M 49.674 307.253322 \nL 49.794802 307.253322 \nL 49.794802 327.723476 \nL 49.674 327.723476 \nz\n\" clip-path=\"url(#paf4087e42c)\" style=\"fill: #e689e6; stroke: #ffffff; stroke-linejoin: miter\"/>\n   </g>\n   <g id=\"patch_15\">\n    <path d=\"M 49.674 332.841014 \nL 49.734401 332.841014 \nL 49.734401 353.311168 \nL 49.674 353.311168 \nz\n\" clip-path=\"url(#paf4087e42c)\" style=\"fill: #e891c3; stroke: #ffffff; stroke-linejoin: miter\"/>\n   </g>\n   <g id=\"line2d_7\">\n    <path clip-path=\"url(#paf4087e42c)\" style=\"fill: none; stroke: #424242; stroke-width: 2.7; stroke-linecap: round\"/>\n   </g>\n   <g id=\"line2d_8\">\n    <path clip-path=\"url(#paf4087e42c)\" style=\"fill: none; stroke: #424242; stroke-width: 2.7; stroke-linecap: round\"/>\n   </g>\n   <g id=\"line2d_9\">\n    <path clip-path=\"url(#paf4087e42c)\" style=\"fill: none; stroke: #424242; stroke-width: 2.7; stroke-linecap: round\"/>\n   </g>\n   <g id=\"line2d_10\">\n    <path clip-path=\"url(#paf4087e42c)\" style=\"fill: none; stroke: #424242; stroke-width: 2.7; stroke-linecap: round\"/>\n   </g>\n   <g id=\"line2d_11\">\n    <path clip-path=\"url(#paf4087e42c)\" style=\"fill: none; stroke: #424242; stroke-width: 2.7; stroke-linecap: round\"/>\n   </g>\n   <g id=\"line2d_12\">\n    <path clip-path=\"url(#paf4087e42c)\" style=\"fill: none; stroke: #424242; stroke-width: 2.7; stroke-linecap: round\"/>\n   </g>\n   <g id=\"line2d_13\">\n    <path clip-path=\"url(#paf4087e42c)\" style=\"fill: none; stroke: #424242; stroke-width: 2.7; stroke-linecap: round\"/>\n   </g>\n   <g id=\"line2d_14\">\n    <path clip-path=\"url(#paf4087e42c)\" style=\"fill: none; stroke: #424242; stroke-width: 2.7; stroke-linecap: round\"/>\n   </g>\n   <g id=\"line2d_15\">\n    <path clip-path=\"url(#paf4087e42c)\" style=\"fill: none; stroke: #424242; stroke-width: 2.7; stroke-linecap: round\"/>\n   </g>\n   <g id=\"line2d_16\">\n    <path clip-path=\"url(#paf4087e42c)\" style=\"fill: none; stroke: #424242; stroke-width: 2.7; stroke-linecap: round\"/>\n   </g>\n   <g id=\"line2d_17\">\n    <path clip-path=\"url(#paf4087e42c)\" style=\"fill: none; stroke: #424242; stroke-width: 2.7; stroke-linecap: round\"/>\n   </g>\n   <g id=\"line2d_18\">\n    <path clip-path=\"url(#paf4087e42c)\" style=\"fill: none; stroke: #424242; stroke-width: 2.7; stroke-linecap: round\"/>\n   </g>\n   <g id=\"line2d_19\">\n    <path clip-path=\"url(#paf4087e42c)\" style=\"fill: none; stroke: #424242; stroke-width: 2.7; stroke-linecap: round\"/>\n   </g>\n   <g id=\"patch_16\">\n    <path d=\"M 49.674 355.869937 \nL 49.674 23.229937 \n\" style=\"fill: none; stroke: #ffffff; stroke-width: 1.25; stroke-linejoin: miter; stroke-linecap: square\"/>\n   </g>\n   <g id=\"patch_17\">\n    <path d=\"M 719.274 355.869937 \nL 719.274 23.229937 \n\" style=\"fill: none; stroke: #ffffff; stroke-width: 1.25; stroke-linejoin: miter; stroke-linecap: square\"/>\n   </g>\n   <g id=\"patch_18\">\n    <path d=\"M 49.674 355.869937 \nL 719.274 355.869937 \n\" style=\"fill: none; stroke: #ffffff; stroke-width: 1.25; stroke-linejoin: miter; stroke-linecap: square\"/>\n   </g>\n   <g id=\"patch_19\">\n    <path d=\"M 49.674 23.229937 \nL 719.274 23.229937 \n\" style=\"fill: none; stroke: #ffffff; stroke-width: 1.25; stroke-linejoin: miter; stroke-linecap: square\"/>\n   </g>\n   <g id=\"text_22\">\n    <!-- Language Distribution -->\n    <g style=\"fill: #262626\" transform=\"translate(311.300625 17.229937) scale(0.132 -0.132)\">\n     <defs>\n      <path id=\"DejaVuSans-20\" transform=\"scale(0.015625)\"/>\n      <path id=\"DejaVuSans-44\" d=\"M 1259 4147 \nL 1259 519 \nL 2022 519 \nQ 2988 519 3436 956 \nQ 3884 1394 3884 2338 \nQ 3884 3275 3436 3711 \nQ 2988 4147 2022 4147 \nL 1259 4147 \nz\nM 628 4666 \nL 1925 4666 \nQ 3281 4666 3915 4102 \nQ 4550 3538 4550 2338 \nQ 4550 1131 3912 565 \nQ 3275 0 1925 0 \nL 628 0 \nL 628 4666 \nz\n\" transform=\"scale(0.015625)\"/>\n     </defs>\n     <use xlink:href=\"#DejaVuSans-4c\"/>\n     <use xlink:href=\"#DejaVuSans-61\" x=\"55.712891\"/>\n     <use xlink:href=\"#DejaVuSans-6e\" x=\"116.992188\"/>\n     <use xlink:href=\"#DejaVuSans-67\" x=\"180.371094\"/>\n     <use xlink:href=\"#DejaVuSans-75\" x=\"243.847656\"/>\n     <use xlink:href=\"#DejaVuSans-61\" x=\"307.226562\"/>\n     <use xlink:href=\"#DejaVuSans-67\" x=\"368.505859\"/>\n     <use xlink:href=\"#DejaVuSans-65\" x=\"431.982422\"/>\n     <use xlink:href=\"#DejaVuSans-20\" x=\"493.505859\"/>\n     <use xlink:href=\"#DejaVuSans-44\" x=\"525.292969\"/>\n     <use xlink:href=\"#DejaVuSans-69\" x=\"602.294922\"/>\n     <use xlink:href=\"#DejaVuSans-73\" x=\"630.078125\"/>\n     <use xlink:href=\"#DejaVuSans-74\" x=\"682.177734\"/>\n     <use xlink:href=\"#DejaVuSans-72\" x=\"721.386719\"/>\n     <use xlink:href=\"#DejaVuSans-69\" x=\"762.5\"/>\n     <use xlink:href=\"#DejaVuSans-62\" x=\"790.283203\"/>\n     <use xlink:href=\"#DejaVuSans-75\" x=\"853.759766\"/>\n     <use xlink:href=\"#DejaVuSans-74\" x=\"917.138672\"/>\n     <use xlink:href=\"#DejaVuSans-69\" x=\"956.347656\"/>\n     <use xlink:href=\"#DejaVuSans-6f\" x=\"984.130859\"/>\n     <use xlink:href=\"#DejaVuSans-6e\" x=\"1045.3125\"/>\n    </g>\n   </g>\n  </g>\n </g>\n <defs>\n  <clipPath id=\"paf4087e42c\">\n   <rect x=\"49.674\" y=\"23.229937\" width=\"669.6\" height=\"332.64\"/>\n  </clipPath>\n </defs>\n</svg>\n"
          },
          "metadata": {}
        }
      ]
    },
    {
      "cell_type": "code",
      "source": [
        "model_data[model_data['lang'] != 'en'].sample(10)"
      ],
      "metadata": {
        "colab": {
          "base_uri": "https://localhost:8080/",
          "height": 1000
        },
        "id": "xgaQrEP0nH1W",
        "outputId": "0b70a065-d6cd-431a-96b9-9b305dfe37c5"
      },
      "execution_count": null,
      "outputs": [
        {
          "output_type": "execute_result",
          "data": {
            "text/plain": [
              "                                                                                                                                                                                                                                                text  \\\n",
              "7125   Buffalo GANG ??? \\n\\nMACHAKOS COUNTY will NOT be CONTROLLED and MISLED by a GANG of POLITICAL REJECTS !!!\\n\\nMASAKU | IEBC | Chebukati | Azimio | Raila | Baba | Kalonzo | Wavinya | Maliti | Yvonne | Magoha | Nairobi | Mombasa | Kenyans |   \n",
              "9271                                                                                                                                                                         IEBC Committee cancels Eric Basweti’s nomination for MCA Bomwagamo ward   \n",
              "109                Mutahi Ngunyi\\n·\\nAug 15, 2022\\n@MutahiNgunyi\\n·\\nFollow\\nChebukati had until TUESDAY. One MORE DAY as per the constitution. WHY hurry? Why ANNOUNCE results before the COMMISSION had CONSENSUS? Why did the DIPLOMATS walk OUT?   \n",
              "13319                                                                                                                                                                                Kudos to Langata MP elect Generali Nickson korir. #KenyaDecides   \n",
              "5530                              Ruto +Chebukati have been caught pants down. panicking they are speaking the same language.\\nFinally the owner of Chebukati Ruto replies the DCI on behalf of IEBC\\nRuto = Chebukati \\nDeepstate at work. Jela iko   \n",
              "12820                                                                      Odinga _182 , Kenyatta  _109 , Nyaga  _3  ,Aukot  _ 2 , others  _0 . valid.  _296 , rejected. _ 4 ,strays  _1 . total   vote  _301    President ial   results#Cherenganyi   \n",
              "5831                                                                Kenya Kwanza isn't ready to allow Independence of IEBC be interfered by Kuzimia group and state machinery, Let Chebukati to do his work to ensure election is held free and fair   \n",
              "13146                                                                                                   #ElectionsKE2017 : Mombasa is calm and safe. People should desist from spreading rumours on riots in Msa. We have b… https://t.co/auekpmhD2h   \n",
              "12898                                                  Citizen TV Kenya‏Verified account @citizentvkenya \\n Presiding Officer in police custody for allegedly misleading voters during voting in Nambale, Busia County #Ballot2017 w/ @hassanmugambi   \n",
              "13811                                                                                                          Just IN:\\n\\nIEBC postpones elections in Homabay, Kisumu, Migori &amp; Siaya counties to Saturday October 28, 2017 #ElectionsBoycottKE   \n",
              "\n",
              "                                                                                                                                                                                                                                                  clean_text  \\\n",
              "7125   buffalo gang  multiquestion    machakos county will not be controlled and misled by a gang of political rejects  multiexclamation   masaku  iebc  chebukati  azimio  raila  baba  kalonzo  wavinya  maliti  yvonne  magoha  nairobi  mombasa  kenyans   \n",
              "9271                                                                                                                                                                                  iebc committee cancels eric baswetis nomination for mca bomwagamo ward   \n",
              "109                                                      mutahi ngunyi  aug   usr  follow chebukati had until tuesday one more day as per the constitution why hurry why announce results before the commission had consensus why did the diplomats walk out   \n",
              "13319                                                                                                                                                                                                       kudos to langata mp elect generali nickson korir   \n",
              "5530                                              ruto chebukati have been caught pants down panicking they are speaking the same language finally the owner of chebukati ruto replies the dci on behalf of iebc ruto  chebukati  deepstate at work jela iko   \n",
              "12820                                                                                                                              odinga   kenyatta    nyaga    aukot     others    valid    rejected   strays    total   vote      president ial   results   \n",
              "5831                                                                        kenya kwanza isn  t ready to allow independence of iebc be interfered by kuzimia group and state machinery let chebukati to do his work to ensure election is held free and fair   \n",
              "13146                                                                                                                                                     mombasa is calm and safe people should desist from spreading rumours on riots in msa we have b url   \n",
              "12898                                                                                                citizen tv kenyaverified account usr   presiding officer in police custody for allegedly misleading voters during voting in nambale busia county  w usr   \n",
              "13811                                                                                                                                                      just in  iebc postpones elections in homabay kisumu migori amp siaya counties to saturday october   \n",
              "\n",
              "                                                                                                                                                                                                                                  normalized_text  \\\n",
              "7125   Buffalo GANG ? ? ? MACHAKOS COUNTY will NOT be CONTROLLED and MISLED by a GANG of POLITICAL REJECTS ! ! ! MASAKU | IEBC | Chebukati | Azimio | Raila | Baba | Kalonzo | Wavinya | Maliti | Yvonne | Magoha | Nairobi | Mombasa | Kenyans |   \n",
              "9271                                                                                                                                                                      IEBC Committee cancels Eric Basweti's nomination for MCA Bomwagamo ward   \n",
              "109                     Mutahi Ngunyi · Aug 15 , 2022 @USER · Follow Chebukati had until TUESDAY . One MORE DAY as per the constitution . WHY hurry ? Why ANNOUNCE results before the COMMISSION had CONSENSUS ? Why did the DIPLOMATS walk OUT ?   \n",
              "13319                                                                                                                                                                            Kudos to Langata MP elect Generali Nickson korir . #KenyaDecides   \n",
              "5530                           Ruto + Chebukati have been caught pants down . panicking they are speaking the same language . Finally the owner of Chebukati Ruto replies the DCI on behalf of IEBC Ruto = Chebukati Deepstate at work . Jela iko   \n",
              "12820                                                                             Odinga _182 , Kenyatta _109 , Nyaga _3 , Aukot _ 2 , others _0 . valid . _296 , rejected . _ 4 , strays _1 . total vote _301 President ial results #Cherenganyi   \n",
              "5831                                                            Kenya Kwanza isn't ready to allow Independence of IEBC be interfered by Kuzimia group and state machinery , Let Chebukati to do his work to ensure election is held free and fair   \n",
              "13146                                                                                                           #ElectionsKE2017 : Mombasa is calm and safe . People should desist from spreading rumours on riots in Msa . We have b ... HTTPURL   \n",
              "12898                                                                 Citizen TV Kenya ‏ Verified account @USER Presiding Officer in police custody for allegedly misleading voters during voting in Nambale , Busia County #Ballot2017 w / @USER   \n",
              "13811                                                                                                          Just IN : IEBC postpones elections in Homabay , Kisumu , Migori & Siaya counties to Saturday October 28 , 2017 #ElectionsBoycottKE   \n",
              "\n",
              "               merged_label                           label     status  \\\n",
              "7125                  Other                        Opinions  published   \n",
              "9271                  Other                        Opinions  published   \n",
              "109                   Other                        Opinions  published   \n",
              "13319                 Other                           Other      draft   \n",
              "5530                  Other                        Opinions  published   \n",
              "12820  Counting and Results            Counting and Results   archived   \n",
              "5831                  Other                        Opinions  published   \n",
              "13146       Positive Events                 Positive Events      draft   \n",
              "12898         Voting Issues  Polling Station Administration  published   \n",
              "13811         Voting Issues                   Voting Issues  published   \n",
              "\n",
              "      Election Date                 date informative_label  election_distance  \\\n",
              "7125    August 2022  2022-07-28 04:50:19   Non-Informative                 11   \n",
              "9271    August 2022  2022-08-03 15:28:53   Non-Informative                  5   \n",
              "109     August 2022  2022-08-15 23:12:55   Non-Informative                 -7   \n",
              "13319   August 2017  2017-08-10 07:30:03   Non-Informative                 -2   \n",
              "5530    August 2022  2022-07-24 20:19:20   Non-Informative                 15   \n",
              "12820   August 2017  2017-08-08 16:26:33       Informative                  0   \n",
              "5831    August 2022  2022-07-26 08:26:49   Non-Informative                 13   \n",
              "13146   August 2017  2017-08-09 08:55:02       Informative                 -1   \n",
              "12898   August 2017  2017-08-08 18:12:37       Informative                  0   \n",
              "13811  October 2017  2017-10-26 13:30:03       Informative                 -1   \n",
              "\n",
              "       election_distance_abs  hour  hour_sin      hour_cos lang detect_lang  \n",
              "7125                      11     4  0.866025  5.000000e-01   sw          tl  \n",
              "9271                       5    15 -0.707107 -7.071068e-01   sw          en  \n",
              "109                        7    23 -0.258819  9.659258e-01   sw          en  \n",
              "13319                      2     7  0.965926 -2.588190e-01   sw          id  \n",
              "5530                      15    20 -0.866025  5.000000e-01   sw          en  \n",
              "12820                      0    16 -0.866025 -5.000000e-01   sw          en  \n",
              "5831                      13     8  0.866025 -5.000000e-01   sw          en  \n",
              "13146                      1     8  0.866025 -5.000000e-01   sw          en  \n",
              "12898                      0    18 -1.000000 -1.836970e-16   sw          en  \n",
              "13811                      1    13 -0.258819 -9.659258e-01   sw          en  "
            ],
            "text/html": [
              "\n",
              "  <div id=\"df-378c907c-376f-4071-aaf7-15ef30f846a2\">\n",
              "    <div class=\"colab-df-container\">\n",
              "      <div>\n",
              "<style scoped>\n",
              "    .dataframe tbody tr th:only-of-type {\n",
              "        vertical-align: middle;\n",
              "    }\n",
              "\n",
              "    .dataframe tbody tr th {\n",
              "        vertical-align: top;\n",
              "    }\n",
              "\n",
              "    .dataframe thead th {\n",
              "        text-align: right;\n",
              "    }\n",
              "</style>\n",
              "<table border=\"1\" class=\"dataframe\">\n",
              "  <thead>\n",
              "    <tr style=\"text-align: right;\">\n",
              "      <th></th>\n",
              "      <th>text</th>\n",
              "      <th>clean_text</th>\n",
              "      <th>normalized_text</th>\n",
              "      <th>merged_label</th>\n",
              "      <th>label</th>\n",
              "      <th>status</th>\n",
              "      <th>Election Date</th>\n",
              "      <th>date</th>\n",
              "      <th>informative_label</th>\n",
              "      <th>election_distance</th>\n",
              "      <th>election_distance_abs</th>\n",
              "      <th>hour</th>\n",
              "      <th>hour_sin</th>\n",
              "      <th>hour_cos</th>\n",
              "      <th>lang</th>\n",
              "      <th>detect_lang</th>\n",
              "    </tr>\n",
              "  </thead>\n",
              "  <tbody>\n",
              "    <tr>\n",
              "      <th>7125</th>\n",
              "      <td>Buffalo GANG ??? \\n\\nMACHAKOS COUNTY will NOT be CONTROLLED and MISLED by a GANG of POLITICAL REJECTS !!!\\n\\nMASAKU | IEBC | Chebukati | Azimio | Raila | Baba | Kalonzo | Wavinya | Maliti | Yvonne | Magoha | Nairobi | Mombasa | Kenyans |</td>\n",
              "      <td>buffalo gang  multiquestion    machakos county will not be controlled and misled by a gang of political rejects  multiexclamation   masaku  iebc  chebukati  azimio  raila  baba  kalonzo  wavinya  maliti  yvonne  magoha  nairobi  mombasa  kenyans</td>\n",
              "      <td>Buffalo GANG ? ? ? MACHAKOS COUNTY will NOT be CONTROLLED and MISLED by a GANG of POLITICAL REJECTS ! ! ! MASAKU | IEBC | Chebukati | Azimio | Raila | Baba | Kalonzo | Wavinya | Maliti | Yvonne | Magoha | Nairobi | Mombasa | Kenyans |</td>\n",
              "      <td>Other</td>\n",
              "      <td>Opinions</td>\n",
              "      <td>published</td>\n",
              "      <td>August 2022</td>\n",
              "      <td>2022-07-28 04:50:19</td>\n",
              "      <td>Non-Informative</td>\n",
              "      <td>11</td>\n",
              "      <td>11</td>\n",
              "      <td>4</td>\n",
              "      <td>0.866025</td>\n",
              "      <td>5.000000e-01</td>\n",
              "      <td>sw</td>\n",
              "      <td>tl</td>\n",
              "    </tr>\n",
              "    <tr>\n",
              "      <th>9271</th>\n",
              "      <td>IEBC Committee cancels Eric Basweti’s nomination for MCA Bomwagamo ward</td>\n",
              "      <td>iebc committee cancels eric baswetis nomination for mca bomwagamo ward</td>\n",
              "      <td>IEBC Committee cancels Eric Basweti's nomination for MCA Bomwagamo ward</td>\n",
              "      <td>Other</td>\n",
              "      <td>Opinions</td>\n",
              "      <td>published</td>\n",
              "      <td>August 2022</td>\n",
              "      <td>2022-08-03 15:28:53</td>\n",
              "      <td>Non-Informative</td>\n",
              "      <td>5</td>\n",
              "      <td>5</td>\n",
              "      <td>15</td>\n",
              "      <td>-0.707107</td>\n",
              "      <td>-7.071068e-01</td>\n",
              "      <td>sw</td>\n",
              "      <td>en</td>\n",
              "    </tr>\n",
              "    <tr>\n",
              "      <th>109</th>\n",
              "      <td>Mutahi Ngunyi\\n·\\nAug 15, 2022\\n@MutahiNgunyi\\n·\\nFollow\\nChebukati had until TUESDAY. One MORE DAY as per the constitution. WHY hurry? Why ANNOUNCE results before the COMMISSION had CONSENSUS? Why did the DIPLOMATS walk OUT?</td>\n",
              "      <td>mutahi ngunyi  aug   usr  follow chebukati had until tuesday one more day as per the constitution why hurry why announce results before the commission had consensus why did the diplomats walk out</td>\n",
              "      <td>Mutahi Ngunyi · Aug 15 , 2022 @USER · Follow Chebukati had until TUESDAY . One MORE DAY as per the constitution . WHY hurry ? Why ANNOUNCE results before the COMMISSION had CONSENSUS ? Why did the DIPLOMATS walk OUT ?</td>\n",
              "      <td>Other</td>\n",
              "      <td>Opinions</td>\n",
              "      <td>published</td>\n",
              "      <td>August 2022</td>\n",
              "      <td>2022-08-15 23:12:55</td>\n",
              "      <td>Non-Informative</td>\n",
              "      <td>-7</td>\n",
              "      <td>7</td>\n",
              "      <td>23</td>\n",
              "      <td>-0.258819</td>\n",
              "      <td>9.659258e-01</td>\n",
              "      <td>sw</td>\n",
              "      <td>en</td>\n",
              "    </tr>\n",
              "    <tr>\n",
              "      <th>13319</th>\n",
              "      <td>Kudos to Langata MP elect Generali Nickson korir. #KenyaDecides</td>\n",
              "      <td>kudos to langata mp elect generali nickson korir</td>\n",
              "      <td>Kudos to Langata MP elect Generali Nickson korir . #KenyaDecides</td>\n",
              "      <td>Other</td>\n",
              "      <td>Other</td>\n",
              "      <td>draft</td>\n",
              "      <td>August 2017</td>\n",
              "      <td>2017-08-10 07:30:03</td>\n",
              "      <td>Non-Informative</td>\n",
              "      <td>-2</td>\n",
              "      <td>2</td>\n",
              "      <td>7</td>\n",
              "      <td>0.965926</td>\n",
              "      <td>-2.588190e-01</td>\n",
              "      <td>sw</td>\n",
              "      <td>id</td>\n",
              "    </tr>\n",
              "    <tr>\n",
              "      <th>5530</th>\n",
              "      <td>Ruto +Chebukati have been caught pants down. panicking they are speaking the same language.\\nFinally the owner of Chebukati Ruto replies the DCI on behalf of IEBC\\nRuto = Chebukati \\nDeepstate at work. Jela iko</td>\n",
              "      <td>ruto chebukati have been caught pants down panicking they are speaking the same language finally the owner of chebukati ruto replies the dci on behalf of iebc ruto  chebukati  deepstate at work jela iko</td>\n",
              "      <td>Ruto + Chebukati have been caught pants down . panicking they are speaking the same language . Finally the owner of Chebukati Ruto replies the DCI on behalf of IEBC Ruto = Chebukati Deepstate at work . Jela iko</td>\n",
              "      <td>Other</td>\n",
              "      <td>Opinions</td>\n",
              "      <td>published</td>\n",
              "      <td>August 2022</td>\n",
              "      <td>2022-07-24 20:19:20</td>\n",
              "      <td>Non-Informative</td>\n",
              "      <td>15</td>\n",
              "      <td>15</td>\n",
              "      <td>20</td>\n",
              "      <td>-0.866025</td>\n",
              "      <td>5.000000e-01</td>\n",
              "      <td>sw</td>\n",
              "      <td>en</td>\n",
              "    </tr>\n",
              "    <tr>\n",
              "      <th>12820</th>\n",
              "      <td>Odinga _182 , Kenyatta  _109 , Nyaga  _3  ,Aukot  _ 2 , others  _0 . valid.  _296 , rejected. _ 4 ,strays  _1 . total   vote  _301    President ial   results#Cherenganyi</td>\n",
              "      <td>odinga   kenyatta    nyaga    aukot     others    valid    rejected   strays    total   vote      president ial   results</td>\n",
              "      <td>Odinga _182 , Kenyatta _109 , Nyaga _3 , Aukot _ 2 , others _0 . valid . _296 , rejected . _ 4 , strays _1 . total vote _301 President ial results #Cherenganyi</td>\n",
              "      <td>Counting and Results</td>\n",
              "      <td>Counting and Results</td>\n",
              "      <td>archived</td>\n",
              "      <td>August 2017</td>\n",
              "      <td>2017-08-08 16:26:33</td>\n",
              "      <td>Informative</td>\n",
              "      <td>0</td>\n",
              "      <td>0</td>\n",
              "      <td>16</td>\n",
              "      <td>-0.866025</td>\n",
              "      <td>-5.000000e-01</td>\n",
              "      <td>sw</td>\n",
              "      <td>en</td>\n",
              "    </tr>\n",
              "    <tr>\n",
              "      <th>5831</th>\n",
              "      <td>Kenya Kwanza isn't ready to allow Independence of IEBC be interfered by Kuzimia group and state machinery, Let Chebukati to do his work to ensure election is held free and fair</td>\n",
              "      <td>kenya kwanza isn  t ready to allow independence of iebc be interfered by kuzimia group and state machinery let chebukati to do his work to ensure election is held free and fair</td>\n",
              "      <td>Kenya Kwanza isn't ready to allow Independence of IEBC be interfered by Kuzimia group and state machinery , Let Chebukati to do his work to ensure election is held free and fair</td>\n",
              "      <td>Other</td>\n",
              "      <td>Opinions</td>\n",
              "      <td>published</td>\n",
              "      <td>August 2022</td>\n",
              "      <td>2022-07-26 08:26:49</td>\n",
              "      <td>Non-Informative</td>\n",
              "      <td>13</td>\n",
              "      <td>13</td>\n",
              "      <td>8</td>\n",
              "      <td>0.866025</td>\n",
              "      <td>-5.000000e-01</td>\n",
              "      <td>sw</td>\n",
              "      <td>en</td>\n",
              "    </tr>\n",
              "    <tr>\n",
              "      <th>13146</th>\n",
              "      <td>#ElectionsKE2017 : Mombasa is calm and safe. People should desist from spreading rumours on riots in Msa. We have b… https://t.co/auekpmhD2h</td>\n",
              "      <td>mombasa is calm and safe people should desist from spreading rumours on riots in msa we have b url</td>\n",
              "      <td>#ElectionsKE2017 : Mombasa is calm and safe . People should desist from spreading rumours on riots in Msa . We have b ... HTTPURL</td>\n",
              "      <td>Positive Events</td>\n",
              "      <td>Positive Events</td>\n",
              "      <td>draft</td>\n",
              "      <td>August 2017</td>\n",
              "      <td>2017-08-09 08:55:02</td>\n",
              "      <td>Informative</td>\n",
              "      <td>-1</td>\n",
              "      <td>1</td>\n",
              "      <td>8</td>\n",
              "      <td>0.866025</td>\n",
              "      <td>-5.000000e-01</td>\n",
              "      <td>sw</td>\n",
              "      <td>en</td>\n",
              "    </tr>\n",
              "    <tr>\n",
              "      <th>12898</th>\n",
              "      <td>Citizen TV Kenya‏Verified account @citizentvkenya \\n Presiding Officer in police custody for allegedly misleading voters during voting in Nambale, Busia County #Ballot2017 w/ @hassanmugambi</td>\n",
              "      <td>citizen tv kenyaverified account usr   presiding officer in police custody for allegedly misleading voters during voting in nambale busia county  w usr</td>\n",
              "      <td>Citizen TV Kenya ‏ Verified account @USER Presiding Officer in police custody for allegedly misleading voters during voting in Nambale , Busia County #Ballot2017 w / @USER</td>\n",
              "      <td>Voting Issues</td>\n",
              "      <td>Polling Station Administration</td>\n",
              "      <td>published</td>\n",
              "      <td>August 2017</td>\n",
              "      <td>2017-08-08 18:12:37</td>\n",
              "      <td>Informative</td>\n",
              "      <td>0</td>\n",
              "      <td>0</td>\n",
              "      <td>18</td>\n",
              "      <td>-1.000000</td>\n",
              "      <td>-1.836970e-16</td>\n",
              "      <td>sw</td>\n",
              "      <td>en</td>\n",
              "    </tr>\n",
              "    <tr>\n",
              "      <th>13811</th>\n",
              "      <td>Just IN:\\n\\nIEBC postpones elections in Homabay, Kisumu, Migori &amp;amp; Siaya counties to Saturday October 28, 2017 #ElectionsBoycottKE</td>\n",
              "      <td>just in  iebc postpones elections in homabay kisumu migori amp siaya counties to saturday october</td>\n",
              "      <td>Just IN : IEBC postpones elections in Homabay , Kisumu , Migori &amp; Siaya counties to Saturday October 28 , 2017 #ElectionsBoycottKE</td>\n",
              "      <td>Voting Issues</td>\n",
              "      <td>Voting Issues</td>\n",
              "      <td>published</td>\n",
              "      <td>October 2017</td>\n",
              "      <td>2017-10-26 13:30:03</td>\n",
              "      <td>Informative</td>\n",
              "      <td>-1</td>\n",
              "      <td>1</td>\n",
              "      <td>13</td>\n",
              "      <td>-0.258819</td>\n",
              "      <td>-9.659258e-01</td>\n",
              "      <td>sw</td>\n",
              "      <td>en</td>\n",
              "    </tr>\n",
              "  </tbody>\n",
              "</table>\n",
              "</div>\n",
              "      <button class=\"colab-df-convert\" onclick=\"convertToInteractive('df-378c907c-376f-4071-aaf7-15ef30f846a2')\"\n",
              "              title=\"Convert this dataframe to an interactive table.\"\n",
              "              style=\"display:none;\">\n",
              "        \n",
              "  <svg xmlns=\"http://www.w3.org/2000/svg\" height=\"24px\"viewBox=\"0 0 24 24\"\n",
              "       width=\"24px\">\n",
              "    <path d=\"M0 0h24v24H0V0z\" fill=\"none\"/>\n",
              "    <path d=\"M18.56 5.44l.94 2.06.94-2.06 2.06-.94-2.06-.94-.94-2.06-.94 2.06-2.06.94zm-11 1L8.5 8.5l.94-2.06 2.06-.94-2.06-.94L8.5 2.5l-.94 2.06-2.06.94zm10 10l.94 2.06.94-2.06 2.06-.94-2.06-.94-.94-2.06-.94 2.06-2.06.94z\"/><path d=\"M17.41 7.96l-1.37-1.37c-.4-.4-.92-.59-1.43-.59-.52 0-1.04.2-1.43.59L10.3 9.45l-7.72 7.72c-.78.78-.78 2.05 0 2.83L4 21.41c.39.39.9.59 1.41.59.51 0 1.02-.2 1.41-.59l7.78-7.78 2.81-2.81c.8-.78.8-2.07 0-2.86zM5.41 20L4 18.59l7.72-7.72 1.47 1.35L5.41 20z\"/>\n",
              "  </svg>\n",
              "      </button>\n",
              "      \n",
              "  <style>\n",
              "    .colab-df-container {\n",
              "      display:flex;\n",
              "      flex-wrap:wrap;\n",
              "      gap: 12px;\n",
              "    }\n",
              "\n",
              "    .colab-df-convert {\n",
              "      background-color: #E8F0FE;\n",
              "      border: none;\n",
              "      border-radius: 50%;\n",
              "      cursor: pointer;\n",
              "      display: none;\n",
              "      fill: #1967D2;\n",
              "      height: 32px;\n",
              "      padding: 0 0 0 0;\n",
              "      width: 32px;\n",
              "    }\n",
              "\n",
              "    .colab-df-convert:hover {\n",
              "      background-color: #E2EBFA;\n",
              "      box-shadow: 0px 1px 2px rgba(60, 64, 67, 0.3), 0px 1px 3px 1px rgba(60, 64, 67, 0.15);\n",
              "      fill: #174EA6;\n",
              "    }\n",
              "\n",
              "    [theme=dark] .colab-df-convert {\n",
              "      background-color: #3B4455;\n",
              "      fill: #D2E3FC;\n",
              "    }\n",
              "\n",
              "    [theme=dark] .colab-df-convert:hover {\n",
              "      background-color: #434B5C;\n",
              "      box-shadow: 0px 1px 3px 1px rgba(0, 0, 0, 0.15);\n",
              "      filter: drop-shadow(0px 1px 2px rgba(0, 0, 0, 0.3));\n",
              "      fill: #FFFFFF;\n",
              "    }\n",
              "  </style>\n",
              "\n",
              "      <script>\n",
              "        const buttonEl =\n",
              "          document.querySelector('#df-378c907c-376f-4071-aaf7-15ef30f846a2 button.colab-df-convert');\n",
              "        buttonEl.style.display =\n",
              "          google.colab.kernel.accessAllowed ? 'block' : 'none';\n",
              "\n",
              "        async function convertToInteractive(key) {\n",
              "          const element = document.querySelector('#df-378c907c-376f-4071-aaf7-15ef30f846a2');\n",
              "          const dataTable =\n",
              "            await google.colab.kernel.invokeFunction('convertToInteractive',\n",
              "                                                     [key], {});\n",
              "          if (!dataTable) return;\n",
              "\n",
              "          const docLinkHtml = 'Like what you see? Visit the ' +\n",
              "            '<a target=\"_blank\" href=https://colab.research.google.com/notebooks/data_table.ipynb>data table notebook</a>'\n",
              "            + ' to learn more about interactive tables.';\n",
              "          element.innerHTML = '';\n",
              "          dataTable['output_type'] = 'display_data';\n",
              "          await google.colab.output.renderOutput(dataTable, element);\n",
              "          const docLink = document.createElement('div');\n",
              "          docLink.innerHTML = docLinkHtml;\n",
              "          element.appendChild(docLink);\n",
              "        }\n",
              "      </script>\n",
              "    </div>\n",
              "  </div>\n",
              "  "
            ]
          },
          "metadata": {},
          "execution_count": 150
        }
      ]
    },
    {
      "cell_type": "code",
      "source": [
        "test_data['lang'] = [s['label'] for s in pipe(test_data.clean_text.values.tolist(), truncation=True, max_length=128)]"
      ],
      "metadata": {
        "id": "FVTPNmEsqakD"
      },
      "execution_count": null,
      "outputs": []
    },
    {
      "cell_type": "code",
      "source": [
        "test_data['detect_lang'] = test_data['clean_text'].map(detect)"
      ],
      "metadata": {
        "id": "GmSz9kbCq8_e"
      },
      "execution_count": null,
      "outputs": []
    },
    {
      "cell_type": "code",
      "source": [
        "test_data[test_data['lang'] != 'en'].head()"
      ],
      "metadata": {
        "colab": {
          "base_uri": "https://localhost:8080/",
          "height": 1000
        },
        "id": "AFAtSOJErOan",
        "outputId": "08f0bb81-0e83-4257-ce19-ff1a0b65719c"
      },
      "execution_count": null,
      "outputs": [
        {
          "output_type": "execute_result",
          "data": {
            "text/plain": [
              "                                                                                                                                                                                                                                                                                      text  \\\n",
              "6                                                                                                                             Whilst at the campaigns they addressed several issues which they claim Jubilee have miserably failed to achieve. Raila, Uhuru Kenyatta,Senator Boni Khalwale   \n",
              "9   Aspirants for various elective seats in Murang'a including @Belive_Kinuthia and @Ruiru_benard joined us today to convey a message to the youth in Muranga that peace during elections is our responsibility.\\n\\n@FNF_EastAfrica \\n@NYC_YouthVoice\\n#FormNiKuvote #MbogiYaAmani #GE2022   \n",
              "14                                                                                                                                                                                                                  Jubilee certificate issuance to Wanjiku Muhia in favour of Faith Gitau   \n",
              "15                                                                    That's the spirit; Your vote is your right #kenyadecides https://t.co/xxr3nZBAEr\\n\\n\"Hundreds of Youths moving through the neighborhoods of Kiambu, Kangemi and Uthiru with vuvuzelas waking up people and shouting\"   \n",
              "16                                                                                                                                            #IEBCResults #KenyaDecides  #RailaSpeaks@RailaOdinga #UhuruSpeaks@UKenyatta Kenya will not burn because of you in Jesus name #MyTribeNiPeace   \n",
              "\n",
              "                                                                                                                                                                                   clean_text  \\\n",
              "6                                        whilst the campaigns they addressed several issues which they claim jubilee have miserably failed achieve raila uhuru kenyatta senator boni khalwale   \n",
              "9   aspirants for various elective seats in murang including and joined today convey message the youth in muranga that peace during elections our responsibility formnikuvote mbogiyaamani ge   \n",
              "14                                                                                                                        jubilee certificate issuance wanjiku muhia in favour of faith gitau   \n",
              "15            that the spirit your vote your right kenyadecides hundreds of youths moving through the neighborhoods of kiambu kangemi and uthiru with vuvuzelas waking up people and shouting   \n",
              "16                                                                     iebcresults kenyadecides railaspeaksusr uhuruspeaksusr kenya will not burn because of you in jesus name mytribenipeace   \n",
              "\n",
              "                                                                                                                                                                                                                               normalized_text  \\\n",
              "6                                                                             Whilst at the campaigns they addressed several issues which they claim Jubilee have miserably failed to achieve . Raila , Uhuru Kenyatta , Senator Boni Khalwale   \n",
              "9   Aspirants for various elective seats in Murang'a including @USER and @USER joined us today to convey a message to the youth in Muranga that peace during elections is our responsibility . @USER @USER #FormNiKuvote #MbogiYaAmani #GE2022   \n",
              "14                                                                                                                                                                      Jubilee certificate issuance to Wanjiku Muhia in favour of Faith Gitau   \n",
              "15                                       That's the spirit ; Your vote is your right #kenyadecides HTTPURL \" Hundreds of Youths moving through the neighborhoods of Kiambu , Kangemi and Uthiru with vuvuzelas waking up people and shouting \"   \n",
              "16                                                                                                           #IEBCResults #KenyaDecides #RailaSpeaks @USER #UhuruSpeaks @USER Kenya will not burn because of you in Jesus name #MyTribeNiPeace   \n",
              "\n",
              "         merged_label              label     status Election Date  \\\n",
              "6   Political Rallies  Political Rallies  published   August 2017   \n",
              "9     Positive Events    Positive Events  published   August 2022   \n",
              "14  Political Rallies  Political Rallies  published   August 2017   \n",
              "15    Positive Events    Positive Events   archived   August 2017   \n",
              "16              Other              Other      draft   August 2017   \n",
              "\n",
              "                  date informative_label  election_distance  ...  \\\n",
              "6  2017-08-06 09:13:28       Informative                  2  ...   \n",
              "9  2022-07-16 12:26:56       Informative                 23  ...   \n",
              "14 2017-08-06 07:23:38       Informative                  2  ...   \n",
              "15 2017-08-08 05:00:03       Informative                  0  ...   \n",
              "16 2017-08-09 14:00:03   Non-Informative                 -1  ...   \n",
              "\n",
              "        hour_sin  hour_cos  informative_target  \\\n",
              "6   7.071068e-01 -0.707107                   0   \n",
              "9   1.224647e-16 -1.000000                   0   \n",
              "14  9.659258e-01 -0.258819                   0   \n",
              "15  9.659258e-01  0.258819                   0   \n",
              "16 -5.000000e-01 -0.866025                   1   \n",
              "\n",
              "                                                                                                                                                                                                                                                                                                                                                                                                                                                                                                                                                                                                                                                                                                                                                                                context  \\\n",
              "6   Uhuru Kenyatta led \" Uhuruto Express \" in securing voted in the county [SEP] Deputy President William Ruto led Jubilee campaigns in Tana River and Kilifi counties , challenging the opposition to come out clear on their agenda for the people , accusing them of confusing the public with two manifestos , while defending jubilees track record and urging residents to allow them to continue their development agenda . [SEP] Pokomo council of elders ( GASA ) publicly endorsed Tana River governorship aspirant Maj ( rtd ) Godhana , along with his running mate , Kea Batuyu Salim , senate aspirant Michael Nkaduda , Garsen Parliamentary aspirant Aliway Komora , Galole Parliamentary aspirant Said Hiribae and Woman Representative aspirant Rehema Namas . [SEP]    \n",
              "9                                                                                                                                                                                                                                              Our future is in the hands of the very 200,000 people who shouldn't have the vote . [SEP] We're taking the lead as the Youth on matter's leadership and Election's as we foster Peace around the Country during and after the election ! @USER @USER @USER @USER @USER #UchaguziWaAmani [SEP] With brothers @USER @USER and the young man who need to be stopped @USER how can you throw a gang sign in a corporate photo Isiolo fully represented at the Youth peace and voter education training ongoing @USER #UchaguziWaAmani [SEP]    \n",
              "14                                                                                               a ) Scorned the Inspector General of police over the apprehensions of its new polling stations strategies . b ) Demanded for the publication of the Voter Register by the IEBC c ) Mentioned the plans to provide free education from Nursery to Secondary school starting from 1st September [SEP] Jubilee Gubenatorial , women representative and senatorial , Mike Sonko , Rachel Shebesh , Sakaja Johnson respectively , held Caravan Campaigns in Nairobi estates pipeline , imara daima and embakasi [SEP] The Nasa leaders , led by presidential candidate Raila Odinga , called for a huge turnout on election day on Tuesday , but urged vigilance on the vote count . [SEP]    \n",
              "15                                                                                                                                                                                                                                                                                                                                                                                                                                                                                                                          Voter's names missing from the voters register #KURIA EAST #KOROMANGUCHA [SEP] CALLING FOR PEACE MY NAME IS BONNY MBINDU , I URGE FELLOW KENYANS TO VOTE PEACFULLY . GOD IS WITH US . AM FROM LIMURU . [SEP] KIEMS Kit working #KURIA EAST #SANCHAWA [SEP]    \n",
              "16                                                                                                                                                                                                                                                                                WHEN THE POWER OF LOVE OVERCOM THE LOVE POWER THE WOIRD WIIL NO PICE AMEN art by kipchumba alex sent to ail kenyans thenk you so murch [SEP] NTV Kenya ‏ Verified account @USER Kidero rejects provisional poll results showing Sonko leading Nairobi governor race ; calls for fresh physical recount of votes . #ElectionsKE [SEP] NASA @USER If manually tallying #IEBCResults will be the only assurance of credible figures , then we're ready to tabulate each of the 40,833 form 34As . [SEP]    \n",
              "\n",
              "    election_distance_transformed  negative   neutral  positive  lang  \\\n",
              "6                        0.546547  0.061147  0.688925  0.249928    sw   \n",
              "9                        0.981481  0.872473  0.115083  0.012444    sw   \n",
              "14                       0.546547  0.709581  0.228074  0.062345    sw   \n",
              "15                       0.464464  0.833105  0.127292  0.039603    sw   \n",
              "16                       0.529530  0.048142  0.824073  0.127785    sw   \n",
              "\n",
              "    detect_lang  \n",
              "6            en  \n",
              "9            en  \n",
              "14           en  \n",
              "15           en  \n",
              "16           en  \n",
              "\n",
              "[5 rows x 22 columns]"
            ],
            "text/html": [
              "\n",
              "  <div id=\"df-48888daf-be31-43dd-a0ef-0a98a83ad0de\">\n",
              "    <div class=\"colab-df-container\">\n",
              "      <div>\n",
              "<style scoped>\n",
              "    .dataframe tbody tr th:only-of-type {\n",
              "        vertical-align: middle;\n",
              "    }\n",
              "\n",
              "    .dataframe tbody tr th {\n",
              "        vertical-align: top;\n",
              "    }\n",
              "\n",
              "    .dataframe thead th {\n",
              "        text-align: right;\n",
              "    }\n",
              "</style>\n",
              "<table border=\"1\" class=\"dataframe\">\n",
              "  <thead>\n",
              "    <tr style=\"text-align: right;\">\n",
              "      <th></th>\n",
              "      <th>text</th>\n",
              "      <th>clean_text</th>\n",
              "      <th>normalized_text</th>\n",
              "      <th>merged_label</th>\n",
              "      <th>label</th>\n",
              "      <th>status</th>\n",
              "      <th>Election Date</th>\n",
              "      <th>date</th>\n",
              "      <th>informative_label</th>\n",
              "      <th>election_distance</th>\n",
              "      <th>...</th>\n",
              "      <th>hour_sin</th>\n",
              "      <th>hour_cos</th>\n",
              "      <th>informative_target</th>\n",
              "      <th>context</th>\n",
              "      <th>election_distance_transformed</th>\n",
              "      <th>negative</th>\n",
              "      <th>neutral</th>\n",
              "      <th>positive</th>\n",
              "      <th>lang</th>\n",
              "      <th>detect_lang</th>\n",
              "    </tr>\n",
              "  </thead>\n",
              "  <tbody>\n",
              "    <tr>\n",
              "      <th>6</th>\n",
              "      <td>Whilst at the campaigns they addressed several issues which they claim Jubilee have miserably failed to achieve. Raila, Uhuru Kenyatta,Senator Boni Khalwale</td>\n",
              "      <td>whilst the campaigns they addressed several issues which they claim jubilee have miserably failed achieve raila uhuru kenyatta senator boni khalwale</td>\n",
              "      <td>Whilst at the campaigns they addressed several issues which they claim Jubilee have miserably failed to achieve . Raila , Uhuru Kenyatta , Senator Boni Khalwale</td>\n",
              "      <td>Political Rallies</td>\n",
              "      <td>Political Rallies</td>\n",
              "      <td>published</td>\n",
              "      <td>August 2017</td>\n",
              "      <td>2017-08-06 09:13:28</td>\n",
              "      <td>Informative</td>\n",
              "      <td>2</td>\n",
              "      <td>...</td>\n",
              "      <td>7.071068e-01</td>\n",
              "      <td>-0.707107</td>\n",
              "      <td>0</td>\n",
              "      <td>Uhuru Kenyatta led \" Uhuruto Express \" in securing voted in the county [SEP] Deputy President William Ruto led Jubilee campaigns in Tana River and Kilifi counties , challenging the opposition to come out clear on their agenda for the people , accusing them of confusing the public with two manifestos , while defending jubilees track record and urging residents to allow them to continue their development agenda . [SEP] Pokomo council of elders ( GASA ) publicly endorsed Tana River governorship aspirant Maj ( rtd ) Godhana , along with his running mate , Kea Batuyu Salim , senate aspirant Michael Nkaduda , Garsen Parliamentary aspirant Aliway Komora , Galole Parliamentary aspirant Said Hiribae and Woman Representative aspirant Rehema Namas . [SEP]</td>\n",
              "      <td>0.546547</td>\n",
              "      <td>0.061147</td>\n",
              "      <td>0.688925</td>\n",
              "      <td>0.249928</td>\n",
              "      <td>sw</td>\n",
              "      <td>en</td>\n",
              "    </tr>\n",
              "    <tr>\n",
              "      <th>9</th>\n",
              "      <td>Aspirants for various elective seats in Murang'a including @Belive_Kinuthia and @Ruiru_benard joined us today to convey a message to the youth in Muranga that peace during elections is our responsibility.\\n\\n@FNF_EastAfrica \\n@NYC_YouthVoice\\n#FormNiKuvote #MbogiYaAmani #GE2022</td>\n",
              "      <td>aspirants for various elective seats in murang including and joined today convey message the youth in muranga that peace during elections our responsibility formnikuvote mbogiyaamani ge</td>\n",
              "      <td>Aspirants for various elective seats in Murang'a including @USER and @USER joined us today to convey a message to the youth in Muranga that peace during elections is our responsibility . @USER @USER #FormNiKuvote #MbogiYaAmani #GE2022</td>\n",
              "      <td>Positive Events</td>\n",
              "      <td>Positive Events</td>\n",
              "      <td>published</td>\n",
              "      <td>August 2022</td>\n",
              "      <td>2022-07-16 12:26:56</td>\n",
              "      <td>Informative</td>\n",
              "      <td>23</td>\n",
              "      <td>...</td>\n",
              "      <td>1.224647e-16</td>\n",
              "      <td>-1.000000</td>\n",
              "      <td>0</td>\n",
              "      <td>Our future is in the hands of the very 200,000 people who shouldn't have the vote . [SEP] We're taking the lead as the Youth on matter's leadership and Election's as we foster Peace around the Country during and after the election ! @USER @USER @USER @USER @USER #UchaguziWaAmani [SEP] With brothers @USER @USER and the young man who need to be stopped @USER how can you throw a gang sign in a corporate photo Isiolo fully represented at the Youth peace and voter education training ongoing @USER #UchaguziWaAmani [SEP]</td>\n",
              "      <td>0.981481</td>\n",
              "      <td>0.872473</td>\n",
              "      <td>0.115083</td>\n",
              "      <td>0.012444</td>\n",
              "      <td>sw</td>\n",
              "      <td>en</td>\n",
              "    </tr>\n",
              "    <tr>\n",
              "      <th>14</th>\n",
              "      <td>Jubilee certificate issuance to Wanjiku Muhia in favour of Faith Gitau</td>\n",
              "      <td>jubilee certificate issuance wanjiku muhia in favour of faith gitau</td>\n",
              "      <td>Jubilee certificate issuance to Wanjiku Muhia in favour of Faith Gitau</td>\n",
              "      <td>Political Rallies</td>\n",
              "      <td>Political Rallies</td>\n",
              "      <td>published</td>\n",
              "      <td>August 2017</td>\n",
              "      <td>2017-08-06 07:23:38</td>\n",
              "      <td>Informative</td>\n",
              "      <td>2</td>\n",
              "      <td>...</td>\n",
              "      <td>9.659258e-01</td>\n",
              "      <td>-0.258819</td>\n",
              "      <td>0</td>\n",
              "      <td>a ) Scorned the Inspector General of police over the apprehensions of its new polling stations strategies . b ) Demanded for the publication of the Voter Register by the IEBC c ) Mentioned the plans to provide free education from Nursery to Secondary school starting from 1st September [SEP] Jubilee Gubenatorial , women representative and senatorial , Mike Sonko , Rachel Shebesh , Sakaja Johnson respectively , held Caravan Campaigns in Nairobi estates pipeline , imara daima and embakasi [SEP] The Nasa leaders , led by presidential candidate Raila Odinga , called for a huge turnout on election day on Tuesday , but urged vigilance on the vote count . [SEP]</td>\n",
              "      <td>0.546547</td>\n",
              "      <td>0.709581</td>\n",
              "      <td>0.228074</td>\n",
              "      <td>0.062345</td>\n",
              "      <td>sw</td>\n",
              "      <td>en</td>\n",
              "    </tr>\n",
              "    <tr>\n",
              "      <th>15</th>\n",
              "      <td>That's the spirit; Your vote is your right #kenyadecides https://t.co/xxr3nZBAEr\\n\\n\"Hundreds of Youths moving through the neighborhoods of Kiambu, Kangemi and Uthiru with vuvuzelas waking up people and shouting\"</td>\n",
              "      <td>that the spirit your vote your right kenyadecides hundreds of youths moving through the neighborhoods of kiambu kangemi and uthiru with vuvuzelas waking up people and shouting</td>\n",
              "      <td>That's the spirit ; Your vote is your right #kenyadecides HTTPURL \" Hundreds of Youths moving through the neighborhoods of Kiambu , Kangemi and Uthiru with vuvuzelas waking up people and shouting \"</td>\n",
              "      <td>Positive Events</td>\n",
              "      <td>Positive Events</td>\n",
              "      <td>archived</td>\n",
              "      <td>August 2017</td>\n",
              "      <td>2017-08-08 05:00:03</td>\n",
              "      <td>Informative</td>\n",
              "      <td>0</td>\n",
              "      <td>...</td>\n",
              "      <td>9.659258e-01</td>\n",
              "      <td>0.258819</td>\n",
              "      <td>0</td>\n",
              "      <td>Voter's names missing from the voters register #KURIA EAST #KOROMANGUCHA [SEP] CALLING FOR PEACE MY NAME IS BONNY MBINDU , I URGE FELLOW KENYANS TO VOTE PEACFULLY . GOD IS WITH US . AM FROM LIMURU . [SEP] KIEMS Kit working #KURIA EAST #SANCHAWA [SEP]</td>\n",
              "      <td>0.464464</td>\n",
              "      <td>0.833105</td>\n",
              "      <td>0.127292</td>\n",
              "      <td>0.039603</td>\n",
              "      <td>sw</td>\n",
              "      <td>en</td>\n",
              "    </tr>\n",
              "    <tr>\n",
              "      <th>16</th>\n",
              "      <td>#IEBCResults #KenyaDecides  #RailaSpeaks@RailaOdinga #UhuruSpeaks@UKenyatta Kenya will not burn because of you in Jesus name #MyTribeNiPeace</td>\n",
              "      <td>iebcresults kenyadecides railaspeaksusr uhuruspeaksusr kenya will not burn because of you in jesus name mytribenipeace</td>\n",
              "      <td>#IEBCResults #KenyaDecides #RailaSpeaks @USER #UhuruSpeaks @USER Kenya will not burn because of you in Jesus name #MyTribeNiPeace</td>\n",
              "      <td>Other</td>\n",
              "      <td>Other</td>\n",
              "      <td>draft</td>\n",
              "      <td>August 2017</td>\n",
              "      <td>2017-08-09 14:00:03</td>\n",
              "      <td>Non-Informative</td>\n",
              "      <td>-1</td>\n",
              "      <td>...</td>\n",
              "      <td>-5.000000e-01</td>\n",
              "      <td>-0.866025</td>\n",
              "      <td>1</td>\n",
              "      <td>WHEN THE POWER OF LOVE OVERCOM THE LOVE POWER THE WOIRD WIIL NO PICE AMEN art by kipchumba alex sent to ail kenyans thenk you so murch [SEP] NTV Kenya ‏ Verified account @USER Kidero rejects provisional poll results showing Sonko leading Nairobi governor race ; calls for fresh physical recount of votes . #ElectionsKE [SEP] NASA @USER If manually tallying #IEBCResults will be the only assurance of credible figures , then we're ready to tabulate each of the 40,833 form 34As . [SEP]</td>\n",
              "      <td>0.529530</td>\n",
              "      <td>0.048142</td>\n",
              "      <td>0.824073</td>\n",
              "      <td>0.127785</td>\n",
              "      <td>sw</td>\n",
              "      <td>en</td>\n",
              "    </tr>\n",
              "  </tbody>\n",
              "</table>\n",
              "<p>5 rows × 22 columns</p>\n",
              "</div>\n",
              "      <button class=\"colab-df-convert\" onclick=\"convertToInteractive('df-48888daf-be31-43dd-a0ef-0a98a83ad0de')\"\n",
              "              title=\"Convert this dataframe to an interactive table.\"\n",
              "              style=\"display:none;\">\n",
              "        \n",
              "  <svg xmlns=\"http://www.w3.org/2000/svg\" height=\"24px\"viewBox=\"0 0 24 24\"\n",
              "       width=\"24px\">\n",
              "    <path d=\"M0 0h24v24H0V0z\" fill=\"none\"/>\n",
              "    <path d=\"M18.56 5.44l.94 2.06.94-2.06 2.06-.94-2.06-.94-.94-2.06-.94 2.06-2.06.94zm-11 1L8.5 8.5l.94-2.06 2.06-.94-2.06-.94L8.5 2.5l-.94 2.06-2.06.94zm10 10l.94 2.06.94-2.06 2.06-.94-2.06-.94-.94-2.06-.94 2.06-2.06.94z\"/><path d=\"M17.41 7.96l-1.37-1.37c-.4-.4-.92-.59-1.43-.59-.52 0-1.04.2-1.43.59L10.3 9.45l-7.72 7.72c-.78.78-.78 2.05 0 2.83L4 21.41c.39.39.9.59 1.41.59.51 0 1.02-.2 1.41-.59l7.78-7.78 2.81-2.81c.8-.78.8-2.07 0-2.86zM5.41 20L4 18.59l7.72-7.72 1.47 1.35L5.41 20z\"/>\n",
              "  </svg>\n",
              "      </button>\n",
              "      \n",
              "  <style>\n",
              "    .colab-df-container {\n",
              "      display:flex;\n",
              "      flex-wrap:wrap;\n",
              "      gap: 12px;\n",
              "    }\n",
              "\n",
              "    .colab-df-convert {\n",
              "      background-color: #E8F0FE;\n",
              "      border: none;\n",
              "      border-radius: 50%;\n",
              "      cursor: pointer;\n",
              "      display: none;\n",
              "      fill: #1967D2;\n",
              "      height: 32px;\n",
              "      padding: 0 0 0 0;\n",
              "      width: 32px;\n",
              "    }\n",
              "\n",
              "    .colab-df-convert:hover {\n",
              "      background-color: #E2EBFA;\n",
              "      box-shadow: 0px 1px 2px rgba(60, 64, 67, 0.3), 0px 1px 3px 1px rgba(60, 64, 67, 0.15);\n",
              "      fill: #174EA6;\n",
              "    }\n",
              "\n",
              "    [theme=dark] .colab-df-convert {\n",
              "      background-color: #3B4455;\n",
              "      fill: #D2E3FC;\n",
              "    }\n",
              "\n",
              "    [theme=dark] .colab-df-convert:hover {\n",
              "      background-color: #434B5C;\n",
              "      box-shadow: 0px 1px 3px 1px rgba(0, 0, 0, 0.15);\n",
              "      filter: drop-shadow(0px 1px 2px rgba(0, 0, 0, 0.3));\n",
              "      fill: #FFFFFF;\n",
              "    }\n",
              "  </style>\n",
              "\n",
              "      <script>\n",
              "        const buttonEl =\n",
              "          document.querySelector('#df-48888daf-be31-43dd-a0ef-0a98a83ad0de button.colab-df-convert');\n",
              "        buttonEl.style.display =\n",
              "          google.colab.kernel.accessAllowed ? 'block' : 'none';\n",
              "\n",
              "        async function convertToInteractive(key) {\n",
              "          const element = document.querySelector('#df-48888daf-be31-43dd-a0ef-0a98a83ad0de');\n",
              "          const dataTable =\n",
              "            await google.colab.kernel.invokeFunction('convertToInteractive',\n",
              "                                                     [key], {});\n",
              "          if (!dataTable) return;\n",
              "\n",
              "          const docLinkHtml = 'Like what you see? Visit the ' +\n",
              "            '<a target=\"_blank\" href=https://colab.research.google.com/notebooks/data_table.ipynb>data table notebook</a>'\n",
              "            + ' to learn more about interactive tables.';\n",
              "          element.innerHTML = '';\n",
              "          dataTable['output_type'] = 'display_data';\n",
              "          await google.colab.output.renderOutput(dataTable, element);\n",
              "          const docLink = document.createElement('div');\n",
              "          docLink.innerHTML = docLinkHtml;\n",
              "          element.appendChild(docLink);\n",
              "        }\n",
              "      </script>\n",
              "    </div>\n",
              "  </div>\n",
              "  "
            ]
          },
          "metadata": {},
          "execution_count": 153
        }
      ]
    },
    {
      "cell_type": "code",
      "source": [
        "english_test = test_data[test_data['detect_lang'] == 'en']"
      ],
      "metadata": {
        "id": "wNBfj0qSs9eK"
      },
      "execution_count": null,
      "outputs": []
    },
    {
      "cell_type": "code",
      "source": [
        "non_english_test = test_data[test_data['detect_lang'] != 'en']"
      ],
      "metadata": {
        "id": "Ij_7gDKOtixI"
      },
      "execution_count": null,
      "outputs": []
    },
    {
      "cell_type": "code",
      "source": [
        "non_english_test.shape"
      ],
      "metadata": {
        "colab": {
          "base_uri": "https://localhost:8080/"
        },
        "id": "tg6Dkt_9vLMe",
        "outputId": "9bb3ed80-15da-4cef-bcaa-3fa5ed145186"
      },
      "execution_count": null,
      "outputs": [
        {
          "output_type": "execute_result",
          "data": {
            "text/plain": [
              "(90, 22)"
            ]
          },
          "metadata": {},
          "execution_count": 156
        }
      ]
    },
    {
      "cell_type": "code",
      "source": [
        "english_test_informative = english_test[english_test['informative_label'] == 'Informative']\n",
        "english_test_informative.shape"
      ],
      "metadata": {
        "colab": {
          "base_uri": "https://localhost:8080/"
        },
        "id": "rGwIb6PD6XEU",
        "outputId": "d5c44d5f-a2a6-4729-b729-8d2585b34d61"
      },
      "execution_count": null,
      "outputs": [
        {
          "output_type": "execute_result",
          "data": {
            "text/plain": [
              "(450, 22)"
            ]
          },
          "metadata": {},
          "execution_count": 157
        }
      ]
    },
    {
      "cell_type": "code",
      "source": [
        "non_english_test_informative = non_english_test[non_english_test['informative_label'] == 'Informative']\n",
        "non_english_test_informative.shape"
      ],
      "metadata": {
        "colab": {
          "base_uri": "https://localhost:8080/"
        },
        "id": "zL-z6ltF6i-m",
        "outputId": "31f13583-6d9b-438c-efb0-53e12b5deb33"
      },
      "execution_count": null,
      "outputs": [
        {
          "output_type": "execute_result",
          "data": {
            "text/plain": [
              "(44, 22)"
            ]
          },
          "metadata": {},
          "execution_count": 158
        }
      ]
    },
    {
      "cell_type": "code",
      "source": [
        "# english_test_informative.head()"
      ],
      "metadata": {
        "id": "uh5QsS0c6uyz"
      },
      "execution_count": null,
      "outputs": []
    },
    {
      "cell_type": "code",
      "source": [
        "english_test_informative[\"target\"] = inf_labeller.transform(english_test_informative[\"merged_label\"])\n",
        "non_english_test_informative[\"target\"] = inf_labeller.transform(non_english_test_informative[\"merged_label\"])"
      ],
      "metadata": {
        "colab": {
          "base_uri": "https://localhost:8080/"
        },
        "id": "-IStdFZp8HXj",
        "outputId": "0c183185-b44c-4a0f-e8a3-5d6c3b67c492"
      },
      "execution_count": null,
      "outputs": [
        {
          "output_type": "stream",
          "name": "stderr",
          "text": [
            "<ipython-input-160-97b7bebe5aa8>:1: SettingWithCopyWarning: \n",
            "A value is trying to be set on a copy of a slice from a DataFrame.\n",
            "Try using .loc[row_indexer,col_indexer] = value instead\n",
            "\n",
            "See the caveats in the documentation: https://pandas.pydata.org/pandas-docs/stable/user_guide/indexing.html#returning-a-view-versus-a-copy\n",
            "  english_test_informative[\"target\"] = inf_labeller.transform(english_test_informative[\"merged_label\"])\n",
            "<ipython-input-160-97b7bebe5aa8>:2: SettingWithCopyWarning: \n",
            "A value is trying to be set on a copy of a slice from a DataFrame.\n",
            "Try using .loc[row_indexer,col_indexer] = value instead\n",
            "\n",
            "See the caveats in the documentation: https://pandas.pydata.org/pandas-docs/stable/user_guide/indexing.html#returning-a-view-versus-a-copy\n",
            "  non_english_test_informative[\"target\"] = inf_labeller.transform(non_english_test_informative[\"merged_label\"])\n"
          ]
        }
      ]
    },
    {
      "cell_type": "code",
      "source": [
        "english_test_sentences, english_test_targets = combine_features(english_test_informative)"
      ],
      "metadata": {
        "colab": {
          "base_uri": "https://localhost:8080/"
        },
        "id": "J3vqoT0Su4EB",
        "outputId": "56cb41d6-6a66-4a4f-e7db-6d92b8efbc7c"
      },
      "execution_count": null,
      "outputs": [
        {
          "output_type": "stream",
          "name": "stdout",
          "text": [
            "Combining features into strings...\n",
            "  DONE.\n",
            "Dataset contains 450 samples.\n"
          ]
        }
      ]
    },
    {
      "cell_type": "code",
      "source": [
        "non_english_test_sentences, non_english_test_targets = combine_features(non_english_test_informative)"
      ],
      "metadata": {
        "colab": {
          "base_uri": "https://localhost:8080/"
        },
        "id": "ZLft6kSFvD_q",
        "outputId": "6abe4a53-20a3-4fa9-d5b5-614d364d8da7"
      },
      "execution_count": null,
      "outputs": [
        {
          "output_type": "stream",
          "name": "stdout",
          "text": [
            "Combining features into strings...\n",
            "  DONE.\n",
            "Dataset contains 44 samples.\n"
          ]
        }
      ]
    },
    {
      "cell_type": "code",
      "source": [
        "english_input_ids, english_numerical_feats, english_attention_masks, english_labels = tokenize_with_numerical(english_test_sentences, english_test_targets, english_test_informative[numerical_feats].values)\n",
        "non_english_input_ids, non_english_numerical_feats, non_english_attention_masks, non_english_labels = tokenize_with_numerical(non_english_test_sentences, non_english_test_targets, non_english_test_informative[numerical_feats].values)"
      ],
      "metadata": {
        "id": "kRWkTP8xtnGH",
        "colab": {
          "base_uri": "https://localhost:8080/",
          "height": 401
        },
        "outputId": "9a4836e0-4cc2-40c0-ef4e-fda66ec38b04"
      },
      "execution_count": null,
      "outputs": [
        {
          "output_type": "error",
          "ename": "AttributeError",
          "evalue": "ignored",
          "traceback": [
            "\u001b[0;31m---------------------------------------------------------------------------\u001b[0m",
            "\u001b[0;31mAttributeError\u001b[0m                            Traceback (most recent call last)",
            "\u001b[0;32m<ipython-input-163-b90c21a866df>\u001b[0m in \u001b[0;36m<cell line: 1>\u001b[0;34m()\u001b[0m\n\u001b[0;32m----> 1\u001b[0;31m \u001b[0menglish_input_ids\u001b[0m\u001b[0;34m,\u001b[0m \u001b[0menglish_numerical_feats\u001b[0m\u001b[0;34m,\u001b[0m \u001b[0menglish_attention_masks\u001b[0m\u001b[0;34m,\u001b[0m \u001b[0menglish_labels\u001b[0m \u001b[0;34m=\u001b[0m \u001b[0mtokenize_with_numerical\u001b[0m\u001b[0;34m(\u001b[0m\u001b[0menglish_test_sentences\u001b[0m\u001b[0;34m,\u001b[0m \u001b[0menglish_test_targets\u001b[0m\u001b[0;34m,\u001b[0m \u001b[0menglish_test_informative\u001b[0m\u001b[0;34m[\u001b[0m\u001b[0mnumerical_feats\u001b[0m\u001b[0;34m]\u001b[0m\u001b[0;34m.\u001b[0m\u001b[0mvalues\u001b[0m\u001b[0;34m)\u001b[0m\u001b[0;34m\u001b[0m\u001b[0;34m\u001b[0m\u001b[0m\n\u001b[0m\u001b[1;32m      2\u001b[0m \u001b[0mnon_english_input_ids\u001b[0m\u001b[0;34m,\u001b[0m \u001b[0mnon_english_numerical_feats\u001b[0m\u001b[0;34m,\u001b[0m \u001b[0mnon_english_attention_masks\u001b[0m\u001b[0;34m,\u001b[0m \u001b[0mnon_english_labels\u001b[0m \u001b[0;34m=\u001b[0m \u001b[0mtokenize_with_numerical\u001b[0m\u001b[0;34m(\u001b[0m\u001b[0mnon_english_test_sentences\u001b[0m\u001b[0;34m,\u001b[0m \u001b[0mnon_english_test_targets\u001b[0m\u001b[0;34m,\u001b[0m \u001b[0mnon_english_test_informative\u001b[0m\u001b[0;34m[\u001b[0m\u001b[0mnumerical_feats\u001b[0m\u001b[0;34m]\u001b[0m\u001b[0;34m.\u001b[0m\u001b[0mvalues\u001b[0m\u001b[0;34m)\u001b[0m\u001b[0;34m\u001b[0m\u001b[0;34m\u001b[0m\u001b[0m\n",
            "\u001b[0;32m<ipython-input-84-18d58a9b06e4>\u001b[0m in \u001b[0;36mtokenize_with_numerical\u001b[0;34m(sentences, labels, numerical_feats)\u001b[0m\n\u001b[1;32m     13\u001b[0m       \u001b[0;31m#   (5) Pad or truncate the sentence to `max_length`\u001b[0m\u001b[0;34m\u001b[0m\u001b[0;34m\u001b[0m\u001b[0m\n\u001b[1;32m     14\u001b[0m       \u001b[0;31m#   (6) Create attention masks for [PAD] tokens.\u001b[0m\u001b[0;34m\u001b[0m\u001b[0;34m\u001b[0m\u001b[0m\n\u001b[0;32m---> 15\u001b[0;31m       encoded_dict = tokenizer.encode_plus(\n\u001b[0m\u001b[1;32m     16\u001b[0m                           \u001b[0msent\u001b[0m\u001b[0;34m,\u001b[0m                      \u001b[0;31m# Sentence to encode.\u001b[0m\u001b[0;34m\u001b[0m\u001b[0;34m\u001b[0m\u001b[0m\n\u001b[1;32m     17\u001b[0m                           \u001b[0madd_special_tokens\u001b[0m \u001b[0;34m=\u001b[0m \u001b[0;32mTrue\u001b[0m\u001b[0;34m,\u001b[0m \u001b[0;31m# Add '[CLS]' and '[SEP]'\u001b[0m\u001b[0;34m\u001b[0m\u001b[0;34m\u001b[0m\u001b[0m\n",
            "\u001b[0;31mAttributeError\u001b[0m: 'TweetTokenizer' object has no attribute 'encode_plus'"
          ]
        }
      ]
    },
    {
      "cell_type": "code",
      "source": [
        "from torch.utils.data.dataset import TensorDataset\n",
        "english_test_dataset = TensorDataset(english_input_ids, english_numerical_feats, english_attention_masks, english_labels)\n",
        "non_english_test_dataset = TensorDataset(non_english_input_ids, non_english_numerical_feats, non_english_attention_masks, non_english_labels)\n",
        "\n",
        "from torch.utils.data import DataLoader, RandomSampler, SequentialSampler\n",
        "\n",
        "# The DataLoader needs to know our batch size for training, so we specify it\n",
        "# here. For fine-tuning BERT on a specific task, the authors recommend a batch\n",
        "# size of 16 or 32.\n",
        "batch_size = batch_size\n",
        "\n",
        "# # For validation the order doesn't matter, so we'll just read them sequentially.\n",
        "english_dataloader = DataLoader(\n",
        "            english_test_dataset, # The validation samples.\n",
        "            sampler = SequentialSampler(english_test_dataset), # Pull out batches sequentially.\n",
        "            batch_size = batch_size # Evaluate with this batch size.\n",
        "        )\n",
        "\n",
        "non_english_dataloader = DataLoader(\n",
        "            non_english_test_dataset, # The validation samples.\n",
        "            sampler = SequentialSampler(non_english_test_dataset), # Pull out batches sequentially.\n",
        "            batch_size = batch_size # Evaluate with this batch size.\n",
        "        )"
      ],
      "metadata": {
        "id": "0QC68i9VvoVN"
      },
      "execution_count": null,
      "outputs": []
    },
    {
      "cell_type": "code",
      "source": [
        "# Test for english data set"
      ],
      "metadata": {
        "id": "TnAjZLDKwPCh"
      },
      "execution_count": null,
      "outputs": []
    },
    {
      "cell_type": "code",
      "source": [
        "def get_predictions(model, dataloader):\n",
        "      # Prediction on test set\n",
        "\n",
        "    # Put model in evaluation mode\n",
        "    model.eval()\n",
        "\n",
        "    # Tracking variables\n",
        "    predictions , true_labels = [], []\n",
        "\n",
        "    # Predict\n",
        "    for batch in dataloader:\n",
        "      # Add batch to GPU\n",
        "      batch = tuple(t.to(device) for t in batch)\n",
        "\n",
        "      # Unpack the inputs from our dataloader\n",
        "      b_input_ids, b_numerical_feats, b_input_mask, b_labels = batch\n",
        "\n",
        "      # Telling the model not to compute or store gradients, saving memory and\n",
        "      # speeding up prediction\n",
        "      with torch.no_grad():\n",
        "          # Forward pass, calculate logit predictions.\n",
        "          result = model(b_input_ids,\n",
        "                        token_type_ids=None,\n",
        "                        attention_mask=b_input_mask,\n",
        "                        numerical_feats = b_numerical_feats)\n",
        "\n",
        "      logits = result['logits']\n",
        "\n",
        "      # Move logits and labels to CPU\n",
        "      logits = logits.detach().cpu().numpy()\n",
        "      label_ids = b_labels.to('cpu').numpy()\n",
        "\n",
        "      # Store predictions and true labels\n",
        "      predictions.append(logits)\n",
        "      true_labels.append(label_ids)\n",
        "\n",
        "    print('DONE.')\n",
        "    return predictions, true_labels"
      ],
      "metadata": {
        "id": "mB3kqIkIwWvk"
      },
      "execution_count": null,
      "outputs": []
    },
    {
      "cell_type": "code",
      "source": [
        "def print_classification_report(predictions, true_labels):\n",
        "  # Combine the results across all batches.\n",
        "  flat_predictions = np.concatenate(predictions, axis=0)\n",
        "\n",
        "  # For each sample, pick the label (0 or 1) with the higher score.\n",
        "  flat_predictions = np.argmax(flat_predictions, axis=1).flatten()\n",
        "\n",
        "  # Combine the correct labels for each batch into a single list.\n",
        "  flat_true_labels = np.concatenate(true_labels, axis=0)\n",
        "\n",
        "  # # Calculate the MCC\n",
        "  # mcc = matthews_corrcoef(flat_true_labels, flat_predictions)\n",
        "\n",
        "  # print('Total MCC: %.3f' % mcc)\n",
        "\n",
        "  print(classification_report(flat_true_labels,\n",
        "                                  flat_predictions,\n",
        "                                  target_names=inf_mapping.keys()))\n",
        "\n",
        "  plot_cm(flat_true_labels, flat_predictions, list(inf_mapping.keys()))"
      ],
      "metadata": {
        "id": "Lz4MVp81wYsv"
      },
      "execution_count": null,
      "outputs": []
    },
    {
      "cell_type": "code",
      "source": [
        "predictions, true_labels = get_predictions(model, english_dataloader)\n",
        "print_classification_report(predictions, true_labels)"
      ],
      "metadata": {
        "id": "HQri2I5Rw2JW"
      },
      "execution_count": null,
      "outputs": []
    },
    {
      "cell_type": "code",
      "source": [
        "predictions, true_labels = get_predictions(model, non_english_dataloader)\n",
        "print_classification_report(predictions, true_labels)"
      ],
      "metadata": {
        "id": "0oN51bwrw41O"
      },
      "execution_count": null,
      "outputs": []
    },
    {
      "cell_type": "code",
      "source": [],
      "metadata": {
        "id": "MenzS3860KZ0"
      },
      "execution_count": null,
      "outputs": []
    }
  ],
  "metadata": {
    "accelerator": "GPU",
    "colab": {
      "machine_shape": "hm",
      "provenance": [],
      "gpuType": "T4",
      "toc_visible": true
    },
    "kernelspec": {
      "display_name": "Python 3",
      "name": "python3"
    },
    "language_info": {
      "name": "python"
    },
    "widgets": {
      "application/vnd.jupyter.widget-state+json": {
        "8885f78f04e6418ca039859b7bd00fd0": {
          "model_module": "@jupyter-widgets/controls",
          "model_name": "HBoxModel",
          "model_module_version": "1.5.0",
          "state": {
            "_dom_classes": [],
            "_model_module": "@jupyter-widgets/controls",
            "_model_module_version": "1.5.0",
            "_model_name": "HBoxModel",
            "_view_count": null,
            "_view_module": "@jupyter-widgets/controls",
            "_view_module_version": "1.5.0",
            "_view_name": "HBoxView",
            "box_style": "",
            "children": [
              "IPY_MODEL_64c4eed2f27d41589052ffa768ac6fa8",
              "IPY_MODEL_e3e83fe93a6f46509653d0215fdb3b36",
              "IPY_MODEL_e6c3e639e7b64509b4c34ca1bb942a31"
            ],
            "layout": "IPY_MODEL_7ffb4f350fcc477ab0a62a1020d4067c"
          }
        },
        "64c4eed2f27d41589052ffa768ac6fa8": {
          "model_module": "@jupyter-widgets/controls",
          "model_name": "HTMLModel",
          "model_module_version": "1.5.0",
          "state": {
            "_dom_classes": [],
            "_model_module": "@jupyter-widgets/controls",
            "_model_module_version": "1.5.0",
            "_model_name": "HTMLModel",
            "_view_count": null,
            "_view_module": "@jupyter-widgets/controls",
            "_view_module_version": "1.5.0",
            "_view_name": "HTMLView",
            "description": "",
            "description_tooltip": null,
            "layout": "IPY_MODEL_c2a0f34728874c3784b8f9d0d1f3aab0",
            "placeholder": "​",
            "style": "IPY_MODEL_4af236cd166c49e6a61039f8cf01d229",
            "value": "Downloading (…)lve/main/config.json: 100%"
          }
        },
        "e3e83fe93a6f46509653d0215fdb3b36": {
          "model_module": "@jupyter-widgets/controls",
          "model_name": "FloatProgressModel",
          "model_module_version": "1.5.0",
          "state": {
            "_dom_classes": [],
            "_model_module": "@jupyter-widgets/controls",
            "_model_module_version": "1.5.0",
            "_model_name": "FloatProgressModel",
            "_view_count": null,
            "_view_module": "@jupyter-widgets/controls",
            "_view_module_version": "1.5.0",
            "_view_name": "ProgressView",
            "bar_style": "success",
            "description": "",
            "description_tooltip": null,
            "layout": "IPY_MODEL_7fe2f56efeb64b7a927535768c2b3a24",
            "max": 1417,
            "min": 0,
            "orientation": "horizontal",
            "style": "IPY_MODEL_da1193cfcf37436f909495a37dc50e07",
            "value": 1417
          }
        },
        "e6c3e639e7b64509b4c34ca1bb942a31": {
          "model_module": "@jupyter-widgets/controls",
          "model_name": "HTMLModel",
          "model_module_version": "1.5.0",
          "state": {
            "_dom_classes": [],
            "_model_module": "@jupyter-widgets/controls",
            "_model_module_version": "1.5.0",
            "_model_name": "HTMLModel",
            "_view_count": null,
            "_view_module": "@jupyter-widgets/controls",
            "_view_module_version": "1.5.0",
            "_view_name": "HTMLView",
            "description": "",
            "description_tooltip": null,
            "layout": "IPY_MODEL_3ea70ccd200b4587b93f09725c660481",
            "placeholder": "​",
            "style": "IPY_MODEL_91b02415390249bca59559d0483a6400",
            "value": " 1.42k/1.42k [00:00&lt;00:00, 130kB/s]"
          }
        },
        "7ffb4f350fcc477ab0a62a1020d4067c": {
          "model_module": "@jupyter-widgets/base",
          "model_name": "LayoutModel",
          "model_module_version": "1.2.0",
          "state": {
            "_model_module": "@jupyter-widgets/base",
            "_model_module_version": "1.2.0",
            "_model_name": "LayoutModel",
            "_view_count": null,
            "_view_module": "@jupyter-widgets/base",
            "_view_module_version": "1.2.0",
            "_view_name": "LayoutView",
            "align_content": null,
            "align_items": null,
            "align_self": null,
            "border": null,
            "bottom": null,
            "display": null,
            "flex": null,
            "flex_flow": null,
            "grid_area": null,
            "grid_auto_columns": null,
            "grid_auto_flow": null,
            "grid_auto_rows": null,
            "grid_column": null,
            "grid_gap": null,
            "grid_row": null,
            "grid_template_areas": null,
            "grid_template_columns": null,
            "grid_template_rows": null,
            "height": null,
            "justify_content": null,
            "justify_items": null,
            "left": null,
            "margin": null,
            "max_height": null,
            "max_width": null,
            "min_height": null,
            "min_width": null,
            "object_fit": null,
            "object_position": null,
            "order": null,
            "overflow": null,
            "overflow_x": null,
            "overflow_y": null,
            "padding": null,
            "right": null,
            "top": null,
            "visibility": null,
            "width": null
          }
        },
        "c2a0f34728874c3784b8f9d0d1f3aab0": {
          "model_module": "@jupyter-widgets/base",
          "model_name": "LayoutModel",
          "model_module_version": "1.2.0",
          "state": {
            "_model_module": "@jupyter-widgets/base",
            "_model_module_version": "1.2.0",
            "_model_name": "LayoutModel",
            "_view_count": null,
            "_view_module": "@jupyter-widgets/base",
            "_view_module_version": "1.2.0",
            "_view_name": "LayoutView",
            "align_content": null,
            "align_items": null,
            "align_self": null,
            "border": null,
            "bottom": null,
            "display": null,
            "flex": null,
            "flex_flow": null,
            "grid_area": null,
            "grid_auto_columns": null,
            "grid_auto_flow": null,
            "grid_auto_rows": null,
            "grid_column": null,
            "grid_gap": null,
            "grid_row": null,
            "grid_template_areas": null,
            "grid_template_columns": null,
            "grid_template_rows": null,
            "height": null,
            "justify_content": null,
            "justify_items": null,
            "left": null,
            "margin": null,
            "max_height": null,
            "max_width": null,
            "min_height": null,
            "min_width": null,
            "object_fit": null,
            "object_position": null,
            "order": null,
            "overflow": null,
            "overflow_x": null,
            "overflow_y": null,
            "padding": null,
            "right": null,
            "top": null,
            "visibility": null,
            "width": null
          }
        },
        "4af236cd166c49e6a61039f8cf01d229": {
          "model_module": "@jupyter-widgets/controls",
          "model_name": "DescriptionStyleModel",
          "model_module_version": "1.5.0",
          "state": {
            "_model_module": "@jupyter-widgets/controls",
            "_model_module_version": "1.5.0",
            "_model_name": "DescriptionStyleModel",
            "_view_count": null,
            "_view_module": "@jupyter-widgets/base",
            "_view_module_version": "1.2.0",
            "_view_name": "StyleView",
            "description_width": ""
          }
        },
        "7fe2f56efeb64b7a927535768c2b3a24": {
          "model_module": "@jupyter-widgets/base",
          "model_name": "LayoutModel",
          "model_module_version": "1.2.0",
          "state": {
            "_model_module": "@jupyter-widgets/base",
            "_model_module_version": "1.2.0",
            "_model_name": "LayoutModel",
            "_view_count": null,
            "_view_module": "@jupyter-widgets/base",
            "_view_module_version": "1.2.0",
            "_view_name": "LayoutView",
            "align_content": null,
            "align_items": null,
            "align_self": null,
            "border": null,
            "bottom": null,
            "display": null,
            "flex": null,
            "flex_flow": null,
            "grid_area": null,
            "grid_auto_columns": null,
            "grid_auto_flow": null,
            "grid_auto_rows": null,
            "grid_column": null,
            "grid_gap": null,
            "grid_row": null,
            "grid_template_areas": null,
            "grid_template_columns": null,
            "grid_template_rows": null,
            "height": null,
            "justify_content": null,
            "justify_items": null,
            "left": null,
            "margin": null,
            "max_height": null,
            "max_width": null,
            "min_height": null,
            "min_width": null,
            "object_fit": null,
            "object_position": null,
            "order": null,
            "overflow": null,
            "overflow_x": null,
            "overflow_y": null,
            "padding": null,
            "right": null,
            "top": null,
            "visibility": null,
            "width": null
          }
        },
        "da1193cfcf37436f909495a37dc50e07": {
          "model_module": "@jupyter-widgets/controls",
          "model_name": "ProgressStyleModel",
          "model_module_version": "1.5.0",
          "state": {
            "_model_module": "@jupyter-widgets/controls",
            "_model_module_version": "1.5.0",
            "_model_name": "ProgressStyleModel",
            "_view_count": null,
            "_view_module": "@jupyter-widgets/base",
            "_view_module_version": "1.2.0",
            "_view_name": "StyleView",
            "bar_color": null,
            "description_width": ""
          }
        },
        "3ea70ccd200b4587b93f09725c660481": {
          "model_module": "@jupyter-widgets/base",
          "model_name": "LayoutModel",
          "model_module_version": "1.2.0",
          "state": {
            "_model_module": "@jupyter-widgets/base",
            "_model_module_version": "1.2.0",
            "_model_name": "LayoutModel",
            "_view_count": null,
            "_view_module": "@jupyter-widgets/base",
            "_view_module_version": "1.2.0",
            "_view_name": "LayoutView",
            "align_content": null,
            "align_items": null,
            "align_self": null,
            "border": null,
            "bottom": null,
            "display": null,
            "flex": null,
            "flex_flow": null,
            "grid_area": null,
            "grid_auto_columns": null,
            "grid_auto_flow": null,
            "grid_auto_rows": null,
            "grid_column": null,
            "grid_gap": null,
            "grid_row": null,
            "grid_template_areas": null,
            "grid_template_columns": null,
            "grid_template_rows": null,
            "height": null,
            "justify_content": null,
            "justify_items": null,
            "left": null,
            "margin": null,
            "max_height": null,
            "max_width": null,
            "min_height": null,
            "min_width": null,
            "object_fit": null,
            "object_position": null,
            "order": null,
            "overflow": null,
            "overflow_x": null,
            "overflow_y": null,
            "padding": null,
            "right": null,
            "top": null,
            "visibility": null,
            "width": null
          }
        },
        "91b02415390249bca59559d0483a6400": {
          "model_module": "@jupyter-widgets/controls",
          "model_name": "DescriptionStyleModel",
          "model_module_version": "1.5.0",
          "state": {
            "_model_module": "@jupyter-widgets/controls",
            "_model_module_version": "1.5.0",
            "_model_name": "DescriptionStyleModel",
            "_view_count": null,
            "_view_module": "@jupyter-widgets/base",
            "_view_module_version": "1.2.0",
            "_view_name": "StyleView",
            "description_width": ""
          }
        },
        "81b511d8a3b2496e8d9fab30a6c6c2ce": {
          "model_module": "@jupyter-widgets/controls",
          "model_name": "HBoxModel",
          "model_module_version": "1.5.0",
          "state": {
            "_dom_classes": [],
            "_model_module": "@jupyter-widgets/controls",
            "_model_module_version": "1.5.0",
            "_model_name": "HBoxModel",
            "_view_count": null,
            "_view_module": "@jupyter-widgets/controls",
            "_view_module_version": "1.5.0",
            "_view_name": "HBoxView",
            "box_style": "",
            "children": [
              "IPY_MODEL_07cd6eef1a75417db44047f863bf78eb",
              "IPY_MODEL_8d520b401c3e4dae9519073d78330116",
              "IPY_MODEL_0a9894fd2cfb4c93bea4f84aaf8f68d3"
            ],
            "layout": "IPY_MODEL_a73573243b804f37b9c36fe433c251d9"
          }
        },
        "07cd6eef1a75417db44047f863bf78eb": {
          "model_module": "@jupyter-widgets/controls",
          "model_name": "HTMLModel",
          "model_module_version": "1.5.0",
          "state": {
            "_dom_classes": [],
            "_model_module": "@jupyter-widgets/controls",
            "_model_module_version": "1.5.0",
            "_model_name": "HTMLModel",
            "_view_count": null,
            "_view_module": "@jupyter-widgets/controls",
            "_view_module_version": "1.5.0",
            "_view_name": "HTMLView",
            "description": "",
            "description_tooltip": null,
            "layout": "IPY_MODEL_8fa7afb0b2fb4a48ac1291cb3bd1c6d5",
            "placeholder": "​",
            "style": "IPY_MODEL_c1b3ffcf92104a2d8f7888548c486496",
            "value": "Downloading pytorch_model.bin: 100%"
          }
        },
        "8d520b401c3e4dae9519073d78330116": {
          "model_module": "@jupyter-widgets/controls",
          "model_name": "FloatProgressModel",
          "model_module_version": "1.5.0",
          "state": {
            "_dom_classes": [],
            "_model_module": "@jupyter-widgets/controls",
            "_model_module_version": "1.5.0",
            "_model_name": "FloatProgressModel",
            "_view_count": null,
            "_view_module": "@jupyter-widgets/controls",
            "_view_module_version": "1.5.0",
            "_view_name": "ProgressView",
            "bar_style": "success",
            "description": "",
            "description_tooltip": null,
            "layout": "IPY_MODEL_33b98866ad5143c693fed53c8bdc86e9",
            "max": 1112318701,
            "min": 0,
            "orientation": "horizontal",
            "style": "IPY_MODEL_dfee316175254ce6b324a9958065e3fb",
            "value": 1112318701
          }
        },
        "0a9894fd2cfb4c93bea4f84aaf8f68d3": {
          "model_module": "@jupyter-widgets/controls",
          "model_name": "HTMLModel",
          "model_module_version": "1.5.0",
          "state": {
            "_dom_classes": [],
            "_model_module": "@jupyter-widgets/controls",
            "_model_module_version": "1.5.0",
            "_model_name": "HTMLModel",
            "_view_count": null,
            "_view_module": "@jupyter-widgets/controls",
            "_view_module_version": "1.5.0",
            "_view_name": "HTMLView",
            "description": "",
            "description_tooltip": null,
            "layout": "IPY_MODEL_359aeac022d4443d9ccd3ada7d1eb72e",
            "placeholder": "​",
            "style": "IPY_MODEL_be65e8b975354d8398b5e41f21c79118",
            "value": " 1.11G/1.11G [00:01&lt;00:00, 581MB/s]"
          }
        },
        "a73573243b804f37b9c36fe433c251d9": {
          "model_module": "@jupyter-widgets/base",
          "model_name": "LayoutModel",
          "model_module_version": "1.2.0",
          "state": {
            "_model_module": "@jupyter-widgets/base",
            "_model_module_version": "1.2.0",
            "_model_name": "LayoutModel",
            "_view_count": null,
            "_view_module": "@jupyter-widgets/base",
            "_view_module_version": "1.2.0",
            "_view_name": "LayoutView",
            "align_content": null,
            "align_items": null,
            "align_self": null,
            "border": null,
            "bottom": null,
            "display": null,
            "flex": null,
            "flex_flow": null,
            "grid_area": null,
            "grid_auto_columns": null,
            "grid_auto_flow": null,
            "grid_auto_rows": null,
            "grid_column": null,
            "grid_gap": null,
            "grid_row": null,
            "grid_template_areas": null,
            "grid_template_columns": null,
            "grid_template_rows": null,
            "height": null,
            "justify_content": null,
            "justify_items": null,
            "left": null,
            "margin": null,
            "max_height": null,
            "max_width": null,
            "min_height": null,
            "min_width": null,
            "object_fit": null,
            "object_position": null,
            "order": null,
            "overflow": null,
            "overflow_x": null,
            "overflow_y": null,
            "padding": null,
            "right": null,
            "top": null,
            "visibility": null,
            "width": null
          }
        },
        "8fa7afb0b2fb4a48ac1291cb3bd1c6d5": {
          "model_module": "@jupyter-widgets/base",
          "model_name": "LayoutModel",
          "model_module_version": "1.2.0",
          "state": {
            "_model_module": "@jupyter-widgets/base",
            "_model_module_version": "1.2.0",
            "_model_name": "LayoutModel",
            "_view_count": null,
            "_view_module": "@jupyter-widgets/base",
            "_view_module_version": "1.2.0",
            "_view_name": "LayoutView",
            "align_content": null,
            "align_items": null,
            "align_self": null,
            "border": null,
            "bottom": null,
            "display": null,
            "flex": null,
            "flex_flow": null,
            "grid_area": null,
            "grid_auto_columns": null,
            "grid_auto_flow": null,
            "grid_auto_rows": null,
            "grid_column": null,
            "grid_gap": null,
            "grid_row": null,
            "grid_template_areas": null,
            "grid_template_columns": null,
            "grid_template_rows": null,
            "height": null,
            "justify_content": null,
            "justify_items": null,
            "left": null,
            "margin": null,
            "max_height": null,
            "max_width": null,
            "min_height": null,
            "min_width": null,
            "object_fit": null,
            "object_position": null,
            "order": null,
            "overflow": null,
            "overflow_x": null,
            "overflow_y": null,
            "padding": null,
            "right": null,
            "top": null,
            "visibility": null,
            "width": null
          }
        },
        "c1b3ffcf92104a2d8f7888548c486496": {
          "model_module": "@jupyter-widgets/controls",
          "model_name": "DescriptionStyleModel",
          "model_module_version": "1.5.0",
          "state": {
            "_model_module": "@jupyter-widgets/controls",
            "_model_module_version": "1.5.0",
            "_model_name": "DescriptionStyleModel",
            "_view_count": null,
            "_view_module": "@jupyter-widgets/base",
            "_view_module_version": "1.2.0",
            "_view_name": "StyleView",
            "description_width": ""
          }
        },
        "33b98866ad5143c693fed53c8bdc86e9": {
          "model_module": "@jupyter-widgets/base",
          "model_name": "LayoutModel",
          "model_module_version": "1.2.0",
          "state": {
            "_model_module": "@jupyter-widgets/base",
            "_model_module_version": "1.2.0",
            "_model_name": "LayoutModel",
            "_view_count": null,
            "_view_module": "@jupyter-widgets/base",
            "_view_module_version": "1.2.0",
            "_view_name": "LayoutView",
            "align_content": null,
            "align_items": null,
            "align_self": null,
            "border": null,
            "bottom": null,
            "display": null,
            "flex": null,
            "flex_flow": null,
            "grid_area": null,
            "grid_auto_columns": null,
            "grid_auto_flow": null,
            "grid_auto_rows": null,
            "grid_column": null,
            "grid_gap": null,
            "grid_row": null,
            "grid_template_areas": null,
            "grid_template_columns": null,
            "grid_template_rows": null,
            "height": null,
            "justify_content": null,
            "justify_items": null,
            "left": null,
            "margin": null,
            "max_height": null,
            "max_width": null,
            "min_height": null,
            "min_width": null,
            "object_fit": null,
            "object_position": null,
            "order": null,
            "overflow": null,
            "overflow_x": null,
            "overflow_y": null,
            "padding": null,
            "right": null,
            "top": null,
            "visibility": null,
            "width": null
          }
        },
        "dfee316175254ce6b324a9958065e3fb": {
          "model_module": "@jupyter-widgets/controls",
          "model_name": "ProgressStyleModel",
          "model_module_version": "1.5.0",
          "state": {
            "_model_module": "@jupyter-widgets/controls",
            "_model_module_version": "1.5.0",
            "_model_name": "ProgressStyleModel",
            "_view_count": null,
            "_view_module": "@jupyter-widgets/base",
            "_view_module_version": "1.2.0",
            "_view_name": "StyleView",
            "bar_color": null,
            "description_width": ""
          }
        },
        "359aeac022d4443d9ccd3ada7d1eb72e": {
          "model_module": "@jupyter-widgets/base",
          "model_name": "LayoutModel",
          "model_module_version": "1.2.0",
          "state": {
            "_model_module": "@jupyter-widgets/base",
            "_model_module_version": "1.2.0",
            "_model_name": "LayoutModel",
            "_view_count": null,
            "_view_module": "@jupyter-widgets/base",
            "_view_module_version": "1.2.0",
            "_view_name": "LayoutView",
            "align_content": null,
            "align_items": null,
            "align_self": null,
            "border": null,
            "bottom": null,
            "display": null,
            "flex": null,
            "flex_flow": null,
            "grid_area": null,
            "grid_auto_columns": null,
            "grid_auto_flow": null,
            "grid_auto_rows": null,
            "grid_column": null,
            "grid_gap": null,
            "grid_row": null,
            "grid_template_areas": null,
            "grid_template_columns": null,
            "grid_template_rows": null,
            "height": null,
            "justify_content": null,
            "justify_items": null,
            "left": null,
            "margin": null,
            "max_height": null,
            "max_width": null,
            "min_height": null,
            "min_width": null,
            "object_fit": null,
            "object_position": null,
            "order": null,
            "overflow": null,
            "overflow_x": null,
            "overflow_y": null,
            "padding": null,
            "right": null,
            "top": null,
            "visibility": null,
            "width": null
          }
        },
        "be65e8b975354d8398b5e41f21c79118": {
          "model_module": "@jupyter-widgets/controls",
          "model_name": "DescriptionStyleModel",
          "model_module_version": "1.5.0",
          "state": {
            "_model_module": "@jupyter-widgets/controls",
            "_model_module_version": "1.5.0",
            "_model_name": "DescriptionStyleModel",
            "_view_count": null,
            "_view_module": "@jupyter-widgets/base",
            "_view_module_version": "1.2.0",
            "_view_name": "StyleView",
            "description_width": ""
          }
        },
        "03d6998c4f0040dd8d5074d48506105d": {
          "model_module": "@jupyter-widgets/controls",
          "model_name": "HBoxModel",
          "model_module_version": "1.5.0",
          "state": {
            "_dom_classes": [],
            "_model_module": "@jupyter-widgets/controls",
            "_model_module_version": "1.5.0",
            "_model_name": "HBoxModel",
            "_view_count": null,
            "_view_module": "@jupyter-widgets/controls",
            "_view_module_version": "1.5.0",
            "_view_name": "HBoxView",
            "box_style": "",
            "children": [
              "IPY_MODEL_af6efed3da844937b93623e2a6d42512",
              "IPY_MODEL_83fac588d4fb485db8843e583b93668b",
              "IPY_MODEL_9efe6081a80e4377b6debf928a12575e"
            ],
            "layout": "IPY_MODEL_354583cdee5746248e657dae6126166f"
          }
        },
        "af6efed3da844937b93623e2a6d42512": {
          "model_module": "@jupyter-widgets/controls",
          "model_name": "HTMLModel",
          "model_module_version": "1.5.0",
          "state": {
            "_dom_classes": [],
            "_model_module": "@jupyter-widgets/controls",
            "_model_module_version": "1.5.0",
            "_model_name": "HTMLModel",
            "_view_count": null,
            "_view_module": "@jupyter-widgets/controls",
            "_view_module_version": "1.5.0",
            "_view_name": "HTMLView",
            "description": "",
            "description_tooltip": null,
            "layout": "IPY_MODEL_d98fbee2f5904bab9dad65b6b2c3feb3",
            "placeholder": "​",
            "style": "IPY_MODEL_e31ed23d62724febb5f7a7c8d8ae387f",
            "value": "Downloading (…)okenizer_config.json: 100%"
          }
        },
        "83fac588d4fb485db8843e583b93668b": {
          "model_module": "@jupyter-widgets/controls",
          "model_name": "FloatProgressModel",
          "model_module_version": "1.5.0",
          "state": {
            "_dom_classes": [],
            "_model_module": "@jupyter-widgets/controls",
            "_model_module_version": "1.5.0",
            "_model_name": "FloatProgressModel",
            "_view_count": null,
            "_view_module": "@jupyter-widgets/controls",
            "_view_module_version": "1.5.0",
            "_view_name": "ProgressView",
            "bar_style": "success",
            "description": "",
            "description_tooltip": null,
            "layout": "IPY_MODEL_6f93351430b94587877b61d4b1d4a5be",
            "max": 502,
            "min": 0,
            "orientation": "horizontal",
            "style": "IPY_MODEL_0e172dbd79ef442cb1b1231f7da9f88a",
            "value": 502
          }
        },
        "9efe6081a80e4377b6debf928a12575e": {
          "model_module": "@jupyter-widgets/controls",
          "model_name": "HTMLModel",
          "model_module_version": "1.5.0",
          "state": {
            "_dom_classes": [],
            "_model_module": "@jupyter-widgets/controls",
            "_model_module_version": "1.5.0",
            "_model_name": "HTMLModel",
            "_view_count": null,
            "_view_module": "@jupyter-widgets/controls",
            "_view_module_version": "1.5.0",
            "_view_name": "HTMLView",
            "description": "",
            "description_tooltip": null,
            "layout": "IPY_MODEL_9ade5b0b2d564b1483bfab74d7603025",
            "placeholder": "​",
            "style": "IPY_MODEL_6e772ac45f254328bfb3ae31af7c3074",
            "value": " 502/502 [00:00&lt;00:00, 40.9kB/s]"
          }
        },
        "354583cdee5746248e657dae6126166f": {
          "model_module": "@jupyter-widgets/base",
          "model_name": "LayoutModel",
          "model_module_version": "1.2.0",
          "state": {
            "_model_module": "@jupyter-widgets/base",
            "_model_module_version": "1.2.0",
            "_model_name": "LayoutModel",
            "_view_count": null,
            "_view_module": "@jupyter-widgets/base",
            "_view_module_version": "1.2.0",
            "_view_name": "LayoutView",
            "align_content": null,
            "align_items": null,
            "align_self": null,
            "border": null,
            "bottom": null,
            "display": null,
            "flex": null,
            "flex_flow": null,
            "grid_area": null,
            "grid_auto_columns": null,
            "grid_auto_flow": null,
            "grid_auto_rows": null,
            "grid_column": null,
            "grid_gap": null,
            "grid_row": null,
            "grid_template_areas": null,
            "grid_template_columns": null,
            "grid_template_rows": null,
            "height": null,
            "justify_content": null,
            "justify_items": null,
            "left": null,
            "margin": null,
            "max_height": null,
            "max_width": null,
            "min_height": null,
            "min_width": null,
            "object_fit": null,
            "object_position": null,
            "order": null,
            "overflow": null,
            "overflow_x": null,
            "overflow_y": null,
            "padding": null,
            "right": null,
            "top": null,
            "visibility": null,
            "width": null
          }
        },
        "d98fbee2f5904bab9dad65b6b2c3feb3": {
          "model_module": "@jupyter-widgets/base",
          "model_name": "LayoutModel",
          "model_module_version": "1.2.0",
          "state": {
            "_model_module": "@jupyter-widgets/base",
            "_model_module_version": "1.2.0",
            "_model_name": "LayoutModel",
            "_view_count": null,
            "_view_module": "@jupyter-widgets/base",
            "_view_module_version": "1.2.0",
            "_view_name": "LayoutView",
            "align_content": null,
            "align_items": null,
            "align_self": null,
            "border": null,
            "bottom": null,
            "display": null,
            "flex": null,
            "flex_flow": null,
            "grid_area": null,
            "grid_auto_columns": null,
            "grid_auto_flow": null,
            "grid_auto_rows": null,
            "grid_column": null,
            "grid_gap": null,
            "grid_row": null,
            "grid_template_areas": null,
            "grid_template_columns": null,
            "grid_template_rows": null,
            "height": null,
            "justify_content": null,
            "justify_items": null,
            "left": null,
            "margin": null,
            "max_height": null,
            "max_width": null,
            "min_height": null,
            "min_width": null,
            "object_fit": null,
            "object_position": null,
            "order": null,
            "overflow": null,
            "overflow_x": null,
            "overflow_y": null,
            "padding": null,
            "right": null,
            "top": null,
            "visibility": null,
            "width": null
          }
        },
        "e31ed23d62724febb5f7a7c8d8ae387f": {
          "model_module": "@jupyter-widgets/controls",
          "model_name": "DescriptionStyleModel",
          "model_module_version": "1.5.0",
          "state": {
            "_model_module": "@jupyter-widgets/controls",
            "_model_module_version": "1.5.0",
            "_model_name": "DescriptionStyleModel",
            "_view_count": null,
            "_view_module": "@jupyter-widgets/base",
            "_view_module_version": "1.2.0",
            "_view_name": "StyleView",
            "description_width": ""
          }
        },
        "6f93351430b94587877b61d4b1d4a5be": {
          "model_module": "@jupyter-widgets/base",
          "model_name": "LayoutModel",
          "model_module_version": "1.2.0",
          "state": {
            "_model_module": "@jupyter-widgets/base",
            "_model_module_version": "1.2.0",
            "_model_name": "LayoutModel",
            "_view_count": null,
            "_view_module": "@jupyter-widgets/base",
            "_view_module_version": "1.2.0",
            "_view_name": "LayoutView",
            "align_content": null,
            "align_items": null,
            "align_self": null,
            "border": null,
            "bottom": null,
            "display": null,
            "flex": null,
            "flex_flow": null,
            "grid_area": null,
            "grid_auto_columns": null,
            "grid_auto_flow": null,
            "grid_auto_rows": null,
            "grid_column": null,
            "grid_gap": null,
            "grid_row": null,
            "grid_template_areas": null,
            "grid_template_columns": null,
            "grid_template_rows": null,
            "height": null,
            "justify_content": null,
            "justify_items": null,
            "left": null,
            "margin": null,
            "max_height": null,
            "max_width": null,
            "min_height": null,
            "min_width": null,
            "object_fit": null,
            "object_position": null,
            "order": null,
            "overflow": null,
            "overflow_x": null,
            "overflow_y": null,
            "padding": null,
            "right": null,
            "top": null,
            "visibility": null,
            "width": null
          }
        },
        "0e172dbd79ef442cb1b1231f7da9f88a": {
          "model_module": "@jupyter-widgets/controls",
          "model_name": "ProgressStyleModel",
          "model_module_version": "1.5.0",
          "state": {
            "_model_module": "@jupyter-widgets/controls",
            "_model_module_version": "1.5.0",
            "_model_name": "ProgressStyleModel",
            "_view_count": null,
            "_view_module": "@jupyter-widgets/base",
            "_view_module_version": "1.2.0",
            "_view_name": "StyleView",
            "bar_color": null,
            "description_width": ""
          }
        },
        "9ade5b0b2d564b1483bfab74d7603025": {
          "model_module": "@jupyter-widgets/base",
          "model_name": "LayoutModel",
          "model_module_version": "1.2.0",
          "state": {
            "_model_module": "@jupyter-widgets/base",
            "_model_module_version": "1.2.0",
            "_model_name": "LayoutModel",
            "_view_count": null,
            "_view_module": "@jupyter-widgets/base",
            "_view_module_version": "1.2.0",
            "_view_name": "LayoutView",
            "align_content": null,
            "align_items": null,
            "align_self": null,
            "border": null,
            "bottom": null,
            "display": null,
            "flex": null,
            "flex_flow": null,
            "grid_area": null,
            "grid_auto_columns": null,
            "grid_auto_flow": null,
            "grid_auto_rows": null,
            "grid_column": null,
            "grid_gap": null,
            "grid_row": null,
            "grid_template_areas": null,
            "grid_template_columns": null,
            "grid_template_rows": null,
            "height": null,
            "justify_content": null,
            "justify_items": null,
            "left": null,
            "margin": null,
            "max_height": null,
            "max_width": null,
            "min_height": null,
            "min_width": null,
            "object_fit": null,
            "object_position": null,
            "order": null,
            "overflow": null,
            "overflow_x": null,
            "overflow_y": null,
            "padding": null,
            "right": null,
            "top": null,
            "visibility": null,
            "width": null
          }
        },
        "6e772ac45f254328bfb3ae31af7c3074": {
          "model_module": "@jupyter-widgets/controls",
          "model_name": "DescriptionStyleModel",
          "model_module_version": "1.5.0",
          "state": {
            "_model_module": "@jupyter-widgets/controls",
            "_model_module_version": "1.5.0",
            "_model_name": "DescriptionStyleModel",
            "_view_count": null,
            "_view_module": "@jupyter-widgets/base",
            "_view_module_version": "1.2.0",
            "_view_name": "StyleView",
            "description_width": ""
          }
        },
        "4ad31423a6d4477fbc1c0ca9e4d92f26": {
          "model_module": "@jupyter-widgets/controls",
          "model_name": "HBoxModel",
          "model_module_version": "1.5.0",
          "state": {
            "_dom_classes": [],
            "_model_module": "@jupyter-widgets/controls",
            "_model_module_version": "1.5.0",
            "_model_name": "HBoxModel",
            "_view_count": null,
            "_view_module": "@jupyter-widgets/controls",
            "_view_module_version": "1.5.0",
            "_view_name": "HBoxView",
            "box_style": "",
            "children": [
              "IPY_MODEL_dbfce8d4328444e89d392260e07734a6",
              "IPY_MODEL_495bf17be4304b75b221ebbee4a13f6a",
              "IPY_MODEL_889bd301c2334d95a026ea1e61095004"
            ],
            "layout": "IPY_MODEL_8695e00228a4457bafde4278f4c638fc"
          }
        },
        "dbfce8d4328444e89d392260e07734a6": {
          "model_module": "@jupyter-widgets/controls",
          "model_name": "HTMLModel",
          "model_module_version": "1.5.0",
          "state": {
            "_dom_classes": [],
            "_model_module": "@jupyter-widgets/controls",
            "_model_module_version": "1.5.0",
            "_model_name": "HTMLModel",
            "_view_count": null,
            "_view_module": "@jupyter-widgets/controls",
            "_view_module_version": "1.5.0",
            "_view_name": "HTMLView",
            "description": "",
            "description_tooltip": null,
            "layout": "IPY_MODEL_13c91012e01140bfaecf44e306f0be14",
            "placeholder": "​",
            "style": "IPY_MODEL_28e0fa14163c45c4802864c37b31fbb7",
            "value": "Downloading (…)tencepiece.bpe.model: 100%"
          }
        },
        "495bf17be4304b75b221ebbee4a13f6a": {
          "model_module": "@jupyter-widgets/controls",
          "model_name": "FloatProgressModel",
          "model_module_version": "1.5.0",
          "state": {
            "_dom_classes": [],
            "_model_module": "@jupyter-widgets/controls",
            "_model_module_version": "1.5.0",
            "_model_name": "FloatProgressModel",
            "_view_count": null,
            "_view_module": "@jupyter-widgets/controls",
            "_view_module_version": "1.5.0",
            "_view_name": "ProgressView",
            "bar_style": "success",
            "description": "",
            "description_tooltip": null,
            "layout": "IPY_MODEL_c798ab29e14d496aa8b3535a567ca74f",
            "max": 5069051,
            "min": 0,
            "orientation": "horizontal",
            "style": "IPY_MODEL_bcc199b4ef1041eaa59b211b5b59c3b6",
            "value": 5069051
          }
        },
        "889bd301c2334d95a026ea1e61095004": {
          "model_module": "@jupyter-widgets/controls",
          "model_name": "HTMLModel",
          "model_module_version": "1.5.0",
          "state": {
            "_dom_classes": [],
            "_model_module": "@jupyter-widgets/controls",
            "_model_module_version": "1.5.0",
            "_model_name": "HTMLModel",
            "_view_count": null,
            "_view_module": "@jupyter-widgets/controls",
            "_view_module_version": "1.5.0",
            "_view_name": "HTMLView",
            "description": "",
            "description_tooltip": null,
            "layout": "IPY_MODEL_1f8fbafae4674b9599f7b3ebf4f5dd57",
            "placeholder": "​",
            "style": "IPY_MODEL_1c9fbf6c3ad9432fa577132ac7a91fbe",
            "value": " 5.07M/5.07M [00:00&lt;00:00, 207MB/s]"
          }
        },
        "8695e00228a4457bafde4278f4c638fc": {
          "model_module": "@jupyter-widgets/base",
          "model_name": "LayoutModel",
          "model_module_version": "1.2.0",
          "state": {
            "_model_module": "@jupyter-widgets/base",
            "_model_module_version": "1.2.0",
            "_model_name": "LayoutModel",
            "_view_count": null,
            "_view_module": "@jupyter-widgets/base",
            "_view_module_version": "1.2.0",
            "_view_name": "LayoutView",
            "align_content": null,
            "align_items": null,
            "align_self": null,
            "border": null,
            "bottom": null,
            "display": null,
            "flex": null,
            "flex_flow": null,
            "grid_area": null,
            "grid_auto_columns": null,
            "grid_auto_flow": null,
            "grid_auto_rows": null,
            "grid_column": null,
            "grid_gap": null,
            "grid_row": null,
            "grid_template_areas": null,
            "grid_template_columns": null,
            "grid_template_rows": null,
            "height": null,
            "justify_content": null,
            "justify_items": null,
            "left": null,
            "margin": null,
            "max_height": null,
            "max_width": null,
            "min_height": null,
            "min_width": null,
            "object_fit": null,
            "object_position": null,
            "order": null,
            "overflow": null,
            "overflow_x": null,
            "overflow_y": null,
            "padding": null,
            "right": null,
            "top": null,
            "visibility": null,
            "width": null
          }
        },
        "13c91012e01140bfaecf44e306f0be14": {
          "model_module": "@jupyter-widgets/base",
          "model_name": "LayoutModel",
          "model_module_version": "1.2.0",
          "state": {
            "_model_module": "@jupyter-widgets/base",
            "_model_module_version": "1.2.0",
            "_model_name": "LayoutModel",
            "_view_count": null,
            "_view_module": "@jupyter-widgets/base",
            "_view_module_version": "1.2.0",
            "_view_name": "LayoutView",
            "align_content": null,
            "align_items": null,
            "align_self": null,
            "border": null,
            "bottom": null,
            "display": null,
            "flex": null,
            "flex_flow": null,
            "grid_area": null,
            "grid_auto_columns": null,
            "grid_auto_flow": null,
            "grid_auto_rows": null,
            "grid_column": null,
            "grid_gap": null,
            "grid_row": null,
            "grid_template_areas": null,
            "grid_template_columns": null,
            "grid_template_rows": null,
            "height": null,
            "justify_content": null,
            "justify_items": null,
            "left": null,
            "margin": null,
            "max_height": null,
            "max_width": null,
            "min_height": null,
            "min_width": null,
            "object_fit": null,
            "object_position": null,
            "order": null,
            "overflow": null,
            "overflow_x": null,
            "overflow_y": null,
            "padding": null,
            "right": null,
            "top": null,
            "visibility": null,
            "width": null
          }
        },
        "28e0fa14163c45c4802864c37b31fbb7": {
          "model_module": "@jupyter-widgets/controls",
          "model_name": "DescriptionStyleModel",
          "model_module_version": "1.5.0",
          "state": {
            "_model_module": "@jupyter-widgets/controls",
            "_model_module_version": "1.5.0",
            "_model_name": "DescriptionStyleModel",
            "_view_count": null,
            "_view_module": "@jupyter-widgets/base",
            "_view_module_version": "1.2.0",
            "_view_name": "StyleView",
            "description_width": ""
          }
        },
        "c798ab29e14d496aa8b3535a567ca74f": {
          "model_module": "@jupyter-widgets/base",
          "model_name": "LayoutModel",
          "model_module_version": "1.2.0",
          "state": {
            "_model_module": "@jupyter-widgets/base",
            "_model_module_version": "1.2.0",
            "_model_name": "LayoutModel",
            "_view_count": null,
            "_view_module": "@jupyter-widgets/base",
            "_view_module_version": "1.2.0",
            "_view_name": "LayoutView",
            "align_content": null,
            "align_items": null,
            "align_self": null,
            "border": null,
            "bottom": null,
            "display": null,
            "flex": null,
            "flex_flow": null,
            "grid_area": null,
            "grid_auto_columns": null,
            "grid_auto_flow": null,
            "grid_auto_rows": null,
            "grid_column": null,
            "grid_gap": null,
            "grid_row": null,
            "grid_template_areas": null,
            "grid_template_columns": null,
            "grid_template_rows": null,
            "height": null,
            "justify_content": null,
            "justify_items": null,
            "left": null,
            "margin": null,
            "max_height": null,
            "max_width": null,
            "min_height": null,
            "min_width": null,
            "object_fit": null,
            "object_position": null,
            "order": null,
            "overflow": null,
            "overflow_x": null,
            "overflow_y": null,
            "padding": null,
            "right": null,
            "top": null,
            "visibility": null,
            "width": null
          }
        },
        "bcc199b4ef1041eaa59b211b5b59c3b6": {
          "model_module": "@jupyter-widgets/controls",
          "model_name": "ProgressStyleModel",
          "model_module_version": "1.5.0",
          "state": {
            "_model_module": "@jupyter-widgets/controls",
            "_model_module_version": "1.5.0",
            "_model_name": "ProgressStyleModel",
            "_view_count": null,
            "_view_module": "@jupyter-widgets/base",
            "_view_module_version": "1.2.0",
            "_view_name": "StyleView",
            "bar_color": null,
            "description_width": ""
          }
        },
        "1f8fbafae4674b9599f7b3ebf4f5dd57": {
          "model_module": "@jupyter-widgets/base",
          "model_name": "LayoutModel",
          "model_module_version": "1.2.0",
          "state": {
            "_model_module": "@jupyter-widgets/base",
            "_model_module_version": "1.2.0",
            "_model_name": "LayoutModel",
            "_view_count": null,
            "_view_module": "@jupyter-widgets/base",
            "_view_module_version": "1.2.0",
            "_view_name": "LayoutView",
            "align_content": null,
            "align_items": null,
            "align_self": null,
            "border": null,
            "bottom": null,
            "display": null,
            "flex": null,
            "flex_flow": null,
            "grid_area": null,
            "grid_auto_columns": null,
            "grid_auto_flow": null,
            "grid_auto_rows": null,
            "grid_column": null,
            "grid_gap": null,
            "grid_row": null,
            "grid_template_areas": null,
            "grid_template_columns": null,
            "grid_template_rows": null,
            "height": null,
            "justify_content": null,
            "justify_items": null,
            "left": null,
            "margin": null,
            "max_height": null,
            "max_width": null,
            "min_height": null,
            "min_width": null,
            "object_fit": null,
            "object_position": null,
            "order": null,
            "overflow": null,
            "overflow_x": null,
            "overflow_y": null,
            "padding": null,
            "right": null,
            "top": null,
            "visibility": null,
            "width": null
          }
        },
        "1c9fbf6c3ad9432fa577132ac7a91fbe": {
          "model_module": "@jupyter-widgets/controls",
          "model_name": "DescriptionStyleModel",
          "model_module_version": "1.5.0",
          "state": {
            "_model_module": "@jupyter-widgets/controls",
            "_model_module_version": "1.5.0",
            "_model_name": "DescriptionStyleModel",
            "_view_count": null,
            "_view_module": "@jupyter-widgets/base",
            "_view_module_version": "1.2.0",
            "_view_name": "StyleView",
            "description_width": ""
          }
        },
        "77a2d6052a634f4f9c55cb58489fc2c0": {
          "model_module": "@jupyter-widgets/controls",
          "model_name": "HBoxModel",
          "model_module_version": "1.5.0",
          "state": {
            "_dom_classes": [],
            "_model_module": "@jupyter-widgets/controls",
            "_model_module_version": "1.5.0",
            "_model_name": "HBoxModel",
            "_view_count": null,
            "_view_module": "@jupyter-widgets/controls",
            "_view_module_version": "1.5.0",
            "_view_name": "HBoxView",
            "box_style": "",
            "children": [
              "IPY_MODEL_e9d5277b6fe946fbb22662949f442f7d",
              "IPY_MODEL_e21691f68d8546f39f5b12ff02694436",
              "IPY_MODEL_9dfc4c1a35af42969908448105c6a7fd"
            ],
            "layout": "IPY_MODEL_80f8cbc2fa8f415cbc575c6b560c2088"
          }
        },
        "e9d5277b6fe946fbb22662949f442f7d": {
          "model_module": "@jupyter-widgets/controls",
          "model_name": "HTMLModel",
          "model_module_version": "1.5.0",
          "state": {
            "_dom_classes": [],
            "_model_module": "@jupyter-widgets/controls",
            "_model_module_version": "1.5.0",
            "_model_name": "HTMLModel",
            "_view_count": null,
            "_view_module": "@jupyter-widgets/controls",
            "_view_module_version": "1.5.0",
            "_view_name": "HTMLView",
            "description": "",
            "description_tooltip": null,
            "layout": "IPY_MODEL_55499d9c15914d5a88c78d2e52ff5b1b",
            "placeholder": "​",
            "style": "IPY_MODEL_05bc9dc946d04d2abb4625f9de1bc960",
            "value": "Downloading (…)/main/tokenizer.json: 100%"
          }
        },
        "e21691f68d8546f39f5b12ff02694436": {
          "model_module": "@jupyter-widgets/controls",
          "model_name": "FloatProgressModel",
          "model_module_version": "1.5.0",
          "state": {
            "_dom_classes": [],
            "_model_module": "@jupyter-widgets/controls",
            "_model_module_version": "1.5.0",
            "_model_name": "FloatProgressModel",
            "_view_count": null,
            "_view_module": "@jupyter-widgets/controls",
            "_view_module_version": "1.5.0",
            "_view_name": "ProgressView",
            "bar_style": "success",
            "description": "",
            "description_tooltip": null,
            "layout": "IPY_MODEL_00491e19ed5245e98093a4a20a3c647d",
            "max": 9081351,
            "min": 0,
            "orientation": "horizontal",
            "style": "IPY_MODEL_760bada851dd45c0a2980fc9c689d3e8",
            "value": 9081351
          }
        },
        "9dfc4c1a35af42969908448105c6a7fd": {
          "model_module": "@jupyter-widgets/controls",
          "model_name": "HTMLModel",
          "model_module_version": "1.5.0",
          "state": {
            "_dom_classes": [],
            "_model_module": "@jupyter-widgets/controls",
            "_model_module_version": "1.5.0",
            "_model_name": "HTMLModel",
            "_view_count": null,
            "_view_module": "@jupyter-widgets/controls",
            "_view_module_version": "1.5.0",
            "_view_name": "HTMLView",
            "description": "",
            "description_tooltip": null,
            "layout": "IPY_MODEL_3d70279e1ab444438a8fd015e59f6155",
            "placeholder": "​",
            "style": "IPY_MODEL_39324307d09a493bb103d1331e327e6e",
            "value": " 9.08M/9.08M [00:01&lt;00:00, 6.03MB/s]"
          }
        },
        "80f8cbc2fa8f415cbc575c6b560c2088": {
          "model_module": "@jupyter-widgets/base",
          "model_name": "LayoutModel",
          "model_module_version": "1.2.0",
          "state": {
            "_model_module": "@jupyter-widgets/base",
            "_model_module_version": "1.2.0",
            "_model_name": "LayoutModel",
            "_view_count": null,
            "_view_module": "@jupyter-widgets/base",
            "_view_module_version": "1.2.0",
            "_view_name": "LayoutView",
            "align_content": null,
            "align_items": null,
            "align_self": null,
            "border": null,
            "bottom": null,
            "display": null,
            "flex": null,
            "flex_flow": null,
            "grid_area": null,
            "grid_auto_columns": null,
            "grid_auto_flow": null,
            "grid_auto_rows": null,
            "grid_column": null,
            "grid_gap": null,
            "grid_row": null,
            "grid_template_areas": null,
            "grid_template_columns": null,
            "grid_template_rows": null,
            "height": null,
            "justify_content": null,
            "justify_items": null,
            "left": null,
            "margin": null,
            "max_height": null,
            "max_width": null,
            "min_height": null,
            "min_width": null,
            "object_fit": null,
            "object_position": null,
            "order": null,
            "overflow": null,
            "overflow_x": null,
            "overflow_y": null,
            "padding": null,
            "right": null,
            "top": null,
            "visibility": null,
            "width": null
          }
        },
        "55499d9c15914d5a88c78d2e52ff5b1b": {
          "model_module": "@jupyter-widgets/base",
          "model_name": "LayoutModel",
          "model_module_version": "1.2.0",
          "state": {
            "_model_module": "@jupyter-widgets/base",
            "_model_module_version": "1.2.0",
            "_model_name": "LayoutModel",
            "_view_count": null,
            "_view_module": "@jupyter-widgets/base",
            "_view_module_version": "1.2.0",
            "_view_name": "LayoutView",
            "align_content": null,
            "align_items": null,
            "align_self": null,
            "border": null,
            "bottom": null,
            "display": null,
            "flex": null,
            "flex_flow": null,
            "grid_area": null,
            "grid_auto_columns": null,
            "grid_auto_flow": null,
            "grid_auto_rows": null,
            "grid_column": null,
            "grid_gap": null,
            "grid_row": null,
            "grid_template_areas": null,
            "grid_template_columns": null,
            "grid_template_rows": null,
            "height": null,
            "justify_content": null,
            "justify_items": null,
            "left": null,
            "margin": null,
            "max_height": null,
            "max_width": null,
            "min_height": null,
            "min_width": null,
            "object_fit": null,
            "object_position": null,
            "order": null,
            "overflow": null,
            "overflow_x": null,
            "overflow_y": null,
            "padding": null,
            "right": null,
            "top": null,
            "visibility": null,
            "width": null
          }
        },
        "05bc9dc946d04d2abb4625f9de1bc960": {
          "model_module": "@jupyter-widgets/controls",
          "model_name": "DescriptionStyleModel",
          "model_module_version": "1.5.0",
          "state": {
            "_model_module": "@jupyter-widgets/controls",
            "_model_module_version": "1.5.0",
            "_model_name": "DescriptionStyleModel",
            "_view_count": null,
            "_view_module": "@jupyter-widgets/base",
            "_view_module_version": "1.2.0",
            "_view_name": "StyleView",
            "description_width": ""
          }
        },
        "00491e19ed5245e98093a4a20a3c647d": {
          "model_module": "@jupyter-widgets/base",
          "model_name": "LayoutModel",
          "model_module_version": "1.2.0",
          "state": {
            "_model_module": "@jupyter-widgets/base",
            "_model_module_version": "1.2.0",
            "_model_name": "LayoutModel",
            "_view_count": null,
            "_view_module": "@jupyter-widgets/base",
            "_view_module_version": "1.2.0",
            "_view_name": "LayoutView",
            "align_content": null,
            "align_items": null,
            "align_self": null,
            "border": null,
            "bottom": null,
            "display": null,
            "flex": null,
            "flex_flow": null,
            "grid_area": null,
            "grid_auto_columns": null,
            "grid_auto_flow": null,
            "grid_auto_rows": null,
            "grid_column": null,
            "grid_gap": null,
            "grid_row": null,
            "grid_template_areas": null,
            "grid_template_columns": null,
            "grid_template_rows": null,
            "height": null,
            "justify_content": null,
            "justify_items": null,
            "left": null,
            "margin": null,
            "max_height": null,
            "max_width": null,
            "min_height": null,
            "min_width": null,
            "object_fit": null,
            "object_position": null,
            "order": null,
            "overflow": null,
            "overflow_x": null,
            "overflow_y": null,
            "padding": null,
            "right": null,
            "top": null,
            "visibility": null,
            "width": null
          }
        },
        "760bada851dd45c0a2980fc9c689d3e8": {
          "model_module": "@jupyter-widgets/controls",
          "model_name": "ProgressStyleModel",
          "model_module_version": "1.5.0",
          "state": {
            "_model_module": "@jupyter-widgets/controls",
            "_model_module_version": "1.5.0",
            "_model_name": "ProgressStyleModel",
            "_view_count": null,
            "_view_module": "@jupyter-widgets/base",
            "_view_module_version": "1.2.0",
            "_view_name": "StyleView",
            "bar_color": null,
            "description_width": ""
          }
        },
        "3d70279e1ab444438a8fd015e59f6155": {
          "model_module": "@jupyter-widgets/base",
          "model_name": "LayoutModel",
          "model_module_version": "1.2.0",
          "state": {
            "_model_module": "@jupyter-widgets/base",
            "_model_module_version": "1.2.0",
            "_model_name": "LayoutModel",
            "_view_count": null,
            "_view_module": "@jupyter-widgets/base",
            "_view_module_version": "1.2.0",
            "_view_name": "LayoutView",
            "align_content": null,
            "align_items": null,
            "align_self": null,
            "border": null,
            "bottom": null,
            "display": null,
            "flex": null,
            "flex_flow": null,
            "grid_area": null,
            "grid_auto_columns": null,
            "grid_auto_flow": null,
            "grid_auto_rows": null,
            "grid_column": null,
            "grid_gap": null,
            "grid_row": null,
            "grid_template_areas": null,
            "grid_template_columns": null,
            "grid_template_rows": null,
            "height": null,
            "justify_content": null,
            "justify_items": null,
            "left": null,
            "margin": null,
            "max_height": null,
            "max_width": null,
            "min_height": null,
            "min_width": null,
            "object_fit": null,
            "object_position": null,
            "order": null,
            "overflow": null,
            "overflow_x": null,
            "overflow_y": null,
            "padding": null,
            "right": null,
            "top": null,
            "visibility": null,
            "width": null
          }
        },
        "39324307d09a493bb103d1331e327e6e": {
          "model_module": "@jupyter-widgets/controls",
          "model_name": "DescriptionStyleModel",
          "model_module_version": "1.5.0",
          "state": {
            "_model_module": "@jupyter-widgets/controls",
            "_model_module_version": "1.5.0",
            "_model_name": "DescriptionStyleModel",
            "_view_count": null,
            "_view_module": "@jupyter-widgets/base",
            "_view_module_version": "1.2.0",
            "_view_name": "StyleView",
            "description_width": ""
          }
        },
        "203eb9d4e6104ef18f36094657560e52": {
          "model_module": "@jupyter-widgets/controls",
          "model_name": "HBoxModel",
          "model_module_version": "1.5.0",
          "state": {
            "_dom_classes": [],
            "_model_module": "@jupyter-widgets/controls",
            "_model_module_version": "1.5.0",
            "_model_name": "HBoxModel",
            "_view_count": null,
            "_view_module": "@jupyter-widgets/controls",
            "_view_module_version": "1.5.0",
            "_view_name": "HBoxView",
            "box_style": "",
            "children": [
              "IPY_MODEL_3b7cb9128b7f469baf4eae92005545e2",
              "IPY_MODEL_76d5f943f1044988bc42ee6de3a7e341",
              "IPY_MODEL_1683bced2b41403191e93ae7f23d94ff"
            ],
            "layout": "IPY_MODEL_435729d5274047e0afcc0c00533cb781"
          }
        },
        "3b7cb9128b7f469baf4eae92005545e2": {
          "model_module": "@jupyter-widgets/controls",
          "model_name": "HTMLModel",
          "model_module_version": "1.5.0",
          "state": {
            "_dom_classes": [],
            "_model_module": "@jupyter-widgets/controls",
            "_model_module_version": "1.5.0",
            "_model_name": "HTMLModel",
            "_view_count": null,
            "_view_module": "@jupyter-widgets/controls",
            "_view_module_version": "1.5.0",
            "_view_name": "HTMLView",
            "description": "",
            "description_tooltip": null,
            "layout": "IPY_MODEL_056c1ad8db4648289347fda451bf0a66",
            "placeholder": "​",
            "style": "IPY_MODEL_d8e606d04bbf41339c90d997704f993a",
            "value": "Downloading (…)cial_tokens_map.json: 100%"
          }
        },
        "76d5f943f1044988bc42ee6de3a7e341": {
          "model_module": "@jupyter-widgets/controls",
          "model_name": "FloatProgressModel",
          "model_module_version": "1.5.0",
          "state": {
            "_dom_classes": [],
            "_model_module": "@jupyter-widgets/controls",
            "_model_module_version": "1.5.0",
            "_model_name": "FloatProgressModel",
            "_view_count": null,
            "_view_module": "@jupyter-widgets/controls",
            "_view_module_version": "1.5.0",
            "_view_name": "ProgressView",
            "bar_style": "success",
            "description": "",
            "description_tooltip": null,
            "layout": "IPY_MODEL_e291bde855364224b64dff746e38ab0d",
            "max": 239,
            "min": 0,
            "orientation": "horizontal",
            "style": "IPY_MODEL_35155c3fc0be49f6a70042096faa9f83",
            "value": 239
          }
        },
        "1683bced2b41403191e93ae7f23d94ff": {
          "model_module": "@jupyter-widgets/controls",
          "model_name": "HTMLModel",
          "model_module_version": "1.5.0",
          "state": {
            "_dom_classes": [],
            "_model_module": "@jupyter-widgets/controls",
            "_model_module_version": "1.5.0",
            "_model_name": "HTMLModel",
            "_view_count": null,
            "_view_module": "@jupyter-widgets/controls",
            "_view_module_version": "1.5.0",
            "_view_name": "HTMLView",
            "description": "",
            "description_tooltip": null,
            "layout": "IPY_MODEL_431362814e5a4d13bd3f08f961be1a99",
            "placeholder": "​",
            "style": "IPY_MODEL_e386ee9af3fb4b24a43584c1f2bc12d4",
            "value": " 239/239 [00:00&lt;00:00, 21.7kB/s]"
          }
        },
        "435729d5274047e0afcc0c00533cb781": {
          "model_module": "@jupyter-widgets/base",
          "model_name": "LayoutModel",
          "model_module_version": "1.2.0",
          "state": {
            "_model_module": "@jupyter-widgets/base",
            "_model_module_version": "1.2.0",
            "_model_name": "LayoutModel",
            "_view_count": null,
            "_view_module": "@jupyter-widgets/base",
            "_view_module_version": "1.2.0",
            "_view_name": "LayoutView",
            "align_content": null,
            "align_items": null,
            "align_self": null,
            "border": null,
            "bottom": null,
            "display": null,
            "flex": null,
            "flex_flow": null,
            "grid_area": null,
            "grid_auto_columns": null,
            "grid_auto_flow": null,
            "grid_auto_rows": null,
            "grid_column": null,
            "grid_gap": null,
            "grid_row": null,
            "grid_template_areas": null,
            "grid_template_columns": null,
            "grid_template_rows": null,
            "height": null,
            "justify_content": null,
            "justify_items": null,
            "left": null,
            "margin": null,
            "max_height": null,
            "max_width": null,
            "min_height": null,
            "min_width": null,
            "object_fit": null,
            "object_position": null,
            "order": null,
            "overflow": null,
            "overflow_x": null,
            "overflow_y": null,
            "padding": null,
            "right": null,
            "top": null,
            "visibility": null,
            "width": null
          }
        },
        "056c1ad8db4648289347fda451bf0a66": {
          "model_module": "@jupyter-widgets/base",
          "model_name": "LayoutModel",
          "model_module_version": "1.2.0",
          "state": {
            "_model_module": "@jupyter-widgets/base",
            "_model_module_version": "1.2.0",
            "_model_name": "LayoutModel",
            "_view_count": null,
            "_view_module": "@jupyter-widgets/base",
            "_view_module_version": "1.2.0",
            "_view_name": "LayoutView",
            "align_content": null,
            "align_items": null,
            "align_self": null,
            "border": null,
            "bottom": null,
            "display": null,
            "flex": null,
            "flex_flow": null,
            "grid_area": null,
            "grid_auto_columns": null,
            "grid_auto_flow": null,
            "grid_auto_rows": null,
            "grid_column": null,
            "grid_gap": null,
            "grid_row": null,
            "grid_template_areas": null,
            "grid_template_columns": null,
            "grid_template_rows": null,
            "height": null,
            "justify_content": null,
            "justify_items": null,
            "left": null,
            "margin": null,
            "max_height": null,
            "max_width": null,
            "min_height": null,
            "min_width": null,
            "object_fit": null,
            "object_position": null,
            "order": null,
            "overflow": null,
            "overflow_x": null,
            "overflow_y": null,
            "padding": null,
            "right": null,
            "top": null,
            "visibility": null,
            "width": null
          }
        },
        "d8e606d04bbf41339c90d997704f993a": {
          "model_module": "@jupyter-widgets/controls",
          "model_name": "DescriptionStyleModel",
          "model_module_version": "1.5.0",
          "state": {
            "_model_module": "@jupyter-widgets/controls",
            "_model_module_version": "1.5.0",
            "_model_name": "DescriptionStyleModel",
            "_view_count": null,
            "_view_module": "@jupyter-widgets/base",
            "_view_module_version": "1.2.0",
            "_view_name": "StyleView",
            "description_width": ""
          }
        },
        "e291bde855364224b64dff746e38ab0d": {
          "model_module": "@jupyter-widgets/base",
          "model_name": "LayoutModel",
          "model_module_version": "1.2.0",
          "state": {
            "_model_module": "@jupyter-widgets/base",
            "_model_module_version": "1.2.0",
            "_model_name": "LayoutModel",
            "_view_count": null,
            "_view_module": "@jupyter-widgets/base",
            "_view_module_version": "1.2.0",
            "_view_name": "LayoutView",
            "align_content": null,
            "align_items": null,
            "align_self": null,
            "border": null,
            "bottom": null,
            "display": null,
            "flex": null,
            "flex_flow": null,
            "grid_area": null,
            "grid_auto_columns": null,
            "grid_auto_flow": null,
            "grid_auto_rows": null,
            "grid_column": null,
            "grid_gap": null,
            "grid_row": null,
            "grid_template_areas": null,
            "grid_template_columns": null,
            "grid_template_rows": null,
            "height": null,
            "justify_content": null,
            "justify_items": null,
            "left": null,
            "margin": null,
            "max_height": null,
            "max_width": null,
            "min_height": null,
            "min_width": null,
            "object_fit": null,
            "object_position": null,
            "order": null,
            "overflow": null,
            "overflow_x": null,
            "overflow_y": null,
            "padding": null,
            "right": null,
            "top": null,
            "visibility": null,
            "width": null
          }
        },
        "35155c3fc0be49f6a70042096faa9f83": {
          "model_module": "@jupyter-widgets/controls",
          "model_name": "ProgressStyleModel",
          "model_module_version": "1.5.0",
          "state": {
            "_model_module": "@jupyter-widgets/controls",
            "_model_module_version": "1.5.0",
            "_model_name": "ProgressStyleModel",
            "_view_count": null,
            "_view_module": "@jupyter-widgets/base",
            "_view_module_version": "1.2.0",
            "_view_name": "StyleView",
            "bar_color": null,
            "description_width": ""
          }
        },
        "431362814e5a4d13bd3f08f961be1a99": {
          "model_module": "@jupyter-widgets/base",
          "model_name": "LayoutModel",
          "model_module_version": "1.2.0",
          "state": {
            "_model_module": "@jupyter-widgets/base",
            "_model_module_version": "1.2.0",
            "_model_name": "LayoutModel",
            "_view_count": null,
            "_view_module": "@jupyter-widgets/base",
            "_view_module_version": "1.2.0",
            "_view_name": "LayoutView",
            "align_content": null,
            "align_items": null,
            "align_self": null,
            "border": null,
            "bottom": null,
            "display": null,
            "flex": null,
            "flex_flow": null,
            "grid_area": null,
            "grid_auto_columns": null,
            "grid_auto_flow": null,
            "grid_auto_rows": null,
            "grid_column": null,
            "grid_gap": null,
            "grid_row": null,
            "grid_template_areas": null,
            "grid_template_columns": null,
            "grid_template_rows": null,
            "height": null,
            "justify_content": null,
            "justify_items": null,
            "left": null,
            "margin": null,
            "max_height": null,
            "max_width": null,
            "min_height": null,
            "min_width": null,
            "object_fit": null,
            "object_position": null,
            "order": null,
            "overflow": null,
            "overflow_x": null,
            "overflow_y": null,
            "padding": null,
            "right": null,
            "top": null,
            "visibility": null,
            "width": null
          }
        },
        "e386ee9af3fb4b24a43584c1f2bc12d4": {
          "model_module": "@jupyter-widgets/controls",
          "model_name": "DescriptionStyleModel",
          "model_module_version": "1.5.0",
          "state": {
            "_model_module": "@jupyter-widgets/controls",
            "_model_module_version": "1.5.0",
            "_model_name": "DescriptionStyleModel",
            "_view_count": null,
            "_view_module": "@jupyter-widgets/base",
            "_view_module_version": "1.2.0",
            "_view_name": "StyleView",
            "description_width": ""
          }
        }
      }
    }
  },
  "nbformat": 4,
  "nbformat_minor": 0
}