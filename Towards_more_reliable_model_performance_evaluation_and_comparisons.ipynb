{
  "cells": [
    {
      "cell_type": "code",
      "execution_count": null,
      "metadata": {
        "id": "eTDbo87sjNGs"
      },
      "outputs": [],
      "source": [
        "# This notebook will involve splitting the dataset n different times and running it across (70_10_20) 3 rounds or something due to compute"
      ]
    },
    {
      "cell_type": "markdown",
      "metadata": {
        "id": "ABoXD7yemNCO"
      },
      "source": [
        "What is needed to achieve a multiple train-val-test split? Run it across 5 runs maybe and see how it performs, my initial hypothesis was that the variance in the results was as a result of random initialization in the model weights, however, it seems like the data splits could play a factor into this. I propose running multiple train, val and test splits and testing the models to see how it performs across different data distributions maybe?\n",
        "\n",
        "\n",
        "Define the classification task to be used\n",
        "1. Split the dataset into train, val and test splits using 70-10-20 rule with stratified sampling depending on whether the task is informative or the other task\n",
        "2. Do any data transformations that are required at this step\n",
        "3. Depending on the task - whether binary or multilabel classification task - encode the labels to targets i.e. number format\n",
        "4. Get the context required for all the data points - shouldn't take a while but would probably take a while on the\n",
        "4. Tokenize the sentences to get input ids, attention masks and numerical feats for the other task"
      ]
    },
    {
      "cell_type": "markdown",
      "metadata": {
        "id": "XkAR6S9wl8_2"
      },
      "source": [
        "# Init project and add library dependencies\n"
      ]
    },
    {
      "cell_type": "code",
      "execution_count": null,
      "metadata": {
        "colab": {
          "base_uri": "https://localhost:8080/",
          "height": 381
        },
        "id": "fY8xUxt6mC6W",
        "outputId": "3e699899-1395-4f77-e787-58a8b3de31f7"
      },
      "outputs": [
        {
          "output_type": "error",
          "ename": "ModuleNotFoundError",
          "evalue": "ignored",
          "traceback": [
            "\u001b[0;31m---------------------------------------------------------------------------\u001b[0m",
            "\u001b[0;31mModuleNotFoundError\u001b[0m                       Traceback (most recent call last)",
            "\u001b[0;32m<ipython-input-1-9b00191835f2>\u001b[0m in \u001b[0;36m<cell line: 32>\u001b[0;34m()\u001b[0m\n\u001b[1;32m     30\u001b[0m \u001b[0;32mfrom\u001b[0m \u001b[0msklearn\u001b[0m\u001b[0;34m.\u001b[0m\u001b[0mmodel_selection\u001b[0m \u001b[0;32mimport\u001b[0m \u001b[0mtrain_test_split\u001b[0m\u001b[0;34m\u001b[0m\u001b[0;34m\u001b[0m\u001b[0m\n\u001b[1;32m     31\u001b[0m \u001b[0;32mfrom\u001b[0m \u001b[0mtorch\u001b[0m\u001b[0;34m.\u001b[0m\u001b[0mutils\u001b[0m\u001b[0;34m.\u001b[0m\u001b[0mdata\u001b[0m\u001b[0;34m.\u001b[0m\u001b[0mdataset\u001b[0m \u001b[0;32mimport\u001b[0m \u001b[0mTensorDataset\u001b[0m\u001b[0;34m\u001b[0m\u001b[0;34m\u001b[0m\u001b[0m\n\u001b[0;32m---> 32\u001b[0;31m \u001b[0;32mfrom\u001b[0m \u001b[0mtransformers\u001b[0m \u001b[0;32mimport\u001b[0m \u001b[0mBertConfig\u001b[0m\u001b[0;34m\u001b[0m\u001b[0;34m\u001b[0m\u001b[0m\n\u001b[0m\u001b[1;32m     33\u001b[0m \u001b[0;34m\u001b[0m\u001b[0m\n\u001b[1;32m     34\u001b[0m \u001b[0;34m\u001b[0m\u001b[0m\n",
            "\u001b[0;31mModuleNotFoundError\u001b[0m: No module named 'transformers'",
            "",
            "\u001b[0;31m---------------------------------------------------------------------------\u001b[0;32m\nNOTE: If your import is failing due to a missing package, you can\nmanually install dependencies using either !pip or !apt.\n\nTo view examples of installing some common dependencies, click the\n\"Open Examples\" button below.\n\u001b[0;31m---------------------------------------------------------------------------\u001b[0m\n"
          ],
          "errorDetails": {
            "actions": [
              {
                "action": "open_url",
                "actionText": "Open Examples",
                "url": "/notebooks/snippets/importing_libraries.ipynb"
              }
            ]
          }
        }
      ],
      "source": [
        "# Add imports\n",
        "# Load the ushahidi dataset and print out first rows\n",
        "# Perform text preprocessing - similar to what i did for the baseline classifiers - create clean text\n",
        "# Train first XLM Roberta model and see how it perfroms\n",
        "# Might try training all models this weekend, and then the next goal could be to see how to use the\n",
        "import pandas as pd\n",
        "import re\n",
        "import string\n",
        "import nltk\n",
        "from nltk.corpus import stopwords\n",
        "from nltk.tokenize import word_tokenize\n",
        "from nltk.stem import WordNetLemmatizer\n",
        "from nltk.stem.porter import PorterStemmer\n",
        "import json\n",
        "from sklearn.preprocessing import LabelEncoder\n",
        "from nltk.tokenize import TweetTokenizer\n",
        "import textwrap\n",
        "import numpy as np\n",
        "import seaborn as sns\n",
        "sns.set_theme()\n",
        "import matplotlib.pyplot as plt\n",
        "from sklearn.metrics import classification_report\n",
        "from sklearn.metrics import confusion_matrix\n",
        "from sklearn.model_selection import train_test_split\n",
        "pd.set_option('display.max_colwidth',1000)\n",
        "from itertools import cycle\n",
        "import random\n",
        "import torch\n",
        "import csv\n",
        "from sklearn.model_selection import train_test_split\n",
        "from torch.utils.data.dataset import TensorDataset\n",
        "from transformers import BertConfig\n",
        "\n",
        "\n",
        "# Wrap text to 80 characters.\n",
        "wrapper = textwrap.TextWrapper(width=80, initial_indent='    ',\n",
        "                               subsequent_indent='    ')\n",
        "\n",
        "nltk.download('stopwords')\n",
        "%config InlineBackend.figure_format = 'svg'\n",
        "%matplotlib inline"
      ]
    },
    {
      "cell_type": "markdown",
      "metadata": {
        "id": "1t9jcxh8mG0S"
      },
      "source": [
        "# Load the data from drive"
      ]
    },
    {
      "cell_type": "code",
      "execution_count": null,
      "metadata": {
        "id": "vRBfNbP-mIh-"
      },
      "outputs": [],
      "source": [
        "from google.colab import drive\n",
        "drive.mount('/content/drive')"
      ]
    },
    {
      "cell_type": "code",
      "execution_count": null,
      "metadata": {
        "id": "Gm7MutKfG3ZP"
      },
      "outputs": [],
      "source": [
        "# Load data\n",
        "model_data = pd.read_csv('/content/drive/My Drive/thesis/labelled_election_reports_with_sent.csv', encoding='utf-8')\n",
        "train_data = pd.read_csv('/content/drive/My Drive/thesis/train_election_reports.csv', encoding='utf-8')\n",
        "val_data = pd.read_csv('/content/drive/My Drive/thesis/val_election_reports.csv', encoding='utf-8')\n",
        "test_data = pd.read_csv('/content/drive/My Drive/thesis/test_election_reports.csv', encoding='utf-8')"
      ]
    },
    {
      "cell_type": "code",
      "execution_count": null,
      "metadata": {
        "colab": {
          "base_uri": "https://localhost:8080/"
        },
        "id": "7Vn4i0-qG9ec",
        "outputId": "1482fc33-b4f7-47b8-ece8-85e873113421"
      },
      "outputs": [
        {
          "output_type": "stream",
          "name": "stdout",
          "text": [
            "(14181, 17)\n"
          ]
        }
      ],
      "source": [
        "print(model_data.shape)"
      ]
    },
    {
      "cell_type": "code",
      "execution_count": null,
      "metadata": {
        "colab": {
          "base_uri": "https://localhost:8080/"
        },
        "id": "teJWI1g7G-pK",
        "outputId": "6de3b06d-6244-4897-be23-1e24200dc739"
      },
      "outputs": [
        {
          "output_type": "stream",
          "name": "stdout",
          "text": [
            "Index(['text', 'clean_text', 'normalized_text', 'merged_label', 'label',\n",
            "       'status', 'Election Date', 'date', 'informative_label',\n",
            "       'election_distance', 'election_distance_abs', 'hour', 'hour_sin',\n",
            "       'hour_cos', 'negative', 'neutral', 'positive'],\n",
            "      dtype='object')\n"
          ]
        }
      ],
      "source": [
        "# Explore the list of columns in the dataset\n",
        "print(model_data.columns)"
      ]
    },
    {
      "cell_type": "code",
      "execution_count": null,
      "metadata": {
        "id": "iPhbcVeOHT05"
      },
      "outputs": [],
      "source": [
        "# Create sentiment scores for each election report"
      ]
    },
    {
      "cell_type": "code",
      "execution_count": null,
      "metadata": {
        "colab": {
          "base_uri": "https://localhost:8080/"
        },
        "id": "XpCNPD5vHZ-n",
        "outputId": "faaefd7b-d59c-4990-fb80-4cf4eb572ac5"
      },
      "outputs": [
        {
          "output_type": "stream",
          "name": "stdout",
          "text": [
            "Found GPU at: /device:GPU:0\n"
          ]
        }
      ],
      "source": [
        "# Check whether GPU is detected\n",
        "import tensorflow as tf\n",
        "\n",
        "# Get the GPU device name.\n",
        "device_name = tf.test.gpu_device_name()\n",
        "\n",
        "# The device name should look like the following:\n",
        "if device_name == '/device:GPU:0':\n",
        "    print('Found GPU at: {}'.format(device_name))\n",
        "else:\n",
        "    raise SystemError('GPU device not found')"
      ]
    },
    {
      "cell_type": "code",
      "execution_count": null,
      "metadata": {
        "colab": {
          "base_uri": "https://localhost:8080/"
        },
        "id": "UxU9q5CdH2dp",
        "outputId": "5da75b62-32ed-41ff-be6d-971b70707d53"
      },
      "outputs": [
        {
          "output_type": "stream",
          "name": "stdout",
          "text": [
            "Collecting transformers\n",
            "  Downloading transformers-4.31.0-py3-none-any.whl (7.4 MB)\n",
            "\u001b[2K     \u001b[90m━━━━━━━━━━━━━━━━━━━━━━━━━━━━━━━━━━━━━━━━\u001b[0m \u001b[32m7.4/7.4 MB\u001b[0m \u001b[31m63.9 MB/s\u001b[0m eta \u001b[36m0:00:00\u001b[0m\n",
            "\u001b[?25hRequirement already satisfied: filelock in /usr/local/lib/python3.10/dist-packages (from transformers) (3.12.2)\n",
            "Collecting huggingface-hub<1.0,>=0.14.1 (from transformers)\n",
            "  Downloading huggingface_hub-0.16.4-py3-none-any.whl (268 kB)\n",
            "\u001b[2K     \u001b[90m━━━━━━━━━━━━━━━━━━━━━━━━━━━━━━━━━━━━━━\u001b[0m \u001b[32m268.8/268.8 kB\u001b[0m \u001b[31m36.0 MB/s\u001b[0m eta \u001b[36m0:00:00\u001b[0m\n",
            "\u001b[?25hRequirement already satisfied: numpy>=1.17 in /usr/local/lib/python3.10/dist-packages (from transformers) (1.22.4)\n",
            "Requirement already satisfied: packaging>=20.0 in /usr/local/lib/python3.10/dist-packages (from transformers) (23.1)\n",
            "Requirement already satisfied: pyyaml>=5.1 in /usr/local/lib/python3.10/dist-packages (from transformers) (6.0)\n",
            "Requirement already satisfied: regex!=2019.12.17 in /usr/local/lib/python3.10/dist-packages (from transformers) (2022.10.31)\n",
            "Requirement already satisfied: requests in /usr/local/lib/python3.10/dist-packages (from transformers) (2.27.1)\n",
            "Collecting tokenizers!=0.11.3,<0.14,>=0.11.1 (from transformers)\n",
            "  Downloading tokenizers-0.13.3-cp310-cp310-manylinux_2_17_x86_64.manylinux2014_x86_64.whl (7.8 MB)\n",
            "\u001b[2K     \u001b[90m━━━━━━━━━━━━━━━━━━━━━━━━━━━━━━━━━━━━━━━━\u001b[0m \u001b[32m7.8/7.8 MB\u001b[0m \u001b[31m114.0 MB/s\u001b[0m eta \u001b[36m0:00:00\u001b[0m\n",
            "\u001b[?25hCollecting safetensors>=0.3.1 (from transformers)\n",
            "  Downloading safetensors-0.3.1-cp310-cp310-manylinux_2_17_x86_64.manylinux2014_x86_64.whl (1.3 MB)\n",
            "\u001b[2K     \u001b[90m━━━━━━━━━━━━━━━━━━━━━━━━━━━━━━━━━━━━━━━━\u001b[0m \u001b[32m1.3/1.3 MB\u001b[0m \u001b[31m57.0 MB/s\u001b[0m eta \u001b[36m0:00:00\u001b[0m\n",
            "\u001b[?25hRequirement already satisfied: tqdm>=4.27 in /usr/local/lib/python3.10/dist-packages (from transformers) (4.65.0)\n",
            "Requirement already satisfied: fsspec in /usr/local/lib/python3.10/dist-packages (from huggingface-hub<1.0,>=0.14.1->transformers) (2023.6.0)\n",
            "Requirement already satisfied: typing-extensions>=3.7.4.3 in /usr/local/lib/python3.10/dist-packages (from huggingface-hub<1.0,>=0.14.1->transformers) (4.7.1)\n",
            "Requirement already satisfied: urllib3<1.27,>=1.21.1 in /usr/local/lib/python3.10/dist-packages (from requests->transformers) (1.26.16)\n",
            "Requirement already satisfied: certifi>=2017.4.17 in /usr/local/lib/python3.10/dist-packages (from requests->transformers) (2023.5.7)\n",
            "Requirement already satisfied: charset-normalizer~=2.0.0 in /usr/local/lib/python3.10/dist-packages (from requests->transformers) (2.0.12)\n",
            "Requirement already satisfied: idna<4,>=2.5 in /usr/local/lib/python3.10/dist-packages (from requests->transformers) (3.4)\n",
            "Installing collected packages: tokenizers, safetensors, huggingface-hub, transformers\n",
            "Successfully installed huggingface-hub-0.16.4 safetensors-0.3.1 tokenizers-0.13.3 transformers-4.31.0\n"
          ]
        }
      ],
      "source": [
        "!pip install transformers"
      ]
    },
    {
      "cell_type": "code",
      "execution_count": null,
      "metadata": {
        "colab": {
          "base_uri": "https://localhost:8080/"
        },
        "id": "2oBw2Cg0Hd7b",
        "outputId": "ed90497d-22d0-43af-c7d8-c9391a184017"
      },
      "outputs": [
        {
          "output_type": "stream",
          "name": "stdout",
          "text": [
            "Collecting sentencepiece\n",
            "  Downloading sentencepiece-0.1.99-cp310-cp310-manylinux_2_17_x86_64.manylinux2014_x86_64.whl (1.3 MB)\n",
            "\u001b[?25l     \u001b[90m━━━━━━━━━━━━━━━━━━━━━━━━━━━━━━━━━━━━━━━━\u001b[0m \u001b[32m0.0/1.3 MB\u001b[0m \u001b[31m?\u001b[0m eta \u001b[36m-:--:--\u001b[0m\r\u001b[2K     \u001b[91m━━━━\u001b[0m\u001b[90m╺\u001b[0m\u001b[90m━━━━━━━━━━━━━━━━━━━━━━━━━━━━━━━━━━━\u001b[0m \u001b[32m0.1/1.3 MB\u001b[0m \u001b[31m4.3 MB/s\u001b[0m eta \u001b[36m0:00:01\u001b[0m\r\u001b[2K     \u001b[90m━━━━━━━━━━━━━━━━━━━━━━━━━━━━━━━━━━━━━━━━\u001b[0m \u001b[32m1.3/1.3 MB\u001b[0m \u001b[31m21.9 MB/s\u001b[0m eta \u001b[36m0:00:00\u001b[0m\n",
            "\u001b[?25hInstalling collected packages: sentencepiece\n",
            "Successfully installed sentencepiece-0.1.99\n"
          ]
        }
      ],
      "source": [
        "!pip install sentencepiece"
      ]
    },
    {
      "cell_type": "code",
      "execution_count": null,
      "metadata": {
        "id": "CBDWBCLAIYwR"
      },
      "outputs": [],
      "source": [
        "# Training models with just text data and not fusing additional features"
      ]
    },
    {
      "cell_type": "code",
      "execution_count": null,
      "metadata": {
        "colab": {
          "base_uri": "https://localhost:8080/"
        },
        "id": "DcGvweM3J_Qd",
        "outputId": "b3b4d663-2d1f-4841-b00f-9d16b2b9511c"
      },
      "outputs": [
        {
          "output_type": "execute_result",
          "data": {
            "text/plain": [
              "array(['Non-Informative', 'Informative'], dtype=object)"
            ]
          },
          "metadata": {},
          "execution_count": 14
        }
      ],
      "source": [
        "model_data['informative_label'].unique()"
      ]
    },
    {
      "cell_type": "code",
      "execution_count": null,
      "metadata": {
        "id": "HFjD4TwUIhdZ"
      },
      "outputs": [],
      "source": [
        "# Function that takes in the data and performs a random split\n",
        "def split_model_data(model_data, classification_task = 'Binary'):\n",
        "\n",
        "  stratify_label = 'informative_label'\n",
        "\n",
        "  # model_data = model_data[model_data['status'] == 'published']\n",
        "\n",
        "  if classification_task == 'Multi-Class':\n",
        "    stratify_label = 'merged_label'\n",
        "    model_data = model_data[model_data['informative_label'] == 'Informative']\n",
        "\n",
        "  # Perform train-test split (70% train, 30% test)\n",
        "  train_data, test_data = train_test_split(\n",
        "      model_data,  # Assuming 'text' column contains the input data\n",
        "      test_size=0.2,\n",
        "      stratify=model_data[stratify_label]  # Perform stratified sampling based on labels\n",
        "  )\n",
        "\n",
        "  # # Perform further split on the test set to create validation set (10% validation, 20% test)\n",
        "  # test_data, val_data = train_test_split(\n",
        "  #     test_data,\n",
        "  #     test_size=0.33,  # 10% of the test set (0.33 * 0.3 = 0.099 ≈ 10%)\n",
        "  #     stratify=test_data[stratify_label]  # Perform stratified sampling based on labels\n",
        "  # )\n",
        "\n",
        "  # Print the sizes of each split\n",
        "  print(\"Train set size:\", len(train_data))\n",
        "  # print(\"Validation set size:\", len(val_data))\n",
        "  print(\"Test set size:\", len(test_data))\n",
        "\n",
        "  return train_data, test_data"
      ]
    },
    {
      "cell_type": "code",
      "execution_count": null,
      "metadata": {
        "id": "Ihs3prEKKGw2"
      },
      "outputs": [],
      "source": [
        "def encode_labels(train_data, test_data, classification_task = 'Binary'):\n",
        "  target_column = 'informative_label'\n",
        "\n",
        "  if classification_task == 'Multi-Class':\n",
        "    target_column = 'merged_label'\n",
        "\n",
        "  label_encoder = LabelEncoder()\n",
        "  label_encoder.fit(train_data[target_column])\n",
        "  train_data[\"target\"] = label_encoder.transform(train_data[target_column])\n",
        "  # val_data[\"target\"] = label_encoder.transform(val_data[target_column])\n",
        "  test_data[\"target\"] = label_encoder.transform(test_data[target_column])\n",
        "\n",
        "  mapping = dict(zip(label_encoder.classes_, range(len(label_encoder.classes_))))\n",
        "  return train_data, test_data, mapping"
      ]
    },
    {
      "cell_type": "code",
      "execution_count": null,
      "metadata": {
        "id": "hLXFFD6NLJEF"
      },
      "outputs": [],
      "source": [
        "def tokenize(tokenizer, max_len, sentences, labels):\n",
        "  # Tokenize all of the sentences and map the tokens to thier word IDs.\n",
        "  input_ids = []\n",
        "  attention_masks = []\n",
        "\n",
        "  # For every sentence...\n",
        "  for sent in sentences:\n",
        "      # `encode_plus` will:\n",
        "      #   (1) Tokenize the sentence.\n",
        "      #   (2) Prepend the `[CLS]` token to the start.\n",
        "      #   (3) Append the `[SEP]` token to the end.\n",
        "      #   (4) Map tokens to their IDs.\n",
        "      #   (5) Pad or truncate the sentence to `max_length`\n",
        "      #   (6) Create attention masks for [PAD] tokens.\n",
        "      encoded_dict = tokenizer.encode_plus(\n",
        "                          sent,                      # Sentence to encode.\n",
        "                          add_special_tokens = True, # Add '[CLS]' and '[SEP]'\n",
        "                          max_length = max_len,           # Pad & truncate all sentences.\n",
        "                          pad_to_max_length = True,\n",
        "                          return_attention_mask = True,   # Construct attn. masks.\n",
        "                          return_tensors = 'pt',     # Return pytorch tensors.\n",
        "                    )\n",
        "\n",
        "      # Add the encoded sentence to the list.\n",
        "      input_ids.append(encoded_dict['input_ids'])\n",
        "\n",
        "      # And its attention mask (simply differentiates padding from non-padding).\n",
        "      attention_masks.append(encoded_dict['attention_mask'])\n",
        "\n",
        "  # Convert the lists into tensors.\n",
        "  input_ids = torch.cat(input_ids, dim=0)\n",
        "  attention_masks = torch.cat(attention_masks, dim=0)\n",
        "  labels = torch.tensor(labels)\n",
        "\n",
        "  # Print sentence 0, now as a list of IDs.\n",
        "  # Uncomment to debug the code\n",
        "  # print('Original: ', sentences[0])\n",
        "  # print('Token IDs:', input_ids[0])\n",
        "\n",
        "  return input_ids, attention_masks, labels"
      ]
    },
    {
      "cell_type": "code",
      "execution_count": null,
      "metadata": {
        "id": "zT3_P9jlNJes"
      },
      "outputs": [],
      "source": [
        "import torch\n",
        "from transformers import AutoTokenizer\n",
        "from transformers import XLMRobertaForSequenceClassification\n",
        "from torch.utils.data.dataset import TensorDataset\n",
        "from torch.utils.data import DataLoader, RandomSampler, SequentialSampler\n",
        "from transformers import AutoModelForSequenceClassification\n",
        "from sklearn.utils.class_weight import compute_class_weight\n",
        "from transformers import get_linear_schedule_with_warmup\n",
        "import os"
      ]
    },
    {
      "cell_type": "code",
      "execution_count": null,
      "metadata": {
        "colab": {
          "base_uri": "https://localhost:8080/"
        },
        "id": "rpu-Z39GRZ16",
        "outputId": "b900fb6a-ff1b-422a-fe96-837421534b02"
      },
      "outputs": [
        {
          "output_type": "stream",
          "name": "stdout",
          "text": [
            "  GPU: Tesla T4\n"
          ]
        }
      ],
      "source": [
        "# Connect to the GPU.\n",
        "device = torch.device('cuda')\n",
        "# Report what GPU we were granted.\n",
        "print('  GPU:', torch.cuda.get_device_name(0))"
      ]
    },
    {
      "cell_type": "code",
      "execution_count": null,
      "metadata": {
        "id": "K9UCab8RNEKH"
      },
      "outputs": [],
      "source": [
        "def init_tokenizer(model_name= 'xlm-roberta-base'):\n",
        "  # Code to initialize tokenizer\n",
        "  tokenizer = AutoTokenizer.from_pretrained(model_name)\n",
        "  return tokenizer"
      ]
    },
    {
      "cell_type": "code",
      "execution_count": null,
      "metadata": {
        "id": "iToGXn70QWMv"
      },
      "outputs": [],
      "source": [
        "import time\n",
        "import datetime\n",
        "\n",
        "def format_time(elapsed):\n",
        "    '''\n",
        "    Takes a time in seconds and returns a string hh:mm:ss\n",
        "    '''\n",
        "    # Round to the nearest second.\n",
        "    elapsed_rounded = int(round((elapsed)))\n",
        "\n",
        "    # Format as hh:mm:ss\n",
        "    return str(datetime.timedelta(seconds=elapsed_rounded))\n",
        "\n",
        "\n",
        "def good_update_interval(total_iters, num_desired_updates):\n",
        "    '''\n",
        "    This function will try to pick an intelligent progress update interval\n",
        "    based on the magnitude of the total iterations.\n",
        "\n",
        "    Parameters:\n",
        "      `total_iters` - The number of iterations in the for-loop.\n",
        "      `num_desired_updates` - How many times we want to see an update over the\n",
        "                              course of the for-loop.\n",
        "    '''\n",
        "    # Divide the total iterations by the desired number of updates. Most likely\n",
        "    # this will be some ugly number.\n",
        "    exact_interval = total_iters / num_desired_updates\n",
        "\n",
        "    # The `round` function has the ability to round down a number to, e.g., the\n",
        "    # nearest thousandth: round(exact_interval, -3)\n",
        "    #\n",
        "    # To determine the magnitude to round to, find the magnitude of the total,\n",
        "    # and then go one magnitude below that.\n",
        "\n",
        "    # Get the order of magnitude of the total.\n",
        "    order_of_mag = len(str(total_iters)) - 1\n",
        "\n",
        "    # Our update interval should be rounded to an order of magnitude smaller.\n",
        "    round_mag = order_of_mag - 1\n",
        "\n",
        "    # Round down and cast to an int.\n",
        "    update_interval = int(round(exact_interval, -round_mag))\n",
        "\n",
        "    # Don't allow the interval to be zero!\n",
        "    if update_interval == 0:\n",
        "        update_interval = 1\n",
        "\n",
        "    return update_interval"
      ]
    },
    {
      "cell_type": "code",
      "execution_count": null,
      "metadata": {
        "id": "5gTGAfzjQaPP"
      },
      "outputs": [],
      "source": [
        "def train_model(model, train_dataloader, epochs, class_weights, optimizer, scheduler):\n",
        "  training_stats = []\n",
        "  total_t0 = time.time()\n",
        "  for epoch_i in range(0, epochs):\n",
        "    print(\"\")\n",
        "    print('======== Epoch {:} / {:} ========'.format(epoch_i + 1, epochs))\n",
        "    print('Training...')\n",
        "    # Measure how long the training epoch takes.\n",
        "    t0 = time.time()\n",
        "    # Reset the total loss for this epoch.\n",
        "    total_train_loss = 0\n",
        "    model.train()\n",
        "    # Pick an interval on which to print progress updates.\n",
        "    update_interval = good_update_interval(\n",
        "                total_iters = len(train_dataloader),\n",
        "                num_desired_updates = 10\n",
        "            )\n",
        "    # For each batch of training data...\n",
        "    for step, batch in enumerate(train_dataloader):\n",
        "        # Progress update.\n",
        "        # if (step % update_interval) == 0 and not step == 0:\n",
        "        #     # Calculate elapsed time in minutes.\n",
        "        #     elapsed = format_time(time.time() - t0)\n",
        "        #     # Report progress.\n",
        "        #     print('  Batch {:>5,}  of  {:>5,}.    Elapsed: {:}.'.format(step, len(train_dataloader), elapsed))\n",
        "\n",
        "        # Unpack this training batch from our dataloader.\n",
        "        #\n",
        "        # As we unpack the batch, we'll also copy each tensor to the GPU using\n",
        "        # the `to` method.\n",
        "        # `batch` contains three pytorch tensors:\n",
        "        #   [0]: input ids\n",
        "        #   [1]: attention masks\n",
        "        #   [2]: labels\n",
        "        b_input_ids = batch[0].to(device)\n",
        "        b_input_mask = batch[1].to(device)\n",
        "        b_labels = batch[2].to(device)\n",
        "\n",
        "        # Always clear any previously calculated gradients before performing a\n",
        "        # backward pass. PyTorch doesn't do this automatically because\n",
        "        # accumulating the gradients is \"convenient while training RNNs\".\n",
        "        # (source: https://stackoverflow.com/questions/48001598/why-do-we-need-to-call-zero-grad-in-pytorch)\n",
        "        model.zero_grad()\n",
        "\n",
        "        # Perform a forward pass (evaluate the model on this training batch).\n",
        "        # In PyTorch, calling `model` will in turn call the model's `forward`\n",
        "        # function and pass down the arguments. The `forward` function is\n",
        "        # documented here:\n",
        "        # https://huggingface.co/transformers/model_doc/bert.html#bertforsequenceclassification\n",
        "        # The results are returned in a results object, documented here:\n",
        "        # https://huggingface.co/transformers/main_classes/output.html#transformers.modeling_outputs.SequenceClassifierOutput\n",
        "        # Specifically, we'll get the loss (because we provided labels) and the\n",
        "        # \"logits\"--the model outputs prior to activation.\n",
        "        result = model(b_input_ids,\n",
        "                       token_type_ids=None,\n",
        "                       attention_mask=b_input_mask,\n",
        "                       return_dict=True)\n",
        "\n",
        "        logits = result.logits\n",
        "        # loss = result.loss\n",
        "\n",
        "        criterion = torch.nn.CrossEntropyLoss(class_weights)\n",
        "        loss = criterion(logits, b_labels)\n",
        "\n",
        "        # Accumulate the training loss over all of the batches so that we can\n",
        "        # calculate the average loss at the end. `loss` is a Tensor containing a\n",
        "        # single value; the `.item()` function just returns the Python value\n",
        "        # from the tensor.\n",
        "        total_train_loss += loss.item()\n",
        "\n",
        "        # Perform a backward pass to calculate the gradients.\n",
        "        loss.backward()\n",
        "\n",
        "        # Clip the norm of the gradients to 1.0.\n",
        "        # This is to help prevent the \"exploding gradients\" problem.\n",
        "        torch.nn.utils.clip_grad_norm_(model.parameters(), 1.0)\n",
        "\n",
        "        # Update parameters and take a step using the computed gradient.\n",
        "        # The optimizer dictates the \"update rule\"--how the parameters are\n",
        "        # modified based on their gradients, the learning rate, etc.\n",
        "        optimizer.step()\n",
        "\n",
        "        # Update the learning rate.\n",
        "        scheduler.step()\n",
        "\n",
        "    # Calculate the average loss over all of the batches.\n",
        "    avg_train_loss = total_train_loss / len(train_dataloader)\n",
        "\n",
        "    # Measure how long this epoch took.\n",
        "    training_time = format_time(time.time() - t0)\n",
        "\n",
        "    print(\"\")\n",
        "    print(\"  Average training loss: {0:.2f}\".format(avg_train_loss))\n",
        "    print(\"  Training epoch took: {:}\".format(training_time))"
      ]
    },
    {
      "cell_type": "code",
      "execution_count": null,
      "metadata": {
        "id": "PJLpiWmtQddF"
      },
      "outputs": [],
      "source": [
        "def test_model(model,test_dataloader):\n",
        "  # Put model in evaluation mode\n",
        "  model.eval()\n",
        "  # Tracking variables\n",
        "  predictions , true_labels = [], []\n",
        "  # Predict\n",
        "  for batch in test_dataloader:\n",
        "    # Add batch to GPU\n",
        "    batch = tuple(t.to(device) for t in batch)\n",
        "\n",
        "    # Unpack the inputs from our dataloader\n",
        "    b_input_ids, b_input_mask, b_labels = batch\n",
        "\n",
        "    # Telling the model not to compute or store gradients, saving memory and\n",
        "    # speeding up prediction\n",
        "    with torch.no_grad():\n",
        "        # Forward pass, calculate logit predictions.\n",
        "        result = model(b_input_ids,\n",
        "                      token_type_ids=None,\n",
        "                      attention_mask=b_input_mask,\n",
        "                      return_dict=True)\n",
        "    logits = result.logits\n",
        "    # Move logits and labels to CPU\n",
        "    logits = logits.detach().cpu().numpy()\n",
        "    label_ids = b_labels.to('cpu').numpy()\n",
        "\n",
        "    # Store predictions and true labels\n",
        "    predictions.append(logits)\n",
        "    true_labels.append(label_ids)\n",
        "  return predictions, true_labels"
      ]
    },
    {
      "cell_type": "code",
      "execution_count": null,
      "metadata": {
        "id": "0s7CXUw9L0fW"
      },
      "outputs": [],
      "source": [
        "def train_test_multiple_splits(no_of_splits, classification_task, model_data, model_name, epochs, batch_size):\n",
        "  results = {}\n",
        "  mapping = {}\n",
        "  for idx in range(0, no_of_splits):\n",
        "    print(f\"Currently running split {idx + 1}\")\n",
        "\n",
        "    # Get the train, test and validation data splits\n",
        "    train_data, test_data = split_model_data(model_data, classification_task)\n",
        "\n",
        "    # Encode the target variables\n",
        "    train_data, test_data, mapping = encode_labels(train_data, test_data, classification_task)\n",
        "    mapping = mapping\n",
        "\n",
        "    # Get train sentences and targets\n",
        "    train_sentences, train_targets = train_data.normalized_text.values, train_data.target.values\n",
        "    # val_sentences, val_targets = val_data.normalized_text.values, val_data.target.values\n",
        "    test_sentences, test_targets = test_data.normalized_text.values, test_data.target.values\n",
        "\n",
        "    # Get class weights\n",
        "    class_weights = compute_class_weight('balanced', classes=np.unique(train_targets), y=train_targets)\n",
        "    class_weights = torch.tensor(class_weights,dtype=torch.float)\n",
        "\n",
        "    # Tokenize sentences\n",
        "    tokenizer = init_tokenizer()\n",
        "    train_input_ids, train_attention_masks, train_labels = tokenize(tokenizer, 128, train_sentences, train_targets)\n",
        "    # val_input_ids, val_attention_masks, val_labels = tokenize(tokenizer, 128, val_sentences, val_targets)\n",
        "    test_input_ids, test_attention_masks, test_labels = tokenize(tokenizer, 128, test_sentences, test_targets)\n",
        "\n",
        "    # Create datasets\n",
        "    train_dataset = TensorDataset(train_input_ids, train_attention_masks, train_labels)\n",
        "    # val_dataset = TensorDataset(val_input_ids, val_attention_masks, val_labels)\n",
        "    test_dataset = TensorDataset(test_input_ids, test_attention_masks, test_labels)\n",
        "\n",
        "    # Create dataloaders\n",
        "    train_dataloader = DataLoader(\n",
        "            train_dataset,  # The training samples.\n",
        "            sampler = RandomSampler(train_dataset), # Select batches randomly\n",
        "            batch_size = batch_size # Trains with this batch size.\n",
        "        )\n",
        "\n",
        "    # # For validation the order doesn't matter, so we'll just read them sequentially.\n",
        "    # val_dataloader = DataLoader(\n",
        "    #             val_dataset, # The validation samples.\n",
        "    #             sampler = SequentialSampler(val_dataset), # Pull out batches sequentially.\n",
        "    #             batch_size = batch_size # Evaluate with this batch size.\n",
        "    #         )\n",
        "\n",
        "    # For validation the order doesn't matter, so we'll just read them sequentially.\n",
        "    test_dataloader = DataLoader(\n",
        "                test_dataset, # The validation samples.\n",
        "                sampler = SequentialSampler(test_dataset), # Pull out batches sequentially.\n",
        "                batch_size = batch_size # Evaluate with this batch size.\n",
        "            )\n",
        "\n",
        "    # Set dropout rate\n",
        "    dropout_rate = 0.3\n",
        "\n",
        "    # Init model\n",
        "    model = XLMRobertaForSequenceClassification.from_pretrained(model_name, num_labels=len(np.unique(train_targets)))\n",
        "    model.config.update({'hidden_dropout_prob': dropout_rate})\n",
        "\n",
        "    # Load model to the GPU\n",
        "    print('Loading model to GPU...')\n",
        "    # Copy the initial model weights to the GPU.\n",
        "    desc = model.to(device)\n",
        "\n",
        "    optimizer = torch.optim.AdamW(model.parameters(),\n",
        "                  lr = 2e-5, # args.learning_rate\n",
        "                  eps = 1e-6 # args.adam_epsilon  - default is 1e-8.\n",
        "                )\n",
        "\n",
        "    # Total number of training steps is [number of batches] x [number of epochs].\n",
        "    # (Note that this is not the same as the number of training samples).\n",
        "    total_steps = len(train_dataloader) * epochs\n",
        "\n",
        "    # Create the learning rate scheduler.\n",
        "    scheduler = get_linear_schedule_with_warmup(optimizer,\n",
        "                                                num_warmup_steps = 0,\n",
        "                                                num_training_steps = total_steps)\n",
        "    # Measure the total training time for the whole run.\n",
        "    total_t0 = time.time()\n",
        "    print(f\"Training Current run: {idx+1}\")\n",
        "    train_model(model, train_dataloader, epochs, class_weights, optimizer, scheduler)\n",
        "    print(f\"Testing Current run: {idx+1}\")\n",
        "    # Test model on test set\n",
        "    predictions, true_labels = test_model(model, test_dataloader)\n",
        "    results[f\"Run {idx+1}\"] = (predictions, true_labels)\n",
        "\n",
        "    # Save instance of the model\n",
        "    save_directory = f'/content/drive/My Drive/thesis/models/new/{classification_task}/Run{idx+1}'\n",
        "    os.makedirs(save_directory, exist_ok=True)\n",
        "    model.save_pretrained(save_directory)\n",
        "\n",
        "    # Save data splits\n",
        "    data_directory = f'/content/drive/My Drive/thesis/multiple_runs/new/{classification_task}/Run{idx+1}'\n",
        "    os.makedirs(data_directory, exist_ok=True)\n",
        "\n",
        "    train_data.to_csv(f\"{data_directory}/train_data.csv\",  quoting=csv.QUOTE_NONNUMERIC, index=False)\n",
        "    # val_data.to_csv(f\"{data_directory}/val_data.csv\",  quoting=csv.QUOTE_NONNUMERIC, index=False)\n",
        "    test_data.to_csv(f\"{data_directory}/test_data.csv\",  quoting=csv.QUOTE_NONNUMERIC, index=False)\n",
        "\n",
        "  return results, mapping"
      ]
    },
    {
      "cell_type": "code",
      "source": [
        "dataset_size = len(train_data)"
      ],
      "metadata": {
        "id": "ud7aUKFkYT7h"
      },
      "execution_count": null,
      "outputs": []
    },
    {
      "cell_type": "code",
      "source": [
        "#Test effect of data sizes\n",
        "fold_sizes = [100, 500, 2000, 4000, 6000, 9000]\n",
        "percentage_folds = [fold/dataset_size for fold in fold_sizes]"
      ],
      "metadata": {
        "id": "BPwdQNsZX3P9"
      },
      "execution_count": null,
      "outputs": []
    },
    {
      "cell_type": "code",
      "source": [
        "informative_train_data = train_data[train_data['informative_label'] == 'Informative']\n",
        "informative_test_data = test_data[test_data['informative_label'] == 'Informative']"
      ],
      "metadata": {
        "id": "8rLQinAIsMcY"
      },
      "execution_count": null,
      "outputs": []
    },
    {
      "cell_type": "code",
      "source": [
        "#Uncomment for information type classification task\n",
        "# X_train = informative_train_data['normalized_text']\n",
        "# y_train = informative_train_data['merged_label']\n",
        "# test_sentences = informative_test_data['normalized_text']\n",
        "# y_test = informative_test_data['merged_label']\n",
        "\n",
        "\n",
        "X_train = train_data['normalized_text']\n",
        "y_train = train_data['merged_label']\n",
        "test_sentences = test_data['normalized_text']\n",
        "y_test = test_data['merged_label']"
      ],
      "metadata": {
        "id": "7v2bFi8QsO3e"
      },
      "execution_count": null,
      "outputs": []
    },
    {
      "cell_type": "code",
      "source": [
        "f1_scores = []\n",
        "precisions = []\n",
        "recalls = []\n",
        "\n",
        "for fold_size in percentage_folds:\n",
        "  # Split the data into the current fold\n",
        "  train_sentences, _, y_train_fold, _= train_test_split(X_train, y_train, train_size=fold_size, stratify=y_train)\n",
        "\n",
        "  # Label encode the targets\n",
        "  target_column = 'informative_label'\n",
        "  label_encoder = LabelEncoder()\n",
        "  label_encoder.fit(y_train_fold)\n",
        "  train_targets = label_encoder.transform(y_train_fold)\n",
        "  test_targets = label_encoder.transform(y_test)\n",
        "\n",
        "  tokenizer = init_tokenizer()\n",
        "  train_input_ids, train_attention_masks, train_labels = tokenize(tokenizer, 128, train_sentences, train_targets)\n",
        "  test_input_ids, test_attention_masks, test_labels = tokenize(tokenizer, 128, test_sentences, test_targets)\n",
        "\n",
        "  # Create datasets\n",
        "  train_dataset = TensorDataset(train_input_ids, train_attention_masks, train_labels)\n",
        "  test_dataset = TensorDataset(test_input_ids, test_attention_masks, test_labels)\n",
        "\n",
        "  # Create dataloaders\n",
        "  train_dataloader = DataLoader(\n",
        "          train_dataset,  # The training samples.\n",
        "          sampler = RandomSampler(train_dataset), # Select batches randomly\n",
        "          batch_size = 32 # Trains with this batch size.\n",
        "      )\n",
        "\n",
        "  # For validation the order doesn't matter, so we'll just read them sequentially.\n",
        "  test_dataloader = DataLoader(\n",
        "              test_dataset, # The validation samples.\n",
        "              sampler = SequentialSampler(test_dataset), # Pull out batches sequentially.\n",
        "              batch_size = 32 # Evaluate with this batch size.\n",
        "          )\n",
        "\n",
        "  class_weights = compute_class_weight('balanced', classes=np.unique(train_targets), y=train_targets)\n",
        "  class_weights = torch.tensor(class_weights,dtype=torch.float).to(device)\n",
        "\n",
        "  # Set dropout rate\n",
        "  dropout_rate = 0.3\n",
        "\n",
        "  # Init model\n",
        "  model = XLMRobertaForSequenceClassification.from_pretrained('xlm-roberta-base', num_labels=len(np.unique(train_targets)))\n",
        "  model.config.update({'hidden_dropout_prob': dropout_rate, 'attention_probs_dropout_prob': dropout_rate})\n",
        "\n",
        "  # Load model to the GPU\n",
        "  print('Loading model to GPU...')\n",
        "  # Copy the initial model weights to the GPU.\n",
        "  desc = model.to(device)\n",
        "\n",
        "  optimizer = torch.optim.AdamW(model.parameters(),\n",
        "                lr = 2e-5, # args.learning_rate\n",
        "                eps = 1e-6 # args.adam_epsilon  - default is 1e-8.\n",
        "              )\n",
        "\n",
        "  # Total number of training steps is [number of batches] x [number of epochs].\n",
        "  # (Note that this is not the same as the number of training samples).\n",
        "  total_steps = len(train_dataloader) * 3\n",
        "\n",
        "  # Create the learning rate scheduler.\n",
        "  scheduler = get_linear_schedule_with_warmup(optimizer,\n",
        "                                              num_warmup_steps = 0,\n",
        "                                              num_training_steps = total_steps)\n",
        "  # Measure the total training time for the whole run.\n",
        "  train_model(model, train_dataloader, 3, class_weights, optimizer, scheduler)\n",
        "  # Test model on test set\n",
        "  predictions, true_labels = test_model(model, test_dataloader)\n",
        "\n",
        "  flat_predictions = np.concatenate(predictions, axis=0)\n",
        "  # For each sample, pick the label (0 or 1) with the higher score.\n",
        "  flat_predictions = np.argmax(flat_predictions, axis=1).flatten()\n",
        "  # Combine the correct labels for each batch into a single list.\n",
        "  flat_true_labels = np.concatenate(true_labels, axis=0)\n",
        "  # Calculate the classification report metrics\n",
        "  report = classification_report(flat_true_labels, flat_predictions, output_dict=True)\n",
        "  # Extract F1-score, precision, and recall\n",
        "  f1_score = report['macro avg']['f1-score']\n",
        "  precision = report['macro avg']['precision']\n",
        "  recall = report['macro avg']['recall']\n",
        "\n",
        "  # Append the metrics to the lists\n",
        "  f1_scores.append(f1_score)\n",
        "  precisions.append(precision)\n",
        "  recalls.append(recall)"
      ],
      "metadata": {
        "colab": {
          "base_uri": "https://localhost:8080/",
          "height": 1000,
          "referenced_widgets": [
            "9587a950137a4633ac1000911da8954f",
            "5a61509215a24eec832de0eb5b36b4ff",
            "6d4f695e6034469381d773bde2472ea2",
            "6f7bf5470d3e49adb4a9354a978c5a65",
            "23dbf9495e814f72993e1cba7665f953",
            "ece2a55befa749fdabd0519e47945449",
            "7f3d6eb3c7d74afb946bdf1d46fcec54",
            "76ec2d00289c49aa8fdaea975bff50be",
            "da994c79aea74974827ea544eaf4eeb6",
            "42f01de8253a4b24b088998b2c76ffc5",
            "c1a2512e513a4cb89d578e321cd8034f",
            "b50eb69e520e4b7ea08bcfc11d99a27a",
            "7d5771d5985244aaac6cd28b797aaef7",
            "f9187b99c24940cea7128b94dba91ce1",
            "450c030324904973af84a237283867b3",
            "6190cc29dc9b456aae329d9b1eaddc56",
            "6b41bb632b944845957ceb3672d26a08",
            "9727e883452541b8b5c0ef963ead0324",
            "ed2f41a433764e488cb371f5d7990179",
            "0817c08dd18f497e94fc33aab9492ec8",
            "672f775f14bf4217a65f0c7c5977188f",
            "7aeecc2cdac64a6bad11a61649227ecb",
            "fb405bf9e34e44378e5929e4284f3e00",
            "911ecb7392ef4059a40a8586a3c357e6",
            "82bbb781da924630927c172999e9a1b6",
            "6e47dd3c6dd943c985958b5e1773cbb7",
            "6575a26c9809420684912125f76da1a7",
            "9830d488cdfc422eb889dadff0b2b299",
            "0e13a7d9791b47fcb8f34ac48c4e1c7a",
            "115ab74f306a408d9ecd144b73f5a8fc",
            "1bceed3addae46ff8a620d4351948d40",
            "5be75867230e49c2b8d428b2c2de2b3b",
            "0f8c341642554aff864c1a554030f7bd",
            "6eee160e0c5f44589bccdb1d417e2cec",
            "2467c654bb7e4a78a5e24bbdd9dc748d",
            "51b28182852542aa85084da623291fe4",
            "84e9219b547b42e7ab1c49576f7eb78e",
            "38759b4b4d4e4cd5b9b68af6cc9c3df1",
            "2710ba765ae24457b8394eb3faa9138b",
            "fc895356e0af4473a46c08108347ae80",
            "90e54b2c4ebf4599963b6ded0861ebe4",
            "f416e7ac7d004ffeb1f9f77968152878",
            "5dc4e4b0a57540a0b4aae6e296e3c154",
            "5c85edd2223c4c248038f206930902f4"
          ]
        },
        "id": "vrgqP7DbYYtO",
        "outputId": "362e4db8-8f30-491d-86fa-2f0894ea0d55"
      },
      "execution_count": null,
      "outputs": [
        {
          "output_type": "display_data",
          "data": {
            "text/plain": [
              "Downloading (…)lve/main/config.json:   0%|          | 0.00/615 [00:00<?, ?B/s]"
            ],
            "application/vnd.jupyter.widget-view+json": {
              "version_major": 2,
              "version_minor": 0,
              "model_id": "9587a950137a4633ac1000911da8954f"
            }
          },
          "metadata": {}
        },
        {
          "output_type": "display_data",
          "data": {
            "text/plain": [
              "Downloading (…)tencepiece.bpe.model:   0%|          | 0.00/5.07M [00:00<?, ?B/s]"
            ],
            "application/vnd.jupyter.widget-view+json": {
              "version_major": 2,
              "version_minor": 0,
              "model_id": "b50eb69e520e4b7ea08bcfc11d99a27a"
            }
          },
          "metadata": {}
        },
        {
          "output_type": "display_data",
          "data": {
            "text/plain": [
              "Downloading (…)/main/tokenizer.json:   0%|          | 0.00/9.10M [00:00<?, ?B/s]"
            ],
            "application/vnd.jupyter.widget-view+json": {
              "version_major": 2,
              "version_minor": 0,
              "model_id": "fb405bf9e34e44378e5929e4284f3e00"
            }
          },
          "metadata": {}
        },
        {
          "output_type": "stream",
          "name": "stderr",
          "text": [
            "Truncation was not explicitly activated but `max_length` is provided a specific value, please use `truncation=True` to explicitly truncate examples to max length. Defaulting to 'longest_first' truncation strategy. If you encode pairs of sequences (GLUE-style) with the tokenizer you can select this strategy more precisely by providing a specific strategy to `truncation`.\n",
            "/usr/local/lib/python3.10/dist-packages/transformers/tokenization_utils_base.py:2393: FutureWarning: The `pad_to_max_length` argument is deprecated and will be removed in a future version, use `padding=True` or `padding='longest'` to pad to the longest sequence in the batch, or use `padding='max_length'` to pad to a max length. In this case, you can give a specific length with `max_length` (e.g. `max_length=45`) or leave max_length to None to pad to the maximal input size of the model (e.g. 512 for Bert).\n",
            "  warnings.warn(\n"
          ]
        },
        {
          "output_type": "display_data",
          "data": {
            "text/plain": [
              "Downloading model.safetensors:   0%|          | 0.00/1.12G [00:00<?, ?B/s]"
            ],
            "application/vnd.jupyter.widget-view+json": {
              "version_major": 2,
              "version_minor": 0,
              "model_id": "6eee160e0c5f44589bccdb1d417e2cec"
            }
          },
          "metadata": {}
        },
        {
          "output_type": "stream",
          "name": "stderr",
          "text": [
            "Some weights of XLMRobertaForSequenceClassification were not initialized from the model checkpoint at xlm-roberta-base and are newly initialized: ['classifier.out_proj.weight', 'classifier.out_proj.bias', 'classifier.dense.weight', 'classifier.dense.bias']\n",
            "You should probably TRAIN this model on a down-stream task to be able to use it for predictions and inference.\n"
          ]
        },
        {
          "output_type": "stream",
          "name": "stdout",
          "text": [
            "Loading model to GPU...\n",
            "\n",
            "======== Epoch 1 / 3 ========\n",
            "Training...\n",
            "\n",
            "  Average training loss: 1.76\n",
            "  Training epoch took: 0:00:02\n",
            "\n",
            "======== Epoch 2 / 3 ========\n",
            "Training...\n",
            "\n",
            "  Average training loss: 1.80\n",
            "  Training epoch took: 0:00:01\n",
            "\n",
            "======== Epoch 3 / 3 ========\n",
            "Training...\n",
            "\n",
            "  Average training loss: 1.82\n",
            "  Training epoch took: 0:00:01\n"
          ]
        },
        {
          "output_type": "stream",
          "name": "stderr",
          "text": [
            "/usr/local/lib/python3.10/dist-packages/sklearn/metrics/_classification.py:1344: UndefinedMetricWarning: Precision and F-score are ill-defined and being set to 0.0 in labels with no predicted samples. Use `zero_division` parameter to control this behavior.\n",
            "  _warn_prf(average, modifier, msg_start, len(result))\n",
            "/usr/local/lib/python3.10/dist-packages/sklearn/metrics/_classification.py:1344: UndefinedMetricWarning: Precision and F-score are ill-defined and being set to 0.0 in labels with no predicted samples. Use `zero_division` parameter to control this behavior.\n",
            "  _warn_prf(average, modifier, msg_start, len(result))\n",
            "/usr/local/lib/python3.10/dist-packages/sklearn/metrics/_classification.py:1344: UndefinedMetricWarning: Precision and F-score are ill-defined and being set to 0.0 in labels with no predicted samples. Use `zero_division` parameter to control this behavior.\n",
            "  _warn_prf(average, modifier, msg_start, len(result))\n",
            "Truncation was not explicitly activated but `max_length` is provided a specific value, please use `truncation=True` to explicitly truncate examples to max length. Defaulting to 'longest_first' truncation strategy. If you encode pairs of sequences (GLUE-style) with the tokenizer you can select this strategy more precisely by providing a specific strategy to `truncation`.\n",
            "/usr/local/lib/python3.10/dist-packages/transformers/tokenization_utils_base.py:2393: FutureWarning: The `pad_to_max_length` argument is deprecated and will be removed in a future version, use `padding=True` or `padding='longest'` to pad to the longest sequence in the batch, or use `padding='max_length'` to pad to a max length. In this case, you can give a specific length with `max_length` (e.g. `max_length=45`) or leave max_length to None to pad to the maximal input size of the model (e.g. 512 for Bert).\n",
            "  warnings.warn(\n",
            "Some weights of XLMRobertaForSequenceClassification were not initialized from the model checkpoint at xlm-roberta-base and are newly initialized: ['classifier.out_proj.weight', 'classifier.out_proj.bias', 'classifier.dense.weight', 'classifier.dense.bias']\n",
            "You should probably TRAIN this model on a down-stream task to be able to use it for predictions and inference.\n"
          ]
        },
        {
          "output_type": "stream",
          "name": "stdout",
          "text": [
            "Loading model to GPU...\n",
            "\n",
            "======== Epoch 1 / 3 ========\n",
            "Training...\n",
            "\n",
            "  Average training loss: 1.80\n",
            "  Training epoch took: 0:00:04\n",
            "\n",
            "======== Epoch 2 / 3 ========\n",
            "Training...\n",
            "\n",
            "  Average training loss: 1.79\n",
            "  Training epoch took: 0:00:04\n",
            "\n",
            "======== Epoch 3 / 3 ========\n",
            "Training...\n",
            "\n",
            "  Average training loss: 1.79\n",
            "  Training epoch took: 0:00:04\n"
          ]
        },
        {
          "output_type": "stream",
          "name": "stderr",
          "text": [
            "/usr/local/lib/python3.10/dist-packages/sklearn/metrics/_classification.py:1344: UndefinedMetricWarning: Precision and F-score are ill-defined and being set to 0.0 in labels with no predicted samples. Use `zero_division` parameter to control this behavior.\n",
            "  _warn_prf(average, modifier, msg_start, len(result))\n",
            "/usr/local/lib/python3.10/dist-packages/sklearn/metrics/_classification.py:1344: UndefinedMetricWarning: Precision and F-score are ill-defined and being set to 0.0 in labels with no predicted samples. Use `zero_division` parameter to control this behavior.\n",
            "  _warn_prf(average, modifier, msg_start, len(result))\n",
            "/usr/local/lib/python3.10/dist-packages/sklearn/metrics/_classification.py:1344: UndefinedMetricWarning: Precision and F-score are ill-defined and being set to 0.0 in labels with no predicted samples. Use `zero_division` parameter to control this behavior.\n",
            "  _warn_prf(average, modifier, msg_start, len(result))\n",
            "Truncation was not explicitly activated but `max_length` is provided a specific value, please use `truncation=True` to explicitly truncate examples to max length. Defaulting to 'longest_first' truncation strategy. If you encode pairs of sequences (GLUE-style) with the tokenizer you can select this strategy more precisely by providing a specific strategy to `truncation`.\n",
            "/usr/local/lib/python3.10/dist-packages/transformers/tokenization_utils_base.py:2393: FutureWarning: The `pad_to_max_length` argument is deprecated and will be removed in a future version, use `padding=True` or `padding='longest'` to pad to the longest sequence in the batch, or use `padding='max_length'` to pad to a max length. In this case, you can give a specific length with `max_length` (e.g. `max_length=45`) or leave max_length to None to pad to the maximal input size of the model (e.g. 512 for Bert).\n",
            "  warnings.warn(\n",
            "Some weights of XLMRobertaForSequenceClassification were not initialized from the model checkpoint at xlm-roberta-base and are newly initialized: ['classifier.out_proj.weight', 'classifier.out_proj.bias', 'classifier.dense.weight', 'classifier.dense.bias']\n",
            "You should probably TRAIN this model on a down-stream task to be able to use it for predictions and inference.\n"
          ]
        },
        {
          "output_type": "stream",
          "name": "stdout",
          "text": [
            "Loading model to GPU...\n",
            "\n",
            "======== Epoch 1 / 3 ========\n",
            "Training...\n",
            "\n",
            "  Average training loss: 1.79\n",
            "  Training epoch took: 0:00:14\n",
            "\n",
            "======== Epoch 2 / 3 ========\n",
            "Training...\n",
            "\n",
            "  Average training loss: 1.74\n",
            "  Training epoch took: 0:00:14\n",
            "\n",
            "======== Epoch 3 / 3 ========\n",
            "Training...\n",
            "\n",
            "  Average training loss: 1.63\n",
            "  Training epoch took: 0:00:14\n"
          ]
        },
        {
          "output_type": "stream",
          "name": "stderr",
          "text": [
            "Truncation was not explicitly activated but `max_length` is provided a specific value, please use `truncation=True` to explicitly truncate examples to max length. Defaulting to 'longest_first' truncation strategy. If you encode pairs of sequences (GLUE-style) with the tokenizer you can select this strategy more precisely by providing a specific strategy to `truncation`.\n",
            "/usr/local/lib/python3.10/dist-packages/transformers/tokenization_utils_base.py:2393: FutureWarning: The `pad_to_max_length` argument is deprecated and will be removed in a future version, use `padding=True` or `padding='longest'` to pad to the longest sequence in the batch, or use `padding='max_length'` to pad to a max length. In this case, you can give a specific length with `max_length` (e.g. `max_length=45`) or leave max_length to None to pad to the maximal input size of the model (e.g. 512 for Bert).\n",
            "  warnings.warn(\n",
            "Some weights of XLMRobertaForSequenceClassification were not initialized from the model checkpoint at xlm-roberta-base and are newly initialized: ['classifier.out_proj.weight', 'classifier.out_proj.bias', 'classifier.dense.weight', 'classifier.dense.bias']\n",
            "You should probably TRAIN this model on a down-stream task to be able to use it for predictions and inference.\n"
          ]
        },
        {
          "output_type": "stream",
          "name": "stdout",
          "text": [
            "Loading model to GPU...\n",
            "\n",
            "======== Epoch 1 / 3 ========\n",
            "Training...\n",
            "\n",
            "  Average training loss: 1.66\n",
            "  Training epoch took: 0:00:28\n",
            "\n",
            "======== Epoch 2 / 3 ========\n",
            "Training...\n",
            "\n",
            "  Average training loss: 1.24\n",
            "  Training epoch took: 0:00:28\n",
            "\n",
            "======== Epoch 3 / 3 ========\n",
            "Training...\n",
            "\n",
            "  Average training loss: 1.03\n",
            "  Training epoch took: 0:00:28\n"
          ]
        },
        {
          "output_type": "stream",
          "name": "stderr",
          "text": [
            "Truncation was not explicitly activated but `max_length` is provided a specific value, please use `truncation=True` to explicitly truncate examples to max length. Defaulting to 'longest_first' truncation strategy. If you encode pairs of sequences (GLUE-style) with the tokenizer you can select this strategy more precisely by providing a specific strategy to `truncation`.\n",
            "/usr/local/lib/python3.10/dist-packages/transformers/tokenization_utils_base.py:2393: FutureWarning: The `pad_to_max_length` argument is deprecated and will be removed in a future version, use `padding=True` or `padding='longest'` to pad to the longest sequence in the batch, or use `padding='max_length'` to pad to a max length. In this case, you can give a specific length with `max_length` (e.g. `max_length=45`) or leave max_length to None to pad to the maximal input size of the model (e.g. 512 for Bert).\n",
            "  warnings.warn(\n",
            "Some weights of XLMRobertaForSequenceClassification were not initialized from the model checkpoint at xlm-roberta-base and are newly initialized: ['classifier.out_proj.weight', 'classifier.out_proj.bias', 'classifier.dense.weight', 'classifier.dense.bias']\n",
            "You should probably TRAIN this model on a down-stream task to be able to use it for predictions and inference.\n"
          ]
        },
        {
          "output_type": "stream",
          "name": "stdout",
          "text": [
            "Loading model to GPU...\n",
            "\n",
            "======== Epoch 1 / 3 ========\n",
            "Training...\n",
            "\n",
            "  Average training loss: 1.64\n",
            "  Training epoch took: 0:00:43\n",
            "\n",
            "======== Epoch 2 / 3 ========\n",
            "Training...\n",
            "\n",
            "  Average training loss: 1.16\n",
            "  Training epoch took: 0:00:43\n",
            "\n",
            "======== Epoch 3 / 3 ========\n",
            "Training...\n",
            "\n",
            "  Average training loss: 0.94\n",
            "  Training epoch took: 0:00:43\n"
          ]
        },
        {
          "output_type": "stream",
          "name": "stderr",
          "text": [
            "Truncation was not explicitly activated but `max_length` is provided a specific value, please use `truncation=True` to explicitly truncate examples to max length. Defaulting to 'longest_first' truncation strategy. If you encode pairs of sequences (GLUE-style) with the tokenizer you can select this strategy more precisely by providing a specific strategy to `truncation`.\n",
            "/usr/local/lib/python3.10/dist-packages/transformers/tokenization_utils_base.py:2393: FutureWarning: The `pad_to_max_length` argument is deprecated and will be removed in a future version, use `padding=True` or `padding='longest'` to pad to the longest sequence in the batch, or use `padding='max_length'` to pad to a max length. In this case, you can give a specific length with `max_length` (e.g. `max_length=45`) or leave max_length to None to pad to the maximal input size of the model (e.g. 512 for Bert).\n",
            "  warnings.warn(\n",
            "Some weights of XLMRobertaForSequenceClassification were not initialized from the model checkpoint at xlm-roberta-base and are newly initialized: ['classifier.out_proj.weight', 'classifier.out_proj.bias', 'classifier.dense.weight', 'classifier.dense.bias']\n",
            "You should probably TRAIN this model on a down-stream task to be able to use it for predictions and inference.\n"
          ]
        },
        {
          "output_type": "stream",
          "name": "stdout",
          "text": [
            "Loading model to GPU...\n",
            "\n",
            "======== Epoch 1 / 3 ========\n",
            "Training...\n",
            "\n",
            "  Average training loss: 1.50\n",
            "  Training epoch took: 0:01:04\n",
            "\n",
            "======== Epoch 2 / 3 ========\n",
            "Training...\n",
            "\n",
            "  Average training loss: 1.06\n",
            "  Training epoch took: 0:01:04\n",
            "\n",
            "======== Epoch 3 / 3 ========\n",
            "Training...\n",
            "\n",
            "  Average training loss: 0.87\n",
            "  Training epoch took: 0:01:04\n"
          ]
        }
      ]
    },
    {
      "cell_type": "code",
      "source": [
        "f1_scores"
      ],
      "metadata": {
        "colab": {
          "base_uri": "https://localhost:8080/"
        },
        "id": "pARyfh-RcPHO",
        "outputId": "309d10a9-d97e-4145-d5dc-7906de8d83c1"
      },
      "execution_count": null,
      "outputs": [
        {
          "output_type": "execute_result",
          "data": {
            "text/plain": [
              "[0.06630017872768247,\n",
              " 0.18082006965208378,\n",
              " 0.3499798223394384,\n",
              " 0.4669372689042845,\n",
              " 0.4993606739004226,\n",
              " 0.5165048904357423]"
            ]
          },
          "metadata": {},
          "execution_count": 22
        }
      ]
    },
    {
      "cell_type": "code",
      "source": [
        "fold_sizes"
      ],
      "metadata": {
        "colab": {
          "base_uri": "https://localhost:8080/"
        },
        "id": "qqVsmZdBxRZm",
        "outputId": "e75d03d6-246f-4836-c71d-a373bfcae750"
      },
      "execution_count": null,
      "outputs": [
        {
          "output_type": "execute_result",
          "data": {
            "text/plain": [
              "[100, 500, 2000, 4000, 6000, 9000]"
            ]
          },
          "metadata": {},
          "execution_count": 23
        }
      ]
    },
    {
      "cell_type": "code",
      "source": [
        "import seaborn as sns\n",
        "import matplotlib.pyplot as plt\n",
        "\n",
        "# Assuming you have lists of precision, recall, and f1_scores\n",
        "# containing the metrics for each iteration or fold\n",
        "\n",
        "# Create a list of iteration or fold numbers\n",
        "iterations = range(1, len(precisions) + 1)\n",
        "\n",
        "# Create a DataFrame to hold the metrics\n",
        "metrics_df = pd.DataFrame({\n",
        "    'Iteration': fold_sizes,\n",
        "    'Precision': precisions,\n",
        "    'Recall': recalls,\n",
        "    'F1-Score': f1_scores\n",
        "})\n",
        "\n",
        "# Melt the DataFrame to transform the metrics into a single column\n",
        "melted_df = pd.melt(metrics_df, id_vars=['Iteration'], var_name='Metric', value_name='Score')\n",
        "sns.set(style='ticks', context='paper')\n",
        "# Plot the graph using Seaborn's lineplot\n",
        "plt.figure(figsize=(8, 6))\n",
        "sns.lineplot(data=melted_df, x='Iteration', y='Score', hue='Metric', marker='o')\n",
        "\n",
        "# Set the y-axis limits to be between 0 and 1\n",
        "# plt.ylim(0.4, 0.9)\n",
        "\n",
        "# Remove top and right spines\n",
        "sns.despine()\n",
        "\n",
        "# Add gridlines\n",
        "plt.grid(True)\n",
        "\n",
        "# Set labels and title\n",
        "plt.xlabel('Training Data (1000s)')\n",
        "plt.ylabel('Score')\n",
        "plt.title('XLM-R')\n",
        "plt.savefig('svm_data_sizes.svg')\n",
        "\n",
        "# Show the plot\n",
        "plt.show()"
      ],
      "metadata": {
        "colab": {
          "base_uri": "https://localhost:8080/",
          "height": 542
        },
        "id": "U0Zn2ixUezZ_",
        "outputId": "41ab48d2-35b4-415e-bfe9-2c46be8a7b26"
      },
      "execution_count": null,
      "outputs": [
        {
          "output_type": "display_data",
          "data": {
            "text/plain": [
              "<Figure size 800x600 with 1 Axes>"
            ],
            "image/svg+xml": "<?xml version=\"1.0\" encoding=\"utf-8\" standalone=\"no\"?>\n<!DOCTYPE svg PUBLIC \"-//W3C//DTD SVG 1.1//EN\"\n  \"http://www.w3.org/Graphics/SVG/1.1/DTD/svg11.dtd\">\n<svg xmlns:xlink=\"http://www.w3.org/1999/xlink\" width=\"499.406816pt\" height=\"390.44225pt\" viewBox=\"0 0 499.406816 390.44225\" xmlns=\"http://www.w3.org/2000/svg\" version=\"1.1\">\n <metadata>\n  <rdf:RDF xmlns:dc=\"http://purl.org/dc/elements/1.1/\" xmlns:cc=\"http://creativecommons.org/ns#\" xmlns:rdf=\"http://www.w3.org/1999/02/22-rdf-syntax-ns#\">\n   <cc:Work>\n    <dc:type rdf:resource=\"http://purl.org/dc/dcmitype/StillImage\"/>\n    <dc:date>2023-07-19T01:44:28.527591</dc:date>\n    <dc:format>image/svg+xml</dc:format>\n    <dc:creator>\n     <cc:Agent>\n      <dc:title>Matplotlib v3.7.1, https://matplotlib.org/</dc:title>\n     </cc:Agent>\n    </dc:creator>\n   </cc:Work>\n  </rdf:RDF>\n </metadata>\n <defs>\n  <style type=\"text/css\">*{stroke-linejoin: round; stroke-linecap: butt}</style>\n </defs>\n <g id=\"figure_1\">\n  <g id=\"patch_1\">\n   <path d=\"M 0 390.44225 \nL 499.406816 390.44225 \nL 499.406816 0 \nL 0 0 \nz\n\" style=\"fill: #ffffff\"/>\n  </g>\n  <g id=\"axes_1\">\n   <g id=\"patch_2\">\n    <path d=\"M 42.78575 353.1345 \nL 489.18575 353.1345 \nL 489.18575 20.4945 \nL 42.78575 20.4945 \nz\n\" style=\"fill: #ffffff\"/>\n   </g>\n   <g id=\"matplotlib.axis_1\">\n    <g id=\"xtick_1\">\n     <g id=\"line2d_1\">\n      <path d=\"M 57.019671 353.1345 \nL 57.019671 20.4945 \n\" clip-path=\"url(#p686072a7af)\" style=\"fill: none; stroke: #cccccc; stroke-width: 0.8; stroke-linecap: round\"/>\n     </g>\n     <g id=\"line2d_2\">\n      <defs>\n       <path id=\"m4f73fbf5da\" d=\"M 0 0 \nL 0 4.8 \n\" style=\"stroke: #262626\"/>\n      </defs>\n      <g>\n       <use xlink:href=\"#m4f73fbf5da\" x=\"57.019671\" y=\"353.1345\" style=\"fill: #262626; stroke: #262626\"/>\n      </g>\n     </g>\n     <g id=\"text_1\">\n      <!-- 0 -->\n      <g style=\"fill: #262626\" transform=\"translate(54.220171 368.121125) scale(0.088 -0.088)\">\n       <defs>\n        <path id=\"DejaVuSans-30\" d=\"M 2034 4250 \nQ 1547 4250 1301 3770 \nQ 1056 3291 1056 2328 \nQ 1056 1369 1301 889 \nQ 1547 409 2034 409 \nQ 2525 409 2770 889 \nQ 3016 1369 3016 2328 \nQ 3016 3291 2770 3770 \nQ 2525 4250 2034 4250 \nz\nM 2034 4750 \nQ 2819 4750 3233 4129 \nQ 3647 3509 3647 2328 \nQ 3647 1150 3233 529 \nQ 2819 -91 2034 -91 \nQ 1250 -91 836 529 \nQ 422 1150 422 2328 \nQ 422 3509 836 4129 \nQ 1250 4750 2034 4750 \nz\n\" transform=\"scale(0.015625)\"/>\n       </defs>\n       <use xlink:href=\"#DejaVuSans-30\"/>\n      </g>\n     </g>\n    </g>\n    <g id=\"xtick_2\">\n     <g id=\"line2d_3\">\n      <path d=\"M 117.589549 353.1345 \nL 117.589549 20.4945 \n\" clip-path=\"url(#p686072a7af)\" style=\"fill: none; stroke: #cccccc; stroke-width: 0.8; stroke-linecap: round\"/>\n     </g>\n     <g id=\"line2d_4\">\n      <g>\n       <use xlink:href=\"#m4f73fbf5da\" x=\"117.589549\" y=\"353.1345\" style=\"fill: #262626; stroke: #262626\"/>\n      </g>\n     </g>\n     <g id=\"text_2\">\n      <!-- 500 -->\n      <g style=\"fill: #262626\" transform=\"translate(109.191049 368.121125) scale(0.088 -0.088)\">\n       <defs>\n        <path id=\"DejaVuSans-35\" d=\"M 691 4666 \nL 3169 4666 \nL 3169 4134 \nL 1269 4134 \nL 1269 2991 \nQ 1406 3038 1543 3061 \nQ 1681 3084 1819 3084 \nQ 2600 3084 3056 2656 \nQ 3513 2228 3513 1497 \nQ 3513 744 3044 326 \nQ 2575 -91 1722 -91 \nQ 1428 -91 1123 -41 \nQ 819 9 494 109 \nL 494 744 \nQ 775 591 1075 516 \nQ 1375 441 1709 441 \nQ 2250 441 2565 725 \nQ 2881 1009 2881 1497 \nQ 2881 1984 2565 2268 \nQ 2250 2553 1709 2553 \nQ 1456 2553 1204 2497 \nQ 953 2441 691 2322 \nL 691 4666 \nz\n\" transform=\"scale(0.015625)\"/>\n       </defs>\n       <use xlink:href=\"#DejaVuSans-35\"/>\n       <use xlink:href=\"#DejaVuSans-30\" x=\"63.623047\"/>\n       <use xlink:href=\"#DejaVuSans-30\" x=\"127.246094\"/>\n      </g>\n     </g>\n    </g>\n    <g id=\"xtick_3\">\n     <g id=\"line2d_5\">\n      <path d=\"M 178.159427 353.1345 \nL 178.159427 20.4945 \n\" clip-path=\"url(#p686072a7af)\" style=\"fill: none; stroke: #cccccc; stroke-width: 0.8; stroke-linecap: round\"/>\n     </g>\n     <g id=\"line2d_6\">\n      <g>\n       <use xlink:href=\"#m4f73fbf5da\" x=\"178.159427\" y=\"353.1345\" style=\"fill: #262626; stroke: #262626\"/>\n      </g>\n     </g>\n     <g id=\"text_3\">\n      <!-- 1000 -->\n      <g style=\"fill: #262626\" transform=\"translate(166.961427 368.121125) scale(0.088 -0.088)\">\n       <defs>\n        <path id=\"DejaVuSans-31\" d=\"M 794 531 \nL 1825 531 \nL 1825 4091 \nL 703 3866 \nL 703 4441 \nL 1819 4666 \nL 2450 4666 \nL 2450 531 \nL 3481 531 \nL 3481 0 \nL 794 0 \nL 794 531 \nz\n\" transform=\"scale(0.015625)\"/>\n       </defs>\n       <use xlink:href=\"#DejaVuSans-31\"/>\n       <use xlink:href=\"#DejaVuSans-30\" x=\"63.623047\"/>\n       <use xlink:href=\"#DejaVuSans-30\" x=\"127.246094\"/>\n       <use xlink:href=\"#DejaVuSans-30\" x=\"190.869141\"/>\n      </g>\n     </g>\n    </g>\n    <g id=\"xtick_4\">\n     <g id=\"line2d_7\">\n      <path d=\"M 238.729305 353.1345 \nL 238.729305 20.4945 \n\" clip-path=\"url(#p686072a7af)\" style=\"fill: none; stroke: #cccccc; stroke-width: 0.8; stroke-linecap: round\"/>\n     </g>\n     <g id=\"line2d_8\">\n      <g>\n       <use xlink:href=\"#m4f73fbf5da\" x=\"238.729305\" y=\"353.1345\" style=\"fill: #262626; stroke: #262626\"/>\n      </g>\n     </g>\n     <g id=\"text_4\">\n      <!-- 1500 -->\n      <g style=\"fill: #262626\" transform=\"translate(227.531305 368.121125) scale(0.088 -0.088)\">\n       <use xlink:href=\"#DejaVuSans-31\"/>\n       <use xlink:href=\"#DejaVuSans-35\" x=\"63.623047\"/>\n       <use xlink:href=\"#DejaVuSans-30\" x=\"127.246094\"/>\n       <use xlink:href=\"#DejaVuSans-30\" x=\"190.869141\"/>\n      </g>\n     </g>\n    </g>\n    <g id=\"xtick_5\">\n     <g id=\"line2d_9\">\n      <path d=\"M 299.299183 353.1345 \nL 299.299183 20.4945 \n\" clip-path=\"url(#p686072a7af)\" style=\"fill: none; stroke: #cccccc; stroke-width: 0.8; stroke-linecap: round\"/>\n     </g>\n     <g id=\"line2d_10\">\n      <g>\n       <use xlink:href=\"#m4f73fbf5da\" x=\"299.299183\" y=\"353.1345\" style=\"fill: #262626; stroke: #262626\"/>\n      </g>\n     </g>\n     <g id=\"text_5\">\n      <!-- 2000 -->\n      <g style=\"fill: #262626\" transform=\"translate(288.101183 368.121125) scale(0.088 -0.088)\">\n       <defs>\n        <path id=\"DejaVuSans-32\" d=\"M 1228 531 \nL 3431 531 \nL 3431 0 \nL 469 0 \nL 469 531 \nQ 828 903 1448 1529 \nQ 2069 2156 2228 2338 \nQ 2531 2678 2651 2914 \nQ 2772 3150 2772 3378 \nQ 2772 3750 2511 3984 \nQ 2250 4219 1831 4219 \nQ 1534 4219 1204 4116 \nQ 875 4013 500 3803 \nL 500 4441 \nQ 881 4594 1212 4672 \nQ 1544 4750 1819 4750 \nQ 2544 4750 2975 4387 \nQ 3406 4025 3406 3419 \nQ 3406 3131 3298 2873 \nQ 3191 2616 2906 2266 \nQ 2828 2175 2409 1742 \nQ 1991 1309 1228 531 \nz\n\" transform=\"scale(0.015625)\"/>\n       </defs>\n       <use xlink:href=\"#DejaVuSans-32\"/>\n       <use xlink:href=\"#DejaVuSans-30\" x=\"63.623047\"/>\n       <use xlink:href=\"#DejaVuSans-30\" x=\"127.246094\"/>\n       <use xlink:href=\"#DejaVuSans-30\" x=\"190.869141\"/>\n      </g>\n     </g>\n    </g>\n    <g id=\"xtick_6\">\n     <g id=\"line2d_11\">\n      <path d=\"M 359.869061 353.1345 \nL 359.869061 20.4945 \n\" clip-path=\"url(#p686072a7af)\" style=\"fill: none; stroke: #cccccc; stroke-width: 0.8; stroke-linecap: round\"/>\n     </g>\n     <g id=\"line2d_12\">\n      <g>\n       <use xlink:href=\"#m4f73fbf5da\" x=\"359.869061\" y=\"353.1345\" style=\"fill: #262626; stroke: #262626\"/>\n      </g>\n     </g>\n     <g id=\"text_6\">\n      <!-- 2500 -->\n      <g style=\"fill: #262626\" transform=\"translate(348.671061 368.121125) scale(0.088 -0.088)\">\n       <use xlink:href=\"#DejaVuSans-32\"/>\n       <use xlink:href=\"#DejaVuSans-35\" x=\"63.623047\"/>\n       <use xlink:href=\"#DejaVuSans-30\" x=\"127.246094\"/>\n       <use xlink:href=\"#DejaVuSans-30\" x=\"190.869141\"/>\n      </g>\n     </g>\n    </g>\n    <g id=\"xtick_7\">\n     <g id=\"line2d_13\">\n      <path d=\"M 420.438939 353.1345 \nL 420.438939 20.4945 \n\" clip-path=\"url(#p686072a7af)\" style=\"fill: none; stroke: #cccccc; stroke-width: 0.8; stroke-linecap: round\"/>\n     </g>\n     <g id=\"line2d_14\">\n      <g>\n       <use xlink:href=\"#m4f73fbf5da\" x=\"420.438939\" y=\"353.1345\" style=\"fill: #262626; stroke: #262626\"/>\n      </g>\n     </g>\n     <g id=\"text_7\">\n      <!-- 3000 -->\n      <g style=\"fill: #262626\" transform=\"translate(409.240939 368.121125) scale(0.088 -0.088)\">\n       <defs>\n        <path id=\"DejaVuSans-33\" d=\"M 2597 2516 \nQ 3050 2419 3304 2112 \nQ 3559 1806 3559 1356 \nQ 3559 666 3084 287 \nQ 2609 -91 1734 -91 \nQ 1441 -91 1130 -33 \nQ 819 25 488 141 \nL 488 750 \nQ 750 597 1062 519 \nQ 1375 441 1716 441 \nQ 2309 441 2620 675 \nQ 2931 909 2931 1356 \nQ 2931 1769 2642 2001 \nQ 2353 2234 1838 2234 \nL 1294 2234 \nL 1294 2753 \nL 1863 2753 \nQ 2328 2753 2575 2939 \nQ 2822 3125 2822 3475 \nQ 2822 3834 2567 4026 \nQ 2313 4219 1838 4219 \nQ 1578 4219 1281 4162 \nQ 984 4106 628 3988 \nL 628 4550 \nQ 988 4650 1302 4700 \nQ 1616 4750 1894 4750 \nQ 2613 4750 3031 4423 \nQ 3450 4097 3450 3541 \nQ 3450 3153 3228 2886 \nQ 3006 2619 2597 2516 \nz\n\" transform=\"scale(0.015625)\"/>\n       </defs>\n       <use xlink:href=\"#DejaVuSans-33\"/>\n       <use xlink:href=\"#DejaVuSans-30\" x=\"63.623047\"/>\n       <use xlink:href=\"#DejaVuSans-30\" x=\"127.246094\"/>\n       <use xlink:href=\"#DejaVuSans-30\" x=\"190.869141\"/>\n      </g>\n     </g>\n    </g>\n    <g id=\"xtick_8\">\n     <g id=\"line2d_15\">\n      <path d=\"M 481.008816 353.1345 \nL 481.008816 20.4945 \n\" clip-path=\"url(#p686072a7af)\" style=\"fill: none; stroke: #cccccc; stroke-width: 0.8; stroke-linecap: round\"/>\n     </g>\n     <g id=\"line2d_16\">\n      <g>\n       <use xlink:href=\"#m4f73fbf5da\" x=\"481.008816\" y=\"353.1345\" style=\"fill: #262626; stroke: #262626\"/>\n      </g>\n     </g>\n     <g id=\"text_8\">\n      <!-- 3500 -->\n      <g style=\"fill: #262626\" transform=\"translate(469.810816 368.121125) scale(0.088 -0.088)\">\n       <use xlink:href=\"#DejaVuSans-33\"/>\n       <use xlink:href=\"#DejaVuSans-35\" x=\"63.623047\"/>\n       <use xlink:href=\"#DejaVuSans-30\" x=\"127.246094\"/>\n       <use xlink:href=\"#DejaVuSans-30\" x=\"190.869141\"/>\n      </g>\n     </g>\n    </g>\n    <g id=\"text_9\">\n     <!-- Training Data (1000s) -->\n     <g style=\"fill: #262626\" transform=\"translate(214.07525 381.24575) scale(0.096 -0.096)\">\n      <defs>\n       <path id=\"DejaVuSans-54\" d=\"M -19 4666 \nL 3928 4666 \nL 3928 4134 \nL 2272 4134 \nL 2272 0 \nL 1638 0 \nL 1638 4134 \nL -19 4134 \nL -19 4666 \nz\n\" transform=\"scale(0.015625)\"/>\n       <path id=\"DejaVuSans-72\" d=\"M 2631 2963 \nQ 2534 3019 2420 3045 \nQ 2306 3072 2169 3072 \nQ 1681 3072 1420 2755 \nQ 1159 2438 1159 1844 \nL 1159 0 \nL 581 0 \nL 581 3500 \nL 1159 3500 \nL 1159 2956 \nQ 1341 3275 1631 3429 \nQ 1922 3584 2338 3584 \nQ 2397 3584 2469 3576 \nQ 2541 3569 2628 3553 \nL 2631 2963 \nz\n\" transform=\"scale(0.015625)\"/>\n       <path id=\"DejaVuSans-61\" d=\"M 2194 1759 \nQ 1497 1759 1228 1600 \nQ 959 1441 959 1056 \nQ 959 750 1161 570 \nQ 1363 391 1709 391 \nQ 2188 391 2477 730 \nQ 2766 1069 2766 1631 \nL 2766 1759 \nL 2194 1759 \nz\nM 3341 1997 \nL 3341 0 \nL 2766 0 \nL 2766 531 \nQ 2569 213 2275 61 \nQ 1981 -91 1556 -91 \nQ 1019 -91 701 211 \nQ 384 513 384 1019 \nQ 384 1609 779 1909 \nQ 1175 2209 1959 2209 \nL 2766 2209 \nL 2766 2266 \nQ 2766 2663 2505 2880 \nQ 2244 3097 1772 3097 \nQ 1472 3097 1187 3025 \nQ 903 2953 641 2809 \nL 641 3341 \nQ 956 3463 1253 3523 \nQ 1550 3584 1831 3584 \nQ 2591 3584 2966 3190 \nQ 3341 2797 3341 1997 \nz\n\" transform=\"scale(0.015625)\"/>\n       <path id=\"DejaVuSans-69\" d=\"M 603 3500 \nL 1178 3500 \nL 1178 0 \nL 603 0 \nL 603 3500 \nz\nM 603 4863 \nL 1178 4863 \nL 1178 4134 \nL 603 4134 \nL 603 4863 \nz\n\" transform=\"scale(0.015625)\"/>\n       <path id=\"DejaVuSans-6e\" d=\"M 3513 2113 \nL 3513 0 \nL 2938 0 \nL 2938 2094 \nQ 2938 2591 2744 2837 \nQ 2550 3084 2163 3084 \nQ 1697 3084 1428 2787 \nQ 1159 2491 1159 1978 \nL 1159 0 \nL 581 0 \nL 581 3500 \nL 1159 3500 \nL 1159 2956 \nQ 1366 3272 1645 3428 \nQ 1925 3584 2291 3584 \nQ 2894 3584 3203 3211 \nQ 3513 2838 3513 2113 \nz\n\" transform=\"scale(0.015625)\"/>\n       <path id=\"DejaVuSans-67\" d=\"M 2906 1791 \nQ 2906 2416 2648 2759 \nQ 2391 3103 1925 3103 \nQ 1463 3103 1205 2759 \nQ 947 2416 947 1791 \nQ 947 1169 1205 825 \nQ 1463 481 1925 481 \nQ 2391 481 2648 825 \nQ 2906 1169 2906 1791 \nz\nM 3481 434 \nQ 3481 -459 3084 -895 \nQ 2688 -1331 1869 -1331 \nQ 1566 -1331 1297 -1286 \nQ 1028 -1241 775 -1147 \nL 775 -588 \nQ 1028 -725 1275 -790 \nQ 1522 -856 1778 -856 \nQ 2344 -856 2625 -561 \nQ 2906 -266 2906 331 \nL 2906 616 \nQ 2728 306 2450 153 \nQ 2172 0 1784 0 \nQ 1141 0 747 490 \nQ 353 981 353 1791 \nQ 353 2603 747 3093 \nQ 1141 3584 1784 3584 \nQ 2172 3584 2450 3431 \nQ 2728 3278 2906 2969 \nL 2906 3500 \nL 3481 3500 \nL 3481 434 \nz\n\" transform=\"scale(0.015625)\"/>\n       <path id=\"DejaVuSans-20\" transform=\"scale(0.015625)\"/>\n       <path id=\"DejaVuSans-44\" d=\"M 1259 4147 \nL 1259 519 \nL 2022 519 \nQ 2988 519 3436 956 \nQ 3884 1394 3884 2338 \nQ 3884 3275 3436 3711 \nQ 2988 4147 2022 4147 \nL 1259 4147 \nz\nM 628 4666 \nL 1925 4666 \nQ 3281 4666 3915 4102 \nQ 4550 3538 4550 2338 \nQ 4550 1131 3912 565 \nQ 3275 0 1925 0 \nL 628 0 \nL 628 4666 \nz\n\" transform=\"scale(0.015625)\"/>\n       <path id=\"DejaVuSans-74\" d=\"M 1172 4494 \nL 1172 3500 \nL 2356 3500 \nL 2356 3053 \nL 1172 3053 \nL 1172 1153 \nQ 1172 725 1289 603 \nQ 1406 481 1766 481 \nL 2356 481 \nL 2356 0 \nL 1766 0 \nQ 1100 0 847 248 \nQ 594 497 594 1153 \nL 594 3053 \nL 172 3053 \nL 172 3500 \nL 594 3500 \nL 594 4494 \nL 1172 4494 \nz\n\" transform=\"scale(0.015625)\"/>\n       <path id=\"DejaVuSans-28\" d=\"M 1984 4856 \nQ 1566 4138 1362 3434 \nQ 1159 2731 1159 2009 \nQ 1159 1288 1364 580 \nQ 1569 -128 1984 -844 \nL 1484 -844 \nQ 1016 -109 783 600 \nQ 550 1309 550 2009 \nQ 550 2706 781 3412 \nQ 1013 4119 1484 4856 \nL 1984 4856 \nz\n\" transform=\"scale(0.015625)\"/>\n       <path id=\"DejaVuSans-73\" d=\"M 2834 3397 \nL 2834 2853 \nQ 2591 2978 2328 3040 \nQ 2066 3103 1784 3103 \nQ 1356 3103 1142 2972 \nQ 928 2841 928 2578 \nQ 928 2378 1081 2264 \nQ 1234 2150 1697 2047 \nL 1894 2003 \nQ 2506 1872 2764 1633 \nQ 3022 1394 3022 966 \nQ 3022 478 2636 193 \nQ 2250 -91 1575 -91 \nQ 1294 -91 989 -36 \nQ 684 19 347 128 \nL 347 722 \nQ 666 556 975 473 \nQ 1284 391 1588 391 \nQ 1994 391 2212 530 \nQ 2431 669 2431 922 \nQ 2431 1156 2273 1281 \nQ 2116 1406 1581 1522 \nL 1381 1569 \nQ 847 1681 609 1914 \nQ 372 2147 372 2553 \nQ 372 3047 722 3315 \nQ 1072 3584 1716 3584 \nQ 2034 3584 2315 3537 \nQ 2597 3491 2834 3397 \nz\n\" transform=\"scale(0.015625)\"/>\n       <path id=\"DejaVuSans-29\" d=\"M 513 4856 \nL 1013 4856 \nQ 1481 4119 1714 3412 \nQ 1947 2706 1947 2009 \nQ 1947 1309 1714 600 \nQ 1481 -109 1013 -844 \nL 513 -844 \nQ 928 -128 1133 580 \nQ 1338 1288 1338 2009 \nQ 1338 2731 1133 3434 \nQ 928 4138 513 4856 \nz\n\" transform=\"scale(0.015625)\"/>\n      </defs>\n      <use xlink:href=\"#DejaVuSans-54\"/>\n      <use xlink:href=\"#DejaVuSans-72\" x=\"46.333984\"/>\n      <use xlink:href=\"#DejaVuSans-61\" x=\"87.447266\"/>\n      <use xlink:href=\"#DejaVuSans-69\" x=\"148.726562\"/>\n      <use xlink:href=\"#DejaVuSans-6e\" x=\"176.509766\"/>\n      <use xlink:href=\"#DejaVuSans-69\" x=\"239.888672\"/>\n      <use xlink:href=\"#DejaVuSans-6e\" x=\"267.671875\"/>\n      <use xlink:href=\"#DejaVuSans-67\" x=\"331.050781\"/>\n      <use xlink:href=\"#DejaVuSans-20\" x=\"394.527344\"/>\n      <use xlink:href=\"#DejaVuSans-44\" x=\"426.314453\"/>\n      <use xlink:href=\"#DejaVuSans-61\" x=\"503.316406\"/>\n      <use xlink:href=\"#DejaVuSans-74\" x=\"564.595703\"/>\n      <use xlink:href=\"#DejaVuSans-61\" x=\"603.804688\"/>\n      <use xlink:href=\"#DejaVuSans-20\" x=\"665.083984\"/>\n      <use xlink:href=\"#DejaVuSans-28\" x=\"696.871094\"/>\n      <use xlink:href=\"#DejaVuSans-31\" x=\"735.884766\"/>\n      <use xlink:href=\"#DejaVuSans-30\" x=\"799.507812\"/>\n      <use xlink:href=\"#DejaVuSans-30\" x=\"863.130859\"/>\n      <use xlink:href=\"#DejaVuSans-30\" x=\"926.753906\"/>\n      <use xlink:href=\"#DejaVuSans-73\" x=\"990.376953\"/>\n      <use xlink:href=\"#DejaVuSans-29\" x=\"1042.476562\"/>\n     </g>\n    </g>\n   </g>\n   <g id=\"matplotlib.axis_2\">\n    <g id=\"ytick_1\">\n     <g id=\"line2d_17\">\n      <path d=\"M 42.78575 307.316637 \nL 489.18575 307.316637 \n\" clip-path=\"url(#p686072a7af)\" style=\"fill: none; stroke: #cccccc; stroke-width: 0.8; stroke-linecap: round\"/>\n     </g>\n     <g id=\"line2d_18\">\n      <defs>\n       <path id=\"m11ce1b2e8b\" d=\"M 0 0 \nL -4.8 0 \n\" style=\"stroke: #262626\"/>\n      </defs>\n      <g>\n       <use xlink:href=\"#m11ce1b2e8b\" x=\"42.78575\" y=\"307.316637\" style=\"fill: #262626; stroke: #262626\"/>\n      </g>\n     </g>\n     <g id=\"text_10\">\n      <!-- 0.1 -->\n      <g style=\"fill: #262626\" transform=\"translate(20.491 310.65995) scale(0.088 -0.088)\">\n       <defs>\n        <path id=\"DejaVuSans-2e\" d=\"M 684 794 \nL 1344 794 \nL 1344 0 \nL 684 0 \nL 684 794 \nz\n\" transform=\"scale(0.015625)\"/>\n       </defs>\n       <use xlink:href=\"#DejaVuSans-30\"/>\n       <use xlink:href=\"#DejaVuSans-2e\" x=\"63.623047\"/>\n       <use xlink:href=\"#DejaVuSans-31\" x=\"95.410156\"/>\n      </g>\n     </g>\n    </g>\n    <g id=\"ytick_2\">\n     <g id=\"line2d_19\">\n      <path d=\"M 42.78575 244.254066 \nL 489.18575 244.254066 \n\" clip-path=\"url(#p686072a7af)\" style=\"fill: none; stroke: #cccccc; stroke-width: 0.8; stroke-linecap: round\"/>\n     </g>\n     <g id=\"line2d_20\">\n      <g>\n       <use xlink:href=\"#m11ce1b2e8b\" x=\"42.78575\" y=\"244.254066\" style=\"fill: #262626; stroke: #262626\"/>\n      </g>\n     </g>\n     <g id=\"text_11\">\n      <!-- 0.2 -->\n      <g style=\"fill: #262626\" transform=\"translate(20.491 247.597379) scale(0.088 -0.088)\">\n       <use xlink:href=\"#DejaVuSans-30\"/>\n       <use xlink:href=\"#DejaVuSans-2e\" x=\"63.623047\"/>\n       <use xlink:href=\"#DejaVuSans-32\" x=\"95.410156\"/>\n      </g>\n     </g>\n    </g>\n    <g id=\"ytick_3\">\n     <g id=\"line2d_21\">\n      <path d=\"M 42.78575 181.191495 \nL 489.18575 181.191495 \n\" clip-path=\"url(#p686072a7af)\" style=\"fill: none; stroke: #cccccc; stroke-width: 0.8; stroke-linecap: round\"/>\n     </g>\n     <g id=\"line2d_22\">\n      <g>\n       <use xlink:href=\"#m11ce1b2e8b\" x=\"42.78575\" y=\"181.191495\" style=\"fill: #262626; stroke: #262626\"/>\n      </g>\n     </g>\n     <g id=\"text_12\">\n      <!-- 0.3 -->\n      <g style=\"fill: #262626\" transform=\"translate(20.491 184.534808) scale(0.088 -0.088)\">\n       <use xlink:href=\"#DejaVuSans-30\"/>\n       <use xlink:href=\"#DejaVuSans-2e\" x=\"63.623047\"/>\n       <use xlink:href=\"#DejaVuSans-33\" x=\"95.410156\"/>\n      </g>\n     </g>\n    </g>\n    <g id=\"ytick_4\">\n     <g id=\"line2d_23\">\n      <path d=\"M 42.78575 118.128925 \nL 489.18575 118.128925 \n\" clip-path=\"url(#p686072a7af)\" style=\"fill: none; stroke: #cccccc; stroke-width: 0.8; stroke-linecap: round\"/>\n     </g>\n     <g id=\"line2d_24\">\n      <g>\n       <use xlink:href=\"#m11ce1b2e8b\" x=\"42.78575\" y=\"118.128925\" style=\"fill: #262626; stroke: #262626\"/>\n      </g>\n     </g>\n     <g id=\"text_13\">\n      <!-- 0.4 -->\n      <g style=\"fill: #262626\" transform=\"translate(20.491 121.472237) scale(0.088 -0.088)\">\n       <defs>\n        <path id=\"DejaVuSans-34\" d=\"M 2419 4116 \nL 825 1625 \nL 2419 1625 \nL 2419 4116 \nz\nM 2253 4666 \nL 3047 4666 \nL 3047 1625 \nL 3713 1625 \nL 3713 1100 \nL 3047 1100 \nL 3047 0 \nL 2419 0 \nL 2419 1100 \nL 313 1100 \nL 313 1709 \nL 2253 4666 \nz\n\" transform=\"scale(0.015625)\"/>\n       </defs>\n       <use xlink:href=\"#DejaVuSans-30\"/>\n       <use xlink:href=\"#DejaVuSans-2e\" x=\"63.623047\"/>\n       <use xlink:href=\"#DejaVuSans-34\" x=\"95.410156\"/>\n      </g>\n     </g>\n    </g>\n    <g id=\"ytick_5\">\n     <g id=\"line2d_25\">\n      <path d=\"M 42.78575 55.066354 \nL 489.18575 55.066354 \n\" clip-path=\"url(#p686072a7af)\" style=\"fill: none; stroke: #cccccc; stroke-width: 0.8; stroke-linecap: round\"/>\n     </g>\n     <g id=\"line2d_26\">\n      <g>\n       <use xlink:href=\"#m11ce1b2e8b\" x=\"42.78575\" y=\"55.066354\" style=\"fill: #262626; stroke: #262626\"/>\n      </g>\n     </g>\n     <g id=\"text_14\">\n      <!-- 0.5 -->\n      <g style=\"fill: #262626\" transform=\"translate(20.491 58.409666) scale(0.088 -0.088)\">\n       <use xlink:href=\"#DejaVuSans-30\"/>\n       <use xlink:href=\"#DejaVuSans-2e\" x=\"63.623047\"/>\n       <use xlink:href=\"#DejaVuSans-35\" x=\"95.410156\"/>\n      </g>\n     </g>\n    </g>\n    <g id=\"text_15\">\n     <!-- Score -->\n     <g style=\"fill: #262626\" transform=\"translate(14.4945 200.25675) rotate(-90) scale(0.096 -0.096)\">\n      <defs>\n       <path id=\"DejaVuSans-53\" d=\"M 3425 4513 \nL 3425 3897 \nQ 3066 4069 2747 4153 \nQ 2428 4238 2131 4238 \nQ 1616 4238 1336 4038 \nQ 1056 3838 1056 3469 \nQ 1056 3159 1242 3001 \nQ 1428 2844 1947 2747 \nL 2328 2669 \nQ 3034 2534 3370 2195 \nQ 3706 1856 3706 1288 \nQ 3706 609 3251 259 \nQ 2797 -91 1919 -91 \nQ 1588 -91 1214 -16 \nQ 841 59 441 206 \nL 441 856 \nQ 825 641 1194 531 \nQ 1563 422 1919 422 \nQ 2459 422 2753 634 \nQ 3047 847 3047 1241 \nQ 3047 1584 2836 1778 \nQ 2625 1972 2144 2069 \nL 1759 2144 \nQ 1053 2284 737 2584 \nQ 422 2884 422 3419 \nQ 422 4038 858 4394 \nQ 1294 4750 2059 4750 \nQ 2388 4750 2728 4690 \nQ 3069 4631 3425 4513 \nz\n\" transform=\"scale(0.015625)\"/>\n       <path id=\"DejaVuSans-63\" d=\"M 3122 3366 \nL 3122 2828 \nQ 2878 2963 2633 3030 \nQ 2388 3097 2138 3097 \nQ 1578 3097 1268 2742 \nQ 959 2388 959 1747 \nQ 959 1106 1268 751 \nQ 1578 397 2138 397 \nQ 2388 397 2633 464 \nQ 2878 531 3122 666 \nL 3122 134 \nQ 2881 22 2623 -34 \nQ 2366 -91 2075 -91 \nQ 1284 -91 818 406 \nQ 353 903 353 1747 \nQ 353 2603 823 3093 \nQ 1294 3584 2113 3584 \nQ 2378 3584 2631 3529 \nQ 2884 3475 3122 3366 \nz\n\" transform=\"scale(0.015625)\"/>\n       <path id=\"DejaVuSans-6f\" d=\"M 1959 3097 \nQ 1497 3097 1228 2736 \nQ 959 2375 959 1747 \nQ 959 1119 1226 758 \nQ 1494 397 1959 397 \nQ 2419 397 2687 759 \nQ 2956 1122 2956 1747 \nQ 2956 2369 2687 2733 \nQ 2419 3097 1959 3097 \nz\nM 1959 3584 \nQ 2709 3584 3137 3096 \nQ 3566 2609 3566 1747 \nQ 3566 888 3137 398 \nQ 2709 -91 1959 -91 \nQ 1206 -91 779 398 \nQ 353 888 353 1747 \nQ 353 2609 779 3096 \nQ 1206 3584 1959 3584 \nz\n\" transform=\"scale(0.015625)\"/>\n       <path id=\"DejaVuSans-65\" d=\"M 3597 1894 \nL 3597 1613 \nL 953 1613 \nQ 991 1019 1311 708 \nQ 1631 397 2203 397 \nQ 2534 397 2845 478 \nQ 3156 559 3463 722 \nL 3463 178 \nQ 3153 47 2828 -22 \nQ 2503 -91 2169 -91 \nQ 1331 -91 842 396 \nQ 353 884 353 1716 \nQ 353 2575 817 3079 \nQ 1281 3584 2069 3584 \nQ 2775 3584 3186 3129 \nQ 3597 2675 3597 1894 \nz\nM 3022 2063 \nQ 3016 2534 2758 2815 \nQ 2500 3097 2075 3097 \nQ 1594 3097 1305 2825 \nQ 1016 2553 972 2059 \nL 3022 2063 \nz\n\" transform=\"scale(0.015625)\"/>\n      </defs>\n      <use xlink:href=\"#DejaVuSans-53\"/>\n      <use xlink:href=\"#DejaVuSans-63\" x=\"63.476562\"/>\n      <use xlink:href=\"#DejaVuSans-6f\" x=\"118.457031\"/>\n      <use xlink:href=\"#DejaVuSans-72\" x=\"179.638672\"/>\n      <use xlink:href=\"#DejaVuSans-65\" x=\"218.501953\"/>\n     </g>\n    </g>\n   </g>\n   <g id=\"PolyCollection_1\"/>\n   <g id=\"PolyCollection_2\"/>\n   <g id=\"PolyCollection_3\"/>\n   <g id=\"line2d_27\">\n    <path d=\"M 63.076659 338.0145 \nL 81.247622 281.428643 \nL 117.589549 288.865728 \nL 178.159427 280.486738 \nL 299.299183 167.061013 \nL 420.438939 51.538813 \nL 468.894841 36.722184 \n\" clip-path=\"url(#p686072a7af)\" style=\"fill: none; stroke: #4c72b0; stroke-width: 1.2; stroke-linecap: round\"/>\n    <defs>\n     <path id=\"m5325463c01\" d=\"M 0 2.4 \nC 0.636487 2.4 1.246992 2.147121 1.697056 1.697056 \nC 2.147121 1.246992 2.4 0.636487 2.4 0 \nC 2.4 -0.636487 2.147121 -1.246992 1.697056 -1.697056 \nC 1.246992 -2.147121 0.636487 -2.4 0 -2.4 \nC -0.636487 -2.4 -1.246992 -2.147121 -1.697056 -1.697056 \nC -2.147121 -1.246992 -2.4 -0.636487 -2.4 0 \nC -2.4 0.636487 -2.147121 1.246992 -1.697056 1.697056 \nC -1.246992 2.147121 -0.636487 2.4 0 2.4 \nz\n\" style=\"stroke: #ffffff; stroke-width: 0.75\"/>\n    </defs>\n    <g clip-path=\"url(#p686072a7af)\">\n     <use xlink:href=\"#m5325463c01\" x=\"63.076659\" y=\"338.0145\" style=\"fill: #4c72b0; stroke: #ffffff; stroke-width: 0.75\"/>\n     <use xlink:href=\"#m5325463c01\" x=\"81.247622\" y=\"281.428643\" style=\"fill: #4c72b0; stroke: #ffffff; stroke-width: 0.75\"/>\n     <use xlink:href=\"#m5325463c01\" x=\"117.589549\" y=\"288.865728\" style=\"fill: #4c72b0; stroke: #ffffff; stroke-width: 0.75\"/>\n     <use xlink:href=\"#m5325463c01\" x=\"178.159427\" y=\"280.486738\" style=\"fill: #4c72b0; stroke: #ffffff; stroke-width: 0.75\"/>\n     <use xlink:href=\"#m5325463c01\" x=\"299.299183\" y=\"167.061013\" style=\"fill: #4c72b0; stroke: #ffffff; stroke-width: 0.75\"/>\n     <use xlink:href=\"#m5325463c01\" x=\"420.438939\" y=\"51.538813\" style=\"fill: #4c72b0; stroke: #ffffff; stroke-width: 0.75\"/>\n     <use xlink:href=\"#m5325463c01\" x=\"468.894841\" y=\"36.722184\" style=\"fill: #4c72b0; stroke: #ffffff; stroke-width: 0.75\"/>\n    </g>\n   </g>\n   <g id=\"line2d_28\">\n    <path d=\"M 63.076659 264.788257 \nL 81.247622 226.037321 \nL 117.589549 235.042724 \nL 178.159427 226.216414 \nL 299.299183 150.564431 \nL 420.438939 82.083658 \nL 468.894841 35.6145 \n\" clip-path=\"url(#p686072a7af)\" style=\"fill: none; stroke: #dd8452; stroke-width: 1.2; stroke-linecap: round\"/>\n    <defs>\n     <path id=\"mabf71124da\" d=\"M 0 2.4 \nC 0.636487 2.4 1.246992 2.147121 1.697056 1.697056 \nC 2.147121 1.246992 2.4 0.636487 2.4 0 \nC 2.4 -0.636487 2.147121 -1.246992 1.697056 -1.697056 \nC 1.246992 -2.147121 0.636487 -2.4 0 -2.4 \nC -0.636487 -2.4 -1.246992 -2.147121 -1.697056 -1.697056 \nC -2.147121 -1.246992 -2.4 -0.636487 -2.4 0 \nC -2.4 0.636487 -2.147121 1.246992 -1.697056 1.697056 \nC -1.246992 2.147121 -0.636487 2.4 0 2.4 \nz\n\" style=\"stroke: #ffffff; stroke-width: 0.75\"/>\n    </defs>\n    <g clip-path=\"url(#p686072a7af)\">\n     <use xlink:href=\"#mabf71124da\" x=\"63.076659\" y=\"264.788257\" style=\"fill: #dd8452; stroke: #ffffff; stroke-width: 0.75\"/>\n     <use xlink:href=\"#mabf71124da\" x=\"81.247622\" y=\"226.037321\" style=\"fill: #dd8452; stroke: #ffffff; stroke-width: 0.75\"/>\n     <use xlink:href=\"#mabf71124da\" x=\"117.589549\" y=\"235.042724\" style=\"fill: #dd8452; stroke: #ffffff; stroke-width: 0.75\"/>\n     <use xlink:href=\"#mabf71124da\" x=\"178.159427\" y=\"226.216414\" style=\"fill: #dd8452; stroke: #ffffff; stroke-width: 0.75\"/>\n     <use xlink:href=\"#mabf71124da\" x=\"299.299183\" y=\"150.564431\" style=\"fill: #dd8452; stroke: #ffffff; stroke-width: 0.75\"/>\n     <use xlink:href=\"#mabf71124da\" x=\"420.438939\" y=\"82.083658\" style=\"fill: #dd8452; stroke: #ffffff; stroke-width: 0.75\"/>\n     <use xlink:href=\"#mabf71124da\" x=\"468.894841\" y=\"35.6145\" style=\"fill: #dd8452; stroke: #ffffff; stroke-width: 0.75\"/>\n    </g>\n   </g>\n   <g id=\"line2d_29\">\n    <path d=\"M 63.076659 321.469304 \nL 81.247622 278.435985 \nL 117.589549 280.581818 \nL 178.159427 270.303647 \nL 299.299183 167.957839 \nL 420.438939 83.522743 \nL 468.894841 41.391648 \n\" clip-path=\"url(#p686072a7af)\" style=\"fill: none; stroke: #55a868; stroke-width: 1.2; stroke-linecap: round\"/>\n    <defs>\n     <path id=\"m48a5939786\" d=\"M 0 2.4 \nC 0.636487 2.4 1.246992 2.147121 1.697056 1.697056 \nC 2.147121 1.246992 2.4 0.636487 2.4 0 \nC 2.4 -0.636487 2.147121 -1.246992 1.697056 -1.697056 \nC 1.246992 -2.147121 0.636487 -2.4 0 -2.4 \nC -0.636487 -2.4 -1.246992 -2.147121 -1.697056 -1.697056 \nC -2.147121 -1.246992 -2.4 -0.636487 -2.4 0 \nC -2.4 0.636487 -2.147121 1.246992 -1.697056 1.697056 \nC -1.246992 2.147121 -0.636487 2.4 0 2.4 \nz\n\" style=\"stroke: #ffffff; stroke-width: 0.75\"/>\n    </defs>\n    <g clip-path=\"url(#p686072a7af)\">\n     <use xlink:href=\"#m48a5939786\" x=\"63.076659\" y=\"321.469304\" style=\"fill: #55a868; stroke: #ffffff; stroke-width: 0.75\"/>\n     <use xlink:href=\"#m48a5939786\" x=\"81.247622\" y=\"278.435985\" style=\"fill: #55a868; stroke: #ffffff; stroke-width: 0.75\"/>\n     <use xlink:href=\"#m48a5939786\" x=\"117.589549\" y=\"280.581818\" style=\"fill: #55a868; stroke: #ffffff; stroke-width: 0.75\"/>\n     <use xlink:href=\"#m48a5939786\" x=\"178.159427\" y=\"270.303647\" style=\"fill: #55a868; stroke: #ffffff; stroke-width: 0.75\"/>\n     <use xlink:href=\"#m48a5939786\" x=\"299.299183\" y=\"167.957839\" style=\"fill: #55a868; stroke: #ffffff; stroke-width: 0.75\"/>\n     <use xlink:href=\"#m48a5939786\" x=\"420.438939\" y=\"83.522743\" style=\"fill: #55a868; stroke: #ffffff; stroke-width: 0.75\"/>\n     <use xlink:href=\"#m48a5939786\" x=\"468.894841\" y=\"41.391648\" style=\"fill: #55a868; stroke: #ffffff; stroke-width: 0.75\"/>\n    </g>\n   </g>\n   <g id=\"line2d_30\"/>\n   <g id=\"line2d_31\"/>\n   <g id=\"line2d_32\"/>\n   <g id=\"patch_3\">\n    <path d=\"M 42.78575 353.1345 \nL 42.78575 20.4945 \n\" style=\"fill: none; stroke: #262626; stroke-linejoin: miter; stroke-linecap: square\"/>\n   </g>\n   <g id=\"patch_4\">\n    <path d=\"M 42.78575 353.1345 \nL 489.18575 353.1345 \n\" style=\"fill: none; stroke: #262626; stroke-linejoin: miter; stroke-linecap: square\"/>\n   </g>\n   <g id=\"text_16\">\n    <!-- XLM-R -->\n    <g style=\"fill: #262626\" transform=\"translate(250.81475 14.4945) scale(0.096 -0.096)\">\n     <defs>\n      <path id=\"DejaVuSans-58\" d=\"M 403 4666 \nL 1081 4666 \nL 2241 2931 \nL 3406 4666 \nL 4084 4666 \nL 2584 2425 \nL 4184 0 \nL 3506 0 \nL 2194 1984 \nL 872 0 \nL 191 0 \nL 1856 2491 \nL 403 4666 \nz\n\" transform=\"scale(0.015625)\"/>\n      <path id=\"DejaVuSans-4c\" d=\"M 628 4666 \nL 1259 4666 \nL 1259 531 \nL 3531 531 \nL 3531 0 \nL 628 0 \nL 628 4666 \nz\n\" transform=\"scale(0.015625)\"/>\n      <path id=\"DejaVuSans-4d\" d=\"M 628 4666 \nL 1569 4666 \nL 2759 1491 \nL 3956 4666 \nL 4897 4666 \nL 4897 0 \nL 4281 0 \nL 4281 4097 \nL 3078 897 \nL 2444 897 \nL 1241 4097 \nL 1241 0 \nL 628 0 \nL 628 4666 \nz\n\" transform=\"scale(0.015625)\"/>\n      <path id=\"DejaVuSans-2d\" d=\"M 313 2009 \nL 1997 2009 \nL 1997 1497 \nL 313 1497 \nL 313 2009 \nz\n\" transform=\"scale(0.015625)\"/>\n      <path id=\"DejaVuSans-52\" d=\"M 2841 2188 \nQ 3044 2119 3236 1894 \nQ 3428 1669 3622 1275 \nL 4263 0 \nL 3584 0 \nL 2988 1197 \nQ 2756 1666 2539 1819 \nQ 2322 1972 1947 1972 \nL 1259 1972 \nL 1259 0 \nL 628 0 \nL 628 4666 \nL 2053 4666 \nQ 2853 4666 3247 4331 \nQ 3641 3997 3641 3322 \nQ 3641 2881 3436 2590 \nQ 3231 2300 2841 2188 \nz\nM 1259 4147 \nL 1259 2491 \nL 2053 2491 \nQ 2509 2491 2742 2702 \nQ 2975 2913 2975 3322 \nQ 2975 3731 2742 3939 \nQ 2509 4147 2053 4147 \nL 1259 4147 \nz\n\" transform=\"scale(0.015625)\"/>\n     </defs>\n     <use xlink:href=\"#DejaVuSans-58\"/>\n     <use xlink:href=\"#DejaVuSans-4c\" x=\"68.505859\"/>\n     <use xlink:href=\"#DejaVuSans-4d\" x=\"124.21875\"/>\n     <use xlink:href=\"#DejaVuSans-2d\" x=\"210.498047\"/>\n     <use xlink:href=\"#DejaVuSans-52\" x=\"246.582031\"/>\n    </g>\n   </g>\n   <g id=\"legend_1\">\n    <g id=\"patch_5\">\n     <path d=\"M 48.94575 79.97575 \nL 116.366125 79.97575 \nQ 118.126125 79.97575 118.126125 78.21575 \nL 118.126125 26.6545 \nQ 118.126125 24.8945 116.366125 24.8945 \nL 48.94575 24.8945 \nQ 47.18575 24.8945 47.18575 26.6545 \nL 47.18575 78.21575 \nQ 47.18575 79.97575 48.94575 79.97575 \nz\n\" style=\"fill: #ffffff; opacity: 0.8; stroke: #cccccc; stroke-width: 0.8; stroke-linejoin: miter\"/>\n    </g>\n    <g id=\"text_17\">\n     <!-- Metric -->\n     <g style=\"fill: #262626\" transform=\"translate(67.733188 35.709) scale(0.096 -0.096)\">\n      <use xlink:href=\"#DejaVuSans-4d\"/>\n      <use xlink:href=\"#DejaVuSans-65\" x=\"86.279297\"/>\n      <use xlink:href=\"#DejaVuSans-74\" x=\"147.802734\"/>\n      <use xlink:href=\"#DejaVuSans-72\" x=\"187.011719\"/>\n      <use xlink:href=\"#DejaVuSans-69\" x=\"228.125\"/>\n      <use xlink:href=\"#DejaVuSans-63\" x=\"255.908203\"/>\n     </g>\n    </g>\n    <g id=\"line2d_33\">\n     <path d=\"M 50.70575 45.712125 \nL 59.50575 45.712125 \nL 68.30575 45.712125 \n\" style=\"fill: none; stroke: #4c72b0; stroke-width: 1.2; stroke-linecap: round\"/>\n    </g>\n    <g id=\"text_18\">\n     <!-- Precision -->\n     <g style=\"fill: #262626\" transform=\"translate(75.34575 48.792125) scale(0.088 -0.088)\">\n      <defs>\n       <path id=\"DejaVuSans-50\" d=\"M 1259 4147 \nL 1259 2394 \nL 2053 2394 \nQ 2494 2394 2734 2622 \nQ 2975 2850 2975 3272 \nQ 2975 3691 2734 3919 \nQ 2494 4147 2053 4147 \nL 1259 4147 \nz\nM 628 4666 \nL 2053 4666 \nQ 2838 4666 3239 4311 \nQ 3641 3956 3641 3272 \nQ 3641 2581 3239 2228 \nQ 2838 1875 2053 1875 \nL 1259 1875 \nL 1259 0 \nL 628 0 \nL 628 4666 \nz\n\" transform=\"scale(0.015625)\"/>\n      </defs>\n      <use xlink:href=\"#DejaVuSans-50\"/>\n      <use xlink:href=\"#DejaVuSans-72\" x=\"58.552734\"/>\n      <use xlink:href=\"#DejaVuSans-65\" x=\"97.416016\"/>\n      <use xlink:href=\"#DejaVuSans-63\" x=\"158.939453\"/>\n      <use xlink:href=\"#DejaVuSans-69\" x=\"213.919922\"/>\n      <use xlink:href=\"#DejaVuSans-73\" x=\"241.703125\"/>\n      <use xlink:href=\"#DejaVuSans-69\" x=\"293.802734\"/>\n      <use xlink:href=\"#DejaVuSans-6f\" x=\"321.585938\"/>\n      <use xlink:href=\"#DejaVuSans-6e\" x=\"382.767578\"/>\n     </g>\n    </g>\n    <g id=\"line2d_34\">\n     <path d=\"M 50.70575 58.628875 \nL 59.50575 58.628875 \nL 68.30575 58.628875 \n\" style=\"fill: none; stroke: #dd8452; stroke-width: 1.2; stroke-linecap: round\"/>\n    </g>\n    <g id=\"text_19\">\n     <!-- Recall -->\n     <g style=\"fill: #262626\" transform=\"translate(75.34575 61.708875) scale(0.088 -0.088)\">\n      <defs>\n       <path id=\"DejaVuSans-6c\" d=\"M 603 4863 \nL 1178 4863 \nL 1178 0 \nL 603 0 \nL 603 4863 \nz\n\" transform=\"scale(0.015625)\"/>\n      </defs>\n      <use xlink:href=\"#DejaVuSans-52\"/>\n      <use xlink:href=\"#DejaVuSans-65\" x=\"64.982422\"/>\n      <use xlink:href=\"#DejaVuSans-63\" x=\"126.505859\"/>\n      <use xlink:href=\"#DejaVuSans-61\" x=\"181.486328\"/>\n      <use xlink:href=\"#DejaVuSans-6c\" x=\"242.765625\"/>\n      <use xlink:href=\"#DejaVuSans-6c\" x=\"270.548828\"/>\n     </g>\n    </g>\n    <g id=\"line2d_35\">\n     <path d=\"M 50.70575 71.545625 \nL 59.50575 71.545625 \nL 68.30575 71.545625 \n\" style=\"fill: none; stroke: #55a868; stroke-width: 1.2; stroke-linecap: round\"/>\n    </g>\n    <g id=\"text_20\">\n     <!-- F1-Score -->\n     <g style=\"fill: #262626\" transform=\"translate(75.34575 74.625625) scale(0.088 -0.088)\">\n      <defs>\n       <path id=\"DejaVuSans-46\" d=\"M 628 4666 \nL 3309 4666 \nL 3309 4134 \nL 1259 4134 \nL 1259 2759 \nL 3109 2759 \nL 3109 2228 \nL 1259 2228 \nL 1259 0 \nL 628 0 \nL 628 4666 \nz\n\" transform=\"scale(0.015625)\"/>\n      </defs>\n      <use xlink:href=\"#DejaVuSans-46\"/>\n      <use xlink:href=\"#DejaVuSans-31\" x=\"57.519531\"/>\n      <use xlink:href=\"#DejaVuSans-2d\" x=\"121.142578\"/>\n      <use xlink:href=\"#DejaVuSans-53\" x=\"157.226562\"/>\n      <use xlink:href=\"#DejaVuSans-63\" x=\"220.703125\"/>\n      <use xlink:href=\"#DejaVuSans-6f\" x=\"275.683594\"/>\n      <use xlink:href=\"#DejaVuSans-72\" x=\"336.865234\"/>\n      <use xlink:href=\"#DejaVuSans-65\" x=\"375.728516\"/>\n     </g>\n    </g>\n   </g>\n  </g>\n </g>\n <defs>\n  <clipPath id=\"p686072a7af\">\n   <rect x=\"42.78575\" y=\"20.4945\" width=\"446.4\" height=\"332.64\"/>\n  </clipPath>\n </defs>\n</svg>\n"
          },
          "metadata": {}
        }
      ]
    },
    {
      "cell_type": "code",
      "source": [
        "melted_df.to_csv('bert_iterations.csv')"
      ],
      "metadata": {
        "id": "SNw5MO9Pfs2k"
      },
      "execution_count": null,
      "outputs": []
    },
    {
      "cell_type": "code",
      "execution_count": null,
      "metadata": {
        "colab": {
          "base_uri": "https://localhost:8080/"
        },
        "id": "KzBf6qI9OU_a",
        "outputId": "e9babd21-ef71-4227-c677-15a2817aa470"
      },
      "outputs": [
        {
          "output_type": "stream",
          "name": "stdout",
          "text": [
            "Currently running split 1\n",
            "Train set size: 3901\n",
            "Test set size: 976\n"
          ]
        },
        {
          "output_type": "stream",
          "name": "stderr",
          "text": [
            "Truncation was not explicitly activated but `max_length` is provided a specific value, please use `truncation=True` to explicitly truncate examples to max length. Defaulting to 'longest_first' truncation strategy. If you encode pairs of sequences (GLUE-style) with the tokenizer you can select this strategy more precisely by providing a specific strategy to `truncation`.\n",
            "/usr/local/lib/python3.10/dist-packages/transformers/tokenization_utils_base.py:2393: FutureWarning: The `pad_to_max_length` argument is deprecated and will be removed in a future version, use `padding=True` or `padding='longest'` to pad to the longest sequence in the batch, or use `padding='max_length'` to pad to a max length. In this case, you can give a specific length with `max_length` (e.g. `max_length=45`) or leave max_length to None to pad to the maximal input size of the model (e.g. 512 for Bert).\n",
            "  warnings.warn(\n",
            "Some weights of XLMRobertaForSequenceClassification were not initialized from the model checkpoint at xlm-roberta-base and are newly initialized: ['classifier.dense.weight', 'classifier.out_proj.bias', 'classifier.out_proj.weight', 'classifier.dense.bias']\n",
            "You should probably TRAIN this model on a down-stream task to be able to use it for predictions and inference.\n"
          ]
        },
        {
          "output_type": "stream",
          "name": "stdout",
          "text": [
            "Loading model to GPU...\n",
            "Training Current run: 1\n",
            "\n",
            "======== Epoch 1 / 4 ========\n",
            "Training...\n",
            "\n",
            "  Average training loss: 1.31\n",
            "  Training epoch took: 0:00:28\n",
            "\n",
            "======== Epoch 2 / 4 ========\n",
            "Training...\n",
            "\n",
            "  Average training loss: 0.89\n",
            "  Training epoch took: 0:00:28\n",
            "\n",
            "======== Epoch 3 / 4 ========\n",
            "Training...\n",
            "\n",
            "  Average training loss: 0.73\n",
            "  Training epoch took: 0:00:28\n",
            "\n",
            "======== Epoch 4 / 4 ========\n",
            "Training...\n",
            "\n",
            "  Average training loss: 0.63\n",
            "  Training epoch took: 0:00:28\n",
            "Testing Current run: 1\n"
          ]
        }
      ],
      "source": [
        "results, mapping = train_test_multiple_splits(no_of_splits = 1,\n",
        "                                     classification_task = 'Multi-Class',\n",
        "                                     model_data = model_data,\n",
        "                                     model_name = 'xlm-roberta-base',\n",
        "                                     epochs = 4,\n",
        "                                     batch_size = 32)"
      ]
    },
    {
      "cell_type": "code",
      "source": [],
      "metadata": {
        "id": "wY-09I44exnV"
      },
      "execution_count": null,
      "outputs": []
    },
    {
      "cell_type": "code",
      "execution_count": null,
      "metadata": {
        "id": "pkFlzsacWD_M"
      },
      "outputs": [],
      "source": [
        "from sklearn.metrics import f1_score"
      ]
    },
    {
      "cell_type": "code",
      "execution_count": null,
      "metadata": {
        "id": "ntmfewq4akU_"
      },
      "outputs": [],
      "source": [
        "#Util function to plot confusion matrix with percentages\n",
        "def plot_cm_with_percentages(labels, predictions, class_labels, name=\"\"):\n",
        "    # Compute confusion matrix\n",
        "    cm = confusion_matrix(labels, predictions)\n",
        "\n",
        "    # Calculate row-wise sums to get the total counts for each true label\n",
        "    row_sums = cm.sum(axis=1, keepdims=True)\n",
        "\n",
        "    # Calculate the percentages by dividing each element of the confusion matrix by its corresponding row sum\n",
        "    cm_percentages = np.round((cm / row_sums) * 100, decimals=2)\n",
        "\n",
        "    # Change figure size and increase dpi for better resolution\n",
        "    plt.figure(figsize=(8,6), dpi=100)\n",
        "\n",
        "    # Scale up the size of all text\n",
        "    sns.set(font_scale = 1.1)\n",
        "\n",
        "    # Plot Confusion Matrix using Seaborn heatmap()\n",
        "    # Parameters:\n",
        "    # first param - confusion matrix in array format\n",
        "    # annot = True: show the numbers in each heatmap cell\n",
        "    # fmt = '.2f': show numbers as floats with 2 decimal places\n",
        "    ax = sns.heatmap(cm_percentages, annot=True, fmt='.2f', cmap='gist_gray')\n",
        "\n",
        "    # Format the annotations as percentages\n",
        "    for _, value in enumerate(ax.collections[0].axes.texts):\n",
        "        if value.get_text() != '0.00':\n",
        "            value.set_text(f\"{float(value.get_text()):.2f}%\")\n",
        "\n",
        "    # Set x-axis label and ticks\n",
        "    ax.set_xlabel(\"Predicted Label\", fontsize=14, labelpad=20)\n",
        "    ax.set_xticklabels(class_labels)\n",
        "\n",
        "    # Set y-axis label and ticks\n",
        "    ax.set_ylabel(\"Gold Label\", fontsize=12, labelpad=20)\n",
        "    ax.set_yticklabels(class_labels)\n",
        "\n",
        "    # Set plot title\n",
        "    # ax.set_title(\"Confusion Matrix\", fontsize=12, pad=20)\n",
        "\n",
        "    from datetime import datetime\n",
        "\n",
        "    # Generate a timestamp for the file name\n",
        "    timestamp = datetime.now().strftime(\"%Y%m%d%H%M%S\")\n",
        "\n",
        "    # Save the figure as an SVG file with timestamp in the file name\n",
        "    # plt.savefig(name, format='svg')\n",
        "\n",
        "    plt.show()\n"
      ]
    },
    {
      "cell_type": "code",
      "execution_count": null,
      "metadata": {
        "id": "Ba1ePwDkiXS-"
      },
      "outputs": [],
      "source": []
    },
    {
      "cell_type": "code",
      "execution_count": null,
      "metadata": {
        "id": "0O-7sIhDYuP1"
      },
      "outputs": [],
      "source": [
        "from sklearn.metrics import roc_auc_score\n",
        "import numpy as np\n",
        "from sklearn.metrics import classification_report, f1_score, accuracy_score\n",
        "\n",
        "def average_classification_report(predictions_dict, target_names, classification_task = 'Binary'):\n",
        "    num_runs = len(predictions_dict)\n",
        "    labels = list(target_names)  # Get unique labels\n",
        "\n",
        "    # Initialize variables to accumulate metrics\n",
        "    avg_precision = {label: 0.0 for label in labels}\n",
        "    avg_recall = {label: 0.0 for label in labels}\n",
        "    avg_f1_score = {label: 0.0 for label in labels}\n",
        "    avg_support = {label: 0 for label in labels}\n",
        "    avg_accuracy = 0.0\n",
        "    avg_auc = 0.0\n",
        "\n",
        "    # Initialize variables for macro average metrics\n",
        "    macro_precision = 0.0\n",
        "    macro_recall = 0.0\n",
        "    macro_f1_score = 0.0\n",
        "\n",
        "    # Variables to track best model\n",
        "    best_model_f1_score = float('-inf')\n",
        "    best_model_predictions = None\n",
        "    best_model_true_labels = None\n",
        "\n",
        "    all_scores = []\n",
        "    accuracies = []\n",
        "    auc_scores = []\n",
        "\n",
        "    # Calculate metrics for each run and accumulate\n",
        "    for model_id, (predictions, true_labels) in predictions_dict.items():\n",
        "        # Combine the results across all batches.\n",
        "        flat_predictions = np.concatenate(predictions, axis=0)\n",
        "\n",
        "        # For each sample, pick the label (0 or 1) with the higher score.\n",
        "        flat_predictions = np.argmax(flat_predictions, axis=1).flatten()\n",
        "\n",
        "        # Combine the correct labels for each batch into a single list.\n",
        "        flat_true_labels = np.concatenate(true_labels, axis=0)\n",
        "\n",
        "        # Calculate accuracy\n",
        "        accuracy = accuracy_score(flat_true_labels, flat_predictions)\n",
        "        avg_accuracy += accuracy\n",
        "        accuracies.append(accuracy)\n",
        "\n",
        "        # Calculate AUC score for the binary classifiers if classification task is binary\n",
        "        if classification_task == 'Binary':\n",
        "          ft_predictions_tensor = torch.tensor(np.concatenate(predictions, axis=0))\n",
        "          predicted_probabilities = torch.softmax(ft_predictions_tensor, dim=1)\n",
        "          auc_score = roc_auc_score(flat_true_labels, predicted_probabilities[:, 1])\n",
        "          auc_scores.append(auc_score)\n",
        "          avg_auc += auc_score\n",
        "\n",
        "        report = classification_report(flat_true_labels, flat_predictions, target_names=target_names, output_dict=True)\n",
        "        all_scores.append(report['macro avg']['f1-score'])\n",
        "\n",
        "        # Accumulate precision, recall, f1-score, and support\n",
        "        for label in labels:\n",
        "            avg_precision[label] += report[label]['precision']\n",
        "            avg_recall[label] += report[label]['recall']\n",
        "            avg_f1_score[label] += report[label]['f1-score']\n",
        "            avg_support[label] += report[label]['support']\n",
        "\n",
        "        # Accumulate macro average metrics\n",
        "        macro_precision += report['macro avg']['precision']\n",
        "        macro_recall += report['macro avg']['recall']\n",
        "        macro_f1_score += report['macro avg']['f1-score']\n",
        "\n",
        "        # Check if current model has a higher macro average F1 score\n",
        "        if report['macro avg']['f1-score'] > best_model_f1_score:\n",
        "            best_model_f1_score = report['macro avg']['f1-score']\n",
        "            best_model_predictions = flat_predictions\n",
        "            best_model_true_labels = flat_true_labels\n",
        "\n",
        "    # Average metrics across runs\n",
        "    avg_precision = {label: avg_precision[label] / num_runs for label in labels}\n",
        "    avg_recall = {label: avg_recall[label] / num_runs for label in labels}\n",
        "    avg_f1_score = {label: avg_f1_score[label] / num_runs for label in labels}\n",
        "    avg_support = {label: avg_support[label] / num_runs for label in labels}\n",
        "    avg_accuracy /= num_runs\n",
        "    avg_auc /= num_runs\n",
        "\n",
        "    # Average macro average metrics across runs\n",
        "    macro_precision /= num_runs\n",
        "    macro_recall /= num_runs\n",
        "    macro_f1_score /= num_runs\n",
        "\n",
        "    # Create average classification report\n",
        "    avg_report = classification_report(labels, labels, labels=labels, output_dict=True)\n",
        "    for label in labels:\n",
        "        avg_report[label]['precision'] = avg_precision[label]\n",
        "        avg_report[label]['recall'] = avg_recall[label]\n",
        "        avg_report[label]['f1-score'] = avg_f1_score[label]\n",
        "        avg_report[label]['support'] = avg_support[label]\n",
        "\n",
        "    # Add macro average metrics to the classification report\n",
        "    avg_report['macro avg'] = {\n",
        "        'precision': macro_precision,\n",
        "        'recall': macro_recall,\n",
        "        'f1-score': macro_f1_score,\n",
        "        'support': np.sum(list(avg_support.values()))\n",
        "    }\n",
        "\n",
        "    # Calculate weighted average metrics\n",
        "    weighted_precision = np.average(list(avg_precision.values()), weights=list(avg_support.values()))\n",
        "    weighted_recall = np.average(list(avg_recall.values()), weights=list(avg_support.values()))\n",
        "    weighted_f1_score = np.average(list(avg_f1_score.values()), weights=list(avg_support.values()))\n",
        "\n",
        "    # Add weighted average metrics to the classification report\n",
        "    avg_report['weighted avg'] = {\n",
        "        'precision': weighted_precision,\n",
        "        'recall': weighted_recall,\n",
        "        'f1-score': weighted_f1_score,\n",
        "        'support': np.sum(list(avg_support.values()))\n",
        "    }\n",
        "\n",
        "\n",
        "    return (best_model_predictions, best_model_true_labels), macro_f1_score, avg_report, all_scores, avg_accuracy, avg_auc"
      ]
    },
    {
      "cell_type": "code",
      "execution_count": null,
      "metadata": {
        "id": "vnHyYJoaYv_E"
      },
      "outputs": [],
      "source": [
        "(best_model_predictions, best_model_true_labels), macro_f1_score, avg_report, all_scores, avg_accuracy,avg_auc_score = average_classification_report(results, target_names = mapping.keys(), classification_task='Multi-Class')"
      ]
    },
    {
      "cell_type": "code",
      "execution_count": null,
      "metadata": {
        "colab": {
          "base_uri": "https://localhost:8080/"
        },
        "id": "zXiAxUQWibL7",
        "outputId": "42279bfd-c6f0-4582-f438-700bbf545977"
      },
      "outputs": [
        {
          "output_type": "execute_result",
          "data": {
            "text/plain": [
              "0.0"
            ]
          },
          "metadata": {},
          "execution_count": 91
        }
      ],
      "source": [
        "avg_auc_score"
      ]
    },
    {
      "cell_type": "code",
      "execution_count": null,
      "metadata": {
        "colab": {
          "base_uri": "https://localhost:8080/"
        },
        "id": "meKgWcCNqCPn",
        "outputId": "8e54d573-8050-434a-bdfb-75e8e826d085"
      },
      "outputs": [
        {
          "output_type": "execute_result",
          "data": {
            "text/plain": [
              "{'Counting and Results': 0,\n",
              " 'Political Rallies': 1,\n",
              " 'Positive Events': 2,\n",
              " 'Security Issues': 3,\n",
              " 'Voting Issues': 4}"
            ]
          },
          "metadata": {},
          "execution_count": 92
        }
      ],
      "source": [
        "mapping"
      ]
    },
    {
      "cell_type": "code",
      "execution_count": null,
      "metadata": {
        "colab": {
          "base_uri": "https://localhost:8080/"
        },
        "id": "oeku40J_aNmU",
        "outputId": "ccb57f1a-c89a-47ae-dd5f-e62728b3042f"
      },
      "outputs": [
        {
          "output_type": "stream",
          "name": "stdout",
          "text": [
            "0.7055477450336711\n"
          ]
        }
      ],
      "source": [
        "print(macro_f1_score)"
      ]
    },
    {
      "cell_type": "code",
      "execution_count": null,
      "metadata": {
        "colab": {
          "base_uri": "https://localhost:8080/"
        },
        "id": "WxlN_nh6qkXl",
        "outputId": "70655c10-c75c-42e4-a2e1-0569dbbd25d7"
      },
      "outputs": [
        {
          "output_type": "execute_result",
          "data": {
            "text/plain": [
              "0.0"
            ]
          },
          "metadata": {},
          "execution_count": 94
        }
      ],
      "source": [
        "np.std(all_scores)"
      ]
    },
    {
      "cell_type": "code",
      "execution_count": null,
      "metadata": {
        "colab": {
          "base_uri": "https://localhost:8080/"
        },
        "id": "wpq_TRHs6TUi",
        "outputId": "9be4bc0b-73cb-4f3b-a19a-e694cfbae4dd"
      },
      "outputs": [
        {
          "output_type": "stream",
          "name": "stdout",
          "text": [
            "0.7370218579234974\n"
          ]
        }
      ],
      "source": [
        "print(avg_accuracy)"
      ]
    },
    {
      "cell_type": "code",
      "execution_count": null,
      "metadata": {
        "colab": {
          "base_uri": "https://localhost:8080/",
          "height": 467
        },
        "id": "yKF-uJWSriF3",
        "outputId": "a92ab561-06a7-4697-ed36-426124b8946b"
      },
      "outputs": [
        {
          "output_type": "display_data",
          "data": {
            "text/plain": [
              "<Figure size 640x480 with 1 Axes>"
            ],
            "image/svg+xml": "<?xml version=\"1.0\" encoding=\"utf-8\" standalone=\"no\"?>\n<!DOCTYPE svg PUBLIC \"-//W3C//DTD SVG 1.1//EN\"\n  \"http://www.w3.org/Graphics/SVG/1.1/DTD/svg11.dtd\">\n<svg xmlns:xlink=\"http://www.w3.org/1999/xlink\" width=\"424.941178pt\" height=\"334.527594pt\" viewBox=\"0 0 424.941178 334.527594\" xmlns=\"http://www.w3.org/2000/svg\" version=\"1.1\">\n <metadata>\n  <rdf:RDF xmlns:dc=\"http://purl.org/dc/elements/1.1/\" xmlns:cc=\"http://creativecommons.org/ns#\" xmlns:rdf=\"http://www.w3.org/1999/02/22-rdf-syntax-ns#\">\n   <cc:Work>\n    <dc:type rdf:resource=\"http://purl.org/dc/dcmitype/StillImage\"/>\n    <dc:date>2023-07-18T13:30:02.898376</dc:date>\n    <dc:format>image/svg+xml</dc:format>\n    <dc:creator>\n     <cc:Agent>\n      <dc:title>Matplotlib v3.7.1, https://matplotlib.org/</dc:title>\n     </cc:Agent>\n    </dc:creator>\n   </cc:Work>\n  </rdf:RDF>\n </metadata>\n <defs>\n  <style type=\"text/css\">*{stroke-linejoin: round; stroke-linecap: butt}</style>\n </defs>\n <g id=\"figure_1\">\n  <g id=\"patch_1\">\n   <path d=\"M 0 334.527594 \nL 424.941178 334.527594 \nL 424.941178 0 \nL 0 0 \nz\n\" style=\"fill: #ffffff\"/>\n  </g>\n  <g id=\"axes_1\">\n   <g id=\"patch_2\">\n    <path d=\"M 60.416531 289.341937 \nL 417.536531 289.341937 \nL 417.536531 23.229937 \nL 60.416531 23.229937 \nz\n\" style=\"fill: #eaeaf2\"/>\n   </g>\n   <g id=\"matplotlib.axis_1\">\n    <g id=\"xtick_1\">\n     <g id=\"line2d_1\">\n      <path d=\"M 100.890209 289.341937 \nL 100.890209 23.229937 \n\" clip-path=\"url(#p9ff7790c22)\" style=\"fill: none; stroke: #ffffff; stroke-linecap: round\"/>\n     </g>\n     <g id=\"text_1\">\n      <!-- 0.7175 -->\n      <g style=\"fill: #262626\" transform=\"translate(79.720881 308.036047) scale(0.121 -0.121)\">\n       <defs>\n        <path id=\"DejaVuSans-30\" d=\"M 2034 4250 \nQ 1547 4250 1301 3770 \nQ 1056 3291 1056 2328 \nQ 1056 1369 1301 889 \nQ 1547 409 2034 409 \nQ 2525 409 2770 889 \nQ 3016 1369 3016 2328 \nQ 3016 3291 2770 3770 \nQ 2525 4250 2034 4250 \nz\nM 2034 4750 \nQ 2819 4750 3233 4129 \nQ 3647 3509 3647 2328 \nQ 3647 1150 3233 529 \nQ 2819 -91 2034 -91 \nQ 1250 -91 836 529 \nQ 422 1150 422 2328 \nQ 422 3509 836 4129 \nQ 1250 4750 2034 4750 \nz\n\" transform=\"scale(0.015625)\"/>\n        <path id=\"DejaVuSans-2e\" d=\"M 684 794 \nL 1344 794 \nL 1344 0 \nL 684 0 \nL 684 794 \nz\n\" transform=\"scale(0.015625)\"/>\n        <path id=\"DejaVuSans-37\" d=\"M 525 4666 \nL 3525 4666 \nL 3525 4397 \nL 1831 0 \nL 1172 0 \nL 2766 4134 \nL 525 4134 \nL 525 4666 \nz\n\" transform=\"scale(0.015625)\"/>\n        <path id=\"DejaVuSans-31\" d=\"M 794 531 \nL 1825 531 \nL 1825 4091 \nL 703 3866 \nL 703 4441 \nL 1819 4666 \nL 2450 4666 \nL 2450 531 \nL 3481 531 \nL 3481 0 \nL 794 0 \nL 794 531 \nz\n\" transform=\"scale(0.015625)\"/>\n        <path id=\"DejaVuSans-35\" d=\"M 691 4666 \nL 3169 4666 \nL 3169 4134 \nL 1269 4134 \nL 1269 2991 \nQ 1406 3038 1543 3061 \nQ 1681 3084 1819 3084 \nQ 2600 3084 3056 2656 \nQ 3513 2228 3513 1497 \nQ 3513 744 3044 326 \nQ 2575 -91 1722 -91 \nQ 1428 -91 1123 -41 \nQ 819 9 494 109 \nL 494 744 \nQ 775 591 1075 516 \nQ 1375 441 1709 441 \nQ 2250 441 2565 725 \nQ 2881 1009 2881 1497 \nQ 2881 1984 2565 2268 \nQ 2250 2553 1709 2553 \nQ 1456 2553 1204 2497 \nQ 953 2441 691 2322 \nL 691 4666 \nz\n\" transform=\"scale(0.015625)\"/>\n       </defs>\n       <use xlink:href=\"#DejaVuSans-30\"/>\n       <use xlink:href=\"#DejaVuSans-2e\" x=\"63.623047\"/>\n       <use xlink:href=\"#DejaVuSans-37\" x=\"95.410156\"/>\n       <use xlink:href=\"#DejaVuSans-31\" x=\"159.033203\"/>\n       <use xlink:href=\"#DejaVuSans-37\" x=\"222.65625\"/>\n       <use xlink:href=\"#DejaVuSans-35\" x=\"286.279297\"/>\n      </g>\n     </g>\n    </g>\n    <g id=\"xtick_2\">\n     <g id=\"line2d_2\">\n      <path d=\"M 150.170483 289.341937 \nL 150.170483 23.229937 \n\" clip-path=\"url(#p9ff7790c22)\" style=\"fill: none; stroke: #ffffff; stroke-linecap: round\"/>\n     </g>\n     <g id=\"text_2\">\n      <!-- 0.7200 -->\n      <g style=\"fill: #262626\" transform=\"translate(129.001155 308.036047) scale(0.121 -0.121)\">\n       <defs>\n        <path id=\"DejaVuSans-32\" d=\"M 1228 531 \nL 3431 531 \nL 3431 0 \nL 469 0 \nL 469 531 \nQ 828 903 1448 1529 \nQ 2069 2156 2228 2338 \nQ 2531 2678 2651 2914 \nQ 2772 3150 2772 3378 \nQ 2772 3750 2511 3984 \nQ 2250 4219 1831 4219 \nQ 1534 4219 1204 4116 \nQ 875 4013 500 3803 \nL 500 4441 \nQ 881 4594 1212 4672 \nQ 1544 4750 1819 4750 \nQ 2544 4750 2975 4387 \nQ 3406 4025 3406 3419 \nQ 3406 3131 3298 2873 \nQ 3191 2616 2906 2266 \nQ 2828 2175 2409 1742 \nQ 1991 1309 1228 531 \nz\n\" transform=\"scale(0.015625)\"/>\n       </defs>\n       <use xlink:href=\"#DejaVuSans-30\"/>\n       <use xlink:href=\"#DejaVuSans-2e\" x=\"63.623047\"/>\n       <use xlink:href=\"#DejaVuSans-37\" x=\"95.410156\"/>\n       <use xlink:href=\"#DejaVuSans-32\" x=\"159.033203\"/>\n       <use xlink:href=\"#DejaVuSans-30\" x=\"222.65625\"/>\n       <use xlink:href=\"#DejaVuSans-30\" x=\"286.279297\"/>\n      </g>\n     </g>\n    </g>\n    <g id=\"xtick_3\">\n     <g id=\"line2d_3\">\n      <path d=\"M 199.450756 289.341937 \nL 199.450756 23.229937 \n\" clip-path=\"url(#p9ff7790c22)\" style=\"fill: none; stroke: #ffffff; stroke-linecap: round\"/>\n     </g>\n     <g id=\"text_3\">\n      <!-- 0.7225 -->\n      <g style=\"fill: #262626\" transform=\"translate(178.281428 308.036047) scale(0.121 -0.121)\">\n       <use xlink:href=\"#DejaVuSans-30\"/>\n       <use xlink:href=\"#DejaVuSans-2e\" x=\"63.623047\"/>\n       <use xlink:href=\"#DejaVuSans-37\" x=\"95.410156\"/>\n       <use xlink:href=\"#DejaVuSans-32\" x=\"159.033203\"/>\n       <use xlink:href=\"#DejaVuSans-32\" x=\"222.65625\"/>\n       <use xlink:href=\"#DejaVuSans-35\" x=\"286.279297\"/>\n      </g>\n     </g>\n    </g>\n    <g id=\"xtick_4\">\n     <g id=\"line2d_4\">\n      <path d=\"M 248.731029 289.341937 \nL 248.731029 23.229937 \n\" clip-path=\"url(#p9ff7790c22)\" style=\"fill: none; stroke: #ffffff; stroke-linecap: round\"/>\n     </g>\n     <g id=\"text_4\">\n      <!-- 0.7250 -->\n      <g style=\"fill: #262626\" transform=\"translate(227.561701 308.036047) scale(0.121 -0.121)\">\n       <use xlink:href=\"#DejaVuSans-30\"/>\n       <use xlink:href=\"#DejaVuSans-2e\" x=\"63.623047\"/>\n       <use xlink:href=\"#DejaVuSans-37\" x=\"95.410156\"/>\n       <use xlink:href=\"#DejaVuSans-32\" x=\"159.033203\"/>\n       <use xlink:href=\"#DejaVuSans-35\" x=\"222.65625\"/>\n       <use xlink:href=\"#DejaVuSans-30\" x=\"286.279297\"/>\n      </g>\n     </g>\n    </g>\n    <g id=\"xtick_5\">\n     <g id=\"line2d_5\">\n      <path d=\"M 298.011303 289.341937 \nL 298.011303 23.229937 \n\" clip-path=\"url(#p9ff7790c22)\" style=\"fill: none; stroke: #ffffff; stroke-linecap: round\"/>\n     </g>\n     <g id=\"text_5\">\n      <!-- 0.7275 -->\n      <g style=\"fill: #262626\" transform=\"translate(276.841975 308.036047) scale(0.121 -0.121)\">\n       <use xlink:href=\"#DejaVuSans-30\"/>\n       <use xlink:href=\"#DejaVuSans-2e\" x=\"63.623047\"/>\n       <use xlink:href=\"#DejaVuSans-37\" x=\"95.410156\"/>\n       <use xlink:href=\"#DejaVuSans-32\" x=\"159.033203\"/>\n       <use xlink:href=\"#DejaVuSans-37\" x=\"222.65625\"/>\n       <use xlink:href=\"#DejaVuSans-35\" x=\"286.279297\"/>\n      </g>\n     </g>\n    </g>\n    <g id=\"xtick_6\">\n     <g id=\"line2d_6\">\n      <path d=\"M 347.291576 289.341937 \nL 347.291576 23.229937 \n\" clip-path=\"url(#p9ff7790c22)\" style=\"fill: none; stroke: #ffffff; stroke-linecap: round\"/>\n     </g>\n     <g id=\"text_6\">\n      <!-- 0.7300 -->\n      <g style=\"fill: #262626\" transform=\"translate(326.122248 308.036047) scale(0.121 -0.121)\">\n       <defs>\n        <path id=\"DejaVuSans-33\" d=\"M 2597 2516 \nQ 3050 2419 3304 2112 \nQ 3559 1806 3559 1356 \nQ 3559 666 3084 287 \nQ 2609 -91 1734 -91 \nQ 1441 -91 1130 -33 \nQ 819 25 488 141 \nL 488 750 \nQ 750 597 1062 519 \nQ 1375 441 1716 441 \nQ 2309 441 2620 675 \nQ 2931 909 2931 1356 \nQ 2931 1769 2642 2001 \nQ 2353 2234 1838 2234 \nL 1294 2234 \nL 1294 2753 \nL 1863 2753 \nQ 2328 2753 2575 2939 \nQ 2822 3125 2822 3475 \nQ 2822 3834 2567 4026 \nQ 2313 4219 1838 4219 \nQ 1578 4219 1281 4162 \nQ 984 4106 628 3988 \nL 628 4550 \nQ 988 4650 1302 4700 \nQ 1616 4750 1894 4750 \nQ 2613 4750 3031 4423 \nQ 3450 4097 3450 3541 \nQ 3450 3153 3228 2886 \nQ 3006 2619 2597 2516 \nz\n\" transform=\"scale(0.015625)\"/>\n       </defs>\n       <use xlink:href=\"#DejaVuSans-30\"/>\n       <use xlink:href=\"#DejaVuSans-2e\" x=\"63.623047\"/>\n       <use xlink:href=\"#DejaVuSans-37\" x=\"95.410156\"/>\n       <use xlink:href=\"#DejaVuSans-33\" x=\"159.033203\"/>\n       <use xlink:href=\"#DejaVuSans-30\" x=\"222.65625\"/>\n       <use xlink:href=\"#DejaVuSans-30\" x=\"286.279297\"/>\n      </g>\n     </g>\n    </g>\n    <g id=\"xtick_7\">\n     <g id=\"line2d_7\">\n      <path d=\"M 396.571849 289.341937 \nL 396.571849 23.229937 \n\" clip-path=\"url(#p9ff7790c22)\" style=\"fill: none; stroke: #ffffff; stroke-linecap: round\"/>\n     </g>\n     <g id=\"text_7\">\n      <!-- 0.7325 -->\n      <g style=\"fill: #262626\" transform=\"translate(375.402521 308.036047) scale(0.121 -0.121)\">\n       <use xlink:href=\"#DejaVuSans-30\"/>\n       <use xlink:href=\"#DejaVuSans-2e\" x=\"63.623047\"/>\n       <use xlink:href=\"#DejaVuSans-37\" x=\"95.410156\"/>\n       <use xlink:href=\"#DejaVuSans-33\" x=\"159.033203\"/>\n       <use xlink:href=\"#DejaVuSans-32\" x=\"222.65625\"/>\n       <use xlink:href=\"#DejaVuSans-35\" x=\"286.279297\"/>\n      </g>\n     </g>\n    </g>\n    <g id=\"text_8\">\n     <!-- Scores -->\n     <g style=\"fill: #262626\" transform=\"translate(217.05525 324.582406) scale(0.132 -0.132)\">\n      <defs>\n       <path id=\"DejaVuSans-53\" d=\"M 3425 4513 \nL 3425 3897 \nQ 3066 4069 2747 4153 \nQ 2428 4238 2131 4238 \nQ 1616 4238 1336 4038 \nQ 1056 3838 1056 3469 \nQ 1056 3159 1242 3001 \nQ 1428 2844 1947 2747 \nL 2328 2669 \nQ 3034 2534 3370 2195 \nQ 3706 1856 3706 1288 \nQ 3706 609 3251 259 \nQ 2797 -91 1919 -91 \nQ 1588 -91 1214 -16 \nQ 841 59 441 206 \nL 441 856 \nQ 825 641 1194 531 \nQ 1563 422 1919 422 \nQ 2459 422 2753 634 \nQ 3047 847 3047 1241 \nQ 3047 1584 2836 1778 \nQ 2625 1972 2144 2069 \nL 1759 2144 \nQ 1053 2284 737 2584 \nQ 422 2884 422 3419 \nQ 422 4038 858 4394 \nQ 1294 4750 2059 4750 \nQ 2388 4750 2728 4690 \nQ 3069 4631 3425 4513 \nz\n\" transform=\"scale(0.015625)\"/>\n       <path id=\"DejaVuSans-63\" d=\"M 3122 3366 \nL 3122 2828 \nQ 2878 2963 2633 3030 \nQ 2388 3097 2138 3097 \nQ 1578 3097 1268 2742 \nQ 959 2388 959 1747 \nQ 959 1106 1268 751 \nQ 1578 397 2138 397 \nQ 2388 397 2633 464 \nQ 2878 531 3122 666 \nL 3122 134 \nQ 2881 22 2623 -34 \nQ 2366 -91 2075 -91 \nQ 1284 -91 818 406 \nQ 353 903 353 1747 \nQ 353 2603 823 3093 \nQ 1294 3584 2113 3584 \nQ 2378 3584 2631 3529 \nQ 2884 3475 3122 3366 \nz\n\" transform=\"scale(0.015625)\"/>\n       <path id=\"DejaVuSans-6f\" d=\"M 1959 3097 \nQ 1497 3097 1228 2736 \nQ 959 2375 959 1747 \nQ 959 1119 1226 758 \nQ 1494 397 1959 397 \nQ 2419 397 2687 759 \nQ 2956 1122 2956 1747 \nQ 2956 2369 2687 2733 \nQ 2419 3097 1959 3097 \nz\nM 1959 3584 \nQ 2709 3584 3137 3096 \nQ 3566 2609 3566 1747 \nQ 3566 888 3137 398 \nQ 2709 -91 1959 -91 \nQ 1206 -91 779 398 \nQ 353 888 353 1747 \nQ 353 2609 779 3096 \nQ 1206 3584 1959 3584 \nz\n\" transform=\"scale(0.015625)\"/>\n       <path id=\"DejaVuSans-72\" d=\"M 2631 2963 \nQ 2534 3019 2420 3045 \nQ 2306 3072 2169 3072 \nQ 1681 3072 1420 2755 \nQ 1159 2438 1159 1844 \nL 1159 0 \nL 581 0 \nL 581 3500 \nL 1159 3500 \nL 1159 2956 \nQ 1341 3275 1631 3429 \nQ 1922 3584 2338 3584 \nQ 2397 3584 2469 3576 \nQ 2541 3569 2628 3553 \nL 2631 2963 \nz\n\" transform=\"scale(0.015625)\"/>\n       <path id=\"DejaVuSans-65\" d=\"M 3597 1894 \nL 3597 1613 \nL 953 1613 \nQ 991 1019 1311 708 \nQ 1631 397 2203 397 \nQ 2534 397 2845 478 \nQ 3156 559 3463 722 \nL 3463 178 \nQ 3153 47 2828 -22 \nQ 2503 -91 2169 -91 \nQ 1331 -91 842 396 \nQ 353 884 353 1716 \nQ 353 2575 817 3079 \nQ 1281 3584 2069 3584 \nQ 2775 3584 3186 3129 \nQ 3597 2675 3597 1894 \nz\nM 3022 2063 \nQ 3016 2534 2758 2815 \nQ 2500 3097 2075 3097 \nQ 1594 3097 1305 2825 \nQ 1016 2553 972 2059 \nL 3022 2063 \nz\n\" transform=\"scale(0.015625)\"/>\n       <path id=\"DejaVuSans-73\" d=\"M 2834 3397 \nL 2834 2853 \nQ 2591 2978 2328 3040 \nQ 2066 3103 1784 3103 \nQ 1356 3103 1142 2972 \nQ 928 2841 928 2578 \nQ 928 2378 1081 2264 \nQ 1234 2150 1697 2047 \nL 1894 2003 \nQ 2506 1872 2764 1633 \nQ 3022 1394 3022 966 \nQ 3022 478 2636 193 \nQ 2250 -91 1575 -91 \nQ 1294 -91 989 -36 \nQ 684 19 347 128 \nL 347 722 \nQ 666 556 975 473 \nQ 1284 391 1588 391 \nQ 1994 391 2212 530 \nQ 2431 669 2431 922 \nQ 2431 1156 2273 1281 \nQ 2116 1406 1581 1522 \nL 1381 1569 \nQ 847 1681 609 1914 \nQ 372 2147 372 2553 \nQ 372 3047 722 3315 \nQ 1072 3584 1716 3584 \nQ 2034 3584 2315 3537 \nQ 2597 3491 2834 3397 \nz\n\" transform=\"scale(0.015625)\"/>\n      </defs>\n      <use xlink:href=\"#DejaVuSans-53\"/>\n      <use xlink:href=\"#DejaVuSans-63\" x=\"63.476562\"/>\n      <use xlink:href=\"#DejaVuSans-6f\" x=\"118.457031\"/>\n      <use xlink:href=\"#DejaVuSans-72\" x=\"179.638672\"/>\n      <use xlink:href=\"#DejaVuSans-65\" x=\"218.501953\"/>\n      <use xlink:href=\"#DejaVuSans-73\" x=\"280.025391\"/>\n     </g>\n    </g>\n   </g>\n   <g id=\"matplotlib.axis_2\">\n    <g id=\"ytick_1\">\n     <g id=\"line2d_8\">\n      <path d=\"M 60.416531 289.341937 \nL 417.536531 289.341937 \n\" clip-path=\"url(#p9ff7790c22)\" style=\"fill: none; stroke: #ffffff; stroke-linecap: round\"/>\n     </g>\n     <g id=\"text_9\">\n      <!-- 0.00 -->\n      <g style=\"fill: #262626\" transform=\"translate(23.975125 293.938992) scale(0.121 -0.121)\">\n       <use xlink:href=\"#DejaVuSans-30\"/>\n       <use xlink:href=\"#DejaVuSans-2e\" x=\"63.623047\"/>\n       <use xlink:href=\"#DejaVuSans-30\" x=\"95.410156\"/>\n       <use xlink:href=\"#DejaVuSans-30\" x=\"159.033203\"/>\n      </g>\n     </g>\n    </g>\n    <g id=\"ytick_2\">\n     <g id=\"line2d_9\">\n      <path d=\"M 60.416531 257.661937 \nL 417.536531 257.661937 \n\" clip-path=\"url(#p9ff7790c22)\" style=\"fill: none; stroke: #ffffff; stroke-linecap: round\"/>\n     </g>\n     <g id=\"text_10\">\n      <!-- 0.25 -->\n      <g style=\"fill: #262626\" transform=\"translate(23.975125 262.258992) scale(0.121 -0.121)\">\n       <use xlink:href=\"#DejaVuSans-30\"/>\n       <use xlink:href=\"#DejaVuSans-2e\" x=\"63.623047\"/>\n       <use xlink:href=\"#DejaVuSans-32\" x=\"95.410156\"/>\n       <use xlink:href=\"#DejaVuSans-35\" x=\"159.033203\"/>\n      </g>\n     </g>\n    </g>\n    <g id=\"ytick_3\">\n     <g id=\"line2d_10\">\n      <path d=\"M 60.416531 225.981937 \nL 417.536531 225.981937 \n\" clip-path=\"url(#p9ff7790c22)\" style=\"fill: none; stroke: #ffffff; stroke-linecap: round\"/>\n     </g>\n     <g id=\"text_11\">\n      <!-- 0.50 -->\n      <g style=\"fill: #262626\" transform=\"translate(23.975125 230.578992) scale(0.121 -0.121)\">\n       <use xlink:href=\"#DejaVuSans-30\"/>\n       <use xlink:href=\"#DejaVuSans-2e\" x=\"63.623047\"/>\n       <use xlink:href=\"#DejaVuSans-35\" x=\"95.410156\"/>\n       <use xlink:href=\"#DejaVuSans-30\" x=\"159.033203\"/>\n      </g>\n     </g>\n    </g>\n    <g id=\"ytick_4\">\n     <g id=\"line2d_11\">\n      <path d=\"M 60.416531 194.301937 \nL 417.536531 194.301937 \n\" clip-path=\"url(#p9ff7790c22)\" style=\"fill: none; stroke: #ffffff; stroke-linecap: round\"/>\n     </g>\n     <g id=\"text_12\">\n      <!-- 0.75 -->\n      <g style=\"fill: #262626\" transform=\"translate(23.975125 198.898992) scale(0.121 -0.121)\">\n       <use xlink:href=\"#DejaVuSans-30\"/>\n       <use xlink:href=\"#DejaVuSans-2e\" x=\"63.623047\"/>\n       <use xlink:href=\"#DejaVuSans-37\" x=\"95.410156\"/>\n       <use xlink:href=\"#DejaVuSans-35\" x=\"159.033203\"/>\n      </g>\n     </g>\n    </g>\n    <g id=\"ytick_5\">\n     <g id=\"line2d_12\">\n      <path d=\"M 60.416531 162.621937 \nL 417.536531 162.621937 \n\" clip-path=\"url(#p9ff7790c22)\" style=\"fill: none; stroke: #ffffff; stroke-linecap: round\"/>\n     </g>\n     <g id=\"text_13\">\n      <!-- 1.00 -->\n      <g style=\"fill: #262626\" transform=\"translate(23.975125 167.218992) scale(0.121 -0.121)\">\n       <use xlink:href=\"#DejaVuSans-31\"/>\n       <use xlink:href=\"#DejaVuSans-2e\" x=\"63.623047\"/>\n       <use xlink:href=\"#DejaVuSans-30\" x=\"95.410156\"/>\n       <use xlink:href=\"#DejaVuSans-30\" x=\"159.033203\"/>\n      </g>\n     </g>\n    </g>\n    <g id=\"ytick_6\">\n     <g id=\"line2d_13\">\n      <path d=\"M 60.416531 130.941937 \nL 417.536531 130.941937 \n\" clip-path=\"url(#p9ff7790c22)\" style=\"fill: none; stroke: #ffffff; stroke-linecap: round\"/>\n     </g>\n     <g id=\"text_14\">\n      <!-- 1.25 -->\n      <g style=\"fill: #262626\" transform=\"translate(23.975125 135.538992) scale(0.121 -0.121)\">\n       <use xlink:href=\"#DejaVuSans-31\"/>\n       <use xlink:href=\"#DejaVuSans-2e\" x=\"63.623047\"/>\n       <use xlink:href=\"#DejaVuSans-32\" x=\"95.410156\"/>\n       <use xlink:href=\"#DejaVuSans-35\" x=\"159.033203\"/>\n      </g>\n     </g>\n    </g>\n    <g id=\"ytick_7\">\n     <g id=\"line2d_14\">\n      <path d=\"M 60.416531 99.261937 \nL 417.536531 99.261937 \n\" clip-path=\"url(#p9ff7790c22)\" style=\"fill: none; stroke: #ffffff; stroke-linecap: round\"/>\n     </g>\n     <g id=\"text_15\">\n      <!-- 1.50 -->\n      <g style=\"fill: #262626\" transform=\"translate(23.975125 103.858992) scale(0.121 -0.121)\">\n       <use xlink:href=\"#DejaVuSans-31\"/>\n       <use xlink:href=\"#DejaVuSans-2e\" x=\"63.623047\"/>\n       <use xlink:href=\"#DejaVuSans-35\" x=\"95.410156\"/>\n       <use xlink:href=\"#DejaVuSans-30\" x=\"159.033203\"/>\n      </g>\n     </g>\n    </g>\n    <g id=\"ytick_8\">\n     <g id=\"line2d_15\">\n      <path d=\"M 60.416531 67.581937 \nL 417.536531 67.581937 \n\" clip-path=\"url(#p9ff7790c22)\" style=\"fill: none; stroke: #ffffff; stroke-linecap: round\"/>\n     </g>\n     <g id=\"text_16\">\n      <!-- 1.75 -->\n      <g style=\"fill: #262626\" transform=\"translate(23.975125 72.178992) scale(0.121 -0.121)\">\n       <use xlink:href=\"#DejaVuSans-31\"/>\n       <use xlink:href=\"#DejaVuSans-2e\" x=\"63.623047\"/>\n       <use xlink:href=\"#DejaVuSans-37\" x=\"95.410156\"/>\n       <use xlink:href=\"#DejaVuSans-35\" x=\"159.033203\"/>\n      </g>\n     </g>\n    </g>\n    <g id=\"ytick_9\">\n     <g id=\"line2d_16\">\n      <path d=\"M 60.416531 35.901937 \nL 417.536531 35.901937 \n\" clip-path=\"url(#p9ff7790c22)\" style=\"fill: none; stroke: #ffffff; stroke-linecap: round\"/>\n     </g>\n     <g id=\"text_17\">\n      <!-- 2.00 -->\n      <g style=\"fill: #262626\" transform=\"translate(23.975125 40.498992) scale(0.121 -0.121)\">\n       <use xlink:href=\"#DejaVuSans-32\"/>\n       <use xlink:href=\"#DejaVuSans-2e\" x=\"63.623047\"/>\n       <use xlink:href=\"#DejaVuSans-30\" x=\"95.410156\"/>\n       <use xlink:href=\"#DejaVuSans-30\" x=\"159.033203\"/>\n      </g>\n     </g>\n    </g>\n    <g id=\"text_18\">\n     <!-- Frequency -->\n     <g style=\"fill: #262626\" transform=\"translate(17.229937 190.381125) rotate(-90) scale(0.132 -0.132)\">\n      <defs>\n       <path id=\"DejaVuSans-46\" d=\"M 628 4666 \nL 3309 4666 \nL 3309 4134 \nL 1259 4134 \nL 1259 2759 \nL 3109 2759 \nL 3109 2228 \nL 1259 2228 \nL 1259 0 \nL 628 0 \nL 628 4666 \nz\n\" transform=\"scale(0.015625)\"/>\n       <path id=\"DejaVuSans-71\" d=\"M 947 1747 \nQ 947 1113 1208 752 \nQ 1469 391 1925 391 \nQ 2381 391 2643 752 \nQ 2906 1113 2906 1747 \nQ 2906 2381 2643 2742 \nQ 2381 3103 1925 3103 \nQ 1469 3103 1208 2742 \nQ 947 2381 947 1747 \nz\nM 2906 525 \nQ 2725 213 2448 61 \nQ 2172 -91 1784 -91 \nQ 1150 -91 751 415 \nQ 353 922 353 1747 \nQ 353 2572 751 3078 \nQ 1150 3584 1784 3584 \nQ 2172 3584 2448 3432 \nQ 2725 3281 2906 2969 \nL 2906 3500 \nL 3481 3500 \nL 3481 -1331 \nL 2906 -1331 \nL 2906 525 \nz\n\" transform=\"scale(0.015625)\"/>\n       <path id=\"DejaVuSans-75\" d=\"M 544 1381 \nL 544 3500 \nL 1119 3500 \nL 1119 1403 \nQ 1119 906 1312 657 \nQ 1506 409 1894 409 \nQ 2359 409 2629 706 \nQ 2900 1003 2900 1516 \nL 2900 3500 \nL 3475 3500 \nL 3475 0 \nL 2900 0 \nL 2900 538 \nQ 2691 219 2414 64 \nQ 2138 -91 1772 -91 \nQ 1169 -91 856 284 \nQ 544 659 544 1381 \nz\nM 1991 3584 \nL 1991 3584 \nz\n\" transform=\"scale(0.015625)\"/>\n       <path id=\"DejaVuSans-6e\" d=\"M 3513 2113 \nL 3513 0 \nL 2938 0 \nL 2938 2094 \nQ 2938 2591 2744 2837 \nQ 2550 3084 2163 3084 \nQ 1697 3084 1428 2787 \nQ 1159 2491 1159 1978 \nL 1159 0 \nL 581 0 \nL 581 3500 \nL 1159 3500 \nL 1159 2956 \nQ 1366 3272 1645 3428 \nQ 1925 3584 2291 3584 \nQ 2894 3584 3203 3211 \nQ 3513 2838 3513 2113 \nz\n\" transform=\"scale(0.015625)\"/>\n       <path id=\"DejaVuSans-79\" d=\"M 2059 -325 \nQ 1816 -950 1584 -1140 \nQ 1353 -1331 966 -1331 \nL 506 -1331 \nL 506 -850 \nL 844 -850 \nQ 1081 -850 1212 -737 \nQ 1344 -625 1503 -206 \nL 1606 56 \nL 191 3500 \nL 800 3500 \nL 1894 763 \nL 2988 3500 \nL 3597 3500 \nL 2059 -325 \nz\n\" transform=\"scale(0.015625)\"/>\n      </defs>\n      <use xlink:href=\"#DejaVuSans-46\"/>\n      <use xlink:href=\"#DejaVuSans-72\" x=\"50.269531\"/>\n      <use xlink:href=\"#DejaVuSans-65\" x=\"89.132812\"/>\n      <use xlink:href=\"#DejaVuSans-71\" x=\"150.65625\"/>\n      <use xlink:href=\"#DejaVuSans-75\" x=\"214.132812\"/>\n      <use xlink:href=\"#DejaVuSans-65\" x=\"277.511719\"/>\n      <use xlink:href=\"#DejaVuSans-6e\" x=\"339.035156\"/>\n      <use xlink:href=\"#DejaVuSans-63\" x=\"402.414062\"/>\n      <use xlink:href=\"#DejaVuSans-79\" x=\"457.394531\"/>\n     </g>\n    </g>\n   </g>\n   <g id=\"patch_3\">\n    <path d=\"M 76.649259 289.341937 \nL 109.114713 289.341937 \nL 109.114713 35.901937 \nL 76.649259 35.901937 \nz\n\" clip-path=\"url(#p9ff7790c22)\" style=\"fill: #4c72b0; stroke: #000000; stroke-linejoin: miter\"/>\n   </g>\n   <g id=\"patch_4\">\n    <path d=\"M 109.114713 289.341937 \nL 141.580168 289.341937 \nL 141.580168 289.341937 \nL 109.114713 289.341937 \nz\n\" clip-path=\"url(#p9ff7790c22)\" style=\"fill: #4c72b0; stroke: #000000; stroke-linejoin: miter\"/>\n   </g>\n   <g id=\"patch_5\">\n    <path d=\"M 141.580168 289.341937 \nL 174.045622 289.341937 \nL 174.045622 289.341937 \nL 141.580168 289.341937 \nz\n\" clip-path=\"url(#p9ff7790c22)\" style=\"fill: #4c72b0; stroke: #000000; stroke-linejoin: miter\"/>\n   </g>\n   <g id=\"patch_6\">\n    <path d=\"M 174.045622 289.341937 \nL 206.511077 289.341937 \nL 206.511077 289.341937 \nL 174.045622 289.341937 \nz\n\" clip-path=\"url(#p9ff7790c22)\" style=\"fill: #4c72b0; stroke: #000000; stroke-linejoin: miter\"/>\n   </g>\n   <g id=\"patch_7\">\n    <path d=\"M 206.511077 289.341937 \nL 238.976531 289.341937 \nL 238.976531 289.341937 \nL 206.511077 289.341937 \nz\n\" clip-path=\"url(#p9ff7790c22)\" style=\"fill: #4c72b0; stroke: #000000; stroke-linejoin: miter\"/>\n   </g>\n   <g id=\"patch_8\">\n    <path d=\"M 238.976531 289.341937 \nL 271.441986 289.341937 \nL 271.441986 289.341937 \nL 238.976531 289.341937 \nz\n\" clip-path=\"url(#p9ff7790c22)\" style=\"fill: #4c72b0; stroke: #000000; stroke-linejoin: miter\"/>\n   </g>\n   <g id=\"patch_9\">\n    <path d=\"M 271.441986 289.341937 \nL 303.90744 289.341937 \nL 303.90744 289.341937 \nL 271.441986 289.341937 \nz\n\" clip-path=\"url(#p9ff7790c22)\" style=\"fill: #4c72b0; stroke: #000000; stroke-linejoin: miter\"/>\n   </g>\n   <g id=\"patch_10\">\n    <path d=\"M 303.90744 289.341937 \nL 336.372895 289.341937 \nL 336.372895 289.341937 \nL 303.90744 289.341937 \nz\n\" clip-path=\"url(#p9ff7790c22)\" style=\"fill: #4c72b0; stroke: #000000; stroke-linejoin: miter\"/>\n   </g>\n   <g id=\"patch_11\">\n    <path d=\"M 336.372895 289.341937 \nL 368.838349 289.341937 \nL 368.838349 289.341937 \nL 336.372895 289.341937 \nz\n\" clip-path=\"url(#p9ff7790c22)\" style=\"fill: #4c72b0; stroke: #000000; stroke-linejoin: miter\"/>\n   </g>\n   <g id=\"patch_12\">\n    <path d=\"M 368.838349 289.341937 \nL 401.303804 289.341937 \nL 401.303804 162.621937 \nL 368.838349 162.621937 \nz\n\" clip-path=\"url(#p9ff7790c22)\" style=\"fill: #4c72b0; stroke: #000000; stroke-linejoin: miter\"/>\n   </g>\n   <g id=\"patch_13\">\n    <path d=\"M 60.416531 289.341937 \nL 60.416531 23.229937 \n\" style=\"fill: none; stroke: #ffffff; stroke-width: 1.25; stroke-linejoin: miter; stroke-linecap: square\"/>\n   </g>\n   <g id=\"patch_14\">\n    <path d=\"M 417.536531 289.341937 \nL 417.536531 23.229937 \n\" style=\"fill: none; stroke: #ffffff; stroke-width: 1.25; stroke-linejoin: miter; stroke-linecap: square\"/>\n   </g>\n   <g id=\"patch_15\">\n    <path d=\"M 60.416531 289.341937 \nL 417.536531 289.341937 \n\" style=\"fill: none; stroke: #ffffff; stroke-width: 1.25; stroke-linejoin: miter; stroke-linecap: square\"/>\n   </g>\n   <g id=\"patch_16\">\n    <path d=\"M 60.416531 23.229937 \nL 417.536531 23.229937 \n\" style=\"fill: none; stroke: #ffffff; stroke-width: 1.25; stroke-linejoin: miter; stroke-linecap: square\"/>\n   </g>\n   <g id=\"text_19\">\n    <!-- Distribution of Scores -->\n    <g style=\"fill: #262626\" transform=\"translate(167.995594 17.229937) scale(0.132 -0.132)\">\n     <defs>\n      <path id=\"DejaVuSans-44\" d=\"M 1259 4147 \nL 1259 519 \nL 2022 519 \nQ 2988 519 3436 956 \nQ 3884 1394 3884 2338 \nQ 3884 3275 3436 3711 \nQ 2988 4147 2022 4147 \nL 1259 4147 \nz\nM 628 4666 \nL 1925 4666 \nQ 3281 4666 3915 4102 \nQ 4550 3538 4550 2338 \nQ 4550 1131 3912 565 \nQ 3275 0 1925 0 \nL 628 0 \nL 628 4666 \nz\n\" transform=\"scale(0.015625)\"/>\n      <path id=\"DejaVuSans-69\" d=\"M 603 3500 \nL 1178 3500 \nL 1178 0 \nL 603 0 \nL 603 3500 \nz\nM 603 4863 \nL 1178 4863 \nL 1178 4134 \nL 603 4134 \nL 603 4863 \nz\n\" transform=\"scale(0.015625)\"/>\n      <path id=\"DejaVuSans-74\" d=\"M 1172 4494 \nL 1172 3500 \nL 2356 3500 \nL 2356 3053 \nL 1172 3053 \nL 1172 1153 \nQ 1172 725 1289 603 \nQ 1406 481 1766 481 \nL 2356 481 \nL 2356 0 \nL 1766 0 \nQ 1100 0 847 248 \nQ 594 497 594 1153 \nL 594 3053 \nL 172 3053 \nL 172 3500 \nL 594 3500 \nL 594 4494 \nL 1172 4494 \nz\n\" transform=\"scale(0.015625)\"/>\n      <path id=\"DejaVuSans-62\" d=\"M 3116 1747 \nQ 3116 2381 2855 2742 \nQ 2594 3103 2138 3103 \nQ 1681 3103 1420 2742 \nQ 1159 2381 1159 1747 \nQ 1159 1113 1420 752 \nQ 1681 391 2138 391 \nQ 2594 391 2855 752 \nQ 3116 1113 3116 1747 \nz\nM 1159 2969 \nQ 1341 3281 1617 3432 \nQ 1894 3584 2278 3584 \nQ 2916 3584 3314 3078 \nQ 3713 2572 3713 1747 \nQ 3713 922 3314 415 \nQ 2916 -91 2278 -91 \nQ 1894 -91 1617 61 \nQ 1341 213 1159 525 \nL 1159 0 \nL 581 0 \nL 581 4863 \nL 1159 4863 \nL 1159 2969 \nz\n\" transform=\"scale(0.015625)\"/>\n      <path id=\"DejaVuSans-20\" transform=\"scale(0.015625)\"/>\n      <path id=\"DejaVuSans-66\" d=\"M 2375 4863 \nL 2375 4384 \nL 1825 4384 \nQ 1516 4384 1395 4259 \nQ 1275 4134 1275 3809 \nL 1275 3500 \nL 2222 3500 \nL 2222 3053 \nL 1275 3053 \nL 1275 0 \nL 697 0 \nL 697 3053 \nL 147 3053 \nL 147 3500 \nL 697 3500 \nL 697 3744 \nQ 697 4328 969 4595 \nQ 1241 4863 1831 4863 \nL 2375 4863 \nz\n\" transform=\"scale(0.015625)\"/>\n     </defs>\n     <use xlink:href=\"#DejaVuSans-44\"/>\n     <use xlink:href=\"#DejaVuSans-69\" x=\"77.001953\"/>\n     <use xlink:href=\"#DejaVuSans-73\" x=\"104.785156\"/>\n     <use xlink:href=\"#DejaVuSans-74\" x=\"156.884766\"/>\n     <use xlink:href=\"#DejaVuSans-72\" x=\"196.09375\"/>\n     <use xlink:href=\"#DejaVuSans-69\" x=\"237.207031\"/>\n     <use xlink:href=\"#DejaVuSans-62\" x=\"264.990234\"/>\n     <use xlink:href=\"#DejaVuSans-75\" x=\"328.466797\"/>\n     <use xlink:href=\"#DejaVuSans-74\" x=\"391.845703\"/>\n     <use xlink:href=\"#DejaVuSans-69\" x=\"431.054688\"/>\n     <use xlink:href=\"#DejaVuSans-6f\" x=\"458.837891\"/>\n     <use xlink:href=\"#DejaVuSans-6e\" x=\"520.019531\"/>\n     <use xlink:href=\"#DejaVuSans-20\" x=\"583.398438\"/>\n     <use xlink:href=\"#DejaVuSans-6f\" x=\"615.185547\"/>\n     <use xlink:href=\"#DejaVuSans-66\" x=\"676.367188\"/>\n     <use xlink:href=\"#DejaVuSans-20\" x=\"711.572266\"/>\n     <use xlink:href=\"#DejaVuSans-53\" x=\"743.359375\"/>\n     <use xlink:href=\"#DejaVuSans-63\" x=\"806.835938\"/>\n     <use xlink:href=\"#DejaVuSans-6f\" x=\"861.816406\"/>\n     <use xlink:href=\"#DejaVuSans-72\" x=\"922.998047\"/>\n     <use xlink:href=\"#DejaVuSans-65\" x=\"961.861328\"/>\n     <use xlink:href=\"#DejaVuSans-73\" x=\"1023.384766\"/>\n    </g>\n   </g>\n  </g>\n </g>\n <defs>\n  <clipPath id=\"p9ff7790c22\">\n   <rect x=\"60.416531\" y=\"23.229937\" width=\"357.12\" height=\"266.112\"/>\n  </clipPath>\n </defs>\n</svg>\n"
          },
          "metadata": {}
        }
      ],
      "source": [
        "# Plot the distribution\n",
        "plt.hist(all_scores, bins=10, edgecolor='black')\n",
        "\n",
        "# Set plot labels and title\n",
        "plt.xlabel('Scores')\n",
        "plt.ylabel('Frequency')\n",
        "plt.title('Distribution of Scores')\n",
        "\n",
        "# Display the plot\n",
        "plt.show()"
      ]
    },
    {
      "cell_type": "code",
      "execution_count": null,
      "metadata": {
        "id": "Vea1FqiZaVXn"
      },
      "outputs": [],
      "source": [
        "informative_results_df = pd.DataFrame.from_dict(avg_report)"
      ]
    },
    {
      "cell_type": "code",
      "execution_count": null,
      "metadata": {
        "colab": {
          "base_uri": "https://localhost:8080/",
          "height": 273
        },
        "id": "Q4VqdXCHaaBs",
        "outputId": "c992c567-2552-42f2-f200-2e23fe3cb57a"
      },
      "outputs": [
        {
          "output_type": "execute_result",
          "data": {
            "text/plain": [
              "           Counting and Results  Political Rallies  Positive Events  \\\n",
              "precision              0.766952           0.702423         0.769069   \n",
              "recall                 0.751220           0.713675         0.790087   \n",
              "f1-score               0.758348           0.707825         0.778535   \n",
              "support              205.000000          78.000000       343.000000   \n",
              "\n",
              "           Security Issues  Voting Issues  accuracy   macro avg  weighted avg  \n",
              "precision         0.690643       0.704129       1.0    0.726643      0.738325  \n",
              "recall            0.639344       0.704678       1.0    0.719801      0.737022  \n",
              "f1-score          0.663705       0.702933       1.0    0.722269      0.736629  \n",
              "support         122.000000     228.000000       1.0  976.000000    976.000000  "
            ],
            "text/html": [
              "\n",
              "\n",
              "  <div id=\"df-e915f4ca-c8a2-4e2e-9419-86ac3c7db54e\">\n",
              "    <div class=\"colab-df-container\">\n",
              "      <div>\n",
              "<style scoped>\n",
              "    .dataframe tbody tr th:only-of-type {\n",
              "        vertical-align: middle;\n",
              "    }\n",
              "\n",
              "    .dataframe tbody tr th {\n",
              "        vertical-align: top;\n",
              "    }\n",
              "\n",
              "    .dataframe thead th {\n",
              "        text-align: right;\n",
              "    }\n",
              "</style>\n",
              "<table border=\"1\" class=\"dataframe\">\n",
              "  <thead>\n",
              "    <tr style=\"text-align: right;\">\n",
              "      <th></th>\n",
              "      <th>Counting and Results</th>\n",
              "      <th>Political Rallies</th>\n",
              "      <th>Positive Events</th>\n",
              "      <th>Security Issues</th>\n",
              "      <th>Voting Issues</th>\n",
              "      <th>accuracy</th>\n",
              "      <th>macro avg</th>\n",
              "      <th>weighted avg</th>\n",
              "    </tr>\n",
              "  </thead>\n",
              "  <tbody>\n",
              "    <tr>\n",
              "      <th>precision</th>\n",
              "      <td>0.766952</td>\n",
              "      <td>0.702423</td>\n",
              "      <td>0.769069</td>\n",
              "      <td>0.690643</td>\n",
              "      <td>0.704129</td>\n",
              "      <td>1.0</td>\n",
              "      <td>0.726643</td>\n",
              "      <td>0.738325</td>\n",
              "    </tr>\n",
              "    <tr>\n",
              "      <th>recall</th>\n",
              "      <td>0.751220</td>\n",
              "      <td>0.713675</td>\n",
              "      <td>0.790087</td>\n",
              "      <td>0.639344</td>\n",
              "      <td>0.704678</td>\n",
              "      <td>1.0</td>\n",
              "      <td>0.719801</td>\n",
              "      <td>0.737022</td>\n",
              "    </tr>\n",
              "    <tr>\n",
              "      <th>f1-score</th>\n",
              "      <td>0.758348</td>\n",
              "      <td>0.707825</td>\n",
              "      <td>0.778535</td>\n",
              "      <td>0.663705</td>\n",
              "      <td>0.702933</td>\n",
              "      <td>1.0</td>\n",
              "      <td>0.722269</td>\n",
              "      <td>0.736629</td>\n",
              "    </tr>\n",
              "    <tr>\n",
              "      <th>support</th>\n",
              "      <td>205.000000</td>\n",
              "      <td>78.000000</td>\n",
              "      <td>343.000000</td>\n",
              "      <td>122.000000</td>\n",
              "      <td>228.000000</td>\n",
              "      <td>1.0</td>\n",
              "      <td>976.000000</td>\n",
              "      <td>976.000000</td>\n",
              "    </tr>\n",
              "  </tbody>\n",
              "</table>\n",
              "</div>\n",
              "      <button class=\"colab-df-convert\" onclick=\"convertToInteractive('df-e915f4ca-c8a2-4e2e-9419-86ac3c7db54e')\"\n",
              "              title=\"Convert this dataframe to an interactive table.\"\n",
              "              style=\"display:none;\">\n",
              "\n",
              "  <svg xmlns=\"http://www.w3.org/2000/svg\" height=\"24px\"viewBox=\"0 0 24 24\"\n",
              "       width=\"24px\">\n",
              "    <path d=\"M0 0h24v24H0V0z\" fill=\"none\"/>\n",
              "    <path d=\"M18.56 5.44l.94 2.06.94-2.06 2.06-.94-2.06-.94-.94-2.06-.94 2.06-2.06.94zm-11 1L8.5 8.5l.94-2.06 2.06-.94-2.06-.94L8.5 2.5l-.94 2.06-2.06.94zm10 10l.94 2.06.94-2.06 2.06-.94-2.06-.94-.94-2.06-.94 2.06-2.06.94z\"/><path d=\"M17.41 7.96l-1.37-1.37c-.4-.4-.92-.59-1.43-.59-.52 0-1.04.2-1.43.59L10.3 9.45l-7.72 7.72c-.78.78-.78 2.05 0 2.83L4 21.41c.39.39.9.59 1.41.59.51 0 1.02-.2 1.41-.59l7.78-7.78 2.81-2.81c.8-.78.8-2.07 0-2.86zM5.41 20L4 18.59l7.72-7.72 1.47 1.35L5.41 20z\"/>\n",
              "  </svg>\n",
              "      </button>\n",
              "\n",
              "\n",
              "\n",
              "    <div id=\"df-85cdd36e-86b5-425b-8d04-2820179e33bb\">\n",
              "      <button class=\"colab-df-quickchart\" onclick=\"quickchart('df-85cdd36e-86b5-425b-8d04-2820179e33bb')\"\n",
              "              title=\"Suggest charts.\"\n",
              "              style=\"display:none;\">\n",
              "\n",
              "<svg xmlns=\"http://www.w3.org/2000/svg\" height=\"24px\"viewBox=\"0 0 24 24\"\n",
              "     width=\"24px\">\n",
              "    <g>\n",
              "        <path d=\"M19 3H5c-1.1 0-2 .9-2 2v14c0 1.1.9 2 2 2h14c1.1 0 2-.9 2-2V5c0-1.1-.9-2-2-2zM9 17H7v-7h2v7zm4 0h-2V7h2v10zm4 0h-2v-4h2v4z\"/>\n",
              "    </g>\n",
              "</svg>\n",
              "      </button>\n",
              "    </div>\n",
              "\n",
              "<style>\n",
              "  .colab-df-quickchart {\n",
              "    background-color: #E8F0FE;\n",
              "    border: none;\n",
              "    border-radius: 50%;\n",
              "    cursor: pointer;\n",
              "    display: none;\n",
              "    fill: #1967D2;\n",
              "    height: 32px;\n",
              "    padding: 0 0 0 0;\n",
              "    width: 32px;\n",
              "  }\n",
              "\n",
              "  .colab-df-quickchart:hover {\n",
              "    background-color: #E2EBFA;\n",
              "    box-shadow: 0px 1px 2px rgba(60, 64, 67, 0.3), 0px 1px 3px 1px rgba(60, 64, 67, 0.15);\n",
              "    fill: #174EA6;\n",
              "  }\n",
              "\n",
              "  [theme=dark] .colab-df-quickchart {\n",
              "    background-color: #3B4455;\n",
              "    fill: #D2E3FC;\n",
              "  }\n",
              "\n",
              "  [theme=dark] .colab-df-quickchart:hover {\n",
              "    background-color: #434B5C;\n",
              "    box-shadow: 0px 1px 3px 1px rgba(0, 0, 0, 0.15);\n",
              "    filter: drop-shadow(0px 1px 2px rgba(0, 0, 0, 0.3));\n",
              "    fill: #FFFFFF;\n",
              "  }\n",
              "</style>\n",
              "\n",
              "    <script>\n",
              "      async function quickchart(key) {\n",
              "        const containerElement = document.querySelector('#' + key);\n",
              "        const charts = await google.colab.kernel.invokeFunction(\n",
              "            'suggestCharts', [key], {});\n",
              "      }\n",
              "    </script>\n",
              "\n",
              "      <script>\n",
              "\n",
              "function displayQuickchartButton(domScope) {\n",
              "  let quickchartButtonEl =\n",
              "    domScope.querySelector('#df-85cdd36e-86b5-425b-8d04-2820179e33bb button.colab-df-quickchart');\n",
              "  quickchartButtonEl.style.display =\n",
              "    google.colab.kernel.accessAllowed ? 'block' : 'none';\n",
              "}\n",
              "\n",
              "        displayQuickchartButton(document);\n",
              "      </script>\n",
              "      <style>\n",
              "    .colab-df-container {\n",
              "      display:flex;\n",
              "      flex-wrap:wrap;\n",
              "      gap: 12px;\n",
              "    }\n",
              "\n",
              "    .colab-df-convert {\n",
              "      background-color: #E8F0FE;\n",
              "      border: none;\n",
              "      border-radius: 50%;\n",
              "      cursor: pointer;\n",
              "      display: none;\n",
              "      fill: #1967D2;\n",
              "      height: 32px;\n",
              "      padding: 0 0 0 0;\n",
              "      width: 32px;\n",
              "    }\n",
              "\n",
              "    .colab-df-convert:hover {\n",
              "      background-color: #E2EBFA;\n",
              "      box-shadow: 0px 1px 2px rgba(60, 64, 67, 0.3), 0px 1px 3px 1px rgba(60, 64, 67, 0.15);\n",
              "      fill: #174EA6;\n",
              "    }\n",
              "\n",
              "    [theme=dark] .colab-df-convert {\n",
              "      background-color: #3B4455;\n",
              "      fill: #D2E3FC;\n",
              "    }\n",
              "\n",
              "    [theme=dark] .colab-df-convert:hover {\n",
              "      background-color: #434B5C;\n",
              "      box-shadow: 0px 1px 3px 1px rgba(0, 0, 0, 0.15);\n",
              "      filter: drop-shadow(0px 1px 2px rgba(0, 0, 0, 0.3));\n",
              "      fill: #FFFFFF;\n",
              "    }\n",
              "  </style>\n",
              "\n",
              "      <script>\n",
              "        const buttonEl =\n",
              "          document.querySelector('#df-e915f4ca-c8a2-4e2e-9419-86ac3c7db54e button.colab-df-convert');\n",
              "        buttonEl.style.display =\n",
              "          google.colab.kernel.accessAllowed ? 'block' : 'none';\n",
              "\n",
              "        async function convertToInteractive(key) {\n",
              "          const element = document.querySelector('#df-e915f4ca-c8a2-4e2e-9419-86ac3c7db54e');\n",
              "          const dataTable =\n",
              "            await google.colab.kernel.invokeFunction('convertToInteractive',\n",
              "                                                     [key], {});\n",
              "          if (!dataTable) return;\n",
              "\n",
              "          const docLinkHtml = 'Like what you see? Visit the ' +\n",
              "            '<a target=\"_blank\" href=https://colab.research.google.com/notebooks/data_table.ipynb>data table notebook</a>'\n",
              "            + ' to learn more about interactive tables.';\n",
              "          element.innerHTML = '';\n",
              "          dataTable['output_type'] = 'display_data';\n",
              "          await google.colab.output.renderOutput(dataTable, element);\n",
              "          const docLink = document.createElement('div');\n",
              "          docLink.innerHTML = docLinkHtml;\n",
              "          element.appendChild(docLink);\n",
              "        }\n",
              "      </script>\n",
              "    </div>\n",
              "  </div>\n"
            ]
          },
          "metadata": {},
          "execution_count": 184
        }
      ],
      "source": [
        "informative_results_df"
      ]
    },
    {
      "cell_type": "code",
      "execution_count": null,
      "metadata": {
        "id": "M_gU0gMPaZRv"
      },
      "outputs": [],
      "source": [
        "informative_results_df.to_csv('/content/drive/My Drive/thesis/informative_averaged_results_multiple_data_splits.csv')"
      ]
    },
    {
      "cell_type": "code",
      "execution_count": null,
      "metadata": {
        "colab": {
          "base_uri": "https://localhost:8080/",
          "height": 598
        },
        "id": "74CM6vD2aaou",
        "outputId": "2208d324-06c0-4f49-e36f-f7e108425bfa"
      },
      "outputs": [
        {
          "output_type": "display_data",
          "data": {
            "text/plain": [
              "<Figure size 800x600 with 2 Axes>"
            ],
            "image/svg+xml": "<?xml version=\"1.0\" encoding=\"utf-8\" standalone=\"no\"?>\n<!DOCTYPE svg PUBLIC \"-//W3C//DTD SVG 1.1//EN\"\n  \"http://www.w3.org/Graphics/SVG/1.1/DTD/svg11.dtd\">\n<svg xmlns:xlink=\"http://www.w3.org/1999/xlink\" width=\"488.193531pt\" height=\"432.930594pt\" viewBox=\"0 0 488.193531 432.930594\" xmlns=\"http://www.w3.org/2000/svg\" version=\"1.1\">\n <metadata>\n  <rdf:RDF xmlns:dc=\"http://purl.org/dc/elements/1.1/\" xmlns:cc=\"http://creativecommons.org/ns#\" xmlns:rdf=\"http://www.w3.org/1999/02/22-rdf-syntax-ns#\">\n   <cc:Work>\n    <dc:type rdf:resource=\"http://purl.org/dc/dcmitype/StillImage\"/>\n    <dc:date>2023-07-18T13:35:05.166796</dc:date>\n    <dc:format>image/svg+xml</dc:format>\n    <dc:creator>\n     <cc:Agent>\n      <dc:title>Matplotlib v3.7.1, https://matplotlib.org/</dc:title>\n     </cc:Agent>\n    </dc:creator>\n   </cc:Work>\n  </rdf:RDF>\n </metadata>\n <defs>\n  <style type=\"text/css\">*{stroke-linejoin: round; stroke-linecap: butt}</style>\n </defs>\n <g id=\"figure_1\">\n  <g id=\"patch_1\">\n   <path d=\"M 0 432.930594 \nL 488.193531 432.930594 \nL 488.193531 0 \nL 0 0 \nz\n\" style=\"fill: #ffffff\"/>\n  </g>\n  <g id=\"axes_1\">\n   <g id=\"patch_2\">\n    <path d=\"M 60.024281 370.970687 \nL 417.144281 370.970687 \nL 417.144281 38.330687 \nL 60.024281 38.330687 \nz\n\" style=\"fill: #eaeaf2\"/>\n   </g>\n   <g id=\"matplotlib.axis_1\">\n    <g id=\"xtick_1\">\n     <g id=\"line2d_1\">\n      <path d=\"M 95.736281 370.970687 \nL 95.736281 38.330687 \n\" clip-path=\"url(#p519148fb40)\" style=\"fill: none; stroke: #ffffff; stroke-linecap: round\"/>\n     </g>\n     <g id=\"text_1\">\n      <!-- Counting and Results -->\n      <g style=\"fill: #262626\" transform=\"translate(31.341594 389.664797) scale(0.121 -0.121)\">\n       <defs>\n        <path id=\"DejaVuSans-43\" d=\"M 4122 4306 \nL 4122 3641 \nQ 3803 3938 3442 4084 \nQ 3081 4231 2675 4231 \nQ 1875 4231 1450 3742 \nQ 1025 3253 1025 2328 \nQ 1025 1406 1450 917 \nQ 1875 428 2675 428 \nQ 3081 428 3442 575 \nQ 3803 722 4122 1019 \nL 4122 359 \nQ 3791 134 3420 21 \nQ 3050 -91 2638 -91 \nQ 1578 -91 968 557 \nQ 359 1206 359 2328 \nQ 359 3453 968 4101 \nQ 1578 4750 2638 4750 \nQ 3056 4750 3426 4639 \nQ 3797 4528 4122 4306 \nz\n\" transform=\"scale(0.015625)\"/>\n        <path id=\"DejaVuSans-6f\" d=\"M 1959 3097 \nQ 1497 3097 1228 2736 \nQ 959 2375 959 1747 \nQ 959 1119 1226 758 \nQ 1494 397 1959 397 \nQ 2419 397 2687 759 \nQ 2956 1122 2956 1747 \nQ 2956 2369 2687 2733 \nQ 2419 3097 1959 3097 \nz\nM 1959 3584 \nQ 2709 3584 3137 3096 \nQ 3566 2609 3566 1747 \nQ 3566 888 3137 398 \nQ 2709 -91 1959 -91 \nQ 1206 -91 779 398 \nQ 353 888 353 1747 \nQ 353 2609 779 3096 \nQ 1206 3584 1959 3584 \nz\n\" transform=\"scale(0.015625)\"/>\n        <path id=\"DejaVuSans-75\" d=\"M 544 1381 \nL 544 3500 \nL 1119 3500 \nL 1119 1403 \nQ 1119 906 1312 657 \nQ 1506 409 1894 409 \nQ 2359 409 2629 706 \nQ 2900 1003 2900 1516 \nL 2900 3500 \nL 3475 3500 \nL 3475 0 \nL 2900 0 \nL 2900 538 \nQ 2691 219 2414 64 \nQ 2138 -91 1772 -91 \nQ 1169 -91 856 284 \nQ 544 659 544 1381 \nz\nM 1991 3584 \nL 1991 3584 \nz\n\" transform=\"scale(0.015625)\"/>\n        <path id=\"DejaVuSans-6e\" d=\"M 3513 2113 \nL 3513 0 \nL 2938 0 \nL 2938 2094 \nQ 2938 2591 2744 2837 \nQ 2550 3084 2163 3084 \nQ 1697 3084 1428 2787 \nQ 1159 2491 1159 1978 \nL 1159 0 \nL 581 0 \nL 581 3500 \nL 1159 3500 \nL 1159 2956 \nQ 1366 3272 1645 3428 \nQ 1925 3584 2291 3584 \nQ 2894 3584 3203 3211 \nQ 3513 2838 3513 2113 \nz\n\" transform=\"scale(0.015625)\"/>\n        <path id=\"DejaVuSans-74\" d=\"M 1172 4494 \nL 1172 3500 \nL 2356 3500 \nL 2356 3053 \nL 1172 3053 \nL 1172 1153 \nQ 1172 725 1289 603 \nQ 1406 481 1766 481 \nL 2356 481 \nL 2356 0 \nL 1766 0 \nQ 1100 0 847 248 \nQ 594 497 594 1153 \nL 594 3053 \nL 172 3053 \nL 172 3500 \nL 594 3500 \nL 594 4494 \nL 1172 4494 \nz\n\" transform=\"scale(0.015625)\"/>\n        <path id=\"DejaVuSans-69\" d=\"M 603 3500 \nL 1178 3500 \nL 1178 0 \nL 603 0 \nL 603 3500 \nz\nM 603 4863 \nL 1178 4863 \nL 1178 4134 \nL 603 4134 \nL 603 4863 \nz\n\" transform=\"scale(0.015625)\"/>\n        <path id=\"DejaVuSans-67\" d=\"M 2906 1791 \nQ 2906 2416 2648 2759 \nQ 2391 3103 1925 3103 \nQ 1463 3103 1205 2759 \nQ 947 2416 947 1791 \nQ 947 1169 1205 825 \nQ 1463 481 1925 481 \nQ 2391 481 2648 825 \nQ 2906 1169 2906 1791 \nz\nM 3481 434 \nQ 3481 -459 3084 -895 \nQ 2688 -1331 1869 -1331 \nQ 1566 -1331 1297 -1286 \nQ 1028 -1241 775 -1147 \nL 775 -588 \nQ 1028 -725 1275 -790 \nQ 1522 -856 1778 -856 \nQ 2344 -856 2625 -561 \nQ 2906 -266 2906 331 \nL 2906 616 \nQ 2728 306 2450 153 \nQ 2172 0 1784 0 \nQ 1141 0 747 490 \nQ 353 981 353 1791 \nQ 353 2603 747 3093 \nQ 1141 3584 1784 3584 \nQ 2172 3584 2450 3431 \nQ 2728 3278 2906 2969 \nL 2906 3500 \nL 3481 3500 \nL 3481 434 \nz\n\" transform=\"scale(0.015625)\"/>\n        <path id=\"DejaVuSans-20\" transform=\"scale(0.015625)\"/>\n        <path id=\"DejaVuSans-61\" d=\"M 2194 1759 \nQ 1497 1759 1228 1600 \nQ 959 1441 959 1056 \nQ 959 750 1161 570 \nQ 1363 391 1709 391 \nQ 2188 391 2477 730 \nQ 2766 1069 2766 1631 \nL 2766 1759 \nL 2194 1759 \nz\nM 3341 1997 \nL 3341 0 \nL 2766 0 \nL 2766 531 \nQ 2569 213 2275 61 \nQ 1981 -91 1556 -91 \nQ 1019 -91 701 211 \nQ 384 513 384 1019 \nQ 384 1609 779 1909 \nQ 1175 2209 1959 2209 \nL 2766 2209 \nL 2766 2266 \nQ 2766 2663 2505 2880 \nQ 2244 3097 1772 3097 \nQ 1472 3097 1187 3025 \nQ 903 2953 641 2809 \nL 641 3341 \nQ 956 3463 1253 3523 \nQ 1550 3584 1831 3584 \nQ 2591 3584 2966 3190 \nQ 3341 2797 3341 1997 \nz\n\" transform=\"scale(0.015625)\"/>\n        <path id=\"DejaVuSans-64\" d=\"M 2906 2969 \nL 2906 4863 \nL 3481 4863 \nL 3481 0 \nL 2906 0 \nL 2906 525 \nQ 2725 213 2448 61 \nQ 2172 -91 1784 -91 \nQ 1150 -91 751 415 \nQ 353 922 353 1747 \nQ 353 2572 751 3078 \nQ 1150 3584 1784 3584 \nQ 2172 3584 2448 3432 \nQ 2725 3281 2906 2969 \nz\nM 947 1747 \nQ 947 1113 1208 752 \nQ 1469 391 1925 391 \nQ 2381 391 2643 752 \nQ 2906 1113 2906 1747 \nQ 2906 2381 2643 2742 \nQ 2381 3103 1925 3103 \nQ 1469 3103 1208 2742 \nQ 947 2381 947 1747 \nz\n\" transform=\"scale(0.015625)\"/>\n        <path id=\"DejaVuSans-52\" d=\"M 2841 2188 \nQ 3044 2119 3236 1894 \nQ 3428 1669 3622 1275 \nL 4263 0 \nL 3584 0 \nL 2988 1197 \nQ 2756 1666 2539 1819 \nQ 2322 1972 1947 1972 \nL 1259 1972 \nL 1259 0 \nL 628 0 \nL 628 4666 \nL 2053 4666 \nQ 2853 4666 3247 4331 \nQ 3641 3997 3641 3322 \nQ 3641 2881 3436 2590 \nQ 3231 2300 2841 2188 \nz\nM 1259 4147 \nL 1259 2491 \nL 2053 2491 \nQ 2509 2491 2742 2702 \nQ 2975 2913 2975 3322 \nQ 2975 3731 2742 3939 \nQ 2509 4147 2053 4147 \nL 1259 4147 \nz\n\" transform=\"scale(0.015625)\"/>\n        <path id=\"DejaVuSans-65\" d=\"M 3597 1894 \nL 3597 1613 \nL 953 1613 \nQ 991 1019 1311 708 \nQ 1631 397 2203 397 \nQ 2534 397 2845 478 \nQ 3156 559 3463 722 \nL 3463 178 \nQ 3153 47 2828 -22 \nQ 2503 -91 2169 -91 \nQ 1331 -91 842 396 \nQ 353 884 353 1716 \nQ 353 2575 817 3079 \nQ 1281 3584 2069 3584 \nQ 2775 3584 3186 3129 \nQ 3597 2675 3597 1894 \nz\nM 3022 2063 \nQ 3016 2534 2758 2815 \nQ 2500 3097 2075 3097 \nQ 1594 3097 1305 2825 \nQ 1016 2553 972 2059 \nL 3022 2063 \nz\n\" transform=\"scale(0.015625)\"/>\n        <path id=\"DejaVuSans-73\" d=\"M 2834 3397 \nL 2834 2853 \nQ 2591 2978 2328 3040 \nQ 2066 3103 1784 3103 \nQ 1356 3103 1142 2972 \nQ 928 2841 928 2578 \nQ 928 2378 1081 2264 \nQ 1234 2150 1697 2047 \nL 1894 2003 \nQ 2506 1872 2764 1633 \nQ 3022 1394 3022 966 \nQ 3022 478 2636 193 \nQ 2250 -91 1575 -91 \nQ 1294 -91 989 -36 \nQ 684 19 347 128 \nL 347 722 \nQ 666 556 975 473 \nQ 1284 391 1588 391 \nQ 1994 391 2212 530 \nQ 2431 669 2431 922 \nQ 2431 1156 2273 1281 \nQ 2116 1406 1581 1522 \nL 1381 1569 \nQ 847 1681 609 1914 \nQ 372 2147 372 2553 \nQ 372 3047 722 3315 \nQ 1072 3584 1716 3584 \nQ 2034 3584 2315 3537 \nQ 2597 3491 2834 3397 \nz\n\" transform=\"scale(0.015625)\"/>\n        <path id=\"DejaVuSans-6c\" d=\"M 603 4863 \nL 1178 4863 \nL 1178 0 \nL 603 0 \nL 603 4863 \nz\n\" transform=\"scale(0.015625)\"/>\n       </defs>\n       <use xlink:href=\"#DejaVuSans-43\"/>\n       <use xlink:href=\"#DejaVuSans-6f\" x=\"69.824219\"/>\n       <use xlink:href=\"#DejaVuSans-75\" x=\"131.005859\"/>\n       <use xlink:href=\"#DejaVuSans-6e\" x=\"194.384766\"/>\n       <use xlink:href=\"#DejaVuSans-74\" x=\"257.763672\"/>\n       <use xlink:href=\"#DejaVuSans-69\" x=\"296.972656\"/>\n       <use xlink:href=\"#DejaVuSans-6e\" x=\"324.755859\"/>\n       <use xlink:href=\"#DejaVuSans-67\" x=\"388.134766\"/>\n       <use xlink:href=\"#DejaVuSans-20\" x=\"451.611328\"/>\n       <use xlink:href=\"#DejaVuSans-61\" x=\"483.398438\"/>\n       <use xlink:href=\"#DejaVuSans-6e\" x=\"544.677734\"/>\n       <use xlink:href=\"#DejaVuSans-64\" x=\"608.056641\"/>\n       <use xlink:href=\"#DejaVuSans-20\" x=\"671.533203\"/>\n       <use xlink:href=\"#DejaVuSans-52\" x=\"703.320312\"/>\n       <use xlink:href=\"#DejaVuSans-65\" x=\"768.302734\"/>\n       <use xlink:href=\"#DejaVuSans-73\" x=\"829.826172\"/>\n       <use xlink:href=\"#DejaVuSans-75\" x=\"881.925781\"/>\n       <use xlink:href=\"#DejaVuSans-6c\" x=\"945.304688\"/>\n       <use xlink:href=\"#DejaVuSans-74\" x=\"973.087891\"/>\n       <use xlink:href=\"#DejaVuSans-73\" x=\"1012.296875\"/>\n      </g>\n     </g>\n    </g>\n    <g id=\"xtick_2\">\n     <g id=\"line2d_2\">\n      <path d=\"M 167.160281 370.970687 \nL 167.160281 38.330687 \n\" clip-path=\"url(#p519148fb40)\" style=\"fill: none; stroke: #ffffff; stroke-linecap: round\"/>\n     </g>\n     <g id=\"text_2\">\n      <!-- Political Rallies -->\n      <g style=\"fill: #262626\" transform=\"translate(122.286297 389.664797) scale(0.121 -0.121)\">\n       <defs>\n        <path id=\"DejaVuSans-50\" d=\"M 1259 4147 \nL 1259 2394 \nL 2053 2394 \nQ 2494 2394 2734 2622 \nQ 2975 2850 2975 3272 \nQ 2975 3691 2734 3919 \nQ 2494 4147 2053 4147 \nL 1259 4147 \nz\nM 628 4666 \nL 2053 4666 \nQ 2838 4666 3239 4311 \nQ 3641 3956 3641 3272 \nQ 3641 2581 3239 2228 \nQ 2838 1875 2053 1875 \nL 1259 1875 \nL 1259 0 \nL 628 0 \nL 628 4666 \nz\n\" transform=\"scale(0.015625)\"/>\n        <path id=\"DejaVuSans-63\" d=\"M 3122 3366 \nL 3122 2828 \nQ 2878 2963 2633 3030 \nQ 2388 3097 2138 3097 \nQ 1578 3097 1268 2742 \nQ 959 2388 959 1747 \nQ 959 1106 1268 751 \nQ 1578 397 2138 397 \nQ 2388 397 2633 464 \nQ 2878 531 3122 666 \nL 3122 134 \nQ 2881 22 2623 -34 \nQ 2366 -91 2075 -91 \nQ 1284 -91 818 406 \nQ 353 903 353 1747 \nQ 353 2603 823 3093 \nQ 1294 3584 2113 3584 \nQ 2378 3584 2631 3529 \nQ 2884 3475 3122 3366 \nz\n\" transform=\"scale(0.015625)\"/>\n       </defs>\n       <use xlink:href=\"#DejaVuSans-50\"/>\n       <use xlink:href=\"#DejaVuSans-6f\" x=\"56.677734\"/>\n       <use xlink:href=\"#DejaVuSans-6c\" x=\"117.859375\"/>\n       <use xlink:href=\"#DejaVuSans-69\" x=\"145.642578\"/>\n       <use xlink:href=\"#DejaVuSans-74\" x=\"173.425781\"/>\n       <use xlink:href=\"#DejaVuSans-69\" x=\"212.634766\"/>\n       <use xlink:href=\"#DejaVuSans-63\" x=\"240.417969\"/>\n       <use xlink:href=\"#DejaVuSans-61\" x=\"295.398438\"/>\n       <use xlink:href=\"#DejaVuSans-6c\" x=\"356.677734\"/>\n       <use xlink:href=\"#DejaVuSans-20\" x=\"384.460938\"/>\n       <use xlink:href=\"#DejaVuSans-52\" x=\"416.248047\"/>\n       <use xlink:href=\"#DejaVuSans-61\" x=\"483.480469\"/>\n       <use xlink:href=\"#DejaVuSans-6c\" x=\"544.759766\"/>\n       <use xlink:href=\"#DejaVuSans-6c\" x=\"572.542969\"/>\n       <use xlink:href=\"#DejaVuSans-69\" x=\"600.326172\"/>\n       <use xlink:href=\"#DejaVuSans-65\" x=\"628.109375\"/>\n       <use xlink:href=\"#DejaVuSans-73\" x=\"689.632812\"/>\n      </g>\n     </g>\n    </g>\n    <g id=\"xtick_3\">\n     <g id=\"line2d_3\">\n      <path d=\"M 238.584281 370.970687 \nL 238.584281 38.330687 \n\" clip-path=\"url(#p519148fb40)\" style=\"fill: none; stroke: #ffffff; stroke-linecap: round\"/>\n     </g>\n     <g id=\"text_3\">\n      <!-- Positive Events -->\n      <g style=\"fill: #262626\" transform=\"translate(192.85857 389.664797) scale(0.121 -0.121)\">\n       <defs>\n        <path id=\"DejaVuSans-76\" d=\"M 191 3500 \nL 800 3500 \nL 1894 563 \nL 2988 3500 \nL 3597 3500 \nL 2284 0 \nL 1503 0 \nL 191 3500 \nz\n\" transform=\"scale(0.015625)\"/>\n        <path id=\"DejaVuSans-45\" d=\"M 628 4666 \nL 3578 4666 \nL 3578 4134 \nL 1259 4134 \nL 1259 2753 \nL 3481 2753 \nL 3481 2222 \nL 1259 2222 \nL 1259 531 \nL 3634 531 \nL 3634 0 \nL 628 0 \nL 628 4666 \nz\n\" transform=\"scale(0.015625)\"/>\n       </defs>\n       <use xlink:href=\"#DejaVuSans-50\"/>\n       <use xlink:href=\"#DejaVuSans-6f\" x=\"56.677734\"/>\n       <use xlink:href=\"#DejaVuSans-73\" x=\"117.859375\"/>\n       <use xlink:href=\"#DejaVuSans-69\" x=\"169.958984\"/>\n       <use xlink:href=\"#DejaVuSans-74\" x=\"197.742188\"/>\n       <use xlink:href=\"#DejaVuSans-69\" x=\"236.951172\"/>\n       <use xlink:href=\"#DejaVuSans-76\" x=\"264.734375\"/>\n       <use xlink:href=\"#DejaVuSans-65\" x=\"323.914062\"/>\n       <use xlink:href=\"#DejaVuSans-20\" x=\"385.4375\"/>\n       <use xlink:href=\"#DejaVuSans-45\" x=\"417.224609\"/>\n       <use xlink:href=\"#DejaVuSans-76\" x=\"480.408203\"/>\n       <use xlink:href=\"#DejaVuSans-65\" x=\"539.587891\"/>\n       <use xlink:href=\"#DejaVuSans-6e\" x=\"601.111328\"/>\n       <use xlink:href=\"#DejaVuSans-74\" x=\"664.490234\"/>\n       <use xlink:href=\"#DejaVuSans-73\" x=\"703.699219\"/>\n      </g>\n     </g>\n    </g>\n    <g id=\"xtick_4\">\n     <g id=\"line2d_4\">\n      <path d=\"M 310.008281 370.970687 \nL 310.008281 38.330687 \n\" clip-path=\"url(#p519148fb40)\" style=\"fill: none; stroke: #ffffff; stroke-linecap: round\"/>\n     </g>\n     <g id=\"text_4\">\n      <!-- Security Issues -->\n      <g style=\"fill: #262626\" transform=\"translate(264.444219 389.664797) scale(0.121 -0.121)\">\n       <defs>\n        <path id=\"DejaVuSans-53\" d=\"M 3425 4513 \nL 3425 3897 \nQ 3066 4069 2747 4153 \nQ 2428 4238 2131 4238 \nQ 1616 4238 1336 4038 \nQ 1056 3838 1056 3469 \nQ 1056 3159 1242 3001 \nQ 1428 2844 1947 2747 \nL 2328 2669 \nQ 3034 2534 3370 2195 \nQ 3706 1856 3706 1288 \nQ 3706 609 3251 259 \nQ 2797 -91 1919 -91 \nQ 1588 -91 1214 -16 \nQ 841 59 441 206 \nL 441 856 \nQ 825 641 1194 531 \nQ 1563 422 1919 422 \nQ 2459 422 2753 634 \nQ 3047 847 3047 1241 \nQ 3047 1584 2836 1778 \nQ 2625 1972 2144 2069 \nL 1759 2144 \nQ 1053 2284 737 2584 \nQ 422 2884 422 3419 \nQ 422 4038 858 4394 \nQ 1294 4750 2059 4750 \nQ 2388 4750 2728 4690 \nQ 3069 4631 3425 4513 \nz\n\" transform=\"scale(0.015625)\"/>\n        <path id=\"DejaVuSans-72\" d=\"M 2631 2963 \nQ 2534 3019 2420 3045 \nQ 2306 3072 2169 3072 \nQ 1681 3072 1420 2755 \nQ 1159 2438 1159 1844 \nL 1159 0 \nL 581 0 \nL 581 3500 \nL 1159 3500 \nL 1159 2956 \nQ 1341 3275 1631 3429 \nQ 1922 3584 2338 3584 \nQ 2397 3584 2469 3576 \nQ 2541 3569 2628 3553 \nL 2631 2963 \nz\n\" transform=\"scale(0.015625)\"/>\n        <path id=\"DejaVuSans-79\" d=\"M 2059 -325 \nQ 1816 -950 1584 -1140 \nQ 1353 -1331 966 -1331 \nL 506 -1331 \nL 506 -850 \nL 844 -850 \nQ 1081 -850 1212 -737 \nQ 1344 -625 1503 -206 \nL 1606 56 \nL 191 3500 \nL 800 3500 \nL 1894 763 \nL 2988 3500 \nL 3597 3500 \nL 2059 -325 \nz\n\" transform=\"scale(0.015625)\"/>\n        <path id=\"DejaVuSans-49\" d=\"M 628 4666 \nL 1259 4666 \nL 1259 0 \nL 628 0 \nL 628 4666 \nz\n\" transform=\"scale(0.015625)\"/>\n       </defs>\n       <use xlink:href=\"#DejaVuSans-53\"/>\n       <use xlink:href=\"#DejaVuSans-65\" x=\"63.476562\"/>\n       <use xlink:href=\"#DejaVuSans-63\" x=\"125\"/>\n       <use xlink:href=\"#DejaVuSans-75\" x=\"179.980469\"/>\n       <use xlink:href=\"#DejaVuSans-72\" x=\"243.359375\"/>\n       <use xlink:href=\"#DejaVuSans-69\" x=\"284.472656\"/>\n       <use xlink:href=\"#DejaVuSans-74\" x=\"312.255859\"/>\n       <use xlink:href=\"#DejaVuSans-79\" x=\"351.464844\"/>\n       <use xlink:href=\"#DejaVuSans-20\" x=\"410.644531\"/>\n       <use xlink:href=\"#DejaVuSans-49\" x=\"442.431641\"/>\n       <use xlink:href=\"#DejaVuSans-73\" x=\"471.923828\"/>\n       <use xlink:href=\"#DejaVuSans-73\" x=\"524.023438\"/>\n       <use xlink:href=\"#DejaVuSans-75\" x=\"576.123047\"/>\n       <use xlink:href=\"#DejaVuSans-65\" x=\"639.501953\"/>\n       <use xlink:href=\"#DejaVuSans-73\" x=\"701.025391\"/>\n      </g>\n     </g>\n    </g>\n    <g id=\"xtick_5\">\n     <g id=\"line2d_5\">\n      <path d=\"M 381.432281 370.970687 \nL 381.432281 38.330687 \n\" clip-path=\"url(#p519148fb40)\" style=\"fill: none; stroke: #ffffff; stroke-linecap: round\"/>\n     </g>\n     <g id=\"text_5\">\n      <!-- Voting Issues -->\n      <g style=\"fill: #262626\" transform=\"translate(341.613828 389.664797) scale(0.121 -0.121)\">\n       <defs>\n        <path id=\"DejaVuSans-56\" d=\"M 1831 0 \nL 50 4666 \nL 709 4666 \nL 2188 738 \nL 3669 4666 \nL 4325 4666 \nL 2547 0 \nL 1831 0 \nz\n\" transform=\"scale(0.015625)\"/>\n       </defs>\n       <use xlink:href=\"#DejaVuSans-56\"/>\n       <use xlink:href=\"#DejaVuSans-6f\" x=\"60.658203\"/>\n       <use xlink:href=\"#DejaVuSans-74\" x=\"121.839844\"/>\n       <use xlink:href=\"#DejaVuSans-69\" x=\"161.048828\"/>\n       <use xlink:href=\"#DejaVuSans-6e\" x=\"188.832031\"/>\n       <use xlink:href=\"#DejaVuSans-67\" x=\"252.210938\"/>\n       <use xlink:href=\"#DejaVuSans-20\" x=\"315.6875\"/>\n       <use xlink:href=\"#DejaVuSans-49\" x=\"347.474609\"/>\n       <use xlink:href=\"#DejaVuSans-73\" x=\"376.966797\"/>\n       <use xlink:href=\"#DejaVuSans-73\" x=\"429.066406\"/>\n       <use xlink:href=\"#DejaVuSans-75\" x=\"481.166016\"/>\n       <use xlink:href=\"#DejaVuSans-65\" x=\"544.544922\"/>\n       <use xlink:href=\"#DejaVuSans-73\" x=\"606.068359\"/>\n      </g>\n     </g>\n    </g>\n    <g id=\"text_6\">\n     <!-- Predicted Label -->\n     <g style=\"fill: #262626\" transform=\"translate(184.615375 422.819031) scale(0.14 -0.14)\">\n      <defs>\n       <path id=\"DejaVuSans-4c\" d=\"M 628 4666 \nL 1259 4666 \nL 1259 531 \nL 3531 531 \nL 3531 0 \nL 628 0 \nL 628 4666 \nz\n\" transform=\"scale(0.015625)\"/>\n       <path id=\"DejaVuSans-62\" d=\"M 3116 1747 \nQ 3116 2381 2855 2742 \nQ 2594 3103 2138 3103 \nQ 1681 3103 1420 2742 \nQ 1159 2381 1159 1747 \nQ 1159 1113 1420 752 \nQ 1681 391 2138 391 \nQ 2594 391 2855 752 \nQ 3116 1113 3116 1747 \nz\nM 1159 2969 \nQ 1341 3281 1617 3432 \nQ 1894 3584 2278 3584 \nQ 2916 3584 3314 3078 \nQ 3713 2572 3713 1747 \nQ 3713 922 3314 415 \nQ 2916 -91 2278 -91 \nQ 1894 -91 1617 61 \nQ 1341 213 1159 525 \nL 1159 0 \nL 581 0 \nL 581 4863 \nL 1159 4863 \nL 1159 2969 \nz\n\" transform=\"scale(0.015625)\"/>\n      </defs>\n      <use xlink:href=\"#DejaVuSans-50\"/>\n      <use xlink:href=\"#DejaVuSans-72\" x=\"58.552734\"/>\n      <use xlink:href=\"#DejaVuSans-65\" x=\"97.416016\"/>\n      <use xlink:href=\"#DejaVuSans-64\" x=\"158.939453\"/>\n      <use xlink:href=\"#DejaVuSans-69\" x=\"222.416016\"/>\n      <use xlink:href=\"#DejaVuSans-63\" x=\"250.199219\"/>\n      <use xlink:href=\"#DejaVuSans-74\" x=\"305.179688\"/>\n      <use xlink:href=\"#DejaVuSans-65\" x=\"344.388672\"/>\n      <use xlink:href=\"#DejaVuSans-64\" x=\"405.912109\"/>\n      <use xlink:href=\"#DejaVuSans-20\" x=\"469.388672\"/>\n      <use xlink:href=\"#DejaVuSans-4c\" x=\"501.175781\"/>\n      <use xlink:href=\"#DejaVuSans-61\" x=\"556.888672\"/>\n      <use xlink:href=\"#DejaVuSans-62\" x=\"618.167969\"/>\n      <use xlink:href=\"#DejaVuSans-65\" x=\"681.644531\"/>\n      <use xlink:href=\"#DejaVuSans-6c\" x=\"743.167969\"/>\n     </g>\n    </g>\n   </g>\n   <g id=\"matplotlib.axis_2\">\n    <g id=\"ytick_1\">\n     <g id=\"line2d_6\">\n      <path d=\"M 60.024281 71.594687 \nL 417.144281 71.594687 \n\" clip-path=\"url(#p519148fb40)\" style=\"fill: none; stroke: #ffffff; stroke-linecap: round\"/>\n     </g>\n     <g id=\"text_7\">\n      <!-- Counting and Results -->\n      <g style=\"fill: #262626\" transform=\"translate(48.007859 135.989375) rotate(-90) scale(0.121 -0.121)\">\n       <use xlink:href=\"#DejaVuSans-43\"/>\n       <use xlink:href=\"#DejaVuSans-6f\" x=\"69.824219\"/>\n       <use xlink:href=\"#DejaVuSans-75\" x=\"131.005859\"/>\n       <use xlink:href=\"#DejaVuSans-6e\" x=\"194.384766\"/>\n       <use xlink:href=\"#DejaVuSans-74\" x=\"257.763672\"/>\n       <use xlink:href=\"#DejaVuSans-69\" x=\"296.972656\"/>\n       <use xlink:href=\"#DejaVuSans-6e\" x=\"324.755859\"/>\n       <use xlink:href=\"#DejaVuSans-67\" x=\"388.134766\"/>\n       <use xlink:href=\"#DejaVuSans-20\" x=\"451.611328\"/>\n       <use xlink:href=\"#DejaVuSans-61\" x=\"483.398438\"/>\n       <use xlink:href=\"#DejaVuSans-6e\" x=\"544.677734\"/>\n       <use xlink:href=\"#DejaVuSans-64\" x=\"608.056641\"/>\n       <use xlink:href=\"#DejaVuSans-20\" x=\"671.533203\"/>\n       <use xlink:href=\"#DejaVuSans-52\" x=\"703.320312\"/>\n       <use xlink:href=\"#DejaVuSans-65\" x=\"768.302734\"/>\n       <use xlink:href=\"#DejaVuSans-73\" x=\"829.826172\"/>\n       <use xlink:href=\"#DejaVuSans-75\" x=\"881.925781\"/>\n       <use xlink:href=\"#DejaVuSans-6c\" x=\"945.304688\"/>\n       <use xlink:href=\"#DejaVuSans-74\" x=\"973.087891\"/>\n       <use xlink:href=\"#DejaVuSans-73\" x=\"1012.296875\"/>\n      </g>\n     </g>\n    </g>\n    <g id=\"ytick_2\">\n     <g id=\"line2d_7\">\n      <path d=\"M 60.024281 138.122687 \nL 417.144281 138.122687 \n\" clip-path=\"url(#p519148fb40)\" style=\"fill: none; stroke: #ffffff; stroke-linecap: round\"/>\n     </g>\n     <g id=\"text_8\">\n      <!-- Political Rallies -->\n      <g style=\"fill: #262626\" transform=\"translate(48.007859 182.996672) rotate(-90) scale(0.121 -0.121)\">\n       <use xlink:href=\"#DejaVuSans-50\"/>\n       <use xlink:href=\"#DejaVuSans-6f\" x=\"56.677734\"/>\n       <use xlink:href=\"#DejaVuSans-6c\" x=\"117.859375\"/>\n       <use xlink:href=\"#DejaVuSans-69\" x=\"145.642578\"/>\n       <use xlink:href=\"#DejaVuSans-74\" x=\"173.425781\"/>\n       <use xlink:href=\"#DejaVuSans-69\" x=\"212.634766\"/>\n       <use xlink:href=\"#DejaVuSans-63\" x=\"240.417969\"/>\n       <use xlink:href=\"#DejaVuSans-61\" x=\"295.398438\"/>\n       <use xlink:href=\"#DejaVuSans-6c\" x=\"356.677734\"/>\n       <use xlink:href=\"#DejaVuSans-20\" x=\"384.460938\"/>\n       <use xlink:href=\"#DejaVuSans-52\" x=\"416.248047\"/>\n       <use xlink:href=\"#DejaVuSans-61\" x=\"483.480469\"/>\n       <use xlink:href=\"#DejaVuSans-6c\" x=\"544.759766\"/>\n       <use xlink:href=\"#DejaVuSans-6c\" x=\"572.542969\"/>\n       <use xlink:href=\"#DejaVuSans-69\" x=\"600.326172\"/>\n       <use xlink:href=\"#DejaVuSans-65\" x=\"628.109375\"/>\n       <use xlink:href=\"#DejaVuSans-73\" x=\"689.632812\"/>\n      </g>\n     </g>\n    </g>\n    <g id=\"ytick_3\">\n     <g id=\"line2d_8\">\n      <path d=\"M 60.024281 204.650687 \nL 417.144281 204.650687 \n\" clip-path=\"url(#p519148fb40)\" style=\"fill: none; stroke: #ffffff; stroke-linecap: round\"/>\n     </g>\n     <g id=\"text_9\">\n      <!-- Positive Events -->\n      <g style=\"fill: #262626\" transform=\"translate(48.007859 250.376398) rotate(-90) scale(0.121 -0.121)\">\n       <use xlink:href=\"#DejaVuSans-50\"/>\n       <use xlink:href=\"#DejaVuSans-6f\" x=\"56.677734\"/>\n       <use xlink:href=\"#DejaVuSans-73\" x=\"117.859375\"/>\n       <use xlink:href=\"#DejaVuSans-69\" x=\"169.958984\"/>\n       <use xlink:href=\"#DejaVuSans-74\" x=\"197.742188\"/>\n       <use xlink:href=\"#DejaVuSans-69\" x=\"236.951172\"/>\n       <use xlink:href=\"#DejaVuSans-76\" x=\"264.734375\"/>\n       <use xlink:href=\"#DejaVuSans-65\" x=\"323.914062\"/>\n       <use xlink:href=\"#DejaVuSans-20\" x=\"385.4375\"/>\n       <use xlink:href=\"#DejaVuSans-45\" x=\"417.224609\"/>\n       <use xlink:href=\"#DejaVuSans-76\" x=\"480.408203\"/>\n       <use xlink:href=\"#DejaVuSans-65\" x=\"539.587891\"/>\n       <use xlink:href=\"#DejaVuSans-6e\" x=\"601.111328\"/>\n       <use xlink:href=\"#DejaVuSans-74\" x=\"664.490234\"/>\n       <use xlink:href=\"#DejaVuSans-73\" x=\"703.699219\"/>\n      </g>\n     </g>\n    </g>\n    <g id=\"ytick_4\">\n     <g id=\"line2d_9\">\n      <path d=\"M 60.024281 271.178687 \nL 417.144281 271.178687 \n\" clip-path=\"url(#p519148fb40)\" style=\"fill: none; stroke: #ffffff; stroke-linecap: round\"/>\n     </g>\n     <g id=\"text_10\">\n      <!-- Security Issues -->\n      <g style=\"fill: #262626\" transform=\"translate(48.007859 316.74275) rotate(-90) scale(0.121 -0.121)\">\n       <use xlink:href=\"#DejaVuSans-53\"/>\n       <use xlink:href=\"#DejaVuSans-65\" x=\"63.476562\"/>\n       <use xlink:href=\"#DejaVuSans-63\" x=\"125\"/>\n       <use xlink:href=\"#DejaVuSans-75\" x=\"179.980469\"/>\n       <use xlink:href=\"#DejaVuSans-72\" x=\"243.359375\"/>\n       <use xlink:href=\"#DejaVuSans-69\" x=\"284.472656\"/>\n       <use xlink:href=\"#DejaVuSans-74\" x=\"312.255859\"/>\n       <use xlink:href=\"#DejaVuSans-79\" x=\"351.464844\"/>\n       <use xlink:href=\"#DejaVuSans-20\" x=\"410.644531\"/>\n       <use xlink:href=\"#DejaVuSans-49\" x=\"442.431641\"/>\n       <use xlink:href=\"#DejaVuSans-73\" x=\"471.923828\"/>\n       <use xlink:href=\"#DejaVuSans-73\" x=\"524.023438\"/>\n       <use xlink:href=\"#DejaVuSans-75\" x=\"576.123047\"/>\n       <use xlink:href=\"#DejaVuSans-65\" x=\"639.501953\"/>\n       <use xlink:href=\"#DejaVuSans-73\" x=\"701.025391\"/>\n      </g>\n     </g>\n    </g>\n    <g id=\"ytick_5\">\n     <g id=\"line2d_10\">\n      <path d=\"M 60.024281 337.706687 \nL 417.144281 337.706687 \n\" clip-path=\"url(#p519148fb40)\" style=\"fill: none; stroke: #ffffff; stroke-linecap: round\"/>\n     </g>\n     <g id=\"text_11\">\n      <!-- Voting Issues -->\n      <g style=\"fill: #262626\" transform=\"translate(48.007859 377.525141) rotate(-90) scale(0.121 -0.121)\">\n       <use xlink:href=\"#DejaVuSans-56\"/>\n       <use xlink:href=\"#DejaVuSans-6f\" x=\"60.658203\"/>\n       <use xlink:href=\"#DejaVuSans-74\" x=\"121.839844\"/>\n       <use xlink:href=\"#DejaVuSans-69\" x=\"161.048828\"/>\n       <use xlink:href=\"#DejaVuSans-6e\" x=\"188.832031\"/>\n       <use xlink:href=\"#DejaVuSans-67\" x=\"252.210938\"/>\n       <use xlink:href=\"#DejaVuSans-20\" x=\"315.6875\"/>\n       <use xlink:href=\"#DejaVuSans-49\" x=\"347.474609\"/>\n       <use xlink:href=\"#DejaVuSans-73\" x=\"376.966797\"/>\n       <use xlink:href=\"#DejaVuSans-73\" x=\"429.066406\"/>\n       <use xlink:href=\"#DejaVuSans-75\" x=\"481.166016\"/>\n       <use xlink:href=\"#DejaVuSans-65\" x=\"544.544922\"/>\n       <use xlink:href=\"#DejaVuSans-73\" x=\"606.068359\"/>\n      </g>\n     </g>\n    </g>\n    <g id=\"text_12\">\n     <!-- Gold Label -->\n     <g style=\"fill: #262626\" transform=\"translate(16.318125 236.541625) rotate(-90) scale(0.12 -0.12)\">\n      <defs>\n       <path id=\"DejaVuSans-47\" d=\"M 3809 666 \nL 3809 1919 \nL 2778 1919 \nL 2778 2438 \nL 4434 2438 \nL 4434 434 \nQ 4069 175 3628 42 \nQ 3188 -91 2688 -91 \nQ 1594 -91 976 548 \nQ 359 1188 359 2328 \nQ 359 3472 976 4111 \nQ 1594 4750 2688 4750 \nQ 3144 4750 3555 4637 \nQ 3966 4525 4313 4306 \nL 4313 3634 \nQ 3963 3931 3569 4081 \nQ 3175 4231 2741 4231 \nQ 1884 4231 1454 3753 \nQ 1025 3275 1025 2328 \nQ 1025 1384 1454 906 \nQ 1884 428 2741 428 \nQ 3075 428 3337 486 \nQ 3600 544 3809 666 \nz\n\" transform=\"scale(0.015625)\"/>\n      </defs>\n      <use xlink:href=\"#DejaVuSans-47\"/>\n      <use xlink:href=\"#DejaVuSans-6f\" x=\"77.490234\"/>\n      <use xlink:href=\"#DejaVuSans-6c\" x=\"138.671875\"/>\n      <use xlink:href=\"#DejaVuSans-64\" x=\"166.455078\"/>\n      <use xlink:href=\"#DejaVuSans-20\" x=\"229.931641\"/>\n      <use xlink:href=\"#DejaVuSans-4c\" x=\"261.71875\"/>\n      <use xlink:href=\"#DejaVuSans-61\" x=\"317.431641\"/>\n      <use xlink:href=\"#DejaVuSans-62\" x=\"378.710938\"/>\n      <use xlink:href=\"#DejaVuSans-65\" x=\"442.1875\"/>\n      <use xlink:href=\"#DejaVuSans-6c\" x=\"503.710938\"/>\n     </g>\n    </g>\n   </g>\n   <g id=\"QuadMesh_1\">\n    <path d=\"M 60.024281 38.330687 \nL 131.448281 38.330687 \nL 131.448281 104.858687 \nL 60.024281 104.858687 \nL 60.024281 38.330687 \n\" clip-path=\"url(#p519148fb40)\" style=\"fill: #dadada\"/>\n    <path d=\"M 131.448281 38.330687 \nL 202.872281 38.330687 \nL 202.872281 104.858687 \nL 131.448281 104.858687 \nL 131.448281 38.330687 \n\" clip-path=\"url(#p519148fb40)\" style=\"fill: #060606\"/>\n    <path d=\"M 202.872281 38.330687 \nL 274.296281 38.330687 \nL 274.296281 104.858687 \nL 202.872281 104.858687 \nL 202.872281 38.330687 \n\" clip-path=\"url(#p519148fb40)\" style=\"fill: #2c2c2c\"/>\n    <path d=\"M 274.296281 38.330687 \nL 345.720281 38.330687 \nL 345.720281 104.858687 \nL 274.296281 104.858687 \nL 274.296281 38.330687 \n\" clip-path=\"url(#p519148fb40)\" style=\"fill: #060606\"/>\n    <path d=\"M 345.720281 38.330687 \nL 417.144281 38.330687 \nL 417.144281 104.858687 \nL 345.720281 104.858687 \nL 345.720281 38.330687 \n\" clip-path=\"url(#p519148fb40)\" style=\"fill: #242424\"/>\n    <path d=\"M 60.024281 104.858687 \nL 131.448281 104.858687 \nL 131.448281 171.386687 \nL 60.024281 171.386687 \nL 60.024281 104.858687 \n\" clip-path=\"url(#p519148fb40)\" style=\"fill: #070707\"/>\n    <path d=\"M 131.448281 104.858687 \nL 202.872281 104.858687 \nL 202.872281 171.386687 \nL 131.448281 171.386687 \nL 131.448281 104.858687 \n\" clip-path=\"url(#p519148fb40)\" style=\"fill: #dfdfdf\"/>\n    <path d=\"M 202.872281 104.858687 \nL 274.296281 104.858687 \nL 274.296281 171.386687 \nL 202.872281 171.386687 \nL 202.872281 104.858687 \n\" clip-path=\"url(#p519148fb40)\" style=\"fill: #2b2b2b\"/>\n    <path d=\"M 274.296281 104.858687 \nL 345.720281 104.858687 \nL 345.720281 171.386687 \nL 274.296281 171.386687 \nL 274.296281 104.858687 \n\" clip-path=\"url(#p519148fb40)\" style=\"fill: #1b1b1b\"/>\n    <path d=\"M 345.720281 104.858687 \nL 417.144281 104.858687 \nL 417.144281 171.386687 \nL 345.720281 171.386687 \nL 345.720281 104.858687 \n\" clip-path=\"url(#p519148fb40)\" style=\"fill: #070707\"/>\n    <path d=\"M 60.024281 171.386687 \nL 131.448281 171.386687 \nL 131.448281 237.914687 \nL 60.024281 237.914687 \nL 60.024281 171.386687 \n\" clip-path=\"url(#p519148fb40)\" style=\"fill: #111111\"/>\n    <path d=\"M 131.448281 171.386687 \nL 202.872281 171.386687 \nL 202.872281 237.914687 \nL 131.448281 237.914687 \nL 131.448281 171.386687 \n\" clip-path=\"url(#p519148fb40)\" style=\"fill: #090909\"/>\n    <path d=\"M 202.872281 171.386687 \nL 274.296281 171.386687 \nL 274.296281 237.914687 \nL 202.872281 237.914687 \nL 202.872281 171.386687 \n\" clip-path=\"url(#p519148fb40)\" style=\"fill: #ffffff\"/>\n    <path d=\"M 274.296281 171.386687 \nL 345.720281 171.386687 \nL 345.720281 237.914687 \nL 274.296281 237.914687 \nL 274.296281 171.386687 \n\" clip-path=\"url(#p519148fb40)\" style=\"fill: #040404\"/>\n    <path d=\"M 345.720281 171.386687 \nL 417.144281 171.386687 \nL 417.144281 237.914687 \nL 345.720281 237.914687 \nL 345.720281 171.386687 \n\" clip-path=\"url(#p519148fb40)\" style=\"fill: #171717\"/>\n    <path d=\"M 60.024281 237.914687 \nL 131.448281 237.914687 \nL 131.448281 304.442687 \nL 60.024281 304.442687 \nL 60.024281 237.914687 \n\" clip-path=\"url(#p519148fb40)\" style=\"fill: #0f0f0f\"/>\n    <path d=\"M 131.448281 237.914687 \nL 202.872281 237.914687 \nL 202.872281 304.442687 \nL 131.448281 304.442687 \nL 131.448281 237.914687 \n\" clip-path=\"url(#p519148fb40)\"/>\n    <path d=\"M 202.872281 237.914687 \nL 274.296281 237.914687 \nL 274.296281 304.442687 \nL 202.872281 304.442687 \nL 202.872281 237.914687 \n\" clip-path=\"url(#p519148fb40)\" style=\"fill: #232323\"/>\n    <path d=\"M 274.296281 237.914687 \nL 345.720281 237.914687 \nL 345.720281 304.442687 \nL 274.296281 304.442687 \nL 274.296281 237.914687 \n\" clip-path=\"url(#p519148fb40)\" style=\"fill: #d6d6d6\"/>\n    <path d=\"M 345.720281 237.914687 \nL 417.144281 237.914687 \nL 417.144281 304.442687 \nL 345.720281 304.442687 \nL 345.720281 237.914687 \n\" clip-path=\"url(#p519148fb40)\" style=\"fill: #2d2d2d\"/>\n    <path d=\"M 60.024281 304.442687 \nL 131.448281 304.442687 \nL 131.448281 370.970687 \nL 60.024281 370.970687 \nL 60.024281 304.442687 \n\" clip-path=\"url(#p519148fb40)\" style=\"fill: #141414\"/>\n    <path d=\"M 131.448281 304.442687 \nL 202.872281 304.442687 \nL 202.872281 370.970687 \nL 131.448281 370.970687 \nL 131.448281 304.442687 \n\" clip-path=\"url(#p519148fb40)\" style=\"fill: #060606\"/>\n    <path d=\"M 202.872281 304.442687 \nL 274.296281 304.442687 \nL 274.296281 370.970687 \nL 202.872281 370.970687 \nL 202.872281 304.442687 \n\" clip-path=\"url(#p519148fb40)\" style=\"fill: #3d3d3d\"/>\n    <path d=\"M 274.296281 304.442687 \nL 345.720281 304.442687 \nL 345.720281 370.970687 \nL 274.296281 370.970687 \nL 274.296281 304.442687 \n\" clip-path=\"url(#p519148fb40)\" style=\"fill: #090909\"/>\n    <path d=\"M 345.720281 304.442687 \nL 417.144281 304.442687 \nL 417.144281 370.970687 \nL 345.720281 370.970687 \nL 345.720281 304.442687 \n\" clip-path=\"url(#p519148fb40)\" style=\"fill: #d5d5d5\"/>\n   </g>\n   <g id=\"text_13\">\n    <!-- 70.24% -->\n    <g style=\"fill: #262626\" transform=\"translate(70.570688 75.237062) scale(0.132 -0.132)\">\n     <defs>\n      <path id=\"DejaVuSans-37\" d=\"M 525 4666 \nL 3525 4666 \nL 3525 4397 \nL 1831 0 \nL 1172 0 \nL 2766 4134 \nL 525 4134 \nL 525 4666 \nz\n\" transform=\"scale(0.015625)\"/>\n      <path id=\"DejaVuSans-30\" d=\"M 2034 4250 \nQ 1547 4250 1301 3770 \nQ 1056 3291 1056 2328 \nQ 1056 1369 1301 889 \nQ 1547 409 2034 409 \nQ 2525 409 2770 889 \nQ 3016 1369 3016 2328 \nQ 3016 3291 2770 3770 \nQ 2525 4250 2034 4250 \nz\nM 2034 4750 \nQ 2819 4750 3233 4129 \nQ 3647 3509 3647 2328 \nQ 3647 1150 3233 529 \nQ 2819 -91 2034 -91 \nQ 1250 -91 836 529 \nQ 422 1150 422 2328 \nQ 422 3509 836 4129 \nQ 1250 4750 2034 4750 \nz\n\" transform=\"scale(0.015625)\"/>\n      <path id=\"DejaVuSans-2e\" d=\"M 684 794 \nL 1344 794 \nL 1344 0 \nL 684 0 \nL 684 794 \nz\n\" transform=\"scale(0.015625)\"/>\n      <path id=\"DejaVuSans-32\" d=\"M 1228 531 \nL 3431 531 \nL 3431 0 \nL 469 0 \nL 469 531 \nQ 828 903 1448 1529 \nQ 2069 2156 2228 2338 \nQ 2531 2678 2651 2914 \nQ 2772 3150 2772 3378 \nQ 2772 3750 2511 3984 \nQ 2250 4219 1831 4219 \nQ 1534 4219 1204 4116 \nQ 875 4013 500 3803 \nL 500 4441 \nQ 881 4594 1212 4672 \nQ 1544 4750 1819 4750 \nQ 2544 4750 2975 4387 \nQ 3406 4025 3406 3419 \nQ 3406 3131 3298 2873 \nQ 3191 2616 2906 2266 \nQ 2828 2175 2409 1742 \nQ 1991 1309 1228 531 \nz\n\" transform=\"scale(0.015625)\"/>\n      <path id=\"DejaVuSans-34\" d=\"M 2419 4116 \nL 825 1625 \nL 2419 1625 \nL 2419 4116 \nz\nM 2253 4666 \nL 3047 4666 \nL 3047 1625 \nL 3713 1625 \nL 3713 1100 \nL 3047 1100 \nL 3047 0 \nL 2419 0 \nL 2419 1100 \nL 313 1100 \nL 313 1709 \nL 2253 4666 \nz\n\" transform=\"scale(0.015625)\"/>\n      <path id=\"DejaVuSans-25\" d=\"M 4653 2053 \nQ 4381 2053 4226 1822 \nQ 4072 1591 4072 1178 \nQ 4072 772 4226 539 \nQ 4381 306 4653 306 \nQ 4919 306 5073 539 \nQ 5228 772 5228 1178 \nQ 5228 1588 5073 1820 \nQ 4919 2053 4653 2053 \nz\nM 4653 2450 \nQ 5147 2450 5437 2106 \nQ 5728 1763 5728 1178 \nQ 5728 594 5436 251 \nQ 5144 -91 4653 -91 \nQ 4153 -91 3862 251 \nQ 3572 594 3572 1178 \nQ 3572 1766 3864 2108 \nQ 4156 2450 4653 2450 \nz\nM 1428 4353 \nQ 1159 4353 1004 4120 \nQ 850 3888 850 3481 \nQ 850 3069 1003 2837 \nQ 1156 2606 1428 2606 \nQ 1700 2606 1854 2837 \nQ 2009 3069 2009 3481 \nQ 2009 3884 1853 4118 \nQ 1697 4353 1428 4353 \nz\nM 4250 4750 \nL 4750 4750 \nL 1831 -91 \nL 1331 -91 \nL 4250 4750 \nz\nM 1428 4750 \nQ 1922 4750 2215 4408 \nQ 2509 4066 2509 3481 \nQ 2509 2891 2217 2550 \nQ 1925 2209 1428 2209 \nQ 931 2209 642 2551 \nQ 353 2894 353 3481 \nQ 353 4063 643 4406 \nQ 934 4750 1428 4750 \nz\n\" transform=\"scale(0.015625)\"/>\n     </defs>\n     <use xlink:href=\"#DejaVuSans-37\"/>\n     <use xlink:href=\"#DejaVuSans-30\" x=\"63.623047\"/>\n     <use xlink:href=\"#DejaVuSans-2e\" x=\"127.246094\"/>\n     <use xlink:href=\"#DejaVuSans-32\" x=\"159.033203\"/>\n     <use xlink:href=\"#DejaVuSans-34\" x=\"222.65625\"/>\n     <use xlink:href=\"#DejaVuSans-25\" x=\"286.279297\"/>\n    </g>\n   </g>\n   <g id=\"text_14\">\n    <!-- 1.95% -->\n    <g style=\"fill: #ffffff\" transform=\"translate(146.193938 75.237062) scale(0.132 -0.132)\">\n     <defs>\n      <path id=\"DejaVuSans-31\" d=\"M 794 531 \nL 1825 531 \nL 1825 4091 \nL 703 3866 \nL 703 4441 \nL 1819 4666 \nL 2450 4666 \nL 2450 531 \nL 3481 531 \nL 3481 0 \nL 794 0 \nL 794 531 \nz\n\" transform=\"scale(0.015625)\"/>\n      <path id=\"DejaVuSans-39\" d=\"M 703 97 \nL 703 672 \nQ 941 559 1184 500 \nQ 1428 441 1663 441 \nQ 2288 441 2617 861 \nQ 2947 1281 2994 2138 \nQ 2813 1869 2534 1725 \nQ 2256 1581 1919 1581 \nQ 1219 1581 811 2004 \nQ 403 2428 403 3163 \nQ 403 3881 828 4315 \nQ 1253 4750 1959 4750 \nQ 2769 4750 3195 4129 \nQ 3622 3509 3622 2328 \nQ 3622 1225 3098 567 \nQ 2575 -91 1691 -91 \nQ 1453 -91 1209 -44 \nQ 966 3 703 97 \nz\nM 1959 2075 \nQ 2384 2075 2632 2365 \nQ 2881 2656 2881 3163 \nQ 2881 3666 2632 3958 \nQ 2384 4250 1959 4250 \nQ 1534 4250 1286 3958 \nQ 1038 3666 1038 3163 \nQ 1038 2656 1286 2365 \nQ 1534 2075 1959 2075 \nz\n\" transform=\"scale(0.015625)\"/>\n      <path id=\"DejaVuSans-35\" d=\"M 691 4666 \nL 3169 4666 \nL 3169 4134 \nL 1269 4134 \nL 1269 2991 \nQ 1406 3038 1543 3061 \nQ 1681 3084 1819 3084 \nQ 2600 3084 3056 2656 \nQ 3513 2228 3513 1497 \nQ 3513 744 3044 326 \nQ 2575 -91 1722 -91 \nQ 1428 -91 1123 -41 \nQ 819 9 494 109 \nL 494 744 \nQ 775 591 1075 516 \nQ 1375 441 1709 441 \nQ 2250 441 2565 725 \nQ 2881 1009 2881 1497 \nQ 2881 1984 2565 2268 \nQ 2250 2553 1709 2553 \nQ 1456 2553 1204 2497 \nQ 953 2441 691 2322 \nL 691 4666 \nz\n\" transform=\"scale(0.015625)\"/>\n     </defs>\n     <use xlink:href=\"#DejaVuSans-31\"/>\n     <use xlink:href=\"#DejaVuSans-2e\" x=\"63.623047\"/>\n     <use xlink:href=\"#DejaVuSans-39\" x=\"95.410156\"/>\n     <use xlink:href=\"#DejaVuSans-35\" x=\"159.033203\"/>\n     <use xlink:href=\"#DejaVuSans-25\" x=\"222.65625\"/>\n    </g>\n   </g>\n   <g id=\"text_15\">\n    <!-- 14.15% -->\n    <g style=\"fill: #ffffff\" transform=\"translate(213.418688 75.237062) scale(0.132 -0.132)\">\n     <use xlink:href=\"#DejaVuSans-31\"/>\n     <use xlink:href=\"#DejaVuSans-34\" x=\"63.623047\"/>\n     <use xlink:href=\"#DejaVuSans-2e\" x=\"127.246094\"/>\n     <use xlink:href=\"#DejaVuSans-31\" x=\"159.033203\"/>\n     <use xlink:href=\"#DejaVuSans-35\" x=\"222.65625\"/>\n     <use xlink:href=\"#DejaVuSans-25\" x=\"286.279297\"/>\n    </g>\n   </g>\n   <g id=\"text_16\">\n    <!-- 1.95% -->\n    <g style=\"fill: #ffffff\" transform=\"translate(289.041938 75.237062) scale(0.132 -0.132)\">\n     <use xlink:href=\"#DejaVuSans-31\"/>\n     <use xlink:href=\"#DejaVuSans-2e\" x=\"63.623047\"/>\n     <use xlink:href=\"#DejaVuSans-39\" x=\"95.410156\"/>\n     <use xlink:href=\"#DejaVuSans-35\" x=\"159.033203\"/>\n     <use xlink:href=\"#DejaVuSans-25\" x=\"222.65625\"/>\n    </g>\n   </g>\n   <g id=\"text_17\">\n    <!-- 11.71% -->\n    <g style=\"fill: #ffffff\" transform=\"translate(356.266688 75.237062) scale(0.132 -0.132)\">\n     <use xlink:href=\"#DejaVuSans-31\"/>\n     <use xlink:href=\"#DejaVuSans-31\" x=\"63.623047\"/>\n     <use xlink:href=\"#DejaVuSans-2e\" x=\"127.246094\"/>\n     <use xlink:href=\"#DejaVuSans-37\" x=\"159.033203\"/>\n     <use xlink:href=\"#DejaVuSans-31\" x=\"222.65625\"/>\n     <use xlink:href=\"#DejaVuSans-25\" x=\"286.279297\"/>\n    </g>\n   </g>\n   <g id=\"text_18\">\n    <!-- 2.56% -->\n    <g style=\"fill: #ffffff\" transform=\"translate(74.769938 141.765062) scale(0.132 -0.132)\">\n     <defs>\n      <path id=\"DejaVuSans-36\" d=\"M 2113 2584 \nQ 1688 2584 1439 2293 \nQ 1191 2003 1191 1497 \nQ 1191 994 1439 701 \nQ 1688 409 2113 409 \nQ 2538 409 2786 701 \nQ 3034 994 3034 1497 \nQ 3034 2003 2786 2293 \nQ 2538 2584 2113 2584 \nz\nM 3366 4563 \nL 3366 3988 \nQ 3128 4100 2886 4159 \nQ 2644 4219 2406 4219 \nQ 1781 4219 1451 3797 \nQ 1122 3375 1075 2522 \nQ 1259 2794 1537 2939 \nQ 1816 3084 2150 3084 \nQ 2853 3084 3261 2657 \nQ 3669 2231 3669 1497 \nQ 3669 778 3244 343 \nQ 2819 -91 2113 -91 \nQ 1303 -91 875 529 \nQ 447 1150 447 2328 \nQ 447 3434 972 4092 \nQ 1497 4750 2381 4750 \nQ 2619 4750 2861 4703 \nQ 3103 4656 3366 4563 \nz\n\" transform=\"scale(0.015625)\"/>\n     </defs>\n     <use xlink:href=\"#DejaVuSans-32\"/>\n     <use xlink:href=\"#DejaVuSans-2e\" x=\"63.623047\"/>\n     <use xlink:href=\"#DejaVuSans-35\" x=\"95.410156\"/>\n     <use xlink:href=\"#DejaVuSans-36\" x=\"159.033203\"/>\n     <use xlink:href=\"#DejaVuSans-25\" x=\"222.65625\"/>\n    </g>\n   </g>\n   <g id=\"text_19\">\n    <!-- 71.79% -->\n    <g style=\"fill: #262626\" transform=\"translate(141.994688 141.765062) scale(0.132 -0.132)\">\n     <use xlink:href=\"#DejaVuSans-37\"/>\n     <use xlink:href=\"#DejaVuSans-31\" x=\"63.623047\"/>\n     <use xlink:href=\"#DejaVuSans-2e\" x=\"127.246094\"/>\n     <use xlink:href=\"#DejaVuSans-37\" x=\"159.033203\"/>\n     <use xlink:href=\"#DejaVuSans-39\" x=\"222.65625\"/>\n     <use xlink:href=\"#DejaVuSans-25\" x=\"286.279297\"/>\n    </g>\n   </g>\n   <g id=\"text_20\">\n    <!-- 14.10% -->\n    <g style=\"fill: #ffffff\" transform=\"translate(213.418688 141.765062) scale(0.132 -0.132)\">\n     <use xlink:href=\"#DejaVuSans-31\"/>\n     <use xlink:href=\"#DejaVuSans-34\" x=\"63.623047\"/>\n     <use xlink:href=\"#DejaVuSans-2e\" x=\"127.246094\"/>\n     <use xlink:href=\"#DejaVuSans-31\" x=\"159.033203\"/>\n     <use xlink:href=\"#DejaVuSans-30\" x=\"222.65625\"/>\n     <use xlink:href=\"#DejaVuSans-25\" x=\"286.279297\"/>\n    </g>\n   </g>\n   <g id=\"text_21\">\n    <!-- 8.97% -->\n    <g style=\"fill: #ffffff\" transform=\"translate(289.041938 141.765062) scale(0.132 -0.132)\">\n     <defs>\n      <path id=\"DejaVuSans-38\" d=\"M 2034 2216 \nQ 1584 2216 1326 1975 \nQ 1069 1734 1069 1313 \nQ 1069 891 1326 650 \nQ 1584 409 2034 409 \nQ 2484 409 2743 651 \nQ 3003 894 3003 1313 \nQ 3003 1734 2745 1975 \nQ 2488 2216 2034 2216 \nz\nM 1403 2484 \nQ 997 2584 770 2862 \nQ 544 3141 544 3541 \nQ 544 4100 942 4425 \nQ 1341 4750 2034 4750 \nQ 2731 4750 3128 4425 \nQ 3525 4100 3525 3541 \nQ 3525 3141 3298 2862 \nQ 3072 2584 2669 2484 \nQ 3125 2378 3379 2068 \nQ 3634 1759 3634 1313 \nQ 3634 634 3220 271 \nQ 2806 -91 2034 -91 \nQ 1263 -91 848 271 \nQ 434 634 434 1313 \nQ 434 1759 690 2068 \nQ 947 2378 1403 2484 \nz\nM 1172 3481 \nQ 1172 3119 1398 2916 \nQ 1625 2713 2034 2713 \nQ 2441 2713 2670 2916 \nQ 2900 3119 2900 3481 \nQ 2900 3844 2670 4047 \nQ 2441 4250 2034 4250 \nQ 1625 4250 1398 4047 \nQ 1172 3844 1172 3481 \nz\n\" transform=\"scale(0.015625)\"/>\n     </defs>\n     <use xlink:href=\"#DejaVuSans-38\"/>\n     <use xlink:href=\"#DejaVuSans-2e\" x=\"63.623047\"/>\n     <use xlink:href=\"#DejaVuSans-39\" x=\"95.410156\"/>\n     <use xlink:href=\"#DejaVuSans-37\" x=\"159.033203\"/>\n     <use xlink:href=\"#DejaVuSans-25\" x=\"222.65625\"/>\n    </g>\n   </g>\n   <g id=\"text_22\">\n    <!-- 2.56% -->\n    <g style=\"fill: #ffffff\" transform=\"translate(360.465938 141.765062) scale(0.132 -0.132)\">\n     <use xlink:href=\"#DejaVuSans-32\"/>\n     <use xlink:href=\"#DejaVuSans-2e\" x=\"63.623047\"/>\n     <use xlink:href=\"#DejaVuSans-35\" x=\"95.410156\"/>\n     <use xlink:href=\"#DejaVuSans-36\" x=\"159.033203\"/>\n     <use xlink:href=\"#DejaVuSans-25\" x=\"222.65625\"/>\n    </g>\n   </g>\n   <g id=\"text_23\">\n    <!-- 5.54% -->\n    <g style=\"fill: #ffffff\" transform=\"translate(74.769938 208.293062) scale(0.132 -0.132)\">\n     <use xlink:href=\"#DejaVuSans-35\"/>\n     <use xlink:href=\"#DejaVuSans-2e\" x=\"63.623047\"/>\n     <use xlink:href=\"#DejaVuSans-35\" x=\"95.410156\"/>\n     <use xlink:href=\"#DejaVuSans-34\" x=\"159.033203\"/>\n     <use xlink:href=\"#DejaVuSans-25\" x=\"222.65625\"/>\n    </g>\n   </g>\n   <g id=\"text_24\">\n    <!-- 3.21% -->\n    <g style=\"fill: #ffffff\" transform=\"translate(146.193938 208.293062) scale(0.132 -0.132)\">\n     <defs>\n      <path id=\"DejaVuSans-33\" d=\"M 2597 2516 \nQ 3050 2419 3304 2112 \nQ 3559 1806 3559 1356 \nQ 3559 666 3084 287 \nQ 2609 -91 1734 -91 \nQ 1441 -91 1130 -33 \nQ 819 25 488 141 \nL 488 750 \nQ 750 597 1062 519 \nQ 1375 441 1716 441 \nQ 2309 441 2620 675 \nQ 2931 909 2931 1356 \nQ 2931 1769 2642 2001 \nQ 2353 2234 1838 2234 \nL 1294 2234 \nL 1294 2753 \nL 1863 2753 \nQ 2328 2753 2575 2939 \nQ 2822 3125 2822 3475 \nQ 2822 3834 2567 4026 \nQ 2313 4219 1838 4219 \nQ 1578 4219 1281 4162 \nQ 984 4106 628 3988 \nL 628 4550 \nQ 988 4650 1302 4700 \nQ 1616 4750 1894 4750 \nQ 2613 4750 3031 4423 \nQ 3450 4097 3450 3541 \nQ 3450 3153 3228 2886 \nQ 3006 2619 2597 2516 \nz\n\" transform=\"scale(0.015625)\"/>\n     </defs>\n     <use xlink:href=\"#DejaVuSans-33\"/>\n     <use xlink:href=\"#DejaVuSans-2e\" x=\"63.623047\"/>\n     <use xlink:href=\"#DejaVuSans-32\" x=\"95.410156\"/>\n     <use xlink:href=\"#DejaVuSans-31\" x=\"159.033203\"/>\n     <use xlink:href=\"#DejaVuSans-25\" x=\"222.65625\"/>\n    </g>\n   </g>\n   <g id=\"text_25\">\n    <!-- 82.22% -->\n    <g style=\"fill: #262626\" transform=\"translate(213.418688 208.293062) scale(0.132 -0.132)\">\n     <use xlink:href=\"#DejaVuSans-38\"/>\n     <use xlink:href=\"#DejaVuSans-32\" x=\"63.623047\"/>\n     <use xlink:href=\"#DejaVuSans-2e\" x=\"127.246094\"/>\n     <use xlink:href=\"#DejaVuSans-32\" x=\"159.033203\"/>\n     <use xlink:href=\"#DejaVuSans-32\" x=\"222.65625\"/>\n     <use xlink:href=\"#DejaVuSans-25\" x=\"286.279297\"/>\n    </g>\n   </g>\n   <g id=\"text_26\">\n    <!-- 1.46% -->\n    <g style=\"fill: #ffffff\" transform=\"translate(289.041938 208.293062) scale(0.132 -0.132)\">\n     <use xlink:href=\"#DejaVuSans-31\"/>\n     <use xlink:href=\"#DejaVuSans-2e\" x=\"63.623047\"/>\n     <use xlink:href=\"#DejaVuSans-34\" x=\"95.410156\"/>\n     <use xlink:href=\"#DejaVuSans-36\" x=\"159.033203\"/>\n     <use xlink:href=\"#DejaVuSans-25\" x=\"222.65625\"/>\n    </g>\n   </g>\n   <g id=\"text_27\">\n    <!-- 7.58% -->\n    <g style=\"fill: #ffffff\" transform=\"translate(360.465938 208.293062) scale(0.132 -0.132)\">\n     <use xlink:href=\"#DejaVuSans-37\"/>\n     <use xlink:href=\"#DejaVuSans-2e\" x=\"63.623047\"/>\n     <use xlink:href=\"#DejaVuSans-35\" x=\"95.410156\"/>\n     <use xlink:href=\"#DejaVuSans-38\" x=\"159.033203\"/>\n     <use xlink:href=\"#DejaVuSans-25\" x=\"222.65625\"/>\n    </g>\n   </g>\n   <g id=\"text_28\">\n    <!-- 4.92% -->\n    <g style=\"fill: #ffffff\" transform=\"translate(74.769938 274.821062) scale(0.132 -0.132)\">\n     <use xlink:href=\"#DejaVuSans-34\"/>\n     <use xlink:href=\"#DejaVuSans-2e\" x=\"63.623047\"/>\n     <use xlink:href=\"#DejaVuSans-39\" x=\"95.410156\"/>\n     <use xlink:href=\"#DejaVuSans-32\" x=\"159.033203\"/>\n     <use xlink:href=\"#DejaVuSans-25\" x=\"222.65625\"/>\n    </g>\n   </g>\n   <g id=\"text_29\">\n    <!-- 0.00 -->\n    <g style=\"fill: #ffffff\" transform=\"translate(152.464969 274.821062) scale(0.132 -0.132)\">\n     <use xlink:href=\"#DejaVuSans-30\"/>\n     <use xlink:href=\"#DejaVuSans-2e\" x=\"63.623047\"/>\n     <use xlink:href=\"#DejaVuSans-30\" x=\"95.410156\"/>\n     <use xlink:href=\"#DejaVuSans-30\" x=\"159.033203\"/>\n    </g>\n   </g>\n   <g id=\"text_30\">\n    <!-- 11.48% -->\n    <g style=\"fill: #ffffff\" transform=\"translate(213.418688 274.821062) scale(0.132 -0.132)\">\n     <use xlink:href=\"#DejaVuSans-31\"/>\n     <use xlink:href=\"#DejaVuSans-31\" x=\"63.623047\"/>\n     <use xlink:href=\"#DejaVuSans-2e\" x=\"127.246094\"/>\n     <use xlink:href=\"#DejaVuSans-34\" x=\"159.033203\"/>\n     <use xlink:href=\"#DejaVuSans-38\" x=\"222.65625\"/>\n     <use xlink:href=\"#DejaVuSans-25\" x=\"286.279297\"/>\n    </g>\n   </g>\n   <g id=\"text_31\">\n    <!-- 68.85% -->\n    <g style=\"fill: #262626\" transform=\"translate(284.842688 274.821062) scale(0.132 -0.132)\">\n     <use xlink:href=\"#DejaVuSans-36\"/>\n     <use xlink:href=\"#DejaVuSans-38\" x=\"63.623047\"/>\n     <use xlink:href=\"#DejaVuSans-2e\" x=\"127.246094\"/>\n     <use xlink:href=\"#DejaVuSans-38\" x=\"159.033203\"/>\n     <use xlink:href=\"#DejaVuSans-35\" x=\"222.65625\"/>\n     <use xlink:href=\"#DejaVuSans-25\" x=\"286.279297\"/>\n    </g>\n   </g>\n   <g id=\"text_32\">\n    <!-- 14.75% -->\n    <g style=\"fill: #ffffff\" transform=\"translate(356.266688 274.821062) scale(0.132 -0.132)\">\n     <use xlink:href=\"#DejaVuSans-31\"/>\n     <use xlink:href=\"#DejaVuSans-34\" x=\"63.623047\"/>\n     <use xlink:href=\"#DejaVuSans-2e\" x=\"127.246094\"/>\n     <use xlink:href=\"#DejaVuSans-37\" x=\"159.033203\"/>\n     <use xlink:href=\"#DejaVuSans-35\" x=\"222.65625\"/>\n     <use xlink:href=\"#DejaVuSans-25\" x=\"286.279297\"/>\n    </g>\n   </g>\n   <g id=\"text_33\">\n    <!-- 6.58% -->\n    <g style=\"fill: #ffffff\" transform=\"translate(74.769938 341.349063) scale(0.132 -0.132)\">\n     <use xlink:href=\"#DejaVuSans-36\"/>\n     <use xlink:href=\"#DejaVuSans-2e\" x=\"63.623047\"/>\n     <use xlink:href=\"#DejaVuSans-35\" x=\"95.410156\"/>\n     <use xlink:href=\"#DejaVuSans-38\" x=\"159.033203\"/>\n     <use xlink:href=\"#DejaVuSans-25\" x=\"222.65625\"/>\n    </g>\n   </g>\n   <g id=\"text_34\">\n    <!-- 2.19% -->\n    <g style=\"fill: #ffffff\" transform=\"translate(146.193938 341.349063) scale(0.132 -0.132)\">\n     <use xlink:href=\"#DejaVuSans-32\"/>\n     <use xlink:href=\"#DejaVuSans-2e\" x=\"63.623047\"/>\n     <use xlink:href=\"#DejaVuSans-31\" x=\"95.410156\"/>\n     <use xlink:href=\"#DejaVuSans-39\" x=\"159.033203\"/>\n     <use xlink:href=\"#DejaVuSans-25\" x=\"222.65625\"/>\n    </g>\n   </g>\n   <g id=\"text_35\">\n    <!-- 19.74% -->\n    <g style=\"fill: #ffffff\" transform=\"translate(213.418688 341.349063) scale(0.132 -0.132)\">\n     <use xlink:href=\"#DejaVuSans-31\"/>\n     <use xlink:href=\"#DejaVuSans-39\" x=\"63.623047\"/>\n     <use xlink:href=\"#DejaVuSans-2e\" x=\"127.246094\"/>\n     <use xlink:href=\"#DejaVuSans-37\" x=\"159.033203\"/>\n     <use xlink:href=\"#DejaVuSans-34\" x=\"222.65625\"/>\n     <use xlink:href=\"#DejaVuSans-25\" x=\"286.279297\"/>\n    </g>\n   </g>\n   <g id=\"text_36\">\n    <!-- 3.07% -->\n    <g style=\"fill: #ffffff\" transform=\"translate(289.041938 341.349063) scale(0.132 -0.132)\">\n     <use xlink:href=\"#DejaVuSans-33\"/>\n     <use xlink:href=\"#DejaVuSans-2e\" x=\"63.623047\"/>\n     <use xlink:href=\"#DejaVuSans-30\" x=\"95.410156\"/>\n     <use xlink:href=\"#DejaVuSans-37\" x=\"159.033203\"/>\n     <use xlink:href=\"#DejaVuSans-25\" x=\"222.65625\"/>\n    </g>\n   </g>\n   <g id=\"text_37\">\n    <!-- 68.42% -->\n    <g style=\"fill: #262626\" transform=\"translate(356.266688 341.349063) scale(0.132 -0.132)\">\n     <use xlink:href=\"#DejaVuSans-36\"/>\n     <use xlink:href=\"#DejaVuSans-38\" x=\"63.623047\"/>\n     <use xlink:href=\"#DejaVuSans-2e\" x=\"127.246094\"/>\n     <use xlink:href=\"#DejaVuSans-34\" x=\"159.033203\"/>\n     <use xlink:href=\"#DejaVuSans-32\" x=\"222.65625\"/>\n     <use xlink:href=\"#DejaVuSans-25\" x=\"286.279297\"/>\n    </g>\n   </g>\n  </g>\n  <g id=\"axes_2\">\n   <g id=\"patch_3\">\n    <path d=\"M 439.464281 370.970687 \nL 456.096281 370.970687 \nL 456.096281 38.330687 \nL 439.464281 38.330687 \nz\n\" style=\"fill: #eaeaf2\"/>\n   </g>\n   <g id=\"matplotlib.axis_3\"/>\n   <g id=\"matplotlib.axis_4\">\n    <g id=\"ytick_6\">\n     <g id=\"line2d_11\">\n      <defs>\n       <path id=\"m1e68bcb00f\" d=\"M 0 0 \nL 6 0 \n\" style=\"stroke: #262626; stroke-width: 1.25\"/>\n      </defs>\n      <g>\n       <use xlink:href=\"#m1e68bcb00f\" x=\"456.096281\" y=\"370.970687\" style=\"fill: #262626; stroke: #262626; stroke-width: 1.25\"/>\n      </g>\n     </g>\n     <g id=\"text_38\">\n      <!-- 0 -->\n      <g style=\"fill: #262626\" transform=\"translate(465.596281 375.567742) scale(0.121 -0.121)\">\n       <use xlink:href=\"#DejaVuSans-30\"/>\n      </g>\n     </g>\n    </g>\n    <g id=\"ytick_7\">\n     <g id=\"line2d_12\">\n      <g>\n       <use xlink:href=\"#m1e68bcb00f\" x=\"456.096281\" y=\"330.513378\" style=\"fill: #262626; stroke: #262626; stroke-width: 1.25\"/>\n      </g>\n     </g>\n     <g id=\"text_39\">\n      <!-- 10 -->\n      <g style=\"fill: #262626\" transform=\"translate(465.596281 335.110433) scale(0.121 -0.121)\">\n       <use xlink:href=\"#DejaVuSans-31\"/>\n       <use xlink:href=\"#DejaVuSans-30\" x=\"63.623047\"/>\n      </g>\n     </g>\n    </g>\n    <g id=\"ytick_8\">\n     <g id=\"line2d_13\">\n      <g>\n       <use xlink:href=\"#m1e68bcb00f\" x=\"456.096281\" y=\"290.056068\" style=\"fill: #262626; stroke: #262626; stroke-width: 1.25\"/>\n      </g>\n     </g>\n     <g id=\"text_40\">\n      <!-- 20 -->\n      <g style=\"fill: #262626\" transform=\"translate(465.596281 294.653123) scale(0.121 -0.121)\">\n       <use xlink:href=\"#DejaVuSans-32\"/>\n       <use xlink:href=\"#DejaVuSans-30\" x=\"63.623047\"/>\n      </g>\n     </g>\n    </g>\n    <g id=\"ytick_9\">\n     <g id=\"line2d_14\">\n      <g>\n       <use xlink:href=\"#m1e68bcb00f\" x=\"456.096281\" y=\"249.598759\" style=\"fill: #262626; stroke: #262626; stroke-width: 1.25\"/>\n      </g>\n     </g>\n     <g id=\"text_41\">\n      <!-- 30 -->\n      <g style=\"fill: #262626\" transform=\"translate(465.596281 254.195813) scale(0.121 -0.121)\">\n       <use xlink:href=\"#DejaVuSans-33\"/>\n       <use xlink:href=\"#DejaVuSans-30\" x=\"63.623047\"/>\n      </g>\n     </g>\n    </g>\n    <g id=\"ytick_10\">\n     <g id=\"line2d_15\">\n      <g>\n       <use xlink:href=\"#m1e68bcb00f\" x=\"456.096281\" y=\"209.141449\" style=\"fill: #262626; stroke: #262626; stroke-width: 1.25\"/>\n      </g>\n     </g>\n     <g id=\"text_42\">\n      <!-- 40 -->\n      <g style=\"fill: #262626\" transform=\"translate(465.596281 213.738504) scale(0.121 -0.121)\">\n       <use xlink:href=\"#DejaVuSans-34\"/>\n       <use xlink:href=\"#DejaVuSans-30\" x=\"63.623047\"/>\n      </g>\n     </g>\n    </g>\n    <g id=\"ytick_11\">\n     <g id=\"line2d_16\">\n      <g>\n       <use xlink:href=\"#m1e68bcb00f\" x=\"456.096281\" y=\"168.684139\" style=\"fill: #262626; stroke: #262626; stroke-width: 1.25\"/>\n      </g>\n     </g>\n     <g id=\"text_43\">\n      <!-- 50 -->\n      <g style=\"fill: #262626\" transform=\"translate(465.596281 173.281194) scale(0.121 -0.121)\">\n       <use xlink:href=\"#DejaVuSans-35\"/>\n       <use xlink:href=\"#DejaVuSans-30\" x=\"63.623047\"/>\n      </g>\n     </g>\n    </g>\n    <g id=\"ytick_12\">\n     <g id=\"line2d_17\">\n      <g>\n       <use xlink:href=\"#m1e68bcb00f\" x=\"456.096281\" y=\"128.22683\" style=\"fill: #262626; stroke: #262626; stroke-width: 1.25\"/>\n      </g>\n     </g>\n     <g id=\"text_44\">\n      <!-- 60 -->\n      <g style=\"fill: #262626\" transform=\"translate(465.596281 132.823884) scale(0.121 -0.121)\">\n       <use xlink:href=\"#DejaVuSans-36\"/>\n       <use xlink:href=\"#DejaVuSans-30\" x=\"63.623047\"/>\n      </g>\n     </g>\n    </g>\n    <g id=\"ytick_13\">\n     <g id=\"line2d_18\">\n      <g>\n       <use xlink:href=\"#m1e68bcb00f\" x=\"456.096281\" y=\"87.76952\" style=\"fill: #262626; stroke: #262626; stroke-width: 1.25\"/>\n      </g>\n     </g>\n     <g id=\"text_45\">\n      <!-- 70 -->\n      <g style=\"fill: #262626\" transform=\"translate(465.596281 92.366575) scale(0.121 -0.121)\">\n       <use xlink:href=\"#DejaVuSans-37\"/>\n       <use xlink:href=\"#DejaVuSans-30\" x=\"63.623047\"/>\n      </g>\n     </g>\n    </g>\n    <g id=\"ytick_14\">\n     <g id=\"line2d_19\">\n      <g>\n       <use xlink:href=\"#m1e68bcb00f\" x=\"456.096281\" y=\"47.31221\" style=\"fill: #262626; stroke: #262626; stroke-width: 1.25\"/>\n      </g>\n     </g>\n     <g id=\"text_46\">\n      <!-- 80 -->\n      <g style=\"fill: #262626\" transform=\"translate(465.596281 51.909265) scale(0.121 -0.121)\">\n       <use xlink:href=\"#DejaVuSans-38\"/>\n       <use xlink:href=\"#DejaVuSans-30\" x=\"63.623047\"/>\n      </g>\n     </g>\n    </g>\n   </g>\n   <image xlink:href=\"data:image/png;base64,\niVBORw0KGgoAAAANSUhEUgAAABcAAAHOCAYAAABzbJLzAAABj0lEQVR4nO3QwQkDMADDwKR0/5XbBfSNQSANYA7fc87vPOrzavicc7733mfjXnm3YMmx5Ptx7y3JseSYV94tWHIs+X7ce0tyLPl+3HtLciz5ftx7S3Is+X7ce0tyLPl+3HtLciz5ftx7S3Is+X7ce0tyLDnmlXcLlhxLvh/33pIcS74f996SHEu+H/fekhxLvh/33pIcS74f996SHEu+H/fekhxLvh/33pIcS4555d2CJceS78e9tyTHku/Hvbckx5Lvx723JMeS78e9tyTHku/Hvbckx5Lvx723JMeS78e9tyTHku/Hvbckx5JjXnm3YMmx5Ptx7y3JseT7ce8tybHk+3HvLcmx5Ptx7y3JseT7ce8tybHk+3HvLcmx5Ptx7y3JseSYV94tWHIs+X7ce0tyLPl+3HtLciz5ftx7S3Is+X7ce0tyLPl+3HtLciz5ftx7S3Is+X7ce0tyLDnmlXcLlhxLvh/33pIcS74f996SHEu+H/fekhxLvh/33pIcS74f996SHEu+H/fe8lT+B7xwCZZvInnYAAAAAElFTkSuQmCC\" id=\"imagedb0aa7abed\" transform=\"scale(1 -1) translate(0 -332.64)\" x=\"439.2\" y=\"-38.16\" width=\"16.56\" height=\"332.64\"/>\n   <g id=\"LineCollection_1\"/>\n   <g id=\"patch_4\">\n    <path d=\"M 439.464281 370.970687 \nL 447.780281 370.970687 \nL 456.096281 370.970687 \nL 456.096281 38.330687 \nL 447.780281 38.330687 \nL 439.464281 38.330687 \nL 439.464281 370.970687 \nz\n\" style=\"fill: none\"/>\n   </g>\n  </g>\n </g>\n <defs>\n  <clipPath id=\"p519148fb40\">\n   <rect x=\"60.024281\" y=\"38.330687\" width=\"357.12\" height=\"332.64\"/>\n  </clipPath>\n </defs>\n</svg>\n"
          },
          "metadata": {}
        }
      ],
      "source": [
        "# Showing the results of the best performing model\n",
        "plot_cm_with_percentages(best_model_true_labels, best_model_predictions, mapping, name=\"information_types_best.svg\")"
      ]
    },
    {
      "cell_type": "code",
      "execution_count": null,
      "metadata": {
        "colab": {
          "base_uri": "https://localhost:8080/"
        },
        "id": "qUDGhp1fad0E",
        "outputId": "b6fa87f0-623c-4abb-dceb-ad7477257c53"
      },
      "outputs": [
        {
          "output_type": "execute_result",
          "data": {
            "text/plain": [
              "[0.7327400531824354, 0.717796675648721, 0.7162702507926904]"
            ]
          },
          "metadata": {},
          "execution_count": 186
        }
      ],
      "source": [
        "all_scores"
      ]
    },
    {
      "cell_type": "code",
      "execution_count": null,
      "metadata": {
        "id": "TnOzWfMXwL18"
      },
      "outputs": [],
      "source": [
        "# Next pitstop - include code for BERT with fused features"
      ]
    },
    {
      "cell_type": "code",
      "source": [
        "class XLMRobertaClassificationHead(nn.Module):\n",
        "    \"\"\"Head for sentence-level classification tasks.\"\"\"\n",
        "\n",
        "    def __init__(self, config):\n",
        "        super().__init__()\n",
        "        self.dense = nn.Linear(config.combined_feat_dim, config.combined_feat_dim)\n",
        "        classifier_dropout = (\n",
        "            config.classifier_dropout if config.classifier_dropout is not None else config.hidden_dropout_prob\n",
        "        )\n",
        "        self.dropout = nn.Dropout(classifier_dropout)\n",
        "        self.out_proj = nn.Linear(config.combined_feat_dim, config.num_labels)\n",
        "\n",
        "    def forward(self, features, **kwargs):\n",
        "        # x = features[:, 0, :]  # take <s> token (equiv. to [CLS])\n",
        "        x = self.dropout(x)\n",
        "        x = self.dense(x)\n",
        "        x = torch.tanh(x)\n",
        "        x = self.dropout(x)\n",
        "        x = self.out_proj(x)\n",
        "        return x"
      ],
      "metadata": {
        "id": "qTaRy2D8T4ys",
        "colab": {
          "base_uri": "https://localhost:8080/",
          "height": 239
        },
        "outputId": "89c51387-e4f9-412b-f620-2693a0d82b89"
      },
      "execution_count": null,
      "outputs": [
        {
          "output_type": "error",
          "ename": "NameError",
          "evalue": "ignored",
          "traceback": [
            "\u001b[0;31m---------------------------------------------------------------------------\u001b[0m",
            "\u001b[0;31mNameError\u001b[0m                                 Traceback (most recent call last)",
            "\u001b[0;32m<ipython-input-21-12733b9fa451>\u001b[0m in \u001b[0;36m<cell line: 1>\u001b[0;34m()\u001b[0m\n\u001b[0;32m----> 1\u001b[0;31m \u001b[0;32mclass\u001b[0m \u001b[0mXLMRobertaClassificationHead\u001b[0m\u001b[0;34m(\u001b[0m\u001b[0mnn\u001b[0m\u001b[0;34m.\u001b[0m\u001b[0mModule\u001b[0m\u001b[0;34m)\u001b[0m\u001b[0;34m:\u001b[0m\u001b[0;34m\u001b[0m\u001b[0;34m\u001b[0m\u001b[0m\n\u001b[0m\u001b[1;32m      2\u001b[0m     \u001b[0;34m\"\"\"Head for sentence-level classification tasks.\"\"\"\u001b[0m\u001b[0;34m\u001b[0m\u001b[0;34m\u001b[0m\u001b[0m\n\u001b[1;32m      3\u001b[0m \u001b[0;34m\u001b[0m\u001b[0m\n\u001b[1;32m      4\u001b[0m     \u001b[0;32mdef\u001b[0m \u001b[0m__init__\u001b[0m\u001b[0;34m(\u001b[0m\u001b[0mself\u001b[0m\u001b[0;34m,\u001b[0m \u001b[0mconfig\u001b[0m\u001b[0;34m)\u001b[0m\u001b[0;34m:\u001b[0m\u001b[0;34m\u001b[0m\u001b[0;34m\u001b[0m\u001b[0m\n\u001b[1;32m      5\u001b[0m         \u001b[0msuper\u001b[0m\u001b[0;34m(\u001b[0m\u001b[0;34m)\u001b[0m\u001b[0;34m.\u001b[0m\u001b[0m__init__\u001b[0m\u001b[0;34m(\u001b[0m\u001b[0;34m)\u001b[0m\u001b[0;34m\u001b[0m\u001b[0;34m\u001b[0m\u001b[0m\n",
            "\u001b[0;31mNameError\u001b[0m: name 'nn' is not defined"
          ]
        }
      ]
    },
    {
      "cell_type": "code",
      "execution_count": null,
      "metadata": {
        "id": "dKKINZn0EKTc"
      },
      "outputs": [],
      "source": [
        "from torch import nn\n",
        "from transformers import XLMRobertaForSequenceClassification\n",
        "from torch.nn import CrossEntropyLoss, MSELoss\n",
        "\n",
        "class BertConcatFeatures(XLMRobertaForSequenceClassification):\n",
        "\n",
        "  def __init__(self, config):\n",
        "    #BERT SETUP - calls the constructor for BertForSequenceClassification to\n",
        "    # do the initial configuration - going to do all the BERT related setup.\n",
        "    # The resulting BERT model is stored in `self.bert`.\n",
        "    super().__init__(config)\n",
        "    # Feature combination\n",
        "    # Store the number of labels, which tells us whether this is a classification\n",
        "    # or a regression task\n",
        "    self.num_labels = config.num_labels\n",
        "    # Calculate the combined vector length - CLS embedding + additional features\n",
        "    # combined_feat_dim = config.text_feat_dim + config.context_feat_dim + config.numerical_feat_dim\n",
        "\n",
        "    combined_feat_dim = config.text_feat_dim  + config.numerical_feat_dim\n",
        "\n",
        "    # # Create a batch normalzier for the numerical features\n",
        "    self.num_bn = nn.BatchNorm1d(config.numerical_feat_dim)\n",
        "\n",
        "    # MLP Setup - specify the number of layers and neurons in each layer\n",
        "    # Dimensions of each MLP layer\n",
        "    dims = []\n",
        "    # Starting with the combined feature vector length...\n",
        "    dim = combined_feat_dim\n",
        "    while True:\n",
        "\n",
        "      #Divide by 4 and truncate to an interger\n",
        "      dim = dim // 4\n",
        "      # If the resulting later size would be smaller than the number of outpurs,\n",
        "      # then we're done\n",
        "      if dim <= self.num_labels:\n",
        "        break\n",
        "      #Otherise, store this as the next layer size\n",
        "      dims.append(int(dim))\n",
        "\n",
        "    # Print out the resulting the MLP\n",
        "    print('MLP Layer sizes:')\n",
        "    print(' Input:', combined_feat_dim)\n",
        "    print(' Output:', self.num_labels)\n",
        "    # Construct the MLP, specifying the number of inputs, outputs and the layer sizes\n",
        "\n",
        "    self.dense = nn.Linear(config.hidden_size, config.hidden_size)\n",
        "    classifier_dropout = (\n",
        "      config.classifier_dropout if config.classifier_dropout is not None else config.hidden_dropout_prob\n",
        "    )\n",
        "    self.dropout = nn.Dropout(classifier_dropout)\n",
        "    self.output_proj = nn.Linear(combined_feat_dim, config.num_labels)\n",
        "\n",
        "  def forward(\n",
        "      self,\n",
        "      input_ids=None,\n",
        "      attention_mask=None,\n",
        "      token_type_ids=None,\n",
        "      position_ids=None,\n",
        "      head_mask=None,\n",
        "      inputs_embeds=None,\n",
        "      labels = None,\n",
        "      class_weights=None,\n",
        "      output_attentions=None,\n",
        "      output_hidden_states=None,\n",
        "      # context_input_ids = None,\n",
        "      # context_attention_mask = None,\n",
        "      # context_token_type_ids = None,\n",
        "      # context_position_ids = None,\n",
        "      # context_head_mask = None,\n",
        "      # context_inputs_embeds = None,\n",
        "      # context_output_attentions = None,\n",
        "      # context_output_hidden_states = None,\n",
        "      numerical_feats=None,\n",
        "      concat_context=False,\n",
        "  ):\n",
        "\n",
        "    # print(\"We are here --> does it even get here?\")\n",
        "\n",
        "    #Send text throught the BERT model\n",
        "    outputs = self.roberta(\n",
        "        input_ids,\n",
        "        attention_mask=attention_mask,\n",
        "        token_type_ids=token_type_ids,\n",
        "        position_ids=position_ids,\n",
        "        head_mask=head_mask,\n",
        "        inputs_embeds=inputs_embeds,\n",
        "        output_attentions=output_attentions,\n",
        "        output_hidden_states=output_hidden_states\n",
        "    )\n",
        "\n",
        "    # if concat_context == True:\n",
        "    #   # Send context through BERT model as well\n",
        "    #   context_outputs = self.roberta(\n",
        "    #       context_input_ids,\n",
        "    #       attention_mask=context_attention_mask,\n",
        "    #       token_type_ids=context_token_type_ids,\n",
        "    #       position_ids=context_position_ids,\n",
        "    #       head_mask=context_head_mask,\n",
        "    #       inputs_embeds=context_inputs_embeds,\n",
        "    #       output_attentions=context_output_attentions,\n",
        "    #       output_hidden_states=context_output_hidden_states\n",
        "    #   )\n",
        "\n",
        "    #   context_output = context_outputs[0]\n",
        "    #   context_cls = context_output[:, 0, :]\n",
        "    #   context_cls = self.dropout(context_cls)\n",
        "\n",
        "    # print(\"Are wee even here?\")\n",
        "    # Take the CLS embedding\n",
        "    sequence_output = outputs[0]\n",
        "    cls = sequence_output[:, 0, :]\n",
        "    cls = self.dropout(cls)\n",
        "    cls = self.dense(cls)\n",
        "    cls = torch.tanh(cls)\n",
        "    cls = self.dropout(cls)\n",
        "    # cls = self.dropout(cls)\n",
        "\n",
        "    # print(\"We are here --> debugging\")\n",
        "    #Concatenate features\n",
        "    # Apply batch normalization to the numerical features\n",
        "    numerical_feats = numerical_feats.float()\n",
        "\n",
        "    # if concat_context == True:\n",
        "    #   combined_feats = torch.cat((cls, context_cls, numerical_feats), dim=1)\n",
        "\n",
        "    # print(\"Is the problem coming from the combination?\")\n",
        "    #Simply concatenate everything into one vector\n",
        "    combined_feats = torch.cat((cls, numerical_feats), dim=1)\n",
        "\n",
        "    # Output classifier/regression\n",
        "    logits = self.output_proj(combined_feats)\n",
        "\n",
        "    if type(logits) is tuple:\n",
        "      logits, classifier_layer_outputs = logits[0], logits[1]\n",
        "    else:\n",
        "      classifier_layer_outputs = [cls, logits]\n",
        "\n",
        "    # Calculate loss\n",
        "    if labels is not None:\n",
        "      # Regression\n",
        "      if self.num_labels == 1:\n",
        "        loss_fct = MSELoss()\n",
        "        labels = labels.float()\n",
        "        loss = loss_fct(logits.view(-1), labels.view(-1))\n",
        "      else:\n",
        "        # print(\"Is the problem coming from cross entropy loss calculation?\")\n",
        "        loss_fct = CrossEntropyLoss(weight=class_weights, reduction='mean')\n",
        "        # loss_fct = CrossEntropyLoss()\n",
        "        labels = labels.long()\n",
        "        loss = loss_fct(logits.view(-1, self.num_labels), labels.view(-1))\n",
        "    else:\n",
        "      loss = None\n",
        "\n",
        "    # print(\"I'd laugh if we actually get here\")\n",
        "    results = {\n",
        "        'loss': loss,\n",
        "        'logits': logits,\n",
        "        'classifier_layer_outputs': classifier_layer_outputs\n",
        "    }\n",
        "\n",
        "    return results"
      ]
    },
    {
      "cell_type": "code",
      "execution_count": null,
      "metadata": {
        "id": "qCkbw2M_EU5r"
      },
      "outputs": [],
      "source": [
        "def train_custom_model(model, train_dataloader, epochs, class_weights, optimizer, scheduler):\n",
        "  training_stats = []\n",
        "  total_t0 = time.time()\n",
        "  for epoch_i in range(0, epochs):\n",
        "    print(\"\")\n",
        "    print('======== Epoch {:} / {:} ========'.format(epoch_i + 1, epochs))\n",
        "    print('Training...')\n",
        "    # Measure how long the training epoch takes.\n",
        "    t0 = time.time()\n",
        "    # Reset the total loss for this epoch.\n",
        "    total_train_loss = 0\n",
        "    model.train()\n",
        "    # Pick an interval on which to print progress updates.\n",
        "    update_interval = good_update_interval(\n",
        "                total_iters = len(train_dataloader),\n",
        "                num_desired_updates = 10\n",
        "            )\n",
        "    # For each batch of training data...\n",
        "    for step, batch in enumerate(train_dataloader):\n",
        "        b_input_ids = batch[0].to(device)\n",
        "        b_numer_feats = batch[1].double().to(device)\n",
        "        b_input_mask = batch[2].to(device)\n",
        "        b_labels = batch[3].to(device)\n",
        "        # b_context_input_ids = batch[4].to(device)\n",
        "        # b_context_input_mask = batch[5].to(device)\n",
        "\n",
        "        model.zero_grad()\n",
        "\n",
        "        # Perform a forward pass (evaluate the model on this training batch).\n",
        "        # In PyTorch, calling `model` will in turn call the model's `forward`\n",
        "        # function and pass down the arguments. The `forward` function is\n",
        "        # documented here:\n",
        "        # https://huggingface.co/transformers/model_doc/bert.html#bertforsequenceclassification\n",
        "        # The results are returned in a results object, documented here:\n",
        "        # https://huggingface.co/transformers/main_classes/output.html#transformers.modeling_outputs.SequenceClassifierOutput\n",
        "        # Specifically, we'll get the loss (because we provided labels) and the\n",
        "        # \"logits\"--the model outputs prior to activation.\n",
        "        result = model(b_input_ids,\n",
        "                       token_type_ids=None,\n",
        "                       attention_mask=b_input_mask,\n",
        "                       labels = b_labels,\n",
        "                       numerical_feats = b_numer_feats,\n",
        "                       class_weights = class_weights)\n",
        "                      #  context_input_ids = b_context_input_ids,\n",
        "                      #  context_attention_mask = b_context_input_mask)\n",
        "\n",
        "        loss = result['loss']\n",
        "        logits = result['logits']\n",
        "\n",
        "        # Accumulate the training loss over all of the batches so that we can\n",
        "        # calculate the average loss at the end. `loss` is a Tensor containing a\n",
        "        # single value; the `.item()` function just returns the Python value\n",
        "        # from the tensor.\n",
        "        total_train_loss += loss.item()\n",
        "\n",
        "        # Perform a backward pass to calculate the gradients.\n",
        "        loss.backward()\n",
        "\n",
        "        # Clip the norm of the gradients to 1.0.\n",
        "        # This is to help prevent the \"exploding gradients\" problem.\n",
        "        torch.nn.utils.clip_grad_norm_(model.parameters(), 1.0)\n",
        "\n",
        "        # Update parameters and take a step using the computed gradient.\n",
        "        # The optimizer dictates the \"update rule\"--how the parameters are\n",
        "        # modified based on their gradients, the learning rate, etc.\n",
        "        optimizer.step()\n",
        "\n",
        "        # Update the learning rate.\n",
        "        scheduler.step()\n",
        "\n",
        "    # Calculate the average loss over all of the batches.\n",
        "    avg_train_loss = total_train_loss / len(train_dataloader)\n",
        "\n",
        "    # Measure how long this epoch took.\n",
        "    training_time = format_time(time.time() - t0)\n",
        "\n",
        "    print(\"\")\n",
        "    print(\"  Average training loss: {0:.2f}\".format(avg_train_loss))\n",
        "    print(\"  Training epoch took: {:}\".format(training_time))"
      ]
    },
    {
      "cell_type": "code",
      "execution_count": null,
      "metadata": {
        "id": "PTuVkNKzEXLl"
      },
      "outputs": [],
      "source": [
        "def test_custom_model(model,test_dataloader):\n",
        "  # Put model in evaluation mode\n",
        "  model.eval()\n",
        "  # Tracking variables\n",
        "  predictions , true_labels = [], []\n",
        "  # Predict\n",
        "  for batch in test_dataloader:\n",
        "    # Add batch to GPU\n",
        "    batch = tuple(t.to(device) for t in batch)\n",
        "\n",
        "    # Unpack the inputs from our dataloader\n",
        "    b_input_ids, b_numerical_feats, b_input_mask, b_labels = batch\n",
        "\n",
        "    # Telling the model not to compute or store gradients, saving memory and\n",
        "    # speeding up prediction\n",
        "    with torch.no_grad():\n",
        "        # Forward pass, calculate logit predictions.\n",
        "        result = model(b_input_ids,\n",
        "                      token_type_ids=None,\n",
        "                      attention_mask=b_input_mask,\n",
        "                      numerical_feats = b_numerical_feats)\n",
        "\n",
        "    logits = result['logits']\n",
        "\n",
        "    # Move logits and labels to CPU\n",
        "    logits = logits.detach().cpu().numpy()\n",
        "    label_ids = b_labels.to('cpu').numpy()\n",
        "\n",
        "    # Store predictions and true labels\n",
        "    predictions.append(logits)\n",
        "    true_labels.append(label_ids)\n",
        "  return predictions, true_labels"
      ]
    },
    {
      "cell_type": "code",
      "execution_count": null,
      "metadata": {
        "id": "DIpr2Z8DGwbf"
      },
      "outputs": [],
      "source": [
        "sep = ' [SEP] '\n",
        "def get_context(df, support_df, context_size=3):\n",
        "  '''\n",
        "  This function takes two dataframes, the first, df - is the dataframe to calculate\n",
        "  context embeddings for while the support df is the reference to use to check the\n",
        "  context, in the case of train data, both the df and support df will be the same,\n",
        "  this is to ensure that no test data leaks into the training context embeddings. For\n",
        "  test embeddings, the support df will be the whole dataset\n",
        "  '''\n",
        "  contexts = []\n",
        "  sorted_dates = df.sort_values('date')['date']\n",
        "  dates_list = sorted_dates.to_list()\n",
        "  # Iterate over rows using iterrows()\n",
        "  for index, row in df.iterrows():\n",
        "    current_date = row['date']\n",
        "    current_date_index = dates_list.index(current_date)\n",
        "    previous_posts = dates_list[max(0, current_date_index - context_size) : current_date_index]\n",
        "    context = \"\"\n",
        "    for idx, dt in enumerate(previous_posts):\n",
        "      record = support_df[support_df['date'] == dt].iloc[0]\n",
        "      # Only consider context fromt the same election\n",
        "      if record['Election Date'] == row['Election Date']:\n",
        "        context += (record.normalized_text + sep)\n",
        "    contexts.append(context)\n",
        "  return contexts"
      ]
    },
    {
      "cell_type": "code",
      "execution_count": null,
      "metadata": {
        "id": "Q_lcujTKG7q1"
      },
      "outputs": [],
      "source": [
        "sep = ' [SEP] '\n",
        "def combine_features(df):\n",
        "  sentences = []\n",
        "  labels = []\n",
        "  df['context'] = df['context'].fillna('')\n",
        "\n",
        "  # For each of the samples...\n",
        "  for index, row in df.iterrows():\n",
        "      # Piece it together...\n",
        "      context = row[\"context\"]\n",
        "      text = row[\"normalized_text\"]\n",
        "      combined_text = context + text\n",
        "      sentences.append(combined_text)\n",
        "      labels.append(row[\"target\"])\n",
        "  print('  DONE.')\n",
        "  print('Dataset contains {:,} samples.'.format(len(sentences)))\n",
        "  return sentences, labels"
      ]
    },
    {
      "cell_type": "code",
      "execution_count": null,
      "metadata": {
        "id": "zRhUVpPyHK1l"
      },
      "outputs": [],
      "source": [
        "def tokenize_with_numerical(tokenizer, sentences, labels, numerical_feats):\n",
        "  # Tokenize all of the sentences and map the tokens to thier word IDs.\n",
        "  input_ids = []\n",
        "  attention_masks = []\n",
        "\n",
        "  # For every sentence...\n",
        "  for sent in sentences:\n",
        "      # `encode_plus` will:\n",
        "      #   (1) Tokenize the sentence.\n",
        "      #   (2) Prepend the `[CLS]` token to the start.\n",
        "      #   (3) Append the `[SEP]` token to the end.\n",
        "      #   (4) Map tokens to their IDs.\n",
        "      #   (5) Pad or truncate the sentence to `max_length`\n",
        "      #   (6) Create attention masks for [PAD] tokens.\n",
        "      encoded_dict = tokenizer.encode_plus(\n",
        "                          sent,                      # Sentence to encode.\n",
        "                          add_special_tokens = True, # Add '[CLS]' and '[SEP]'\n",
        "                          max_length = 300,           # Pad & truncate all sentences.\n",
        "                          pad_to_max_length = True,\n",
        "                          truncation_strategy='only_first',\n",
        "                          return_attention_mask = True,   # Construct attn. masks.\n",
        "                          return_tensors = 'pt',     # Return pytorch tensors.\n",
        "                    )\n",
        "\n",
        "      # Add the encoded sentence to the list.\n",
        "      input_ids.append(encoded_dict['input_ids'])\n",
        "\n",
        "      # And its attention mask (simply differentiates padding from non-padding).\n",
        "      attention_masks.append(encoded_dict['attention_mask'])\n",
        "\n",
        "  # Convert the lists into tensors.\n",
        "  input_ids = torch.cat(input_ids, dim=0)\n",
        "  numerical_feats = torch.tensor(numerical_feats)\n",
        "  attention_masks = torch.cat(attention_masks, dim=0)\n",
        "  labels = torch.tensor(labels)\n",
        "\n",
        "  # # Print sentence 0, now as a list of IDs.\n",
        "  # print('Original: ', sentences[0])\n",
        "  # print('Token IDs:', input_ids[0])\n",
        "\n",
        "  return input_ids, numerical_feats, attention_masks, labels"
      ]
    },
    {
      "cell_type": "code",
      "execution_count": null,
      "metadata": {
        "id": "hkDUaEzxHPQA"
      },
      "outputs": [],
      "source": [
        "numerical_feats = ['election_distance_transformed', 'hour_cos', 'hour_sin','negative','neutral','positive']"
      ]
    },
    {
      "cell_type": "code",
      "execution_count": null,
      "metadata": {
        "id": "6aoIJ6nZKl4p"
      },
      "outputs": [],
      "source": [
        "from sklearn.preprocessing import QuantileTransformer"
      ]
    },
    {
      "cell_type": "code",
      "execution_count": null,
      "metadata": {
        "id": "d_6k-rPeJ6Eu"
      },
      "outputs": [],
      "source": [
        "def transform_election_distance(train_data, test_data):\n",
        "  # Create an instance of QuantileTransformer\n",
        "  transformer = QuantileTransformer(random_state=0)\n",
        "  # Reshape the input data to have the appropriate dimensions\n",
        "  train_election_distance_reshaped = train_data['election_distance'].values.reshape(-1, 1)\n",
        "  transformer.fit(train_election_distance_reshaped)\n",
        "\n",
        "  train_data['election_distance_transformed'] = transformer.transform(train_election_distance_reshaped)\n",
        "\n",
        "  test_election_distance_reshaped = test_data['election_distance_abs'].values.reshape(-1, 1)\n",
        "  test_data['election_distance_transformed'] = transformer.transform(test_election_distance_reshaped)\n",
        "\n",
        "  return train_data, test_data"
      ]
    },
    {
      "cell_type": "code",
      "execution_count": null,
      "metadata": {
        "id": "JZ7JwCX6DlYu"
      },
      "outputs": [],
      "source": [
        "def train_test_multiple_splits_fused(no_of_splits, classification_task, model_data, model_name, epochs, batch_size):\n",
        "  results = {}\n",
        "  mapping = {}\n",
        "  for i in range(0, no_of_splits):\n",
        "    print(f\"Currently running split {i + 1}\")\n",
        "\n",
        "    # Get the train, test and validation data splits\n",
        "    train_data, test_data = split_model_data(model_data, classification_task)\n",
        "\n",
        "    # Transform election distance\n",
        "    train_data, test_data = transform_election_distance(train_data, test_data)\n",
        "\n",
        "    # Encode the target variables\n",
        "    train_data, test_data, mapping = encode_labels(train_data, test_data, classification_task)\n",
        "    mapping = mapping\n",
        "\n",
        "    train_contexts = get_context(train_data, train_data)\n",
        "    test_contexts = get_context(test_data, model_data)\n",
        "\n",
        "    train_data[\"context\"] = train_contexts\n",
        "    test_data[\"context\"] = test_contexts\n",
        "\n",
        "    # Get train sentences and targets\n",
        "    train_sentences, train_targets = combine_features(train_data)\n",
        "    # val_sentences, val_targets = val_data.normalized_text.values, val_data.target.values\n",
        "    test_sentences, test_targets = combine_features(test_data)\n",
        "\n",
        "    # Get class weights\n",
        "    class_weights = compute_class_weight('balanced', classes=np.unique(train_targets), y=train_targets)\n",
        "    class_weights = torch.tensor(class_weights,dtype=torch.float).to(device)\n",
        "\n",
        "    # Tokenize sentences\n",
        "    tokenizer = init_tokenizer()\n",
        "    train_input_ids, train_numerical_feats, train_attention_masks, train_labels = tokenize_with_numerical(tokenizer,\n",
        "                                                                                                          train_sentences,\n",
        "                                                                                                          train_targets,\n",
        "                                                                                                          train_data[numerical_feats].values)\n",
        "    test_input_ids, test_numerical_feats, test_attention_masks, test_labels = tokenize_with_numerical(tokenizer,\n",
        "                                                                                                      test_sentences,\n",
        "                                                                                                      test_targets,\n",
        "                                                                                                      test_data[numerical_feats].values)\n",
        "\n",
        "    # Create datasets\n",
        "    train_dataset = TensorDataset(train_input_ids, train_numerical_feats, train_attention_masks, train_labels)\n",
        "    test_dataset = TensorDataset(test_input_ids, test_numerical_feats, test_attention_masks, test_labels)\n",
        "\n",
        "    # Create dataloaders\n",
        "    train_dataloader = DataLoader(\n",
        "            train_dataset,  # The training samples.\n",
        "            sampler = RandomSampler(train_dataset), # Select batches randomly\n",
        "            batch_size = batch_size # Trains with this batch size.\n",
        "        )\n",
        "\n",
        "\n",
        "    # For validation the order doesn't matter, so we'll just read them sequentially.\n",
        "    test_dataloader = DataLoader(\n",
        "                test_dataset, # The validation samples.\n",
        "                sampler = SequentialSampler(test_dataset), # Pull out batches sequentially.\n",
        "                batch_size = batch_size # Evaluate with this batch size.\n",
        "            )\n",
        "\n",
        "    # Init config\n",
        "    config = BertConfig.from_pretrained('xlm-roberta-base', num_labels=len(np.unique(train_targets)))\n",
        "    config.numerical_feat_dim = 6\n",
        "    config.text_feat_dim = config.hidden_size\n",
        "    config.combined_feat_dim = config.hidden_size + config.numerical_feat_dim\n",
        "    # config.context_feat_dim = config.hidden_size\n",
        "\n",
        "    # Initialize model and load it to device every single time\n",
        "    model = BertConcatFeatures.from_pretrained(\n",
        "        'xlm-roberta-base',\n",
        "        config = config\n",
        "        )\n",
        "\n",
        "    # Move model to device\n",
        "    desc = model.to(device)\n",
        "    optimizer = torch.optim.AdamW(model.parameters(),\n",
        "                  lr = 2e-5, # args.learning_rate\n",
        "                  eps = 1e-6 # args.adam_epsilon  - default is 1e-8.\n",
        "                )\n",
        "\n",
        "    # Total number of training steps is [number of batches] x [number of epochs].\n",
        "    # (Note that this is not the same as the number of training samples).\n",
        "    total_steps = len(train_dataloader) * epochs\n",
        "\n",
        "    # Create the learning rate scheduler.\n",
        "    scheduler = get_linear_schedule_with_warmup(optimizer,\n",
        "                                                num_warmup_steps = 0,\n",
        "                                                num_training_steps = total_steps)\n",
        "\n",
        "    # Measure the total training time for the whole run.\n",
        "    total_t0 = time.time()\n",
        "    print(f\"Training Current run: {i+1}\")\n",
        "    train_custom_model(model, train_dataloader, epochs, class_weights, optimizer, scheduler)\n",
        "    print(f\"Testing Current run: {i+1}\")\n",
        "    # Test model on test set\n",
        "    predictions, true_labels = test_custom_model(model, test_dataloader)\n",
        "    results[f\"Run {i+1}\"] = (predictions, true_labels)\n",
        "\n",
        "    # # Save instance of the model\n",
        "    # save_directory = f'/content/drive/My Drive/thesis/models/fused/{classification_task}/Run{i+1}'\n",
        "    # os.makedirs(save_directory, exist_ok=True)\n",
        "    # model.save_pretrained(save_directory)\n",
        "\n",
        "    # # Save data splits\n",
        "    # data_directory = f'/content/drive/My Drive/thesis/multiple_runs/fused/{classification_task}/Run{i+1}'\n",
        "    # os.makedirs(data_directory, exist_ok=True)\n",
        "\n",
        "    # train_data.to_csv(f\"{data_directory}/train_data.csv\",  quoting=csv.QUOTE_NONNUMERIC, index=False)\n",
        "    # test_data.to_csv(f\"{data_directory}/test_data.csv\",  quoting=csv.QUOTE_NONNUMERIC, index=False)\n",
        "\n",
        "  return results, mapping"
      ]
    },
    {
      "cell_type": "code",
      "execution_count": null,
      "metadata": {
        "colab": {
          "base_uri": "https://localhost:8080/"
        },
        "id": "lO__XLttHiTX",
        "outputId": "57171a89-ed3b-4dbf-8f07-ae150905b3a5"
      },
      "outputs": [
        {
          "output_type": "stream",
          "name": "stdout",
          "text": [
            "Currently running split 1\n",
            "Train set size: 3901\n",
            "Test set size: 976\n",
            "  DONE.\n",
            "Dataset contains 3,901 samples.\n",
            "  DONE.\n",
            "Dataset contains 976 samples.\n"
          ]
        },
        {
          "output_type": "stream",
          "name": "stderr",
          "text": [
            "Truncation was not explicitly activated but `max_length` is provided a specific value, please use `truncation=True` to explicitly truncate examples to max length. Defaulting to 'longest_first' truncation strategy. If you encode pairs of sequences (GLUE-style) with the tokenizer you can select this strategy more precisely by providing a specific strategy to `truncation`.\n",
            "/usr/local/lib/python3.10/dist-packages/transformers/tokenization_utils_base.py:2377: FutureWarning: The `pad_to_max_length` argument is deprecated and will be removed in a future version, use `padding=True` or `padding='longest'` to pad to the longest sequence in the batch, or use `padding='max_length'` to pad to a max length. In this case, you can give a specific length with `max_length` (e.g. `max_length=45`) or leave max_length to None to pad to the maximal input size of the model (e.g. 512 for Bert).\n",
            "  warnings.warn(\n",
            "/usr/local/lib/python3.10/dist-packages/transformers/tokenization_utils_base.py:2377: FutureWarning: The `pad_to_max_length` argument is deprecated and will be removed in a future version, use `padding=True` or `padding='longest'` to pad to the longest sequence in the batch, or use `padding='max_length'` to pad to a max length. In this case, you can give a specific length with `max_length` (e.g. `max_length=45`) or leave max_length to None to pad to the maximal input size of the model (e.g. 512 for Bert).\n",
            "  warnings.warn(\n",
            "You are using a model of type xlm-roberta to instantiate a model of type bert. This is not supported for all configurations of models and can yield errors.\n"
          ]
        },
        {
          "output_type": "stream",
          "name": "stdout",
          "text": [
            "MLP Layer sizes:\n",
            " Input: 774\n",
            " Output: 5\n"
          ]
        },
        {
          "output_type": "stream",
          "name": "stderr",
          "text": [
            "Some weights of the model checkpoint at xlm-roberta-base were not used when initializing BertConcatFeatures: ['lm_head.bias', 'lm_head.layer_norm.weight', 'roberta.pooler.dense.bias', 'roberta.pooler.dense.weight', 'lm_head.layer_norm.bias', 'lm_head.dense.bias', 'lm_head.dense.weight']\n",
            "- This IS expected if you are initializing BertConcatFeatures from the checkpoint of a model trained on another task or with another architecture (e.g. initializing a BertForSequenceClassification model from a BertForPreTraining model).\n",
            "- This IS NOT expected if you are initializing BertConcatFeatures from the checkpoint of a model that you expect to be exactly identical (initializing a BertForSequenceClassification model from a BertForSequenceClassification model).\n",
            "Some weights of BertConcatFeatures were not initialized from the model checkpoint at xlm-roberta-base and are newly initialized: ['num_bn.bias', 'dense.weight', 'dense.bias', 'classifier.dense.bias', 'num_bn.running_var', 'output_proj.weight', 'output_proj.bias', 'num_bn.num_batches_tracked', 'classifier.out_proj.bias', 'classifier.dense.weight', 'num_bn.running_mean', 'classifier.out_proj.weight', 'num_bn.weight']\n",
            "You should probably TRAIN this model on a down-stream task to be able to use it for predictions and inference.\n"
          ]
        },
        {
          "output_type": "stream",
          "name": "stdout",
          "text": [
            "Training Current run: 1\n",
            "\n",
            "======== Epoch 1 / 4 ========\n",
            "Training...\n",
            "\n",
            "  Average training loss: 1.25\n",
            "  Training epoch took: 0:01:08\n",
            "\n",
            "======== Epoch 2 / 4 ========\n",
            "Training...\n",
            "\n",
            "  Average training loss: 0.82\n",
            "  Training epoch took: 0:01:09\n",
            "\n",
            "======== Epoch 3 / 4 ========\n",
            "Training...\n",
            "\n",
            "  Average training loss: 0.60\n",
            "  Training epoch took: 0:01:09\n",
            "\n",
            "======== Epoch 4 / 4 ========\n",
            "Training...\n",
            "\n",
            "  Average training loss: 0.46\n",
            "  Training epoch took: 0:01:09\n",
            "Testing Current run: 1\n"
          ]
        }
      ],
      "source": [
        "results, mapping = train_test_multiple_splits_fused(no_of_splits = 1,\n",
        "                                     classification_task = 'Multi-Class',\n",
        "                                     model_data = model_data,\n",
        "                                     model_name = 'xlm-roberta-base',\n",
        "                                     epochs = 4,\n",
        "                                     batch_size = 16)"
      ]
    },
    {
      "cell_type": "code",
      "execution_count": null,
      "metadata": {
        "id": "mivL4vSPIJh4"
      },
      "outputs": [],
      "source": [
        "(best_model_predictions, best_model_true_labels), macro_f1_score, avg_report, all_scores, avg_accuracy,avg_auc = average_classification_report(results, target_names = mapping.keys(), classification_task='Multi-Class')"
      ]
    },
    {
      "cell_type": "code",
      "execution_count": null,
      "metadata": {
        "colab": {
          "base_uri": "https://localhost:8080/"
        },
        "id": "grIsRLQM7hBw",
        "outputId": "03a958dc-f08b-4387-d46e-237e18661f4a"
      },
      "outputs": [
        {
          "output_type": "execute_result",
          "data": {
            "text/plain": [
              "0.0"
            ]
          },
          "metadata": {},
          "execution_count": 37
        }
      ],
      "source": [
        "avg_auc"
      ]
    },
    {
      "cell_type": "code",
      "execution_count": null,
      "metadata": {
        "colab": {
          "base_uri": "https://localhost:8080/"
        },
        "id": "rwcueI3qSup9",
        "outputId": "8aaf03d1-885a-4330-9545-87d61b515f9a"
      },
      "outputs": [
        {
          "output_type": "stream",
          "name": "stdout",
          "text": [
            "0.6658749245672698\n"
          ]
        }
      ],
      "source": [
        "print(macro_f1_score)"
      ]
    },
    {
      "cell_type": "code",
      "execution_count": null,
      "metadata": {
        "colab": {
          "base_uri": "https://localhost:8080/"
        },
        "id": "shZB6yKMSxmJ",
        "outputId": "ca9c6a0c-9c28-4453-9b32-cb5f6a27acc7"
      },
      "outputs": [
        {
          "output_type": "stream",
          "name": "stdout",
          "text": [
            "0.6700819672131147\n"
          ]
        }
      ],
      "source": [
        "print(avg_accuracy)"
      ]
    },
    {
      "cell_type": "code",
      "execution_count": null,
      "metadata": {
        "colab": {
          "base_uri": "https://localhost:8080/",
          "height": 273
        },
        "id": "OPSTYki1S1a5",
        "outputId": "83dbf3d4-136b-40b2-af45-d996529913c5"
      },
      "outputs": [
        {
          "output_type": "execute_result",
          "data": {
            "text/plain": [
              "           Counting and Results  Political Rallies  Positive Events  \\\n",
              "precision              0.751835           0.744336         0.744223   \n",
              "recall                 0.767480           0.696581         0.784257   \n",
              "f1-score               0.758954           0.718868         0.763103   \n",
              "support              205.000000          78.000000       343.000000   \n",
              "\n",
              "           Security Issues  Voting Issues  accuracy   macro avg  weighted avg  \n",
              "precision         0.682706       0.702358       1.0    0.725092      0.728361  \n",
              "recall            0.653005       0.659357       1.0    0.712136      0.728142  \n",
              "f1-score          0.666515       0.680169       1.0    0.717522      0.727249  \n",
              "support         122.000000     228.000000       1.0  976.000000    976.000000  "
            ],
            "text/html": [
              "\n",
              "\n",
              "  <div id=\"df-31ffcec1-b716-4a6c-ae14-43e89a871b27\">\n",
              "    <div class=\"colab-df-container\">\n",
              "      <div>\n",
              "<style scoped>\n",
              "    .dataframe tbody tr th:only-of-type {\n",
              "        vertical-align: middle;\n",
              "    }\n",
              "\n",
              "    .dataframe tbody tr th {\n",
              "        vertical-align: top;\n",
              "    }\n",
              "\n",
              "    .dataframe thead th {\n",
              "        text-align: right;\n",
              "    }\n",
              "</style>\n",
              "<table border=\"1\" class=\"dataframe\">\n",
              "  <thead>\n",
              "    <tr style=\"text-align: right;\">\n",
              "      <th></th>\n",
              "      <th>Counting and Results</th>\n",
              "      <th>Political Rallies</th>\n",
              "      <th>Positive Events</th>\n",
              "      <th>Security Issues</th>\n",
              "      <th>Voting Issues</th>\n",
              "      <th>accuracy</th>\n",
              "      <th>macro avg</th>\n",
              "      <th>weighted avg</th>\n",
              "    </tr>\n",
              "  </thead>\n",
              "  <tbody>\n",
              "    <tr>\n",
              "      <th>precision</th>\n",
              "      <td>0.751835</td>\n",
              "      <td>0.744336</td>\n",
              "      <td>0.744223</td>\n",
              "      <td>0.682706</td>\n",
              "      <td>0.702358</td>\n",
              "      <td>1.0</td>\n",
              "      <td>0.725092</td>\n",
              "      <td>0.728361</td>\n",
              "    </tr>\n",
              "    <tr>\n",
              "      <th>recall</th>\n",
              "      <td>0.767480</td>\n",
              "      <td>0.696581</td>\n",
              "      <td>0.784257</td>\n",
              "      <td>0.653005</td>\n",
              "      <td>0.659357</td>\n",
              "      <td>1.0</td>\n",
              "      <td>0.712136</td>\n",
              "      <td>0.728142</td>\n",
              "    </tr>\n",
              "    <tr>\n",
              "      <th>f1-score</th>\n",
              "      <td>0.758954</td>\n",
              "      <td>0.718868</td>\n",
              "      <td>0.763103</td>\n",
              "      <td>0.666515</td>\n",
              "      <td>0.680169</td>\n",
              "      <td>1.0</td>\n",
              "      <td>0.717522</td>\n",
              "      <td>0.727249</td>\n",
              "    </tr>\n",
              "    <tr>\n",
              "      <th>support</th>\n",
              "      <td>205.000000</td>\n",
              "      <td>78.000000</td>\n",
              "      <td>343.000000</td>\n",
              "      <td>122.000000</td>\n",
              "      <td>228.000000</td>\n",
              "      <td>1.0</td>\n",
              "      <td>976.000000</td>\n",
              "      <td>976.000000</td>\n",
              "    </tr>\n",
              "  </tbody>\n",
              "</table>\n",
              "</div>\n",
              "      <button class=\"colab-df-convert\" onclick=\"convertToInteractive('df-31ffcec1-b716-4a6c-ae14-43e89a871b27')\"\n",
              "              title=\"Convert this dataframe to an interactive table.\"\n",
              "              style=\"display:none;\">\n",
              "\n",
              "  <svg xmlns=\"http://www.w3.org/2000/svg\" height=\"24px\"viewBox=\"0 0 24 24\"\n",
              "       width=\"24px\">\n",
              "    <path d=\"M0 0h24v24H0V0z\" fill=\"none\"/>\n",
              "    <path d=\"M18.56 5.44l.94 2.06.94-2.06 2.06-.94-2.06-.94-.94-2.06-.94 2.06-2.06.94zm-11 1L8.5 8.5l.94-2.06 2.06-.94-2.06-.94L8.5 2.5l-.94 2.06-2.06.94zm10 10l.94 2.06.94-2.06 2.06-.94-2.06-.94-.94-2.06-.94 2.06-2.06.94z\"/><path d=\"M17.41 7.96l-1.37-1.37c-.4-.4-.92-.59-1.43-.59-.52 0-1.04.2-1.43.59L10.3 9.45l-7.72 7.72c-.78.78-.78 2.05 0 2.83L4 21.41c.39.39.9.59 1.41.59.51 0 1.02-.2 1.41-.59l7.78-7.78 2.81-2.81c.8-.78.8-2.07 0-2.86zM5.41 20L4 18.59l7.72-7.72 1.47 1.35L5.41 20z\"/>\n",
              "  </svg>\n",
              "      </button>\n",
              "\n",
              "\n",
              "\n",
              "    <div id=\"df-c4318c9d-2734-4a14-a783-c1b42e0952a5\">\n",
              "      <button class=\"colab-df-quickchart\" onclick=\"quickchart('df-c4318c9d-2734-4a14-a783-c1b42e0952a5')\"\n",
              "              title=\"Suggest charts.\"\n",
              "              style=\"display:none;\">\n",
              "\n",
              "<svg xmlns=\"http://www.w3.org/2000/svg\" height=\"24px\"viewBox=\"0 0 24 24\"\n",
              "     width=\"24px\">\n",
              "    <g>\n",
              "        <path d=\"M19 3H5c-1.1 0-2 .9-2 2v14c0 1.1.9 2 2 2h14c1.1 0 2-.9 2-2V5c0-1.1-.9-2-2-2zM9 17H7v-7h2v7zm4 0h-2V7h2v10zm4 0h-2v-4h2v4z\"/>\n",
              "    </g>\n",
              "</svg>\n",
              "      </button>\n",
              "    </div>\n",
              "\n",
              "<style>\n",
              "  .colab-df-quickchart {\n",
              "    background-color: #E8F0FE;\n",
              "    border: none;\n",
              "    border-radius: 50%;\n",
              "    cursor: pointer;\n",
              "    display: none;\n",
              "    fill: #1967D2;\n",
              "    height: 32px;\n",
              "    padding: 0 0 0 0;\n",
              "    width: 32px;\n",
              "  }\n",
              "\n",
              "  .colab-df-quickchart:hover {\n",
              "    background-color: #E2EBFA;\n",
              "    box-shadow: 0px 1px 2px rgba(60, 64, 67, 0.3), 0px 1px 3px 1px rgba(60, 64, 67, 0.15);\n",
              "    fill: #174EA6;\n",
              "  }\n",
              "\n",
              "  [theme=dark] .colab-df-quickchart {\n",
              "    background-color: #3B4455;\n",
              "    fill: #D2E3FC;\n",
              "  }\n",
              "\n",
              "  [theme=dark] .colab-df-quickchart:hover {\n",
              "    background-color: #434B5C;\n",
              "    box-shadow: 0px 1px 3px 1px rgba(0, 0, 0, 0.15);\n",
              "    filter: drop-shadow(0px 1px 2px rgba(0, 0, 0, 0.3));\n",
              "    fill: #FFFFFF;\n",
              "  }\n",
              "</style>\n",
              "\n",
              "    <script>\n",
              "      async function quickchart(key) {\n",
              "        const containerElement = document.querySelector('#' + key);\n",
              "        const charts = await google.colab.kernel.invokeFunction(\n",
              "            'suggestCharts', [key], {});\n",
              "      }\n",
              "    </script>\n",
              "\n",
              "      <script>\n",
              "\n",
              "function displayQuickchartButton(domScope) {\n",
              "  let quickchartButtonEl =\n",
              "    domScope.querySelector('#df-c4318c9d-2734-4a14-a783-c1b42e0952a5 button.colab-df-quickchart');\n",
              "  quickchartButtonEl.style.display =\n",
              "    google.colab.kernel.accessAllowed ? 'block' : 'none';\n",
              "}\n",
              "\n",
              "        displayQuickchartButton(document);\n",
              "      </script>\n",
              "      <style>\n",
              "    .colab-df-container {\n",
              "      display:flex;\n",
              "      flex-wrap:wrap;\n",
              "      gap: 12px;\n",
              "    }\n",
              "\n",
              "    .colab-df-convert {\n",
              "      background-color: #E8F0FE;\n",
              "      border: none;\n",
              "      border-radius: 50%;\n",
              "      cursor: pointer;\n",
              "      display: none;\n",
              "      fill: #1967D2;\n",
              "      height: 32px;\n",
              "      padding: 0 0 0 0;\n",
              "      width: 32px;\n",
              "    }\n",
              "\n",
              "    .colab-df-convert:hover {\n",
              "      background-color: #E2EBFA;\n",
              "      box-shadow: 0px 1px 2px rgba(60, 64, 67, 0.3), 0px 1px 3px 1px rgba(60, 64, 67, 0.15);\n",
              "      fill: #174EA6;\n",
              "    }\n",
              "\n",
              "    [theme=dark] .colab-df-convert {\n",
              "      background-color: #3B4455;\n",
              "      fill: #D2E3FC;\n",
              "    }\n",
              "\n",
              "    [theme=dark] .colab-df-convert:hover {\n",
              "      background-color: #434B5C;\n",
              "      box-shadow: 0px 1px 3px 1px rgba(0, 0, 0, 0.15);\n",
              "      filter: drop-shadow(0px 1px 2px rgba(0, 0, 0, 0.3));\n",
              "      fill: #FFFFFF;\n",
              "    }\n",
              "  </style>\n",
              "\n",
              "      <script>\n",
              "        const buttonEl =\n",
              "          document.querySelector('#df-31ffcec1-b716-4a6c-ae14-43e89a871b27 button.colab-df-convert');\n",
              "        buttonEl.style.display =\n",
              "          google.colab.kernel.accessAllowed ? 'block' : 'none';\n",
              "\n",
              "        async function convertToInteractive(key) {\n",
              "          const element = document.querySelector('#df-31ffcec1-b716-4a6c-ae14-43e89a871b27');\n",
              "          const dataTable =\n",
              "            await google.colab.kernel.invokeFunction('convertToInteractive',\n",
              "                                                     [key], {});\n",
              "          if (!dataTable) return;\n",
              "\n",
              "          const docLinkHtml = 'Like what you see? Visit the ' +\n",
              "            '<a target=\"_blank\" href=https://colab.research.google.com/notebooks/data_table.ipynb>data table notebook</a>'\n",
              "            + ' to learn more about interactive tables.';\n",
              "          element.innerHTML = '';\n",
              "          dataTable['output_type'] = 'display_data';\n",
              "          await google.colab.output.renderOutput(dataTable, element);\n",
              "          const docLink = document.createElement('div');\n",
              "          docLink.innerHTML = docLinkHtml;\n",
              "          element.appendChild(docLink);\n",
              "        }\n",
              "      </script>\n",
              "    </div>\n",
              "  </div>\n"
            ]
          },
          "metadata": {},
          "execution_count": 100
        }
      ],
      "source": [
        "pd.DataFrame(avg_report)"
      ]
    },
    {
      "cell_type": "code",
      "execution_count": null,
      "metadata": {
        "colab": {
          "base_uri": "https://localhost:8080/",
          "height": 463
        },
        "id": "mGCTo2SDS8Vn",
        "outputId": "4c3955cf-9572-4f35-d6b6-370112c5deca"
      },
      "outputs": [
        {
          "data": {
            "image/svg+xml": "<?xml version=\"1.0\" encoding=\"utf-8\" standalone=\"no\"?>\n<!DOCTYPE svg PUBLIC \"-//W3C//DTD SVG 1.1//EN\"\n  \"http://www.w3.org/Graphics/SVG/1.1/DTD/svg11.dtd\">\n<svg xmlns:xlink=\"http://www.w3.org/1999/xlink\" width=\"414.127188pt\" height=\"331.389812pt\" viewBox=\"0 0 414.127188 331.389812\" xmlns=\"http://www.w3.org/2000/svg\" version=\"1.1\">\n <metadata>\n  <rdf:RDF xmlns:dc=\"http://purl.org/dc/elements/1.1/\" xmlns:cc=\"http://creativecommons.org/ns#\" xmlns:rdf=\"http://www.w3.org/1999/02/22-rdf-syntax-ns#\">\n   <cc:Work>\n    <dc:type rdf:resource=\"http://purl.org/dc/dcmitype/StillImage\"/>\n    <dc:date>2023-07-17T17:36:40.488284</dc:date>\n    <dc:format>image/svg+xml</dc:format>\n    <dc:creator>\n     <cc:Agent>\n      <dc:title>Matplotlib v3.7.1, https://matplotlib.org/</dc:title>\n     </cc:Agent>\n    </dc:creator>\n   </cc:Work>\n  </rdf:RDF>\n </metadata>\n <defs>\n  <style type=\"text/css\">*{stroke-linejoin: round; stroke-linecap: butt}</style>\n </defs>\n <g id=\"figure_1\">\n  <g id=\"patch_1\">\n   <path d=\"M 0 331.389812 \nL 414.127188 331.389812 \nL 414.127188 0 \nL 0 0 \nz\n\" style=\"fill: #ffffff\"/>\n  </g>\n  <g id=\"axes_1\">\n   <g id=\"patch_2\">\n    <path d=\"M 49.807187 288.430125 \nL 406.927188 288.430125 \nL 406.927188 22.318125 \nL 49.807187 22.318125 \nz\n\" style=\"fill: #eaeaf2\"/>\n   </g>\n   <g id=\"matplotlib.axis_1\">\n    <g id=\"xtick_1\">\n     <g id=\"line2d_1\">\n      <path d=\"M 87.311398 288.430125 \nL 87.311398 22.318125 \n\" clip-path=\"url(#p46c4ee148a)\" style=\"fill: none; stroke: #ffffff; stroke-linecap: round\"/>\n     </g>\n     <g id=\"text_1\">\n      <!-- 0.7675 -->\n      <g style=\"fill: #262626\" transform=\"translate(68.066554 306.288406) scale(0.11 -0.11)\">\n       <defs>\n        <path id=\"DejaVuSans-30\" d=\"M 2034 4250 \nQ 1547 4250 1301 3770 \nQ 1056 3291 1056 2328 \nQ 1056 1369 1301 889 \nQ 1547 409 2034 409 \nQ 2525 409 2770 889 \nQ 3016 1369 3016 2328 \nQ 3016 3291 2770 3770 \nQ 2525 4250 2034 4250 \nz\nM 2034 4750 \nQ 2819 4750 3233 4129 \nQ 3647 3509 3647 2328 \nQ 3647 1150 3233 529 \nQ 2819 -91 2034 -91 \nQ 1250 -91 836 529 \nQ 422 1150 422 2328 \nQ 422 3509 836 4129 \nQ 1250 4750 2034 4750 \nz\n\" transform=\"scale(0.015625)\"/>\n        <path id=\"DejaVuSans-2e\" d=\"M 684 794 \nL 1344 794 \nL 1344 0 \nL 684 0 \nL 684 794 \nz\n\" transform=\"scale(0.015625)\"/>\n        <path id=\"DejaVuSans-37\" d=\"M 525 4666 \nL 3525 4666 \nL 3525 4397 \nL 1831 0 \nL 1172 0 \nL 2766 4134 \nL 525 4134 \nL 525 4666 \nz\n\" transform=\"scale(0.015625)\"/>\n        <path id=\"DejaVuSans-36\" d=\"M 2113 2584 \nQ 1688 2584 1439 2293 \nQ 1191 2003 1191 1497 \nQ 1191 994 1439 701 \nQ 1688 409 2113 409 \nQ 2538 409 2786 701 \nQ 3034 994 3034 1497 \nQ 3034 2003 2786 2293 \nQ 2538 2584 2113 2584 \nz\nM 3366 4563 \nL 3366 3988 \nQ 3128 4100 2886 4159 \nQ 2644 4219 2406 4219 \nQ 1781 4219 1451 3797 \nQ 1122 3375 1075 2522 \nQ 1259 2794 1537 2939 \nQ 1816 3084 2150 3084 \nQ 2853 3084 3261 2657 \nQ 3669 2231 3669 1497 \nQ 3669 778 3244 343 \nQ 2819 -91 2113 -91 \nQ 1303 -91 875 529 \nQ 447 1150 447 2328 \nQ 447 3434 972 4092 \nQ 1497 4750 2381 4750 \nQ 2619 4750 2861 4703 \nQ 3103 4656 3366 4563 \nz\n\" transform=\"scale(0.015625)\"/>\n        <path id=\"DejaVuSans-35\" d=\"M 691 4666 \nL 3169 4666 \nL 3169 4134 \nL 1269 4134 \nL 1269 2991 \nQ 1406 3038 1543 3061 \nQ 1681 3084 1819 3084 \nQ 2600 3084 3056 2656 \nQ 3513 2228 3513 1497 \nQ 3513 744 3044 326 \nQ 2575 -91 1722 -91 \nQ 1428 -91 1123 -41 \nQ 819 9 494 109 \nL 494 744 \nQ 775 591 1075 516 \nQ 1375 441 1709 441 \nQ 2250 441 2565 725 \nQ 2881 1009 2881 1497 \nQ 2881 1984 2565 2268 \nQ 2250 2553 1709 2553 \nQ 1456 2553 1204 2497 \nQ 953 2441 691 2322 \nL 691 4666 \nz\n\" transform=\"scale(0.015625)\"/>\n       </defs>\n       <use xlink:href=\"#DejaVuSans-30\"/>\n       <use xlink:href=\"#DejaVuSans-2e\" x=\"63.623047\"/>\n       <use xlink:href=\"#DejaVuSans-37\" x=\"95.410156\"/>\n       <use xlink:href=\"#DejaVuSans-36\" x=\"159.033203\"/>\n       <use xlink:href=\"#DejaVuSans-37\" x=\"222.65625\"/>\n       <use xlink:href=\"#DejaVuSans-35\" x=\"286.279297\"/>\n      </g>\n     </g>\n    </g>\n    <g id=\"xtick_2\">\n     <g id=\"line2d_2\">\n      <path d=\"M 129.907654 288.430125 \nL 129.907654 22.318125 \n\" clip-path=\"url(#p46c4ee148a)\" style=\"fill: none; stroke: #ffffff; stroke-linecap: round\"/>\n     </g>\n     <g id=\"text_2\">\n      <!-- 0.7700 -->\n      <g style=\"fill: #262626\" transform=\"translate(110.66281 306.288406) scale(0.11 -0.11)\">\n       <use xlink:href=\"#DejaVuSans-30\"/>\n       <use xlink:href=\"#DejaVuSans-2e\" x=\"63.623047\"/>\n       <use xlink:href=\"#DejaVuSans-37\" x=\"95.410156\"/>\n       <use xlink:href=\"#DejaVuSans-37\" x=\"159.033203\"/>\n       <use xlink:href=\"#DejaVuSans-30\" x=\"222.65625\"/>\n       <use xlink:href=\"#DejaVuSans-30\" x=\"286.279297\"/>\n      </g>\n     </g>\n    </g>\n    <g id=\"xtick_3\">\n     <g id=\"line2d_3\">\n      <path d=\"M 172.50391 288.430125 \nL 172.50391 22.318125 \n\" clip-path=\"url(#p46c4ee148a)\" style=\"fill: none; stroke: #ffffff; stroke-linecap: round\"/>\n     </g>\n     <g id=\"text_3\">\n      <!-- 0.7725 -->\n      <g style=\"fill: #262626\" transform=\"translate(153.259066 306.288406) scale(0.11 -0.11)\">\n       <defs>\n        <path id=\"DejaVuSans-32\" d=\"M 1228 531 \nL 3431 531 \nL 3431 0 \nL 469 0 \nL 469 531 \nQ 828 903 1448 1529 \nQ 2069 2156 2228 2338 \nQ 2531 2678 2651 2914 \nQ 2772 3150 2772 3378 \nQ 2772 3750 2511 3984 \nQ 2250 4219 1831 4219 \nQ 1534 4219 1204 4116 \nQ 875 4013 500 3803 \nL 500 4441 \nQ 881 4594 1212 4672 \nQ 1544 4750 1819 4750 \nQ 2544 4750 2975 4387 \nQ 3406 4025 3406 3419 \nQ 3406 3131 3298 2873 \nQ 3191 2616 2906 2266 \nQ 2828 2175 2409 1742 \nQ 1991 1309 1228 531 \nz\n\" transform=\"scale(0.015625)\"/>\n       </defs>\n       <use xlink:href=\"#DejaVuSans-30\"/>\n       <use xlink:href=\"#DejaVuSans-2e\" x=\"63.623047\"/>\n       <use xlink:href=\"#DejaVuSans-37\" x=\"95.410156\"/>\n       <use xlink:href=\"#DejaVuSans-37\" x=\"159.033203\"/>\n       <use xlink:href=\"#DejaVuSans-32\" x=\"222.65625\"/>\n       <use xlink:href=\"#DejaVuSans-35\" x=\"286.279297\"/>\n      </g>\n     </g>\n    </g>\n    <g id=\"xtick_4\">\n     <g id=\"line2d_4\">\n      <path d=\"M 215.100166 288.430125 \nL 215.100166 22.318125 \n\" clip-path=\"url(#p46c4ee148a)\" style=\"fill: none; stroke: #ffffff; stroke-linecap: round\"/>\n     </g>\n     <g id=\"text_4\">\n      <!-- 0.7750 -->\n      <g style=\"fill: #262626\" transform=\"translate(195.855322 306.288406) scale(0.11 -0.11)\">\n       <use xlink:href=\"#DejaVuSans-30\"/>\n       <use xlink:href=\"#DejaVuSans-2e\" x=\"63.623047\"/>\n       <use xlink:href=\"#DejaVuSans-37\" x=\"95.410156\"/>\n       <use xlink:href=\"#DejaVuSans-37\" x=\"159.033203\"/>\n       <use xlink:href=\"#DejaVuSans-35\" x=\"222.65625\"/>\n       <use xlink:href=\"#DejaVuSans-30\" x=\"286.279297\"/>\n      </g>\n     </g>\n    </g>\n    <g id=\"xtick_5\">\n     <g id=\"line2d_5\">\n      <path d=\"M 257.696422 288.430125 \nL 257.696422 22.318125 \n\" clip-path=\"url(#p46c4ee148a)\" style=\"fill: none; stroke: #ffffff; stroke-linecap: round\"/>\n     </g>\n     <g id=\"text_5\">\n      <!-- 0.7775 -->\n      <g style=\"fill: #262626\" transform=\"translate(238.451578 306.288406) scale(0.11 -0.11)\">\n       <use xlink:href=\"#DejaVuSans-30\"/>\n       <use xlink:href=\"#DejaVuSans-2e\" x=\"63.623047\"/>\n       <use xlink:href=\"#DejaVuSans-37\" x=\"95.410156\"/>\n       <use xlink:href=\"#DejaVuSans-37\" x=\"159.033203\"/>\n       <use xlink:href=\"#DejaVuSans-37\" x=\"222.65625\"/>\n       <use xlink:href=\"#DejaVuSans-35\" x=\"286.279297\"/>\n      </g>\n     </g>\n    </g>\n    <g id=\"xtick_6\">\n     <g id=\"line2d_6\">\n      <path d=\"M 300.292678 288.430125 \nL 300.292678 22.318125 \n\" clip-path=\"url(#p46c4ee148a)\" style=\"fill: none; stroke: #ffffff; stroke-linecap: round\"/>\n     </g>\n     <g id=\"text_6\">\n      <!-- 0.7800 -->\n      <g style=\"fill: #262626\" transform=\"translate(281.047834 306.288406) scale(0.11 -0.11)\">\n       <defs>\n        <path id=\"DejaVuSans-38\" d=\"M 2034 2216 \nQ 1584 2216 1326 1975 \nQ 1069 1734 1069 1313 \nQ 1069 891 1326 650 \nQ 1584 409 2034 409 \nQ 2484 409 2743 651 \nQ 3003 894 3003 1313 \nQ 3003 1734 2745 1975 \nQ 2488 2216 2034 2216 \nz\nM 1403 2484 \nQ 997 2584 770 2862 \nQ 544 3141 544 3541 \nQ 544 4100 942 4425 \nQ 1341 4750 2034 4750 \nQ 2731 4750 3128 4425 \nQ 3525 4100 3525 3541 \nQ 3525 3141 3298 2862 \nQ 3072 2584 2669 2484 \nQ 3125 2378 3379 2068 \nQ 3634 1759 3634 1313 \nQ 3634 634 3220 271 \nQ 2806 -91 2034 -91 \nQ 1263 -91 848 271 \nQ 434 634 434 1313 \nQ 434 1759 690 2068 \nQ 947 2378 1403 2484 \nz\nM 1172 3481 \nQ 1172 3119 1398 2916 \nQ 1625 2713 2034 2713 \nQ 2441 2713 2670 2916 \nQ 2900 3119 2900 3481 \nQ 2900 3844 2670 4047 \nQ 2441 4250 2034 4250 \nQ 1625 4250 1398 4047 \nQ 1172 3844 1172 3481 \nz\n\" transform=\"scale(0.015625)\"/>\n       </defs>\n       <use xlink:href=\"#DejaVuSans-30\"/>\n       <use xlink:href=\"#DejaVuSans-2e\" x=\"63.623047\"/>\n       <use xlink:href=\"#DejaVuSans-37\" x=\"95.410156\"/>\n       <use xlink:href=\"#DejaVuSans-38\" x=\"159.033203\"/>\n       <use xlink:href=\"#DejaVuSans-30\" x=\"222.65625\"/>\n       <use xlink:href=\"#DejaVuSans-30\" x=\"286.279297\"/>\n      </g>\n     </g>\n    </g>\n    <g id=\"xtick_7\">\n     <g id=\"line2d_7\">\n      <path d=\"M 342.888934 288.430125 \nL 342.888934 22.318125 \n\" clip-path=\"url(#p46c4ee148a)\" style=\"fill: none; stroke: #ffffff; stroke-linecap: round\"/>\n     </g>\n     <g id=\"text_7\">\n      <!-- 0.7825 -->\n      <g style=\"fill: #262626\" transform=\"translate(323.64409 306.288406) scale(0.11 -0.11)\">\n       <use xlink:href=\"#DejaVuSans-30\"/>\n       <use xlink:href=\"#DejaVuSans-2e\" x=\"63.623047\"/>\n       <use xlink:href=\"#DejaVuSans-37\" x=\"95.410156\"/>\n       <use xlink:href=\"#DejaVuSans-38\" x=\"159.033203\"/>\n       <use xlink:href=\"#DejaVuSans-32\" x=\"222.65625\"/>\n       <use xlink:href=\"#DejaVuSans-35\" x=\"286.279297\"/>\n      </g>\n     </g>\n    </g>\n    <g id=\"xtick_8\">\n     <g id=\"line2d_8\">\n      <path d=\"M 385.48519 288.430125 \nL 385.48519 22.318125 \n\" clip-path=\"url(#p46c4ee148a)\" style=\"fill: none; stroke: #ffffff; stroke-linecap: round\"/>\n     </g>\n     <g id=\"text_8\">\n      <!-- 0.7850 -->\n      <g style=\"fill: #262626\" transform=\"translate(366.240346 306.288406) scale(0.11 -0.11)\">\n       <use xlink:href=\"#DejaVuSans-30\"/>\n       <use xlink:href=\"#DejaVuSans-2e\" x=\"63.623047\"/>\n       <use xlink:href=\"#DejaVuSans-37\" x=\"95.410156\"/>\n       <use xlink:href=\"#DejaVuSans-38\" x=\"159.033203\"/>\n       <use xlink:href=\"#DejaVuSans-35\" x=\"222.65625\"/>\n       <use xlink:href=\"#DejaVuSans-30\" x=\"286.279297\"/>\n      </g>\n     </g>\n    </g>\n    <g id=\"text_9\">\n     <!-- Scores -->\n     <g style=\"fill: #262626\" transform=\"translate(208.43875 321.694187) scale(0.12 -0.12)\">\n      <defs>\n       <path id=\"DejaVuSans-53\" d=\"M 3425 4513 \nL 3425 3897 \nQ 3066 4069 2747 4153 \nQ 2428 4238 2131 4238 \nQ 1616 4238 1336 4038 \nQ 1056 3838 1056 3469 \nQ 1056 3159 1242 3001 \nQ 1428 2844 1947 2747 \nL 2328 2669 \nQ 3034 2534 3370 2195 \nQ 3706 1856 3706 1288 \nQ 3706 609 3251 259 \nQ 2797 -91 1919 -91 \nQ 1588 -91 1214 -16 \nQ 841 59 441 206 \nL 441 856 \nQ 825 641 1194 531 \nQ 1563 422 1919 422 \nQ 2459 422 2753 634 \nQ 3047 847 3047 1241 \nQ 3047 1584 2836 1778 \nQ 2625 1972 2144 2069 \nL 1759 2144 \nQ 1053 2284 737 2584 \nQ 422 2884 422 3419 \nQ 422 4038 858 4394 \nQ 1294 4750 2059 4750 \nQ 2388 4750 2728 4690 \nQ 3069 4631 3425 4513 \nz\n\" transform=\"scale(0.015625)\"/>\n       <path id=\"DejaVuSans-63\" d=\"M 3122 3366 \nL 3122 2828 \nQ 2878 2963 2633 3030 \nQ 2388 3097 2138 3097 \nQ 1578 3097 1268 2742 \nQ 959 2388 959 1747 \nQ 959 1106 1268 751 \nQ 1578 397 2138 397 \nQ 2388 397 2633 464 \nQ 2878 531 3122 666 \nL 3122 134 \nQ 2881 22 2623 -34 \nQ 2366 -91 2075 -91 \nQ 1284 -91 818 406 \nQ 353 903 353 1747 \nQ 353 2603 823 3093 \nQ 1294 3584 2113 3584 \nQ 2378 3584 2631 3529 \nQ 2884 3475 3122 3366 \nz\n\" transform=\"scale(0.015625)\"/>\n       <path id=\"DejaVuSans-6f\" d=\"M 1959 3097 \nQ 1497 3097 1228 2736 \nQ 959 2375 959 1747 \nQ 959 1119 1226 758 \nQ 1494 397 1959 397 \nQ 2419 397 2687 759 \nQ 2956 1122 2956 1747 \nQ 2956 2369 2687 2733 \nQ 2419 3097 1959 3097 \nz\nM 1959 3584 \nQ 2709 3584 3137 3096 \nQ 3566 2609 3566 1747 \nQ 3566 888 3137 398 \nQ 2709 -91 1959 -91 \nQ 1206 -91 779 398 \nQ 353 888 353 1747 \nQ 353 2609 779 3096 \nQ 1206 3584 1959 3584 \nz\n\" transform=\"scale(0.015625)\"/>\n       <path id=\"DejaVuSans-72\" d=\"M 2631 2963 \nQ 2534 3019 2420 3045 \nQ 2306 3072 2169 3072 \nQ 1681 3072 1420 2755 \nQ 1159 2438 1159 1844 \nL 1159 0 \nL 581 0 \nL 581 3500 \nL 1159 3500 \nL 1159 2956 \nQ 1341 3275 1631 3429 \nQ 1922 3584 2338 3584 \nQ 2397 3584 2469 3576 \nQ 2541 3569 2628 3553 \nL 2631 2963 \nz\n\" transform=\"scale(0.015625)\"/>\n       <path id=\"DejaVuSans-65\" d=\"M 3597 1894 \nL 3597 1613 \nL 953 1613 \nQ 991 1019 1311 708 \nQ 1631 397 2203 397 \nQ 2534 397 2845 478 \nQ 3156 559 3463 722 \nL 3463 178 \nQ 3153 47 2828 -22 \nQ 2503 -91 2169 -91 \nQ 1331 -91 842 396 \nQ 353 884 353 1716 \nQ 353 2575 817 3079 \nQ 1281 3584 2069 3584 \nQ 2775 3584 3186 3129 \nQ 3597 2675 3597 1894 \nz\nM 3022 2063 \nQ 3016 2534 2758 2815 \nQ 2500 3097 2075 3097 \nQ 1594 3097 1305 2825 \nQ 1016 2553 972 2059 \nL 3022 2063 \nz\n\" transform=\"scale(0.015625)\"/>\n       <path id=\"DejaVuSans-73\" d=\"M 2834 3397 \nL 2834 2853 \nQ 2591 2978 2328 3040 \nQ 2066 3103 1784 3103 \nQ 1356 3103 1142 2972 \nQ 928 2841 928 2578 \nQ 928 2378 1081 2264 \nQ 1234 2150 1697 2047 \nL 1894 2003 \nQ 2506 1872 2764 1633 \nQ 3022 1394 3022 966 \nQ 3022 478 2636 193 \nQ 2250 -91 1575 -91 \nQ 1294 -91 989 -36 \nQ 684 19 347 128 \nL 347 722 \nQ 666 556 975 473 \nQ 1284 391 1588 391 \nQ 1994 391 2212 530 \nQ 2431 669 2431 922 \nQ 2431 1156 2273 1281 \nQ 2116 1406 1581 1522 \nL 1381 1569 \nQ 847 1681 609 1914 \nQ 372 2147 372 2553 \nQ 372 3047 722 3315 \nQ 1072 3584 1716 3584 \nQ 2034 3584 2315 3537 \nQ 2597 3491 2834 3397 \nz\n\" transform=\"scale(0.015625)\"/>\n      </defs>\n      <use xlink:href=\"#DejaVuSans-53\"/>\n      <use xlink:href=\"#DejaVuSans-63\" x=\"63.476562\"/>\n      <use xlink:href=\"#DejaVuSans-6f\" x=\"118.457031\"/>\n      <use xlink:href=\"#DejaVuSans-72\" x=\"179.638672\"/>\n      <use xlink:href=\"#DejaVuSans-65\" x=\"218.501953\"/>\n      <use xlink:href=\"#DejaVuSans-73\" x=\"280.025391\"/>\n     </g>\n    </g>\n   </g>\n   <g id=\"matplotlib.axis_2\">\n    <g id=\"ytick_1\">\n     <g id=\"line2d_9\">\n      <path d=\"M 49.807187 288.430125 \nL 406.927188 288.430125 \n\" clip-path=\"url(#p46c4ee148a)\" style=\"fill: none; stroke: #ffffff; stroke-linecap: round\"/>\n     </g>\n     <g id=\"text_10\">\n      <!-- 0.0 -->\n      <g style=\"fill: #262626\" transform=\"translate(22.81375 292.609266) scale(0.11 -0.11)\">\n       <use xlink:href=\"#DejaVuSans-30\"/>\n       <use xlink:href=\"#DejaVuSans-2e\" x=\"63.623047\"/>\n       <use xlink:href=\"#DejaVuSans-30\" x=\"95.410156\"/>\n      </g>\n     </g>\n    </g>\n    <g id=\"ytick_2\">\n     <g id=\"line2d_10\">\n      <path d=\"M 49.807187 237.742125 \nL 406.927188 237.742125 \n\" clip-path=\"url(#p46c4ee148a)\" style=\"fill: none; stroke: #ffffff; stroke-linecap: round\"/>\n     </g>\n     <g id=\"text_11\">\n      <!-- 0.2 -->\n      <g style=\"fill: #262626\" transform=\"translate(22.81375 241.921266) scale(0.11 -0.11)\">\n       <use xlink:href=\"#DejaVuSans-30\"/>\n       <use xlink:href=\"#DejaVuSans-2e\" x=\"63.623047\"/>\n       <use xlink:href=\"#DejaVuSans-32\" x=\"95.410156\"/>\n      </g>\n     </g>\n    </g>\n    <g id=\"ytick_3\">\n     <g id=\"line2d_11\">\n      <path d=\"M 49.807187 187.054125 \nL 406.927188 187.054125 \n\" clip-path=\"url(#p46c4ee148a)\" style=\"fill: none; stroke: #ffffff; stroke-linecap: round\"/>\n     </g>\n     <g id=\"text_12\">\n      <!-- 0.4 -->\n      <g style=\"fill: #262626\" transform=\"translate(22.81375 191.233266) scale(0.11 -0.11)\">\n       <defs>\n        <path id=\"DejaVuSans-34\" d=\"M 2419 4116 \nL 825 1625 \nL 2419 1625 \nL 2419 4116 \nz\nM 2253 4666 \nL 3047 4666 \nL 3047 1625 \nL 3713 1625 \nL 3713 1100 \nL 3047 1100 \nL 3047 0 \nL 2419 0 \nL 2419 1100 \nL 313 1100 \nL 313 1709 \nL 2253 4666 \nz\n\" transform=\"scale(0.015625)\"/>\n       </defs>\n       <use xlink:href=\"#DejaVuSans-30\"/>\n       <use xlink:href=\"#DejaVuSans-2e\" x=\"63.623047\"/>\n       <use xlink:href=\"#DejaVuSans-34\" x=\"95.410156\"/>\n      </g>\n     </g>\n    </g>\n    <g id=\"ytick_4\">\n     <g id=\"line2d_12\">\n      <path d=\"M 49.807187 136.366125 \nL 406.927188 136.366125 \n\" clip-path=\"url(#p46c4ee148a)\" style=\"fill: none; stroke: #ffffff; stroke-linecap: round\"/>\n     </g>\n     <g id=\"text_13\">\n      <!-- 0.6 -->\n      <g style=\"fill: #262626\" transform=\"translate(22.81375 140.545266) scale(0.11 -0.11)\">\n       <use xlink:href=\"#DejaVuSans-30\"/>\n       <use xlink:href=\"#DejaVuSans-2e\" x=\"63.623047\"/>\n       <use xlink:href=\"#DejaVuSans-36\" x=\"95.410156\"/>\n      </g>\n     </g>\n    </g>\n    <g id=\"ytick_5\">\n     <g id=\"line2d_13\">\n      <path d=\"M 49.807187 85.678125 \nL 406.927188 85.678125 \n\" clip-path=\"url(#p46c4ee148a)\" style=\"fill: none; stroke: #ffffff; stroke-linecap: round\"/>\n     </g>\n     <g id=\"text_14\">\n      <!-- 0.8 -->\n      <g style=\"fill: #262626\" transform=\"translate(22.81375 89.857266) scale(0.11 -0.11)\">\n       <use xlink:href=\"#DejaVuSans-30\"/>\n       <use xlink:href=\"#DejaVuSans-2e\" x=\"63.623047\"/>\n       <use xlink:href=\"#DejaVuSans-38\" x=\"95.410156\"/>\n      </g>\n     </g>\n    </g>\n    <g id=\"ytick_6\">\n     <g id=\"line2d_14\">\n      <path d=\"M 49.807187 34.990125 \nL 406.927188 34.990125 \n\" clip-path=\"url(#p46c4ee148a)\" style=\"fill: none; stroke: #ffffff; stroke-linecap: round\"/>\n     </g>\n     <g id=\"text_15\">\n      <!-- 1.0 -->\n      <g style=\"fill: #262626\" transform=\"translate(22.81375 39.169266) scale(0.11 -0.11)\">\n       <defs>\n        <path id=\"DejaVuSans-31\" d=\"M 794 531 \nL 1825 531 \nL 1825 4091 \nL 703 3866 \nL 703 4441 \nL 1819 4666 \nL 2450 4666 \nL 2450 531 \nL 3481 531 \nL 3481 0 \nL 794 0 \nL 794 531 \nz\n\" transform=\"scale(0.015625)\"/>\n       </defs>\n       <use xlink:href=\"#DejaVuSans-31\"/>\n       <use xlink:href=\"#DejaVuSans-2e\" x=\"63.623047\"/>\n       <use xlink:href=\"#DejaVuSans-30\" x=\"95.410156\"/>\n      </g>\n     </g>\n    </g>\n    <g id=\"text_16\">\n     <!-- Frequency -->\n     <g style=\"fill: #262626\" transform=\"translate(16.318125 186.36975) rotate(-90) scale(0.12 -0.12)\">\n      <defs>\n       <path id=\"DejaVuSans-46\" d=\"M 628 4666 \nL 3309 4666 \nL 3309 4134 \nL 1259 4134 \nL 1259 2759 \nL 3109 2759 \nL 3109 2228 \nL 1259 2228 \nL 1259 0 \nL 628 0 \nL 628 4666 \nz\n\" transform=\"scale(0.015625)\"/>\n       <path id=\"DejaVuSans-71\" d=\"M 947 1747 \nQ 947 1113 1208 752 \nQ 1469 391 1925 391 \nQ 2381 391 2643 752 \nQ 2906 1113 2906 1747 \nQ 2906 2381 2643 2742 \nQ 2381 3103 1925 3103 \nQ 1469 3103 1208 2742 \nQ 947 2381 947 1747 \nz\nM 2906 525 \nQ 2725 213 2448 61 \nQ 2172 -91 1784 -91 \nQ 1150 -91 751 415 \nQ 353 922 353 1747 \nQ 353 2572 751 3078 \nQ 1150 3584 1784 3584 \nQ 2172 3584 2448 3432 \nQ 2725 3281 2906 2969 \nL 2906 3500 \nL 3481 3500 \nL 3481 -1331 \nL 2906 -1331 \nL 2906 525 \nz\n\" transform=\"scale(0.015625)\"/>\n       <path id=\"DejaVuSans-75\" d=\"M 544 1381 \nL 544 3500 \nL 1119 3500 \nL 1119 1403 \nQ 1119 906 1312 657 \nQ 1506 409 1894 409 \nQ 2359 409 2629 706 \nQ 2900 1003 2900 1516 \nL 2900 3500 \nL 3475 3500 \nL 3475 0 \nL 2900 0 \nL 2900 538 \nQ 2691 219 2414 64 \nQ 2138 -91 1772 -91 \nQ 1169 -91 856 284 \nQ 544 659 544 1381 \nz\nM 1991 3584 \nL 1991 3584 \nz\n\" transform=\"scale(0.015625)\"/>\n       <path id=\"DejaVuSans-6e\" d=\"M 3513 2113 \nL 3513 0 \nL 2938 0 \nL 2938 2094 \nQ 2938 2591 2744 2837 \nQ 2550 3084 2163 3084 \nQ 1697 3084 1428 2787 \nQ 1159 2491 1159 1978 \nL 1159 0 \nL 581 0 \nL 581 3500 \nL 1159 3500 \nL 1159 2956 \nQ 1366 3272 1645 3428 \nQ 1925 3584 2291 3584 \nQ 2894 3584 3203 3211 \nQ 3513 2838 3513 2113 \nz\n\" transform=\"scale(0.015625)\"/>\n       <path id=\"DejaVuSans-79\" d=\"M 2059 -325 \nQ 1816 -950 1584 -1140 \nQ 1353 -1331 966 -1331 \nL 506 -1331 \nL 506 -850 \nL 844 -850 \nQ 1081 -850 1212 -737 \nQ 1344 -625 1503 -206 \nL 1606 56 \nL 191 3500 \nL 800 3500 \nL 1894 763 \nL 2988 3500 \nL 3597 3500 \nL 2059 -325 \nz\n\" transform=\"scale(0.015625)\"/>\n      </defs>\n      <use xlink:href=\"#DejaVuSans-46\"/>\n      <use xlink:href=\"#DejaVuSans-72\" x=\"50.269531\"/>\n      <use xlink:href=\"#DejaVuSans-65\" x=\"89.132812\"/>\n      <use xlink:href=\"#DejaVuSans-71\" x=\"150.65625\"/>\n      <use xlink:href=\"#DejaVuSans-75\" x=\"214.132812\"/>\n      <use xlink:href=\"#DejaVuSans-65\" x=\"277.511719\"/>\n      <use xlink:href=\"#DejaVuSans-6e\" x=\"339.035156\"/>\n      <use xlink:href=\"#DejaVuSans-63\" x=\"402.414062\"/>\n      <use xlink:href=\"#DejaVuSans-79\" x=\"457.394531\"/>\n     </g>\n    </g>\n   </g>\n   <g id=\"patch_3\">\n    <path d=\"M 66.039915 288.430125 \nL 98.505369 288.430125 \nL 98.505369 34.990125 \nL 66.039915 34.990125 \nz\n\" clip-path=\"url(#p46c4ee148a)\" style=\"fill: #4c72b0; stroke: #000000; stroke-linejoin: miter\"/>\n   </g>\n   <g id=\"patch_4\">\n    <path d=\"M 98.505369 288.430125 \nL 130.970824 288.430125 \nL 130.970824 288.430125 \nL 98.505369 288.430125 \nz\n\" clip-path=\"url(#p46c4ee148a)\" style=\"fill: #4c72b0; stroke: #000000; stroke-linejoin: miter\"/>\n   </g>\n   <g id=\"patch_5\">\n    <path d=\"M 130.970824 288.430125 \nL 163.436278 288.430125 \nL 163.436278 288.430125 \nL 130.970824 288.430125 \nz\n\" clip-path=\"url(#p46c4ee148a)\" style=\"fill: #4c72b0; stroke: #000000; stroke-linejoin: miter\"/>\n   </g>\n   <g id=\"patch_6\">\n    <path d=\"M 163.436278 288.430125 \nL 195.901733 288.430125 \nL 195.901733 288.430125 \nL 163.436278 288.430125 \nz\n\" clip-path=\"url(#p46c4ee148a)\" style=\"fill: #4c72b0; stroke: #000000; stroke-linejoin: miter\"/>\n   </g>\n   <g id=\"patch_7\">\n    <path d=\"M 195.901733 288.430125 \nL 228.367188 288.430125 \nL 228.367188 34.990125 \nL 195.901733 34.990125 \nz\n\" clip-path=\"url(#p46c4ee148a)\" style=\"fill: #4c72b0; stroke: #000000; stroke-linejoin: miter\"/>\n   </g>\n   <g id=\"patch_8\">\n    <path d=\"M 228.367188 288.430125 \nL 260.832642 288.430125 \nL 260.832642 288.430125 \nL 228.367188 288.430125 \nz\n\" clip-path=\"url(#p46c4ee148a)\" style=\"fill: #4c72b0; stroke: #000000; stroke-linejoin: miter\"/>\n   </g>\n   <g id=\"patch_9\">\n    <path d=\"M 260.832642 288.430125 \nL 293.298097 288.430125 \nL 293.298097 288.430125 \nL 260.832642 288.430125 \nz\n\" clip-path=\"url(#p46c4ee148a)\" style=\"fill: #4c72b0; stroke: #000000; stroke-linejoin: miter\"/>\n   </g>\n   <g id=\"patch_10\">\n    <path d=\"M 293.298097 288.430125 \nL 325.763551 288.430125 \nL 325.763551 288.430125 \nL 293.298097 288.430125 \nz\n\" clip-path=\"url(#p46c4ee148a)\" style=\"fill: #4c72b0; stroke: #000000; stroke-linejoin: miter\"/>\n   </g>\n   <g id=\"patch_11\">\n    <path d=\"M 325.763551 288.430125 \nL 358.229006 288.430125 \nL 358.229006 288.430125 \nL 325.763551 288.430125 \nz\n\" clip-path=\"url(#p46c4ee148a)\" style=\"fill: #4c72b0; stroke: #000000; stroke-linejoin: miter\"/>\n   </g>\n   <g id=\"patch_12\">\n    <path d=\"M 358.229006 288.430125 \nL 390.69446 288.430125 \nL 390.69446 34.990125 \nL 358.229006 34.990125 \nz\n\" clip-path=\"url(#p46c4ee148a)\" style=\"fill: #4c72b0; stroke: #000000; stroke-linejoin: miter\"/>\n   </g>\n   <g id=\"patch_13\">\n    <path d=\"M 49.807187 288.430125 \nL 49.807187 22.318125 \n\" style=\"fill: none; stroke: #ffffff; stroke-width: 1.25; stroke-linejoin: miter; stroke-linecap: square\"/>\n   </g>\n   <g id=\"patch_14\">\n    <path d=\"M 406.927188 288.430125 \nL 406.927188 22.318125 \n\" style=\"fill: none; stroke: #ffffff; stroke-width: 1.25; stroke-linejoin: miter; stroke-linecap: square\"/>\n   </g>\n   <g id=\"patch_15\">\n    <path d=\"M 49.807188 288.430125 \nL 406.927188 288.430125 \n\" style=\"fill: none; stroke: #ffffff; stroke-width: 1.25; stroke-linejoin: miter; stroke-linecap: square\"/>\n   </g>\n   <g id=\"patch_16\">\n    <path d=\"M 49.807188 22.318125 \nL 406.927188 22.318125 \n\" style=\"fill: none; stroke: #ffffff; stroke-width: 1.25; stroke-linejoin: miter; stroke-linecap: square\"/>\n   </g>\n   <g id=\"text_17\">\n    <!-- Distribution of Scores -->\n    <g style=\"fill: #262626\" transform=\"translate(163.839063 16.318125) scale(0.12 -0.12)\">\n     <defs>\n      <path id=\"DejaVuSans-44\" d=\"M 1259 4147 \nL 1259 519 \nL 2022 519 \nQ 2988 519 3436 956 \nQ 3884 1394 3884 2338 \nQ 3884 3275 3436 3711 \nQ 2988 4147 2022 4147 \nL 1259 4147 \nz\nM 628 4666 \nL 1925 4666 \nQ 3281 4666 3915 4102 \nQ 4550 3538 4550 2338 \nQ 4550 1131 3912 565 \nQ 3275 0 1925 0 \nL 628 0 \nL 628 4666 \nz\n\" transform=\"scale(0.015625)\"/>\n      <path id=\"DejaVuSans-69\" d=\"M 603 3500 \nL 1178 3500 \nL 1178 0 \nL 603 0 \nL 603 3500 \nz\nM 603 4863 \nL 1178 4863 \nL 1178 4134 \nL 603 4134 \nL 603 4863 \nz\n\" transform=\"scale(0.015625)\"/>\n      <path id=\"DejaVuSans-74\" d=\"M 1172 4494 \nL 1172 3500 \nL 2356 3500 \nL 2356 3053 \nL 1172 3053 \nL 1172 1153 \nQ 1172 725 1289 603 \nQ 1406 481 1766 481 \nL 2356 481 \nL 2356 0 \nL 1766 0 \nQ 1100 0 847 248 \nQ 594 497 594 1153 \nL 594 3053 \nL 172 3053 \nL 172 3500 \nL 594 3500 \nL 594 4494 \nL 1172 4494 \nz\n\" transform=\"scale(0.015625)\"/>\n      <path id=\"DejaVuSans-62\" d=\"M 3116 1747 \nQ 3116 2381 2855 2742 \nQ 2594 3103 2138 3103 \nQ 1681 3103 1420 2742 \nQ 1159 2381 1159 1747 \nQ 1159 1113 1420 752 \nQ 1681 391 2138 391 \nQ 2594 391 2855 752 \nQ 3116 1113 3116 1747 \nz\nM 1159 2969 \nQ 1341 3281 1617 3432 \nQ 1894 3584 2278 3584 \nQ 2916 3584 3314 3078 \nQ 3713 2572 3713 1747 \nQ 3713 922 3314 415 \nQ 2916 -91 2278 -91 \nQ 1894 -91 1617 61 \nQ 1341 213 1159 525 \nL 1159 0 \nL 581 0 \nL 581 4863 \nL 1159 4863 \nL 1159 2969 \nz\n\" transform=\"scale(0.015625)\"/>\n      <path id=\"DejaVuSans-20\" transform=\"scale(0.015625)\"/>\n      <path id=\"DejaVuSans-66\" d=\"M 2375 4863 \nL 2375 4384 \nL 1825 4384 \nQ 1516 4384 1395 4259 \nQ 1275 4134 1275 3809 \nL 1275 3500 \nL 2222 3500 \nL 2222 3053 \nL 1275 3053 \nL 1275 0 \nL 697 0 \nL 697 3053 \nL 147 3053 \nL 147 3500 \nL 697 3500 \nL 697 3744 \nQ 697 4328 969 4595 \nQ 1241 4863 1831 4863 \nL 2375 4863 \nz\n\" transform=\"scale(0.015625)\"/>\n     </defs>\n     <use xlink:href=\"#DejaVuSans-44\"/>\n     <use xlink:href=\"#DejaVuSans-69\" x=\"77.001953\"/>\n     <use xlink:href=\"#DejaVuSans-73\" x=\"104.785156\"/>\n     <use xlink:href=\"#DejaVuSans-74\" x=\"156.884766\"/>\n     <use xlink:href=\"#DejaVuSans-72\" x=\"196.09375\"/>\n     <use xlink:href=\"#DejaVuSans-69\" x=\"237.207031\"/>\n     <use xlink:href=\"#DejaVuSans-62\" x=\"264.990234\"/>\n     <use xlink:href=\"#DejaVuSans-75\" x=\"328.466797\"/>\n     <use xlink:href=\"#DejaVuSans-74\" x=\"391.845703\"/>\n     <use xlink:href=\"#DejaVuSans-69\" x=\"431.054688\"/>\n     <use xlink:href=\"#DejaVuSans-6f\" x=\"458.837891\"/>\n     <use xlink:href=\"#DejaVuSans-6e\" x=\"520.019531\"/>\n     <use xlink:href=\"#DejaVuSans-20\" x=\"583.398438\"/>\n     <use xlink:href=\"#DejaVuSans-6f\" x=\"615.185547\"/>\n     <use xlink:href=\"#DejaVuSans-66\" x=\"676.367188\"/>\n     <use xlink:href=\"#DejaVuSans-20\" x=\"711.572266\"/>\n     <use xlink:href=\"#DejaVuSans-53\" x=\"743.359375\"/>\n     <use xlink:href=\"#DejaVuSans-63\" x=\"806.835938\"/>\n     <use xlink:href=\"#DejaVuSans-6f\" x=\"861.816406\"/>\n     <use xlink:href=\"#DejaVuSans-72\" x=\"922.998047\"/>\n     <use xlink:href=\"#DejaVuSans-65\" x=\"961.861328\"/>\n     <use xlink:href=\"#DejaVuSans-73\" x=\"1023.384766\"/>\n    </g>\n   </g>\n  </g>\n </g>\n <defs>\n  <clipPath id=\"p46c4ee148a\">\n   <rect x=\"49.807187\" y=\"22.318125\" width=\"357.12\" height=\"266.112\"/>\n  </clipPath>\n </defs>\n</svg>\n",
            "text/plain": [
              "<Figure size 640x480 with 1 Axes>"
            ]
          },
          "metadata": {},
          "output_type": "display_data"
        }
      ],
      "source": [
        "# Plot the distribution\n",
        "plt.hist(all_scores, bins=10, edgecolor='black')\n",
        "\n",
        "# Set plot labels and title\n",
        "plt.xlabel('Scores')\n",
        "plt.ylabel('Frequency')\n",
        "plt.title('Distribution of Scores')\n",
        "\n",
        "# Display the plot\n",
        "plt.show()"
      ]
    },
    {
      "cell_type": "code",
      "execution_count": null,
      "metadata": {
        "id": "PFer5aejjmSy"
      },
      "outputs": [],
      "source": []
    },
    {
      "cell_type": "code",
      "execution_count": null,
      "metadata": {
        "colab": {
          "base_uri": "https://localhost:8080/",
          "height": 1000
        },
        "id": "sC3nMVdbTid9",
        "outputId": "25a3acb0-8326-453e-8bb3-e120d633e805"
      },
      "outputs": [
        {
          "ename": "FileNotFoundError",
          "evalue": "ignored",
          "output_type": "error",
          "traceback": [
            "\u001b[0;31m---------------------------------------------------------------------------\u001b[0m",
            "\u001b[0;31mFileNotFoundError\u001b[0m                         Traceback (most recent call last)",
            "\u001b[0;32m<ipython-input-49-73ef1ea4c6c0>\u001b[0m in \u001b[0;36m<cell line: 2>\u001b[0;34m()\u001b[0m\n\u001b[1;32m      1\u001b[0m \u001b[0;31m# Showing the results of the best performing model\u001b[0m\u001b[0;34m\u001b[0m\u001b[0;34m\u001b[0m\u001b[0m\n\u001b[0;32m----> 2\u001b[0;31m \u001b[0mplot_cm_with_percentages\u001b[0m\u001b[0;34m(\u001b[0m\u001b[0mbest_model_true_labels\u001b[0m\u001b[0;34m,\u001b[0m \u001b[0mbest_model_predictions\u001b[0m\u001b[0;34m,\u001b[0m \u001b[0mmapping\u001b[0m\u001b[0;34m,\u001b[0m \u001b[0mname\u001b[0m\u001b[0;34m=\u001b[0m\u001b[0;34m\"informative_best\"\u001b[0m\u001b[0;34m)\u001b[0m\u001b[0;34m\u001b[0m\u001b[0;34m\u001b[0m\u001b[0m\n\u001b[0m",
            "\u001b[0;32m<ipython-input-47-4a67f412f1d2>\u001b[0m in \u001b[0;36mplot_cm_with_percentages\u001b[0;34m(labels, predictions, class_labels, name)\u001b[0m\n\u001b[1;32m     46\u001b[0m     \u001b[0;31m# Save the figure as an SVG file with timestamp in the file name\u001b[0m\u001b[0;34m\u001b[0m\u001b[0;34m\u001b[0m\u001b[0m\n\u001b[1;32m     47\u001b[0m     \u001b[0mfile_name\u001b[0m \u001b[0;34m=\u001b[0m \u001b[0;34mf\"/content/drive/My Drive/thesis/results/confusion_matrix_{name}_{timestamp}.svg\"\u001b[0m\u001b[0;34m\u001b[0m\u001b[0;34m\u001b[0m\u001b[0m\n\u001b[0;32m---> 48\u001b[0;31m     \u001b[0mplt\u001b[0m\u001b[0;34m.\u001b[0m\u001b[0msavefig\u001b[0m\u001b[0;34m(\u001b[0m\u001b[0mfile_name\u001b[0m\u001b[0;34m,\u001b[0m \u001b[0mformat\u001b[0m\u001b[0;34m=\u001b[0m\u001b[0;34m'svg'\u001b[0m\u001b[0;34m)\u001b[0m\u001b[0;34m\u001b[0m\u001b[0;34m\u001b[0m\u001b[0m\n\u001b[0m\u001b[1;32m     49\u001b[0m \u001b[0;34m\u001b[0m\u001b[0m\n\u001b[1;32m     50\u001b[0m     \u001b[0mplt\u001b[0m\u001b[0;34m.\u001b[0m\u001b[0mshow\u001b[0m\u001b[0;34m(\u001b[0m\u001b[0;34m)\u001b[0m\u001b[0;34m\u001b[0m\u001b[0;34m\u001b[0m\u001b[0m\n",
            "\u001b[0;32m/usr/local/lib/python3.10/dist-packages/matplotlib/pyplot.py\u001b[0m in \u001b[0;36msavefig\u001b[0;34m(*args, **kwargs)\u001b[0m\n\u001b[1;32m   1021\u001b[0m \u001b[0;32mdef\u001b[0m \u001b[0msavefig\u001b[0m\u001b[0;34m(\u001b[0m\u001b[0;34m*\u001b[0m\u001b[0margs\u001b[0m\u001b[0;34m,\u001b[0m \u001b[0;34m**\u001b[0m\u001b[0mkwargs\u001b[0m\u001b[0;34m)\u001b[0m\u001b[0;34m:\u001b[0m\u001b[0;34m\u001b[0m\u001b[0;34m\u001b[0m\u001b[0m\n\u001b[1;32m   1022\u001b[0m     \u001b[0mfig\u001b[0m \u001b[0;34m=\u001b[0m \u001b[0mgcf\u001b[0m\u001b[0;34m(\u001b[0m\u001b[0;34m)\u001b[0m\u001b[0;34m\u001b[0m\u001b[0;34m\u001b[0m\u001b[0m\n\u001b[0;32m-> 1023\u001b[0;31m     \u001b[0mres\u001b[0m \u001b[0;34m=\u001b[0m \u001b[0mfig\u001b[0m\u001b[0;34m.\u001b[0m\u001b[0msavefig\u001b[0m\u001b[0;34m(\u001b[0m\u001b[0;34m*\u001b[0m\u001b[0margs\u001b[0m\u001b[0;34m,\u001b[0m \u001b[0;34m**\u001b[0m\u001b[0mkwargs\u001b[0m\u001b[0;34m)\u001b[0m\u001b[0;34m\u001b[0m\u001b[0;34m\u001b[0m\u001b[0m\n\u001b[0m\u001b[1;32m   1024\u001b[0m     \u001b[0mfig\u001b[0m\u001b[0;34m.\u001b[0m\u001b[0mcanvas\u001b[0m\u001b[0;34m.\u001b[0m\u001b[0mdraw_idle\u001b[0m\u001b[0;34m(\u001b[0m\u001b[0;34m)\u001b[0m  \u001b[0;31m# Need this if 'transparent=True', to reset colors.\u001b[0m\u001b[0;34m\u001b[0m\u001b[0;34m\u001b[0m\u001b[0m\n\u001b[1;32m   1025\u001b[0m     \u001b[0;32mreturn\u001b[0m \u001b[0mres\u001b[0m\u001b[0;34m\u001b[0m\u001b[0;34m\u001b[0m\u001b[0m\n",
            "\u001b[0;32m/usr/local/lib/python3.10/dist-packages/matplotlib/figure.py\u001b[0m in \u001b[0;36msavefig\u001b[0;34m(self, fname, transparent, **kwargs)\u001b[0m\n\u001b[1;32m   3341\u001b[0m                         ax.patch._cm_set(facecolor='none', edgecolor='none'))\n\u001b[1;32m   3342\u001b[0m \u001b[0;34m\u001b[0m\u001b[0m\n\u001b[0;32m-> 3343\u001b[0;31m             \u001b[0mself\u001b[0m\u001b[0;34m.\u001b[0m\u001b[0mcanvas\u001b[0m\u001b[0;34m.\u001b[0m\u001b[0mprint_figure\u001b[0m\u001b[0;34m(\u001b[0m\u001b[0mfname\u001b[0m\u001b[0;34m,\u001b[0m \u001b[0;34m**\u001b[0m\u001b[0mkwargs\u001b[0m\u001b[0;34m)\u001b[0m\u001b[0;34m\u001b[0m\u001b[0;34m\u001b[0m\u001b[0m\n\u001b[0m\u001b[1;32m   3344\u001b[0m \u001b[0;34m\u001b[0m\u001b[0m\n\u001b[1;32m   3345\u001b[0m     def ginput(self, n=1, timeout=30, show_clicks=True,\n",
            "\u001b[0;32m/usr/local/lib/python3.10/dist-packages/matplotlib/backend_bases.py\u001b[0m in \u001b[0;36mprint_figure\u001b[0;34m(self, filename, dpi, facecolor, edgecolor, orientation, format, bbox_inches, pad_inches, bbox_extra_artists, backend, **kwargs)\u001b[0m\n\u001b[1;32m   2364\u001b[0m                 \u001b[0;31m# force the figure dpi to 72), so we need to set it again here.\u001b[0m\u001b[0;34m\u001b[0m\u001b[0;34m\u001b[0m\u001b[0m\n\u001b[1;32m   2365\u001b[0m                 \u001b[0;32mwith\u001b[0m \u001b[0mcbook\u001b[0m\u001b[0;34m.\u001b[0m\u001b[0m_setattr_cm\u001b[0m\u001b[0;34m(\u001b[0m\u001b[0mself\u001b[0m\u001b[0;34m.\u001b[0m\u001b[0mfigure\u001b[0m\u001b[0;34m,\u001b[0m \u001b[0mdpi\u001b[0m\u001b[0;34m=\u001b[0m\u001b[0mdpi\u001b[0m\u001b[0;34m)\u001b[0m\u001b[0;34m:\u001b[0m\u001b[0;34m\u001b[0m\u001b[0;34m\u001b[0m\u001b[0m\n\u001b[0;32m-> 2366\u001b[0;31m                     result = print_method(\n\u001b[0m\u001b[1;32m   2367\u001b[0m                         \u001b[0mfilename\u001b[0m\u001b[0;34m,\u001b[0m\u001b[0;34m\u001b[0m\u001b[0;34m\u001b[0m\u001b[0m\n\u001b[1;32m   2368\u001b[0m                         \u001b[0mfacecolor\u001b[0m\u001b[0;34m=\u001b[0m\u001b[0mfacecolor\u001b[0m\u001b[0;34m,\u001b[0m\u001b[0;34m\u001b[0m\u001b[0;34m\u001b[0m\u001b[0m\n",
            "\u001b[0;32m/usr/local/lib/python3.10/dist-packages/matplotlib/backend_bases.py\u001b[0m in \u001b[0;36m<lambda>\u001b[0;34m(*args, **kwargs)\u001b[0m\n\u001b[1;32m   2230\u001b[0m                 \"bbox_inches_restore\"}\n\u001b[1;32m   2231\u001b[0m             \u001b[0mskip\u001b[0m \u001b[0;34m=\u001b[0m \u001b[0moptional_kws\u001b[0m \u001b[0;34m-\u001b[0m \u001b[0;34m{\u001b[0m\u001b[0;34m*\u001b[0m\u001b[0minspect\u001b[0m\u001b[0;34m.\u001b[0m\u001b[0msignature\u001b[0m\u001b[0;34m(\u001b[0m\u001b[0mmeth\u001b[0m\u001b[0;34m)\u001b[0m\u001b[0;34m.\u001b[0m\u001b[0mparameters\u001b[0m\u001b[0;34m}\u001b[0m\u001b[0;34m\u001b[0m\u001b[0;34m\u001b[0m\u001b[0m\n\u001b[0;32m-> 2232\u001b[0;31m             print_method = functools.wraps(meth)(lambda *args, **kwargs: meth(\n\u001b[0m\u001b[1;32m   2233\u001b[0m                 *args, **{k: v for k, v in kwargs.items() if k not in skip}))\n\u001b[1;32m   2234\u001b[0m         \u001b[0;32melse\u001b[0m\u001b[0;34m:\u001b[0m  \u001b[0;31m# Let third-parties do as they see fit.\u001b[0m\u001b[0;34m\u001b[0m\u001b[0;34m\u001b[0m\u001b[0m\n",
            "\u001b[0;32m/usr/local/lib/python3.10/dist-packages/matplotlib/backends/backend_svg.py\u001b[0m in \u001b[0;36mprint_svg\u001b[0;34m(self, filename, bbox_inches_restore, metadata)\u001b[0m\n\u001b[1;32m   1356\u001b[0m             \u001b[0m__\u001b[0m \u001b[0mDC_\u001b[0m\u001b[0;34m\u001b[0m\u001b[0;34m\u001b[0m\u001b[0m\n\u001b[1;32m   1357\u001b[0m         \"\"\"\n\u001b[0;32m-> 1358\u001b[0;31m         \u001b[0;32mwith\u001b[0m \u001b[0mcbook\u001b[0m\u001b[0;34m.\u001b[0m\u001b[0mopen_file_cm\u001b[0m\u001b[0;34m(\u001b[0m\u001b[0mfilename\u001b[0m\u001b[0;34m,\u001b[0m \u001b[0;34m\"w\"\u001b[0m\u001b[0;34m,\u001b[0m \u001b[0mencoding\u001b[0m\u001b[0;34m=\u001b[0m\u001b[0;34m\"utf-8\"\u001b[0m\u001b[0;34m)\u001b[0m \u001b[0;32mas\u001b[0m \u001b[0mfh\u001b[0m\u001b[0;34m:\u001b[0m\u001b[0;34m\u001b[0m\u001b[0;34m\u001b[0m\u001b[0m\n\u001b[0m\u001b[1;32m   1359\u001b[0m             \u001b[0;32mif\u001b[0m \u001b[0;32mnot\u001b[0m \u001b[0mcbook\u001b[0m\u001b[0;34m.\u001b[0m\u001b[0mfile_requires_unicode\u001b[0m\u001b[0;34m(\u001b[0m\u001b[0mfh\u001b[0m\u001b[0;34m)\u001b[0m\u001b[0;34m:\u001b[0m\u001b[0;34m\u001b[0m\u001b[0;34m\u001b[0m\u001b[0m\n\u001b[1;32m   1360\u001b[0m                 \u001b[0mfh\u001b[0m \u001b[0;34m=\u001b[0m \u001b[0mcodecs\u001b[0m\u001b[0;34m.\u001b[0m\u001b[0mgetwriter\u001b[0m\u001b[0;34m(\u001b[0m\u001b[0;34m'utf-8'\u001b[0m\u001b[0;34m)\u001b[0m\u001b[0;34m(\u001b[0m\u001b[0mfh\u001b[0m\u001b[0;34m)\u001b[0m\u001b[0;34m\u001b[0m\u001b[0;34m\u001b[0m\u001b[0m\n",
            "\u001b[0;32m/usr/local/lib/python3.10/dist-packages/matplotlib/cbook/__init__.py\u001b[0m in \u001b[0;36mopen_file_cm\u001b[0;34m(path_or_file, mode, encoding)\u001b[0m\n\u001b[1;32m    501\u001b[0m \u001b[0;32mdef\u001b[0m \u001b[0mopen_file_cm\u001b[0m\u001b[0;34m(\u001b[0m\u001b[0mpath_or_file\u001b[0m\u001b[0;34m,\u001b[0m \u001b[0mmode\u001b[0m\u001b[0;34m=\u001b[0m\u001b[0;34m\"r\"\u001b[0m\u001b[0;34m,\u001b[0m \u001b[0mencoding\u001b[0m\u001b[0;34m=\u001b[0m\u001b[0;32mNone\u001b[0m\u001b[0;34m)\u001b[0m\u001b[0;34m:\u001b[0m\u001b[0;34m\u001b[0m\u001b[0;34m\u001b[0m\u001b[0m\n\u001b[1;32m    502\u001b[0m     \u001b[0;34mr\"\"\"Pass through file objects and context-manage path-likes.\"\"\"\u001b[0m\u001b[0;34m\u001b[0m\u001b[0;34m\u001b[0m\u001b[0m\n\u001b[0;32m--> 503\u001b[0;31m     \u001b[0mfh\u001b[0m\u001b[0;34m,\u001b[0m \u001b[0mopened\u001b[0m \u001b[0;34m=\u001b[0m \u001b[0mto_filehandle\u001b[0m\u001b[0;34m(\u001b[0m\u001b[0mpath_or_file\u001b[0m\u001b[0;34m,\u001b[0m \u001b[0mmode\u001b[0m\u001b[0;34m,\u001b[0m \u001b[0;32mTrue\u001b[0m\u001b[0;34m,\u001b[0m \u001b[0mencoding\u001b[0m\u001b[0;34m)\u001b[0m\u001b[0;34m\u001b[0m\u001b[0;34m\u001b[0m\u001b[0m\n\u001b[0m\u001b[1;32m    504\u001b[0m     \u001b[0;32mreturn\u001b[0m \u001b[0mfh\u001b[0m \u001b[0;32mif\u001b[0m \u001b[0mopened\u001b[0m \u001b[0;32melse\u001b[0m \u001b[0mcontextlib\u001b[0m\u001b[0;34m.\u001b[0m\u001b[0mnullcontext\u001b[0m\u001b[0;34m(\u001b[0m\u001b[0mfh\u001b[0m\u001b[0;34m)\u001b[0m\u001b[0;34m\u001b[0m\u001b[0;34m\u001b[0m\u001b[0m\n\u001b[1;32m    505\u001b[0m \u001b[0;34m\u001b[0m\u001b[0m\n",
            "\u001b[0;32m/usr/local/lib/python3.10/dist-packages/matplotlib/cbook/__init__.py\u001b[0m in \u001b[0;36mto_filehandle\u001b[0;34m(fname, flag, return_opened, encoding)\u001b[0m\n\u001b[1;32m    487\u001b[0m             \u001b[0mfh\u001b[0m \u001b[0;34m=\u001b[0m \u001b[0mbz2\u001b[0m\u001b[0;34m.\u001b[0m\u001b[0mBZ2File\u001b[0m\u001b[0;34m(\u001b[0m\u001b[0mfname\u001b[0m\u001b[0;34m,\u001b[0m \u001b[0mflag\u001b[0m\u001b[0;34m)\u001b[0m\u001b[0;34m\u001b[0m\u001b[0;34m\u001b[0m\u001b[0m\n\u001b[1;32m    488\u001b[0m         \u001b[0;32melse\u001b[0m\u001b[0;34m:\u001b[0m\u001b[0;34m\u001b[0m\u001b[0;34m\u001b[0m\u001b[0m\n\u001b[0;32m--> 489\u001b[0;31m             \u001b[0mfh\u001b[0m \u001b[0;34m=\u001b[0m \u001b[0mopen\u001b[0m\u001b[0;34m(\u001b[0m\u001b[0mfname\u001b[0m\u001b[0;34m,\u001b[0m \u001b[0mflag\u001b[0m\u001b[0;34m,\u001b[0m \u001b[0mencoding\u001b[0m\u001b[0;34m=\u001b[0m\u001b[0mencoding\u001b[0m\u001b[0;34m)\u001b[0m\u001b[0;34m\u001b[0m\u001b[0;34m\u001b[0m\u001b[0m\n\u001b[0m\u001b[1;32m    490\u001b[0m         \u001b[0mopened\u001b[0m \u001b[0;34m=\u001b[0m \u001b[0;32mTrue\u001b[0m\u001b[0;34m\u001b[0m\u001b[0;34m\u001b[0m\u001b[0m\n\u001b[1;32m    491\u001b[0m     \u001b[0;32melif\u001b[0m \u001b[0mhasattr\u001b[0m\u001b[0;34m(\u001b[0m\u001b[0mfname\u001b[0m\u001b[0;34m,\u001b[0m \u001b[0;34m'seek'\u001b[0m\u001b[0;34m)\u001b[0m\u001b[0;34m:\u001b[0m\u001b[0;34m\u001b[0m\u001b[0;34m\u001b[0m\u001b[0m\n",
            "\u001b[0;31mFileNotFoundError\u001b[0m: [Errno 2] No such file or directory: '/content/drive/My Drive/thesis/results/confusion_matrix_informative_best_20230717173735.svg'"
          ]
        },
        {
          "data": {
            "image/svg+xml": "<?xml version=\"1.0\" encoding=\"utf-8\" standalone=\"no\"?>\n<!DOCTYPE svg PUBLIC \"-//W3C//DTD SVG 1.1//EN\"\n  \"http://www.w3.org/Graphics/SVG/1.1/DTD/svg11.dtd\">\n<svg xmlns:xlink=\"http://www.w3.org/1999/xlink\" width=\"556.042863pt\" height=\"498.351425pt\" viewBox=\"0 0 556.042863 498.351425\" xmlns=\"http://www.w3.org/2000/svg\" version=\"1.1\">\n <metadata>\n  <rdf:RDF xmlns:dc=\"http://purl.org/dc/elements/1.1/\" xmlns:cc=\"http://creativecommons.org/ns#\" xmlns:rdf=\"http://www.w3.org/1999/02/22-rdf-syntax-ns#\">\n   <cc:Work>\n    <dc:type rdf:resource=\"http://purl.org/dc/dcmitype/StillImage\"/>\n    <dc:date>2023-07-17T17:37:35.764891</dc:date>\n    <dc:format>image/svg+xml</dc:format>\n    <dc:creator>\n     <cc:Agent>\n      <dc:title>Matplotlib v3.7.1, https://matplotlib.org/</dc:title>\n     </cc:Agent>\n    </dc:creator>\n   </cc:Work>\n  </rdf:RDF>\n </metadata>\n <defs>\n  <style type=\"text/css\">*{stroke-linejoin: round; stroke-linecap: butt}</style>\n </defs>\n <g id=\"figure_1\">\n  <g id=\"patch_1\">\n   <path d=\"M 0 498.351425 \nL 556.042863 498.351425 \nL 556.042863 0 \nL 0 0 \nz\n\" style=\"fill: #ffffff\"/>\n  </g>\n  <g id=\"axes_1\">\n   <g id=\"patch_2\">\n    <path d=\"M 127.873613 370.477812 \nL 484.993613 370.477812 \nL 484.993613 37.837812 \nL 127.873613 37.837812 \nz\n\" style=\"fill: #eaeaf2\"/>\n   </g>\n   <g id=\"matplotlib.axis_1\">\n    <g id=\"xtick_1\">\n     <g id=\"line2d_1\">\n      <path d=\"M 217.153613 370.477812 \nL 217.153613 37.837812 \n\" clip-path=\"url(#p215b4a52e7)\" style=\"fill: none; stroke: #ffffff; stroke-linecap: round\"/>\n     </g>\n     <g id=\"text_1\">\n      <!-- Informative -->\n      <g style=\"fill: #262626\" transform=\"translate(166.175943 435.677321) rotate(-45) scale(0.121 -0.121)\">\n       <defs>\n        <path id=\"DejaVuSans-49\" d=\"M 628 4666 \nL 1259 4666 \nL 1259 0 \nL 628 0 \nL 628 4666 \nz\n\" transform=\"scale(0.015625)\"/>\n        <path id=\"DejaVuSans-6e\" d=\"M 3513 2113 \nL 3513 0 \nL 2938 0 \nL 2938 2094 \nQ 2938 2591 2744 2837 \nQ 2550 3084 2163 3084 \nQ 1697 3084 1428 2787 \nQ 1159 2491 1159 1978 \nL 1159 0 \nL 581 0 \nL 581 3500 \nL 1159 3500 \nL 1159 2956 \nQ 1366 3272 1645 3428 \nQ 1925 3584 2291 3584 \nQ 2894 3584 3203 3211 \nQ 3513 2838 3513 2113 \nz\n\" transform=\"scale(0.015625)\"/>\n        <path id=\"DejaVuSans-66\" d=\"M 2375 4863 \nL 2375 4384 \nL 1825 4384 \nQ 1516 4384 1395 4259 \nQ 1275 4134 1275 3809 \nL 1275 3500 \nL 2222 3500 \nL 2222 3053 \nL 1275 3053 \nL 1275 0 \nL 697 0 \nL 697 3053 \nL 147 3053 \nL 147 3500 \nL 697 3500 \nL 697 3744 \nQ 697 4328 969 4595 \nQ 1241 4863 1831 4863 \nL 2375 4863 \nz\n\" transform=\"scale(0.015625)\"/>\n        <path id=\"DejaVuSans-6f\" d=\"M 1959 3097 \nQ 1497 3097 1228 2736 \nQ 959 2375 959 1747 \nQ 959 1119 1226 758 \nQ 1494 397 1959 397 \nQ 2419 397 2687 759 \nQ 2956 1122 2956 1747 \nQ 2956 2369 2687 2733 \nQ 2419 3097 1959 3097 \nz\nM 1959 3584 \nQ 2709 3584 3137 3096 \nQ 3566 2609 3566 1747 \nQ 3566 888 3137 398 \nQ 2709 -91 1959 -91 \nQ 1206 -91 779 398 \nQ 353 888 353 1747 \nQ 353 2609 779 3096 \nQ 1206 3584 1959 3584 \nz\n\" transform=\"scale(0.015625)\"/>\n        <path id=\"DejaVuSans-72\" d=\"M 2631 2963 \nQ 2534 3019 2420 3045 \nQ 2306 3072 2169 3072 \nQ 1681 3072 1420 2755 \nQ 1159 2438 1159 1844 \nL 1159 0 \nL 581 0 \nL 581 3500 \nL 1159 3500 \nL 1159 2956 \nQ 1341 3275 1631 3429 \nQ 1922 3584 2338 3584 \nQ 2397 3584 2469 3576 \nQ 2541 3569 2628 3553 \nL 2631 2963 \nz\n\" transform=\"scale(0.015625)\"/>\n        <path id=\"DejaVuSans-6d\" d=\"M 3328 2828 \nQ 3544 3216 3844 3400 \nQ 4144 3584 4550 3584 \nQ 5097 3584 5394 3201 \nQ 5691 2819 5691 2113 \nL 5691 0 \nL 5113 0 \nL 5113 2094 \nQ 5113 2597 4934 2840 \nQ 4756 3084 4391 3084 \nQ 3944 3084 3684 2787 \nQ 3425 2491 3425 1978 \nL 3425 0 \nL 2847 0 \nL 2847 2094 \nQ 2847 2600 2669 2842 \nQ 2491 3084 2119 3084 \nQ 1678 3084 1418 2786 \nQ 1159 2488 1159 1978 \nL 1159 0 \nL 581 0 \nL 581 3500 \nL 1159 3500 \nL 1159 2956 \nQ 1356 3278 1631 3431 \nQ 1906 3584 2284 3584 \nQ 2666 3584 2933 3390 \nQ 3200 3197 3328 2828 \nz\n\" transform=\"scale(0.015625)\"/>\n        <path id=\"DejaVuSans-61\" d=\"M 2194 1759 \nQ 1497 1759 1228 1600 \nQ 959 1441 959 1056 \nQ 959 750 1161 570 \nQ 1363 391 1709 391 \nQ 2188 391 2477 730 \nQ 2766 1069 2766 1631 \nL 2766 1759 \nL 2194 1759 \nz\nM 3341 1997 \nL 3341 0 \nL 2766 0 \nL 2766 531 \nQ 2569 213 2275 61 \nQ 1981 -91 1556 -91 \nQ 1019 -91 701 211 \nQ 384 513 384 1019 \nQ 384 1609 779 1909 \nQ 1175 2209 1959 2209 \nL 2766 2209 \nL 2766 2266 \nQ 2766 2663 2505 2880 \nQ 2244 3097 1772 3097 \nQ 1472 3097 1187 3025 \nQ 903 2953 641 2809 \nL 641 3341 \nQ 956 3463 1253 3523 \nQ 1550 3584 1831 3584 \nQ 2591 3584 2966 3190 \nQ 3341 2797 3341 1997 \nz\n\" transform=\"scale(0.015625)\"/>\n        <path id=\"DejaVuSans-74\" d=\"M 1172 4494 \nL 1172 3500 \nL 2356 3500 \nL 2356 3053 \nL 1172 3053 \nL 1172 1153 \nQ 1172 725 1289 603 \nQ 1406 481 1766 481 \nL 2356 481 \nL 2356 0 \nL 1766 0 \nQ 1100 0 847 248 \nQ 594 497 594 1153 \nL 594 3053 \nL 172 3053 \nL 172 3500 \nL 594 3500 \nL 594 4494 \nL 1172 4494 \nz\n\" transform=\"scale(0.015625)\"/>\n        <path id=\"DejaVuSans-69\" d=\"M 603 3500 \nL 1178 3500 \nL 1178 0 \nL 603 0 \nL 603 3500 \nz\nM 603 4863 \nL 1178 4863 \nL 1178 4134 \nL 603 4134 \nL 603 4863 \nz\n\" transform=\"scale(0.015625)\"/>\n        <path id=\"DejaVuSans-76\" d=\"M 191 3500 \nL 800 3500 \nL 1894 563 \nL 2988 3500 \nL 3597 3500 \nL 2284 0 \nL 1503 0 \nL 191 3500 \nz\n\" transform=\"scale(0.015625)\"/>\n        <path id=\"DejaVuSans-65\" d=\"M 3597 1894 \nL 3597 1613 \nL 953 1613 \nQ 991 1019 1311 708 \nQ 1631 397 2203 397 \nQ 2534 397 2845 478 \nQ 3156 559 3463 722 \nL 3463 178 \nQ 3153 47 2828 -22 \nQ 2503 -91 2169 -91 \nQ 1331 -91 842 396 \nQ 353 884 353 1716 \nQ 353 2575 817 3079 \nQ 1281 3584 2069 3584 \nQ 2775 3584 3186 3129 \nQ 3597 2675 3597 1894 \nz\nM 3022 2063 \nQ 3016 2534 2758 2815 \nQ 2500 3097 2075 3097 \nQ 1594 3097 1305 2825 \nQ 1016 2553 972 2059 \nL 3022 2063 \nz\n\" transform=\"scale(0.015625)\"/>\n       </defs>\n       <use xlink:href=\"#DejaVuSans-49\"/>\n       <use xlink:href=\"#DejaVuSans-6e\" x=\"29.492188\"/>\n       <use xlink:href=\"#DejaVuSans-66\" x=\"92.871094\"/>\n       <use xlink:href=\"#DejaVuSans-6f\" x=\"128.076172\"/>\n       <use xlink:href=\"#DejaVuSans-72\" x=\"189.257812\"/>\n       <use xlink:href=\"#DejaVuSans-6d\" x=\"228.621094\"/>\n       <use xlink:href=\"#DejaVuSans-61\" x=\"326.033203\"/>\n       <use xlink:href=\"#DejaVuSans-74\" x=\"387.3125\"/>\n       <use xlink:href=\"#DejaVuSans-69\" x=\"426.521484\"/>\n       <use xlink:href=\"#DejaVuSans-76\" x=\"454.304688\"/>\n       <use xlink:href=\"#DejaVuSans-65\" x=\"513.484375\"/>\n      </g>\n     </g>\n    </g>\n    <g id=\"xtick_2\">\n     <g id=\"line2d_2\">\n      <path d=\"M 395.713613 370.477812 \nL 395.713613 37.837812 \n\" clip-path=\"url(#p215b4a52e7)\" style=\"fill: none; stroke: #ffffff; stroke-linecap: round\"/>\n     </g>\n     <g id=\"text_2\">\n      <!-- Non-Informative -->\n      <g style=\"fill: #262626\" transform=\"translate(324.590592 455.822671) rotate(-45) scale(0.121 -0.121)\">\n       <defs>\n        <path id=\"DejaVuSans-4e\" d=\"M 628 4666 \nL 1478 4666 \nL 3547 763 \nL 3547 4666 \nL 4159 4666 \nL 4159 0 \nL 3309 0 \nL 1241 3903 \nL 1241 0 \nL 628 0 \nL 628 4666 \nz\n\" transform=\"scale(0.015625)\"/>\n        <path id=\"DejaVuSans-2d\" d=\"M 313 2009 \nL 1997 2009 \nL 1997 1497 \nL 313 1497 \nL 313 2009 \nz\n\" transform=\"scale(0.015625)\"/>\n       </defs>\n       <use xlink:href=\"#DejaVuSans-4e\"/>\n       <use xlink:href=\"#DejaVuSans-6f\" x=\"74.804688\"/>\n       <use xlink:href=\"#DejaVuSans-6e\" x=\"135.986328\"/>\n       <use xlink:href=\"#DejaVuSans-2d\" x=\"199.365234\"/>\n       <use xlink:href=\"#DejaVuSans-49\" x=\"235.449219\"/>\n       <use xlink:href=\"#DejaVuSans-6e\" x=\"264.941406\"/>\n       <use xlink:href=\"#DejaVuSans-66\" x=\"328.320312\"/>\n       <use xlink:href=\"#DejaVuSans-6f\" x=\"363.525391\"/>\n       <use xlink:href=\"#DejaVuSans-72\" x=\"424.707031\"/>\n       <use xlink:href=\"#DejaVuSans-6d\" x=\"464.070312\"/>\n       <use xlink:href=\"#DejaVuSans-61\" x=\"561.482422\"/>\n       <use xlink:href=\"#DejaVuSans-74\" x=\"622.761719\"/>\n       <use xlink:href=\"#DejaVuSans-69\" x=\"661.970703\"/>\n       <use xlink:href=\"#DejaVuSans-76\" x=\"689.753906\"/>\n       <use xlink:href=\"#DejaVuSans-65\" x=\"748.933594\"/>\n      </g>\n     </g>\n    </g>\n    <g id=\"text_3\">\n     <!-- Predicted Label -->\n     <g style=\"fill: #262626\" transform=\"translate(252.464707 488.239863) scale(0.14 -0.14)\">\n      <defs>\n       <path id=\"DejaVuSans-50\" d=\"M 1259 4147 \nL 1259 2394 \nL 2053 2394 \nQ 2494 2394 2734 2622 \nQ 2975 2850 2975 3272 \nQ 2975 3691 2734 3919 \nQ 2494 4147 2053 4147 \nL 1259 4147 \nz\nM 628 4666 \nL 2053 4666 \nQ 2838 4666 3239 4311 \nQ 3641 3956 3641 3272 \nQ 3641 2581 3239 2228 \nQ 2838 1875 2053 1875 \nL 1259 1875 \nL 1259 0 \nL 628 0 \nL 628 4666 \nz\n\" transform=\"scale(0.015625)\"/>\n       <path id=\"DejaVuSans-64\" d=\"M 2906 2969 \nL 2906 4863 \nL 3481 4863 \nL 3481 0 \nL 2906 0 \nL 2906 525 \nQ 2725 213 2448 61 \nQ 2172 -91 1784 -91 \nQ 1150 -91 751 415 \nQ 353 922 353 1747 \nQ 353 2572 751 3078 \nQ 1150 3584 1784 3584 \nQ 2172 3584 2448 3432 \nQ 2725 3281 2906 2969 \nz\nM 947 1747 \nQ 947 1113 1208 752 \nQ 1469 391 1925 391 \nQ 2381 391 2643 752 \nQ 2906 1113 2906 1747 \nQ 2906 2381 2643 2742 \nQ 2381 3103 1925 3103 \nQ 1469 3103 1208 2742 \nQ 947 2381 947 1747 \nz\n\" transform=\"scale(0.015625)\"/>\n       <path id=\"DejaVuSans-63\" d=\"M 3122 3366 \nL 3122 2828 \nQ 2878 2963 2633 3030 \nQ 2388 3097 2138 3097 \nQ 1578 3097 1268 2742 \nQ 959 2388 959 1747 \nQ 959 1106 1268 751 \nQ 1578 397 2138 397 \nQ 2388 397 2633 464 \nQ 2878 531 3122 666 \nL 3122 134 \nQ 2881 22 2623 -34 \nQ 2366 -91 2075 -91 \nQ 1284 -91 818 406 \nQ 353 903 353 1747 \nQ 353 2603 823 3093 \nQ 1294 3584 2113 3584 \nQ 2378 3584 2631 3529 \nQ 2884 3475 3122 3366 \nz\n\" transform=\"scale(0.015625)\"/>\n       <path id=\"DejaVuSans-20\" transform=\"scale(0.015625)\"/>\n       <path id=\"DejaVuSans-4c\" d=\"M 628 4666 \nL 1259 4666 \nL 1259 531 \nL 3531 531 \nL 3531 0 \nL 628 0 \nL 628 4666 \nz\n\" transform=\"scale(0.015625)\"/>\n       <path id=\"DejaVuSans-62\" d=\"M 3116 1747 \nQ 3116 2381 2855 2742 \nQ 2594 3103 2138 3103 \nQ 1681 3103 1420 2742 \nQ 1159 2381 1159 1747 \nQ 1159 1113 1420 752 \nQ 1681 391 2138 391 \nQ 2594 391 2855 752 \nQ 3116 1113 3116 1747 \nz\nM 1159 2969 \nQ 1341 3281 1617 3432 \nQ 1894 3584 2278 3584 \nQ 2916 3584 3314 3078 \nQ 3713 2572 3713 1747 \nQ 3713 922 3314 415 \nQ 2916 -91 2278 -91 \nQ 1894 -91 1617 61 \nQ 1341 213 1159 525 \nL 1159 0 \nL 581 0 \nL 581 4863 \nL 1159 4863 \nL 1159 2969 \nz\n\" transform=\"scale(0.015625)\"/>\n       <path id=\"DejaVuSans-6c\" d=\"M 603 4863 \nL 1178 4863 \nL 1178 0 \nL 603 0 \nL 603 4863 \nz\n\" transform=\"scale(0.015625)\"/>\n      </defs>\n      <use xlink:href=\"#DejaVuSans-50\"/>\n      <use xlink:href=\"#DejaVuSans-72\" x=\"58.552734\"/>\n      <use xlink:href=\"#DejaVuSans-65\" x=\"97.416016\"/>\n      <use xlink:href=\"#DejaVuSans-64\" x=\"158.939453\"/>\n      <use xlink:href=\"#DejaVuSans-69\" x=\"222.416016\"/>\n      <use xlink:href=\"#DejaVuSans-63\" x=\"250.199219\"/>\n      <use xlink:href=\"#DejaVuSans-74\" x=\"305.179688\"/>\n      <use xlink:href=\"#DejaVuSans-65\" x=\"344.388672\"/>\n      <use xlink:href=\"#DejaVuSans-64\" x=\"405.912109\"/>\n      <use xlink:href=\"#DejaVuSans-20\" x=\"469.388672\"/>\n      <use xlink:href=\"#DejaVuSans-4c\" x=\"501.175781\"/>\n      <use xlink:href=\"#DejaVuSans-61\" x=\"556.888672\"/>\n      <use xlink:href=\"#DejaVuSans-62\" x=\"618.167969\"/>\n      <use xlink:href=\"#DejaVuSans-65\" x=\"681.644531\"/>\n      <use xlink:href=\"#DejaVuSans-6c\" x=\"743.167969\"/>\n     </g>\n    </g>\n   </g>\n   <g id=\"matplotlib.axis_2\">\n    <g id=\"ytick_1\">\n     <g id=\"line2d_3\">\n      <path d=\"M 127.873613 120.997812 \nL 484.993613 120.997812 \n\" clip-path=\"url(#p215b4a52e7)\" style=\"fill: none; stroke: #ffffff; stroke-linecap: round\"/>\n     </g>\n     <g id=\"text_4\">\n      <!-- Informative -->\n      <g style=\"fill: #262626\" transform=\"translate(67.395943 147.957877) rotate(-45) scale(0.121 -0.121)\">\n       <use xlink:href=\"#DejaVuSans-49\"/>\n       <use xlink:href=\"#DejaVuSans-6e\" x=\"29.492188\"/>\n       <use xlink:href=\"#DejaVuSans-66\" x=\"92.871094\"/>\n       <use xlink:href=\"#DejaVuSans-6f\" x=\"128.076172\"/>\n       <use xlink:href=\"#DejaVuSans-72\" x=\"189.257812\"/>\n       <use xlink:href=\"#DejaVuSans-6d\" x=\"228.621094\"/>\n       <use xlink:href=\"#DejaVuSans-61\" x=\"326.033203\"/>\n       <use xlink:href=\"#DejaVuSans-74\" x=\"387.3125\"/>\n       <use xlink:href=\"#DejaVuSans-69\" x=\"426.521484\"/>\n       <use xlink:href=\"#DejaVuSans-76\" x=\"454.304688\"/>\n       <use xlink:href=\"#DejaVuSans-65\" x=\"513.484375\"/>\n      </g>\n     </g>\n    </g>\n    <g id=\"ytick_2\">\n     <g id=\"line2d_4\">\n      <path d=\"M 127.873613 287.317812 \nL 484.993613 287.317812 \n\" clip-path=\"url(#p215b4a52e7)\" style=\"fill: none; stroke: #ffffff; stroke-linecap: round\"/>\n     </g>\n     <g id=\"text_5\">\n      <!-- Non-Informative -->\n      <g style=\"fill: #262626\" transform=\"translate(47.250592 324.350552) rotate(-45) scale(0.121 -0.121)\">\n       <use xlink:href=\"#DejaVuSans-4e\"/>\n       <use xlink:href=\"#DejaVuSans-6f\" x=\"74.804688\"/>\n       <use xlink:href=\"#DejaVuSans-6e\" x=\"135.986328\"/>\n       <use xlink:href=\"#DejaVuSans-2d\" x=\"199.365234\"/>\n       <use xlink:href=\"#DejaVuSans-49\" x=\"235.449219\"/>\n       <use xlink:href=\"#DejaVuSans-6e\" x=\"264.941406\"/>\n       <use xlink:href=\"#DejaVuSans-66\" x=\"328.320312\"/>\n       <use xlink:href=\"#DejaVuSans-6f\" x=\"363.525391\"/>\n       <use xlink:href=\"#DejaVuSans-72\" x=\"424.707031\"/>\n       <use xlink:href=\"#DejaVuSans-6d\" x=\"464.070312\"/>\n       <use xlink:href=\"#DejaVuSans-61\" x=\"561.482422\"/>\n       <use xlink:href=\"#DejaVuSans-74\" x=\"622.761719\"/>\n       <use xlink:href=\"#DejaVuSans-69\" x=\"661.970703\"/>\n       <use xlink:href=\"#DejaVuSans-76\" x=\"689.753906\"/>\n       <use xlink:href=\"#DejaVuSans-65\" x=\"748.933594\"/>\n      </g>\n     </g>\n    </g>\n    <g id=\"text_6\">\n     <!-- Gold Label -->\n     <g style=\"fill: #262626\" transform=\"translate(17.837812 241.363906) rotate(-90) scale(0.14 -0.14)\">\n      <defs>\n       <path id=\"DejaVuSans-47\" d=\"M 3809 666 \nL 3809 1919 \nL 2778 1919 \nL 2778 2438 \nL 4434 2438 \nL 4434 434 \nQ 4069 175 3628 42 \nQ 3188 -91 2688 -91 \nQ 1594 -91 976 548 \nQ 359 1188 359 2328 \nQ 359 3472 976 4111 \nQ 1594 4750 2688 4750 \nQ 3144 4750 3555 4637 \nQ 3966 4525 4313 4306 \nL 4313 3634 \nQ 3963 3931 3569 4081 \nQ 3175 4231 2741 4231 \nQ 1884 4231 1454 3753 \nQ 1025 3275 1025 2328 \nQ 1025 1384 1454 906 \nQ 1884 428 2741 428 \nQ 3075 428 3337 486 \nQ 3600 544 3809 666 \nz\n\" transform=\"scale(0.015625)\"/>\n      </defs>\n      <use xlink:href=\"#DejaVuSans-47\"/>\n      <use xlink:href=\"#DejaVuSans-6f\" x=\"77.490234\"/>\n      <use xlink:href=\"#DejaVuSans-6c\" x=\"138.671875\"/>\n      <use xlink:href=\"#DejaVuSans-64\" x=\"166.455078\"/>\n      <use xlink:href=\"#DejaVuSans-20\" x=\"229.931641\"/>\n      <use xlink:href=\"#DejaVuSans-4c\" x=\"261.71875\"/>\n      <use xlink:href=\"#DejaVuSans-61\" x=\"317.431641\"/>\n      <use xlink:href=\"#DejaVuSans-62\" x=\"378.710938\"/>\n      <use xlink:href=\"#DejaVuSans-65\" x=\"442.1875\"/>\n      <use xlink:href=\"#DejaVuSans-6c\" x=\"503.710938\"/>\n     </g>\n    </g>\n   </g>\n   <g id=\"QuadMesh_1\">\n    <path d=\"M 127.873613 37.837812 \nL 306.433613 37.837812 \nL 306.433613 204.157812 \nL 127.873613 204.157812 \nL 127.873613 37.837812 \n\" clip-path=\"url(#p215b4a52e7)\" style=\"fill: #f4815a\"/>\n    <path d=\"M 306.433613 37.837812 \nL 484.993613 37.837812 \nL 484.993613 204.157812 \nL 306.433613 204.157812 \nL 306.433613 37.837812 \n\" clip-path=\"url(#p215b4a52e7)\" style=\"fill: #661f54\"/>\n    <path d=\"M 127.873613 204.157812 \nL 306.433613 204.157812 \nL 306.433613 370.477812 \nL 127.873613 370.477812 \nL 127.873613 204.157812 \n\" clip-path=\"url(#p215b4a52e7)\" style=\"fill: #03051a\"/>\n    <path d=\"M 306.433613 204.157812 \nL 484.993613 204.157812 \nL 484.993613 370.477812 \nL 306.433613 370.477812 \nL 306.433613 204.157812 \n\" clip-path=\"url(#p215b4a52e7)\" style=\"fill: #faebdd\"/>\n   </g>\n   <g id=\"text_7\">\n    <!-- 67.83% -->\n    <g style=\"fill: #ffffff\" transform=\"translate(191.988019 124.640188) scale(0.132 -0.132)\">\n     <defs>\n      <path id=\"DejaVuSans-36\" d=\"M 2113 2584 \nQ 1688 2584 1439 2293 \nQ 1191 2003 1191 1497 \nQ 1191 994 1439 701 \nQ 1688 409 2113 409 \nQ 2538 409 2786 701 \nQ 3034 994 3034 1497 \nQ 3034 2003 2786 2293 \nQ 2538 2584 2113 2584 \nz\nM 3366 4563 \nL 3366 3988 \nQ 3128 4100 2886 4159 \nQ 2644 4219 2406 4219 \nQ 1781 4219 1451 3797 \nQ 1122 3375 1075 2522 \nQ 1259 2794 1537 2939 \nQ 1816 3084 2150 3084 \nQ 2853 3084 3261 2657 \nQ 3669 2231 3669 1497 \nQ 3669 778 3244 343 \nQ 2819 -91 2113 -91 \nQ 1303 -91 875 529 \nQ 447 1150 447 2328 \nQ 447 3434 972 4092 \nQ 1497 4750 2381 4750 \nQ 2619 4750 2861 4703 \nQ 3103 4656 3366 4563 \nz\n\" transform=\"scale(0.015625)\"/>\n      <path id=\"DejaVuSans-37\" d=\"M 525 4666 \nL 3525 4666 \nL 3525 4397 \nL 1831 0 \nL 1172 0 \nL 2766 4134 \nL 525 4134 \nL 525 4666 \nz\n\" transform=\"scale(0.015625)\"/>\n      <path id=\"DejaVuSans-2e\" d=\"M 684 794 \nL 1344 794 \nL 1344 0 \nL 684 0 \nL 684 794 \nz\n\" transform=\"scale(0.015625)\"/>\n      <path id=\"DejaVuSans-38\" d=\"M 2034 2216 \nQ 1584 2216 1326 1975 \nQ 1069 1734 1069 1313 \nQ 1069 891 1326 650 \nQ 1584 409 2034 409 \nQ 2484 409 2743 651 \nQ 3003 894 3003 1313 \nQ 3003 1734 2745 1975 \nQ 2488 2216 2034 2216 \nz\nM 1403 2484 \nQ 997 2584 770 2862 \nQ 544 3141 544 3541 \nQ 544 4100 942 4425 \nQ 1341 4750 2034 4750 \nQ 2731 4750 3128 4425 \nQ 3525 4100 3525 3541 \nQ 3525 3141 3298 2862 \nQ 3072 2584 2669 2484 \nQ 3125 2378 3379 2068 \nQ 3634 1759 3634 1313 \nQ 3634 634 3220 271 \nQ 2806 -91 2034 -91 \nQ 1263 -91 848 271 \nQ 434 634 434 1313 \nQ 434 1759 690 2068 \nQ 947 2378 1403 2484 \nz\nM 1172 3481 \nQ 1172 3119 1398 2916 \nQ 1625 2713 2034 2713 \nQ 2441 2713 2670 2916 \nQ 2900 3119 2900 3481 \nQ 2900 3844 2670 4047 \nQ 2441 4250 2034 4250 \nQ 1625 4250 1398 4047 \nQ 1172 3844 1172 3481 \nz\n\" transform=\"scale(0.015625)\"/>\n      <path id=\"DejaVuSans-33\" d=\"M 2597 2516 \nQ 3050 2419 3304 2112 \nQ 3559 1806 3559 1356 \nQ 3559 666 3084 287 \nQ 2609 -91 1734 -91 \nQ 1441 -91 1130 -33 \nQ 819 25 488 141 \nL 488 750 \nQ 750 597 1062 519 \nQ 1375 441 1716 441 \nQ 2309 441 2620 675 \nQ 2931 909 2931 1356 \nQ 2931 1769 2642 2001 \nQ 2353 2234 1838 2234 \nL 1294 2234 \nL 1294 2753 \nL 1863 2753 \nQ 2328 2753 2575 2939 \nQ 2822 3125 2822 3475 \nQ 2822 3834 2567 4026 \nQ 2313 4219 1838 4219 \nQ 1578 4219 1281 4162 \nQ 984 4106 628 3988 \nL 628 4550 \nQ 988 4650 1302 4700 \nQ 1616 4750 1894 4750 \nQ 2613 4750 3031 4423 \nQ 3450 4097 3450 3541 \nQ 3450 3153 3228 2886 \nQ 3006 2619 2597 2516 \nz\n\" transform=\"scale(0.015625)\"/>\n      <path id=\"DejaVuSans-25\" d=\"M 4653 2053 \nQ 4381 2053 4226 1822 \nQ 4072 1591 4072 1178 \nQ 4072 772 4226 539 \nQ 4381 306 4653 306 \nQ 4919 306 5073 539 \nQ 5228 772 5228 1178 \nQ 5228 1588 5073 1820 \nQ 4919 2053 4653 2053 \nz\nM 4653 2450 \nQ 5147 2450 5437 2106 \nQ 5728 1763 5728 1178 \nQ 5728 594 5436 251 \nQ 5144 -91 4653 -91 \nQ 4153 -91 3862 251 \nQ 3572 594 3572 1178 \nQ 3572 1766 3864 2108 \nQ 4156 2450 4653 2450 \nz\nM 1428 4353 \nQ 1159 4353 1004 4120 \nQ 850 3888 850 3481 \nQ 850 3069 1003 2837 \nQ 1156 2606 1428 2606 \nQ 1700 2606 1854 2837 \nQ 2009 3069 2009 3481 \nQ 2009 3884 1853 4118 \nQ 1697 4353 1428 4353 \nz\nM 4250 4750 \nL 4750 4750 \nL 1831 -91 \nL 1331 -91 \nL 4250 4750 \nz\nM 1428 4750 \nQ 1922 4750 2215 4408 \nQ 2509 4066 2509 3481 \nQ 2509 2891 2217 2550 \nQ 1925 2209 1428 2209 \nQ 931 2209 642 2551 \nQ 353 2894 353 3481 \nQ 353 4063 643 4406 \nQ 934 4750 1428 4750 \nz\n\" transform=\"scale(0.015625)\"/>\n     </defs>\n     <use xlink:href=\"#DejaVuSans-36\"/>\n     <use xlink:href=\"#DejaVuSans-37\" x=\"63.623047\"/>\n     <use xlink:href=\"#DejaVuSans-2e\" x=\"127.246094\"/>\n     <use xlink:href=\"#DejaVuSans-38\" x=\"159.033203\"/>\n     <use xlink:href=\"#DejaVuSans-33\" x=\"222.65625\"/>\n     <use xlink:href=\"#DejaVuSans-25\" x=\"286.279297\"/>\n    </g>\n   </g>\n   <g id=\"text_8\">\n    <!-- 32.17% -->\n    <g style=\"fill: #ffffff\" transform=\"translate(370.548019 124.640188) scale(0.132 -0.132)\">\n     <defs>\n      <path id=\"DejaVuSans-32\" d=\"M 1228 531 \nL 3431 531 \nL 3431 0 \nL 469 0 \nL 469 531 \nQ 828 903 1448 1529 \nQ 2069 2156 2228 2338 \nQ 2531 2678 2651 2914 \nQ 2772 3150 2772 3378 \nQ 2772 3750 2511 3984 \nQ 2250 4219 1831 4219 \nQ 1534 4219 1204 4116 \nQ 875 4013 500 3803 \nL 500 4441 \nQ 881 4594 1212 4672 \nQ 1544 4750 1819 4750 \nQ 2544 4750 2975 4387 \nQ 3406 4025 3406 3419 \nQ 3406 3131 3298 2873 \nQ 3191 2616 2906 2266 \nQ 2828 2175 2409 1742 \nQ 1991 1309 1228 531 \nz\n\" transform=\"scale(0.015625)\"/>\n      <path id=\"DejaVuSans-31\" d=\"M 794 531 \nL 1825 531 \nL 1825 4091 \nL 703 3866 \nL 703 4441 \nL 1819 4666 \nL 2450 4666 \nL 2450 531 \nL 3481 531 \nL 3481 0 \nL 794 0 \nL 794 531 \nz\n\" transform=\"scale(0.015625)\"/>\n     </defs>\n     <use xlink:href=\"#DejaVuSans-33\"/>\n     <use xlink:href=\"#DejaVuSans-32\" x=\"63.623047\"/>\n     <use xlink:href=\"#DejaVuSans-2e\" x=\"127.246094\"/>\n     <use xlink:href=\"#DejaVuSans-31\" x=\"159.033203\"/>\n     <use xlink:href=\"#DejaVuSans-37\" x=\"222.65625\"/>\n     <use xlink:href=\"#DejaVuSans-25\" x=\"286.279297\"/>\n    </g>\n   </g>\n   <g id=\"text_9\">\n    <!-- 11.98% -->\n    <g style=\"fill: #ffffff\" transform=\"translate(191.988019 290.960187) scale(0.132 -0.132)\">\n     <defs>\n      <path id=\"DejaVuSans-39\" d=\"M 703 97 \nL 703 672 \nQ 941 559 1184 500 \nQ 1428 441 1663 441 \nQ 2288 441 2617 861 \nQ 2947 1281 2994 2138 \nQ 2813 1869 2534 1725 \nQ 2256 1581 1919 1581 \nQ 1219 1581 811 2004 \nQ 403 2428 403 3163 \nQ 403 3881 828 4315 \nQ 1253 4750 1959 4750 \nQ 2769 4750 3195 4129 \nQ 3622 3509 3622 2328 \nQ 3622 1225 3098 567 \nQ 2575 -91 1691 -91 \nQ 1453 -91 1209 -44 \nQ 966 3 703 97 \nz\nM 1959 2075 \nQ 2384 2075 2632 2365 \nQ 2881 2656 2881 3163 \nQ 2881 3666 2632 3958 \nQ 2384 4250 1959 4250 \nQ 1534 4250 1286 3958 \nQ 1038 3666 1038 3163 \nQ 1038 2656 1286 2365 \nQ 1534 2075 1959 2075 \nz\n\" transform=\"scale(0.015625)\"/>\n     </defs>\n     <use xlink:href=\"#DejaVuSans-31\"/>\n     <use xlink:href=\"#DejaVuSans-31\" x=\"63.623047\"/>\n     <use xlink:href=\"#DejaVuSans-2e\" x=\"127.246094\"/>\n     <use xlink:href=\"#DejaVuSans-39\" x=\"159.033203\"/>\n     <use xlink:href=\"#DejaVuSans-38\" x=\"222.65625\"/>\n     <use xlink:href=\"#DejaVuSans-25\" x=\"286.279297\"/>\n    </g>\n   </g>\n   <g id=\"text_10\">\n    <!-- 88.02% -->\n    <g style=\"fill: #262626\" transform=\"translate(370.548019 290.960187) scale(0.132 -0.132)\">\n     <defs>\n      <path id=\"DejaVuSans-30\" d=\"M 2034 4250 \nQ 1547 4250 1301 3770 \nQ 1056 3291 1056 2328 \nQ 1056 1369 1301 889 \nQ 1547 409 2034 409 \nQ 2525 409 2770 889 \nQ 3016 1369 3016 2328 \nQ 3016 3291 2770 3770 \nQ 2525 4250 2034 4250 \nz\nM 2034 4750 \nQ 2819 4750 3233 4129 \nQ 3647 3509 3647 2328 \nQ 3647 1150 3233 529 \nQ 2819 -91 2034 -91 \nQ 1250 -91 836 529 \nQ 422 1150 422 2328 \nQ 422 3509 836 4129 \nQ 1250 4750 2034 4750 \nz\n\" transform=\"scale(0.015625)\"/>\n     </defs>\n     <use xlink:href=\"#DejaVuSans-38\"/>\n     <use xlink:href=\"#DejaVuSans-38\" x=\"63.623047\"/>\n     <use xlink:href=\"#DejaVuSans-2e\" x=\"127.246094\"/>\n     <use xlink:href=\"#DejaVuSans-30\" x=\"159.033203\"/>\n     <use xlink:href=\"#DejaVuSans-32\" x=\"222.65625\"/>\n     <use xlink:href=\"#DejaVuSans-25\" x=\"286.279297\"/>\n    </g>\n   </g>\n   <g id=\"text_11\">\n    <!-- Confusion Matrix -->\n    <g style=\"fill: #262626\" transform=\"translate(247.351425 17.837812) scale(0.14 -0.14)\">\n     <defs>\n      <path id=\"DejaVuSans-43\" d=\"M 4122 4306 \nL 4122 3641 \nQ 3803 3938 3442 4084 \nQ 3081 4231 2675 4231 \nQ 1875 4231 1450 3742 \nQ 1025 3253 1025 2328 \nQ 1025 1406 1450 917 \nQ 1875 428 2675 428 \nQ 3081 428 3442 575 \nQ 3803 722 4122 1019 \nL 4122 359 \nQ 3791 134 3420 21 \nQ 3050 -91 2638 -91 \nQ 1578 -91 968 557 \nQ 359 1206 359 2328 \nQ 359 3453 968 4101 \nQ 1578 4750 2638 4750 \nQ 3056 4750 3426 4639 \nQ 3797 4528 4122 4306 \nz\n\" transform=\"scale(0.015625)\"/>\n      <path id=\"DejaVuSans-75\" d=\"M 544 1381 \nL 544 3500 \nL 1119 3500 \nL 1119 1403 \nQ 1119 906 1312 657 \nQ 1506 409 1894 409 \nQ 2359 409 2629 706 \nQ 2900 1003 2900 1516 \nL 2900 3500 \nL 3475 3500 \nL 3475 0 \nL 2900 0 \nL 2900 538 \nQ 2691 219 2414 64 \nQ 2138 -91 1772 -91 \nQ 1169 -91 856 284 \nQ 544 659 544 1381 \nz\nM 1991 3584 \nL 1991 3584 \nz\n\" transform=\"scale(0.015625)\"/>\n      <path id=\"DejaVuSans-73\" d=\"M 2834 3397 \nL 2834 2853 \nQ 2591 2978 2328 3040 \nQ 2066 3103 1784 3103 \nQ 1356 3103 1142 2972 \nQ 928 2841 928 2578 \nQ 928 2378 1081 2264 \nQ 1234 2150 1697 2047 \nL 1894 2003 \nQ 2506 1872 2764 1633 \nQ 3022 1394 3022 966 \nQ 3022 478 2636 193 \nQ 2250 -91 1575 -91 \nQ 1294 -91 989 -36 \nQ 684 19 347 128 \nL 347 722 \nQ 666 556 975 473 \nQ 1284 391 1588 391 \nQ 1994 391 2212 530 \nQ 2431 669 2431 922 \nQ 2431 1156 2273 1281 \nQ 2116 1406 1581 1522 \nL 1381 1569 \nQ 847 1681 609 1914 \nQ 372 2147 372 2553 \nQ 372 3047 722 3315 \nQ 1072 3584 1716 3584 \nQ 2034 3584 2315 3537 \nQ 2597 3491 2834 3397 \nz\n\" transform=\"scale(0.015625)\"/>\n      <path id=\"DejaVuSans-4d\" d=\"M 628 4666 \nL 1569 4666 \nL 2759 1491 \nL 3956 4666 \nL 4897 4666 \nL 4897 0 \nL 4281 0 \nL 4281 4097 \nL 3078 897 \nL 2444 897 \nL 1241 4097 \nL 1241 0 \nL 628 0 \nL 628 4666 \nz\n\" transform=\"scale(0.015625)\"/>\n      <path id=\"DejaVuSans-78\" d=\"M 3513 3500 \nL 2247 1797 \nL 3578 0 \nL 2900 0 \nL 1881 1375 \nL 863 0 \nL 184 0 \nL 1544 1831 \nL 300 3500 \nL 978 3500 \nL 1906 2253 \nL 2834 3500 \nL 3513 3500 \nz\n\" transform=\"scale(0.015625)\"/>\n     </defs>\n     <use xlink:href=\"#DejaVuSans-43\"/>\n     <use xlink:href=\"#DejaVuSans-6f\" x=\"69.824219\"/>\n     <use xlink:href=\"#DejaVuSans-6e\" x=\"131.005859\"/>\n     <use xlink:href=\"#DejaVuSans-66\" x=\"194.384766\"/>\n     <use xlink:href=\"#DejaVuSans-75\" x=\"229.589844\"/>\n     <use xlink:href=\"#DejaVuSans-73\" x=\"292.96875\"/>\n     <use xlink:href=\"#DejaVuSans-69\" x=\"345.068359\"/>\n     <use xlink:href=\"#DejaVuSans-6f\" x=\"372.851562\"/>\n     <use xlink:href=\"#DejaVuSans-6e\" x=\"434.033203\"/>\n     <use xlink:href=\"#DejaVuSans-20\" x=\"497.412109\"/>\n     <use xlink:href=\"#DejaVuSans-4d\" x=\"529.199219\"/>\n     <use xlink:href=\"#DejaVuSans-61\" x=\"615.478516\"/>\n     <use xlink:href=\"#DejaVuSans-74\" x=\"676.757812\"/>\n     <use xlink:href=\"#DejaVuSans-72\" x=\"715.966797\"/>\n     <use xlink:href=\"#DejaVuSans-69\" x=\"757.080078\"/>\n     <use xlink:href=\"#DejaVuSans-78\" x=\"784.863281\"/>\n    </g>\n   </g>\n  </g>\n  <g id=\"axes_2\">\n   <g id=\"patch_3\">\n    <path d=\"M 507.313613 370.477812 \nL 523.945613 370.477812 \nL 523.945613 37.837812 \nL 507.313613 37.837812 \nz\n\" style=\"fill: #eaeaf2\"/>\n   </g>\n   <g id=\"matplotlib.axis_3\"/>\n   <g id=\"matplotlib.axis_4\">\n    <g id=\"ytick_3\">\n     <g id=\"line2d_5\">\n      <defs>\n       <path id=\"m9352e91337\" d=\"M 0 0 \nL 6 0 \n\" style=\"stroke: #262626; stroke-width: 1.25\"/>\n      </defs>\n      <g>\n       <use xlink:href=\"#m9352e91337\" x=\"523.945613\" y=\"335.394004\" style=\"fill: #262626; stroke: #262626; stroke-width: 1.25\"/>\n      </g>\n     </g>\n     <g id=\"text_12\">\n      <!-- 20 -->\n      <g style=\"fill: #262626\" transform=\"translate(533.445613 339.991059) scale(0.121 -0.121)\">\n       <use xlink:href=\"#DejaVuSans-32\"/>\n       <use xlink:href=\"#DejaVuSans-30\" x=\"63.623047\"/>\n      </g>\n     </g>\n    </g>\n    <g id=\"ytick_4\">\n     <g id=\"line2d_6\">\n      <g>\n       <use xlink:href=\"#m9352e91337\" x=\"523.945613\" y=\"291.648607\" style=\"fill: #262626; stroke: #262626; stroke-width: 1.25\"/>\n      </g>\n     </g>\n     <g id=\"text_13\">\n      <!-- 30 -->\n      <g style=\"fill: #262626\" transform=\"translate(533.445613 296.245662) scale(0.121 -0.121)\">\n       <use xlink:href=\"#DejaVuSans-33\"/>\n       <use xlink:href=\"#DejaVuSans-30\" x=\"63.623047\"/>\n      </g>\n     </g>\n    </g>\n    <g id=\"ytick_5\">\n     <g id=\"line2d_7\">\n      <g>\n       <use xlink:href=\"#m9352e91337\" x=\"523.945613\" y=\"247.90321\" style=\"fill: #262626; stroke: #262626; stroke-width: 1.25\"/>\n      </g>\n     </g>\n     <g id=\"text_14\">\n      <!-- 40 -->\n      <g style=\"fill: #262626\" transform=\"translate(533.445613 252.500264) scale(0.121 -0.121)\">\n       <defs>\n        <path id=\"DejaVuSans-34\" d=\"M 2419 4116 \nL 825 1625 \nL 2419 1625 \nL 2419 4116 \nz\nM 2253 4666 \nL 3047 4666 \nL 3047 1625 \nL 3713 1625 \nL 3713 1100 \nL 3047 1100 \nL 3047 0 \nL 2419 0 \nL 2419 1100 \nL 313 1100 \nL 313 1709 \nL 2253 4666 \nz\n\" transform=\"scale(0.015625)\"/>\n       </defs>\n       <use xlink:href=\"#DejaVuSans-34\"/>\n       <use xlink:href=\"#DejaVuSans-30\" x=\"63.623047\"/>\n      </g>\n     </g>\n    </g>\n    <g id=\"ytick_6\">\n     <g id=\"line2d_8\">\n      <g>\n       <use xlink:href=\"#m9352e91337\" x=\"523.945613\" y=\"204.157812\" style=\"fill: #262626; stroke: #262626; stroke-width: 1.25\"/>\n      </g>\n     </g>\n     <g id=\"text_15\">\n      <!-- 50 -->\n      <g style=\"fill: #262626\" transform=\"translate(533.445613 208.754867) scale(0.121 -0.121)\">\n       <defs>\n        <path id=\"DejaVuSans-35\" d=\"M 691 4666 \nL 3169 4666 \nL 3169 4134 \nL 1269 4134 \nL 1269 2991 \nQ 1406 3038 1543 3061 \nQ 1681 3084 1819 3084 \nQ 2600 3084 3056 2656 \nQ 3513 2228 3513 1497 \nQ 3513 744 3044 326 \nQ 2575 -91 1722 -91 \nQ 1428 -91 1123 -41 \nQ 819 9 494 109 \nL 494 744 \nQ 775 591 1075 516 \nQ 1375 441 1709 441 \nQ 2250 441 2565 725 \nQ 2881 1009 2881 1497 \nQ 2881 1984 2565 2268 \nQ 2250 2553 1709 2553 \nQ 1456 2553 1204 2497 \nQ 953 2441 691 2322 \nL 691 4666 \nz\n\" transform=\"scale(0.015625)\"/>\n       </defs>\n       <use xlink:href=\"#DejaVuSans-35\"/>\n       <use xlink:href=\"#DejaVuSans-30\" x=\"63.623047\"/>\n      </g>\n     </g>\n    </g>\n    <g id=\"ytick_7\">\n     <g id=\"line2d_9\">\n      <g>\n       <use xlink:href=\"#m9352e91337\" x=\"523.945613\" y=\"160.412415\" style=\"fill: #262626; stroke: #262626; stroke-width: 1.25\"/>\n      </g>\n     </g>\n     <g id=\"text_16\">\n      <!-- 60 -->\n      <g style=\"fill: #262626\" transform=\"translate(533.445613 165.00947) scale(0.121 -0.121)\">\n       <use xlink:href=\"#DejaVuSans-36\"/>\n       <use xlink:href=\"#DejaVuSans-30\" x=\"63.623047\"/>\n      </g>\n     </g>\n    </g>\n    <g id=\"ytick_8\">\n     <g id=\"line2d_10\">\n      <g>\n       <use xlink:href=\"#m9352e91337\" x=\"523.945613\" y=\"116.667018\" style=\"fill: #262626; stroke: #262626; stroke-width: 1.25\"/>\n      </g>\n     </g>\n     <g id=\"text_17\">\n      <!-- 70 -->\n      <g style=\"fill: #262626\" transform=\"translate(533.445613 121.264073) scale(0.121 -0.121)\">\n       <use xlink:href=\"#DejaVuSans-37\"/>\n       <use xlink:href=\"#DejaVuSans-30\" x=\"63.623047\"/>\n      </g>\n     </g>\n    </g>\n    <g id=\"ytick_9\">\n     <g id=\"line2d_11\">\n      <g>\n       <use xlink:href=\"#m9352e91337\" x=\"523.945613\" y=\"72.921621\" style=\"fill: #262626; stroke: #262626; stroke-width: 1.25\"/>\n      </g>\n     </g>\n     <g id=\"text_18\">\n      <!-- 80 -->\n      <g style=\"fill: #262626\" transform=\"translate(533.445613 77.518676) scale(0.121 -0.121)\">\n       <use xlink:href=\"#DejaVuSans-38\"/>\n       <use xlink:href=\"#DejaVuSans-30\" x=\"63.623047\"/>\n      </g>\n     </g>\n    </g>\n   </g>\n   <image xlink:href=\"data:image/png;base64,\niVBORw0KGgoAAAANSUhEUgAAABcAAAHOCAYAAABzbJLzAAACS0lEQVR4nO2dwW3DQAwEdbbSRPrv0ylA4+cGGGCmAIJY7vKks+Oc98/v5xpxn1Xl67pew9rXfc6u9zpH7nNpOx9qfr8aKLDtXKy5tvPX0C1mWbSdizXXLq7pSdQ+J7wDLURImnPxc3bN9yCKmBdXmlPxZCGyIpLmXLxHC8L7aJHmSCFCxAP1au7tfPkhVAc0khWRFhcXN1txR1ZEzPHfPs7taKCIOkQ71CFqoE+8A21xIb0TIYUISXMkzb8Vt8ri/bqyV/Pij8XNsuwoREhu4eINlPAOtPgj92v2F1xZ8QvFHxGHaHwS7fDuFu9Aiz8yvljIioB3oHWO3KfHOcDceYsL8LqlgSLrge5EL/6IeOVu3+Y+WisOi3sH2uJCtveKxyvLsHidI7mFi5tl0XY+PIoKETIO0fDCZW1Fa+fixzmv5sPO1bLsinsHWoiQqVsaKDIe6PAt12tFr+aFCFkPdFe8MxRZh2hWWyxLnSO5BfGuXPVW3BXPiohY82t5JeKVpc6JsRW1nU9PomQhsiJyn+GHc17NkwVZd27VPLd8KW6VxTzQOn+yvswZ/q6FVxZz57v6aY5MV65Ylkv7L4TEmms7P8PFJZalEBGdochU86yIeLdimiP5/FtxrSza3ygWay7uvDP0iXig4hvR3PLfxTuJELXm2s4LEVCIkDpHpvFPFiQrImn+/8UbKJLmiFfzZEHWX555z4qnOVKIEPNAxZpr4y/WvPg/6SRCChFSiJD2OeK14nrldiXyRG3F4v/EG/9pQr2yZEXEG/8/uQovW3ZD+3kAAAAASUVORK5CYII=\" id=\"image86f0e49181\" transform=\"scale(1 -1) translate(0 -332.64)\" x=\"507.6\" y=\"-37.44\" width=\"16.56\" height=\"332.64\"/>\n   <g id=\"LineCollection_1\"/>\n   <g id=\"patch_4\">\n    <path d=\"M 507.313613 370.477812 \nL 515.629613 370.477812 \nL 523.945613 370.477812 \nL 523.945613 37.837812 \nL 515.629613 37.837812 \nL 507.313613 37.837812 \nL 507.313613 370.477812 \nz\n\" style=\"fill: none\"/>\n   </g>\n  </g>\n </g>\n <defs>\n  <clipPath id=\"p215b4a52e7\">\n   <rect x=\"127.873613\" y=\"37.837812\" width=\"357.12\" height=\"332.64\"/>\n  </clipPath>\n </defs>\n</svg>\n",
            "text/plain": [
              "<Figure size 800x600 with 2 Axes>"
            ]
          },
          "metadata": {},
          "output_type": "display_data"
        }
      ],
      "source": [
        "# Showing the results of the best performing model\n",
        "plot_cm_with_percentages(best_model_true_labels, best_model_predictions, mapping)"
      ]
    },
    {
      "cell_type": "code",
      "execution_count": null,
      "metadata": {
        "colab": {
          "base_uri": "https://localhost:8080/"
        },
        "id": "y5rFqpUSTr1S",
        "outputId": "4011574c-b28a-430d-aeba-e208719e6127"
      },
      "outputs": [
        {
          "name": "stdout",
          "output_type": "stream",
          "text": [
            "Currently running split 1\n",
            "Train set size: 3901\n",
            "Test set size: 976\n",
            "  DONE.\n",
            "Dataset contains 3,901 samples.\n",
            "  DONE.\n",
            "Dataset contains 976 samples.\n"
          ]
        },
        {
          "name": "stderr",
          "output_type": "stream",
          "text": [
            "Truncation was not explicitly activated but `max_length` is provided a specific value, please use `truncation=True` to explicitly truncate examples to max length. Defaulting to 'longest_first' truncation strategy. If you encode pairs of sequences (GLUE-style) with the tokenizer you can select this strategy more precisely by providing a specific strategy to `truncation`.\n",
            "/usr/local/lib/python3.10/dist-packages/transformers/tokenization_utils_base.py:2377: FutureWarning: The `pad_to_max_length` argument is deprecated and will be removed in a future version, use `padding=True` or `padding='longest'` to pad to the longest sequence in the batch, or use `padding='max_length'` to pad to a max length. In this case, you can give a specific length with `max_length` (e.g. `max_length=45`) or leave max_length to None to pad to the maximal input size of the model (e.g. 512 for Bert).\n",
            "  warnings.warn(\n",
            "/usr/local/lib/python3.10/dist-packages/transformers/tokenization_utils_base.py:2377: FutureWarning: The `pad_to_max_length` argument is deprecated and will be removed in a future version, use `padding=True` or `padding='longest'` to pad to the longest sequence in the batch, or use `padding='max_length'` to pad to a max length. In this case, you can give a specific length with `max_length` (e.g. `max_length=45`) or leave max_length to None to pad to the maximal input size of the model (e.g. 512 for Bert).\n",
            "  warnings.warn(\n",
            "You are using a model of type xlm-roberta to instantiate a model of type bert. This is not supported for all configurations of models and can yield errors.\n",
            "Some weights of the model checkpoint at xlm-roberta-base were not used when initializing BertConcatFeatures: ['roberta.pooler.dense.bias', 'lm_head.bias', 'roberta.pooler.dense.weight', 'lm_head.dense.weight', 'lm_head.dense.bias', 'lm_head.layer_norm.weight', 'lm_head.layer_norm.bias']\n",
            "- This IS expected if you are initializing BertConcatFeatures from the checkpoint of a model trained on another task or with another architecture (e.g. initializing a BertForSequenceClassification model from a BertForPreTraining model).\n",
            "- This IS NOT expected if you are initializing BertConcatFeatures from the checkpoint of a model that you expect to be exactly identical (initializing a BertForSequenceClassification model from a BertForSequenceClassification model).\n",
            "Some weights of BertConcatFeatures were not initialized from the model checkpoint at xlm-roberta-base and are newly initialized: ['num_bn.running_mean', 'classifier.dense.bias', 'linear_classifier.bias', 'classifier.out_proj.bias', 'classifier.out_proj.weight', 'num_bn.running_var', 'classifier.dense.weight', 'num_bn.bias', 'linear_classifier.weight', 'num_bn.weight', 'num_bn.num_batches_tracked']\n",
            "You should probably TRAIN this model on a down-stream task to be able to use it for predictions and inference.\n"
          ]
        },
        {
          "name": "stdout",
          "output_type": "stream",
          "text": [
            "MLP Layer sizes:\n",
            " Input: 774\n",
            " Output: 5\n",
            "Training Current run: 1\n",
            "\n",
            "======== Epoch 1 / 4 ========\n",
            "Training...\n",
            "\n",
            "  Average training loss: 1.38\n",
            "  Training epoch took: 0:00:48\n",
            "\n",
            "======== Epoch 2 / 4 ========\n",
            "Training...\n",
            "\n",
            "  Average training loss: 0.95\n",
            "  Training epoch took: 0:00:48\n",
            "\n",
            "======== Epoch 3 / 4 ========\n",
            "Training...\n",
            "\n",
            "  Average training loss: 0.78\n",
            "  Training epoch took: 0:00:48\n",
            "\n",
            "======== Epoch 4 / 4 ========\n",
            "Training...\n",
            "\n",
            "  Average training loss: 0.68\n",
            "  Training epoch took: 0:00:48\n",
            "Testing Current run: 1\n",
            "Currently running split 2\n",
            "Train set size: 3901\n",
            "Test set size: 976\n",
            "  DONE.\n",
            "Dataset contains 3,901 samples.\n",
            "  DONE.\n",
            "Dataset contains 976 samples.\n"
          ]
        },
        {
          "name": "stderr",
          "output_type": "stream",
          "text": [
            "Truncation was not explicitly activated but `max_length` is provided a specific value, please use `truncation=True` to explicitly truncate examples to max length. Defaulting to 'longest_first' truncation strategy. If you encode pairs of sequences (GLUE-style) with the tokenizer you can select this strategy more precisely by providing a specific strategy to `truncation`.\n",
            "/usr/local/lib/python3.10/dist-packages/transformers/tokenization_utils_base.py:2377: FutureWarning: The `pad_to_max_length` argument is deprecated and will be removed in a future version, use `padding=True` or `padding='longest'` to pad to the longest sequence in the batch, or use `padding='max_length'` to pad to a max length. In this case, you can give a specific length with `max_length` (e.g. `max_length=45`) or leave max_length to None to pad to the maximal input size of the model (e.g. 512 for Bert).\n",
            "  warnings.warn(\n",
            "/usr/local/lib/python3.10/dist-packages/transformers/tokenization_utils_base.py:2377: FutureWarning: The `pad_to_max_length` argument is deprecated and will be removed in a future version, use `padding=True` or `padding='longest'` to pad to the longest sequence in the batch, or use `padding='max_length'` to pad to a max length. In this case, you can give a specific length with `max_length` (e.g. `max_length=45`) or leave max_length to None to pad to the maximal input size of the model (e.g. 512 for Bert).\n",
            "  warnings.warn(\n",
            "You are using a model of type xlm-roberta to instantiate a model of type bert. This is not supported for all configurations of models and can yield errors.\n",
            "Some weights of the model checkpoint at xlm-roberta-base were not used when initializing BertConcatFeatures: ['roberta.pooler.dense.bias', 'lm_head.bias', 'roberta.pooler.dense.weight', 'lm_head.dense.weight', 'lm_head.dense.bias', 'lm_head.layer_norm.weight', 'lm_head.layer_norm.bias']\n",
            "- This IS expected if you are initializing BertConcatFeatures from the checkpoint of a model trained on another task or with another architecture (e.g. initializing a BertForSequenceClassification model from a BertForPreTraining model).\n",
            "- This IS NOT expected if you are initializing BertConcatFeatures from the checkpoint of a model that you expect to be exactly identical (initializing a BertForSequenceClassification model from a BertForSequenceClassification model).\n",
            "Some weights of BertConcatFeatures were not initialized from the model checkpoint at xlm-roberta-base and are newly initialized: ['num_bn.running_mean', 'classifier.dense.bias', 'linear_classifier.bias', 'classifier.out_proj.bias', 'classifier.out_proj.weight', 'num_bn.running_var', 'classifier.dense.weight', 'num_bn.bias', 'linear_classifier.weight', 'num_bn.weight', 'num_bn.num_batches_tracked']\n",
            "You should probably TRAIN this model on a down-stream task to be able to use it for predictions and inference.\n"
          ]
        },
        {
          "name": "stdout",
          "output_type": "stream",
          "text": [
            "MLP Layer sizes:\n",
            " Input: 774\n",
            " Output: 5\n",
            "Training Current run: 2\n",
            "\n",
            "======== Epoch 1 / 4 ========\n",
            "Training...\n",
            "\n",
            "  Average training loss: 1.27\n",
            "  Training epoch took: 0:00:48\n",
            "\n",
            "======== Epoch 2 / 4 ========\n",
            "Training...\n",
            "\n",
            "  Average training loss: 0.91\n",
            "  Training epoch took: 0:00:48\n",
            "\n",
            "======== Epoch 3 / 4 ========\n",
            "Training...\n",
            "\n",
            "  Average training loss: 0.70\n",
            "  Training epoch took: 0:00:48\n",
            "\n",
            "======== Epoch 4 / 4 ========\n",
            "Training...\n",
            "\n",
            "  Average training loss: 0.56\n",
            "  Training epoch took: 0:00:48\n",
            "Testing Current run: 2\n",
            "Currently running split 3\n",
            "Train set size: 3901\n",
            "Test set size: 976\n",
            "  DONE.\n",
            "Dataset contains 3,901 samples.\n",
            "  DONE.\n",
            "Dataset contains 976 samples.\n"
          ]
        },
        {
          "name": "stderr",
          "output_type": "stream",
          "text": [
            "Truncation was not explicitly activated but `max_length` is provided a specific value, please use `truncation=True` to explicitly truncate examples to max length. Defaulting to 'longest_first' truncation strategy. If you encode pairs of sequences (GLUE-style) with the tokenizer you can select this strategy more precisely by providing a specific strategy to `truncation`.\n",
            "/usr/local/lib/python3.10/dist-packages/transformers/tokenization_utils_base.py:2377: FutureWarning: The `pad_to_max_length` argument is deprecated and will be removed in a future version, use `padding=True` or `padding='longest'` to pad to the longest sequence in the batch, or use `padding='max_length'` to pad to a max length. In this case, you can give a specific length with `max_length` (e.g. `max_length=45`) or leave max_length to None to pad to the maximal input size of the model (e.g. 512 for Bert).\n",
            "  warnings.warn(\n",
            "/usr/local/lib/python3.10/dist-packages/transformers/tokenization_utils_base.py:2377: FutureWarning: The `pad_to_max_length` argument is deprecated and will be removed in a future version, use `padding=True` or `padding='longest'` to pad to the longest sequence in the batch, or use `padding='max_length'` to pad to a max length. In this case, you can give a specific length with `max_length` (e.g. `max_length=45`) or leave max_length to None to pad to the maximal input size of the model (e.g. 512 for Bert).\n",
            "  warnings.warn(\n",
            "You are using a model of type xlm-roberta to instantiate a model of type bert. This is not supported for all configurations of models and can yield errors.\n",
            "Some weights of the model checkpoint at xlm-roberta-base were not used when initializing BertConcatFeatures: ['roberta.pooler.dense.bias', 'lm_head.bias', 'roberta.pooler.dense.weight', 'lm_head.dense.weight', 'lm_head.dense.bias', 'lm_head.layer_norm.weight', 'lm_head.layer_norm.bias']\n",
            "- This IS expected if you are initializing BertConcatFeatures from the checkpoint of a model trained on another task or with another architecture (e.g. initializing a BertForSequenceClassification model from a BertForPreTraining model).\n",
            "- This IS NOT expected if you are initializing BertConcatFeatures from the checkpoint of a model that you expect to be exactly identical (initializing a BertForSequenceClassification model from a BertForSequenceClassification model).\n",
            "Some weights of BertConcatFeatures were not initialized from the model checkpoint at xlm-roberta-base and are newly initialized: ['num_bn.running_mean', 'classifier.dense.bias', 'linear_classifier.bias', 'classifier.out_proj.bias', 'classifier.out_proj.weight', 'num_bn.running_var', 'classifier.dense.weight', 'num_bn.bias', 'linear_classifier.weight', 'num_bn.weight', 'num_bn.num_batches_tracked']\n",
            "You should probably TRAIN this model on a down-stream task to be able to use it for predictions and inference.\n"
          ]
        },
        {
          "name": "stdout",
          "output_type": "stream",
          "text": [
            "MLP Layer sizes:\n",
            " Input: 774\n",
            " Output: 5\n",
            "Training Current run: 3\n",
            "\n",
            "======== Epoch 1 / 4 ========\n",
            "Training...\n",
            "\n",
            "  Average training loss: 1.40\n",
            "  Training epoch took: 0:00:48\n",
            "\n",
            "======== Epoch 2 / 4 ========\n",
            "Training...\n",
            "\n",
            "  Average training loss: 0.94\n",
            "  Training epoch took: 0:00:48\n",
            "\n",
            "======== Epoch 3 / 4 ========\n",
            "Training...\n",
            "\n",
            "  Average training loss: 0.75\n",
            "  Training epoch took: 0:00:48\n",
            "\n",
            "======== Epoch 4 / 4 ========\n",
            "Training...\n",
            "\n",
            "  Average training loss: 0.61\n",
            "  Training epoch took: 0:00:48\n",
            "Testing Current run: 3\n"
          ]
        }
      ],
      "source": [
        "results, mapping = train_test_multiple_splits_fused(no_of_splits = 3,\n",
        "                                     classification_task = 'Multi-Class',\n",
        "                                     model_data = model_data,\n",
        "                                     model_name = 'xlm-roberta-base',\n",
        "                                     epochs = 4,\n",
        "                                     batch_size = 32)"
      ]
    },
    {
      "cell_type": "code",
      "execution_count": null,
      "metadata": {
        "id": "gvOllkxCWC_X"
      },
      "outputs": [],
      "source": [
        "(best_model_predictions, best_model_true_labels), macro_f1_score, avg_report, all_scores, avg_accuracy = average_classification_report(results, target_names = mapping.keys())"
      ]
    },
    {
      "cell_type": "code",
      "execution_count": null,
      "metadata": {
        "colab": {
          "base_uri": "https://localhost:8080/"
        },
        "id": "NmKXUFjAad-8",
        "outputId": "a3bcb786-1759-4a89-cb0a-200d141688d2"
      },
      "outputs": [
        {
          "name": "stdout",
          "output_type": "stream",
          "text": [
            "0.7226523919231717\n"
          ]
        }
      ],
      "source": [
        "print(macro_f1_score)"
      ]
    },
    {
      "cell_type": "code",
      "execution_count": null,
      "metadata": {
        "colab": {
          "base_uri": "https://localhost:8080/"
        },
        "id": "7uPSX4F8akO2",
        "outputId": "d5c544e2-cfec-4428-bfa7-c4eb22881eac"
      },
      "outputs": [
        {
          "name": "stdout",
          "output_type": "stream",
          "text": [
            "0.7291666666666666\n"
          ]
        }
      ],
      "source": [
        "print(avg_accuracy)"
      ]
    },
    {
      "cell_type": "code",
      "execution_count": null,
      "metadata": {
        "colab": {
          "base_uri": "https://localhost:8080/"
        },
        "id": "DLmcuukvbFe7",
        "outputId": "1bdd40b7-7a0f-4c49-b93d-8d26e71dc494"
      },
      "outputs": [
        {
          "data": {
            "text/plain": [
              "[0.7133369424864329, 0.7256926400157179, 0.7289275932673642]"
            ]
          },
          "execution_count": 228,
          "metadata": {},
          "output_type": "execute_result"
        }
      ],
      "source": [
        "all_scores"
      ]
    },
    {
      "cell_type": "code",
      "execution_count": null,
      "metadata": {
        "colab": {
          "base_uri": "https://localhost:8080/",
          "height": 175
        },
        "id": "2uJtCWcAalkN",
        "outputId": "b10191d6-458f-4397-a982-5dd1bb51f5ce"
      },
      "outputs": [
        {
          "data": {
            "text/html": [
              "\n",
              "  <div id=\"df-fe102979-08bb-4cd9-8920-810751e71ba3\">\n",
              "    <div class=\"colab-df-container\">\n",
              "      <div>\n",
              "<style scoped>\n",
              "    .dataframe tbody tr th:only-of-type {\n",
              "        vertical-align: middle;\n",
              "    }\n",
              "\n",
              "    .dataframe tbody tr th {\n",
              "        vertical-align: top;\n",
              "    }\n",
              "\n",
              "    .dataframe thead th {\n",
              "        text-align: right;\n",
              "    }\n",
              "</style>\n",
              "<table border=\"1\" class=\"dataframe\">\n",
              "  <thead>\n",
              "    <tr style=\"text-align: right;\">\n",
              "      <th></th>\n",
              "      <th>Counting and Results</th>\n",
              "      <th>Political Rallies</th>\n",
              "      <th>Positive Events</th>\n",
              "      <th>Security Issues</th>\n",
              "      <th>Voting Issues</th>\n",
              "      <th>accuracy</th>\n",
              "      <th>macro avg</th>\n",
              "      <th>weighted avg</th>\n",
              "    </tr>\n",
              "  </thead>\n",
              "  <tbody>\n",
              "    <tr>\n",
              "      <th>precision</th>\n",
              "      <td>0.762455</td>\n",
              "      <td>0.683337</td>\n",
              "      <td>0.838394</td>\n",
              "      <td>0.642467</td>\n",
              "      <td>0.652592</td>\n",
              "      <td>1.0</td>\n",
              "      <td>0.715849</td>\n",
              "      <td>0.742156</td>\n",
              "    </tr>\n",
              "    <tr>\n",
              "      <th>recall</th>\n",
              "      <td>0.806504</td>\n",
              "      <td>0.752137</td>\n",
              "      <td>0.676385</td>\n",
              "      <td>0.721311</td>\n",
              "      <td>0.735380</td>\n",
              "      <td>1.0</td>\n",
              "      <td>0.738343</td>\n",
              "      <td>0.729167</td>\n",
              "    </tr>\n",
              "    <tr>\n",
              "      <th>f1-score</th>\n",
              "      <td>0.783552</td>\n",
              "      <td>0.712137</td>\n",
              "      <td>0.748488</td>\n",
              "      <td>0.677955</td>\n",
              "      <td>0.691131</td>\n",
              "      <td>1.0</td>\n",
              "      <td>0.722652</td>\n",
              "      <td>0.730732</td>\n",
              "    </tr>\n",
              "    <tr>\n",
              "      <th>support</th>\n",
              "      <td>205.000000</td>\n",
              "      <td>78.000000</td>\n",
              "      <td>343.000000</td>\n",
              "      <td>122.000000</td>\n",
              "      <td>228.000000</td>\n",
              "      <td>1.0</td>\n",
              "      <td>976.000000</td>\n",
              "      <td>976.000000</td>\n",
              "    </tr>\n",
              "  </tbody>\n",
              "</table>\n",
              "</div>\n",
              "      <button class=\"colab-df-convert\" onclick=\"convertToInteractive('df-fe102979-08bb-4cd9-8920-810751e71ba3')\"\n",
              "              title=\"Convert this dataframe to an interactive table.\"\n",
              "              style=\"display:none;\">\n",
              "        \n",
              "  <svg xmlns=\"http://www.w3.org/2000/svg\" height=\"24px\"viewBox=\"0 0 24 24\"\n",
              "       width=\"24px\">\n",
              "    <path d=\"M0 0h24v24H0V0z\" fill=\"none\"/>\n",
              "    <path d=\"M18.56 5.44l.94 2.06.94-2.06 2.06-.94-2.06-.94-.94-2.06-.94 2.06-2.06.94zm-11 1L8.5 8.5l.94-2.06 2.06-.94-2.06-.94L8.5 2.5l-.94 2.06-2.06.94zm10 10l.94 2.06.94-2.06 2.06-.94-2.06-.94-.94-2.06-.94 2.06-2.06.94z\"/><path d=\"M17.41 7.96l-1.37-1.37c-.4-.4-.92-.59-1.43-.59-.52 0-1.04.2-1.43.59L10.3 9.45l-7.72 7.72c-.78.78-.78 2.05 0 2.83L4 21.41c.39.39.9.59 1.41.59.51 0 1.02-.2 1.41-.59l7.78-7.78 2.81-2.81c.8-.78.8-2.07 0-2.86zM5.41 20L4 18.59l7.72-7.72 1.47 1.35L5.41 20z\"/>\n",
              "  </svg>\n",
              "      </button>\n",
              "      \n",
              "  <style>\n",
              "    .colab-df-container {\n",
              "      display:flex;\n",
              "      flex-wrap:wrap;\n",
              "      gap: 12px;\n",
              "    }\n",
              "\n",
              "    .colab-df-convert {\n",
              "      background-color: #E8F0FE;\n",
              "      border: none;\n",
              "      border-radius: 50%;\n",
              "      cursor: pointer;\n",
              "      display: none;\n",
              "      fill: #1967D2;\n",
              "      height: 32px;\n",
              "      padding: 0 0 0 0;\n",
              "      width: 32px;\n",
              "    }\n",
              "\n",
              "    .colab-df-convert:hover {\n",
              "      background-color: #E2EBFA;\n",
              "      box-shadow: 0px 1px 2px rgba(60, 64, 67, 0.3), 0px 1px 3px 1px rgba(60, 64, 67, 0.15);\n",
              "      fill: #174EA6;\n",
              "    }\n",
              "\n",
              "    [theme=dark] .colab-df-convert {\n",
              "      background-color: #3B4455;\n",
              "      fill: #D2E3FC;\n",
              "    }\n",
              "\n",
              "    [theme=dark] .colab-df-convert:hover {\n",
              "      background-color: #434B5C;\n",
              "      box-shadow: 0px 1px 3px 1px rgba(0, 0, 0, 0.15);\n",
              "      filter: drop-shadow(0px 1px 2px rgba(0, 0, 0, 0.3));\n",
              "      fill: #FFFFFF;\n",
              "    }\n",
              "  </style>\n",
              "\n",
              "      <script>\n",
              "        const buttonEl =\n",
              "          document.querySelector('#df-fe102979-08bb-4cd9-8920-810751e71ba3 button.colab-df-convert');\n",
              "        buttonEl.style.display =\n",
              "          google.colab.kernel.accessAllowed ? 'block' : 'none';\n",
              "\n",
              "        async function convertToInteractive(key) {\n",
              "          const element = document.querySelector('#df-fe102979-08bb-4cd9-8920-810751e71ba3');\n",
              "          const dataTable =\n",
              "            await google.colab.kernel.invokeFunction('convertToInteractive',\n",
              "                                                     [key], {});\n",
              "          if (!dataTable) return;\n",
              "\n",
              "          const docLinkHtml = 'Like what you see? Visit the ' +\n",
              "            '<a target=\"_blank\" href=https://colab.research.google.com/notebooks/data_table.ipynb>data table notebook</a>'\n",
              "            + ' to learn more about interactive tables.';\n",
              "          element.innerHTML = '';\n",
              "          dataTable['output_type'] = 'display_data';\n",
              "          await google.colab.output.renderOutput(dataTable, element);\n",
              "          const docLink = document.createElement('div');\n",
              "          docLink.innerHTML = docLinkHtml;\n",
              "          element.appendChild(docLink);\n",
              "        }\n",
              "      </script>\n",
              "    </div>\n",
              "  </div>\n",
              "  "
            ],
            "text/plain": [
              "           Counting and Results  Political Rallies  Positive Events  \\\n",
              "precision              0.762455           0.683337         0.838394   \n",
              "recall                 0.806504           0.752137         0.676385   \n",
              "f1-score               0.783552           0.712137         0.748488   \n",
              "support              205.000000          78.000000       343.000000   \n",
              "\n",
              "           Security Issues  Voting Issues  accuracy   macro avg  weighted avg  \n",
              "precision         0.642467       0.652592       1.0    0.715849      0.742156  \n",
              "recall            0.721311       0.735380       1.0    0.738343      0.729167  \n",
              "f1-score          0.677955       0.691131       1.0    0.722652      0.730732  \n",
              "support         122.000000     228.000000       1.0  976.000000    976.000000  "
            ]
          },
          "execution_count": 226,
          "metadata": {},
          "output_type": "execute_result"
        }
      ],
      "source": [
        "pd.DataFrame(avg_report)"
      ]
    },
    {
      "cell_type": "code",
      "execution_count": null,
      "metadata": {
        "colab": {
          "base_uri": "https://localhost:8080/",
          "height": 467
        },
        "id": "wmBdpnWQasnv",
        "outputId": "d09ebd02-6ffe-4e5b-9cfe-0430cce6a24e"
      },
      "outputs": [
        {
          "data": {
            "image/svg+xml": "<?xml version=\"1.0\" encoding=\"utf-8\" standalone=\"no\"?>\n<!DOCTYPE svg PUBLIC \"-//W3C//DTD SVG 1.1//EN\"\n  \"http://www.w3.org/Graphics/SVG/1.1/DTD/svg11.dtd\">\n<svg xmlns:xlink=\"http://www.w3.org/1999/xlink\" width=\"417.037906pt\" height=\"334.527594pt\" viewBox=\"0 0 417.037906 334.527594\" xmlns=\"http://www.w3.org/2000/svg\" version=\"1.1\">\n <metadata>\n  <rdf:RDF xmlns:dc=\"http://purl.org/dc/elements/1.1/\" xmlns:cc=\"http://creativecommons.org/ns#\" xmlns:rdf=\"http://www.w3.org/1999/02/22-rdf-syntax-ns#\">\n   <cc:Work>\n    <dc:type rdf:resource=\"http://purl.org/dc/dcmitype/StillImage\"/>\n    <dc:date>2023-07-10T15:29:41.261824</dc:date>\n    <dc:format>image/svg+xml</dc:format>\n    <dc:creator>\n     <cc:Agent>\n      <dc:title>Matplotlib v3.7.1, https://matplotlib.org/</dc:title>\n     </cc:Agent>\n    </dc:creator>\n   </cc:Work>\n  </rdf:RDF>\n </metadata>\n <defs>\n  <style type=\"text/css\">*{stroke-linejoin: round; stroke-linecap: butt}</style>\n </defs>\n <g id=\"figure_1\">\n  <g id=\"patch_1\">\n   <path d=\"M 0 334.527594 \nL 417.037906 334.527594 \nL 417.037906 0 \nL 0 0 \nz\n\" style=\"fill: #ffffff\"/>\n  </g>\n  <g id=\"axes_1\">\n   <g id=\"patch_2\">\n    <path d=\"M 52.717906 289.341937 \nL 409.837906 289.341937 \nL 409.837906 23.229937 \nL 52.717906 23.229937 \nz\n\" style=\"fill: #eaeaf2\"/>\n   </g>\n   <g id=\"matplotlib.axis_1\">\n    <g id=\"xtick_1\">\n     <g id=\"line2d_1\">\n      <path d=\"M 82.757923 289.341937 \nL 82.757923 23.229937 \n\" clip-path=\"url(#p96c56826bd)\" style=\"fill: none; stroke: #ffffff; stroke-linecap: round\"/>\n     </g>\n     <g id=\"text_1\">\n      <!-- 0.714 -->\n      <g style=\"fill: #262626\" transform=\"translate(65.437908 308.036047) scale(0.121 -0.121)\">\n       <defs>\n        <path id=\"DejaVuSans-30\" d=\"M 2034 4250 \nQ 1547 4250 1301 3770 \nQ 1056 3291 1056 2328 \nQ 1056 1369 1301 889 \nQ 1547 409 2034 409 \nQ 2525 409 2770 889 \nQ 3016 1369 3016 2328 \nQ 3016 3291 2770 3770 \nQ 2525 4250 2034 4250 \nz\nM 2034 4750 \nQ 2819 4750 3233 4129 \nQ 3647 3509 3647 2328 \nQ 3647 1150 3233 529 \nQ 2819 -91 2034 -91 \nQ 1250 -91 836 529 \nQ 422 1150 422 2328 \nQ 422 3509 836 4129 \nQ 1250 4750 2034 4750 \nz\n\" transform=\"scale(0.015625)\"/>\n        <path id=\"DejaVuSans-2e\" d=\"M 684 794 \nL 1344 794 \nL 1344 0 \nL 684 0 \nL 684 794 \nz\n\" transform=\"scale(0.015625)\"/>\n        <path id=\"DejaVuSans-37\" d=\"M 525 4666 \nL 3525 4666 \nL 3525 4397 \nL 1831 0 \nL 1172 0 \nL 2766 4134 \nL 525 4134 \nL 525 4666 \nz\n\" transform=\"scale(0.015625)\"/>\n        <path id=\"DejaVuSans-31\" d=\"M 794 531 \nL 1825 531 \nL 1825 4091 \nL 703 3866 \nL 703 4441 \nL 1819 4666 \nL 2450 4666 \nL 2450 531 \nL 3481 531 \nL 3481 0 \nL 794 0 \nL 794 531 \nz\n\" transform=\"scale(0.015625)\"/>\n        <path id=\"DejaVuSans-34\" d=\"M 2419 4116 \nL 825 1625 \nL 2419 1625 \nL 2419 4116 \nz\nM 2253 4666 \nL 3047 4666 \nL 3047 1625 \nL 3713 1625 \nL 3713 1100 \nL 3047 1100 \nL 3047 0 \nL 2419 0 \nL 2419 1100 \nL 313 1100 \nL 313 1709 \nL 2253 4666 \nz\n\" transform=\"scale(0.015625)\"/>\n       </defs>\n       <use xlink:href=\"#DejaVuSans-30\"/>\n       <use xlink:href=\"#DejaVuSans-2e\" x=\"63.623047\"/>\n       <use xlink:href=\"#DejaVuSans-37\" x=\"95.410156\"/>\n       <use xlink:href=\"#DejaVuSans-31\" x=\"159.033203\"/>\n       <use xlink:href=\"#DejaVuSans-34\" x=\"222.65625\"/>\n      </g>\n     </g>\n    </g>\n    <g id=\"xtick_2\">\n     <g id=\"line2d_2\">\n      <path d=\"M 124.405261 289.341937 \nL 124.405261 23.229937 \n\" clip-path=\"url(#p96c56826bd)\" style=\"fill: none; stroke: #ffffff; stroke-linecap: round\"/>\n     </g>\n     <g id=\"text_2\">\n      <!-- 0.716 -->\n      <g style=\"fill: #262626\" transform=\"translate(107.085245 308.036047) scale(0.121 -0.121)\">\n       <defs>\n        <path id=\"DejaVuSans-36\" d=\"M 2113 2584 \nQ 1688 2584 1439 2293 \nQ 1191 2003 1191 1497 \nQ 1191 994 1439 701 \nQ 1688 409 2113 409 \nQ 2538 409 2786 701 \nQ 3034 994 3034 1497 \nQ 3034 2003 2786 2293 \nQ 2538 2584 2113 2584 \nz\nM 3366 4563 \nL 3366 3988 \nQ 3128 4100 2886 4159 \nQ 2644 4219 2406 4219 \nQ 1781 4219 1451 3797 \nQ 1122 3375 1075 2522 \nQ 1259 2794 1537 2939 \nQ 1816 3084 2150 3084 \nQ 2853 3084 3261 2657 \nQ 3669 2231 3669 1497 \nQ 3669 778 3244 343 \nQ 2819 -91 2113 -91 \nQ 1303 -91 875 529 \nQ 447 1150 447 2328 \nQ 447 3434 972 4092 \nQ 1497 4750 2381 4750 \nQ 2619 4750 2861 4703 \nQ 3103 4656 3366 4563 \nz\n\" transform=\"scale(0.015625)\"/>\n       </defs>\n       <use xlink:href=\"#DejaVuSans-30\"/>\n       <use xlink:href=\"#DejaVuSans-2e\" x=\"63.623047\"/>\n       <use xlink:href=\"#DejaVuSans-37\" x=\"95.410156\"/>\n       <use xlink:href=\"#DejaVuSans-31\" x=\"159.033203\"/>\n       <use xlink:href=\"#DejaVuSans-36\" x=\"222.65625\"/>\n      </g>\n     </g>\n    </g>\n    <g id=\"xtick_3\">\n     <g id=\"line2d_3\">\n      <path d=\"M 166.052598 289.341937 \nL 166.052598 23.229937 \n\" clip-path=\"url(#p96c56826bd)\" style=\"fill: none; stroke: #ffffff; stroke-linecap: round\"/>\n     </g>\n     <g id=\"text_3\">\n      <!-- 0.718 -->\n      <g style=\"fill: #262626\" transform=\"translate(148.732582 308.036047) scale(0.121 -0.121)\">\n       <defs>\n        <path id=\"DejaVuSans-38\" d=\"M 2034 2216 \nQ 1584 2216 1326 1975 \nQ 1069 1734 1069 1313 \nQ 1069 891 1326 650 \nQ 1584 409 2034 409 \nQ 2484 409 2743 651 \nQ 3003 894 3003 1313 \nQ 3003 1734 2745 1975 \nQ 2488 2216 2034 2216 \nz\nM 1403 2484 \nQ 997 2584 770 2862 \nQ 544 3141 544 3541 \nQ 544 4100 942 4425 \nQ 1341 4750 2034 4750 \nQ 2731 4750 3128 4425 \nQ 3525 4100 3525 3541 \nQ 3525 3141 3298 2862 \nQ 3072 2584 2669 2484 \nQ 3125 2378 3379 2068 \nQ 3634 1759 3634 1313 \nQ 3634 634 3220 271 \nQ 2806 -91 2034 -91 \nQ 1263 -91 848 271 \nQ 434 634 434 1313 \nQ 434 1759 690 2068 \nQ 947 2378 1403 2484 \nz\nM 1172 3481 \nQ 1172 3119 1398 2916 \nQ 1625 2713 2034 2713 \nQ 2441 2713 2670 2916 \nQ 2900 3119 2900 3481 \nQ 2900 3844 2670 4047 \nQ 2441 4250 2034 4250 \nQ 1625 4250 1398 4047 \nQ 1172 3844 1172 3481 \nz\n\" transform=\"scale(0.015625)\"/>\n       </defs>\n       <use xlink:href=\"#DejaVuSans-30\"/>\n       <use xlink:href=\"#DejaVuSans-2e\" x=\"63.623047\"/>\n       <use xlink:href=\"#DejaVuSans-37\" x=\"95.410156\"/>\n       <use xlink:href=\"#DejaVuSans-31\" x=\"159.033203\"/>\n       <use xlink:href=\"#DejaVuSans-38\" x=\"222.65625\"/>\n      </g>\n     </g>\n    </g>\n    <g id=\"xtick_4\">\n     <g id=\"line2d_4\">\n      <path d=\"M 207.699935 289.341937 \nL 207.699935 23.229937 \n\" clip-path=\"url(#p96c56826bd)\" style=\"fill: none; stroke: #ffffff; stroke-linecap: round\"/>\n     </g>\n     <g id=\"text_4\">\n      <!-- 0.720 -->\n      <g style=\"fill: #262626\" transform=\"translate(190.37992 308.036047) scale(0.121 -0.121)\">\n       <defs>\n        <path id=\"DejaVuSans-32\" d=\"M 1228 531 \nL 3431 531 \nL 3431 0 \nL 469 0 \nL 469 531 \nQ 828 903 1448 1529 \nQ 2069 2156 2228 2338 \nQ 2531 2678 2651 2914 \nQ 2772 3150 2772 3378 \nQ 2772 3750 2511 3984 \nQ 2250 4219 1831 4219 \nQ 1534 4219 1204 4116 \nQ 875 4013 500 3803 \nL 500 4441 \nQ 881 4594 1212 4672 \nQ 1544 4750 1819 4750 \nQ 2544 4750 2975 4387 \nQ 3406 4025 3406 3419 \nQ 3406 3131 3298 2873 \nQ 3191 2616 2906 2266 \nQ 2828 2175 2409 1742 \nQ 1991 1309 1228 531 \nz\n\" transform=\"scale(0.015625)\"/>\n       </defs>\n       <use xlink:href=\"#DejaVuSans-30\"/>\n       <use xlink:href=\"#DejaVuSans-2e\" x=\"63.623047\"/>\n       <use xlink:href=\"#DejaVuSans-37\" x=\"95.410156\"/>\n       <use xlink:href=\"#DejaVuSans-32\" x=\"159.033203\"/>\n       <use xlink:href=\"#DejaVuSans-30\" x=\"222.65625\"/>\n      </g>\n     </g>\n    </g>\n    <g id=\"xtick_5\">\n     <g id=\"line2d_5\">\n      <path d=\"M 249.347272 289.341937 \nL 249.347272 23.229937 \n\" clip-path=\"url(#p96c56826bd)\" style=\"fill: none; stroke: #ffffff; stroke-linecap: round\"/>\n     </g>\n     <g id=\"text_5\">\n      <!-- 0.722 -->\n      <g style=\"fill: #262626\" transform=\"translate(232.027257 308.036047) scale(0.121 -0.121)\">\n       <use xlink:href=\"#DejaVuSans-30\"/>\n       <use xlink:href=\"#DejaVuSans-2e\" x=\"63.623047\"/>\n       <use xlink:href=\"#DejaVuSans-37\" x=\"95.410156\"/>\n       <use xlink:href=\"#DejaVuSans-32\" x=\"159.033203\"/>\n       <use xlink:href=\"#DejaVuSans-32\" x=\"222.65625\"/>\n      </g>\n     </g>\n    </g>\n    <g id=\"xtick_6\">\n     <g id=\"line2d_6\">\n      <path d=\"M 290.99461 289.341937 \nL 290.99461 23.229937 \n\" clip-path=\"url(#p96c56826bd)\" style=\"fill: none; stroke: #ffffff; stroke-linecap: round\"/>\n     </g>\n     <g id=\"text_6\">\n      <!-- 0.724 -->\n      <g style=\"fill: #262626\" transform=\"translate(273.674594 308.036047) scale(0.121 -0.121)\">\n       <use xlink:href=\"#DejaVuSans-30\"/>\n       <use xlink:href=\"#DejaVuSans-2e\" x=\"63.623047\"/>\n       <use xlink:href=\"#DejaVuSans-37\" x=\"95.410156\"/>\n       <use xlink:href=\"#DejaVuSans-32\" x=\"159.033203\"/>\n       <use xlink:href=\"#DejaVuSans-34\" x=\"222.65625\"/>\n      </g>\n     </g>\n    </g>\n    <g id=\"xtick_7\">\n     <g id=\"line2d_7\">\n      <path d=\"M 332.641947 289.341937 \nL 332.641947 23.229937 \n\" clip-path=\"url(#p96c56826bd)\" style=\"fill: none; stroke: #ffffff; stroke-linecap: round\"/>\n     </g>\n     <g id=\"text_7\">\n      <!-- 0.726 -->\n      <g style=\"fill: #262626\" transform=\"translate(315.321931 308.036047) scale(0.121 -0.121)\">\n       <use xlink:href=\"#DejaVuSans-30\"/>\n       <use xlink:href=\"#DejaVuSans-2e\" x=\"63.623047\"/>\n       <use xlink:href=\"#DejaVuSans-37\" x=\"95.410156\"/>\n       <use xlink:href=\"#DejaVuSans-32\" x=\"159.033203\"/>\n       <use xlink:href=\"#DejaVuSans-36\" x=\"222.65625\"/>\n      </g>\n     </g>\n    </g>\n    <g id=\"xtick_8\">\n     <g id=\"line2d_8\">\n      <path d=\"M 374.289284 289.341937 \nL 374.289284 23.229937 \n\" clip-path=\"url(#p96c56826bd)\" style=\"fill: none; stroke: #ffffff; stroke-linecap: round\"/>\n     </g>\n     <g id=\"text_8\">\n      <!-- 0.728 -->\n      <g style=\"fill: #262626\" transform=\"translate(356.969269 308.036047) scale(0.121 -0.121)\">\n       <use xlink:href=\"#DejaVuSans-30\"/>\n       <use xlink:href=\"#DejaVuSans-2e\" x=\"63.623047\"/>\n       <use xlink:href=\"#DejaVuSans-37\" x=\"95.410156\"/>\n       <use xlink:href=\"#DejaVuSans-32\" x=\"159.033203\"/>\n       <use xlink:href=\"#DejaVuSans-38\" x=\"222.65625\"/>\n      </g>\n     </g>\n    </g>\n    <g id=\"text_9\">\n     <!-- Scores -->\n     <g style=\"fill: #262626\" transform=\"translate(209.356625 324.582406) scale(0.132 -0.132)\">\n      <defs>\n       <path id=\"DejaVuSans-53\" d=\"M 3425 4513 \nL 3425 3897 \nQ 3066 4069 2747 4153 \nQ 2428 4238 2131 4238 \nQ 1616 4238 1336 4038 \nQ 1056 3838 1056 3469 \nQ 1056 3159 1242 3001 \nQ 1428 2844 1947 2747 \nL 2328 2669 \nQ 3034 2534 3370 2195 \nQ 3706 1856 3706 1288 \nQ 3706 609 3251 259 \nQ 2797 -91 1919 -91 \nQ 1588 -91 1214 -16 \nQ 841 59 441 206 \nL 441 856 \nQ 825 641 1194 531 \nQ 1563 422 1919 422 \nQ 2459 422 2753 634 \nQ 3047 847 3047 1241 \nQ 3047 1584 2836 1778 \nQ 2625 1972 2144 2069 \nL 1759 2144 \nQ 1053 2284 737 2584 \nQ 422 2884 422 3419 \nQ 422 4038 858 4394 \nQ 1294 4750 2059 4750 \nQ 2388 4750 2728 4690 \nQ 3069 4631 3425 4513 \nz\n\" transform=\"scale(0.015625)\"/>\n       <path id=\"DejaVuSans-63\" d=\"M 3122 3366 \nL 3122 2828 \nQ 2878 2963 2633 3030 \nQ 2388 3097 2138 3097 \nQ 1578 3097 1268 2742 \nQ 959 2388 959 1747 \nQ 959 1106 1268 751 \nQ 1578 397 2138 397 \nQ 2388 397 2633 464 \nQ 2878 531 3122 666 \nL 3122 134 \nQ 2881 22 2623 -34 \nQ 2366 -91 2075 -91 \nQ 1284 -91 818 406 \nQ 353 903 353 1747 \nQ 353 2603 823 3093 \nQ 1294 3584 2113 3584 \nQ 2378 3584 2631 3529 \nQ 2884 3475 3122 3366 \nz\n\" transform=\"scale(0.015625)\"/>\n       <path id=\"DejaVuSans-6f\" d=\"M 1959 3097 \nQ 1497 3097 1228 2736 \nQ 959 2375 959 1747 \nQ 959 1119 1226 758 \nQ 1494 397 1959 397 \nQ 2419 397 2687 759 \nQ 2956 1122 2956 1747 \nQ 2956 2369 2687 2733 \nQ 2419 3097 1959 3097 \nz\nM 1959 3584 \nQ 2709 3584 3137 3096 \nQ 3566 2609 3566 1747 \nQ 3566 888 3137 398 \nQ 2709 -91 1959 -91 \nQ 1206 -91 779 398 \nQ 353 888 353 1747 \nQ 353 2609 779 3096 \nQ 1206 3584 1959 3584 \nz\n\" transform=\"scale(0.015625)\"/>\n       <path id=\"DejaVuSans-72\" d=\"M 2631 2963 \nQ 2534 3019 2420 3045 \nQ 2306 3072 2169 3072 \nQ 1681 3072 1420 2755 \nQ 1159 2438 1159 1844 \nL 1159 0 \nL 581 0 \nL 581 3500 \nL 1159 3500 \nL 1159 2956 \nQ 1341 3275 1631 3429 \nQ 1922 3584 2338 3584 \nQ 2397 3584 2469 3576 \nQ 2541 3569 2628 3553 \nL 2631 2963 \nz\n\" transform=\"scale(0.015625)\"/>\n       <path id=\"DejaVuSans-65\" d=\"M 3597 1894 \nL 3597 1613 \nL 953 1613 \nQ 991 1019 1311 708 \nQ 1631 397 2203 397 \nQ 2534 397 2845 478 \nQ 3156 559 3463 722 \nL 3463 178 \nQ 3153 47 2828 -22 \nQ 2503 -91 2169 -91 \nQ 1331 -91 842 396 \nQ 353 884 353 1716 \nQ 353 2575 817 3079 \nQ 1281 3584 2069 3584 \nQ 2775 3584 3186 3129 \nQ 3597 2675 3597 1894 \nz\nM 3022 2063 \nQ 3016 2534 2758 2815 \nQ 2500 3097 2075 3097 \nQ 1594 3097 1305 2825 \nQ 1016 2553 972 2059 \nL 3022 2063 \nz\n\" transform=\"scale(0.015625)\"/>\n       <path id=\"DejaVuSans-73\" d=\"M 2834 3397 \nL 2834 2853 \nQ 2591 2978 2328 3040 \nQ 2066 3103 1784 3103 \nQ 1356 3103 1142 2972 \nQ 928 2841 928 2578 \nQ 928 2378 1081 2264 \nQ 1234 2150 1697 2047 \nL 1894 2003 \nQ 2506 1872 2764 1633 \nQ 3022 1394 3022 966 \nQ 3022 478 2636 193 \nQ 2250 -91 1575 -91 \nQ 1294 -91 989 -36 \nQ 684 19 347 128 \nL 347 722 \nQ 666 556 975 473 \nQ 1284 391 1588 391 \nQ 1994 391 2212 530 \nQ 2431 669 2431 922 \nQ 2431 1156 2273 1281 \nQ 2116 1406 1581 1522 \nL 1381 1569 \nQ 847 1681 609 1914 \nQ 372 2147 372 2553 \nQ 372 3047 722 3315 \nQ 1072 3584 1716 3584 \nQ 2034 3584 2315 3537 \nQ 2597 3491 2834 3397 \nz\n\" transform=\"scale(0.015625)\"/>\n      </defs>\n      <use xlink:href=\"#DejaVuSans-53\"/>\n      <use xlink:href=\"#DejaVuSans-63\" x=\"63.476562\"/>\n      <use xlink:href=\"#DejaVuSans-6f\" x=\"118.457031\"/>\n      <use xlink:href=\"#DejaVuSans-72\" x=\"179.638672\"/>\n      <use xlink:href=\"#DejaVuSans-65\" x=\"218.501953\"/>\n      <use xlink:href=\"#DejaVuSans-73\" x=\"280.025391\"/>\n     </g>\n    </g>\n   </g>\n   <g id=\"matplotlib.axis_2\">\n    <g id=\"ytick_1\">\n     <g id=\"line2d_9\">\n      <path d=\"M 52.717906 289.341937 \nL 409.837906 289.341937 \n\" clip-path=\"url(#p96c56826bd)\" style=\"fill: none; stroke: #ffffff; stroke-linecap: round\"/>\n     </g>\n     <g id=\"text_10\">\n      <!-- 0.0 -->\n      <g style=\"fill: #262626\" transform=\"translate(23.975125 293.938992) scale(0.121 -0.121)\">\n       <use xlink:href=\"#DejaVuSans-30\"/>\n       <use xlink:href=\"#DejaVuSans-2e\" x=\"63.623047\"/>\n       <use xlink:href=\"#DejaVuSans-30\" x=\"95.410156\"/>\n      </g>\n     </g>\n    </g>\n    <g id=\"ytick_2\">\n     <g id=\"line2d_10\">\n      <path d=\"M 52.717906 238.653937 \nL 409.837906 238.653937 \n\" clip-path=\"url(#p96c56826bd)\" style=\"fill: none; stroke: #ffffff; stroke-linecap: round\"/>\n     </g>\n     <g id=\"text_11\">\n      <!-- 0.2 -->\n      <g style=\"fill: #262626\" transform=\"translate(23.975125 243.250992) scale(0.121 -0.121)\">\n       <use xlink:href=\"#DejaVuSans-30\"/>\n       <use xlink:href=\"#DejaVuSans-2e\" x=\"63.623047\"/>\n       <use xlink:href=\"#DejaVuSans-32\" x=\"95.410156\"/>\n      </g>\n     </g>\n    </g>\n    <g id=\"ytick_3\">\n     <g id=\"line2d_11\">\n      <path d=\"M 52.717906 187.965937 \nL 409.837906 187.965937 \n\" clip-path=\"url(#p96c56826bd)\" style=\"fill: none; stroke: #ffffff; stroke-linecap: round\"/>\n     </g>\n     <g id=\"text_12\">\n      <!-- 0.4 -->\n      <g style=\"fill: #262626\" transform=\"translate(23.975125 192.562992) scale(0.121 -0.121)\">\n       <use xlink:href=\"#DejaVuSans-30\"/>\n       <use xlink:href=\"#DejaVuSans-2e\" x=\"63.623047\"/>\n       <use xlink:href=\"#DejaVuSans-34\" x=\"95.410156\"/>\n      </g>\n     </g>\n    </g>\n    <g id=\"ytick_4\">\n     <g id=\"line2d_12\">\n      <path d=\"M 52.717906 137.277937 \nL 409.837906 137.277937 \n\" clip-path=\"url(#p96c56826bd)\" style=\"fill: none; stroke: #ffffff; stroke-linecap: round\"/>\n     </g>\n     <g id=\"text_13\">\n      <!-- 0.6 -->\n      <g style=\"fill: #262626\" transform=\"translate(23.975125 141.874992) scale(0.121 -0.121)\">\n       <use xlink:href=\"#DejaVuSans-30\"/>\n       <use xlink:href=\"#DejaVuSans-2e\" x=\"63.623047\"/>\n       <use xlink:href=\"#DejaVuSans-36\" x=\"95.410156\"/>\n      </g>\n     </g>\n    </g>\n    <g id=\"ytick_5\">\n     <g id=\"line2d_13\">\n      <path d=\"M 52.717906 86.589937 \nL 409.837906 86.589937 \n\" clip-path=\"url(#p96c56826bd)\" style=\"fill: none; stroke: #ffffff; stroke-linecap: round\"/>\n     </g>\n     <g id=\"text_14\">\n      <!-- 0.8 -->\n      <g style=\"fill: #262626\" transform=\"translate(23.975125 91.186992) scale(0.121 -0.121)\">\n       <use xlink:href=\"#DejaVuSans-30\"/>\n       <use xlink:href=\"#DejaVuSans-2e\" x=\"63.623047\"/>\n       <use xlink:href=\"#DejaVuSans-38\" x=\"95.410156\"/>\n      </g>\n     </g>\n    </g>\n    <g id=\"ytick_6\">\n     <g id=\"line2d_14\">\n      <path d=\"M 52.717906 35.901937 \nL 409.837906 35.901937 \n\" clip-path=\"url(#p96c56826bd)\" style=\"fill: none; stroke: #ffffff; stroke-linecap: round\"/>\n     </g>\n     <g id=\"text_15\">\n      <!-- 1.0 -->\n      <g style=\"fill: #262626\" transform=\"translate(23.975125 40.498992) scale(0.121 -0.121)\">\n       <use xlink:href=\"#DejaVuSans-31\"/>\n       <use xlink:href=\"#DejaVuSans-2e\" x=\"63.623047\"/>\n       <use xlink:href=\"#DejaVuSans-30\" x=\"95.410156\"/>\n      </g>\n     </g>\n    </g>\n    <g id=\"text_16\">\n     <!-- Frequency -->\n     <g style=\"fill: #262626\" transform=\"translate(17.229938 190.381125) rotate(-90) scale(0.132 -0.132)\">\n      <defs>\n       <path id=\"DejaVuSans-46\" d=\"M 628 4666 \nL 3309 4666 \nL 3309 4134 \nL 1259 4134 \nL 1259 2759 \nL 3109 2759 \nL 3109 2228 \nL 1259 2228 \nL 1259 0 \nL 628 0 \nL 628 4666 \nz\n\" transform=\"scale(0.015625)\"/>\n       <path id=\"DejaVuSans-71\" d=\"M 947 1747 \nQ 947 1113 1208 752 \nQ 1469 391 1925 391 \nQ 2381 391 2643 752 \nQ 2906 1113 2906 1747 \nQ 2906 2381 2643 2742 \nQ 2381 3103 1925 3103 \nQ 1469 3103 1208 2742 \nQ 947 2381 947 1747 \nz\nM 2906 525 \nQ 2725 213 2448 61 \nQ 2172 -91 1784 -91 \nQ 1150 -91 751 415 \nQ 353 922 353 1747 \nQ 353 2572 751 3078 \nQ 1150 3584 1784 3584 \nQ 2172 3584 2448 3432 \nQ 2725 3281 2906 2969 \nL 2906 3500 \nL 3481 3500 \nL 3481 -1331 \nL 2906 -1331 \nL 2906 525 \nz\n\" transform=\"scale(0.015625)\"/>\n       <path id=\"DejaVuSans-75\" d=\"M 544 1381 \nL 544 3500 \nL 1119 3500 \nL 1119 1403 \nQ 1119 906 1312 657 \nQ 1506 409 1894 409 \nQ 2359 409 2629 706 \nQ 2900 1003 2900 1516 \nL 2900 3500 \nL 3475 3500 \nL 3475 0 \nL 2900 0 \nL 2900 538 \nQ 2691 219 2414 64 \nQ 2138 -91 1772 -91 \nQ 1169 -91 856 284 \nQ 544 659 544 1381 \nz\nM 1991 3584 \nL 1991 3584 \nz\n\" transform=\"scale(0.015625)\"/>\n       <path id=\"DejaVuSans-6e\" d=\"M 3513 2113 \nL 3513 0 \nL 2938 0 \nL 2938 2094 \nQ 2938 2591 2744 2837 \nQ 2550 3084 2163 3084 \nQ 1697 3084 1428 2787 \nQ 1159 2491 1159 1978 \nL 1159 0 \nL 581 0 \nL 581 3500 \nL 1159 3500 \nL 1159 2956 \nQ 1366 3272 1645 3428 \nQ 1925 3584 2291 3584 \nQ 2894 3584 3203 3211 \nQ 3513 2838 3513 2113 \nz\n\" transform=\"scale(0.015625)\"/>\n       <path id=\"DejaVuSans-79\" d=\"M 2059 -325 \nQ 1816 -950 1584 -1140 \nQ 1353 -1331 966 -1331 \nL 506 -1331 \nL 506 -850 \nL 844 -850 \nQ 1081 -850 1212 -737 \nQ 1344 -625 1503 -206 \nL 1606 56 \nL 191 3500 \nL 800 3500 \nL 1894 763 \nL 2988 3500 \nL 3597 3500 \nL 2059 -325 \nz\n\" transform=\"scale(0.015625)\"/>\n      </defs>\n      <use xlink:href=\"#DejaVuSans-46\"/>\n      <use xlink:href=\"#DejaVuSans-72\" x=\"50.269531\"/>\n      <use xlink:href=\"#DejaVuSans-65\" x=\"89.132812\"/>\n      <use xlink:href=\"#DejaVuSans-71\" x=\"150.65625\"/>\n      <use xlink:href=\"#DejaVuSans-75\" x=\"214.132812\"/>\n      <use xlink:href=\"#DejaVuSans-65\" x=\"277.511719\"/>\n      <use xlink:href=\"#DejaVuSans-6e\" x=\"339.035156\"/>\n      <use xlink:href=\"#DejaVuSans-63\" x=\"402.414062\"/>\n      <use xlink:href=\"#DejaVuSans-79\" x=\"457.394531\"/>\n     </g>\n    </g>\n   </g>\n   <g id=\"patch_3\">\n    <path d=\"M 68.950634 289.341937 \nL 101.416088 289.341937 \nL 101.416088 35.901937 \nL 68.950634 35.901937 \nz\n\" clip-path=\"url(#p96c56826bd)\" style=\"fill: #4c72b0; stroke: #000000; stroke-linejoin: miter\"/>\n   </g>\n   <g id=\"patch_4\">\n    <path d=\"M 101.416088 289.341937 \nL 133.881543 289.341937 \nL 133.881543 289.341937 \nL 101.416088 289.341937 \nz\n\" clip-path=\"url(#p96c56826bd)\" style=\"fill: #4c72b0; stroke: #000000; stroke-linejoin: miter\"/>\n   </g>\n   <g id=\"patch_5\">\n    <path d=\"M 133.881543 289.341937 \nL 166.346997 289.341937 \nL 166.346997 289.341937 \nL 133.881543 289.341937 \nz\n\" clip-path=\"url(#p96c56826bd)\" style=\"fill: #4c72b0; stroke: #000000; stroke-linejoin: miter\"/>\n   </g>\n   <g id=\"patch_6\">\n    <path d=\"M 166.346997 289.341937 \nL 198.812452 289.341937 \nL 198.812452 289.341937 \nL 166.346997 289.341937 \nz\n\" clip-path=\"url(#p96c56826bd)\" style=\"fill: #4c72b0; stroke: #000000; stroke-linejoin: miter\"/>\n   </g>\n   <g id=\"patch_7\">\n    <path d=\"M 198.812452 289.341937 \nL 231.277906 289.341937 \nL 231.277906 289.341937 \nL 198.812452 289.341937 \nz\n\" clip-path=\"url(#p96c56826bd)\" style=\"fill: #4c72b0; stroke: #000000; stroke-linejoin: miter\"/>\n   </g>\n   <g id=\"patch_8\">\n    <path d=\"M 231.277906 289.341937 \nL 263.743361 289.341937 \nL 263.743361 289.341937 \nL 231.277906 289.341937 \nz\n\" clip-path=\"url(#p96c56826bd)\" style=\"fill: #4c72b0; stroke: #000000; stroke-linejoin: miter\"/>\n   </g>\n   <g id=\"patch_9\">\n    <path d=\"M 263.743361 289.341937 \nL 296.208815 289.341937 \nL 296.208815 289.341937 \nL 263.743361 289.341937 \nz\n\" clip-path=\"url(#p96c56826bd)\" style=\"fill: #4c72b0; stroke: #000000; stroke-linejoin: miter\"/>\n   </g>\n   <g id=\"patch_10\">\n    <path d=\"M 296.208815 289.341937 \nL 328.67427 289.341937 \nL 328.67427 35.901937 \nL 296.208815 35.901937 \nz\n\" clip-path=\"url(#p96c56826bd)\" style=\"fill: #4c72b0; stroke: #000000; stroke-linejoin: miter\"/>\n   </g>\n   <g id=\"patch_11\">\n    <path d=\"M 328.67427 289.341937 \nL 361.139724 289.341937 \nL 361.139724 289.341937 \nL 328.67427 289.341937 \nz\n\" clip-path=\"url(#p96c56826bd)\" style=\"fill: #4c72b0; stroke: #000000; stroke-linejoin: miter\"/>\n   </g>\n   <g id=\"patch_12\">\n    <path d=\"M 361.139724 289.341937 \nL 393.605179 289.341937 \nL 393.605179 35.901937 \nL 361.139724 35.901937 \nz\n\" clip-path=\"url(#p96c56826bd)\" style=\"fill: #4c72b0; stroke: #000000; stroke-linejoin: miter\"/>\n   </g>\n   <g id=\"patch_13\">\n    <path d=\"M 52.717906 289.341937 \nL 52.717906 23.229937 \n\" style=\"fill: none; stroke: #ffffff; stroke-width: 1.25; stroke-linejoin: miter; stroke-linecap: square\"/>\n   </g>\n   <g id=\"patch_14\">\n    <path d=\"M 409.837906 289.341937 \nL 409.837906 23.229937 \n\" style=\"fill: none; stroke: #ffffff; stroke-width: 1.25; stroke-linejoin: miter; stroke-linecap: square\"/>\n   </g>\n   <g id=\"patch_15\">\n    <path d=\"M 52.717906 289.341937 \nL 409.837906 289.341937 \n\" style=\"fill: none; stroke: #ffffff; stroke-width: 1.25; stroke-linejoin: miter; stroke-linecap: square\"/>\n   </g>\n   <g id=\"patch_16\">\n    <path d=\"M 52.717906 23.229937 \nL 409.837906 23.229937 \n\" style=\"fill: none; stroke: #ffffff; stroke-width: 1.25; stroke-linejoin: miter; stroke-linecap: square\"/>\n   </g>\n   <g id=\"text_17\">\n    <!-- Distribution of Scores -->\n    <g style=\"fill: #262626\" transform=\"translate(160.296969 17.229937) scale(0.132 -0.132)\">\n     <defs>\n      <path id=\"DejaVuSans-44\" d=\"M 1259 4147 \nL 1259 519 \nL 2022 519 \nQ 2988 519 3436 956 \nQ 3884 1394 3884 2338 \nQ 3884 3275 3436 3711 \nQ 2988 4147 2022 4147 \nL 1259 4147 \nz\nM 628 4666 \nL 1925 4666 \nQ 3281 4666 3915 4102 \nQ 4550 3538 4550 2338 \nQ 4550 1131 3912 565 \nQ 3275 0 1925 0 \nL 628 0 \nL 628 4666 \nz\n\" transform=\"scale(0.015625)\"/>\n      <path id=\"DejaVuSans-69\" d=\"M 603 3500 \nL 1178 3500 \nL 1178 0 \nL 603 0 \nL 603 3500 \nz\nM 603 4863 \nL 1178 4863 \nL 1178 4134 \nL 603 4134 \nL 603 4863 \nz\n\" transform=\"scale(0.015625)\"/>\n      <path id=\"DejaVuSans-74\" d=\"M 1172 4494 \nL 1172 3500 \nL 2356 3500 \nL 2356 3053 \nL 1172 3053 \nL 1172 1153 \nQ 1172 725 1289 603 \nQ 1406 481 1766 481 \nL 2356 481 \nL 2356 0 \nL 1766 0 \nQ 1100 0 847 248 \nQ 594 497 594 1153 \nL 594 3053 \nL 172 3053 \nL 172 3500 \nL 594 3500 \nL 594 4494 \nL 1172 4494 \nz\n\" transform=\"scale(0.015625)\"/>\n      <path id=\"DejaVuSans-62\" d=\"M 3116 1747 \nQ 3116 2381 2855 2742 \nQ 2594 3103 2138 3103 \nQ 1681 3103 1420 2742 \nQ 1159 2381 1159 1747 \nQ 1159 1113 1420 752 \nQ 1681 391 2138 391 \nQ 2594 391 2855 752 \nQ 3116 1113 3116 1747 \nz\nM 1159 2969 \nQ 1341 3281 1617 3432 \nQ 1894 3584 2278 3584 \nQ 2916 3584 3314 3078 \nQ 3713 2572 3713 1747 \nQ 3713 922 3314 415 \nQ 2916 -91 2278 -91 \nQ 1894 -91 1617 61 \nQ 1341 213 1159 525 \nL 1159 0 \nL 581 0 \nL 581 4863 \nL 1159 4863 \nL 1159 2969 \nz\n\" transform=\"scale(0.015625)\"/>\n      <path id=\"DejaVuSans-20\" transform=\"scale(0.015625)\"/>\n      <path id=\"DejaVuSans-66\" d=\"M 2375 4863 \nL 2375 4384 \nL 1825 4384 \nQ 1516 4384 1395 4259 \nQ 1275 4134 1275 3809 \nL 1275 3500 \nL 2222 3500 \nL 2222 3053 \nL 1275 3053 \nL 1275 0 \nL 697 0 \nL 697 3053 \nL 147 3053 \nL 147 3500 \nL 697 3500 \nL 697 3744 \nQ 697 4328 969 4595 \nQ 1241 4863 1831 4863 \nL 2375 4863 \nz\n\" transform=\"scale(0.015625)\"/>\n     </defs>\n     <use xlink:href=\"#DejaVuSans-44\"/>\n     <use xlink:href=\"#DejaVuSans-69\" x=\"77.001953\"/>\n     <use xlink:href=\"#DejaVuSans-73\" x=\"104.785156\"/>\n     <use xlink:href=\"#DejaVuSans-74\" x=\"156.884766\"/>\n     <use xlink:href=\"#DejaVuSans-72\" x=\"196.09375\"/>\n     <use xlink:href=\"#DejaVuSans-69\" x=\"237.207031\"/>\n     <use xlink:href=\"#DejaVuSans-62\" x=\"264.990234\"/>\n     <use xlink:href=\"#DejaVuSans-75\" x=\"328.466797\"/>\n     <use xlink:href=\"#DejaVuSans-74\" x=\"391.845703\"/>\n     <use xlink:href=\"#DejaVuSans-69\" x=\"431.054688\"/>\n     <use xlink:href=\"#DejaVuSans-6f\" x=\"458.837891\"/>\n     <use xlink:href=\"#DejaVuSans-6e\" x=\"520.019531\"/>\n     <use xlink:href=\"#DejaVuSans-20\" x=\"583.398438\"/>\n     <use xlink:href=\"#DejaVuSans-6f\" x=\"615.185547\"/>\n     <use xlink:href=\"#DejaVuSans-66\" x=\"676.367188\"/>\n     <use xlink:href=\"#DejaVuSans-20\" x=\"711.572266\"/>\n     <use xlink:href=\"#DejaVuSans-53\" x=\"743.359375\"/>\n     <use xlink:href=\"#DejaVuSans-63\" x=\"806.835938\"/>\n     <use xlink:href=\"#DejaVuSans-6f\" x=\"861.816406\"/>\n     <use xlink:href=\"#DejaVuSans-72\" x=\"922.998047\"/>\n     <use xlink:href=\"#DejaVuSans-65\" x=\"961.861328\"/>\n     <use xlink:href=\"#DejaVuSans-73\" x=\"1023.384766\"/>\n    </g>\n   </g>\n  </g>\n </g>\n <defs>\n  <clipPath id=\"p96c56826bd\">\n   <rect x=\"52.717906\" y=\"23.229937\" width=\"357.12\" height=\"266.112\"/>\n  </clipPath>\n </defs>\n</svg>\n",
            "text/plain": [
              "<Figure size 640x480 with 1 Axes>"
            ]
          },
          "metadata": {},
          "output_type": "display_data"
        }
      ],
      "source": [
        "# Plot the distribution\n",
        "plt.hist(all_scores, bins=10, edgecolor='black')\n",
        "\n",
        "# Set plot labels and title\n",
        "plt.xlabel('Scores')\n",
        "plt.ylabel('Frequency')\n",
        "plt.title('Distribution of Scores')\n",
        "\n",
        "# Display the plot\n",
        "plt.show()"
      ]
    },
    {
      "cell_type": "code",
      "execution_count": null,
      "metadata": {
        "colab": {
          "base_uri": "https://localhost:8080/",
          "height": 203
        },
        "id": "TGAi9subbDPC",
        "outputId": "2f90906d-84db-4ec4-d1cb-0c549784edba"
      },
      "outputs": [
        {
          "ename": "NameError",
          "evalue": "ignored",
          "output_type": "error",
          "traceback": [
            "\u001b[0;31m---------------------------------------------------------------------------\u001b[0m",
            "\u001b[0;31mNameError\u001b[0m                                 Traceback (most recent call last)",
            "\u001b[0;32m<ipython-input-45-73ef1ea4c6c0>\u001b[0m in \u001b[0;36m<cell line: 2>\u001b[0;34m()\u001b[0m\n\u001b[1;32m      1\u001b[0m \u001b[0;31m# Showing the results of the best performing model\u001b[0m\u001b[0;34m\u001b[0m\u001b[0;34m\u001b[0m\u001b[0m\n\u001b[0;32m----> 2\u001b[0;31m \u001b[0mplot_cm_with_percentages\u001b[0m\u001b[0;34m(\u001b[0m\u001b[0mbest_model_true_labels\u001b[0m\u001b[0;34m,\u001b[0m \u001b[0mbest_model_predictions\u001b[0m\u001b[0;34m,\u001b[0m \u001b[0mmapping\u001b[0m\u001b[0;34m,\u001b[0m \u001b[0mname\u001b[0m\u001b[0;34m=\u001b[0m\u001b[0;34m\"informative_best\"\u001b[0m\u001b[0;34m)\u001b[0m\u001b[0;34m\u001b[0m\u001b[0;34m\u001b[0m\u001b[0m\n\u001b[0m",
            "\u001b[0;31mNameError\u001b[0m: name 'plot_cm_with_percentages' is not defined"
          ]
        }
      ],
      "source": [
        "# Showing the results of the best performing model\n",
        "plot_cm_with_percentages(best_model_true_labels, best_model_predictions, mapping, name=\"informative_best\")"
      ]
    },
    {
      "cell_type": "code",
      "execution_count": null,
      "metadata": {
        "colab": {
          "base_uri": "https://localhost:8080/"
        },
        "id": "qbTssHCacN7j",
        "outputId": "ab90a968-4cf8-494b-eeb9-ae4e69a08eca"
      },
      "outputs": [
        {
          "name": "stdout",
          "output_type": "stream",
          "text": [
            "                      precision    recall  f1-score   support\n",
            "\n",
            "Counting and Results       0.78      0.78      0.78       205\n",
            "   Political Rallies       0.63      0.73      0.68        78\n",
            "     Positive Events       0.85      0.69      0.76       343\n",
            "     Security Issues       0.68      0.74      0.71       122\n",
            "       Voting Issues       0.66      0.78      0.71       228\n",
            "\n",
            "            accuracy                           0.74       976\n",
            "           macro avg       0.72      0.74      0.73       976\n",
            "        weighted avg       0.75      0.74      0.74       976\n",
            "\n"
          ]
        }
      ],
      "source": [
        "print(classification_report(best_model_true_labels, best_model_predictions, target_names = mapping))"
      ]
    },
    {
      "cell_type": "code",
      "execution_count": null,
      "metadata": {
        "id": "y-5QOpLAdgMu"
      },
      "outputs": [],
      "source": [
        "# Looking at the performance across language groups"
      ]
    },
    {
      "cell_type": "code",
      "execution_count": null,
      "metadata": {
        "id": "97WH7aTzoqBz"
      },
      "outputs": [],
      "source": [
        "# What do i need to do to answert this research question conclusively?\n",
        "# Load the model and make inference from it\n",
        "# See how it performs also on the nigerian dataset"
      ]
    },
    {
      "cell_type": "code",
      "execution_count": null,
      "metadata": {
        "id": "-uCJ9u6tRSB4"
      },
      "outputs": [],
      "source": [
        "run = 'Run3'"
      ]
    },
    {
      "cell_type": "code",
      "execution_count": null,
      "metadata": {
        "id": "nOaYQA4LrKXM"
      },
      "outputs": [],
      "source": [
        "### Reload the model and the tokenizer\n",
        "xlmrmodel = XLMRobertaForSequenceClassification.from_pretrained(f'/content/drive/My Drive/thesis/models/Binary/{run}')\n",
        "desc = xlmrmodel.to(device)\n",
        "test_data = pd.read_csv(f'/content/drive/My Drive/thesis/multiple_runs/Binary/{run}/test_data.csv', encoding='utf-8')"
      ]
    },
    {
      "cell_type": "code",
      "execution_count": null,
      "metadata": {
        "id": "Q0NwdfvssjAE"
      },
      "outputs": [],
      "source": [
        "test_data = pd.read_csv(f'/content/drive/My Drive/thesis/multiple_runs/Binary/{run}/test_data.csv', encoding='utf-8')"
      ]
    },
    {
      "cell_type": "code",
      "source": [
        "tokenizer = init_tokenizer()\n",
        "\n",
        "test_sentences, test_targets = test_data.normalized_text.values, test_data.target.values\n",
        "en_input_ids, en_attention_masks, en_labels = tokenize(tokenizer, 128, test_sentences, test_targets)\n",
        "en_dataset = TensorDataset(en_input_ids, en_attention_masks, en_labels)\n",
        "# Create dataloaders\n",
        "en_dataloader = DataLoader(\n",
        "        en_dataset,  # The training samples.\n",
        "        sampler = SequentialSampler(en_dataset), # Select batches randomly\n",
        "        batch_size = 32 # Trains with this batch size.\n",
        "    )\n",
        "\n",
        "predictions, true_labels = test_model(xlmrmodel,en_dataloader)"
      ],
      "metadata": {
        "colab": {
          "base_uri": "https://localhost:8080/"
        },
        "id": "6LQ6bTmYd8HE",
        "outputId": "e43b00b5-73b6-4fe0-d935-0945d7326aac"
      },
      "execution_count": null,
      "outputs": [
        {
          "output_type": "stream",
          "name": "stderr",
          "text": [
            "Truncation was not explicitly activated but `max_length` is provided a specific value, please use `truncation=True` to explicitly truncate examples to max length. Defaulting to 'longest_first' truncation strategy. If you encode pairs of sequences (GLUE-style) with the tokenizer you can select this strategy more precisely by providing a specific strategy to `truncation`.\n",
            "/usr/local/lib/python3.10/dist-packages/transformers/tokenization_utils_base.py:2393: FutureWarning: The `pad_to_max_length` argument is deprecated and will be removed in a future version, use `padding=True` or `padding='longest'` to pad to the longest sequence in the batch, or use `padding='max_length'` to pad to a max length. In this case, you can give a specific length with `max_length` (e.g. `max_length=45`) or leave max_length to None to pad to the maximal input size of the model (e.g. 512 for Bert).\n",
            "  warnings.warn(\n"
          ]
        }
      ]
    },
    {
      "cell_type": "code",
      "source": [
        "print_classification_report(predictions, true_labels, target_names)"
      ],
      "metadata": {
        "colab": {
          "base_uri": "https://localhost:8080/",
          "height": 717
        },
        "id": "GyH2-RTKd8Ka",
        "outputId": "989c0173-3465-4713-8344-645afa413843"
      },
      "execution_count": null,
      "outputs": [
        {
          "output_type": "stream",
          "name": "stdout",
          "text": [
            "                 precision    recall  f1-score   support\n",
            "\n",
            "Non-Informative       0.69      0.75      0.72       976\n",
            "    Informative       0.86      0.82      0.84      1861\n",
            "\n",
            "       accuracy                           0.80      2837\n",
            "      macro avg       0.77      0.78      0.78      2837\n",
            "   weighted avg       0.80      0.80      0.80      2837\n",
            "\n"
          ]
        },
        {
          "output_type": "display_data",
          "data": {
            "text/plain": [
              "<Figure size 800x600 with 2 Axes>"
            ],
            "image/svg+xml": "<?xml version=\"1.0\" encoding=\"utf-8\" standalone=\"no\"?>\n<!DOCTYPE svg PUBLIC \"-//W3C//DTD SVG 1.1//EN\"\n  \"http://www.w3.org/Graphics/SVG/1.1/DTD/svg11.dtd\">\n<svg xmlns:xlink=\"http://www.w3.org/1999/xlink\" width=\"488.193531pt\" height=\"401.799906pt\" viewBox=\"0 0 488.193531 401.799906\" xmlns=\"http://www.w3.org/2000/svg\" version=\"1.1\">\n <metadata>\n  <rdf:RDF xmlns:dc=\"http://purl.org/dc/elements/1.1/\" xmlns:cc=\"http://creativecommons.org/ns#\" xmlns:rdf=\"http://www.w3.org/1999/02/22-rdf-syntax-ns#\">\n   <cc:Work>\n    <dc:type rdf:resource=\"http://purl.org/dc/dcmitype/StillImage\"/>\n    <dc:date>2023-07-19T18:51:51.451874</dc:date>\n    <dc:format>image/svg+xml</dc:format>\n    <dc:creator>\n     <cc:Agent>\n      <dc:title>Matplotlib v3.7.1, https://matplotlib.org/</dc:title>\n     </cc:Agent>\n    </dc:creator>\n   </cc:Work>\n  </rdf:RDF>\n </metadata>\n <defs>\n  <style type=\"text/css\">*{stroke-linejoin: round; stroke-linecap: butt}</style>\n </defs>\n <g id=\"figure_1\">\n  <g id=\"patch_1\">\n   <path d=\"M 0 401.799906 \nL 488.193531 401.799906 \nL 488.193531 -0 \nL 0 -0 \nz\n\" style=\"fill: #ffffff\"/>\n  </g>\n  <g id=\"axes_1\">\n   <g id=\"patch_2\">\n    <path d=\"M 60.024281 339.84 \nL 417.144281 339.84 \nL 417.144281 7.2 \nL 60.024281 7.2 \nz\n\" style=\"fill: #eaeaf2\"/>\n   </g>\n   <g id=\"matplotlib.axis_1\">\n    <g id=\"xtick_1\">\n     <g id=\"line2d_1\">\n      <path d=\"M 149.304281 339.84 \nL 149.304281 7.2 \n\" clip-path=\"url(#p06646d45b0)\" style=\"fill: none; stroke: #ffffff; stroke-linecap: round\"/>\n     </g>\n     <g id=\"text_1\">\n      <!-- Non-Informative -->\n      <g style=\"fill: #262626\" transform=\"translate(100.270922 358.534109) scale(0.121 -0.121)\">\n       <defs>\n        <path id=\"DejaVuSans-4e\" d=\"M 628 4666 \nL 1478 4666 \nL 3547 763 \nL 3547 4666 \nL 4159 4666 \nL 4159 0 \nL 3309 0 \nL 1241 3903 \nL 1241 0 \nL 628 0 \nL 628 4666 \nz\n\" transform=\"scale(0.015625)\"/>\n        <path id=\"DejaVuSans-6f\" d=\"M 1959 3097 \nQ 1497 3097 1228 2736 \nQ 959 2375 959 1747 \nQ 959 1119 1226 758 \nQ 1494 397 1959 397 \nQ 2419 397 2687 759 \nQ 2956 1122 2956 1747 \nQ 2956 2369 2687 2733 \nQ 2419 3097 1959 3097 \nz\nM 1959 3584 \nQ 2709 3584 3137 3096 \nQ 3566 2609 3566 1747 \nQ 3566 888 3137 398 \nQ 2709 -91 1959 -91 \nQ 1206 -91 779 398 \nQ 353 888 353 1747 \nQ 353 2609 779 3096 \nQ 1206 3584 1959 3584 \nz\n\" transform=\"scale(0.015625)\"/>\n        <path id=\"DejaVuSans-6e\" d=\"M 3513 2113 \nL 3513 0 \nL 2938 0 \nL 2938 2094 \nQ 2938 2591 2744 2837 \nQ 2550 3084 2163 3084 \nQ 1697 3084 1428 2787 \nQ 1159 2491 1159 1978 \nL 1159 0 \nL 581 0 \nL 581 3500 \nL 1159 3500 \nL 1159 2956 \nQ 1366 3272 1645 3428 \nQ 1925 3584 2291 3584 \nQ 2894 3584 3203 3211 \nQ 3513 2838 3513 2113 \nz\n\" transform=\"scale(0.015625)\"/>\n        <path id=\"DejaVuSans-2d\" d=\"M 313 2009 \nL 1997 2009 \nL 1997 1497 \nL 313 1497 \nL 313 2009 \nz\n\" transform=\"scale(0.015625)\"/>\n        <path id=\"DejaVuSans-49\" d=\"M 628 4666 \nL 1259 4666 \nL 1259 0 \nL 628 0 \nL 628 4666 \nz\n\" transform=\"scale(0.015625)\"/>\n        <path id=\"DejaVuSans-66\" d=\"M 2375 4863 \nL 2375 4384 \nL 1825 4384 \nQ 1516 4384 1395 4259 \nQ 1275 4134 1275 3809 \nL 1275 3500 \nL 2222 3500 \nL 2222 3053 \nL 1275 3053 \nL 1275 0 \nL 697 0 \nL 697 3053 \nL 147 3053 \nL 147 3500 \nL 697 3500 \nL 697 3744 \nQ 697 4328 969 4595 \nQ 1241 4863 1831 4863 \nL 2375 4863 \nz\n\" transform=\"scale(0.015625)\"/>\n        <path id=\"DejaVuSans-72\" d=\"M 2631 2963 \nQ 2534 3019 2420 3045 \nQ 2306 3072 2169 3072 \nQ 1681 3072 1420 2755 \nQ 1159 2438 1159 1844 \nL 1159 0 \nL 581 0 \nL 581 3500 \nL 1159 3500 \nL 1159 2956 \nQ 1341 3275 1631 3429 \nQ 1922 3584 2338 3584 \nQ 2397 3584 2469 3576 \nQ 2541 3569 2628 3553 \nL 2631 2963 \nz\n\" transform=\"scale(0.015625)\"/>\n        <path id=\"DejaVuSans-6d\" d=\"M 3328 2828 \nQ 3544 3216 3844 3400 \nQ 4144 3584 4550 3584 \nQ 5097 3584 5394 3201 \nQ 5691 2819 5691 2113 \nL 5691 0 \nL 5113 0 \nL 5113 2094 \nQ 5113 2597 4934 2840 \nQ 4756 3084 4391 3084 \nQ 3944 3084 3684 2787 \nQ 3425 2491 3425 1978 \nL 3425 0 \nL 2847 0 \nL 2847 2094 \nQ 2847 2600 2669 2842 \nQ 2491 3084 2119 3084 \nQ 1678 3084 1418 2786 \nQ 1159 2488 1159 1978 \nL 1159 0 \nL 581 0 \nL 581 3500 \nL 1159 3500 \nL 1159 2956 \nQ 1356 3278 1631 3431 \nQ 1906 3584 2284 3584 \nQ 2666 3584 2933 3390 \nQ 3200 3197 3328 2828 \nz\n\" transform=\"scale(0.015625)\"/>\n        <path id=\"DejaVuSans-61\" d=\"M 2194 1759 \nQ 1497 1759 1228 1600 \nQ 959 1441 959 1056 \nQ 959 750 1161 570 \nQ 1363 391 1709 391 \nQ 2188 391 2477 730 \nQ 2766 1069 2766 1631 \nL 2766 1759 \nL 2194 1759 \nz\nM 3341 1997 \nL 3341 0 \nL 2766 0 \nL 2766 531 \nQ 2569 213 2275 61 \nQ 1981 -91 1556 -91 \nQ 1019 -91 701 211 \nQ 384 513 384 1019 \nQ 384 1609 779 1909 \nQ 1175 2209 1959 2209 \nL 2766 2209 \nL 2766 2266 \nQ 2766 2663 2505 2880 \nQ 2244 3097 1772 3097 \nQ 1472 3097 1187 3025 \nQ 903 2953 641 2809 \nL 641 3341 \nQ 956 3463 1253 3523 \nQ 1550 3584 1831 3584 \nQ 2591 3584 2966 3190 \nQ 3341 2797 3341 1997 \nz\n\" transform=\"scale(0.015625)\"/>\n        <path id=\"DejaVuSans-74\" d=\"M 1172 4494 \nL 1172 3500 \nL 2356 3500 \nL 2356 3053 \nL 1172 3053 \nL 1172 1153 \nQ 1172 725 1289 603 \nQ 1406 481 1766 481 \nL 2356 481 \nL 2356 0 \nL 1766 0 \nQ 1100 0 847 248 \nQ 594 497 594 1153 \nL 594 3053 \nL 172 3053 \nL 172 3500 \nL 594 3500 \nL 594 4494 \nL 1172 4494 \nz\n\" transform=\"scale(0.015625)\"/>\n        <path id=\"DejaVuSans-69\" d=\"M 603 3500 \nL 1178 3500 \nL 1178 0 \nL 603 0 \nL 603 3500 \nz\nM 603 4863 \nL 1178 4863 \nL 1178 4134 \nL 603 4134 \nL 603 4863 \nz\n\" transform=\"scale(0.015625)\"/>\n        <path id=\"DejaVuSans-76\" d=\"M 191 3500 \nL 800 3500 \nL 1894 563 \nL 2988 3500 \nL 3597 3500 \nL 2284 0 \nL 1503 0 \nL 191 3500 \nz\n\" transform=\"scale(0.015625)\"/>\n        <path id=\"DejaVuSans-65\" d=\"M 3597 1894 \nL 3597 1613 \nL 953 1613 \nQ 991 1019 1311 708 \nQ 1631 397 2203 397 \nQ 2534 397 2845 478 \nQ 3156 559 3463 722 \nL 3463 178 \nQ 3153 47 2828 -22 \nQ 2503 -91 2169 -91 \nQ 1331 -91 842 396 \nQ 353 884 353 1716 \nQ 353 2575 817 3079 \nQ 1281 3584 2069 3584 \nQ 2775 3584 3186 3129 \nQ 3597 2675 3597 1894 \nz\nM 3022 2063 \nQ 3016 2534 2758 2815 \nQ 2500 3097 2075 3097 \nQ 1594 3097 1305 2825 \nQ 1016 2553 972 2059 \nL 3022 2063 \nz\n\" transform=\"scale(0.015625)\"/>\n       </defs>\n       <use xlink:href=\"#DejaVuSans-4e\"/>\n       <use xlink:href=\"#DejaVuSans-6f\" x=\"74.804688\"/>\n       <use xlink:href=\"#DejaVuSans-6e\" x=\"135.986328\"/>\n       <use xlink:href=\"#DejaVuSans-2d\" x=\"199.365234\"/>\n       <use xlink:href=\"#DejaVuSans-49\" x=\"235.449219\"/>\n       <use xlink:href=\"#DejaVuSans-6e\" x=\"264.941406\"/>\n       <use xlink:href=\"#DejaVuSans-66\" x=\"328.320312\"/>\n       <use xlink:href=\"#DejaVuSans-6f\" x=\"363.525391\"/>\n       <use xlink:href=\"#DejaVuSans-72\" x=\"424.707031\"/>\n       <use xlink:href=\"#DejaVuSans-6d\" x=\"464.070312\"/>\n       <use xlink:href=\"#DejaVuSans-61\" x=\"561.482422\"/>\n       <use xlink:href=\"#DejaVuSans-74\" x=\"622.761719\"/>\n       <use xlink:href=\"#DejaVuSans-69\" x=\"661.970703\"/>\n       <use xlink:href=\"#DejaVuSans-76\" x=\"689.753906\"/>\n       <use xlink:href=\"#DejaVuSans-65\" x=\"748.933594\"/>\n      </g>\n     </g>\n    </g>\n    <g id=\"xtick_2\">\n     <g id=\"line2d_2\">\n      <path d=\"M 327.864281 339.84 \nL 327.864281 7.2 \n\" clip-path=\"url(#p06646d45b0)\" style=\"fill: none; stroke: #ffffff; stroke-linecap: round\"/>\n     </g>\n     <g id=\"text_2\">\n      <!-- Informative -->\n      <g style=\"fill: #262626\" transform=\"translate(293.075836 358.534109) scale(0.121 -0.121)\">\n       <use xlink:href=\"#DejaVuSans-49\"/>\n       <use xlink:href=\"#DejaVuSans-6e\" x=\"29.492188\"/>\n       <use xlink:href=\"#DejaVuSans-66\" x=\"92.871094\"/>\n       <use xlink:href=\"#DejaVuSans-6f\" x=\"128.076172\"/>\n       <use xlink:href=\"#DejaVuSans-72\" x=\"189.257812\"/>\n       <use xlink:href=\"#DejaVuSans-6d\" x=\"228.621094\"/>\n       <use xlink:href=\"#DejaVuSans-61\" x=\"326.033203\"/>\n       <use xlink:href=\"#DejaVuSans-74\" x=\"387.3125\"/>\n       <use xlink:href=\"#DejaVuSans-69\" x=\"426.521484\"/>\n       <use xlink:href=\"#DejaVuSans-76\" x=\"454.304688\"/>\n       <use xlink:href=\"#DejaVuSans-65\" x=\"513.484375\"/>\n      </g>\n     </g>\n    </g>\n    <g id=\"text_3\">\n     <!-- Predicted Label -->\n     <g style=\"fill: #262626\" transform=\"translate(184.615375 391.688344) scale(0.14 -0.14)\">\n      <defs>\n       <path id=\"DejaVuSans-50\" d=\"M 1259 4147 \nL 1259 2394 \nL 2053 2394 \nQ 2494 2394 2734 2622 \nQ 2975 2850 2975 3272 \nQ 2975 3691 2734 3919 \nQ 2494 4147 2053 4147 \nL 1259 4147 \nz\nM 628 4666 \nL 2053 4666 \nQ 2838 4666 3239 4311 \nQ 3641 3956 3641 3272 \nQ 3641 2581 3239 2228 \nQ 2838 1875 2053 1875 \nL 1259 1875 \nL 1259 0 \nL 628 0 \nL 628 4666 \nz\n\" transform=\"scale(0.015625)\"/>\n       <path id=\"DejaVuSans-64\" d=\"M 2906 2969 \nL 2906 4863 \nL 3481 4863 \nL 3481 0 \nL 2906 0 \nL 2906 525 \nQ 2725 213 2448 61 \nQ 2172 -91 1784 -91 \nQ 1150 -91 751 415 \nQ 353 922 353 1747 \nQ 353 2572 751 3078 \nQ 1150 3584 1784 3584 \nQ 2172 3584 2448 3432 \nQ 2725 3281 2906 2969 \nz\nM 947 1747 \nQ 947 1113 1208 752 \nQ 1469 391 1925 391 \nQ 2381 391 2643 752 \nQ 2906 1113 2906 1747 \nQ 2906 2381 2643 2742 \nQ 2381 3103 1925 3103 \nQ 1469 3103 1208 2742 \nQ 947 2381 947 1747 \nz\n\" transform=\"scale(0.015625)\"/>\n       <path id=\"DejaVuSans-63\" d=\"M 3122 3366 \nL 3122 2828 \nQ 2878 2963 2633 3030 \nQ 2388 3097 2138 3097 \nQ 1578 3097 1268 2742 \nQ 959 2388 959 1747 \nQ 959 1106 1268 751 \nQ 1578 397 2138 397 \nQ 2388 397 2633 464 \nQ 2878 531 3122 666 \nL 3122 134 \nQ 2881 22 2623 -34 \nQ 2366 -91 2075 -91 \nQ 1284 -91 818 406 \nQ 353 903 353 1747 \nQ 353 2603 823 3093 \nQ 1294 3584 2113 3584 \nQ 2378 3584 2631 3529 \nQ 2884 3475 3122 3366 \nz\n\" transform=\"scale(0.015625)\"/>\n       <path id=\"DejaVuSans-20\" transform=\"scale(0.015625)\"/>\n       <path id=\"DejaVuSans-4c\" d=\"M 628 4666 \nL 1259 4666 \nL 1259 531 \nL 3531 531 \nL 3531 0 \nL 628 0 \nL 628 4666 \nz\n\" transform=\"scale(0.015625)\"/>\n       <path id=\"DejaVuSans-62\" d=\"M 3116 1747 \nQ 3116 2381 2855 2742 \nQ 2594 3103 2138 3103 \nQ 1681 3103 1420 2742 \nQ 1159 2381 1159 1747 \nQ 1159 1113 1420 752 \nQ 1681 391 2138 391 \nQ 2594 391 2855 752 \nQ 3116 1113 3116 1747 \nz\nM 1159 2969 \nQ 1341 3281 1617 3432 \nQ 1894 3584 2278 3584 \nQ 2916 3584 3314 3078 \nQ 3713 2572 3713 1747 \nQ 3713 922 3314 415 \nQ 2916 -91 2278 -91 \nQ 1894 -91 1617 61 \nQ 1341 213 1159 525 \nL 1159 0 \nL 581 0 \nL 581 4863 \nL 1159 4863 \nL 1159 2969 \nz\n\" transform=\"scale(0.015625)\"/>\n       <path id=\"DejaVuSans-6c\" d=\"M 603 4863 \nL 1178 4863 \nL 1178 0 \nL 603 0 \nL 603 4863 \nz\n\" transform=\"scale(0.015625)\"/>\n      </defs>\n      <use xlink:href=\"#DejaVuSans-50\"/>\n      <use xlink:href=\"#DejaVuSans-72\" x=\"58.552734\"/>\n      <use xlink:href=\"#DejaVuSans-65\" x=\"97.416016\"/>\n      <use xlink:href=\"#DejaVuSans-64\" x=\"158.939453\"/>\n      <use xlink:href=\"#DejaVuSans-69\" x=\"222.416016\"/>\n      <use xlink:href=\"#DejaVuSans-63\" x=\"250.199219\"/>\n      <use xlink:href=\"#DejaVuSans-74\" x=\"305.179688\"/>\n      <use xlink:href=\"#DejaVuSans-65\" x=\"344.388672\"/>\n      <use xlink:href=\"#DejaVuSans-64\" x=\"405.912109\"/>\n      <use xlink:href=\"#DejaVuSans-20\" x=\"469.388672\"/>\n      <use xlink:href=\"#DejaVuSans-4c\" x=\"501.175781\"/>\n      <use xlink:href=\"#DejaVuSans-61\" x=\"556.888672\"/>\n      <use xlink:href=\"#DejaVuSans-62\" x=\"618.167969\"/>\n      <use xlink:href=\"#DejaVuSans-65\" x=\"681.644531\"/>\n      <use xlink:href=\"#DejaVuSans-6c\" x=\"743.167969\"/>\n     </g>\n    </g>\n   </g>\n   <g id=\"matplotlib.axis_2\">\n    <g id=\"ytick_1\">\n     <g id=\"line2d_3\">\n      <path d=\"M 60.024281 90.36 \nL 417.144281 90.36 \n\" clip-path=\"url(#p06646d45b0)\" style=\"fill: none; stroke: #ffffff; stroke-linecap: round\"/>\n     </g>\n     <g id=\"text_4\">\n      <!-- Non-Informative -->\n      <g style=\"fill: #262626\" transform=\"translate(48.007859 139.393359) rotate(-90) scale(0.121 -0.121)\">\n       <use xlink:href=\"#DejaVuSans-4e\"/>\n       <use xlink:href=\"#DejaVuSans-6f\" x=\"74.804688\"/>\n       <use xlink:href=\"#DejaVuSans-6e\" x=\"135.986328\"/>\n       <use xlink:href=\"#DejaVuSans-2d\" x=\"199.365234\"/>\n       <use xlink:href=\"#DejaVuSans-49\" x=\"235.449219\"/>\n       <use xlink:href=\"#DejaVuSans-6e\" x=\"264.941406\"/>\n       <use xlink:href=\"#DejaVuSans-66\" x=\"328.320312\"/>\n       <use xlink:href=\"#DejaVuSans-6f\" x=\"363.525391\"/>\n       <use xlink:href=\"#DejaVuSans-72\" x=\"424.707031\"/>\n       <use xlink:href=\"#DejaVuSans-6d\" x=\"464.070312\"/>\n       <use xlink:href=\"#DejaVuSans-61\" x=\"561.482422\"/>\n       <use xlink:href=\"#DejaVuSans-74\" x=\"622.761719\"/>\n       <use xlink:href=\"#DejaVuSans-69\" x=\"661.970703\"/>\n       <use xlink:href=\"#DejaVuSans-76\" x=\"689.753906\"/>\n       <use xlink:href=\"#DejaVuSans-65\" x=\"748.933594\"/>\n      </g>\n     </g>\n    </g>\n    <g id=\"ytick_2\">\n     <g id=\"line2d_4\">\n      <path d=\"M 60.024281 256.68 \nL 417.144281 256.68 \n\" clip-path=\"url(#p06646d45b0)\" style=\"fill: none; stroke: #ffffff; stroke-linecap: round\"/>\n     </g>\n     <g id=\"text_5\">\n      <!-- Informative -->\n      <g style=\"fill: #262626\" transform=\"translate(48.007859 291.468445) rotate(-90) scale(0.121 -0.121)\">\n       <use xlink:href=\"#DejaVuSans-49\"/>\n       <use xlink:href=\"#DejaVuSans-6e\" x=\"29.492188\"/>\n       <use xlink:href=\"#DejaVuSans-66\" x=\"92.871094\"/>\n       <use xlink:href=\"#DejaVuSans-6f\" x=\"128.076172\"/>\n       <use xlink:href=\"#DejaVuSans-72\" x=\"189.257812\"/>\n       <use xlink:href=\"#DejaVuSans-6d\" x=\"228.621094\"/>\n       <use xlink:href=\"#DejaVuSans-61\" x=\"326.033203\"/>\n       <use xlink:href=\"#DejaVuSans-74\" x=\"387.3125\"/>\n       <use xlink:href=\"#DejaVuSans-69\" x=\"426.521484\"/>\n       <use xlink:href=\"#DejaVuSans-76\" x=\"454.304688\"/>\n       <use xlink:href=\"#DejaVuSans-65\" x=\"513.484375\"/>\n      </g>\n     </g>\n    </g>\n    <g id=\"text_6\">\n     <!-- Gold Label -->\n     <g style=\"fill: #262626\" transform=\"translate(16.318125 205.410937) rotate(-90) scale(0.12 -0.12)\">\n      <defs>\n       <path id=\"DejaVuSans-47\" d=\"M 3809 666 \nL 3809 1919 \nL 2778 1919 \nL 2778 2438 \nL 4434 2438 \nL 4434 434 \nQ 4069 175 3628 42 \nQ 3188 -91 2688 -91 \nQ 1594 -91 976 548 \nQ 359 1188 359 2328 \nQ 359 3472 976 4111 \nQ 1594 4750 2688 4750 \nQ 3144 4750 3555 4637 \nQ 3966 4525 4313 4306 \nL 4313 3634 \nQ 3963 3931 3569 4081 \nQ 3175 4231 2741 4231 \nQ 1884 4231 1454 3753 \nQ 1025 3275 1025 2328 \nQ 1025 1384 1454 906 \nQ 1884 428 2741 428 \nQ 3075 428 3337 486 \nQ 3600 544 3809 666 \nz\n\" transform=\"scale(0.015625)\"/>\n      </defs>\n      <use xlink:href=\"#DejaVuSans-47\"/>\n      <use xlink:href=\"#DejaVuSans-6f\" x=\"77.490234\"/>\n      <use xlink:href=\"#DejaVuSans-6c\" x=\"138.671875\"/>\n      <use xlink:href=\"#DejaVuSans-64\" x=\"166.455078\"/>\n      <use xlink:href=\"#DejaVuSans-20\" x=\"229.931641\"/>\n      <use xlink:href=\"#DejaVuSans-4c\" x=\"261.71875\"/>\n      <use xlink:href=\"#DejaVuSans-61\" x=\"317.431641\"/>\n      <use xlink:href=\"#DejaVuSans-62\" x=\"378.710938\"/>\n      <use xlink:href=\"#DejaVuSans-65\" x=\"442.1875\"/>\n      <use xlink:href=\"#DejaVuSans-6c\" x=\"503.710938\"/>\n     </g>\n    </g>\n   </g>\n   <g id=\"QuadMesh_1\">\n    <path d=\"M 60.024281 7.2 \nL 238.584281 7.2 \nL 238.584281 173.52 \nL 60.024281 173.52 \nL 60.024281 7.2 \n\" clip-path=\"url(#p06646d45b0)\" style=\"fill: #e2e2e2\"/>\n    <path d=\"M 238.584281 7.2 \nL 417.144281 7.2 \nL 417.144281 173.52 \nL 238.584281 173.52 \nL 238.584281 7.2 \n\" clip-path=\"url(#p06646d45b0)\" style=\"fill: #1d1d1d\"/>\n    <path d=\"M 60.024281 173.52 \nL 238.584281 173.52 \nL 238.584281 339.84 \nL 60.024281 339.84 \nL 60.024281 173.52 \n\" clip-path=\"url(#p06646d45b0)\"/>\n    <path d=\"M 238.584281 173.52 \nL 417.144281 173.52 \nL 417.144281 339.84 \nL 238.584281 339.84 \nL 238.584281 173.52 \n\" clip-path=\"url(#p06646d45b0)\" style=\"fill: #ffffff\"/>\n   </g>\n   <g id=\"text_7\">\n    <!-- 74.80% -->\n    <g style=\"fill: #262626\" transform=\"translate(124.138688 94.002375) scale(0.132 -0.132)\">\n     <defs>\n      <path id=\"DejaVuSans-37\" d=\"M 525 4666 \nL 3525 4666 \nL 3525 4397 \nL 1831 0 \nL 1172 0 \nL 2766 4134 \nL 525 4134 \nL 525 4666 \nz\n\" transform=\"scale(0.015625)\"/>\n      <path id=\"DejaVuSans-34\" d=\"M 2419 4116 \nL 825 1625 \nL 2419 1625 \nL 2419 4116 \nz\nM 2253 4666 \nL 3047 4666 \nL 3047 1625 \nL 3713 1625 \nL 3713 1100 \nL 3047 1100 \nL 3047 0 \nL 2419 0 \nL 2419 1100 \nL 313 1100 \nL 313 1709 \nL 2253 4666 \nz\n\" transform=\"scale(0.015625)\"/>\n      <path id=\"DejaVuSans-2e\" d=\"M 684 794 \nL 1344 794 \nL 1344 0 \nL 684 0 \nL 684 794 \nz\n\" transform=\"scale(0.015625)\"/>\n      <path id=\"DejaVuSans-38\" d=\"M 2034 2216 \nQ 1584 2216 1326 1975 \nQ 1069 1734 1069 1313 \nQ 1069 891 1326 650 \nQ 1584 409 2034 409 \nQ 2484 409 2743 651 \nQ 3003 894 3003 1313 \nQ 3003 1734 2745 1975 \nQ 2488 2216 2034 2216 \nz\nM 1403 2484 \nQ 997 2584 770 2862 \nQ 544 3141 544 3541 \nQ 544 4100 942 4425 \nQ 1341 4750 2034 4750 \nQ 2731 4750 3128 4425 \nQ 3525 4100 3525 3541 \nQ 3525 3141 3298 2862 \nQ 3072 2584 2669 2484 \nQ 3125 2378 3379 2068 \nQ 3634 1759 3634 1313 \nQ 3634 634 3220 271 \nQ 2806 -91 2034 -91 \nQ 1263 -91 848 271 \nQ 434 634 434 1313 \nQ 434 1759 690 2068 \nQ 947 2378 1403 2484 \nz\nM 1172 3481 \nQ 1172 3119 1398 2916 \nQ 1625 2713 2034 2713 \nQ 2441 2713 2670 2916 \nQ 2900 3119 2900 3481 \nQ 2900 3844 2670 4047 \nQ 2441 4250 2034 4250 \nQ 1625 4250 1398 4047 \nQ 1172 3844 1172 3481 \nz\n\" transform=\"scale(0.015625)\"/>\n      <path id=\"DejaVuSans-30\" d=\"M 2034 4250 \nQ 1547 4250 1301 3770 \nQ 1056 3291 1056 2328 \nQ 1056 1369 1301 889 \nQ 1547 409 2034 409 \nQ 2525 409 2770 889 \nQ 3016 1369 3016 2328 \nQ 3016 3291 2770 3770 \nQ 2525 4250 2034 4250 \nz\nM 2034 4750 \nQ 2819 4750 3233 4129 \nQ 3647 3509 3647 2328 \nQ 3647 1150 3233 529 \nQ 2819 -91 2034 -91 \nQ 1250 -91 836 529 \nQ 422 1150 422 2328 \nQ 422 3509 836 4129 \nQ 1250 4750 2034 4750 \nz\n\" transform=\"scale(0.015625)\"/>\n      <path id=\"DejaVuSans-25\" d=\"M 4653 2053 \nQ 4381 2053 4226 1822 \nQ 4072 1591 4072 1178 \nQ 4072 772 4226 539 \nQ 4381 306 4653 306 \nQ 4919 306 5073 539 \nQ 5228 772 5228 1178 \nQ 5228 1588 5073 1820 \nQ 4919 2053 4653 2053 \nz\nM 4653 2450 \nQ 5147 2450 5437 2106 \nQ 5728 1763 5728 1178 \nQ 5728 594 5436 251 \nQ 5144 -91 4653 -91 \nQ 4153 -91 3862 251 \nQ 3572 594 3572 1178 \nQ 3572 1766 3864 2108 \nQ 4156 2450 4653 2450 \nz\nM 1428 4353 \nQ 1159 4353 1004 4120 \nQ 850 3888 850 3481 \nQ 850 3069 1003 2837 \nQ 1156 2606 1428 2606 \nQ 1700 2606 1854 2837 \nQ 2009 3069 2009 3481 \nQ 2009 3884 1853 4118 \nQ 1697 4353 1428 4353 \nz\nM 4250 4750 \nL 4750 4750 \nL 1831 -91 \nL 1331 -91 \nL 4250 4750 \nz\nM 1428 4750 \nQ 1922 4750 2215 4408 \nQ 2509 4066 2509 3481 \nQ 2509 2891 2217 2550 \nQ 1925 2209 1428 2209 \nQ 931 2209 642 2551 \nQ 353 2894 353 3481 \nQ 353 4063 643 4406 \nQ 934 4750 1428 4750 \nz\n\" transform=\"scale(0.015625)\"/>\n     </defs>\n     <use xlink:href=\"#DejaVuSans-37\"/>\n     <use xlink:href=\"#DejaVuSans-34\" x=\"63.623047\"/>\n     <use xlink:href=\"#DejaVuSans-2e\" x=\"127.246094\"/>\n     <use xlink:href=\"#DejaVuSans-38\" x=\"159.033203\"/>\n     <use xlink:href=\"#DejaVuSans-30\" x=\"222.65625\"/>\n     <use xlink:href=\"#DejaVuSans-25\" x=\"286.279297\"/>\n    </g>\n   </g>\n   <g id=\"text_8\">\n    <!-- 25.20% -->\n    <g style=\"fill: #ffffff\" transform=\"translate(302.698688 94.002375) scale(0.132 -0.132)\">\n     <defs>\n      <path id=\"DejaVuSans-32\" d=\"M 1228 531 \nL 3431 531 \nL 3431 0 \nL 469 0 \nL 469 531 \nQ 828 903 1448 1529 \nQ 2069 2156 2228 2338 \nQ 2531 2678 2651 2914 \nQ 2772 3150 2772 3378 \nQ 2772 3750 2511 3984 \nQ 2250 4219 1831 4219 \nQ 1534 4219 1204 4116 \nQ 875 4013 500 3803 \nL 500 4441 \nQ 881 4594 1212 4672 \nQ 1544 4750 1819 4750 \nQ 2544 4750 2975 4387 \nQ 3406 4025 3406 3419 \nQ 3406 3131 3298 2873 \nQ 3191 2616 2906 2266 \nQ 2828 2175 2409 1742 \nQ 1991 1309 1228 531 \nz\n\" transform=\"scale(0.015625)\"/>\n      <path id=\"DejaVuSans-35\" d=\"M 691 4666 \nL 3169 4666 \nL 3169 4134 \nL 1269 4134 \nL 1269 2991 \nQ 1406 3038 1543 3061 \nQ 1681 3084 1819 3084 \nQ 2600 3084 3056 2656 \nQ 3513 2228 3513 1497 \nQ 3513 744 3044 326 \nQ 2575 -91 1722 -91 \nQ 1428 -91 1123 -41 \nQ 819 9 494 109 \nL 494 744 \nQ 775 591 1075 516 \nQ 1375 441 1709 441 \nQ 2250 441 2565 725 \nQ 2881 1009 2881 1497 \nQ 2881 1984 2565 2268 \nQ 2250 2553 1709 2553 \nQ 1456 2553 1204 2497 \nQ 953 2441 691 2322 \nL 691 4666 \nz\n\" transform=\"scale(0.015625)\"/>\n     </defs>\n     <use xlink:href=\"#DejaVuSans-32\"/>\n     <use xlink:href=\"#DejaVuSans-35\" x=\"63.623047\"/>\n     <use xlink:href=\"#DejaVuSans-2e\" x=\"127.246094\"/>\n     <use xlink:href=\"#DejaVuSans-32\" x=\"159.033203\"/>\n     <use xlink:href=\"#DejaVuSans-30\" x=\"222.65625\"/>\n     <use xlink:href=\"#DejaVuSans-25\" x=\"286.279297\"/>\n    </g>\n   </g>\n   <g id=\"text_9\">\n    <!-- 17.84% -->\n    <g style=\"fill: #ffffff\" transform=\"translate(124.138688 260.322375) scale(0.132 -0.132)\">\n     <defs>\n      <path id=\"DejaVuSans-31\" d=\"M 794 531 \nL 1825 531 \nL 1825 4091 \nL 703 3866 \nL 703 4441 \nL 1819 4666 \nL 2450 4666 \nL 2450 531 \nL 3481 531 \nL 3481 0 \nL 794 0 \nL 794 531 \nz\n\" transform=\"scale(0.015625)\"/>\n     </defs>\n     <use xlink:href=\"#DejaVuSans-31\"/>\n     <use xlink:href=\"#DejaVuSans-37\" x=\"63.623047\"/>\n     <use xlink:href=\"#DejaVuSans-2e\" x=\"127.246094\"/>\n     <use xlink:href=\"#DejaVuSans-38\" x=\"159.033203\"/>\n     <use xlink:href=\"#DejaVuSans-34\" x=\"222.65625\"/>\n     <use xlink:href=\"#DejaVuSans-25\" x=\"286.279297\"/>\n    </g>\n   </g>\n   <g id=\"text_10\">\n    <!-- 82.16% -->\n    <g style=\"fill: #262626\" transform=\"translate(302.698688 260.322375) scale(0.132 -0.132)\">\n     <defs>\n      <path id=\"DejaVuSans-36\" d=\"M 2113 2584 \nQ 1688 2584 1439 2293 \nQ 1191 2003 1191 1497 \nQ 1191 994 1439 701 \nQ 1688 409 2113 409 \nQ 2538 409 2786 701 \nQ 3034 994 3034 1497 \nQ 3034 2003 2786 2293 \nQ 2538 2584 2113 2584 \nz\nM 3366 4563 \nL 3366 3988 \nQ 3128 4100 2886 4159 \nQ 2644 4219 2406 4219 \nQ 1781 4219 1451 3797 \nQ 1122 3375 1075 2522 \nQ 1259 2794 1537 2939 \nQ 1816 3084 2150 3084 \nQ 2853 3084 3261 2657 \nQ 3669 2231 3669 1497 \nQ 3669 778 3244 343 \nQ 2819 -91 2113 -91 \nQ 1303 -91 875 529 \nQ 447 1150 447 2328 \nQ 447 3434 972 4092 \nQ 1497 4750 2381 4750 \nQ 2619 4750 2861 4703 \nQ 3103 4656 3366 4563 \nz\n\" transform=\"scale(0.015625)\"/>\n     </defs>\n     <use xlink:href=\"#DejaVuSans-38\"/>\n     <use xlink:href=\"#DejaVuSans-32\" x=\"63.623047\"/>\n     <use xlink:href=\"#DejaVuSans-2e\" x=\"127.246094\"/>\n     <use xlink:href=\"#DejaVuSans-31\" x=\"159.033203\"/>\n     <use xlink:href=\"#DejaVuSans-36\" x=\"222.65625\"/>\n     <use xlink:href=\"#DejaVuSans-25\" x=\"286.279297\"/>\n    </g>\n   </g>\n  </g>\n  <g id=\"axes_2\">\n   <g id=\"patch_3\">\n    <path d=\"M 439.464281 339.84 \nL 456.096281 339.84 \nL 456.096281 7.2 \nL 439.464281 7.2 \nz\n\" style=\"fill: #eaeaf2\"/>\n   </g>\n   <g id=\"matplotlib.axis_3\"/>\n   <g id=\"matplotlib.axis_4\">\n    <g id=\"ytick_3\">\n     <g id=\"line2d_5\">\n      <defs>\n       <path id=\"m6201b361ec\" d=\"M 0 0 \nL 6 0 \n\" style=\"stroke: #262626; stroke-width: 1.25\"/>\n      </defs>\n      <g>\n       <use xlink:href=\"#m6201b361ec\" x=\"456.096281\" y=\"328.669254\" style=\"fill: #262626; stroke: #262626; stroke-width: 1.25\"/>\n      </g>\n     </g>\n     <g id=\"text_11\">\n      <!-- 20 -->\n      <g style=\"fill: #262626\" transform=\"translate(465.596281 333.266308) scale(0.121 -0.121)\">\n       <use xlink:href=\"#DejaVuSans-32\"/>\n       <use xlink:href=\"#DejaVuSans-30\" x=\"63.623047\"/>\n      </g>\n     </g>\n    </g>\n    <g id=\"ytick_4\">\n     <g id=\"line2d_6\">\n      <g>\n       <use xlink:href=\"#m6201b361ec\" x=\"456.096281\" y=\"276.952836\" style=\"fill: #262626; stroke: #262626; stroke-width: 1.25\"/>\n      </g>\n     </g>\n     <g id=\"text_12\">\n      <!-- 30 -->\n      <g style=\"fill: #262626\" transform=\"translate(465.596281 281.549891) scale(0.121 -0.121)\">\n       <defs>\n        <path id=\"DejaVuSans-33\" d=\"M 2597 2516 \nQ 3050 2419 3304 2112 \nQ 3559 1806 3559 1356 \nQ 3559 666 3084 287 \nQ 2609 -91 1734 -91 \nQ 1441 -91 1130 -33 \nQ 819 25 488 141 \nL 488 750 \nQ 750 597 1062 519 \nQ 1375 441 1716 441 \nQ 2309 441 2620 675 \nQ 2931 909 2931 1356 \nQ 2931 1769 2642 2001 \nQ 2353 2234 1838 2234 \nL 1294 2234 \nL 1294 2753 \nL 1863 2753 \nQ 2328 2753 2575 2939 \nQ 2822 3125 2822 3475 \nQ 2822 3834 2567 4026 \nQ 2313 4219 1838 4219 \nQ 1578 4219 1281 4162 \nQ 984 4106 628 3988 \nL 628 4550 \nQ 988 4650 1302 4700 \nQ 1616 4750 1894 4750 \nQ 2613 4750 3031 4423 \nQ 3450 4097 3450 3541 \nQ 3450 3153 3228 2886 \nQ 3006 2619 2597 2516 \nz\n\" transform=\"scale(0.015625)\"/>\n       </defs>\n       <use xlink:href=\"#DejaVuSans-33\"/>\n       <use xlink:href=\"#DejaVuSans-30\" x=\"63.623047\"/>\n      </g>\n     </g>\n    </g>\n    <g id=\"ytick_5\">\n     <g id=\"line2d_7\">\n      <g>\n       <use xlink:href=\"#m6201b361ec\" x=\"456.096281\" y=\"225.236418\" style=\"fill: #262626; stroke: #262626; stroke-width: 1.25\"/>\n      </g>\n     </g>\n     <g id=\"text_13\">\n      <!-- 40 -->\n      <g style=\"fill: #262626\" transform=\"translate(465.596281 229.833473) scale(0.121 -0.121)\">\n       <use xlink:href=\"#DejaVuSans-34\"/>\n       <use xlink:href=\"#DejaVuSans-30\" x=\"63.623047\"/>\n      </g>\n     </g>\n    </g>\n    <g id=\"ytick_6\">\n     <g id=\"line2d_8\">\n      <g>\n       <use xlink:href=\"#m6201b361ec\" x=\"456.096281\" y=\"173.52\" style=\"fill: #262626; stroke: #262626; stroke-width: 1.25\"/>\n      </g>\n     </g>\n     <g id=\"text_14\">\n      <!-- 50 -->\n      <g style=\"fill: #262626\" transform=\"translate(465.596281 178.117055) scale(0.121 -0.121)\">\n       <use xlink:href=\"#DejaVuSans-35\"/>\n       <use xlink:href=\"#DejaVuSans-30\" x=\"63.623047\"/>\n      </g>\n     </g>\n    </g>\n    <g id=\"ytick_7\">\n     <g id=\"line2d_9\">\n      <g>\n       <use xlink:href=\"#m6201b361ec\" x=\"456.096281\" y=\"121.803582\" style=\"fill: #262626; stroke: #262626; stroke-width: 1.25\"/>\n      </g>\n     </g>\n     <g id=\"text_15\">\n      <!-- 60 -->\n      <g style=\"fill: #262626\" transform=\"translate(465.596281 126.400637) scale(0.121 -0.121)\">\n       <use xlink:href=\"#DejaVuSans-36\"/>\n       <use xlink:href=\"#DejaVuSans-30\" x=\"63.623047\"/>\n      </g>\n     </g>\n    </g>\n    <g id=\"ytick_8\">\n     <g id=\"line2d_10\">\n      <g>\n       <use xlink:href=\"#m6201b361ec\" x=\"456.096281\" y=\"70.087164\" style=\"fill: #262626; stroke: #262626; stroke-width: 1.25\"/>\n      </g>\n     </g>\n     <g id=\"text_16\">\n      <!-- 70 -->\n      <g style=\"fill: #262626\" transform=\"translate(465.596281 74.684219) scale(0.121 -0.121)\">\n       <use xlink:href=\"#DejaVuSans-37\"/>\n       <use xlink:href=\"#DejaVuSans-30\" x=\"63.623047\"/>\n      </g>\n     </g>\n    </g>\n    <g id=\"ytick_9\">\n     <g id=\"line2d_11\">\n      <g>\n       <use xlink:href=\"#m6201b361ec\" x=\"456.096281\" y=\"18.370746\" style=\"fill: #262626; stroke: #262626; stroke-width: 1.25\"/>\n      </g>\n     </g>\n     <g id=\"text_17\">\n      <!-- 80 -->\n      <g style=\"fill: #262626\" transform=\"translate(465.596281 22.967801) scale(0.121 -0.121)\">\n       <use xlink:href=\"#DejaVuSans-38\"/>\n       <use xlink:href=\"#DejaVuSans-30\" x=\"63.623047\"/>\n      </g>\n     </g>\n    </g>\n   </g>\n   <image xlink:href=\"data:image/png;base64,\niVBORw0KGgoAAAANSUhEUgAAABcAAAHOCAYAAABzbJLzAAABj0lEQVR4nO3QwQkDMADDwKR0/5XbBfSNQSANYA7fc87vPOrzavicc7733mfjXnm3YMmx5Ptx7y3JseSYV94tWHIs+X7ce0tyLPl+3HtLciz5ftx7S3Is+X7ce0tyLPl+3HtLciz5ftx7S3Is+X7ce0tyLDnmlXcLlhxLvh/33pIcS74f996SHEu+H/fekhxLvh/33pIcS74f996SHEu+H/fekhxLvh/33pIcS4555d2CJceS78e9tyTHku/Hvbckx5Lvx723JMeS78e9tyTHku/Hvbckx5Lvx723JMeS78e9tyTHku/Hvbckx5JjXnm3YMmx5Ptx7y3JseT7ce8tybHk+3HvLcmx5Ptx7y3JseT7ce8tybHk+3HvLcmx5Ptx7y3JseSYV94tWHIs+X7ce0tyLPl+3HtLciz5ftx7S3Is+X7ce0tyLPl+3HtLciz5ftx7S3Is+X7ce0tyLDnmlXcLlhxLvh/33pIcS74f996SHEu+H/fekhxLvh/33pIcS74f996SHEu+H/fe8lT+B7xwCZZvInnYAAAAAElFTkSuQmCC\" id=\"image3b022a3772\" transform=\"scale(1 -1) translate(0 -332.64)\" x=\"439.2\" y=\"-7.2\" width=\"16.56\" height=\"332.64\"/>\n   <g id=\"LineCollection_1\"/>\n   <g id=\"patch_4\">\n    <path d=\"M 439.464281 339.84 \nL 447.780281 339.84 \nL 456.096281 339.84 \nL 456.096281 7.2 \nL 447.780281 7.2 \nL 439.464281 7.2 \nL 439.464281 339.84 \nz\n\" style=\"fill: none\"/>\n   </g>\n  </g>\n </g>\n <defs>\n  <clipPath id=\"p06646d45b0\">\n   <rect x=\"60.024281\" y=\"7.2\" width=\"357.12\" height=\"332.64\"/>\n  </clipPath>\n </defs>\n</svg>\n"
          },
          "metadata": {}
        }
      ]
    },
    {
      "cell_type": "code",
      "source": [
        "train_data = pd.read_csv(f'/content/drive/My Drive/thesis/multiple_runs/Binary/{run}/train_data.csv', encoding='utf-8')\n",
        "test_data = pd.read_csv(f'/content/drive/My Drive/thesis/multiple_runs/Binary/{run}/test_data.csv', encoding='utf-8')\n",
        "test_data = pd.read_csv(f'/content/drive/My Drive/thesis/multiple_runs/Binary/{run}/test_data.csv', encoding='utf-8')"
      ],
      "metadata": {
        "id": "jeqTPlKEd8Nq"
      },
      "execution_count": null,
      "outputs": []
    },
    {
      "cell_type": "code",
      "source": [
        "# First classification task for informative vs non informative"
      ],
      "metadata": {
        "id": "E4oP_Ej8d8Q2"
      },
      "execution_count": null,
      "outputs": []
    },
    {
      "cell_type": "code",
      "source": [
        "# Combine the results across all batches.\n",
        "flat_predictions = np.concatenate(predictions, axis=0)\n",
        "# For each sample, pick the label (0 or 1) with the higher score.\n",
        "flat_predictions = np.argmax(flat_predictions, axis=1).flatten()"
      ],
      "metadata": {
        "id": "UZdPpHeJd8TZ"
      },
      "execution_count": null,
      "outputs": []
    },
    {
      "cell_type": "code",
      "source": [
        "test_data['predicted_target'] = flat_predictions"
      ],
      "metadata": {
        "id": "_DXsAcqhd8VZ"
      },
      "execution_count": null,
      "outputs": []
    },
    {
      "cell_type": "code",
      "source": [
        "test_data.shape"
      ],
      "metadata": {
        "colab": {
          "base_uri": "https://localhost:8080/"
        },
        "id": "WpPlxa-DgTie",
        "outputId": "3aadce74-b24a-46a4-a2ba-98e805995144"
      },
      "execution_count": null,
      "outputs": [
        {
          "output_type": "execute_result",
          "data": {
            "text/plain": [
              "(2837, 19)"
            ]
          },
          "metadata": {},
          "execution_count": 54
        }
      ]
    },
    {
      "cell_type": "code",
      "source": [
        "predicted_informative = test_data[test_data['predicted_target'] == 0]"
      ],
      "metadata": {
        "id": "ZRsDEaoWd8Xe"
      },
      "execution_count": null,
      "outputs": []
    },
    {
      "cell_type": "code",
      "source": [
        "train_data.to_csv('train_inf.csv', encoding='utf-8')"
      ],
      "metadata": {
        "id": "8kuJiSUAd8Zb"
      },
      "execution_count": null,
      "outputs": []
    },
    {
      "cell_type": "code",
      "source": [
        "predicted_informative.to_csv('predicted_inf.csv', encoding='utf-8')"
      ],
      "metadata": {
        "id": "y-n7ZuZKd8cm"
      },
      "execution_count": null,
      "outputs": []
    },
    {
      "cell_type": "code",
      "source": [],
      "metadata": {
        "id": "L6GPn1bHd8e5"
      },
      "execution_count": null,
      "outputs": []
    },
    {
      "cell_type": "code",
      "source": [],
      "metadata": {
        "id": "3Wq2OoTjd8hs"
      },
      "execution_count": null,
      "outputs": []
    },
    {
      "cell_type": "code",
      "execution_count": null,
      "metadata": {
        "id": "rQcAGNPhtJpk"
      },
      "outputs": [],
      "source": [
        "# Detect the language in test and divide it into english and non english text"
      ]
    },
    {
      "cell_type": "code",
      "execution_count": null,
      "metadata": {
        "colab": {
          "base_uri": "https://localhost:8080/"
        },
        "id": "SF5OB8nl0_kq",
        "outputId": "f19504d1-5dec-43af-d329-8bc1470bb01b"
      },
      "outputs": [
        {
          "output_type": "stream",
          "name": "stdout",
          "text": [
            "Collecting fasttext-langdetect\n",
            "  Downloading fasttext-langdetect-1.0.5.tar.gz (6.8 kB)\n",
            "  Preparing metadata (setup.py) ... \u001b[?25l\u001b[?25hdone\n",
            "Collecting fasttext>=0.9.1 (from fasttext-langdetect)\n",
            "  Downloading fasttext-0.9.2.tar.gz (68 kB)\n",
            "\u001b[2K     \u001b[90m━━━━━━━━━━━━━━━━━━━━━━━━━━━━━━━━━━━━━━━━\u001b[0m \u001b[32m68.8/68.8 kB\u001b[0m \u001b[31m2.1 MB/s\u001b[0m eta \u001b[36m0:00:00\u001b[0m\n",
            "\u001b[?25h  Preparing metadata (setup.py) ... \u001b[?25l\u001b[?25hdone\n",
            "Requirement already satisfied: requests>=2.22.0 in /usr/local/lib/python3.10/dist-packages (from fasttext-langdetect) (2.27.1)\n",
            "Collecting pybind11>=2.2 (from fasttext>=0.9.1->fasttext-langdetect)\n",
            "  Using cached pybind11-2.11.1-py3-none-any.whl (227 kB)\n",
            "Requirement already satisfied: setuptools>=0.7.0 in /usr/local/lib/python3.10/dist-packages (from fasttext>=0.9.1->fasttext-langdetect) (67.7.2)\n",
            "Requirement already satisfied: numpy in /usr/local/lib/python3.10/dist-packages (from fasttext>=0.9.1->fasttext-langdetect) (1.22.4)\n",
            "Requirement already satisfied: urllib3<1.27,>=1.21.1 in /usr/local/lib/python3.10/dist-packages (from requests>=2.22.0->fasttext-langdetect) (1.26.16)\n",
            "Requirement already satisfied: certifi>=2017.4.17 in /usr/local/lib/python3.10/dist-packages (from requests>=2.22.0->fasttext-langdetect) (2023.5.7)\n",
            "Requirement already satisfied: charset-normalizer~=2.0.0 in /usr/local/lib/python3.10/dist-packages (from requests>=2.22.0->fasttext-langdetect) (2.0.12)\n",
            "Requirement already satisfied: idna<4,>=2.5 in /usr/local/lib/python3.10/dist-packages (from requests>=2.22.0->fasttext-langdetect) (3.4)\n",
            "Building wheels for collected packages: fasttext-langdetect, fasttext\n",
            "  Building wheel for fasttext-langdetect (setup.py) ... \u001b[?25l\u001b[?25hdone\n",
            "  Created wheel for fasttext-langdetect: filename=fasttext_langdetect-1.0.5-py3-none-any.whl size=7504 sha256=667b6f51b640cace5141a2656938a17c1ad7206795c5914c9666f959958ff642\n",
            "  Stored in directory: /root/.cache/pip/wheels/e6/5b/5d/47e2fd5c2ff1028722739ce35f365e8f6eeb89ec97aa63e621\n",
            "  Building wheel for fasttext (setup.py) ... \u001b[?25l\u001b[?25hdone\n",
            "  Created wheel for fasttext: filename=fasttext-0.9.2-cp310-cp310-linux_x86_64.whl size=4199675 sha256=c7bdb29ebc7a2f7f061ddf305739eb5ec4624035f6859c2be3176f6d7bbe7fe9\n",
            "  Stored in directory: /root/.cache/pip/wheels/a5/13/75/f811c84a8ab36eedbaef977a6a58a98990e8e0f1967f98f394\n",
            "Successfully built fasttext-langdetect fasttext\n",
            "Installing collected packages: pybind11, fasttext, fasttext-langdetect\n",
            "Successfully installed fasttext-0.9.2 fasttext-langdetect-1.0.5 pybind11-2.11.1\n"
          ]
        }
      ],
      "source": [
        "!pip install fasttext-langdetect"
      ]
    },
    {
      "cell_type": "code",
      "execution_count": null,
      "metadata": {
        "id": "9Ud1eswH1bmm"
      },
      "outputs": [],
      "source": [
        "from ftlangdetect import detect"
      ]
    },
    {
      "cell_type": "code",
      "execution_count": null,
      "metadata": {
        "colab": {
          "base_uri": "https://localhost:8080/",
          "height": 87,
          "referenced_widgets": [
            "a1bb26cf70cc46e495bf9095c71387fc",
            "4c873f33106d4fbc81122b398ac27886",
            "81b66f593a014cc0a3c409dcd289d487",
            "a2752f7bce60414a87a3d76e0bdf4cc2",
            "f166ffbf9bf9426faaa7b91ae2b98d5f",
            "25db592779524b7da07309e147bf6fb6",
            "ab6e91c8800049f0b31df226546d26a5",
            "c4859a28fc314ac781d1577a2088d518",
            "9a33270ccf414ab78b4f496257f61c69",
            "f50483e586364cc5b7a3142ff8f56065",
            "718d6560393a4433873668d187aca05b"
          ]
        },
        "id": "xsisYc8m2j3m",
        "outputId": "3fdb6a9a-4067-4021-990d-7f1f98fb720c"
      },
      "outputs": [
        {
          "output_type": "display_data",
          "data": {
            "text/plain": [
              "Downloading model.bin:   0%|          | 0.00/1.18G [00:00<?, ?B/s]"
            ],
            "application/vnd.jupyter.widget-view+json": {
              "version_major": 2,
              "version_minor": 0,
              "model_id": "a1bb26cf70cc46e495bf9095c71387fc"
            }
          },
          "metadata": {}
        },
        {
          "output_type": "stream",
          "name": "stderr",
          "text": [
            "Warning : `load_model` does not return WordVectorModel or SupervisedModel any more, but a `FastText` object which is very similar.\n"
          ]
        }
      ],
      "source": [
        "import fasttext\n",
        "from huggingface_hub import hf_hub_download\n",
        "\n",
        "model_path = hf_hub_download(repo_id=\"facebook/fasttext-language-identification\", filename=\"model.bin\")\n",
        "model = fasttext.load_model(model_path)"
      ]
    },
    {
      "cell_type": "code",
      "execution_count": null,
      "metadata": {
        "id": "W0SGLcIz5Rnc"
      },
      "outputs": [],
      "source": [
        "t = model.predict(\"Hello, world!\")"
      ]
    },
    {
      "cell_type": "code",
      "source": [
        "from IPython.display import JSON\n",
        "from google.colab import output\n",
        "from subprocess import getoutput\n",
        "import os\n",
        "\n",
        "def shell(command):\n",
        "  if command.startswith('cd'):\n",
        "    path = command.strip().split(maxsplit=1)[1]\n",
        "    os.chdir(path)\n",
        "    return JSON([''])\n",
        "  return JSON([getoutput(command)])\n",
        "output.register_callback('shell', shell)"
      ],
      "metadata": {
        "id": "O9LPg9AixYvl"
      },
      "execution_count": null,
      "outputs": []
    },
    {
      "cell_type": "code",
      "execution_count": null,
      "metadata": {
        "id": "tAw-xvf-VtmN",
        "colab": {
          "base_uri": "https://localhost:8080/",
          "height": 267
        },
        "outputId": "237aa30e-d7bf-4bac-8461-1835bc5a6faf"
      },
      "outputs": [
        {
          "output_type": "display_data",
          "data": {
            "text/plain": [
              "<IPython.core.display.HTML object>"
            ],
            "text/html": [
              "<div id=term_demo></div>\n",
              "<script src=\"https://code.jquery.com/jquery-latest.js\"></script>\n",
              "<script src=\"https://cdn.jsdelivr.net/npm/jquery.terminal/js/jquery.terminal.min.js\"></script>\n",
              "<link href=\"https://cdn.jsdelivr.net/npm/jquery.terminal/css/jquery.terminal.min.css\" rel=\"stylesheet\"/>\n",
              "<script>\n",
              "  $('#term_demo').terminal(async function(command) {\n",
              "      if (command !== '') {\n",
              "          try {\n",
              "              let res = await google.colab.kernel.invokeFunction('shell', [command])\n",
              "              let out = res.data['application/json'][0]\n",
              "              this.echo(new String(out))\n",
              "          } catch(e) {\n",
              "              this.error(new String(e));\n",
              "          }\n",
              "      } else {\n",
              "          this.echo('');\n",
              "      }\n",
              "  }, {\n",
              "      greetings: 'Welcome to Colab Shell',\n",
              "      name: 'colab_demo',\n",
              "      height: 250,\n",
              "      prompt: 'colab > '\n",
              "  });\n"
            ]
          },
          "metadata": {}
        }
      ],
      "source": [
        "#@title Colab Shell\n",
        "%%html\n",
        "<div id=term_demo></div>\n",
        "<script src=\"https://code.jquery.com/jquery-latest.js\"></script>\n",
        "<script src=\"https://cdn.jsdelivr.net/npm/jquery.terminal/js/jquery.terminal.min.js\"></script>\n",
        "<link href=\"https://cdn.jsdelivr.net/npm/jquery.terminal/css/jquery.terminal.min.css\" rel=\"stylesheet\"/>\n",
        "<script>\n",
        "  $('#term_demo').terminal(async function(command) {\n",
        "      if (command !== '') {\n",
        "          try {\n",
        "              let res = await google.colab.kernel.invokeFunction('shell', [command])\n",
        "              let out = res.data['application/json'][0]\n",
        "              this.echo(new String(out))\n",
        "          } catch(e) {\n",
        "              this.error(new String(e));\n",
        "          }\n",
        "      } else {\n",
        "          this.echo('');\n",
        "      }\n",
        "  }, {\n",
        "      greetings: 'Welcome to Colab Shell',\n",
        "      name: 'colab_demo',\n",
        "      height: 250,\n",
        "      prompt: 'colab > '\n",
        "  });"
      ]
    },
    {
      "cell_type": "code",
      "source": [
        "!pip install gcld3"
      ],
      "metadata": {
        "colab": {
          "base_uri": "https://localhost:8080/"
        },
        "id": "-DEbscJ2xbu-",
        "outputId": "05a3088c-b72d-4f86-c6e7-425977e902c1"
      },
      "execution_count": null,
      "outputs": [
        {
          "output_type": "stream",
          "name": "stdout",
          "text": [
            "Collecting gcld3\n",
            "  Downloading gcld3-3.0.13.tar.gz (647 kB)\n",
            "\u001b[2K     \u001b[90m━━━━━━━━━━━━━━━━━━━━━━━━━━━━━━━━━━━━━━\u001b[0m \u001b[32m647.8/647.8 kB\u001b[0m \u001b[31m11.4 MB/s\u001b[0m eta \u001b[36m0:00:00\u001b[0m\n",
            "\u001b[?25h  Preparing metadata (setup.py) ... \u001b[?25l\u001b[?25hdone\n",
            "Building wheels for collected packages: gcld3\n",
            "  Building wheel for gcld3 (setup.py) ... \u001b[?25l\u001b[?25hdone\n",
            "  Created wheel for gcld3: filename=gcld3-3.0.13-cp310-cp310-linux_x86_64.whl size=3645069 sha256=56450d20a422b629c145bab5fa3665612d3bc924417022faeb7d1ffe1e22ca08\n",
            "  Stored in directory: /root/.cache/pip/wheels/c2/11/e7/63c983a0b8506287ddd72b64db2a4d28f1e343eab85249a278\n",
            "Successfully built gcld3\n",
            "Installing collected packages: gcld3\n",
            "Successfully installed gcld3-3.0.13\n"
          ]
        }
      ]
    },
    {
      "cell_type": "code",
      "execution_count": null,
      "metadata": {
        "id": "JDXFbrdTV5kk"
      },
      "outputs": [],
      "source": [
        "import gcld3"
      ]
    },
    {
      "cell_type": "code",
      "execution_count": null,
      "metadata": {
        "id": "UjNxyqOLWcl0"
      },
      "outputs": [],
      "source": [
        "detector = gcld3.NNetLanguageIdentifier(min_num_bytes=0,\n",
        "                                        max_num_bytes=1000)"
      ]
    },
    {
      "cell_type": "code",
      "execution_count": null,
      "metadata": {
        "id": "KWhL1qesWgbq"
      },
      "outputs": [],
      "source": [
        "text = \"MCA tallied Wakoli 3, Priscah Chelagat 1, Jacob Kipchirchir 2, Kennedy Kemboi 1, Wilson Akubai 2, Simion Barasa Nyogesa 3.\"\n",
        "result = detector.FindLanguage(text=text)"
      ]
    },
    {
      "cell_type": "code",
      "execution_count": null,
      "metadata": {
        "colab": {
          "base_uri": "https://localhost:8080/"
        },
        "id": "w9wBseL_Wik8",
        "outputId": "bad9a39a-4c36-4ca9-c618-68ab937658f1"
      },
      "outputs": [
        {
          "output_type": "stream",
          "name": "stdout",
          "text": [
            "ny\n"
          ]
        }
      ],
      "source": [
        "print(result.language)"
      ]
    },
    {
      "cell_type": "code",
      "source": [
        "train_data['google_lang'] ="
      ],
      "metadata": {
        "id": "dXY0ANZLG56X"
      },
      "execution_count": null,
      "outputs": []
    },
    {
      "cell_type": "code",
      "source": [],
      "metadata": {
        "id": "Wk4eIMgNG6FK"
      },
      "execution_count": null,
      "outputs": []
    },
    {
      "cell_type": "code",
      "execution_count": null,
      "metadata": {
        "colab": {
          "base_uri": "https://localhost:8080/",
          "height": 36
        },
        "id": "bM92OBkDaQsW",
        "outputId": "a55916a7-b5c1-4b26-ab2a-6ea296ed5322"
      },
      "outputs": [
        {
          "data": {
            "application/vnd.google.colaboratory.intrinsic+json": {
              "type": "string"
            },
            "text/plain": [
              "'__label__cat_Latn'"
            ]
          },
          "execution_count": 290,
          "metadata": {},
          "output_type": "execute_result"
        }
      ],
      "source": [
        "detect_lang_fast_text(text)"
      ]
    },
    {
      "cell_type": "code",
      "execution_count": null,
      "metadata": {
        "id": "ch9NtvxPXtd2"
      },
      "outputs": [],
      "source": [
        "def google_detect(text):\n",
        "  return detector.FindLanguage(text).language"
      ]
    },
    {
      "cell_type": "code",
      "execution_count": null,
      "metadata": {
        "id": "1RWCelErWjnZ"
      },
      "outputs": [],
      "source": [
        "test_data['google_lang'] = test_data.clean_text.map(google_detect)"
      ]
    },
    {
      "cell_type": "code",
      "source": [
        "grouped_counts = test_data.groupby(\"google_lang\").size().reset_index(name='Counts').sort_values([\"Counts\"], ascending=False)\n",
        "sns.barplot(data=grouped_counts, x='Counts', y='google_lang')\n",
        "plt.xlabel('Label')\n",
        "plt.ylabel('Counts')\n",
        "plt.title('Language Distribution')\n",
        "plt.show()"
      ],
      "metadata": {
        "colab": {
          "base_uri": "https://localhost:8080/",
          "height": 467
        },
        "id": "sc_loqPhx4AN",
        "outputId": "12dee9a5-7a40-460e-f754-ef36437e53e9"
      },
      "execution_count": null,
      "outputs": [
        {
          "output_type": "display_data",
          "data": {
            "text/plain": [
              "<Figure size 640x480 with 1 Axes>"
            ],
            "image/svg+xml": "<?xml version=\"1.0\" encoding=\"utf-8\" standalone=\"no\"?>\n<!DOCTYPE svg PUBLIC \"-//W3C//DTD SVG 1.1//EN\"\n  \"http://www.w3.org/Graphics/SVG/1.1/DTD/svg11.dtd\">\n<svg xmlns:xlink=\"http://www.w3.org/1999/xlink\" width=\"458.436045pt\" height=\"334.527594pt\" viewBox=\"0 0 458.436045 334.527594\" xmlns=\"http://www.w3.org/2000/svg\" version=\"1.1\">\n <metadata>\n  <rdf:RDF xmlns:dc=\"http://purl.org/dc/elements/1.1/\" xmlns:cc=\"http://creativecommons.org/ns#\" xmlns:rdf=\"http://www.w3.org/1999/02/22-rdf-syntax-ns#\">\n   <cc:Work>\n    <dc:type rdf:resource=\"http://purl.org/dc/dcmitype/StillImage\"/>\n    <dc:date>2023-07-19T21:49:22.123052</dc:date>\n    <dc:format>image/svg+xml</dc:format>\n    <dc:creator>\n     <cc:Agent>\n      <dc:title>Matplotlib v3.7.1, https://matplotlib.org/</dc:title>\n     </cc:Agent>\n    </dc:creator>\n   </cc:Work>\n  </rdf:RDF>\n </metadata>\n <defs>\n  <style type=\"text/css\">*{stroke-linejoin: round; stroke-linecap: butt}</style>\n </defs>\n <g id=\"figure_1\">\n  <g id=\"patch_1\">\n   <path d=\"M 0 334.527594 \nL 458.436045 334.527594 \nL 458.436045 0 \nL 0 0 \nz\n\" style=\"fill: #ffffff\"/>\n  </g>\n  <g id=\"axes_1\">\n   <g id=\"patch_2\">\n    <path d=\"M 79.77275 289.341937 \nL 436.89275 289.341937 \nL 436.89275 23.229937 \nL 79.77275 23.229937 \nz\n\" style=\"fill: #eaeaf2\"/>\n   </g>\n   <g id=\"matplotlib.axis_1\">\n    <g id=\"xtick_1\">\n     <g id=\"line2d_1\">\n      <path d=\"M 79.77275 289.341937 \nL 79.77275 23.229937 \n\" clip-path=\"url(#p8864d8aae7)\" style=\"fill: none; stroke: #ffffff; stroke-linecap: round\"/>\n     </g>\n     <g id=\"text_1\">\n      <!-- 0 -->\n      <g style=\"fill: #262626\" transform=\"translate(75.923438 308.036047) scale(0.121 -0.121)\">\n       <defs>\n        <path id=\"DejaVuSans-30\" d=\"M 2034 4250 \nQ 1547 4250 1301 3770 \nQ 1056 3291 1056 2328 \nQ 1056 1369 1301 889 \nQ 1547 409 2034 409 \nQ 2525 409 2770 889 \nQ 3016 1369 3016 2328 \nQ 3016 3291 2770 3770 \nQ 2525 4250 2034 4250 \nz\nM 2034 4750 \nQ 2819 4750 3233 4129 \nQ 3647 3509 3647 2328 \nQ 3647 1150 3233 529 \nQ 2819 -91 2034 -91 \nQ 1250 -91 836 529 \nQ 422 1150 422 2328 \nQ 422 3509 836 4129 \nQ 1250 4750 2034 4750 \nz\n\" transform=\"scale(0.015625)\"/>\n       </defs>\n       <use xlink:href=\"#DejaVuSans-30\"/>\n      </g>\n     </g>\n    </g>\n    <g id=\"xtick_2\">\n     <g id=\"line2d_2\">\n      <path d=\"M 150.985959 289.341937 \nL 150.985959 23.229937 \n\" clip-path=\"url(#p8864d8aae7)\" style=\"fill: none; stroke: #ffffff; stroke-linecap: round\"/>\n     </g>\n     <g id=\"text_2\">\n      <!-- 500 -->\n      <g style=\"fill: #262626\" transform=\"translate(139.438021 308.036047) scale(0.121 -0.121)\">\n       <defs>\n        <path id=\"DejaVuSans-35\" d=\"M 691 4666 \nL 3169 4666 \nL 3169 4134 \nL 1269 4134 \nL 1269 2991 \nQ 1406 3038 1543 3061 \nQ 1681 3084 1819 3084 \nQ 2600 3084 3056 2656 \nQ 3513 2228 3513 1497 \nQ 3513 744 3044 326 \nQ 2575 -91 1722 -91 \nQ 1428 -91 1123 -41 \nQ 819 9 494 109 \nL 494 744 \nQ 775 591 1075 516 \nQ 1375 441 1709 441 \nQ 2250 441 2565 725 \nQ 2881 1009 2881 1497 \nQ 2881 1984 2565 2268 \nQ 2250 2553 1709 2553 \nQ 1456 2553 1204 2497 \nQ 953 2441 691 2322 \nL 691 4666 \nz\n\" transform=\"scale(0.015625)\"/>\n       </defs>\n       <use xlink:href=\"#DejaVuSans-35\"/>\n       <use xlink:href=\"#DejaVuSans-30\" x=\"63.623047\"/>\n       <use xlink:href=\"#DejaVuSans-30\" x=\"127.246094\"/>\n      </g>\n     </g>\n    </g>\n    <g id=\"xtick_3\">\n     <g id=\"line2d_3\">\n      <path d=\"M 222.199168 289.341937 \nL 222.199168 23.229937 \n\" clip-path=\"url(#p8864d8aae7)\" style=\"fill: none; stroke: #ffffff; stroke-linecap: round\"/>\n     </g>\n     <g id=\"text_3\">\n      <!-- 1000 -->\n      <g style=\"fill: #262626\" transform=\"translate(206.801918 308.036047) scale(0.121 -0.121)\">\n       <defs>\n        <path id=\"DejaVuSans-31\" d=\"M 794 531 \nL 1825 531 \nL 1825 4091 \nL 703 3866 \nL 703 4441 \nL 1819 4666 \nL 2450 4666 \nL 2450 531 \nL 3481 531 \nL 3481 0 \nL 794 0 \nL 794 531 \nz\n\" transform=\"scale(0.015625)\"/>\n       </defs>\n       <use xlink:href=\"#DejaVuSans-31\"/>\n       <use xlink:href=\"#DejaVuSans-30\" x=\"63.623047\"/>\n       <use xlink:href=\"#DejaVuSans-30\" x=\"127.246094\"/>\n       <use xlink:href=\"#DejaVuSans-30\" x=\"190.869141\"/>\n      </g>\n     </g>\n    </g>\n    <g id=\"xtick_4\">\n     <g id=\"line2d_4\">\n      <path d=\"M 293.412377 289.341937 \nL 293.412377 23.229937 \n\" clip-path=\"url(#p8864d8aae7)\" style=\"fill: none; stroke: #ffffff; stroke-linecap: round\"/>\n     </g>\n     <g id=\"text_4\">\n      <!-- 1500 -->\n      <g style=\"fill: #262626\" transform=\"translate(278.015127 308.036047) scale(0.121 -0.121)\">\n       <use xlink:href=\"#DejaVuSans-31\"/>\n       <use xlink:href=\"#DejaVuSans-35\" x=\"63.623047\"/>\n       <use xlink:href=\"#DejaVuSans-30\" x=\"127.246094\"/>\n       <use xlink:href=\"#DejaVuSans-30\" x=\"190.869141\"/>\n      </g>\n     </g>\n    </g>\n    <g id=\"xtick_5\">\n     <g id=\"line2d_5\">\n      <path d=\"M 364.625586 289.341937 \nL 364.625586 23.229937 \n\" clip-path=\"url(#p8864d8aae7)\" style=\"fill: none; stroke: #ffffff; stroke-linecap: round\"/>\n     </g>\n     <g id=\"text_5\">\n      <!-- 2000 -->\n      <g style=\"fill: #262626\" transform=\"translate(349.228336 308.036047) scale(0.121 -0.121)\">\n       <defs>\n        <path id=\"DejaVuSans-32\" d=\"M 1228 531 \nL 3431 531 \nL 3431 0 \nL 469 0 \nL 469 531 \nQ 828 903 1448 1529 \nQ 2069 2156 2228 2338 \nQ 2531 2678 2651 2914 \nQ 2772 3150 2772 3378 \nQ 2772 3750 2511 3984 \nQ 2250 4219 1831 4219 \nQ 1534 4219 1204 4116 \nQ 875 4013 500 3803 \nL 500 4441 \nQ 881 4594 1212 4672 \nQ 1544 4750 1819 4750 \nQ 2544 4750 2975 4387 \nQ 3406 4025 3406 3419 \nQ 3406 3131 3298 2873 \nQ 3191 2616 2906 2266 \nQ 2828 2175 2409 1742 \nQ 1991 1309 1228 531 \nz\n\" transform=\"scale(0.015625)\"/>\n       </defs>\n       <use xlink:href=\"#DejaVuSans-32\"/>\n       <use xlink:href=\"#DejaVuSans-30\" x=\"63.623047\"/>\n       <use xlink:href=\"#DejaVuSans-30\" x=\"127.246094\"/>\n       <use xlink:href=\"#DejaVuSans-30\" x=\"190.869141\"/>\n      </g>\n     </g>\n    </g>\n    <g id=\"xtick_6\">\n     <g id=\"line2d_6\">\n      <path d=\"M 435.838795 289.341937 \nL 435.838795 23.229937 \n\" clip-path=\"url(#p8864d8aae7)\" style=\"fill: none; stroke: #ffffff; stroke-linecap: round\"/>\n     </g>\n     <g id=\"text_6\">\n      <!-- 2500 -->\n      <g style=\"fill: #262626\" transform=\"translate(420.441545 308.036047) scale(0.121 -0.121)\">\n       <use xlink:href=\"#DejaVuSans-32\"/>\n       <use xlink:href=\"#DejaVuSans-35\" x=\"63.623047\"/>\n       <use xlink:href=\"#DejaVuSans-30\" x=\"127.246094\"/>\n       <use xlink:href=\"#DejaVuSans-30\" x=\"190.869141\"/>\n      </g>\n     </g>\n    </g>\n    <g id=\"text_7\">\n     <!-- Label -->\n     <g style=\"fill: #262626\" transform=\"translate(240.526156 324.582406) scale(0.132 -0.132)\">\n      <defs>\n       <path id=\"DejaVuSans-4c\" d=\"M 628 4666 \nL 1259 4666 \nL 1259 531 \nL 3531 531 \nL 3531 0 \nL 628 0 \nL 628 4666 \nz\n\" transform=\"scale(0.015625)\"/>\n       <path id=\"DejaVuSans-61\" d=\"M 2194 1759 \nQ 1497 1759 1228 1600 \nQ 959 1441 959 1056 \nQ 959 750 1161 570 \nQ 1363 391 1709 391 \nQ 2188 391 2477 730 \nQ 2766 1069 2766 1631 \nL 2766 1759 \nL 2194 1759 \nz\nM 3341 1997 \nL 3341 0 \nL 2766 0 \nL 2766 531 \nQ 2569 213 2275 61 \nQ 1981 -91 1556 -91 \nQ 1019 -91 701 211 \nQ 384 513 384 1019 \nQ 384 1609 779 1909 \nQ 1175 2209 1959 2209 \nL 2766 2209 \nL 2766 2266 \nQ 2766 2663 2505 2880 \nQ 2244 3097 1772 3097 \nQ 1472 3097 1187 3025 \nQ 903 2953 641 2809 \nL 641 3341 \nQ 956 3463 1253 3523 \nQ 1550 3584 1831 3584 \nQ 2591 3584 2966 3190 \nQ 3341 2797 3341 1997 \nz\n\" transform=\"scale(0.015625)\"/>\n       <path id=\"DejaVuSans-62\" d=\"M 3116 1747 \nQ 3116 2381 2855 2742 \nQ 2594 3103 2138 3103 \nQ 1681 3103 1420 2742 \nQ 1159 2381 1159 1747 \nQ 1159 1113 1420 752 \nQ 1681 391 2138 391 \nQ 2594 391 2855 752 \nQ 3116 1113 3116 1747 \nz\nM 1159 2969 \nQ 1341 3281 1617 3432 \nQ 1894 3584 2278 3584 \nQ 2916 3584 3314 3078 \nQ 3713 2572 3713 1747 \nQ 3713 922 3314 415 \nQ 2916 -91 2278 -91 \nQ 1894 -91 1617 61 \nQ 1341 213 1159 525 \nL 1159 0 \nL 581 0 \nL 581 4863 \nL 1159 4863 \nL 1159 2969 \nz\n\" transform=\"scale(0.015625)\"/>\n       <path id=\"DejaVuSans-65\" d=\"M 3597 1894 \nL 3597 1613 \nL 953 1613 \nQ 991 1019 1311 708 \nQ 1631 397 2203 397 \nQ 2534 397 2845 478 \nQ 3156 559 3463 722 \nL 3463 178 \nQ 3153 47 2828 -22 \nQ 2503 -91 2169 -91 \nQ 1331 -91 842 396 \nQ 353 884 353 1716 \nQ 353 2575 817 3079 \nQ 1281 3584 2069 3584 \nQ 2775 3584 3186 3129 \nQ 3597 2675 3597 1894 \nz\nM 3022 2063 \nQ 3016 2534 2758 2815 \nQ 2500 3097 2075 3097 \nQ 1594 3097 1305 2825 \nQ 1016 2553 972 2059 \nL 3022 2063 \nz\n\" transform=\"scale(0.015625)\"/>\n       <path id=\"DejaVuSans-6c\" d=\"M 603 4863 \nL 1178 4863 \nL 1178 0 \nL 603 0 \nL 603 4863 \nz\n\" transform=\"scale(0.015625)\"/>\n      </defs>\n      <use xlink:href=\"#DejaVuSans-4c\"/>\n      <use xlink:href=\"#DejaVuSans-61\" x=\"55.712891\"/>\n      <use xlink:href=\"#DejaVuSans-62\" x=\"116.992188\"/>\n      <use xlink:href=\"#DejaVuSans-65\" x=\"180.46875\"/>\n      <use xlink:href=\"#DejaVuSans-6c\" x=\"241.992188\"/>\n     </g>\n    </g>\n   </g>\n   <g id=\"matplotlib.axis_2\">\n    <g id=\"ytick_1\">\n     <g id=\"text_8\">\n      <!-- en -->\n      <g style=\"fill: #262626\" transform=\"translate(55.159094 29.812903) scale(0.121 -0.121)\">\n       <defs>\n        <path id=\"DejaVuSans-6e\" d=\"M 3513 2113 \nL 3513 0 \nL 2938 0 \nL 2938 2094 \nQ 2938 2591 2744 2837 \nQ 2550 3084 2163 3084 \nQ 1697 3084 1428 2787 \nQ 1159 2491 1159 1978 \nL 1159 0 \nL 581 0 \nL 581 3500 \nL 1159 3500 \nL 1159 2956 \nQ 1366 3272 1645 3428 \nQ 1925 3584 2291 3584 \nQ 2894 3584 3203 3211 \nQ 3513 2838 3513 2113 \nz\n\" transform=\"scale(0.015625)\"/>\n       </defs>\n       <use xlink:href=\"#DejaVuSans-65\"/>\n       <use xlink:href=\"#DejaVuSans-6e\" x=\"61.523438\"/>\n      </g>\n     </g>\n    </g>\n    <g id=\"ytick_2\">\n     <g id=\"text_9\">\n      <!-- sw -->\n      <g style=\"fill: #262626\" transform=\"translate(54.073875 33.784724) scale(0.121 -0.121)\">\n       <defs>\n        <path id=\"DejaVuSans-73\" d=\"M 2834 3397 \nL 2834 2853 \nQ 2591 2978 2328 3040 \nQ 2066 3103 1784 3103 \nQ 1356 3103 1142 2972 \nQ 928 2841 928 2578 \nQ 928 2378 1081 2264 \nQ 1234 2150 1697 2047 \nL 1894 2003 \nQ 2506 1872 2764 1633 \nQ 3022 1394 3022 966 \nQ 3022 478 2636 193 \nQ 2250 -91 1575 -91 \nQ 1294 -91 989 -36 \nQ 684 19 347 128 \nL 347 722 \nQ 666 556 975 473 \nQ 1284 391 1588 391 \nQ 1994 391 2212 530 \nQ 2431 669 2431 922 \nQ 2431 1156 2273 1281 \nQ 2116 1406 1581 1522 \nL 1381 1569 \nQ 847 1681 609 1914 \nQ 372 2147 372 2553 \nQ 372 3047 722 3315 \nQ 1072 3584 1716 3584 \nQ 2034 3584 2315 3537 \nQ 2597 3491 2834 3397 \nz\n\" transform=\"scale(0.015625)\"/>\n        <path id=\"DejaVuSans-77\" d=\"M 269 3500 \nL 844 3500 \nL 1563 769 \nL 2278 3500 \nL 2956 3500 \nL 3675 769 \nL 4391 3500 \nL 4966 3500 \nL 4050 0 \nL 3372 0 \nL 2619 2869 \nL 1863 0 \nL 1184 0 \nL 269 3500 \nz\n\" transform=\"scale(0.015625)\"/>\n       </defs>\n       <use xlink:href=\"#DejaVuSans-73\"/>\n       <use xlink:href=\"#DejaVuSans-77\" x=\"52.099609\"/>\n      </g>\n     </g>\n    </g>\n    <g id=\"ytick_3\">\n     <g id=\"text_10\">\n      <!-- zu -->\n      <g style=\"fill: #262626\" transform=\"translate(56.253766 37.756544) scale(0.121 -0.121)\">\n       <defs>\n        <path id=\"DejaVuSans-7a\" d=\"M 353 3500 \nL 3084 3500 \nL 3084 2975 \nL 922 459 \nL 3084 459 \nL 3084 0 \nL 275 0 \nL 275 525 \nL 2438 3041 \nL 353 3041 \nL 353 3500 \nz\n\" transform=\"scale(0.015625)\"/>\n        <path id=\"DejaVuSans-75\" d=\"M 544 1381 \nL 544 3500 \nL 1119 3500 \nL 1119 1403 \nQ 1119 906 1312 657 \nQ 1506 409 1894 409 \nQ 2359 409 2629 706 \nQ 2900 1003 2900 1516 \nL 2900 3500 \nL 3475 3500 \nL 3475 0 \nL 2900 0 \nL 2900 538 \nQ 2691 219 2414 64 \nQ 2138 -91 1772 -91 \nQ 1169 -91 856 284 \nQ 544 659 544 1381 \nz\nM 1991 3584 \nL 1991 3584 \nz\n\" transform=\"scale(0.015625)\"/>\n       </defs>\n       <use xlink:href=\"#DejaVuSans-7a\"/>\n       <use xlink:href=\"#DejaVuSans-75\" x=\"52.490234\"/>\n      </g>\n     </g>\n    </g>\n    <g id=\"ytick_4\">\n     <g id=\"text_11\">\n      <!-- sn -->\n      <g style=\"fill: #262626\" transform=\"translate(56.301031 41.728365) scale(0.121 -0.121)\">\n       <use xlink:href=\"#DejaVuSans-73\"/>\n       <use xlink:href=\"#DejaVuSans-6e\" x=\"52.099609\"/>\n      </g>\n     </g>\n    </g>\n    <g id=\"ytick_5\">\n     <g id=\"text_12\">\n      <!-- da -->\n      <g style=\"fill: #262626\" transform=\"translate(55.176109 45.700186) scale(0.121 -0.121)\">\n       <defs>\n        <path id=\"DejaVuSans-64\" d=\"M 2906 2969 \nL 2906 4863 \nL 3481 4863 \nL 3481 0 \nL 2906 0 \nL 2906 525 \nQ 2725 213 2448 61 \nQ 2172 -91 1784 -91 \nQ 1150 -91 751 415 \nQ 353 922 353 1747 \nQ 353 2572 751 3078 \nQ 1150 3584 1784 3584 \nQ 2172 3584 2448 3432 \nQ 2725 3281 2906 2969 \nz\nM 947 1747 \nQ 947 1113 1208 752 \nQ 1469 391 1925 391 \nQ 2381 391 2643 752 \nQ 2906 1113 2906 1747 \nQ 2906 2381 2643 2742 \nQ 2381 3103 1925 3103 \nQ 1469 3103 1208 2742 \nQ 947 2381 947 1747 \nz\n\" transform=\"scale(0.015625)\"/>\n       </defs>\n       <use xlink:href=\"#DejaVuSans-64\"/>\n       <use xlink:href=\"#DejaVuSans-61\" x=\"63.476562\"/>\n      </g>\n     </g>\n    </g>\n    <g id=\"ytick_6\">\n     <g id=\"text_13\">\n      <!-- ny -->\n      <g style=\"fill: #262626\" transform=\"translate(55.442687 49.672007) scale(0.121 -0.121)\">\n       <defs>\n        <path id=\"DejaVuSans-79\" d=\"M 2059 -325 \nQ 1816 -950 1584 -1140 \nQ 1353 -1331 966 -1331 \nL 506 -1331 \nL 506 -850 \nL 844 -850 \nQ 1081 -850 1212 -737 \nQ 1344 -625 1503 -206 \nL 1606 56 \nL 191 3500 \nL 800 3500 \nL 1894 763 \nL 2988 3500 \nL 3597 3500 \nL 2059 -325 \nz\n\" transform=\"scale(0.015625)\"/>\n       </defs>\n       <use xlink:href=\"#DejaVuSans-6e\"/>\n       <use xlink:href=\"#DejaVuSans-79\" x=\"63.378906\"/>\n      </g>\n     </g>\n    </g>\n    <g id=\"ytick_7\">\n     <g id=\"text_14\">\n      <!-- af -->\n      <g style=\"fill: #262626\" transform=\"translate(58.598141 53.643828) scale(0.121 -0.121)\">\n       <defs>\n        <path id=\"DejaVuSans-66\" d=\"M 2375 4863 \nL 2375 4384 \nL 1825 4384 \nQ 1516 4384 1395 4259 \nQ 1275 4134 1275 3809 \nL 1275 3500 \nL 2222 3500 \nL 2222 3053 \nL 1275 3053 \nL 1275 0 \nL 697 0 \nL 697 3053 \nL 147 3053 \nL 147 3500 \nL 697 3500 \nL 697 3744 \nQ 697 4328 969 4595 \nQ 1241 4863 1831 4863 \nL 2375 4863 \nz\n\" transform=\"scale(0.015625)\"/>\n       </defs>\n       <use xlink:href=\"#DejaVuSans-61\"/>\n       <use xlink:href=\"#DejaVuSans-66\" x=\"61.279297\"/>\n      </g>\n     </g>\n    </g>\n    <g id=\"ytick_8\">\n     <g id=\"text_15\">\n      <!-- fil -->\n      <g style=\"fill: #262626\" transform=\"translate(59.290109 57.615649) scale(0.121 -0.121)\">\n       <defs>\n        <path id=\"DejaVuSans-69\" d=\"M 603 3500 \nL 1178 3500 \nL 1178 0 \nL 603 0 \nL 603 3500 \nz\nM 603 4863 \nL 1178 4863 \nL 1178 4134 \nL 603 4134 \nL 603 4863 \nz\n\" transform=\"scale(0.015625)\"/>\n       </defs>\n       <use xlink:href=\"#DejaVuSans-66\"/>\n       <use xlink:href=\"#DejaVuSans-69\" x=\"35.205078\"/>\n       <use xlink:href=\"#DejaVuSans-6c\" x=\"62.988281\"/>\n      </g>\n     </g>\n    </g>\n    <g id=\"ytick_9\">\n     <g id=\"text_16\">\n      <!-- jv -->\n      <g style=\"fill: #262626\" transform=\"translate(59.749531 61.58747) scale(0.121 -0.121)\">\n       <defs>\n        <path id=\"DejaVuSans-6a\" d=\"M 603 3500 \nL 1178 3500 \nL 1178 -63 \nQ 1178 -731 923 -1031 \nQ 669 -1331 103 -1331 \nL -116 -1331 \nL -116 -844 \nL 38 -844 \nQ 366 -844 484 -692 \nQ 603 -541 603 -63 \nL 603 3500 \nz\nM 603 4863 \nL 1178 4863 \nL 1178 4134 \nL 603 4134 \nL 603 4863 \nz\n\" transform=\"scale(0.015625)\"/>\n        <path id=\"DejaVuSans-76\" d=\"M 191 3500 \nL 800 3500 \nL 1894 563 \nL 2988 3500 \nL 3597 3500 \nL 2284 0 \nL 1503 0 \nL 191 3500 \nz\n\" transform=\"scale(0.015625)\"/>\n       </defs>\n       <use xlink:href=\"#DejaVuSans-6a\"/>\n       <use xlink:href=\"#DejaVuSans-76\" x=\"27.783203\"/>\n      </g>\n     </g>\n    </g>\n    <g id=\"ytick_10\">\n     <g id=\"text_17\">\n      <!-- ig -->\n      <g style=\"fill: #262626\" transform=\"translate(59.229609 65.559291) scale(0.121 -0.121)\">\n       <defs>\n        <path id=\"DejaVuSans-67\" d=\"M 2906 1791 \nQ 2906 2416 2648 2759 \nQ 2391 3103 1925 3103 \nQ 1463 3103 1205 2759 \nQ 947 2416 947 1791 \nQ 947 1169 1205 825 \nQ 1463 481 1925 481 \nQ 2391 481 2648 825 \nQ 2906 1169 2906 1791 \nz\nM 3481 434 \nQ 3481 -459 3084 -895 \nQ 2688 -1331 1869 -1331 \nQ 1566 -1331 1297 -1286 \nQ 1028 -1241 775 -1147 \nL 775 -588 \nQ 1028 -725 1275 -790 \nQ 1522 -856 1778 -856 \nQ 2344 -856 2625 -561 \nQ 2906 -266 2906 331 \nL 2906 616 \nQ 2728 306 2450 153 \nQ 2172 0 1784 0 \nQ 1141 0 747 490 \nQ 353 981 353 1791 \nQ 353 2603 747 3093 \nQ 1141 3584 1784 3584 \nQ 2172 3584 2450 3431 \nQ 2728 3278 2906 2969 \nL 2906 3500 \nL 3481 3500 \nL 3481 434 \nz\n\" transform=\"scale(0.015625)\"/>\n       </defs>\n       <use xlink:href=\"#DejaVuSans-69\"/>\n       <use xlink:href=\"#DejaVuSans-67\" x=\"27.783203\"/>\n      </g>\n     </g>\n    </g>\n    <g id=\"ytick_11\">\n     <g id=\"text_18\">\n      <!-- xh -->\n      <g style=\"fill: #262626\" transform=\"translate(55.442687 69.531112) scale(0.121 -0.121)\">\n       <defs>\n        <path id=\"DejaVuSans-78\" d=\"M 3513 3500 \nL 2247 1797 \nL 3578 0 \nL 2900 0 \nL 1881 1375 \nL 863 0 \nL 184 0 \nL 1544 1831 \nL 300 3500 \nL 978 3500 \nL 1906 2253 \nL 2834 3500 \nL 3513 3500 \nz\n\" transform=\"scale(0.015625)\"/>\n        <path id=\"DejaVuSans-68\" d=\"M 3513 2113 \nL 3513 0 \nL 2938 0 \nL 2938 2094 \nQ 2938 2591 2744 2837 \nQ 2550 3084 2163 3084 \nQ 1697 3084 1428 2787 \nQ 1159 2491 1159 1978 \nL 1159 0 \nL 581 0 \nL 581 4863 \nL 1159 4863 \nL 1159 2956 \nQ 1366 3272 1645 3428 \nQ 1925 3584 2291 3584 \nQ 2894 3584 3203 3211 \nQ 3513 2838 3513 2113 \nz\n\" transform=\"scale(0.015625)\"/>\n       </defs>\n       <use xlink:href=\"#DejaVuSans-78\"/>\n       <use xlink:href=\"#DejaVuSans-68\" x=\"59.179688\"/>\n      </g>\n     </g>\n    </g>\n    <g id=\"ytick_12\">\n     <g id=\"text_19\">\n      <!-- fr -->\n      <g style=\"fill: #262626\" transform=\"translate(61.038938 73.502932) scale(0.121 -0.121)\">\n       <defs>\n        <path id=\"DejaVuSans-72\" d=\"M 2631 2963 \nQ 2534 3019 2420 3045 \nQ 2306 3072 2169 3072 \nQ 1681 3072 1420 2755 \nQ 1159 2438 1159 1844 \nL 1159 0 \nL 581 0 \nL 581 3500 \nL 1159 3500 \nL 1159 2956 \nQ 1341 3275 1631 3429 \nQ 1922 3584 2338 3584 \nQ 2397 3584 2469 3576 \nQ 2541 3569 2628 3553 \nL 2631 2963 \nz\n\" transform=\"scale(0.015625)\"/>\n       </defs>\n       <use xlink:href=\"#DejaVuSans-66\"/>\n       <use xlink:href=\"#DejaVuSans-72\" x=\"35.205078\"/>\n      </g>\n     </g>\n    </g>\n    <g id=\"ytick_13\">\n     <g id=\"text_20\">\n      <!-- nl -->\n      <g style=\"fill: #262626\" transform=\"translate(59.242844 77.474753) scale(0.121 -0.121)\">\n       <use xlink:href=\"#DejaVuSans-6e\"/>\n       <use xlink:href=\"#DejaVuSans-6c\" x=\"63.378906\"/>\n      </g>\n     </g>\n    </g>\n    <g id=\"ytick_14\">\n     <g id=\"text_21\">\n      <!-- la -->\n      <g style=\"fill: #262626\" transform=\"translate(59.496188 81.446574) scale(0.121 -0.121)\">\n       <use xlink:href=\"#DejaVuSans-6c\"/>\n       <use xlink:href=\"#DejaVuSans-61\" x=\"27.783203\"/>\n      </g>\n     </g>\n    </g>\n    <g id=\"ytick_15\">\n     <g id=\"text_22\">\n      <!-- mg -->\n      <g style=\"fill: #262626\" transform=\"translate(50.804984 85.418395) scale(0.121 -0.121)\">\n       <defs>\n        <path id=\"DejaVuSans-6d\" d=\"M 3328 2828 \nQ 3544 3216 3844 3400 \nQ 4144 3584 4550 3584 \nQ 5097 3584 5394 3201 \nQ 5691 2819 5691 2113 \nL 5691 0 \nL 5113 0 \nL 5113 2094 \nQ 5113 2597 4934 2840 \nQ 4756 3084 4391 3084 \nQ 3944 3084 3684 2787 \nQ 3425 2491 3425 1978 \nL 3425 0 \nL 2847 0 \nL 2847 2094 \nQ 2847 2600 2669 2842 \nQ 2491 3084 2119 3084 \nQ 1678 3084 1418 2786 \nQ 1159 2488 1159 1978 \nL 1159 0 \nL 581 0 \nL 581 3500 \nL 1159 3500 \nL 1159 2956 \nQ 1356 3278 1631 3431 \nQ 1906 3584 2284 3584 \nQ 2666 3584 2933 3390 \nQ 3200 3197 3328 2828 \nz\n\" transform=\"scale(0.015625)\"/>\n       </defs>\n       <use xlink:href=\"#DejaVuSans-6d\"/>\n       <use xlink:href=\"#DejaVuSans-67\" x=\"97.412109\"/>\n      </g>\n     </g>\n    </g>\n    <g id=\"ytick_16\">\n     <g id=\"text_23\">\n      <!-- ru-Latn -->\n      <g style=\"fill: #262626\" transform=\"translate(26.695734 89.390216) scale(0.121 -0.121)\">\n       <defs>\n        <path id=\"DejaVuSans-2d\" d=\"M 313 2009 \nL 1997 2009 \nL 1997 1497 \nL 313 1497 \nL 313 2009 \nz\n\" transform=\"scale(0.015625)\"/>\n        <path id=\"DejaVuSans-74\" d=\"M 1172 4494 \nL 1172 3500 \nL 2356 3500 \nL 2356 3053 \nL 1172 3053 \nL 1172 1153 \nQ 1172 725 1289 603 \nQ 1406 481 1766 481 \nL 2356 481 \nL 2356 0 \nL 1766 0 \nQ 1100 0 847 248 \nQ 594 497 594 1153 \nL 594 3053 \nL 172 3053 \nL 172 3500 \nL 594 3500 \nL 594 4494 \nL 1172 4494 \nz\n\" transform=\"scale(0.015625)\"/>\n       </defs>\n       <use xlink:href=\"#DejaVuSans-72\"/>\n       <use xlink:href=\"#DejaVuSans-75\" x=\"41.113281\"/>\n       <use xlink:href=\"#DejaVuSans-2d\" x=\"104.492188\"/>\n       <use xlink:href=\"#DejaVuSans-4c\" x=\"140.576172\"/>\n       <use xlink:href=\"#DejaVuSans-61\" x=\"196.289062\"/>\n       <use xlink:href=\"#DejaVuSans-74\" x=\"257.568359\"/>\n       <use xlink:href=\"#DejaVuSans-6e\" x=\"296.777344\"/>\n      </g>\n     </g>\n    </g>\n    <g id=\"ytick_17\">\n     <g id=\"text_24\">\n      <!-- sm -->\n      <g style=\"fill: #262626\" transform=\"translate(52.18325 93.362037) scale(0.121 -0.121)\">\n       <use xlink:href=\"#DejaVuSans-73\"/>\n       <use xlink:href=\"#DejaVuSans-6d\" x=\"52.099609\"/>\n      </g>\n     </g>\n    </g>\n    <g id=\"ytick_18\">\n     <g id=\"text_25\">\n      <!-- it -->\n      <g style=\"fill: #262626\" transform=\"translate(62.167641 97.333858) scale(0.121 -0.121)\">\n       <use xlink:href=\"#DejaVuSans-69\"/>\n       <use xlink:href=\"#DejaVuSans-74\" x=\"27.783203\"/>\n      </g>\n     </g>\n    </g>\n    <g id=\"ytick_19\">\n     <g id=\"text_26\">\n      <!-- fy -->\n      <g style=\"fill: #262626\" transform=\"translate(59.063234 101.305679) scale(0.121 -0.121)\">\n       <use xlink:href=\"#DejaVuSans-66\"/>\n       <use xlink:href=\"#DejaVuSans-79\" x=\"33.455078\"/>\n      </g>\n     </g>\n    </g>\n    <g id=\"ytick_20\">\n     <g id=\"text_27\">\n      <!-- el-Latn -->\n      <g style=\"fill: #262626\" transform=\"translate(28.531531 105.2775) scale(0.121 -0.121)\">\n       <use xlink:href=\"#DejaVuSans-65\"/>\n       <use xlink:href=\"#DejaVuSans-6c\" x=\"61.523438\"/>\n       <use xlink:href=\"#DejaVuSans-2d\" x=\"89.306641\"/>\n       <use xlink:href=\"#DejaVuSans-4c\" x=\"125.390625\"/>\n       <use xlink:href=\"#DejaVuSans-61\" x=\"181.103516\"/>\n       <use xlink:href=\"#DejaVuSans-74\" x=\"242.382812\"/>\n       <use xlink:href=\"#DejaVuSans-6e\" x=\"281.591797\"/>\n      </g>\n     </g>\n    </g>\n    <g id=\"ytick_21\">\n     <g id=\"text_28\">\n      <!-- mi -->\n      <g style=\"fill: #262626\" transform=\"translate(55.125062 109.249321) scale(0.121 -0.121)\">\n       <use xlink:href=\"#DejaVuSans-6d\"/>\n       <use xlink:href=\"#DejaVuSans-69\" x=\"97.412109\"/>\n      </g>\n     </g>\n    </g>\n    <g id=\"ytick_22\">\n     <g id=\"text_29\">\n      <!-- de -->\n      <g style=\"fill: #262626\" transform=\"translate(55.145859 113.221141) scale(0.121 -0.121)\">\n       <use xlink:href=\"#DejaVuSans-64\"/>\n       <use xlink:href=\"#DejaVuSans-65\" x=\"63.476562\"/>\n      </g>\n     </g>\n    </g>\n    <g id=\"ytick_23\">\n     <g id=\"text_30\">\n      <!-- haw -->\n      <g style=\"fill: #262626\" transform=\"translate(45.293813 117.192962) scale(0.121 -0.121)\">\n       <use xlink:href=\"#DejaVuSans-68\"/>\n       <use xlink:href=\"#DejaVuSans-61\" x=\"63.378906\"/>\n       <use xlink:href=\"#DejaVuSans-77\" x=\"124.658203\"/>\n      </g>\n     </g>\n    </g>\n    <g id=\"ytick_24\">\n     <g id=\"text_31\">\n      <!-- id -->\n      <g style=\"fill: #262626\" transform=\"translate(59.229609 121.164783) scale(0.121 -0.121)\">\n       <use xlink:href=\"#DejaVuSans-69\"/>\n       <use xlink:href=\"#DejaVuSans-64\" x=\"27.783203\"/>\n      </g>\n     </g>\n    </g>\n    <g id=\"ytick_25\">\n     <g id=\"text_32\">\n      <!-- ca -->\n      <g style=\"fill: #262626\" transform=\"translate(56.204609 125.136604) scale(0.121 -0.121)\">\n       <defs>\n        <path id=\"DejaVuSans-63\" d=\"M 3122 3366 \nL 3122 2828 \nQ 2878 2963 2633 3030 \nQ 2388 3097 2138 3097 \nQ 1578 3097 1268 2742 \nQ 959 2388 959 1747 \nQ 959 1106 1268 751 \nQ 1578 397 2138 397 \nQ 2388 397 2633 464 \nQ 2878 531 3122 666 \nL 3122 134 \nQ 2881 22 2623 -34 \nQ 2366 -91 2075 -91 \nQ 1284 -91 818 406 \nQ 353 903 353 1747 \nQ 353 2603 823 3093 \nQ 1294 3584 2113 3584 \nQ 2378 3584 2631 3529 \nQ 2884 3475 3122 3366 \nz\n\" transform=\"scale(0.015625)\"/>\n       </defs>\n       <use xlink:href=\"#DejaVuSans-63\"/>\n       <use xlink:href=\"#DejaVuSans-61\" x=\"54.980469\"/>\n      </g>\n     </g>\n    </g>\n    <g id=\"ytick_26\">\n     <g id=\"text_33\">\n      <!-- pl -->\n      <g style=\"fill: #262626\" transform=\"translate(59.229609 129.108425) scale(0.121 -0.121)\">\n       <defs>\n        <path id=\"DejaVuSans-70\" d=\"M 1159 525 \nL 1159 -1331 \nL 581 -1331 \nL 581 3500 \nL 1159 3500 \nL 1159 2969 \nQ 1341 3281 1617 3432 \nQ 1894 3584 2278 3584 \nQ 2916 3584 3314 3078 \nQ 3713 2572 3713 1747 \nQ 3713 922 3314 415 \nQ 2916 -91 2278 -91 \nQ 1894 -91 1617 61 \nQ 1341 213 1159 525 \nz\nM 3116 1747 \nQ 3116 2381 2855 2742 \nQ 2594 3103 2138 3103 \nQ 1681 3103 1420 2742 \nQ 1159 2381 1159 1747 \nQ 1159 1113 1420 752 \nQ 1681 391 2138 391 \nQ 2594 391 2855 752 \nQ 3116 1113 3116 1747 \nz\n\" transform=\"scale(0.015625)\"/>\n       </defs>\n       <use xlink:href=\"#DejaVuSans-70\"/>\n       <use xlink:href=\"#DejaVuSans-6c\" x=\"63.476562\"/>\n      </g>\n     </g>\n    </g>\n    <g id=\"ytick_27\">\n     <g id=\"text_34\">\n      <!-- su -->\n      <g style=\"fill: #262626\" transform=\"translate(56.301031 133.080246) scale(0.121 -0.121)\">\n       <use xlink:href=\"#DejaVuSans-73\"/>\n       <use xlink:href=\"#DejaVuSans-75\" x=\"52.099609\"/>\n      </g>\n     </g>\n    </g>\n    <g id=\"ytick_28\">\n     <g id=\"text_35\">\n      <!-- mt -->\n      <g style=\"fill: #262626\" transform=\"translate(53.743016 137.052067) scale(0.121 -0.121)\">\n       <use xlink:href=\"#DejaVuSans-6d\"/>\n       <use xlink:href=\"#DejaVuSans-74\" x=\"97.412109\"/>\n      </g>\n     </g>\n    </g>\n    <g id=\"ytick_29\">\n     <g id=\"text_36\">\n      <!-- es -->\n      <g style=\"fill: #262626\" transform=\"translate(56.524125 141.023888) scale(0.121 -0.121)\">\n       <use xlink:href=\"#DejaVuSans-65\"/>\n       <use xlink:href=\"#DejaVuSans-73\" x=\"61.523438\"/>\n      </g>\n     </g>\n    </g>\n    <g id=\"ytick_30\">\n     <g id=\"text_37\">\n      <!-- st -->\n      <g style=\"fill: #262626\" transform=\"translate(59.225828 144.995709) scale(0.121 -0.121)\">\n       <use xlink:href=\"#DejaVuSans-73\"/>\n       <use xlink:href=\"#DejaVuSans-74\" x=\"52.099609\"/>\n      </g>\n     </g>\n    </g>\n    <g id=\"ytick_31\">\n     <g id=\"text_38\">\n      <!-- et -->\n      <g style=\"fill: #262626\" transform=\"translate(58.083891 148.96753) scale(0.121 -0.121)\">\n       <use xlink:href=\"#DejaVuSans-65\"/>\n       <use xlink:href=\"#DejaVuSans-74\" x=\"61.523438\"/>\n      </g>\n     </g>\n    </g>\n    <g id=\"ytick_32\">\n     <g id=\"text_39\">\n      <!-- yo -->\n      <g style=\"fill: #262626\" transform=\"translate(55.707375 152.93935) scale(0.121 -0.121)\">\n       <defs>\n        <path id=\"DejaVuSans-6f\" d=\"M 1959 3097 \nQ 1497 3097 1228 2736 \nQ 959 2375 959 1747 \nQ 959 1119 1226 758 \nQ 1494 397 1959 397 \nQ 2419 397 2687 759 \nQ 2956 1122 2956 1747 \nQ 2956 2369 2687 2733 \nQ 2419 3097 1959 3097 \nz\nM 1959 3584 \nQ 2709 3584 3137 3096 \nQ 3566 2609 3566 1747 \nQ 3566 888 3137 398 \nQ 2709 -91 1959 -91 \nQ 1206 -91 779 398 \nQ 353 888 353 1747 \nQ 353 2609 779 3096 \nQ 1206 3584 1959 3584 \nz\n\" transform=\"scale(0.015625)\"/>\n       </defs>\n       <use xlink:href=\"#DejaVuSans-79\"/>\n       <use xlink:href=\"#DejaVuSans-6f\" x=\"59.179688\"/>\n      </g>\n     </g>\n    </g>\n    <g id=\"ytick_33\">\n     <g id=\"text_40\">\n      <!-- no -->\n      <g style=\"fill: #262626\" transform=\"translate(55.200688 156.911171) scale(0.121 -0.121)\">\n       <use xlink:href=\"#DejaVuSans-6e\"/>\n       <use xlink:href=\"#DejaVuSans-6f\" x=\"63.378906\"/>\n      </g>\n     </g>\n    </g>\n    <g id=\"ytick_34\">\n     <g id=\"text_41\">\n      <!-- co -->\n      <g style=\"fill: #262626\" transform=\"translate(56.215953 160.882992) scale(0.121 -0.121)\">\n       <use xlink:href=\"#DejaVuSans-63\"/>\n       <use xlink:href=\"#DejaVuSans-6f\" x=\"54.980469\"/>\n      </g>\n     </g>\n    </g>\n    <g id=\"ytick_35\">\n     <g id=\"text_42\">\n      <!-- ja-Latn -->\n      <g style=\"fill: #262626\" transform=\"translate(28.561781 164.854813) scale(0.121 -0.121)\">\n       <use xlink:href=\"#DejaVuSans-6a\"/>\n       <use xlink:href=\"#DejaVuSans-61\" x=\"27.783203\"/>\n       <use xlink:href=\"#DejaVuSans-2d\" x=\"89.0625\"/>\n       <use xlink:href=\"#DejaVuSans-4c\" x=\"125.146484\"/>\n       <use xlink:href=\"#DejaVuSans-61\" x=\"180.859375\"/>\n       <use xlink:href=\"#DejaVuSans-74\" x=\"242.138672\"/>\n       <use xlink:href=\"#DejaVuSans-6e\" x=\"281.347656\"/>\n      </g>\n     </g>\n    </g>\n    <g id=\"ytick_36\">\n     <g id=\"text_43\">\n      <!-- sv -->\n      <g style=\"fill: #262626\" transform=\"translate(56.807719 168.826634) scale(0.121 -0.121)\">\n       <use xlink:href=\"#DejaVuSans-73\"/>\n       <use xlink:href=\"#DejaVuSans-76\" x=\"52.099609\"/>\n      </g>\n     </g>\n    </g>\n    <g id=\"ytick_37\">\n     <g id=\"text_44\">\n      <!-- ga -->\n      <g style=\"fill: #262626\" transform=\"translate(55.176109 172.798455) scale(0.121 -0.121)\">\n       <use xlink:href=\"#DejaVuSans-67\"/>\n       <use xlink:href=\"#DejaVuSans-61\" x=\"63.476562\"/>\n      </g>\n     </g>\n    </g>\n    <g id=\"ytick_38\">\n     <g id=\"text_45\">\n      <!-- bg-Latn -->\n      <g style=\"fill: #262626\" transform=\"translate(23.975125 176.770276) scale(0.121 -0.121)\">\n       <use xlink:href=\"#DejaVuSans-62\"/>\n       <use xlink:href=\"#DejaVuSans-67\" x=\"63.476562\"/>\n       <use xlink:href=\"#DejaVuSans-2d\" x=\"126.953125\"/>\n       <use xlink:href=\"#DejaVuSans-4c\" x=\"163.037109\"/>\n       <use xlink:href=\"#DejaVuSans-61\" x=\"218.75\"/>\n       <use xlink:href=\"#DejaVuSans-74\" x=\"280.029297\"/>\n       <use xlink:href=\"#DejaVuSans-6e\" x=\"319.238281\"/>\n      </g>\n     </g>\n    </g>\n    <g id=\"ytick_39\">\n     <g id=\"text_46\">\n      <!-- sl -->\n      <g style=\"fill: #262626\" transform=\"translate(60.607875 180.742097) scale(0.121 -0.121)\">\n       <use xlink:href=\"#DejaVuSans-73\"/>\n       <use xlink:href=\"#DejaVuSans-6c\" x=\"52.099609\"/>\n      </g>\n     </g>\n    </g>\n    <g id=\"ytick_40\">\n     <g id=\"text_47\">\n      <!-- bs -->\n      <g style=\"fill: #262626\" transform=\"translate(56.287797 184.713918) scale(0.121 -0.121)\">\n       <use xlink:href=\"#DejaVuSans-62\"/>\n       <use xlink:href=\"#DejaVuSans-73\" x=\"63.476562\"/>\n      </g>\n     </g>\n    </g>\n    <g id=\"ytick_41\">\n     <g id=\"text_48\">\n      <!-- so -->\n      <g style=\"fill: #262626\" transform=\"translate(56.565719 188.685738) scale(0.121 -0.121)\">\n       <use xlink:href=\"#DejaVuSans-73\"/>\n       <use xlink:href=\"#DejaVuSans-6f\" x=\"52.099609\"/>\n      </g>\n     </g>\n    </g>\n    <g id=\"ytick_42\">\n     <g id=\"text_49\">\n      <!-- pt -->\n      <g style=\"fill: #262626\" transform=\"translate(57.847563 192.657559) scale(0.121 -0.121)\">\n       <use xlink:href=\"#DejaVuSans-70\"/>\n       <use xlink:href=\"#DejaVuSans-74\" x=\"63.476562\"/>\n      </g>\n     </g>\n    </g>\n    <g id=\"ytick_43\">\n     <g id=\"text_50\">\n      <!-- sr -->\n      <g style=\"fill: #262626\" transform=\"translate(58.995172 196.62938) scale(0.121 -0.121)\">\n       <use xlink:href=\"#DejaVuSans-73\"/>\n       <use xlink:href=\"#DejaVuSans-72\" x=\"52.099609\"/>\n      </g>\n     </g>\n    </g>\n    <g id=\"ytick_44\">\n     <g id=\"text_51\">\n      <!-- zh-Latn -->\n      <g style=\"fill: #262626\" transform=\"translate(25.319359 200.601201) scale(0.121 -0.121)\">\n       <use xlink:href=\"#DejaVuSans-7a\"/>\n       <use xlink:href=\"#DejaVuSans-68\" x=\"52.490234\"/>\n       <use xlink:href=\"#DejaVuSans-2d\" x=\"115.869141\"/>\n       <use xlink:href=\"#DejaVuSans-4c\" x=\"151.953125\"/>\n       <use xlink:href=\"#DejaVuSans-61\" x=\"207.666016\"/>\n       <use xlink:href=\"#DejaVuSans-74\" x=\"268.945312\"/>\n       <use xlink:href=\"#DejaVuSans-6e\" x=\"308.154297\"/>\n      </g>\n     </g>\n    </g>\n    <g id=\"ytick_45\">\n     <g id=\"text_52\">\n      <!-- sq -->\n      <g style=\"fill: #262626\" transform=\"translate(56.287797 204.573022) scale(0.121 -0.121)\">\n       <defs>\n        <path id=\"DejaVuSans-71\" d=\"M 947 1747 \nQ 947 1113 1208 752 \nQ 1469 391 1925 391 \nQ 2381 391 2643 752 \nQ 2906 1113 2906 1747 \nQ 2906 2381 2643 2742 \nQ 2381 3103 1925 3103 \nQ 1469 3103 1208 2742 \nQ 947 2381 947 1747 \nz\nM 2906 525 \nQ 2725 213 2448 61 \nQ 2172 -91 1784 -91 \nQ 1150 -91 751 415 \nQ 353 922 353 1747 \nQ 353 2572 751 3078 \nQ 1150 3584 1784 3584 \nQ 2172 3584 2448 3432 \nQ 2725 3281 2906 2969 \nL 2906 3500 \nL 3481 3500 \nL 3481 -1331 \nL 2906 -1331 \nL 2906 525 \nz\n\" transform=\"scale(0.015625)\"/>\n       </defs>\n       <use xlink:href=\"#DejaVuSans-73\"/>\n       <use xlink:href=\"#DejaVuSans-71\" x=\"52.099609\"/>\n      </g>\n     </g>\n    </g>\n    <g id=\"ytick_46\">\n     <g id=\"text_53\">\n      <!-- cy -->\n      <g style=\"fill: #262626\" transform=\"translate(56.457953 208.544843) scale(0.121 -0.121)\">\n       <use xlink:href=\"#DejaVuSans-63\"/>\n       <use xlink:href=\"#DejaVuSans-79\" x=\"54.980469\"/>\n      </g>\n     </g>\n    </g>\n    <g id=\"ytick_47\">\n     <g id=\"text_54\">\n      <!-- ht -->\n      <g style=\"fill: #262626\" transform=\"translate(57.860797 212.516664) scale(0.121 -0.121)\">\n       <use xlink:href=\"#DejaVuSans-68\"/>\n       <use xlink:href=\"#DejaVuSans-74\" x=\"63.378906\"/>\n      </g>\n     </g>\n    </g>\n    <g id=\"ytick_48\">\n     <g id=\"text_55\">\n      <!-- fi -->\n      <g style=\"fill: #262626\" transform=\"translate(62.651641 216.488485) scale(0.121 -0.121)\">\n       <use xlink:href=\"#DejaVuSans-66\"/>\n       <use xlink:href=\"#DejaVuSans-69\" x=\"35.205078\"/>\n      </g>\n     </g>\n    </g>\n    <g id=\"ytick_49\">\n     <g id=\"text_56\">\n      <!-- hmn -->\n      <g style=\"fill: #262626\" transform=\"translate(43.149844 220.460306) scale(0.121 -0.121)\">\n       <use xlink:href=\"#DejaVuSans-68\"/>\n       <use xlink:href=\"#DejaVuSans-6d\" x=\"63.378906\"/>\n       <use xlink:href=\"#DejaVuSans-6e\" x=\"160.791016\"/>\n      </g>\n     </g>\n    </g>\n    <g id=\"ytick_50\">\n     <g id=\"text_57\">\n      <!-- lv -->\n      <g style=\"fill: #262626\" transform=\"translate(59.749531 224.432127) scale(0.121 -0.121)\">\n       <use xlink:href=\"#DejaVuSans-6c\"/>\n       <use xlink:href=\"#DejaVuSans-76\" x=\"27.783203\"/>\n      </g>\n     </g>\n    </g>\n    <g id=\"ytick_51\">\n     <g id=\"text_58\">\n      <!-- ha -->\n      <g style=\"fill: #262626\" transform=\"translate(55.189344 228.403947) scale(0.121 -0.121)\">\n       <use xlink:href=\"#DejaVuSans-68\"/>\n       <use xlink:href=\"#DejaVuSans-61\" x=\"63.378906\"/>\n      </g>\n     </g>\n    </g>\n    <g id=\"ytick_52\">\n     <g id=\"text_59\">\n      <!-- ms -->\n      <g style=\"fill: #262626\" transform=\"translate(52.18325 232.375768) scale(0.121 -0.121)\">\n       <use xlink:href=\"#DejaVuSans-6d\"/>\n       <use xlink:href=\"#DejaVuSans-73\" x=\"97.412109\"/>\n      </g>\n     </g>\n    </g>\n    <g id=\"ytick_53\">\n     <g id=\"text_60\">\n      <!-- gd -->\n      <g style=\"fill: #262626\" transform=\"translate(54.909531 236.347589) scale(0.121 -0.121)\">\n       <use xlink:href=\"#DejaVuSans-67\"/>\n       <use xlink:href=\"#DejaVuSans-64\" x=\"63.476562\"/>\n      </g>\n     </g>\n    </g>\n    <g id=\"ytick_54\">\n     <g id=\"text_61\">\n      <!-- ceb -->\n      <g style=\"fill: #262626\" transform=\"translate(48.49275 240.31941) scale(0.121 -0.121)\">\n       <use xlink:href=\"#DejaVuSans-63\"/>\n       <use xlink:href=\"#DejaVuSans-65\" x=\"54.980469\"/>\n       <use xlink:href=\"#DejaVuSans-62\" x=\"116.503906\"/>\n      </g>\n     </g>\n    </g>\n    <g id=\"ytick_55\">\n     <g id=\"text_62\">\n      <!-- zh -->\n      <g style=\"fill: #262626\" transform=\"translate(56.253766 244.291231) scale(0.121 -0.121)\">\n       <use xlink:href=\"#DejaVuSans-7a\"/>\n       <use xlink:href=\"#DejaVuSans-68\" x=\"52.490234\"/>\n      </g>\n     </g>\n    </g>\n    <g id=\"ytick_56\">\n     <g id=\"text_63\">\n      <!-- eo -->\n      <g style=\"fill: #262626\" transform=\"translate(55.423781 248.263052) scale(0.121 -0.121)\">\n       <use xlink:href=\"#DejaVuSans-65\"/>\n       <use xlink:href=\"#DejaVuSans-6f\" x=\"61.523438\"/>\n      </g>\n     </g>\n    </g>\n    <g id=\"ytick_57\">\n     <g id=\"text_64\">\n      <!-- eu -->\n      <g style=\"fill: #262626\" transform=\"translate(55.159094 252.234873) scale(0.121 -0.121)\">\n       <use xlink:href=\"#DejaVuSans-65\"/>\n       <use xlink:href=\"#DejaVuSans-75\" x=\"61.523438\"/>\n      </g>\n     </g>\n    </g>\n    <g id=\"ytick_58\">\n     <g id=\"text_65\">\n      <!-- tg -->\n      <g style=\"fill: #262626\" transform=\"translate(57.847563 256.206694) scale(0.121 -0.121)\">\n       <use xlink:href=\"#DejaVuSans-74\"/>\n       <use xlink:href=\"#DejaVuSans-67\" x=\"39.208984\"/>\n      </g>\n     </g>\n    </g>\n    <g id=\"ytick_59\">\n     <g id=\"text_66\">\n      <!-- hi-Latn -->\n      <g style=\"fill: #262626\" transform=\"translate(28.308437 260.178515) scale(0.121 -0.121)\">\n       <use xlink:href=\"#DejaVuSans-68\"/>\n       <use xlink:href=\"#DejaVuSans-69\" x=\"63.378906\"/>\n       <use xlink:href=\"#DejaVuSans-2d\" x=\"91.162109\"/>\n       <use xlink:href=\"#DejaVuSans-4c\" x=\"127.246094\"/>\n       <use xlink:href=\"#DejaVuSans-61\" x=\"182.958984\"/>\n       <use xlink:href=\"#DejaVuSans-74\" x=\"244.238281\"/>\n       <use xlink:href=\"#DejaVuSans-6e\" x=\"283.447266\"/>\n      </g>\n     </g>\n    </g>\n    <g id=\"ytick_60\">\n     <g id=\"text_67\">\n      <!-- gl -->\n      <g style=\"fill: #262626\" transform=\"translate(59.229609 264.150335) scale(0.121 -0.121)\">\n       <use xlink:href=\"#DejaVuSans-67\"/>\n       <use xlink:href=\"#DejaVuSans-6c\" x=\"63.476562\"/>\n      </g>\n     </g>\n    </g>\n    <g id=\"ytick_61\">\n     <g id=\"text_68\">\n      <!-- hr -->\n      <g style=\"fill: #262626\" transform=\"translate(57.630141 268.122156) scale(0.121 -0.121)\">\n       <use xlink:href=\"#DejaVuSans-68\"/>\n       <use xlink:href=\"#DejaVuSans-72\" x=\"63.378906\"/>\n      </g>\n     </g>\n    </g>\n    <g id=\"ytick_62\">\n     <g id=\"text_69\">\n      <!-- hu -->\n      <g style=\"fill: #262626\" transform=\"translate(54.936 272.093977) scale(0.121 -0.121)\">\n       <use xlink:href=\"#DejaVuSans-68\"/>\n       <use xlink:href=\"#DejaVuSans-75\" x=\"63.378906\"/>\n      </g>\n     </g>\n    </g>\n    <g id=\"ytick_63\">\n     <g id=\"text_70\">\n      <!-- bg -->\n      <g style=\"fill: #262626\" transform=\"translate(54.909531 276.065798) scale(0.121 -0.121)\">\n       <use xlink:href=\"#DejaVuSans-62\"/>\n       <use xlink:href=\"#DejaVuSans-67\" x=\"63.476562\"/>\n      </g>\n     </g>\n    </g>\n    <g id=\"ytick_64\">\n     <g id=\"text_71\">\n      <!-- sk -->\n      <g style=\"fill: #262626\" transform=\"translate(56.96275 280.037619) scale(0.121 -0.121)\">\n       <defs>\n        <path id=\"DejaVuSans-6b\" d=\"M 581 4863 \nL 1159 4863 \nL 1159 1991 \nL 2875 3500 \nL 3609 3500 \nL 1753 1863 \nL 3688 0 \nL 2938 0 \nL 1159 1709 \nL 1159 0 \nL 581 0 \nL 581 4863 \nz\n\" transform=\"scale(0.015625)\"/>\n       </defs>\n       <use xlink:href=\"#DejaVuSans-73\"/>\n       <use xlink:href=\"#DejaVuSans-6b\" x=\"52.099609\"/>\n      </g>\n     </g>\n    </g>\n    <g id=\"ytick_65\">\n     <g id=\"text_72\">\n      <!-- lb -->\n      <g style=\"fill: #262626\" transform=\"translate(59.229609 284.00944) scale(0.121 -0.121)\">\n       <use xlink:href=\"#DejaVuSans-6c\"/>\n       <use xlink:href=\"#DejaVuSans-62\" x=\"27.783203\"/>\n      </g>\n     </g>\n    </g>\n    <g id=\"ytick_66\">\n     <g id=\"text_73\">\n      <!-- ro -->\n      <g style=\"fill: #262626\" transform=\"translate(58.167078 287.981261) scale(0.121 -0.121)\">\n       <use xlink:href=\"#DejaVuSans-72\"/>\n       <use xlink:href=\"#DejaVuSans-6f\" x=\"38.863281\"/>\n      </g>\n     </g>\n    </g>\n    <g id=\"ytick_67\">\n     <g id=\"text_74\">\n      <!-- lt -->\n      <g style=\"fill: #262626\" transform=\"translate(62.167641 291.953082) scale(0.121 -0.121)\">\n       <use xlink:href=\"#DejaVuSans-6c\"/>\n       <use xlink:href=\"#DejaVuSans-74\" x=\"27.783203\"/>\n      </g>\n     </g>\n    </g>\n    <g id=\"text_75\">\n     <!-- Counts -->\n     <g style=\"fill: #262626\" transform=\"translate(17.229937 179.324062) rotate(-90) scale(0.132 -0.132)\">\n      <defs>\n       <path id=\"DejaVuSans-43\" d=\"M 4122 4306 \nL 4122 3641 \nQ 3803 3938 3442 4084 \nQ 3081 4231 2675 4231 \nQ 1875 4231 1450 3742 \nQ 1025 3253 1025 2328 \nQ 1025 1406 1450 917 \nQ 1875 428 2675 428 \nQ 3081 428 3442 575 \nQ 3803 722 4122 1019 \nL 4122 359 \nQ 3791 134 3420 21 \nQ 3050 -91 2638 -91 \nQ 1578 -91 968 557 \nQ 359 1206 359 2328 \nQ 359 3453 968 4101 \nQ 1578 4750 2638 4750 \nQ 3056 4750 3426 4639 \nQ 3797 4528 4122 4306 \nz\n\" transform=\"scale(0.015625)\"/>\n      </defs>\n      <use xlink:href=\"#DejaVuSans-43\"/>\n      <use xlink:href=\"#DejaVuSans-6f\" x=\"69.824219\"/>\n      <use xlink:href=\"#DejaVuSans-75\" x=\"131.005859\"/>\n      <use xlink:href=\"#DejaVuSans-6e\" x=\"194.384766\"/>\n      <use xlink:href=\"#DejaVuSans-74\" x=\"257.763672\"/>\n      <use xlink:href=\"#DejaVuSans-73\" x=\"296.972656\"/>\n     </g>\n    </g>\n   </g>\n   <g id=\"patch_3\">\n    <path d=\"M 79.77275 23.62712 \nL 419.887036 23.62712 \nL 419.887036 26.804576 \nL 79.77275 26.804576 \nz\n\" clip-path=\"url(#p8864d8aae7)\" style=\"fill: #ea96a3; stroke: #ffffff; stroke-linejoin: miter\"/>\n   </g>\n   <g id=\"patch_4\">\n    <path d=\"M 79.77275 27.59894 \nL 92.163848 27.59894 \nL 92.163848 30.776397 \nL 79.77275 30.776397 \nz\n\" clip-path=\"url(#p8864d8aae7)\" style=\"fill: #ea979c; stroke: #ffffff; stroke-linejoin: miter\"/>\n   </g>\n   <g id=\"patch_5\">\n    <path d=\"M 79.77275 31.570761 \nL 86.039512 31.570761 \nL 86.039512 34.748218 \nL 79.77275 34.748218 \nz\n\" clip-path=\"url(#p8864d8aae7)\" style=\"fill: #e99793; stroke: #ffffff; stroke-linejoin: miter\"/>\n   </g>\n   <g id=\"patch_6\">\n    <path d=\"M 79.77275 35.542582 \nL 84.330395 35.542582 \nL 84.330395 38.720039 \nL 79.77275 38.720039 \nz\n\" clip-path=\"url(#p8864d8aae7)\" style=\"fill: #e89688; stroke: #ffffff; stroke-linejoin: miter\"/>\n   </g>\n   <g id=\"patch_7\">\n    <path d=\"M 79.77275 39.514403 \nL 83.190984 39.514403 \nL 83.190984 42.69186 \nL 79.77275 42.69186 \nz\n\" clip-path=\"url(#p8864d8aae7)\" style=\"fill: #e69579; stroke: #ffffff; stroke-linejoin: miter\"/>\n   </g>\n   <g id=\"patch_8\">\n    <path d=\"M 79.77275 43.486224 \nL 82.478852 43.486224 \nL 82.478852 46.663681 \nL 79.77275 46.663681 \nz\n\" clip-path=\"url(#p8864d8aae7)\" style=\"fill: #e39365; stroke: #ffffff; stroke-linejoin: miter\"/>\n   </g>\n   <g id=\"patch_9\">\n    <path d=\"M 79.77275 47.458045 \nL 81.624293 47.458045 \nL 81.624293 50.635502 \nL 79.77275 50.635502 \nz\n\" clip-path=\"url(#p8864d8aae7)\" style=\"fill: #dd924f; stroke: #ffffff; stroke-linejoin: miter\"/>\n   </g>\n   <g id=\"patch_10\">\n    <path d=\"M 79.77275 51.429866 \nL 81.481867 51.429866 \nL 81.481867 54.607323 \nL 79.77275 54.607323 \nz\n\" clip-path=\"url(#p8864d8aae7)\" style=\"fill: #d5954d; stroke: #ffffff; stroke-linejoin: miter\"/>\n   </g>\n   <g id=\"patch_11\">\n    <path d=\"M 79.77275 55.401687 \nL 81.339441 55.401687 \nL 81.339441 58.579143 \nL 79.77275 58.579143 \nz\n\" clip-path=\"url(#p8864d8aae7)\" style=\"fill: #cd974c; stroke: #ffffff; stroke-linejoin: miter\"/>\n   </g>\n   <g id=\"patch_12\">\n    <path d=\"M 79.77275 59.373508 \nL 81.339441 59.373508 \nL 81.339441 62.550964 \nL 79.77275 62.550964 \nz\n\" clip-path=\"url(#p8864d8aae7)\" style=\"fill: #c6994b; stroke: #ffffff; stroke-linejoin: miter\"/>\n   </g>\n   <g id=\"patch_13\">\n    <path d=\"M 79.77275 63.345329 \nL 81.339441 63.345329 \nL 81.339441 66.522785 \nL 79.77275 66.522785 \nz\n\" clip-path=\"url(#p8864d8aae7)\" style=\"fill: #c09a4a; stroke: #ffffff; stroke-linejoin: miter\"/>\n   </g>\n   <g id=\"patch_14\">\n    <path d=\"M 79.77275 67.317149 \nL 81.054588 67.317149 \nL 81.054588 70.494606 \nL 79.77275 70.494606 \nz\n\" clip-path=\"url(#p8864d8aae7)\" style=\"fill: #b99c49; stroke: #ffffff; stroke-linejoin: miter\"/>\n   </g>\n   <g id=\"patch_15\">\n    <path d=\"M 79.77275 71.28897 \nL 80.912161 71.28897 \nL 80.912161 74.466427 \nL 79.77275 74.466427 \nz\n\" clip-path=\"url(#p8864d8aae7)\" style=\"fill: #b49d48; stroke: #ffffff; stroke-linejoin: miter\"/>\n   </g>\n   <g id=\"patch_16\">\n    <path d=\"M 79.77275 75.260791 \nL 80.769735 75.260791 \nL 80.769735 78.438248 \nL 79.77275 78.438248 \nz\n\" clip-path=\"url(#p8864d8aae7)\" style=\"fill: #ae9e47; stroke: #ffffff; stroke-linejoin: miter\"/>\n   </g>\n   <g id=\"patch_17\">\n    <path d=\"M 79.77275 79.232612 \nL 80.769735 79.232612 \nL 80.769735 82.410069 \nL 79.77275 82.410069 \nz\n\" clip-path=\"url(#p8864d8aae7)\" style=\"fill: #a89e47; stroke: #ffffff; stroke-linejoin: miter\"/>\n   </g>\n   <g id=\"patch_18\">\n    <path d=\"M 79.77275 83.204433 \nL 80.769735 83.204433 \nL 80.769735 86.38189 \nL 79.77275 86.38189 \nz\n\" clip-path=\"url(#p8864d8aae7)\" style=\"fill: #a29f46; stroke: #ffffff; stroke-linejoin: miter\"/>\n   </g>\n   <g id=\"patch_19\">\n    <path d=\"M 79.77275 87.176254 \nL 80.769735 87.176254 \nL 80.769735 90.353711 \nL 79.77275 90.353711 \nz\n\" clip-path=\"url(#p8864d8aae7)\" style=\"fill: #9ca145; stroke: #ffffff; stroke-linejoin: miter\"/>\n   </g>\n   <g id=\"patch_20\">\n    <path d=\"M 79.77275 91.148075 \nL 80.769735 91.148075 \nL 80.769735 94.325532 \nL 79.77275 94.325532 \nz\n\" clip-path=\"url(#p8864d8aae7)\" style=\"fill: #96a346; stroke: #ffffff; stroke-linejoin: miter\"/>\n   </g>\n   <g id=\"patch_21\">\n    <path d=\"M 79.77275 95.119896 \nL 80.627309 95.119896 \nL 80.627309 98.297352 \nL 79.77275 98.297352 \nz\n\" clip-path=\"url(#p8864d8aae7)\" style=\"fill: #90a446; stroke: #ffffff; stroke-linejoin: miter\"/>\n   </g>\n   <g id=\"patch_22\">\n    <path d=\"M 79.77275 99.091717 \nL 80.627309 99.091717 \nL 80.627309 102.269173 \nL 79.77275 102.269173 \nz\n\" clip-path=\"url(#p8864d8aae7)\" style=\"fill: #89a646; stroke: #ffffff; stroke-linejoin: miter\"/>\n   </g>\n   <g id=\"patch_23\">\n    <path d=\"M 79.77275 103.063537 \nL 80.627309 103.063537 \nL 80.627309 106.240994 \nL 79.77275 106.240994 \nz\n\" clip-path=\"url(#p8864d8aae7)\" style=\"fill: #80a946; stroke: #ffffff; stroke-linejoin: miter\"/>\n   </g>\n   <g id=\"patch_24\">\n    <path d=\"M 79.77275 107.035358 \nL 80.627309 107.035358 \nL 80.627309 110.212815 \nL 79.77275 110.212815 \nz\n\" clip-path=\"url(#p8864d8aae7)\" style=\"fill: #75ab47; stroke: #ffffff; stroke-linejoin: miter\"/>\n   </g>\n   <g id=\"patch_25\">\n    <path d=\"M 79.77275 111.007179 \nL 80.627309 111.007179 \nL 80.627309 114.184636 \nL 79.77275 114.184636 \nz\n\" clip-path=\"url(#p8864d8aae7)\" style=\"fill: #66ad47; stroke: #ffffff; stroke-linejoin: miter\"/>\n   </g>\n   <g id=\"patch_26\">\n    <path d=\"M 79.77275 114.979 \nL 80.484882 114.979 \nL 80.484882 118.156457 \nL 79.77275 118.156457 \nz\n\" clip-path=\"url(#p8864d8aae7)\" style=\"fill: #4eb047; stroke: #ffffff; stroke-linejoin: miter\"/>\n   </g>\n   <g id=\"patch_27\">\n    <path d=\"M 79.77275 118.950821 \nL 80.484882 118.950821 \nL 80.484882 122.128278 \nL 79.77275 122.128278 \nz\n\" clip-path=\"url(#p8864d8aae7)\" style=\"fill: #48b060; stroke: #ffffff; stroke-linejoin: miter\"/>\n   </g>\n   <g id=\"patch_28\">\n    <path d=\"M 79.77275 122.922642 \nL 80.484882 122.922642 \nL 80.484882 126.100099 \nL 79.77275 126.100099 \nz\n\" clip-path=\"url(#p8864d8aae7)\" style=\"fill: #48af71; stroke: #ffffff; stroke-linejoin: miter\"/>\n   </g>\n   <g id=\"patch_29\">\n    <path d=\"M 79.77275 126.894463 \nL 80.484882 126.894463 \nL 80.484882 130.07192 \nL 79.77275 130.07192 \nz\n\" clip-path=\"url(#p8864d8aae7)\" style=\"fill: #49af7c; stroke: #ffffff; stroke-linejoin: miter\"/>\n   </g>\n   <g id=\"patch_30\">\n    <path d=\"M 79.77275 130.866284 \nL 80.484882 130.866284 \nL 80.484882 134.04374 \nL 79.77275 134.04374 \nz\n\" clip-path=\"url(#p8864d8aae7)\" style=\"fill: #49ae84; stroke: #ffffff; stroke-linejoin: miter\"/>\n   </g>\n   <g id=\"patch_31\">\n    <path d=\"M 79.77275 134.838105 \nL 80.484882 134.838105 \nL 80.484882 138.015561 \nL 79.77275 138.015561 \nz\n\" clip-path=\"url(#p8864d8aae7)\" style=\"fill: #4aad8b; stroke: #ffffff; stroke-linejoin: miter\"/>\n   </g>\n   <g id=\"patch_32\">\n    <path d=\"M 79.77275 138.809926 \nL 80.342456 138.809926 \nL 80.342456 141.987382 \nL 79.77275 141.987382 \nz\n\" clip-path=\"url(#p8864d8aae7)\" style=\"fill: #4aad91; stroke: #ffffff; stroke-linejoin: miter\"/>\n   </g>\n   <g id=\"patch_33\">\n    <path d=\"M 79.77275 142.781746 \nL 80.342456 142.781746 \nL 80.342456 145.959203 \nL 79.77275 145.959203 \nz\n\" clip-path=\"url(#p8864d8aae7)\" style=\"fill: #4aad96; stroke: #ffffff; stroke-linejoin: miter\"/>\n   </g>\n   <g id=\"patch_34\">\n    <path d=\"M 79.77275 146.753567 \nL 80.342456 146.753567 \nL 80.342456 149.931024 \nL 79.77275 149.931024 \nz\n\" clip-path=\"url(#p8864d8aae7)\" style=\"fill: #4aac9a; stroke: #ffffff; stroke-linejoin: miter\"/>\n   </g>\n   <g id=\"patch_35\">\n    <path d=\"M 79.77275 150.725388 \nL 80.342456 150.725388 \nL 80.342456 153.902845 \nL 79.77275 153.902845 \nz\n\" clip-path=\"url(#p8864d8aae7)\" style=\"fill: #4bac9e; stroke: #ffffff; stroke-linejoin: miter\"/>\n   </g>\n   <g id=\"patch_36\">\n    <path d=\"M 79.77275 154.697209 \nL 80.200029 154.697209 \nL 80.200029 157.874666 \nL 79.77275 157.874666 \nz\n\" clip-path=\"url(#p8864d8aae7)\" style=\"fill: #4baba2; stroke: #ffffff; stroke-linejoin: miter\"/>\n   </g>\n   <g id=\"patch_37\">\n    <path d=\"M 79.77275 158.66903 \nL 80.200029 158.66903 \nL 80.200029 161.846487 \nL 79.77275 161.846487 \nz\n\" clip-path=\"url(#p8864d8aae7)\" style=\"fill: #4baba6; stroke: #ffffff; stroke-linejoin: miter\"/>\n   </g>\n   <g id=\"patch_38\">\n    <path d=\"M 79.77275 162.640851 \nL 80.200029 162.640851 \nL 80.200029 165.818308 \nL 79.77275 165.818308 \nz\n\" clip-path=\"url(#p8864d8aae7)\" style=\"fill: #4babaa; stroke: #ffffff; stroke-linejoin: miter\"/>\n   </g>\n   <g id=\"patch_39\">\n    <path d=\"M 79.77275 166.612672 \nL 80.200029 166.612672 \nL 80.200029 169.790129 \nL 79.77275 169.790129 \nz\n\" clip-path=\"url(#p8864d8aae7)\" style=\"fill: #4cabae; stroke: #ffffff; stroke-linejoin: miter\"/>\n   </g>\n   <g id=\"patch_40\">\n    <path d=\"M 79.77275 170.584493 \nL 80.200029 170.584493 \nL 80.200029 173.761949 \nL 79.77275 173.761949 \nz\n\" clip-path=\"url(#p8864d8aae7)\" style=\"fill: #4dabb2; stroke: #ffffff; stroke-linejoin: miter\"/>\n   </g>\n   <g id=\"patch_41\">\n    <path d=\"M 79.77275 174.556314 \nL 80.057603 174.556314 \nL 80.057603 177.73377 \nL 79.77275 177.73377 \nz\n\" clip-path=\"url(#p8864d8aae7)\" style=\"fill: #4eabb7; stroke: #ffffff; stroke-linejoin: miter\"/>\n   </g>\n   <g id=\"patch_42\">\n    <path d=\"M 79.77275 178.528135 \nL 80.057603 178.528135 \nL 80.057603 181.705591 \nL 79.77275 181.705591 \nz\n\" clip-path=\"url(#p8864d8aae7)\" style=\"fill: #4fabbc; stroke: #ffffff; stroke-linejoin: miter\"/>\n   </g>\n   <g id=\"patch_43\">\n    <path d=\"M 79.77275 182.499955 \nL 80.057603 182.499955 \nL 80.057603 185.677412 \nL 79.77275 185.677412 \nz\n\" clip-path=\"url(#p8864d8aae7)\" style=\"fill: #50acc1; stroke: #ffffff; stroke-linejoin: miter\"/>\n   </g>\n   <g id=\"patch_44\">\n    <path d=\"M 79.77275 186.471776 \nL 80.057603 186.471776 \nL 80.057603 189.649233 \nL 79.77275 189.649233 \nz\n\" clip-path=\"url(#p8864d8aae7)\" style=\"fill: #52acc7; stroke: #ffffff; stroke-linejoin: miter\"/>\n   </g>\n   <g id=\"patch_45\">\n    <path d=\"M 79.77275 190.443597 \nL 80.057603 190.443597 \nL 80.057603 193.621054 \nL 79.77275 193.621054 \nz\n\" clip-path=\"url(#p8864d8aae7)\" style=\"fill: #53acce; stroke: #ffffff; stroke-linejoin: miter\"/>\n   </g>\n   <g id=\"patch_46\">\n    <path d=\"M 79.77275 194.415418 \nL 80.057603 194.415418 \nL 80.057603 197.592875 \nL 79.77275 197.592875 \nz\n\" clip-path=\"url(#p8864d8aae7)\" style=\"fill: #55acd6; stroke: #ffffff; stroke-linejoin: miter\"/>\n   </g>\n   <g id=\"patch_47\">\n    <path d=\"M 79.77275 198.387239 \nL 80.057603 198.387239 \nL 80.057603 201.564696 \nL 79.77275 201.564696 \nz\n\" clip-path=\"url(#p8864d8aae7)\" style=\"fill: #59ade0; stroke: #ffffff; stroke-linejoin: miter\"/>\n   </g>\n   <g id=\"patch_48\">\n    <path d=\"M 79.77275 202.35906 \nL 80.057603 202.35906 \nL 80.057603 205.536517 \nL 79.77275 205.536517 \nz\n\" clip-path=\"url(#p8864d8aae7)\" style=\"fill: #74aee3; stroke: #ffffff; stroke-linejoin: miter\"/>\n   </g>\n   <g id=\"patch_49\">\n    <path d=\"M 79.77275 206.330881 \nL 80.057603 206.330881 \nL 80.057603 209.508337 \nL 79.77275 209.508337 \nz\n\" clip-path=\"url(#p8864d8aae7)\" style=\"fill: #87aee6; stroke: #ffffff; stroke-linejoin: miter\"/>\n   </g>\n   <g id=\"patch_50\">\n    <path d=\"M 79.77275 210.302702 \nL 80.057603 210.302702 \nL 80.057603 213.480158 \nL 79.77275 213.480158 \nz\n\" clip-path=\"url(#p8864d8aae7)\" style=\"fill: #95aee8; stroke: #ffffff; stroke-linejoin: miter\"/>\n   </g>\n   <g id=\"patch_51\">\n    <path d=\"M 79.77275 214.274523 \nL 80.057603 214.274523 \nL 80.057603 217.451979 \nL 79.77275 217.451979 \nz\n\" clip-path=\"url(#p8864d8aae7)\" style=\"fill: #a1adea; stroke: #ffffff; stroke-linejoin: miter\"/>\n   </g>\n   <g id=\"patch_52\">\n    <path d=\"M 79.77275 218.246343 \nL 80.057603 218.246343 \nL 80.057603 221.4238 \nL 79.77275 221.4238 \nz\n\" clip-path=\"url(#p8864d8aae7)\" style=\"fill: #acaceb; stroke: #ffffff; stroke-linejoin: miter\"/>\n   </g>\n   <g id=\"patch_53\">\n    <path d=\"M 79.77275 222.218164 \nL 80.057603 222.218164 \nL 80.057603 225.395621 \nL 79.77275 225.395621 \nz\n\" clip-path=\"url(#p8864d8aae7)\" style=\"fill: #b4a8eb; stroke: #ffffff; stroke-linejoin: miter\"/>\n   </g>\n   <g id=\"patch_54\">\n    <path d=\"M 79.77275 226.189985 \nL 79.915176 226.189985 \nL 79.915176 229.367442 \nL 79.77275 229.367442 \nz\n\" clip-path=\"url(#p8864d8aae7)\" style=\"fill: #bca5ea; stroke: #ffffff; stroke-linejoin: miter\"/>\n   </g>\n   <g id=\"patch_55\">\n    <path d=\"M 79.77275 230.161806 \nL 79.915176 230.161806 \nL 79.915176 233.339263 \nL 79.77275 233.339263 \nz\n\" clip-path=\"url(#p8864d8aae7)\" style=\"fill: #c3a2ea; stroke: #ffffff; stroke-linejoin: miter\"/>\n   </g>\n   <g id=\"patch_56\">\n    <path d=\"M 79.77275 234.133627 \nL 79.915176 234.133627 \nL 79.915176 237.311084 \nL 79.77275 237.311084 \nz\n\" clip-path=\"url(#p8864d8aae7)\" style=\"fill: #ca9ee9; stroke: #ffffff; stroke-linejoin: miter\"/>\n   </g>\n   <g id=\"patch_57\">\n    <path d=\"M 79.77275 238.105448 \nL 79.915176 238.105448 \nL 79.915176 241.282905 \nL 79.77275 241.282905 \nz\n\" clip-path=\"url(#p8864d8aae7)\" style=\"fill: #d199e9; stroke: #ffffff; stroke-linejoin: miter\"/>\n   </g>\n   <g id=\"patch_58\">\n    <path d=\"M 79.77275 242.077269 \nL 79.915176 242.077269 \nL 79.915176 245.254726 \nL 79.77275 245.254726 \nz\n\" clip-path=\"url(#p8864d8aae7)\" style=\"fill: #d894e8; stroke: #ffffff; stroke-linejoin: miter\"/>\n   </g>\n   <g id=\"patch_59\">\n    <path d=\"M 79.77275 246.04909 \nL 79.915176 246.04909 \nL 79.915176 249.226546 \nL 79.77275 249.226546 \nz\n\" clip-path=\"url(#p8864d8aae7)\" style=\"fill: #e08ee7; stroke: #ffffff; stroke-linejoin: miter\"/>\n   </g>\n   <g id=\"patch_60\">\n    <path d=\"M 79.77275 250.020911 \nL 79.915176 250.020911 \nL 79.915176 253.198367 \nL 79.77275 253.198367 \nz\n\" clip-path=\"url(#p8864d8aae7)\" style=\"fill: #e689e4; stroke: #ffffff; stroke-linejoin: miter\"/>\n   </g>\n   <g id=\"patch_61\">\n    <path d=\"M 79.77275 253.992732 \nL 79.915176 253.992732 \nL 79.915176 257.170188 \nL 79.77275 257.170188 \nz\n\" clip-path=\"url(#p8864d8aae7)\" style=\"fill: #e78bdc; stroke: #ffffff; stroke-linejoin: miter\"/>\n   </g>\n   <g id=\"patch_62\">\n    <path d=\"M 79.77275 257.964552 \nL 79.915176 257.964552 \nL 79.915176 261.142009 \nL 79.77275 261.142009 \nz\n\" clip-path=\"url(#p8864d8aae7)\" style=\"fill: #e78dd5; stroke: #ffffff; stroke-linejoin: miter\"/>\n   </g>\n   <g id=\"patch_63\">\n    <path d=\"M 79.77275 261.936373 \nL 79.915176 261.936373 \nL 79.915176 265.11383 \nL 79.77275 265.11383 \nz\n\" clip-path=\"url(#p8864d8aae7)\" style=\"fill: #e88ece; stroke: #ffffff; stroke-linejoin: miter\"/>\n   </g>\n   <g id=\"patch_64\">\n    <path d=\"M 79.77275 265.908194 \nL 79.915176 265.908194 \nL 79.915176 269.085651 \nL 79.77275 269.085651 \nz\n\" clip-path=\"url(#p8864d8aae7)\" style=\"fill: #e890c8; stroke: #ffffff; stroke-linejoin: miter\"/>\n   </g>\n   <g id=\"patch_65\">\n    <path d=\"M 79.77275 269.880015 \nL 79.915176 269.880015 \nL 79.915176 273.057472 \nL 79.77275 273.057472 \nz\n\" clip-path=\"url(#p8864d8aae7)\" style=\"fill: #e891c2; stroke: #ffffff; stroke-linejoin: miter\"/>\n   </g>\n   <g id=\"patch_66\">\n    <path d=\"M 79.77275 273.851836 \nL 79.915176 273.851836 \nL 79.915176 277.029293 \nL 79.77275 277.029293 \nz\n\" clip-path=\"url(#p8864d8aae7)\" style=\"fill: #e992bd; stroke: #ffffff; stroke-linejoin: miter\"/>\n   </g>\n   <g id=\"patch_67\">\n    <path d=\"M 79.77275 277.823657 \nL 79.915176 277.823657 \nL 79.915176 281.001114 \nL 79.77275 281.001114 \nz\n\" clip-path=\"url(#p8864d8aae7)\" style=\"fill: #e993b7; stroke: #ffffff; stroke-linejoin: miter\"/>\n   </g>\n   <g id=\"patch_68\">\n    <path d=\"M 79.77275 281.795478 \nL 79.915176 281.795478 \nL 79.915176 284.972935 \nL 79.77275 284.972935 \nz\n\" clip-path=\"url(#p8864d8aae7)\" style=\"fill: #e994b1; stroke: #ffffff; stroke-linejoin: miter\"/>\n   </g>\n   <g id=\"patch_69\">\n    <path d=\"M 79.77275 285.767299 \nL 79.915176 285.767299 \nL 79.915176 288.944755 \nL 79.77275 288.944755 \nz\n\" clip-path=\"url(#p8864d8aae7)\" style=\"fill: #e995ab; stroke: #ffffff; stroke-linejoin: miter\"/>\n   </g>\n   <g id=\"line2d_7\">\n    <path clip-path=\"url(#p8864d8aae7)\" style=\"fill: none; stroke: #424242; stroke-width: 2.7; stroke-linecap: round\"/>\n   </g>\n   <g id=\"line2d_8\">\n    <path clip-path=\"url(#p8864d8aae7)\" style=\"fill: none; stroke: #424242; stroke-width: 2.7; stroke-linecap: round\"/>\n   </g>\n   <g id=\"line2d_9\">\n    <path clip-path=\"url(#p8864d8aae7)\" style=\"fill: none; stroke: #424242; stroke-width: 2.7; stroke-linecap: round\"/>\n   </g>\n   <g id=\"line2d_10\">\n    <path clip-path=\"url(#p8864d8aae7)\" style=\"fill: none; stroke: #424242; stroke-width: 2.7; stroke-linecap: round\"/>\n   </g>\n   <g id=\"line2d_11\">\n    <path clip-path=\"url(#p8864d8aae7)\" style=\"fill: none; stroke: #424242; stroke-width: 2.7; stroke-linecap: round\"/>\n   </g>\n   <g id=\"line2d_12\">\n    <path clip-path=\"url(#p8864d8aae7)\" style=\"fill: none; stroke: #424242; stroke-width: 2.7; stroke-linecap: round\"/>\n   </g>\n   <g id=\"line2d_13\">\n    <path clip-path=\"url(#p8864d8aae7)\" style=\"fill: none; stroke: #424242; stroke-width: 2.7; stroke-linecap: round\"/>\n   </g>\n   <g id=\"line2d_14\">\n    <path clip-path=\"url(#p8864d8aae7)\" style=\"fill: none; stroke: #424242; stroke-width: 2.7; stroke-linecap: round\"/>\n   </g>\n   <g id=\"line2d_15\">\n    <path clip-path=\"url(#p8864d8aae7)\" style=\"fill: none; stroke: #424242; stroke-width: 2.7; stroke-linecap: round\"/>\n   </g>\n   <g id=\"line2d_16\">\n    <path clip-path=\"url(#p8864d8aae7)\" style=\"fill: none; stroke: #424242; stroke-width: 2.7; stroke-linecap: round\"/>\n   </g>\n   <g id=\"line2d_17\">\n    <path clip-path=\"url(#p8864d8aae7)\" style=\"fill: none; stroke: #424242; stroke-width: 2.7; stroke-linecap: round\"/>\n   </g>\n   <g id=\"line2d_18\">\n    <path clip-path=\"url(#p8864d8aae7)\" style=\"fill: none; stroke: #424242; stroke-width: 2.7; stroke-linecap: round\"/>\n   </g>\n   <g id=\"line2d_19\">\n    <path clip-path=\"url(#p8864d8aae7)\" style=\"fill: none; stroke: #424242; stroke-width: 2.7; stroke-linecap: round\"/>\n   </g>\n   <g id=\"line2d_20\">\n    <path clip-path=\"url(#p8864d8aae7)\" style=\"fill: none; stroke: #424242; stroke-width: 2.7; stroke-linecap: round\"/>\n   </g>\n   <g id=\"line2d_21\">\n    <path clip-path=\"url(#p8864d8aae7)\" style=\"fill: none; stroke: #424242; stroke-width: 2.7; stroke-linecap: round\"/>\n   </g>\n   <g id=\"line2d_22\">\n    <path clip-path=\"url(#p8864d8aae7)\" style=\"fill: none; stroke: #424242; stroke-width: 2.7; stroke-linecap: round\"/>\n   </g>\n   <g id=\"line2d_23\">\n    <path clip-path=\"url(#p8864d8aae7)\" style=\"fill: none; stroke: #424242; stroke-width: 2.7; stroke-linecap: round\"/>\n   </g>\n   <g id=\"line2d_24\">\n    <path clip-path=\"url(#p8864d8aae7)\" style=\"fill: none; stroke: #424242; stroke-width: 2.7; stroke-linecap: round\"/>\n   </g>\n   <g id=\"line2d_25\">\n    <path clip-path=\"url(#p8864d8aae7)\" style=\"fill: none; stroke: #424242; stroke-width: 2.7; stroke-linecap: round\"/>\n   </g>\n   <g id=\"line2d_26\">\n    <path clip-path=\"url(#p8864d8aae7)\" style=\"fill: none; stroke: #424242; stroke-width: 2.7; stroke-linecap: round\"/>\n   </g>\n   <g id=\"line2d_27\">\n    <path clip-path=\"url(#p8864d8aae7)\" style=\"fill: none; stroke: #424242; stroke-width: 2.7; stroke-linecap: round\"/>\n   </g>\n   <g id=\"line2d_28\">\n    <path clip-path=\"url(#p8864d8aae7)\" style=\"fill: none; stroke: #424242; stroke-width: 2.7; stroke-linecap: round\"/>\n   </g>\n   <g id=\"line2d_29\">\n    <path clip-path=\"url(#p8864d8aae7)\" style=\"fill: none; stroke: #424242; stroke-width: 2.7; stroke-linecap: round\"/>\n   </g>\n   <g id=\"line2d_30\">\n    <path clip-path=\"url(#p8864d8aae7)\" style=\"fill: none; stroke: #424242; stroke-width: 2.7; stroke-linecap: round\"/>\n   </g>\n   <g id=\"line2d_31\">\n    <path clip-path=\"url(#p8864d8aae7)\" style=\"fill: none; stroke: #424242; stroke-width: 2.7; stroke-linecap: round\"/>\n   </g>\n   <g id=\"line2d_32\">\n    <path clip-path=\"url(#p8864d8aae7)\" style=\"fill: none; stroke: #424242; stroke-width: 2.7; stroke-linecap: round\"/>\n   </g>\n   <g id=\"line2d_33\">\n    <path clip-path=\"url(#p8864d8aae7)\" style=\"fill: none; stroke: #424242; stroke-width: 2.7; stroke-linecap: round\"/>\n   </g>\n   <g id=\"line2d_34\">\n    <path clip-path=\"url(#p8864d8aae7)\" style=\"fill: none; stroke: #424242; stroke-width: 2.7; stroke-linecap: round\"/>\n   </g>\n   <g id=\"line2d_35\">\n    <path clip-path=\"url(#p8864d8aae7)\" style=\"fill: none; stroke: #424242; stroke-width: 2.7; stroke-linecap: round\"/>\n   </g>\n   <g id=\"line2d_36\">\n    <path clip-path=\"url(#p8864d8aae7)\" style=\"fill: none; stroke: #424242; stroke-width: 2.7; stroke-linecap: round\"/>\n   </g>\n   <g id=\"line2d_37\">\n    <path clip-path=\"url(#p8864d8aae7)\" style=\"fill: none; stroke: #424242; stroke-width: 2.7; stroke-linecap: round\"/>\n   </g>\n   <g id=\"line2d_38\">\n    <path clip-path=\"url(#p8864d8aae7)\" style=\"fill: none; stroke: #424242; stroke-width: 2.7; stroke-linecap: round\"/>\n   </g>\n   <g id=\"line2d_39\">\n    <path clip-path=\"url(#p8864d8aae7)\" style=\"fill: none; stroke: #424242; stroke-width: 2.7; stroke-linecap: round\"/>\n   </g>\n   <g id=\"line2d_40\">\n    <path clip-path=\"url(#p8864d8aae7)\" style=\"fill: none; stroke: #424242; stroke-width: 2.7; stroke-linecap: round\"/>\n   </g>\n   <g id=\"line2d_41\">\n    <path clip-path=\"url(#p8864d8aae7)\" style=\"fill: none; stroke: #424242; stroke-width: 2.7; stroke-linecap: round\"/>\n   </g>\n   <g id=\"line2d_42\">\n    <path clip-path=\"url(#p8864d8aae7)\" style=\"fill: none; stroke: #424242; stroke-width: 2.7; stroke-linecap: round\"/>\n   </g>\n   <g id=\"line2d_43\">\n    <path clip-path=\"url(#p8864d8aae7)\" style=\"fill: none; stroke: #424242; stroke-width: 2.7; stroke-linecap: round\"/>\n   </g>\n   <g id=\"line2d_44\">\n    <path clip-path=\"url(#p8864d8aae7)\" style=\"fill: none; stroke: #424242; stroke-width: 2.7; stroke-linecap: round\"/>\n   </g>\n   <g id=\"line2d_45\">\n    <path clip-path=\"url(#p8864d8aae7)\" style=\"fill: none; stroke: #424242; stroke-width: 2.7; stroke-linecap: round\"/>\n   </g>\n   <g id=\"line2d_46\">\n    <path clip-path=\"url(#p8864d8aae7)\" style=\"fill: none; stroke: #424242; stroke-width: 2.7; stroke-linecap: round\"/>\n   </g>\n   <g id=\"line2d_47\">\n    <path clip-path=\"url(#p8864d8aae7)\" style=\"fill: none; stroke: #424242; stroke-width: 2.7; stroke-linecap: round\"/>\n   </g>\n   <g id=\"line2d_48\">\n    <path clip-path=\"url(#p8864d8aae7)\" style=\"fill: none; stroke: #424242; stroke-width: 2.7; stroke-linecap: round\"/>\n   </g>\n   <g id=\"line2d_49\">\n    <path clip-path=\"url(#p8864d8aae7)\" style=\"fill: none; stroke: #424242; stroke-width: 2.7; stroke-linecap: round\"/>\n   </g>\n   <g id=\"line2d_50\">\n    <path clip-path=\"url(#p8864d8aae7)\" style=\"fill: none; stroke: #424242; stroke-width: 2.7; stroke-linecap: round\"/>\n   </g>\n   <g id=\"line2d_51\">\n    <path clip-path=\"url(#p8864d8aae7)\" style=\"fill: none; stroke: #424242; stroke-width: 2.7; stroke-linecap: round\"/>\n   </g>\n   <g id=\"line2d_52\">\n    <path clip-path=\"url(#p8864d8aae7)\" style=\"fill: none; stroke: #424242; stroke-width: 2.7; stroke-linecap: round\"/>\n   </g>\n   <g id=\"line2d_53\">\n    <path clip-path=\"url(#p8864d8aae7)\" style=\"fill: none; stroke: #424242; stroke-width: 2.7; stroke-linecap: round\"/>\n   </g>\n   <g id=\"line2d_54\">\n    <path clip-path=\"url(#p8864d8aae7)\" style=\"fill: none; stroke: #424242; stroke-width: 2.7; stroke-linecap: round\"/>\n   </g>\n   <g id=\"line2d_55\">\n    <path clip-path=\"url(#p8864d8aae7)\" style=\"fill: none; stroke: #424242; stroke-width: 2.7; stroke-linecap: round\"/>\n   </g>\n   <g id=\"line2d_56\">\n    <path clip-path=\"url(#p8864d8aae7)\" style=\"fill: none; stroke: #424242; stroke-width: 2.7; stroke-linecap: round\"/>\n   </g>\n   <g id=\"line2d_57\">\n    <path clip-path=\"url(#p8864d8aae7)\" style=\"fill: none; stroke: #424242; stroke-width: 2.7; stroke-linecap: round\"/>\n   </g>\n   <g id=\"line2d_58\">\n    <path clip-path=\"url(#p8864d8aae7)\" style=\"fill: none; stroke: #424242; stroke-width: 2.7; stroke-linecap: round\"/>\n   </g>\n   <g id=\"line2d_59\">\n    <path clip-path=\"url(#p8864d8aae7)\" style=\"fill: none; stroke: #424242; stroke-width: 2.7; stroke-linecap: round\"/>\n   </g>\n   <g id=\"line2d_60\">\n    <path clip-path=\"url(#p8864d8aae7)\" style=\"fill: none; stroke: #424242; stroke-width: 2.7; stroke-linecap: round\"/>\n   </g>\n   <g id=\"line2d_61\">\n    <path clip-path=\"url(#p8864d8aae7)\" style=\"fill: none; stroke: #424242; stroke-width: 2.7; stroke-linecap: round\"/>\n   </g>\n   <g id=\"line2d_62\">\n    <path clip-path=\"url(#p8864d8aae7)\" style=\"fill: none; stroke: #424242; stroke-width: 2.7; stroke-linecap: round\"/>\n   </g>\n   <g id=\"line2d_63\">\n    <path clip-path=\"url(#p8864d8aae7)\" style=\"fill: none; stroke: #424242; stroke-width: 2.7; stroke-linecap: round\"/>\n   </g>\n   <g id=\"line2d_64\">\n    <path clip-path=\"url(#p8864d8aae7)\" style=\"fill: none; stroke: #424242; stroke-width: 2.7; stroke-linecap: round\"/>\n   </g>\n   <g id=\"line2d_65\">\n    <path clip-path=\"url(#p8864d8aae7)\" style=\"fill: none; stroke: #424242; stroke-width: 2.7; stroke-linecap: round\"/>\n   </g>\n   <g id=\"line2d_66\">\n    <path clip-path=\"url(#p8864d8aae7)\" style=\"fill: none; stroke: #424242; stroke-width: 2.7; stroke-linecap: round\"/>\n   </g>\n   <g id=\"line2d_67\">\n    <path clip-path=\"url(#p8864d8aae7)\" style=\"fill: none; stroke: #424242; stroke-width: 2.7; stroke-linecap: round\"/>\n   </g>\n   <g id=\"line2d_68\">\n    <path clip-path=\"url(#p8864d8aae7)\" style=\"fill: none; stroke: #424242; stroke-width: 2.7; stroke-linecap: round\"/>\n   </g>\n   <g id=\"line2d_69\">\n    <path clip-path=\"url(#p8864d8aae7)\" style=\"fill: none; stroke: #424242; stroke-width: 2.7; stroke-linecap: round\"/>\n   </g>\n   <g id=\"line2d_70\">\n    <path clip-path=\"url(#p8864d8aae7)\" style=\"fill: none; stroke: #424242; stroke-width: 2.7; stroke-linecap: round\"/>\n   </g>\n   <g id=\"line2d_71\">\n    <path clip-path=\"url(#p8864d8aae7)\" style=\"fill: none; stroke: #424242; stroke-width: 2.7; stroke-linecap: round\"/>\n   </g>\n   <g id=\"line2d_72\">\n    <path clip-path=\"url(#p8864d8aae7)\" style=\"fill: none; stroke: #424242; stroke-width: 2.7; stroke-linecap: round\"/>\n   </g>\n   <g id=\"line2d_73\">\n    <path clip-path=\"url(#p8864d8aae7)\" style=\"fill: none; stroke: #424242; stroke-width: 2.7; stroke-linecap: round\"/>\n   </g>\n   <g id=\"patch_70\">\n    <path d=\"M 79.77275 289.341937 \nL 79.77275 23.229937 \n\" style=\"fill: none; stroke: #ffffff; stroke-width: 1.25; stroke-linejoin: miter; stroke-linecap: square\"/>\n   </g>\n   <g id=\"patch_71\">\n    <path d=\"M 436.89275 289.341937 \nL 436.89275 23.229937 \n\" style=\"fill: none; stroke: #ffffff; stroke-width: 1.25; stroke-linejoin: miter; stroke-linecap: square\"/>\n   </g>\n   <g id=\"patch_72\">\n    <path d=\"M 79.77275 289.341937 \nL 436.89275 289.341937 \n\" style=\"fill: none; stroke: #ffffff; stroke-width: 1.25; stroke-linejoin: miter; stroke-linecap: square\"/>\n   </g>\n   <g id=\"patch_73\">\n    <path d=\"M 79.77275 23.229937 \nL 436.89275 23.229937 \n\" style=\"fill: none; stroke: #ffffff; stroke-width: 1.25; stroke-linejoin: miter; stroke-linecap: square\"/>\n   </g>\n   <g id=\"text_76\">\n    <!-- Language Distribution -->\n    <g style=\"fill: #262626\" transform=\"translate(185.159375 17.229937) scale(0.132 -0.132)\">\n     <defs>\n      <path id=\"DejaVuSans-20\" transform=\"scale(0.015625)\"/>\n      <path id=\"DejaVuSans-44\" d=\"M 1259 4147 \nL 1259 519 \nL 2022 519 \nQ 2988 519 3436 956 \nQ 3884 1394 3884 2338 \nQ 3884 3275 3436 3711 \nQ 2988 4147 2022 4147 \nL 1259 4147 \nz\nM 628 4666 \nL 1925 4666 \nQ 3281 4666 3915 4102 \nQ 4550 3538 4550 2338 \nQ 4550 1131 3912 565 \nQ 3275 0 1925 0 \nL 628 0 \nL 628 4666 \nz\n\" transform=\"scale(0.015625)\"/>\n     </defs>\n     <use xlink:href=\"#DejaVuSans-4c\"/>\n     <use xlink:href=\"#DejaVuSans-61\" x=\"55.712891\"/>\n     <use xlink:href=\"#DejaVuSans-6e\" x=\"116.992188\"/>\n     <use xlink:href=\"#DejaVuSans-67\" x=\"180.371094\"/>\n     <use xlink:href=\"#DejaVuSans-75\" x=\"243.847656\"/>\n     <use xlink:href=\"#DejaVuSans-61\" x=\"307.226562\"/>\n     <use xlink:href=\"#DejaVuSans-67\" x=\"368.505859\"/>\n     <use xlink:href=\"#DejaVuSans-65\" x=\"431.982422\"/>\n     <use xlink:href=\"#DejaVuSans-20\" x=\"493.505859\"/>\n     <use xlink:href=\"#DejaVuSans-44\" x=\"525.292969\"/>\n     <use xlink:href=\"#DejaVuSans-69\" x=\"602.294922\"/>\n     <use xlink:href=\"#DejaVuSans-73\" x=\"630.078125\"/>\n     <use xlink:href=\"#DejaVuSans-74\" x=\"682.177734\"/>\n     <use xlink:href=\"#DejaVuSans-72\" x=\"721.386719\"/>\n     <use xlink:href=\"#DejaVuSans-69\" x=\"762.5\"/>\n     <use xlink:href=\"#DejaVuSans-62\" x=\"790.283203\"/>\n     <use xlink:href=\"#DejaVuSans-75\" x=\"853.759766\"/>\n     <use xlink:href=\"#DejaVuSans-74\" x=\"917.138672\"/>\n     <use xlink:href=\"#DejaVuSans-69\" x=\"956.347656\"/>\n     <use xlink:href=\"#DejaVuSans-6f\" x=\"984.130859\"/>\n     <use xlink:href=\"#DejaVuSans-6e\" x=\"1045.3125\"/>\n    </g>\n   </g>\n  </g>\n </g>\n <defs>\n  <clipPath id=\"p8864d8aae7\">\n   <rect x=\"79.77275\" y=\"23.229937\" width=\"357.12\" height=\"266.112\"/>\n  </clipPath>\n </defs>\n</svg>\n"
          },
          "metadata": {}
        }
      ]
    },
    {
      "cell_type": "code",
      "source": [
        "english_data = test_data[test_data['google_lang'] == 'en']\n",
        "non_english_data = test_data[test_data['google_lang'] == 'sw']"
      ],
      "metadata": {
        "id": "V2giy-Mtp7Wh"
      },
      "execution_count": null,
      "outputs": []
    },
    {
      "cell_type": "code",
      "source": [
        "# Assuming test_data is your DataFrame and 'google_lang' is the column you want to group by\n",
        "grouped_data = test_data.groupby(['google_lang']).size().reset_index(name='count')\n",
        "\n",
        "# Sort the DataFrame by the 'count' column in descending order\n",
        "grouped_data_sorted = grouped_data.sort_values(by='count', ascending=False)\n",
        "\n",
        "print(grouped_data_sorted)"
      ],
      "metadata": {
        "colab": {
          "base_uri": "https://localhost:8080/"
        },
        "id": "71mvWy2wOl4u",
        "outputId": "bf24943b-d060-42f0-92aa-56d6e9eb1fb3"
      },
      "execution_count": null,
      "outputs": [
        {
          "output_type": "stream",
          "name": "stdout",
          "text": [
            "   google_lang  count\n",
            "11          en   2388\n",
            "60          sw     87\n",
            "66          zu     44\n",
            "53          sn     32\n",
            "8           da     24\n",
            "..         ...    ...\n",
            "1           bg      1\n",
            "50          sk      1\n",
            "36          lb      1\n",
            "48          ro      1\n",
            "37          lt      1\n",
            "\n",
            "[67 rows x 2 columns]\n"
          ]
        }
      ]
    },
    {
      "cell_type": "code",
      "source": [
        "train_data['google_lang'] = train_data.clean_text.map(google_detect)"
      ],
      "metadata": {
        "id": "B6nR_wcIPRsK"
      },
      "execution_count": null,
      "outputs": []
    },
    {
      "cell_type": "code",
      "source": [
        "# Assuming test_data is your DataFrame and 'google_lang' is the column you want to group by\n",
        "grouped_data = train_data.groupby(['google_lang']).size().reset_index(name='count')\n",
        "\n",
        "# Sort the DataFrame by the 'count' column in descending order\n",
        "grouped_data_sorted = grouped_data.sort_values(by='count', ascending=False)\n",
        "\n",
        "print(grouped_data_sorted)"
      ],
      "metadata": {
        "colab": {
          "base_uri": "https://localhost:8080/"
        },
        "id": "0_S1Q6s0P2pg",
        "outputId": "5d3e2a73-534a-4eee-812e-4cbac5288585"
      },
      "execution_count": null,
      "outputs": [
        {
          "output_type": "stream",
          "name": "stdout",
          "text": [
            "   google_lang  count\n",
            "13          en   9573\n",
            "67          sw    338\n",
            "74          zu    198\n",
            "60          sn    139\n",
            "51          ny     88\n",
            "..         ...    ...\n",
            "39          ky      1\n",
            "68          tg      1\n",
            "1           be      1\n",
            "55          ru      1\n",
            "27     hi-Latn      1\n",
            "\n",
            "[75 rows x 2 columns]\n"
          ]
        }
      ]
    },
    {
      "cell_type": "code",
      "source": [
        "print(english_data.shape,non_english_data.shape)"
      ],
      "metadata": {
        "colab": {
          "base_uri": "https://localhost:8080/"
        },
        "id": "aIAgAwEdyG5h",
        "outputId": "986ab5a9-2d03-4640-8a50-5b423c6aa664"
      },
      "execution_count": null,
      "outputs": [
        {
          "output_type": "stream",
          "name": "stdout",
          "text": [
            "(2388, 19) (87, 19)\n"
          ]
        }
      ]
    },
    {
      "cell_type": "code",
      "execution_count": null,
      "metadata": {
        "id": "njBdyiwh6C3J"
      },
      "outputs": [],
      "source": [
        "english_test_sentences, english_test_targets = english_data.normalized_text.values, english_data.target.values\n",
        "non_english_test_sentences, non_english_test_targets = non_english_data.normalized_text.values, non_english_data.target.values"
      ]
    },
    {
      "cell_type": "code",
      "execution_count": null,
      "metadata": {
        "id": "Ul8y87bq6ZA-"
      },
      "outputs": [],
      "source": [
        "def test_model(model,test_dataloader):\n",
        "  # Put model in evaluation mode\n",
        "  model.eval()\n",
        "  # Tracking variables\n",
        "  predictions , true_labels = [], []\n",
        "  # Predict\n",
        "  for batch in test_dataloader:\n",
        "    # Add batch to GPU\n",
        "    batch = tuple(t.to(device) for t in batch)\n",
        "\n",
        "    # Unpack the inputs from our dataloader\n",
        "    b_input_ids, b_input_mask, b_labels = batch\n",
        "\n",
        "    # Telling the model not to compute or store gradients, saving memory and\n",
        "    # speeding up prediction\n",
        "    with torch.no_grad():\n",
        "        # Forward pass, calculate logit predictions.\n",
        "        result = model(b_input_ids,\n",
        "                      token_type_ids=None,\n",
        "                      attention_mask=b_input_mask,\n",
        "                      return_dict=True)\n",
        "    logits = result.logits\n",
        "    # Move logits and labels to CPU\n",
        "    logits = logits.detach().cpu().numpy()\n",
        "    label_ids = b_labels.to('cpu').numpy()\n",
        "\n",
        "    # Store predictions and true labels\n",
        "    predictions.append(logits)\n",
        "    true_labels.append(label_ids)\n",
        "  return predictions, true_labels"
      ]
    },
    {
      "cell_type": "code",
      "execution_count": null,
      "metadata": {
        "id": "GOUYUHYh7jrK"
      },
      "outputs": [],
      "source": [
        "english_test_sentences, english_test_targets = english_data.normalized_text.values, english_data.target.values"
      ]
    },
    {
      "cell_type": "code",
      "execution_count": null,
      "metadata": {
        "id": "ywWybep773rH"
      },
      "outputs": [],
      "source": [
        "non_english_test_sentences, non_english_test_targets = non_english_data.normalized_text.values, non_english_data.target.values"
      ]
    },
    {
      "cell_type": "code",
      "execution_count": null,
      "metadata": {
        "colab": {
          "base_uri": "https://localhost:8080/"
        },
        "id": "FHLqsrSM8Mjg",
        "outputId": "c33131d2-098d-41e2-b307-ed8be2b1cb4c"
      },
      "outputs": [
        {
          "output_type": "stream",
          "name": "stderr",
          "text": [
            "/usr/local/lib/python3.10/dist-packages/transformers/tokenization_utils_base.py:2393: FutureWarning: The `pad_to_max_length` argument is deprecated and will be removed in a future version, use `padding=True` or `padding='longest'` to pad to the longest sequence in the batch, or use `padding='max_length'` to pad to a max length. In this case, you can give a specific length with `max_length` (e.g. `max_length=45`) or leave max_length to None to pad to the maximal input size of the model (e.g. 512 for Bert).\n",
            "  warnings.warn(\n"
          ]
        }
      ],
      "source": [
        "# Tokenize sentences\n",
        "en_input_ids, en_attention_masks, en_labels = tokenize(tokenizer, 128, english_test_sentences, english_test_targets)\n",
        "# val_input_ids, val_attention_masks, val_labels = tokenize(tokenizer, 128, val_sentences, val_targets)\n",
        "nen_input_ids, nen_attention_masks, nen_labels = tokenize(tokenizer, 128, non_english_test_sentences, non_english_test_targets)\n",
        "\n",
        "# Create datasets\n",
        "en_dataset = TensorDataset(en_input_ids, en_attention_masks, en_labels)\n",
        "# val_dataset = TensorDataset(val_input_ids, val_attention_masks, val_labels)\n",
        "nen_dataset = TensorDataset(nen_input_ids, nen_attention_masks, nen_labels)\n",
        "\n",
        "batch_size = 32\n",
        "\n",
        "# Create dataloaders\n",
        "en_dataloader = DataLoader(\n",
        "        en_dataset,  # The training samples.\n",
        "        sampler = SequentialSampler(en_dataset), # Select batches randomly\n",
        "        batch_size = batch_size # Trains with this batch size.\n",
        "    )\n",
        "\n",
        "# # For validation the order doesn't matter, so we'll just read them sequentially.\n",
        "# val_dataloader = DataLoader(\n",
        "#             val_dataset, # The validation samples.\n",
        "#             sampler = SequentialSampler(val_dataset), # Pull out batches sequentially.\n",
        "#             batch_size = batch_size # Evaluate with this batch size.\n",
        "#         )\n",
        "\n",
        "# For validation the order doesn't matter, so we'll just read them sequentially.\n",
        "nen_dataloader = DataLoader(\n",
        "            nen_dataset, # The validation samples.\n",
        "            sampler = SequentialSampler(nen_dataset), # Pull out batches sequentially.\n",
        "            batch_size = batch_size # Evaluate with this batch size.\n",
        "        )"
      ]
    },
    {
      "cell_type": "code",
      "execution_count": null,
      "metadata": {
        "id": "F8to0xaGPLtT"
      },
      "outputs": [],
      "source": [
        "def test_model(model,test_dataloader):\n",
        "  # Put model in evaluation mode\n",
        "  model.eval()\n",
        "  # Tracking variables\n",
        "  predictions , true_labels = [], []\n",
        "  # Predict\n",
        "  for batch in test_dataloader:\n",
        "    # Add batch to GPU\n",
        "    batch = tuple(t.to(device) for t in batch)\n",
        "\n",
        "    # Unpack the inputs from our dataloader\n",
        "    b_input_ids, b_input_mask, b_labels = batch\n",
        "\n",
        "    # Telling the model not to compute or store gradients, saving memory and\n",
        "    # speeding up prediction\n",
        "    with torch.no_grad():\n",
        "        # Forward pass, calculate logit predictions.\n",
        "        result = model(b_input_ids,\n",
        "                      token_type_ids=None,\n",
        "                      attention_mask=b_input_mask,\n",
        "                      return_dict=True)\n",
        "    logits = result.logits\n",
        "    # Move logits and labels to CPU\n",
        "    logits = logits.detach().cpu().numpy()\n",
        "    label_ids = b_labels.to('cpu').numpy()\n",
        "\n",
        "    # Store predictions and true labels\n",
        "    predictions.append(logits)\n",
        "    true_labels.append(label_ids)\n",
        "  return predictions, true_labels"
      ]
    },
    {
      "cell_type": "code",
      "execution_count": null,
      "metadata": {
        "id": "QxWDfpuTPgFz"
      },
      "outputs": [],
      "source": [
        "# Test how the model performs on an english dataset\n",
        "en_predictions, en_true_labels = test_model(xlmrmodel,en_dataloader)"
      ]
    },
    {
      "cell_type": "code",
      "execution_count": null,
      "metadata": {
        "id": "FmSLs7QGQyOu"
      },
      "outputs": [],
      "source": [
        "target_names = test_data['informative_label'].unique()"
      ]
    },
    {
      "cell_type": "code",
      "execution_count": null,
      "metadata": {
        "id": "p-uG5LqFQOtX"
      },
      "outputs": [],
      "source": [
        "from sklearn.metrics import f1_score\n",
        "def print_classification_report(predictions, true_labels, target_names):\n",
        "  # Combine the results across all batches.\n",
        "  flat_predictions = np.concatenate(predictions, axis=0)\n",
        "\n",
        "  # For each sample, pick the label (0 or 1) with the higher score.\n",
        "  flat_predictions = np.argmax(flat_predictions, axis=1).flatten()\n",
        "\n",
        "  # Combine the correct labels for each batch into a single list.\n",
        "  flat_true_labels = np.concatenate(true_labels, axis=0)\n",
        "\n",
        "  # # Calculate the MCC\n",
        "  # mcc = matthews_corrcoef(flat_true_labels, flat_predictions)\n",
        "\n",
        "  # print('Total MCC: %.3f' % mcc)\n",
        "  print(f1_score(flat_true_labels,\n",
        "                                  flat_predictions, average='macro' ))\n",
        "  print(classification_report(flat_true_labels,\n",
        "                                  flat_predictions,\n",
        "                                  target_names=target_names))\n",
        "\n",
        "  # plot_cm_with_percentages(flat_true_labels, flat_predictions, list(target_names))"
      ]
    },
    {
      "cell_type": "code",
      "execution_count": null,
      "metadata": {
        "id": "D-cKkkAERGcH"
      },
      "outputs": [],
      "source": [
        "# print_classification_report(predictions, true_labels, target_names)"
      ]
    },
    {
      "cell_type": "code",
      "execution_count": null,
      "metadata": {
        "id": "FbYj88DVRtJ4"
      },
      "outputs": [],
      "source": [
        " # Test Non-English Data"
      ]
    },
    {
      "cell_type": "code",
      "execution_count": null,
      "metadata": {
        "id": "j-AdwmwnSBdj"
      },
      "outputs": [],
      "source": [
        "sw_predictions, sw_true_labels = test_model(xlmrmodel,nen_dataloader)"
      ]
    },
    {
      "cell_type": "code",
      "source": [],
      "metadata": {
        "id": "XZKOqlO0-raa"
      },
      "execution_count": null,
      "outputs": []
    },
    {
      "cell_type": "code",
      "source": [
        "print_classification_report(sw_predictions, sw_true_labels, target_names)"
      ],
      "metadata": {
        "colab": {
          "base_uri": "https://localhost:8080/"
        },
        "id": "wnZIgD5w7_0e",
        "outputId": "65bb89b4-5402-456b-8c22-5e1c95ce6690"
      },
      "execution_count": null,
      "outputs": [
        {
          "output_type": "stream",
          "name": "stdout",
          "text": [
            "0.7087517934002869\n",
            "                 precision    recall  f1-score   support\n",
            "\n",
            "    Informative       0.68      0.52      0.59        29\n",
            "Non-Informative       0.78      0.88      0.83        58\n",
            "\n",
            "       accuracy                           0.76        87\n",
            "      macro avg       0.73      0.70      0.71        87\n",
            "   weighted avg       0.75      0.76      0.75        87\n",
            "\n"
          ]
        }
      ]
    },
    {
      "cell_type": "code",
      "source": [
        "print_classification_report(en_predictions, en_true_labels, target_names)"
      ],
      "metadata": {
        "colab": {
          "base_uri": "https://localhost:8080/"
        },
        "id": "RcB9GX3c96R2",
        "outputId": "fe12e336-5fc1-4865-f1ee-f4bcbf5645de"
      },
      "execution_count": null,
      "outputs": [
        {
          "output_type": "stream",
          "name": "stdout",
          "text": [
            "0.7788671204475295\n",
            "                 precision    recall  f1-score   support\n",
            "\n",
            "    Informative       0.68      0.73      0.71       787\n",
            "Non-Informative       0.86      0.83      0.85      1601\n",
            "\n",
            "       accuracy                           0.80      2388\n",
            "      macro avg       0.77      0.78      0.78      2388\n",
            "   weighted avg       0.81      0.80      0.80      2388\n",
            "\n"
          ]
        }
      ]
    },
    {
      "cell_type": "code",
      "execution_count": null,
      "metadata": {
        "colab": {
          "base_uri": "https://localhost:8080/"
        },
        "id": "Jdy8Pm_3SGz0",
        "outputId": "ce5723b0-ca7a-435d-cb6d-05f980a23bf1"
      },
      "outputs": [
        {
          "output_type": "execute_result",
          "data": {
            "text/plain": [
              "(75, 19)"
            ]
          },
          "metadata": {},
          "execution_count": 220
        }
      ],
      "source": [
        "non_english_data.shape"
      ]
    },
    {
      "cell_type": "code",
      "source": [
        "def flatten_predictions_and_labels(predictions, true_labels):\n",
        "  flat_predictions = np.concatenate(predictions, axis=0)\n",
        "\n",
        "  # For each sample, pick the label (0 or 1) with the higher score.\n",
        "  flat_predictions = np.argmax(flat_predictions, axis=1).flatten()\n",
        "\n",
        "  # Combine the correct labels for each batch into a single list.\n",
        "  flat_true_labels = np.concatenate(true_labels, axis=0)\n",
        "\n",
        "  return flat_predictions, flat_true_labels"
      ],
      "metadata": {
        "id": "AofGIoZr4eHp"
      },
      "execution_count": null,
      "outputs": []
    },
    {
      "cell_type": "code",
      "source": [
        "sw_flat_predictions, sw_flat_true_labels = flatten_predictions_and_labels(sw_predictions, sw_true_labels)"
      ],
      "metadata": {
        "id": "krZ7LmIz4wkg"
      },
      "execution_count": null,
      "outputs": []
    },
    {
      "cell_type": "code",
      "source": [
        "en_flat_predictions, en_flat_true_labels = flatten_predictions_and_labels(en_predictions, en_true_labels)"
      ],
      "metadata": {
        "id": "y7Yp9nAy5Aao"
      },
      "execution_count": null,
      "outputs": []
    },
    {
      "cell_type": "code",
      "source": [
        "import numpy as np\n",
        "import seaborn as sns\n",
        "import matplotlib.pyplot as plt\n",
        "from sklearn.metrics import confusion_matrix\n",
        "\n",
        "def plot_cm_with_percentages_mult(labels1, predictions1, labels2, predictions2, class_labels, name=\"\"):\n",
        "    # Compute confusion matrices for both sets of predictions\n",
        "    cm1 = confusion_matrix(labels1, predictions1)\n",
        "    cm2 = confusion_matrix(labels2, predictions2)\n",
        "\n",
        "    # Calculate row-wise sums to get the total counts for each true label for both sets\n",
        "    row_sums1 = cm1.sum(axis=1, keepdims=True)\n",
        "    row_sums2 = cm2.sum(axis=1, keepdims=True)\n",
        "\n",
        "    # Calculate the percentages by dividing each element of the confusion matrix by its corresponding row sum\n",
        "    cm_percentages1 = np.round((cm1 / row_sums1) * 100, decimals=2)\n",
        "    cm_percentages2 = np.round((cm2 / row_sums2) * 100, decimals=2)\n",
        "\n",
        "    # Change figure size and increase dpi for better resolution\n",
        "    plt.figure(figsize=(14, 6), dpi=100)\n",
        "\n",
        "    # Scale up the size of all text\n",
        "    sns.set(font_scale=1.1)\n",
        "\n",
        "    # Plot Confusion Matrix using Seaborn heatmap() for the first set of predictions\n",
        "    ax1 = plt.subplot(1, 2, 1)\n",
        "    sns.heatmap(cm_percentages1, annot=True, fmt='.2f', cmap='gist_gray', ax=ax1)\n",
        "    for _, value in enumerate(ax1.collections[0].axes.texts):\n",
        "        if value.get_text() != '0.00':\n",
        "            value.set_text(f\"{float(value.get_text()):.2f}%\")\n",
        "    ax1.set_xlabel(\"Predicted Label\", fontsize=12, labelpad=20)\n",
        "    ax1.set_xticklabels(class_labels)\n",
        "    ax1.set_ylabel(\"Gold Label\", fontsize=12, labelpad=20)\n",
        "    ax1.set_yticklabels(class_labels)\n",
        "    ax1.set_title(\"English\", fontsize=12, pad=20)\n",
        "\n",
        "    # Plot Confusion Matrix using Seaborn heatmap() for the second set of predictions\n",
        "    ax2 = plt.subplot(1, 2, 2)\n",
        "    sns.heatmap(cm_percentages2, annot=True, fmt='.2f', cmap='gist_gray', ax=ax2)\n",
        "    for _, value in enumerate(ax2.collections[0].axes.texts):\n",
        "        if value.get_text() != '0.00':\n",
        "            value.set_text(f\"{float(value.get_text()):.2f}%\")\n",
        "    ax2.set_xlabel(\"Predicted Label\", fontsize=12, labelpad=20)\n",
        "    ax2.set_xticklabels(class_labels)\n",
        "    ax2.set_ylabel(\"Gold Label\", fontsize=12, labelpad=20)\n",
        "    ax2.set_yticklabels(class_labels)\n",
        "    ax2.set_title(\"Swahili\", fontsize=12, pad=20)\n",
        "\n",
        "    plt.tight_layout()\n",
        "    plt.savefig('language_fairness.svg')\n",
        "    plt.show()\n"
      ],
      "metadata": {
        "id": "qWcDNauQ4cR2"
      },
      "execution_count": null,
      "outputs": []
    },
    {
      "cell_type": "code",
      "source": [
        "print(en_flat_true_labels.shape, en_flat_predictions.shape)"
      ],
      "metadata": {
        "colab": {
          "base_uri": "https://localhost:8080/"
        },
        "id": "zNaWCjFU5l4v",
        "outputId": "e4a25e45-d708-4eed-b4e8-28f22d687e5d"
      },
      "execution_count": null,
      "outputs": [
        {
          "output_type": "stream",
          "name": "stdout",
          "text": [
            "(2437,) (2437,)\n"
          ]
        }
      ]
    },
    {
      "cell_type": "code",
      "source": [
        "plot_cm_with_percentages_mult(en_flat_true_labels, en_flat_predictions, sw_flat_true_labels, sw_flat_predictions, target_names)"
      ],
      "metadata": {
        "colab": {
          "base_uri": "https://localhost:8080/",
          "height": 594
        },
        "id": "MVc2-Y_44cZu",
        "outputId": "7cdd77cf-2942-4a9f-9325-33368ad32fcf"
      },
      "execution_count": null,
      "outputs": [
        {
          "output_type": "display_data",
          "data": {
            "text/plain": [
              "<Figure size 1400x600 with 4 Axes>"
            ],
            "image/svg+xml": "<?xml version=\"1.0\" encoding=\"utf-8\" standalone=\"no\"?>\n<!DOCTYPE svg PUBLIC \"-//W3C//DTD SVG 1.1//EN\"\n  \"http://www.w3.org/Graphics/SVG/1.1/DTD/svg11.dtd\">\n<svg xmlns:xlink=\"http://www.w3.org/1999/xlink\" width=\"967.122159pt\" height=\"414.330406pt\" viewBox=\"0 0 967.122159 414.330406\" xmlns=\"http://www.w3.org/2000/svg\" version=\"1.1\">\n <metadata>\n  <rdf:RDF xmlns:dc=\"http://purl.org/dc/elements/1.1/\" xmlns:cc=\"http://creativecommons.org/ns#\" xmlns:rdf=\"http://www.w3.org/1999/02/22-rdf-syntax-ns#\">\n   <cc:Work>\n    <dc:type rdf:resource=\"http://purl.org/dc/dcmitype/StillImage\"/>\n    <dc:date>2023-07-19T21:44:51.961780</dc:date>\n    <dc:format>image/svg+xml</dc:format>\n    <dc:creator>\n     <cc:Agent>\n      <dc:title>Matplotlib v3.7.1, https://matplotlib.org/</dc:title>\n     </cc:Agent>\n    </dc:creator>\n   </cc:Work>\n  </rdf:RDF>\n </metadata>\n <defs>\n  <style type=\"text/css\">*{stroke-linejoin: round; stroke-linecap: butt}</style>\n </defs>\n <g id=\"figure_1\">\n  <g id=\"patch_1\">\n   <path d=\"M 0 414.330406 \nL 967.122159 414.330406 \nL 967.122159 0 \nL 0 0 \nz\n\" style=\"fill: #ffffff\"/>\n  </g>\n  <g id=\"axes_1\">\n   <g id=\"patch_2\">\n    <path d=\"M 60.024281 354.306125 \nL 406.513736 354.306125 \nL 406.513736 36.318125 \nL 60.024281 36.318125 \nz\n\" style=\"fill: #eaeaf2\"/>\n   </g>\n   <g id=\"matplotlib.axis_1\">\n    <g id=\"xtick_1\">\n     <g id=\"line2d_1\">\n      <path d=\"M 146.646645 354.306125 \nL 146.646645 36.318125 \n\" clip-path=\"url(#pc4b6f6bd22)\" style=\"fill: none; stroke: #ffffff; stroke-linecap: round\"/>\n     </g>\n     <g id=\"text_1\">\n      <!-- Informative -->\n      <g style=\"fill: #262626\" transform=\"translate(111.8582 373.000234) scale(0.121 -0.121)\">\n       <defs>\n        <path id=\"DejaVuSans-49\" d=\"M 628 4666 \nL 1259 4666 \nL 1259 0 \nL 628 0 \nL 628 4666 \nz\n\" transform=\"scale(0.015625)\"/>\n        <path id=\"DejaVuSans-6e\" d=\"M 3513 2113 \nL 3513 0 \nL 2938 0 \nL 2938 2094 \nQ 2938 2591 2744 2837 \nQ 2550 3084 2163 3084 \nQ 1697 3084 1428 2787 \nQ 1159 2491 1159 1978 \nL 1159 0 \nL 581 0 \nL 581 3500 \nL 1159 3500 \nL 1159 2956 \nQ 1366 3272 1645 3428 \nQ 1925 3584 2291 3584 \nQ 2894 3584 3203 3211 \nQ 3513 2838 3513 2113 \nz\n\" transform=\"scale(0.015625)\"/>\n        <path id=\"DejaVuSans-66\" d=\"M 2375 4863 \nL 2375 4384 \nL 1825 4384 \nQ 1516 4384 1395 4259 \nQ 1275 4134 1275 3809 \nL 1275 3500 \nL 2222 3500 \nL 2222 3053 \nL 1275 3053 \nL 1275 0 \nL 697 0 \nL 697 3053 \nL 147 3053 \nL 147 3500 \nL 697 3500 \nL 697 3744 \nQ 697 4328 969 4595 \nQ 1241 4863 1831 4863 \nL 2375 4863 \nz\n\" transform=\"scale(0.015625)\"/>\n        <path id=\"DejaVuSans-6f\" d=\"M 1959 3097 \nQ 1497 3097 1228 2736 \nQ 959 2375 959 1747 \nQ 959 1119 1226 758 \nQ 1494 397 1959 397 \nQ 2419 397 2687 759 \nQ 2956 1122 2956 1747 \nQ 2956 2369 2687 2733 \nQ 2419 3097 1959 3097 \nz\nM 1959 3584 \nQ 2709 3584 3137 3096 \nQ 3566 2609 3566 1747 \nQ 3566 888 3137 398 \nQ 2709 -91 1959 -91 \nQ 1206 -91 779 398 \nQ 353 888 353 1747 \nQ 353 2609 779 3096 \nQ 1206 3584 1959 3584 \nz\n\" transform=\"scale(0.015625)\"/>\n        <path id=\"DejaVuSans-72\" d=\"M 2631 2963 \nQ 2534 3019 2420 3045 \nQ 2306 3072 2169 3072 \nQ 1681 3072 1420 2755 \nQ 1159 2438 1159 1844 \nL 1159 0 \nL 581 0 \nL 581 3500 \nL 1159 3500 \nL 1159 2956 \nQ 1341 3275 1631 3429 \nQ 1922 3584 2338 3584 \nQ 2397 3584 2469 3576 \nQ 2541 3569 2628 3553 \nL 2631 2963 \nz\n\" transform=\"scale(0.015625)\"/>\n        <path id=\"DejaVuSans-6d\" d=\"M 3328 2828 \nQ 3544 3216 3844 3400 \nQ 4144 3584 4550 3584 \nQ 5097 3584 5394 3201 \nQ 5691 2819 5691 2113 \nL 5691 0 \nL 5113 0 \nL 5113 2094 \nQ 5113 2597 4934 2840 \nQ 4756 3084 4391 3084 \nQ 3944 3084 3684 2787 \nQ 3425 2491 3425 1978 \nL 3425 0 \nL 2847 0 \nL 2847 2094 \nQ 2847 2600 2669 2842 \nQ 2491 3084 2119 3084 \nQ 1678 3084 1418 2786 \nQ 1159 2488 1159 1978 \nL 1159 0 \nL 581 0 \nL 581 3500 \nL 1159 3500 \nL 1159 2956 \nQ 1356 3278 1631 3431 \nQ 1906 3584 2284 3584 \nQ 2666 3584 2933 3390 \nQ 3200 3197 3328 2828 \nz\n\" transform=\"scale(0.015625)\"/>\n        <path id=\"DejaVuSans-61\" d=\"M 2194 1759 \nQ 1497 1759 1228 1600 \nQ 959 1441 959 1056 \nQ 959 750 1161 570 \nQ 1363 391 1709 391 \nQ 2188 391 2477 730 \nQ 2766 1069 2766 1631 \nL 2766 1759 \nL 2194 1759 \nz\nM 3341 1997 \nL 3341 0 \nL 2766 0 \nL 2766 531 \nQ 2569 213 2275 61 \nQ 1981 -91 1556 -91 \nQ 1019 -91 701 211 \nQ 384 513 384 1019 \nQ 384 1609 779 1909 \nQ 1175 2209 1959 2209 \nL 2766 2209 \nL 2766 2266 \nQ 2766 2663 2505 2880 \nQ 2244 3097 1772 3097 \nQ 1472 3097 1187 3025 \nQ 903 2953 641 2809 \nL 641 3341 \nQ 956 3463 1253 3523 \nQ 1550 3584 1831 3584 \nQ 2591 3584 2966 3190 \nQ 3341 2797 3341 1997 \nz\n\" transform=\"scale(0.015625)\"/>\n        <path id=\"DejaVuSans-74\" d=\"M 1172 4494 \nL 1172 3500 \nL 2356 3500 \nL 2356 3053 \nL 1172 3053 \nL 1172 1153 \nQ 1172 725 1289 603 \nQ 1406 481 1766 481 \nL 2356 481 \nL 2356 0 \nL 1766 0 \nQ 1100 0 847 248 \nQ 594 497 594 1153 \nL 594 3053 \nL 172 3053 \nL 172 3500 \nL 594 3500 \nL 594 4494 \nL 1172 4494 \nz\n\" transform=\"scale(0.015625)\"/>\n        <path id=\"DejaVuSans-69\" d=\"M 603 3500 \nL 1178 3500 \nL 1178 0 \nL 603 0 \nL 603 3500 \nz\nM 603 4863 \nL 1178 4863 \nL 1178 4134 \nL 603 4134 \nL 603 4863 \nz\n\" transform=\"scale(0.015625)\"/>\n        <path id=\"DejaVuSans-76\" d=\"M 191 3500 \nL 800 3500 \nL 1894 563 \nL 2988 3500 \nL 3597 3500 \nL 2284 0 \nL 1503 0 \nL 191 3500 \nz\n\" transform=\"scale(0.015625)\"/>\n        <path id=\"DejaVuSans-65\" d=\"M 3597 1894 \nL 3597 1613 \nL 953 1613 \nQ 991 1019 1311 708 \nQ 1631 397 2203 397 \nQ 2534 397 2845 478 \nQ 3156 559 3463 722 \nL 3463 178 \nQ 3153 47 2828 -22 \nQ 2503 -91 2169 -91 \nQ 1331 -91 842 396 \nQ 353 884 353 1716 \nQ 353 2575 817 3079 \nQ 1281 3584 2069 3584 \nQ 2775 3584 3186 3129 \nQ 3597 2675 3597 1894 \nz\nM 3022 2063 \nQ 3016 2534 2758 2815 \nQ 2500 3097 2075 3097 \nQ 1594 3097 1305 2825 \nQ 1016 2553 972 2059 \nL 3022 2063 \nz\n\" transform=\"scale(0.015625)\"/>\n       </defs>\n       <use xlink:href=\"#DejaVuSans-49\"/>\n       <use xlink:href=\"#DejaVuSans-6e\" x=\"29.492188\"/>\n       <use xlink:href=\"#DejaVuSans-66\" x=\"92.871094\"/>\n       <use xlink:href=\"#DejaVuSans-6f\" x=\"128.076172\"/>\n       <use xlink:href=\"#DejaVuSans-72\" x=\"189.257812\"/>\n       <use xlink:href=\"#DejaVuSans-6d\" x=\"228.621094\"/>\n       <use xlink:href=\"#DejaVuSans-61\" x=\"326.033203\"/>\n       <use xlink:href=\"#DejaVuSans-74\" x=\"387.3125\"/>\n       <use xlink:href=\"#DejaVuSans-69\" x=\"426.521484\"/>\n       <use xlink:href=\"#DejaVuSans-76\" x=\"454.304688\"/>\n       <use xlink:href=\"#DejaVuSans-65\" x=\"513.484375\"/>\n      </g>\n     </g>\n    </g>\n    <g id=\"xtick_2\">\n     <g id=\"line2d_2\">\n      <path d=\"M 319.891372 354.306125 \nL 319.891372 36.318125 \n\" clip-path=\"url(#pc4b6f6bd22)\" style=\"fill: none; stroke: #ffffff; stroke-linecap: round\"/>\n     </g>\n     <g id=\"text_2\">\n      <!-- Non-Informative -->\n      <g style=\"fill: #262626\" transform=\"translate(270.858013 373.000234) scale(0.121 -0.121)\">\n       <defs>\n        <path id=\"DejaVuSans-4e\" d=\"M 628 4666 \nL 1478 4666 \nL 3547 763 \nL 3547 4666 \nL 4159 4666 \nL 4159 0 \nL 3309 0 \nL 1241 3903 \nL 1241 0 \nL 628 0 \nL 628 4666 \nz\n\" transform=\"scale(0.015625)\"/>\n        <path id=\"DejaVuSans-2d\" d=\"M 313 2009 \nL 1997 2009 \nL 1997 1497 \nL 313 1497 \nL 313 2009 \nz\n\" transform=\"scale(0.015625)\"/>\n       </defs>\n       <use xlink:href=\"#DejaVuSans-4e\"/>\n       <use xlink:href=\"#DejaVuSans-6f\" x=\"74.804688\"/>\n       <use xlink:href=\"#DejaVuSans-6e\" x=\"135.986328\"/>\n       <use xlink:href=\"#DejaVuSans-2d\" x=\"199.365234\"/>\n       <use xlink:href=\"#DejaVuSans-49\" x=\"235.449219\"/>\n       <use xlink:href=\"#DejaVuSans-6e\" x=\"264.941406\"/>\n       <use xlink:href=\"#DejaVuSans-66\" x=\"328.320312\"/>\n       <use xlink:href=\"#DejaVuSans-6f\" x=\"363.525391\"/>\n       <use xlink:href=\"#DejaVuSans-72\" x=\"424.707031\"/>\n       <use xlink:href=\"#DejaVuSans-6d\" x=\"464.070312\"/>\n       <use xlink:href=\"#DejaVuSans-61\" x=\"561.482422\"/>\n       <use xlink:href=\"#DejaVuSans-74\" x=\"622.761719\"/>\n       <use xlink:href=\"#DejaVuSans-69\" x=\"661.970703\"/>\n       <use xlink:href=\"#DejaVuSans-76\" x=\"689.753906\"/>\n       <use xlink:href=\"#DejaVuSans-65\" x=\"748.933594\"/>\n      </g>\n     </g>\n    </g>\n    <g id=\"text_3\">\n     <!-- Predicted Label -->\n     <g style=\"fill: #262626\" transform=\"translate(187.009946 404.634781) scale(0.12 -0.12)\">\n      <defs>\n       <path id=\"DejaVuSans-50\" d=\"M 1259 4147 \nL 1259 2394 \nL 2053 2394 \nQ 2494 2394 2734 2622 \nQ 2975 2850 2975 3272 \nQ 2975 3691 2734 3919 \nQ 2494 4147 2053 4147 \nL 1259 4147 \nz\nM 628 4666 \nL 2053 4666 \nQ 2838 4666 3239 4311 \nQ 3641 3956 3641 3272 \nQ 3641 2581 3239 2228 \nQ 2838 1875 2053 1875 \nL 1259 1875 \nL 1259 0 \nL 628 0 \nL 628 4666 \nz\n\" transform=\"scale(0.015625)\"/>\n       <path id=\"DejaVuSans-64\" d=\"M 2906 2969 \nL 2906 4863 \nL 3481 4863 \nL 3481 0 \nL 2906 0 \nL 2906 525 \nQ 2725 213 2448 61 \nQ 2172 -91 1784 -91 \nQ 1150 -91 751 415 \nQ 353 922 353 1747 \nQ 353 2572 751 3078 \nQ 1150 3584 1784 3584 \nQ 2172 3584 2448 3432 \nQ 2725 3281 2906 2969 \nz\nM 947 1747 \nQ 947 1113 1208 752 \nQ 1469 391 1925 391 \nQ 2381 391 2643 752 \nQ 2906 1113 2906 1747 \nQ 2906 2381 2643 2742 \nQ 2381 3103 1925 3103 \nQ 1469 3103 1208 2742 \nQ 947 2381 947 1747 \nz\n\" transform=\"scale(0.015625)\"/>\n       <path id=\"DejaVuSans-63\" d=\"M 3122 3366 \nL 3122 2828 \nQ 2878 2963 2633 3030 \nQ 2388 3097 2138 3097 \nQ 1578 3097 1268 2742 \nQ 959 2388 959 1747 \nQ 959 1106 1268 751 \nQ 1578 397 2138 397 \nQ 2388 397 2633 464 \nQ 2878 531 3122 666 \nL 3122 134 \nQ 2881 22 2623 -34 \nQ 2366 -91 2075 -91 \nQ 1284 -91 818 406 \nQ 353 903 353 1747 \nQ 353 2603 823 3093 \nQ 1294 3584 2113 3584 \nQ 2378 3584 2631 3529 \nQ 2884 3475 3122 3366 \nz\n\" transform=\"scale(0.015625)\"/>\n       <path id=\"DejaVuSans-20\" transform=\"scale(0.015625)\"/>\n       <path id=\"DejaVuSans-4c\" d=\"M 628 4666 \nL 1259 4666 \nL 1259 531 \nL 3531 531 \nL 3531 0 \nL 628 0 \nL 628 4666 \nz\n\" transform=\"scale(0.015625)\"/>\n       <path id=\"DejaVuSans-62\" d=\"M 3116 1747 \nQ 3116 2381 2855 2742 \nQ 2594 3103 2138 3103 \nQ 1681 3103 1420 2742 \nQ 1159 2381 1159 1747 \nQ 1159 1113 1420 752 \nQ 1681 391 2138 391 \nQ 2594 391 2855 752 \nQ 3116 1113 3116 1747 \nz\nM 1159 2969 \nQ 1341 3281 1617 3432 \nQ 1894 3584 2278 3584 \nQ 2916 3584 3314 3078 \nQ 3713 2572 3713 1747 \nQ 3713 922 3314 415 \nQ 2916 -91 2278 -91 \nQ 1894 -91 1617 61 \nQ 1341 213 1159 525 \nL 1159 0 \nL 581 0 \nL 581 4863 \nL 1159 4863 \nL 1159 2969 \nz\n\" transform=\"scale(0.015625)\"/>\n       <path id=\"DejaVuSans-6c\" d=\"M 603 4863 \nL 1178 4863 \nL 1178 0 \nL 603 0 \nL 603 4863 \nz\n\" transform=\"scale(0.015625)\"/>\n      </defs>\n      <use xlink:href=\"#DejaVuSans-50\"/>\n      <use xlink:href=\"#DejaVuSans-72\" x=\"58.552734\"/>\n      <use xlink:href=\"#DejaVuSans-65\" x=\"97.416016\"/>\n      <use xlink:href=\"#DejaVuSans-64\" x=\"158.939453\"/>\n      <use xlink:href=\"#DejaVuSans-69\" x=\"222.416016\"/>\n      <use xlink:href=\"#DejaVuSans-63\" x=\"250.199219\"/>\n      <use xlink:href=\"#DejaVuSans-74\" x=\"305.179688\"/>\n      <use xlink:href=\"#DejaVuSans-65\" x=\"344.388672\"/>\n      <use xlink:href=\"#DejaVuSans-64\" x=\"405.912109\"/>\n      <use xlink:href=\"#DejaVuSans-20\" x=\"469.388672\"/>\n      <use xlink:href=\"#DejaVuSans-4c\" x=\"501.175781\"/>\n      <use xlink:href=\"#DejaVuSans-61\" x=\"556.888672\"/>\n      <use xlink:href=\"#DejaVuSans-62\" x=\"618.167969\"/>\n      <use xlink:href=\"#DejaVuSans-65\" x=\"681.644531\"/>\n      <use xlink:href=\"#DejaVuSans-6c\" x=\"743.167969\"/>\n     </g>\n    </g>\n   </g>\n   <g id=\"matplotlib.axis_2\">\n    <g id=\"ytick_1\">\n     <g id=\"line2d_3\">\n      <path d=\"M 60.024281 115.815125 \nL 406.513736 115.815125 \n\" clip-path=\"url(#pc4b6f6bd22)\" style=\"fill: none; stroke: #ffffff; stroke-linecap: round\"/>\n     </g>\n     <g id=\"text_4\">\n      <!-- Informative -->\n      <g style=\"fill: #262626\" transform=\"translate(48.007859 150.60357) rotate(-90) scale(0.121 -0.121)\">\n       <use xlink:href=\"#DejaVuSans-49\"/>\n       <use xlink:href=\"#DejaVuSans-6e\" x=\"29.492188\"/>\n       <use xlink:href=\"#DejaVuSans-66\" x=\"92.871094\"/>\n       <use xlink:href=\"#DejaVuSans-6f\" x=\"128.076172\"/>\n       <use xlink:href=\"#DejaVuSans-72\" x=\"189.257812\"/>\n       <use xlink:href=\"#DejaVuSans-6d\" x=\"228.621094\"/>\n       <use xlink:href=\"#DejaVuSans-61\" x=\"326.033203\"/>\n       <use xlink:href=\"#DejaVuSans-74\" x=\"387.3125\"/>\n       <use xlink:href=\"#DejaVuSans-69\" x=\"426.521484\"/>\n       <use xlink:href=\"#DejaVuSans-76\" x=\"454.304688\"/>\n       <use xlink:href=\"#DejaVuSans-65\" x=\"513.484375\"/>\n      </g>\n     </g>\n    </g>\n    <g id=\"ytick_2\">\n     <g id=\"line2d_4\">\n      <path d=\"M 60.024281 274.809125 \nL 406.513736 274.809125 \n\" clip-path=\"url(#pc4b6f6bd22)\" style=\"fill: none; stroke: #ffffff; stroke-linecap: round\"/>\n     </g>\n     <g id=\"text_5\">\n      <!-- Non-Informative -->\n      <g style=\"fill: #262626\" transform=\"translate(48.007859 323.842484) rotate(-90) scale(0.121 -0.121)\">\n       <use xlink:href=\"#DejaVuSans-4e\"/>\n       <use xlink:href=\"#DejaVuSans-6f\" x=\"74.804688\"/>\n       <use xlink:href=\"#DejaVuSans-6e\" x=\"135.986328\"/>\n       <use xlink:href=\"#DejaVuSans-2d\" x=\"199.365234\"/>\n       <use xlink:href=\"#DejaVuSans-49\" x=\"235.449219\"/>\n       <use xlink:href=\"#DejaVuSans-6e\" x=\"264.941406\"/>\n       <use xlink:href=\"#DejaVuSans-66\" x=\"328.320312\"/>\n       <use xlink:href=\"#DejaVuSans-6f\" x=\"363.525391\"/>\n       <use xlink:href=\"#DejaVuSans-72\" x=\"424.707031\"/>\n       <use xlink:href=\"#DejaVuSans-6d\" x=\"464.070312\"/>\n       <use xlink:href=\"#DejaVuSans-61\" x=\"561.482422\"/>\n       <use xlink:href=\"#DejaVuSans-74\" x=\"622.761719\"/>\n       <use xlink:href=\"#DejaVuSans-69\" x=\"661.970703\"/>\n       <use xlink:href=\"#DejaVuSans-76\" x=\"689.753906\"/>\n       <use xlink:href=\"#DejaVuSans-65\" x=\"748.933594\"/>\n      </g>\n     </g>\n    </g>\n    <g id=\"text_6\">\n     <!-- Gold Label -->\n     <g style=\"fill: #262626\" transform=\"translate(16.318125 227.203063) rotate(-90) scale(0.12 -0.12)\">\n      <defs>\n       <path id=\"DejaVuSans-47\" d=\"M 3809 666 \nL 3809 1919 \nL 2778 1919 \nL 2778 2438 \nL 4434 2438 \nL 4434 434 \nQ 4069 175 3628 42 \nQ 3188 -91 2688 -91 \nQ 1594 -91 976 548 \nQ 359 1188 359 2328 \nQ 359 3472 976 4111 \nQ 1594 4750 2688 4750 \nQ 3144 4750 3555 4637 \nQ 3966 4525 4313 4306 \nL 4313 3634 \nQ 3963 3931 3569 4081 \nQ 3175 4231 2741 4231 \nQ 1884 4231 1454 3753 \nQ 1025 3275 1025 2328 \nQ 1025 1384 1454 906 \nQ 1884 428 2741 428 \nQ 3075 428 3337 486 \nQ 3600 544 3809 666 \nz\n\" transform=\"scale(0.015625)\"/>\n      </defs>\n      <use xlink:href=\"#DejaVuSans-47\"/>\n      <use xlink:href=\"#DejaVuSans-6f\" x=\"77.490234\"/>\n      <use xlink:href=\"#DejaVuSans-6c\" x=\"138.671875\"/>\n      <use xlink:href=\"#DejaVuSans-64\" x=\"166.455078\"/>\n      <use xlink:href=\"#DejaVuSans-20\" x=\"229.931641\"/>\n      <use xlink:href=\"#DejaVuSans-4c\" x=\"261.71875\"/>\n      <use xlink:href=\"#DejaVuSans-61\" x=\"317.431641\"/>\n      <use xlink:href=\"#DejaVuSans-62\" x=\"378.710938\"/>\n      <use xlink:href=\"#DejaVuSans-65\" x=\"442.1875\"/>\n      <use xlink:href=\"#DejaVuSans-6c\" x=\"503.710938\"/>\n     </g>\n    </g>\n   </g>\n   <g id=\"QuadMesh_1\">\n    <path d=\"M 60.024281 36.318125 \nL 233.269009 36.318125 \nL 233.269009 195.312125 \nL 60.024281 195.312125 \nL 60.024281 36.318125 \n\" clip-path=\"url(#pc4b6f6bd22)\" style=\"fill: #dbdbdb\"/>\n    <path d=\"M 233.269009 36.318125 \nL 406.513736 36.318125 \nL 406.513736 195.312125 \nL 233.269009 195.312125 \nL 233.269009 36.318125 \n\" clip-path=\"url(#pc4b6f6bd22)\" style=\"fill: #242424\"/>\n    <path d=\"M 60.024281 195.312125 \nL 233.269009 195.312125 \nL 233.269009 354.306125 \nL 60.024281 354.306125 \nL 60.024281 195.312125 \n\" clip-path=\"url(#pc4b6f6bd22)\"/>\n    <path d=\"M 233.269009 195.312125 \nL 406.513736 195.312125 \nL 406.513736 354.306125 \nL 233.269009 354.306125 \nL 233.269009 195.312125 \n\" clip-path=\"url(#pc4b6f6bd22)\" style=\"fill: #ffffff\"/>\n   </g>\n   <g id=\"text_7\">\n    <!-- 73.67% -->\n    <g style=\"fill: #262626\" transform=\"translate(121.481051 119.4575) scale(0.132 -0.132)\">\n     <defs>\n      <path id=\"DejaVuSans-37\" d=\"M 525 4666 \nL 3525 4666 \nL 3525 4397 \nL 1831 0 \nL 1172 0 \nL 2766 4134 \nL 525 4134 \nL 525 4666 \nz\n\" transform=\"scale(0.015625)\"/>\n      <path id=\"DejaVuSans-33\" d=\"M 2597 2516 \nQ 3050 2419 3304 2112 \nQ 3559 1806 3559 1356 \nQ 3559 666 3084 287 \nQ 2609 -91 1734 -91 \nQ 1441 -91 1130 -33 \nQ 819 25 488 141 \nL 488 750 \nQ 750 597 1062 519 \nQ 1375 441 1716 441 \nQ 2309 441 2620 675 \nQ 2931 909 2931 1356 \nQ 2931 1769 2642 2001 \nQ 2353 2234 1838 2234 \nL 1294 2234 \nL 1294 2753 \nL 1863 2753 \nQ 2328 2753 2575 2939 \nQ 2822 3125 2822 3475 \nQ 2822 3834 2567 4026 \nQ 2313 4219 1838 4219 \nQ 1578 4219 1281 4162 \nQ 984 4106 628 3988 \nL 628 4550 \nQ 988 4650 1302 4700 \nQ 1616 4750 1894 4750 \nQ 2613 4750 3031 4423 \nQ 3450 4097 3450 3541 \nQ 3450 3153 3228 2886 \nQ 3006 2619 2597 2516 \nz\n\" transform=\"scale(0.015625)\"/>\n      <path id=\"DejaVuSans-2e\" d=\"M 684 794 \nL 1344 794 \nL 1344 0 \nL 684 0 \nL 684 794 \nz\n\" transform=\"scale(0.015625)\"/>\n      <path id=\"DejaVuSans-36\" d=\"M 2113 2584 \nQ 1688 2584 1439 2293 \nQ 1191 2003 1191 1497 \nQ 1191 994 1439 701 \nQ 1688 409 2113 409 \nQ 2538 409 2786 701 \nQ 3034 994 3034 1497 \nQ 3034 2003 2786 2293 \nQ 2538 2584 2113 2584 \nz\nM 3366 4563 \nL 3366 3988 \nQ 3128 4100 2886 4159 \nQ 2644 4219 2406 4219 \nQ 1781 4219 1451 3797 \nQ 1122 3375 1075 2522 \nQ 1259 2794 1537 2939 \nQ 1816 3084 2150 3084 \nQ 2853 3084 3261 2657 \nQ 3669 2231 3669 1497 \nQ 3669 778 3244 343 \nQ 2819 -91 2113 -91 \nQ 1303 -91 875 529 \nQ 447 1150 447 2328 \nQ 447 3434 972 4092 \nQ 1497 4750 2381 4750 \nQ 2619 4750 2861 4703 \nQ 3103 4656 3366 4563 \nz\n\" transform=\"scale(0.015625)\"/>\n      <path id=\"DejaVuSans-25\" d=\"M 4653 2053 \nQ 4381 2053 4226 1822 \nQ 4072 1591 4072 1178 \nQ 4072 772 4226 539 \nQ 4381 306 4653 306 \nQ 4919 306 5073 539 \nQ 5228 772 5228 1178 \nQ 5228 1588 5073 1820 \nQ 4919 2053 4653 2053 \nz\nM 4653 2450 \nQ 5147 2450 5437 2106 \nQ 5728 1763 5728 1178 \nQ 5728 594 5436 251 \nQ 5144 -91 4653 -91 \nQ 4153 -91 3862 251 \nQ 3572 594 3572 1178 \nQ 3572 1766 3864 2108 \nQ 4156 2450 4653 2450 \nz\nM 1428 4353 \nQ 1159 4353 1004 4120 \nQ 850 3888 850 3481 \nQ 850 3069 1003 2837 \nQ 1156 2606 1428 2606 \nQ 1700 2606 1854 2837 \nQ 2009 3069 2009 3481 \nQ 2009 3884 1853 4118 \nQ 1697 4353 1428 4353 \nz\nM 4250 4750 \nL 4750 4750 \nL 1831 -91 \nL 1331 -91 \nL 4250 4750 \nz\nM 1428 4750 \nQ 1922 4750 2215 4408 \nQ 2509 4066 2509 3481 \nQ 2509 2891 2217 2550 \nQ 1925 2209 1428 2209 \nQ 931 2209 642 2551 \nQ 353 2894 353 3481 \nQ 353 4063 643 4406 \nQ 934 4750 1428 4750 \nz\n\" transform=\"scale(0.015625)\"/>\n     </defs>\n     <use xlink:href=\"#DejaVuSans-37\"/>\n     <use xlink:href=\"#DejaVuSans-33\" x=\"63.623047\"/>\n     <use xlink:href=\"#DejaVuSans-2e\" x=\"127.246094\"/>\n     <use xlink:href=\"#DejaVuSans-36\" x=\"159.033203\"/>\n     <use xlink:href=\"#DejaVuSans-37\" x=\"222.65625\"/>\n     <use xlink:href=\"#DejaVuSans-25\" x=\"286.279297\"/>\n    </g>\n   </g>\n   <g id=\"text_8\">\n    <!-- 26.33% -->\n    <g style=\"fill: #ffffff\" transform=\"translate(294.725778 119.4575) scale(0.132 -0.132)\">\n     <defs>\n      <path id=\"DejaVuSans-32\" d=\"M 1228 531 \nL 3431 531 \nL 3431 0 \nL 469 0 \nL 469 531 \nQ 828 903 1448 1529 \nQ 2069 2156 2228 2338 \nQ 2531 2678 2651 2914 \nQ 2772 3150 2772 3378 \nQ 2772 3750 2511 3984 \nQ 2250 4219 1831 4219 \nQ 1534 4219 1204 4116 \nQ 875 4013 500 3803 \nL 500 4441 \nQ 881 4594 1212 4672 \nQ 1544 4750 1819 4750 \nQ 2544 4750 2975 4387 \nQ 3406 4025 3406 3419 \nQ 3406 3131 3298 2873 \nQ 3191 2616 2906 2266 \nQ 2828 2175 2409 1742 \nQ 1991 1309 1228 531 \nz\n\" transform=\"scale(0.015625)\"/>\n     </defs>\n     <use xlink:href=\"#DejaVuSans-32\"/>\n     <use xlink:href=\"#DejaVuSans-36\" x=\"63.623047\"/>\n     <use xlink:href=\"#DejaVuSans-2e\" x=\"127.246094\"/>\n     <use xlink:href=\"#DejaVuSans-33\" x=\"159.033203\"/>\n     <use xlink:href=\"#DejaVuSans-33\" x=\"222.65625\"/>\n     <use xlink:href=\"#DejaVuSans-25\" x=\"286.279297\"/>\n    </g>\n   </g>\n   <g id=\"text_9\">\n    <!-- 16.71% -->\n    <g style=\"fill: #ffffff\" transform=\"translate(121.481051 278.4515) scale(0.132 -0.132)\">\n     <defs>\n      <path id=\"DejaVuSans-31\" d=\"M 794 531 \nL 1825 531 \nL 1825 4091 \nL 703 3866 \nL 703 4441 \nL 1819 4666 \nL 2450 4666 \nL 2450 531 \nL 3481 531 \nL 3481 0 \nL 794 0 \nL 794 531 \nz\n\" transform=\"scale(0.015625)\"/>\n     </defs>\n     <use xlink:href=\"#DejaVuSans-31\"/>\n     <use xlink:href=\"#DejaVuSans-36\" x=\"63.623047\"/>\n     <use xlink:href=\"#DejaVuSans-2e\" x=\"127.246094\"/>\n     <use xlink:href=\"#DejaVuSans-37\" x=\"159.033203\"/>\n     <use xlink:href=\"#DejaVuSans-31\" x=\"222.65625\"/>\n     <use xlink:href=\"#DejaVuSans-25\" x=\"286.279297\"/>\n    </g>\n   </g>\n   <g id=\"text_10\">\n    <!-- 83.29% -->\n    <g style=\"fill: #262626\" transform=\"translate(294.725778 278.4515) scale(0.132 -0.132)\">\n     <defs>\n      <path id=\"DejaVuSans-38\" d=\"M 2034 2216 \nQ 1584 2216 1326 1975 \nQ 1069 1734 1069 1313 \nQ 1069 891 1326 650 \nQ 1584 409 2034 409 \nQ 2484 409 2743 651 \nQ 3003 894 3003 1313 \nQ 3003 1734 2745 1975 \nQ 2488 2216 2034 2216 \nz\nM 1403 2484 \nQ 997 2584 770 2862 \nQ 544 3141 544 3541 \nQ 544 4100 942 4425 \nQ 1341 4750 2034 4750 \nQ 2731 4750 3128 4425 \nQ 3525 4100 3525 3541 \nQ 3525 3141 3298 2862 \nQ 3072 2584 2669 2484 \nQ 3125 2378 3379 2068 \nQ 3634 1759 3634 1313 \nQ 3634 634 3220 271 \nQ 2806 -91 2034 -91 \nQ 1263 -91 848 271 \nQ 434 634 434 1313 \nQ 434 1759 690 2068 \nQ 947 2378 1403 2484 \nz\nM 1172 3481 \nQ 1172 3119 1398 2916 \nQ 1625 2713 2034 2713 \nQ 2441 2713 2670 2916 \nQ 2900 3119 2900 3481 \nQ 2900 3844 2670 4047 \nQ 2441 4250 2034 4250 \nQ 1625 4250 1398 4047 \nQ 1172 3844 1172 3481 \nz\n\" transform=\"scale(0.015625)\"/>\n      <path id=\"DejaVuSans-39\" d=\"M 703 97 \nL 703 672 \nQ 941 559 1184 500 \nQ 1428 441 1663 441 \nQ 2288 441 2617 861 \nQ 2947 1281 2994 2138 \nQ 2813 1869 2534 1725 \nQ 2256 1581 1919 1581 \nQ 1219 1581 811 2004 \nQ 403 2428 403 3163 \nQ 403 3881 828 4315 \nQ 1253 4750 1959 4750 \nQ 2769 4750 3195 4129 \nQ 3622 3509 3622 2328 \nQ 3622 1225 3098 567 \nQ 2575 -91 1691 -91 \nQ 1453 -91 1209 -44 \nQ 966 3 703 97 \nz\nM 1959 2075 \nQ 2384 2075 2632 2365 \nQ 2881 2656 2881 3163 \nQ 2881 3666 2632 3958 \nQ 2384 4250 1959 4250 \nQ 1534 4250 1286 3958 \nQ 1038 3666 1038 3163 \nQ 1038 2656 1286 2365 \nQ 1534 2075 1959 2075 \nz\n\" transform=\"scale(0.015625)\"/>\n     </defs>\n     <use xlink:href=\"#DejaVuSans-38\"/>\n     <use xlink:href=\"#DejaVuSans-33\" x=\"63.623047\"/>\n     <use xlink:href=\"#DejaVuSans-2e\" x=\"127.246094\"/>\n     <use xlink:href=\"#DejaVuSans-32\" x=\"159.033203\"/>\n     <use xlink:href=\"#DejaVuSans-39\" x=\"222.65625\"/>\n     <use xlink:href=\"#DejaVuSans-25\" x=\"286.279297\"/>\n    </g>\n   </g>\n   <g id=\"text_11\">\n    <!-- English -->\n    <g style=\"fill: #262626\" transform=\"translate(211.604321 16.318125) scale(0.12 -0.12)\">\n     <defs>\n      <path id=\"DejaVuSans-45\" d=\"M 628 4666 \nL 3578 4666 \nL 3578 4134 \nL 1259 4134 \nL 1259 2753 \nL 3481 2753 \nL 3481 2222 \nL 1259 2222 \nL 1259 531 \nL 3634 531 \nL 3634 0 \nL 628 0 \nL 628 4666 \nz\n\" transform=\"scale(0.015625)\"/>\n      <path id=\"DejaVuSans-67\" d=\"M 2906 1791 \nQ 2906 2416 2648 2759 \nQ 2391 3103 1925 3103 \nQ 1463 3103 1205 2759 \nQ 947 2416 947 1791 \nQ 947 1169 1205 825 \nQ 1463 481 1925 481 \nQ 2391 481 2648 825 \nQ 2906 1169 2906 1791 \nz\nM 3481 434 \nQ 3481 -459 3084 -895 \nQ 2688 -1331 1869 -1331 \nQ 1566 -1331 1297 -1286 \nQ 1028 -1241 775 -1147 \nL 775 -588 \nQ 1028 -725 1275 -790 \nQ 1522 -856 1778 -856 \nQ 2344 -856 2625 -561 \nQ 2906 -266 2906 331 \nL 2906 616 \nQ 2728 306 2450 153 \nQ 2172 0 1784 0 \nQ 1141 0 747 490 \nQ 353 981 353 1791 \nQ 353 2603 747 3093 \nQ 1141 3584 1784 3584 \nQ 2172 3584 2450 3431 \nQ 2728 3278 2906 2969 \nL 2906 3500 \nL 3481 3500 \nL 3481 434 \nz\n\" transform=\"scale(0.015625)\"/>\n      <path id=\"DejaVuSans-73\" d=\"M 2834 3397 \nL 2834 2853 \nQ 2591 2978 2328 3040 \nQ 2066 3103 1784 3103 \nQ 1356 3103 1142 2972 \nQ 928 2841 928 2578 \nQ 928 2378 1081 2264 \nQ 1234 2150 1697 2047 \nL 1894 2003 \nQ 2506 1872 2764 1633 \nQ 3022 1394 3022 966 \nQ 3022 478 2636 193 \nQ 2250 -91 1575 -91 \nQ 1294 -91 989 -36 \nQ 684 19 347 128 \nL 347 722 \nQ 666 556 975 473 \nQ 1284 391 1588 391 \nQ 1994 391 2212 530 \nQ 2431 669 2431 922 \nQ 2431 1156 2273 1281 \nQ 2116 1406 1581 1522 \nL 1381 1569 \nQ 847 1681 609 1914 \nQ 372 2147 372 2553 \nQ 372 3047 722 3315 \nQ 1072 3584 1716 3584 \nQ 2034 3584 2315 3537 \nQ 2597 3491 2834 3397 \nz\n\" transform=\"scale(0.015625)\"/>\n      <path id=\"DejaVuSans-68\" d=\"M 3513 2113 \nL 3513 0 \nL 2938 0 \nL 2938 2094 \nQ 2938 2591 2744 2837 \nQ 2550 3084 2163 3084 \nQ 1697 3084 1428 2787 \nQ 1159 2491 1159 1978 \nL 1159 0 \nL 581 0 \nL 581 4863 \nL 1159 4863 \nL 1159 2956 \nQ 1366 3272 1645 3428 \nQ 1925 3584 2291 3584 \nQ 2894 3584 3203 3211 \nQ 3513 2838 3513 2113 \nz\n\" transform=\"scale(0.015625)\"/>\n     </defs>\n     <use xlink:href=\"#DejaVuSans-45\"/>\n     <use xlink:href=\"#DejaVuSans-6e\" x=\"63.183594\"/>\n     <use xlink:href=\"#DejaVuSans-67\" x=\"126.5625\"/>\n     <use xlink:href=\"#DejaVuSans-6c\" x=\"190.039062\"/>\n     <use xlink:href=\"#DejaVuSans-69\" x=\"217.822266\"/>\n     <use xlink:href=\"#DejaVuSans-73\" x=\"245.605469\"/>\n     <use xlink:href=\"#DejaVuSans-68\" x=\"297.705078\"/>\n    </g>\n   </g>\n  </g>\n  <g id=\"axes_2\">\n   <g id=\"patch_3\">\n    <path d=\"M 428.169327 354.306125 \nL 444.068727 354.306125 \nL 444.068727 36.318125 \nL 428.169327 36.318125 \nz\n\" style=\"fill: #eaeaf2\"/>\n   </g>\n   <g id=\"matplotlib.axis_3\"/>\n   <g id=\"matplotlib.axis_4\">\n    <g id=\"ytick_3\">\n     <g id=\"line2d_5\">\n      <defs>\n       <path id=\"mab428052a0\" d=\"M 0 0 \nL 6 0 \n\" style=\"stroke: #262626; stroke-width: 1.25\"/>\n      </defs>\n      <g>\n       <use xlink:href=\"#mab428052a0\" x=\"444.068727\" y=\"338.59299\" style=\"fill: #262626; stroke: #262626; stroke-width: 1.25\"/>\n      </g>\n     </g>\n     <g id=\"text_12\">\n      <!-- 20 -->\n      <g style=\"fill: #262626\" transform=\"translate(453.568727 343.190045) scale(0.121 -0.121)\">\n       <defs>\n        <path id=\"DejaVuSans-30\" d=\"M 2034 4250 \nQ 1547 4250 1301 3770 \nQ 1056 3291 1056 2328 \nQ 1056 1369 1301 889 \nQ 1547 409 2034 409 \nQ 2525 409 2770 889 \nQ 3016 1369 3016 2328 \nQ 3016 3291 2770 3770 \nQ 2525 4250 2034 4250 \nz\nM 2034 4750 \nQ 2819 4750 3233 4129 \nQ 3647 3509 3647 2328 \nQ 3647 1150 3233 529 \nQ 2819 -91 2034 -91 \nQ 1250 -91 836 529 \nQ 422 1150 422 2328 \nQ 422 3509 836 4129 \nQ 1250 4750 2034 4750 \nz\n\" transform=\"scale(0.015625)\"/>\n       </defs>\n       <use xlink:href=\"#DejaVuSans-32\"/>\n       <use xlink:href=\"#DejaVuSans-30\" x=\"63.623047\"/>\n      </g>\n     </g>\n    </g>\n    <g id=\"ytick_4\">\n     <g id=\"line2d_6\">\n      <g>\n       <use xlink:href=\"#mab428052a0\" x=\"444.068727\" y=\"290.832702\" style=\"fill: #262626; stroke: #262626; stroke-width: 1.25\"/>\n      </g>\n     </g>\n     <g id=\"text_13\">\n      <!-- 30 -->\n      <g style=\"fill: #262626\" transform=\"translate(453.568727 295.429756) scale(0.121 -0.121)\">\n       <use xlink:href=\"#DejaVuSans-33\"/>\n       <use xlink:href=\"#DejaVuSans-30\" x=\"63.623047\"/>\n      </g>\n     </g>\n    </g>\n    <g id=\"ytick_5\">\n     <g id=\"line2d_7\">\n      <g>\n       <use xlink:href=\"#mab428052a0\" x=\"444.068727\" y=\"243.072413\" style=\"fill: #262626; stroke: #262626; stroke-width: 1.25\"/>\n      </g>\n     </g>\n     <g id=\"text_14\">\n      <!-- 40 -->\n      <g style=\"fill: #262626\" transform=\"translate(453.568727 247.669468) scale(0.121 -0.121)\">\n       <defs>\n        <path id=\"DejaVuSans-34\" d=\"M 2419 4116 \nL 825 1625 \nL 2419 1625 \nL 2419 4116 \nz\nM 2253 4666 \nL 3047 4666 \nL 3047 1625 \nL 3713 1625 \nL 3713 1100 \nL 3047 1100 \nL 3047 0 \nL 2419 0 \nL 2419 1100 \nL 313 1100 \nL 313 1709 \nL 2253 4666 \nz\n\" transform=\"scale(0.015625)\"/>\n       </defs>\n       <use xlink:href=\"#DejaVuSans-34\"/>\n       <use xlink:href=\"#DejaVuSans-30\" x=\"63.623047\"/>\n      </g>\n     </g>\n    </g>\n    <g id=\"ytick_6\">\n     <g id=\"line2d_8\">\n      <g>\n       <use xlink:href=\"#mab428052a0\" x=\"444.068727\" y=\"195.312125\" style=\"fill: #262626; stroke: #262626; stroke-width: 1.25\"/>\n      </g>\n     </g>\n     <g id=\"text_15\">\n      <!-- 50 -->\n      <g style=\"fill: #262626\" transform=\"translate(453.568727 199.90918) scale(0.121 -0.121)\">\n       <defs>\n        <path id=\"DejaVuSans-35\" d=\"M 691 4666 \nL 3169 4666 \nL 3169 4134 \nL 1269 4134 \nL 1269 2991 \nQ 1406 3038 1543 3061 \nQ 1681 3084 1819 3084 \nQ 2600 3084 3056 2656 \nQ 3513 2228 3513 1497 \nQ 3513 744 3044 326 \nQ 2575 -91 1722 -91 \nQ 1428 -91 1123 -41 \nQ 819 9 494 109 \nL 494 744 \nQ 775 591 1075 516 \nQ 1375 441 1709 441 \nQ 2250 441 2565 725 \nQ 2881 1009 2881 1497 \nQ 2881 1984 2565 2268 \nQ 2250 2553 1709 2553 \nQ 1456 2553 1204 2497 \nQ 953 2441 691 2322 \nL 691 4666 \nz\n\" transform=\"scale(0.015625)\"/>\n       </defs>\n       <use xlink:href=\"#DejaVuSans-35\"/>\n       <use xlink:href=\"#DejaVuSans-30\" x=\"63.623047\"/>\n      </g>\n     </g>\n    </g>\n    <g id=\"ytick_7\">\n     <g id=\"line2d_9\">\n      <g>\n       <use xlink:href=\"#mab428052a0\" x=\"444.068727\" y=\"147.551837\" style=\"fill: #262626; stroke: #262626; stroke-width: 1.25\"/>\n      </g>\n     </g>\n     <g id=\"text_16\">\n      <!-- 60 -->\n      <g style=\"fill: #262626\" transform=\"translate(453.568727 152.148891) scale(0.121 -0.121)\">\n       <use xlink:href=\"#DejaVuSans-36\"/>\n       <use xlink:href=\"#DejaVuSans-30\" x=\"63.623047\"/>\n      </g>\n     </g>\n    </g>\n    <g id=\"ytick_8\">\n     <g id=\"line2d_10\">\n      <g>\n       <use xlink:href=\"#mab428052a0\" x=\"444.068727\" y=\"99.791548\" style=\"fill: #262626; stroke: #262626; stroke-width: 1.25\"/>\n      </g>\n     </g>\n     <g id=\"text_17\">\n      <!-- 70 -->\n      <g style=\"fill: #262626\" transform=\"translate(453.568727 104.388603) scale(0.121 -0.121)\">\n       <use xlink:href=\"#DejaVuSans-37\"/>\n       <use xlink:href=\"#DejaVuSans-30\" x=\"63.623047\"/>\n      </g>\n     </g>\n    </g>\n    <g id=\"ytick_9\">\n     <g id=\"line2d_11\">\n      <g>\n       <use xlink:href=\"#mab428052a0\" x=\"444.068727\" y=\"52.03126\" style=\"fill: #262626; stroke: #262626; stroke-width: 1.25\"/>\n      </g>\n     </g>\n     <g id=\"text_18\">\n      <!-- 80 -->\n      <g style=\"fill: #262626\" transform=\"translate(453.568727 56.628315) scale(0.121 -0.121)\">\n       <use xlink:href=\"#DejaVuSans-38\"/>\n       <use xlink:href=\"#DejaVuSans-30\" x=\"63.623047\"/>\n      </g>\n     </g>\n    </g>\n   </g>\n   <image xlink:href=\"data:image/png;base64,\niVBORw0KGgoAAAANSUhEUgAAABYAAAG6CAYAAAAMHbYaAAABWUlEQVR4nO3SwWkAQQwEwT3j/FO2f52BHgNVAYhm0Pfe+3sHfi6Ovvfe7/d9J4cV56zYFNkrNkUUx7tFcfaKTZG9YlNEcbxbFN8f3ptCcbxbFGev2BTZKzZFFMe7RXH2ik2RvWJTRHG8WxRnr9gU2Ss2RRTHu0Vx9opNkb1iU0RxvFsU3x/em0JxvFsUZ6/YFNkrNkUUx7tFcfaKTZG9YlNEcbxbFGev2BTZKzZFFMe7RfH94b0pFMe7RXH2ik2RvWJTRHG8WxRnr9gU2Ss2RRTHu0Vx9opNkb1iU0RxvFsU3x/em0JxvFsUZ6/YFNkrNkUUx7tFcfaKTZG9YlNEcbxbFGev2BTZKzZFFMe7RXH2ik2RvWJTRHG8WxTfH96bQnG8WxRnr9gU2Ss2RRTHu0Vx9opNkb1iU0RxvFsUZ6/YFNkrNkUUx7tF8f3hvSkUx7tFcfaK96b4B3InCW7Yl9XRAAAAAElFTkSuQmCC\" id=\"imageae47ccb375\" transform=\"scale(1 -1) translate(0 -318.24)\" x=\"428.4\" y=\"-36\" width=\"15.84\" height=\"318.24\"/>\n   <g id=\"LineCollection_1\"/>\n   <g id=\"patch_4\">\n    <path d=\"M 428.169327 354.306125 \nL 436.119027 354.306125 \nL 444.068727 354.306125 \nL 444.068727 36.318125 \nL 436.119027 36.318125 \nL 428.169327 36.318125 \nL 428.169327 354.306125 \nz\n\" style=\"fill: none\"/>\n   </g>\n  </g>\n  <g id=\"axes_3\">\n   <g id=\"patch_5\">\n    <path d=\"M 550.980463 354.306125 \nL 897.469918 354.306125 \nL 897.469918 36.318125 \nL 550.980463 36.318125 \nz\n\" style=\"fill: #eaeaf2\"/>\n   </g>\n   <g id=\"matplotlib.axis_5\">\n    <g id=\"xtick_3\">\n     <g id=\"line2d_12\">\n      <path d=\"M 637.602827 354.306125 \nL 637.602827 36.318125 \n\" clip-path=\"url(#pe34488d0c8)\" style=\"fill: none; stroke: #ffffff; stroke-linecap: round\"/>\n     </g>\n     <g id=\"text_19\">\n      <!-- Informative -->\n      <g style=\"fill: #262626\" transform=\"translate(602.814381 373.000234) scale(0.121 -0.121)\">\n       <use xlink:href=\"#DejaVuSans-49\"/>\n       <use xlink:href=\"#DejaVuSans-6e\" x=\"29.492188\"/>\n       <use xlink:href=\"#DejaVuSans-66\" x=\"92.871094\"/>\n       <use xlink:href=\"#DejaVuSans-6f\" x=\"128.076172\"/>\n       <use xlink:href=\"#DejaVuSans-72\" x=\"189.257812\"/>\n       <use xlink:href=\"#DejaVuSans-6d\" x=\"228.621094\"/>\n       <use xlink:href=\"#DejaVuSans-61\" x=\"326.033203\"/>\n       <use xlink:href=\"#DejaVuSans-74\" x=\"387.3125\"/>\n       <use xlink:href=\"#DejaVuSans-69\" x=\"426.521484\"/>\n       <use xlink:href=\"#DejaVuSans-76\" x=\"454.304688\"/>\n       <use xlink:href=\"#DejaVuSans-65\" x=\"513.484375\"/>\n      </g>\n     </g>\n    </g>\n    <g id=\"xtick_4\">\n     <g id=\"line2d_13\">\n      <path d=\"M 810.847554 354.306125 \nL 810.847554 36.318125 \n\" clip-path=\"url(#pe34488d0c8)\" style=\"fill: none; stroke: #ffffff; stroke-linecap: round\"/>\n     </g>\n     <g id=\"text_20\">\n      <!-- Non-Informative -->\n      <g style=\"fill: #262626\" transform=\"translate(761.814195 373.000234) scale(0.121 -0.121)\">\n       <use xlink:href=\"#DejaVuSans-4e\"/>\n       <use xlink:href=\"#DejaVuSans-6f\" x=\"74.804688\"/>\n       <use xlink:href=\"#DejaVuSans-6e\" x=\"135.986328\"/>\n       <use xlink:href=\"#DejaVuSans-2d\" x=\"199.365234\"/>\n       <use xlink:href=\"#DejaVuSans-49\" x=\"235.449219\"/>\n       <use xlink:href=\"#DejaVuSans-6e\" x=\"264.941406\"/>\n       <use xlink:href=\"#DejaVuSans-66\" x=\"328.320312\"/>\n       <use xlink:href=\"#DejaVuSans-6f\" x=\"363.525391\"/>\n       <use xlink:href=\"#DejaVuSans-72\" x=\"424.707031\"/>\n       <use xlink:href=\"#DejaVuSans-6d\" x=\"464.070312\"/>\n       <use xlink:href=\"#DejaVuSans-61\" x=\"561.482422\"/>\n       <use xlink:href=\"#DejaVuSans-74\" x=\"622.761719\"/>\n       <use xlink:href=\"#DejaVuSans-69\" x=\"661.970703\"/>\n       <use xlink:href=\"#DejaVuSans-76\" x=\"689.753906\"/>\n       <use xlink:href=\"#DejaVuSans-65\" x=\"748.933594\"/>\n      </g>\n     </g>\n    </g>\n    <g id=\"text_21\">\n     <!-- Predicted Label -->\n     <g style=\"fill: #262626\" transform=\"translate(677.966128 404.634781) scale(0.12 -0.12)\">\n      <use xlink:href=\"#DejaVuSans-50\"/>\n      <use xlink:href=\"#DejaVuSans-72\" x=\"58.552734\"/>\n      <use xlink:href=\"#DejaVuSans-65\" x=\"97.416016\"/>\n      <use xlink:href=\"#DejaVuSans-64\" x=\"158.939453\"/>\n      <use xlink:href=\"#DejaVuSans-69\" x=\"222.416016\"/>\n      <use xlink:href=\"#DejaVuSans-63\" x=\"250.199219\"/>\n      <use xlink:href=\"#DejaVuSans-74\" x=\"305.179688\"/>\n      <use xlink:href=\"#DejaVuSans-65\" x=\"344.388672\"/>\n      <use xlink:href=\"#DejaVuSans-64\" x=\"405.912109\"/>\n      <use xlink:href=\"#DejaVuSans-20\" x=\"469.388672\"/>\n      <use xlink:href=\"#DejaVuSans-4c\" x=\"501.175781\"/>\n      <use xlink:href=\"#DejaVuSans-61\" x=\"556.888672\"/>\n      <use xlink:href=\"#DejaVuSans-62\" x=\"618.167969\"/>\n      <use xlink:href=\"#DejaVuSans-65\" x=\"681.644531\"/>\n      <use xlink:href=\"#DejaVuSans-6c\" x=\"743.167969\"/>\n     </g>\n    </g>\n   </g>\n   <g id=\"matplotlib.axis_6\">\n    <g id=\"ytick_10\">\n     <g id=\"line2d_14\">\n      <path d=\"M 550.980463 115.815125 \nL 897.469918 115.815125 \n\" clip-path=\"url(#pe34488d0c8)\" style=\"fill: none; stroke: #ffffff; stroke-linecap: round\"/>\n     </g>\n     <g id=\"text_22\">\n      <!-- Informative -->\n      <g style=\"fill: #262626\" transform=\"translate(538.964041 150.60357) rotate(-90) scale(0.121 -0.121)\">\n       <use xlink:href=\"#DejaVuSans-49\"/>\n       <use xlink:href=\"#DejaVuSans-6e\" x=\"29.492188\"/>\n       <use xlink:href=\"#DejaVuSans-66\" x=\"92.871094\"/>\n       <use xlink:href=\"#DejaVuSans-6f\" x=\"128.076172\"/>\n       <use xlink:href=\"#DejaVuSans-72\" x=\"189.257812\"/>\n       <use xlink:href=\"#DejaVuSans-6d\" x=\"228.621094\"/>\n       <use xlink:href=\"#DejaVuSans-61\" x=\"326.033203\"/>\n       <use xlink:href=\"#DejaVuSans-74\" x=\"387.3125\"/>\n       <use xlink:href=\"#DejaVuSans-69\" x=\"426.521484\"/>\n       <use xlink:href=\"#DejaVuSans-76\" x=\"454.304688\"/>\n       <use xlink:href=\"#DejaVuSans-65\" x=\"513.484375\"/>\n      </g>\n     </g>\n    </g>\n    <g id=\"ytick_11\">\n     <g id=\"line2d_15\">\n      <path d=\"M 550.980463 274.809125 \nL 897.469918 274.809125 \n\" clip-path=\"url(#pe34488d0c8)\" style=\"fill: none; stroke: #ffffff; stroke-linecap: round\"/>\n     </g>\n     <g id=\"text_23\">\n      <!-- Non-Informative -->\n      <g style=\"fill: #262626\" transform=\"translate(538.964041 323.842484) rotate(-90) scale(0.121 -0.121)\">\n       <use xlink:href=\"#DejaVuSans-4e\"/>\n       <use xlink:href=\"#DejaVuSans-6f\" x=\"74.804688\"/>\n       <use xlink:href=\"#DejaVuSans-6e\" x=\"135.986328\"/>\n       <use xlink:href=\"#DejaVuSans-2d\" x=\"199.365234\"/>\n       <use xlink:href=\"#DejaVuSans-49\" x=\"235.449219\"/>\n       <use xlink:href=\"#DejaVuSans-6e\" x=\"264.941406\"/>\n       <use xlink:href=\"#DejaVuSans-66\" x=\"328.320312\"/>\n       <use xlink:href=\"#DejaVuSans-6f\" x=\"363.525391\"/>\n       <use xlink:href=\"#DejaVuSans-72\" x=\"424.707031\"/>\n       <use xlink:href=\"#DejaVuSans-6d\" x=\"464.070312\"/>\n       <use xlink:href=\"#DejaVuSans-61\" x=\"561.482422\"/>\n       <use xlink:href=\"#DejaVuSans-74\" x=\"622.761719\"/>\n       <use xlink:href=\"#DejaVuSans-69\" x=\"661.970703\"/>\n       <use xlink:href=\"#DejaVuSans-76\" x=\"689.753906\"/>\n       <use xlink:href=\"#DejaVuSans-65\" x=\"748.933594\"/>\n      </g>\n     </g>\n    </g>\n    <g id=\"text_24\">\n     <!-- Gold Label -->\n     <g style=\"fill: #262626\" transform=\"translate(507.274307 227.203063) rotate(-90) scale(0.12 -0.12)\">\n      <use xlink:href=\"#DejaVuSans-47\"/>\n      <use xlink:href=\"#DejaVuSans-6f\" x=\"77.490234\"/>\n      <use xlink:href=\"#DejaVuSans-6c\" x=\"138.671875\"/>\n      <use xlink:href=\"#DejaVuSans-64\" x=\"166.455078\"/>\n      <use xlink:href=\"#DejaVuSans-20\" x=\"229.931641\"/>\n      <use xlink:href=\"#DejaVuSans-4c\" x=\"261.71875\"/>\n      <use xlink:href=\"#DejaVuSans-61\" x=\"317.431641\"/>\n      <use xlink:href=\"#DejaVuSans-62\" x=\"378.710938\"/>\n      <use xlink:href=\"#DejaVuSans-65\" x=\"442.1875\"/>\n      <use xlink:href=\"#DejaVuSans-6c\" x=\"503.710938\"/>\n     </g>\n    </g>\n   </g>\n   <g id=\"QuadMesh_2\">\n    <path d=\"M 550.980463 36.318125 \nL 724.22519 36.318125 \nL 724.22519 195.312125 \nL 550.980463 195.312125 \nL 550.980463 36.318125 \n\" clip-path=\"url(#pe34488d0c8)\" style=\"fill: #808080\"/>\n    <path d=\"M 724.22519 36.318125 \nL 897.469918 36.318125 \nL 897.469918 195.312125 \nL 724.22519 195.312125 \nL 724.22519 36.318125 \n\" clip-path=\"url(#pe34488d0c8)\" style=\"fill: #808080\"/>\n    <path d=\"M 550.980463 195.312125 \nL 724.22519 195.312125 \nL 724.22519 354.306125 \nL 550.980463 354.306125 \nL 550.980463 195.312125 \n\" clip-path=\"url(#pe34488d0c8)\"/>\n    <path d=\"M 724.22519 195.312125 \nL 897.469918 195.312125 \nL 897.469918 354.306125 \nL 724.22519 354.306125 \nL 724.22519 195.312125 \n\" clip-path=\"url(#pe34488d0c8)\" style=\"fill: #ffffff\"/>\n   </g>\n   <g id=\"text_25\">\n    <!-- 50.00% -->\n    <g style=\"fill: #ffffff\" transform=\"translate(612.437233 119.4575) scale(0.132 -0.132)\">\n     <use xlink:href=\"#DejaVuSans-35\"/>\n     <use xlink:href=\"#DejaVuSans-30\" x=\"63.623047\"/>\n     <use xlink:href=\"#DejaVuSans-2e\" x=\"127.246094\"/>\n     <use xlink:href=\"#DejaVuSans-30\" x=\"159.033203\"/>\n     <use xlink:href=\"#DejaVuSans-30\" x=\"222.65625\"/>\n     <use xlink:href=\"#DejaVuSans-25\" x=\"286.279297\"/>\n    </g>\n   </g>\n   <g id=\"text_26\">\n    <!-- 50.00% -->\n    <g style=\"fill: #ffffff\" transform=\"translate(785.68196 119.4575) scale(0.132 -0.132)\">\n     <use xlink:href=\"#DejaVuSans-35\"/>\n     <use xlink:href=\"#DejaVuSans-30\" x=\"63.623047\"/>\n     <use xlink:href=\"#DejaVuSans-2e\" x=\"127.246094\"/>\n     <use xlink:href=\"#DejaVuSans-30\" x=\"159.033203\"/>\n     <use xlink:href=\"#DejaVuSans-30\" x=\"222.65625\"/>\n     <use xlink:href=\"#DejaVuSans-25\" x=\"286.279297\"/>\n    </g>\n   </g>\n   <g id=\"text_27\">\n    <!-- 11.76% -->\n    <g style=\"fill: #ffffff\" transform=\"translate(612.437233 278.4515) scale(0.132 -0.132)\">\n     <use xlink:href=\"#DejaVuSans-31\"/>\n     <use xlink:href=\"#DejaVuSans-31\" x=\"63.623047\"/>\n     <use xlink:href=\"#DejaVuSans-2e\" x=\"127.246094\"/>\n     <use xlink:href=\"#DejaVuSans-37\" x=\"159.033203\"/>\n     <use xlink:href=\"#DejaVuSans-36\" x=\"222.65625\"/>\n     <use xlink:href=\"#DejaVuSans-25\" x=\"286.279297\"/>\n    </g>\n   </g>\n   <g id=\"text_28\">\n    <!-- 88.24% -->\n    <g style=\"fill: #262626\" transform=\"translate(785.68196 278.4515) scale(0.132 -0.132)\">\n     <use xlink:href=\"#DejaVuSans-38\"/>\n     <use xlink:href=\"#DejaVuSans-38\" x=\"63.623047\"/>\n     <use xlink:href=\"#DejaVuSans-2e\" x=\"127.246094\"/>\n     <use xlink:href=\"#DejaVuSans-32\" x=\"159.033203\"/>\n     <use xlink:href=\"#DejaVuSans-34\" x=\"222.65625\"/>\n     <use xlink:href=\"#DejaVuSans-25\" x=\"286.279297\"/>\n    </g>\n   </g>\n   <g id=\"text_29\">\n    <!-- Swahili -->\n    <g style=\"fill: #262626\" transform=\"translate(703.029253 16.318125) scale(0.12 -0.12)\">\n     <defs>\n      <path id=\"DejaVuSans-53\" d=\"M 3425 4513 \nL 3425 3897 \nQ 3066 4069 2747 4153 \nQ 2428 4238 2131 4238 \nQ 1616 4238 1336 4038 \nQ 1056 3838 1056 3469 \nQ 1056 3159 1242 3001 \nQ 1428 2844 1947 2747 \nL 2328 2669 \nQ 3034 2534 3370 2195 \nQ 3706 1856 3706 1288 \nQ 3706 609 3251 259 \nQ 2797 -91 1919 -91 \nQ 1588 -91 1214 -16 \nQ 841 59 441 206 \nL 441 856 \nQ 825 641 1194 531 \nQ 1563 422 1919 422 \nQ 2459 422 2753 634 \nQ 3047 847 3047 1241 \nQ 3047 1584 2836 1778 \nQ 2625 1972 2144 2069 \nL 1759 2144 \nQ 1053 2284 737 2584 \nQ 422 2884 422 3419 \nQ 422 4038 858 4394 \nQ 1294 4750 2059 4750 \nQ 2388 4750 2728 4690 \nQ 3069 4631 3425 4513 \nz\n\" transform=\"scale(0.015625)\"/>\n      <path id=\"DejaVuSans-77\" d=\"M 269 3500 \nL 844 3500 \nL 1563 769 \nL 2278 3500 \nL 2956 3500 \nL 3675 769 \nL 4391 3500 \nL 4966 3500 \nL 4050 0 \nL 3372 0 \nL 2619 2869 \nL 1863 0 \nL 1184 0 \nL 269 3500 \nz\n\" transform=\"scale(0.015625)\"/>\n     </defs>\n     <use xlink:href=\"#DejaVuSans-53\"/>\n     <use xlink:href=\"#DejaVuSans-77\" x=\"63.476562\"/>\n     <use xlink:href=\"#DejaVuSans-61\" x=\"145.263672\"/>\n     <use xlink:href=\"#DejaVuSans-68\" x=\"206.542969\"/>\n     <use xlink:href=\"#DejaVuSans-69\" x=\"269.921875\"/>\n     <use xlink:href=\"#DejaVuSans-6c\" x=\"297.705078\"/>\n     <use xlink:href=\"#DejaVuSans-69\" x=\"325.488281\"/>\n    </g>\n   </g>\n  </g>\n  <g id=\"axes_4\">\n   <g id=\"patch_6\">\n    <path d=\"M 919.125509 354.306125 \nL 935.024909 354.306125 \nL 935.024909 36.318125 \nL 919.125509 36.318125 \nz\n\" style=\"fill: #eaeaf2\"/>\n   </g>\n   <g id=\"matplotlib.axis_7\"/>\n   <g id=\"matplotlib.axis_8\">\n    <g id=\"ytick_12\">\n     <g id=\"line2d_16\">\n      <g>\n       <use xlink:href=\"#mab428052a0\" x=\"935.024909\" y=\"320.045912\" style=\"fill: #262626; stroke: #262626; stroke-width: 1.25\"/>\n      </g>\n     </g>\n     <g id=\"text_30\">\n      <!-- 20 -->\n      <g style=\"fill: #262626\" transform=\"translate(944.524909 324.642966) scale(0.121 -0.121)\">\n       <use xlink:href=\"#DejaVuSans-32\"/>\n       <use xlink:href=\"#DejaVuSans-30\" x=\"63.623047\"/>\n      </g>\n     </g>\n    </g>\n    <g id=\"ytick_13\">\n     <g id=\"line2d_17\">\n      <g>\n       <use xlink:href=\"#mab428052a0\" x=\"935.024909\" y=\"278.467983\" style=\"fill: #262626; stroke: #262626; stroke-width: 1.25\"/>\n      </g>\n     </g>\n     <g id=\"text_31\">\n      <!-- 30 -->\n      <g style=\"fill: #262626\" transform=\"translate(944.524909 283.065037) scale(0.121 -0.121)\">\n       <use xlink:href=\"#DejaVuSans-33\"/>\n       <use xlink:href=\"#DejaVuSans-30\" x=\"63.623047\"/>\n      </g>\n     </g>\n    </g>\n    <g id=\"ytick_14\">\n     <g id=\"line2d_18\">\n      <g>\n       <use xlink:href=\"#mab428052a0\" x=\"935.024909\" y=\"236.890054\" style=\"fill: #262626; stroke: #262626; stroke-width: 1.25\"/>\n      </g>\n     </g>\n     <g id=\"text_32\">\n      <!-- 40 -->\n      <g style=\"fill: #262626\" transform=\"translate(944.524909 241.487109) scale(0.121 -0.121)\">\n       <use xlink:href=\"#DejaVuSans-34\"/>\n       <use xlink:href=\"#DejaVuSans-30\" x=\"63.623047\"/>\n      </g>\n     </g>\n    </g>\n    <g id=\"ytick_15\">\n     <g id=\"line2d_19\">\n      <g>\n       <use xlink:href=\"#mab428052a0\" x=\"935.024909\" y=\"195.312125\" style=\"fill: #262626; stroke: #262626; stroke-width: 1.25\"/>\n      </g>\n     </g>\n     <g id=\"text_33\">\n      <!-- 50 -->\n      <g style=\"fill: #262626\" transform=\"translate(944.524909 199.90918) scale(0.121 -0.121)\">\n       <use xlink:href=\"#DejaVuSans-35\"/>\n       <use xlink:href=\"#DejaVuSans-30\" x=\"63.623047\"/>\n      </g>\n     </g>\n    </g>\n    <g id=\"ytick_16\">\n     <g id=\"line2d_20\">\n      <g>\n       <use xlink:href=\"#mab428052a0\" x=\"935.024909\" y=\"153.734196\" style=\"fill: #262626; stroke: #262626; stroke-width: 1.25\"/>\n      </g>\n     </g>\n     <g id=\"text_34\">\n      <!-- 60 -->\n      <g style=\"fill: #262626\" transform=\"translate(944.524909 158.331251) scale(0.121 -0.121)\">\n       <use xlink:href=\"#DejaVuSans-36\"/>\n       <use xlink:href=\"#DejaVuSans-30\" x=\"63.623047\"/>\n      </g>\n     </g>\n    </g>\n    <g id=\"ytick_17\">\n     <g id=\"line2d_21\">\n      <g>\n       <use xlink:href=\"#mab428052a0\" x=\"935.024909\" y=\"112.156267\" style=\"fill: #262626; stroke: #262626; stroke-width: 1.25\"/>\n      </g>\n     </g>\n     <g id=\"text_35\">\n      <!-- 70 -->\n      <g style=\"fill: #262626\" transform=\"translate(944.524909 116.753322) scale(0.121 -0.121)\">\n       <use xlink:href=\"#DejaVuSans-37\"/>\n       <use xlink:href=\"#DejaVuSans-30\" x=\"63.623047\"/>\n      </g>\n     </g>\n    </g>\n    <g id=\"ytick_18\">\n     <g id=\"line2d_22\">\n      <g>\n       <use xlink:href=\"#mab428052a0\" x=\"935.024909\" y=\"70.578338\" style=\"fill: #262626; stroke: #262626; stroke-width: 1.25\"/>\n      </g>\n     </g>\n     <g id=\"text_36\">\n      <!-- 80 -->\n      <g style=\"fill: #262626\" transform=\"translate(944.524909 75.175393) scale(0.121 -0.121)\">\n       <use xlink:href=\"#DejaVuSans-38\"/>\n       <use xlink:href=\"#DejaVuSans-30\" x=\"63.623047\"/>\n      </g>\n     </g>\n    </g>\n   </g>\n   <image xlink:href=\"data:image/png;base64,\niVBORw0KGgoAAAANSUhEUgAAABYAAAG6CAYAAAAMHbYaAAABWUlEQVR4nO3SwWkAQQwEwT3j/FO2f52BHgNVAYhm0Pfe+3sHfi6Ovvfe7/d9J4cV56zYFNkrNkUUx7tFcfaKTZG9YlNEcbxbFN8f3ptCcbxbFGev2BTZKzZFFMe7RXH2ik2RvWJTRHG8WxRnr9gU2Ss2RRTHu0Vx9opNkb1iU0RxvFsU3x/em0JxvFsUZ6/YFNkrNkUUx7tFcfaKTZG9YlNEcbxbFGev2BTZKzZFFMe7RfH94b0pFMe7RXH2ik2RvWJTRHG8WxRnr9gU2Ss2RRTHu0Vx9opNkb1iU0RxvFsU3x/em0JxvFsUZ6/YFNkrNkUUx7tFcfaKTZG9YlNEcbxbFGev2BTZKzZFFMe7RXH2ik2RvWJTRHG8WxTfH96bQnG8WxRnr9gU2Ss2RRTHu0Vx9opNkb1iU0RxvFsUZ6/YFNkrNkUUx7tF8f3hvSkUx7tFcfaK96b4B3InCW7Yl9XRAAAAAElFTkSuQmCC\" id=\"image568a94d562\" transform=\"scale(1 -1) translate(0 -318.24)\" x=\"919.44\" y=\"-36\" width=\"15.84\" height=\"318.24\"/>\n   <g id=\"LineCollection_2\"/>\n   <g id=\"patch_7\">\n    <path d=\"M 919.125509 354.306125 \nL 927.075209 354.306125 \nL 935.024909 354.306125 \nL 935.024909 36.318125 \nL 927.075209 36.318125 \nL 919.125509 36.318125 \nL 919.125509 354.306125 \nz\n\" style=\"fill: none\"/>\n   </g>\n  </g>\n </g>\n <defs>\n  <clipPath id=\"pc4b6f6bd22\">\n   <rect x=\"60.024281\" y=\"36.318125\" width=\"346.489455\" height=\"317.988\"/>\n  </clipPath>\n  <clipPath id=\"pe34488d0c8\">\n   <rect x=\"550.980463\" y=\"36.318125\" width=\"346.489455\" height=\"317.988\"/>\n  </clipPath>\n </defs>\n</svg>\n"
          },
          "metadata": {}
        }
      ]
    },
    {
      "cell_type": "code",
      "source": [],
      "metadata": {
        "id": "0PX-vTD14ccM"
      },
      "execution_count": null,
      "outputs": []
    },
    {
      "cell_type": "code",
      "source": [],
      "metadata": {
        "id": "yaK6bTZp4cfF"
      },
      "execution_count": null,
      "outputs": []
    },
    {
      "cell_type": "code",
      "execution_count": null,
      "metadata": {
        "id": "t1KDDekvVM-Y"
      },
      "outputs": [],
      "source": []
    },
    {
      "cell_type": "code",
      "execution_count": null,
      "metadata": {
        "id": "KAMqAj1dYGuf"
      },
      "outputs": [],
      "source": [
        "# Informative type classification task"
      ]
    },
    {
      "cell_type": "code",
      "execution_count": null,
      "metadata": {
        "id": "bwL4j7TSYuq0"
      },
      "outputs": [],
      "source": [
        "# Load model"
      ]
    },
    {
      "cell_type": "code",
      "execution_count": null,
      "metadata": {
        "id": "9FvTbCOUcEI6"
      },
      "outputs": [],
      "source": [
        "multi_class_run = 'Run3'"
      ]
    },
    {
      "cell_type": "code",
      "execution_count": null,
      "metadata": {
        "colab": {
          "base_uri": "https://localhost:8080/"
        },
        "id": "IOvhbCmKa9WV",
        "outputId": "332bd64d-35ce-48a4-bcd2-7e4cbfc8453f"
      },
      "outputs": [
        {
          "output_type": "stream",
          "name": "stderr",
          "text": [
            "You are using a model of type bert to instantiate a model of type xlm-roberta. This is not supported for all configurations of models and can yield errors.\n",
            "Some weights of the model checkpoint at /content/drive/My Drive/thesis/models/fused/Multi-Class/Run3 were not used when initializing BertConcatFeatures: ['linear_classifier.bias', 'linear_classifier.weight']\n",
            "- This IS expected if you are initializing BertConcatFeatures from the checkpoint of a model trained on another task or with another architecture (e.g. initializing a BertForSequenceClassification model from a BertForPreTraining model).\n",
            "- This IS NOT expected if you are initializing BertConcatFeatures from the checkpoint of a model that you expect to be exactly identical (initializing a BertForSequenceClassification model from a BertForSequenceClassification model).\n",
            "Some weights of BertConcatFeatures were not initialized from the model checkpoint at /content/drive/My Drive/thesis/models/fused/Multi-Class/Run3 and are newly initialized: ['output_proj.bias', 'dense.bias', 'dense.weight', 'output_proj.weight']\n",
            "You should probably TRAIN this model on a down-stream task to be able to use it for predictions and inference.\n"
          ]
        },
        {
          "output_type": "stream",
          "name": "stdout",
          "text": [
            "MLP Layer sizes:\n",
            " Input: 774\n",
            " Output: 5\n"
          ]
        }
      ],
      "source": [
        "### Reload the model and the tokenizer\n",
        "xlmrmodel = BertConcatFeatures.from_pretrained(f'/content/drive/My Drive/thesis/models/fused/Multi-Class/{multi_class_run}')\n",
        "desc = xlmrmodel.to(device)"
      ]
    },
    {
      "cell_type": "code",
      "execution_count": null,
      "metadata": {
        "id": "MCNqEWtRb6by"
      },
      "outputs": [],
      "source": [
        "test_data = pd.read_csv(f'/content/drive/My Drive/thesis/multiple_runs/fused/Multi-Class/{multi_class_run}/test_data.csv', encoding='utf-8')"
      ]
    },
    {
      "cell_type": "code",
      "execution_count": null,
      "metadata": {
        "colab": {
          "base_uri": "https://localhost:8080/"
        },
        "id": "JXprE8zAcgVk",
        "outputId": "b06196a3-eae9-4659-dda0-e0570dcce9a3"
      },
      "outputs": [
        {
          "output_type": "execute_result",
          "data": {
            "text/plain": [
              "(976, 20)"
            ]
          },
          "metadata": {},
          "execution_count": 123
        }
      ],
      "source": [
        "test_data.shape"
      ]
    },
    {
      "cell_type": "code",
      "execution_count": null,
      "metadata": {
        "id": "YqyE4P26ctcL"
      },
      "outputs": [],
      "source": [
        "test_data['google_lang'] = test_data.text.map(google_detect)"
      ]
    },
    {
      "cell_type": "code",
      "execution_count": null,
      "metadata": {
        "id": "PS4KcSmPiwbT"
      },
      "outputs": [],
      "source": [
        "# test_data['tf_lang'] = test_data.normalized_text.map(google_detect)"
      ]
    },
    {
      "cell_type": "code",
      "execution_count": null,
      "metadata": {
        "colab": {
          "base_uri": "https://localhost:8080/"
        },
        "id": "JYtwxlY0c-vQ",
        "outputId": "43d40fa6-334e-4d6f-e1a2-b6d5749fdbb0"
      },
      "outputs": [
        {
          "output_type": "stream",
          "name": "stdout",
          "text": [
            "(33, 21) (799, 21)\n"
          ]
        }
      ],
      "source": [
        "non_english_data = test_data[test_data['google_lang'] == 'sw']\n",
        "english_data = test_data[test_data['google_lang'] == 'en']\n",
        "print(non_english_data.shape, english_data.shape)"
      ]
    },
    {
      "cell_type": "code",
      "execution_count": null,
      "metadata": {
        "id": "f1va0TT6daAm"
      },
      "outputs": [],
      "source": [
        "# non_english_data.head()"
      ]
    },
    {
      "cell_type": "code",
      "execution_count": null,
      "metadata": {
        "id": "RYHJxwEifUMi"
      },
      "outputs": [],
      "source": [
        "numerical_feats = ['election_distance_transformed', 'hour_cos', 'hour_sin','negative','neutral','positive']"
      ]
    },
    {
      "cell_type": "code",
      "execution_count": null,
      "metadata": {
        "colab": {
          "base_uri": "https://localhost:8080/"
        },
        "id": "n7ixCCHOdcbB",
        "outputId": "1d9a6c7d-bd8b-4196-d484-e8325cc4171f"
      },
      "outputs": [
        {
          "output_type": "stream",
          "name": "stderr",
          "text": [
            "<ipython-input-133-150513d2e624>:5: SettingWithCopyWarning: \n",
            "A value is trying to be set on a copy of a slice from a DataFrame.\n",
            "Try using .loc[row_indexer,col_indexer] = value instead\n",
            "\n",
            "See the caveats in the documentation: https://pandas.pydata.org/pandas-docs/stable/user_guide/indexing.html#returning-a-view-versus-a-copy\n",
            "  df['context'] = df['context'].fillna('')\n"
          ]
        },
        {
          "output_type": "stream",
          "name": "stdout",
          "text": [
            "  DONE.\n",
            "Dataset contains 799 samples.\n",
            "  DONE.\n",
            "Dataset contains 33 samples.\n"
          ]
        },
        {
          "output_type": "stream",
          "name": "stderr",
          "text": [
            "Truncation was not explicitly activated but `max_length` is provided a specific value, please use `truncation=True` to explicitly truncate examples to max length. Defaulting to 'longest_first' truncation strategy. If you encode pairs of sequences (GLUE-style) with the tokenizer you can select this strategy more precisely by providing a specific strategy to `truncation`.\n",
            "/usr/local/lib/python3.10/dist-packages/transformers/tokenization_utils_base.py:2393: FutureWarning: The `pad_to_max_length` argument is deprecated and will be removed in a future version, use `padding=True` or `padding='longest'` to pad to the longest sequence in the batch, or use `padding='max_length'` to pad to a max length. In this case, you can give a specific length with `max_length` (e.g. `max_length=45`) or leave max_length to None to pad to the maximal input size of the model (e.g. 512 for Bert).\n",
            "  warnings.warn(\n",
            "/usr/local/lib/python3.10/dist-packages/transformers/tokenization_utils_base.py:2393: FutureWarning: The `pad_to_max_length` argument is deprecated and will be removed in a future version, use `padding=True` or `padding='longest'` to pad to the longest sequence in the batch, or use `padding='max_length'` to pad to a max length. In this case, you can give a specific length with `max_length` (e.g. `max_length=45`) or leave max_length to None to pad to the maximal input size of the model (e.g. 512 for Bert).\n",
            "  warnings.warn(\n"
          ]
        }
      ],
      "source": [
        "# Get train sentences and targets\n",
        "en_train_sentences, en_train_targets = combine_features(english_data)\n",
        "nen_test_sentences, nen_test_targets = combine_features(non_english_data)\n",
        "\n",
        "# Tokenize sentences\n",
        "tokenizer = init_tokenizer()\n",
        "en_input_ids, en_numerical_feats, en_attention_masks, en_labels = tokenize_with_numerical(tokenizer,\n",
        "                                                                                                      en_train_sentences,\n",
        "                                                                                                      en_train_targets,\n",
        "                                                                                                      english_data[numerical_feats].values)\n",
        "nen_input_ids, nen_numerical_feats, nen_attention_masks, nen_labels = tokenize_with_numerical(tokenizer,\n",
        "                                                                                                  nen_test_sentences,\n",
        "                                                                                                  nen_test_targets,\n",
        "                                                                                                  non_english_data[numerical_feats].values)\n",
        "\n",
        "# Create datasets\n",
        "en_dataset = TensorDataset(en_input_ids, en_numerical_feats, en_attention_masks, en_labels)\n",
        "nen_dataset = TensorDataset(nen_input_ids, nen_numerical_feats, nen_attention_masks, nen_labels)\n",
        "\n",
        "# Create dataloaders\n",
        "en_dataloader = DataLoader(\n",
        "        en_dataset,  # The training samples.\n",
        "        sampler = SequentialSampler(en_dataset), # Select batches randomly\n",
        "        batch_size = batch_size # Trains with this batch size.\n",
        "    )\n",
        "\n",
        "\n",
        "# For validation the order doesn't matter, so we'll just read them sequentially.\n",
        "nen_dataloader = DataLoader(\n",
        "            nen_dataset, # The validation samples.\n",
        "            sampler = SequentialSampler(nen_dataset), # Pull out batches sequentially.\n",
        "            batch_size = batch_size # Evaluate with this batch size.\n",
        "        )"
      ]
    },
    {
      "cell_type": "code",
      "execution_count": null,
      "metadata": {
        "id": "fctN4pvlf_dN"
      },
      "outputs": [],
      "source": [
        "mapping = ['Counting and Results','Political Rallies','Positive Events', 'Security Issues','Voting Issues']"
      ]
    },
    {
      "cell_type": "code",
      "execution_count": null,
      "metadata": {
        "colab": {
          "base_uri": "https://localhost:8080/",
          "height": 811
        },
        "id": "vmR_fI1ddpQH",
        "outputId": "173d17e0-c705-410b-f600-40863065ea86"
      },
      "outputs": [
        {
          "output_type": "stream",
          "name": "stdout",
          "text": [
            "                      precision    recall  f1-score   support\n",
            "\n",
            "Counting and Results       0.21      0.34      0.26       157\n",
            "   Political Rallies       0.07      0.05      0.06        61\n",
            "     Positive Events       0.15      0.09      0.11       294\n",
            "     Security Issues       0.08      0.18      0.11        94\n",
            "       Voting Issues       0.13      0.08      0.10       193\n",
            "\n",
            "            accuracy                           0.14       799\n",
            "           macro avg       0.13      0.15      0.13       799\n",
            "        weighted avg       0.14      0.14      0.13       799\n",
            "\n"
          ]
        },
        {
          "output_type": "display_data",
          "data": {
            "text/plain": [
              "<Figure size 800x600 with 2 Axes>"
            ],
            "image/svg+xml": "<?xml version=\"1.0\" encoding=\"utf-8\" standalone=\"no\"?>\n<!DOCTYPE svg PUBLIC \"-//W3C//DTD SVG 1.1//EN\"\n  \"http://www.w3.org/Graphics/SVG/1.1/DTD/svg11.dtd\">\n<svg xmlns:xlink=\"http://www.w3.org/1999/xlink\" width=\"488.193531pt\" height=\"432.930594pt\" viewBox=\"0 0 488.193531 432.930594\" xmlns=\"http://www.w3.org/2000/svg\" version=\"1.1\">\n <metadata>\n  <rdf:RDF xmlns:dc=\"http://purl.org/dc/elements/1.1/\" xmlns:cc=\"http://creativecommons.org/ns#\" xmlns:rdf=\"http://www.w3.org/1999/02/22-rdf-syntax-ns#\">\n   <cc:Work>\n    <dc:type rdf:resource=\"http://purl.org/dc/dcmitype/StillImage\"/>\n    <dc:date>2023-07-19T20:22:44.880160</dc:date>\n    <dc:format>image/svg+xml</dc:format>\n    <dc:creator>\n     <cc:Agent>\n      <dc:title>Matplotlib v3.7.1, https://matplotlib.org/</dc:title>\n     </cc:Agent>\n    </dc:creator>\n   </cc:Work>\n  </rdf:RDF>\n </metadata>\n <defs>\n  <style type=\"text/css\">*{stroke-linejoin: round; stroke-linecap: butt}</style>\n </defs>\n <g id=\"figure_1\">\n  <g id=\"patch_1\">\n   <path d=\"M 0 432.930594 \nL 488.193531 432.930594 \nL 488.193531 0 \nL 0 0 \nz\n\" style=\"fill: #ffffff\"/>\n  </g>\n  <g id=\"axes_1\">\n   <g id=\"patch_2\">\n    <path d=\"M 60.024281 370.970687 \nL 417.144281 370.970687 \nL 417.144281 38.330687 \nL 60.024281 38.330687 \nz\n\" style=\"fill: #eaeaf2\"/>\n   </g>\n   <g id=\"matplotlib.axis_1\">\n    <g id=\"xtick_1\">\n     <g id=\"line2d_1\">\n      <path d=\"M 95.736281 370.970687 \nL 95.736281 38.330687 \n\" clip-path=\"url(#pe32bf34f46)\" style=\"fill: none; stroke: #ffffff; stroke-linecap: round\"/>\n     </g>\n     <g id=\"text_1\">\n      <!-- Counting and Results -->\n      <g style=\"fill: #262626\" transform=\"translate(31.341594 389.664797) scale(0.121 -0.121)\">\n       <defs>\n        <path id=\"DejaVuSans-43\" d=\"M 4122 4306 \nL 4122 3641 \nQ 3803 3938 3442 4084 \nQ 3081 4231 2675 4231 \nQ 1875 4231 1450 3742 \nQ 1025 3253 1025 2328 \nQ 1025 1406 1450 917 \nQ 1875 428 2675 428 \nQ 3081 428 3442 575 \nQ 3803 722 4122 1019 \nL 4122 359 \nQ 3791 134 3420 21 \nQ 3050 -91 2638 -91 \nQ 1578 -91 968 557 \nQ 359 1206 359 2328 \nQ 359 3453 968 4101 \nQ 1578 4750 2638 4750 \nQ 3056 4750 3426 4639 \nQ 3797 4528 4122 4306 \nz\n\" transform=\"scale(0.015625)\"/>\n        <path id=\"DejaVuSans-6f\" d=\"M 1959 3097 \nQ 1497 3097 1228 2736 \nQ 959 2375 959 1747 \nQ 959 1119 1226 758 \nQ 1494 397 1959 397 \nQ 2419 397 2687 759 \nQ 2956 1122 2956 1747 \nQ 2956 2369 2687 2733 \nQ 2419 3097 1959 3097 \nz\nM 1959 3584 \nQ 2709 3584 3137 3096 \nQ 3566 2609 3566 1747 \nQ 3566 888 3137 398 \nQ 2709 -91 1959 -91 \nQ 1206 -91 779 398 \nQ 353 888 353 1747 \nQ 353 2609 779 3096 \nQ 1206 3584 1959 3584 \nz\n\" transform=\"scale(0.015625)\"/>\n        <path id=\"DejaVuSans-75\" d=\"M 544 1381 \nL 544 3500 \nL 1119 3500 \nL 1119 1403 \nQ 1119 906 1312 657 \nQ 1506 409 1894 409 \nQ 2359 409 2629 706 \nQ 2900 1003 2900 1516 \nL 2900 3500 \nL 3475 3500 \nL 3475 0 \nL 2900 0 \nL 2900 538 \nQ 2691 219 2414 64 \nQ 2138 -91 1772 -91 \nQ 1169 -91 856 284 \nQ 544 659 544 1381 \nz\nM 1991 3584 \nL 1991 3584 \nz\n\" transform=\"scale(0.015625)\"/>\n        <path id=\"DejaVuSans-6e\" d=\"M 3513 2113 \nL 3513 0 \nL 2938 0 \nL 2938 2094 \nQ 2938 2591 2744 2837 \nQ 2550 3084 2163 3084 \nQ 1697 3084 1428 2787 \nQ 1159 2491 1159 1978 \nL 1159 0 \nL 581 0 \nL 581 3500 \nL 1159 3500 \nL 1159 2956 \nQ 1366 3272 1645 3428 \nQ 1925 3584 2291 3584 \nQ 2894 3584 3203 3211 \nQ 3513 2838 3513 2113 \nz\n\" transform=\"scale(0.015625)\"/>\n        <path id=\"DejaVuSans-74\" d=\"M 1172 4494 \nL 1172 3500 \nL 2356 3500 \nL 2356 3053 \nL 1172 3053 \nL 1172 1153 \nQ 1172 725 1289 603 \nQ 1406 481 1766 481 \nL 2356 481 \nL 2356 0 \nL 1766 0 \nQ 1100 0 847 248 \nQ 594 497 594 1153 \nL 594 3053 \nL 172 3053 \nL 172 3500 \nL 594 3500 \nL 594 4494 \nL 1172 4494 \nz\n\" transform=\"scale(0.015625)\"/>\n        <path id=\"DejaVuSans-69\" d=\"M 603 3500 \nL 1178 3500 \nL 1178 0 \nL 603 0 \nL 603 3500 \nz\nM 603 4863 \nL 1178 4863 \nL 1178 4134 \nL 603 4134 \nL 603 4863 \nz\n\" transform=\"scale(0.015625)\"/>\n        <path id=\"DejaVuSans-67\" d=\"M 2906 1791 \nQ 2906 2416 2648 2759 \nQ 2391 3103 1925 3103 \nQ 1463 3103 1205 2759 \nQ 947 2416 947 1791 \nQ 947 1169 1205 825 \nQ 1463 481 1925 481 \nQ 2391 481 2648 825 \nQ 2906 1169 2906 1791 \nz\nM 3481 434 \nQ 3481 -459 3084 -895 \nQ 2688 -1331 1869 -1331 \nQ 1566 -1331 1297 -1286 \nQ 1028 -1241 775 -1147 \nL 775 -588 \nQ 1028 -725 1275 -790 \nQ 1522 -856 1778 -856 \nQ 2344 -856 2625 -561 \nQ 2906 -266 2906 331 \nL 2906 616 \nQ 2728 306 2450 153 \nQ 2172 0 1784 0 \nQ 1141 0 747 490 \nQ 353 981 353 1791 \nQ 353 2603 747 3093 \nQ 1141 3584 1784 3584 \nQ 2172 3584 2450 3431 \nQ 2728 3278 2906 2969 \nL 2906 3500 \nL 3481 3500 \nL 3481 434 \nz\n\" transform=\"scale(0.015625)\"/>\n        <path id=\"DejaVuSans-20\" transform=\"scale(0.015625)\"/>\n        <path id=\"DejaVuSans-61\" d=\"M 2194 1759 \nQ 1497 1759 1228 1600 \nQ 959 1441 959 1056 \nQ 959 750 1161 570 \nQ 1363 391 1709 391 \nQ 2188 391 2477 730 \nQ 2766 1069 2766 1631 \nL 2766 1759 \nL 2194 1759 \nz\nM 3341 1997 \nL 3341 0 \nL 2766 0 \nL 2766 531 \nQ 2569 213 2275 61 \nQ 1981 -91 1556 -91 \nQ 1019 -91 701 211 \nQ 384 513 384 1019 \nQ 384 1609 779 1909 \nQ 1175 2209 1959 2209 \nL 2766 2209 \nL 2766 2266 \nQ 2766 2663 2505 2880 \nQ 2244 3097 1772 3097 \nQ 1472 3097 1187 3025 \nQ 903 2953 641 2809 \nL 641 3341 \nQ 956 3463 1253 3523 \nQ 1550 3584 1831 3584 \nQ 2591 3584 2966 3190 \nQ 3341 2797 3341 1997 \nz\n\" transform=\"scale(0.015625)\"/>\n        <path id=\"DejaVuSans-64\" d=\"M 2906 2969 \nL 2906 4863 \nL 3481 4863 \nL 3481 0 \nL 2906 0 \nL 2906 525 \nQ 2725 213 2448 61 \nQ 2172 -91 1784 -91 \nQ 1150 -91 751 415 \nQ 353 922 353 1747 \nQ 353 2572 751 3078 \nQ 1150 3584 1784 3584 \nQ 2172 3584 2448 3432 \nQ 2725 3281 2906 2969 \nz\nM 947 1747 \nQ 947 1113 1208 752 \nQ 1469 391 1925 391 \nQ 2381 391 2643 752 \nQ 2906 1113 2906 1747 \nQ 2906 2381 2643 2742 \nQ 2381 3103 1925 3103 \nQ 1469 3103 1208 2742 \nQ 947 2381 947 1747 \nz\n\" transform=\"scale(0.015625)\"/>\n        <path id=\"DejaVuSans-52\" d=\"M 2841 2188 \nQ 3044 2119 3236 1894 \nQ 3428 1669 3622 1275 \nL 4263 0 \nL 3584 0 \nL 2988 1197 \nQ 2756 1666 2539 1819 \nQ 2322 1972 1947 1972 \nL 1259 1972 \nL 1259 0 \nL 628 0 \nL 628 4666 \nL 2053 4666 \nQ 2853 4666 3247 4331 \nQ 3641 3997 3641 3322 \nQ 3641 2881 3436 2590 \nQ 3231 2300 2841 2188 \nz\nM 1259 4147 \nL 1259 2491 \nL 2053 2491 \nQ 2509 2491 2742 2702 \nQ 2975 2913 2975 3322 \nQ 2975 3731 2742 3939 \nQ 2509 4147 2053 4147 \nL 1259 4147 \nz\n\" transform=\"scale(0.015625)\"/>\n        <path id=\"DejaVuSans-65\" d=\"M 3597 1894 \nL 3597 1613 \nL 953 1613 \nQ 991 1019 1311 708 \nQ 1631 397 2203 397 \nQ 2534 397 2845 478 \nQ 3156 559 3463 722 \nL 3463 178 \nQ 3153 47 2828 -22 \nQ 2503 -91 2169 -91 \nQ 1331 -91 842 396 \nQ 353 884 353 1716 \nQ 353 2575 817 3079 \nQ 1281 3584 2069 3584 \nQ 2775 3584 3186 3129 \nQ 3597 2675 3597 1894 \nz\nM 3022 2063 \nQ 3016 2534 2758 2815 \nQ 2500 3097 2075 3097 \nQ 1594 3097 1305 2825 \nQ 1016 2553 972 2059 \nL 3022 2063 \nz\n\" transform=\"scale(0.015625)\"/>\n        <path id=\"DejaVuSans-73\" d=\"M 2834 3397 \nL 2834 2853 \nQ 2591 2978 2328 3040 \nQ 2066 3103 1784 3103 \nQ 1356 3103 1142 2972 \nQ 928 2841 928 2578 \nQ 928 2378 1081 2264 \nQ 1234 2150 1697 2047 \nL 1894 2003 \nQ 2506 1872 2764 1633 \nQ 3022 1394 3022 966 \nQ 3022 478 2636 193 \nQ 2250 -91 1575 -91 \nQ 1294 -91 989 -36 \nQ 684 19 347 128 \nL 347 722 \nQ 666 556 975 473 \nQ 1284 391 1588 391 \nQ 1994 391 2212 530 \nQ 2431 669 2431 922 \nQ 2431 1156 2273 1281 \nQ 2116 1406 1581 1522 \nL 1381 1569 \nQ 847 1681 609 1914 \nQ 372 2147 372 2553 \nQ 372 3047 722 3315 \nQ 1072 3584 1716 3584 \nQ 2034 3584 2315 3537 \nQ 2597 3491 2834 3397 \nz\n\" transform=\"scale(0.015625)\"/>\n        <path id=\"DejaVuSans-6c\" d=\"M 603 4863 \nL 1178 4863 \nL 1178 0 \nL 603 0 \nL 603 4863 \nz\n\" transform=\"scale(0.015625)\"/>\n       </defs>\n       <use xlink:href=\"#DejaVuSans-43\"/>\n       <use xlink:href=\"#DejaVuSans-6f\" x=\"69.824219\"/>\n       <use xlink:href=\"#DejaVuSans-75\" x=\"131.005859\"/>\n       <use xlink:href=\"#DejaVuSans-6e\" x=\"194.384766\"/>\n       <use xlink:href=\"#DejaVuSans-74\" x=\"257.763672\"/>\n       <use xlink:href=\"#DejaVuSans-69\" x=\"296.972656\"/>\n       <use xlink:href=\"#DejaVuSans-6e\" x=\"324.755859\"/>\n       <use xlink:href=\"#DejaVuSans-67\" x=\"388.134766\"/>\n       <use xlink:href=\"#DejaVuSans-20\" x=\"451.611328\"/>\n       <use xlink:href=\"#DejaVuSans-61\" x=\"483.398438\"/>\n       <use xlink:href=\"#DejaVuSans-6e\" x=\"544.677734\"/>\n       <use xlink:href=\"#DejaVuSans-64\" x=\"608.056641\"/>\n       <use xlink:href=\"#DejaVuSans-20\" x=\"671.533203\"/>\n       <use xlink:href=\"#DejaVuSans-52\" x=\"703.320312\"/>\n       <use xlink:href=\"#DejaVuSans-65\" x=\"768.302734\"/>\n       <use xlink:href=\"#DejaVuSans-73\" x=\"829.826172\"/>\n       <use xlink:href=\"#DejaVuSans-75\" x=\"881.925781\"/>\n       <use xlink:href=\"#DejaVuSans-6c\" x=\"945.304688\"/>\n       <use xlink:href=\"#DejaVuSans-74\" x=\"973.087891\"/>\n       <use xlink:href=\"#DejaVuSans-73\" x=\"1012.296875\"/>\n      </g>\n     </g>\n    </g>\n    <g id=\"xtick_2\">\n     <g id=\"line2d_2\">\n      <path d=\"M 167.160281 370.970687 \nL 167.160281 38.330687 \n\" clip-path=\"url(#pe32bf34f46)\" style=\"fill: none; stroke: #ffffff; stroke-linecap: round\"/>\n     </g>\n     <g id=\"text_2\">\n      <!-- Political Rallies -->\n      <g style=\"fill: #262626\" transform=\"translate(122.286297 389.664797) scale(0.121 -0.121)\">\n       <defs>\n        <path id=\"DejaVuSans-50\" d=\"M 1259 4147 \nL 1259 2394 \nL 2053 2394 \nQ 2494 2394 2734 2622 \nQ 2975 2850 2975 3272 \nQ 2975 3691 2734 3919 \nQ 2494 4147 2053 4147 \nL 1259 4147 \nz\nM 628 4666 \nL 2053 4666 \nQ 2838 4666 3239 4311 \nQ 3641 3956 3641 3272 \nQ 3641 2581 3239 2228 \nQ 2838 1875 2053 1875 \nL 1259 1875 \nL 1259 0 \nL 628 0 \nL 628 4666 \nz\n\" transform=\"scale(0.015625)\"/>\n        <path id=\"DejaVuSans-63\" d=\"M 3122 3366 \nL 3122 2828 \nQ 2878 2963 2633 3030 \nQ 2388 3097 2138 3097 \nQ 1578 3097 1268 2742 \nQ 959 2388 959 1747 \nQ 959 1106 1268 751 \nQ 1578 397 2138 397 \nQ 2388 397 2633 464 \nQ 2878 531 3122 666 \nL 3122 134 \nQ 2881 22 2623 -34 \nQ 2366 -91 2075 -91 \nQ 1284 -91 818 406 \nQ 353 903 353 1747 \nQ 353 2603 823 3093 \nQ 1294 3584 2113 3584 \nQ 2378 3584 2631 3529 \nQ 2884 3475 3122 3366 \nz\n\" transform=\"scale(0.015625)\"/>\n       </defs>\n       <use xlink:href=\"#DejaVuSans-50\"/>\n       <use xlink:href=\"#DejaVuSans-6f\" x=\"56.677734\"/>\n       <use xlink:href=\"#DejaVuSans-6c\" x=\"117.859375\"/>\n       <use xlink:href=\"#DejaVuSans-69\" x=\"145.642578\"/>\n       <use xlink:href=\"#DejaVuSans-74\" x=\"173.425781\"/>\n       <use xlink:href=\"#DejaVuSans-69\" x=\"212.634766\"/>\n       <use xlink:href=\"#DejaVuSans-63\" x=\"240.417969\"/>\n       <use xlink:href=\"#DejaVuSans-61\" x=\"295.398438\"/>\n       <use xlink:href=\"#DejaVuSans-6c\" x=\"356.677734\"/>\n       <use xlink:href=\"#DejaVuSans-20\" x=\"384.460938\"/>\n       <use xlink:href=\"#DejaVuSans-52\" x=\"416.248047\"/>\n       <use xlink:href=\"#DejaVuSans-61\" x=\"483.480469\"/>\n       <use xlink:href=\"#DejaVuSans-6c\" x=\"544.759766\"/>\n       <use xlink:href=\"#DejaVuSans-6c\" x=\"572.542969\"/>\n       <use xlink:href=\"#DejaVuSans-69\" x=\"600.326172\"/>\n       <use xlink:href=\"#DejaVuSans-65\" x=\"628.109375\"/>\n       <use xlink:href=\"#DejaVuSans-73\" x=\"689.632812\"/>\n      </g>\n     </g>\n    </g>\n    <g id=\"xtick_3\">\n     <g id=\"line2d_3\">\n      <path d=\"M 238.584281 370.970687 \nL 238.584281 38.330687 \n\" clip-path=\"url(#pe32bf34f46)\" style=\"fill: none; stroke: #ffffff; stroke-linecap: round\"/>\n     </g>\n     <g id=\"text_3\">\n      <!-- Positive Events -->\n      <g style=\"fill: #262626\" transform=\"translate(192.85857 389.664797) scale(0.121 -0.121)\">\n       <defs>\n        <path id=\"DejaVuSans-76\" d=\"M 191 3500 \nL 800 3500 \nL 1894 563 \nL 2988 3500 \nL 3597 3500 \nL 2284 0 \nL 1503 0 \nL 191 3500 \nz\n\" transform=\"scale(0.015625)\"/>\n        <path id=\"DejaVuSans-45\" d=\"M 628 4666 \nL 3578 4666 \nL 3578 4134 \nL 1259 4134 \nL 1259 2753 \nL 3481 2753 \nL 3481 2222 \nL 1259 2222 \nL 1259 531 \nL 3634 531 \nL 3634 0 \nL 628 0 \nL 628 4666 \nz\n\" transform=\"scale(0.015625)\"/>\n       </defs>\n       <use xlink:href=\"#DejaVuSans-50\"/>\n       <use xlink:href=\"#DejaVuSans-6f\" x=\"56.677734\"/>\n       <use xlink:href=\"#DejaVuSans-73\" x=\"117.859375\"/>\n       <use xlink:href=\"#DejaVuSans-69\" x=\"169.958984\"/>\n       <use xlink:href=\"#DejaVuSans-74\" x=\"197.742188\"/>\n       <use xlink:href=\"#DejaVuSans-69\" x=\"236.951172\"/>\n       <use xlink:href=\"#DejaVuSans-76\" x=\"264.734375\"/>\n       <use xlink:href=\"#DejaVuSans-65\" x=\"323.914062\"/>\n       <use xlink:href=\"#DejaVuSans-20\" x=\"385.4375\"/>\n       <use xlink:href=\"#DejaVuSans-45\" x=\"417.224609\"/>\n       <use xlink:href=\"#DejaVuSans-76\" x=\"480.408203\"/>\n       <use xlink:href=\"#DejaVuSans-65\" x=\"539.587891\"/>\n       <use xlink:href=\"#DejaVuSans-6e\" x=\"601.111328\"/>\n       <use xlink:href=\"#DejaVuSans-74\" x=\"664.490234\"/>\n       <use xlink:href=\"#DejaVuSans-73\" x=\"703.699219\"/>\n      </g>\n     </g>\n    </g>\n    <g id=\"xtick_4\">\n     <g id=\"line2d_4\">\n      <path d=\"M 310.008281 370.970687 \nL 310.008281 38.330687 \n\" clip-path=\"url(#pe32bf34f46)\" style=\"fill: none; stroke: #ffffff; stroke-linecap: round\"/>\n     </g>\n     <g id=\"text_4\">\n      <!-- Security Issues -->\n      <g style=\"fill: #262626\" transform=\"translate(264.444219 389.664797) scale(0.121 -0.121)\">\n       <defs>\n        <path id=\"DejaVuSans-53\" d=\"M 3425 4513 \nL 3425 3897 \nQ 3066 4069 2747 4153 \nQ 2428 4238 2131 4238 \nQ 1616 4238 1336 4038 \nQ 1056 3838 1056 3469 \nQ 1056 3159 1242 3001 \nQ 1428 2844 1947 2747 \nL 2328 2669 \nQ 3034 2534 3370 2195 \nQ 3706 1856 3706 1288 \nQ 3706 609 3251 259 \nQ 2797 -91 1919 -91 \nQ 1588 -91 1214 -16 \nQ 841 59 441 206 \nL 441 856 \nQ 825 641 1194 531 \nQ 1563 422 1919 422 \nQ 2459 422 2753 634 \nQ 3047 847 3047 1241 \nQ 3047 1584 2836 1778 \nQ 2625 1972 2144 2069 \nL 1759 2144 \nQ 1053 2284 737 2584 \nQ 422 2884 422 3419 \nQ 422 4038 858 4394 \nQ 1294 4750 2059 4750 \nQ 2388 4750 2728 4690 \nQ 3069 4631 3425 4513 \nz\n\" transform=\"scale(0.015625)\"/>\n        <path id=\"DejaVuSans-72\" d=\"M 2631 2963 \nQ 2534 3019 2420 3045 \nQ 2306 3072 2169 3072 \nQ 1681 3072 1420 2755 \nQ 1159 2438 1159 1844 \nL 1159 0 \nL 581 0 \nL 581 3500 \nL 1159 3500 \nL 1159 2956 \nQ 1341 3275 1631 3429 \nQ 1922 3584 2338 3584 \nQ 2397 3584 2469 3576 \nQ 2541 3569 2628 3553 \nL 2631 2963 \nz\n\" transform=\"scale(0.015625)\"/>\n        <path id=\"DejaVuSans-79\" d=\"M 2059 -325 \nQ 1816 -950 1584 -1140 \nQ 1353 -1331 966 -1331 \nL 506 -1331 \nL 506 -850 \nL 844 -850 \nQ 1081 -850 1212 -737 \nQ 1344 -625 1503 -206 \nL 1606 56 \nL 191 3500 \nL 800 3500 \nL 1894 763 \nL 2988 3500 \nL 3597 3500 \nL 2059 -325 \nz\n\" transform=\"scale(0.015625)\"/>\n        <path id=\"DejaVuSans-49\" d=\"M 628 4666 \nL 1259 4666 \nL 1259 0 \nL 628 0 \nL 628 4666 \nz\n\" transform=\"scale(0.015625)\"/>\n       </defs>\n       <use xlink:href=\"#DejaVuSans-53\"/>\n       <use xlink:href=\"#DejaVuSans-65\" x=\"63.476562\"/>\n       <use xlink:href=\"#DejaVuSans-63\" x=\"125\"/>\n       <use xlink:href=\"#DejaVuSans-75\" x=\"179.980469\"/>\n       <use xlink:href=\"#DejaVuSans-72\" x=\"243.359375\"/>\n       <use xlink:href=\"#DejaVuSans-69\" x=\"284.472656\"/>\n       <use xlink:href=\"#DejaVuSans-74\" x=\"312.255859\"/>\n       <use xlink:href=\"#DejaVuSans-79\" x=\"351.464844\"/>\n       <use xlink:href=\"#DejaVuSans-20\" x=\"410.644531\"/>\n       <use xlink:href=\"#DejaVuSans-49\" x=\"442.431641\"/>\n       <use xlink:href=\"#DejaVuSans-73\" x=\"471.923828\"/>\n       <use xlink:href=\"#DejaVuSans-73\" x=\"524.023438\"/>\n       <use xlink:href=\"#DejaVuSans-75\" x=\"576.123047\"/>\n       <use xlink:href=\"#DejaVuSans-65\" x=\"639.501953\"/>\n       <use xlink:href=\"#DejaVuSans-73\" x=\"701.025391\"/>\n      </g>\n     </g>\n    </g>\n    <g id=\"xtick_5\">\n     <g id=\"line2d_5\">\n      <path d=\"M 381.432281 370.970687 \nL 381.432281 38.330687 \n\" clip-path=\"url(#pe32bf34f46)\" style=\"fill: none; stroke: #ffffff; stroke-linecap: round\"/>\n     </g>\n     <g id=\"text_5\">\n      <!-- Voting Issues -->\n      <g style=\"fill: #262626\" transform=\"translate(341.613828 389.664797) scale(0.121 -0.121)\">\n       <defs>\n        <path id=\"DejaVuSans-56\" d=\"M 1831 0 \nL 50 4666 \nL 709 4666 \nL 2188 738 \nL 3669 4666 \nL 4325 4666 \nL 2547 0 \nL 1831 0 \nz\n\" transform=\"scale(0.015625)\"/>\n       </defs>\n       <use xlink:href=\"#DejaVuSans-56\"/>\n       <use xlink:href=\"#DejaVuSans-6f\" x=\"60.658203\"/>\n       <use xlink:href=\"#DejaVuSans-74\" x=\"121.839844\"/>\n       <use xlink:href=\"#DejaVuSans-69\" x=\"161.048828\"/>\n       <use xlink:href=\"#DejaVuSans-6e\" x=\"188.832031\"/>\n       <use xlink:href=\"#DejaVuSans-67\" x=\"252.210938\"/>\n       <use xlink:href=\"#DejaVuSans-20\" x=\"315.6875\"/>\n       <use xlink:href=\"#DejaVuSans-49\" x=\"347.474609\"/>\n       <use xlink:href=\"#DejaVuSans-73\" x=\"376.966797\"/>\n       <use xlink:href=\"#DejaVuSans-73\" x=\"429.066406\"/>\n       <use xlink:href=\"#DejaVuSans-75\" x=\"481.166016\"/>\n       <use xlink:href=\"#DejaVuSans-65\" x=\"544.544922\"/>\n       <use xlink:href=\"#DejaVuSans-73\" x=\"606.068359\"/>\n      </g>\n     </g>\n    </g>\n    <g id=\"text_6\">\n     <!-- Predicted Label -->\n     <g style=\"fill: #262626\" transform=\"translate(184.615375 422.819031) scale(0.14 -0.14)\">\n      <defs>\n       <path id=\"DejaVuSans-4c\" d=\"M 628 4666 \nL 1259 4666 \nL 1259 531 \nL 3531 531 \nL 3531 0 \nL 628 0 \nL 628 4666 \nz\n\" transform=\"scale(0.015625)\"/>\n       <path id=\"DejaVuSans-62\" d=\"M 3116 1747 \nQ 3116 2381 2855 2742 \nQ 2594 3103 2138 3103 \nQ 1681 3103 1420 2742 \nQ 1159 2381 1159 1747 \nQ 1159 1113 1420 752 \nQ 1681 391 2138 391 \nQ 2594 391 2855 752 \nQ 3116 1113 3116 1747 \nz\nM 1159 2969 \nQ 1341 3281 1617 3432 \nQ 1894 3584 2278 3584 \nQ 2916 3584 3314 3078 \nQ 3713 2572 3713 1747 \nQ 3713 922 3314 415 \nQ 2916 -91 2278 -91 \nQ 1894 -91 1617 61 \nQ 1341 213 1159 525 \nL 1159 0 \nL 581 0 \nL 581 4863 \nL 1159 4863 \nL 1159 2969 \nz\n\" transform=\"scale(0.015625)\"/>\n      </defs>\n      <use xlink:href=\"#DejaVuSans-50\"/>\n      <use xlink:href=\"#DejaVuSans-72\" x=\"58.552734\"/>\n      <use xlink:href=\"#DejaVuSans-65\" x=\"97.416016\"/>\n      <use xlink:href=\"#DejaVuSans-64\" x=\"158.939453\"/>\n      <use xlink:href=\"#DejaVuSans-69\" x=\"222.416016\"/>\n      <use xlink:href=\"#DejaVuSans-63\" x=\"250.199219\"/>\n      <use xlink:href=\"#DejaVuSans-74\" x=\"305.179688\"/>\n      <use xlink:href=\"#DejaVuSans-65\" x=\"344.388672\"/>\n      <use xlink:href=\"#DejaVuSans-64\" x=\"405.912109\"/>\n      <use xlink:href=\"#DejaVuSans-20\" x=\"469.388672\"/>\n      <use xlink:href=\"#DejaVuSans-4c\" x=\"501.175781\"/>\n      <use xlink:href=\"#DejaVuSans-61\" x=\"556.888672\"/>\n      <use xlink:href=\"#DejaVuSans-62\" x=\"618.167969\"/>\n      <use xlink:href=\"#DejaVuSans-65\" x=\"681.644531\"/>\n      <use xlink:href=\"#DejaVuSans-6c\" x=\"743.167969\"/>\n     </g>\n    </g>\n   </g>\n   <g id=\"matplotlib.axis_2\">\n    <g id=\"ytick_1\">\n     <g id=\"line2d_6\">\n      <path d=\"M 60.024281 71.594687 \nL 417.144281 71.594687 \n\" clip-path=\"url(#pe32bf34f46)\" style=\"fill: none; stroke: #ffffff; stroke-linecap: round\"/>\n     </g>\n     <g id=\"text_7\">\n      <!-- Counting and Results -->\n      <g style=\"fill: #262626\" transform=\"translate(48.007859 135.989375) rotate(-90) scale(0.121 -0.121)\">\n       <use xlink:href=\"#DejaVuSans-43\"/>\n       <use xlink:href=\"#DejaVuSans-6f\" x=\"69.824219\"/>\n       <use xlink:href=\"#DejaVuSans-75\" x=\"131.005859\"/>\n       <use xlink:href=\"#DejaVuSans-6e\" x=\"194.384766\"/>\n       <use xlink:href=\"#DejaVuSans-74\" x=\"257.763672\"/>\n       <use xlink:href=\"#DejaVuSans-69\" x=\"296.972656\"/>\n       <use xlink:href=\"#DejaVuSans-6e\" x=\"324.755859\"/>\n       <use xlink:href=\"#DejaVuSans-67\" x=\"388.134766\"/>\n       <use xlink:href=\"#DejaVuSans-20\" x=\"451.611328\"/>\n       <use xlink:href=\"#DejaVuSans-61\" x=\"483.398438\"/>\n       <use xlink:href=\"#DejaVuSans-6e\" x=\"544.677734\"/>\n       <use xlink:href=\"#DejaVuSans-64\" x=\"608.056641\"/>\n       <use xlink:href=\"#DejaVuSans-20\" x=\"671.533203\"/>\n       <use xlink:href=\"#DejaVuSans-52\" x=\"703.320312\"/>\n       <use xlink:href=\"#DejaVuSans-65\" x=\"768.302734\"/>\n       <use xlink:href=\"#DejaVuSans-73\" x=\"829.826172\"/>\n       <use xlink:href=\"#DejaVuSans-75\" x=\"881.925781\"/>\n       <use xlink:href=\"#DejaVuSans-6c\" x=\"945.304688\"/>\n       <use xlink:href=\"#DejaVuSans-74\" x=\"973.087891\"/>\n       <use xlink:href=\"#DejaVuSans-73\" x=\"1012.296875\"/>\n      </g>\n     </g>\n    </g>\n    <g id=\"ytick_2\">\n     <g id=\"line2d_7\">\n      <path d=\"M 60.024281 138.122687 \nL 417.144281 138.122687 \n\" clip-path=\"url(#pe32bf34f46)\" style=\"fill: none; stroke: #ffffff; stroke-linecap: round\"/>\n     </g>\n     <g id=\"text_8\">\n      <!-- Political Rallies -->\n      <g style=\"fill: #262626\" transform=\"translate(48.007859 182.996672) rotate(-90) scale(0.121 -0.121)\">\n       <use xlink:href=\"#DejaVuSans-50\"/>\n       <use xlink:href=\"#DejaVuSans-6f\" x=\"56.677734\"/>\n       <use xlink:href=\"#DejaVuSans-6c\" x=\"117.859375\"/>\n       <use xlink:href=\"#DejaVuSans-69\" x=\"145.642578\"/>\n       <use xlink:href=\"#DejaVuSans-74\" x=\"173.425781\"/>\n       <use xlink:href=\"#DejaVuSans-69\" x=\"212.634766\"/>\n       <use xlink:href=\"#DejaVuSans-63\" x=\"240.417969\"/>\n       <use xlink:href=\"#DejaVuSans-61\" x=\"295.398438\"/>\n       <use xlink:href=\"#DejaVuSans-6c\" x=\"356.677734\"/>\n       <use xlink:href=\"#DejaVuSans-20\" x=\"384.460938\"/>\n       <use xlink:href=\"#DejaVuSans-52\" x=\"416.248047\"/>\n       <use xlink:href=\"#DejaVuSans-61\" x=\"483.480469\"/>\n       <use xlink:href=\"#DejaVuSans-6c\" x=\"544.759766\"/>\n       <use xlink:href=\"#DejaVuSans-6c\" x=\"572.542969\"/>\n       <use xlink:href=\"#DejaVuSans-69\" x=\"600.326172\"/>\n       <use xlink:href=\"#DejaVuSans-65\" x=\"628.109375\"/>\n       <use xlink:href=\"#DejaVuSans-73\" x=\"689.632812\"/>\n      </g>\n     </g>\n    </g>\n    <g id=\"ytick_3\">\n     <g id=\"line2d_8\">\n      <path d=\"M 60.024281 204.650687 \nL 417.144281 204.650687 \n\" clip-path=\"url(#pe32bf34f46)\" style=\"fill: none; stroke: #ffffff; stroke-linecap: round\"/>\n     </g>\n     <g id=\"text_9\">\n      <!-- Positive Events -->\n      <g style=\"fill: #262626\" transform=\"translate(48.007859 250.376398) rotate(-90) scale(0.121 -0.121)\">\n       <use xlink:href=\"#DejaVuSans-50\"/>\n       <use xlink:href=\"#DejaVuSans-6f\" x=\"56.677734\"/>\n       <use xlink:href=\"#DejaVuSans-73\" x=\"117.859375\"/>\n       <use xlink:href=\"#DejaVuSans-69\" x=\"169.958984\"/>\n       <use xlink:href=\"#DejaVuSans-74\" x=\"197.742188\"/>\n       <use xlink:href=\"#DejaVuSans-69\" x=\"236.951172\"/>\n       <use xlink:href=\"#DejaVuSans-76\" x=\"264.734375\"/>\n       <use xlink:href=\"#DejaVuSans-65\" x=\"323.914062\"/>\n       <use xlink:href=\"#DejaVuSans-20\" x=\"385.4375\"/>\n       <use xlink:href=\"#DejaVuSans-45\" x=\"417.224609\"/>\n       <use xlink:href=\"#DejaVuSans-76\" x=\"480.408203\"/>\n       <use xlink:href=\"#DejaVuSans-65\" x=\"539.587891\"/>\n       <use xlink:href=\"#DejaVuSans-6e\" x=\"601.111328\"/>\n       <use xlink:href=\"#DejaVuSans-74\" x=\"664.490234\"/>\n       <use xlink:href=\"#DejaVuSans-73\" x=\"703.699219\"/>\n      </g>\n     </g>\n    </g>\n    <g id=\"ytick_4\">\n     <g id=\"line2d_9\">\n      <path d=\"M 60.024281 271.178687 \nL 417.144281 271.178687 \n\" clip-path=\"url(#pe32bf34f46)\" style=\"fill: none; stroke: #ffffff; stroke-linecap: round\"/>\n     </g>\n     <g id=\"text_10\">\n      <!-- Security Issues -->\n      <g style=\"fill: #262626\" transform=\"translate(48.007859 316.74275) rotate(-90) scale(0.121 -0.121)\">\n       <use xlink:href=\"#DejaVuSans-53\"/>\n       <use xlink:href=\"#DejaVuSans-65\" x=\"63.476562\"/>\n       <use xlink:href=\"#DejaVuSans-63\" x=\"125\"/>\n       <use xlink:href=\"#DejaVuSans-75\" x=\"179.980469\"/>\n       <use xlink:href=\"#DejaVuSans-72\" x=\"243.359375\"/>\n       <use xlink:href=\"#DejaVuSans-69\" x=\"284.472656\"/>\n       <use xlink:href=\"#DejaVuSans-74\" x=\"312.255859\"/>\n       <use xlink:href=\"#DejaVuSans-79\" x=\"351.464844\"/>\n       <use xlink:href=\"#DejaVuSans-20\" x=\"410.644531\"/>\n       <use xlink:href=\"#DejaVuSans-49\" x=\"442.431641\"/>\n       <use xlink:href=\"#DejaVuSans-73\" x=\"471.923828\"/>\n       <use xlink:href=\"#DejaVuSans-73\" x=\"524.023438\"/>\n       <use xlink:href=\"#DejaVuSans-75\" x=\"576.123047\"/>\n       <use xlink:href=\"#DejaVuSans-65\" x=\"639.501953\"/>\n       <use xlink:href=\"#DejaVuSans-73\" x=\"701.025391\"/>\n      </g>\n     </g>\n    </g>\n    <g id=\"ytick_5\">\n     <g id=\"line2d_10\">\n      <path d=\"M 60.024281 337.706687 \nL 417.144281 337.706687 \n\" clip-path=\"url(#pe32bf34f46)\" style=\"fill: none; stroke: #ffffff; stroke-linecap: round\"/>\n     </g>\n     <g id=\"text_11\">\n      <!-- Voting Issues -->\n      <g style=\"fill: #262626\" transform=\"translate(48.007859 377.525141) rotate(-90) scale(0.121 -0.121)\">\n       <use xlink:href=\"#DejaVuSans-56\"/>\n       <use xlink:href=\"#DejaVuSans-6f\" x=\"60.658203\"/>\n       <use xlink:href=\"#DejaVuSans-74\" x=\"121.839844\"/>\n       <use xlink:href=\"#DejaVuSans-69\" x=\"161.048828\"/>\n       <use xlink:href=\"#DejaVuSans-6e\" x=\"188.832031\"/>\n       <use xlink:href=\"#DejaVuSans-67\" x=\"252.210938\"/>\n       <use xlink:href=\"#DejaVuSans-20\" x=\"315.6875\"/>\n       <use xlink:href=\"#DejaVuSans-49\" x=\"347.474609\"/>\n       <use xlink:href=\"#DejaVuSans-73\" x=\"376.966797\"/>\n       <use xlink:href=\"#DejaVuSans-73\" x=\"429.066406\"/>\n       <use xlink:href=\"#DejaVuSans-75\" x=\"481.166016\"/>\n       <use xlink:href=\"#DejaVuSans-65\" x=\"544.544922\"/>\n       <use xlink:href=\"#DejaVuSans-73\" x=\"606.068359\"/>\n      </g>\n     </g>\n    </g>\n    <g id=\"text_12\">\n     <!-- Gold Label -->\n     <g style=\"fill: #262626\" transform=\"translate(16.318125 236.541625) rotate(-90) scale(0.12 -0.12)\">\n      <defs>\n       <path id=\"DejaVuSans-47\" d=\"M 3809 666 \nL 3809 1919 \nL 2778 1919 \nL 2778 2438 \nL 4434 2438 \nL 4434 434 \nQ 4069 175 3628 42 \nQ 3188 -91 2688 -91 \nQ 1594 -91 976 548 \nQ 359 1188 359 2328 \nQ 359 3472 976 4111 \nQ 1594 4750 2688 4750 \nQ 3144 4750 3555 4637 \nQ 3966 4525 4313 4306 \nL 4313 3634 \nQ 3963 3931 3569 4081 \nQ 3175 4231 2741 4231 \nQ 1884 4231 1454 3753 \nQ 1025 3275 1025 2328 \nQ 1025 1384 1454 906 \nQ 1884 428 2741 428 \nQ 3075 428 3337 486 \nQ 3600 544 3809 666 \nz\n\" transform=\"scale(0.015625)\"/>\n      </defs>\n      <use xlink:href=\"#DejaVuSans-47\"/>\n      <use xlink:href=\"#DejaVuSans-6f\" x=\"77.490234\"/>\n      <use xlink:href=\"#DejaVuSans-6c\" x=\"138.671875\"/>\n      <use xlink:href=\"#DejaVuSans-64\" x=\"166.455078\"/>\n      <use xlink:href=\"#DejaVuSans-20\" x=\"229.931641\"/>\n      <use xlink:href=\"#DejaVuSans-4c\" x=\"261.71875\"/>\n      <use xlink:href=\"#DejaVuSans-61\" x=\"317.431641\"/>\n      <use xlink:href=\"#DejaVuSans-62\" x=\"378.710938\"/>\n      <use xlink:href=\"#DejaVuSans-65\" x=\"442.1875\"/>\n      <use xlink:href=\"#DejaVuSans-6c\" x=\"503.710938\"/>\n     </g>\n    </g>\n   </g>\n   <g id=\"QuadMesh_1\">\n    <path d=\"M 60.024281 38.330687 \nL 131.448281 38.330687 \nL 131.448281 104.858687 \nL 60.024281 104.858687 \nL 60.024281 38.330687 \n\" clip-path=\"url(#pe32bf34f46)\" style=\"fill: #7b7b7b\"/>\n    <path d=\"M 131.448281 38.330687 \nL 202.872281 38.330687 \nL 202.872281 104.858687 \nL 131.448281 104.858687 \nL 131.448281 38.330687 \n\" clip-path=\"url(#pe32bf34f46)\" style=\"fill: #040404\"/>\n    <path d=\"M 202.872281 38.330687 \nL 274.296281 38.330687 \nL 274.296281 104.858687 \nL 202.872281 104.858687 \nL 202.872281 38.330687 \n\" clip-path=\"url(#pe32bf34f46)\" style=\"fill: #121212\"/>\n    <path d=\"M 274.296281 38.330687 \nL 345.720281 38.330687 \nL 345.720281 104.858687 \nL 274.296281 104.858687 \nL 274.296281 38.330687 \n\" clip-path=\"url(#pe32bf34f46)\" style=\"fill: #d8d8d8\"/>\n    <path d=\"M 345.720281 38.330687 \nL 417.144281 38.330687 \nL 417.144281 104.858687 \nL 345.720281 104.858687 \nL 345.720281 38.330687 \n\" clip-path=\"url(#pe32bf34f46)\" style=\"fill: #020202\"/>\n    <path d=\"M 60.024281 104.858687 \nL 131.448281 104.858687 \nL 131.448281 171.386687 \nL 60.024281 171.386687 \nL 60.024281 104.858687 \n\" clip-path=\"url(#pe32bf34f46)\" style=\"fill: #1d1d1d\"/>\n    <path d=\"M 131.448281 104.858687 \nL 202.872281 104.858687 \nL 202.872281 171.386687 \nL 131.448281 171.386687 \nL 131.448281 104.858687 \n\" clip-path=\"url(#pe32bf34f46)\" style=\"fill: #111111\"/>\n    <path d=\"M 202.872281 104.858687 \nL 274.296281 104.858687 \nL 274.296281 171.386687 \nL 202.872281 171.386687 \nL 202.872281 104.858687 \n\" clip-path=\"url(#pe32bf34f46)\" style=\"fill: #292929\"/>\n    <path d=\"M 274.296281 104.858687 \nL 345.720281 104.858687 \nL 345.720281 171.386687 \nL 274.296281 171.386687 \nL 274.296281 104.858687 \n\" clip-path=\"url(#pe32bf34f46)\" style=\"fill: #1d1d1d\"/>\n    <path d=\"M 345.720281 104.858687 \nL 417.144281 104.858687 \nL 417.144281 171.386687 \nL 345.720281 171.386687 \nL 345.720281 104.858687 \n\" clip-path=\"url(#pe32bf34f46)\" style=\"fill: #f5f5f5\"/>\n    <path d=\"M 60.024281 171.386687 \nL 131.448281 171.386687 \nL 131.448281 237.914687 \nL 60.024281 237.914687 \nL 60.024281 171.386687 \n\" clip-path=\"url(#pe32bf34f46)\" style=\"fill: #c5c5c5\"/>\n    <path d=\"M 131.448281 171.386687 \nL 202.872281 171.386687 \nL 202.872281 237.914687 \nL 131.448281 237.914687 \nL 131.448281 171.386687 \n\" clip-path=\"url(#pe32bf34f46)\" style=\"fill: #232323\"/>\n    <path d=\"M 202.872281 171.386687 \nL 274.296281 171.386687 \nL 274.296281 237.914687 \nL 202.872281 237.914687 \nL 202.872281 171.386687 \n\" clip-path=\"url(#pe32bf34f46)\" style=\"fill: #1e1e1e\"/>\n    <path d=\"M 274.296281 171.386687 \nL 345.720281 171.386687 \nL 345.720281 237.914687 \nL 274.296281 237.914687 \nL 274.296281 171.386687 \n\" clip-path=\"url(#pe32bf34f46)\" style=\"fill: #252525\"/>\n    <path d=\"M 345.720281 171.386687 \nL 417.144281 171.386687 \nL 417.144281 237.914687 \nL 345.720281 237.914687 \nL 345.720281 171.386687 \n\" clip-path=\"url(#pe32bf34f46)\" style=\"fill: #3f3f3f\"/>\n    <path d=\"M 60.024281 237.914687 \nL 131.448281 237.914687 \nL 131.448281 304.442687 \nL 60.024281 304.442687 \nL 60.024281 237.914687 \n\" clip-path=\"url(#pe32bf34f46)\" style=\"fill: #0f0f0f\"/>\n    <path d=\"M 131.448281 237.914687 \nL 202.872281 237.914687 \nL 202.872281 304.442687 \nL 131.448281 304.442687 \nL 131.448281 237.914687 \n\" clip-path=\"url(#pe32bf34f46)\"/>\n    <path d=\"M 202.872281 237.914687 \nL 274.296281 237.914687 \nL 274.296281 304.442687 \nL 202.872281 304.442687 \nL 202.872281 237.914687 \n\" clip-path=\"url(#pe32bf34f46)\" style=\"fill: #ffffff\"/>\n    <path d=\"M 274.296281 237.914687 \nL 345.720281 237.914687 \nL 345.720281 304.442687 \nL 274.296281 304.442687 \nL 274.296281 237.914687 \n\" clip-path=\"url(#pe32bf34f46)\" style=\"fill: #414141\"/>\n    <path d=\"M 345.720281 237.914687 \nL 417.144281 237.914687 \nL 417.144281 304.442687 \nL 345.720281 304.442687 \nL 345.720281 237.914687 \n\" clip-path=\"url(#pe32bf34f46)\" style=\"fill: #1b1b1b\"/>\n    <path d=\"M 60.024281 304.442687 \nL 131.448281 304.442687 \nL 131.448281 370.970687 \nL 60.024281 370.970687 \nL 60.024281 304.442687 \n\" clip-path=\"url(#pe32bf34f46)\" style=\"fill: #333333\"/>\n    <path d=\"M 131.448281 304.442687 \nL 202.872281 304.442687 \nL 202.872281 370.970687 \nL 131.448281 370.970687 \nL 131.448281 304.442687 \n\" clip-path=\"url(#pe32bf34f46)\" style=\"fill: #141414\"/>\n    <path d=\"M 202.872281 304.442687 \nL 274.296281 304.442687 \nL 274.296281 370.970687 \nL 202.872281 370.970687 \nL 202.872281 304.442687 \n\" clip-path=\"url(#pe32bf34f46)\" style=\"fill: #6f6f6f\"/>\n    <path d=\"M 274.296281 304.442687 \nL 345.720281 304.442687 \nL 345.720281 370.970687 \nL 274.296281 370.970687 \nL 274.296281 304.442687 \n\" clip-path=\"url(#pe32bf34f46)\" style=\"fill: #999999\"/>\n    <path d=\"M 345.720281 304.442687 \nL 417.144281 304.442687 \nL 417.144281 370.970687 \nL 345.720281 370.970687 \nL 345.720281 304.442687 \n\" clip-path=\"url(#pe32bf34f46)\" style=\"fill: #1c1c1c\"/>\n   </g>\n   <g id=\"text_13\">\n    <!-- 33.76% -->\n    <g style=\"fill: #ffffff\" transform=\"translate(70.570688 75.237062) scale(0.132 -0.132)\">\n     <defs>\n      <path id=\"DejaVuSans-33\" d=\"M 2597 2516 \nQ 3050 2419 3304 2112 \nQ 3559 1806 3559 1356 \nQ 3559 666 3084 287 \nQ 2609 -91 1734 -91 \nQ 1441 -91 1130 -33 \nQ 819 25 488 141 \nL 488 750 \nQ 750 597 1062 519 \nQ 1375 441 1716 441 \nQ 2309 441 2620 675 \nQ 2931 909 2931 1356 \nQ 2931 1769 2642 2001 \nQ 2353 2234 1838 2234 \nL 1294 2234 \nL 1294 2753 \nL 1863 2753 \nQ 2328 2753 2575 2939 \nQ 2822 3125 2822 3475 \nQ 2822 3834 2567 4026 \nQ 2313 4219 1838 4219 \nQ 1578 4219 1281 4162 \nQ 984 4106 628 3988 \nL 628 4550 \nQ 988 4650 1302 4700 \nQ 1616 4750 1894 4750 \nQ 2613 4750 3031 4423 \nQ 3450 4097 3450 3541 \nQ 3450 3153 3228 2886 \nQ 3006 2619 2597 2516 \nz\n\" transform=\"scale(0.015625)\"/>\n      <path id=\"DejaVuSans-2e\" d=\"M 684 794 \nL 1344 794 \nL 1344 0 \nL 684 0 \nL 684 794 \nz\n\" transform=\"scale(0.015625)\"/>\n      <path id=\"DejaVuSans-37\" d=\"M 525 4666 \nL 3525 4666 \nL 3525 4397 \nL 1831 0 \nL 1172 0 \nL 2766 4134 \nL 525 4134 \nL 525 4666 \nz\n\" transform=\"scale(0.015625)\"/>\n      <path id=\"DejaVuSans-36\" d=\"M 2113 2584 \nQ 1688 2584 1439 2293 \nQ 1191 2003 1191 1497 \nQ 1191 994 1439 701 \nQ 1688 409 2113 409 \nQ 2538 409 2786 701 \nQ 3034 994 3034 1497 \nQ 3034 2003 2786 2293 \nQ 2538 2584 2113 2584 \nz\nM 3366 4563 \nL 3366 3988 \nQ 3128 4100 2886 4159 \nQ 2644 4219 2406 4219 \nQ 1781 4219 1451 3797 \nQ 1122 3375 1075 2522 \nQ 1259 2794 1537 2939 \nQ 1816 3084 2150 3084 \nQ 2853 3084 3261 2657 \nQ 3669 2231 3669 1497 \nQ 3669 778 3244 343 \nQ 2819 -91 2113 -91 \nQ 1303 -91 875 529 \nQ 447 1150 447 2328 \nQ 447 3434 972 4092 \nQ 1497 4750 2381 4750 \nQ 2619 4750 2861 4703 \nQ 3103 4656 3366 4563 \nz\n\" transform=\"scale(0.015625)\"/>\n      <path id=\"DejaVuSans-25\" d=\"M 4653 2053 \nQ 4381 2053 4226 1822 \nQ 4072 1591 4072 1178 \nQ 4072 772 4226 539 \nQ 4381 306 4653 306 \nQ 4919 306 5073 539 \nQ 5228 772 5228 1178 \nQ 5228 1588 5073 1820 \nQ 4919 2053 4653 2053 \nz\nM 4653 2450 \nQ 5147 2450 5437 2106 \nQ 5728 1763 5728 1178 \nQ 5728 594 5436 251 \nQ 5144 -91 4653 -91 \nQ 4153 -91 3862 251 \nQ 3572 594 3572 1178 \nQ 3572 1766 3864 2108 \nQ 4156 2450 4653 2450 \nz\nM 1428 4353 \nQ 1159 4353 1004 4120 \nQ 850 3888 850 3481 \nQ 850 3069 1003 2837 \nQ 1156 2606 1428 2606 \nQ 1700 2606 1854 2837 \nQ 2009 3069 2009 3481 \nQ 2009 3884 1853 4118 \nQ 1697 4353 1428 4353 \nz\nM 4250 4750 \nL 4750 4750 \nL 1831 -91 \nL 1331 -91 \nL 4250 4750 \nz\nM 1428 4750 \nQ 1922 4750 2215 4408 \nQ 2509 4066 2509 3481 \nQ 2509 2891 2217 2550 \nQ 1925 2209 1428 2209 \nQ 931 2209 642 2551 \nQ 353 2894 353 3481 \nQ 353 4063 643 4406 \nQ 934 4750 1428 4750 \nz\n\" transform=\"scale(0.015625)\"/>\n     </defs>\n     <use xlink:href=\"#DejaVuSans-33\"/>\n     <use xlink:href=\"#DejaVuSans-33\" x=\"63.623047\"/>\n     <use xlink:href=\"#DejaVuSans-2e\" x=\"127.246094\"/>\n     <use xlink:href=\"#DejaVuSans-37\" x=\"159.033203\"/>\n     <use xlink:href=\"#DejaVuSans-36\" x=\"222.65625\"/>\n     <use xlink:href=\"#DejaVuSans-25\" x=\"286.279297\"/>\n    </g>\n   </g>\n   <g id=\"text_14\">\n    <!-- 1.27% -->\n    <g style=\"fill: #ffffff\" transform=\"translate(146.193938 75.237062) scale(0.132 -0.132)\">\n     <defs>\n      <path id=\"DejaVuSans-31\" d=\"M 794 531 \nL 1825 531 \nL 1825 4091 \nL 703 3866 \nL 703 4441 \nL 1819 4666 \nL 2450 4666 \nL 2450 531 \nL 3481 531 \nL 3481 0 \nL 794 0 \nL 794 531 \nz\n\" transform=\"scale(0.015625)\"/>\n      <path id=\"DejaVuSans-32\" d=\"M 1228 531 \nL 3431 531 \nL 3431 0 \nL 469 0 \nL 469 531 \nQ 828 903 1448 1529 \nQ 2069 2156 2228 2338 \nQ 2531 2678 2651 2914 \nQ 2772 3150 2772 3378 \nQ 2772 3750 2511 3984 \nQ 2250 4219 1831 4219 \nQ 1534 4219 1204 4116 \nQ 875 4013 500 3803 \nL 500 4441 \nQ 881 4594 1212 4672 \nQ 1544 4750 1819 4750 \nQ 2544 4750 2975 4387 \nQ 3406 4025 3406 3419 \nQ 3406 3131 3298 2873 \nQ 3191 2616 2906 2266 \nQ 2828 2175 2409 1742 \nQ 1991 1309 1228 531 \nz\n\" transform=\"scale(0.015625)\"/>\n     </defs>\n     <use xlink:href=\"#DejaVuSans-31\"/>\n     <use xlink:href=\"#DejaVuSans-2e\" x=\"63.623047\"/>\n     <use xlink:href=\"#DejaVuSans-32\" x=\"95.410156\"/>\n     <use xlink:href=\"#DejaVuSans-37\" x=\"159.033203\"/>\n     <use xlink:href=\"#DejaVuSans-25\" x=\"222.65625\"/>\n    </g>\n   </g>\n   <g id=\"text_15\">\n    <!-- 5.10% -->\n    <g style=\"fill: #ffffff\" transform=\"translate(217.617938 75.237062) scale(0.132 -0.132)\">\n     <defs>\n      <path id=\"DejaVuSans-35\" d=\"M 691 4666 \nL 3169 4666 \nL 3169 4134 \nL 1269 4134 \nL 1269 2991 \nQ 1406 3038 1543 3061 \nQ 1681 3084 1819 3084 \nQ 2600 3084 3056 2656 \nQ 3513 2228 3513 1497 \nQ 3513 744 3044 326 \nQ 2575 -91 1722 -91 \nQ 1428 -91 1123 -41 \nQ 819 9 494 109 \nL 494 744 \nQ 775 591 1075 516 \nQ 1375 441 1709 441 \nQ 2250 441 2565 725 \nQ 2881 1009 2881 1497 \nQ 2881 1984 2565 2268 \nQ 2250 2553 1709 2553 \nQ 1456 2553 1204 2497 \nQ 953 2441 691 2322 \nL 691 4666 \nz\n\" transform=\"scale(0.015625)\"/>\n      <path id=\"DejaVuSans-30\" d=\"M 2034 4250 \nQ 1547 4250 1301 3770 \nQ 1056 3291 1056 2328 \nQ 1056 1369 1301 889 \nQ 1547 409 2034 409 \nQ 2525 409 2770 889 \nQ 3016 1369 3016 2328 \nQ 3016 3291 2770 3770 \nQ 2525 4250 2034 4250 \nz\nM 2034 4750 \nQ 2819 4750 3233 4129 \nQ 3647 3509 3647 2328 \nQ 3647 1150 3233 529 \nQ 2819 -91 2034 -91 \nQ 1250 -91 836 529 \nQ 422 1150 422 2328 \nQ 422 3509 836 4129 \nQ 1250 4750 2034 4750 \nz\n\" transform=\"scale(0.015625)\"/>\n     </defs>\n     <use xlink:href=\"#DejaVuSans-35\"/>\n     <use xlink:href=\"#DejaVuSans-2e\" x=\"63.623047\"/>\n     <use xlink:href=\"#DejaVuSans-31\" x=\"95.410156\"/>\n     <use xlink:href=\"#DejaVuSans-30\" x=\"159.033203\"/>\n     <use xlink:href=\"#DejaVuSans-25\" x=\"222.65625\"/>\n    </g>\n   </g>\n   <g id=\"text_16\">\n    <!-- 59.24% -->\n    <g style=\"fill: #262626\" transform=\"translate(284.842688 75.237062) scale(0.132 -0.132)\">\n     <defs>\n      <path id=\"DejaVuSans-39\" d=\"M 703 97 \nL 703 672 \nQ 941 559 1184 500 \nQ 1428 441 1663 441 \nQ 2288 441 2617 861 \nQ 2947 1281 2994 2138 \nQ 2813 1869 2534 1725 \nQ 2256 1581 1919 1581 \nQ 1219 1581 811 2004 \nQ 403 2428 403 3163 \nQ 403 3881 828 4315 \nQ 1253 4750 1959 4750 \nQ 2769 4750 3195 4129 \nQ 3622 3509 3622 2328 \nQ 3622 1225 3098 567 \nQ 2575 -91 1691 -91 \nQ 1453 -91 1209 -44 \nQ 966 3 703 97 \nz\nM 1959 2075 \nQ 2384 2075 2632 2365 \nQ 2881 2656 2881 3163 \nQ 2881 3666 2632 3958 \nQ 2384 4250 1959 4250 \nQ 1534 4250 1286 3958 \nQ 1038 3666 1038 3163 \nQ 1038 2656 1286 2365 \nQ 1534 2075 1959 2075 \nz\n\" transform=\"scale(0.015625)\"/>\n      <path id=\"DejaVuSans-34\" d=\"M 2419 4116 \nL 825 1625 \nL 2419 1625 \nL 2419 4116 \nz\nM 2253 4666 \nL 3047 4666 \nL 3047 1625 \nL 3713 1625 \nL 3713 1100 \nL 3047 1100 \nL 3047 0 \nL 2419 0 \nL 2419 1100 \nL 313 1100 \nL 313 1709 \nL 2253 4666 \nz\n\" transform=\"scale(0.015625)\"/>\n     </defs>\n     <use xlink:href=\"#DejaVuSans-35\"/>\n     <use xlink:href=\"#DejaVuSans-39\" x=\"63.623047\"/>\n     <use xlink:href=\"#DejaVuSans-2e\" x=\"127.246094\"/>\n     <use xlink:href=\"#DejaVuSans-32\" x=\"159.033203\"/>\n     <use xlink:href=\"#DejaVuSans-34\" x=\"222.65625\"/>\n     <use xlink:href=\"#DejaVuSans-25\" x=\"286.279297\"/>\n    </g>\n   </g>\n   <g id=\"text_17\">\n    <!-- 0.64% -->\n    <g style=\"fill: #ffffff\" transform=\"translate(360.465938 75.237062) scale(0.132 -0.132)\">\n     <use xlink:href=\"#DejaVuSans-30\"/>\n     <use xlink:href=\"#DejaVuSans-2e\" x=\"63.623047\"/>\n     <use xlink:href=\"#DejaVuSans-36\" x=\"95.410156\"/>\n     <use xlink:href=\"#DejaVuSans-34\" x=\"159.033203\"/>\n     <use xlink:href=\"#DejaVuSans-25\" x=\"222.65625\"/>\n    </g>\n   </g>\n   <g id=\"text_18\">\n    <!-- 8.20% -->\n    <g style=\"fill: #ffffff\" transform=\"translate(74.769938 141.765062) scale(0.132 -0.132)\">\n     <defs>\n      <path id=\"DejaVuSans-38\" d=\"M 2034 2216 \nQ 1584 2216 1326 1975 \nQ 1069 1734 1069 1313 \nQ 1069 891 1326 650 \nQ 1584 409 2034 409 \nQ 2484 409 2743 651 \nQ 3003 894 3003 1313 \nQ 3003 1734 2745 1975 \nQ 2488 2216 2034 2216 \nz\nM 1403 2484 \nQ 997 2584 770 2862 \nQ 544 3141 544 3541 \nQ 544 4100 942 4425 \nQ 1341 4750 2034 4750 \nQ 2731 4750 3128 4425 \nQ 3525 4100 3525 3541 \nQ 3525 3141 3298 2862 \nQ 3072 2584 2669 2484 \nQ 3125 2378 3379 2068 \nQ 3634 1759 3634 1313 \nQ 3634 634 3220 271 \nQ 2806 -91 2034 -91 \nQ 1263 -91 848 271 \nQ 434 634 434 1313 \nQ 434 1759 690 2068 \nQ 947 2378 1403 2484 \nz\nM 1172 3481 \nQ 1172 3119 1398 2916 \nQ 1625 2713 2034 2713 \nQ 2441 2713 2670 2916 \nQ 2900 3119 2900 3481 \nQ 2900 3844 2670 4047 \nQ 2441 4250 2034 4250 \nQ 1625 4250 1398 4047 \nQ 1172 3844 1172 3481 \nz\n\" transform=\"scale(0.015625)\"/>\n     </defs>\n     <use xlink:href=\"#DejaVuSans-38\"/>\n     <use xlink:href=\"#DejaVuSans-2e\" x=\"63.623047\"/>\n     <use xlink:href=\"#DejaVuSans-32\" x=\"95.410156\"/>\n     <use xlink:href=\"#DejaVuSans-30\" x=\"159.033203\"/>\n     <use xlink:href=\"#DejaVuSans-25\" x=\"222.65625\"/>\n    </g>\n   </g>\n   <g id=\"text_19\">\n    <!-- 4.92% -->\n    <g style=\"fill: #ffffff\" transform=\"translate(146.193938 141.765062) scale(0.132 -0.132)\">\n     <use xlink:href=\"#DejaVuSans-34\"/>\n     <use xlink:href=\"#DejaVuSans-2e\" x=\"63.623047\"/>\n     <use xlink:href=\"#DejaVuSans-39\" x=\"95.410156\"/>\n     <use xlink:href=\"#DejaVuSans-32\" x=\"159.033203\"/>\n     <use xlink:href=\"#DejaVuSans-25\" x=\"222.65625\"/>\n    </g>\n   </g>\n   <g id=\"text_20\">\n    <!-- 11.48% -->\n    <g style=\"fill: #ffffff\" transform=\"translate(213.418688 141.765062) scale(0.132 -0.132)\">\n     <use xlink:href=\"#DejaVuSans-31\"/>\n     <use xlink:href=\"#DejaVuSans-31\" x=\"63.623047\"/>\n     <use xlink:href=\"#DejaVuSans-2e\" x=\"127.246094\"/>\n     <use xlink:href=\"#DejaVuSans-34\" x=\"159.033203\"/>\n     <use xlink:href=\"#DejaVuSans-38\" x=\"222.65625\"/>\n     <use xlink:href=\"#DejaVuSans-25\" x=\"286.279297\"/>\n    </g>\n   </g>\n   <g id=\"text_21\">\n    <!-- 8.20% -->\n    <g style=\"fill: #ffffff\" transform=\"translate(289.041938 141.765062) scale(0.132 -0.132)\">\n     <use xlink:href=\"#DejaVuSans-38\"/>\n     <use xlink:href=\"#DejaVuSans-2e\" x=\"63.623047\"/>\n     <use xlink:href=\"#DejaVuSans-32\" x=\"95.410156\"/>\n     <use xlink:href=\"#DejaVuSans-30\" x=\"159.033203\"/>\n     <use xlink:href=\"#DejaVuSans-25\" x=\"222.65625\"/>\n    </g>\n   </g>\n   <g id=\"text_22\">\n    <!-- 67.21% -->\n    <g style=\"fill: #262626\" transform=\"translate(356.266688 141.765062) scale(0.132 -0.132)\">\n     <use xlink:href=\"#DejaVuSans-36\"/>\n     <use xlink:href=\"#DejaVuSans-37\" x=\"63.623047\"/>\n     <use xlink:href=\"#DejaVuSans-2e\" x=\"127.246094\"/>\n     <use xlink:href=\"#DejaVuSans-32\" x=\"159.033203\"/>\n     <use xlink:href=\"#DejaVuSans-31\" x=\"222.65625\"/>\n     <use xlink:href=\"#DejaVuSans-25\" x=\"286.279297\"/>\n    </g>\n   </g>\n   <g id=\"text_23\">\n    <!-- 54.08% -->\n    <g style=\"fill: #262626\" transform=\"translate(70.570688 208.293062) scale(0.132 -0.132)\">\n     <use xlink:href=\"#DejaVuSans-35\"/>\n     <use xlink:href=\"#DejaVuSans-34\" x=\"63.623047\"/>\n     <use xlink:href=\"#DejaVuSans-2e\" x=\"127.246094\"/>\n     <use xlink:href=\"#DejaVuSans-30\" x=\"159.033203\"/>\n     <use xlink:href=\"#DejaVuSans-38\" x=\"222.65625\"/>\n     <use xlink:href=\"#DejaVuSans-25\" x=\"286.279297\"/>\n    </g>\n   </g>\n   <g id=\"text_24\">\n    <!-- 9.86% -->\n    <g style=\"fill: #ffffff\" transform=\"translate(146.193938 208.293062) scale(0.132 -0.132)\">\n     <use xlink:href=\"#DejaVuSans-39\"/>\n     <use xlink:href=\"#DejaVuSans-2e\" x=\"63.623047\"/>\n     <use xlink:href=\"#DejaVuSans-38\" x=\"95.410156\"/>\n     <use xlink:href=\"#DejaVuSans-36\" x=\"159.033203\"/>\n     <use xlink:href=\"#DejaVuSans-25\" x=\"222.65625\"/>\n    </g>\n   </g>\n   <g id=\"text_25\">\n    <!-- 8.50% -->\n    <g style=\"fill: #ffffff\" transform=\"translate(217.617938 208.293062) scale(0.132 -0.132)\">\n     <use xlink:href=\"#DejaVuSans-38\"/>\n     <use xlink:href=\"#DejaVuSans-2e\" x=\"63.623047\"/>\n     <use xlink:href=\"#DejaVuSans-35\" x=\"95.410156\"/>\n     <use xlink:href=\"#DejaVuSans-30\" x=\"159.033203\"/>\n     <use xlink:href=\"#DejaVuSans-25\" x=\"222.65625\"/>\n    </g>\n   </g>\n   <g id=\"text_26\">\n    <!-- 10.20% -->\n    <g style=\"fill: #ffffff\" transform=\"translate(284.842688 208.293062) scale(0.132 -0.132)\">\n     <use xlink:href=\"#DejaVuSans-31\"/>\n     <use xlink:href=\"#DejaVuSans-30\" x=\"63.623047\"/>\n     <use xlink:href=\"#DejaVuSans-2e\" x=\"127.246094\"/>\n     <use xlink:href=\"#DejaVuSans-32\" x=\"159.033203\"/>\n     <use xlink:href=\"#DejaVuSans-30\" x=\"222.65625\"/>\n     <use xlink:href=\"#DejaVuSans-25\" x=\"286.279297\"/>\n    </g>\n   </g>\n   <g id=\"text_27\">\n    <!-- 17.35% -->\n    <g style=\"fill: #ffffff\" transform=\"translate(356.266688 208.293062) scale(0.132 -0.132)\">\n     <use xlink:href=\"#DejaVuSans-31\"/>\n     <use xlink:href=\"#DejaVuSans-37\" x=\"63.623047\"/>\n     <use xlink:href=\"#DejaVuSans-2e\" x=\"127.246094\"/>\n     <use xlink:href=\"#DejaVuSans-33\" x=\"159.033203\"/>\n     <use xlink:href=\"#DejaVuSans-35\" x=\"222.65625\"/>\n     <use xlink:href=\"#DejaVuSans-25\" x=\"286.279297\"/>\n    </g>\n   </g>\n   <g id=\"text_28\">\n    <!-- 4.26% -->\n    <g style=\"fill: #ffffff\" transform=\"translate(74.769938 274.821062) scale(0.132 -0.132)\">\n     <use xlink:href=\"#DejaVuSans-34\"/>\n     <use xlink:href=\"#DejaVuSans-2e\" x=\"63.623047\"/>\n     <use xlink:href=\"#DejaVuSans-32\" x=\"95.410156\"/>\n     <use xlink:href=\"#DejaVuSans-36\" x=\"159.033203\"/>\n     <use xlink:href=\"#DejaVuSans-25\" x=\"222.65625\"/>\n    </g>\n   </g>\n   <g id=\"text_29\">\n    <!-- 0.00 -->\n    <g style=\"fill: #ffffff\" transform=\"translate(152.464969 274.821062) scale(0.132 -0.132)\">\n     <use xlink:href=\"#DejaVuSans-30\"/>\n     <use xlink:href=\"#DejaVuSans-2e\" x=\"63.623047\"/>\n     <use xlink:href=\"#DejaVuSans-30\" x=\"95.410156\"/>\n     <use xlink:href=\"#DejaVuSans-30\" x=\"159.033203\"/>\n    </g>\n   </g>\n   <g id=\"text_30\">\n    <!-- 70.21% -->\n    <g style=\"fill: #262626\" transform=\"translate(213.418688 274.821062) scale(0.132 -0.132)\">\n     <use xlink:href=\"#DejaVuSans-37\"/>\n     <use xlink:href=\"#DejaVuSans-30\" x=\"63.623047\"/>\n     <use xlink:href=\"#DejaVuSans-2e\" x=\"127.246094\"/>\n     <use xlink:href=\"#DejaVuSans-32\" x=\"159.033203\"/>\n     <use xlink:href=\"#DejaVuSans-31\" x=\"222.65625\"/>\n     <use xlink:href=\"#DejaVuSans-25\" x=\"286.279297\"/>\n    </g>\n   </g>\n   <g id=\"text_31\">\n    <!-- 18.09% -->\n    <g style=\"fill: #ffffff\" transform=\"translate(284.842688 274.821062) scale(0.132 -0.132)\">\n     <use xlink:href=\"#DejaVuSans-31\"/>\n     <use xlink:href=\"#DejaVuSans-38\" x=\"63.623047\"/>\n     <use xlink:href=\"#DejaVuSans-2e\" x=\"127.246094\"/>\n     <use xlink:href=\"#DejaVuSans-30\" x=\"159.033203\"/>\n     <use xlink:href=\"#DejaVuSans-39\" x=\"222.65625\"/>\n     <use xlink:href=\"#DejaVuSans-25\" x=\"286.279297\"/>\n    </g>\n   </g>\n   <g id=\"text_32\">\n    <!-- 7.45% -->\n    <g style=\"fill: #ffffff\" transform=\"translate(360.465938 274.821062) scale(0.132 -0.132)\">\n     <use xlink:href=\"#DejaVuSans-37\"/>\n     <use xlink:href=\"#DejaVuSans-2e\" x=\"63.623047\"/>\n     <use xlink:href=\"#DejaVuSans-34\" x=\"95.410156\"/>\n     <use xlink:href=\"#DejaVuSans-35\" x=\"159.033203\"/>\n     <use xlink:href=\"#DejaVuSans-25\" x=\"222.65625\"/>\n    </g>\n   </g>\n   <g id=\"text_33\">\n    <!-- 13.99% -->\n    <g style=\"fill: #ffffff\" transform=\"translate(70.570688 341.349063) scale(0.132 -0.132)\">\n     <use xlink:href=\"#DejaVuSans-31\"/>\n     <use xlink:href=\"#DejaVuSans-33\" x=\"63.623047\"/>\n     <use xlink:href=\"#DejaVuSans-2e\" x=\"127.246094\"/>\n     <use xlink:href=\"#DejaVuSans-39\" x=\"159.033203\"/>\n     <use xlink:href=\"#DejaVuSans-39\" x=\"222.65625\"/>\n     <use xlink:href=\"#DejaVuSans-25\" x=\"286.279297\"/>\n    </g>\n   </g>\n   <g id=\"text_34\">\n    <!-- 5.70% -->\n    <g style=\"fill: #ffffff\" transform=\"translate(146.193938 341.349063) scale(0.132 -0.132)\">\n     <use xlink:href=\"#DejaVuSans-35\"/>\n     <use xlink:href=\"#DejaVuSans-2e\" x=\"63.623047\"/>\n     <use xlink:href=\"#DejaVuSans-37\" x=\"95.410156\"/>\n     <use xlink:href=\"#DejaVuSans-30\" x=\"159.033203\"/>\n     <use xlink:href=\"#DejaVuSans-25\" x=\"222.65625\"/>\n    </g>\n   </g>\n   <g id=\"text_35\">\n    <!-- 30.57% -->\n    <g style=\"fill: #ffffff\" transform=\"translate(213.418688 341.349063) scale(0.132 -0.132)\">\n     <use xlink:href=\"#DejaVuSans-33\"/>\n     <use xlink:href=\"#DejaVuSans-30\" x=\"63.623047\"/>\n     <use xlink:href=\"#DejaVuSans-2e\" x=\"127.246094\"/>\n     <use xlink:href=\"#DejaVuSans-35\" x=\"159.033203\"/>\n     <use xlink:href=\"#DejaVuSans-37\" x=\"222.65625\"/>\n     <use xlink:href=\"#DejaVuSans-25\" x=\"286.279297\"/>\n    </g>\n   </g>\n   <g id=\"text_36\">\n    <!-- 41.97% -->\n    <g style=\"fill: #ffffff\" transform=\"translate(284.842688 341.349063) scale(0.132 -0.132)\">\n     <use xlink:href=\"#DejaVuSans-34\"/>\n     <use xlink:href=\"#DejaVuSans-31\" x=\"63.623047\"/>\n     <use xlink:href=\"#DejaVuSans-2e\" x=\"127.246094\"/>\n     <use xlink:href=\"#DejaVuSans-39\" x=\"159.033203\"/>\n     <use xlink:href=\"#DejaVuSans-37\" x=\"222.65625\"/>\n     <use xlink:href=\"#DejaVuSans-25\" x=\"286.279297\"/>\n    </g>\n   </g>\n   <g id=\"text_37\">\n    <!-- 7.77% -->\n    <g style=\"fill: #ffffff\" transform=\"translate(360.465938 341.349063) scale(0.132 -0.132)\">\n     <use xlink:href=\"#DejaVuSans-37\"/>\n     <use xlink:href=\"#DejaVuSans-2e\" x=\"63.623047\"/>\n     <use xlink:href=\"#DejaVuSans-37\" x=\"95.410156\"/>\n     <use xlink:href=\"#DejaVuSans-37\" x=\"159.033203\"/>\n     <use xlink:href=\"#DejaVuSans-25\" x=\"222.65625\"/>\n    </g>\n   </g>\n  </g>\n  <g id=\"axes_2\">\n   <g id=\"patch_3\">\n    <path d=\"M 439.464281 370.970687 \nL 456.096281 370.970687 \nL 456.096281 38.330687 \nL 439.464281 38.330687 \nz\n\" style=\"fill: #eaeaf2\"/>\n   </g>\n   <g id=\"matplotlib.axis_3\"/>\n   <g id=\"matplotlib.axis_4\">\n    <g id=\"ytick_6\">\n     <g id=\"line2d_11\">\n      <defs>\n       <path id=\"med6e28749b\" d=\"M 0 0 \nL 6 0 \n\" style=\"stroke: #262626; stroke-width: 1.25\"/>\n      </defs>\n      <g>\n       <use xlink:href=\"#med6e28749b\" x=\"456.096281\" y=\"370.970687\" style=\"fill: #262626; stroke: #262626; stroke-width: 1.25\"/>\n      </g>\n     </g>\n     <g id=\"text_38\">\n      <!-- 0 -->\n      <g style=\"fill: #262626\" transform=\"translate(465.596281 375.567742) scale(0.121 -0.121)\">\n       <use xlink:href=\"#DejaVuSans-30\"/>\n      </g>\n     </g>\n    </g>\n    <g id=\"ytick_7\">\n     <g id=\"line2d_12\">\n      <g>\n       <use xlink:href=\"#med6e28749b\" x=\"456.096281\" y=\"323.592821\" style=\"fill: #262626; stroke: #262626; stroke-width: 1.25\"/>\n      </g>\n     </g>\n     <g id=\"text_39\">\n      <!-- 10 -->\n      <g style=\"fill: #262626\" transform=\"translate(465.596281 328.189876) scale(0.121 -0.121)\">\n       <use xlink:href=\"#DejaVuSans-31\"/>\n       <use xlink:href=\"#DejaVuSans-30\" x=\"63.623047\"/>\n      </g>\n     </g>\n    </g>\n    <g id=\"ytick_8\">\n     <g id=\"line2d_13\">\n      <g>\n       <use xlink:href=\"#med6e28749b\" x=\"456.096281\" y=\"276.214955\" style=\"fill: #262626; stroke: #262626; stroke-width: 1.25\"/>\n      </g>\n     </g>\n     <g id=\"text_40\">\n      <!-- 20 -->\n      <g style=\"fill: #262626\" transform=\"translate(465.596281 280.812009) scale(0.121 -0.121)\">\n       <use xlink:href=\"#DejaVuSans-32\"/>\n       <use xlink:href=\"#DejaVuSans-30\" x=\"63.623047\"/>\n      </g>\n     </g>\n    </g>\n    <g id=\"ytick_9\">\n     <g id=\"line2d_14\">\n      <g>\n       <use xlink:href=\"#med6e28749b\" x=\"456.096281\" y=\"228.837088\" style=\"fill: #262626; stroke: #262626; stroke-width: 1.25\"/>\n      </g>\n     </g>\n     <g id=\"text_41\">\n      <!-- 30 -->\n      <g style=\"fill: #262626\" transform=\"translate(465.596281 233.434143) scale(0.121 -0.121)\">\n       <use xlink:href=\"#DejaVuSans-33\"/>\n       <use xlink:href=\"#DejaVuSans-30\" x=\"63.623047\"/>\n      </g>\n     </g>\n    </g>\n    <g id=\"ytick_10\">\n     <g id=\"line2d_15\">\n      <g>\n       <use xlink:href=\"#med6e28749b\" x=\"456.096281\" y=\"181.459222\" style=\"fill: #262626; stroke: #262626; stroke-width: 1.25\"/>\n      </g>\n     </g>\n     <g id=\"text_42\">\n      <!-- 40 -->\n      <g style=\"fill: #262626\" transform=\"translate(465.596281 186.056277) scale(0.121 -0.121)\">\n       <use xlink:href=\"#DejaVuSans-34\"/>\n       <use xlink:href=\"#DejaVuSans-30\" x=\"63.623047\"/>\n      </g>\n     </g>\n    </g>\n    <g id=\"ytick_11\">\n     <g id=\"line2d_16\">\n      <g>\n       <use xlink:href=\"#med6e28749b\" x=\"456.096281\" y=\"134.081355\" style=\"fill: #262626; stroke: #262626; stroke-width: 1.25\"/>\n      </g>\n     </g>\n     <g id=\"text_43\">\n      <!-- 50 -->\n      <g style=\"fill: #262626\" transform=\"translate(465.596281 138.67841) scale(0.121 -0.121)\">\n       <use xlink:href=\"#DejaVuSans-35\"/>\n       <use xlink:href=\"#DejaVuSans-30\" x=\"63.623047\"/>\n      </g>\n     </g>\n    </g>\n    <g id=\"ytick_12\">\n     <g id=\"line2d_17\">\n      <g>\n       <use xlink:href=\"#med6e28749b\" x=\"456.096281\" y=\"86.703489\" style=\"fill: #262626; stroke: #262626; stroke-width: 1.25\"/>\n      </g>\n     </g>\n     <g id=\"text_44\">\n      <!-- 60 -->\n      <g style=\"fill: #262626\" transform=\"translate(465.596281 91.300544) scale(0.121 -0.121)\">\n       <use xlink:href=\"#DejaVuSans-36\"/>\n       <use xlink:href=\"#DejaVuSans-30\" x=\"63.623047\"/>\n      </g>\n     </g>\n    </g>\n    <g id=\"ytick_13\">\n     <g id=\"line2d_18\">\n      <g>\n       <use xlink:href=\"#med6e28749b\" x=\"456.096281\" y=\"39.325623\" style=\"fill: #262626; stroke: #262626; stroke-width: 1.25\"/>\n      </g>\n     </g>\n     <g id=\"text_45\">\n      <!-- 70 -->\n      <g style=\"fill: #262626\" transform=\"translate(465.596281 43.922677) scale(0.121 -0.121)\">\n       <use xlink:href=\"#DejaVuSans-37\"/>\n       <use xlink:href=\"#DejaVuSans-30\" x=\"63.623047\"/>\n      </g>\n     </g>\n    </g>\n   </g>\n   <image xlink:href=\"data:image/png;base64,\niVBORw0KGgoAAAANSUhEUgAAABcAAAHOCAYAAABzbJLzAAABj0lEQVR4nO3QwQkDMADDwKR0/5XbBfSNQSANYA7fc87vPOrzavicc7733mfjXnm3YMmx5Ptx7y3JseSYV94tWHIs+X7ce0tyLPl+3HtLciz5ftx7S3Is+X7ce0tyLPl+3HtLciz5ftx7S3Is+X7ce0tyLDnmlXcLlhxLvh/33pIcS74f996SHEu+H/fekhxLvh/33pIcS74f996SHEu+H/fekhxLvh/33pIcS4555d2CJceS78e9tyTHku/Hvbckx5Lvx723JMeS78e9tyTHku/Hvbckx5Lvx723JMeS78e9tyTHku/Hvbckx5JjXnm3YMmx5Ptx7y3JseT7ce8tybHk+3HvLcmx5Ptx7y3JseT7ce8tybHk+3HvLcmx5Ptx7y3JseSYV94tWHIs+X7ce0tyLPl+3HtLciz5ftx7S3Is+X7ce0tyLPl+3HtLciz5ftx7S3Is+X7ce0tyLDnmlXcLlhxLvh/33pIcS74f996SHEu+H/fekhxLvh/33pIcS74f996SHEu+H/fe8lT+B7xwCZZvInnYAAAAAElFTkSuQmCC\" id=\"image6fac5212c1\" transform=\"scale(1 -1) translate(0 -332.64)\" x=\"439.2\" y=\"-38.16\" width=\"16.56\" height=\"332.64\"/>\n   <g id=\"LineCollection_1\"/>\n   <g id=\"patch_4\">\n    <path d=\"M 439.464281 370.970687 \nL 447.780281 370.970687 \nL 456.096281 370.970687 \nL 456.096281 38.330687 \nL 447.780281 38.330687 \nL 439.464281 38.330687 \nL 439.464281 370.970687 \nz\n\" style=\"fill: none\"/>\n   </g>\n  </g>\n </g>\n <defs>\n  <clipPath id=\"pe32bf34f46\">\n   <rect x=\"60.024281\" y=\"38.330687\" width=\"357.12\" height=\"332.64\"/>\n  </clipPath>\n </defs>\n</svg>\n"
          },
          "metadata": {}
        }
      ],
      "source": [
        "predictions, true_labels = test_custom_model(xlmrmodel,en_dataloader)\n",
        "print_classification_report(predictions, true_labels, mapping)"
      ]
    },
    {
      "cell_type": "code",
      "execution_count": null,
      "metadata": {
        "colab": {
          "base_uri": "https://localhost:8080/",
          "height": 931
        },
        "id": "WyXugJ2Qfc5i",
        "outputId": "97223cb2-e269-46cb-a141-1517696e7a0e"
      },
      "outputs": [
        {
          "name": "stdout",
          "output_type": "stream",
          "text": [
            "                      precision    recall  f1-score   support\n",
            "\n",
            "Counting and Results       0.88      0.88      0.88        48\n",
            "   Political Rallies       0.63      0.71      0.67        17\n",
            "     Positive Events       0.85      0.69      0.76        49\n",
            "     Security Issues       0.74      0.71      0.73        28\n",
            "       Voting Issues       0.74      0.91      0.82        35\n",
            "\n",
            "            accuracy                           0.79       177\n",
            "           macro avg       0.77      0.78      0.77       177\n",
            "        weighted avg       0.80      0.79      0.79       177\n",
            "\n"
          ]
        },
        {
          "data": {
            "image/svg+xml": "<?xml version=\"1.0\" encoding=\"utf-8\" standalone=\"no\"?>\n<!DOCTYPE svg PUBLIC \"-//W3C//DTD SVG 1.1//EN\"\n  \"http://www.w3.org/Graphics/SVG/1.1/DTD/svg11.dtd\">\n<svg xmlns:xlink=\"http://www.w3.org/1999/xlink\" width=\"577.767061pt\" height=\"520.075624pt\" viewBox=\"0 0 577.767061 520.075624\" xmlns=\"http://www.w3.org/2000/svg\" version=\"1.1\">\n <metadata>\n  <rdf:RDF xmlns:dc=\"http://purl.org/dc/elements/1.1/\" xmlns:cc=\"http://creativecommons.org/ns#\" xmlns:rdf=\"http://www.w3.org/1999/02/22-rdf-syntax-ns#\">\n   <cc:Work>\n    <dc:type rdf:resource=\"http://purl.org/dc/dcmitype/StillImage\"/>\n    <dc:date>2023-07-10T20:47:51.784925</dc:date>\n    <dc:format>image/svg+xml</dc:format>\n    <dc:creator>\n     <cc:Agent>\n      <dc:title>Matplotlib v3.7.1, https://matplotlib.org/</dc:title>\n     </cc:Agent>\n    </dc:creator>\n   </cc:Work>\n  </rdf:RDF>\n </metadata>\n <defs>\n  <style type=\"text/css\">*{stroke-linejoin: round; stroke-linecap: butt}</style>\n </defs>\n <g id=\"figure_1\">\n  <g id=\"patch_1\">\n   <path d=\"M 0 520.075624 \nL 577.767061 520.075624 \nL 577.767061 -0 \nL 0 -0 \nz\n\" style=\"fill: #ffffff\"/>\n  </g>\n  <g id=\"axes_1\">\n   <g id=\"patch_2\">\n    <path d=\"M 149.597811 370.477812 \nL 506.717811 370.477812 \nL 506.717811 37.837812 \nL 149.597811 37.837812 \nz\n\" style=\"fill: #eaeaf2\"/>\n   </g>\n   <g id=\"matplotlib.axis_1\">\n    <g id=\"xtick_1\">\n     <g id=\"line2d_1\">\n      <path d=\"M 185.309811 370.477812 \nL 185.309811 37.837812 \n\" clip-path=\"url(#p9b90bff279)\" style=\"fill: none; stroke: #ffffff; stroke-linecap: round\"/>\n     </g>\n     <g id=\"text_1\">\n      <!-- Counting and Results -->\n      <g style=\"fill: #262626\" transform=\"translate(92.462592 477.54687) rotate(-45) scale(0.121 -0.121)\">\n       <defs>\n        <path id=\"DejaVuSans-43\" d=\"M 4122 4306 \nL 4122 3641 \nQ 3803 3938 3442 4084 \nQ 3081 4231 2675 4231 \nQ 1875 4231 1450 3742 \nQ 1025 3253 1025 2328 \nQ 1025 1406 1450 917 \nQ 1875 428 2675 428 \nQ 3081 428 3442 575 \nQ 3803 722 4122 1019 \nL 4122 359 \nQ 3791 134 3420 21 \nQ 3050 -91 2638 -91 \nQ 1578 -91 968 557 \nQ 359 1206 359 2328 \nQ 359 3453 968 4101 \nQ 1578 4750 2638 4750 \nQ 3056 4750 3426 4639 \nQ 3797 4528 4122 4306 \nz\n\" transform=\"scale(0.015625)\"/>\n        <path id=\"DejaVuSans-6f\" d=\"M 1959 3097 \nQ 1497 3097 1228 2736 \nQ 959 2375 959 1747 \nQ 959 1119 1226 758 \nQ 1494 397 1959 397 \nQ 2419 397 2687 759 \nQ 2956 1122 2956 1747 \nQ 2956 2369 2687 2733 \nQ 2419 3097 1959 3097 \nz\nM 1959 3584 \nQ 2709 3584 3137 3096 \nQ 3566 2609 3566 1747 \nQ 3566 888 3137 398 \nQ 2709 -91 1959 -91 \nQ 1206 -91 779 398 \nQ 353 888 353 1747 \nQ 353 2609 779 3096 \nQ 1206 3584 1959 3584 \nz\n\" transform=\"scale(0.015625)\"/>\n        <path id=\"DejaVuSans-75\" d=\"M 544 1381 \nL 544 3500 \nL 1119 3500 \nL 1119 1403 \nQ 1119 906 1312 657 \nQ 1506 409 1894 409 \nQ 2359 409 2629 706 \nQ 2900 1003 2900 1516 \nL 2900 3500 \nL 3475 3500 \nL 3475 0 \nL 2900 0 \nL 2900 538 \nQ 2691 219 2414 64 \nQ 2138 -91 1772 -91 \nQ 1169 -91 856 284 \nQ 544 659 544 1381 \nz\nM 1991 3584 \nL 1991 3584 \nz\n\" transform=\"scale(0.015625)\"/>\n        <path id=\"DejaVuSans-6e\" d=\"M 3513 2113 \nL 3513 0 \nL 2938 0 \nL 2938 2094 \nQ 2938 2591 2744 2837 \nQ 2550 3084 2163 3084 \nQ 1697 3084 1428 2787 \nQ 1159 2491 1159 1978 \nL 1159 0 \nL 581 0 \nL 581 3500 \nL 1159 3500 \nL 1159 2956 \nQ 1366 3272 1645 3428 \nQ 1925 3584 2291 3584 \nQ 2894 3584 3203 3211 \nQ 3513 2838 3513 2113 \nz\n\" transform=\"scale(0.015625)\"/>\n        <path id=\"DejaVuSans-74\" d=\"M 1172 4494 \nL 1172 3500 \nL 2356 3500 \nL 2356 3053 \nL 1172 3053 \nL 1172 1153 \nQ 1172 725 1289 603 \nQ 1406 481 1766 481 \nL 2356 481 \nL 2356 0 \nL 1766 0 \nQ 1100 0 847 248 \nQ 594 497 594 1153 \nL 594 3053 \nL 172 3053 \nL 172 3500 \nL 594 3500 \nL 594 4494 \nL 1172 4494 \nz\n\" transform=\"scale(0.015625)\"/>\n        <path id=\"DejaVuSans-69\" d=\"M 603 3500 \nL 1178 3500 \nL 1178 0 \nL 603 0 \nL 603 3500 \nz\nM 603 4863 \nL 1178 4863 \nL 1178 4134 \nL 603 4134 \nL 603 4863 \nz\n\" transform=\"scale(0.015625)\"/>\n        <path id=\"DejaVuSans-67\" d=\"M 2906 1791 \nQ 2906 2416 2648 2759 \nQ 2391 3103 1925 3103 \nQ 1463 3103 1205 2759 \nQ 947 2416 947 1791 \nQ 947 1169 1205 825 \nQ 1463 481 1925 481 \nQ 2391 481 2648 825 \nQ 2906 1169 2906 1791 \nz\nM 3481 434 \nQ 3481 -459 3084 -895 \nQ 2688 -1331 1869 -1331 \nQ 1566 -1331 1297 -1286 \nQ 1028 -1241 775 -1147 \nL 775 -588 \nQ 1028 -725 1275 -790 \nQ 1522 -856 1778 -856 \nQ 2344 -856 2625 -561 \nQ 2906 -266 2906 331 \nL 2906 616 \nQ 2728 306 2450 153 \nQ 2172 0 1784 0 \nQ 1141 0 747 490 \nQ 353 981 353 1791 \nQ 353 2603 747 3093 \nQ 1141 3584 1784 3584 \nQ 2172 3584 2450 3431 \nQ 2728 3278 2906 2969 \nL 2906 3500 \nL 3481 3500 \nL 3481 434 \nz\n\" transform=\"scale(0.015625)\"/>\n        <path id=\"DejaVuSans-20\" transform=\"scale(0.015625)\"/>\n        <path id=\"DejaVuSans-61\" d=\"M 2194 1759 \nQ 1497 1759 1228 1600 \nQ 959 1441 959 1056 \nQ 959 750 1161 570 \nQ 1363 391 1709 391 \nQ 2188 391 2477 730 \nQ 2766 1069 2766 1631 \nL 2766 1759 \nL 2194 1759 \nz\nM 3341 1997 \nL 3341 0 \nL 2766 0 \nL 2766 531 \nQ 2569 213 2275 61 \nQ 1981 -91 1556 -91 \nQ 1019 -91 701 211 \nQ 384 513 384 1019 \nQ 384 1609 779 1909 \nQ 1175 2209 1959 2209 \nL 2766 2209 \nL 2766 2266 \nQ 2766 2663 2505 2880 \nQ 2244 3097 1772 3097 \nQ 1472 3097 1187 3025 \nQ 903 2953 641 2809 \nL 641 3341 \nQ 956 3463 1253 3523 \nQ 1550 3584 1831 3584 \nQ 2591 3584 2966 3190 \nQ 3341 2797 3341 1997 \nz\n\" transform=\"scale(0.015625)\"/>\n        <path id=\"DejaVuSans-64\" d=\"M 2906 2969 \nL 2906 4863 \nL 3481 4863 \nL 3481 0 \nL 2906 0 \nL 2906 525 \nQ 2725 213 2448 61 \nQ 2172 -91 1784 -91 \nQ 1150 -91 751 415 \nQ 353 922 353 1747 \nQ 353 2572 751 3078 \nQ 1150 3584 1784 3584 \nQ 2172 3584 2448 3432 \nQ 2725 3281 2906 2969 \nz\nM 947 1747 \nQ 947 1113 1208 752 \nQ 1469 391 1925 391 \nQ 2381 391 2643 752 \nQ 2906 1113 2906 1747 \nQ 2906 2381 2643 2742 \nQ 2381 3103 1925 3103 \nQ 1469 3103 1208 2742 \nQ 947 2381 947 1747 \nz\n\" transform=\"scale(0.015625)\"/>\n        <path id=\"DejaVuSans-52\" d=\"M 2841 2188 \nQ 3044 2119 3236 1894 \nQ 3428 1669 3622 1275 \nL 4263 0 \nL 3584 0 \nL 2988 1197 \nQ 2756 1666 2539 1819 \nQ 2322 1972 1947 1972 \nL 1259 1972 \nL 1259 0 \nL 628 0 \nL 628 4666 \nL 2053 4666 \nQ 2853 4666 3247 4331 \nQ 3641 3997 3641 3322 \nQ 3641 2881 3436 2590 \nQ 3231 2300 2841 2188 \nz\nM 1259 4147 \nL 1259 2491 \nL 2053 2491 \nQ 2509 2491 2742 2702 \nQ 2975 2913 2975 3322 \nQ 2975 3731 2742 3939 \nQ 2509 4147 2053 4147 \nL 1259 4147 \nz\n\" transform=\"scale(0.015625)\"/>\n        <path id=\"DejaVuSans-65\" d=\"M 3597 1894 \nL 3597 1613 \nL 953 1613 \nQ 991 1019 1311 708 \nQ 1631 397 2203 397 \nQ 2534 397 2845 478 \nQ 3156 559 3463 722 \nL 3463 178 \nQ 3153 47 2828 -22 \nQ 2503 -91 2169 -91 \nQ 1331 -91 842 396 \nQ 353 884 353 1716 \nQ 353 2575 817 3079 \nQ 1281 3584 2069 3584 \nQ 2775 3584 3186 3129 \nQ 3597 2675 3597 1894 \nz\nM 3022 2063 \nQ 3016 2534 2758 2815 \nQ 2500 3097 2075 3097 \nQ 1594 3097 1305 2825 \nQ 1016 2553 972 2059 \nL 3022 2063 \nz\n\" transform=\"scale(0.015625)\"/>\n        <path id=\"DejaVuSans-73\" d=\"M 2834 3397 \nL 2834 2853 \nQ 2591 2978 2328 3040 \nQ 2066 3103 1784 3103 \nQ 1356 3103 1142 2972 \nQ 928 2841 928 2578 \nQ 928 2378 1081 2264 \nQ 1234 2150 1697 2047 \nL 1894 2003 \nQ 2506 1872 2764 1633 \nQ 3022 1394 3022 966 \nQ 3022 478 2636 193 \nQ 2250 -91 1575 -91 \nQ 1294 -91 989 -36 \nQ 684 19 347 128 \nL 347 722 \nQ 666 556 975 473 \nQ 1284 391 1588 391 \nQ 1994 391 2212 530 \nQ 2431 669 2431 922 \nQ 2431 1156 2273 1281 \nQ 2116 1406 1581 1522 \nL 1381 1569 \nQ 847 1681 609 1914 \nQ 372 2147 372 2553 \nQ 372 3047 722 3315 \nQ 1072 3584 1716 3584 \nQ 2034 3584 2315 3537 \nQ 2597 3491 2834 3397 \nz\n\" transform=\"scale(0.015625)\"/>\n        <path id=\"DejaVuSans-6c\" d=\"M 603 4863 \nL 1178 4863 \nL 1178 0 \nL 603 0 \nL 603 4863 \nz\n\" transform=\"scale(0.015625)\"/>\n       </defs>\n       <use xlink:href=\"#DejaVuSans-43\"/>\n       <use xlink:href=\"#DejaVuSans-6f\" x=\"69.824219\"/>\n       <use xlink:href=\"#DejaVuSans-75\" x=\"131.005859\"/>\n       <use xlink:href=\"#DejaVuSans-6e\" x=\"194.384766\"/>\n       <use xlink:href=\"#DejaVuSans-74\" x=\"257.763672\"/>\n       <use xlink:href=\"#DejaVuSans-69\" x=\"296.972656\"/>\n       <use xlink:href=\"#DejaVuSans-6e\" x=\"324.755859\"/>\n       <use xlink:href=\"#DejaVuSans-67\" x=\"388.134766\"/>\n       <use xlink:href=\"#DejaVuSans-20\" x=\"451.611328\"/>\n       <use xlink:href=\"#DejaVuSans-61\" x=\"483.398438\"/>\n       <use xlink:href=\"#DejaVuSans-6e\" x=\"544.677734\"/>\n       <use xlink:href=\"#DejaVuSans-64\" x=\"608.056641\"/>\n       <use xlink:href=\"#DejaVuSans-20\" x=\"671.533203\"/>\n       <use xlink:href=\"#DejaVuSans-52\" x=\"703.320312\"/>\n       <use xlink:href=\"#DejaVuSans-65\" x=\"768.302734\"/>\n       <use xlink:href=\"#DejaVuSans-73\" x=\"829.826172\"/>\n       <use xlink:href=\"#DejaVuSans-75\" x=\"881.925781\"/>\n       <use xlink:href=\"#DejaVuSans-6c\" x=\"945.304688\"/>\n       <use xlink:href=\"#DejaVuSans-74\" x=\"973.087891\"/>\n       <use xlink:href=\"#DejaVuSans-73\" x=\"1012.296875\"/>\n      </g>\n     </g>\n    </g>\n    <g id=\"xtick_2\">\n     <g id=\"line2d_2\">\n      <path d=\"M 256.733811 370.477812 \nL 256.733811 37.837812 \n\" clip-path=\"url(#p9b90bff279)\" style=\"fill: none; stroke: #ffffff; stroke-linecap: round\"/>\n     </g>\n     <g id=\"text_2\">\n      <!-- Political Rallies -->\n      <g style=\"fill: #262626\" transform=\"translate(191.493035 449.940427) rotate(-45) scale(0.121 -0.121)\">\n       <defs>\n        <path id=\"DejaVuSans-50\" d=\"M 1259 4147 \nL 1259 2394 \nL 2053 2394 \nQ 2494 2394 2734 2622 \nQ 2975 2850 2975 3272 \nQ 2975 3691 2734 3919 \nQ 2494 4147 2053 4147 \nL 1259 4147 \nz\nM 628 4666 \nL 2053 4666 \nQ 2838 4666 3239 4311 \nQ 3641 3956 3641 3272 \nQ 3641 2581 3239 2228 \nQ 2838 1875 2053 1875 \nL 1259 1875 \nL 1259 0 \nL 628 0 \nL 628 4666 \nz\n\" transform=\"scale(0.015625)\"/>\n        <path id=\"DejaVuSans-63\" d=\"M 3122 3366 \nL 3122 2828 \nQ 2878 2963 2633 3030 \nQ 2388 3097 2138 3097 \nQ 1578 3097 1268 2742 \nQ 959 2388 959 1747 \nQ 959 1106 1268 751 \nQ 1578 397 2138 397 \nQ 2388 397 2633 464 \nQ 2878 531 3122 666 \nL 3122 134 \nQ 2881 22 2623 -34 \nQ 2366 -91 2075 -91 \nQ 1284 -91 818 406 \nQ 353 903 353 1747 \nQ 353 2603 823 3093 \nQ 1294 3584 2113 3584 \nQ 2378 3584 2631 3529 \nQ 2884 3475 3122 3366 \nz\n\" transform=\"scale(0.015625)\"/>\n       </defs>\n       <use xlink:href=\"#DejaVuSans-50\"/>\n       <use xlink:href=\"#DejaVuSans-6f\" x=\"56.677734\"/>\n       <use xlink:href=\"#DejaVuSans-6c\" x=\"117.859375\"/>\n       <use xlink:href=\"#DejaVuSans-69\" x=\"145.642578\"/>\n       <use xlink:href=\"#DejaVuSans-74\" x=\"173.425781\"/>\n       <use xlink:href=\"#DejaVuSans-69\" x=\"212.634766\"/>\n       <use xlink:href=\"#DejaVuSans-63\" x=\"240.417969\"/>\n       <use xlink:href=\"#DejaVuSans-61\" x=\"295.398438\"/>\n       <use xlink:href=\"#DejaVuSans-6c\" x=\"356.677734\"/>\n       <use xlink:href=\"#DejaVuSans-20\" x=\"384.460938\"/>\n       <use xlink:href=\"#DejaVuSans-52\" x=\"416.248047\"/>\n       <use xlink:href=\"#DejaVuSans-61\" x=\"483.480469\"/>\n       <use xlink:href=\"#DejaVuSans-6c\" x=\"544.759766\"/>\n       <use xlink:href=\"#DejaVuSans-6c\" x=\"572.542969\"/>\n       <use xlink:href=\"#DejaVuSans-69\" x=\"600.326172\"/>\n       <use xlink:href=\"#DejaVuSans-65\" x=\"628.109375\"/>\n       <use xlink:href=\"#DejaVuSans-73\" x=\"689.632812\"/>\n      </g>\n     </g>\n    </g>\n    <g id=\"xtick_3\">\n     <g id=\"line2d_3\">\n      <path d=\"M 328.157811 370.477812 \nL 328.157811 37.837812 \n\" clip-path=\"url(#p9b90bff279)\" style=\"fill: none; stroke: #ffffff; stroke-linecap: round\"/>\n     </g>\n     <g id=\"text_3\">\n      <!-- Positive Events -->\n      <g style=\"fill: #262626\" transform=\"translate(261.712512 451.14495) rotate(-45) scale(0.121 -0.121)\">\n       <defs>\n        <path id=\"DejaVuSans-76\" d=\"M 191 3500 \nL 800 3500 \nL 1894 563 \nL 2988 3500 \nL 3597 3500 \nL 2284 0 \nL 1503 0 \nL 191 3500 \nz\n\" transform=\"scale(0.015625)\"/>\n        <path id=\"DejaVuSans-45\" d=\"M 628 4666 \nL 3578 4666 \nL 3578 4134 \nL 1259 4134 \nL 1259 2753 \nL 3481 2753 \nL 3481 2222 \nL 1259 2222 \nL 1259 531 \nL 3634 531 \nL 3634 0 \nL 628 0 \nL 628 4666 \nz\n\" transform=\"scale(0.015625)\"/>\n       </defs>\n       <use xlink:href=\"#DejaVuSans-50\"/>\n       <use xlink:href=\"#DejaVuSans-6f\" x=\"56.677734\"/>\n       <use xlink:href=\"#DejaVuSans-73\" x=\"117.859375\"/>\n       <use xlink:href=\"#DejaVuSans-69\" x=\"169.958984\"/>\n       <use xlink:href=\"#DejaVuSans-74\" x=\"197.742188\"/>\n       <use xlink:href=\"#DejaVuSans-69\" x=\"236.951172\"/>\n       <use xlink:href=\"#DejaVuSans-76\" x=\"264.734375\"/>\n       <use xlink:href=\"#DejaVuSans-65\" x=\"323.914062\"/>\n       <use xlink:href=\"#DejaVuSans-20\" x=\"385.4375\"/>\n       <use xlink:href=\"#DejaVuSans-45\" x=\"417.224609\"/>\n       <use xlink:href=\"#DejaVuSans-76\" x=\"480.408203\"/>\n       <use xlink:href=\"#DejaVuSans-65\" x=\"539.587891\"/>\n       <use xlink:href=\"#DejaVuSans-6e\" x=\"601.111328\"/>\n       <use xlink:href=\"#DejaVuSans-74\" x=\"664.490234\"/>\n       <use xlink:href=\"#DejaVuSans-73\" x=\"703.699219\"/>\n      </g>\n     </g>\n    </g>\n    <g id=\"xtick_4\">\n     <g id=\"line2d_4\">\n      <path d=\"M 399.581811 370.477812 \nL 399.581811 37.837812 \n\" clip-path=\"url(#p9b90bff279)\" style=\"fill: none; stroke: #ffffff; stroke-linecap: round\"/>\n     </g>\n     <g id=\"text_4\">\n      <!-- Security Issues -->\n      <g style=\"fill: #262626\" transform=\"translate(333.365117 450.916345) rotate(-45) scale(0.121 -0.121)\">\n       <defs>\n        <path id=\"DejaVuSans-53\" d=\"M 3425 4513 \nL 3425 3897 \nQ 3066 4069 2747 4153 \nQ 2428 4238 2131 4238 \nQ 1616 4238 1336 4038 \nQ 1056 3838 1056 3469 \nQ 1056 3159 1242 3001 \nQ 1428 2844 1947 2747 \nL 2328 2669 \nQ 3034 2534 3370 2195 \nQ 3706 1856 3706 1288 \nQ 3706 609 3251 259 \nQ 2797 -91 1919 -91 \nQ 1588 -91 1214 -16 \nQ 841 59 441 206 \nL 441 856 \nQ 825 641 1194 531 \nQ 1563 422 1919 422 \nQ 2459 422 2753 634 \nQ 3047 847 3047 1241 \nQ 3047 1584 2836 1778 \nQ 2625 1972 2144 2069 \nL 1759 2144 \nQ 1053 2284 737 2584 \nQ 422 2884 422 3419 \nQ 422 4038 858 4394 \nQ 1294 4750 2059 4750 \nQ 2388 4750 2728 4690 \nQ 3069 4631 3425 4513 \nz\n\" transform=\"scale(0.015625)\"/>\n        <path id=\"DejaVuSans-72\" d=\"M 2631 2963 \nQ 2534 3019 2420 3045 \nQ 2306 3072 2169 3072 \nQ 1681 3072 1420 2755 \nQ 1159 2438 1159 1844 \nL 1159 0 \nL 581 0 \nL 581 3500 \nL 1159 3500 \nL 1159 2956 \nQ 1341 3275 1631 3429 \nQ 1922 3584 2338 3584 \nQ 2397 3584 2469 3576 \nQ 2541 3569 2628 3553 \nL 2631 2963 \nz\n\" transform=\"scale(0.015625)\"/>\n        <path id=\"DejaVuSans-79\" d=\"M 2059 -325 \nQ 1816 -950 1584 -1140 \nQ 1353 -1331 966 -1331 \nL 506 -1331 \nL 506 -850 \nL 844 -850 \nQ 1081 -850 1212 -737 \nQ 1344 -625 1503 -206 \nL 1606 56 \nL 191 3500 \nL 800 3500 \nL 1894 763 \nL 2988 3500 \nL 3597 3500 \nL 2059 -325 \nz\n\" transform=\"scale(0.015625)\"/>\n        <path id=\"DejaVuSans-49\" d=\"M 628 4666 \nL 1259 4666 \nL 1259 0 \nL 628 0 \nL 628 4666 \nz\n\" transform=\"scale(0.015625)\"/>\n       </defs>\n       <use xlink:href=\"#DejaVuSans-53\"/>\n       <use xlink:href=\"#DejaVuSans-65\" x=\"63.476562\"/>\n       <use xlink:href=\"#DejaVuSans-63\" x=\"125\"/>\n       <use xlink:href=\"#DejaVuSans-75\" x=\"179.980469\"/>\n       <use xlink:href=\"#DejaVuSans-72\" x=\"243.359375\"/>\n       <use xlink:href=\"#DejaVuSans-69\" x=\"284.472656\"/>\n       <use xlink:href=\"#DejaVuSans-74\" x=\"312.255859\"/>\n       <use xlink:href=\"#DejaVuSans-79\" x=\"351.464844\"/>\n       <use xlink:href=\"#DejaVuSans-20\" x=\"410.644531\"/>\n       <use xlink:href=\"#DejaVuSans-49\" x=\"442.431641\"/>\n       <use xlink:href=\"#DejaVuSans-73\" x=\"471.923828\"/>\n       <use xlink:href=\"#DejaVuSans-73\" x=\"524.023438\"/>\n       <use xlink:href=\"#DejaVuSans-75\" x=\"576.123047\"/>\n       <use xlink:href=\"#DejaVuSans-65\" x=\"639.501953\"/>\n       <use xlink:href=\"#DejaVuSans-73\" x=\"701.025391\"/>\n      </g>\n     </g>\n    </g>\n    <g id=\"xtick_5\">\n     <g id=\"line2d_5\">\n      <path d=\"M 471.005811 370.477812 \nL 471.005811 37.837812 \n\" clip-path=\"url(#p9b90bff279)\" style=\"fill: none; stroke: #ffffff; stroke-linecap: round\"/>\n     </g>\n     <g id=\"text_5\">\n      <!-- Voting Issues -->\n      <g style=\"fill: #262626\" transform=\"translate(412.914636 442.790826) rotate(-45) scale(0.121 -0.121)\">\n       <defs>\n        <path id=\"DejaVuSans-56\" d=\"M 1831 0 \nL 50 4666 \nL 709 4666 \nL 2188 738 \nL 3669 4666 \nL 4325 4666 \nL 2547 0 \nL 1831 0 \nz\n\" transform=\"scale(0.015625)\"/>\n       </defs>\n       <use xlink:href=\"#DejaVuSans-56\"/>\n       <use xlink:href=\"#DejaVuSans-6f\" x=\"60.658203\"/>\n       <use xlink:href=\"#DejaVuSans-74\" x=\"121.839844\"/>\n       <use xlink:href=\"#DejaVuSans-69\" x=\"161.048828\"/>\n       <use xlink:href=\"#DejaVuSans-6e\" x=\"188.832031\"/>\n       <use xlink:href=\"#DejaVuSans-67\" x=\"252.210938\"/>\n       <use xlink:href=\"#DejaVuSans-20\" x=\"315.6875\"/>\n       <use xlink:href=\"#DejaVuSans-49\" x=\"347.474609\"/>\n       <use xlink:href=\"#DejaVuSans-73\" x=\"376.966797\"/>\n       <use xlink:href=\"#DejaVuSans-73\" x=\"429.066406\"/>\n       <use xlink:href=\"#DejaVuSans-75\" x=\"481.166016\"/>\n       <use xlink:href=\"#DejaVuSans-65\" x=\"544.544922\"/>\n       <use xlink:href=\"#DejaVuSans-73\" x=\"606.068359\"/>\n      </g>\n     </g>\n    </g>\n    <g id=\"text_6\">\n     <!-- Predicted Label -->\n     <g style=\"fill: #262626\" transform=\"translate(274.188905 509.964061) scale(0.14 -0.14)\">\n      <defs>\n       <path id=\"DejaVuSans-4c\" d=\"M 628 4666 \nL 1259 4666 \nL 1259 531 \nL 3531 531 \nL 3531 0 \nL 628 0 \nL 628 4666 \nz\n\" transform=\"scale(0.015625)\"/>\n       <path id=\"DejaVuSans-62\" d=\"M 3116 1747 \nQ 3116 2381 2855 2742 \nQ 2594 3103 2138 3103 \nQ 1681 3103 1420 2742 \nQ 1159 2381 1159 1747 \nQ 1159 1113 1420 752 \nQ 1681 391 2138 391 \nQ 2594 391 2855 752 \nQ 3116 1113 3116 1747 \nz\nM 1159 2969 \nQ 1341 3281 1617 3432 \nQ 1894 3584 2278 3584 \nQ 2916 3584 3314 3078 \nQ 3713 2572 3713 1747 \nQ 3713 922 3314 415 \nQ 2916 -91 2278 -91 \nQ 1894 -91 1617 61 \nQ 1341 213 1159 525 \nL 1159 0 \nL 581 0 \nL 581 4863 \nL 1159 4863 \nL 1159 2969 \nz\n\" transform=\"scale(0.015625)\"/>\n      </defs>\n      <use xlink:href=\"#DejaVuSans-50\"/>\n      <use xlink:href=\"#DejaVuSans-72\" x=\"58.552734\"/>\n      <use xlink:href=\"#DejaVuSans-65\" x=\"97.416016\"/>\n      <use xlink:href=\"#DejaVuSans-64\" x=\"158.939453\"/>\n      <use xlink:href=\"#DejaVuSans-69\" x=\"222.416016\"/>\n      <use xlink:href=\"#DejaVuSans-63\" x=\"250.199219\"/>\n      <use xlink:href=\"#DejaVuSans-74\" x=\"305.179688\"/>\n      <use xlink:href=\"#DejaVuSans-65\" x=\"344.388672\"/>\n      <use xlink:href=\"#DejaVuSans-64\" x=\"405.912109\"/>\n      <use xlink:href=\"#DejaVuSans-20\" x=\"469.388672\"/>\n      <use xlink:href=\"#DejaVuSans-4c\" x=\"501.175781\"/>\n      <use xlink:href=\"#DejaVuSans-61\" x=\"556.888672\"/>\n      <use xlink:href=\"#DejaVuSans-62\" x=\"618.167969\"/>\n      <use xlink:href=\"#DejaVuSans-65\" x=\"681.644531\"/>\n      <use xlink:href=\"#DejaVuSans-6c\" x=\"743.167969\"/>\n     </g>\n    </g>\n   </g>\n   <g id=\"matplotlib.axis_2\">\n    <g id=\"ytick_1\">\n     <g id=\"line2d_6\">\n      <path d=\"M 149.597811 71.101812 \nL 506.717811 71.101812 \n\" clip-path=\"url(#p9b90bff279)\" style=\"fill: none; stroke: #ffffff; stroke-linecap: round\"/>\n     </g>\n     <g id=\"text_7\">\n      <!-- Counting and Results -->\n      <g style=\"fill: #262626\" transform=\"translate(47.250592 118.996652) rotate(-45) scale(0.121 -0.121)\">\n       <use xlink:href=\"#DejaVuSans-43\"/>\n       <use xlink:href=\"#DejaVuSans-6f\" x=\"69.824219\"/>\n       <use xlink:href=\"#DejaVuSans-75\" x=\"131.005859\"/>\n       <use xlink:href=\"#DejaVuSans-6e\" x=\"194.384766\"/>\n       <use xlink:href=\"#DejaVuSans-74\" x=\"257.763672\"/>\n       <use xlink:href=\"#DejaVuSans-69\" x=\"296.972656\"/>\n       <use xlink:href=\"#DejaVuSans-6e\" x=\"324.755859\"/>\n       <use xlink:href=\"#DejaVuSans-67\" x=\"388.134766\"/>\n       <use xlink:href=\"#DejaVuSans-20\" x=\"451.611328\"/>\n       <use xlink:href=\"#DejaVuSans-61\" x=\"483.398438\"/>\n       <use xlink:href=\"#DejaVuSans-6e\" x=\"544.677734\"/>\n       <use xlink:href=\"#DejaVuSans-64\" x=\"608.056641\"/>\n       <use xlink:href=\"#DejaVuSans-20\" x=\"671.533203\"/>\n       <use xlink:href=\"#DejaVuSans-52\" x=\"703.320312\"/>\n       <use xlink:href=\"#DejaVuSans-65\" x=\"768.302734\"/>\n       <use xlink:href=\"#DejaVuSans-73\" x=\"829.826172\"/>\n       <use xlink:href=\"#DejaVuSans-75\" x=\"881.925781\"/>\n       <use xlink:href=\"#DejaVuSans-6c\" x=\"945.304688\"/>\n       <use xlink:href=\"#DejaVuSans-74\" x=\"973.087891\"/>\n       <use xlink:href=\"#DejaVuSans-73\" x=\"1012.296875\"/>\n      </g>\n     </g>\n    </g>\n    <g id=\"ytick_2\">\n     <g id=\"line2d_7\">\n      <path d=\"M 149.597811 137.629812 \nL 506.717811 137.629812 \n\" clip-path=\"url(#p9b90bff279)\" style=\"fill: none; stroke: #ffffff; stroke-linecap: round\"/>\n     </g>\n     <g id=\"text_8\">\n      <!-- Political Rallies -->\n      <g style=\"fill: #262626\" transform=\"translate(74.857035 171.72143) rotate(-45) scale(0.121 -0.121)\">\n       <use xlink:href=\"#DejaVuSans-50\"/>\n       <use xlink:href=\"#DejaVuSans-6f\" x=\"56.677734\"/>\n       <use xlink:href=\"#DejaVuSans-6c\" x=\"117.859375\"/>\n       <use xlink:href=\"#DejaVuSans-69\" x=\"145.642578\"/>\n       <use xlink:href=\"#DejaVuSans-74\" x=\"173.425781\"/>\n       <use xlink:href=\"#DejaVuSans-69\" x=\"212.634766\"/>\n       <use xlink:href=\"#DejaVuSans-63\" x=\"240.417969\"/>\n       <use xlink:href=\"#DejaVuSans-61\" x=\"295.398438\"/>\n       <use xlink:href=\"#DejaVuSans-6c\" x=\"356.677734\"/>\n       <use xlink:href=\"#DejaVuSans-20\" x=\"384.460938\"/>\n       <use xlink:href=\"#DejaVuSans-52\" x=\"416.248047\"/>\n       <use xlink:href=\"#DejaVuSans-61\" x=\"483.480469\"/>\n       <use xlink:href=\"#DejaVuSans-6c\" x=\"544.759766\"/>\n       <use xlink:href=\"#DejaVuSans-6c\" x=\"572.542969\"/>\n       <use xlink:href=\"#DejaVuSans-69\" x=\"600.326172\"/>\n       <use xlink:href=\"#DejaVuSans-65\" x=\"628.109375\"/>\n       <use xlink:href=\"#DejaVuSans-73\" x=\"689.632812\"/>\n      </g>\n     </g>\n    </g>\n    <g id=\"ytick_3\">\n     <g id=\"line2d_8\">\n      <path d=\"M 149.597811 204.157812 \nL 506.717811 204.157812 \n\" clip-path=\"url(#p9b90bff279)\" style=\"fill: none; stroke: #ffffff; stroke-linecap: round\"/>\n     </g>\n     <g id=\"text_9\">\n      <!-- Positive Events -->\n      <g style=\"fill: #262626\" transform=\"translate(73.652512 238.851692) rotate(-45) scale(0.121 -0.121)\">\n       <use xlink:href=\"#DejaVuSans-50\"/>\n       <use xlink:href=\"#DejaVuSans-6f\" x=\"56.677734\"/>\n       <use xlink:href=\"#DejaVuSans-73\" x=\"117.859375\"/>\n       <use xlink:href=\"#DejaVuSans-69\" x=\"169.958984\"/>\n       <use xlink:href=\"#DejaVuSans-74\" x=\"197.742188\"/>\n       <use xlink:href=\"#DejaVuSans-69\" x=\"236.951172\"/>\n       <use xlink:href=\"#DejaVuSans-76\" x=\"264.734375\"/>\n       <use xlink:href=\"#DejaVuSans-65\" x=\"323.914062\"/>\n       <use xlink:href=\"#DejaVuSans-20\" x=\"385.4375\"/>\n       <use xlink:href=\"#DejaVuSans-45\" x=\"417.224609\"/>\n       <use xlink:href=\"#DejaVuSans-76\" x=\"480.408203\"/>\n       <use xlink:href=\"#DejaVuSans-65\" x=\"539.587891\"/>\n       <use xlink:href=\"#DejaVuSans-6e\" x=\"601.111328\"/>\n       <use xlink:href=\"#DejaVuSans-74\" x=\"664.490234\"/>\n       <use xlink:href=\"#DejaVuSans-73\" x=\"703.699219\"/>\n      </g>\n     </g>\n    </g>\n    <g id=\"ytick_4\">\n     <g id=\"line2d_9\">\n      <path d=\"M 149.597811 270.685812 \nL 506.717811 270.685812 \n\" clip-path=\"url(#p9b90bff279)\" style=\"fill: none; stroke: #ffffff; stroke-linecap: round\"/>\n     </g>\n     <g id=\"text_10\">\n      <!-- Security Issues -->\n      <g style=\"fill: #262626\" transform=\"translate(73.881117 305.265389) rotate(-45) scale(0.121 -0.121)\">\n       <use xlink:href=\"#DejaVuSans-53\"/>\n       <use xlink:href=\"#DejaVuSans-65\" x=\"63.476562\"/>\n       <use xlink:href=\"#DejaVuSans-63\" x=\"125\"/>\n       <use xlink:href=\"#DejaVuSans-75\" x=\"179.980469\"/>\n       <use xlink:href=\"#DejaVuSans-72\" x=\"243.359375\"/>\n       <use xlink:href=\"#DejaVuSans-69\" x=\"284.472656\"/>\n       <use xlink:href=\"#DejaVuSans-74\" x=\"312.255859\"/>\n       <use xlink:href=\"#DejaVuSans-79\" x=\"351.464844\"/>\n       <use xlink:href=\"#DejaVuSans-20\" x=\"410.644531\"/>\n       <use xlink:href=\"#DejaVuSans-49\" x=\"442.431641\"/>\n       <use xlink:href=\"#DejaVuSans-73\" x=\"471.923828\"/>\n       <use xlink:href=\"#DejaVuSans-73\" x=\"524.023438\"/>\n       <use xlink:href=\"#DejaVuSans-75\" x=\"576.123047\"/>\n       <use xlink:href=\"#DejaVuSans-65\" x=\"639.501953\"/>\n       <use xlink:href=\"#DejaVuSans-73\" x=\"701.025391\"/>\n      </g>\n     </g>\n    </g>\n    <g id=\"ytick_5\">\n     <g id=\"line2d_10\">\n      <path d=\"M 149.597811 337.213812 \nL 506.717811 337.213812 \n\" clip-path=\"url(#p9b90bff279)\" style=\"fill: none; stroke: #ffffff; stroke-linecap: round\"/>\n     </g>\n     <g id=\"text_11\">\n      <!-- Voting Issues -->\n      <g style=\"fill: #262626\" transform=\"translate(82.006636 367.73063) rotate(-45) scale(0.121 -0.121)\">\n       <use xlink:href=\"#DejaVuSans-56\"/>\n       <use xlink:href=\"#DejaVuSans-6f\" x=\"60.658203\"/>\n       <use xlink:href=\"#DejaVuSans-74\" x=\"121.839844\"/>\n       <use xlink:href=\"#DejaVuSans-69\" x=\"161.048828\"/>\n       <use xlink:href=\"#DejaVuSans-6e\" x=\"188.832031\"/>\n       <use xlink:href=\"#DejaVuSans-67\" x=\"252.210938\"/>\n       <use xlink:href=\"#DejaVuSans-20\" x=\"315.6875\"/>\n       <use xlink:href=\"#DejaVuSans-49\" x=\"347.474609\"/>\n       <use xlink:href=\"#DejaVuSans-73\" x=\"376.966797\"/>\n       <use xlink:href=\"#DejaVuSans-73\" x=\"429.066406\"/>\n       <use xlink:href=\"#DejaVuSans-75\" x=\"481.166016\"/>\n       <use xlink:href=\"#DejaVuSans-65\" x=\"544.544922\"/>\n       <use xlink:href=\"#DejaVuSans-73\" x=\"606.068359\"/>\n      </g>\n     </g>\n    </g>\n    <g id=\"text_12\">\n     <!-- Gold Label -->\n     <g style=\"fill: #262626\" transform=\"translate(17.837812 241.363906) rotate(-90) scale(0.14 -0.14)\">\n      <defs>\n       <path id=\"DejaVuSans-47\" d=\"M 3809 666 \nL 3809 1919 \nL 2778 1919 \nL 2778 2438 \nL 4434 2438 \nL 4434 434 \nQ 4069 175 3628 42 \nQ 3188 -91 2688 -91 \nQ 1594 -91 976 548 \nQ 359 1188 359 2328 \nQ 359 3472 976 4111 \nQ 1594 4750 2688 4750 \nQ 3144 4750 3555 4637 \nQ 3966 4525 4313 4306 \nL 4313 3634 \nQ 3963 3931 3569 4081 \nQ 3175 4231 2741 4231 \nQ 1884 4231 1454 3753 \nQ 1025 3275 1025 2328 \nQ 1025 1384 1454 906 \nQ 1884 428 2741 428 \nQ 3075 428 3337 486 \nQ 3600 544 3809 666 \nz\n\" transform=\"scale(0.015625)\"/>\n      </defs>\n      <use xlink:href=\"#DejaVuSans-47\"/>\n      <use xlink:href=\"#DejaVuSans-6f\" x=\"77.490234\"/>\n      <use xlink:href=\"#DejaVuSans-6c\" x=\"138.671875\"/>\n      <use xlink:href=\"#DejaVuSans-64\" x=\"166.455078\"/>\n      <use xlink:href=\"#DejaVuSans-20\" x=\"229.931641\"/>\n      <use xlink:href=\"#DejaVuSans-4c\" x=\"261.71875\"/>\n      <use xlink:href=\"#DejaVuSans-61\" x=\"317.431641\"/>\n      <use xlink:href=\"#DejaVuSans-62\" x=\"378.710938\"/>\n      <use xlink:href=\"#DejaVuSans-65\" x=\"442.1875\"/>\n      <use xlink:href=\"#DejaVuSans-6c\" x=\"503.710938\"/>\n     </g>\n    </g>\n   </g>\n   <g id=\"QuadMesh_1\">\n    <path d=\"M 149.597811 37.837812 \nL 221.021811 37.837812 \nL 221.021811 104.365812 \nL 149.597811 104.365812 \nL 149.597811 37.837812 \n\" clip-path=\"url(#p9b90bff279)\" style=\"fill: #f8dac5\"/>\n    <path d=\"M 221.021811 37.837812 \nL 292.445811 37.837812 \nL 292.445811 104.365812 \nL 221.021811 104.365812 \nL 221.021811 37.837812 \n\" clip-path=\"url(#p9b90bff279)\" style=\"fill: #08081e\"/>\n    <path d=\"M 292.445811 37.837812 \nL 363.869811 37.837812 \nL 363.869811 104.365812 \nL 292.445811 104.365812 \nL 292.445811 37.837812 \n\" clip-path=\"url(#p9b90bff279)\" style=\"fill: #110c24\"/>\n    <path d=\"M 363.869811 37.837812 \nL 435.293811 37.837812 \nL 435.293811 104.365812 \nL 363.869811 104.365812 \nL 363.869811 37.837812 \n\" clip-path=\"url(#p9b90bff279)\" style=\"fill: #08081e\"/>\n    <path d=\"M 435.293811 37.837812 \nL 506.717811 37.837812 \nL 506.717811 104.365812 \nL 435.293811 104.365812 \nL 435.293811 37.837812 \n\" clip-path=\"url(#p9b90bff279)\" style=\"fill: #110c24\"/>\n    <path d=\"M 149.597811 104.365812 \nL 221.021811 104.365812 \nL 221.021811 170.893812 \nL 149.597811 170.893812 \nL 149.597811 104.365812 \n\" clip-path=\"url(#p9b90bff279)\" style=\"fill: #30173a\"/>\n    <path d=\"M 221.021811 104.365812 \nL 292.445811 104.365812 \nL 292.445811 170.893812 \nL 221.021811 170.893812 \nL 221.021811 104.365812 \n\" clip-path=\"url(#p9b90bff279)\" style=\"fill: #f59067\"/>\n    <path d=\"M 292.445811 104.365812 \nL 363.869811 104.365812 \nL 363.869811 170.893812 \nL 292.445811 170.893812 \nL 292.445811 104.365812 \n\" clip-path=\"url(#p9b90bff279)\" style=\"fill: #180f29\"/>\n    <path d=\"M 363.869811 104.365812 \nL 435.293811 104.365812 \nL 435.293811 170.893812 \nL 363.869811 170.893812 \nL 363.869811 104.365812 \n\" clip-path=\"url(#p9b90bff279)\" style=\"fill: #180f29\"/>\n    <path d=\"M 435.293811 104.365812 \nL 506.717811 104.365812 \nL 506.717811 170.893812 \nL 435.293811 170.893812 \nL 435.293811 104.365812 \n\" clip-path=\"url(#p9b90bff279)\" style=\"fill: #180f29\"/>\n    <path d=\"M 149.597811 170.893812 \nL 221.021811 170.893812 \nL 221.021811 237.421812 \nL 149.597811 237.421812 \nL 149.597811 170.893812 \n\" clip-path=\"url(#p9b90bff279)\" style=\"fill: #110c24\"/>\n    <path d=\"M 221.021811 170.893812 \nL 292.445811 170.893812 \nL 292.445811 237.421812 \nL 221.021811 237.421812 \nL 221.021811 170.893812 \n\" clip-path=\"url(#p9b90bff279)\" style=\"fill: #211330\"/>\n    <path d=\"M 292.445811 170.893812 \nL 363.869811 170.893812 \nL 363.869811 237.421812 \nL 292.445811 237.421812 \nL 292.445811 170.893812 \n\" clip-path=\"url(#p9b90bff279)\" style=\"fill: #f58b63\"/>\n    <path d=\"M 363.869811 170.893812 \nL 435.293811 170.893812 \nL 435.293811 237.421812 \nL 363.869811 237.421812 \nL 363.869811 170.893812 \n\" clip-path=\"url(#p9b90bff279)\" style=\"fill: #211330\"/>\n    <path d=\"M 435.293811 170.893812 \nL 506.717811 170.893812 \nL 506.717811 237.421812 \nL 435.293811 237.421812 \nL 435.293811 170.893812 \n\" clip-path=\"url(#p9b90bff279)\" style=\"fill: #2a1636\"/>\n    <path d=\"M 149.597811 237.421812 \nL 221.021811 237.421812 \nL 221.021811 303.949812 \nL 149.597811 303.949812 \nL 149.597811 237.421812 \n\" clip-path=\"url(#p9b90bff279)\" style=\"fill: #0e0b22\"/>\n    <path d=\"M 221.021811 237.421812 \nL 292.445811 237.421812 \nL 292.445811 303.949812 \nL 221.021811 303.949812 \nL 221.021811 237.421812 \n\" clip-path=\"url(#p9b90bff279)\" style=\"fill: #1d112c\"/>\n    <path d=\"M 292.445811 237.421812 \nL 363.869811 237.421812 \nL 363.869811 303.949812 \nL 292.445811 303.949812 \nL 292.445811 237.421812 \n\" clip-path=\"url(#p9b90bff279)\" style=\"fill: #1d112c\"/>\n    <path d=\"M 363.869811 237.421812 \nL 435.293811 237.421812 \nL 435.293811 303.949812 \nL 363.869811 303.949812 \nL 363.869811 237.421812 \n\" clip-path=\"url(#p9b90bff279)\" style=\"fill: #f5966c\"/>\n    <path d=\"M 435.293811 237.421812 \nL 506.717811 237.421812 \nL 506.717811 303.949812 \nL 435.293811 303.949812 \nL 435.293811 237.421812 \n\" clip-path=\"url(#p9b90bff279)\" style=\"fill: #2b1637\"/>\n    <path d=\"M 149.597811 303.949812 \nL 221.021811 303.949812 \nL 221.021811 370.477812 \nL 149.597811 370.477812 \nL 149.597811 303.949812 \n\" clip-path=\"url(#p9b90bff279)\" style=\"fill: #0d0a21\"/>\n    <path d=\"M 221.021811 303.949812 \nL 292.445811 303.949812 \nL 292.445811 370.477812 \nL 221.021811 370.477812 \nL 221.021811 303.949812 \n\" clip-path=\"url(#p9b90bff279)\" style=\"fill: #03051a\"/>\n    <path d=\"M 292.445811 303.949812 \nL 363.869811 303.949812 \nL 363.869811 370.477812 \nL 292.445811 370.477812 \nL 292.445811 303.949812 \n\" clip-path=\"url(#p9b90bff279)\" style=\"fill: #0d0a21\"/>\n    <path d=\"M 363.869811 303.949812 \nL 435.293811 303.949812 \nL 435.293811 370.477812 \nL 363.869811 370.477812 \nL 363.869811 303.949812 \n\" clip-path=\"url(#p9b90bff279)\" style=\"fill: #0d0a21\"/>\n    <path d=\"M 435.293811 303.949812 \nL 506.717811 303.949812 \nL 506.717811 370.477812 \nL 435.293811 370.477812 \nL 435.293811 303.949812 \n\" clip-path=\"url(#p9b90bff279)\" style=\"fill: #faebdd\"/>\n   </g>\n   <g id=\"text_13\">\n    <!-- 87.50% -->\n    <g style=\"fill: #262626\" transform=\"translate(160.144218 74.744187) scale(0.132 -0.132)\">\n     <defs>\n      <path id=\"DejaVuSans-38\" d=\"M 2034 2216 \nQ 1584 2216 1326 1975 \nQ 1069 1734 1069 1313 \nQ 1069 891 1326 650 \nQ 1584 409 2034 409 \nQ 2484 409 2743 651 \nQ 3003 894 3003 1313 \nQ 3003 1734 2745 1975 \nQ 2488 2216 2034 2216 \nz\nM 1403 2484 \nQ 997 2584 770 2862 \nQ 544 3141 544 3541 \nQ 544 4100 942 4425 \nQ 1341 4750 2034 4750 \nQ 2731 4750 3128 4425 \nQ 3525 4100 3525 3541 \nQ 3525 3141 3298 2862 \nQ 3072 2584 2669 2484 \nQ 3125 2378 3379 2068 \nQ 3634 1759 3634 1313 \nQ 3634 634 3220 271 \nQ 2806 -91 2034 -91 \nQ 1263 -91 848 271 \nQ 434 634 434 1313 \nQ 434 1759 690 2068 \nQ 947 2378 1403 2484 \nz\nM 1172 3481 \nQ 1172 3119 1398 2916 \nQ 1625 2713 2034 2713 \nQ 2441 2713 2670 2916 \nQ 2900 3119 2900 3481 \nQ 2900 3844 2670 4047 \nQ 2441 4250 2034 4250 \nQ 1625 4250 1398 4047 \nQ 1172 3844 1172 3481 \nz\n\" transform=\"scale(0.015625)\"/>\n      <path id=\"DejaVuSans-37\" d=\"M 525 4666 \nL 3525 4666 \nL 3525 4397 \nL 1831 0 \nL 1172 0 \nL 2766 4134 \nL 525 4134 \nL 525 4666 \nz\n\" transform=\"scale(0.015625)\"/>\n      <path id=\"DejaVuSans-2e\" d=\"M 684 794 \nL 1344 794 \nL 1344 0 \nL 684 0 \nL 684 794 \nz\n\" transform=\"scale(0.015625)\"/>\n      <path id=\"DejaVuSans-35\" d=\"M 691 4666 \nL 3169 4666 \nL 3169 4134 \nL 1269 4134 \nL 1269 2991 \nQ 1406 3038 1543 3061 \nQ 1681 3084 1819 3084 \nQ 2600 3084 3056 2656 \nQ 3513 2228 3513 1497 \nQ 3513 744 3044 326 \nQ 2575 -91 1722 -91 \nQ 1428 -91 1123 -41 \nQ 819 9 494 109 \nL 494 744 \nQ 775 591 1075 516 \nQ 1375 441 1709 441 \nQ 2250 441 2565 725 \nQ 2881 1009 2881 1497 \nQ 2881 1984 2565 2268 \nQ 2250 2553 1709 2553 \nQ 1456 2553 1204 2497 \nQ 953 2441 691 2322 \nL 691 4666 \nz\n\" transform=\"scale(0.015625)\"/>\n      <path id=\"DejaVuSans-30\" d=\"M 2034 4250 \nQ 1547 4250 1301 3770 \nQ 1056 3291 1056 2328 \nQ 1056 1369 1301 889 \nQ 1547 409 2034 409 \nQ 2525 409 2770 889 \nQ 3016 1369 3016 2328 \nQ 3016 3291 2770 3770 \nQ 2525 4250 2034 4250 \nz\nM 2034 4750 \nQ 2819 4750 3233 4129 \nQ 3647 3509 3647 2328 \nQ 3647 1150 3233 529 \nQ 2819 -91 2034 -91 \nQ 1250 -91 836 529 \nQ 422 1150 422 2328 \nQ 422 3509 836 4129 \nQ 1250 4750 2034 4750 \nz\n\" transform=\"scale(0.015625)\"/>\n      <path id=\"DejaVuSans-25\" d=\"M 4653 2053 \nQ 4381 2053 4226 1822 \nQ 4072 1591 4072 1178 \nQ 4072 772 4226 539 \nQ 4381 306 4653 306 \nQ 4919 306 5073 539 \nQ 5228 772 5228 1178 \nQ 5228 1588 5073 1820 \nQ 4919 2053 4653 2053 \nz\nM 4653 2450 \nQ 5147 2450 5437 2106 \nQ 5728 1763 5728 1178 \nQ 5728 594 5436 251 \nQ 5144 -91 4653 -91 \nQ 4153 -91 3862 251 \nQ 3572 594 3572 1178 \nQ 3572 1766 3864 2108 \nQ 4156 2450 4653 2450 \nz\nM 1428 4353 \nQ 1159 4353 1004 4120 \nQ 850 3888 850 3481 \nQ 850 3069 1003 2837 \nQ 1156 2606 1428 2606 \nQ 1700 2606 1854 2837 \nQ 2009 3069 2009 3481 \nQ 2009 3884 1853 4118 \nQ 1697 4353 1428 4353 \nz\nM 4250 4750 \nL 4750 4750 \nL 1831 -91 \nL 1331 -91 \nL 4250 4750 \nz\nM 1428 4750 \nQ 1922 4750 2215 4408 \nQ 2509 4066 2509 3481 \nQ 2509 2891 2217 2550 \nQ 1925 2209 1428 2209 \nQ 931 2209 642 2551 \nQ 353 2894 353 3481 \nQ 353 4063 643 4406 \nQ 934 4750 1428 4750 \nz\n\" transform=\"scale(0.015625)\"/>\n     </defs>\n     <use xlink:href=\"#DejaVuSans-38\"/>\n     <use xlink:href=\"#DejaVuSans-37\" x=\"63.623047\"/>\n     <use xlink:href=\"#DejaVuSans-2e\" x=\"127.246094\"/>\n     <use xlink:href=\"#DejaVuSans-35\" x=\"159.033203\"/>\n     <use xlink:href=\"#DejaVuSans-30\" x=\"222.65625\"/>\n     <use xlink:href=\"#DejaVuSans-25\" x=\"286.279297\"/>\n    </g>\n   </g>\n   <g id=\"text_14\">\n    <!-- 2.08% -->\n    <g style=\"fill: #ffffff\" transform=\"translate(235.767468 74.744187) scale(0.132 -0.132)\">\n     <defs>\n      <path id=\"DejaVuSans-32\" d=\"M 1228 531 \nL 3431 531 \nL 3431 0 \nL 469 0 \nL 469 531 \nQ 828 903 1448 1529 \nQ 2069 2156 2228 2338 \nQ 2531 2678 2651 2914 \nQ 2772 3150 2772 3378 \nQ 2772 3750 2511 3984 \nQ 2250 4219 1831 4219 \nQ 1534 4219 1204 4116 \nQ 875 4013 500 3803 \nL 500 4441 \nQ 881 4594 1212 4672 \nQ 1544 4750 1819 4750 \nQ 2544 4750 2975 4387 \nQ 3406 4025 3406 3419 \nQ 3406 3131 3298 2873 \nQ 3191 2616 2906 2266 \nQ 2828 2175 2409 1742 \nQ 1991 1309 1228 531 \nz\n\" transform=\"scale(0.015625)\"/>\n     </defs>\n     <use xlink:href=\"#DejaVuSans-32\"/>\n     <use xlink:href=\"#DejaVuSans-2e\" x=\"63.623047\"/>\n     <use xlink:href=\"#DejaVuSans-30\" x=\"95.410156\"/>\n     <use xlink:href=\"#DejaVuSans-38\" x=\"159.033203\"/>\n     <use xlink:href=\"#DejaVuSans-25\" x=\"222.65625\"/>\n    </g>\n   </g>\n   <g id=\"text_15\">\n    <!-- 4.17% -->\n    <g style=\"fill: #ffffff\" transform=\"translate(307.191468 74.744187) scale(0.132 -0.132)\">\n     <defs>\n      <path id=\"DejaVuSans-34\" d=\"M 2419 4116 \nL 825 1625 \nL 2419 1625 \nL 2419 4116 \nz\nM 2253 4666 \nL 3047 4666 \nL 3047 1625 \nL 3713 1625 \nL 3713 1100 \nL 3047 1100 \nL 3047 0 \nL 2419 0 \nL 2419 1100 \nL 313 1100 \nL 313 1709 \nL 2253 4666 \nz\n\" transform=\"scale(0.015625)\"/>\n      <path id=\"DejaVuSans-31\" d=\"M 794 531 \nL 1825 531 \nL 1825 4091 \nL 703 3866 \nL 703 4441 \nL 1819 4666 \nL 2450 4666 \nL 2450 531 \nL 3481 531 \nL 3481 0 \nL 794 0 \nL 794 531 \nz\n\" transform=\"scale(0.015625)\"/>\n     </defs>\n     <use xlink:href=\"#DejaVuSans-34\"/>\n     <use xlink:href=\"#DejaVuSans-2e\" x=\"63.623047\"/>\n     <use xlink:href=\"#DejaVuSans-31\" x=\"95.410156\"/>\n     <use xlink:href=\"#DejaVuSans-37\" x=\"159.033203\"/>\n     <use xlink:href=\"#DejaVuSans-25\" x=\"222.65625\"/>\n    </g>\n   </g>\n   <g id=\"text_16\">\n    <!-- 2.08% -->\n    <g style=\"fill: #ffffff\" transform=\"translate(378.615468 74.744187) scale(0.132 -0.132)\">\n     <use xlink:href=\"#DejaVuSans-32\"/>\n     <use xlink:href=\"#DejaVuSans-2e\" x=\"63.623047\"/>\n     <use xlink:href=\"#DejaVuSans-30\" x=\"95.410156\"/>\n     <use xlink:href=\"#DejaVuSans-38\" x=\"159.033203\"/>\n     <use xlink:href=\"#DejaVuSans-25\" x=\"222.65625\"/>\n    </g>\n   </g>\n   <g id=\"text_17\">\n    <!-- 4.17% -->\n    <g style=\"fill: #ffffff\" transform=\"translate(450.039468 74.744187) scale(0.132 -0.132)\">\n     <use xlink:href=\"#DejaVuSans-34\"/>\n     <use xlink:href=\"#DejaVuSans-2e\" x=\"63.623047\"/>\n     <use xlink:href=\"#DejaVuSans-31\" x=\"95.410156\"/>\n     <use xlink:href=\"#DejaVuSans-37\" x=\"159.033203\"/>\n     <use xlink:href=\"#DejaVuSans-25\" x=\"222.65625\"/>\n    </g>\n   </g>\n   <g id=\"text_18\">\n    <!-- 11.76% -->\n    <g style=\"fill: #ffffff\" transform=\"translate(160.144218 141.272187) scale(0.132 -0.132)\">\n     <defs>\n      <path id=\"DejaVuSans-36\" d=\"M 2113 2584 \nQ 1688 2584 1439 2293 \nQ 1191 2003 1191 1497 \nQ 1191 994 1439 701 \nQ 1688 409 2113 409 \nQ 2538 409 2786 701 \nQ 3034 994 3034 1497 \nQ 3034 2003 2786 2293 \nQ 2538 2584 2113 2584 \nz\nM 3366 4563 \nL 3366 3988 \nQ 3128 4100 2886 4159 \nQ 2644 4219 2406 4219 \nQ 1781 4219 1451 3797 \nQ 1122 3375 1075 2522 \nQ 1259 2794 1537 2939 \nQ 1816 3084 2150 3084 \nQ 2853 3084 3261 2657 \nQ 3669 2231 3669 1497 \nQ 3669 778 3244 343 \nQ 2819 -91 2113 -91 \nQ 1303 -91 875 529 \nQ 447 1150 447 2328 \nQ 447 3434 972 4092 \nQ 1497 4750 2381 4750 \nQ 2619 4750 2861 4703 \nQ 3103 4656 3366 4563 \nz\n\" transform=\"scale(0.015625)\"/>\n     </defs>\n     <use xlink:href=\"#DejaVuSans-31\"/>\n     <use xlink:href=\"#DejaVuSans-31\" x=\"63.623047\"/>\n     <use xlink:href=\"#DejaVuSans-2e\" x=\"127.246094\"/>\n     <use xlink:href=\"#DejaVuSans-37\" x=\"159.033203\"/>\n     <use xlink:href=\"#DejaVuSans-36\" x=\"222.65625\"/>\n     <use xlink:href=\"#DejaVuSans-25\" x=\"286.279297\"/>\n    </g>\n   </g>\n   <g id=\"text_19\">\n    <!-- 70.59% -->\n    <g style=\"fill: #ffffff\" transform=\"translate(231.568218 141.272187) scale(0.132 -0.132)\">\n     <defs>\n      <path id=\"DejaVuSans-39\" d=\"M 703 97 \nL 703 672 \nQ 941 559 1184 500 \nQ 1428 441 1663 441 \nQ 2288 441 2617 861 \nQ 2947 1281 2994 2138 \nQ 2813 1869 2534 1725 \nQ 2256 1581 1919 1581 \nQ 1219 1581 811 2004 \nQ 403 2428 403 3163 \nQ 403 3881 828 4315 \nQ 1253 4750 1959 4750 \nQ 2769 4750 3195 4129 \nQ 3622 3509 3622 2328 \nQ 3622 1225 3098 567 \nQ 2575 -91 1691 -91 \nQ 1453 -91 1209 -44 \nQ 966 3 703 97 \nz\nM 1959 2075 \nQ 2384 2075 2632 2365 \nQ 2881 2656 2881 3163 \nQ 2881 3666 2632 3958 \nQ 2384 4250 1959 4250 \nQ 1534 4250 1286 3958 \nQ 1038 3666 1038 3163 \nQ 1038 2656 1286 2365 \nQ 1534 2075 1959 2075 \nz\n\" transform=\"scale(0.015625)\"/>\n     </defs>\n     <use xlink:href=\"#DejaVuSans-37\"/>\n     <use xlink:href=\"#DejaVuSans-30\" x=\"63.623047\"/>\n     <use xlink:href=\"#DejaVuSans-2e\" x=\"127.246094\"/>\n     <use xlink:href=\"#DejaVuSans-35\" x=\"159.033203\"/>\n     <use xlink:href=\"#DejaVuSans-39\" x=\"222.65625\"/>\n     <use xlink:href=\"#DejaVuSans-25\" x=\"286.279297\"/>\n    </g>\n   </g>\n   <g id=\"text_20\">\n    <!-- 5.88% -->\n    <g style=\"fill: #ffffff\" transform=\"translate(307.191468 141.272187) scale(0.132 -0.132)\">\n     <use xlink:href=\"#DejaVuSans-35\"/>\n     <use xlink:href=\"#DejaVuSans-2e\" x=\"63.623047\"/>\n     <use xlink:href=\"#DejaVuSans-38\" x=\"95.410156\"/>\n     <use xlink:href=\"#DejaVuSans-38\" x=\"159.033203\"/>\n     <use xlink:href=\"#DejaVuSans-25\" x=\"222.65625\"/>\n    </g>\n   </g>\n   <g id=\"text_21\">\n    <!-- 5.88% -->\n    <g style=\"fill: #ffffff\" transform=\"translate(378.615468 141.272187) scale(0.132 -0.132)\">\n     <use xlink:href=\"#DejaVuSans-35\"/>\n     <use xlink:href=\"#DejaVuSans-2e\" x=\"63.623047\"/>\n     <use xlink:href=\"#DejaVuSans-38\" x=\"95.410156\"/>\n     <use xlink:href=\"#DejaVuSans-38\" x=\"159.033203\"/>\n     <use xlink:href=\"#DejaVuSans-25\" x=\"222.65625\"/>\n    </g>\n   </g>\n   <g id=\"text_22\">\n    <!-- 5.88% -->\n    <g style=\"fill: #ffffff\" transform=\"translate(450.039468 141.272187) scale(0.132 -0.132)\">\n     <use xlink:href=\"#DejaVuSans-35\"/>\n     <use xlink:href=\"#DejaVuSans-2e\" x=\"63.623047\"/>\n     <use xlink:href=\"#DejaVuSans-38\" x=\"95.410156\"/>\n     <use xlink:href=\"#DejaVuSans-38\" x=\"159.033203\"/>\n     <use xlink:href=\"#DejaVuSans-25\" x=\"222.65625\"/>\n    </g>\n   </g>\n   <g id=\"text_23\">\n    <!-- 4.08% -->\n    <g style=\"fill: #ffffff\" transform=\"translate(164.343468 207.800187) scale(0.132 -0.132)\">\n     <use xlink:href=\"#DejaVuSans-34\"/>\n     <use xlink:href=\"#DejaVuSans-2e\" x=\"63.623047\"/>\n     <use xlink:href=\"#DejaVuSans-30\" x=\"95.410156\"/>\n     <use xlink:href=\"#DejaVuSans-38\" x=\"159.033203\"/>\n     <use xlink:href=\"#DejaVuSans-25\" x=\"222.65625\"/>\n    </g>\n   </g>\n   <g id=\"text_24\">\n    <!-- 8.16% -->\n    <g style=\"fill: #ffffff\" transform=\"translate(235.767468 207.800187) scale(0.132 -0.132)\">\n     <use xlink:href=\"#DejaVuSans-38\"/>\n     <use xlink:href=\"#DejaVuSans-2e\" x=\"63.623047\"/>\n     <use xlink:href=\"#DejaVuSans-31\" x=\"95.410156\"/>\n     <use xlink:href=\"#DejaVuSans-36\" x=\"159.033203\"/>\n     <use xlink:href=\"#DejaVuSans-25\" x=\"222.65625\"/>\n    </g>\n   </g>\n   <g id=\"text_25\">\n    <!-- 69.39% -->\n    <g style=\"fill: #ffffff\" transform=\"translate(302.992218 207.800187) scale(0.132 -0.132)\">\n     <defs>\n      <path id=\"DejaVuSans-33\" d=\"M 2597 2516 \nQ 3050 2419 3304 2112 \nQ 3559 1806 3559 1356 \nQ 3559 666 3084 287 \nQ 2609 -91 1734 -91 \nQ 1441 -91 1130 -33 \nQ 819 25 488 141 \nL 488 750 \nQ 750 597 1062 519 \nQ 1375 441 1716 441 \nQ 2309 441 2620 675 \nQ 2931 909 2931 1356 \nQ 2931 1769 2642 2001 \nQ 2353 2234 1838 2234 \nL 1294 2234 \nL 1294 2753 \nL 1863 2753 \nQ 2328 2753 2575 2939 \nQ 2822 3125 2822 3475 \nQ 2822 3834 2567 4026 \nQ 2313 4219 1838 4219 \nQ 1578 4219 1281 4162 \nQ 984 4106 628 3988 \nL 628 4550 \nQ 988 4650 1302 4700 \nQ 1616 4750 1894 4750 \nQ 2613 4750 3031 4423 \nQ 3450 4097 3450 3541 \nQ 3450 3153 3228 2886 \nQ 3006 2619 2597 2516 \nz\n\" transform=\"scale(0.015625)\"/>\n     </defs>\n     <use xlink:href=\"#DejaVuSans-36\"/>\n     <use xlink:href=\"#DejaVuSans-39\" x=\"63.623047\"/>\n     <use xlink:href=\"#DejaVuSans-2e\" x=\"127.246094\"/>\n     <use xlink:href=\"#DejaVuSans-33\" x=\"159.033203\"/>\n     <use xlink:href=\"#DejaVuSans-39\" x=\"222.65625\"/>\n     <use xlink:href=\"#DejaVuSans-25\" x=\"286.279297\"/>\n    </g>\n   </g>\n   <g id=\"text_26\">\n    <!-- 8.16% -->\n    <g style=\"fill: #ffffff\" transform=\"translate(378.615468 207.800187) scale(0.132 -0.132)\">\n     <use xlink:href=\"#DejaVuSans-38\"/>\n     <use xlink:href=\"#DejaVuSans-2e\" x=\"63.623047\"/>\n     <use xlink:href=\"#DejaVuSans-31\" x=\"95.410156\"/>\n     <use xlink:href=\"#DejaVuSans-36\" x=\"159.033203\"/>\n     <use xlink:href=\"#DejaVuSans-25\" x=\"222.65625\"/>\n    </g>\n   </g>\n   <g id=\"text_27\">\n    <!-- 10.20% -->\n    <g style=\"fill: #ffffff\" transform=\"translate(445.840218 207.800187) scale(0.132 -0.132)\">\n     <use xlink:href=\"#DejaVuSans-31\"/>\n     <use xlink:href=\"#DejaVuSans-30\" x=\"63.623047\"/>\n     <use xlink:href=\"#DejaVuSans-2e\" x=\"127.246094\"/>\n     <use xlink:href=\"#DejaVuSans-32\" x=\"159.033203\"/>\n     <use xlink:href=\"#DejaVuSans-30\" x=\"222.65625\"/>\n     <use xlink:href=\"#DejaVuSans-25\" x=\"286.279297\"/>\n    </g>\n   </g>\n   <g id=\"text_28\">\n    <!-- 3.57% -->\n    <g style=\"fill: #ffffff\" transform=\"translate(164.343468 274.328187) scale(0.132 -0.132)\">\n     <use xlink:href=\"#DejaVuSans-33\"/>\n     <use xlink:href=\"#DejaVuSans-2e\" x=\"63.623047\"/>\n     <use xlink:href=\"#DejaVuSans-35\" x=\"95.410156\"/>\n     <use xlink:href=\"#DejaVuSans-37\" x=\"159.033203\"/>\n     <use xlink:href=\"#DejaVuSans-25\" x=\"222.65625\"/>\n    </g>\n   </g>\n   <g id=\"text_29\">\n    <!-- 7.14% -->\n    <g style=\"fill: #ffffff\" transform=\"translate(235.767468 274.328187) scale(0.132 -0.132)\">\n     <use xlink:href=\"#DejaVuSans-37\"/>\n     <use xlink:href=\"#DejaVuSans-2e\" x=\"63.623047\"/>\n     <use xlink:href=\"#DejaVuSans-31\" x=\"95.410156\"/>\n     <use xlink:href=\"#DejaVuSans-34\" x=\"159.033203\"/>\n     <use xlink:href=\"#DejaVuSans-25\" x=\"222.65625\"/>\n    </g>\n   </g>\n   <g id=\"text_30\">\n    <!-- 7.14% -->\n    <g style=\"fill: #ffffff\" transform=\"translate(307.191468 274.328187) scale(0.132 -0.132)\">\n     <use xlink:href=\"#DejaVuSans-37\"/>\n     <use xlink:href=\"#DejaVuSans-2e\" x=\"63.623047\"/>\n     <use xlink:href=\"#DejaVuSans-31\" x=\"95.410156\"/>\n     <use xlink:href=\"#DejaVuSans-34\" x=\"159.033203\"/>\n     <use xlink:href=\"#DejaVuSans-25\" x=\"222.65625\"/>\n    </g>\n   </g>\n   <g id=\"text_31\">\n    <!-- 71.43% -->\n    <g style=\"fill: #262626\" transform=\"translate(374.416218 274.328187) scale(0.132 -0.132)\">\n     <use xlink:href=\"#DejaVuSans-37\"/>\n     <use xlink:href=\"#DejaVuSans-31\" x=\"63.623047\"/>\n     <use xlink:href=\"#DejaVuSans-2e\" x=\"127.246094\"/>\n     <use xlink:href=\"#DejaVuSans-34\" x=\"159.033203\"/>\n     <use xlink:href=\"#DejaVuSans-33\" x=\"222.65625\"/>\n     <use xlink:href=\"#DejaVuSans-25\" x=\"286.279297\"/>\n    </g>\n   </g>\n   <g id=\"text_32\">\n    <!-- 10.71% -->\n    <g style=\"fill: #ffffff\" transform=\"translate(445.840218 274.328187) scale(0.132 -0.132)\">\n     <use xlink:href=\"#DejaVuSans-31\"/>\n     <use xlink:href=\"#DejaVuSans-30\" x=\"63.623047\"/>\n     <use xlink:href=\"#DejaVuSans-2e\" x=\"127.246094\"/>\n     <use xlink:href=\"#DejaVuSans-37\" x=\"159.033203\"/>\n     <use xlink:href=\"#DejaVuSans-31\" x=\"222.65625\"/>\n     <use xlink:href=\"#DejaVuSans-25\" x=\"286.279297\"/>\n    </g>\n   </g>\n   <g id=\"text_33\">\n    <!-- 2.86% -->\n    <g style=\"fill: #ffffff\" transform=\"translate(164.343468 340.856187) scale(0.132 -0.132)\">\n     <use xlink:href=\"#DejaVuSans-32\"/>\n     <use xlink:href=\"#DejaVuSans-2e\" x=\"63.623047\"/>\n     <use xlink:href=\"#DejaVuSans-38\" x=\"95.410156\"/>\n     <use xlink:href=\"#DejaVuSans-36\" x=\"159.033203\"/>\n     <use xlink:href=\"#DejaVuSans-25\" x=\"222.65625\"/>\n    </g>\n   </g>\n   <g id=\"text_34\">\n    <!-- 0.00 -->\n    <g style=\"fill: #ffffff\" transform=\"translate(242.038499 340.856187) scale(0.132 -0.132)\">\n     <use xlink:href=\"#DejaVuSans-30\"/>\n     <use xlink:href=\"#DejaVuSans-2e\" x=\"63.623047\"/>\n     <use xlink:href=\"#DejaVuSans-30\" x=\"95.410156\"/>\n     <use xlink:href=\"#DejaVuSans-30\" x=\"159.033203\"/>\n    </g>\n   </g>\n   <g id=\"text_35\">\n    <!-- 2.86% -->\n    <g style=\"fill: #ffffff\" transform=\"translate(307.191468 340.856187) scale(0.132 -0.132)\">\n     <use xlink:href=\"#DejaVuSans-32\"/>\n     <use xlink:href=\"#DejaVuSans-2e\" x=\"63.623047\"/>\n     <use xlink:href=\"#DejaVuSans-38\" x=\"95.410156\"/>\n     <use xlink:href=\"#DejaVuSans-36\" x=\"159.033203\"/>\n     <use xlink:href=\"#DejaVuSans-25\" x=\"222.65625\"/>\n    </g>\n   </g>\n   <g id=\"text_36\">\n    <!-- 2.86% -->\n    <g style=\"fill: #ffffff\" transform=\"translate(378.615468 340.856187) scale(0.132 -0.132)\">\n     <use xlink:href=\"#DejaVuSans-32\"/>\n     <use xlink:href=\"#DejaVuSans-2e\" x=\"63.623047\"/>\n     <use xlink:href=\"#DejaVuSans-38\" x=\"95.410156\"/>\n     <use xlink:href=\"#DejaVuSans-36\" x=\"159.033203\"/>\n     <use xlink:href=\"#DejaVuSans-25\" x=\"222.65625\"/>\n    </g>\n   </g>\n   <g id=\"text_37\">\n    <!-- 91.43% -->\n    <g style=\"fill: #262626\" transform=\"translate(445.840218 340.856187) scale(0.132 -0.132)\">\n     <use xlink:href=\"#DejaVuSans-39\"/>\n     <use xlink:href=\"#DejaVuSans-31\" x=\"63.623047\"/>\n     <use xlink:href=\"#DejaVuSans-2e\" x=\"127.246094\"/>\n     <use xlink:href=\"#DejaVuSans-34\" x=\"159.033203\"/>\n     <use xlink:href=\"#DejaVuSans-33\" x=\"222.65625\"/>\n     <use xlink:href=\"#DejaVuSans-25\" x=\"286.279297\"/>\n    </g>\n   </g>\n   <g id=\"text_38\">\n    <!-- Confusion Matrix -->\n    <g style=\"fill: #262626\" transform=\"translate(269.075624 17.837812) scale(0.14 -0.14)\">\n     <defs>\n      <path id=\"DejaVuSans-66\" d=\"M 2375 4863 \nL 2375 4384 \nL 1825 4384 \nQ 1516 4384 1395 4259 \nQ 1275 4134 1275 3809 \nL 1275 3500 \nL 2222 3500 \nL 2222 3053 \nL 1275 3053 \nL 1275 0 \nL 697 0 \nL 697 3053 \nL 147 3053 \nL 147 3500 \nL 697 3500 \nL 697 3744 \nQ 697 4328 969 4595 \nQ 1241 4863 1831 4863 \nL 2375 4863 \nz\n\" transform=\"scale(0.015625)\"/>\n      <path id=\"DejaVuSans-4d\" d=\"M 628 4666 \nL 1569 4666 \nL 2759 1491 \nL 3956 4666 \nL 4897 4666 \nL 4897 0 \nL 4281 0 \nL 4281 4097 \nL 3078 897 \nL 2444 897 \nL 1241 4097 \nL 1241 0 \nL 628 0 \nL 628 4666 \nz\n\" transform=\"scale(0.015625)\"/>\n      <path id=\"DejaVuSans-78\" d=\"M 3513 3500 \nL 2247 1797 \nL 3578 0 \nL 2900 0 \nL 1881 1375 \nL 863 0 \nL 184 0 \nL 1544 1831 \nL 300 3500 \nL 978 3500 \nL 1906 2253 \nL 2834 3500 \nL 3513 3500 \nz\n\" transform=\"scale(0.015625)\"/>\n     </defs>\n     <use xlink:href=\"#DejaVuSans-43\"/>\n     <use xlink:href=\"#DejaVuSans-6f\" x=\"69.824219\"/>\n     <use xlink:href=\"#DejaVuSans-6e\" x=\"131.005859\"/>\n     <use xlink:href=\"#DejaVuSans-66\" x=\"194.384766\"/>\n     <use xlink:href=\"#DejaVuSans-75\" x=\"229.589844\"/>\n     <use xlink:href=\"#DejaVuSans-73\" x=\"292.96875\"/>\n     <use xlink:href=\"#DejaVuSans-69\" x=\"345.068359\"/>\n     <use xlink:href=\"#DejaVuSans-6f\" x=\"372.851562\"/>\n     <use xlink:href=\"#DejaVuSans-6e\" x=\"434.033203\"/>\n     <use xlink:href=\"#DejaVuSans-20\" x=\"497.412109\"/>\n     <use xlink:href=\"#DejaVuSans-4d\" x=\"529.199219\"/>\n     <use xlink:href=\"#DejaVuSans-61\" x=\"615.478516\"/>\n     <use xlink:href=\"#DejaVuSans-74\" x=\"676.757812\"/>\n     <use xlink:href=\"#DejaVuSans-72\" x=\"715.966797\"/>\n     <use xlink:href=\"#DejaVuSans-69\" x=\"757.080078\"/>\n     <use xlink:href=\"#DejaVuSans-78\" x=\"784.863281\"/>\n    </g>\n   </g>\n  </g>\n  <g id=\"axes_2\">\n   <g id=\"patch_3\">\n    <path d=\"M 529.037811 370.477812 \nL 545.669811 370.477812 \nL 545.669811 37.837812 \nL 529.037811 37.837812 \nz\n\" style=\"fill: #eaeaf2\"/>\n   </g>\n   <g id=\"matplotlib.axis_3\"/>\n   <g id=\"matplotlib.axis_4\">\n    <g id=\"ytick_6\">\n     <g id=\"line2d_11\">\n      <defs>\n       <path id=\"m26017becea\" d=\"M 0 0 \nL 6 0 \n\" style=\"stroke: #262626; stroke-width: 1.25\"/>\n      </defs>\n      <g>\n       <use xlink:href=\"#m26017becea\" x=\"545.669811\" y=\"370.477812\" style=\"fill: #262626; stroke: #262626; stroke-width: 1.25\"/>\n      </g>\n     </g>\n     <g id=\"text_39\">\n      <!-- 0 -->\n      <g style=\"fill: #262626\" transform=\"translate(555.169811 375.074867) scale(0.121 -0.121)\">\n       <use xlink:href=\"#DejaVuSans-30\"/>\n      </g>\n     </g>\n    </g>\n    <g id=\"ytick_7\">\n     <g id=\"line2d_12\">\n      <g>\n       <use xlink:href=\"#m26017becea\" x=\"545.669811\" y=\"297.713949\" style=\"fill: #262626; stroke: #262626; stroke-width: 1.25\"/>\n      </g>\n     </g>\n     <g id=\"text_40\">\n      <!-- 20 -->\n      <g style=\"fill: #262626\" transform=\"translate(555.169811 302.311004) scale(0.121 -0.121)\">\n       <use xlink:href=\"#DejaVuSans-32\"/>\n       <use xlink:href=\"#DejaVuSans-30\" x=\"63.623047\"/>\n      </g>\n     </g>\n    </g>\n    <g id=\"ytick_8\">\n     <g id=\"line2d_13\">\n      <g>\n       <use xlink:href=\"#m26017becea\" x=\"545.669811\" y=\"224.950086\" style=\"fill: #262626; stroke: #262626; stroke-width: 1.25\"/>\n      </g>\n     </g>\n     <g id=\"text_41\">\n      <!-- 40 -->\n      <g style=\"fill: #262626\" transform=\"translate(555.169811 229.547141) scale(0.121 -0.121)\">\n       <use xlink:href=\"#DejaVuSans-34\"/>\n       <use xlink:href=\"#DejaVuSans-30\" x=\"63.623047\"/>\n      </g>\n     </g>\n    </g>\n    <g id=\"ytick_9\">\n     <g id=\"line2d_14\">\n      <g>\n       <use xlink:href=\"#m26017becea\" x=\"545.669811\" y=\"152.186223\" style=\"fill: #262626; stroke: #262626; stroke-width: 1.25\"/>\n      </g>\n     </g>\n     <g id=\"text_42\">\n      <!-- 60 -->\n      <g style=\"fill: #262626\" transform=\"translate(555.169811 156.783278) scale(0.121 -0.121)\">\n       <use xlink:href=\"#DejaVuSans-36\"/>\n       <use xlink:href=\"#DejaVuSans-30\" x=\"63.623047\"/>\n      </g>\n     </g>\n    </g>\n    <g id=\"ytick_10\">\n     <g id=\"line2d_15\">\n      <g>\n       <use xlink:href=\"#m26017becea\" x=\"545.669811\" y=\"79.42236\" style=\"fill: #262626; stroke: #262626; stroke-width: 1.25\"/>\n      </g>\n     </g>\n     <g id=\"text_43\">\n      <!-- 80 -->\n      <g style=\"fill: #262626\" transform=\"translate(555.169811 84.019415) scale(0.121 -0.121)\">\n       <use xlink:href=\"#DejaVuSans-38\"/>\n       <use xlink:href=\"#DejaVuSans-30\" x=\"63.623047\"/>\n      </g>\n     </g>\n    </g>\n   </g>\n   <image xlink:href=\"data:image/png;base64,\niVBORw0KGgoAAAANSUhEUgAAABcAAAHOCAYAAABzbJLzAAACUklEQVR4nO2dwW3EQAzEvI7TRPrvMynAvOcEIEAWIAijGa3Xyd2dr++f32vEvSp8Xdf1nGnxsys/lsXb+aXtXKv5PexcPNClLFkReW6tW5aaZ0UkKyJizZeHRSFCChGS5lz8nF3z3t3SgyiS5ohX82RBsiJi1nx7hibLmx7nkELExb0D9YbI2/ny70Te07/dgnQSIWbNp3eiWems+IGsiKw1nxa3ymIO0Y5ChGzvRA2U8A60OxGyvRMVIqKTCEnzT8Wtsoi3olbz4k94NS9EiHegrVyk2xzSQJFx57NPcJkXl9qKOwoRkls+FNfulgZK1Dky9XlWROoceY525Y7fK+7w7pbOUCS3cHHzQHe6eAdaiJDtl8Pcv1orDot7B9riQsSL6ww1F4fI2/lyoGmOrEOkHejwKPIOtBAhzxm+zXnuYfEe5xCz5trOl5o/w38obqCMOkS74l63mAc6vOVmRUSteSF68wy/GU480EKETBeXWRZv551EgHflqrfirnhWRMSaX/n8v4t7ZRlbUdt5mmPxZCHWVrR+/CTNsbhXlktrxUJEeN2iHmidv1m/zLF2Pg2Rd6DXvavvHWhnKDIOkfYnhLxW9HZ+WlxYvBABnaGIWfOhz8WytBUJrxW9mpu3oviSq9Vc3LnWLdsz1DpQ8fVcfBLVORXvJAIKEWLWvBABDRQp/sg6RMnyJisiZs0LEWAeaJoDXs3FspzzNSueFRFz54UIUO9zbfzFmvc496aTCClESJp/KN4+B7Ii8pw0x+JiWYr/G68VvfEXy2K2ojT+f4fYL1v3vlriAAAAAElFTkSuQmCC\" id=\"imagee87daaa9d6\" transform=\"scale(1 -1) translate(0 -332.64)\" x=\"529.2\" y=\"-37.44\" width=\"16.56\" height=\"332.64\"/>\n   <g id=\"LineCollection_1\"/>\n   <g id=\"patch_4\">\n    <path d=\"M 529.037811 370.477812 \nL 537.353811 370.477812 \nL 545.669811 370.477812 \nL 545.669811 37.837812 \nL 537.353811 37.837812 \nL 529.037811 37.837812 \nL 529.037811 370.477812 \nz\n\" style=\"fill: none\"/>\n   </g>\n  </g>\n </g>\n <defs>\n  <clipPath id=\"p9b90bff279\">\n   <rect x=\"149.597811\" y=\"37.837812\" width=\"357.12\" height=\"332.64\"/>\n  </clipPath>\n </defs>\n</svg>\n",
            "text/plain": [
              "<Figure size 800x600 with 2 Axes>"
            ]
          },
          "metadata": {},
          "output_type": "display_data"
        }
      ],
      "source": [
        "predictions, true_labels = test_custom_model(xlmrmodel,nen_dataloader)\n",
        "print_classification_report(predictions, true_labels, mapping)"
      ]
    },
    {
      "cell_type": "code",
      "execution_count": null,
      "metadata": {
        "id": "oLbmCpnOhYC0"
      },
      "outputs": [],
      "source": [
        "# Error analysis, misclassified posts - sample 200 and save file, perform error analysis on them"
      ]
    },
    {
      "cell_type": "code",
      "execution_count": null,
      "metadata": {
        "id": "j8Ka3Ds8ktx4"
      },
      "outputs": [],
      "source": [
        "# Informative Classification task error analysis"
      ]
    },
    {
      "cell_type": "code",
      "execution_count": null,
      "metadata": {
        "id": "-4CFbgKko5M8"
      },
      "outputs": [],
      "source": [
        "### Reload the model and the tokenizer\n",
        "xlmrmodel = XLMRobertaForSequenceClassification.from_pretrained(f'/content/drive/My Drive/thesis/models/Binary/{run}')\n",
        "desc = xlmrmodel.to(device)\n",
        "test_data = pd.read_csv(f'/content/drive/My Drive/thesis/multiple_runs/Binary/{run}/test_data.csv', encoding='utf-8')"
      ]
    },
    {
      "cell_type": "code",
      "execution_count": null,
      "metadata": {
        "id": "N8JZP7tTpI72"
      },
      "outputs": [],
      "source": [
        "train_sentences, train_targets = test_data.normalized_text.values, test_data.target.values"
      ]
    },
    {
      "cell_type": "code",
      "execution_count": null,
      "metadata": {
        "id": "ATD0ENs8pfRt"
      },
      "outputs": [],
      "source": [
        "# Tokenize sentences\n",
        "input_ids, attention_masks, labels = tokenize(tokenizer, 128, train_sentences, train_targets)\n",
        "\n",
        "# Create datasets\n",
        "test_dataset = TensorDataset(input_ids, attention_masks, labels)\n",
        "\n",
        "batch_size = 32\n",
        "\n",
        "# Create dataloaders\n",
        "test_dataloader = DataLoader(\n",
        "        test_dataset,  # The training samples.\n",
        "        sampler = SequentialSampler(test_dataset), # Select batches randomly\n",
        "        batch_size = batch_size # Trains with this batch size.\n",
        "    )"
      ]
    },
    {
      "cell_type": "code",
      "execution_count": null,
      "metadata": {
        "colab": {
          "base_uri": "https://localhost:8080/",
          "height": 848
        },
        "id": "hlevOv7tp-29",
        "outputId": "95390817-5d83-4ae7-a3b9-5a773770e104"
      },
      "outputs": [
        {
          "name": "stdout",
          "output_type": "stream",
          "text": [
            "                 precision    recall  f1-score   support\n",
            "\n",
            "    Informative       0.68      0.75      0.71      1463\n",
            "Non-Informative       0.86      0.82      0.84      2792\n",
            "\n",
            "       accuracy                           0.79      4255\n",
            "      macro avg       0.77      0.78      0.78      4255\n",
            "   weighted avg       0.80      0.79      0.79      4255\n",
            "\n"
          ]
        },
        {
          "data": {
            "image/svg+xml": "<?xml version=\"1.0\" encoding=\"utf-8\" standalone=\"no\"?>\n<!DOCTYPE svg PUBLIC \"-//W3C//DTD SVG 1.1//EN\"\n  \"http://www.w3.org/Graphics/SVG/1.1/DTD/svg11.dtd\">\n<svg xmlns:xlink=\"http://www.w3.org/1999/xlink\" width=\"556.042863pt\" height=\"498.351425pt\" viewBox=\"0 0 556.042863 498.351425\" xmlns=\"http://www.w3.org/2000/svg\" version=\"1.1\">\n <metadata>\n  <rdf:RDF xmlns:dc=\"http://purl.org/dc/elements/1.1/\" xmlns:cc=\"http://creativecommons.org/ns#\" xmlns:rdf=\"http://www.w3.org/1999/02/22-rdf-syntax-ns#\">\n   <cc:Work>\n    <dc:type rdf:resource=\"http://purl.org/dc/dcmitype/StillImage\"/>\n    <dc:date>2023-07-10T21:16:53.954268</dc:date>\n    <dc:format>image/svg+xml</dc:format>\n    <dc:creator>\n     <cc:Agent>\n      <dc:title>Matplotlib v3.7.1, https://matplotlib.org/</dc:title>\n     </cc:Agent>\n    </dc:creator>\n   </cc:Work>\n  </rdf:RDF>\n </metadata>\n <defs>\n  <style type=\"text/css\">*{stroke-linejoin: round; stroke-linecap: butt}</style>\n </defs>\n <g id=\"figure_1\">\n  <g id=\"patch_1\">\n   <path d=\"M 0 498.351425 \nL 556.042863 498.351425 \nL 556.042863 0 \nL 0 0 \nz\n\" style=\"fill: #ffffff\"/>\n  </g>\n  <g id=\"axes_1\">\n   <g id=\"patch_2\">\n    <path d=\"M 127.873613 370.477812 \nL 484.993613 370.477812 \nL 484.993613 37.837812 \nL 127.873613 37.837812 \nz\n\" style=\"fill: #eaeaf2\"/>\n   </g>\n   <g id=\"matplotlib.axis_1\">\n    <g id=\"xtick_1\">\n     <g id=\"line2d_1\">\n      <path d=\"M 217.153613 370.477812 \nL 217.153613 37.837812 \n\" clip-path=\"url(#p801e5f3452)\" style=\"fill: none; stroke: #ffffff; stroke-linecap: round\"/>\n     </g>\n     <g id=\"text_1\">\n      <!-- Informative -->\n      <g style=\"fill: #262626\" transform=\"translate(166.175943 435.677321) rotate(-45) scale(0.121 -0.121)\">\n       <defs>\n        <path id=\"DejaVuSans-49\" d=\"M 628 4666 \nL 1259 4666 \nL 1259 0 \nL 628 0 \nL 628 4666 \nz\n\" transform=\"scale(0.015625)\"/>\n        <path id=\"DejaVuSans-6e\" d=\"M 3513 2113 \nL 3513 0 \nL 2938 0 \nL 2938 2094 \nQ 2938 2591 2744 2837 \nQ 2550 3084 2163 3084 \nQ 1697 3084 1428 2787 \nQ 1159 2491 1159 1978 \nL 1159 0 \nL 581 0 \nL 581 3500 \nL 1159 3500 \nL 1159 2956 \nQ 1366 3272 1645 3428 \nQ 1925 3584 2291 3584 \nQ 2894 3584 3203 3211 \nQ 3513 2838 3513 2113 \nz\n\" transform=\"scale(0.015625)\"/>\n        <path id=\"DejaVuSans-66\" d=\"M 2375 4863 \nL 2375 4384 \nL 1825 4384 \nQ 1516 4384 1395 4259 \nQ 1275 4134 1275 3809 \nL 1275 3500 \nL 2222 3500 \nL 2222 3053 \nL 1275 3053 \nL 1275 0 \nL 697 0 \nL 697 3053 \nL 147 3053 \nL 147 3500 \nL 697 3500 \nL 697 3744 \nQ 697 4328 969 4595 \nQ 1241 4863 1831 4863 \nL 2375 4863 \nz\n\" transform=\"scale(0.015625)\"/>\n        <path id=\"DejaVuSans-6f\" d=\"M 1959 3097 \nQ 1497 3097 1228 2736 \nQ 959 2375 959 1747 \nQ 959 1119 1226 758 \nQ 1494 397 1959 397 \nQ 2419 397 2687 759 \nQ 2956 1122 2956 1747 \nQ 2956 2369 2687 2733 \nQ 2419 3097 1959 3097 \nz\nM 1959 3584 \nQ 2709 3584 3137 3096 \nQ 3566 2609 3566 1747 \nQ 3566 888 3137 398 \nQ 2709 -91 1959 -91 \nQ 1206 -91 779 398 \nQ 353 888 353 1747 \nQ 353 2609 779 3096 \nQ 1206 3584 1959 3584 \nz\n\" transform=\"scale(0.015625)\"/>\n        <path id=\"DejaVuSans-72\" d=\"M 2631 2963 \nQ 2534 3019 2420 3045 \nQ 2306 3072 2169 3072 \nQ 1681 3072 1420 2755 \nQ 1159 2438 1159 1844 \nL 1159 0 \nL 581 0 \nL 581 3500 \nL 1159 3500 \nL 1159 2956 \nQ 1341 3275 1631 3429 \nQ 1922 3584 2338 3584 \nQ 2397 3584 2469 3576 \nQ 2541 3569 2628 3553 \nL 2631 2963 \nz\n\" transform=\"scale(0.015625)\"/>\n        <path id=\"DejaVuSans-6d\" d=\"M 3328 2828 \nQ 3544 3216 3844 3400 \nQ 4144 3584 4550 3584 \nQ 5097 3584 5394 3201 \nQ 5691 2819 5691 2113 \nL 5691 0 \nL 5113 0 \nL 5113 2094 \nQ 5113 2597 4934 2840 \nQ 4756 3084 4391 3084 \nQ 3944 3084 3684 2787 \nQ 3425 2491 3425 1978 \nL 3425 0 \nL 2847 0 \nL 2847 2094 \nQ 2847 2600 2669 2842 \nQ 2491 3084 2119 3084 \nQ 1678 3084 1418 2786 \nQ 1159 2488 1159 1978 \nL 1159 0 \nL 581 0 \nL 581 3500 \nL 1159 3500 \nL 1159 2956 \nQ 1356 3278 1631 3431 \nQ 1906 3584 2284 3584 \nQ 2666 3584 2933 3390 \nQ 3200 3197 3328 2828 \nz\n\" transform=\"scale(0.015625)\"/>\n        <path id=\"DejaVuSans-61\" d=\"M 2194 1759 \nQ 1497 1759 1228 1600 \nQ 959 1441 959 1056 \nQ 959 750 1161 570 \nQ 1363 391 1709 391 \nQ 2188 391 2477 730 \nQ 2766 1069 2766 1631 \nL 2766 1759 \nL 2194 1759 \nz\nM 3341 1997 \nL 3341 0 \nL 2766 0 \nL 2766 531 \nQ 2569 213 2275 61 \nQ 1981 -91 1556 -91 \nQ 1019 -91 701 211 \nQ 384 513 384 1019 \nQ 384 1609 779 1909 \nQ 1175 2209 1959 2209 \nL 2766 2209 \nL 2766 2266 \nQ 2766 2663 2505 2880 \nQ 2244 3097 1772 3097 \nQ 1472 3097 1187 3025 \nQ 903 2953 641 2809 \nL 641 3341 \nQ 956 3463 1253 3523 \nQ 1550 3584 1831 3584 \nQ 2591 3584 2966 3190 \nQ 3341 2797 3341 1997 \nz\n\" transform=\"scale(0.015625)\"/>\n        <path id=\"DejaVuSans-74\" d=\"M 1172 4494 \nL 1172 3500 \nL 2356 3500 \nL 2356 3053 \nL 1172 3053 \nL 1172 1153 \nQ 1172 725 1289 603 \nQ 1406 481 1766 481 \nL 2356 481 \nL 2356 0 \nL 1766 0 \nQ 1100 0 847 248 \nQ 594 497 594 1153 \nL 594 3053 \nL 172 3053 \nL 172 3500 \nL 594 3500 \nL 594 4494 \nL 1172 4494 \nz\n\" transform=\"scale(0.015625)\"/>\n        <path id=\"DejaVuSans-69\" d=\"M 603 3500 \nL 1178 3500 \nL 1178 0 \nL 603 0 \nL 603 3500 \nz\nM 603 4863 \nL 1178 4863 \nL 1178 4134 \nL 603 4134 \nL 603 4863 \nz\n\" transform=\"scale(0.015625)\"/>\n        <path id=\"DejaVuSans-76\" d=\"M 191 3500 \nL 800 3500 \nL 1894 563 \nL 2988 3500 \nL 3597 3500 \nL 2284 0 \nL 1503 0 \nL 191 3500 \nz\n\" transform=\"scale(0.015625)\"/>\n        <path id=\"DejaVuSans-65\" d=\"M 3597 1894 \nL 3597 1613 \nL 953 1613 \nQ 991 1019 1311 708 \nQ 1631 397 2203 397 \nQ 2534 397 2845 478 \nQ 3156 559 3463 722 \nL 3463 178 \nQ 3153 47 2828 -22 \nQ 2503 -91 2169 -91 \nQ 1331 -91 842 396 \nQ 353 884 353 1716 \nQ 353 2575 817 3079 \nQ 1281 3584 2069 3584 \nQ 2775 3584 3186 3129 \nQ 3597 2675 3597 1894 \nz\nM 3022 2063 \nQ 3016 2534 2758 2815 \nQ 2500 3097 2075 3097 \nQ 1594 3097 1305 2825 \nQ 1016 2553 972 2059 \nL 3022 2063 \nz\n\" transform=\"scale(0.015625)\"/>\n       </defs>\n       <use xlink:href=\"#DejaVuSans-49\"/>\n       <use xlink:href=\"#DejaVuSans-6e\" x=\"29.492188\"/>\n       <use xlink:href=\"#DejaVuSans-66\" x=\"92.871094\"/>\n       <use xlink:href=\"#DejaVuSans-6f\" x=\"128.076172\"/>\n       <use xlink:href=\"#DejaVuSans-72\" x=\"189.257812\"/>\n       <use xlink:href=\"#DejaVuSans-6d\" x=\"228.621094\"/>\n       <use xlink:href=\"#DejaVuSans-61\" x=\"326.033203\"/>\n       <use xlink:href=\"#DejaVuSans-74\" x=\"387.3125\"/>\n       <use xlink:href=\"#DejaVuSans-69\" x=\"426.521484\"/>\n       <use xlink:href=\"#DejaVuSans-76\" x=\"454.304688\"/>\n       <use xlink:href=\"#DejaVuSans-65\" x=\"513.484375\"/>\n      </g>\n     </g>\n    </g>\n    <g id=\"xtick_2\">\n     <g id=\"line2d_2\">\n      <path d=\"M 395.713613 370.477812 \nL 395.713613 37.837812 \n\" clip-path=\"url(#p801e5f3452)\" style=\"fill: none; stroke: #ffffff; stroke-linecap: round\"/>\n     </g>\n     <g id=\"text_2\">\n      <!-- Non-Informative -->\n      <g style=\"fill: #262626\" transform=\"translate(324.590592 455.822671) rotate(-45) scale(0.121 -0.121)\">\n       <defs>\n        <path id=\"DejaVuSans-4e\" d=\"M 628 4666 \nL 1478 4666 \nL 3547 763 \nL 3547 4666 \nL 4159 4666 \nL 4159 0 \nL 3309 0 \nL 1241 3903 \nL 1241 0 \nL 628 0 \nL 628 4666 \nz\n\" transform=\"scale(0.015625)\"/>\n        <path id=\"DejaVuSans-2d\" d=\"M 313 2009 \nL 1997 2009 \nL 1997 1497 \nL 313 1497 \nL 313 2009 \nz\n\" transform=\"scale(0.015625)\"/>\n       </defs>\n       <use xlink:href=\"#DejaVuSans-4e\"/>\n       <use xlink:href=\"#DejaVuSans-6f\" x=\"74.804688\"/>\n       <use xlink:href=\"#DejaVuSans-6e\" x=\"135.986328\"/>\n       <use xlink:href=\"#DejaVuSans-2d\" x=\"199.365234\"/>\n       <use xlink:href=\"#DejaVuSans-49\" x=\"235.449219\"/>\n       <use xlink:href=\"#DejaVuSans-6e\" x=\"264.941406\"/>\n       <use xlink:href=\"#DejaVuSans-66\" x=\"328.320312\"/>\n       <use xlink:href=\"#DejaVuSans-6f\" x=\"363.525391\"/>\n       <use xlink:href=\"#DejaVuSans-72\" x=\"424.707031\"/>\n       <use xlink:href=\"#DejaVuSans-6d\" x=\"464.070312\"/>\n       <use xlink:href=\"#DejaVuSans-61\" x=\"561.482422\"/>\n       <use xlink:href=\"#DejaVuSans-74\" x=\"622.761719\"/>\n       <use xlink:href=\"#DejaVuSans-69\" x=\"661.970703\"/>\n       <use xlink:href=\"#DejaVuSans-76\" x=\"689.753906\"/>\n       <use xlink:href=\"#DejaVuSans-65\" x=\"748.933594\"/>\n      </g>\n     </g>\n    </g>\n    <g id=\"text_3\">\n     <!-- Predicted Label -->\n     <g style=\"fill: #262626\" transform=\"translate(252.464707 488.239863) scale(0.14 -0.14)\">\n      <defs>\n       <path id=\"DejaVuSans-50\" d=\"M 1259 4147 \nL 1259 2394 \nL 2053 2394 \nQ 2494 2394 2734 2622 \nQ 2975 2850 2975 3272 \nQ 2975 3691 2734 3919 \nQ 2494 4147 2053 4147 \nL 1259 4147 \nz\nM 628 4666 \nL 2053 4666 \nQ 2838 4666 3239 4311 \nQ 3641 3956 3641 3272 \nQ 3641 2581 3239 2228 \nQ 2838 1875 2053 1875 \nL 1259 1875 \nL 1259 0 \nL 628 0 \nL 628 4666 \nz\n\" transform=\"scale(0.015625)\"/>\n       <path id=\"DejaVuSans-64\" d=\"M 2906 2969 \nL 2906 4863 \nL 3481 4863 \nL 3481 0 \nL 2906 0 \nL 2906 525 \nQ 2725 213 2448 61 \nQ 2172 -91 1784 -91 \nQ 1150 -91 751 415 \nQ 353 922 353 1747 \nQ 353 2572 751 3078 \nQ 1150 3584 1784 3584 \nQ 2172 3584 2448 3432 \nQ 2725 3281 2906 2969 \nz\nM 947 1747 \nQ 947 1113 1208 752 \nQ 1469 391 1925 391 \nQ 2381 391 2643 752 \nQ 2906 1113 2906 1747 \nQ 2906 2381 2643 2742 \nQ 2381 3103 1925 3103 \nQ 1469 3103 1208 2742 \nQ 947 2381 947 1747 \nz\n\" transform=\"scale(0.015625)\"/>\n       <path id=\"DejaVuSans-63\" d=\"M 3122 3366 \nL 3122 2828 \nQ 2878 2963 2633 3030 \nQ 2388 3097 2138 3097 \nQ 1578 3097 1268 2742 \nQ 959 2388 959 1747 \nQ 959 1106 1268 751 \nQ 1578 397 2138 397 \nQ 2388 397 2633 464 \nQ 2878 531 3122 666 \nL 3122 134 \nQ 2881 22 2623 -34 \nQ 2366 -91 2075 -91 \nQ 1284 -91 818 406 \nQ 353 903 353 1747 \nQ 353 2603 823 3093 \nQ 1294 3584 2113 3584 \nQ 2378 3584 2631 3529 \nQ 2884 3475 3122 3366 \nz\n\" transform=\"scale(0.015625)\"/>\n       <path id=\"DejaVuSans-20\" transform=\"scale(0.015625)\"/>\n       <path id=\"DejaVuSans-4c\" d=\"M 628 4666 \nL 1259 4666 \nL 1259 531 \nL 3531 531 \nL 3531 0 \nL 628 0 \nL 628 4666 \nz\n\" transform=\"scale(0.015625)\"/>\n       <path id=\"DejaVuSans-62\" d=\"M 3116 1747 \nQ 3116 2381 2855 2742 \nQ 2594 3103 2138 3103 \nQ 1681 3103 1420 2742 \nQ 1159 2381 1159 1747 \nQ 1159 1113 1420 752 \nQ 1681 391 2138 391 \nQ 2594 391 2855 752 \nQ 3116 1113 3116 1747 \nz\nM 1159 2969 \nQ 1341 3281 1617 3432 \nQ 1894 3584 2278 3584 \nQ 2916 3584 3314 3078 \nQ 3713 2572 3713 1747 \nQ 3713 922 3314 415 \nQ 2916 -91 2278 -91 \nQ 1894 -91 1617 61 \nQ 1341 213 1159 525 \nL 1159 0 \nL 581 0 \nL 581 4863 \nL 1159 4863 \nL 1159 2969 \nz\n\" transform=\"scale(0.015625)\"/>\n       <path id=\"DejaVuSans-6c\" d=\"M 603 4863 \nL 1178 4863 \nL 1178 0 \nL 603 0 \nL 603 4863 \nz\n\" transform=\"scale(0.015625)\"/>\n      </defs>\n      <use xlink:href=\"#DejaVuSans-50\"/>\n      <use xlink:href=\"#DejaVuSans-72\" x=\"58.552734\"/>\n      <use xlink:href=\"#DejaVuSans-65\" x=\"97.416016\"/>\n      <use xlink:href=\"#DejaVuSans-64\" x=\"158.939453\"/>\n      <use xlink:href=\"#DejaVuSans-69\" x=\"222.416016\"/>\n      <use xlink:href=\"#DejaVuSans-63\" x=\"250.199219\"/>\n      <use xlink:href=\"#DejaVuSans-74\" x=\"305.179688\"/>\n      <use xlink:href=\"#DejaVuSans-65\" x=\"344.388672\"/>\n      <use xlink:href=\"#DejaVuSans-64\" x=\"405.912109\"/>\n      <use xlink:href=\"#DejaVuSans-20\" x=\"469.388672\"/>\n      <use xlink:href=\"#DejaVuSans-4c\" x=\"501.175781\"/>\n      <use xlink:href=\"#DejaVuSans-61\" x=\"556.888672\"/>\n      <use xlink:href=\"#DejaVuSans-62\" x=\"618.167969\"/>\n      <use xlink:href=\"#DejaVuSans-65\" x=\"681.644531\"/>\n      <use xlink:href=\"#DejaVuSans-6c\" x=\"743.167969\"/>\n     </g>\n    </g>\n   </g>\n   <g id=\"matplotlib.axis_2\">\n    <g id=\"ytick_1\">\n     <g id=\"line2d_3\">\n      <path d=\"M 127.873613 120.997812 \nL 484.993613 120.997812 \n\" clip-path=\"url(#p801e5f3452)\" style=\"fill: none; stroke: #ffffff; stroke-linecap: round\"/>\n     </g>\n     <g id=\"text_4\">\n      <!-- Informative -->\n      <g style=\"fill: #262626\" transform=\"translate(67.395943 147.957877) rotate(-45) scale(0.121 -0.121)\">\n       <use xlink:href=\"#DejaVuSans-49\"/>\n       <use xlink:href=\"#DejaVuSans-6e\" x=\"29.492188\"/>\n       <use xlink:href=\"#DejaVuSans-66\" x=\"92.871094\"/>\n       <use xlink:href=\"#DejaVuSans-6f\" x=\"128.076172\"/>\n       <use xlink:href=\"#DejaVuSans-72\" x=\"189.257812\"/>\n       <use xlink:href=\"#DejaVuSans-6d\" x=\"228.621094\"/>\n       <use xlink:href=\"#DejaVuSans-61\" x=\"326.033203\"/>\n       <use xlink:href=\"#DejaVuSans-74\" x=\"387.3125\"/>\n       <use xlink:href=\"#DejaVuSans-69\" x=\"426.521484\"/>\n       <use xlink:href=\"#DejaVuSans-76\" x=\"454.304688\"/>\n       <use xlink:href=\"#DejaVuSans-65\" x=\"513.484375\"/>\n      </g>\n     </g>\n    </g>\n    <g id=\"ytick_2\">\n     <g id=\"line2d_4\">\n      <path d=\"M 127.873613 287.317812 \nL 484.993613 287.317812 \n\" clip-path=\"url(#p801e5f3452)\" style=\"fill: none; stroke: #ffffff; stroke-linecap: round\"/>\n     </g>\n     <g id=\"text_5\">\n      <!-- Non-Informative -->\n      <g style=\"fill: #262626\" transform=\"translate(47.250592 324.350552) rotate(-45) scale(0.121 -0.121)\">\n       <use xlink:href=\"#DejaVuSans-4e\"/>\n       <use xlink:href=\"#DejaVuSans-6f\" x=\"74.804688\"/>\n       <use xlink:href=\"#DejaVuSans-6e\" x=\"135.986328\"/>\n       <use xlink:href=\"#DejaVuSans-2d\" x=\"199.365234\"/>\n       <use xlink:href=\"#DejaVuSans-49\" x=\"235.449219\"/>\n       <use xlink:href=\"#DejaVuSans-6e\" x=\"264.941406\"/>\n       <use xlink:href=\"#DejaVuSans-66\" x=\"328.320312\"/>\n       <use xlink:href=\"#DejaVuSans-6f\" x=\"363.525391\"/>\n       <use xlink:href=\"#DejaVuSans-72\" x=\"424.707031\"/>\n       <use xlink:href=\"#DejaVuSans-6d\" x=\"464.070312\"/>\n       <use xlink:href=\"#DejaVuSans-61\" x=\"561.482422\"/>\n       <use xlink:href=\"#DejaVuSans-74\" x=\"622.761719\"/>\n       <use xlink:href=\"#DejaVuSans-69\" x=\"661.970703\"/>\n       <use xlink:href=\"#DejaVuSans-76\" x=\"689.753906\"/>\n       <use xlink:href=\"#DejaVuSans-65\" x=\"748.933594\"/>\n      </g>\n     </g>\n    </g>\n    <g id=\"text_6\">\n     <!-- Gold Label -->\n     <g style=\"fill: #262626\" transform=\"translate(17.837812 241.363906) rotate(-90) scale(0.14 -0.14)\">\n      <defs>\n       <path id=\"DejaVuSans-47\" d=\"M 3809 666 \nL 3809 1919 \nL 2778 1919 \nL 2778 2438 \nL 4434 2438 \nL 4434 434 \nQ 4069 175 3628 42 \nQ 3188 -91 2688 -91 \nQ 1594 -91 976 548 \nQ 359 1188 359 2328 \nQ 359 3472 976 4111 \nQ 1594 4750 2688 4750 \nQ 3144 4750 3555 4637 \nQ 3966 4525 4313 4306 \nL 4313 3634 \nQ 3963 3931 3569 4081 \nQ 3175 4231 2741 4231 \nQ 1884 4231 1454 3753 \nQ 1025 3275 1025 2328 \nQ 1025 1384 1454 906 \nQ 1884 428 2741 428 \nQ 3075 428 3337 486 \nQ 3600 544 3809 666 \nz\n\" transform=\"scale(0.015625)\"/>\n      </defs>\n      <use xlink:href=\"#DejaVuSans-47\"/>\n      <use xlink:href=\"#DejaVuSans-6f\" x=\"77.490234\"/>\n      <use xlink:href=\"#DejaVuSans-6c\" x=\"138.671875\"/>\n      <use xlink:href=\"#DejaVuSans-64\" x=\"166.455078\"/>\n      <use xlink:href=\"#DejaVuSans-20\" x=\"229.931641\"/>\n      <use xlink:href=\"#DejaVuSans-4c\" x=\"261.71875\"/>\n      <use xlink:href=\"#DejaVuSans-61\" x=\"317.431641\"/>\n      <use xlink:href=\"#DejaVuSans-62\" x=\"378.710938\"/>\n      <use xlink:href=\"#DejaVuSans-65\" x=\"442.1875\"/>\n      <use xlink:href=\"#DejaVuSans-6c\" x=\"503.710938\"/>\n     </g>\n    </g>\n   </g>\n   <g id=\"QuadMesh_1\">\n    <path d=\"M 127.873613 37.837812 \nL 306.433613 37.837812 \nL 306.433613 204.157812 \nL 127.873613 204.157812 \nL 127.873613 37.837812 \n\" clip-path=\"url(#p801e5f3452)\" style=\"fill: #f6c19f\"/>\n    <path d=\"M 306.433613 37.837812 \nL 484.993613 37.837812 \nL 484.993613 204.157812 \nL 306.433613 204.157812 \nL 306.433613 37.837812 \n\" clip-path=\"url(#p801e5f3452)\" style=\"fill: #2a1636\"/>\n    <path d=\"M 127.873613 204.157812 \nL 306.433613 204.157812 \nL 306.433613 370.477812 \nL 127.873613 370.477812 \nL 127.873613 204.157812 \n\" clip-path=\"url(#p801e5f3452)\" style=\"fill: #03051a\"/>\n    <path d=\"M 306.433613 204.157812 \nL 484.993613 204.157812 \nL 484.993613 370.477812 \nL 306.433613 370.477812 \nL 306.433613 204.157812 \n\" clip-path=\"url(#p801e5f3452)\" style=\"fill: #faebdd\"/>\n   </g>\n   <g id=\"text_7\">\n    <!-- 74.57% -->\n    <g style=\"fill: #262626\" transform=\"translate(191.988019 124.640188) scale(0.132 -0.132)\">\n     <defs>\n      <path id=\"DejaVuSans-37\" d=\"M 525 4666 \nL 3525 4666 \nL 3525 4397 \nL 1831 0 \nL 1172 0 \nL 2766 4134 \nL 525 4134 \nL 525 4666 \nz\n\" transform=\"scale(0.015625)\"/>\n      <path id=\"DejaVuSans-34\" d=\"M 2419 4116 \nL 825 1625 \nL 2419 1625 \nL 2419 4116 \nz\nM 2253 4666 \nL 3047 4666 \nL 3047 1625 \nL 3713 1625 \nL 3713 1100 \nL 3047 1100 \nL 3047 0 \nL 2419 0 \nL 2419 1100 \nL 313 1100 \nL 313 1709 \nL 2253 4666 \nz\n\" transform=\"scale(0.015625)\"/>\n      <path id=\"DejaVuSans-2e\" d=\"M 684 794 \nL 1344 794 \nL 1344 0 \nL 684 0 \nL 684 794 \nz\n\" transform=\"scale(0.015625)\"/>\n      <path id=\"DejaVuSans-35\" d=\"M 691 4666 \nL 3169 4666 \nL 3169 4134 \nL 1269 4134 \nL 1269 2991 \nQ 1406 3038 1543 3061 \nQ 1681 3084 1819 3084 \nQ 2600 3084 3056 2656 \nQ 3513 2228 3513 1497 \nQ 3513 744 3044 326 \nQ 2575 -91 1722 -91 \nQ 1428 -91 1123 -41 \nQ 819 9 494 109 \nL 494 744 \nQ 775 591 1075 516 \nQ 1375 441 1709 441 \nQ 2250 441 2565 725 \nQ 2881 1009 2881 1497 \nQ 2881 1984 2565 2268 \nQ 2250 2553 1709 2553 \nQ 1456 2553 1204 2497 \nQ 953 2441 691 2322 \nL 691 4666 \nz\n\" transform=\"scale(0.015625)\"/>\n      <path id=\"DejaVuSans-25\" d=\"M 4653 2053 \nQ 4381 2053 4226 1822 \nQ 4072 1591 4072 1178 \nQ 4072 772 4226 539 \nQ 4381 306 4653 306 \nQ 4919 306 5073 539 \nQ 5228 772 5228 1178 \nQ 5228 1588 5073 1820 \nQ 4919 2053 4653 2053 \nz\nM 4653 2450 \nQ 5147 2450 5437 2106 \nQ 5728 1763 5728 1178 \nQ 5728 594 5436 251 \nQ 5144 -91 4653 -91 \nQ 4153 -91 3862 251 \nQ 3572 594 3572 1178 \nQ 3572 1766 3864 2108 \nQ 4156 2450 4653 2450 \nz\nM 1428 4353 \nQ 1159 4353 1004 4120 \nQ 850 3888 850 3481 \nQ 850 3069 1003 2837 \nQ 1156 2606 1428 2606 \nQ 1700 2606 1854 2837 \nQ 2009 3069 2009 3481 \nQ 2009 3884 1853 4118 \nQ 1697 4353 1428 4353 \nz\nM 4250 4750 \nL 4750 4750 \nL 1831 -91 \nL 1331 -91 \nL 4250 4750 \nz\nM 1428 4750 \nQ 1922 4750 2215 4408 \nQ 2509 4066 2509 3481 \nQ 2509 2891 2217 2550 \nQ 1925 2209 1428 2209 \nQ 931 2209 642 2551 \nQ 353 2894 353 3481 \nQ 353 4063 643 4406 \nQ 934 4750 1428 4750 \nz\n\" transform=\"scale(0.015625)\"/>\n     </defs>\n     <use xlink:href=\"#DejaVuSans-37\"/>\n     <use xlink:href=\"#DejaVuSans-34\" x=\"63.623047\"/>\n     <use xlink:href=\"#DejaVuSans-2e\" x=\"127.246094\"/>\n     <use xlink:href=\"#DejaVuSans-35\" x=\"159.033203\"/>\n     <use xlink:href=\"#DejaVuSans-37\" x=\"222.65625\"/>\n     <use xlink:href=\"#DejaVuSans-25\" x=\"286.279297\"/>\n    </g>\n   </g>\n   <g id=\"text_8\">\n    <!-- 25.43% -->\n    <g style=\"fill: #ffffff\" transform=\"translate(370.548019 124.640188) scale(0.132 -0.132)\">\n     <defs>\n      <path id=\"DejaVuSans-32\" d=\"M 1228 531 \nL 3431 531 \nL 3431 0 \nL 469 0 \nL 469 531 \nQ 828 903 1448 1529 \nQ 2069 2156 2228 2338 \nQ 2531 2678 2651 2914 \nQ 2772 3150 2772 3378 \nQ 2772 3750 2511 3984 \nQ 2250 4219 1831 4219 \nQ 1534 4219 1204 4116 \nQ 875 4013 500 3803 \nL 500 4441 \nQ 881 4594 1212 4672 \nQ 1544 4750 1819 4750 \nQ 2544 4750 2975 4387 \nQ 3406 4025 3406 3419 \nQ 3406 3131 3298 2873 \nQ 3191 2616 2906 2266 \nQ 2828 2175 2409 1742 \nQ 1991 1309 1228 531 \nz\n\" transform=\"scale(0.015625)\"/>\n      <path id=\"DejaVuSans-33\" d=\"M 2597 2516 \nQ 3050 2419 3304 2112 \nQ 3559 1806 3559 1356 \nQ 3559 666 3084 287 \nQ 2609 -91 1734 -91 \nQ 1441 -91 1130 -33 \nQ 819 25 488 141 \nL 488 750 \nQ 750 597 1062 519 \nQ 1375 441 1716 441 \nQ 2309 441 2620 675 \nQ 2931 909 2931 1356 \nQ 2931 1769 2642 2001 \nQ 2353 2234 1838 2234 \nL 1294 2234 \nL 1294 2753 \nL 1863 2753 \nQ 2328 2753 2575 2939 \nQ 2822 3125 2822 3475 \nQ 2822 3834 2567 4026 \nQ 2313 4219 1838 4219 \nQ 1578 4219 1281 4162 \nQ 984 4106 628 3988 \nL 628 4550 \nQ 988 4650 1302 4700 \nQ 1616 4750 1894 4750 \nQ 2613 4750 3031 4423 \nQ 3450 4097 3450 3541 \nQ 3450 3153 3228 2886 \nQ 3006 2619 2597 2516 \nz\n\" transform=\"scale(0.015625)\"/>\n     </defs>\n     <use xlink:href=\"#DejaVuSans-32\"/>\n     <use xlink:href=\"#DejaVuSans-35\" x=\"63.623047\"/>\n     <use xlink:href=\"#DejaVuSans-2e\" x=\"127.246094\"/>\n     <use xlink:href=\"#DejaVuSans-34\" x=\"159.033203\"/>\n     <use xlink:href=\"#DejaVuSans-33\" x=\"222.65625\"/>\n     <use xlink:href=\"#DejaVuSans-25\" x=\"286.279297\"/>\n    </g>\n   </g>\n   <g id=\"text_9\">\n    <!-- 18.27% -->\n    <g style=\"fill: #ffffff\" transform=\"translate(191.988019 290.960187) scale(0.132 -0.132)\">\n     <defs>\n      <path id=\"DejaVuSans-31\" d=\"M 794 531 \nL 1825 531 \nL 1825 4091 \nL 703 3866 \nL 703 4441 \nL 1819 4666 \nL 2450 4666 \nL 2450 531 \nL 3481 531 \nL 3481 0 \nL 794 0 \nL 794 531 \nz\n\" transform=\"scale(0.015625)\"/>\n      <path id=\"DejaVuSans-38\" d=\"M 2034 2216 \nQ 1584 2216 1326 1975 \nQ 1069 1734 1069 1313 \nQ 1069 891 1326 650 \nQ 1584 409 2034 409 \nQ 2484 409 2743 651 \nQ 3003 894 3003 1313 \nQ 3003 1734 2745 1975 \nQ 2488 2216 2034 2216 \nz\nM 1403 2484 \nQ 997 2584 770 2862 \nQ 544 3141 544 3541 \nQ 544 4100 942 4425 \nQ 1341 4750 2034 4750 \nQ 2731 4750 3128 4425 \nQ 3525 4100 3525 3541 \nQ 3525 3141 3298 2862 \nQ 3072 2584 2669 2484 \nQ 3125 2378 3379 2068 \nQ 3634 1759 3634 1313 \nQ 3634 634 3220 271 \nQ 2806 -91 2034 -91 \nQ 1263 -91 848 271 \nQ 434 634 434 1313 \nQ 434 1759 690 2068 \nQ 947 2378 1403 2484 \nz\nM 1172 3481 \nQ 1172 3119 1398 2916 \nQ 1625 2713 2034 2713 \nQ 2441 2713 2670 2916 \nQ 2900 3119 2900 3481 \nQ 2900 3844 2670 4047 \nQ 2441 4250 2034 4250 \nQ 1625 4250 1398 4047 \nQ 1172 3844 1172 3481 \nz\n\" transform=\"scale(0.015625)\"/>\n     </defs>\n     <use xlink:href=\"#DejaVuSans-31\"/>\n     <use xlink:href=\"#DejaVuSans-38\" x=\"63.623047\"/>\n     <use xlink:href=\"#DejaVuSans-2e\" x=\"127.246094\"/>\n     <use xlink:href=\"#DejaVuSans-32\" x=\"159.033203\"/>\n     <use xlink:href=\"#DejaVuSans-37\" x=\"222.65625\"/>\n     <use xlink:href=\"#DejaVuSans-25\" x=\"286.279297\"/>\n    </g>\n   </g>\n   <g id=\"text_10\">\n    <!-- 81.73% -->\n    <g style=\"fill: #262626\" transform=\"translate(370.548019 290.960187) scale(0.132 -0.132)\">\n     <use xlink:href=\"#DejaVuSans-38\"/>\n     <use xlink:href=\"#DejaVuSans-31\" x=\"63.623047\"/>\n     <use xlink:href=\"#DejaVuSans-2e\" x=\"127.246094\"/>\n     <use xlink:href=\"#DejaVuSans-37\" x=\"159.033203\"/>\n     <use xlink:href=\"#DejaVuSans-33\" x=\"222.65625\"/>\n     <use xlink:href=\"#DejaVuSans-25\" x=\"286.279297\"/>\n    </g>\n   </g>\n   <g id=\"text_11\">\n    <!-- Confusion Matrix -->\n    <g style=\"fill: #262626\" transform=\"translate(247.351425 17.837812) scale(0.14 -0.14)\">\n     <defs>\n      <path id=\"DejaVuSans-43\" d=\"M 4122 4306 \nL 4122 3641 \nQ 3803 3938 3442 4084 \nQ 3081 4231 2675 4231 \nQ 1875 4231 1450 3742 \nQ 1025 3253 1025 2328 \nQ 1025 1406 1450 917 \nQ 1875 428 2675 428 \nQ 3081 428 3442 575 \nQ 3803 722 4122 1019 \nL 4122 359 \nQ 3791 134 3420 21 \nQ 3050 -91 2638 -91 \nQ 1578 -91 968 557 \nQ 359 1206 359 2328 \nQ 359 3453 968 4101 \nQ 1578 4750 2638 4750 \nQ 3056 4750 3426 4639 \nQ 3797 4528 4122 4306 \nz\n\" transform=\"scale(0.015625)\"/>\n      <path id=\"DejaVuSans-75\" d=\"M 544 1381 \nL 544 3500 \nL 1119 3500 \nL 1119 1403 \nQ 1119 906 1312 657 \nQ 1506 409 1894 409 \nQ 2359 409 2629 706 \nQ 2900 1003 2900 1516 \nL 2900 3500 \nL 3475 3500 \nL 3475 0 \nL 2900 0 \nL 2900 538 \nQ 2691 219 2414 64 \nQ 2138 -91 1772 -91 \nQ 1169 -91 856 284 \nQ 544 659 544 1381 \nz\nM 1991 3584 \nL 1991 3584 \nz\n\" transform=\"scale(0.015625)\"/>\n      <path id=\"DejaVuSans-73\" d=\"M 2834 3397 \nL 2834 2853 \nQ 2591 2978 2328 3040 \nQ 2066 3103 1784 3103 \nQ 1356 3103 1142 2972 \nQ 928 2841 928 2578 \nQ 928 2378 1081 2264 \nQ 1234 2150 1697 2047 \nL 1894 2003 \nQ 2506 1872 2764 1633 \nQ 3022 1394 3022 966 \nQ 3022 478 2636 193 \nQ 2250 -91 1575 -91 \nQ 1294 -91 989 -36 \nQ 684 19 347 128 \nL 347 722 \nQ 666 556 975 473 \nQ 1284 391 1588 391 \nQ 1994 391 2212 530 \nQ 2431 669 2431 922 \nQ 2431 1156 2273 1281 \nQ 2116 1406 1581 1522 \nL 1381 1569 \nQ 847 1681 609 1914 \nQ 372 2147 372 2553 \nQ 372 3047 722 3315 \nQ 1072 3584 1716 3584 \nQ 2034 3584 2315 3537 \nQ 2597 3491 2834 3397 \nz\n\" transform=\"scale(0.015625)\"/>\n      <path id=\"DejaVuSans-4d\" d=\"M 628 4666 \nL 1569 4666 \nL 2759 1491 \nL 3956 4666 \nL 4897 4666 \nL 4897 0 \nL 4281 0 \nL 4281 4097 \nL 3078 897 \nL 2444 897 \nL 1241 4097 \nL 1241 0 \nL 628 0 \nL 628 4666 \nz\n\" transform=\"scale(0.015625)\"/>\n      <path id=\"DejaVuSans-78\" d=\"M 3513 3500 \nL 2247 1797 \nL 3578 0 \nL 2900 0 \nL 1881 1375 \nL 863 0 \nL 184 0 \nL 1544 1831 \nL 300 3500 \nL 978 3500 \nL 1906 2253 \nL 2834 3500 \nL 3513 3500 \nz\n\" transform=\"scale(0.015625)\"/>\n     </defs>\n     <use xlink:href=\"#DejaVuSans-43\"/>\n     <use xlink:href=\"#DejaVuSans-6f\" x=\"69.824219\"/>\n     <use xlink:href=\"#DejaVuSans-6e\" x=\"131.005859\"/>\n     <use xlink:href=\"#DejaVuSans-66\" x=\"194.384766\"/>\n     <use xlink:href=\"#DejaVuSans-75\" x=\"229.589844\"/>\n     <use xlink:href=\"#DejaVuSans-73\" x=\"292.96875\"/>\n     <use xlink:href=\"#DejaVuSans-69\" x=\"345.068359\"/>\n     <use xlink:href=\"#DejaVuSans-6f\" x=\"372.851562\"/>\n     <use xlink:href=\"#DejaVuSans-6e\" x=\"434.033203\"/>\n     <use xlink:href=\"#DejaVuSans-20\" x=\"497.412109\"/>\n     <use xlink:href=\"#DejaVuSans-4d\" x=\"529.199219\"/>\n     <use xlink:href=\"#DejaVuSans-61\" x=\"615.478516\"/>\n     <use xlink:href=\"#DejaVuSans-74\" x=\"676.757812\"/>\n     <use xlink:href=\"#DejaVuSans-72\" x=\"715.966797\"/>\n     <use xlink:href=\"#DejaVuSans-69\" x=\"757.080078\"/>\n     <use xlink:href=\"#DejaVuSans-78\" x=\"784.863281\"/>\n    </g>\n   </g>\n  </g>\n  <g id=\"axes_2\">\n   <g id=\"patch_3\">\n    <path d=\"M 507.313613 370.477812 \nL 523.945613 370.477812 \nL 523.945613 37.837812 \nL 507.313613 37.837812 \nz\n\" style=\"fill: #eaeaf2\"/>\n   </g>\n   <g id=\"matplotlib.axis_3\"/>\n   <g id=\"matplotlib.axis_4\">\n    <g id=\"ytick_3\">\n     <g id=\"line2d_5\">\n      <defs>\n       <path id=\"ma0dbd66f0e\" d=\"M 0 0 \nL 6 0 \n\" style=\"stroke: #262626; stroke-width: 1.25\"/>\n      </defs>\n      <g>\n       <use xlink:href=\"#ma0dbd66f0e\" x=\"523.945613\" y=\"361.409625\" style=\"fill: #262626; stroke: #262626; stroke-width: 1.25\"/>\n      </g>\n     </g>\n     <g id=\"text_12\">\n      <!-- 20 -->\n      <g style=\"fill: #262626\" transform=\"translate(533.445613 366.006679) scale(0.121 -0.121)\">\n       <defs>\n        <path id=\"DejaVuSans-30\" d=\"M 2034 4250 \nQ 1547 4250 1301 3770 \nQ 1056 3291 1056 2328 \nQ 1056 1369 1301 889 \nQ 1547 409 2034 409 \nQ 2525 409 2770 889 \nQ 3016 1369 3016 2328 \nQ 3016 3291 2770 3770 \nQ 2525 4250 2034 4250 \nz\nM 2034 4750 \nQ 2819 4750 3233 4129 \nQ 3647 3509 3647 2328 \nQ 3647 1150 3233 529 \nQ 2819 -91 2034 -91 \nQ 1250 -91 836 529 \nQ 422 1150 422 2328 \nQ 422 3509 836 4129 \nQ 1250 4750 2034 4750 \nz\n\" transform=\"scale(0.015625)\"/>\n       </defs>\n       <use xlink:href=\"#DejaVuSans-32\"/>\n       <use xlink:href=\"#DejaVuSans-30\" x=\"63.623047\"/>\n      </g>\n     </g>\n    </g>\n    <g id=\"ytick_4\">\n     <g id=\"line2d_6\">\n      <g>\n       <use xlink:href=\"#ma0dbd66f0e\" x=\"523.945613\" y=\"308.992354\" style=\"fill: #262626; stroke: #262626; stroke-width: 1.25\"/>\n      </g>\n     </g>\n     <g id=\"text_13\">\n      <!-- 30 -->\n      <g style=\"fill: #262626\" transform=\"translate(533.445613 313.589409) scale(0.121 -0.121)\">\n       <use xlink:href=\"#DejaVuSans-33\"/>\n       <use xlink:href=\"#DejaVuSans-30\" x=\"63.623047\"/>\n      </g>\n     </g>\n    </g>\n    <g id=\"ytick_5\">\n     <g id=\"line2d_7\">\n      <g>\n       <use xlink:href=\"#ma0dbd66f0e\" x=\"523.945613\" y=\"256.575083\" style=\"fill: #262626; stroke: #262626; stroke-width: 1.25\"/>\n      </g>\n     </g>\n     <g id=\"text_14\">\n      <!-- 40 -->\n      <g style=\"fill: #262626\" transform=\"translate(533.445613 261.172138) scale(0.121 -0.121)\">\n       <use xlink:href=\"#DejaVuSans-34\"/>\n       <use xlink:href=\"#DejaVuSans-30\" x=\"63.623047\"/>\n      </g>\n     </g>\n    </g>\n    <g id=\"ytick_6\">\n     <g id=\"line2d_8\">\n      <g>\n       <use xlink:href=\"#ma0dbd66f0e\" x=\"523.945613\" y=\"204.157812\" style=\"fill: #262626; stroke: #262626; stroke-width: 1.25\"/>\n      </g>\n     </g>\n     <g id=\"text_15\">\n      <!-- 50 -->\n      <g style=\"fill: #262626\" transform=\"translate(533.445613 208.754867) scale(0.121 -0.121)\">\n       <use xlink:href=\"#DejaVuSans-35\"/>\n       <use xlink:href=\"#DejaVuSans-30\" x=\"63.623047\"/>\n      </g>\n     </g>\n    </g>\n    <g id=\"ytick_7\">\n     <g id=\"line2d_9\">\n      <g>\n       <use xlink:href=\"#ma0dbd66f0e\" x=\"523.945613\" y=\"151.740542\" style=\"fill: #262626; stroke: #262626; stroke-width: 1.25\"/>\n      </g>\n     </g>\n     <g id=\"text_16\">\n      <!-- 60 -->\n      <g style=\"fill: #262626\" transform=\"translate(533.445613 156.337596) scale(0.121 -0.121)\">\n       <defs>\n        <path id=\"DejaVuSans-36\" d=\"M 2113 2584 \nQ 1688 2584 1439 2293 \nQ 1191 2003 1191 1497 \nQ 1191 994 1439 701 \nQ 1688 409 2113 409 \nQ 2538 409 2786 701 \nQ 3034 994 3034 1497 \nQ 3034 2003 2786 2293 \nQ 2538 2584 2113 2584 \nz\nM 3366 4563 \nL 3366 3988 \nQ 3128 4100 2886 4159 \nQ 2644 4219 2406 4219 \nQ 1781 4219 1451 3797 \nQ 1122 3375 1075 2522 \nQ 1259 2794 1537 2939 \nQ 1816 3084 2150 3084 \nQ 2853 3084 3261 2657 \nQ 3669 2231 3669 1497 \nQ 3669 778 3244 343 \nQ 2819 -91 2113 -91 \nQ 1303 -91 875 529 \nQ 447 1150 447 2328 \nQ 447 3434 972 4092 \nQ 1497 4750 2381 4750 \nQ 2619 4750 2861 4703 \nQ 3103 4656 3366 4563 \nz\n\" transform=\"scale(0.015625)\"/>\n       </defs>\n       <use xlink:href=\"#DejaVuSans-36\"/>\n       <use xlink:href=\"#DejaVuSans-30\" x=\"63.623047\"/>\n      </g>\n     </g>\n    </g>\n    <g id=\"ytick_8\">\n     <g id=\"line2d_10\">\n      <g>\n       <use xlink:href=\"#ma0dbd66f0e\" x=\"523.945613\" y=\"99.323271\" style=\"fill: #262626; stroke: #262626; stroke-width: 1.25\"/>\n      </g>\n     </g>\n     <g id=\"text_17\">\n      <!-- 70 -->\n      <g style=\"fill: #262626\" transform=\"translate(533.445613 103.920326) scale(0.121 -0.121)\">\n       <use xlink:href=\"#DejaVuSans-37\"/>\n       <use xlink:href=\"#DejaVuSans-30\" x=\"63.623047\"/>\n      </g>\n     </g>\n    </g>\n    <g id=\"ytick_9\">\n     <g id=\"line2d_11\">\n      <g>\n       <use xlink:href=\"#ma0dbd66f0e\" x=\"523.945613\" y=\"46.906\" style=\"fill: #262626; stroke: #262626; stroke-width: 1.25\"/>\n      </g>\n     </g>\n     <g id=\"text_18\">\n      <!-- 80 -->\n      <g style=\"fill: #262626\" transform=\"translate(533.445613 51.503055) scale(0.121 -0.121)\">\n       <use xlink:href=\"#DejaVuSans-38\"/>\n       <use xlink:href=\"#DejaVuSans-30\" x=\"63.623047\"/>\n      </g>\n     </g>\n    </g>\n   </g>\n   <image xlink:href=\"data:image/png;base64,\niVBORw0KGgoAAAANSUhEUgAAABcAAAHOCAYAAABzbJLzAAACS0lEQVR4nO2dwW3DQAwEdbbSRPrv0ylA4+cGGGCmAIJY7vKks+Oc98/v5xpxn1Xl67pew9rXfc6u9zpH7nNpOx9qfr8aKLDtXKy5tvPX0C1mWbSdizXXLq7pSdQ+J7wDLURImnPxc3bN9yCKmBdXmlPxZCGyIpLmXLxHC8L7aJHmSCFCxAP1au7tfPkhVAc0khWRFhcXN1txR1ZEzPHfPs7taKCIOkQ71CFqoE+8A21xIb0TIYUISXMkzb8Vt8ri/bqyV/Pij8XNsuwoREhu4eINlPAOtPgj92v2F1xZ8QvFHxGHaHwS7fDuFu9Aiz8yvljIioB3oHWO3KfHOcDceYsL8LqlgSLrge5EL/6IeOVu3+Y+WisOi3sH2uJCtveKxyvLsHidI7mFi5tl0XY+PIoKETIO0fDCZW1Fa+fixzmv5sPO1bLsinsHWoiQqVsaKDIe6PAt12tFr+aFCFkPdFe8MxRZh2hWWyxLnSO5BfGuXPVW3BXPiohY82t5JeKVpc6JsRW1nU9PomQhsiJyn+GHc17NkwVZd27VPLd8KW6VxTzQOn+yvswZ/q6FVxZz57v6aY5MV65Ylkv7L4TEmms7P8PFJZalEBGdochU86yIeLdimiP5/FtxrSza3ygWay7uvDP0iXig4hvR3PLfxTuJELXm2s4LEVCIkDpHpvFPFiQrImn+/8UbKJLmiFfzZEHWX555z4qnOVKIEPNAxZpr4y/WvPg/6SRCChFSiJD2OeK14nrldiXyRG3F4v/EG/9pQr2yZEXEG/8/uQovW3ZD+3kAAAAASUVORK5CYII=\" id=\"image16f6ab9e7d\" transform=\"scale(1 -1) translate(0 -332.64)\" x=\"507.6\" y=\"-37.44\" width=\"16.56\" height=\"332.64\"/>\n   <g id=\"LineCollection_1\"/>\n   <g id=\"patch_4\">\n    <path d=\"M 507.313613 370.477812 \nL 515.629613 370.477812 \nL 523.945613 370.477812 \nL 523.945613 37.837812 \nL 515.629613 37.837812 \nL 507.313613 37.837812 \nL 507.313613 370.477812 \nz\n\" style=\"fill: none\"/>\n   </g>\n  </g>\n </g>\n <defs>\n  <clipPath id=\"p801e5f3452\">\n   <rect x=\"127.873613\" y=\"37.837812\" width=\"357.12\" height=\"332.64\"/>\n  </clipPath>\n </defs>\n</svg>\n",
            "text/plain": [
              "<Figure size 800x600 with 2 Axes>"
            ]
          },
          "metadata": {},
          "output_type": "display_data"
        }
      ],
      "source": [
        "predictions, true_labels = test_model(xlmrmodel,test_dataloader)\n",
        "print_classification_report(predictions, true_labels, ['Informative','Non-Informative'])"
      ]
    },
    {
      "cell_type": "code",
      "execution_count": null,
      "metadata": {
        "id": "SY5CkWZgqKUC"
      },
      "outputs": [],
      "source": [
        "# Create a dataset with the misclassified"
      ]
    },
    {
      "cell_type": "code",
      "execution_count": null,
      "metadata": {
        "id": "ZAxfYi1CsPga"
      },
      "outputs": [],
      "source": [
        "flat_predictions = np.concatenate(predictions, axis=0)\n",
        "# For each sample, pick the label (0 or 1) with the higher score.\n",
        "flat_predictions = np.argmax(flat_predictions, axis=1).flatten()"
      ]
    },
    {
      "cell_type": "code",
      "execution_count": null,
      "metadata": {
        "id": "H2W6N-SesR9C"
      },
      "outputs": [],
      "source": [
        "test_data['predicted_target'] = flat_predictions"
      ]
    },
    {
      "cell_type": "code",
      "execution_count": null,
      "metadata": {
        "id": "ifVV3maTsS2n"
      },
      "outputs": [],
      "source": [
        "misclassified = test_data[test_data['target'] != test_data['predicted_target']]"
      ]
    },
    {
      "cell_type": "code",
      "execution_count": null,
      "metadata": {
        "id": "CKdB4COQsygw"
      },
      "outputs": [],
      "source": [
        "switched_mapping = {0:'Informative', 1:'Non-Informative'}"
      ]
    },
    {
      "cell_type": "code",
      "execution_count": null,
      "metadata": {
        "colab": {
          "base_uri": "https://localhost:8080/"
        },
        "id": "zVvPvdsGsexT",
        "outputId": "517a7654-4965-434e-ee68-c58f4a405330"
      },
      "outputs": [
        {
          "name": "stderr",
          "output_type": "stream",
          "text": [
            "<ipython-input-421-66554f9b01dc>:1: SettingWithCopyWarning: \n",
            "A value is trying to be set on a copy of a slice from a DataFrame.\n",
            "Try using .loc[row_indexer,col_indexer] = value instead\n",
            "\n",
            "See the caveats in the documentation: https://pandas.pydata.org/pandas-docs/stable/user_guide/indexing.html#returning-a-view-versus-a-copy\n",
            "  misclassified['Predicted Label'] = misclassified['predicted_target'].map(switched_mapping)\n"
          ]
        }
      ],
      "source": [
        "misclassified['Predicted Label'] = misclassified['predicted_target'].map(switched_mapping)"
      ]
    },
    {
      "cell_type": "code",
      "execution_count": null,
      "metadata": {
        "colab": {
          "base_uri": "https://localhost:8080/",
          "height": 502
        },
        "id": "yyN2SCVFsi6u",
        "outputId": "fa4cea85-8c6d-4f56-8ef0-45ce47eb50b0"
      },
      "outputs": [
        {
          "data": {
            "text/html": [
              "\n",
              "  <div id=\"df-06224c1b-5fe5-4b18-8c98-5e0834e3e1fb\">\n",
              "    <div class=\"colab-df-container\">\n",
              "      <div>\n",
              "<style scoped>\n",
              "    .dataframe tbody tr th:only-of-type {\n",
              "        vertical-align: middle;\n",
              "    }\n",
              "\n",
              "    .dataframe tbody tr th {\n",
              "        vertical-align: top;\n",
              "    }\n",
              "\n",
              "    .dataframe thead th {\n",
              "        text-align: right;\n",
              "    }\n",
              "</style>\n",
              "<table border=\"1\" class=\"dataframe\">\n",
              "  <thead>\n",
              "    <tr style=\"text-align: right;\">\n",
              "      <th></th>\n",
              "      <th>text</th>\n",
              "      <th>informative_label</th>\n",
              "      <th>Predicted Label</th>\n",
              "    </tr>\n",
              "  </thead>\n",
              "  <tbody>\n",
              "    <tr>\n",
              "      <th>3913</th>\n",
              "      <td>In the Results of IEBC,is says that more elderly registered and elderly are the highest voters of Raila</td>\n",
              "      <td>Non-Informative</td>\n",
              "      <td>Informative</td>\n",
              "    </tr>\n",
              "    <tr>\n",
              "      <th>3363</th>\n",
              "      <td>Our resolve to elect @Cleophasmalala and @HassanOmarH as the next Governors of Kakamega and Mombasa County respectively remains unnbowed. All sinister motives shall fail.</td>\n",
              "      <td>Non-Informative</td>\n",
              "      <td>Informative</td>\n",
              "    </tr>\n",
              "    <tr>\n",
              "      <th>1484</th>\n",
              "      <td>Statement/Announcement by IEBC regarding the missing of a returning officer for Embakasi East constituency, Mr. Daniel Musyoka</td>\n",
              "      <td>Non-Informative</td>\n",
              "      <td>Informative</td>\n",
              "    </tr>\n",
              "    <tr>\n",
              "      <th>2297</th>\n",
              "      <td>Youth &amp; various leaders are at the center stage to ensure we have #UchaguziWaAmani &amp; #LetPeaceWin in the forthcoming #GE2022 through Voter information Sharing and other Peace initiatives.  \\n\\nGroup Photo session at the ongoing Coast &amp; Eastern Region Voter Education in Mombasa.</td>\n",
              "      <td>Non-Informative</td>\n",
              "      <td>Informative</td>\n",
              "    </tr>\n",
              "    <tr>\n",
              "      <th>83</th>\n",
              "      <td>Please if you are a kenyan let us chose to have a peaceful election 'Amani ni tamu'.Am,Nancy ,Migori.</td>\n",
              "      <td>Informative</td>\n",
              "      <td>Non-Informative</td>\n",
              "    </tr>\n",
              "    <tr>\n",
              "      <th>...</th>\n",
              "      <td>...</td>\n",
              "      <td>...</td>\n",
              "      <td>...</td>\n",
              "    </tr>\n",
              "    <tr>\n",
              "      <th>3035</th>\n",
              "      <td>Ungana nami mzakendo wa kilifi tukalinde haki ya kila mmoja yakupiga kura kwa amani na bila uoga wowote\\n#uchaguziwaamani</td>\n",
              "      <td>Non-Informative</td>\n",
              "      <td>Informative</td>\n",
              "    </tr>\n",
              "    <tr>\n",
              "      <th>1678</th>\n",
              "      <td>James Opiyo Wandati successfully defends his Ugunja parliamentary seat on an ODM ticket.</td>\n",
              "      <td>Non-Informative</td>\n",
              "      <td>Informative</td>\n",
              "    </tr>\n",
              "    <tr>\n",
              "      <th>2562</th>\n",
              "      <td>\"lets not bleed so that they can lead\"</td>\n",
              "      <td>Informative</td>\n",
              "      <td>Non-Informative</td>\n",
              "    </tr>\n",
              "    <tr>\n",
              "      <th>3160</th>\n",
              "      <td>LETS PRAY FOR OUR RAILA TO CHANGE HIS MIND AND ACCEPT UHURU TO BE THE PRESIDENT.DAUDI ARAP OMARI FROM KABARNET, BARINGO.</td>\n",
              "      <td>Non-Informative</td>\n",
              "      <td>Informative</td>\n",
              "    </tr>\n",
              "    <tr>\n",
              "      <th>1823</th>\n",
              "      <td>Our ICT staff  are now frightened - Wafula Chebukati</td>\n",
              "      <td>Informative</td>\n",
              "      <td>Non-Informative</td>\n",
              "    </tr>\n",
              "  </tbody>\n",
              "</table>\n",
              "<p>100 rows × 3 columns</p>\n",
              "</div>\n",
              "      <button class=\"colab-df-convert\" onclick=\"convertToInteractive('df-06224c1b-5fe5-4b18-8c98-5e0834e3e1fb')\"\n",
              "              title=\"Convert this dataframe to an interactive table.\"\n",
              "              style=\"display:none;\">\n",
              "        \n",
              "  <svg xmlns=\"http://www.w3.org/2000/svg\" height=\"24px\"viewBox=\"0 0 24 24\"\n",
              "       width=\"24px\">\n",
              "    <path d=\"M0 0h24v24H0V0z\" fill=\"none\"/>\n",
              "    <path d=\"M18.56 5.44l.94 2.06.94-2.06 2.06-.94-2.06-.94-.94-2.06-.94 2.06-2.06.94zm-11 1L8.5 8.5l.94-2.06 2.06-.94-2.06-.94L8.5 2.5l-.94 2.06-2.06.94zm10 10l.94 2.06.94-2.06 2.06-.94-2.06-.94-.94-2.06-.94 2.06-2.06.94z\"/><path d=\"M17.41 7.96l-1.37-1.37c-.4-.4-.92-.59-1.43-.59-.52 0-1.04.2-1.43.59L10.3 9.45l-7.72 7.72c-.78.78-.78 2.05 0 2.83L4 21.41c.39.39.9.59 1.41.59.51 0 1.02-.2 1.41-.59l7.78-7.78 2.81-2.81c.8-.78.8-2.07 0-2.86zM5.41 20L4 18.59l7.72-7.72 1.47 1.35L5.41 20z\"/>\n",
              "  </svg>\n",
              "      </button>\n",
              "      \n",
              "  <style>\n",
              "    .colab-df-container {\n",
              "      display:flex;\n",
              "      flex-wrap:wrap;\n",
              "      gap: 12px;\n",
              "    }\n",
              "\n",
              "    .colab-df-convert {\n",
              "      background-color: #E8F0FE;\n",
              "      border: none;\n",
              "      border-radius: 50%;\n",
              "      cursor: pointer;\n",
              "      display: none;\n",
              "      fill: #1967D2;\n",
              "      height: 32px;\n",
              "      padding: 0 0 0 0;\n",
              "      width: 32px;\n",
              "    }\n",
              "\n",
              "    .colab-df-convert:hover {\n",
              "      background-color: #E2EBFA;\n",
              "      box-shadow: 0px 1px 2px rgba(60, 64, 67, 0.3), 0px 1px 3px 1px rgba(60, 64, 67, 0.15);\n",
              "      fill: #174EA6;\n",
              "    }\n",
              "\n",
              "    [theme=dark] .colab-df-convert {\n",
              "      background-color: #3B4455;\n",
              "      fill: #D2E3FC;\n",
              "    }\n",
              "\n",
              "    [theme=dark] .colab-df-convert:hover {\n",
              "      background-color: #434B5C;\n",
              "      box-shadow: 0px 1px 3px 1px rgba(0, 0, 0, 0.15);\n",
              "      filter: drop-shadow(0px 1px 2px rgba(0, 0, 0, 0.3));\n",
              "      fill: #FFFFFF;\n",
              "    }\n",
              "  </style>\n",
              "\n",
              "      <script>\n",
              "        const buttonEl =\n",
              "          document.querySelector('#df-06224c1b-5fe5-4b18-8c98-5e0834e3e1fb button.colab-df-convert');\n",
              "        buttonEl.style.display =\n",
              "          google.colab.kernel.accessAllowed ? 'block' : 'none';\n",
              "\n",
              "        async function convertToInteractive(key) {\n",
              "          const element = document.querySelector('#df-06224c1b-5fe5-4b18-8c98-5e0834e3e1fb');\n",
              "          const dataTable =\n",
              "            await google.colab.kernel.invokeFunction('convertToInteractive',\n",
              "                                                     [key], {});\n",
              "          if (!dataTable) return;\n",
              "\n",
              "          const docLinkHtml = 'Like what you see? Visit the ' +\n",
              "            '<a target=\"_blank\" href=https://colab.research.google.com/notebooks/data_table.ipynb>data table notebook</a>'\n",
              "            + ' to learn more about interactive tables.';\n",
              "          element.innerHTML = '';\n",
              "          dataTable['output_type'] = 'display_data';\n",
              "          await google.colab.output.renderOutput(dataTable, element);\n",
              "          const docLink = document.createElement('div');\n",
              "          docLink.innerHTML = docLinkHtml;\n",
              "          element.appendChild(docLink);\n",
              "        }\n",
              "      </script>\n",
              "    </div>\n",
              "  </div>\n",
              "  "
            ],
            "text/plain": [
              "                                                                                                                                                                                                                                                                                        text  \\\n",
              "3913                                                                                                                                                                                 In the Results of IEBC,is says that more elderly registered and elderly are the highest voters of Raila   \n",
              "3363                                                                                                              Our resolve to elect @Cleophasmalala and @HassanOmarH as the next Governors of Kakamega and Mombasa County respectively remains unnbowed. All sinister motives shall fail.   \n",
              "1484                                                                                                                                                          Statement/Announcement by IEBC regarding the missing of a returning officer for Embakasi East constituency, Mr. Daniel Musyoka   \n",
              "2297  Youth & various leaders are at the center stage to ensure we have #UchaguziWaAmani & #LetPeaceWin in the forthcoming #GE2022 through Voter information Sharing and other Peace initiatives.  \\n\\nGroup Photo session at the ongoing Coast & Eastern Region Voter Education in Mombasa.   \n",
              "83                                                                                                                                                                                     Please if you are a kenyan let us chose to have a peaceful election 'Amani ni tamu'.Am,Nancy ,Migori.   \n",
              "...                                                                                                                                                                                                                                                                                      ...   \n",
              "3035                                                                                                                                                               Ungana nami mzakendo wa kilifi tukalinde haki ya kila mmoja yakupiga kura kwa amani na bila uoga wowote\\n#uchaguziwaamani   \n",
              "1678                                                                                                                                                                                                James Opiyo Wandati successfully defends his Ugunja parliamentary seat on an ODM ticket.   \n",
              "2562                                                                                                                                                                                                                                                  \"lets not bleed so that they can lead\"   \n",
              "3160                                                                                                                                                                LETS PRAY FOR OUR RAILA TO CHANGE HIS MIND AND ACCEPT UHURU TO BE THE PRESIDENT.DAUDI ARAP OMARI FROM KABARNET, BARINGO.   \n",
              "1823                                                                                                                                                                                                                                    Our ICT staff  are now frightened - Wafula Chebukati   \n",
              "\n",
              "     informative_label  Predicted Label  \n",
              "3913   Non-Informative      Informative  \n",
              "3363   Non-Informative      Informative  \n",
              "1484   Non-Informative      Informative  \n",
              "2297   Non-Informative      Informative  \n",
              "83         Informative  Non-Informative  \n",
              "...                ...              ...  \n",
              "3035   Non-Informative      Informative  \n",
              "1678   Non-Informative      Informative  \n",
              "2562       Informative  Non-Informative  \n",
              "3160   Non-Informative      Informative  \n",
              "1823       Informative  Non-Informative  \n",
              "\n",
              "[100 rows x 3 columns]"
            ]
          },
          "execution_count": 429,
          "metadata": {},
          "output_type": "execute_result"
        }
      ],
      "source": [
        "misclassified[['text','informative_label','Predicted Label']].sample(100)"
      ]
    },
    {
      "cell_type": "code",
      "execution_count": null,
      "metadata": {
        "id": "oqZPQNZQtFU0"
      },
      "outputs": [],
      "source": [
        "misclassified.to_csv(f\"/content/drive/My Drive/thesis/results/informative_misclassified.csv\",  quoting=csv.QUOTE_NONNUMERIC, index=False)"
      ]
    },
    {
      "cell_type": "code",
      "execution_count": null,
      "metadata": {
        "id": "nFnYxxs-uVOc"
      },
      "outputs": [],
      "source": [
        "# Look at the misclassified posts for the multiclassification task"
      ]
    },
    {
      "cell_type": "code",
      "execution_count": null,
      "metadata": {
        "colab": {
          "base_uri": "https://localhost:8080/"
        },
        "id": "CcgFPHcFua8n",
        "outputId": "3a96f289-fa68-4048-84f5-31176e493536"
      },
      "outputs": [
        {
          "name": "stderr",
          "output_type": "stream",
          "text": [
            "You are using a model of type bert to instantiate a model of type xlm-roberta. This is not supported for all configurations of models and can yield errors.\n"
          ]
        },
        {
          "name": "stdout",
          "output_type": "stream",
          "text": [
            "MLP Layer sizes:\n",
            " Input: 774\n",
            " Output: 5\n"
          ]
        }
      ],
      "source": [
        "multi_class_run = 'Run3'\n",
        "### Reload the model and the tokenizer\n",
        "xlmrmodel = BertConcatFeatures.from_pretrained(f'/content/drive/My Drive/thesis/models/fused/Multi-Class/{multi_class_run}')\n",
        "desc = xlmrmodel.to(device)"
      ]
    },
    {
      "cell_type": "code",
      "execution_count": null,
      "metadata": {
        "id": "RnR1QBVcvA09"
      },
      "outputs": [],
      "source": [
        "test_data = pd.read_csv(f'/content/drive/My Drive/thesis/multiple_runs/fused/Multi-Class/{multi_class_run}/test_data.csv', encoding='utf-8')"
      ]
    },
    {
      "cell_type": "code",
      "execution_count": null,
      "metadata": {
        "colab": {
          "base_uri": "https://localhost:8080/"
        },
        "id": "MU6dhBm_vBsp",
        "outputId": "596fd67f-3a5e-4279-b8fa-f8c17f1ab08c"
      },
      "outputs": [
        {
          "name": "stdout",
          "output_type": "stream",
          "text": [
            "  DONE.\n",
            "Dataset contains 976 samples.\n"
          ]
        },
        {
          "name": "stderr",
          "output_type": "stream",
          "text": [
            "Truncation was not explicitly activated but `max_length` is provided a specific value, please use `truncation=True` to explicitly truncate examples to max length. Defaulting to 'longest_first' truncation strategy. If you encode pairs of sequences (GLUE-style) with the tokenizer you can select this strategy more precisely by providing a specific strategy to `truncation`.\n",
            "/usr/local/lib/python3.10/dist-packages/transformers/tokenization_utils_base.py:2377: FutureWarning: The `pad_to_max_length` argument is deprecated and will be removed in a future version, use `padding=True` or `padding='longest'` to pad to the longest sequence in the batch, or use `padding='max_length'` to pad to a max length. In this case, you can give a specific length with `max_length` (e.g. `max_length=45`) or leave max_length to None to pad to the maximal input size of the model (e.g. 512 for Bert).\n",
            "  warnings.warn(\n"
          ]
        }
      ],
      "source": [
        "# Get train sentences and targets\n",
        "train_sentences, train_targets = combine_features(test_data)\n",
        "\n",
        "# Tokenize sentences\n",
        "tokenizer = init_tokenizer()\n",
        "input_ids, numerical_feat, attention_masks, labels = tokenize_with_numerical(tokenizer,\n",
        "                                                                              train_sentences,\n",
        "                                                                              train_targets,\n",
        "                                                                              test_data[numerical_feats].values)\n",
        "\n",
        "# Create datasets\n",
        "test_dataset = TensorDataset(input_ids, numerical_feat, attention_masks, labels)\n",
        "\n",
        "# Create dataloaders\n",
        "test_dataloader = DataLoader(\n",
        "        test_dataset,  # The training samples.\n",
        "        sampler = SequentialSampler(test_dataset), # Select batches randomly\n",
        "        batch_size = batch_size # Trains with this batch size.\n",
        "    )"
      ]
    },
    {
      "cell_type": "code",
      "execution_count": null,
      "metadata": {
        "colab": {
          "base_uri": "https://localhost:8080/",
          "height": 931
        },
        "id": "pf4Wo1GJvkAV",
        "outputId": "5ca330d1-fc8b-4e65-9e4c-4d48bd4ab24b"
      },
      "outputs": [
        {
          "name": "stdout",
          "output_type": "stream",
          "text": [
            "                      precision    recall  f1-score   support\n",
            "\n",
            "Counting and Results       0.78      0.78      0.78       205\n",
            "   Political Rallies       0.63      0.73      0.68        78\n",
            "     Positive Events       0.85      0.69      0.76       343\n",
            "     Security Issues       0.68      0.74      0.71       122\n",
            "       Voting Issues       0.66      0.78      0.71       228\n",
            "\n",
            "            accuracy                           0.74       976\n",
            "           macro avg       0.72      0.74      0.73       976\n",
            "        weighted avg       0.75      0.74      0.74       976\n",
            "\n"
          ]
        },
        {
          "data": {
            "image/svg+xml": "<?xml version=\"1.0\" encoding=\"utf-8\" standalone=\"no\"?>\n<!DOCTYPE svg PUBLIC \"-//W3C//DTD SVG 1.1//EN\"\n  \"http://www.w3.org/Graphics/SVG/1.1/DTD/svg11.dtd\">\n<svg xmlns:xlink=\"http://www.w3.org/1999/xlink\" width=\"577.767061pt\" height=\"520.075624pt\" viewBox=\"0 0 577.767061 520.075624\" xmlns=\"http://www.w3.org/2000/svg\" version=\"1.1\">\n <metadata>\n  <rdf:RDF xmlns:dc=\"http://purl.org/dc/elements/1.1/\" xmlns:cc=\"http://creativecommons.org/ns#\" xmlns:rdf=\"http://www.w3.org/1999/02/22-rdf-syntax-ns#\">\n   <cc:Work>\n    <dc:type rdf:resource=\"http://purl.org/dc/dcmitype/StillImage\"/>\n    <dc:date>2023-07-10T21:42:37.152337</dc:date>\n    <dc:format>image/svg+xml</dc:format>\n    <dc:creator>\n     <cc:Agent>\n      <dc:title>Matplotlib v3.7.1, https://matplotlib.org/</dc:title>\n     </cc:Agent>\n    </dc:creator>\n   </cc:Work>\n  </rdf:RDF>\n </metadata>\n <defs>\n  <style type=\"text/css\">*{stroke-linejoin: round; stroke-linecap: butt}</style>\n </defs>\n <g id=\"figure_1\">\n  <g id=\"patch_1\">\n   <path d=\"M 0 520.075624 \nL 577.767061 520.075624 \nL 577.767061 -0 \nL 0 -0 \nz\n\" style=\"fill: #ffffff\"/>\n  </g>\n  <g id=\"axes_1\">\n   <g id=\"patch_2\">\n    <path d=\"M 149.597811 370.477812 \nL 506.717811 370.477812 \nL 506.717811 37.837812 \nL 149.597811 37.837812 \nz\n\" style=\"fill: #eaeaf2\"/>\n   </g>\n   <g id=\"matplotlib.axis_1\">\n    <g id=\"xtick_1\">\n     <g id=\"line2d_1\">\n      <path d=\"M 185.309811 370.477812 \nL 185.309811 37.837812 \n\" clip-path=\"url(#p4e1194d091)\" style=\"fill: none; stroke: #ffffff; stroke-linecap: round\"/>\n     </g>\n     <g id=\"text_1\">\n      <!-- Counting and Results -->\n      <g style=\"fill: #262626\" transform=\"translate(92.462592 477.54687) rotate(-45) scale(0.121 -0.121)\">\n       <defs>\n        <path id=\"DejaVuSans-43\" d=\"M 4122 4306 \nL 4122 3641 \nQ 3803 3938 3442 4084 \nQ 3081 4231 2675 4231 \nQ 1875 4231 1450 3742 \nQ 1025 3253 1025 2328 \nQ 1025 1406 1450 917 \nQ 1875 428 2675 428 \nQ 3081 428 3442 575 \nQ 3803 722 4122 1019 \nL 4122 359 \nQ 3791 134 3420 21 \nQ 3050 -91 2638 -91 \nQ 1578 -91 968 557 \nQ 359 1206 359 2328 \nQ 359 3453 968 4101 \nQ 1578 4750 2638 4750 \nQ 3056 4750 3426 4639 \nQ 3797 4528 4122 4306 \nz\n\" transform=\"scale(0.015625)\"/>\n        <path id=\"DejaVuSans-6f\" d=\"M 1959 3097 \nQ 1497 3097 1228 2736 \nQ 959 2375 959 1747 \nQ 959 1119 1226 758 \nQ 1494 397 1959 397 \nQ 2419 397 2687 759 \nQ 2956 1122 2956 1747 \nQ 2956 2369 2687 2733 \nQ 2419 3097 1959 3097 \nz\nM 1959 3584 \nQ 2709 3584 3137 3096 \nQ 3566 2609 3566 1747 \nQ 3566 888 3137 398 \nQ 2709 -91 1959 -91 \nQ 1206 -91 779 398 \nQ 353 888 353 1747 \nQ 353 2609 779 3096 \nQ 1206 3584 1959 3584 \nz\n\" transform=\"scale(0.015625)\"/>\n        <path id=\"DejaVuSans-75\" d=\"M 544 1381 \nL 544 3500 \nL 1119 3500 \nL 1119 1403 \nQ 1119 906 1312 657 \nQ 1506 409 1894 409 \nQ 2359 409 2629 706 \nQ 2900 1003 2900 1516 \nL 2900 3500 \nL 3475 3500 \nL 3475 0 \nL 2900 0 \nL 2900 538 \nQ 2691 219 2414 64 \nQ 2138 -91 1772 -91 \nQ 1169 -91 856 284 \nQ 544 659 544 1381 \nz\nM 1991 3584 \nL 1991 3584 \nz\n\" transform=\"scale(0.015625)\"/>\n        <path id=\"DejaVuSans-6e\" d=\"M 3513 2113 \nL 3513 0 \nL 2938 0 \nL 2938 2094 \nQ 2938 2591 2744 2837 \nQ 2550 3084 2163 3084 \nQ 1697 3084 1428 2787 \nQ 1159 2491 1159 1978 \nL 1159 0 \nL 581 0 \nL 581 3500 \nL 1159 3500 \nL 1159 2956 \nQ 1366 3272 1645 3428 \nQ 1925 3584 2291 3584 \nQ 2894 3584 3203 3211 \nQ 3513 2838 3513 2113 \nz\n\" transform=\"scale(0.015625)\"/>\n        <path id=\"DejaVuSans-74\" d=\"M 1172 4494 \nL 1172 3500 \nL 2356 3500 \nL 2356 3053 \nL 1172 3053 \nL 1172 1153 \nQ 1172 725 1289 603 \nQ 1406 481 1766 481 \nL 2356 481 \nL 2356 0 \nL 1766 0 \nQ 1100 0 847 248 \nQ 594 497 594 1153 \nL 594 3053 \nL 172 3053 \nL 172 3500 \nL 594 3500 \nL 594 4494 \nL 1172 4494 \nz\n\" transform=\"scale(0.015625)\"/>\n        <path id=\"DejaVuSans-69\" d=\"M 603 3500 \nL 1178 3500 \nL 1178 0 \nL 603 0 \nL 603 3500 \nz\nM 603 4863 \nL 1178 4863 \nL 1178 4134 \nL 603 4134 \nL 603 4863 \nz\n\" transform=\"scale(0.015625)\"/>\n        <path id=\"DejaVuSans-67\" d=\"M 2906 1791 \nQ 2906 2416 2648 2759 \nQ 2391 3103 1925 3103 \nQ 1463 3103 1205 2759 \nQ 947 2416 947 1791 \nQ 947 1169 1205 825 \nQ 1463 481 1925 481 \nQ 2391 481 2648 825 \nQ 2906 1169 2906 1791 \nz\nM 3481 434 \nQ 3481 -459 3084 -895 \nQ 2688 -1331 1869 -1331 \nQ 1566 -1331 1297 -1286 \nQ 1028 -1241 775 -1147 \nL 775 -588 \nQ 1028 -725 1275 -790 \nQ 1522 -856 1778 -856 \nQ 2344 -856 2625 -561 \nQ 2906 -266 2906 331 \nL 2906 616 \nQ 2728 306 2450 153 \nQ 2172 0 1784 0 \nQ 1141 0 747 490 \nQ 353 981 353 1791 \nQ 353 2603 747 3093 \nQ 1141 3584 1784 3584 \nQ 2172 3584 2450 3431 \nQ 2728 3278 2906 2969 \nL 2906 3500 \nL 3481 3500 \nL 3481 434 \nz\n\" transform=\"scale(0.015625)\"/>\n        <path id=\"DejaVuSans-20\" transform=\"scale(0.015625)\"/>\n        <path id=\"DejaVuSans-61\" d=\"M 2194 1759 \nQ 1497 1759 1228 1600 \nQ 959 1441 959 1056 \nQ 959 750 1161 570 \nQ 1363 391 1709 391 \nQ 2188 391 2477 730 \nQ 2766 1069 2766 1631 \nL 2766 1759 \nL 2194 1759 \nz\nM 3341 1997 \nL 3341 0 \nL 2766 0 \nL 2766 531 \nQ 2569 213 2275 61 \nQ 1981 -91 1556 -91 \nQ 1019 -91 701 211 \nQ 384 513 384 1019 \nQ 384 1609 779 1909 \nQ 1175 2209 1959 2209 \nL 2766 2209 \nL 2766 2266 \nQ 2766 2663 2505 2880 \nQ 2244 3097 1772 3097 \nQ 1472 3097 1187 3025 \nQ 903 2953 641 2809 \nL 641 3341 \nQ 956 3463 1253 3523 \nQ 1550 3584 1831 3584 \nQ 2591 3584 2966 3190 \nQ 3341 2797 3341 1997 \nz\n\" transform=\"scale(0.015625)\"/>\n        <path id=\"DejaVuSans-64\" d=\"M 2906 2969 \nL 2906 4863 \nL 3481 4863 \nL 3481 0 \nL 2906 0 \nL 2906 525 \nQ 2725 213 2448 61 \nQ 2172 -91 1784 -91 \nQ 1150 -91 751 415 \nQ 353 922 353 1747 \nQ 353 2572 751 3078 \nQ 1150 3584 1784 3584 \nQ 2172 3584 2448 3432 \nQ 2725 3281 2906 2969 \nz\nM 947 1747 \nQ 947 1113 1208 752 \nQ 1469 391 1925 391 \nQ 2381 391 2643 752 \nQ 2906 1113 2906 1747 \nQ 2906 2381 2643 2742 \nQ 2381 3103 1925 3103 \nQ 1469 3103 1208 2742 \nQ 947 2381 947 1747 \nz\n\" transform=\"scale(0.015625)\"/>\n        <path id=\"DejaVuSans-52\" d=\"M 2841 2188 \nQ 3044 2119 3236 1894 \nQ 3428 1669 3622 1275 \nL 4263 0 \nL 3584 0 \nL 2988 1197 \nQ 2756 1666 2539 1819 \nQ 2322 1972 1947 1972 \nL 1259 1972 \nL 1259 0 \nL 628 0 \nL 628 4666 \nL 2053 4666 \nQ 2853 4666 3247 4331 \nQ 3641 3997 3641 3322 \nQ 3641 2881 3436 2590 \nQ 3231 2300 2841 2188 \nz\nM 1259 4147 \nL 1259 2491 \nL 2053 2491 \nQ 2509 2491 2742 2702 \nQ 2975 2913 2975 3322 \nQ 2975 3731 2742 3939 \nQ 2509 4147 2053 4147 \nL 1259 4147 \nz\n\" transform=\"scale(0.015625)\"/>\n        <path id=\"DejaVuSans-65\" d=\"M 3597 1894 \nL 3597 1613 \nL 953 1613 \nQ 991 1019 1311 708 \nQ 1631 397 2203 397 \nQ 2534 397 2845 478 \nQ 3156 559 3463 722 \nL 3463 178 \nQ 3153 47 2828 -22 \nQ 2503 -91 2169 -91 \nQ 1331 -91 842 396 \nQ 353 884 353 1716 \nQ 353 2575 817 3079 \nQ 1281 3584 2069 3584 \nQ 2775 3584 3186 3129 \nQ 3597 2675 3597 1894 \nz\nM 3022 2063 \nQ 3016 2534 2758 2815 \nQ 2500 3097 2075 3097 \nQ 1594 3097 1305 2825 \nQ 1016 2553 972 2059 \nL 3022 2063 \nz\n\" transform=\"scale(0.015625)\"/>\n        <path id=\"DejaVuSans-73\" d=\"M 2834 3397 \nL 2834 2853 \nQ 2591 2978 2328 3040 \nQ 2066 3103 1784 3103 \nQ 1356 3103 1142 2972 \nQ 928 2841 928 2578 \nQ 928 2378 1081 2264 \nQ 1234 2150 1697 2047 \nL 1894 2003 \nQ 2506 1872 2764 1633 \nQ 3022 1394 3022 966 \nQ 3022 478 2636 193 \nQ 2250 -91 1575 -91 \nQ 1294 -91 989 -36 \nQ 684 19 347 128 \nL 347 722 \nQ 666 556 975 473 \nQ 1284 391 1588 391 \nQ 1994 391 2212 530 \nQ 2431 669 2431 922 \nQ 2431 1156 2273 1281 \nQ 2116 1406 1581 1522 \nL 1381 1569 \nQ 847 1681 609 1914 \nQ 372 2147 372 2553 \nQ 372 3047 722 3315 \nQ 1072 3584 1716 3584 \nQ 2034 3584 2315 3537 \nQ 2597 3491 2834 3397 \nz\n\" transform=\"scale(0.015625)\"/>\n        <path id=\"DejaVuSans-6c\" d=\"M 603 4863 \nL 1178 4863 \nL 1178 0 \nL 603 0 \nL 603 4863 \nz\n\" transform=\"scale(0.015625)\"/>\n       </defs>\n       <use xlink:href=\"#DejaVuSans-43\"/>\n       <use xlink:href=\"#DejaVuSans-6f\" x=\"69.824219\"/>\n       <use xlink:href=\"#DejaVuSans-75\" x=\"131.005859\"/>\n       <use xlink:href=\"#DejaVuSans-6e\" x=\"194.384766\"/>\n       <use xlink:href=\"#DejaVuSans-74\" x=\"257.763672\"/>\n       <use xlink:href=\"#DejaVuSans-69\" x=\"296.972656\"/>\n       <use xlink:href=\"#DejaVuSans-6e\" x=\"324.755859\"/>\n       <use xlink:href=\"#DejaVuSans-67\" x=\"388.134766\"/>\n       <use xlink:href=\"#DejaVuSans-20\" x=\"451.611328\"/>\n       <use xlink:href=\"#DejaVuSans-61\" x=\"483.398438\"/>\n       <use xlink:href=\"#DejaVuSans-6e\" x=\"544.677734\"/>\n       <use xlink:href=\"#DejaVuSans-64\" x=\"608.056641\"/>\n       <use xlink:href=\"#DejaVuSans-20\" x=\"671.533203\"/>\n       <use xlink:href=\"#DejaVuSans-52\" x=\"703.320312\"/>\n       <use xlink:href=\"#DejaVuSans-65\" x=\"768.302734\"/>\n       <use xlink:href=\"#DejaVuSans-73\" x=\"829.826172\"/>\n       <use xlink:href=\"#DejaVuSans-75\" x=\"881.925781\"/>\n       <use xlink:href=\"#DejaVuSans-6c\" x=\"945.304688\"/>\n       <use xlink:href=\"#DejaVuSans-74\" x=\"973.087891\"/>\n       <use xlink:href=\"#DejaVuSans-73\" x=\"1012.296875\"/>\n      </g>\n     </g>\n    </g>\n    <g id=\"xtick_2\">\n     <g id=\"line2d_2\">\n      <path d=\"M 256.733811 370.477812 \nL 256.733811 37.837812 \n\" clip-path=\"url(#p4e1194d091)\" style=\"fill: none; stroke: #ffffff; stroke-linecap: round\"/>\n     </g>\n     <g id=\"text_2\">\n      <!-- Political Rallies -->\n      <g style=\"fill: #262626\" transform=\"translate(191.493035 449.940427) rotate(-45) scale(0.121 -0.121)\">\n       <defs>\n        <path id=\"DejaVuSans-50\" d=\"M 1259 4147 \nL 1259 2394 \nL 2053 2394 \nQ 2494 2394 2734 2622 \nQ 2975 2850 2975 3272 \nQ 2975 3691 2734 3919 \nQ 2494 4147 2053 4147 \nL 1259 4147 \nz\nM 628 4666 \nL 2053 4666 \nQ 2838 4666 3239 4311 \nQ 3641 3956 3641 3272 \nQ 3641 2581 3239 2228 \nQ 2838 1875 2053 1875 \nL 1259 1875 \nL 1259 0 \nL 628 0 \nL 628 4666 \nz\n\" transform=\"scale(0.015625)\"/>\n        <path id=\"DejaVuSans-63\" d=\"M 3122 3366 \nL 3122 2828 \nQ 2878 2963 2633 3030 \nQ 2388 3097 2138 3097 \nQ 1578 3097 1268 2742 \nQ 959 2388 959 1747 \nQ 959 1106 1268 751 \nQ 1578 397 2138 397 \nQ 2388 397 2633 464 \nQ 2878 531 3122 666 \nL 3122 134 \nQ 2881 22 2623 -34 \nQ 2366 -91 2075 -91 \nQ 1284 -91 818 406 \nQ 353 903 353 1747 \nQ 353 2603 823 3093 \nQ 1294 3584 2113 3584 \nQ 2378 3584 2631 3529 \nQ 2884 3475 3122 3366 \nz\n\" transform=\"scale(0.015625)\"/>\n       </defs>\n       <use xlink:href=\"#DejaVuSans-50\"/>\n       <use xlink:href=\"#DejaVuSans-6f\" x=\"56.677734\"/>\n       <use xlink:href=\"#DejaVuSans-6c\" x=\"117.859375\"/>\n       <use xlink:href=\"#DejaVuSans-69\" x=\"145.642578\"/>\n       <use xlink:href=\"#DejaVuSans-74\" x=\"173.425781\"/>\n       <use xlink:href=\"#DejaVuSans-69\" x=\"212.634766\"/>\n       <use xlink:href=\"#DejaVuSans-63\" x=\"240.417969\"/>\n       <use xlink:href=\"#DejaVuSans-61\" x=\"295.398438\"/>\n       <use xlink:href=\"#DejaVuSans-6c\" x=\"356.677734\"/>\n       <use xlink:href=\"#DejaVuSans-20\" x=\"384.460938\"/>\n       <use xlink:href=\"#DejaVuSans-52\" x=\"416.248047\"/>\n       <use xlink:href=\"#DejaVuSans-61\" x=\"483.480469\"/>\n       <use xlink:href=\"#DejaVuSans-6c\" x=\"544.759766\"/>\n       <use xlink:href=\"#DejaVuSans-6c\" x=\"572.542969\"/>\n       <use xlink:href=\"#DejaVuSans-69\" x=\"600.326172\"/>\n       <use xlink:href=\"#DejaVuSans-65\" x=\"628.109375\"/>\n       <use xlink:href=\"#DejaVuSans-73\" x=\"689.632812\"/>\n      </g>\n     </g>\n    </g>\n    <g id=\"xtick_3\">\n     <g id=\"line2d_3\">\n      <path d=\"M 328.157811 370.477812 \nL 328.157811 37.837812 \n\" clip-path=\"url(#p4e1194d091)\" style=\"fill: none; stroke: #ffffff; stroke-linecap: round\"/>\n     </g>\n     <g id=\"text_3\">\n      <!-- Positive Events -->\n      <g style=\"fill: #262626\" transform=\"translate(261.712512 451.14495) rotate(-45) scale(0.121 -0.121)\">\n       <defs>\n        <path id=\"DejaVuSans-76\" d=\"M 191 3500 \nL 800 3500 \nL 1894 563 \nL 2988 3500 \nL 3597 3500 \nL 2284 0 \nL 1503 0 \nL 191 3500 \nz\n\" transform=\"scale(0.015625)\"/>\n        <path id=\"DejaVuSans-45\" d=\"M 628 4666 \nL 3578 4666 \nL 3578 4134 \nL 1259 4134 \nL 1259 2753 \nL 3481 2753 \nL 3481 2222 \nL 1259 2222 \nL 1259 531 \nL 3634 531 \nL 3634 0 \nL 628 0 \nL 628 4666 \nz\n\" transform=\"scale(0.015625)\"/>\n       </defs>\n       <use xlink:href=\"#DejaVuSans-50\"/>\n       <use xlink:href=\"#DejaVuSans-6f\" x=\"56.677734\"/>\n       <use xlink:href=\"#DejaVuSans-73\" x=\"117.859375\"/>\n       <use xlink:href=\"#DejaVuSans-69\" x=\"169.958984\"/>\n       <use xlink:href=\"#DejaVuSans-74\" x=\"197.742188\"/>\n       <use xlink:href=\"#DejaVuSans-69\" x=\"236.951172\"/>\n       <use xlink:href=\"#DejaVuSans-76\" x=\"264.734375\"/>\n       <use xlink:href=\"#DejaVuSans-65\" x=\"323.914062\"/>\n       <use xlink:href=\"#DejaVuSans-20\" x=\"385.4375\"/>\n       <use xlink:href=\"#DejaVuSans-45\" x=\"417.224609\"/>\n       <use xlink:href=\"#DejaVuSans-76\" x=\"480.408203\"/>\n       <use xlink:href=\"#DejaVuSans-65\" x=\"539.587891\"/>\n       <use xlink:href=\"#DejaVuSans-6e\" x=\"601.111328\"/>\n       <use xlink:href=\"#DejaVuSans-74\" x=\"664.490234\"/>\n       <use xlink:href=\"#DejaVuSans-73\" x=\"703.699219\"/>\n      </g>\n     </g>\n    </g>\n    <g id=\"xtick_4\">\n     <g id=\"line2d_4\">\n      <path d=\"M 399.581811 370.477812 \nL 399.581811 37.837812 \n\" clip-path=\"url(#p4e1194d091)\" style=\"fill: none; stroke: #ffffff; stroke-linecap: round\"/>\n     </g>\n     <g id=\"text_4\">\n      <!-- Security Issues -->\n      <g style=\"fill: #262626\" transform=\"translate(333.365117 450.916345) rotate(-45) scale(0.121 -0.121)\">\n       <defs>\n        <path id=\"DejaVuSans-53\" d=\"M 3425 4513 \nL 3425 3897 \nQ 3066 4069 2747 4153 \nQ 2428 4238 2131 4238 \nQ 1616 4238 1336 4038 \nQ 1056 3838 1056 3469 \nQ 1056 3159 1242 3001 \nQ 1428 2844 1947 2747 \nL 2328 2669 \nQ 3034 2534 3370 2195 \nQ 3706 1856 3706 1288 \nQ 3706 609 3251 259 \nQ 2797 -91 1919 -91 \nQ 1588 -91 1214 -16 \nQ 841 59 441 206 \nL 441 856 \nQ 825 641 1194 531 \nQ 1563 422 1919 422 \nQ 2459 422 2753 634 \nQ 3047 847 3047 1241 \nQ 3047 1584 2836 1778 \nQ 2625 1972 2144 2069 \nL 1759 2144 \nQ 1053 2284 737 2584 \nQ 422 2884 422 3419 \nQ 422 4038 858 4394 \nQ 1294 4750 2059 4750 \nQ 2388 4750 2728 4690 \nQ 3069 4631 3425 4513 \nz\n\" transform=\"scale(0.015625)\"/>\n        <path id=\"DejaVuSans-72\" d=\"M 2631 2963 \nQ 2534 3019 2420 3045 \nQ 2306 3072 2169 3072 \nQ 1681 3072 1420 2755 \nQ 1159 2438 1159 1844 \nL 1159 0 \nL 581 0 \nL 581 3500 \nL 1159 3500 \nL 1159 2956 \nQ 1341 3275 1631 3429 \nQ 1922 3584 2338 3584 \nQ 2397 3584 2469 3576 \nQ 2541 3569 2628 3553 \nL 2631 2963 \nz\n\" transform=\"scale(0.015625)\"/>\n        <path id=\"DejaVuSans-79\" d=\"M 2059 -325 \nQ 1816 -950 1584 -1140 \nQ 1353 -1331 966 -1331 \nL 506 -1331 \nL 506 -850 \nL 844 -850 \nQ 1081 -850 1212 -737 \nQ 1344 -625 1503 -206 \nL 1606 56 \nL 191 3500 \nL 800 3500 \nL 1894 763 \nL 2988 3500 \nL 3597 3500 \nL 2059 -325 \nz\n\" transform=\"scale(0.015625)\"/>\n        <path id=\"DejaVuSans-49\" d=\"M 628 4666 \nL 1259 4666 \nL 1259 0 \nL 628 0 \nL 628 4666 \nz\n\" transform=\"scale(0.015625)\"/>\n       </defs>\n       <use xlink:href=\"#DejaVuSans-53\"/>\n       <use xlink:href=\"#DejaVuSans-65\" x=\"63.476562\"/>\n       <use xlink:href=\"#DejaVuSans-63\" x=\"125\"/>\n       <use xlink:href=\"#DejaVuSans-75\" x=\"179.980469\"/>\n       <use xlink:href=\"#DejaVuSans-72\" x=\"243.359375\"/>\n       <use xlink:href=\"#DejaVuSans-69\" x=\"284.472656\"/>\n       <use xlink:href=\"#DejaVuSans-74\" x=\"312.255859\"/>\n       <use xlink:href=\"#DejaVuSans-79\" x=\"351.464844\"/>\n       <use xlink:href=\"#DejaVuSans-20\" x=\"410.644531\"/>\n       <use xlink:href=\"#DejaVuSans-49\" x=\"442.431641\"/>\n       <use xlink:href=\"#DejaVuSans-73\" x=\"471.923828\"/>\n       <use xlink:href=\"#DejaVuSans-73\" x=\"524.023438\"/>\n       <use xlink:href=\"#DejaVuSans-75\" x=\"576.123047\"/>\n       <use xlink:href=\"#DejaVuSans-65\" x=\"639.501953\"/>\n       <use xlink:href=\"#DejaVuSans-73\" x=\"701.025391\"/>\n      </g>\n     </g>\n    </g>\n    <g id=\"xtick_5\">\n     <g id=\"line2d_5\">\n      <path d=\"M 471.005811 370.477812 \nL 471.005811 37.837812 \n\" clip-path=\"url(#p4e1194d091)\" style=\"fill: none; stroke: #ffffff; stroke-linecap: round\"/>\n     </g>\n     <g id=\"text_5\">\n      <!-- Voting Issues -->\n      <g style=\"fill: #262626\" transform=\"translate(412.914636 442.790826) rotate(-45) scale(0.121 -0.121)\">\n       <defs>\n        <path id=\"DejaVuSans-56\" d=\"M 1831 0 \nL 50 4666 \nL 709 4666 \nL 2188 738 \nL 3669 4666 \nL 4325 4666 \nL 2547 0 \nL 1831 0 \nz\n\" transform=\"scale(0.015625)\"/>\n       </defs>\n       <use xlink:href=\"#DejaVuSans-56\"/>\n       <use xlink:href=\"#DejaVuSans-6f\" x=\"60.658203\"/>\n       <use xlink:href=\"#DejaVuSans-74\" x=\"121.839844\"/>\n       <use xlink:href=\"#DejaVuSans-69\" x=\"161.048828\"/>\n       <use xlink:href=\"#DejaVuSans-6e\" x=\"188.832031\"/>\n       <use xlink:href=\"#DejaVuSans-67\" x=\"252.210938\"/>\n       <use xlink:href=\"#DejaVuSans-20\" x=\"315.6875\"/>\n       <use xlink:href=\"#DejaVuSans-49\" x=\"347.474609\"/>\n       <use xlink:href=\"#DejaVuSans-73\" x=\"376.966797\"/>\n       <use xlink:href=\"#DejaVuSans-73\" x=\"429.066406\"/>\n       <use xlink:href=\"#DejaVuSans-75\" x=\"481.166016\"/>\n       <use xlink:href=\"#DejaVuSans-65\" x=\"544.544922\"/>\n       <use xlink:href=\"#DejaVuSans-73\" x=\"606.068359\"/>\n      </g>\n     </g>\n    </g>\n    <g id=\"text_6\">\n     <!-- Predicted Label -->\n     <g style=\"fill: #262626\" transform=\"translate(274.188905 509.964061) scale(0.14 -0.14)\">\n      <defs>\n       <path id=\"DejaVuSans-4c\" d=\"M 628 4666 \nL 1259 4666 \nL 1259 531 \nL 3531 531 \nL 3531 0 \nL 628 0 \nL 628 4666 \nz\n\" transform=\"scale(0.015625)\"/>\n       <path id=\"DejaVuSans-62\" d=\"M 3116 1747 \nQ 3116 2381 2855 2742 \nQ 2594 3103 2138 3103 \nQ 1681 3103 1420 2742 \nQ 1159 2381 1159 1747 \nQ 1159 1113 1420 752 \nQ 1681 391 2138 391 \nQ 2594 391 2855 752 \nQ 3116 1113 3116 1747 \nz\nM 1159 2969 \nQ 1341 3281 1617 3432 \nQ 1894 3584 2278 3584 \nQ 2916 3584 3314 3078 \nQ 3713 2572 3713 1747 \nQ 3713 922 3314 415 \nQ 2916 -91 2278 -91 \nQ 1894 -91 1617 61 \nQ 1341 213 1159 525 \nL 1159 0 \nL 581 0 \nL 581 4863 \nL 1159 4863 \nL 1159 2969 \nz\n\" transform=\"scale(0.015625)\"/>\n      </defs>\n      <use xlink:href=\"#DejaVuSans-50\"/>\n      <use xlink:href=\"#DejaVuSans-72\" x=\"58.552734\"/>\n      <use xlink:href=\"#DejaVuSans-65\" x=\"97.416016\"/>\n      <use xlink:href=\"#DejaVuSans-64\" x=\"158.939453\"/>\n      <use xlink:href=\"#DejaVuSans-69\" x=\"222.416016\"/>\n      <use xlink:href=\"#DejaVuSans-63\" x=\"250.199219\"/>\n      <use xlink:href=\"#DejaVuSans-74\" x=\"305.179688\"/>\n      <use xlink:href=\"#DejaVuSans-65\" x=\"344.388672\"/>\n      <use xlink:href=\"#DejaVuSans-64\" x=\"405.912109\"/>\n      <use xlink:href=\"#DejaVuSans-20\" x=\"469.388672\"/>\n      <use xlink:href=\"#DejaVuSans-4c\" x=\"501.175781\"/>\n      <use xlink:href=\"#DejaVuSans-61\" x=\"556.888672\"/>\n      <use xlink:href=\"#DejaVuSans-62\" x=\"618.167969\"/>\n      <use xlink:href=\"#DejaVuSans-65\" x=\"681.644531\"/>\n      <use xlink:href=\"#DejaVuSans-6c\" x=\"743.167969\"/>\n     </g>\n    </g>\n   </g>\n   <g id=\"matplotlib.axis_2\">\n    <g id=\"ytick_1\">\n     <g id=\"line2d_6\">\n      <path d=\"M 149.597811 71.101812 \nL 506.717811 71.101812 \n\" clip-path=\"url(#p4e1194d091)\" style=\"fill: none; stroke: #ffffff; stroke-linecap: round\"/>\n     </g>\n     <g id=\"text_7\">\n      <!-- Counting and Results -->\n      <g style=\"fill: #262626\" transform=\"translate(47.250592 118.996652) rotate(-45) scale(0.121 -0.121)\">\n       <use xlink:href=\"#DejaVuSans-43\"/>\n       <use xlink:href=\"#DejaVuSans-6f\" x=\"69.824219\"/>\n       <use xlink:href=\"#DejaVuSans-75\" x=\"131.005859\"/>\n       <use xlink:href=\"#DejaVuSans-6e\" x=\"194.384766\"/>\n       <use xlink:href=\"#DejaVuSans-74\" x=\"257.763672\"/>\n       <use xlink:href=\"#DejaVuSans-69\" x=\"296.972656\"/>\n       <use xlink:href=\"#DejaVuSans-6e\" x=\"324.755859\"/>\n       <use xlink:href=\"#DejaVuSans-67\" x=\"388.134766\"/>\n       <use xlink:href=\"#DejaVuSans-20\" x=\"451.611328\"/>\n       <use xlink:href=\"#DejaVuSans-61\" x=\"483.398438\"/>\n       <use xlink:href=\"#DejaVuSans-6e\" x=\"544.677734\"/>\n       <use xlink:href=\"#DejaVuSans-64\" x=\"608.056641\"/>\n       <use xlink:href=\"#DejaVuSans-20\" x=\"671.533203\"/>\n       <use xlink:href=\"#DejaVuSans-52\" x=\"703.320312\"/>\n       <use xlink:href=\"#DejaVuSans-65\" x=\"768.302734\"/>\n       <use xlink:href=\"#DejaVuSans-73\" x=\"829.826172\"/>\n       <use xlink:href=\"#DejaVuSans-75\" x=\"881.925781\"/>\n       <use xlink:href=\"#DejaVuSans-6c\" x=\"945.304688\"/>\n       <use xlink:href=\"#DejaVuSans-74\" x=\"973.087891\"/>\n       <use xlink:href=\"#DejaVuSans-73\" x=\"1012.296875\"/>\n      </g>\n     </g>\n    </g>\n    <g id=\"ytick_2\">\n     <g id=\"line2d_7\">\n      <path d=\"M 149.597811 137.629812 \nL 506.717811 137.629812 \n\" clip-path=\"url(#p4e1194d091)\" style=\"fill: none; stroke: #ffffff; stroke-linecap: round\"/>\n     </g>\n     <g id=\"text_8\">\n      <!-- Political Rallies -->\n      <g style=\"fill: #262626\" transform=\"translate(74.857035 171.72143) rotate(-45) scale(0.121 -0.121)\">\n       <use xlink:href=\"#DejaVuSans-50\"/>\n       <use xlink:href=\"#DejaVuSans-6f\" x=\"56.677734\"/>\n       <use xlink:href=\"#DejaVuSans-6c\" x=\"117.859375\"/>\n       <use xlink:href=\"#DejaVuSans-69\" x=\"145.642578\"/>\n       <use xlink:href=\"#DejaVuSans-74\" x=\"173.425781\"/>\n       <use xlink:href=\"#DejaVuSans-69\" x=\"212.634766\"/>\n       <use xlink:href=\"#DejaVuSans-63\" x=\"240.417969\"/>\n       <use xlink:href=\"#DejaVuSans-61\" x=\"295.398438\"/>\n       <use xlink:href=\"#DejaVuSans-6c\" x=\"356.677734\"/>\n       <use xlink:href=\"#DejaVuSans-20\" x=\"384.460938\"/>\n       <use xlink:href=\"#DejaVuSans-52\" x=\"416.248047\"/>\n       <use xlink:href=\"#DejaVuSans-61\" x=\"483.480469\"/>\n       <use xlink:href=\"#DejaVuSans-6c\" x=\"544.759766\"/>\n       <use xlink:href=\"#DejaVuSans-6c\" x=\"572.542969\"/>\n       <use xlink:href=\"#DejaVuSans-69\" x=\"600.326172\"/>\n       <use xlink:href=\"#DejaVuSans-65\" x=\"628.109375\"/>\n       <use xlink:href=\"#DejaVuSans-73\" x=\"689.632812\"/>\n      </g>\n     </g>\n    </g>\n    <g id=\"ytick_3\">\n     <g id=\"line2d_8\">\n      <path d=\"M 149.597811 204.157812 \nL 506.717811 204.157812 \n\" clip-path=\"url(#p4e1194d091)\" style=\"fill: none; stroke: #ffffff; stroke-linecap: round\"/>\n     </g>\n     <g id=\"text_9\">\n      <!-- Positive Events -->\n      <g style=\"fill: #262626\" transform=\"translate(73.652512 238.851692) rotate(-45) scale(0.121 -0.121)\">\n       <use xlink:href=\"#DejaVuSans-50\"/>\n       <use xlink:href=\"#DejaVuSans-6f\" x=\"56.677734\"/>\n       <use xlink:href=\"#DejaVuSans-73\" x=\"117.859375\"/>\n       <use xlink:href=\"#DejaVuSans-69\" x=\"169.958984\"/>\n       <use xlink:href=\"#DejaVuSans-74\" x=\"197.742188\"/>\n       <use xlink:href=\"#DejaVuSans-69\" x=\"236.951172\"/>\n       <use xlink:href=\"#DejaVuSans-76\" x=\"264.734375\"/>\n       <use xlink:href=\"#DejaVuSans-65\" x=\"323.914062\"/>\n       <use xlink:href=\"#DejaVuSans-20\" x=\"385.4375\"/>\n       <use xlink:href=\"#DejaVuSans-45\" x=\"417.224609\"/>\n       <use xlink:href=\"#DejaVuSans-76\" x=\"480.408203\"/>\n       <use xlink:href=\"#DejaVuSans-65\" x=\"539.587891\"/>\n       <use xlink:href=\"#DejaVuSans-6e\" x=\"601.111328\"/>\n       <use xlink:href=\"#DejaVuSans-74\" x=\"664.490234\"/>\n       <use xlink:href=\"#DejaVuSans-73\" x=\"703.699219\"/>\n      </g>\n     </g>\n    </g>\n    <g id=\"ytick_4\">\n     <g id=\"line2d_9\">\n      <path d=\"M 149.597811 270.685812 \nL 506.717811 270.685812 \n\" clip-path=\"url(#p4e1194d091)\" style=\"fill: none; stroke: #ffffff; stroke-linecap: round\"/>\n     </g>\n     <g id=\"text_10\">\n      <!-- Security Issues -->\n      <g style=\"fill: #262626\" transform=\"translate(73.881117 305.265389) rotate(-45) scale(0.121 -0.121)\">\n       <use xlink:href=\"#DejaVuSans-53\"/>\n       <use xlink:href=\"#DejaVuSans-65\" x=\"63.476562\"/>\n       <use xlink:href=\"#DejaVuSans-63\" x=\"125\"/>\n       <use xlink:href=\"#DejaVuSans-75\" x=\"179.980469\"/>\n       <use xlink:href=\"#DejaVuSans-72\" x=\"243.359375\"/>\n       <use xlink:href=\"#DejaVuSans-69\" x=\"284.472656\"/>\n       <use xlink:href=\"#DejaVuSans-74\" x=\"312.255859\"/>\n       <use xlink:href=\"#DejaVuSans-79\" x=\"351.464844\"/>\n       <use xlink:href=\"#DejaVuSans-20\" x=\"410.644531\"/>\n       <use xlink:href=\"#DejaVuSans-49\" x=\"442.431641\"/>\n       <use xlink:href=\"#DejaVuSans-73\" x=\"471.923828\"/>\n       <use xlink:href=\"#DejaVuSans-73\" x=\"524.023438\"/>\n       <use xlink:href=\"#DejaVuSans-75\" x=\"576.123047\"/>\n       <use xlink:href=\"#DejaVuSans-65\" x=\"639.501953\"/>\n       <use xlink:href=\"#DejaVuSans-73\" x=\"701.025391\"/>\n      </g>\n     </g>\n    </g>\n    <g id=\"ytick_5\">\n     <g id=\"line2d_10\">\n      <path d=\"M 149.597811 337.213812 \nL 506.717811 337.213812 \n\" clip-path=\"url(#p4e1194d091)\" style=\"fill: none; stroke: #ffffff; stroke-linecap: round\"/>\n     </g>\n     <g id=\"text_11\">\n      <!-- Voting Issues -->\n      <g style=\"fill: #262626\" transform=\"translate(82.006636 367.73063) rotate(-45) scale(0.121 -0.121)\">\n       <use xlink:href=\"#DejaVuSans-56\"/>\n       <use xlink:href=\"#DejaVuSans-6f\" x=\"60.658203\"/>\n       <use xlink:href=\"#DejaVuSans-74\" x=\"121.839844\"/>\n       <use xlink:href=\"#DejaVuSans-69\" x=\"161.048828\"/>\n       <use xlink:href=\"#DejaVuSans-6e\" x=\"188.832031\"/>\n       <use xlink:href=\"#DejaVuSans-67\" x=\"252.210938\"/>\n       <use xlink:href=\"#DejaVuSans-20\" x=\"315.6875\"/>\n       <use xlink:href=\"#DejaVuSans-49\" x=\"347.474609\"/>\n       <use xlink:href=\"#DejaVuSans-73\" x=\"376.966797\"/>\n       <use xlink:href=\"#DejaVuSans-73\" x=\"429.066406\"/>\n       <use xlink:href=\"#DejaVuSans-75\" x=\"481.166016\"/>\n       <use xlink:href=\"#DejaVuSans-65\" x=\"544.544922\"/>\n       <use xlink:href=\"#DejaVuSans-73\" x=\"606.068359\"/>\n      </g>\n     </g>\n    </g>\n    <g id=\"text_12\">\n     <!-- Gold Label -->\n     <g style=\"fill: #262626\" transform=\"translate(17.837812 241.363906) rotate(-90) scale(0.14 -0.14)\">\n      <defs>\n       <path id=\"DejaVuSans-47\" d=\"M 3809 666 \nL 3809 1919 \nL 2778 1919 \nL 2778 2438 \nL 4434 2438 \nL 4434 434 \nQ 4069 175 3628 42 \nQ 3188 -91 2688 -91 \nQ 1594 -91 976 548 \nQ 359 1188 359 2328 \nQ 359 3472 976 4111 \nQ 1594 4750 2688 4750 \nQ 3144 4750 3555 4637 \nQ 3966 4525 4313 4306 \nL 4313 3634 \nQ 3963 3931 3569 4081 \nQ 3175 4231 2741 4231 \nQ 1884 4231 1454 3753 \nQ 1025 3275 1025 2328 \nQ 1025 1384 1454 906 \nQ 1884 428 2741 428 \nQ 3075 428 3337 486 \nQ 3600 544 3809 666 \nz\n\" transform=\"scale(0.015625)\"/>\n      </defs>\n      <use xlink:href=\"#DejaVuSans-47\"/>\n      <use xlink:href=\"#DejaVuSans-6f\" x=\"77.490234\"/>\n      <use xlink:href=\"#DejaVuSans-6c\" x=\"138.671875\"/>\n      <use xlink:href=\"#DejaVuSans-64\" x=\"166.455078\"/>\n      <use xlink:href=\"#DejaVuSans-20\" x=\"229.931641\"/>\n      <use xlink:href=\"#DejaVuSans-4c\" x=\"261.71875\"/>\n      <use xlink:href=\"#DejaVuSans-61\" x=\"317.431641\"/>\n      <use xlink:href=\"#DejaVuSans-62\" x=\"378.710938\"/>\n      <use xlink:href=\"#DejaVuSans-65\" x=\"442.1875\"/>\n      <use xlink:href=\"#DejaVuSans-6c\" x=\"503.710938\"/>\n     </g>\n    </g>\n   </g>\n   <g id=\"QuadMesh_1\">\n    <path d=\"M 149.597811 37.837812 \nL 221.021811 37.837812 \nL 221.021811 104.365812 \nL 149.597811 104.365812 \nL 149.597811 37.837812 \n\" clip-path=\"url(#p4e1194d091)\" style=\"fill: #faebdd\"/>\n    <path d=\"M 221.021811 37.837812 \nL 292.445811 37.837812 \nL 292.445811 104.365812 \nL 221.021811 104.365812 \nL 221.021811 37.837812 \n\" clip-path=\"url(#p4e1194d091)\" style=\"fill: #03051a\"/>\n    <path d=\"M 292.445811 37.837812 \nL 363.869811 37.837812 \nL 363.869811 104.365812 \nL 292.445811 104.365812 \nL 292.445811 37.837812 \n\" clip-path=\"url(#p4e1194d091)\" style=\"fill: #130d25\"/>\n    <path d=\"M 363.869811 37.837812 \nL 435.293811 37.837812 \nL 435.293811 104.365812 \nL 363.869811 104.365812 \nL 363.869811 37.837812 \n\" clip-path=\"url(#p4e1194d091)\" style=\"fill: #180f29\"/>\n    <path d=\"M 435.293811 37.837812 \nL 506.717811 37.837812 \nL 506.717811 104.365812 \nL 435.293811 104.365812 \nL 435.293811 37.837812 \n\" clip-path=\"url(#p4e1194d091)\" style=\"fill: #37193f\"/>\n    <path d=\"M 149.597811 104.365812 \nL 221.021811 104.365812 \nL 221.021811 170.893812 \nL 149.597811 170.893812 \nL 149.597811 104.365812 \n\" clip-path=\"url(#p4e1194d091)\" style=\"fill: #1d112c\"/>\n    <path d=\"M 221.021811 104.365812 \nL 292.445811 104.365812 \nL 292.445811 170.893812 \nL 221.021811 170.893812 \nL 221.021811 104.365812 \n\" clip-path=\"url(#p4e1194d091)\" style=\"fill: #f8d3ba\"/>\n    <path d=\"M 292.445811 104.365812 \nL 363.869811 104.365812 \nL 363.869811 170.893812 \nL 292.445811 170.893812 \nL 292.445811 104.365812 \n\" clip-path=\"url(#p4e1194d091)\" style=\"fill: #3c1a42\"/>\n    <path d=\"M 363.869811 104.365812 \nL 435.293811 104.365812 \nL 435.293811 170.893812 \nL 363.869811 170.893812 \nL 363.869811 104.365812 \n\" clip-path=\"url(#p4e1194d091)\" style=\"fill: #110c24\"/>\n    <path d=\"M 435.293811 104.365812 \nL 506.717811 104.365812 \nL 506.717811 170.893812 \nL 435.293811 170.893812 \nL 435.293811 104.365812 \n\" clip-path=\"url(#p4e1194d091)\" style=\"fill: #110c24\"/>\n    <path d=\"M 149.597811 170.893812 \nL 221.021811 170.893812 \nL 221.021811 237.421812 \nL 149.597811 237.421812 \nL 149.597811 170.893812 \n\" clip-path=\"url(#p4e1194d091)\" style=\"fill: #1d112c\"/>\n    <path d=\"M 221.021811 170.893812 \nL 292.445811 170.893812 \nL 292.445811 237.421812 \nL 221.021811 237.421812 \nL 221.021811 170.893812 \n\" clip-path=\"url(#p4e1194d091)\" style=\"fill: #180f29\"/>\n    <path d=\"M 292.445811 170.893812 \nL 363.869811 170.893812 \nL 363.869811 237.421812 \nL 292.445811 237.421812 \nL 292.445811 170.893812 \n\" clip-path=\"url(#p4e1194d091)\" style=\"fill: #f6bf9d\"/>\n    <path d=\"M 363.869811 170.893812 \nL 435.293811 170.893812 \nL 435.293811 237.421812 \nL 363.869811 237.421812 \nL 363.869811 170.893812 \n\" clip-path=\"url(#p4e1194d091)\" style=\"fill: #110c24\"/>\n    <path d=\"M 435.293811 170.893812 \nL 506.717811 170.893812 \nL 506.717811 237.421812 \nL 435.293811 237.421812 \nL 435.293811 170.893812 \n\" clip-path=\"url(#p4e1194d091)\" style=\"fill: #461c48\"/>\n    <path d=\"M 149.597811 237.421812 \nL 221.021811 237.421812 \nL 221.021811 303.949812 \nL 149.597811 303.949812 \nL 149.597811 237.421812 \n\" clip-path=\"url(#p4e1194d091)\" style=\"fill: #110c24\"/>\n    <path d=\"M 221.021811 237.421812 \nL 292.445811 237.421812 \nL 292.445811 303.949812 \nL 221.021811 303.949812 \nL 221.021811 237.421812 \n\" clip-path=\"url(#p4e1194d091)\" style=\"fill: #1a102a\"/>\n    <path d=\"M 292.445811 237.421812 \nL 363.869811 237.421812 \nL 363.869811 303.949812 \nL 292.445811 303.949812 \nL 292.445811 237.421812 \n\" clip-path=\"url(#p4e1194d091)\" style=\"fill: #160e27\"/>\n    <path d=\"M 363.869811 237.421812 \nL 435.293811 237.421812 \nL 435.293811 303.949812 \nL 363.869811 303.949812 \nL 363.869811 237.421812 \n\" clip-path=\"url(#p4e1194d091)\" style=\"fill: #f8d6be\"/>\n    <path d=\"M 435.293811 237.421812 \nL 506.717811 237.421812 \nL 506.717811 303.949812 \nL 435.293811 303.949812 \nL 435.293811 237.421812 \n\" clip-path=\"url(#p4e1194d091)\" style=\"fill: #35193e\"/>\n    <path d=\"M 149.597811 303.949812 \nL 221.021811 303.949812 \nL 221.021811 370.477812 \nL 149.597811 370.477812 \nL 149.597811 303.949812 \n\" clip-path=\"url(#p4e1194d091)\" style=\"fill: #1a102a\"/>\n    <path d=\"M 221.021811 303.949812 \nL 292.445811 303.949812 \nL 292.445811 370.477812 \nL 221.021811 370.477812 \nL 221.021811 303.949812 \n\" clip-path=\"url(#p4e1194d091)\" style=\"fill: #0b0920\"/>\n    <path d=\"M 292.445811 303.949812 \nL 363.869811 303.949812 \nL 363.869811 370.477812 \nL 292.445811 370.477812 \nL 292.445811 303.949812 \n\" clip-path=\"url(#p4e1194d091)\" style=\"fill: #211330\"/>\n    <path d=\"M 363.869811 303.949812 \nL 435.293811 303.949812 \nL 435.293811 370.477812 \nL 363.869811 370.477812 \nL 363.869811 303.949812 \n\" clip-path=\"url(#p4e1194d091)\" style=\"fill: #1b112b\"/>\n    <path d=\"M 435.293811 303.949812 \nL 506.717811 303.949812 \nL 506.717811 370.477812 \nL 435.293811 370.477812 \nL 435.293811 303.949812 \n\" clip-path=\"url(#p4e1194d091)\" style=\"fill: #faebdd\"/>\n   </g>\n   <g id=\"text_13\">\n    <!-- 78.05% -->\n    <g style=\"fill: #262626\" transform=\"translate(160.144218 74.744187) scale(0.132 -0.132)\">\n     <defs>\n      <path id=\"DejaVuSans-37\" d=\"M 525 4666 \nL 3525 4666 \nL 3525 4397 \nL 1831 0 \nL 1172 0 \nL 2766 4134 \nL 525 4134 \nL 525 4666 \nz\n\" transform=\"scale(0.015625)\"/>\n      <path id=\"DejaVuSans-38\" d=\"M 2034 2216 \nQ 1584 2216 1326 1975 \nQ 1069 1734 1069 1313 \nQ 1069 891 1326 650 \nQ 1584 409 2034 409 \nQ 2484 409 2743 651 \nQ 3003 894 3003 1313 \nQ 3003 1734 2745 1975 \nQ 2488 2216 2034 2216 \nz\nM 1403 2484 \nQ 997 2584 770 2862 \nQ 544 3141 544 3541 \nQ 544 4100 942 4425 \nQ 1341 4750 2034 4750 \nQ 2731 4750 3128 4425 \nQ 3525 4100 3525 3541 \nQ 3525 3141 3298 2862 \nQ 3072 2584 2669 2484 \nQ 3125 2378 3379 2068 \nQ 3634 1759 3634 1313 \nQ 3634 634 3220 271 \nQ 2806 -91 2034 -91 \nQ 1263 -91 848 271 \nQ 434 634 434 1313 \nQ 434 1759 690 2068 \nQ 947 2378 1403 2484 \nz\nM 1172 3481 \nQ 1172 3119 1398 2916 \nQ 1625 2713 2034 2713 \nQ 2441 2713 2670 2916 \nQ 2900 3119 2900 3481 \nQ 2900 3844 2670 4047 \nQ 2441 4250 2034 4250 \nQ 1625 4250 1398 4047 \nQ 1172 3844 1172 3481 \nz\n\" transform=\"scale(0.015625)\"/>\n      <path id=\"DejaVuSans-2e\" d=\"M 684 794 \nL 1344 794 \nL 1344 0 \nL 684 0 \nL 684 794 \nz\n\" transform=\"scale(0.015625)\"/>\n      <path id=\"DejaVuSans-30\" d=\"M 2034 4250 \nQ 1547 4250 1301 3770 \nQ 1056 3291 1056 2328 \nQ 1056 1369 1301 889 \nQ 1547 409 2034 409 \nQ 2525 409 2770 889 \nQ 3016 1369 3016 2328 \nQ 3016 3291 2770 3770 \nQ 2525 4250 2034 4250 \nz\nM 2034 4750 \nQ 2819 4750 3233 4129 \nQ 3647 3509 3647 2328 \nQ 3647 1150 3233 529 \nQ 2819 -91 2034 -91 \nQ 1250 -91 836 529 \nQ 422 1150 422 2328 \nQ 422 3509 836 4129 \nQ 1250 4750 2034 4750 \nz\n\" transform=\"scale(0.015625)\"/>\n      <path id=\"DejaVuSans-35\" d=\"M 691 4666 \nL 3169 4666 \nL 3169 4134 \nL 1269 4134 \nL 1269 2991 \nQ 1406 3038 1543 3061 \nQ 1681 3084 1819 3084 \nQ 2600 3084 3056 2656 \nQ 3513 2228 3513 1497 \nQ 3513 744 3044 326 \nQ 2575 -91 1722 -91 \nQ 1428 -91 1123 -41 \nQ 819 9 494 109 \nL 494 744 \nQ 775 591 1075 516 \nQ 1375 441 1709 441 \nQ 2250 441 2565 725 \nQ 2881 1009 2881 1497 \nQ 2881 1984 2565 2268 \nQ 2250 2553 1709 2553 \nQ 1456 2553 1204 2497 \nQ 953 2441 691 2322 \nL 691 4666 \nz\n\" transform=\"scale(0.015625)\"/>\n      <path id=\"DejaVuSans-25\" d=\"M 4653 2053 \nQ 4381 2053 4226 1822 \nQ 4072 1591 4072 1178 \nQ 4072 772 4226 539 \nQ 4381 306 4653 306 \nQ 4919 306 5073 539 \nQ 5228 772 5228 1178 \nQ 5228 1588 5073 1820 \nQ 4919 2053 4653 2053 \nz\nM 4653 2450 \nQ 5147 2450 5437 2106 \nQ 5728 1763 5728 1178 \nQ 5728 594 5436 251 \nQ 5144 -91 4653 -91 \nQ 4153 -91 3862 251 \nQ 3572 594 3572 1178 \nQ 3572 1766 3864 2108 \nQ 4156 2450 4653 2450 \nz\nM 1428 4353 \nQ 1159 4353 1004 4120 \nQ 850 3888 850 3481 \nQ 850 3069 1003 2837 \nQ 1156 2606 1428 2606 \nQ 1700 2606 1854 2837 \nQ 2009 3069 2009 3481 \nQ 2009 3884 1853 4118 \nQ 1697 4353 1428 4353 \nz\nM 4250 4750 \nL 4750 4750 \nL 1831 -91 \nL 1331 -91 \nL 4250 4750 \nz\nM 1428 4750 \nQ 1922 4750 2215 4408 \nQ 2509 4066 2509 3481 \nQ 2509 2891 2217 2550 \nQ 1925 2209 1428 2209 \nQ 931 2209 642 2551 \nQ 353 2894 353 3481 \nQ 353 4063 643 4406 \nQ 934 4750 1428 4750 \nz\n\" transform=\"scale(0.015625)\"/>\n     </defs>\n     <use xlink:href=\"#DejaVuSans-37\"/>\n     <use xlink:href=\"#DejaVuSans-38\" x=\"63.623047\"/>\n     <use xlink:href=\"#DejaVuSans-2e\" x=\"127.246094\"/>\n     <use xlink:href=\"#DejaVuSans-30\" x=\"159.033203\"/>\n     <use xlink:href=\"#DejaVuSans-35\" x=\"222.65625\"/>\n     <use xlink:href=\"#DejaVuSans-25\" x=\"286.279297\"/>\n    </g>\n   </g>\n   <g id=\"text_14\">\n    <!-- 0.49% -->\n    <g style=\"fill: #ffffff\" transform=\"translate(235.767468 74.744187) scale(0.132 -0.132)\">\n     <defs>\n      <path id=\"DejaVuSans-34\" d=\"M 2419 4116 \nL 825 1625 \nL 2419 1625 \nL 2419 4116 \nz\nM 2253 4666 \nL 3047 4666 \nL 3047 1625 \nL 3713 1625 \nL 3713 1100 \nL 3047 1100 \nL 3047 0 \nL 2419 0 \nL 2419 1100 \nL 313 1100 \nL 313 1709 \nL 2253 4666 \nz\n\" transform=\"scale(0.015625)\"/>\n      <path id=\"DejaVuSans-39\" d=\"M 703 97 \nL 703 672 \nQ 941 559 1184 500 \nQ 1428 441 1663 441 \nQ 2288 441 2617 861 \nQ 2947 1281 2994 2138 \nQ 2813 1869 2534 1725 \nQ 2256 1581 1919 1581 \nQ 1219 1581 811 2004 \nQ 403 2428 403 3163 \nQ 403 3881 828 4315 \nQ 1253 4750 1959 4750 \nQ 2769 4750 3195 4129 \nQ 3622 3509 3622 2328 \nQ 3622 1225 3098 567 \nQ 2575 -91 1691 -91 \nQ 1453 -91 1209 -44 \nQ 966 3 703 97 \nz\nM 1959 2075 \nQ 2384 2075 2632 2365 \nQ 2881 2656 2881 3163 \nQ 2881 3666 2632 3958 \nQ 2384 4250 1959 4250 \nQ 1534 4250 1286 3958 \nQ 1038 3666 1038 3163 \nQ 1038 2656 1286 2365 \nQ 1534 2075 1959 2075 \nz\n\" transform=\"scale(0.015625)\"/>\n     </defs>\n     <use xlink:href=\"#DejaVuSans-30\"/>\n     <use xlink:href=\"#DejaVuSans-2e\" x=\"63.623047\"/>\n     <use xlink:href=\"#DejaVuSans-34\" x=\"95.410156\"/>\n     <use xlink:href=\"#DejaVuSans-39\" x=\"159.033203\"/>\n     <use xlink:href=\"#DejaVuSans-25\" x=\"222.65625\"/>\n    </g>\n   </g>\n   <g id=\"text_15\">\n    <!-- 4.39% -->\n    <g style=\"fill: #ffffff\" transform=\"translate(307.191468 74.744187) scale(0.132 -0.132)\">\n     <defs>\n      <path id=\"DejaVuSans-33\" d=\"M 2597 2516 \nQ 3050 2419 3304 2112 \nQ 3559 1806 3559 1356 \nQ 3559 666 3084 287 \nQ 2609 -91 1734 -91 \nQ 1441 -91 1130 -33 \nQ 819 25 488 141 \nL 488 750 \nQ 750 597 1062 519 \nQ 1375 441 1716 441 \nQ 2309 441 2620 675 \nQ 2931 909 2931 1356 \nQ 2931 1769 2642 2001 \nQ 2353 2234 1838 2234 \nL 1294 2234 \nL 1294 2753 \nL 1863 2753 \nQ 2328 2753 2575 2939 \nQ 2822 3125 2822 3475 \nQ 2822 3834 2567 4026 \nQ 2313 4219 1838 4219 \nQ 1578 4219 1281 4162 \nQ 984 4106 628 3988 \nL 628 4550 \nQ 988 4650 1302 4700 \nQ 1616 4750 1894 4750 \nQ 2613 4750 3031 4423 \nQ 3450 4097 3450 3541 \nQ 3450 3153 3228 2886 \nQ 3006 2619 2597 2516 \nz\n\" transform=\"scale(0.015625)\"/>\n     </defs>\n     <use xlink:href=\"#DejaVuSans-34\"/>\n     <use xlink:href=\"#DejaVuSans-2e\" x=\"63.623047\"/>\n     <use xlink:href=\"#DejaVuSans-33\" x=\"95.410156\"/>\n     <use xlink:href=\"#DejaVuSans-39\" x=\"159.033203\"/>\n     <use xlink:href=\"#DejaVuSans-25\" x=\"222.65625\"/>\n    </g>\n   </g>\n   <g id=\"text_16\">\n    <!-- 5.37% -->\n    <g style=\"fill: #ffffff\" transform=\"translate(378.615468 74.744187) scale(0.132 -0.132)\">\n     <use xlink:href=\"#DejaVuSans-35\"/>\n     <use xlink:href=\"#DejaVuSans-2e\" x=\"63.623047\"/>\n     <use xlink:href=\"#DejaVuSans-33\" x=\"95.410156\"/>\n     <use xlink:href=\"#DejaVuSans-37\" x=\"159.033203\"/>\n     <use xlink:href=\"#DejaVuSans-25\" x=\"222.65625\"/>\n    </g>\n   </g>\n   <g id=\"text_17\">\n    <!-- 11.71% -->\n    <g style=\"fill: #ffffff\" transform=\"translate(445.840218 74.744187) scale(0.132 -0.132)\">\n     <defs>\n      <path id=\"DejaVuSans-31\" d=\"M 794 531 \nL 1825 531 \nL 1825 4091 \nL 703 3866 \nL 703 4441 \nL 1819 4666 \nL 2450 4666 \nL 2450 531 \nL 3481 531 \nL 3481 0 \nL 794 0 \nL 794 531 \nz\n\" transform=\"scale(0.015625)\"/>\n     </defs>\n     <use xlink:href=\"#DejaVuSans-31\"/>\n     <use xlink:href=\"#DejaVuSans-31\" x=\"63.623047\"/>\n     <use xlink:href=\"#DejaVuSans-2e\" x=\"127.246094\"/>\n     <use xlink:href=\"#DejaVuSans-37\" x=\"159.033203\"/>\n     <use xlink:href=\"#DejaVuSans-31\" x=\"222.65625\"/>\n     <use xlink:href=\"#DejaVuSans-25\" x=\"286.279297\"/>\n    </g>\n   </g>\n   <g id=\"text_18\">\n    <!-- 6.41% -->\n    <g style=\"fill: #ffffff\" transform=\"translate(164.343468 141.272187) scale(0.132 -0.132)\">\n     <defs>\n      <path id=\"DejaVuSans-36\" d=\"M 2113 2584 \nQ 1688 2584 1439 2293 \nQ 1191 2003 1191 1497 \nQ 1191 994 1439 701 \nQ 1688 409 2113 409 \nQ 2538 409 2786 701 \nQ 3034 994 3034 1497 \nQ 3034 2003 2786 2293 \nQ 2538 2584 2113 2584 \nz\nM 3366 4563 \nL 3366 3988 \nQ 3128 4100 2886 4159 \nQ 2644 4219 2406 4219 \nQ 1781 4219 1451 3797 \nQ 1122 3375 1075 2522 \nQ 1259 2794 1537 2939 \nQ 1816 3084 2150 3084 \nQ 2853 3084 3261 2657 \nQ 3669 2231 3669 1497 \nQ 3669 778 3244 343 \nQ 2819 -91 2113 -91 \nQ 1303 -91 875 529 \nQ 447 1150 447 2328 \nQ 447 3434 972 4092 \nQ 1497 4750 2381 4750 \nQ 2619 4750 2861 4703 \nQ 3103 4656 3366 4563 \nz\n\" transform=\"scale(0.015625)\"/>\n     </defs>\n     <use xlink:href=\"#DejaVuSans-36\"/>\n     <use xlink:href=\"#DejaVuSans-2e\" x=\"63.623047\"/>\n     <use xlink:href=\"#DejaVuSans-34\" x=\"95.410156\"/>\n     <use xlink:href=\"#DejaVuSans-31\" x=\"159.033203\"/>\n     <use xlink:href=\"#DejaVuSans-25\" x=\"222.65625\"/>\n    </g>\n   </g>\n   <g id=\"text_19\">\n    <!-- 73.08% -->\n    <g style=\"fill: #262626\" transform=\"translate(231.568218 141.272187) scale(0.132 -0.132)\">\n     <use xlink:href=\"#DejaVuSans-37\"/>\n     <use xlink:href=\"#DejaVuSans-33\" x=\"63.623047\"/>\n     <use xlink:href=\"#DejaVuSans-2e\" x=\"127.246094\"/>\n     <use xlink:href=\"#DejaVuSans-30\" x=\"159.033203\"/>\n     <use xlink:href=\"#DejaVuSans-38\" x=\"222.65625\"/>\n     <use xlink:href=\"#DejaVuSans-25\" x=\"286.279297\"/>\n    </g>\n   </g>\n   <g id=\"text_20\">\n    <!-- 12.82% -->\n    <g style=\"fill: #ffffff\" transform=\"translate(302.992218 141.272187) scale(0.132 -0.132)\">\n     <defs>\n      <path id=\"DejaVuSans-32\" d=\"M 1228 531 \nL 3431 531 \nL 3431 0 \nL 469 0 \nL 469 531 \nQ 828 903 1448 1529 \nQ 2069 2156 2228 2338 \nQ 2531 2678 2651 2914 \nQ 2772 3150 2772 3378 \nQ 2772 3750 2511 3984 \nQ 2250 4219 1831 4219 \nQ 1534 4219 1204 4116 \nQ 875 4013 500 3803 \nL 500 4441 \nQ 881 4594 1212 4672 \nQ 1544 4750 1819 4750 \nQ 2544 4750 2975 4387 \nQ 3406 4025 3406 3419 \nQ 3406 3131 3298 2873 \nQ 3191 2616 2906 2266 \nQ 2828 2175 2409 1742 \nQ 1991 1309 1228 531 \nz\n\" transform=\"scale(0.015625)\"/>\n     </defs>\n     <use xlink:href=\"#DejaVuSans-31\"/>\n     <use xlink:href=\"#DejaVuSans-32\" x=\"63.623047\"/>\n     <use xlink:href=\"#DejaVuSans-2e\" x=\"127.246094\"/>\n     <use xlink:href=\"#DejaVuSans-38\" x=\"159.033203\"/>\n     <use xlink:href=\"#DejaVuSans-32\" x=\"222.65625\"/>\n     <use xlink:href=\"#DejaVuSans-25\" x=\"286.279297\"/>\n    </g>\n   </g>\n   <g id=\"text_21\">\n    <!-- 3.85% -->\n    <g style=\"fill: #ffffff\" transform=\"translate(378.615468 141.272187) scale(0.132 -0.132)\">\n     <use xlink:href=\"#DejaVuSans-33\"/>\n     <use xlink:href=\"#DejaVuSans-2e\" x=\"63.623047\"/>\n     <use xlink:href=\"#DejaVuSans-38\" x=\"95.410156\"/>\n     <use xlink:href=\"#DejaVuSans-35\" x=\"159.033203\"/>\n     <use xlink:href=\"#DejaVuSans-25\" x=\"222.65625\"/>\n    </g>\n   </g>\n   <g id=\"text_22\">\n    <!-- 3.85% -->\n    <g style=\"fill: #ffffff\" transform=\"translate(450.039468 141.272187) scale(0.132 -0.132)\">\n     <use xlink:href=\"#DejaVuSans-33\"/>\n     <use xlink:href=\"#DejaVuSans-2e\" x=\"63.623047\"/>\n     <use xlink:href=\"#DejaVuSans-38\" x=\"95.410156\"/>\n     <use xlink:href=\"#DejaVuSans-35\" x=\"159.033203\"/>\n     <use xlink:href=\"#DejaVuSans-25\" x=\"222.65625\"/>\n    </g>\n   </g>\n   <g id=\"text_23\">\n    <!-- 6.41% -->\n    <g style=\"fill: #ffffff\" transform=\"translate(164.343468 207.800187) scale(0.132 -0.132)\">\n     <use xlink:href=\"#DejaVuSans-36\"/>\n     <use xlink:href=\"#DejaVuSans-2e\" x=\"63.623047\"/>\n     <use xlink:href=\"#DejaVuSans-34\" x=\"95.410156\"/>\n     <use xlink:href=\"#DejaVuSans-31\" x=\"159.033203\"/>\n     <use xlink:href=\"#DejaVuSans-25\" x=\"222.65625\"/>\n    </g>\n   </g>\n   <g id=\"text_24\">\n    <!-- 5.54% -->\n    <g style=\"fill: #ffffff\" transform=\"translate(235.767468 207.800187) scale(0.132 -0.132)\">\n     <use xlink:href=\"#DejaVuSans-35\"/>\n     <use xlink:href=\"#DejaVuSans-2e\" x=\"63.623047\"/>\n     <use xlink:href=\"#DejaVuSans-35\" x=\"95.410156\"/>\n     <use xlink:href=\"#DejaVuSans-34\" x=\"159.033203\"/>\n     <use xlink:href=\"#DejaVuSans-25\" x=\"222.65625\"/>\n    </g>\n   </g>\n   <g id=\"text_25\">\n    <!-- 69.10% -->\n    <g style=\"fill: #262626\" transform=\"translate(302.992218 207.800187) scale(0.132 -0.132)\">\n     <use xlink:href=\"#DejaVuSans-36\"/>\n     <use xlink:href=\"#DejaVuSans-39\" x=\"63.623047\"/>\n     <use xlink:href=\"#DejaVuSans-2e\" x=\"127.246094\"/>\n     <use xlink:href=\"#DejaVuSans-31\" x=\"159.033203\"/>\n     <use xlink:href=\"#DejaVuSans-30\" x=\"222.65625\"/>\n     <use xlink:href=\"#DejaVuSans-25\" x=\"286.279297\"/>\n    </g>\n   </g>\n   <g id=\"text_26\">\n    <!-- 4.08% -->\n    <g style=\"fill: #ffffff\" transform=\"translate(378.615468 207.800187) scale(0.132 -0.132)\">\n     <use xlink:href=\"#DejaVuSans-34\"/>\n     <use xlink:href=\"#DejaVuSans-2e\" x=\"63.623047\"/>\n     <use xlink:href=\"#DejaVuSans-30\" x=\"95.410156\"/>\n     <use xlink:href=\"#DejaVuSans-38\" x=\"159.033203\"/>\n     <use xlink:href=\"#DejaVuSans-25\" x=\"222.65625\"/>\n    </g>\n   </g>\n   <g id=\"text_27\">\n    <!-- 14.87% -->\n    <g style=\"fill: #ffffff\" transform=\"translate(445.840218 207.800187) scale(0.132 -0.132)\">\n     <use xlink:href=\"#DejaVuSans-31\"/>\n     <use xlink:href=\"#DejaVuSans-34\" x=\"63.623047\"/>\n     <use xlink:href=\"#DejaVuSans-2e\" x=\"127.246094\"/>\n     <use xlink:href=\"#DejaVuSans-38\" x=\"159.033203\"/>\n     <use xlink:href=\"#DejaVuSans-37\" x=\"222.65625\"/>\n     <use xlink:href=\"#DejaVuSans-25\" x=\"286.279297\"/>\n    </g>\n   </g>\n   <g id=\"text_28\">\n    <!-- 4.10% -->\n    <g style=\"fill: #ffffff\" transform=\"translate(164.343468 274.328187) scale(0.132 -0.132)\">\n     <use xlink:href=\"#DejaVuSans-34\"/>\n     <use xlink:href=\"#DejaVuSans-2e\" x=\"63.623047\"/>\n     <use xlink:href=\"#DejaVuSans-31\" x=\"95.410156\"/>\n     <use xlink:href=\"#DejaVuSans-30\" x=\"159.033203\"/>\n     <use xlink:href=\"#DejaVuSans-25\" x=\"222.65625\"/>\n    </g>\n   </g>\n   <g id=\"text_29\">\n    <!-- 5.74% -->\n    <g style=\"fill: #ffffff\" transform=\"translate(235.767468 274.328187) scale(0.132 -0.132)\">\n     <use xlink:href=\"#DejaVuSans-35\"/>\n     <use xlink:href=\"#DejaVuSans-2e\" x=\"63.623047\"/>\n     <use xlink:href=\"#DejaVuSans-37\" x=\"95.410156\"/>\n     <use xlink:href=\"#DejaVuSans-34\" x=\"159.033203\"/>\n     <use xlink:href=\"#DejaVuSans-25\" x=\"222.65625\"/>\n    </g>\n   </g>\n   <g id=\"text_30\">\n    <!-- 4.92% -->\n    <g style=\"fill: #ffffff\" transform=\"translate(307.191468 274.328187) scale(0.132 -0.132)\">\n     <use xlink:href=\"#DejaVuSans-34\"/>\n     <use xlink:href=\"#DejaVuSans-2e\" x=\"63.623047\"/>\n     <use xlink:href=\"#DejaVuSans-39\" x=\"95.410156\"/>\n     <use xlink:href=\"#DejaVuSans-32\" x=\"159.033203\"/>\n     <use xlink:href=\"#DejaVuSans-25\" x=\"222.65625\"/>\n    </g>\n   </g>\n   <g id=\"text_31\">\n    <!-- 73.77% -->\n    <g style=\"fill: #262626\" transform=\"translate(374.416218 274.328187) scale(0.132 -0.132)\">\n     <use xlink:href=\"#DejaVuSans-37\"/>\n     <use xlink:href=\"#DejaVuSans-33\" x=\"63.623047\"/>\n     <use xlink:href=\"#DejaVuSans-2e\" x=\"127.246094\"/>\n     <use xlink:href=\"#DejaVuSans-37\" x=\"159.033203\"/>\n     <use xlink:href=\"#DejaVuSans-37\" x=\"222.65625\"/>\n     <use xlink:href=\"#DejaVuSans-25\" x=\"286.279297\"/>\n    </g>\n   </g>\n   <g id=\"text_32\">\n    <!-- 11.48% -->\n    <g style=\"fill: #ffffff\" transform=\"translate(445.840218 274.328187) scale(0.132 -0.132)\">\n     <use xlink:href=\"#DejaVuSans-31\"/>\n     <use xlink:href=\"#DejaVuSans-31\" x=\"63.623047\"/>\n     <use xlink:href=\"#DejaVuSans-2e\" x=\"127.246094\"/>\n     <use xlink:href=\"#DejaVuSans-34\" x=\"159.033203\"/>\n     <use xlink:href=\"#DejaVuSans-38\" x=\"222.65625\"/>\n     <use xlink:href=\"#DejaVuSans-25\" x=\"286.279297\"/>\n    </g>\n   </g>\n   <g id=\"text_33\">\n    <!-- 5.70% -->\n    <g style=\"fill: #ffffff\" transform=\"translate(164.343468 340.856187) scale(0.132 -0.132)\">\n     <use xlink:href=\"#DejaVuSans-35\"/>\n     <use xlink:href=\"#DejaVuSans-2e\" x=\"63.623047\"/>\n     <use xlink:href=\"#DejaVuSans-37\" x=\"95.410156\"/>\n     <use xlink:href=\"#DejaVuSans-30\" x=\"159.033203\"/>\n     <use xlink:href=\"#DejaVuSans-25\" x=\"222.65625\"/>\n    </g>\n   </g>\n   <g id=\"text_34\">\n    <!-- 2.63% -->\n    <g style=\"fill: #ffffff\" transform=\"translate(235.767468 340.856187) scale(0.132 -0.132)\">\n     <use xlink:href=\"#DejaVuSans-32\"/>\n     <use xlink:href=\"#DejaVuSans-2e\" x=\"63.623047\"/>\n     <use xlink:href=\"#DejaVuSans-36\" x=\"95.410156\"/>\n     <use xlink:href=\"#DejaVuSans-33\" x=\"159.033203\"/>\n     <use xlink:href=\"#DejaVuSans-25\" x=\"222.65625\"/>\n    </g>\n   </g>\n   <g id=\"text_35\">\n    <!-- 7.46% -->\n    <g style=\"fill: #ffffff\" transform=\"translate(307.191468 340.856187) scale(0.132 -0.132)\">\n     <use xlink:href=\"#DejaVuSans-37\"/>\n     <use xlink:href=\"#DejaVuSans-2e\" x=\"63.623047\"/>\n     <use xlink:href=\"#DejaVuSans-34\" x=\"95.410156\"/>\n     <use xlink:href=\"#DejaVuSans-36\" x=\"159.033203\"/>\n     <use xlink:href=\"#DejaVuSans-25\" x=\"222.65625\"/>\n    </g>\n   </g>\n   <g id=\"text_36\">\n    <!-- 6.14% -->\n    <g style=\"fill: #ffffff\" transform=\"translate(378.615468 340.856187) scale(0.132 -0.132)\">\n     <use xlink:href=\"#DejaVuSans-36\"/>\n     <use xlink:href=\"#DejaVuSans-2e\" x=\"63.623047\"/>\n     <use xlink:href=\"#DejaVuSans-31\" x=\"95.410156\"/>\n     <use xlink:href=\"#DejaVuSans-34\" x=\"159.033203\"/>\n     <use xlink:href=\"#DejaVuSans-25\" x=\"222.65625\"/>\n    </g>\n   </g>\n   <g id=\"text_37\">\n    <!-- 78.07% -->\n    <g style=\"fill: #262626\" transform=\"translate(445.840218 340.856187) scale(0.132 -0.132)\">\n     <use xlink:href=\"#DejaVuSans-37\"/>\n     <use xlink:href=\"#DejaVuSans-38\" x=\"63.623047\"/>\n     <use xlink:href=\"#DejaVuSans-2e\" x=\"127.246094\"/>\n     <use xlink:href=\"#DejaVuSans-30\" x=\"159.033203\"/>\n     <use xlink:href=\"#DejaVuSans-37\" x=\"222.65625\"/>\n     <use xlink:href=\"#DejaVuSans-25\" x=\"286.279297\"/>\n    </g>\n   </g>\n   <g id=\"text_38\">\n    <!-- Confusion Matrix -->\n    <g style=\"fill: #262626\" transform=\"translate(269.075624 17.837812) scale(0.14 -0.14)\">\n     <defs>\n      <path id=\"DejaVuSans-66\" d=\"M 2375 4863 \nL 2375 4384 \nL 1825 4384 \nQ 1516 4384 1395 4259 \nQ 1275 4134 1275 3809 \nL 1275 3500 \nL 2222 3500 \nL 2222 3053 \nL 1275 3053 \nL 1275 0 \nL 697 0 \nL 697 3053 \nL 147 3053 \nL 147 3500 \nL 697 3500 \nL 697 3744 \nQ 697 4328 969 4595 \nQ 1241 4863 1831 4863 \nL 2375 4863 \nz\n\" transform=\"scale(0.015625)\"/>\n      <path id=\"DejaVuSans-4d\" d=\"M 628 4666 \nL 1569 4666 \nL 2759 1491 \nL 3956 4666 \nL 4897 4666 \nL 4897 0 \nL 4281 0 \nL 4281 4097 \nL 3078 897 \nL 2444 897 \nL 1241 4097 \nL 1241 0 \nL 628 0 \nL 628 4666 \nz\n\" transform=\"scale(0.015625)\"/>\n      <path id=\"DejaVuSans-78\" d=\"M 3513 3500 \nL 2247 1797 \nL 3578 0 \nL 2900 0 \nL 1881 1375 \nL 863 0 \nL 184 0 \nL 1544 1831 \nL 300 3500 \nL 978 3500 \nL 1906 2253 \nL 2834 3500 \nL 3513 3500 \nz\n\" transform=\"scale(0.015625)\"/>\n     </defs>\n     <use xlink:href=\"#DejaVuSans-43\"/>\n     <use xlink:href=\"#DejaVuSans-6f\" x=\"69.824219\"/>\n     <use xlink:href=\"#DejaVuSans-6e\" x=\"131.005859\"/>\n     <use xlink:href=\"#DejaVuSans-66\" x=\"194.384766\"/>\n     <use xlink:href=\"#DejaVuSans-75\" x=\"229.589844\"/>\n     <use xlink:href=\"#DejaVuSans-73\" x=\"292.96875\"/>\n     <use xlink:href=\"#DejaVuSans-69\" x=\"345.068359\"/>\n     <use xlink:href=\"#DejaVuSans-6f\" x=\"372.851562\"/>\n     <use xlink:href=\"#DejaVuSans-6e\" x=\"434.033203\"/>\n     <use xlink:href=\"#DejaVuSans-20\" x=\"497.412109\"/>\n     <use xlink:href=\"#DejaVuSans-4d\" x=\"529.199219\"/>\n     <use xlink:href=\"#DejaVuSans-61\" x=\"615.478516\"/>\n     <use xlink:href=\"#DejaVuSans-74\" x=\"676.757812\"/>\n     <use xlink:href=\"#DejaVuSans-72\" x=\"715.966797\"/>\n     <use xlink:href=\"#DejaVuSans-69\" x=\"757.080078\"/>\n     <use xlink:href=\"#DejaVuSans-78\" x=\"784.863281\"/>\n    </g>\n   </g>\n  </g>\n  <g id=\"axes_2\">\n   <g id=\"patch_3\">\n    <path d=\"M 529.037811 370.477812 \nL 545.669811 370.477812 \nL 545.669811 37.837812 \nL 529.037811 37.837812 \nz\n\" style=\"fill: #eaeaf2\"/>\n   </g>\n   <g id=\"matplotlib.axis_3\"/>\n   <g id=\"matplotlib.axis_4\">\n    <g id=\"ytick_6\">\n     <g id=\"line2d_11\">\n      <defs>\n       <path id=\"mf7fc610ef0\" d=\"M 0 0 \nL 6 0 \n\" style=\"stroke: #262626; stroke-width: 1.25\"/>\n      </defs>\n      <g>\n       <use xlink:href=\"#mf7fc610ef0\" x=\"545.669811\" y=\"329.701757\" style=\"fill: #262626; stroke: #262626; stroke-width: 1.25\"/>\n      </g>\n     </g>\n     <g id=\"text_39\">\n      <!-- 10 -->\n      <g style=\"fill: #262626\" transform=\"translate(555.169811 334.298812) scale(0.121 -0.121)\">\n       <use xlink:href=\"#DejaVuSans-31\"/>\n       <use xlink:href=\"#DejaVuSans-30\" x=\"63.623047\"/>\n      </g>\n     </g>\n    </g>\n    <g id=\"ytick_7\">\n     <g id=\"line2d_12\">\n      <g>\n       <use xlink:href=\"#mf7fc610ef0\" x=\"545.669811\" y=\"286.824727\" style=\"fill: #262626; stroke: #262626; stroke-width: 1.25\"/>\n      </g>\n     </g>\n     <g id=\"text_40\">\n      <!-- 20 -->\n      <g style=\"fill: #262626\" transform=\"translate(555.169811 291.421781) scale(0.121 -0.121)\">\n       <use xlink:href=\"#DejaVuSans-32\"/>\n       <use xlink:href=\"#DejaVuSans-30\" x=\"63.623047\"/>\n      </g>\n     </g>\n    </g>\n    <g id=\"ytick_8\">\n     <g id=\"line2d_13\">\n      <g>\n       <use xlink:href=\"#mf7fc610ef0\" x=\"545.669811\" y=\"243.947696\" style=\"fill: #262626; stroke: #262626; stroke-width: 1.25\"/>\n      </g>\n     </g>\n     <g id=\"text_41\">\n      <!-- 30 -->\n      <g style=\"fill: #262626\" transform=\"translate(555.169811 248.544751) scale(0.121 -0.121)\">\n       <use xlink:href=\"#DejaVuSans-33\"/>\n       <use xlink:href=\"#DejaVuSans-30\" x=\"63.623047\"/>\n      </g>\n     </g>\n    </g>\n    <g id=\"ytick_9\">\n     <g id=\"line2d_14\">\n      <g>\n       <use xlink:href=\"#mf7fc610ef0\" x=\"545.669811\" y=\"201.070666\" style=\"fill: #262626; stroke: #262626; stroke-width: 1.25\"/>\n      </g>\n     </g>\n     <g id=\"text_42\">\n      <!-- 40 -->\n      <g style=\"fill: #262626\" transform=\"translate(555.169811 205.667721) scale(0.121 -0.121)\">\n       <use xlink:href=\"#DejaVuSans-34\"/>\n       <use xlink:href=\"#DejaVuSans-30\" x=\"63.623047\"/>\n      </g>\n     </g>\n    </g>\n    <g id=\"ytick_10\">\n     <g id=\"line2d_15\">\n      <g>\n       <use xlink:href=\"#mf7fc610ef0\" x=\"545.669811\" y=\"158.193636\" style=\"fill: #262626; stroke: #262626; stroke-width: 1.25\"/>\n      </g>\n     </g>\n     <g id=\"text_43\">\n      <!-- 50 -->\n      <g style=\"fill: #262626\" transform=\"translate(555.169811 162.790691) scale(0.121 -0.121)\">\n       <use xlink:href=\"#DejaVuSans-35\"/>\n       <use xlink:href=\"#DejaVuSans-30\" x=\"63.623047\"/>\n      </g>\n     </g>\n    </g>\n    <g id=\"ytick_11\">\n     <g id=\"line2d_16\">\n      <g>\n       <use xlink:href=\"#mf7fc610ef0\" x=\"545.669811\" y=\"115.316606\" style=\"fill: #262626; stroke: #262626; stroke-width: 1.25\"/>\n      </g>\n     </g>\n     <g id=\"text_44\">\n      <!-- 60 -->\n      <g style=\"fill: #262626\" transform=\"translate(555.169811 119.913661) scale(0.121 -0.121)\">\n       <use xlink:href=\"#DejaVuSans-36\"/>\n       <use xlink:href=\"#DejaVuSans-30\" x=\"63.623047\"/>\n      </g>\n     </g>\n    </g>\n    <g id=\"ytick_12\">\n     <g id=\"line2d_17\">\n      <g>\n       <use xlink:href=\"#mf7fc610ef0\" x=\"545.669811\" y=\"72.439576\" style=\"fill: #262626; stroke: #262626; stroke-width: 1.25\"/>\n      </g>\n     </g>\n     <g id=\"text_45\">\n      <!-- 70 -->\n      <g style=\"fill: #262626\" transform=\"translate(555.169811 77.036631) scale(0.121 -0.121)\">\n       <use xlink:href=\"#DejaVuSans-37\"/>\n       <use xlink:href=\"#DejaVuSans-30\" x=\"63.623047\"/>\n      </g>\n     </g>\n    </g>\n   </g>\n   <image xlink:href=\"data:image/png;base64,\niVBORw0KGgoAAAANSUhEUgAAABcAAAHOCAYAAABzbJLzAAACUklEQVR4nO2dwW3EQAzEvI7TRPrvMynAvOcEIEAWIAijGa3Xyd2dr++f32vEvSp8Xdf1nGnxsys/lsXb+aXtXKv5PexcPNClLFkReW6tW5aaZ0UkKyJizZeHRSFCChGS5lz8nF3z3t3SgyiS5ohX82RBsiJi1nx7hibLmx7nkELExb0D9YbI2/ny70Te07/dgnQSIWbNp3eiWems+IGsiKw1nxa3ymIO0Y5ChGzvRA2U8A60OxGyvRMVIqKTCEnzT8Wtsoi3olbz4k94NS9EiHegrVyk2xzSQJFx57NPcJkXl9qKOwoRkls+FNfulgZK1Dky9XlWROoceY525Y7fK+7w7pbOUCS3cHHzQHe6eAdaiJDtl8Pcv1orDot7B9riQsSL6ww1F4fI2/lyoGmOrEOkHejwKPIOtBAhzxm+zXnuYfEe5xCz5trOl5o/w38obqCMOkS74l63mAc6vOVmRUSteSF68wy/GU480EKETBeXWRZv551EgHflqrfirnhWRMSaX/n8v4t7ZRlbUdt5mmPxZCHWVrR+/CTNsbhXlktrxUJEeN2iHmidv1m/zLF2Pg2Rd6DXvavvHWhnKDIOkfYnhLxW9HZ+WlxYvBABnaGIWfOhz8WytBUJrxW9mpu3oviSq9Vc3LnWLdsz1DpQ8fVcfBLVORXvJAIKEWLWvBABDRQp/sg6RMnyJisiZs0LEWAeaJoDXs3FspzzNSueFRFz54UIUO9zbfzFmvc496aTCClESJp/KN4+B7Ii8pw0x+JiWYr/G68VvfEXy2K2ojT+f4fYL1v3vlriAAAAAElFTkSuQmCC\" id=\"image04f5c9d817\" transform=\"scale(1 -1) translate(0 -332.64)\" x=\"529.2\" y=\"-37.44\" width=\"16.56\" height=\"332.64\"/>\n   <g id=\"LineCollection_1\"/>\n   <g id=\"patch_4\">\n    <path d=\"M 529.037811 370.477812 \nL 537.353811 370.477812 \nL 545.669811 370.477812 \nL 545.669811 37.837812 \nL 537.353811 37.837812 \nL 529.037811 37.837812 \nL 529.037811 370.477812 \nz\n\" style=\"fill: none\"/>\n   </g>\n  </g>\n </g>\n <defs>\n  <clipPath id=\"p4e1194d091\">\n   <rect x=\"149.597811\" y=\"37.837812\" width=\"357.12\" height=\"332.64\"/>\n  </clipPath>\n </defs>\n</svg>\n",
            "text/plain": [
              "<Figure size 800x600 with 2 Axes>"
            ]
          },
          "metadata": {},
          "output_type": "display_data"
        }
      ],
      "source": [
        "predictions, true_labels = test_custom_model(xlmrmodel,test_dataloader)\n",
        "print_classification_report(predictions, true_labels, mapping)"
      ]
    },
    {
      "cell_type": "code",
      "execution_count": null,
      "metadata": {
        "id": "TwUuAS_Fv4oq"
      },
      "outputs": [],
      "source": [
        "# A peek into misclassified"
      ]
    },
    {
      "cell_type": "code",
      "execution_count": null,
      "metadata": {
        "id": "iGsLOuvjwpYN"
      },
      "outputs": [],
      "source": [
        "flat_predictions = np.concatenate(predictions, axis=0)\n",
        "# For each sample, pick the label (0 or 1) with the higher score.\n",
        "flat_predictions = np.argmax(flat_predictions, axis=1).flatten()"
      ]
    },
    {
      "cell_type": "code",
      "execution_count": null,
      "metadata": {
        "id": "EV7CttVKxJ5p"
      },
      "outputs": [],
      "source": [
        "test_data['predicted_target'] = flat_predictions"
      ]
    },
    {
      "cell_type": "code",
      "execution_count": null,
      "metadata": {
        "id": "_FLp_AdTxUQ1"
      },
      "outputs": [],
      "source": [
        "misclassified_inf = test_data[test_data['target'] != test_data['predicted_target']]"
      ]
    },
    {
      "cell_type": "code",
      "execution_count": null,
      "metadata": {
        "colab": {
          "base_uri": "https://localhost:8080/"
        },
        "id": "BaJDPiQ7xdlw",
        "outputId": "bb4fe71e-859b-4c62-f87e-782a1b6781c7"
      },
      "outputs": [
        {
          "data": {
            "text/plain": [
              "(254, 21)"
            ]
          },
          "execution_count": 450,
          "metadata": {},
          "output_type": "execute_result"
        }
      ],
      "source": [
        "misclassified_inf.shape"
      ]
    },
    {
      "cell_type": "code",
      "execution_count": null,
      "metadata": {
        "colab": {
          "base_uri": "https://localhost:8080/"
        },
        "id": "GqweERYUxoLT",
        "outputId": "8ec3b10f-4baf-49a0-ae93-ceb3db938d0c"
      },
      "outputs": [
        {
          "data": {
            "text/plain": [
              "['Counting and Results',\n",
              " 'Political Rallies',\n",
              " 'Positive Events',\n",
              " 'Security Issues',\n",
              " 'Voting Issues']"
            ]
          },
          "execution_count": 451,
          "metadata": {},
          "output_type": "execute_result"
        }
      ],
      "source": [
        "mapping"
      ]
    },
    {
      "cell_type": "code",
      "execution_count": null,
      "metadata": {
        "id": "K_GoRhYBxrJ_"
      },
      "outputs": [],
      "source": [
        "def create_idx_mapping(labels):\n",
        "  idx_map = {}\n",
        "  for idx, label in enumerate(labels):\n",
        "    idx_map[idx] = label\n",
        "  return idx_map"
      ]
    },
    {
      "cell_type": "code",
      "execution_count": null,
      "metadata": {
        "colab": {
          "base_uri": "https://localhost:8080/"
        },
        "id": "lGaQWmUnyNMg",
        "outputId": "808abbd0-d8fb-4156-d82b-33fd2b9daef4"
      },
      "outputs": [
        {
          "data": {
            "text/plain": [
              "{0: 'Counting and Results',\n",
              " 1: 'Political Rallies',\n",
              " 2: 'Positive Events',\n",
              " 3: 'Security Issues',\n",
              " 4: 'Voting Issues'}"
            ]
          },
          "execution_count": 455,
          "metadata": {},
          "output_type": "execute_result"
        }
      ],
      "source": [
        "idx_map = create_idx_mapping(mapping)\n",
        "idx_map"
      ]
    },
    {
      "cell_type": "code",
      "execution_count": null,
      "metadata": {
        "colab": {
          "base_uri": "https://localhost:8080/"
        },
        "id": "CSnKkm9mxf3U",
        "outputId": "5b39d659-63f5-4904-fab3-3581de466788"
      },
      "outputs": [
        {
          "name": "stderr",
          "output_type": "stream",
          "text": [
            "<ipython-input-458-a13a04a35361>:1: SettingWithCopyWarning: \n",
            "A value is trying to be set on a copy of a slice from a DataFrame.\n",
            "Try using .loc[row_indexer,col_indexer] = value instead\n",
            "\n",
            "See the caveats in the documentation: https://pandas.pydata.org/pandas-docs/stable/user_guide/indexing.html#returning-a-view-versus-a-copy\n",
            "  misclassified_inf['Predicted Label'] = misclassified_inf['predicted_target'].map(idx_map)\n"
          ]
        }
      ],
      "source": [
        "misclassified_inf['Predicted Label'] = misclassified_inf['predicted_target'].map(idx_map)"
      ]
    },
    {
      "cell_type": "code",
      "execution_count": null,
      "metadata": {
        "colab": {
          "base_uri": "https://localhost:8080/",
          "height": 676
        },
        "id": "HiN3ss0fyXYE",
        "outputId": "4513bef2-15f0-44e8-df27-682719fc6af3"
      },
      "outputs": [
        {
          "data": {
            "text/html": [
              "\n",
              "  <div id=\"df-3e586bd5-1908-4703-b1b5-6a567d95a555\">\n",
              "    <div class=\"colab-df-container\">\n",
              "      <div>\n",
              "<style scoped>\n",
              "    .dataframe tbody tr th:only-of-type {\n",
              "        vertical-align: middle;\n",
              "    }\n",
              "\n",
              "    .dataframe tbody tr th {\n",
              "        vertical-align: top;\n",
              "    }\n",
              "\n",
              "    .dataframe thead th {\n",
              "        text-align: right;\n",
              "    }\n",
              "</style>\n",
              "<table border=\"1\" class=\"dataframe\">\n",
              "  <thead>\n",
              "    <tr style=\"text-align: right;\">\n",
              "      <th></th>\n",
              "      <th>text</th>\n",
              "      <th>merged_label</th>\n",
              "      <th>Predicted Label</th>\n",
              "    </tr>\n",
              "  </thead>\n",
              "  <tbody>\n",
              "    <tr>\n",
              "      <th>260</th>\n",
              "      <td>I live in naivasha while my vote card indicates that I'm a voter in kangundo</td>\n",
              "      <td>Positive Events</td>\n",
              "      <td>Voting Issues</td>\n",
              "    </tr>\n",
              "    <tr>\n",
              "      <th>123</th>\n",
              "      <td>NEWS UPDATE: DP Ruto arrives at Bomas for the announcement of Presidential elections</td>\n",
              "      <td>Positive Events</td>\n",
              "      <td>Political Rallies</td>\n",
              "    </tr>\n",
              "    <tr>\n",
              "      <th>925</th>\n",
              "      <td>People from different wards bribed to register in our ward in order to make a certain aspirant pass</td>\n",
              "      <td>Voting Issues</td>\n",
              "      <td>Positive Events</td>\n",
              "    </tr>\n",
              "    <tr>\n",
              "      <th>222</th>\n",
              "      <td>Several tens of people already in the queue 7hrs before polls open at Moi Avenue Primary, Starehe constituency… https://t.co/c96FE75o56</td>\n",
              "      <td>Voting Issues</td>\n",
              "      <td>Political Rallies</td>\n",
              "    </tr>\n",
              "    <tr>\n",
              "      <th>235</th>\n",
              "      <td>Go to the iebc portal,the results are there for you to see.stop consoling yourself with tv results</td>\n",
              "      <td>Voting Issues</td>\n",
              "      <td>Counting and Results</td>\n",
              "    </tr>\n",
              "    <tr>\n",
              "      <th>963</th>\n",
              "      <td>At emung'weso polling center voting is on.iebc official locked out from a small room they were to use but officers took control and the environment is fairly good.voter turnout is 0.9(5/599voters registered)</td>\n",
              "      <td>Positive Events</td>\n",
              "      <td>Voting Issues</td>\n",
              "    </tr>\n",
              "    <tr>\n",
              "      <th>150</th>\n",
              "      <td>A post shows a crowd of people running away after police officers fire tear gas towards crowd</td>\n",
              "      <td>Security Issues</td>\n",
              "      <td>Counting and Results</td>\n",
              "    </tr>\n",
              "    <tr>\n",
              "      <th>897</th>\n",
              "      <td>Presiding officer counted votes for each candidate in an open manner and filled out the results on tallying sheet( Form 33)#Suna-East</td>\n",
              "      <td>Positive Events</td>\n",
              "      <td>Counting and Results</td>\n",
              "    </tr>\n",
              "    <tr>\n",
              "      <th>751</th>\n",
              "      <td>Thanks to advanced technology people who are visually impaired can also enjoy using this platforms. Hata IEBC ingekubali some of us could have voted online now that hakuna ballot papers in brail.</td>\n",
              "      <td>Voting Issues</td>\n",
              "      <td>Positive Events</td>\n",
              "    </tr>\n",
              "    <tr>\n",
              "      <th>77</th>\n",
              "      <td>Ballot boxes are visible to all present in the polling station#KURIA WEST#MOHETO PRI.</td>\n",
              "      <td>Positive Events</td>\n",
              "      <td>Voting Issues</td>\n",
              "    </tr>\n",
              "    <tr>\n",
              "      <th>888</th>\n",
              "      <td>Presiding Officer captured votes cast, rejected, objected, disputed votes in results forms for respective positions#Uriri</td>\n",
              "      <td>Positive Events</td>\n",
              "      <td>Counting and Results</td>\n",
              "    </tr>\n",
              "    <tr>\n",
              "      <th>544</th>\n",
              "      <td>Mr Kigano can finally rest easy after achieving a feat he started yearning for 43 years ago. After several false starts dating back to 1974, Mr Kigano was Thursday declared the new MP for Kangema.</td>\n",
              "      <td>Positive Events</td>\n",
              "      <td>Counting and Results</td>\n",
              "    </tr>\n",
              "    <tr>\n",
              "      <th>147</th>\n",
              "      <td>Ballot papers being stamped well</td>\n",
              "      <td>Positive Events</td>\n",
              "      <td>Voting Issues</td>\n",
              "    </tr>\n",
              "    <tr>\n",
              "      <th>466</th>\n",
              "      <td>Ngararia tallying centre ready to commence tallying</td>\n",
              "      <td>Positive Events</td>\n",
              "      <td>Counting and Results</td>\n",
              "    </tr>\n",
              "    <tr>\n",
              "      <th>35</th>\n",
              "      <td>from the start the seals are recorded by both IEBC Officials and party agents without any problem in room two.</td>\n",
              "      <td>Voting Issues</td>\n",
              "      <td>Positive Events</td>\n",
              "    </tr>\n",
              "    <tr>\n",
              "      <th>381</th>\n",
              "      <td>IEBC objected to the proposal seeking to include the option 'none of the above', which would have affected its way of conducting elections.</td>\n",
              "      <td>Voting Issues</td>\n",
              "      <td>Political Rallies</td>\n",
              "    </tr>\n",
              "    <tr>\n",
              "      <th>944</th>\n",
              "      <td>Kuna mtu amenipia simu naa ka niita mbwa hii utajua uhuru ametupea mapanga</td>\n",
              "      <td>Security Issues</td>\n",
              "      <td>Voting Issues</td>\n",
              "    </tr>\n",
              "    <tr>\n",
              "      <th>800</th>\n",
              "      <td>We have .not started counting  due to poor lighting from the pressure lamp in Cherengany</td>\n",
              "      <td>Counting and Results</td>\n",
              "      <td>Voting Issues</td>\n",
              "    </tr>\n",
              "    <tr>\n",
              "      <th>946</th>\n",
              "      <td>It is true my Principal is supporting Azimio but we have not decided as a party. If we will be forced to give our stand as a party, I will will be of a contrary opinion,\" Prof. Wajackoyah's running mate Justina</td>\n",
              "      <td>Positive Events</td>\n",
              "      <td>Political Rallies</td>\n",
              "    </tr>\n",
              "    <tr>\n",
              "      <th>626</th>\n",
              "      <td>I m celebrating these Women Governors : Their Excellencies:Anne Waiguru, Susan Kihika,Aisha Jumwa,Fatuma Achani and  Cecily Mbarire.</td>\n",
              "      <td>Counting and Results</td>\n",
              "      <td>Political Rallies</td>\n",
              "    </tr>\n",
              "  </tbody>\n",
              "</table>\n",
              "</div>\n",
              "      <button class=\"colab-df-convert\" onclick=\"convertToInteractive('df-3e586bd5-1908-4703-b1b5-6a567d95a555')\"\n",
              "              title=\"Convert this dataframe to an interactive table.\"\n",
              "              style=\"display:none;\">\n",
              "        \n",
              "  <svg xmlns=\"http://www.w3.org/2000/svg\" height=\"24px\"viewBox=\"0 0 24 24\"\n",
              "       width=\"24px\">\n",
              "    <path d=\"M0 0h24v24H0V0z\" fill=\"none\"/>\n",
              "    <path d=\"M18.56 5.44l.94 2.06.94-2.06 2.06-.94-2.06-.94-.94-2.06-.94 2.06-2.06.94zm-11 1L8.5 8.5l.94-2.06 2.06-.94-2.06-.94L8.5 2.5l-.94 2.06-2.06.94zm10 10l.94 2.06.94-2.06 2.06-.94-2.06-.94-.94-2.06-.94 2.06-2.06.94z\"/><path d=\"M17.41 7.96l-1.37-1.37c-.4-.4-.92-.59-1.43-.59-.52 0-1.04.2-1.43.59L10.3 9.45l-7.72 7.72c-.78.78-.78 2.05 0 2.83L4 21.41c.39.39.9.59 1.41.59.51 0 1.02-.2 1.41-.59l7.78-7.78 2.81-2.81c.8-.78.8-2.07 0-2.86zM5.41 20L4 18.59l7.72-7.72 1.47 1.35L5.41 20z\"/>\n",
              "  </svg>\n",
              "      </button>\n",
              "      \n",
              "  <style>\n",
              "    .colab-df-container {\n",
              "      display:flex;\n",
              "      flex-wrap:wrap;\n",
              "      gap: 12px;\n",
              "    }\n",
              "\n",
              "    .colab-df-convert {\n",
              "      background-color: #E8F0FE;\n",
              "      border: none;\n",
              "      border-radius: 50%;\n",
              "      cursor: pointer;\n",
              "      display: none;\n",
              "      fill: #1967D2;\n",
              "      height: 32px;\n",
              "      padding: 0 0 0 0;\n",
              "      width: 32px;\n",
              "    }\n",
              "\n",
              "    .colab-df-convert:hover {\n",
              "      background-color: #E2EBFA;\n",
              "      box-shadow: 0px 1px 2px rgba(60, 64, 67, 0.3), 0px 1px 3px 1px rgba(60, 64, 67, 0.15);\n",
              "      fill: #174EA6;\n",
              "    }\n",
              "\n",
              "    [theme=dark] .colab-df-convert {\n",
              "      background-color: #3B4455;\n",
              "      fill: #D2E3FC;\n",
              "    }\n",
              "\n",
              "    [theme=dark] .colab-df-convert:hover {\n",
              "      background-color: #434B5C;\n",
              "      box-shadow: 0px 1px 3px 1px rgba(0, 0, 0, 0.15);\n",
              "      filter: drop-shadow(0px 1px 2px rgba(0, 0, 0, 0.3));\n",
              "      fill: #FFFFFF;\n",
              "    }\n",
              "  </style>\n",
              "\n",
              "      <script>\n",
              "        const buttonEl =\n",
              "          document.querySelector('#df-3e586bd5-1908-4703-b1b5-6a567d95a555 button.colab-df-convert');\n",
              "        buttonEl.style.display =\n",
              "          google.colab.kernel.accessAllowed ? 'block' : 'none';\n",
              "\n",
              "        async function convertToInteractive(key) {\n",
              "          const element = document.querySelector('#df-3e586bd5-1908-4703-b1b5-6a567d95a555');\n",
              "          const dataTable =\n",
              "            await google.colab.kernel.invokeFunction('convertToInteractive',\n",
              "                                                     [key], {});\n",
              "          if (!dataTable) return;\n",
              "\n",
              "          const docLinkHtml = 'Like what you see? Visit the ' +\n",
              "            '<a target=\"_blank\" href=https://colab.research.google.com/notebooks/data_table.ipynb>data table notebook</a>'\n",
              "            + ' to learn more about interactive tables.';\n",
              "          element.innerHTML = '';\n",
              "          dataTable['output_type'] = 'display_data';\n",
              "          await google.colab.output.renderOutput(dataTable, element);\n",
              "          const docLink = document.createElement('div');\n",
              "          docLink.innerHTML = docLinkHtml;\n",
              "          element.appendChild(docLink);\n",
              "        }\n",
              "      </script>\n",
              "    </div>\n",
              "  </div>\n",
              "  "
            ],
            "text/plain": [
              "                                                                                                                                                                                                                   text  \\\n",
              "260                                                                                                                                        I live in naivasha while my vote card indicates that I'm a voter in kangundo   \n",
              "123                                                                                                                                NEWS UPDATE: DP Ruto arrives at Bomas for the announcement of Presidential elections   \n",
              "925                                                                                                                 People from different wards bribed to register in our ward in order to make a certain aspirant pass   \n",
              "222                                                                             Several tens of people already in the queue 7hrs before polls open at Moi Avenue Primary, Starehe constituency… https://t.co/c96FE75o56   \n",
              "235                                                                                                                  Go to the iebc portal,the results are there for you to see.stop consoling yourself with tv results   \n",
              "963     At emung'weso polling center voting is on.iebc official locked out from a small room they were to use but officers took control and the environment is fairly good.voter turnout is 0.9(5/599voters registered)   \n",
              "150                                                                                                                       A post shows a crowd of people running away after police officers fire tear gas towards crowd   \n",
              "897                                                                               Presiding officer counted votes for each candidate in an open manner and filled out the results on tallying sheet( Form 33)#Suna-East   \n",
              "751                 Thanks to advanced technology people who are visually impaired can also enjoy using this platforms. Hata IEBC ingekubali some of us could have voted online now that hakuna ballot papers in brail.   \n",
              "77                                                                                                                                Ballot boxes are visible to all present in the polling station#KURIA WEST#MOHETO PRI.   \n",
              "888                                                                                           Presiding Officer captured votes cast, rejected, objected, disputed votes in results forms for respective positions#Uriri   \n",
              "544                Mr Kigano can finally rest easy after achieving a feat he started yearning for 43 years ago. After several false starts dating back to 1974, Mr Kigano was Thursday declared the new MP for Kangema.   \n",
              "147                                                                                                                                                                                    Ballot papers being stamped well   \n",
              "466                                                                                                                                                                 Ngararia tallying centre ready to commence tallying   \n",
              "35                                                                                                       from the start the seals are recorded by both IEBC Officials and party agents without any problem in room two.   \n",
              "381                                                                         IEBC objected to the proposal seeking to include the option 'none of the above', which would have affected its way of conducting elections.   \n",
              "944                                                                                                                                          Kuna mtu amenipia simu naa ka niita mbwa hii utajua uhuru ametupea mapanga   \n",
              "800                                                                                                                            We have .not started counting  due to poor lighting from the pressure lamp in Cherengany   \n",
              "946  It is true my Principal is supporting Azimio but we have not decided as a party. If we will be forced to give our stand as a party, I will will be of a contrary opinion,\" Prof. Wajackoyah's running mate Justina   \n",
              "626                                                                                I m celebrating these Women Governors : Their Excellencies:Anne Waiguru, Susan Kihika,Aisha Jumwa,Fatuma Achani and  Cecily Mbarire.   \n",
              "\n",
              "             merged_label       Predicted Label  \n",
              "260       Positive Events         Voting Issues  \n",
              "123       Positive Events     Political Rallies  \n",
              "925         Voting Issues       Positive Events  \n",
              "222         Voting Issues     Political Rallies  \n",
              "235         Voting Issues  Counting and Results  \n",
              "963       Positive Events         Voting Issues  \n",
              "150       Security Issues  Counting and Results  \n",
              "897       Positive Events  Counting and Results  \n",
              "751         Voting Issues       Positive Events  \n",
              "77        Positive Events         Voting Issues  \n",
              "888       Positive Events  Counting and Results  \n",
              "544       Positive Events  Counting and Results  \n",
              "147       Positive Events         Voting Issues  \n",
              "466       Positive Events  Counting and Results  \n",
              "35          Voting Issues       Positive Events  \n",
              "381         Voting Issues     Political Rallies  \n",
              "944       Security Issues         Voting Issues  \n",
              "800  Counting and Results         Voting Issues  \n",
              "946       Positive Events     Political Rallies  \n",
              "626  Counting and Results     Political Rallies  "
            ]
          },
          "execution_count": 461,
          "metadata": {},
          "output_type": "execute_result"
        }
      ],
      "source": [
        "misclassified_inf[['text','merged_label','Predicted Label']].sample(20)"
      ]
    },
    {
      "cell_type": "code",
      "execution_count": null,
      "metadata": {
        "id": "FkXp6AK4ykFJ"
      },
      "outputs": [],
      "source": [
        "misclassified_inf.to_csv(f\"/content/drive/My Drive/thesis/results/multiclass_misclassified.csv\",  quoting=csv.QUOTE_NONNUMERIC, index=False)"
      ]
    },
    {
      "cell_type": "code",
      "execution_count": null,
      "metadata": {
        "id": "DrlH2ow8zVAd"
      },
      "outputs": [],
      "source": []
    }
  ],
  "metadata": {
    "colab": {
      "machine_shape": "hm",
      "provenance": [],
      "gpuType": "T4"
    },
    "kernelspec": {
      "display_name": "Python 3",
      "name": "python3"
    },
    "language_info": {
      "name": "python"
    },
    "widgets": {
      "application/vnd.jupyter.widget-state+json": {
        "9587a950137a4633ac1000911da8954f": {
          "model_module": "@jupyter-widgets/controls",
          "model_name": "HBoxModel",
          "model_module_version": "1.5.0",
          "state": {
            "_dom_classes": [],
            "_model_module": "@jupyter-widgets/controls",
            "_model_module_version": "1.5.0",
            "_model_name": "HBoxModel",
            "_view_count": null,
            "_view_module": "@jupyter-widgets/controls",
            "_view_module_version": "1.5.0",
            "_view_name": "HBoxView",
            "box_style": "",
            "children": [
              "IPY_MODEL_5a61509215a24eec832de0eb5b36b4ff",
              "IPY_MODEL_6d4f695e6034469381d773bde2472ea2",
              "IPY_MODEL_6f7bf5470d3e49adb4a9354a978c5a65"
            ],
            "layout": "IPY_MODEL_23dbf9495e814f72993e1cba7665f953"
          }
        },
        "5a61509215a24eec832de0eb5b36b4ff": {
          "model_module": "@jupyter-widgets/controls",
          "model_name": "HTMLModel",
          "model_module_version": "1.5.0",
          "state": {
            "_dom_classes": [],
            "_model_module": "@jupyter-widgets/controls",
            "_model_module_version": "1.5.0",
            "_model_name": "HTMLModel",
            "_view_count": null,
            "_view_module": "@jupyter-widgets/controls",
            "_view_module_version": "1.5.0",
            "_view_name": "HTMLView",
            "description": "",
            "description_tooltip": null,
            "layout": "IPY_MODEL_ece2a55befa749fdabd0519e47945449",
            "placeholder": "​",
            "style": "IPY_MODEL_7f3d6eb3c7d74afb946bdf1d46fcec54",
            "value": "Downloading (…)lve/main/config.json: 100%"
          }
        },
        "6d4f695e6034469381d773bde2472ea2": {
          "model_module": "@jupyter-widgets/controls",
          "model_name": "FloatProgressModel",
          "model_module_version": "1.5.0",
          "state": {
            "_dom_classes": [],
            "_model_module": "@jupyter-widgets/controls",
            "_model_module_version": "1.5.0",
            "_model_name": "FloatProgressModel",
            "_view_count": null,
            "_view_module": "@jupyter-widgets/controls",
            "_view_module_version": "1.5.0",
            "_view_name": "ProgressView",
            "bar_style": "success",
            "description": "",
            "description_tooltip": null,
            "layout": "IPY_MODEL_76ec2d00289c49aa8fdaea975bff50be",
            "max": 615,
            "min": 0,
            "orientation": "horizontal",
            "style": "IPY_MODEL_da994c79aea74974827ea544eaf4eeb6",
            "value": 615
          }
        },
        "6f7bf5470d3e49adb4a9354a978c5a65": {
          "model_module": "@jupyter-widgets/controls",
          "model_name": "HTMLModel",
          "model_module_version": "1.5.0",
          "state": {
            "_dom_classes": [],
            "_model_module": "@jupyter-widgets/controls",
            "_model_module_version": "1.5.0",
            "_model_name": "HTMLModel",
            "_view_count": null,
            "_view_module": "@jupyter-widgets/controls",
            "_view_module_version": "1.5.0",
            "_view_name": "HTMLView",
            "description": "",
            "description_tooltip": null,
            "layout": "IPY_MODEL_42f01de8253a4b24b088998b2c76ffc5",
            "placeholder": "​",
            "style": "IPY_MODEL_c1a2512e513a4cb89d578e321cd8034f",
            "value": " 615/615 [00:00&lt;00:00, 45.6kB/s]"
          }
        },
        "23dbf9495e814f72993e1cba7665f953": {
          "model_module": "@jupyter-widgets/base",
          "model_name": "LayoutModel",
          "model_module_version": "1.2.0",
          "state": {
            "_model_module": "@jupyter-widgets/base",
            "_model_module_version": "1.2.0",
            "_model_name": "LayoutModel",
            "_view_count": null,
            "_view_module": "@jupyter-widgets/base",
            "_view_module_version": "1.2.0",
            "_view_name": "LayoutView",
            "align_content": null,
            "align_items": null,
            "align_self": null,
            "border": null,
            "bottom": null,
            "display": null,
            "flex": null,
            "flex_flow": null,
            "grid_area": null,
            "grid_auto_columns": null,
            "grid_auto_flow": null,
            "grid_auto_rows": null,
            "grid_column": null,
            "grid_gap": null,
            "grid_row": null,
            "grid_template_areas": null,
            "grid_template_columns": null,
            "grid_template_rows": null,
            "height": null,
            "justify_content": null,
            "justify_items": null,
            "left": null,
            "margin": null,
            "max_height": null,
            "max_width": null,
            "min_height": null,
            "min_width": null,
            "object_fit": null,
            "object_position": null,
            "order": null,
            "overflow": null,
            "overflow_x": null,
            "overflow_y": null,
            "padding": null,
            "right": null,
            "top": null,
            "visibility": null,
            "width": null
          }
        },
        "ece2a55befa749fdabd0519e47945449": {
          "model_module": "@jupyter-widgets/base",
          "model_name": "LayoutModel",
          "model_module_version": "1.2.0",
          "state": {
            "_model_module": "@jupyter-widgets/base",
            "_model_module_version": "1.2.0",
            "_model_name": "LayoutModel",
            "_view_count": null,
            "_view_module": "@jupyter-widgets/base",
            "_view_module_version": "1.2.0",
            "_view_name": "LayoutView",
            "align_content": null,
            "align_items": null,
            "align_self": null,
            "border": null,
            "bottom": null,
            "display": null,
            "flex": null,
            "flex_flow": null,
            "grid_area": null,
            "grid_auto_columns": null,
            "grid_auto_flow": null,
            "grid_auto_rows": null,
            "grid_column": null,
            "grid_gap": null,
            "grid_row": null,
            "grid_template_areas": null,
            "grid_template_columns": null,
            "grid_template_rows": null,
            "height": null,
            "justify_content": null,
            "justify_items": null,
            "left": null,
            "margin": null,
            "max_height": null,
            "max_width": null,
            "min_height": null,
            "min_width": null,
            "object_fit": null,
            "object_position": null,
            "order": null,
            "overflow": null,
            "overflow_x": null,
            "overflow_y": null,
            "padding": null,
            "right": null,
            "top": null,
            "visibility": null,
            "width": null
          }
        },
        "7f3d6eb3c7d74afb946bdf1d46fcec54": {
          "model_module": "@jupyter-widgets/controls",
          "model_name": "DescriptionStyleModel",
          "model_module_version": "1.5.0",
          "state": {
            "_model_module": "@jupyter-widgets/controls",
            "_model_module_version": "1.5.0",
            "_model_name": "DescriptionStyleModel",
            "_view_count": null,
            "_view_module": "@jupyter-widgets/base",
            "_view_module_version": "1.2.0",
            "_view_name": "StyleView",
            "description_width": ""
          }
        },
        "76ec2d00289c49aa8fdaea975bff50be": {
          "model_module": "@jupyter-widgets/base",
          "model_name": "LayoutModel",
          "model_module_version": "1.2.0",
          "state": {
            "_model_module": "@jupyter-widgets/base",
            "_model_module_version": "1.2.0",
            "_model_name": "LayoutModel",
            "_view_count": null,
            "_view_module": "@jupyter-widgets/base",
            "_view_module_version": "1.2.0",
            "_view_name": "LayoutView",
            "align_content": null,
            "align_items": null,
            "align_self": null,
            "border": null,
            "bottom": null,
            "display": null,
            "flex": null,
            "flex_flow": null,
            "grid_area": null,
            "grid_auto_columns": null,
            "grid_auto_flow": null,
            "grid_auto_rows": null,
            "grid_column": null,
            "grid_gap": null,
            "grid_row": null,
            "grid_template_areas": null,
            "grid_template_columns": null,
            "grid_template_rows": null,
            "height": null,
            "justify_content": null,
            "justify_items": null,
            "left": null,
            "margin": null,
            "max_height": null,
            "max_width": null,
            "min_height": null,
            "min_width": null,
            "object_fit": null,
            "object_position": null,
            "order": null,
            "overflow": null,
            "overflow_x": null,
            "overflow_y": null,
            "padding": null,
            "right": null,
            "top": null,
            "visibility": null,
            "width": null
          }
        },
        "da994c79aea74974827ea544eaf4eeb6": {
          "model_module": "@jupyter-widgets/controls",
          "model_name": "ProgressStyleModel",
          "model_module_version": "1.5.0",
          "state": {
            "_model_module": "@jupyter-widgets/controls",
            "_model_module_version": "1.5.0",
            "_model_name": "ProgressStyleModel",
            "_view_count": null,
            "_view_module": "@jupyter-widgets/base",
            "_view_module_version": "1.2.0",
            "_view_name": "StyleView",
            "bar_color": null,
            "description_width": ""
          }
        },
        "42f01de8253a4b24b088998b2c76ffc5": {
          "model_module": "@jupyter-widgets/base",
          "model_name": "LayoutModel",
          "model_module_version": "1.2.0",
          "state": {
            "_model_module": "@jupyter-widgets/base",
            "_model_module_version": "1.2.0",
            "_model_name": "LayoutModel",
            "_view_count": null,
            "_view_module": "@jupyter-widgets/base",
            "_view_module_version": "1.2.0",
            "_view_name": "LayoutView",
            "align_content": null,
            "align_items": null,
            "align_self": null,
            "border": null,
            "bottom": null,
            "display": null,
            "flex": null,
            "flex_flow": null,
            "grid_area": null,
            "grid_auto_columns": null,
            "grid_auto_flow": null,
            "grid_auto_rows": null,
            "grid_column": null,
            "grid_gap": null,
            "grid_row": null,
            "grid_template_areas": null,
            "grid_template_columns": null,
            "grid_template_rows": null,
            "height": null,
            "justify_content": null,
            "justify_items": null,
            "left": null,
            "margin": null,
            "max_height": null,
            "max_width": null,
            "min_height": null,
            "min_width": null,
            "object_fit": null,
            "object_position": null,
            "order": null,
            "overflow": null,
            "overflow_x": null,
            "overflow_y": null,
            "padding": null,
            "right": null,
            "top": null,
            "visibility": null,
            "width": null
          }
        },
        "c1a2512e513a4cb89d578e321cd8034f": {
          "model_module": "@jupyter-widgets/controls",
          "model_name": "DescriptionStyleModel",
          "model_module_version": "1.5.0",
          "state": {
            "_model_module": "@jupyter-widgets/controls",
            "_model_module_version": "1.5.0",
            "_model_name": "DescriptionStyleModel",
            "_view_count": null,
            "_view_module": "@jupyter-widgets/base",
            "_view_module_version": "1.2.0",
            "_view_name": "StyleView",
            "description_width": ""
          }
        },
        "b50eb69e520e4b7ea08bcfc11d99a27a": {
          "model_module": "@jupyter-widgets/controls",
          "model_name": "HBoxModel",
          "model_module_version": "1.5.0",
          "state": {
            "_dom_classes": [],
            "_model_module": "@jupyter-widgets/controls",
            "_model_module_version": "1.5.0",
            "_model_name": "HBoxModel",
            "_view_count": null,
            "_view_module": "@jupyter-widgets/controls",
            "_view_module_version": "1.5.0",
            "_view_name": "HBoxView",
            "box_style": "",
            "children": [
              "IPY_MODEL_7d5771d5985244aaac6cd28b797aaef7",
              "IPY_MODEL_f9187b99c24940cea7128b94dba91ce1",
              "IPY_MODEL_450c030324904973af84a237283867b3"
            ],
            "layout": "IPY_MODEL_6190cc29dc9b456aae329d9b1eaddc56"
          }
        },
        "7d5771d5985244aaac6cd28b797aaef7": {
          "model_module": "@jupyter-widgets/controls",
          "model_name": "HTMLModel",
          "model_module_version": "1.5.0",
          "state": {
            "_dom_classes": [],
            "_model_module": "@jupyter-widgets/controls",
            "_model_module_version": "1.5.0",
            "_model_name": "HTMLModel",
            "_view_count": null,
            "_view_module": "@jupyter-widgets/controls",
            "_view_module_version": "1.5.0",
            "_view_name": "HTMLView",
            "description": "",
            "description_tooltip": null,
            "layout": "IPY_MODEL_6b41bb632b944845957ceb3672d26a08",
            "placeholder": "​",
            "style": "IPY_MODEL_9727e883452541b8b5c0ef963ead0324",
            "value": "Downloading (…)tencepiece.bpe.model: 100%"
          }
        },
        "f9187b99c24940cea7128b94dba91ce1": {
          "model_module": "@jupyter-widgets/controls",
          "model_name": "FloatProgressModel",
          "model_module_version": "1.5.0",
          "state": {
            "_dom_classes": [],
            "_model_module": "@jupyter-widgets/controls",
            "_model_module_version": "1.5.0",
            "_model_name": "FloatProgressModel",
            "_view_count": null,
            "_view_module": "@jupyter-widgets/controls",
            "_view_module_version": "1.5.0",
            "_view_name": "ProgressView",
            "bar_style": "success",
            "description": "",
            "description_tooltip": null,
            "layout": "IPY_MODEL_ed2f41a433764e488cb371f5d7990179",
            "max": 5069051,
            "min": 0,
            "orientation": "horizontal",
            "style": "IPY_MODEL_0817c08dd18f497e94fc33aab9492ec8",
            "value": 5069051
          }
        },
        "450c030324904973af84a237283867b3": {
          "model_module": "@jupyter-widgets/controls",
          "model_name": "HTMLModel",
          "model_module_version": "1.5.0",
          "state": {
            "_dom_classes": [],
            "_model_module": "@jupyter-widgets/controls",
            "_model_module_version": "1.5.0",
            "_model_name": "HTMLModel",
            "_view_count": null,
            "_view_module": "@jupyter-widgets/controls",
            "_view_module_version": "1.5.0",
            "_view_name": "HTMLView",
            "description": "",
            "description_tooltip": null,
            "layout": "IPY_MODEL_672f775f14bf4217a65f0c7c5977188f",
            "placeholder": "​",
            "style": "IPY_MODEL_7aeecc2cdac64a6bad11a61649227ecb",
            "value": " 5.07M/5.07M [00:00&lt;00:00, 16.0MB/s]"
          }
        },
        "6190cc29dc9b456aae329d9b1eaddc56": {
          "model_module": "@jupyter-widgets/base",
          "model_name": "LayoutModel",
          "model_module_version": "1.2.0",
          "state": {
            "_model_module": "@jupyter-widgets/base",
            "_model_module_version": "1.2.0",
            "_model_name": "LayoutModel",
            "_view_count": null,
            "_view_module": "@jupyter-widgets/base",
            "_view_module_version": "1.2.0",
            "_view_name": "LayoutView",
            "align_content": null,
            "align_items": null,
            "align_self": null,
            "border": null,
            "bottom": null,
            "display": null,
            "flex": null,
            "flex_flow": null,
            "grid_area": null,
            "grid_auto_columns": null,
            "grid_auto_flow": null,
            "grid_auto_rows": null,
            "grid_column": null,
            "grid_gap": null,
            "grid_row": null,
            "grid_template_areas": null,
            "grid_template_columns": null,
            "grid_template_rows": null,
            "height": null,
            "justify_content": null,
            "justify_items": null,
            "left": null,
            "margin": null,
            "max_height": null,
            "max_width": null,
            "min_height": null,
            "min_width": null,
            "object_fit": null,
            "object_position": null,
            "order": null,
            "overflow": null,
            "overflow_x": null,
            "overflow_y": null,
            "padding": null,
            "right": null,
            "top": null,
            "visibility": null,
            "width": null
          }
        },
        "6b41bb632b944845957ceb3672d26a08": {
          "model_module": "@jupyter-widgets/base",
          "model_name": "LayoutModel",
          "model_module_version": "1.2.0",
          "state": {
            "_model_module": "@jupyter-widgets/base",
            "_model_module_version": "1.2.0",
            "_model_name": "LayoutModel",
            "_view_count": null,
            "_view_module": "@jupyter-widgets/base",
            "_view_module_version": "1.2.0",
            "_view_name": "LayoutView",
            "align_content": null,
            "align_items": null,
            "align_self": null,
            "border": null,
            "bottom": null,
            "display": null,
            "flex": null,
            "flex_flow": null,
            "grid_area": null,
            "grid_auto_columns": null,
            "grid_auto_flow": null,
            "grid_auto_rows": null,
            "grid_column": null,
            "grid_gap": null,
            "grid_row": null,
            "grid_template_areas": null,
            "grid_template_columns": null,
            "grid_template_rows": null,
            "height": null,
            "justify_content": null,
            "justify_items": null,
            "left": null,
            "margin": null,
            "max_height": null,
            "max_width": null,
            "min_height": null,
            "min_width": null,
            "object_fit": null,
            "object_position": null,
            "order": null,
            "overflow": null,
            "overflow_x": null,
            "overflow_y": null,
            "padding": null,
            "right": null,
            "top": null,
            "visibility": null,
            "width": null
          }
        },
        "9727e883452541b8b5c0ef963ead0324": {
          "model_module": "@jupyter-widgets/controls",
          "model_name": "DescriptionStyleModel",
          "model_module_version": "1.5.0",
          "state": {
            "_model_module": "@jupyter-widgets/controls",
            "_model_module_version": "1.5.0",
            "_model_name": "DescriptionStyleModel",
            "_view_count": null,
            "_view_module": "@jupyter-widgets/base",
            "_view_module_version": "1.2.0",
            "_view_name": "StyleView",
            "description_width": ""
          }
        },
        "ed2f41a433764e488cb371f5d7990179": {
          "model_module": "@jupyter-widgets/base",
          "model_name": "LayoutModel",
          "model_module_version": "1.2.0",
          "state": {
            "_model_module": "@jupyter-widgets/base",
            "_model_module_version": "1.2.0",
            "_model_name": "LayoutModel",
            "_view_count": null,
            "_view_module": "@jupyter-widgets/base",
            "_view_module_version": "1.2.0",
            "_view_name": "LayoutView",
            "align_content": null,
            "align_items": null,
            "align_self": null,
            "border": null,
            "bottom": null,
            "display": null,
            "flex": null,
            "flex_flow": null,
            "grid_area": null,
            "grid_auto_columns": null,
            "grid_auto_flow": null,
            "grid_auto_rows": null,
            "grid_column": null,
            "grid_gap": null,
            "grid_row": null,
            "grid_template_areas": null,
            "grid_template_columns": null,
            "grid_template_rows": null,
            "height": null,
            "justify_content": null,
            "justify_items": null,
            "left": null,
            "margin": null,
            "max_height": null,
            "max_width": null,
            "min_height": null,
            "min_width": null,
            "object_fit": null,
            "object_position": null,
            "order": null,
            "overflow": null,
            "overflow_x": null,
            "overflow_y": null,
            "padding": null,
            "right": null,
            "top": null,
            "visibility": null,
            "width": null
          }
        },
        "0817c08dd18f497e94fc33aab9492ec8": {
          "model_module": "@jupyter-widgets/controls",
          "model_name": "ProgressStyleModel",
          "model_module_version": "1.5.0",
          "state": {
            "_model_module": "@jupyter-widgets/controls",
            "_model_module_version": "1.5.0",
            "_model_name": "ProgressStyleModel",
            "_view_count": null,
            "_view_module": "@jupyter-widgets/base",
            "_view_module_version": "1.2.0",
            "_view_name": "StyleView",
            "bar_color": null,
            "description_width": ""
          }
        },
        "672f775f14bf4217a65f0c7c5977188f": {
          "model_module": "@jupyter-widgets/base",
          "model_name": "LayoutModel",
          "model_module_version": "1.2.0",
          "state": {
            "_model_module": "@jupyter-widgets/base",
            "_model_module_version": "1.2.0",
            "_model_name": "LayoutModel",
            "_view_count": null,
            "_view_module": "@jupyter-widgets/base",
            "_view_module_version": "1.2.0",
            "_view_name": "LayoutView",
            "align_content": null,
            "align_items": null,
            "align_self": null,
            "border": null,
            "bottom": null,
            "display": null,
            "flex": null,
            "flex_flow": null,
            "grid_area": null,
            "grid_auto_columns": null,
            "grid_auto_flow": null,
            "grid_auto_rows": null,
            "grid_column": null,
            "grid_gap": null,
            "grid_row": null,
            "grid_template_areas": null,
            "grid_template_columns": null,
            "grid_template_rows": null,
            "height": null,
            "justify_content": null,
            "justify_items": null,
            "left": null,
            "margin": null,
            "max_height": null,
            "max_width": null,
            "min_height": null,
            "min_width": null,
            "object_fit": null,
            "object_position": null,
            "order": null,
            "overflow": null,
            "overflow_x": null,
            "overflow_y": null,
            "padding": null,
            "right": null,
            "top": null,
            "visibility": null,
            "width": null
          }
        },
        "7aeecc2cdac64a6bad11a61649227ecb": {
          "model_module": "@jupyter-widgets/controls",
          "model_name": "DescriptionStyleModel",
          "model_module_version": "1.5.0",
          "state": {
            "_model_module": "@jupyter-widgets/controls",
            "_model_module_version": "1.5.0",
            "_model_name": "DescriptionStyleModel",
            "_view_count": null,
            "_view_module": "@jupyter-widgets/base",
            "_view_module_version": "1.2.0",
            "_view_name": "StyleView",
            "description_width": ""
          }
        },
        "fb405bf9e34e44378e5929e4284f3e00": {
          "model_module": "@jupyter-widgets/controls",
          "model_name": "HBoxModel",
          "model_module_version": "1.5.0",
          "state": {
            "_dom_classes": [],
            "_model_module": "@jupyter-widgets/controls",
            "_model_module_version": "1.5.0",
            "_model_name": "HBoxModel",
            "_view_count": null,
            "_view_module": "@jupyter-widgets/controls",
            "_view_module_version": "1.5.0",
            "_view_name": "HBoxView",
            "box_style": "",
            "children": [
              "IPY_MODEL_911ecb7392ef4059a40a8586a3c357e6",
              "IPY_MODEL_82bbb781da924630927c172999e9a1b6",
              "IPY_MODEL_6e47dd3c6dd943c985958b5e1773cbb7"
            ],
            "layout": "IPY_MODEL_6575a26c9809420684912125f76da1a7"
          }
        },
        "911ecb7392ef4059a40a8586a3c357e6": {
          "model_module": "@jupyter-widgets/controls",
          "model_name": "HTMLModel",
          "model_module_version": "1.5.0",
          "state": {
            "_dom_classes": [],
            "_model_module": "@jupyter-widgets/controls",
            "_model_module_version": "1.5.0",
            "_model_name": "HTMLModel",
            "_view_count": null,
            "_view_module": "@jupyter-widgets/controls",
            "_view_module_version": "1.5.0",
            "_view_name": "HTMLView",
            "description": "",
            "description_tooltip": null,
            "layout": "IPY_MODEL_9830d488cdfc422eb889dadff0b2b299",
            "placeholder": "​",
            "style": "IPY_MODEL_0e13a7d9791b47fcb8f34ac48c4e1c7a",
            "value": "Downloading (…)/main/tokenizer.json: 100%"
          }
        },
        "82bbb781da924630927c172999e9a1b6": {
          "model_module": "@jupyter-widgets/controls",
          "model_name": "FloatProgressModel",
          "model_module_version": "1.5.0",
          "state": {
            "_dom_classes": [],
            "_model_module": "@jupyter-widgets/controls",
            "_model_module_version": "1.5.0",
            "_model_name": "FloatProgressModel",
            "_view_count": null,
            "_view_module": "@jupyter-widgets/controls",
            "_view_module_version": "1.5.0",
            "_view_name": "ProgressView",
            "bar_style": "success",
            "description": "",
            "description_tooltip": null,
            "layout": "IPY_MODEL_115ab74f306a408d9ecd144b73f5a8fc",
            "max": 9096718,
            "min": 0,
            "orientation": "horizontal",
            "style": "IPY_MODEL_1bceed3addae46ff8a620d4351948d40",
            "value": 9096718
          }
        },
        "6e47dd3c6dd943c985958b5e1773cbb7": {
          "model_module": "@jupyter-widgets/controls",
          "model_name": "HTMLModel",
          "model_module_version": "1.5.0",
          "state": {
            "_dom_classes": [],
            "_model_module": "@jupyter-widgets/controls",
            "_model_module_version": "1.5.0",
            "_model_name": "HTMLModel",
            "_view_count": null,
            "_view_module": "@jupyter-widgets/controls",
            "_view_module_version": "1.5.0",
            "_view_name": "HTMLView",
            "description": "",
            "description_tooltip": null,
            "layout": "IPY_MODEL_5be75867230e49c2b8d428b2c2de2b3b",
            "placeholder": "​",
            "style": "IPY_MODEL_0f8c341642554aff864c1a554030f7bd",
            "value": " 9.10M/9.10M [00:00&lt;00:00, 23.8MB/s]"
          }
        },
        "6575a26c9809420684912125f76da1a7": {
          "model_module": "@jupyter-widgets/base",
          "model_name": "LayoutModel",
          "model_module_version": "1.2.0",
          "state": {
            "_model_module": "@jupyter-widgets/base",
            "_model_module_version": "1.2.0",
            "_model_name": "LayoutModel",
            "_view_count": null,
            "_view_module": "@jupyter-widgets/base",
            "_view_module_version": "1.2.0",
            "_view_name": "LayoutView",
            "align_content": null,
            "align_items": null,
            "align_self": null,
            "border": null,
            "bottom": null,
            "display": null,
            "flex": null,
            "flex_flow": null,
            "grid_area": null,
            "grid_auto_columns": null,
            "grid_auto_flow": null,
            "grid_auto_rows": null,
            "grid_column": null,
            "grid_gap": null,
            "grid_row": null,
            "grid_template_areas": null,
            "grid_template_columns": null,
            "grid_template_rows": null,
            "height": null,
            "justify_content": null,
            "justify_items": null,
            "left": null,
            "margin": null,
            "max_height": null,
            "max_width": null,
            "min_height": null,
            "min_width": null,
            "object_fit": null,
            "object_position": null,
            "order": null,
            "overflow": null,
            "overflow_x": null,
            "overflow_y": null,
            "padding": null,
            "right": null,
            "top": null,
            "visibility": null,
            "width": null
          }
        },
        "9830d488cdfc422eb889dadff0b2b299": {
          "model_module": "@jupyter-widgets/base",
          "model_name": "LayoutModel",
          "model_module_version": "1.2.0",
          "state": {
            "_model_module": "@jupyter-widgets/base",
            "_model_module_version": "1.2.0",
            "_model_name": "LayoutModel",
            "_view_count": null,
            "_view_module": "@jupyter-widgets/base",
            "_view_module_version": "1.2.0",
            "_view_name": "LayoutView",
            "align_content": null,
            "align_items": null,
            "align_self": null,
            "border": null,
            "bottom": null,
            "display": null,
            "flex": null,
            "flex_flow": null,
            "grid_area": null,
            "grid_auto_columns": null,
            "grid_auto_flow": null,
            "grid_auto_rows": null,
            "grid_column": null,
            "grid_gap": null,
            "grid_row": null,
            "grid_template_areas": null,
            "grid_template_columns": null,
            "grid_template_rows": null,
            "height": null,
            "justify_content": null,
            "justify_items": null,
            "left": null,
            "margin": null,
            "max_height": null,
            "max_width": null,
            "min_height": null,
            "min_width": null,
            "object_fit": null,
            "object_position": null,
            "order": null,
            "overflow": null,
            "overflow_x": null,
            "overflow_y": null,
            "padding": null,
            "right": null,
            "top": null,
            "visibility": null,
            "width": null
          }
        },
        "0e13a7d9791b47fcb8f34ac48c4e1c7a": {
          "model_module": "@jupyter-widgets/controls",
          "model_name": "DescriptionStyleModel",
          "model_module_version": "1.5.0",
          "state": {
            "_model_module": "@jupyter-widgets/controls",
            "_model_module_version": "1.5.0",
            "_model_name": "DescriptionStyleModel",
            "_view_count": null,
            "_view_module": "@jupyter-widgets/base",
            "_view_module_version": "1.2.0",
            "_view_name": "StyleView",
            "description_width": ""
          }
        },
        "115ab74f306a408d9ecd144b73f5a8fc": {
          "model_module": "@jupyter-widgets/base",
          "model_name": "LayoutModel",
          "model_module_version": "1.2.0",
          "state": {
            "_model_module": "@jupyter-widgets/base",
            "_model_module_version": "1.2.0",
            "_model_name": "LayoutModel",
            "_view_count": null,
            "_view_module": "@jupyter-widgets/base",
            "_view_module_version": "1.2.0",
            "_view_name": "LayoutView",
            "align_content": null,
            "align_items": null,
            "align_self": null,
            "border": null,
            "bottom": null,
            "display": null,
            "flex": null,
            "flex_flow": null,
            "grid_area": null,
            "grid_auto_columns": null,
            "grid_auto_flow": null,
            "grid_auto_rows": null,
            "grid_column": null,
            "grid_gap": null,
            "grid_row": null,
            "grid_template_areas": null,
            "grid_template_columns": null,
            "grid_template_rows": null,
            "height": null,
            "justify_content": null,
            "justify_items": null,
            "left": null,
            "margin": null,
            "max_height": null,
            "max_width": null,
            "min_height": null,
            "min_width": null,
            "object_fit": null,
            "object_position": null,
            "order": null,
            "overflow": null,
            "overflow_x": null,
            "overflow_y": null,
            "padding": null,
            "right": null,
            "top": null,
            "visibility": null,
            "width": null
          }
        },
        "1bceed3addae46ff8a620d4351948d40": {
          "model_module": "@jupyter-widgets/controls",
          "model_name": "ProgressStyleModel",
          "model_module_version": "1.5.0",
          "state": {
            "_model_module": "@jupyter-widgets/controls",
            "_model_module_version": "1.5.0",
            "_model_name": "ProgressStyleModel",
            "_view_count": null,
            "_view_module": "@jupyter-widgets/base",
            "_view_module_version": "1.2.0",
            "_view_name": "StyleView",
            "bar_color": null,
            "description_width": ""
          }
        },
        "5be75867230e49c2b8d428b2c2de2b3b": {
          "model_module": "@jupyter-widgets/base",
          "model_name": "LayoutModel",
          "model_module_version": "1.2.0",
          "state": {
            "_model_module": "@jupyter-widgets/base",
            "_model_module_version": "1.2.0",
            "_model_name": "LayoutModel",
            "_view_count": null,
            "_view_module": "@jupyter-widgets/base",
            "_view_module_version": "1.2.0",
            "_view_name": "LayoutView",
            "align_content": null,
            "align_items": null,
            "align_self": null,
            "border": null,
            "bottom": null,
            "display": null,
            "flex": null,
            "flex_flow": null,
            "grid_area": null,
            "grid_auto_columns": null,
            "grid_auto_flow": null,
            "grid_auto_rows": null,
            "grid_column": null,
            "grid_gap": null,
            "grid_row": null,
            "grid_template_areas": null,
            "grid_template_columns": null,
            "grid_template_rows": null,
            "height": null,
            "justify_content": null,
            "justify_items": null,
            "left": null,
            "margin": null,
            "max_height": null,
            "max_width": null,
            "min_height": null,
            "min_width": null,
            "object_fit": null,
            "object_position": null,
            "order": null,
            "overflow": null,
            "overflow_x": null,
            "overflow_y": null,
            "padding": null,
            "right": null,
            "top": null,
            "visibility": null,
            "width": null
          }
        },
        "0f8c341642554aff864c1a554030f7bd": {
          "model_module": "@jupyter-widgets/controls",
          "model_name": "DescriptionStyleModel",
          "model_module_version": "1.5.0",
          "state": {
            "_model_module": "@jupyter-widgets/controls",
            "_model_module_version": "1.5.0",
            "_model_name": "DescriptionStyleModel",
            "_view_count": null,
            "_view_module": "@jupyter-widgets/base",
            "_view_module_version": "1.2.0",
            "_view_name": "StyleView",
            "description_width": ""
          }
        },
        "6eee160e0c5f44589bccdb1d417e2cec": {
          "model_module": "@jupyter-widgets/controls",
          "model_name": "HBoxModel",
          "model_module_version": "1.5.0",
          "state": {
            "_dom_classes": [],
            "_model_module": "@jupyter-widgets/controls",
            "_model_module_version": "1.5.0",
            "_model_name": "HBoxModel",
            "_view_count": null,
            "_view_module": "@jupyter-widgets/controls",
            "_view_module_version": "1.5.0",
            "_view_name": "HBoxView",
            "box_style": "",
            "children": [
              "IPY_MODEL_2467c654bb7e4a78a5e24bbdd9dc748d",
              "IPY_MODEL_51b28182852542aa85084da623291fe4",
              "IPY_MODEL_84e9219b547b42e7ab1c49576f7eb78e"
            ],
            "layout": "IPY_MODEL_38759b4b4d4e4cd5b9b68af6cc9c3df1"
          }
        },
        "2467c654bb7e4a78a5e24bbdd9dc748d": {
          "model_module": "@jupyter-widgets/controls",
          "model_name": "HTMLModel",
          "model_module_version": "1.5.0",
          "state": {
            "_dom_classes": [],
            "_model_module": "@jupyter-widgets/controls",
            "_model_module_version": "1.5.0",
            "_model_name": "HTMLModel",
            "_view_count": null,
            "_view_module": "@jupyter-widgets/controls",
            "_view_module_version": "1.5.0",
            "_view_name": "HTMLView",
            "description": "",
            "description_tooltip": null,
            "layout": "IPY_MODEL_2710ba765ae24457b8394eb3faa9138b",
            "placeholder": "​",
            "style": "IPY_MODEL_fc895356e0af4473a46c08108347ae80",
            "value": "Downloading model.safetensors: 100%"
          }
        },
        "51b28182852542aa85084da623291fe4": {
          "model_module": "@jupyter-widgets/controls",
          "model_name": "FloatProgressModel",
          "model_module_version": "1.5.0",
          "state": {
            "_dom_classes": [],
            "_model_module": "@jupyter-widgets/controls",
            "_model_module_version": "1.5.0",
            "_model_name": "FloatProgressModel",
            "_view_count": null,
            "_view_module": "@jupyter-widgets/controls",
            "_view_module_version": "1.5.0",
            "_view_name": "ProgressView",
            "bar_style": "success",
            "description": "",
            "description_tooltip": null,
            "layout": "IPY_MODEL_90e54b2c4ebf4599963b6ded0861ebe4",
            "max": 1115567652,
            "min": 0,
            "orientation": "horizontal",
            "style": "IPY_MODEL_f416e7ac7d004ffeb1f9f77968152878",
            "value": 1115567652
          }
        },
        "84e9219b547b42e7ab1c49576f7eb78e": {
          "model_module": "@jupyter-widgets/controls",
          "model_name": "HTMLModel",
          "model_module_version": "1.5.0",
          "state": {
            "_dom_classes": [],
            "_model_module": "@jupyter-widgets/controls",
            "_model_module_version": "1.5.0",
            "_model_name": "HTMLModel",
            "_view_count": null,
            "_view_module": "@jupyter-widgets/controls",
            "_view_module_version": "1.5.0",
            "_view_name": "HTMLView",
            "description": "",
            "description_tooltip": null,
            "layout": "IPY_MODEL_5dc4e4b0a57540a0b4aae6e296e3c154",
            "placeholder": "​",
            "style": "IPY_MODEL_5c85edd2223c4c248038f206930902f4",
            "value": " 1.12G/1.12G [00:03&lt;00:00, 334MB/s]"
          }
        },
        "38759b4b4d4e4cd5b9b68af6cc9c3df1": {
          "model_module": "@jupyter-widgets/base",
          "model_name": "LayoutModel",
          "model_module_version": "1.2.0",
          "state": {
            "_model_module": "@jupyter-widgets/base",
            "_model_module_version": "1.2.0",
            "_model_name": "LayoutModel",
            "_view_count": null,
            "_view_module": "@jupyter-widgets/base",
            "_view_module_version": "1.2.0",
            "_view_name": "LayoutView",
            "align_content": null,
            "align_items": null,
            "align_self": null,
            "border": null,
            "bottom": null,
            "display": null,
            "flex": null,
            "flex_flow": null,
            "grid_area": null,
            "grid_auto_columns": null,
            "grid_auto_flow": null,
            "grid_auto_rows": null,
            "grid_column": null,
            "grid_gap": null,
            "grid_row": null,
            "grid_template_areas": null,
            "grid_template_columns": null,
            "grid_template_rows": null,
            "height": null,
            "justify_content": null,
            "justify_items": null,
            "left": null,
            "margin": null,
            "max_height": null,
            "max_width": null,
            "min_height": null,
            "min_width": null,
            "object_fit": null,
            "object_position": null,
            "order": null,
            "overflow": null,
            "overflow_x": null,
            "overflow_y": null,
            "padding": null,
            "right": null,
            "top": null,
            "visibility": null,
            "width": null
          }
        },
        "2710ba765ae24457b8394eb3faa9138b": {
          "model_module": "@jupyter-widgets/base",
          "model_name": "LayoutModel",
          "model_module_version": "1.2.0",
          "state": {
            "_model_module": "@jupyter-widgets/base",
            "_model_module_version": "1.2.0",
            "_model_name": "LayoutModel",
            "_view_count": null,
            "_view_module": "@jupyter-widgets/base",
            "_view_module_version": "1.2.0",
            "_view_name": "LayoutView",
            "align_content": null,
            "align_items": null,
            "align_self": null,
            "border": null,
            "bottom": null,
            "display": null,
            "flex": null,
            "flex_flow": null,
            "grid_area": null,
            "grid_auto_columns": null,
            "grid_auto_flow": null,
            "grid_auto_rows": null,
            "grid_column": null,
            "grid_gap": null,
            "grid_row": null,
            "grid_template_areas": null,
            "grid_template_columns": null,
            "grid_template_rows": null,
            "height": null,
            "justify_content": null,
            "justify_items": null,
            "left": null,
            "margin": null,
            "max_height": null,
            "max_width": null,
            "min_height": null,
            "min_width": null,
            "object_fit": null,
            "object_position": null,
            "order": null,
            "overflow": null,
            "overflow_x": null,
            "overflow_y": null,
            "padding": null,
            "right": null,
            "top": null,
            "visibility": null,
            "width": null
          }
        },
        "fc895356e0af4473a46c08108347ae80": {
          "model_module": "@jupyter-widgets/controls",
          "model_name": "DescriptionStyleModel",
          "model_module_version": "1.5.0",
          "state": {
            "_model_module": "@jupyter-widgets/controls",
            "_model_module_version": "1.5.0",
            "_model_name": "DescriptionStyleModel",
            "_view_count": null,
            "_view_module": "@jupyter-widgets/base",
            "_view_module_version": "1.2.0",
            "_view_name": "StyleView",
            "description_width": ""
          }
        },
        "90e54b2c4ebf4599963b6ded0861ebe4": {
          "model_module": "@jupyter-widgets/base",
          "model_name": "LayoutModel",
          "model_module_version": "1.2.0",
          "state": {
            "_model_module": "@jupyter-widgets/base",
            "_model_module_version": "1.2.0",
            "_model_name": "LayoutModel",
            "_view_count": null,
            "_view_module": "@jupyter-widgets/base",
            "_view_module_version": "1.2.0",
            "_view_name": "LayoutView",
            "align_content": null,
            "align_items": null,
            "align_self": null,
            "border": null,
            "bottom": null,
            "display": null,
            "flex": null,
            "flex_flow": null,
            "grid_area": null,
            "grid_auto_columns": null,
            "grid_auto_flow": null,
            "grid_auto_rows": null,
            "grid_column": null,
            "grid_gap": null,
            "grid_row": null,
            "grid_template_areas": null,
            "grid_template_columns": null,
            "grid_template_rows": null,
            "height": null,
            "justify_content": null,
            "justify_items": null,
            "left": null,
            "margin": null,
            "max_height": null,
            "max_width": null,
            "min_height": null,
            "min_width": null,
            "object_fit": null,
            "object_position": null,
            "order": null,
            "overflow": null,
            "overflow_x": null,
            "overflow_y": null,
            "padding": null,
            "right": null,
            "top": null,
            "visibility": null,
            "width": null
          }
        },
        "f416e7ac7d004ffeb1f9f77968152878": {
          "model_module": "@jupyter-widgets/controls",
          "model_name": "ProgressStyleModel",
          "model_module_version": "1.5.0",
          "state": {
            "_model_module": "@jupyter-widgets/controls",
            "_model_module_version": "1.5.0",
            "_model_name": "ProgressStyleModel",
            "_view_count": null,
            "_view_module": "@jupyter-widgets/base",
            "_view_module_version": "1.2.0",
            "_view_name": "StyleView",
            "bar_color": null,
            "description_width": ""
          }
        },
        "5dc4e4b0a57540a0b4aae6e296e3c154": {
          "model_module": "@jupyter-widgets/base",
          "model_name": "LayoutModel",
          "model_module_version": "1.2.0",
          "state": {
            "_model_module": "@jupyter-widgets/base",
            "_model_module_version": "1.2.0",
            "_model_name": "LayoutModel",
            "_view_count": null,
            "_view_module": "@jupyter-widgets/base",
            "_view_module_version": "1.2.0",
            "_view_name": "LayoutView",
            "align_content": null,
            "align_items": null,
            "align_self": null,
            "border": null,
            "bottom": null,
            "display": null,
            "flex": null,
            "flex_flow": null,
            "grid_area": null,
            "grid_auto_columns": null,
            "grid_auto_flow": null,
            "grid_auto_rows": null,
            "grid_column": null,
            "grid_gap": null,
            "grid_row": null,
            "grid_template_areas": null,
            "grid_template_columns": null,
            "grid_template_rows": null,
            "height": null,
            "justify_content": null,
            "justify_items": null,
            "left": null,
            "margin": null,
            "max_height": null,
            "max_width": null,
            "min_height": null,
            "min_width": null,
            "object_fit": null,
            "object_position": null,
            "order": null,
            "overflow": null,
            "overflow_x": null,
            "overflow_y": null,
            "padding": null,
            "right": null,
            "top": null,
            "visibility": null,
            "width": null
          }
        },
        "5c85edd2223c4c248038f206930902f4": {
          "model_module": "@jupyter-widgets/controls",
          "model_name": "DescriptionStyleModel",
          "model_module_version": "1.5.0",
          "state": {
            "_model_module": "@jupyter-widgets/controls",
            "_model_module_version": "1.5.0",
            "_model_name": "DescriptionStyleModel",
            "_view_count": null,
            "_view_module": "@jupyter-widgets/base",
            "_view_module_version": "1.2.0",
            "_view_name": "StyleView",
            "description_width": ""
          }
        },
        "a1bb26cf70cc46e495bf9095c71387fc": {
          "model_module": "@jupyter-widgets/controls",
          "model_name": "HBoxModel",
          "model_module_version": "1.5.0",
          "state": {
            "_dom_classes": [],
            "_model_module": "@jupyter-widgets/controls",
            "_model_module_version": "1.5.0",
            "_model_name": "HBoxModel",
            "_view_count": null,
            "_view_module": "@jupyter-widgets/controls",
            "_view_module_version": "1.5.0",
            "_view_name": "HBoxView",
            "box_style": "",
            "children": [
              "IPY_MODEL_4c873f33106d4fbc81122b398ac27886",
              "IPY_MODEL_81b66f593a014cc0a3c409dcd289d487",
              "IPY_MODEL_a2752f7bce60414a87a3d76e0bdf4cc2"
            ],
            "layout": "IPY_MODEL_f166ffbf9bf9426faaa7b91ae2b98d5f"
          }
        },
        "4c873f33106d4fbc81122b398ac27886": {
          "model_module": "@jupyter-widgets/controls",
          "model_name": "HTMLModel",
          "model_module_version": "1.5.0",
          "state": {
            "_dom_classes": [],
            "_model_module": "@jupyter-widgets/controls",
            "_model_module_version": "1.5.0",
            "_model_name": "HTMLModel",
            "_view_count": null,
            "_view_module": "@jupyter-widgets/controls",
            "_view_module_version": "1.5.0",
            "_view_name": "HTMLView",
            "description": "",
            "description_tooltip": null,
            "layout": "IPY_MODEL_25db592779524b7da07309e147bf6fb6",
            "placeholder": "​",
            "style": "IPY_MODEL_ab6e91c8800049f0b31df226546d26a5",
            "value": "Downloading model.bin: 100%"
          }
        },
        "81b66f593a014cc0a3c409dcd289d487": {
          "model_module": "@jupyter-widgets/controls",
          "model_name": "FloatProgressModel",
          "model_module_version": "1.5.0",
          "state": {
            "_dom_classes": [],
            "_model_module": "@jupyter-widgets/controls",
            "_model_module_version": "1.5.0",
            "_model_name": "FloatProgressModel",
            "_view_count": null,
            "_view_module": "@jupyter-widgets/controls",
            "_view_module_version": "1.5.0",
            "_view_name": "ProgressView",
            "bar_style": "success",
            "description": "",
            "description_tooltip": null,
            "layout": "IPY_MODEL_c4859a28fc314ac781d1577a2088d518",
            "max": 1176355829,
            "min": 0,
            "orientation": "horizontal",
            "style": "IPY_MODEL_9a33270ccf414ab78b4f496257f61c69",
            "value": 1176355829
          }
        },
        "a2752f7bce60414a87a3d76e0bdf4cc2": {
          "model_module": "@jupyter-widgets/controls",
          "model_name": "HTMLModel",
          "model_module_version": "1.5.0",
          "state": {
            "_dom_classes": [],
            "_model_module": "@jupyter-widgets/controls",
            "_model_module_version": "1.5.0",
            "_model_name": "HTMLModel",
            "_view_count": null,
            "_view_module": "@jupyter-widgets/controls",
            "_view_module_version": "1.5.0",
            "_view_name": "HTMLView",
            "description": "",
            "description_tooltip": null,
            "layout": "IPY_MODEL_f50483e586364cc5b7a3142ff8f56065",
            "placeholder": "​",
            "style": "IPY_MODEL_718d6560393a4433873668d187aca05b",
            "value": " 1.18G/1.18G [02:06&lt;00:00, 15.0MB/s]"
          }
        },
        "f166ffbf9bf9426faaa7b91ae2b98d5f": {
          "model_module": "@jupyter-widgets/base",
          "model_name": "LayoutModel",
          "model_module_version": "1.2.0",
          "state": {
            "_model_module": "@jupyter-widgets/base",
            "_model_module_version": "1.2.0",
            "_model_name": "LayoutModel",
            "_view_count": null,
            "_view_module": "@jupyter-widgets/base",
            "_view_module_version": "1.2.0",
            "_view_name": "LayoutView",
            "align_content": null,
            "align_items": null,
            "align_self": null,
            "border": null,
            "bottom": null,
            "display": null,
            "flex": null,
            "flex_flow": null,
            "grid_area": null,
            "grid_auto_columns": null,
            "grid_auto_flow": null,
            "grid_auto_rows": null,
            "grid_column": null,
            "grid_gap": null,
            "grid_row": null,
            "grid_template_areas": null,
            "grid_template_columns": null,
            "grid_template_rows": null,
            "height": null,
            "justify_content": null,
            "justify_items": null,
            "left": null,
            "margin": null,
            "max_height": null,
            "max_width": null,
            "min_height": null,
            "min_width": null,
            "object_fit": null,
            "object_position": null,
            "order": null,
            "overflow": null,
            "overflow_x": null,
            "overflow_y": null,
            "padding": null,
            "right": null,
            "top": null,
            "visibility": null,
            "width": null
          }
        },
        "25db592779524b7da07309e147bf6fb6": {
          "model_module": "@jupyter-widgets/base",
          "model_name": "LayoutModel",
          "model_module_version": "1.2.0",
          "state": {
            "_model_module": "@jupyter-widgets/base",
            "_model_module_version": "1.2.0",
            "_model_name": "LayoutModel",
            "_view_count": null,
            "_view_module": "@jupyter-widgets/base",
            "_view_module_version": "1.2.0",
            "_view_name": "LayoutView",
            "align_content": null,
            "align_items": null,
            "align_self": null,
            "border": null,
            "bottom": null,
            "display": null,
            "flex": null,
            "flex_flow": null,
            "grid_area": null,
            "grid_auto_columns": null,
            "grid_auto_flow": null,
            "grid_auto_rows": null,
            "grid_column": null,
            "grid_gap": null,
            "grid_row": null,
            "grid_template_areas": null,
            "grid_template_columns": null,
            "grid_template_rows": null,
            "height": null,
            "justify_content": null,
            "justify_items": null,
            "left": null,
            "margin": null,
            "max_height": null,
            "max_width": null,
            "min_height": null,
            "min_width": null,
            "object_fit": null,
            "object_position": null,
            "order": null,
            "overflow": null,
            "overflow_x": null,
            "overflow_y": null,
            "padding": null,
            "right": null,
            "top": null,
            "visibility": null,
            "width": null
          }
        },
        "ab6e91c8800049f0b31df226546d26a5": {
          "model_module": "@jupyter-widgets/controls",
          "model_name": "DescriptionStyleModel",
          "model_module_version": "1.5.0",
          "state": {
            "_model_module": "@jupyter-widgets/controls",
            "_model_module_version": "1.5.0",
            "_model_name": "DescriptionStyleModel",
            "_view_count": null,
            "_view_module": "@jupyter-widgets/base",
            "_view_module_version": "1.2.0",
            "_view_name": "StyleView",
            "description_width": ""
          }
        },
        "c4859a28fc314ac781d1577a2088d518": {
          "model_module": "@jupyter-widgets/base",
          "model_name": "LayoutModel",
          "model_module_version": "1.2.0",
          "state": {
            "_model_module": "@jupyter-widgets/base",
            "_model_module_version": "1.2.0",
            "_model_name": "LayoutModel",
            "_view_count": null,
            "_view_module": "@jupyter-widgets/base",
            "_view_module_version": "1.2.0",
            "_view_name": "LayoutView",
            "align_content": null,
            "align_items": null,
            "align_self": null,
            "border": null,
            "bottom": null,
            "display": null,
            "flex": null,
            "flex_flow": null,
            "grid_area": null,
            "grid_auto_columns": null,
            "grid_auto_flow": null,
            "grid_auto_rows": null,
            "grid_column": null,
            "grid_gap": null,
            "grid_row": null,
            "grid_template_areas": null,
            "grid_template_columns": null,
            "grid_template_rows": null,
            "height": null,
            "justify_content": null,
            "justify_items": null,
            "left": null,
            "margin": null,
            "max_height": null,
            "max_width": null,
            "min_height": null,
            "min_width": null,
            "object_fit": null,
            "object_position": null,
            "order": null,
            "overflow": null,
            "overflow_x": null,
            "overflow_y": null,
            "padding": null,
            "right": null,
            "top": null,
            "visibility": null,
            "width": null
          }
        },
        "9a33270ccf414ab78b4f496257f61c69": {
          "model_module": "@jupyter-widgets/controls",
          "model_name": "ProgressStyleModel",
          "model_module_version": "1.5.0",
          "state": {
            "_model_module": "@jupyter-widgets/controls",
            "_model_module_version": "1.5.0",
            "_model_name": "ProgressStyleModel",
            "_view_count": null,
            "_view_module": "@jupyter-widgets/base",
            "_view_module_version": "1.2.0",
            "_view_name": "StyleView",
            "bar_color": null,
            "description_width": ""
          }
        },
        "f50483e586364cc5b7a3142ff8f56065": {
          "model_module": "@jupyter-widgets/base",
          "model_name": "LayoutModel",
          "model_module_version": "1.2.0",
          "state": {
            "_model_module": "@jupyter-widgets/base",
            "_model_module_version": "1.2.0",
            "_model_name": "LayoutModel",
            "_view_count": null,
            "_view_module": "@jupyter-widgets/base",
            "_view_module_version": "1.2.0",
            "_view_name": "LayoutView",
            "align_content": null,
            "align_items": null,
            "align_self": null,
            "border": null,
            "bottom": null,
            "display": null,
            "flex": null,
            "flex_flow": null,
            "grid_area": null,
            "grid_auto_columns": null,
            "grid_auto_flow": null,
            "grid_auto_rows": null,
            "grid_column": null,
            "grid_gap": null,
            "grid_row": null,
            "grid_template_areas": null,
            "grid_template_columns": null,
            "grid_template_rows": null,
            "height": null,
            "justify_content": null,
            "justify_items": null,
            "left": null,
            "margin": null,
            "max_height": null,
            "max_width": null,
            "min_height": null,
            "min_width": null,
            "object_fit": null,
            "object_position": null,
            "order": null,
            "overflow": null,
            "overflow_x": null,
            "overflow_y": null,
            "padding": null,
            "right": null,
            "top": null,
            "visibility": null,
            "width": null
          }
        },
        "718d6560393a4433873668d187aca05b": {
          "model_module": "@jupyter-widgets/controls",
          "model_name": "DescriptionStyleModel",
          "model_module_version": "1.5.0",
          "state": {
            "_model_module": "@jupyter-widgets/controls",
            "_model_module_version": "1.5.0",
            "_model_name": "DescriptionStyleModel",
            "_view_count": null,
            "_view_module": "@jupyter-widgets/base",
            "_view_module_version": "1.2.0",
            "_view_name": "StyleView",
            "description_width": ""
          }
        }
      }
    }
  },
  "nbformat": 4,
  "nbformat_minor": 0
}