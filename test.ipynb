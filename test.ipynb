{
 "cells": [
  {
   "cell_type": "code",
   "execution_count": 1,
   "metadata": {},
   "outputs": [],
   "source": [
    "import argilla as rg\n",
    "import pandas as pd\n",
    "import numpy as np"
   ]
  },
  {
   "cell_type": "code",
   "execution_count": null,
   "metadata": {},
   "outputs": [],
   "source": [
    "rg.init(\n",
    "    api_url=\"http://localhost:6900/\",\n",
    "    api_key=\"admin.apikey\",\n",
    "    workspace=\"admin\",\n",
    "    extra_headers={\"X-Argilla-Workspace\": \"my_connection_headers\"}\n",
    ")"
   ]
  },
  {
   "cell_type": "code",
   "execution_count": 2,
   "metadata": {},
   "outputs": [
    {
     "name": "stderr",
     "output_type": "stream",
     "text": [
      "/var/folders/pz/qy3yq1t97s7g1m5s3hbsqjpc0000gn/T/ipykernel_36032/561396766.py:2: DtypeWarning: Columns (4,8,10,11,12,13,16,17,18,19,20,21,22,23,24,25,26,28,29,30,31,32,33,34,37,38,39,40,41,42,44,45,46,47,49,50,51,52,53,54,55,58,59,60,61,62,63,64,65,66,67,68,70,71,72,73,74,77,78,79,80,81,82,83,84,85,86,87,89,90,91,92,93,94,95,98,99,100,101,102,103,104,105,106,107,108,110,111,112,113,114,115,116,119,120,121,123,124,125,126,128,129,131,132,133,134,135,136,137,140,141,142,143,144,145,146,147,148,149,150,152,153,154,155,156,157,158,161,162,163,164,165,166,167,168,169,170,172,173,175,176,177,178,179,182,183,184,185,186,187,188,189,190,192,193,194,195,196,197,200,201,202,203,204,206,207,208,209,212,213,214,215,218,219,220,221,222,223,226,227,228,229,230,231,232,233,234,235,236,237,238,239,240,241,242,244,245,246,251,255,258,259) have mixed types. Specify dtype option on import or set low_memory=False.\n",
      "  ushahidi_df = pd.read_csv(\"data/ushahidi.csv\")\n"
     ]
    },
    {
     "data": {
      "text/plain": [
       "(102387, 260)"
      ]
     },
     "execution_count": 2,
     "metadata": {},
     "output_type": "execute_result"
    }
   ],
   "source": [
    "# Load the dataset\n",
    "ushahidi_df = pd.read_csv(\"data/ushahidi.csv\")\n",
    "ushahidi_df.shape"
   ]
  },
  {
   "cell_type": "code",
   "execution_count": 3,
   "metadata": {},
   "outputs": [],
   "source": [
    "# What if I create a function that takes a list of duplicated columns then for each column, finds the columns related to it and creates a new column with the cleaned values\n",
    "#Dictionary to contain column name as key and the new column name to create \n",
    "#dp prefix before column name is used as shorthand for deduplicated\n",
    "duplicated_cols_to_be_cleaned = { \n",
    "    \"Title\":\"dp_title\",\n",
    "    \"Description\":\"dp_description\",\n",
    "    \"Location.lat\": \"dp_location_lat\", \n",
    "    \"Location.lon\": \"dp_location_long\",\n",
    "    \"Nature of this incident\":\"dp_nature_of_this_incident\",\n",
    "    \"Verification Status\":\"dp_verificiation_status\",\n",
    "    \"Media Source\":\"dp_media_source\",\n",
    "    \"Translation Status\": \"dp_translation_status\",\n",
    "    \"Description Translation\": \"dp_description_translation\"\n",
    "}\n",
    "\n",
    "def deduplicate_cols(dp_dict:dict, df:pd.DataFrame):\n",
    "    def clean_row(row, dup_cols):\n",
    "        val = np.nan\n",
    "        for col in dup_cols:\n",
    "            if pd.isnull(row[col]) != True:\n",
    "                val = row[col]\n",
    "        return val \n",
    "\n",
    "    for duplicted_col_name in dp_dict.keys():\n",
    "        # Get all the list of columns that match the duplicated column name \n",
    "        dup_cols = df.columns[df.columns.str.contains(pat = duplicted_col_name)]\n",
    "        # Create a new column that deduplicates the columns\n",
    "        df[dp_dict[duplicted_col_name]] = df.apply(lambda row: clean_row(row, dup_cols), axis=1)\n",
    "    \n",
    "    return df\n"
   ]
  },
  {
   "cell_type": "code",
   "execution_count": 4,
   "metadata": {},
   "outputs": [],
   "source": [
    "ushahidi_df = deduplicate_cols(duplicated_cols_to_be_cleaned, ushahidi_df)"
   ]
  },
  {
   "cell_type": "code",
   "execution_count": 5,
   "metadata": {},
   "outputs": [],
   "source": [
    "labels = ['Opinions', 'Political Rallies', 'Positive Events', 'Security Issues', 'Media Reports',\n",
    "       'Voting Issues', 'Counting and Results', 'Staffing Issues', 'Polling Station Administration', 'Unstructured', 'Other']"
   ]
  },
  {
   "cell_type": "code",
   "execution_count": 6,
   "metadata": {},
   "outputs": [],
   "source": [
    "data_df = ushahidi_df[ushahidi_df['Survey'].isin(labels)]"
   ]
  },
  {
   "cell_type": "code",
   "execution_count": 7,
   "metadata": {},
   "outputs": [],
   "source": [
    "deduplicated_cols = list(duplicated_cols_to_be_cleaned.values())\n",
    "\n",
    "cols_of_interest = [\"Post ID\", \"Survey\", \"Post Status\", \"Created (UTC)\", \"Updated (UTC)\", \"Post Date (UTC)\", \n",
    "                    \"Source\", \"Data Source ID\", \"Source\"]\n",
    "\n",
    "cols_of_interest = cols_of_interest +  deduplicated_cols"
   ]
  },
  {
   "cell_type": "code",
   "execution_count": 8,
   "metadata": {},
   "outputs": [],
   "source": [
    "filtered_df = data_df[[\"Post ID\",\"Survey\",\"dp_description\",\"Post Status\", \"Post Date (UTC)\",\"dp_nature_of_this_incident\",\"dp_location_lat\",\"dp_location_long\"]]"
   ]
  },
  {
   "cell_type": "code",
   "execution_count": 9,
   "metadata": {},
   "outputs": [
    {
     "data": {
      "text/plain": [
       "(100277, 8)"
      ]
     },
     "execution_count": 9,
     "metadata": {},
     "output_type": "execute_result"
    }
   ],
   "source": [
    "filtered_df.shape"
   ]
  },
  {
   "cell_type": "code",
   "execution_count": 10,
   "metadata": {},
   "outputs": [
    {
     "data": {
      "text/html": [
       "<div>\n",
       "<style scoped>\n",
       "    .dataframe tbody tr th:only-of-type {\n",
       "        vertical-align: middle;\n",
       "    }\n",
       "\n",
       "    .dataframe tbody tr th {\n",
       "        vertical-align: top;\n",
       "    }\n",
       "\n",
       "    .dataframe thead th {\n",
       "        text-align: right;\n",
       "    }\n",
       "</style>\n",
       "<table border=\"1\" class=\"dataframe\">\n",
       "  <thead>\n",
       "    <tr style=\"text-align: right;\">\n",
       "      <th></th>\n",
       "      <th>Post ID</th>\n",
       "      <th>Survey</th>\n",
       "      <th>dp_description</th>\n",
       "      <th>Post Status</th>\n",
       "      <th>Post Date (UTC)</th>\n",
       "      <th>dp_nature_of_this_incident</th>\n",
       "      <th>dp_location_lat</th>\n",
       "      <th>dp_location_long</th>\n",
       "    </tr>\n",
       "  </thead>\n",
       "  <tbody>\n",
       "    <tr>\n",
       "      <th>1</th>\n",
       "      <td>4.0</td>\n",
       "      <td>Polling Station Administration</td>\n",
       "      <td>https://twitter.com/1146124540055052289/status...</td>\n",
       "      <td>published</td>\n",
       "      <td>2022-06-27 13:45:01</td>\n",
       "      <td>Polling station logistical issues</td>\n",
       "      <td>-1.303169</td>\n",
       "      <td>36.826061</td>\n",
       "    </tr>\n",
       "    <tr>\n",
       "      <th>2</th>\n",
       "      <td>5.0</td>\n",
       "      <td>Unstructured</td>\n",
       "      <td>NaN</td>\n",
       "      <td>draft</td>\n",
       "      <td>2022-06-27 13:44:20</td>\n",
       "      <td>NaN</td>\n",
       "      <td>NaN</td>\n",
       "      <td>NaN</td>\n",
       "    </tr>\n",
       "    <tr>\n",
       "      <th>3</th>\n",
       "      <td>6.0</td>\n",
       "      <td>Polling Station Administration</td>\n",
       "      <td>https://twitter.com/1510781350902706180/status...</td>\n",
       "      <td>archived</td>\n",
       "      <td>2022-06-27 13:25:51</td>\n",
       "      <td>Polling station logistical issues</td>\n",
       "      <td>-1.283253</td>\n",
       "      <td>36.817245</td>\n",
       "    </tr>\n",
       "    <tr>\n",
       "      <th>4</th>\n",
       "      <td>7.0</td>\n",
       "      <td>Unstructured</td>\n",
       "      <td>NaN</td>\n",
       "      <td>draft</td>\n",
       "      <td>2022-06-27 12:56:55</td>\n",
       "      <td>NaN</td>\n",
       "      <td>NaN</td>\n",
       "      <td>NaN</td>\n",
       "    </tr>\n",
       "    <tr>\n",
       "      <th>5</th>\n",
       "      <td>8.0</td>\n",
       "      <td>Unstructured</td>\n",
       "      <td>NaN</td>\n",
       "      <td>draft</td>\n",
       "      <td>2022-06-27 13:45:01</td>\n",
       "      <td>NaN</td>\n",
       "      <td>NaN</td>\n",
       "      <td>NaN</td>\n",
       "    </tr>\n",
       "  </tbody>\n",
       "</table>\n",
       "</div>"
      ],
      "text/plain": [
       "   Post ID                          Survey  \\\n",
       "1      4.0  Polling Station Administration   \n",
       "2      5.0                    Unstructured   \n",
       "3      6.0  Polling Station Administration   \n",
       "4      7.0                    Unstructured   \n",
       "5      8.0                    Unstructured   \n",
       "\n",
       "                                      dp_description Post Status  \\\n",
       "1  https://twitter.com/1146124540055052289/status...   published   \n",
       "2                                                NaN       draft   \n",
       "3  https://twitter.com/1510781350902706180/status...    archived   \n",
       "4                                                NaN       draft   \n",
       "5                                                NaN       draft   \n",
       "\n",
       "       Post Date (UTC)         dp_nature_of_this_incident  dp_location_lat  \\\n",
       "1  2022-06-27 13:45:01  Polling station logistical issues        -1.303169   \n",
       "2  2022-06-27 13:44:20                                NaN              NaN   \n",
       "3  2022-06-27 13:25:51  Polling station logistical issues        -1.283253   \n",
       "4  2022-06-27 12:56:55                                NaN              NaN   \n",
       "5  2022-06-27 13:45:01                                NaN              NaN   \n",
       "\n",
       "   dp_location_long  \n",
       "1         36.826061  \n",
       "2               NaN  \n",
       "3         36.817245  \n",
       "4               NaN  \n",
       "5               NaN  "
      ]
     },
     "execution_count": 10,
     "metadata": {},
     "output_type": "execute_result"
    }
   ],
   "source": [
    "filtered_df.head()"
   ]
  },
  {
   "cell_type": "code",
   "execution_count": 11,
   "metadata": {},
   "outputs": [
    {
     "name": "stdout",
     "output_type": "stream",
     "text": [
      "<class 'pandas.core.series.Series'>\n",
      "Int64Index: 100277 entries, 1 to 102379\n",
      "Series name: Post Date (UTC)\n",
      "Non-Null Count   Dtype \n",
      "--------------   ----- \n",
      "100277 non-null  object\n",
      "dtypes: object(1)\n",
      "memory usage: 1.5+ MB\n"
     ]
    }
   ],
   "source": [
    "filtered_df[\"Post Date (UTC)\"].info()"
   ]
  },
  {
   "cell_type": "code",
   "execution_count": 12,
   "metadata": {},
   "outputs": [
    {
     "name": "stderr",
     "output_type": "stream",
     "text": [
      "/var/folders/pz/qy3yq1t97s7g1m5s3hbsqjpc0000gn/T/ipykernel_36032/2918578088.py:1: DtypeWarning: Columns (4,9,10,11,14,15,16,17,18,19,20,21,22,23,24,26,27,28,29,30,31,34,35,36,37,38,39,40,41,42,44,45,46,47,48,49,52,53,54,56,57,58,59,60,61,62,64,65,66,67,70,71,72,73,74,75,76,77,78,79,80,82,83,84,85,86,87,90,91,92,94,95,96,97,98,99,100,101,103,104,105,106,107,108,111,112,113,115,116,117,118,119,120,121,122,124,125,126,127,128,129,132,133,134,135,136,138,139,140,141,142,143,145,146,147,148,149,151,152,153,154,155,158,159,160,161,162,163,164,165,166,167,168,170,172,173,174,175,176,179,180,181,182,183,184,185,186,187,188,189,191,192,193,194,199,200,201,202,203,205,206,207,209,210,211,213,214,215,217,218,219,220,221,223,225,227,229) have mixed types. Specify dtype option on import or set low_memory=False.\n",
      "  uchaguzi_df = pd.read_csv(\"data/Uchaguzi August 2017.csv\")\n"
     ]
    },
    {
     "data": {
      "text/plain": [
       "(49122, 230)"
      ]
     },
     "execution_count": 12,
     "metadata": {},
     "output_type": "execute_result"
    }
   ],
   "source": [
    "uchaguzi_df = pd.read_csv(\"data/Uchaguzi August 2017.csv\")\n",
    "uchaguzi_df.shape"
   ]
  },
  {
   "cell_type": "code",
   "execution_count": 13,
   "metadata": {},
   "outputs": [
    {
     "name": "stderr",
     "output_type": "stream",
     "text": [
      "/var/folders/pz/qy3yq1t97s7g1m5s3hbsqjpc0000gn/T/ipykernel_36032/2824090327.py:1: DtypeWarning: Columns (16,25,43,44,102,103,113,119,121,123,126,135,145,146,148,157,163,199) have mixed types. Specify dtype option on import or set low_memory=False.\n",
      "  uchaguzi_rerun_df = pd.read_csv(\"data/Uchaguzi October 2017.csv\")\n"
     ]
    },
    {
     "data": {
      "text/plain": [
       "(7617, 204)"
      ]
     },
     "execution_count": 13,
     "metadata": {},
     "output_type": "execute_result"
    }
   ],
   "source": [
    "uchaguzi_rerun_df = pd.read_csv(\"data/Uchaguzi October 2017.csv\")\n",
    "uchaguzi_rerun_df.shape"
   ]
  },
  {
   "cell_type": "code",
   "execution_count": 14,
   "metadata": {},
   "outputs": [
    {
     "name": "stdout",
     "output_type": "stream",
     "text": [
      "Before dropping columns that are null : (7617, 204)\n",
      "After dropping columns that are null : (7617, 204)\n"
     ]
    }
   ],
   "source": [
    "# Drop all columns that are fully null\n",
    "print(f\"Before dropping columns that are null : {uchaguzi_rerun_df.shape}\")\n",
    "uchaguzi_df = uchaguzi_df.dropna(axis=1, how='all')\n",
    "print(f\"After dropping columns that are null : {uchaguzi_rerun_df.shape}\")"
   ]
  },
  {
   "cell_type": "code",
   "execution_count": 15,
   "metadata": {},
   "outputs": [
    {
     "name": "stdout",
     "output_type": "stream",
     "text": [
      "Before dropping columns that are null : (49122, 213)\n",
      "After dropping columns that are null : (49122, 213)\n"
     ]
    }
   ],
   "source": [
    "# Drop all columns that are fully null\n",
    "print(f\"Before dropping columns that are null : {uchaguzi_df.shape}\")\n",
    "uchaguzi_df = uchaguzi_df.dropna(axis=1, how='all')\n",
    "print(f\"After dropping columns that are null : {uchaguzi_df.shape}\")"
   ]
  },
  {
   "cell_type": "code",
   "execution_count": 16,
   "metadata": {},
   "outputs": [],
   "source": [
    "uchaguzi_df = deduplicate_cols(duplicated_cols_to_be_cleaned, uchaguzi_df)"
   ]
  },
  {
   "cell_type": "code",
   "execution_count": 17,
   "metadata": {},
   "outputs": [],
   "source": [
    "uchaguzi_rerun_df = deduplicate_cols(duplicated_cols_to_be_cleaned, uchaguzi_rerun_df)"
   ]
  },
  {
   "cell_type": "code",
   "execution_count": null,
   "metadata": {},
   "outputs": [],
   "source": [
    "uchaguzi_rerun_df['']"
   ]
  },
  {
   "cell_type": "code",
   "execution_count": 18,
   "metadata": {},
   "outputs": [
    {
     "data": {
      "text/html": [
       "<div>\n",
       "<style scoped>\n",
       "    .dataframe tbody tr th:only-of-type {\n",
       "        vertical-align: middle;\n",
       "    }\n",
       "\n",
       "    .dataframe tbody tr th {\n",
       "        vertical-align: top;\n",
       "    }\n",
       "\n",
       "    .dataframe thead th {\n",
       "        text-align: right;\n",
       "    }\n",
       "</style>\n",
       "<table border=\"1\" class=\"dataframe\">\n",
       "  <thead>\n",
       "    <tr style=\"text-align: right;\">\n",
       "      <th></th>\n",
       "      <th>Post ID</th>\n",
       "      <th>Survey</th>\n",
       "      <th>Post Status</th>\n",
       "      <th>Created (UTC)</th>\n",
       "      <th>Updated (UTC)</th>\n",
       "      <th>Post Date (UTC)</th>\n",
       "      <th>Contact ID</th>\n",
       "      <th>Contact</th>\n",
       "      <th>Unstructured Description</th>\n",
       "      <th>Description</th>\n",
       "      <th>...</th>\n",
       "      <th>Media Link.8</th>\n",
       "      <th>dp_title</th>\n",
       "      <th>dp_description</th>\n",
       "      <th>dp_location_lat</th>\n",
       "      <th>dp_location_long</th>\n",
       "      <th>dp_nature_of_this_incident</th>\n",
       "      <th>dp_verificiation_status</th>\n",
       "      <th>dp_media_source</th>\n",
       "      <th>dp_translation_status</th>\n",
       "      <th>dp_description_translation</th>\n",
       "    </tr>\n",
       "  </thead>\n",
       "  <tbody>\n",
       "    <tr>\n",
       "      <th>0</th>\n",
       "      <td>NaN</td>\n",
       "      <td>NaN</td>\n",
       "      <td>NaN</td>\n",
       "      <td>NaN</td>\n",
       "      <td>NaN</td>\n",
       "      <td>NaN</td>\n",
       "      <td>NaN</td>\n",
       "      <td>NaN</td>\n",
       "      <td>NaN</td>\n",
       "      <td>NaN</td>\n",
       "      <td>...</td>\n",
       "      <td>NaN</td>\n",
       "      <td>NaN</td>\n",
       "      <td>NaN</td>\n",
       "      <td>NaN</td>\n",
       "      <td>NaN</td>\n",
       "      <td>NaN</td>\n",
       "      <td>NaN</td>\n",
       "      <td>NaN</td>\n",
       "      <td>NaN</td>\n",
       "      <td>NaN</td>\n",
       "    </tr>\n",
       "    <tr>\n",
       "      <th>1</th>\n",
       "      <td>31289.0</td>\n",
       "      <td>Unstructured</td>\n",
       "      <td>archived</td>\n",
       "      <td>2017-10-20 08:20:03</td>\n",
       "      <td>2017-10-26 17:30:37</td>\n",
       "      <td>2017-10-20 08:20:03</td>\n",
       "      <td>9906.0</td>\n",
       "      <td>purposepro1</td>\n",
       "      <td>And @HCNicHailey, @BobGodec @MarietjeSchaake i...</td>\n",
       "      <td>NaN</td>\n",
       "      <td>...</td>\n",
       "      <td>NaN</td>\n",
       "      <td>NaN</td>\n",
       "      <td>And @HCNicHailey, @BobGodec @MarietjeSchaake i...</td>\n",
       "      <td>NaN</td>\n",
       "      <td>NaN</td>\n",
       "      <td>NaN</td>\n",
       "      <td>NaN</td>\n",
       "      <td>NaN</td>\n",
       "      <td>NaN</td>\n",
       "      <td>NaN</td>\n",
       "    </tr>\n",
       "    <tr>\n",
       "      <th>2</th>\n",
       "      <td>31290.0</td>\n",
       "      <td>Media Reports</td>\n",
       "      <td>published</td>\n",
       "      <td>2017-10-20 08:25:03</td>\n",
       "      <td>2017-10-29 17:47:16</td>\n",
       "      <td>2017-10-20 08:25:03</td>\n",
       "      <td>8832.0</td>\n",
       "      <td>GRono</td>\n",
       "      <td>NaN</td>\n",
       "      <td>NaN</td>\n",
       "      <td>...</td>\n",
       "      <td>NaN</td>\n",
       "      <td>Varsities close amid electoral crisis (Muliro ...</td>\n",
       "      <td>\"Varsities close amid electoral crisis. https:...</td>\n",
       "      <td>0.288794</td>\n",
       "      <td>34.764456</td>\n",
       "      <td>NaN</td>\n",
       "      <td>Verification,No need for verification</td>\n",
       "      <td>Media Stream Source,Other</td>\n",
       "      <td>Translation,No need for translation</td>\n",
       "      <td>NaN</td>\n",
       "    </tr>\n",
       "    <tr>\n",
       "      <th>3</th>\n",
       "      <td>31291.0</td>\n",
       "      <td>Unstructured</td>\n",
       "      <td>archived</td>\n",
       "      <td>2017-10-20 08:25:03</td>\n",
       "      <td>2017-10-26 18:33:01</td>\n",
       "      <td>2017-10-20 08:25:03</td>\n",
       "      <td>1265.0</td>\n",
       "      <td>dailynation</td>\n",
       "      <td>Varsities close amid electoral crisis. https:/...</td>\n",
       "      <td>NaN</td>\n",
       "      <td>...</td>\n",
       "      <td>NaN</td>\n",
       "      <td>NaN</td>\n",
       "      <td>Varsities close amid electoral crisis. https:/...</td>\n",
       "      <td>NaN</td>\n",
       "      <td>NaN</td>\n",
       "      <td>NaN</td>\n",
       "      <td>NaN</td>\n",
       "      <td>NaN</td>\n",
       "      <td>NaN</td>\n",
       "      <td>NaN</td>\n",
       "    </tr>\n",
       "    <tr>\n",
       "      <th>4</th>\n",
       "      <td>31292.0</td>\n",
       "      <td>Unstructured</td>\n",
       "      <td>archived</td>\n",
       "      <td>2017-10-20 08:30:03</td>\n",
       "      <td>2017-10-26 11:39:42</td>\n",
       "      <td>2017-10-20 08:30:03</td>\n",
       "      <td>4585.0</td>\n",
       "      <td>AizakMohamed</td>\n",
       "      <td>After keeping every rigging mechanism in place...</td>\n",
       "      <td>NaN</td>\n",
       "      <td>...</td>\n",
       "      <td>NaN</td>\n",
       "      <td>NaN</td>\n",
       "      <td>After keeping every rigging mechanism in place...</td>\n",
       "      <td>NaN</td>\n",
       "      <td>NaN</td>\n",
       "      <td>NaN</td>\n",
       "      <td>NaN</td>\n",
       "      <td>NaN</td>\n",
       "      <td>NaN</td>\n",
       "      <td>NaN</td>\n",
       "    </tr>\n",
       "  </tbody>\n",
       "</table>\n",
       "<p>5 rows × 213 columns</p>\n",
       "</div>"
      ],
      "text/plain": [
       "   Post ID         Survey Post Status        Created (UTC)  \\\n",
       "0      NaN            NaN         NaN                  NaN   \n",
       "1  31289.0   Unstructured    archived  2017-10-20 08:20:03   \n",
       "2  31290.0  Media Reports   published  2017-10-20 08:25:03   \n",
       "3  31291.0   Unstructured    archived  2017-10-20 08:25:03   \n",
       "4  31292.0   Unstructured    archived  2017-10-20 08:30:03   \n",
       "\n",
       "         Updated (UTC)      Post Date (UTC)  Contact ID       Contact  \\\n",
       "0                  NaN                  NaN         NaN           NaN   \n",
       "1  2017-10-26 17:30:37  2017-10-20 08:20:03      9906.0   purposepro1   \n",
       "2  2017-10-29 17:47:16  2017-10-20 08:25:03      8832.0         GRono   \n",
       "3  2017-10-26 18:33:01  2017-10-20 08:25:03      1265.0   dailynation   \n",
       "4  2017-10-26 11:39:42  2017-10-20 08:30:03      4585.0  AizakMohamed   \n",
       "\n",
       "                            Unstructured Description Description  ...  \\\n",
       "0                                                NaN         NaN  ...   \n",
       "1  And @HCNicHailey, @BobGodec @MarietjeSchaake i...         NaN  ...   \n",
       "2                                                NaN         NaN  ...   \n",
       "3  Varsities close amid electoral crisis. https:/...         NaN  ...   \n",
       "4  After keeping every rigging mechanism in place...         NaN  ...   \n",
       "\n",
       "  Media Link.8                                           dp_title  \\\n",
       "0          NaN                                                NaN   \n",
       "1          NaN                                                NaN   \n",
       "2          NaN  Varsities close amid electoral crisis (Muliro ...   \n",
       "3          NaN                                                NaN   \n",
       "4          NaN                                                NaN   \n",
       "\n",
       "                                      dp_description  dp_location_lat  \\\n",
       "0                                                NaN              NaN   \n",
       "1  And @HCNicHailey, @BobGodec @MarietjeSchaake i...              NaN   \n",
       "2  \"Varsities close amid electoral crisis. https:...         0.288794   \n",
       "3  Varsities close amid electoral crisis. https:/...              NaN   \n",
       "4  After keeping every rigging mechanism in place...              NaN   \n",
       "\n",
       "  dp_location_long dp_nature_of_this_incident  \\\n",
       "0              NaN                        NaN   \n",
       "1              NaN                        NaN   \n",
       "2        34.764456                        NaN   \n",
       "3              NaN                        NaN   \n",
       "4              NaN                        NaN   \n",
       "\n",
       "                 dp_verificiation_status            dp_media_source  \\\n",
       "0                                    NaN                        NaN   \n",
       "1                                    NaN                        NaN   \n",
       "2  Verification,No need for verification  Media Stream Source,Other   \n",
       "3                                    NaN                        NaN   \n",
       "4                                    NaN                        NaN   \n",
       "\n",
       "                 dp_translation_status dp_description_translation  \n",
       "0                                  NaN                        NaN  \n",
       "1                                  NaN                        NaN  \n",
       "2  Translation,No need for translation                        NaN  \n",
       "3                                  NaN                        NaN  \n",
       "4                                  NaN                        NaN  \n",
       "\n",
       "[5 rows x 213 columns]"
      ]
     },
     "execution_count": 18,
     "metadata": {},
     "output_type": "execute_result"
    }
   ],
   "source": [
    "uchaguzi_rerun_df.head()"
   ]
  },
  {
   "cell_type": "code",
   "execution_count": 19,
   "metadata": {},
   "outputs": [],
   "source": [
    "uchaguzi_data_df = uchaguzi_df[uchaguzi_df['Survey'].isin(labels)]"
   ]
  },
  {
   "cell_type": "code",
   "execution_count": 20,
   "metadata": {},
   "outputs": [],
   "source": [
    "uchaguzi_rerun_df = uchaguzi_rerun_df[uchaguzi_rerun_df['Survey'].isin(labels)]"
   ]
  },
  {
   "cell_type": "code",
   "execution_count": 26,
   "metadata": {},
   "outputs": [
    {
     "data": {
      "text/plain": [
       "(7616, 213)"
      ]
     },
     "execution_count": 26,
     "metadata": {},
     "output_type": "execute_result"
    }
   ],
   "source": [
    "uchaguzi_rerun_df.shape"
   ]
  },
  {
   "cell_type": "code",
   "execution_count": 23,
   "metadata": {},
   "outputs": [
    {
     "data": {
      "text/plain": [
       "(781, 213)"
      ]
     },
     "execution_count": 23,
     "metadata": {},
     "output_type": "execute_result"
    }
   ],
   "source": [
    "uchaguzi_rerun_df[uchaguzi_rerun_df['Survey'] != 'Unstructured'].shape"
   ]
  },
  {
   "cell_type": "markdown",
   "metadata": {},
   "source": []
  },
  {
   "cell_type": "code",
   "execution_count": 24,
   "metadata": {},
   "outputs": [
    {
     "data": {
      "text/plain": [
       "(2413, 222)"
      ]
     },
     "execution_count": 24,
     "metadata": {},
     "output_type": "execute_result"
    }
   ],
   "source": [
    "uchaguzi_data_df[uchaguzi_data_df['Survey'] != 'Unstructured'].shape"
   ]
  },
  {
   "cell_type": "code",
   "execution_count": null,
   "metadata": {},
   "outputs": [],
   "source": [
    "labelled_test = uchaguzi_data_df[]"
   ]
  },
  {
   "cell_type": "code",
   "execution_count": 30,
   "metadata": {},
   "outputs": [
    {
     "data": {
      "text/plain": [
       "array([nan, 'Media Stream Source,Twitter',\n",
       "       'Media Stream Source,Mainstream Media,Twitter',\n",
       "       'Media Stream Source,Facebook',\n",
       "       'Media Stream Source,Facebook,Twitter',\n",
       "       'Media Stream Source,Mainstream Media',\n",
       "       'Media Stream Source,Twitter,Video',\n",
       "       'Media Stream Source,Mainstream Media,Facebook,Twitter'],\n",
       "      dtype=object)"
      ]
     },
     "execution_count": 30,
     "metadata": {},
     "output_type": "execute_result"
    }
   ],
   "source": [
    "uchaguzi_data_df['Media Stream Source'].unique()"
   ]
  },
  {
   "cell_type": "code",
   "execution_count": 25,
   "metadata": {},
   "outputs": [
    {
     "data": {
      "text/plain": [
       "(49106, 222)"
      ]
     },
     "execution_count": 25,
     "metadata": {},
     "output_type": "execute_result"
    }
   ],
   "source": [
    "uchaguzi_data_df.shape"
   ]
  },
  {
   "cell_type": "code",
   "execution_count": null,
   "metadata": {},
   "outputs": [],
   "source": [
    "# 2017 label \n",
    "cols_2017 = [\"Post ID\", \"Survey\", \"Post Status\", \"Created (UTC)\", \"Updated (UTC)\", \"Post Date (UTC)\"] + deduplicated_cols"
   ]
  },
  {
   "cell_type": "code",
   "execution_count": null,
   "metadata": {},
   "outputs": [],
   "source": [
    "cols_2017"
   ]
  },
  {
   "cell_type": "code",
   "execution_count": null,
   "metadata": {},
   "outputs": [],
   "source": [
    "filtered_2017_df = uchaguzi_data_df[[\"Post ID\",\"Survey\",\"dp_description\",\"Post Status\", \"Post Date (UTC)\",\"dp_nature_of_this_incident\",\"dp_location_lat\",\"dp_location_long\"]]"
   ]
  },
  {
   "cell_type": "code",
   "execution_count": null,
   "metadata": {},
   "outputs": [],
   "source": [
    "filtered_rerun_df = uchaguzi_rerun_df[[\"Post ID\",\"Survey\",\"dp_description\",\"Post Status\", \"Post Date (UTC)\",\"dp_nature_of_this_incident\",\"dp_location_lat\",\"dp_location_long\"]]\n",
    "filtered_rerun_df.shape"
   ]
  },
  {
   "cell_type": "code",
   "execution_count": null,
   "metadata": {},
   "outputs": [],
   "source": [
    "filtered_2017_df.columns"
   ]
  },
  {
   "cell_type": "code",
   "execution_count": null,
   "metadata": {},
   "outputs": [],
   "source": [
    "filtered_2017_df.columns = [\"id\",\"annotation\",\"text\",\"status\",\"date\",\"categories\",\"latitude\",\"longitude\"]\n",
    "filtered_rerun_df.columns = [\"id\",\"annotation\",\"text\",\"status\",\"date\",\"categories\",\"latitude\",\"longitude\"]"
   ]
  },
  {
   "cell_type": "code",
   "execution_count": null,
   "metadata": {},
   "outputs": [],
   "source": [
    "filtered_2017_df = filtered_2017_df.dropna(subset='text')"
   ]
  },
  {
   "cell_type": "code",
   "execution_count": null,
   "metadata": {},
   "outputs": [],
   "source": [
    "filtered_2017_df.shape"
   ]
  },
  {
   "cell_type": "code",
   "execution_count": null,
   "metadata": {},
   "outputs": [],
   "source": [
    "filtered_2017_df.head()"
   ]
  },
  {
   "cell_type": "code",
   "execution_count": null,
   "metadata": {},
   "outputs": [],
   "source": [
    "filtered_rerun_df = filtered_rerun_df.dropna(subset='text')"
   ]
  },
  {
   "cell_type": "code",
   "execution_count": null,
   "metadata": {},
   "outputs": [],
   "source": [
    "filtered_df = filtered_df.dropna(subset=['dp_description'])"
   ]
  },
  {
   "cell_type": "code",
   "execution_count": null,
   "metadata": {},
   "outputs": [],
   "source": [
    "filtered_df.columns = [\"id\",\"annotation\",\"text\",\"status\",\"date\",\"categories\",\"latitude\",\"longitude\"]"
   ]
  },
  {
   "cell_type": "code",
   "execution_count": null,
   "metadata": {},
   "outputs": [],
   "source": [
    "filtered_df.shape"
   ]
  },
  {
   "cell_type": "code",
   "execution_count": null,
   "metadata": {},
   "outputs": [],
   "source": [
    "# Calculate number of duplicates\n",
    "# Duplicate tweets that have different labels\n",
    "duplicates = filtered_df.duplicated([\"text\"])\n",
    "print(f\"Duplicated election reports: {len(duplicates[duplicates == True])}\")\n",
    "\n",
    "duplicates = filtered_df.duplicated([\"text\",\"annotation\"])\n",
    "print(f\"Duplicated with different election reports: {len(duplicates[duplicates == True])}\")\n",
    "\n",
    "# Count the number of tweets before dropping\n",
    "print(f\"The number of tweets before dropping duplicates is {len(filtered_df)}\")\n",
    "\n",
    "# # Drop the full duplicates\n",
    "filtered_df = filtered_df.drop_duplicates(subset=[\"text\"], keep='first')\n",
    "print(f\"The number of tweets after dropping duplicates is {len(filtered_df)}\")"
   ]
  },
  {
   "cell_type": "code",
   "execution_count": null,
   "metadata": {},
   "outputs": [],
   "source": [
    "duplicates = filtered_df.duplicated([\"text\"])\n",
    "print(f\"Duplicated election reports: {len(duplicates[duplicates == True])}\")"
   ]
  },
  {
   "cell_type": "code",
   "execution_count": null,
   "metadata": {},
   "outputs": [],
   "source": [
    "# Calculate number of duplicates\n",
    "# Duplicate tweets that have different labels\n",
    "duplicates = filtered_2017_df.duplicated([\"text\"])\n",
    "print(f\"Duplicated election reports: {len(duplicates[duplicates == True])}\")\n",
    "\n",
    "duplicates = filtered_2017_df.duplicated([\"text\",\"annotation\"])\n",
    "print(f\"Duplicated with different election reports: {len(duplicates[duplicates == True])}\")\n",
    "\n",
    "# Count the number of tweets before dropping\n",
    "print(f\"The number of tweets before dropping duplicates is {len(filtered_2017_df)}\")\n",
    "\n",
    "# # Drop the full duplicates\n",
    "filtered_2017_df = filtered_2017_df.drop_duplicates(subset=[\"text\"], keep='first')\n",
    "print(f\"The number of tweets after dropping duplicates is {len(filtered_2017_df)}\")"
   ]
  },
  {
   "cell_type": "code",
   "execution_count": null,
   "metadata": {},
   "outputs": [],
   "source": [
    "# Calculate number of duplicates\n",
    "# Duplicate tweets that have different labels\n",
    "duplicates = filtered_rerun_df.duplicated([\"text\"])\n",
    "print(f\"Duplicated election reports: {len(duplicates[duplicates == True])}\")\n",
    "\n",
    "duplicates = filtered_rerun_df.duplicated([\"text\",\"annotation\"])\n",
    "print(f\"Duplicated with different election reports: {len(duplicates[duplicates == True])}\")\n",
    "\n",
    "# Count the number of tweets before dropping\n",
    "print(f\"The number of tweets before dropping duplicates is {len(filtered_rerun_df)}\")\n",
    "\n",
    "# # Drop the full duplicates\n",
    "filtered_rerun_df = filtered_rerun_df.drop_duplicates(subset=[\"text\"], keep='first')\n",
    "print(f\"The number of tweets after dropping duplicates is {len(filtered_rerun_df)}\")"
   ]
  },
  {
   "cell_type": "code",
   "execution_count": null,
   "metadata": {},
   "outputs": [],
   "source": [
    "import json"
   ]
  },
  {
   "cell_type": "code",
   "execution_count": null,
   "metadata": {},
   "outputs": [],
   "source": [
    "with open('2022_tweets.json', 'r') as file:\n",
    "    data = file.readlines()"
   ]
  },
  {
   "cell_type": "code",
   "execution_count": null,
   "metadata": {},
   "outputs": [],
   "source": [
    "json_data = [json.loads(line) for line in data]"
   ]
  },
  {
   "cell_type": "code",
   "execution_count": null,
   "metadata": {},
   "outputs": [],
   "source": [
    "# Load all the tweets from the dataset\n",
    "tweets_df = pd.DataFrame(json_data)"
   ]
  },
  {
   "cell_type": "code",
   "execution_count": null,
   "metadata": {},
   "outputs": [],
   "source": [
    "# Get shape of tweet dataframe\n",
    "tweets_df.shape"
   ]
  },
  {
   "cell_type": "code",
   "execution_count": null,
   "metadata": {},
   "outputs": [],
   "source": [
    "filtered_tweets = tweets_df[[\"id\",\"full_text\"]]"
   ]
  },
  {
   "cell_type": "code",
   "execution_count": null,
   "metadata": {},
   "outputs": [],
   "source": [
    "filtered_tweets"
   ]
  },
  {
   "cell_type": "code",
   "execution_count": null,
   "metadata": {},
   "outputs": [],
   "source": [
    "def get_orig_tweet(row, tweets_df):\n",
    "    source_id = int(row['Data Source ID'])\n",
    "    tweet_text = pd.NA\n",
    "    value = tweets_df.loc[tweets_df['id'] == source_id, 'full_text']\n",
    "    if len(value) != 0:\n",
    "        tweet_text = value.item()\n",
    "    return tweet_text"
   ]
  },
  {
   "cell_type": "code",
   "execution_count": null,
   "metadata": {},
   "outputs": [],
   "source": [
    "ushahidi_df.shape"
   ]
  },
  {
   "cell_type": "code",
   "execution_count": null,
   "metadata": {},
   "outputs": [],
   "source": [
    "mask = (ushahidi_df['Survey'] == 'Unstructured') & (ushahidi_df['Source'] == 'twitter') \n",
    "unstructured_df = ushahidi_df[mask]"
   ]
  },
  {
   "cell_type": "code",
   "execution_count": null,
   "metadata": {},
   "outputs": [],
   "source": [
    "unstructured_df.head()"
   ]
  },
  {
   "cell_type": "code",
   "execution_count": null,
   "metadata": {},
   "outputs": [],
   "source": [
    "unstructured_df[\"dp_description\"] = unstructured_df.apply(lambda row: get_orig_tweet(row, tweets_df), axis=1)"
   ]
  },
  {
   "cell_type": "code",
   "execution_count": null,
   "metadata": {},
   "outputs": [],
   "source": [
    "unstructured_df[\"dp_description\"].info()"
   ]
  },
  {
   "cell_type": "code",
   "execution_count": null,
   "metadata": {},
   "outputs": [],
   "source": [
    "from IPython.display import display, HTML\n",
    "display(HTML(\"<style>.container { width:100% !important; }</style>\"))\n",
    "pd.set_option('display.max_colwidth', None)"
   ]
  },
  {
   "cell_type": "code",
   "execution_count": null,
   "metadata": {},
   "outputs": [],
   "source": [
    "unstructured_df[[\"dp_description\"]].sample(20)"
   ]
  },
  {
   "cell_type": "code",
   "execution_count": null,
   "metadata": {},
   "outputs": [],
   "source": [
    "unstructured_df.shape"
   ]
  },
  {
   "cell_type": "code",
   "execution_count": null,
   "metadata": {},
   "outputs": [],
   "source": [
    "clean_unstructured = unstructured_df.dropna(subset=[\"dp_description\"])"
   ]
  },
  {
   "cell_type": "code",
   "execution_count": null,
   "metadata": {},
   "outputs": [],
   "source": [
    "clean_unstructured = clean_unstructured[[\"Post ID\",\"Survey\",\"dp_description\",\"Post Status\", \"Post Date (UTC)\",\"dp_nature_of_this_incident\",\"dp_location_lat\",\"dp_location_long\"]]"
   ]
  },
  {
   "cell_type": "code",
   "execution_count": null,
   "metadata": {},
   "outputs": [],
   "source": [
    "clean_unstructured.columns = [\"id\",\"annotation\",\"text\",\"status\",\"date\",\"categories\",\"latitude\",\"longitude\"]"
   ]
  },
  {
   "cell_type": "code",
   "execution_count": null,
   "metadata": {},
   "outputs": [],
   "source": [
    "# Calculate number of duplicates\n",
    "# Duplicate tweets that have different labels\n",
    "duplicates = clean_unstructured.duplicated([\"text\"])\n",
    "print(f\"Duplicated election reports: {len(duplicates[duplicates == True])}\")\n",
    "\n",
    "# Count the number of tweets before dropping\n",
    "print(f\"The number of tweets before dropping duplicates is {len(clean_unstructured)}\")\n",
    "\n",
    "# # Drop the full duplicates\n",
    "clean_unstructured = clean_unstructured.drop_duplicates(subset=[\"text\"], keep=\"first\")\n",
    "print(f\"The number of tweets after dropping duplicates is {len(clean_unstructured)}\")"
   ]
  },
  {
   "cell_type": "code",
   "execution_count": null,
   "metadata": {},
   "outputs": [],
   "source": [
    "clean_unstructured.text.info()"
   ]
  },
  {
   "cell_type": "code",
   "execution_count": null,
   "metadata": {},
   "outputs": [],
   "source": [
    "t = filtered_rerun_df[filtered_rerun_df.annotation != 'Unstructured']"
   ]
  },
  {
   "cell_type": "code",
   "execution_count": null,
   "metadata": {},
   "outputs": [],
   "source": [
    "t"
   ]
  },
  {
   "cell_type": "code",
   "execution_count": null,
   "metadata": {},
   "outputs": [],
   "source": [
    "filtered_df['Election Date'] = 'August 2022'\n",
    "clean_unstructured['Election Date'] = 'August 2022'\n",
    "filtered_2017_df['Election Date'] = 'August 2017'\n",
    "filtered_rerun_df['Election Date'] = 'October 2017'"
   ]
  },
  {
   "cell_type": "code",
   "execution_count": null,
   "metadata": {},
   "outputs": [],
   "source": [
    "combined_df = pd.concat([filtered_df, clean_unstructured, filtered_2017_df, filtered_rerun_df])"
   ]
  },
  {
   "cell_type": "code",
   "execution_count": null,
   "metadata": {},
   "outputs": [],
   "source": [
    "combined_df = combined_df.rename(columns={\"annotation\":\"label\"})"
   ]
  },
  {
   "cell_type": "code",
   "execution_count": null,
   "metadata": {},
   "outputs": [],
   "source": [
    "combined_df.info()"
   ]
  },
  {
   "cell_type": "code",
   "execution_count": null,
   "metadata": {},
   "outputs": [],
   "source": [
    "combined_df.label.unique()"
   ]
  },
  {
   "cell_type": "code",
   "execution_count": null,
   "metadata": {},
   "outputs": [],
   "source": [
    "combined_df.categories.unique()"
   ]
  },
  {
   "cell_type": "code",
   "execution_count": null,
   "metadata": {},
   "outputs": [],
   "source": [
    "combined_df.shape"
   ]
  },
  {
   "cell_type": "code",
   "execution_count": null,
   "metadata": {},
   "outputs": [],
   "source": [
    "combined_df[combined_df.status == 'archived']"
   ]
  },
  {
   "cell_type": "code",
   "execution_count": null,
   "metadata": {},
   "outputs": [],
   "source": [
    "combined_df['text'].info()"
   ]
  },
  {
   "cell_type": "code",
   "execution_count": null,
   "metadata": {},
   "outputs": [],
   "source": [
    "csv_df = combined_df.copy()"
   ]
  },
  {
   "cell_type": "code",
   "execution_count": null,
   "metadata": {},
   "outputs": [],
   "source": [
    "csv_df = csv_df.reset_index(drop=True)"
   ]
  },
  {
   "cell_type": "code",
   "execution_count": null,
   "metadata": {},
   "outputs": [],
   "source": [
    "import csv"
   ]
  },
  {
   "cell_type": "code",
   "execution_count": null,
   "metadata": {},
   "outputs": [],
   "source": [
    "csv_df.to_csv(\"combined_election_reports.csv\",  quoting=csv.QUOTE_NONNUMERIC, index=False)"
   ]
  },
  {
   "cell_type": "code",
   "execution_count": null,
   "metadata": {},
   "outputs": [],
   "source": [
    "csv_df.shape"
   ]
  },
  {
   "cell_type": "code",
   "execution_count": null,
   "metadata": {},
   "outputs": [],
   "source": [
    "reloaded_df = pd.read_csv('combined_election_reports.csv')"
   ]
  },
  {
   "cell_type": "code",
   "execution_count": null,
   "metadata": {},
   "outputs": [],
   "source": [
    "reloaded_df.shape"
   ]
  },
  {
   "cell_type": "code",
   "execution_count": null,
   "metadata": {},
   "outputs": [],
   "source": [
    "reloaded_df.head()"
   ]
  },
  {
   "cell_type": "code",
   "execution_count": null,
   "metadata": {},
   "outputs": [],
   "source": [
    "combined_df"
   ]
  },
  {
   "cell_type": "code",
   "execution_count": null,
   "metadata": {},
   "outputs": [],
   "source": [
    "combined_df = combined_df.rename(columns={'label': 'annotation'})"
   ]
  },
  {
   "cell_type": "code",
   "execution_count": null,
   "metadata": {},
   "outputs": [],
   "source": [
    "dataset_rg = rg.read_pandas(reloaded_df, task=\"TextClassification\")"
   ]
  },
  {
   "cell_type": "code",
   "execution_count": null,
   "metadata": {},
   "outputs": [],
   "source": [
    "rg.log(dataset_rg, name='new_round')"
   ]
  },
  {
   "cell_type": "code",
   "execution_count": null,
   "metadata": {},
   "outputs": [],
   "source": [
    "filtered_2017_df.shape"
   ]
  },
  {
   "cell_type": "code",
   "execution_count": null,
   "metadata": {},
   "outputs": [],
   "source": [
    "check_labelled_2017 = filtered_2017_df[filtered_2017_df['label'] != 'unstructured_df']"
   ]
  },
  {
   "cell_type": "code",
   "execution_count": null,
   "metadata": {},
   "outputs": [],
   "source": []
  }
 ],
 "metadata": {
  "kernelspec": {
   "display_name": "Python 3",
   "language": "python",
   "name": "python3"
  },
  "language_info": {
   "codemirror_mode": {
    "name": "ipython",
    "version": 3
   },
   "file_extension": ".py",
   "mimetype": "text/x-python",
   "name": "python",
   "nbconvert_exporter": "python",
   "pygments_lexer": "ipython3",
   "version": "3.11.0"
  },
  "orig_nbformat": 4
 },
 "nbformat": 4,
 "nbformat_minor": 2
}
